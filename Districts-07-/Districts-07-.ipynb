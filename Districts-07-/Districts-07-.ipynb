{
 "cells": [
  {
   "cell_type": "markdown",
   "id": "freelance-sunset",
   "metadata": {},
   "source": [
    "# Codebook  \n",
    "**Authors:** Lauren Baker  \n",
    "Documenting existing data files of DaanMatch with information about location, owner, \"version\", source etc."
   ]
  },
  {
   "cell_type": "code",
   "execution_count": 1,
   "id": "suburban-brand",
   "metadata": {},
   "outputs": [],
   "source": [
    "import pandas as pd\n",
    "import numpy as np \n",
    "import os\n",
    "from collections import Counter\n",
    "import matplotlib.pyplot as plt\n",
    "import statistics\n",
    "import boto3"
   ]
  },
  {
   "cell_type": "markdown",
   "id": "african-brown",
   "metadata": {},
   "source": [
    "# Districts-07-.csv\n",
    "## TOC:\n",
    "* [About this dataset](#1)\n",
    "* [What's in this dataset](#2)\n",
    "* [Codebook](#3)\n",
    "    * [Missing values](#3.1)\n",
    "    * [Summary statistics](#3.2)\n",
    "* [Columns](#4)\n",
    "    * [Name](4.1)\n",
    "    * [Value](4.2)"
   ]
  },
  {
   "cell_type": "markdown",
   "id": "shaped-manufacturer",
   "metadata": {},
   "source": [
    "**About this dataset**  <a class=\"anchor\" id=\"1\"></a>  \n",
    "Data provided by: Unknown.  \n",
    "Last Modified: May 29, 2021, 19:54:14 (UTC-07:00)  \n",
    "Size: 212.0 B"
   ]
  },
  {
   "cell_type": "code",
   "execution_count": 2,
   "id": "inside-workshop",
   "metadata": {},
   "outputs": [],
   "source": [
    "client = boto3.client('s3')\n",
    "resource = boto3.resource('s3')\n",
    "my_bucket = resource.Bucket('my-bucket')"
   ]
  },
  {
   "cell_type": "code",
   "execution_count": 3,
   "id": "available-latitude",
   "metadata": {},
   "outputs": [
    {
     "data": {
      "text/html": [
       "<div>\n",
       "<style scoped>\n",
       "    .dataframe tbody tr th:only-of-type {\n",
       "        vertical-align: middle;\n",
       "    }\n",
       "\n",
       "    .dataframe tbody tr th {\n",
       "        vertical-align: top;\n",
       "    }\n",
       "\n",
       "    .dataframe thead th {\n",
       "        text-align: right;\n",
       "    }\n",
       "</style>\n",
       "<table border=\"1\" class=\"dataframe\">\n",
       "  <thead>\n",
       "    <tr style=\"text-align: right;\">\n",
       "      <th></th>\n",
       "      <th>KeyColumn</th>\n",
       "      <th>Name</th>\n",
       "      <th>Value</th>\n",
       "    </tr>\n",
       "  </thead>\n",
       "  <tbody>\n",
       "    <tr>\n",
       "      <th>0</th>\n",
       "      <td>90</td>\n",
       "      <td>North</td>\n",
       "      <td>90</td>\n",
       "    </tr>\n",
       "    <tr>\n",
       "      <th>1</th>\n",
       "      <td>90</td>\n",
       "      <td>North West</td>\n",
       "      <td>90</td>\n",
       "    </tr>\n",
       "    <tr>\n",
       "      <th>2</th>\n",
       "      <td>92</td>\n",
       "      <td>North East</td>\n",
       "      <td>92</td>\n",
       "    </tr>\n",
       "    <tr>\n",
       "      <th>3</th>\n",
       "      <td>93</td>\n",
       "      <td>East</td>\n",
       "      <td>93</td>\n",
       "    </tr>\n",
       "    <tr>\n",
       "      <th>4</th>\n",
       "      <td>94</td>\n",
       "      <td>New Delhi</td>\n",
       "      <td>94</td>\n",
       "    </tr>\n",
       "    <tr>\n",
       "      <th>5</th>\n",
       "      <td>95</td>\n",
       "      <td>Central</td>\n",
       "      <td>95</td>\n",
       "    </tr>\n",
       "    <tr>\n",
       "      <th>6</th>\n",
       "      <td>96</td>\n",
       "      <td>West</td>\n",
       "      <td>96</td>\n",
       "    </tr>\n",
       "    <tr>\n",
       "      <th>7</th>\n",
       "      <td>97</td>\n",
       "      <td>South West</td>\n",
       "      <td>97</td>\n",
       "    </tr>\n",
       "    <tr>\n",
       "      <th>8</th>\n",
       "      <td>98</td>\n",
       "      <td>South</td>\n",
       "      <td>98</td>\n",
       "    </tr>\n",
       "    <tr>\n",
       "      <th>9</th>\n",
       "      <td>702</td>\n",
       "      <td>Shahdara</td>\n",
       "      <td>702</td>\n",
       "    </tr>\n",
       "    <tr>\n",
       "      <th>10</th>\n",
       "      <td>703</td>\n",
       "      <td>South East</td>\n",
       "      <td>703</td>\n",
       "    </tr>\n",
       "  </tbody>\n",
       "</table>\n",
       "</div>"
      ],
      "text/plain": [
       "    KeyColumn        Name  Value\n",
       "0          90       North     90\n",
       "1          90  North West     90\n",
       "2          92  North East     92\n",
       "3          93        East     93\n",
       "4          94   New Delhi     94\n",
       "5          95     Central     95\n",
       "6          96        West     96\n",
       "7          97  South West     97\n",
       "8          98       South     98\n",
       "9         702    Shahdara    702\n",
       "10        703  South East    703"
      ]
     },
     "execution_count": 3,
     "metadata": {},
     "output_type": "execute_result"
    }
   ],
   "source": [
    "#path = \"/Users/laurenbaker/Downloads/Districts-07-.csv\"\n",
    "path = \"s3://daanmatchdatafiles/DaanMatch_DataFiles/Districts-07-.csv\"\n",
    "Districts_07 = pd.read_csv(path)\n",
    "Districts_07"
   ]
  },
  {
   "cell_type": "markdown",
   "id": "subsequent-soundtrack",
   "metadata": {},
   "source": [
    "**What's in this dataset?**  <a class=\"anchor\" id=\"2\"></a>  "
   ]
  },
  {
   "cell_type": "code",
   "execution_count": 4,
   "id": "wooden-evaluation",
   "metadata": {},
   "outputs": [
    {
     "name": "stdout",
     "output_type": "stream",
     "text": [
      "Shape: (11, 3)\n",
      "Rows: 11\n",
      "Columns: 3\n",
      "Each row is a District in Delhi.\n"
     ]
    }
   ],
   "source": [
    "print(\"Shape:\", Districts_07.shape)\n",
    "print(\"Rows:\", Districts_07.shape[0])\n",
    "print(\"Columns:\", Districts_07.shape[1])\n",
    "print(\"Each row is a District in Delhi.\")"
   ]
  },
  {
   "cell_type": "markdown",
   "id": "latter-uniform",
   "metadata": {},
   "source": [
    "**Codebook** <a class=\"anchor\" id=\"3\"></a>"
   ]
  },
  {
   "cell_type": "code",
   "execution_count": 1,
   "id": "gothic-light",
   "metadata": {},
   "outputs": [
    {
     "ename": "NameError",
     "evalue": "name 'Districts_07' is not defined",
     "output_type": "error",
     "traceback": [
      "\u001b[0;31m---------------------------------------------------------------------------\u001b[0m",
      "\u001b[0;31mNameError\u001b[0m                                 Traceback (most recent call last)",
      "\u001b[0;32m<ipython-input-1-6b43afa5b9a9>\u001b[0m in \u001b[0;36m<module>\u001b[0;34m\u001b[0m\n\u001b[0;32m----> 1\u001b[0;31m \u001b[0mDistricts_07_columns\u001b[0m \u001b[0;34m=\u001b[0m \u001b[0;34m[\u001b[0m\u001b[0mcolumn\u001b[0m \u001b[0;32mfor\u001b[0m \u001b[0mcolumn\u001b[0m \u001b[0;32min\u001b[0m \u001b[0mDistricts_07\u001b[0m\u001b[0;34m.\u001b[0m\u001b[0mcolumns\u001b[0m\u001b[0;34m]\u001b[0m\u001b[0;34m\u001b[0m\u001b[0;34m\u001b[0m\u001b[0m\n\u001b[0m\u001b[1;32m      2\u001b[0m Districts_07_description = [\"Same as the Value column.\",\n\u001b[1;32m      3\u001b[0m                             \u001b[0;34m\"Name of District in the state of Delhi.\"\u001b[0m\u001b[0;34m,\u001b[0m\u001b[0;34m\u001b[0m\u001b[0;34m\u001b[0m\u001b[0m\n\u001b[1;32m      4\u001b[0m                             \"Value of the District.\"]\n\u001b[1;32m      5\u001b[0m \u001b[0mDistricts_07_dtypes\u001b[0m \u001b[0;34m=\u001b[0m \u001b[0;34m[\u001b[0m\u001b[0mdtype\u001b[0m \u001b[0;32mfor\u001b[0m \u001b[0mdtype\u001b[0m \u001b[0;32min\u001b[0m \u001b[0mDistricts_07\u001b[0m\u001b[0;34m.\u001b[0m\u001b[0mdtypes\u001b[0m\u001b[0;34m]\u001b[0m\u001b[0;34m\u001b[0m\u001b[0;34m\u001b[0m\u001b[0m\n",
      "\u001b[0;31mNameError\u001b[0m: name 'Districts_07' is not defined"
     ]
    }
   ],
   "source": [
    "Districts_07_columns = [column for column in Districts_07.columns]\n",
    "Districts_07_description = [\"Same as the Value column.\",\n",
    "                            \"Name of District in the state of Delhi.\",\n",
    "                            \"Value of the District.\"]\n",
    "Districts_07_dtypes = [dtype for dtype in Districts_07.dtypes]\n",
    "\n",
    "data = {\"Column Name\": Districts_07_columns, \"Description\": Districts_07_description, \"Type\": Districts_07_dtypes}\n",
    "Districts_07_codebook = pd.DataFrame(data)\n",
    "Districts_07_codebook.style.set_properties(subset=['Description'], **{'width': '600px'})"
   ]
  },
  {
   "cell_type": "markdown",
   "id": "prerequisite-animal",
   "metadata": {},
   "source": [
    "**Missing values** <a class=\"anchor\" id=\"3.1\"></a>"
   ]
  },
  {
   "cell_type": "code",
   "execution_count": 6,
   "id": "fifth-reply",
   "metadata": {},
   "outputs": [
    {
     "data": {
      "text/plain": [
       "KeyColumn    0\n",
       "Name         0\n",
       "Value        0\n",
       "dtype: int64"
      ]
     },
     "execution_count": 6,
     "metadata": {},
     "output_type": "execute_result"
    }
   ],
   "source": [
    "Districts_07.isnull().sum()"
   ]
  },
  {
   "cell_type": "markdown",
   "id": "impossible-donna",
   "metadata": {},
   "source": [
    "**Summary statistics** <a class=\"anchor\" id=\"3.2\"></a>"
   ]
  },
  {
   "cell_type": "code",
   "execution_count": 7,
   "id": "humanitarian-realtor",
   "metadata": {},
   "outputs": [
    {
     "data": {
      "text/html": [
       "<div>\n",
       "<style scoped>\n",
       "    .dataframe tbody tr th:only-of-type {\n",
       "        vertical-align: middle;\n",
       "    }\n",
       "\n",
       "    .dataframe tbody tr th {\n",
       "        vertical-align: top;\n",
       "    }\n",
       "\n",
       "    .dataframe thead th {\n",
       "        text-align: right;\n",
       "    }\n",
       "</style>\n",
       "<table border=\"1\" class=\"dataframe\">\n",
       "  <thead>\n",
       "    <tr style=\"text-align: right;\">\n",
       "      <th></th>\n",
       "      <th>KeyColumn</th>\n",
       "      <th>Value</th>\n",
       "    </tr>\n",
       "  </thead>\n",
       "  <tbody>\n",
       "    <tr>\n",
       "      <th>count</th>\n",
       "      <td>11.000000</td>\n",
       "      <td>11.000000</td>\n",
       "    </tr>\n",
       "    <tr>\n",
       "      <th>mean</th>\n",
       "      <td>204.545455</td>\n",
       "      <td>204.545455</td>\n",
       "    </tr>\n",
       "    <tr>\n",
       "      <th>std</th>\n",
       "      <td>246.209002</td>\n",
       "      <td>246.209002</td>\n",
       "    </tr>\n",
       "    <tr>\n",
       "      <th>min</th>\n",
       "      <td>90.000000</td>\n",
       "      <td>90.000000</td>\n",
       "    </tr>\n",
       "    <tr>\n",
       "      <th>25%</th>\n",
       "      <td>92.500000</td>\n",
       "      <td>92.500000</td>\n",
       "    </tr>\n",
       "    <tr>\n",
       "      <th>50%</th>\n",
       "      <td>95.000000</td>\n",
       "      <td>95.000000</td>\n",
       "    </tr>\n",
       "    <tr>\n",
       "      <th>75%</th>\n",
       "      <td>97.500000</td>\n",
       "      <td>97.500000</td>\n",
       "    </tr>\n",
       "    <tr>\n",
       "      <th>max</th>\n",
       "      <td>703.000000</td>\n",
       "      <td>703.000000</td>\n",
       "    </tr>\n",
       "  </tbody>\n",
       "</table>\n",
       "</div>"
      ],
      "text/plain": [
       "        KeyColumn       Value\n",
       "count   11.000000   11.000000\n",
       "mean   204.545455  204.545455\n",
       "std    246.209002  246.209002\n",
       "min     90.000000   90.000000\n",
       "25%     92.500000   92.500000\n",
       "50%     95.000000   95.000000\n",
       "75%     97.500000   97.500000\n",
       "max    703.000000  703.000000"
      ]
     },
     "execution_count": 7,
     "metadata": {},
     "output_type": "execute_result"
    }
   ],
   "source": [
    "Districts_07.describe()"
   ]
  },
  {
   "cell_type": "markdown",
   "id": "favorite-phone",
   "metadata": {},
   "source": [
    "## Columns\n",
    "<a class=\"anchor\" id=\"4\"></a>"
   ]
  },
  {
   "cell_type": "markdown",
   "id": "academic-packet",
   "metadata": {},
   "source": [
    "### Name\n",
    "<a class=\"anchor\" id=\"4.1\"></a>"
   ]
  },
  {
   "cell_type": "markdown",
   "id": "coated-cosmetic",
   "metadata": {},
   "source": [
    "The name column is the name of each district in the state of Delhi in India."
   ]
  },
  {
   "cell_type": "code",
   "execution_count": 8,
   "id": "designing-taste",
   "metadata": {},
   "outputs": [
    {
     "data": {
      "text/plain": [
       "0          North\n",
       "1     North West\n",
       "2     North East\n",
       "3           East\n",
       "4      New Delhi\n",
       "5        Central\n",
       "6           West\n",
       "7     South West\n",
       "8          South\n",
       "9       Shahdara\n",
       "10    South East\n",
       "Name: Name, dtype: object"
      ]
     },
     "execution_count": 8,
     "metadata": {},
     "output_type": "execute_result"
    }
   ],
   "source": [
    "column = Districts_07[\"Name\"]\n",
    "column"
   ]
  },
  {
   "cell_type": "code",
   "execution_count": 9,
   "id": "integral-palestine",
   "metadata": {},
   "outputs": [
    {
     "name": "stdout",
     "output_type": "stream",
     "text": [
      "No. of unique values: 11\n",
      "Duplicates: {}\n"
     ]
    }
   ],
   "source": [
    "print(\"No. of unique values:\", len(column.unique()))\n",
    "\n",
    "# Check for duplicates\n",
    "counter = dict(Counter(column))\n",
    "duplicates = { key:value for key, value in counter.items() if value > 1}\n",
    "print(\"Duplicates:\", duplicates)"
   ]
  },
  {
   "cell_type": "markdown",
   "id": "executed-norwegian",
   "metadata": {},
   "source": [
    "### Value\n",
    "<a class=\"anchor\" id=\"4.2\"></a>"
   ]
  },
  {
   "cell_type": "markdown",
   "id": "conscious-durham",
   "metadata": {},
   "source": [
    "The value column represents the value of each district in Delhi. (Cara is looking into what these values mean exactly.)"
   ]
  },
  {
   "cell_type": "code",
   "execution_count": 10,
   "id": "unique-pioneer",
   "metadata": {},
   "outputs": [
    {
     "data": {
      "text/plain": [
       "0      90\n",
       "1      90\n",
       "2      92\n",
       "3      93\n",
       "4      94\n",
       "5      95\n",
       "6      96\n",
       "7      97\n",
       "8      98\n",
       "9     702\n",
       "10    703\n",
       "Name: Value, dtype: int64"
      ]
     },
     "execution_count": 10,
     "metadata": {},
     "output_type": "execute_result"
    }
   ],
   "source": [
    "column = Districts_07[\"Value\"]\n",
    "column"
   ]
  },
  {
   "cell_type": "code",
   "execution_count": 11,
   "id": "industrial-occurrence",
   "metadata": {},
   "outputs": [
    {
     "name": "stdout",
     "output_type": "stream",
     "text": [
      "No. of unique values: 10\n",
      "Duplicates: {90: 2}\n",
      "No. of duplicates: 1\n"
     ]
    }
   ],
   "source": [
    "print(\"No. of unique values:\", len(column.unique()))\n",
    "\n",
    "# Check for duplicates\n",
    "counter = dict(Counter(column))\n",
    "duplicates = { key:value for key, value in counter.items() if value > 1}\n",
    "print(\"Duplicates:\", duplicates)\n",
    "if len(duplicates) > 0:\n",
    "    print(\"No. of duplicates:\", len(duplicates))"
   ]
  },
  {
   "cell_type": "code",
   "execution_count": 12,
   "id": "helpful-paper",
   "metadata": {},
   "outputs": [
    {
     "data": {
      "text/html": [
       "<div>\n",
       "<style scoped>\n",
       "    .dataframe tbody tr th:only-of-type {\n",
       "        vertical-align: middle;\n",
       "    }\n",
       "\n",
       "    .dataframe tbody tr th {\n",
       "        vertical-align: top;\n",
       "    }\n",
       "\n",
       "    .dataframe thead th {\n",
       "        text-align: right;\n",
       "    }\n",
       "</style>\n",
       "<table border=\"1\" class=\"dataframe\">\n",
       "  <thead>\n",
       "    <tr style=\"text-align: right;\">\n",
       "      <th></th>\n",
       "      <th>KeyColumn</th>\n",
       "      <th>Name</th>\n",
       "      <th>Value</th>\n",
       "    </tr>\n",
       "  </thead>\n",
       "  <tbody>\n",
       "    <tr>\n",
       "      <th>0</th>\n",
       "      <td>90</td>\n",
       "      <td>North</td>\n",
       "      <td>90</td>\n",
       "    </tr>\n",
       "    <tr>\n",
       "      <th>1</th>\n",
       "      <td>90</td>\n",
       "      <td>North West</td>\n",
       "      <td>90</td>\n",
       "    </tr>\n",
       "  </tbody>\n",
       "</table>\n",
       "</div>"
      ],
      "text/plain": [
       "   KeyColumn        Name  Value\n",
       "0         90       North     90\n",
       "1         90  North West     90"
      ]
     },
     "execution_count": 12,
     "metadata": {},
     "output_type": "execute_result"
    }
   ],
   "source": [
    "Districts_07[Districts_07['Value'] == 90]"
   ]
  },
  {
   "cell_type": "code",
   "execution_count": null,
   "id": "explicit-subdivision",
   "metadata": {},
   "outputs": [],
   "source": []
  }
 ],
 "metadata": {
  "kernelspec": {
   "display_name": "Python 3",
   "language": "python",
   "name": "python3"
  },
  "language_info": {
   "codemirror_mode": {
    "name": "ipython",
    "version": 3
   },
   "file_extension": ".py",
   "mimetype": "text/x-python",
   "name": "python",
   "nbconvert_exporter": "python",
   "pygments_lexer": "ipython3",
   "version": "3.9.2"
  }
 },
 "nbformat": 4,
 "nbformat_minor": 5
}
