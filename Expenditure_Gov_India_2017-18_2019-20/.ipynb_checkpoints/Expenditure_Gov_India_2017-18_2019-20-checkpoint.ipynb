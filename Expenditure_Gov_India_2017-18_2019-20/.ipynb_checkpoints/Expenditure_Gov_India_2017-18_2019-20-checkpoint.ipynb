{
 "cells": [
  {
   "cell_type": "markdown",
   "id": "miniature-request",
   "metadata": {},
   "source": [
    "# Codebook  \n",
    "**Authors:** Lauren Baker   \n",
    "Documenting existing data files of DaanMatch with information about location, owner, \"version\", source etc."
   ]
  },
  {
   "cell_type": "code",
   "execution_count": 1,
   "id": "heard-solid",
   "metadata": {},
   "outputs": [],
   "source": [
    "import boto3\n",
    "import numpy as np \n",
    "import pandas as pd\n",
    "pd.plotting.register_matplotlib_converters()\n",
    "import matplotlib.pyplot as plt\n",
    "%matplotlib inline\n",
    "from collections import Counter\n",
    "import statistics"
   ]
  },
  {
   "cell_type": "code",
   "execution_count": 2,
   "id": "historic-recruitment",
   "metadata": {},
   "outputs": [],
   "source": [
    "client = boto3.client('s3')\n",
    "resource = boto3.resource('s3')\n",
    "my_bucket = resource.Bucket('daanmatchdatafiles')"
   ]
  },
  {
   "cell_type": "markdown",
   "id": "contained-answer",
   "metadata": {},
   "source": [
    "# Expenditure_Gov_India_2017-18_2019-20.csv\n",
    "\n",
    "## TOC:\n",
    "* [About this dataset](#1)\n",
    "* [What's in this dataset](#2)\n",
    "* [Codebook](#3)\n",
    "    * [Missing values](#3.1)\n",
    "    * [Summary statistics](#3.2)\n",
    "* [Columns](#4)\n",
    "    * [Sl. No.](#4.1)\n",
    "    * [Category](#4.2)\n",
    "    * [Sub Head](#4.3)\n",
    "    * [2017-2018 - Actuals](#4.4)\n",
    "    * [2018-2019 - Budget Estimates](#4.5)\n",
    "    * [2018-2019 - Revised Estimates](#4.6)\n",
    "    * [2019-2020 - Budget Estimates](#4.7)"
   ]
  },
  {
   "cell_type": "markdown",
   "id": "patent-ticket",
   "metadata": {},
   "source": [
    "**About this dataset**  <a class=\"anchor\" id=\"1\"></a>  \n",
    "Data provided by: Unknown.  \n",
    "Source: https://daanmatchdatafiles.s3.us-west-1.amazonaws.com/Expenditure_Gov_India_2017-18_2019-20.csv  \n",
    "Type: csv  \n",
    "Last Modified: June 14, 2021, 21:47:22 (UTC-07:00)  \n",
    "Size: 786.0 B"
   ]
  },
  {
   "cell_type": "code",
   "execution_count": 3,
   "id": "fitted-runner",
   "metadata": {},
   "outputs": [
    {
     "data": {
      "text/html": [
       "<div>\n",
       "<style scoped>\n",
       "    .dataframe tbody tr th:only-of-type {\n",
       "        vertical-align: middle;\n",
       "    }\n",
       "\n",
       "    .dataframe tbody tr th {\n",
       "        vertical-align: top;\n",
       "    }\n",
       "\n",
       "    .dataframe thead th {\n",
       "        text-align: right;\n",
       "    }\n",
       "</style>\n",
       "<table border=\"1\" class=\"dataframe\">\n",
       "  <thead>\n",
       "    <tr style=\"text-align: right;\">\n",
       "      <th></th>\n",
       "      <th>Sl. No.</th>\n",
       "      <th>Category</th>\n",
       "      <th>Sub Head</th>\n",
       "      <th>2017-2018 - Actuals</th>\n",
       "      <th>2018-2019 - Budget Estimates</th>\n",
       "      <th>2018-2019 - Revised Estimates</th>\n",
       "      <th>2019-2020 - Budget Estimates</th>\n",
       "    </tr>\n",
       "  </thead>\n",
       "  <tbody>\n",
       "    <tr>\n",
       "      <th>0</th>\n",
       "      <td>I</td>\n",
       "      <td>A. Centre's Expenditure</td>\n",
       "      <td>Establishment Expenditure</td>\n",
       "      <td>473031</td>\n",
       "      <td>508400</td>\n",
       "      <td>517025</td>\n",
       "      <td>541345</td>\n",
       "    </tr>\n",
       "    <tr>\n",
       "      <th>1</th>\n",
       "      <td>II</td>\n",
       "      <td>A. Centre's Expenditure</td>\n",
       "      <td>Central Sector Schemes/Projects</td>\n",
       "      <td>587785</td>\n",
       "      <td>708934</td>\n",
       "      <td>736796</td>\n",
       "      <td>860180</td>\n",
       "    </tr>\n",
       "    <tr>\n",
       "      <th>2</th>\n",
       "      <td>III</td>\n",
       "      <td>A. Centre's Expenditure</td>\n",
       "      <td>Other Central Sector Expenditure</td>\n",
       "      <td>622900</td>\n",
       "      <td>678017</td>\n",
       "      <td>695609</td>\n",
       "      <td>777996</td>\n",
       "    </tr>\n",
       "    <tr>\n",
       "      <th>3</th>\n",
       "      <td>III</td>\n",
       "      <td>A. Centre's Expenditure</td>\n",
       "      <td>Interest Payments out of Other Central Sector ...</td>\n",
       "      <td>528952</td>\n",
       "      <td>575795</td>\n",
       "      <td>587570</td>\n",
       "      <td>665061</td>\n",
       "    </tr>\n",
       "    <tr>\n",
       "      <th>4</th>\n",
       "      <td>IV</td>\n",
       "      <td>B. Transfers</td>\n",
       "      <td>Centrally Sponsored Schemes</td>\n",
       "      <td>285448</td>\n",
       "      <td>305517</td>\n",
       "      <td>304849</td>\n",
       "      <td>327679</td>\n",
       "    </tr>\n",
       "    <tr>\n",
       "      <th>5</th>\n",
       "      <td>V</td>\n",
       "      <td>B. Transfers</td>\n",
       "      <td>Finance Commission Grants</td>\n",
       "      <td>92244</td>\n",
       "      <td>109374</td>\n",
       "      <td>106129</td>\n",
       "      <td>131902</td>\n",
       "    </tr>\n",
       "    <tr>\n",
       "      <th>6</th>\n",
       "      <td>VI</td>\n",
       "      <td>B. Transfers</td>\n",
       "      <td>Other Grants/Loans/Transfers</td>\n",
       "      <td>80567</td>\n",
       "      <td>131973</td>\n",
       "      <td>96827</td>\n",
       "      <td>145097</td>\n",
       "    </tr>\n",
       "    <tr>\n",
       "      <th>7</th>\n",
       "      <td>Total</td>\n",
       "      <td>Grand Total</td>\n",
       "      <td>Grand Total</td>\n",
       "      <td>2141975</td>\n",
       "      <td>2442213</td>\n",
       "      <td>2457235</td>\n",
       "      <td>2784200</td>\n",
       "    </tr>\n",
       "  </tbody>\n",
       "</table>\n",
       "</div>"
      ],
      "text/plain": [
       "  Sl. No.                 Category  \\\n",
       "0       I  A. Centre's Expenditure   \n",
       "1      II  A. Centre's Expenditure   \n",
       "2     III  A. Centre's Expenditure   \n",
       "3     III  A. Centre's Expenditure   \n",
       "4      IV             B. Transfers   \n",
       "5       V             B. Transfers   \n",
       "6      VI             B. Transfers   \n",
       "7   Total              Grand Total   \n",
       "\n",
       "                                            Sub Head  2017-2018 - Actuals  \\\n",
       "0                          Establishment Expenditure               473031   \n",
       "1                    Central Sector Schemes/Projects               587785   \n",
       "2                   Other Central Sector Expenditure               622900   \n",
       "3  Interest Payments out of Other Central Sector ...               528952   \n",
       "4                        Centrally Sponsored Schemes               285448   \n",
       "5                          Finance Commission Grants                92244   \n",
       "6                       Other Grants/Loans/Transfers                80567   \n",
       "7                                        Grand Total              2141975   \n",
       "\n",
       "   2018-2019 - Budget Estimates  2018-2019 - Revised Estimates  \\\n",
       "0                        508400                         517025   \n",
       "1                        708934                         736796   \n",
       "2                        678017                         695609   \n",
       "3                        575795                         587570   \n",
       "4                        305517                         304849   \n",
       "5                        109374                         106129   \n",
       "6                        131973                          96827   \n",
       "7                       2442213                        2457235   \n",
       "\n",
       "   2019-2020 - Budget Estimates  \n",
       "0                        541345  \n",
       "1                        860180  \n",
       "2                        777996  \n",
       "3                        665061  \n",
       "4                        327679  \n",
       "5                        131902  \n",
       "6                        145097  \n",
       "7                       2784200  "
      ]
     },
     "execution_count": 3,
     "metadata": {},
     "output_type": "execute_result"
    }
   ],
   "source": [
    "path = \"s3://daanmatchdatafiles/Expenditure_Gov_India_2017-18_2019-20.csv\"\n",
    "expenditure = pd.read_csv(path)\n",
    "expenditure"
   ]
  },
  {
   "cell_type": "markdown",
   "id": "desirable-earthquake",
   "metadata": {},
   "source": [
    "**What's in this dataset?** <a class=\"anchor\" id=\"2\"></a>"
   ]
  },
  {
   "cell_type": "code",
   "execution_count": 6,
   "id": "boring-pocket",
   "metadata": {},
   "outputs": [
    {
     "name": "stdout",
     "output_type": "stream",
     "text": [
      "Shape: (8, 7)\n",
      "Rows: 8\n",
      "Columns: 7\n",
      "Each row is a department of expenditures.\n"
     ]
    }
   ],
   "source": [
    "print(\"Shape:\", expenditure.shape)\n",
    "print(\"Rows:\", expenditure.shape[0])\n",
    "print(\"Columns:\", expenditure.shape[1])\n",
    "print(\"Each row is a department of expenditures.\")"
   ]
  },
  {
   "cell_type": "markdown",
   "id": "pending-darkness",
   "metadata": {},
   "source": [
    "**Codebook** <a class=\"anchor\" id=\"3\"></a>"
   ]
  },
  {
   "cell_type": "code",
   "execution_count": 10,
   "id": "independent-intro",
   "metadata": {},
   "outputs": [
    {
     "data": {
      "text/html": [
       "<style  type=\"text/css\" >\n",
       "#T_a4dd5_row0_col1,#T_a4dd5_row1_col1,#T_a4dd5_row2_col1,#T_a4dd5_row3_col1,#T_a4dd5_row4_col1,#T_a4dd5_row5_col1,#T_a4dd5_row6_col1{\n",
       "            width:  600px;\n",
       "        }</style><table id=\"T_a4dd5_\" ><thead>    <tr>        <th class=\"blank level0\" ></th>        <th class=\"col_heading level0 col0\" >Column Name</th>        <th class=\"col_heading level0 col1\" >Description</th>        <th class=\"col_heading level0 col2\" >Type</th>    </tr></thead><tbody>\n",
       "                <tr>\n",
       "                        <th id=\"T_a4dd5_level0_row0\" class=\"row_heading level0 row0\" >0</th>\n",
       "                        <td id=\"T_a4dd5_row0_col0\" class=\"data row0 col0\" >Sl. No.</td>\n",
       "                        <td id=\"T_a4dd5_row0_col1\" class=\"data row0 col1\" >Serial number.</td>\n",
       "                        <td id=\"T_a4dd5_row0_col2\" class=\"data row0 col2\" >object</td>\n",
       "            </tr>\n",
       "            <tr>\n",
       "                        <th id=\"T_a4dd5_level0_row1\" class=\"row_heading level0 row1\" >1</th>\n",
       "                        <td id=\"T_a4dd5_row1_col0\" class=\"data row1 col0\" >Category</td>\n",
       "                        <td id=\"T_a4dd5_row1_col1\" class=\"data row1 col1\" >Expenditure category.</td>\n",
       "                        <td id=\"T_a4dd5_row1_col2\" class=\"data row1 col2\" >object</td>\n",
       "            </tr>\n",
       "            <tr>\n",
       "                        <th id=\"T_a4dd5_level0_row2\" class=\"row_heading level0 row2\" >2</th>\n",
       "                        <td id=\"T_a4dd5_row2_col0\" class=\"data row2 col0\" >Sub Head</td>\n",
       "                        <td id=\"T_a4dd5_row2_col1\" class=\"data row2 col1\" >Sub-category of the category for expenditure.</td>\n",
       "                        <td id=\"T_a4dd5_row2_col2\" class=\"data row2 col2\" >object</td>\n",
       "            </tr>\n",
       "            <tr>\n",
       "                        <th id=\"T_a4dd5_level0_row3\" class=\"row_heading level0 row3\" >3</th>\n",
       "                        <td id=\"T_a4dd5_row3_col0\" class=\"data row3 col0\" >2017-2018 - Actuals</td>\n",
       "                        <td id=\"T_a4dd5_row3_col1\" class=\"data row3 col1\" >Actual amount spent in expenditures in 2017-2018.</td>\n",
       "                        <td id=\"T_a4dd5_row3_col2\" class=\"data row3 col2\" >int64</td>\n",
       "            </tr>\n",
       "            <tr>\n",
       "                        <th id=\"T_a4dd5_level0_row4\" class=\"row_heading level0 row4\" >4</th>\n",
       "                        <td id=\"T_a4dd5_row4_col0\" class=\"data row4 col0\" >2018-2019 - Budget Estimates</td>\n",
       "                        <td id=\"T_a4dd5_row4_col1\" class=\"data row4 col1\" >Predicted expenditures for 2018-2019.</td>\n",
       "                        <td id=\"T_a4dd5_row4_col2\" class=\"data row4 col2\" >int64</td>\n",
       "            </tr>\n",
       "            <tr>\n",
       "                        <th id=\"T_a4dd5_level0_row5\" class=\"row_heading level0 row5\" >5</th>\n",
       "                        <td id=\"T_a4dd5_row5_col0\" class=\"data row5 col0\" >2018-2019 - Revised Estimates</td>\n",
       "                        <td id=\"T_a4dd5_row5_col1\" class=\"data row5 col1\" >Updated and revised estimated expenditures for 2018-2019.</td>\n",
       "                        <td id=\"T_a4dd5_row5_col2\" class=\"data row5 col2\" >int64</td>\n",
       "            </tr>\n",
       "            <tr>\n",
       "                        <th id=\"T_a4dd5_level0_row6\" class=\"row_heading level0 row6\" >6</th>\n",
       "                        <td id=\"T_a4dd5_row6_col0\" class=\"data row6 col0\" >2019-2020 - Budget Estimates</td>\n",
       "                        <td id=\"T_a4dd5_row6_col1\" class=\"data row6 col1\" >Predicted expenditures for 2019-2020.</td>\n",
       "                        <td id=\"T_a4dd5_row6_col2\" class=\"data row6 col2\" >int64</td>\n",
       "            </tr>\n",
       "    </tbody></table>"
      ],
      "text/plain": [
       "<pandas.io.formats.style.Styler at 0x12127d7c0>"
      ]
     },
     "execution_count": 10,
     "metadata": {},
     "output_type": "execute_result"
    }
   ],
   "source": [
    "expenditure_columns = [column for column in expenditure.columns]\n",
    "expenditure_description = [\"Serial number.\", \n",
    "                           \"Expenditure category.\", \n",
    "                           \"Sub-category of the category for expenditure.\", \n",
    "                           \"Actual amount spent in expenditures in 2017-2018.\", \n",
    "                           \"Predicted expenditures for 2018-2019.\", \n",
    "                           \"Updated and revised estimated expenditures for 2018-2019.\", \n",
    "                           \"Predicted expenditures for 2019-2020.\"]\n",
    "expenditure_dtypes = [dtype for dtype in expenditure.dtypes]\n",
    "\n",
    "data = {\"Column Name\": expenditure_columns, \"Description\": expenditure_description, \"Type\": expenditure_dtypes}\n",
    "expenditure_codebook = pd.DataFrame(data)\n",
    "expenditure_codebook.style.set_properties(subset=['Description'], **{'width': '600px'})"
   ]
  },
  {
   "cell_type": "markdown",
   "id": "incomplete-investing",
   "metadata": {},
   "source": [
    "**Missing values** <a class=\"anchor\" id=\"3.1\"></a>"
   ]
  },
  {
   "cell_type": "code",
   "execution_count": 11,
   "id": "quantitative-softball",
   "metadata": {},
   "outputs": [
    {
     "data": {
      "text/plain": [
       "Sl. No.                          0\n",
       "Category                         0\n",
       "Sub Head                         0\n",
       "2017-2018 - Actuals              0\n",
       "2018-2019 - Budget Estimates     0\n",
       "2018-2019 - Revised Estimates    0\n",
       "2019-2020 - Budget Estimates     0\n",
       "dtype: int64"
      ]
     },
     "execution_count": 11,
     "metadata": {},
     "output_type": "execute_result"
    }
   ],
   "source": [
    "expenditure.isnull().sum()"
   ]
  },
  {
   "cell_type": "markdown",
   "id": "suspended-incentive",
   "metadata": {},
   "source": [
    "**Summary statistics** <a class=\"anchor\" id=\"3.2\"></a>"
   ]
  },
  {
   "cell_type": "code",
   "execution_count": 12,
   "id": "architectural-wells",
   "metadata": {},
   "outputs": [
    {
     "data": {
      "text/html": [
       "<div>\n",
       "<style scoped>\n",
       "    .dataframe tbody tr th:only-of-type {\n",
       "        vertical-align: middle;\n",
       "    }\n",
       "\n",
       "    .dataframe tbody tr th {\n",
       "        vertical-align: top;\n",
       "    }\n",
       "\n",
       "    .dataframe thead th {\n",
       "        text-align: right;\n",
       "    }\n",
       "</style>\n",
       "<table border=\"1\" class=\"dataframe\">\n",
       "  <thead>\n",
       "    <tr style=\"text-align: right;\">\n",
       "      <th></th>\n",
       "      <th>2017-2018 - Actuals</th>\n",
       "      <th>2018-2019 - Budget Estimates</th>\n",
       "      <th>2018-2019 - Revised Estimates</th>\n",
       "      <th>2019-2020 - Budget Estimates</th>\n",
       "    </tr>\n",
       "  </thead>\n",
       "  <tbody>\n",
       "    <tr>\n",
       "      <th>count</th>\n",
       "      <td>8.000000e+00</td>\n",
       "      <td>8.000000e+00</td>\n",
       "      <td>8.000000e+00</td>\n",
       "      <td>8.000000e+00</td>\n",
       "    </tr>\n",
       "    <tr>\n",
       "      <th>mean</th>\n",
       "      <td>6.016128e+05</td>\n",
       "      <td>6.825279e+05</td>\n",
       "      <td>6.877550e+05</td>\n",
       "      <td>7.791825e+05</td>\n",
       "    </tr>\n",
       "    <tr>\n",
       "      <th>std</th>\n",
       "      <td>6.574929e+05</td>\n",
       "      <td>7.476320e+05</td>\n",
       "      <td>7.565725e+05</td>\n",
       "      <td>8.553311e+05</td>\n",
       "    </tr>\n",
       "    <tr>\n",
       "      <th>min</th>\n",
       "      <td>8.056700e+04</td>\n",
       "      <td>1.093740e+05</td>\n",
       "      <td>9.682700e+04</td>\n",
       "      <td>1.319020e+05</td>\n",
       "    </tr>\n",
       "    <tr>\n",
       "      <th>25%</th>\n",
       "      <td>2.371470e+05</td>\n",
       "      <td>2.621310e+05</td>\n",
       "      <td>2.551690e+05</td>\n",
       "      <td>2.820335e+05</td>\n",
       "    </tr>\n",
       "    <tr>\n",
       "      <th>50%</th>\n",
       "      <td>5.009915e+05</td>\n",
       "      <td>5.420975e+05</td>\n",
       "      <td>5.522975e+05</td>\n",
       "      <td>6.032030e+05</td>\n",
       "    </tr>\n",
       "    <tr>\n",
       "      <th>75%</th>\n",
       "      <td>5.965638e+05</td>\n",
       "      <td>6.857462e+05</td>\n",
       "      <td>7.059058e+05</td>\n",
       "      <td>7.985420e+05</td>\n",
       "    </tr>\n",
       "    <tr>\n",
       "      <th>max</th>\n",
       "      <td>2.141975e+06</td>\n",
       "      <td>2.442213e+06</td>\n",
       "      <td>2.457235e+06</td>\n",
       "      <td>2.784200e+06</td>\n",
       "    </tr>\n",
       "  </tbody>\n",
       "</table>\n",
       "</div>"
      ],
      "text/plain": [
       "       2017-2018 - Actuals  2018-2019 - Budget Estimates  \\\n",
       "count         8.000000e+00                  8.000000e+00   \n",
       "mean          6.016128e+05                  6.825279e+05   \n",
       "std           6.574929e+05                  7.476320e+05   \n",
       "min           8.056700e+04                  1.093740e+05   \n",
       "25%           2.371470e+05                  2.621310e+05   \n",
       "50%           5.009915e+05                  5.420975e+05   \n",
       "75%           5.965638e+05                  6.857462e+05   \n",
       "max           2.141975e+06                  2.442213e+06   \n",
       "\n",
       "       2018-2019 - Revised Estimates  2019-2020 - Budget Estimates  \n",
       "count                   8.000000e+00                  8.000000e+00  \n",
       "mean                    6.877550e+05                  7.791825e+05  \n",
       "std                     7.565725e+05                  8.553311e+05  \n",
       "min                     9.682700e+04                  1.319020e+05  \n",
       "25%                     2.551690e+05                  2.820335e+05  \n",
       "50%                     5.522975e+05                  6.032030e+05  \n",
       "75%                     7.059058e+05                  7.985420e+05  \n",
       "max                     2.457235e+06                  2.784200e+06  "
      ]
     },
     "execution_count": 12,
     "metadata": {},
     "output_type": "execute_result"
    }
   ],
   "source": [
    "expenditure.describe()"
   ]
  },
  {
   "cell_type": "code",
   "execution_count": null,
   "id": "effective-cuisine",
   "metadata": {},
   "outputs": [],
   "source": []
  }
 ],
 "metadata": {
  "kernelspec": {
   "display_name": "Python 3",
   "language": "python",
   "name": "python3"
  },
  "language_info": {
   "codemirror_mode": {
    "name": "ipython",
    "version": 3
   },
   "file_extension": ".py",
   "mimetype": "text/x-python",
   "name": "python",
   "nbconvert_exporter": "python",
   "pygments_lexer": "ipython3",
   "version": "3.9.2"
  }
 },
 "nbformat": 4,
 "nbformat_minor": 5
}
