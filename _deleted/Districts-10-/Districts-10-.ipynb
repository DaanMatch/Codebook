{
 "cells": [
  {
   "cell_type": "markdown",
   "id": "major-scanning",
   "metadata": {},
   "source": [
    "# Codebook  \n",
    "**Authors:** Lauren Baker  \n",
    "Documenting existing data files of DaanMatch with information about location, owner, \"version\", source etc."
   ]
  },
  {
   "cell_type": "code",
   "execution_count": 1,
   "id": "complex-scheme",
   "metadata": {},
   "outputs": [],
   "source": [
    "import boto3\n",
    "import numpy as np \n",
    "import pandas as pd\n",
    "pd.plotting.register_matplotlib_converters()\n",
    "import matplotlib.pyplot as plt\n",
    "%matplotlib inline\n",
    "from collections import Counter\n",
    "import statistics"
   ]
  },
  {
   "cell_type": "code",
   "execution_count": 2,
   "id": "satisfied-short",
   "metadata": {},
   "outputs": [],
   "source": [
    "client = boto3.client('s3')\n",
    "resource = boto3.resource('s3')\n",
    "my_bucket = resource.Bucket('my-bucket')"
   ]
  },
  {
   "cell_type": "markdown",
   "id": "southwest-microwave",
   "metadata": {},
   "source": [
    "# Districts-20-.csv\n",
    "## TOC:\n",
    "* [About this dataset](#1)\n",
    "* [What's in this dataset](#2)\n",
    "* [Codebook](#3)\n",
    "    * [Missing values](#3.1)\n",
    "    * [Summary statistics](#3.2)\n",
    "* [Columns](#4)\n",
    "    * [Name](#4.1)\n",
    "    * [Value](#4.2)"
   ]
  },
  {
   "cell_type": "markdown",
   "id": "otherwise-roads",
   "metadata": {},
   "source": [
    "**About this dataset**  <a class=\"anchor\" id=\"1\"></a>  \n",
    "Data provided by: Unknown.    \n",
    "Source: https://daanmatchdatafiles.s3-us-west-1.amazonaws.com/DaanMatch_DataFiles/Districts-10-.csv  \n",
    "Type: csv  \n",
    "Last Modified: May 29, 2021, 19:53:10 (UTC-07:00)  \n",
    "Size: 676.0 B"
   ]
  },
  {
   "cell_type": "code",
   "execution_count": 3,
   "id": "crucial-anderson",
   "metadata": {},
   "outputs": [
    {
     "data": {
      "text/html": [
       "<div>\n",
       "<style scoped>\n",
       "    .dataframe tbody tr th:only-of-type {\n",
       "        vertical-align: middle;\n",
       "    }\n",
       "\n",
       "    .dataframe tbody tr th {\n",
       "        vertical-align: top;\n",
       "    }\n",
       "\n",
       "    .dataframe thead th {\n",
       "        text-align: right;\n",
       "    }\n",
       "</style>\n",
       "<table border=\"1\" class=\"dataframe\">\n",
       "  <thead>\n",
       "    <tr style=\"text-align: right;\">\n",
       "      <th></th>\n",
       "      <th>KeyColumn</th>\n",
       "      <th>Name</th>\n",
       "      <th>Value</th>\n",
       "    </tr>\n",
       "  </thead>\n",
       "  <tbody>\n",
       "    <tr>\n",
       "      <th>0</th>\n",
       "      <td>203</td>\n",
       "      <td>Pashchim Champaran</td>\n",
       "      <td>203</td>\n",
       "    </tr>\n",
       "    <tr>\n",
       "      <th>1</th>\n",
       "      <td>204</td>\n",
       "      <td>Purba Champaran</td>\n",
       "      <td>204</td>\n",
       "    </tr>\n",
       "    <tr>\n",
       "      <th>2</th>\n",
       "      <td>205</td>\n",
       "      <td>Sheohar</td>\n",
       "      <td>205</td>\n",
       "    </tr>\n",
       "    <tr>\n",
       "      <th>3</th>\n",
       "      <td>206</td>\n",
       "      <td>Sitamarhi</td>\n",
       "      <td>206</td>\n",
       "    </tr>\n",
       "    <tr>\n",
       "      <th>4</th>\n",
       "      <td>207</td>\n",
       "      <td>Madhubani</td>\n",
       "      <td>207</td>\n",
       "    </tr>\n",
       "    <tr>\n",
       "      <th>5</th>\n",
       "      <td>208</td>\n",
       "      <td>Supaul</td>\n",
       "      <td>208</td>\n",
       "    </tr>\n",
       "    <tr>\n",
       "      <th>6</th>\n",
       "      <td>209</td>\n",
       "      <td>Araria</td>\n",
       "      <td>209</td>\n",
       "    </tr>\n",
       "    <tr>\n",
       "      <th>7</th>\n",
       "      <td>210</td>\n",
       "      <td>Kishanganj</td>\n",
       "      <td>210</td>\n",
       "    </tr>\n",
       "    <tr>\n",
       "      <th>8</th>\n",
       "      <td>211</td>\n",
       "      <td>Purnia</td>\n",
       "      <td>211</td>\n",
       "    </tr>\n",
       "    <tr>\n",
       "      <th>9</th>\n",
       "      <td>212</td>\n",
       "      <td>Katihar</td>\n",
       "      <td>212</td>\n",
       "    </tr>\n",
       "    <tr>\n",
       "      <th>10</th>\n",
       "      <td>213</td>\n",
       "      <td>Madhepura</td>\n",
       "      <td>213</td>\n",
       "    </tr>\n",
       "    <tr>\n",
       "      <th>11</th>\n",
       "      <td>214</td>\n",
       "      <td>Saharsa</td>\n",
       "      <td>214</td>\n",
       "    </tr>\n",
       "    <tr>\n",
       "      <th>12</th>\n",
       "      <td>215</td>\n",
       "      <td>Darbhanga</td>\n",
       "      <td>215</td>\n",
       "    </tr>\n",
       "    <tr>\n",
       "      <th>13</th>\n",
       "      <td>216</td>\n",
       "      <td>Muzaffarpur</td>\n",
       "      <td>216</td>\n",
       "    </tr>\n",
       "    <tr>\n",
       "      <th>14</th>\n",
       "      <td>217</td>\n",
       "      <td>Gopalganj</td>\n",
       "      <td>217</td>\n",
       "    </tr>\n",
       "    <tr>\n",
       "      <th>15</th>\n",
       "      <td>218</td>\n",
       "      <td>Siwan</td>\n",
       "      <td>218</td>\n",
       "    </tr>\n",
       "    <tr>\n",
       "      <th>16</th>\n",
       "      <td>219</td>\n",
       "      <td>Saran</td>\n",
       "      <td>219</td>\n",
       "    </tr>\n",
       "    <tr>\n",
       "      <th>17</th>\n",
       "      <td>220</td>\n",
       "      <td>Vaishali</td>\n",
       "      <td>220</td>\n",
       "    </tr>\n",
       "    <tr>\n",
       "      <th>18</th>\n",
       "      <td>221</td>\n",
       "      <td>Samastipur</td>\n",
       "      <td>221</td>\n",
       "    </tr>\n",
       "    <tr>\n",
       "      <th>19</th>\n",
       "      <td>222</td>\n",
       "      <td>Begusarai</td>\n",
       "      <td>222</td>\n",
       "    </tr>\n",
       "    <tr>\n",
       "      <th>20</th>\n",
       "      <td>223</td>\n",
       "      <td>Khagaria</td>\n",
       "      <td>223</td>\n",
       "    </tr>\n",
       "    <tr>\n",
       "      <th>21</th>\n",
       "      <td>224</td>\n",
       "      <td>Bhagalpur</td>\n",
       "      <td>224</td>\n",
       "    </tr>\n",
       "    <tr>\n",
       "      <th>22</th>\n",
       "      <td>225</td>\n",
       "      <td>Banka</td>\n",
       "      <td>225</td>\n",
       "    </tr>\n",
       "    <tr>\n",
       "      <th>23</th>\n",
       "      <td>226</td>\n",
       "      <td>Munger</td>\n",
       "      <td>226</td>\n",
       "    </tr>\n",
       "    <tr>\n",
       "      <th>24</th>\n",
       "      <td>227</td>\n",
       "      <td>Lakhisarai</td>\n",
       "      <td>227</td>\n",
       "    </tr>\n",
       "    <tr>\n",
       "      <th>25</th>\n",
       "      <td>228</td>\n",
       "      <td>Sheikhpura</td>\n",
       "      <td>228</td>\n",
       "    </tr>\n",
       "    <tr>\n",
       "      <th>26</th>\n",
       "      <td>229</td>\n",
       "      <td>Nalanda</td>\n",
       "      <td>229</td>\n",
       "    </tr>\n",
       "    <tr>\n",
       "      <th>27</th>\n",
       "      <td>230</td>\n",
       "      <td>Patna</td>\n",
       "      <td>230</td>\n",
       "    </tr>\n",
       "    <tr>\n",
       "      <th>28</th>\n",
       "      <td>231</td>\n",
       "      <td>Bhojpur</td>\n",
       "      <td>231</td>\n",
       "    </tr>\n",
       "    <tr>\n",
       "      <th>29</th>\n",
       "      <td>232</td>\n",
       "      <td>Buxar</td>\n",
       "      <td>232</td>\n",
       "    </tr>\n",
       "    <tr>\n",
       "      <th>30</th>\n",
       "      <td>233</td>\n",
       "      <td>Kaimur (Bhabua)</td>\n",
       "      <td>233</td>\n",
       "    </tr>\n",
       "    <tr>\n",
       "      <th>31</th>\n",
       "      <td>234</td>\n",
       "      <td>Rohtas</td>\n",
       "      <td>234</td>\n",
       "    </tr>\n",
       "    <tr>\n",
       "      <th>32</th>\n",
       "      <td>235</td>\n",
       "      <td>Aurangabad</td>\n",
       "      <td>235</td>\n",
       "    </tr>\n",
       "    <tr>\n",
       "      <th>33</th>\n",
       "      <td>236</td>\n",
       "      <td>Gaya</td>\n",
       "      <td>236</td>\n",
       "    </tr>\n",
       "    <tr>\n",
       "      <th>34</th>\n",
       "      <td>237</td>\n",
       "      <td>Nawada</td>\n",
       "      <td>237</td>\n",
       "    </tr>\n",
       "    <tr>\n",
       "      <th>35</th>\n",
       "      <td>238</td>\n",
       "      <td>Jamui</td>\n",
       "      <td>238</td>\n",
       "    </tr>\n",
       "    <tr>\n",
       "      <th>36</th>\n",
       "      <td>239</td>\n",
       "      <td>Jehanabad</td>\n",
       "      <td>239</td>\n",
       "    </tr>\n",
       "    <tr>\n",
       "      <th>37</th>\n",
       "      <td>240</td>\n",
       "      <td>Arwal</td>\n",
       "      <td>240</td>\n",
       "    </tr>\n",
       "  </tbody>\n",
       "</table>\n",
       "</div>"
      ],
      "text/plain": [
       "    KeyColumn                Name  Value\n",
       "0         203  Pashchim Champaran    203\n",
       "1         204     Purba Champaran    204\n",
       "2         205             Sheohar    205\n",
       "3         206           Sitamarhi    206\n",
       "4         207           Madhubani    207\n",
       "5         208              Supaul    208\n",
       "6         209              Araria    209\n",
       "7         210          Kishanganj    210\n",
       "8         211              Purnia    211\n",
       "9         212             Katihar    212\n",
       "10        213           Madhepura    213\n",
       "11        214             Saharsa    214\n",
       "12        215           Darbhanga    215\n",
       "13        216         Muzaffarpur    216\n",
       "14        217           Gopalganj    217\n",
       "15        218               Siwan    218\n",
       "16        219               Saran    219\n",
       "17        220            Vaishali    220\n",
       "18        221          Samastipur    221\n",
       "19        222           Begusarai    222\n",
       "20        223            Khagaria    223\n",
       "21        224           Bhagalpur    224\n",
       "22        225               Banka    225\n",
       "23        226              Munger    226\n",
       "24        227          Lakhisarai    227\n",
       "25        228          Sheikhpura    228\n",
       "26        229             Nalanda    229\n",
       "27        230               Patna    230\n",
       "28        231             Bhojpur    231\n",
       "29        232               Buxar    232\n",
       "30        233     Kaimur (Bhabua)    233\n",
       "31        234              Rohtas    234\n",
       "32        235          Aurangabad    235\n",
       "33        236                Gaya    236\n",
       "34        237              Nawada    237\n",
       "35        238               Jamui    238\n",
       "36        239           Jehanabad    239\n",
       "37        240               Arwal    240"
      ]
     },
     "execution_count": 3,
     "metadata": {},
     "output_type": "execute_result"
    }
   ],
   "source": [
    "path = \"s3://daanmatchdatafiles/DaanMatch_DataFiles/Districts-10-.csv\"\n",
    "districts_10 = pd.read_csv(path)\n",
    "districts_10"
   ]
  },
  {
   "cell_type": "markdown",
   "id": "stainless-tobacco",
   "metadata": {},
   "source": [
    "**What's in this dataset?** <a class=\"anchor\" id=\"2\"></a>"
   ]
  },
  {
   "cell_type": "code",
   "execution_count": 4,
   "id": "charming-partition",
   "metadata": {},
   "outputs": [
    {
     "name": "stdout",
     "output_type": "stream",
     "text": [
      "Shape: (38, 3)\n",
      "Rows: 38\n",
      "Columns: 3\n",
      "Each row is a district in the Bihar state in India.\n"
     ]
    }
   ],
   "source": [
    "print(\"Shape:\", districts_10.shape)\n",
    "print(\"Rows:\", districts_10.shape[0])\n",
    "print(\"Columns:\", districts_10.shape[1])\n",
    "print(\"Each row is a district in the Bihar state in India.\")"
   ]
  },
  {
   "cell_type": "markdown",
   "id": "native-andorra",
   "metadata": {},
   "source": [
    "**Codebook** <a class=\"anchor\" id=\"3\"></a>"
   ]
  },
  {
   "cell_type": "code",
   "execution_count": 6,
   "id": "imported-restaurant",
   "metadata": {},
   "outputs": [
    {
     "data": {
      "text/html": [
       "<style  type=\"text/css\" >\n",
       "#T_057c8_row0_col1,#T_057c8_row1_col1,#T_057c8_row2_col1{\n",
       "            width:  600px;\n",
       "        }</style><table id=\"T_057c8_\" ><thead>    <tr>        <th class=\"blank level0\" ></th>        <th class=\"col_heading level0 col0\" >Column Name</th>        <th class=\"col_heading level0 col1\" >Description</th>        <th class=\"col_heading level0 col2\" >Type</th>    </tr></thead><tbody>\n",
       "                <tr>\n",
       "                        <th id=\"T_057c8_level0_row0\" class=\"row_heading level0 row0\" >0</th>\n",
       "                        <td id=\"T_057c8_row0_col0\" class=\"data row0 col0\" >KeyColumn</td>\n",
       "                        <td id=\"T_057c8_row0_col1\" class=\"data row0 col1\" >Same as the Value column.</td>\n",
       "                        <td id=\"T_057c8_row0_col2\" class=\"data row0 col2\" >int64</td>\n",
       "            </tr>\n",
       "            <tr>\n",
       "                        <th id=\"T_057c8_level0_row1\" class=\"row_heading level0 row1\" >1</th>\n",
       "                        <td id=\"T_057c8_row1_col0\" class=\"data row1 col0\" >Name</td>\n",
       "                        <td id=\"T_057c8_row1_col1\" class=\"data row1 col1\" >Name of District in Bihar. There are 28 states in India and 8 union territories, all of which have territories within them. This column represents the names of the 38 territories in the Bihar state.</td>\n",
       "                        <td id=\"T_057c8_row1_col2\" class=\"data row1 col2\" >object</td>\n",
       "            </tr>\n",
       "            <tr>\n",
       "                        <th id=\"T_057c8_level0_row2\" class=\"row_heading level0 row2\" >2</th>\n",
       "                        <td id=\"T_057c8_row2_col0\" class=\"data row2 col0\" >Value</td>\n",
       "                        <td id=\"T_057c8_row2_col1\" class=\"data row2 col1\" >This value column has no real meaning, it is meant purely to count the districts. There are 739 total districts in India, so the value represents the number of the district in regards to all other districts.</td>\n",
       "                        <td id=\"T_057c8_row2_col2\" class=\"data row2 col2\" >int64</td>\n",
       "            </tr>\n",
       "    </tbody></table>"
      ],
      "text/plain": [
       "<pandas.io.formats.style.Styler at 0x1128f1e20>"
      ]
     },
     "execution_count": 6,
     "metadata": {},
     "output_type": "execute_result"
    }
   ],
   "source": [
    "districts_10_columns = [column for column in districts_10.columns]\n",
    "districts_10_description = [\"Same as the Value column.\",\n",
    "                            \"Name of District in Bihar. There are 28 states in India and 8 union territories, all of which have territories within them. This column represents the names of the 38 territories in the Bihar state.\",\n",
    "                            \"This value column has no real meaning, it is meant purely to count the districts. There are 739 total districts in India, so the value represents the number of the district in regards to all other districts.\"]\n",
    "districts_10_dtypes = [dtype for dtype in districts_10.dtypes]\n",
    "\n",
    "data = {\"Column Name\": districts_10_columns, \"Description\": districts_10_description, \"Type\": districts_10_dtypes}\n",
    "districts_10_codebook = pd.DataFrame(data)\n",
    "districts_10_codebook.style.set_properties(subset=['Description'], **{'width': '600px'})"
   ]
  },
  {
   "cell_type": "markdown",
   "id": "norman-attempt",
   "metadata": {},
   "source": [
    "**Missing values** <a class=\"anchor\" id=\"3.1\"></a>"
   ]
  },
  {
   "cell_type": "code",
   "execution_count": 7,
   "id": "spatial-gamma",
   "metadata": {},
   "outputs": [
    {
     "data": {
      "text/plain": [
       "KeyColumn    0\n",
       "Name         0\n",
       "Value        0\n",
       "dtype: int64"
      ]
     },
     "execution_count": 7,
     "metadata": {},
     "output_type": "execute_result"
    }
   ],
   "source": [
    "districts_10.isnull().sum()"
   ]
  },
  {
   "cell_type": "markdown",
   "id": "dangerous-ireland",
   "metadata": {},
   "source": [
    "There are 38 districts in the state of Bihar, and 38 districts in this dataset. That means that there are no missing districts."
   ]
  },
  {
   "cell_type": "markdown",
   "id": "requested-drink",
   "metadata": {},
   "source": [
    "**Summary statistics** <a class=\"anchor\" id=\"3.2\"></a>"
   ]
  },
  {
   "cell_type": "code",
   "execution_count": 8,
   "id": "viral-numbers",
   "metadata": {},
   "outputs": [
    {
     "data": {
      "text/html": [
       "<div>\n",
       "<style scoped>\n",
       "    .dataframe tbody tr th:only-of-type {\n",
       "        vertical-align: middle;\n",
       "    }\n",
       "\n",
       "    .dataframe tbody tr th {\n",
       "        vertical-align: top;\n",
       "    }\n",
       "\n",
       "    .dataframe thead th {\n",
       "        text-align: right;\n",
       "    }\n",
       "</style>\n",
       "<table border=\"1\" class=\"dataframe\">\n",
       "  <thead>\n",
       "    <tr style=\"text-align: right;\">\n",
       "      <th></th>\n",
       "      <th>KeyColumn</th>\n",
       "      <th>Value</th>\n",
       "    </tr>\n",
       "  </thead>\n",
       "  <tbody>\n",
       "    <tr>\n",
       "      <th>count</th>\n",
       "      <td>38.000000</td>\n",
       "      <td>38.000000</td>\n",
       "    </tr>\n",
       "    <tr>\n",
       "      <th>mean</th>\n",
       "      <td>221.500000</td>\n",
       "      <td>221.500000</td>\n",
       "    </tr>\n",
       "    <tr>\n",
       "      <th>std</th>\n",
       "      <td>11.113055</td>\n",
       "      <td>11.113055</td>\n",
       "    </tr>\n",
       "    <tr>\n",
       "      <th>min</th>\n",
       "      <td>203.000000</td>\n",
       "      <td>203.000000</td>\n",
       "    </tr>\n",
       "    <tr>\n",
       "      <th>25%</th>\n",
       "      <td>212.250000</td>\n",
       "      <td>212.250000</td>\n",
       "    </tr>\n",
       "    <tr>\n",
       "      <th>50%</th>\n",
       "      <td>221.500000</td>\n",
       "      <td>221.500000</td>\n",
       "    </tr>\n",
       "    <tr>\n",
       "      <th>75%</th>\n",
       "      <td>230.750000</td>\n",
       "      <td>230.750000</td>\n",
       "    </tr>\n",
       "    <tr>\n",
       "      <th>max</th>\n",
       "      <td>240.000000</td>\n",
       "      <td>240.000000</td>\n",
       "    </tr>\n",
       "  </tbody>\n",
       "</table>\n",
       "</div>"
      ],
      "text/plain": [
       "        KeyColumn       Value\n",
       "count   38.000000   38.000000\n",
       "mean   221.500000  221.500000\n",
       "std     11.113055   11.113055\n",
       "min    203.000000  203.000000\n",
       "25%    212.250000  212.250000\n",
       "50%    221.500000  221.500000\n",
       "75%    230.750000  230.750000\n",
       "max    240.000000  240.000000"
      ]
     },
     "execution_count": 8,
     "metadata": {},
     "output_type": "execute_result"
    }
   ],
   "source": [
    "districts_10.describe()"
   ]
  },
  {
   "cell_type": "markdown",
   "id": "raising-upgrade",
   "metadata": {},
   "source": [
    "## Columns\n",
    "<a class=\"anchor\" id=\"4\"></a>"
   ]
  },
  {
   "cell_type": "markdown",
   "id": "sonic-facility",
   "metadata": {},
   "source": [
    "### Name\n",
    "<a class=\"anchor\" id=\"4.1\"></a>\n",
    "Name of District in the state of Bihar in India. There are 28 states in India and 8 union territories, all of which have territories within them. This column represents the names of the territories in the state Bihar."
   ]
  },
  {
   "cell_type": "code",
   "execution_count": 9,
   "id": "protective-vulnerability",
   "metadata": {},
   "outputs": [
    {
     "data": {
      "text/plain": [
       "0     Pashchim Champaran\n",
       "1        Purba Champaran\n",
       "2                Sheohar\n",
       "3              Sitamarhi\n",
       "4              Madhubani\n",
       "5                 Supaul\n",
       "6                 Araria\n",
       "7             Kishanganj\n",
       "8                 Purnia\n",
       "9                Katihar\n",
       "10             Madhepura\n",
       "11               Saharsa\n",
       "12             Darbhanga\n",
       "13           Muzaffarpur\n",
       "14             Gopalganj\n",
       "15                 Siwan\n",
       "16                 Saran\n",
       "17              Vaishali\n",
       "18            Samastipur\n",
       "19             Begusarai\n",
       "20              Khagaria\n",
       "21             Bhagalpur\n",
       "22                 Banka\n",
       "23                Munger\n",
       "24            Lakhisarai\n",
       "25            Sheikhpura\n",
       "26               Nalanda\n",
       "27                 Patna\n",
       "28               Bhojpur\n",
       "29                 Buxar\n",
       "30       Kaimur (Bhabua)\n",
       "31                Rohtas\n",
       "32            Aurangabad\n",
       "33                  Gaya\n",
       "34                Nawada\n",
       "35                 Jamui\n",
       "36             Jehanabad\n",
       "37                 Arwal\n",
       "Name: Name, dtype: object"
      ]
     },
     "execution_count": 9,
     "metadata": {},
     "output_type": "execute_result"
    }
   ],
   "source": [
    "column = districts_10[\"Name\"]\n",
    "column"
   ]
  },
  {
   "cell_type": "code",
   "execution_count": 10,
   "id": "forced-moral",
   "metadata": {},
   "outputs": [
    {
     "name": "stdout",
     "output_type": "stream",
     "text": [
      "No. of unique values: 38\n",
      "Duplicates: {}\n"
     ]
    }
   ],
   "source": [
    "print(\"No. of unique values:\", len(column.unique()))\n",
    "\n",
    "# Check for duplicates\n",
    "counter = dict(Counter(column))\n",
    "duplicates = { key:value for key, value in counter.items() if value > 1}\n",
    "print(\"Duplicates:\", duplicates)\n",
    "if len(duplicates) > 0:\n",
    "    print(\"No. of duplicates:\", len(duplicates))"
   ]
  },
  {
   "cell_type": "markdown",
   "id": "color-marketing",
   "metadata": {},
   "source": [
    "### Value\n",
    "<a class=\"anchor\" id=\"4.2\"></a>\n",
    "This value column has no real meaning, it is meant purely to count the districts. There are 739 total districts in India, so the value represents the number of the district in regards to all other districts."
   ]
  },
  {
   "cell_type": "code",
   "execution_count": 11,
   "id": "answering-tolerance",
   "metadata": {},
   "outputs": [
    {
     "data": {
      "text/plain": [
       "0     203\n",
       "1     204\n",
       "2     205\n",
       "3     206\n",
       "4     207\n",
       "5     208\n",
       "6     209\n",
       "7     210\n",
       "8     211\n",
       "9     212\n",
       "10    213\n",
       "11    214\n",
       "12    215\n",
       "13    216\n",
       "14    217\n",
       "15    218\n",
       "16    219\n",
       "17    220\n",
       "18    221\n",
       "19    222\n",
       "20    223\n",
       "21    224\n",
       "22    225\n",
       "23    226\n",
       "24    227\n",
       "25    228\n",
       "26    229\n",
       "27    230\n",
       "28    231\n",
       "29    232\n",
       "30    233\n",
       "31    234\n",
       "32    235\n",
       "33    236\n",
       "34    237\n",
       "35    238\n",
       "36    239\n",
       "37    240\n",
       "Name: Value, dtype: int64"
      ]
     },
     "execution_count": 11,
     "metadata": {},
     "output_type": "execute_result"
    }
   ],
   "source": [
    "column = districts_10[\"Value\"]\n",
    "column"
   ]
  },
  {
   "cell_type": "code",
   "execution_count": 12,
   "id": "happy-carter",
   "metadata": {},
   "outputs": [
    {
     "name": "stdout",
     "output_type": "stream",
     "text": [
      "No. of unique values: 38\n",
      "Duplicates: {}\n"
     ]
    }
   ],
   "source": [
    "print(\"No. of unique values:\", len(column.unique()))\n",
    "\n",
    "# Check for duplicates\n",
    "counter = dict(Counter(column))\n",
    "duplicates = { key:value for key, value in counter.items() if value > 1}\n",
    "print(\"Duplicates:\", duplicates)\n",
    "if len(duplicates) > 0:\n",
    "    print(\"No. of duplicates:\", len(duplicates))"
   ]
  },
  {
   "cell_type": "code",
   "execution_count": null,
   "id": "civil-auction",
   "metadata": {},
   "outputs": [],
   "source": []
  }
 ],
 "metadata": {
  "kernelspec": {
   "display_name": "Python 3",
   "language": "python",
   "name": "python3"
  },
  "language_info": {
   "codemirror_mode": {
    "name": "ipython",
    "version": 3
   },
   "file_extension": ".py",
   "mimetype": "text/x-python",
   "name": "python",
   "nbconvert_exporter": "python",
   "pygments_lexer": "ipython3",
   "version": "3.9.2"
  }
 },
 "nbformat": 4,
 "nbformat_minor": 5
}
