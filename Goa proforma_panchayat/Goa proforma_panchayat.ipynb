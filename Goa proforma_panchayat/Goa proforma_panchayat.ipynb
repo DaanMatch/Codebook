{
 "cells": [
  {
   "cell_type": "markdown",
   "id": "medical-indication",
   "metadata": {},
   "source": [
    "# Codebook  \n",
    "**Authors:** Lauren Baker   \n",
    "Documenting existing data files of DaanMatch with information about location, owner, \"version\", source etc."
   ]
  },
  {
   "cell_type": "code",
   "execution_count": 89,
   "id": "molecular-hypothesis",
   "metadata": {},
   "outputs": [],
   "source": [
    "import boto3\n",
    "import numpy as np \n",
    "import pandas as pd\n",
    "pd.plotting.register_matplotlib_converters()\n",
    "import matplotlib.pyplot as plt\n",
    "%matplotlib inline\n",
    "from collections import Counter\n",
    "import statistics"
   ]
  },
  {
   "cell_type": "code",
   "execution_count": 90,
   "id": "collect-comfort",
   "metadata": {},
   "outputs": [],
   "source": [
    "client = boto3.client('s3')\n",
    "resource = boto3.resource('s3')\n",
    "my_bucket = resource.Bucket('daanmatchdatafiles')"
   ]
  },
  {
   "cell_type": "markdown",
   "id": "manufactured-mixture",
   "metadata": {},
   "source": [
    "# Goa proforma_panchayat.xlsx\n",
    "\n",
    "## TOC:\n",
    "* [About this dataset](#1)\n",
    "* [Cleaned datasets](#2)\n",
    "* [What's in this dataset](#3)\n",
    "* [Codebook](#4)\n",
    "    * [Missing values](#4.1)\n",
    "    * [Summary statistics](#4.2)\n",
    "* [Columns](#5)\n",
    "    * [Sheet A](#5.1)\n",
    "        * [Sr.No](#5.1.1)\n",
    "        * [Name of the District along with State](#5.1.2)\n",
    "        * [Name of Village Panchayat](#5.1.3)\n",
    "        * [Name of Sarpanch](#5.1.4)\n",
    "        * [Address with Pin Code](#5.1.5)\n",
    "        * [Mobile No./Email Address](#5.1.6)\n",
    "    * [Sheet B](#5.2)\n",
    "        * [Sr.No](#5.2.1)\n",
    "        * [Name of the District along with State](#5.2.2)\n",
    "        * [Name of Gram Panchayat](#5.2.3)\n",
    "        * [Gram Panchayat Bhawan Adress with Pin Code](#5.2.4)\n",
    "    * [Sheet C](#5.3)\n",
    "        * [Sr.No](#5.3.1)\n",
    "        * [Name of the District along with State](#5.3.2)\n",
    "        * [Name of Panchayat Officer (V.P. Secretary)](#5.3.3)\n",
    "        * [Mobile No.](#5.3.4)\n",
    "        * [Email Address](#5.3.5)"
   ]
  },
  {
   "cell_type": "markdown",
   "id": "demonstrated-orlando",
   "metadata": {},
   "source": [
    "**About this dataset**  <a class=\"anchor\" id=\"1\"></a>  \n",
    "Data provided by: Unknown.  \n",
    "Source: https://daanmatchdatafiles.s3.us-west-1.amazonaws.com/Goa+proforma_panchayat.xlsx  \n",
    "Type: xlsx  \n",
    "Last Modified: June 14, 2021, 21:47:22 (UTC-07:00)  \n",
    "Size: 50.8 KB"
   ]
  },
  {
   "cell_type": "code",
   "execution_count": 91,
   "id": "cloudy-territory",
   "metadata": {},
   "outputs": [
    {
     "name": "stdout",
     "output_type": "stream",
     "text": [
      "['(A)', '(B)', '(C)', '(D)', '(E)', '(F)']\n"
     ]
    }
   ],
   "source": [
    "path = \"s3://daanmatchdatafiles/Goa proforma_panchayat.xlsx\"\n",
    "goa_proforma = pd.ExcelFile(path)\n",
    "print(goa_proforma.sheet_names)"
   ]
  },
  {
   "cell_type": "code",
   "execution_count": 92,
   "id": "central-latin",
   "metadata": {},
   "outputs": [
    {
     "data": {
      "text/html": [
       "<div>\n",
       "<style scoped>\n",
       "    .dataframe tbody tr th:only-of-type {\n",
       "        vertical-align: middle;\n",
       "    }\n",
       "\n",
       "    .dataframe tbody tr th {\n",
       "        vertical-align: top;\n",
       "    }\n",
       "\n",
       "    .dataframe thead th {\n",
       "        text-align: right;\n",
       "    }\n",
       "</style>\n",
       "<table border=\"1\" class=\"dataframe\">\n",
       "  <thead>\n",
       "    <tr style=\"text-align: right;\">\n",
       "      <th></th>\n",
       "      <th>Unnamed: 0</th>\n",
       "      <th>Unnamed: 1</th>\n",
       "      <th>Unnamed: 2</th>\n",
       "      <th>Unnamed: 3</th>\n",
       "      <th>Unnamed: 4</th>\n",
       "      <th>Unnamed: 5</th>\n",
       "    </tr>\n",
       "  </thead>\n",
       "  <tbody>\n",
       "    <tr>\n",
       "      <th>0</th>\n",
       "      <td>Sr.No</td>\n",
       "      <td>Name of the District along with State</td>\n",
       "      <td>Name of Village Panchayat</td>\n",
       "      <td>Name of Sarpanch</td>\n",
       "      <td>Address with Pin Code</td>\n",
       "      <td>Mobile No./Email Address</td>\n",
       "    </tr>\n",
       "    <tr>\n",
       "      <th>1</th>\n",
       "      <td>NaN</td>\n",
       "      <td>North Goa, V.P. Dhargalim</td>\n",
       "      <td>Dhargalim</td>\n",
       "      <td>Shri.  Murarri Waradkar (Administrator)</td>\n",
       "      <td>Mahakhajan, Dhargal, Pernem -Goa 403512</td>\n",
       "      <td>9823717910</td>\n",
       "    </tr>\n",
       "    <tr>\n",
       "      <th>2</th>\n",
       "      <td>NaN</td>\n",
       "      <td>North Goa, V.P. Arambol</td>\n",
       "      <td>Arambol</td>\n",
       "      <td>Smt. Pranali P. Vaigankar</td>\n",
       "      <td>H. No. 302/1, Khalchawada, Arambol, Pernem – G...</td>\n",
       "      <td>8007881645</td>\n",
       "    </tr>\n",
       "    <tr>\n",
       "      <th>3</th>\n",
       "      <td>NaN</td>\n",
       "      <td>North Goa, V.P. Khajne-Amere-Poroscodem</td>\n",
       "      <td>Khajne-Amere-Porascadem</td>\n",
       "      <td>Smt. Jayshri Jairam Pirankar</td>\n",
       "      <td>H.No.75, Naibag, Pernem, Goa 403512</td>\n",
       "      <td>8390895492</td>\n",
       "    </tr>\n",
       "    <tr>\n",
       "      <th>4</th>\n",
       "      <td>NaN</td>\n",
       "      <td>North Goa, V.P. Parcem</td>\n",
       "      <td>Parcem</td>\n",
       "      <td>Shri. Rama Naik</td>\n",
       "      <td>Chonsai, Parcem Pernem-Goa 403512</td>\n",
       "      <td>9823321192</td>\n",
       "    </tr>\n",
       "  </tbody>\n",
       "</table>\n",
       "</div>"
      ],
      "text/plain": [
       "  Unnamed: 0                               Unnamed: 1  \\\n",
       "0      Sr.No    Name of the District along with State   \n",
       "1        NaN                North Goa, V.P. Dhargalim   \n",
       "2        NaN                  North Goa, V.P. Arambol   \n",
       "3        NaN  North Goa, V.P. Khajne-Amere-Poroscodem   \n",
       "4        NaN                   North Goa, V.P. Parcem   \n",
       "\n",
       "                  Unnamed: 2                               Unnamed: 3  \\\n",
       "0  Name of Village Panchayat                         Name of Sarpanch   \n",
       "1                  Dhargalim  Shri.  Murarri Waradkar (Administrator)   \n",
       "2                    Arambol                Smt. Pranali P. Vaigankar   \n",
       "3    Khajne-Amere-Porascadem             Smt. Jayshri Jairam Pirankar   \n",
       "4                     Parcem                          Shri. Rama Naik   \n",
       "\n",
       "                                          Unnamed: 4                Unnamed: 5  \n",
       "0                              Address with Pin Code  Mobile No./Email Address  \n",
       "1            Mahakhajan, Dhargal, Pernem -Goa 403512                9823717910  \n",
       "2  H. No. 302/1, Khalchawada, Arambol, Pernem – G...                8007881645  \n",
       "3                H.No.75, Naibag, Pernem, Goa 403512                8390895492  \n",
       "4                  Chonsai, Parcem Pernem-Goa 403512                9823321192  "
      ]
     },
     "execution_count": 92,
     "metadata": {},
     "output_type": "execute_result"
    }
   ],
   "source": [
    "goa_proforma_A = goa_proforma.parse('(A)')\n",
    "goa_proforma_A.head()"
   ]
  },
  {
   "cell_type": "code",
   "execution_count": 93,
   "id": "changed-advertising",
   "metadata": {},
   "outputs": [
    {
     "data": {
      "text/html": [
       "<div>\n",
       "<style scoped>\n",
       "    .dataframe tbody tr th:only-of-type {\n",
       "        vertical-align: middle;\n",
       "    }\n",
       "\n",
       "    .dataframe tbody tr th {\n",
       "        vertical-align: top;\n",
       "    }\n",
       "\n",
       "    .dataframe thead th {\n",
       "        text-align: right;\n",
       "    }\n",
       "</style>\n",
       "<table border=\"1\" class=\"dataframe\">\n",
       "  <thead>\n",
       "    <tr style=\"text-align: right;\">\n",
       "      <th></th>\n",
       "      <th>PROFORMA</th>\n",
       "      <th>Unnamed: 1</th>\n",
       "      <th>Unnamed: 2</th>\n",
       "      <th>Unnamed: 3</th>\n",
       "    </tr>\n",
       "  </thead>\n",
       "  <tbody>\n",
       "    <tr>\n",
       "      <th>0</th>\n",
       "      <td>NaN</td>\n",
       "      <td>NaN</td>\n",
       "      <td>NaN</td>\n",
       "      <td>NaN</td>\n",
       "    </tr>\n",
       "    <tr>\n",
       "      <th>1</th>\n",
       "      <td>(B)</td>\n",
       "      <td>NaN</td>\n",
       "      <td>NaN</td>\n",
       "      <td>NaN</td>\n",
       "    </tr>\n",
       "    <tr>\n",
       "      <th>2</th>\n",
       "      <td>NaN</td>\n",
       "      <td>NaN</td>\n",
       "      <td>NaN</td>\n",
       "      <td>NaN</td>\n",
       "    </tr>\n",
       "    <tr>\n",
       "      <th>3</th>\n",
       "      <td>Sr.No</td>\n",
       "      <td>Name of the District along with State</td>\n",
       "      <td>Name of Gram Panchayat</td>\n",
       "      <td>Gram Panchayat Bhawan Adress with Pin Code</td>\n",
       "    </tr>\n",
       "    <tr>\n",
       "      <th>4</th>\n",
       "      <td>1</td>\n",
       "      <td>North Goa, Goa</td>\n",
       "      <td>Dhargalim</td>\n",
       "      <td>Dhargalim, Pernem - Goa 403513</td>\n",
       "    </tr>\n",
       "  </tbody>\n",
       "</table>\n",
       "</div>"
      ],
      "text/plain": [
       "  PROFORMA                             Unnamed: 1              Unnamed: 2  \\\n",
       "0      NaN                                    NaN                     NaN   \n",
       "1      (B)                                    NaN                     NaN   \n",
       "2      NaN                                    NaN                     NaN   \n",
       "3    Sr.No  Name of the District along with State  Name of Gram Panchayat   \n",
       "4        1                         North Goa, Goa               Dhargalim   \n",
       "\n",
       "                                   Unnamed: 3  \n",
       "0                                         NaN  \n",
       "1                                         NaN  \n",
       "2                                         NaN  \n",
       "3  Gram Panchayat Bhawan Adress with Pin Code  \n",
       "4              Dhargalim, Pernem - Goa 403513  "
      ]
     },
     "execution_count": 93,
     "metadata": {},
     "output_type": "execute_result"
    }
   ],
   "source": [
    "goa_proforma_B = goa_proforma.parse('(B)')\n",
    "goa_proforma_B.head()"
   ]
  },
  {
   "cell_type": "code",
   "execution_count": 94,
   "id": "final-courage",
   "metadata": {},
   "outputs": [
    {
     "data": {
      "text/html": [
       "<div>\n",
       "<style scoped>\n",
       "    .dataframe tbody tr th:only-of-type {\n",
       "        vertical-align: middle;\n",
       "    }\n",
       "\n",
       "    .dataframe tbody tr th {\n",
       "        vertical-align: top;\n",
       "    }\n",
       "\n",
       "    .dataframe thead th {\n",
       "        text-align: right;\n",
       "    }\n",
       "</style>\n",
       "<table border=\"1\" class=\"dataframe\">\n",
       "  <thead>\n",
       "    <tr style=\"text-align: right;\">\n",
       "      <th></th>\n",
       "      <th>PROFORMA</th>\n",
       "      <th>Unnamed: 1</th>\n",
       "      <th>Unnamed: 2</th>\n",
       "      <th>Unnamed: 3</th>\n",
       "      <th>Unnamed: 4</th>\n",
       "    </tr>\n",
       "  </thead>\n",
       "  <tbody>\n",
       "    <tr>\n",
       "      <th>0</th>\n",
       "      <td>NaN</td>\n",
       "      <td>NaN</td>\n",
       "      <td>NaN</td>\n",
       "      <td>NaN</td>\n",
       "      <td>NaN</td>\n",
       "    </tr>\n",
       "    <tr>\n",
       "      <th>1</th>\n",
       "      <td>(C)</td>\n",
       "      <td>NaN</td>\n",
       "      <td>NaN</td>\n",
       "      <td>NaN</td>\n",
       "      <td>NaN</td>\n",
       "    </tr>\n",
       "    <tr>\n",
       "      <th>2</th>\n",
       "      <td>NaN</td>\n",
       "      <td>NaN</td>\n",
       "      <td>NaN</td>\n",
       "      <td>NaN</td>\n",
       "      <td>NaN</td>\n",
       "    </tr>\n",
       "    <tr>\n",
       "      <th>3</th>\n",
       "      <td>Sr.No</td>\n",
       "      <td>Name of the District along with State</td>\n",
       "      <td>Name of Panchayat Officer (V.P. Secretary)</td>\n",
       "      <td>Mobile No.</td>\n",
       "      <td>Email Address</td>\n",
       "    </tr>\n",
       "    <tr>\n",
       "      <th>4</th>\n",
       "      <td>1</td>\n",
       "      <td>North Goa, Goa</td>\n",
       "      <td>Shri. Subodh Prabhu</td>\n",
       "      <td>9970451419</td>\n",
       "      <td>NaN</td>\n",
       "    </tr>\n",
       "  </tbody>\n",
       "</table>\n",
       "</div>"
      ],
      "text/plain": [
       "  PROFORMA                             Unnamed: 1  \\\n",
       "0      NaN                                    NaN   \n",
       "1      (C)                                    NaN   \n",
       "2      NaN                                    NaN   \n",
       "3    Sr.No  Name of the District along with State   \n",
       "4        1                         North Goa, Goa   \n",
       "\n",
       "                                   Unnamed: 2  Unnamed: 3     Unnamed: 4  \n",
       "0                                         NaN         NaN            NaN  \n",
       "1                                         NaN         NaN            NaN  \n",
       "2                                         NaN         NaN            NaN  \n",
       "3  Name of Panchayat Officer (V.P. Secretary)  Mobile No.  Email Address  \n",
       "4                         Shri. Subodh Prabhu  9970451419            NaN  "
      ]
     },
     "execution_count": 94,
     "metadata": {},
     "output_type": "execute_result"
    }
   ],
   "source": [
    "goa_proforma_C = goa_proforma.parse('(C)')\n",
    "goa_proforma_C.head()"
   ]
  },
  {
   "cell_type": "code",
   "execution_count": 95,
   "id": "caroline-crest",
   "metadata": {},
   "outputs": [
    {
     "data": {
      "text/html": [
       "<div>\n",
       "<style scoped>\n",
       "    .dataframe tbody tr th:only-of-type {\n",
       "        vertical-align: middle;\n",
       "    }\n",
       "\n",
       "    .dataframe tbody tr th {\n",
       "        vertical-align: top;\n",
       "    }\n",
       "\n",
       "    .dataframe thead th {\n",
       "        text-align: right;\n",
       "    }\n",
       "</style>\n",
       "<table border=\"1\" class=\"dataframe\">\n",
       "  <thead>\n",
       "    <tr style=\"text-align: right;\">\n",
       "      <th></th>\n",
       "      <th>PROFORMA</th>\n",
       "      <th>Unnamed: 1</th>\n",
       "      <th>Unnamed: 2</th>\n",
       "      <th>Unnamed: 3</th>\n",
       "      <th>Unnamed: 4</th>\n",
       "    </tr>\n",
       "  </thead>\n",
       "  <tbody>\n",
       "    <tr>\n",
       "      <th>0</th>\n",
       "      <td>NaN</td>\n",
       "      <td>NaN</td>\n",
       "      <td>NaN</td>\n",
       "      <td>NaN</td>\n",
       "      <td>NaN</td>\n",
       "    </tr>\n",
       "    <tr>\n",
       "      <th>1</th>\n",
       "      <td>(D)</td>\n",
       "      <td>NaN</td>\n",
       "      <td>NaN</td>\n",
       "      <td>NaN</td>\n",
       "      <td>NaN</td>\n",
       "    </tr>\n",
       "    <tr>\n",
       "      <th>2</th>\n",
       "      <td>NaN</td>\n",
       "      <td>NaN</td>\n",
       "      <td>NaN</td>\n",
       "      <td>NaN</td>\n",
       "      <td>NaN</td>\n",
       "    </tr>\n",
       "    <tr>\n",
       "      <th>3</th>\n",
       "      <td>Sr.No</td>\n",
       "      <td>Name of the District along with State</td>\n",
       "      <td>Name of Block Panchayat President</td>\n",
       "      <td>Address with Pin Code</td>\n",
       "      <td>Mobile No. / Email Address</td>\n",
       "    </tr>\n",
       "    <tr>\n",
       "      <th>4</th>\n",
       "      <td>1</td>\n",
       "      <td>GOA</td>\n",
       "      <td>NaN</td>\n",
       "      <td>NaN</td>\n",
       "      <td>NaN</td>\n",
       "    </tr>\n",
       "  </tbody>\n",
       "</table>\n",
       "</div>"
      ],
      "text/plain": [
       "  PROFORMA                             Unnamed: 1  \\\n",
       "0      NaN                                    NaN   \n",
       "1      (D)                                    NaN   \n",
       "2      NaN                                    NaN   \n",
       "3    Sr.No  Name of the District along with State   \n",
       "4        1                                    GOA   \n",
       "\n",
       "                          Unnamed: 2             Unnamed: 3  \\\n",
       "0                                NaN                    NaN   \n",
       "1                                NaN                    NaN   \n",
       "2                                NaN                    NaN   \n",
       "3  Name of Block Panchayat President  Address with Pin Code   \n",
       "4                                NaN                    NaN   \n",
       "\n",
       "                   Unnamed: 4  \n",
       "0                         NaN  \n",
       "1                         NaN  \n",
       "2                         NaN  \n",
       "3  Mobile No. / Email Address  \n",
       "4                         NaN  "
      ]
     },
     "execution_count": 95,
     "metadata": {},
     "output_type": "execute_result"
    }
   ],
   "source": [
    "goa_proforma_D = goa_proforma.parse('(D)')\n",
    "goa_proforma_D.head()"
   ]
  },
  {
   "cell_type": "code",
   "execution_count": 96,
   "id": "closed-arcade",
   "metadata": {},
   "outputs": [
    {
     "data": {
      "text/html": [
       "<div>\n",
       "<style scoped>\n",
       "    .dataframe tbody tr th:only-of-type {\n",
       "        vertical-align: middle;\n",
       "    }\n",
       "\n",
       "    .dataframe tbody tr th {\n",
       "        vertical-align: top;\n",
       "    }\n",
       "\n",
       "    .dataframe thead th {\n",
       "        text-align: right;\n",
       "    }\n",
       "</style>\n",
       "<table border=\"1\" class=\"dataframe\">\n",
       "  <thead>\n",
       "    <tr style=\"text-align: right;\">\n",
       "      <th></th>\n",
       "      <th>(E)</th>\n",
       "      <th>Unnamed: 1</th>\n",
       "      <th>Unnamed: 2</th>\n",
       "      <th>Unnamed: 3</th>\n",
       "      <th>Unnamed: 4</th>\n",
       "    </tr>\n",
       "  </thead>\n",
       "  <tbody>\n",
       "    <tr>\n",
       "      <th>0</th>\n",
       "      <td>NaN</td>\n",
       "      <td>NaN</td>\n",
       "      <td>NaN</td>\n",
       "      <td>NaN</td>\n",
       "      <td>NaN</td>\n",
       "    </tr>\n",
       "    <tr>\n",
       "      <th>1</th>\n",
       "      <td>Sr.No</td>\n",
       "      <td>Name of District along with State</td>\n",
       "      <td>Name of Disctrict Panchayat President</td>\n",
       "      <td>Address with Pin Code</td>\n",
       "      <td>Mobile No. / Email Address</td>\n",
       "    </tr>\n",
       "    <tr>\n",
       "      <th>2</th>\n",
       "      <td>1</td>\n",
       "      <td>North Goa, GOA</td>\n",
       "      <td>Smt.Ankita L Navelkar - Adhyaksha</td>\n",
       "      <td>H.No 247, Lalbag, Vithalpur, P.O. Sanquelim, B...</td>\n",
       "      <td>9923446211</td>\n",
       "    </tr>\n",
       "    <tr>\n",
       "      <th>3</th>\n",
       "      <td>2</td>\n",
       "      <td>North Goa, GOA</td>\n",
       "      <td>Shri. Vasudev L Korgaonkar - Upadhyaksha</td>\n",
       "      <td>H.No 353, Khalap wado, Canca, Bardez - Goa</td>\n",
       "      <td>9850453006</td>\n",
       "    </tr>\n",
       "    <tr>\n",
       "      <th>4</th>\n",
       "      <td>3</td>\n",
       "      <td>South Goa, GOA</td>\n",
       "      <td>Shri. Navnaath G. Naik - Adhyaksha</td>\n",
       "      <td>H.No 164/1, Bhaati, Sanguem-Goa</td>\n",
       "      <td>9421240037</td>\n",
       "    </tr>\n",
       "  </tbody>\n",
       "</table>\n",
       "</div>"
      ],
      "text/plain": [
       "     (E)                         Unnamed: 1  \\\n",
       "0    NaN                                NaN   \n",
       "1  Sr.No  Name of District along with State   \n",
       "2      1                     North Goa, GOA   \n",
       "3      2                     North Goa, GOA   \n",
       "4      3                     South Goa, GOA   \n",
       "\n",
       "                                 Unnamed: 2  \\\n",
       "0                                       NaN   \n",
       "1     Name of Disctrict Panchayat President   \n",
       "2         Smt.Ankita L Navelkar - Adhyaksha   \n",
       "3  Shri. Vasudev L Korgaonkar - Upadhyaksha   \n",
       "4        Shri. Navnaath G. Naik - Adhyaksha   \n",
       "\n",
       "                                          Unnamed: 3  \\\n",
       "0                                                NaN   \n",
       "1                              Address with Pin Code   \n",
       "2  H.No 247, Lalbag, Vithalpur, P.O. Sanquelim, B...   \n",
       "3         H.No 353, Khalap wado, Canca, Bardez - Goa   \n",
       "4                    H.No 164/1, Bhaati, Sanguem-Goa   \n",
       "\n",
       "                   Unnamed: 4  \n",
       "0                         NaN  \n",
       "1  Mobile No. / Email Address  \n",
       "2                  9923446211  \n",
       "3                  9850453006  \n",
       "4                  9421240037  "
      ]
     },
     "execution_count": 96,
     "metadata": {},
     "output_type": "execute_result"
    }
   ],
   "source": [
    "goa_proforma_E = goa_proforma.parse('(E)')\n",
    "goa_proforma_E.head()"
   ]
  },
  {
   "cell_type": "code",
   "execution_count": 97,
   "id": "collect-powell",
   "metadata": {},
   "outputs": [
    {
     "data": {
      "text/html": [
       "<div>\n",
       "<style scoped>\n",
       "    .dataframe tbody tr th:only-of-type {\n",
       "        vertical-align: middle;\n",
       "    }\n",
       "\n",
       "    .dataframe tbody tr th {\n",
       "        vertical-align: top;\n",
       "    }\n",
       "\n",
       "    .dataframe thead th {\n",
       "        text-align: right;\n",
       "    }\n",
       "</style>\n",
       "<table border=\"1\" class=\"dataframe\">\n",
       "  <thead>\n",
       "    <tr style=\"text-align: right;\">\n",
       "      <th></th>\n",
       "      <th>PROFORMA</th>\n",
       "      <th>Unnamed: 1</th>\n",
       "      <th>Unnamed: 2</th>\n",
       "      <th>Unnamed: 3</th>\n",
       "      <th>Unnamed: 4</th>\n",
       "    </tr>\n",
       "  </thead>\n",
       "  <tbody>\n",
       "    <tr>\n",
       "      <th>0</th>\n",
       "      <td>NaN</td>\n",
       "      <td>NaN</td>\n",
       "      <td>NaN</td>\n",
       "      <td>NaN</td>\n",
       "      <td>NaN</td>\n",
       "    </tr>\n",
       "    <tr>\n",
       "      <th>1</th>\n",
       "      <td>(F)</td>\n",
       "      <td>NaN</td>\n",
       "      <td>NaN</td>\n",
       "      <td>NaN</td>\n",
       "      <td>NaN</td>\n",
       "    </tr>\n",
       "    <tr>\n",
       "      <th>2</th>\n",
       "      <td>NaN</td>\n",
       "      <td>NaN</td>\n",
       "      <td>NaN</td>\n",
       "      <td>NaN</td>\n",
       "      <td>NaN</td>\n",
       "    </tr>\n",
       "    <tr>\n",
       "      <th>3</th>\n",
       "      <td>Sr.No</td>\n",
       "      <td>Name of the State</td>\n",
       "      <td>Name of the Nodal Officer / Designation</td>\n",
       "      <td>Mobile No. / Email Address</td>\n",
       "      <td>Postal Details</td>\n",
       "    </tr>\n",
       "    <tr>\n",
       "      <th>4</th>\n",
       "      <td>1</td>\n",
       "      <td>GOA</td>\n",
       "      <td>Shri. Gurudas Pilarnekar, Director, Directorat...</td>\n",
       "      <td>9763554136 dir-panc.goa@nic.in</td>\n",
       "      <td>3rd lift, 3rd floor, Junta House, Panaji - Goa</td>\n",
       "    </tr>\n",
       "  </tbody>\n",
       "</table>\n",
       "</div>"
      ],
      "text/plain": [
       "  PROFORMA         Unnamed: 1  \\\n",
       "0      NaN                NaN   \n",
       "1      (F)                NaN   \n",
       "2      NaN                NaN   \n",
       "3    Sr.No  Name of the State   \n",
       "4        1                GOA   \n",
       "\n",
       "                                          Unnamed: 2  \\\n",
       "0                                                NaN   \n",
       "1                                                NaN   \n",
       "2                                                NaN   \n",
       "3            Name of the Nodal Officer / Designation   \n",
       "4  Shri. Gurudas Pilarnekar, Director, Directorat...   \n",
       "\n",
       "                       Unnamed: 3  \\\n",
       "0                             NaN   \n",
       "1                             NaN   \n",
       "2                             NaN   \n",
       "3      Mobile No. / Email Address   \n",
       "4  9763554136 dir-panc.goa@nic.in   \n",
       "\n",
       "                                       Unnamed: 4  \n",
       "0                                             NaN  \n",
       "1                                             NaN  \n",
       "2                                             NaN  \n",
       "3                                  Postal Details  \n",
       "4  3rd lift, 3rd floor, Junta House, Panaji - Goa  "
      ]
     },
     "execution_count": 97,
     "metadata": {},
     "output_type": "execute_result"
    }
   ],
   "source": [
    "goa_proforma_F = goa_proforma.parse('(F)')\n",
    "goa_proforma_F.head()"
   ]
  },
  {
   "cell_type": "markdown",
   "id": "ethical-outreach",
   "metadata": {},
   "source": [
    "**Cleaned datasets**  <a class=\"anchor\" id=\"2\"></a>  "
   ]
  },
  {
   "cell_type": "markdown",
   "id": "scenic-albany",
   "metadata": {},
   "source": [
    "Cleaning up the data in Sheet A:"
   ]
  },
  {
   "cell_type": "code",
   "execution_count": 98,
   "id": "certain-string",
   "metadata": {},
   "outputs": [
    {
     "data": {
      "text/html": [
       "<div>\n",
       "<style scoped>\n",
       "    .dataframe tbody tr th:only-of-type {\n",
       "        vertical-align: middle;\n",
       "    }\n",
       "\n",
       "    .dataframe tbody tr th {\n",
       "        vertical-align: top;\n",
       "    }\n",
       "\n",
       "    .dataframe thead th {\n",
       "        text-align: right;\n",
       "    }\n",
       "</style>\n",
       "<table border=\"1\" class=\"dataframe\">\n",
       "  <thead>\n",
       "    <tr style=\"text-align: right;\">\n",
       "      <th></th>\n",
       "      <th>Sr.No</th>\n",
       "      <th>Name of the District along with State</th>\n",
       "      <th>Name of Village Panchayat</th>\n",
       "      <th>Name of Sarpanch</th>\n",
       "      <th>Address with Pin Code</th>\n",
       "      <th>Mobile No./Email Address</th>\n",
       "    </tr>\n",
       "  </thead>\n",
       "  <tbody>\n",
       "    <tr>\n",
       "      <th>0</th>\n",
       "      <td>NaN</td>\n",
       "      <td>North Goa, V.P. Dhargalim</td>\n",
       "      <td>Dhargalim</td>\n",
       "      <td>Shri.  Murarri Waradkar (Administrator)</td>\n",
       "      <td>Mahakhajan, Dhargal, Pernem -Goa 403512</td>\n",
       "      <td>9823717910</td>\n",
       "    </tr>\n",
       "    <tr>\n",
       "      <th>1</th>\n",
       "      <td>NaN</td>\n",
       "      <td>North Goa, V.P. Arambol</td>\n",
       "      <td>Arambol</td>\n",
       "      <td>Smt. Pranali P. Vaigankar</td>\n",
       "      <td>H. No. 302/1, Khalchawada, Arambol, Pernem – G...</td>\n",
       "      <td>8007881645</td>\n",
       "    </tr>\n",
       "    <tr>\n",
       "      <th>2</th>\n",
       "      <td>NaN</td>\n",
       "      <td>North Goa, V.P. Khajne-Amere-Poroscodem</td>\n",
       "      <td>Khajne-Amere-Porascadem</td>\n",
       "      <td>Smt. Jayshri Jairam Pirankar</td>\n",
       "      <td>H.No.75, Naibag, Pernem, Goa 403512</td>\n",
       "      <td>8390895492</td>\n",
       "    </tr>\n",
       "    <tr>\n",
       "      <th>3</th>\n",
       "      <td>NaN</td>\n",
       "      <td>North Goa, V.P. Parcem</td>\n",
       "      <td>Parcem</td>\n",
       "      <td>Shri. Rama Naik</td>\n",
       "      <td>Chonsai, Parcem Pernem-Goa 403512</td>\n",
       "      <td>9823321192</td>\n",
       "    </tr>\n",
       "    <tr>\n",
       "      <th>4</th>\n",
       "      <td>NaN</td>\n",
       "      <td>North Goa, V.P. Ibrampur - Hankahne</td>\n",
       "      <td>Ibrampur-Hankahne</td>\n",
       "      <td>Shri. Ashok Mahadev Dhauskar</td>\n",
       "      <td>H.No. 89, Ibrampur-Pernem – Goa 403512</td>\n",
       "      <td>9421240482</td>\n",
       "    </tr>\n",
       "    <tr>\n",
       "      <th>...</th>\n",
       "      <td>...</td>\n",
       "      <td>...</td>\n",
       "      <td>...</td>\n",
       "      <td>...</td>\n",
       "      <td>...</td>\n",
       "      <td>...</td>\n",
       "    </tr>\n",
       "    <tr>\n",
       "      <th>182</th>\n",
       "      <td>NaN</td>\n",
       "      <td>South Goa</td>\n",
       "      <td>Majorda Utorda Calata</td>\n",
       "      <td>Mr.Moises A. Vaz</td>\n",
       "      <td>---</td>\n",
       "      <td>9922929636</td>\n",
       "    </tr>\n",
       "    <tr>\n",
       "      <th>183</th>\n",
       "      <td>NaN</td>\n",
       "      <td>South Goa</td>\n",
       "      <td>Chicalim</td>\n",
       "      <td>Mrs.Prajoti L. Kudaikar</td>\n",
       "      <td>---</td>\n",
       "      <td>9049843109</td>\n",
       "    </tr>\n",
       "    <tr>\n",
       "      <th>184</th>\n",
       "      <td>NaN</td>\n",
       "      <td>South Goa</td>\n",
       "      <td>Cansaulim-Arossim-Cuelim</td>\n",
       "      <td>Mrs.FilomenaD,Mello</td>\n",
       "      <td>---</td>\n",
       "      <td>9545485086</td>\n",
       "    </tr>\n",
       "    <tr>\n",
       "      <th>185</th>\n",
       "      <td>NaN</td>\n",
       "      <td>South Goa</td>\n",
       "      <td>Velsao-Pale-Issorcim</td>\n",
       "      <td>Mr. Henrique D’Mello</td>\n",
       "      <td>---</td>\n",
       "      <td>9657896983</td>\n",
       "    </tr>\n",
       "    <tr>\n",
       "      <th>186</th>\n",
       "      <td>NaN</td>\n",
       "      <td>South Goa</td>\n",
       "      <td>Sancoale</td>\n",
       "      <td>Mr.Ramakant Narayan Borkar</td>\n",
       "      <td>---</td>\n",
       "      <td>9860187445</td>\n",
       "    </tr>\n",
       "  </tbody>\n",
       "</table>\n",
       "<p>187 rows × 6 columns</p>\n",
       "</div>"
      ],
      "text/plain": [
       "    Sr.No    Name of the District along with State Name of Village Panchayat  \\\n",
       "0     NaN                North Goa, V.P. Dhargalim                 Dhargalim   \n",
       "1     NaN                  North Goa, V.P. Arambol                   Arambol   \n",
       "2     NaN  North Goa, V.P. Khajne-Amere-Poroscodem   Khajne-Amere-Porascadem   \n",
       "3     NaN                   North Goa, V.P. Parcem                    Parcem   \n",
       "4     NaN      North Goa, V.P. Ibrampur - Hankahne         Ibrampur-Hankahne   \n",
       "..    ...                                      ...                       ...   \n",
       "182   NaN                                South Goa     Majorda Utorda Calata   \n",
       "183   NaN                                South Goa                  Chicalim   \n",
       "184   NaN                                South Goa  Cansaulim-Arossim-Cuelim   \n",
       "185   NaN                                South Goa      Velsao-Pale-Issorcim   \n",
       "186   NaN                                South Goa                  Sancoale   \n",
       "\n",
       "                            Name of Sarpanch  \\\n",
       "0    Shri.  Murarri Waradkar (Administrator)   \n",
       "1                  Smt. Pranali P. Vaigankar   \n",
       "2               Smt. Jayshri Jairam Pirankar   \n",
       "3                            Shri. Rama Naik   \n",
       "4               Shri. Ashok Mahadev Dhauskar   \n",
       "..                                       ...   \n",
       "182                         Mr.Moises A. Vaz   \n",
       "183                  Mrs.Prajoti L. Kudaikar   \n",
       "184                      Mrs.FilomenaD,Mello   \n",
       "185                     Mr. Henrique D’Mello   \n",
       "186               Mr.Ramakant Narayan Borkar   \n",
       "\n",
       "                                 Address with Pin Code  \\\n",
       "0              Mahakhajan, Dhargal, Pernem -Goa 403512   \n",
       "1    H. No. 302/1, Khalchawada, Arambol, Pernem – G...   \n",
       "2                  H.No.75, Naibag, Pernem, Goa 403512   \n",
       "3                    Chonsai, Parcem Pernem-Goa 403512   \n",
       "4               H.No. 89, Ibrampur-Pernem – Goa 403512   \n",
       "..                                                 ...   \n",
       "182                                                ---   \n",
       "183                                                ---   \n",
       "184                                                ---   \n",
       "185                                                ---   \n",
       "186                                                ---   \n",
       "\n",
       "    Mobile No./Email Address  \n",
       "0                 9823717910  \n",
       "1                 8007881645  \n",
       "2                 8390895492  \n",
       "3                 9823321192  \n",
       "4                 9421240482  \n",
       "..                       ...  \n",
       "182               9922929636  \n",
       "183               9049843109  \n",
       "184               9545485086  \n",
       "185               9657896983  \n",
       "186               9860187445  \n",
       "\n",
       "[187 rows x 6 columns]"
      ]
     },
     "execution_count": 98,
     "metadata": {},
     "output_type": "execute_result"
    }
   ],
   "source": [
    "goa_proforma_A.rename(columns = {'Unnamed: 0' : 'Sr.No', \n",
    "                                 'Unnamed: 1' : 'Name of the District along with State', \n",
    "                                 'Unnamed: 2' : 'Name of Village Panchayat', \n",
    "                                 'Unnamed: 3' : 'Name of Sarpanch', \n",
    "                                 'Unnamed: 4' : 'Address with Pin Code', \n",
    "                                 'Unnamed: 5' : 'Mobile No./Email Address'}, inplace = True)\n",
    "goa_proforma_A = goa_proforma_A.iloc[1:, :]\n",
    "goa_proforma_A = goa_proforma_A.reset_index(drop = True)\n",
    "goa_proforma_A"
   ]
  },
  {
   "cell_type": "markdown",
   "id": "exotic-registration",
   "metadata": {},
   "source": [
    "Cleaning up the data in Sheet B:"
   ]
  },
  {
   "cell_type": "code",
   "execution_count": 99,
   "id": "employed-connectivity",
   "metadata": {},
   "outputs": [
    {
     "data": {
      "text/html": [
       "<div>\n",
       "<style scoped>\n",
       "    .dataframe tbody tr th:only-of-type {\n",
       "        vertical-align: middle;\n",
       "    }\n",
       "\n",
       "    .dataframe tbody tr th {\n",
       "        vertical-align: top;\n",
       "    }\n",
       "\n",
       "    .dataframe thead th {\n",
       "        text-align: right;\n",
       "    }\n",
       "</style>\n",
       "<table border=\"1\" class=\"dataframe\">\n",
       "  <thead>\n",
       "    <tr style=\"text-align: right;\">\n",
       "      <th></th>\n",
       "      <th>Sr.No</th>\n",
       "      <th>Name of the District along with State</th>\n",
       "      <th>Name of Gram Panchayat</th>\n",
       "      <th>Gram Panchayat Bhawan Adress with Pin Code</th>\n",
       "    </tr>\n",
       "  </thead>\n",
       "  <tbody>\n",
       "    <tr>\n",
       "      <th>0</th>\n",
       "      <td>1</td>\n",
       "      <td>North Goa, Goa</td>\n",
       "      <td>Dhargalim</td>\n",
       "      <td>Dhargalim, Pernem - Goa 403513</td>\n",
       "    </tr>\n",
       "    <tr>\n",
       "      <th>1</th>\n",
       "      <td>2</td>\n",
       "      <td>North Goa, Goa</td>\n",
       "      <td>Arambol</td>\n",
       "      <td>Arambol, Pernem - Goa 403524</td>\n",
       "    </tr>\n",
       "    <tr>\n",
       "      <th>2</th>\n",
       "      <td>3</td>\n",
       "      <td>North Goa, Goa</td>\n",
       "      <td>Khajne-Amere-Porascadem</td>\n",
       "      <td>Khajne-Amere-Porascadem, Pernem - Goa 403512</td>\n",
       "    </tr>\n",
       "    <tr>\n",
       "      <th>3</th>\n",
       "      <td>4</td>\n",
       "      <td>North Goa, Goa</td>\n",
       "      <td>Parcem</td>\n",
       "      <td>Parcem, Pernem - Goa 403512</td>\n",
       "    </tr>\n",
       "    <tr>\n",
       "      <th>4</th>\n",
       "      <td>5</td>\n",
       "      <td>North Goa, Goa</td>\n",
       "      <td>Ibrampur-Hankahne</td>\n",
       "      <td>Ibrampur-Hankahne, Pernem - Goa 403503</td>\n",
       "    </tr>\n",
       "    <tr>\n",
       "      <th>...</th>\n",
       "      <td>...</td>\n",
       "      <td>...</td>\n",
       "      <td>...</td>\n",
       "      <td>...</td>\n",
       "    </tr>\n",
       "    <tr>\n",
       "      <th>182</th>\n",
       "      <td>183</td>\n",
       "      <td>South Goa, Goa</td>\n",
       "      <td>Majorda Utorda Calata</td>\n",
       "      <td>Majorda Utorda Calata, Mormugoa - Goa</td>\n",
       "    </tr>\n",
       "    <tr>\n",
       "      <th>183</th>\n",
       "      <td>184</td>\n",
       "      <td>South Goa, Goa</td>\n",
       "      <td>Chicalim</td>\n",
       "      <td>Chicalim, Mormugoa - Goa</td>\n",
       "    </tr>\n",
       "    <tr>\n",
       "      <th>184</th>\n",
       "      <td>185</td>\n",
       "      <td>South Goa, Goa</td>\n",
       "      <td>Cansaulim-Arossim-Cuelim</td>\n",
       "      <td>Cansaulim-Arossim-Cuelim, Mormugoa - Goa</td>\n",
       "    </tr>\n",
       "    <tr>\n",
       "      <th>185</th>\n",
       "      <td>186</td>\n",
       "      <td>South Goa, Goa</td>\n",
       "      <td>Velsao-Pale-Issorcim</td>\n",
       "      <td>Velsao-Pale-Issorcim, Mormugoa - Goa</td>\n",
       "    </tr>\n",
       "    <tr>\n",
       "      <th>186</th>\n",
       "      <td>187</td>\n",
       "      <td>South Goa, Goa</td>\n",
       "      <td>Sancoale</td>\n",
       "      <td>Sancoale,Mormugoa - Goa</td>\n",
       "    </tr>\n",
       "  </tbody>\n",
       "</table>\n",
       "<p>187 rows × 4 columns</p>\n",
       "</div>"
      ],
      "text/plain": [
       "    Sr.No Name of the District along with State    Name of Gram Panchayat  \\\n",
       "0       1                        North Goa, Goa                 Dhargalim   \n",
       "1       2                        North Goa, Goa                   Arambol   \n",
       "2       3                        North Goa, Goa   Khajne-Amere-Porascadem   \n",
       "3       4                        North Goa, Goa                    Parcem   \n",
       "4       5                        North Goa, Goa         Ibrampur-Hankahne   \n",
       "..    ...                                   ...                       ...   \n",
       "182   183                        South Goa, Goa     Majorda Utorda Calata   \n",
       "183   184                        South Goa, Goa                  Chicalim   \n",
       "184   185                        South Goa, Goa  Cansaulim-Arossim-Cuelim   \n",
       "185   186                        South Goa, Goa      Velsao-Pale-Issorcim   \n",
       "186   187                        South Goa, Goa                  Sancoale   \n",
       "\n",
       "       Gram Panchayat Bhawan Adress with Pin Code  \n",
       "0                  Dhargalim, Pernem - Goa 403513  \n",
       "1                    Arambol, Pernem - Goa 403524  \n",
       "2    Khajne-Amere-Porascadem, Pernem - Goa 403512  \n",
       "3                     Parcem, Pernem - Goa 403512  \n",
       "4          Ibrampur-Hankahne, Pernem - Goa 403503  \n",
       "..                                            ...  \n",
       "182         Majorda Utorda Calata, Mormugoa - Goa  \n",
       "183                      Chicalim, Mormugoa - Goa  \n",
       "184      Cansaulim-Arossim-Cuelim, Mormugoa - Goa  \n",
       "185          Velsao-Pale-Issorcim, Mormugoa - Goa  \n",
       "186                       Sancoale,Mormugoa - Goa  \n",
       "\n",
       "[187 rows x 4 columns]"
      ]
     },
     "execution_count": 99,
     "metadata": {},
     "output_type": "execute_result"
    }
   ],
   "source": [
    "goa_proforma_B.rename(columns = {'PROFORMA' : 'Sr.No', \n",
    "                                 'Unnamed: 1' : 'Name of the District along with State', \n",
    "                                 'Unnamed: 2' : 'Name of Gram Panchayat', \n",
    "                                 'Unnamed: 3' : 'Gram Panchayat Bhawan Adress with Pin Code'}, inplace = True)\n",
    "goa_proforma_B = goa_proforma_B.iloc[4:, :]\n",
    "goa_proforma_B = goa_proforma_B.reset_index(drop = True)\n",
    "goa_proforma_B"
   ]
  },
  {
   "cell_type": "markdown",
   "id": "friendly-parking",
   "metadata": {},
   "source": [
    "Cleaning up the data in Sheet C:"
   ]
  },
  {
   "cell_type": "code",
   "execution_count": 100,
   "id": "imperial-illustration",
   "metadata": {},
   "outputs": [
    {
     "data": {
      "text/html": [
       "<div>\n",
       "<style scoped>\n",
       "    .dataframe tbody tr th:only-of-type {\n",
       "        vertical-align: middle;\n",
       "    }\n",
       "\n",
       "    .dataframe tbody tr th {\n",
       "        vertical-align: top;\n",
       "    }\n",
       "\n",
       "    .dataframe thead th {\n",
       "        text-align: right;\n",
       "    }\n",
       "</style>\n",
       "<table border=\"1\" class=\"dataframe\">\n",
       "  <thead>\n",
       "    <tr style=\"text-align: right;\">\n",
       "      <th></th>\n",
       "      <th>Sr.No</th>\n",
       "      <th>Name of the District along with State</th>\n",
       "      <th>Name of Panchayat Officer (V.P. Secretary)</th>\n",
       "      <th>Mobile No.</th>\n",
       "      <th>Email Address</th>\n",
       "    </tr>\n",
       "  </thead>\n",
       "  <tbody>\n",
       "    <tr>\n",
       "      <th>0</th>\n",
       "      <td>1</td>\n",
       "      <td>North Goa, Goa</td>\n",
       "      <td>Shri. Subodh Prabhu</td>\n",
       "      <td>9970451419</td>\n",
       "      <td>NaN</td>\n",
       "    </tr>\n",
       "    <tr>\n",
       "      <th>1</th>\n",
       "      <td>2</td>\n",
       "      <td>North Goa, Goa</td>\n",
       "      <td>Shri.  Dharmendra Govekar</td>\n",
       "      <td>9764364603</td>\n",
       "      <td>NaN</td>\n",
       "    </tr>\n",
       "    <tr>\n",
       "      <th>2</th>\n",
       "      <td>3</td>\n",
       "      <td>North Goa, Goa</td>\n",
       "      <td>Shri. Rui Cardozo</td>\n",
       "      <td>9822282013</td>\n",
       "      <td>NaN</td>\n",
       "    </tr>\n",
       "    <tr>\n",
       "      <th>3</th>\n",
       "      <td>4</td>\n",
       "      <td>North Goa, Goa</td>\n",
       "      <td>Shri. Rajesh Assolkar</td>\n",
       "      <td>9764007587</td>\n",
       "      <td>NaN</td>\n",
       "    </tr>\n",
       "    <tr>\n",
       "      <th>4</th>\n",
       "      <td>5</td>\n",
       "      <td>North Goa, Goa</td>\n",
       "      <td>Shri. Amit Prabhu</td>\n",
       "      <td>9764512999</td>\n",
       "      <td>NaN</td>\n",
       "    </tr>\n",
       "    <tr>\n",
       "      <th>...</th>\n",
       "      <td>...</td>\n",
       "      <td>...</td>\n",
       "      <td>...</td>\n",
       "      <td>...</td>\n",
       "      <td>...</td>\n",
       "    </tr>\n",
       "    <tr>\n",
       "      <th>180</th>\n",
       "      <td>181</td>\n",
       "      <td>South Goa, Goa</td>\n",
       "      <td>Shri Babuso M Tilve</td>\n",
       "      <td>9420107912</td>\n",
       "      <td>NaN</td>\n",
       "    </tr>\n",
       "    <tr>\n",
       "      <th>181</th>\n",
       "      <td>182</td>\n",
       "      <td>South Goa, Goa</td>\n",
       "      <td>Smt. Gauri M. Velip</td>\n",
       "      <td>9421255686</td>\n",
       "      <td>NaN</td>\n",
       "    </tr>\n",
       "    <tr>\n",
       "      <th>182</th>\n",
       "      <td>183</td>\n",
       "      <td>South Goa, Goa</td>\n",
       "      <td>Shri. Dinkar V. Kossambe</td>\n",
       "      <td>9423503452</td>\n",
       "      <td>NaN</td>\n",
       "    </tr>\n",
       "    <tr>\n",
       "      <th>183</th>\n",
       "      <td>184</td>\n",
       "      <td>South Goa, Goa</td>\n",
       "      <td>Shri Gurudas Gaonkar</td>\n",
       "      <td>8554904684</td>\n",
       "      <td>NaN</td>\n",
       "    </tr>\n",
       "    <tr>\n",
       "      <th>184</th>\n",
       "      <td>185</td>\n",
       "      <td>South Goa, Goa</td>\n",
       "      <td>Shri. John Colaco</td>\n",
       "      <td>9921170574</td>\n",
       "      <td>NaN</td>\n",
       "    </tr>\n",
       "  </tbody>\n",
       "</table>\n",
       "<p>185 rows × 5 columns</p>\n",
       "</div>"
      ],
      "text/plain": [
       "    Sr.No Name of the District along with State  \\\n",
       "0       1                        North Goa, Goa   \n",
       "1       2                        North Goa, Goa   \n",
       "2       3                        North Goa, Goa   \n",
       "3       4                        North Goa, Goa   \n",
       "4       5                        North Goa, Goa   \n",
       "..    ...                                   ...   \n",
       "180   181                        South Goa, Goa   \n",
       "181   182                        South Goa, Goa   \n",
       "182   183                        South Goa, Goa   \n",
       "183   184                        South Goa, Goa   \n",
       "184   185                        South Goa, Goa   \n",
       "\n",
       "    Name of Panchayat Officer (V.P. Secretary)  Mobile No. Email Address  \n",
       "0                          Shri. Subodh Prabhu  9970451419           NaN  \n",
       "1                    Shri.  Dharmendra Govekar  9764364603           NaN  \n",
       "2                            Shri. Rui Cardozo  9822282013           NaN  \n",
       "3                        Shri. Rajesh Assolkar  9764007587           NaN  \n",
       "4                            Shri. Amit Prabhu  9764512999           NaN  \n",
       "..                                         ...         ...           ...  \n",
       "180                        Shri Babuso M Tilve  9420107912           NaN  \n",
       "181                        Smt. Gauri M. Velip  9421255686           NaN  \n",
       "182                   Shri. Dinkar V. Kossambe  9423503452           NaN  \n",
       "183                       Shri Gurudas Gaonkar  8554904684           NaN  \n",
       "184                          Shri. John Colaco  9921170574           NaN  \n",
       "\n",
       "[185 rows x 5 columns]"
      ]
     },
     "execution_count": 100,
     "metadata": {},
     "output_type": "execute_result"
    }
   ],
   "source": [
    "goa_proforma_C.rename(columns = {'PROFORMA' : 'Sr.No', \n",
    "                                 'Unnamed: 1' : 'Name of the District along with State', \n",
    "                                 'Unnamed: 2' : 'Name of Panchayat Officer (V.P. Secretary)', \n",
    "                                 'Unnamed: 3' : 'Mobile No.', \n",
    "                                 'Unnamed: 4' : 'Email Address'}, inplace = True)\n",
    "goa_proforma_C = goa_proforma_C.iloc[4:, :]\n",
    "goa_proforma_C = goa_proforma_C.reset_index(drop = True)\n",
    "goa_proforma_C"
   ]
  },
  {
   "cell_type": "markdown",
   "id": "supposed-angola",
   "metadata": {},
   "source": [
    "Cleaning up the data in Sheet D:"
   ]
  },
  {
   "cell_type": "code",
   "execution_count": 101,
   "id": "wooden-breath",
   "metadata": {},
   "outputs": [
    {
     "data": {
      "text/html": [
       "<div>\n",
       "<style scoped>\n",
       "    .dataframe tbody tr th:only-of-type {\n",
       "        vertical-align: middle;\n",
       "    }\n",
       "\n",
       "    .dataframe tbody tr th {\n",
       "        vertical-align: top;\n",
       "    }\n",
       "\n",
       "    .dataframe thead th {\n",
       "        text-align: right;\n",
       "    }\n",
       "</style>\n",
       "<table border=\"1\" class=\"dataframe\">\n",
       "  <thead>\n",
       "    <tr style=\"text-align: right;\">\n",
       "      <th></th>\n",
       "      <th>PROFORMA</th>\n",
       "      <th>Unnamed: 1</th>\n",
       "      <th>Unnamed: 2</th>\n",
       "      <th>Unnamed: 3</th>\n",
       "      <th>Unnamed: 4</th>\n",
       "    </tr>\n",
       "  </thead>\n",
       "  <tbody>\n",
       "    <tr>\n",
       "      <th>0</th>\n",
       "      <td>NaN</td>\n",
       "      <td>NaN</td>\n",
       "      <td>NaN</td>\n",
       "      <td>NaN</td>\n",
       "      <td>NaN</td>\n",
       "    </tr>\n",
       "    <tr>\n",
       "      <th>1</th>\n",
       "      <td>(D)</td>\n",
       "      <td>NaN</td>\n",
       "      <td>NaN</td>\n",
       "      <td>NaN</td>\n",
       "      <td>NaN</td>\n",
       "    </tr>\n",
       "    <tr>\n",
       "      <th>2</th>\n",
       "      <td>NaN</td>\n",
       "      <td>NaN</td>\n",
       "      <td>NaN</td>\n",
       "      <td>NaN</td>\n",
       "      <td>NaN</td>\n",
       "    </tr>\n",
       "    <tr>\n",
       "      <th>3</th>\n",
       "      <td>Sr.No</td>\n",
       "      <td>Name of the District along with State</td>\n",
       "      <td>Name of Block Panchayat President</td>\n",
       "      <td>Address with Pin Code</td>\n",
       "      <td>Mobile No. / Email Address</td>\n",
       "    </tr>\n",
       "    <tr>\n",
       "      <th>4</th>\n",
       "      <td>1</td>\n",
       "      <td>GOA</td>\n",
       "      <td>NaN</td>\n",
       "      <td>NaN</td>\n",
       "      <td>NaN</td>\n",
       "    </tr>\n",
       "  </tbody>\n",
       "</table>\n",
       "</div>"
      ],
      "text/plain": [
       "  PROFORMA                             Unnamed: 1  \\\n",
       "0      NaN                                    NaN   \n",
       "1      (D)                                    NaN   \n",
       "2      NaN                                    NaN   \n",
       "3    Sr.No  Name of the District along with State   \n",
       "4        1                                    GOA   \n",
       "\n",
       "                          Unnamed: 2             Unnamed: 3  \\\n",
       "0                                NaN                    NaN   \n",
       "1                                NaN                    NaN   \n",
       "2                                NaN                    NaN   \n",
       "3  Name of Block Panchayat President  Address with Pin Code   \n",
       "4                                NaN                    NaN   \n",
       "\n",
       "                   Unnamed: 4  \n",
       "0                         NaN  \n",
       "1                         NaN  \n",
       "2                         NaN  \n",
       "3  Mobile No. / Email Address  \n",
       "4                         NaN  "
      ]
     },
     "execution_count": 101,
     "metadata": {},
     "output_type": "execute_result"
    }
   ],
   "source": [
    "goa_proforma_D"
   ]
  },
  {
   "cell_type": "markdown",
   "id": "under-genealogy",
   "metadata": {},
   "source": [
    "Sheet D contains no information, so we can ignore it and proceed with cleaning the other sheets."
   ]
  },
  {
   "cell_type": "markdown",
   "id": "lined-following",
   "metadata": {},
   "source": [
    "Cleaning up the data in Sheet E:"
   ]
  },
  {
   "cell_type": "code",
   "execution_count": 102,
   "id": "bibliographic-peoples",
   "metadata": {},
   "outputs": [
    {
     "data": {
      "text/html": [
       "<div>\n",
       "<style scoped>\n",
       "    .dataframe tbody tr th:only-of-type {\n",
       "        vertical-align: middle;\n",
       "    }\n",
       "\n",
       "    .dataframe tbody tr th {\n",
       "        vertical-align: top;\n",
       "    }\n",
       "\n",
       "    .dataframe thead th {\n",
       "        text-align: right;\n",
       "    }\n",
       "</style>\n",
       "<table border=\"1\" class=\"dataframe\">\n",
       "  <thead>\n",
       "    <tr style=\"text-align: right;\">\n",
       "      <th></th>\n",
       "      <th>Sr.No</th>\n",
       "      <th>Name of District along with State</th>\n",
       "      <th>Name of District Panchayat President</th>\n",
       "      <th>Address with Pin Code</th>\n",
       "      <th>Mobile No. / Email Address</th>\n",
       "    </tr>\n",
       "  </thead>\n",
       "  <tbody>\n",
       "    <tr>\n",
       "      <th>0</th>\n",
       "      <td>1</td>\n",
       "      <td>North Goa, GOA</td>\n",
       "      <td>Smt.Ankita L Navelkar - Adhyaksha</td>\n",
       "      <td>H.No 247, Lalbag, Vithalpur, P.O. Sanquelim, B...</td>\n",
       "      <td>9923446211</td>\n",
       "    </tr>\n",
       "    <tr>\n",
       "      <th>1</th>\n",
       "      <td>2</td>\n",
       "      <td>North Goa, GOA</td>\n",
       "      <td>Shri. Vasudev L Korgaonkar - Upadhyaksha</td>\n",
       "      <td>H.No 353, Khalap wado, Canca, Bardez - Goa</td>\n",
       "      <td>9850453006</td>\n",
       "    </tr>\n",
       "    <tr>\n",
       "      <th>2</th>\n",
       "      <td>3</td>\n",
       "      <td>South Goa, GOA</td>\n",
       "      <td>Shri. Navnaath G. Naik - Adhyaksha</td>\n",
       "      <td>H.No 164/1, Bhaati, Sanguem-Goa</td>\n",
       "      <td>9421240037</td>\n",
       "    </tr>\n",
       "    <tr>\n",
       "      <th>3</th>\n",
       "      <td>4</td>\n",
       "      <td>South Goa, GOA</td>\n",
       "      <td>Smt. Chitra Parab Fadte  - Upadhyaksha</td>\n",
       "      <td>H.No 73, Near Mal, Kharwada, Bandora, Ponda - Goa</td>\n",
       "      <td>9049666058</td>\n",
       "    </tr>\n",
       "  </tbody>\n",
       "</table>\n",
       "</div>"
      ],
      "text/plain": [
       "  Sr.No Name of District along with State  \\\n",
       "0     1                    North Goa, GOA   \n",
       "1     2                    North Goa, GOA   \n",
       "2     3                    South Goa, GOA   \n",
       "3     4                    South Goa, GOA   \n",
       "\n",
       "       Name of District Panchayat President  \\\n",
       "0         Smt.Ankita L Navelkar - Adhyaksha   \n",
       "1  Shri. Vasudev L Korgaonkar - Upadhyaksha   \n",
       "2        Shri. Navnaath G. Naik - Adhyaksha   \n",
       "3    Smt. Chitra Parab Fadte  - Upadhyaksha   \n",
       "\n",
       "                               Address with Pin Code  \\\n",
       "0  H.No 247, Lalbag, Vithalpur, P.O. Sanquelim, B...   \n",
       "1         H.No 353, Khalap wado, Canca, Bardez - Goa   \n",
       "2                    H.No 164/1, Bhaati, Sanguem-Goa   \n",
       "3  H.No 73, Near Mal, Kharwada, Bandora, Ponda - Goa   \n",
       "\n",
       "  Mobile No. / Email Address  \n",
       "0                 9923446211  \n",
       "1                 9850453006  \n",
       "2                 9421240037  \n",
       "3                 9049666058  "
      ]
     },
     "execution_count": 102,
     "metadata": {},
     "output_type": "execute_result"
    }
   ],
   "source": [
    "goa_proforma_E.rename(columns = {'(E)' : 'Sr.No', \n",
    "                                 'Unnamed: 1' : 'Name of District along with State', \n",
    "                                 'Unnamed: 2' : 'Name of District Panchayat President', \n",
    "                                 'Unnamed: 3' : 'Address with Pin Code', \n",
    "                                 'Unnamed: 4' : 'Mobile No. / Email Address'}, inplace = True)\n",
    "goa_proforma_E = goa_proforma_E.iloc[2:, :]\n",
    "goa_proforma_E = goa_proforma_E.reset_index(drop = True)\n",
    "goa_proforma_E"
   ]
  },
  {
   "cell_type": "markdown",
   "id": "better-glasgow",
   "metadata": {},
   "source": [
    "Cleaning up the data in Sheet F:"
   ]
  },
  {
   "cell_type": "code",
   "execution_count": 103,
   "id": "committed-foster",
   "metadata": {},
   "outputs": [
    {
     "data": {
      "text/html": [
       "<div>\n",
       "<style scoped>\n",
       "    .dataframe tbody tr th:only-of-type {\n",
       "        vertical-align: middle;\n",
       "    }\n",
       "\n",
       "    .dataframe tbody tr th {\n",
       "        vertical-align: top;\n",
       "    }\n",
       "\n",
       "    .dataframe thead th {\n",
       "        text-align: right;\n",
       "    }\n",
       "</style>\n",
       "<table border=\"1\" class=\"dataframe\">\n",
       "  <thead>\n",
       "    <tr style=\"text-align: right;\">\n",
       "      <th></th>\n",
       "      <th>PROFORMA</th>\n",
       "      <th>Unnamed: 1</th>\n",
       "      <th>Unnamed: 2</th>\n",
       "      <th>Unnamed: 3</th>\n",
       "      <th>Unnamed: 4</th>\n",
       "    </tr>\n",
       "  </thead>\n",
       "  <tbody>\n",
       "    <tr>\n",
       "      <th>0</th>\n",
       "      <td>NaN</td>\n",
       "      <td>NaN</td>\n",
       "      <td>NaN</td>\n",
       "      <td>NaN</td>\n",
       "      <td>NaN</td>\n",
       "    </tr>\n",
       "    <tr>\n",
       "      <th>1</th>\n",
       "      <td>(F)</td>\n",
       "      <td>NaN</td>\n",
       "      <td>NaN</td>\n",
       "      <td>NaN</td>\n",
       "      <td>NaN</td>\n",
       "    </tr>\n",
       "    <tr>\n",
       "      <th>2</th>\n",
       "      <td>NaN</td>\n",
       "      <td>NaN</td>\n",
       "      <td>NaN</td>\n",
       "      <td>NaN</td>\n",
       "      <td>NaN</td>\n",
       "    </tr>\n",
       "    <tr>\n",
       "      <th>3</th>\n",
       "      <td>Sr.No</td>\n",
       "      <td>Name of the State</td>\n",
       "      <td>Name of the Nodal Officer / Designation</td>\n",
       "      <td>Mobile No. / Email Address</td>\n",
       "      <td>Postal Details</td>\n",
       "    </tr>\n",
       "    <tr>\n",
       "      <th>4</th>\n",
       "      <td>1</td>\n",
       "      <td>GOA</td>\n",
       "      <td>Shri. Gurudas Pilarnekar, Director, Directorat...</td>\n",
       "      <td>9763554136 dir-panc.goa@nic.in</td>\n",
       "      <td>3rd lift, 3rd floor, Junta House, Panaji - Goa</td>\n",
       "    </tr>\n",
       "  </tbody>\n",
       "</table>\n",
       "</div>"
      ],
      "text/plain": [
       "  PROFORMA         Unnamed: 1  \\\n",
       "0      NaN                NaN   \n",
       "1      (F)                NaN   \n",
       "2      NaN                NaN   \n",
       "3    Sr.No  Name of the State   \n",
       "4        1                GOA   \n",
       "\n",
       "                                          Unnamed: 2  \\\n",
       "0                                                NaN   \n",
       "1                                                NaN   \n",
       "2                                                NaN   \n",
       "3            Name of the Nodal Officer / Designation   \n",
       "4  Shri. Gurudas Pilarnekar, Director, Directorat...   \n",
       "\n",
       "                       Unnamed: 3  \\\n",
       "0                             NaN   \n",
       "1                             NaN   \n",
       "2                             NaN   \n",
       "3      Mobile No. / Email Address   \n",
       "4  9763554136 dir-panc.goa@nic.in   \n",
       "\n",
       "                                       Unnamed: 4  \n",
       "0                                             NaN  \n",
       "1                                             NaN  \n",
       "2                                             NaN  \n",
       "3                                  Postal Details  \n",
       "4  3rd lift, 3rd floor, Junta House, Panaji - Goa  "
      ]
     },
     "execution_count": 103,
     "metadata": {},
     "output_type": "execute_result"
    }
   ],
   "source": [
    "goa_proforma_F"
   ]
  },
  {
   "cell_type": "code",
   "execution_count": 104,
   "id": "banned-hello",
   "metadata": {},
   "outputs": [
    {
     "data": {
      "text/html": [
       "<div>\n",
       "<style scoped>\n",
       "    .dataframe tbody tr th:only-of-type {\n",
       "        vertical-align: middle;\n",
       "    }\n",
       "\n",
       "    .dataframe tbody tr th {\n",
       "        vertical-align: top;\n",
       "    }\n",
       "\n",
       "    .dataframe thead th {\n",
       "        text-align: right;\n",
       "    }\n",
       "</style>\n",
       "<table border=\"1\" class=\"dataframe\">\n",
       "  <thead>\n",
       "    <tr style=\"text-align: right;\">\n",
       "      <th></th>\n",
       "      <th>Sr.No</th>\n",
       "      <th>Name of the State</th>\n",
       "      <th>Name of the Nodal Officer / Designation</th>\n",
       "      <th>Mobile No. / Email Address</th>\n",
       "      <th>Postal Details</th>\n",
       "    </tr>\n",
       "  </thead>\n",
       "  <tbody>\n",
       "    <tr>\n",
       "      <th>0</th>\n",
       "      <td>1</td>\n",
       "      <td>GOA</td>\n",
       "      <td>Shri. Gurudas Pilarnekar, Director, Directorat...</td>\n",
       "      <td>9763554136 dir-panc.goa@nic.in</td>\n",
       "      <td>3rd lift, 3rd floor, Junta House, Panaji - Goa</td>\n",
       "    </tr>\n",
       "  </tbody>\n",
       "</table>\n",
       "</div>"
      ],
      "text/plain": [
       "  Sr.No Name of the State            Name of the Nodal Officer / Designation  \\\n",
       "0     1               GOA  Shri. Gurudas Pilarnekar, Director, Directorat...   \n",
       "\n",
       "       Mobile No. / Email Address  \\\n",
       "0  9763554136 dir-panc.goa@nic.in   \n",
       "\n",
       "                                   Postal Details  \n",
       "0  3rd lift, 3rd floor, Junta House, Panaji - Goa  "
      ]
     },
     "execution_count": 104,
     "metadata": {},
     "output_type": "execute_result"
    }
   ],
   "source": [
    "goa_proforma_F.rename(columns = {'PROFORMA' : 'Sr.No', \n",
    "                                 'Unnamed: 1' : 'Name of the State', \n",
    "                                 'Unnamed: 2' : 'Name of the Nodal Officer / Designation', \n",
    "                                 'Unnamed: 3' : 'Mobile No. / Email Address', \n",
    "                                 'Unnamed: 4' : 'Postal Details'}, inplace = True)\n",
    "goa_proforma_F = goa_proforma_F.iloc[4:, :]\n",
    "goa_proforma_F = goa_proforma_F.reset_index(drop = True)\n",
    "goa_proforma_F"
   ]
  },
  {
   "cell_type": "markdown",
   "id": "blessed-baker",
   "metadata": {},
   "source": [
    "**What's in this dataset?** <a class=\"anchor\" id=\"3\"></a>"
   ]
  },
  {
   "cell_type": "code",
   "execution_count": 105,
   "id": "constant-sheet",
   "metadata": {},
   "outputs": [
    {
     "name": "stdout",
     "output_type": "stream",
     "text": [
      "Sheet A:\n",
      "Shape: (187, 6)\n",
      "Rows: 187\n",
      "Columns: 6\n",
      "Each row is a Sarpanch in Goa.\n",
      "\n",
      "\n",
      "Sheet B:\n",
      "Shape: (187, 4)\n",
      "Rows: 187\n",
      "Columns: 4\n",
      "Each row is a Gram Panchayat in Goa.\n",
      "\n",
      "\n",
      "Sheet C:\n",
      "Shape: (185, 5)\n",
      "Rows: 185\n",
      "Columns: 5\n",
      "Each row is a Panchayat Officer in Goa.\n",
      "\n",
      "\n",
      "Sheet E:\n",
      "Shape: (4, 5)\n",
      "Rows: 4\n",
      "Columns: 5\n",
      "Each row is a Disctrict Panchayat President in Goa.\n",
      "\n",
      "\n",
      "Sheet F:\n",
      "Shape: (1, 5)\n",
      "Rows: 1\n",
      "Columns: 5\n",
      "Each row is a Nodal Officer in Goa.\n"
     ]
    }
   ],
   "source": [
    "print(\"Sheet A:\")\n",
    "print(\"Shape:\", goa_proforma_A.shape)\n",
    "print(\"Rows:\", goa_proforma_A.shape[0])\n",
    "print(\"Columns:\", goa_proforma_A.shape[1])\n",
    "print(\"Each row is a Sarpanch in Goa.\")\n",
    "\n",
    "print('\\n')\n",
    "print(\"Sheet B:\")\n",
    "print(\"Shape:\", goa_proforma_B.shape)\n",
    "print(\"Rows:\", goa_proforma_B.shape[0])\n",
    "print(\"Columns:\", goa_proforma_B.shape[1])\n",
    "print(\"Each row is a Gram Panchayat in Goa.\")\n",
    "\n",
    "print('\\n')\n",
    "print(\"Sheet C:\")\n",
    "print(\"Shape:\", goa_proforma_C.shape)\n",
    "print(\"Rows:\", goa_proforma_C.shape[0])\n",
    "print(\"Columns:\", goa_proforma_C.shape[1])\n",
    "print(\"Each row is a Panchayat Officer in Goa.\")\n",
    "\n",
    "print('\\n')\n",
    "print(\"Sheet E:\")\n",
    "print(\"Shape:\", goa_proforma_E.shape)\n",
    "print(\"Rows:\", goa_proforma_E.shape[0])\n",
    "print(\"Columns:\", goa_proforma_E.shape[1])\n",
    "print(\"Each row is a Disctrict Panchayat President in Goa.\")\n",
    "\n",
    "print('\\n')\n",
    "print(\"Sheet F:\")\n",
    "print(\"Shape:\", goa_proforma_F.shape)\n",
    "print(\"Rows:\", goa_proforma_F.shape[0])\n",
    "print(\"Columns:\", goa_proforma_F.shape[1])\n",
    "print(\"Each row is a Nodal Officer in Goa.\")"
   ]
  },
  {
   "cell_type": "markdown",
   "id": "entire-surprise",
   "metadata": {},
   "source": [
    "**Codebook** <a class=\"anchor\" id=\"4\"></a>"
   ]
  },
  {
   "cell_type": "code",
   "execution_count": 106,
   "id": "alone-disease",
   "metadata": {},
   "outputs": [
    {
     "name": "stdout",
     "output_type": "stream",
     "text": [
      "Codebook for Sheet A:\n"
     ]
    },
    {
     "data": {
      "text/html": [
       "<style  type=\"text/css\" >\n",
       "#T_df6ab_row0_col1,#T_df6ab_row1_col1,#T_df6ab_row2_col1,#T_df6ab_row3_col1,#T_df6ab_row4_col1,#T_df6ab_row5_col1{\n",
       "            width:  600px;\n",
       "        }</style><table id=\"T_df6ab_\" ><thead>    <tr>        <th class=\"blank level0\" ></th>        <th class=\"col_heading level0 col0\" >Column Name</th>        <th class=\"col_heading level0 col1\" >Description</th>        <th class=\"col_heading level0 col2\" >Type</th>    </tr></thead><tbody>\n",
       "                <tr>\n",
       "                        <th id=\"T_df6ab_level0_row0\" class=\"row_heading level0 row0\" >0</th>\n",
       "                        <td id=\"T_df6ab_row0_col0\" class=\"data row0 col0\" >Sr.No</td>\n",
       "                        <td id=\"T_df6ab_row0_col1\" class=\"data row0 col1\" >Meant for counting, is a null column.</td>\n",
       "                        <td id=\"T_df6ab_row0_col2\" class=\"data row0 col2\" >object</td>\n",
       "            </tr>\n",
       "            <tr>\n",
       "                        <th id=\"T_df6ab_level0_row1\" class=\"row_heading level0 row1\" >1</th>\n",
       "                        <td id=\"T_df6ab_row1_col0\" class=\"data row1 col0\" >Name of the District along with State</td>\n",
       "                        <td id=\"T_df6ab_row1_col1\" class=\"data row1 col1\" >Name of district in Goa.</td>\n",
       "                        <td id=\"T_df6ab_row1_col2\" class=\"data row1 col2\" >object</td>\n",
       "            </tr>\n",
       "            <tr>\n",
       "                        <th id=\"T_df6ab_level0_row2\" class=\"row_heading level0 row2\" >2</th>\n",
       "                        <td id=\"T_df6ab_row2_col0\" class=\"data row2 col0\" >Name of Village Panchayat</td>\n",
       "                        <td id=\"T_df6ab_row2_col1\" class=\"data row2 col1\" >Name of the village panchayat the Sarpanch is elected in.</td>\n",
       "                        <td id=\"T_df6ab_row2_col2\" class=\"data row2 col2\" >object</td>\n",
       "            </tr>\n",
       "            <tr>\n",
       "                        <th id=\"T_df6ab_level0_row3\" class=\"row_heading level0 row3\" >3</th>\n",
       "                        <td id=\"T_df6ab_row3_col0\" class=\"data row3 col0\" >Name of Sarpanch</td>\n",
       "                        <td id=\"T_df6ab_row3_col1\" class=\"data row3 col1\" >Name of the Sarpanch (elected offical).</td>\n",
       "                        <td id=\"T_df6ab_row3_col2\" class=\"data row3 col2\" >object</td>\n",
       "            </tr>\n",
       "            <tr>\n",
       "                        <th id=\"T_df6ab_level0_row4\" class=\"row_heading level0 row4\" >4</th>\n",
       "                        <td id=\"T_df6ab_row4_col0\" class=\"data row4 col0\" >Address with Pin Code</td>\n",
       "                        <td id=\"T_df6ab_row4_col1\" class=\"data row4 col1\" >The address and pin code of the Sarpanch.</td>\n",
       "                        <td id=\"T_df6ab_row4_col2\" class=\"data row4 col2\" >object</td>\n",
       "            </tr>\n",
       "            <tr>\n",
       "                        <th id=\"T_df6ab_level0_row5\" class=\"row_heading level0 row5\" >5</th>\n",
       "                        <td id=\"T_df6ab_row5_col0\" class=\"data row5 col0\" >Mobile No./Email Address</td>\n",
       "                        <td id=\"T_df6ab_row5_col1\" class=\"data row5 col1\" >The mobile phone number or email address of the Sarpanch.</td>\n",
       "                        <td id=\"T_df6ab_row5_col2\" class=\"data row5 col2\" >object</td>\n",
       "            </tr>\n",
       "    </tbody></table>"
      ],
      "text/plain": [
       "<pandas.io.formats.style.Styler at 0x121309f40>"
      ]
     },
     "execution_count": 106,
     "metadata": {},
     "output_type": "execute_result"
    }
   ],
   "source": [
    "print(\"Codebook for Sheet A:\")\n",
    "goa_proforma_A_columns = [column for column in goa_proforma_A.columns]\n",
    "goa_proforma_A_description = [\"Meant for counting, is a null column.\", \n",
    "                              \"Name of district in Goa.\", \n",
    "                              \"Name of the village panchayat the Sarpanch is elected in.\", \n",
    "                              \"Name of the Sarpanch (elected offical).\", \n",
    "                              \"The address and pin code of the Sarpanch.\", \n",
    "                              \"The mobile phone number or email address of the Sarpanch.\"]\n",
    "goa_proforma_A_dtypes = [dtype for dtype in goa_proforma_A.dtypes]\n",
    "\n",
    "data_A = {\"Column Name\": goa_proforma_A_columns, \"Description\": goa_proforma_A_description, \"Type\": goa_proforma_A_dtypes}\n",
    "goa_proforma_A_codebook = pd.DataFrame(data_A)\n",
    "goa_proforma_A_codebook.style.set_properties(subset=['Description'], **{'width': '600px'})"
   ]
  },
  {
   "cell_type": "code",
   "execution_count": 107,
   "id": "dying-stranger",
   "metadata": {},
   "outputs": [
    {
     "name": "stdout",
     "output_type": "stream",
     "text": [
      "Codebook for Sheet B:\n"
     ]
    },
    {
     "data": {
      "text/html": [
       "<style  type=\"text/css\" >\n",
       "#T_5c9b8_row0_col1,#T_5c9b8_row1_col1,#T_5c9b8_row2_col1,#T_5c9b8_row3_col1{\n",
       "            width:  600px;\n",
       "        }</style><table id=\"T_5c9b8_\" ><thead>    <tr>        <th class=\"blank level0\" ></th>        <th class=\"col_heading level0 col0\" >Column Name</th>        <th class=\"col_heading level0 col1\" >Description</th>        <th class=\"col_heading level0 col2\" >Type</th>    </tr></thead><tbody>\n",
       "                <tr>\n",
       "                        <th id=\"T_5c9b8_level0_row0\" class=\"row_heading level0 row0\" >0</th>\n",
       "                        <td id=\"T_5c9b8_row0_col0\" class=\"data row0 col0\" >Sr.No</td>\n",
       "                        <td id=\"T_5c9b8_row0_col1\" class=\"data row0 col1\" >Counts the number of Gram Panchayats.</td>\n",
       "                        <td id=\"T_5c9b8_row0_col2\" class=\"data row0 col2\" >object</td>\n",
       "            </tr>\n",
       "            <tr>\n",
       "                        <th id=\"T_5c9b8_level0_row1\" class=\"row_heading level0 row1\" >1</th>\n",
       "                        <td id=\"T_5c9b8_row1_col0\" class=\"data row1 col0\" >Name of the District along with State</td>\n",
       "                        <td id=\"T_5c9b8_row1_col1\" class=\"data row1 col1\" >Name of district in Goa.</td>\n",
       "                        <td id=\"T_5c9b8_row1_col2\" class=\"data row1 col2\" >object</td>\n",
       "            </tr>\n",
       "            <tr>\n",
       "                        <th id=\"T_5c9b8_level0_row2\" class=\"row_heading level0 row2\" >2</th>\n",
       "                        <td id=\"T_5c9b8_row2_col0\" class=\"data row2 col0\" >Name of Gram Panchayat</td>\n",
       "                        <td id=\"T_5c9b8_row2_col1\" class=\"data row2 col1\" >Name of the Gram Panchayat (elected offical).</td>\n",
       "                        <td id=\"T_5c9b8_row2_col2\" class=\"data row2 col2\" >object</td>\n",
       "            </tr>\n",
       "            <tr>\n",
       "                        <th id=\"T_5c9b8_level0_row3\" class=\"row_heading level0 row3\" >3</th>\n",
       "                        <td id=\"T_5c9b8_row3_col0\" class=\"data row3 col0\" >Gram Panchayat Bhawan Adress with Pin Code</td>\n",
       "                        <td id=\"T_5c9b8_row3_col1\" class=\"data row3 col1\" >The address and pin code of the Gram Panchayat.</td>\n",
       "                        <td id=\"T_5c9b8_row3_col2\" class=\"data row3 col2\" >object</td>\n",
       "            </tr>\n",
       "    </tbody></table>"
      ],
      "text/plain": [
       "<pandas.io.formats.style.Styler at 0x12167fb80>"
      ]
     },
     "execution_count": 107,
     "metadata": {},
     "output_type": "execute_result"
    }
   ],
   "source": [
    "print(\"Codebook for Sheet B:\")\n",
    "goa_proforma_B_columns = [column for column in goa_proforma_B.columns]\n",
    "goa_proforma_B_description = [\"Counts the number of Gram Panchayats.\", \n",
    "                              \"Name of district in Goa.\", \n",
    "                              \"Name of the Gram Panchayat (elected offical).\", \n",
    "                              \"The address and pin code of the Gram Panchayat.\"]\n",
    "goa_proforma_B_dtypes = [dtype for dtype in goa_proforma_B.dtypes]\n",
    "\n",
    "data_B = {\"Column Name\": goa_proforma_B_columns, \"Description\": goa_proforma_B_description, \"Type\": goa_proforma_B_dtypes}\n",
    "goa_proforma_B_codebook = pd.DataFrame(data_B)\n",
    "goa_proforma_B_codebook.style.set_properties(subset=['Description'], **{'width': '600px'})"
   ]
  },
  {
   "cell_type": "markdown",
   "id": "incomplete-fifth",
   "metadata": {},
   "source": [
    "**Missing values** <a class=\"anchor\" id=\"4.1\"></a>"
   ]
  },
  {
   "cell_type": "code",
   "execution_count": 108,
   "id": "crude-holiday",
   "metadata": {},
   "outputs": [
    {
     "data": {
      "text/plain": [
       "Sr.No                                    187\n",
       "Name of the District along with State      0\n",
       "Name of Village Panchayat                  0\n",
       "Name of Sarpanch                           0\n",
       "Address with Pin Code                     19\n",
       "Mobile No./Email Address                   1\n",
       "dtype: int64"
      ]
     },
     "execution_count": 108,
     "metadata": {},
     "output_type": "execute_result"
    }
   ],
   "source": [
    "goa_proforma_A.isnull().sum()"
   ]
  },
  {
   "cell_type": "code",
   "execution_count": 109,
   "id": "scenic-spokesman",
   "metadata": {},
   "outputs": [
    {
     "data": {
      "text/plain": [
       "Sr.No                                         0\n",
       "Name of the District along with State         0\n",
       "Name of Gram Panchayat                        0\n",
       "Gram Panchayat Bhawan Adress with Pin Code    0\n",
       "dtype: int64"
      ]
     },
     "execution_count": 109,
     "metadata": {},
     "output_type": "execute_result"
    }
   ],
   "source": [
    "goa_proforma_B.isnull().sum()"
   ]
  },
  {
   "cell_type": "code",
   "execution_count": 110,
   "id": "prostate-frame",
   "metadata": {},
   "outputs": [
    {
     "data": {
      "text/plain": [
       "Sr.No                                           0\n",
       "Name of the District along with State           0\n",
       "Name of Panchayat Officer (V.P. Secretary)      0\n",
       "Mobile No.                                      0\n",
       "Email Address                                 182\n",
       "dtype: int64"
      ]
     },
     "execution_count": 110,
     "metadata": {},
     "output_type": "execute_result"
    }
   ],
   "source": [
    "goa_proforma_C.isnull().sum()"
   ]
  },
  {
   "cell_type": "code",
   "execution_count": 111,
   "id": "southern-tunnel",
   "metadata": {},
   "outputs": [
    {
     "data": {
      "text/plain": [
       "Sr.No                                   0\n",
       "Name of District along with State       0\n",
       "Name of District Panchayat President    0\n",
       "Address with Pin Code                   0\n",
       "Mobile No. / Email Address              0\n",
       "dtype: int64"
      ]
     },
     "execution_count": 111,
     "metadata": {},
     "output_type": "execute_result"
    }
   ],
   "source": [
    "goa_proforma_E.isnull().sum()"
   ]
  },
  {
   "cell_type": "code",
   "execution_count": 112,
   "id": "hispanic-folks",
   "metadata": {},
   "outputs": [
    {
     "data": {
      "text/plain": [
       "Sr.No                                      0\n",
       "Name of the State                          0\n",
       "Name of the Nodal Officer / Designation    0\n",
       "Mobile No. / Email Address                 0\n",
       "Postal Details                             0\n",
       "dtype: int64"
      ]
     },
     "execution_count": 112,
     "metadata": {},
     "output_type": "execute_result"
    }
   ],
   "source": [
    "goa_proforma_F.isnull().sum()"
   ]
  },
  {
   "cell_type": "markdown",
   "id": "former-convenience",
   "metadata": {},
   "source": [
    "**Summary statistics** <a class=\"anchor\" id=\"4.2\"></a>"
   ]
  },
  {
   "cell_type": "code",
   "execution_count": 113,
   "id": "passive-antenna",
   "metadata": {},
   "outputs": [
    {
     "data": {
      "text/html": [
       "<div>\n",
       "<style scoped>\n",
       "    .dataframe tbody tr th:only-of-type {\n",
       "        vertical-align: middle;\n",
       "    }\n",
       "\n",
       "    .dataframe tbody tr th {\n",
       "        vertical-align: top;\n",
       "    }\n",
       "\n",
       "    .dataframe thead th {\n",
       "        text-align: right;\n",
       "    }\n",
       "</style>\n",
       "<table border=\"1\" class=\"dataframe\">\n",
       "  <thead>\n",
       "    <tr style=\"text-align: right;\">\n",
       "      <th></th>\n",
       "      <th>Sr.No</th>\n",
       "      <th>Name of the District along with State</th>\n",
       "      <th>Name of Village Panchayat</th>\n",
       "      <th>Name of Sarpanch</th>\n",
       "      <th>Address with Pin Code</th>\n",
       "      <th>Mobile No./Email Address</th>\n",
       "    </tr>\n",
       "  </thead>\n",
       "  <tbody>\n",
       "    <tr>\n",
       "      <th>count</th>\n",
       "      <td>0</td>\n",
       "      <td>187</td>\n",
       "      <td>187</td>\n",
       "      <td>187</td>\n",
       "      <td>168</td>\n",
       "      <td>186</td>\n",
       "    </tr>\n",
       "    <tr>\n",
       "      <th>unique</th>\n",
       "      <td>0</td>\n",
       "      <td>130</td>\n",
       "      <td>185</td>\n",
       "      <td>187</td>\n",
       "      <td>149</td>\n",
       "      <td>186</td>\n",
       "    </tr>\n",
       "    <tr>\n",
       "      <th>top</th>\n",
       "      <td>NaN</td>\n",
       "      <td>South Goa</td>\n",
       "      <td>Querim</td>\n",
       "      <td>Smt. Vishranti Rajkumar Dessai</td>\n",
       "      <td>---</td>\n",
       "      <td>9423224690</td>\n",
       "    </tr>\n",
       "    <tr>\n",
       "      <th>freq</th>\n",
       "      <td>NaN</td>\n",
       "      <td>58</td>\n",
       "      <td>2</td>\n",
       "      <td>1</td>\n",
       "      <td>20</td>\n",
       "      <td>1</td>\n",
       "    </tr>\n",
       "  </tbody>\n",
       "</table>\n",
       "</div>"
      ],
      "text/plain": [
       "       Sr.No Name of the District along with State Name of Village Panchayat  \\\n",
       "count      0                                   187                       187   \n",
       "unique     0                                   130                       185   \n",
       "top      NaN                             South Goa                    Querim   \n",
       "freq     NaN                                    58                         2   \n",
       "\n",
       "                      Name of Sarpanch Address with Pin Code  \\\n",
       "count                              187                   168   \n",
       "unique                             187                   149   \n",
       "top     Smt. Vishranti Rajkumar Dessai                   ---   \n",
       "freq                                 1                    20   \n",
       "\n",
       "        Mobile No./Email Address  \n",
       "count                        186  \n",
       "unique                       186  \n",
       "top                   9423224690  \n",
       "freq                           1  "
      ]
     },
     "execution_count": 113,
     "metadata": {},
     "output_type": "execute_result"
    }
   ],
   "source": [
    "goa_proforma_A.describe()"
   ]
  },
  {
   "cell_type": "code",
   "execution_count": 114,
   "id": "capital-amplifier",
   "metadata": {},
   "outputs": [
    {
     "data": {
      "text/html": [
       "<div>\n",
       "<style scoped>\n",
       "    .dataframe tbody tr th:only-of-type {\n",
       "        vertical-align: middle;\n",
       "    }\n",
       "\n",
       "    .dataframe tbody tr th {\n",
       "        vertical-align: top;\n",
       "    }\n",
       "\n",
       "    .dataframe thead th {\n",
       "        text-align: right;\n",
       "    }\n",
       "</style>\n",
       "<table border=\"1\" class=\"dataframe\">\n",
       "  <thead>\n",
       "    <tr style=\"text-align: right;\">\n",
       "      <th></th>\n",
       "      <th>Sr.No</th>\n",
       "      <th>Name of the District along with State</th>\n",
       "      <th>Name of Gram Panchayat</th>\n",
       "      <th>Gram Panchayat Bhawan Adress with Pin Code</th>\n",
       "    </tr>\n",
       "  </thead>\n",
       "  <tbody>\n",
       "    <tr>\n",
       "      <th>count</th>\n",
       "      <td>187</td>\n",
       "      <td>187</td>\n",
       "      <td>187</td>\n",
       "      <td>187</td>\n",
       "    </tr>\n",
       "    <tr>\n",
       "      <th>unique</th>\n",
       "      <td>187</td>\n",
       "      <td>2</td>\n",
       "      <td>185</td>\n",
       "      <td>187</td>\n",
       "    </tr>\n",
       "    <tr>\n",
       "      <th>top</th>\n",
       "      <td>1</td>\n",
       "      <td>North Goa, Goa</td>\n",
       "      <td>Querim</td>\n",
       "      <td>Rumdamol-Davorlim, Salcete - Goa</td>\n",
       "    </tr>\n",
       "    <tr>\n",
       "      <th>freq</th>\n",
       "      <td>1</td>\n",
       "      <td>102</td>\n",
       "      <td>2</td>\n",
       "      <td>1</td>\n",
       "    </tr>\n",
       "  </tbody>\n",
       "</table>\n",
       "</div>"
      ],
      "text/plain": [
       "        Sr.No Name of the District along with State Name of Gram Panchayat  \\\n",
       "count     187                                   187                    187   \n",
       "unique    187                                     2                    185   \n",
       "top         1                        North Goa, Goa                 Querim   \n",
       "freq        1                                   102                      2   \n",
       "\n",
       "       Gram Panchayat Bhawan Adress with Pin Code  \n",
       "count                                         187  \n",
       "unique                                        187  \n",
       "top              Rumdamol-Davorlim, Salcete - Goa  \n",
       "freq                                            1  "
      ]
     },
     "execution_count": 114,
     "metadata": {},
     "output_type": "execute_result"
    }
   ],
   "source": [
    "goa_proforma_B.describe()"
   ]
  },
  {
   "cell_type": "code",
   "execution_count": 115,
   "id": "frequent-contest",
   "metadata": {},
   "outputs": [
    {
     "data": {
      "text/html": [
       "<div>\n",
       "<style scoped>\n",
       "    .dataframe tbody tr th:only-of-type {\n",
       "        vertical-align: middle;\n",
       "    }\n",
       "\n",
       "    .dataframe tbody tr th {\n",
       "        vertical-align: top;\n",
       "    }\n",
       "\n",
       "    .dataframe thead th {\n",
       "        text-align: right;\n",
       "    }\n",
       "</style>\n",
       "<table border=\"1\" class=\"dataframe\">\n",
       "  <thead>\n",
       "    <tr style=\"text-align: right;\">\n",
       "      <th></th>\n",
       "      <th>Sr.No</th>\n",
       "      <th>Name of the District along with State</th>\n",
       "      <th>Name of Panchayat Officer (V.P. Secretary)</th>\n",
       "      <th>Mobile No.</th>\n",
       "      <th>Email Address</th>\n",
       "    </tr>\n",
       "  </thead>\n",
       "  <tbody>\n",
       "    <tr>\n",
       "      <th>count</th>\n",
       "      <td>185</td>\n",
       "      <td>185</td>\n",
       "      <td>185</td>\n",
       "      <td>185</td>\n",
       "      <td>3</td>\n",
       "    </tr>\n",
       "    <tr>\n",
       "      <th>unique</th>\n",
       "      <td>185</td>\n",
       "      <td>2</td>\n",
       "      <td>175</td>\n",
       "      <td>171</td>\n",
       "      <td>3</td>\n",
       "    </tr>\n",
       "    <tr>\n",
       "      <th>top</th>\n",
       "      <td>1</td>\n",
       "      <td>North Goa, Goa</td>\n",
       "      <td>Shri. Advin Carvalho</td>\n",
       "      <td>---</td>\n",
       "      <td>joslynesteves@gmail.com</td>\n",
       "    </tr>\n",
       "    <tr>\n",
       "      <th>freq</th>\n",
       "      <td>1</td>\n",
       "      <td>103</td>\n",
       "      <td>2</td>\n",
       "      <td>3</td>\n",
       "      <td>1</td>\n",
       "    </tr>\n",
       "  </tbody>\n",
       "</table>\n",
       "</div>"
      ],
      "text/plain": [
       "        Sr.No Name of the District along with State  \\\n",
       "count     185                                   185   \n",
       "unique    185                                     2   \n",
       "top         1                        North Goa, Goa   \n",
       "freq        1                                   103   \n",
       "\n",
       "       Name of Panchayat Officer (V.P. Secretary) Mobile No.  \\\n",
       "count                                         185        185   \n",
       "unique                                        175        171   \n",
       "top                          Shri. Advin Carvalho        ---   \n",
       "freq                                            2          3   \n",
       "\n",
       "                  Email Address  \n",
       "count                         3  \n",
       "unique                        3  \n",
       "top     joslynesteves@gmail.com  \n",
       "freq                          1  "
      ]
     },
     "execution_count": 115,
     "metadata": {},
     "output_type": "execute_result"
    }
   ],
   "source": [
    "goa_proforma_C.describe()"
   ]
  },
  {
   "cell_type": "code",
   "execution_count": 116,
   "id": "otherwise-county",
   "metadata": {},
   "outputs": [
    {
     "data": {
      "text/html": [
       "<div>\n",
       "<style scoped>\n",
       "    .dataframe tbody tr th:only-of-type {\n",
       "        vertical-align: middle;\n",
       "    }\n",
       "\n",
       "    .dataframe tbody tr th {\n",
       "        vertical-align: top;\n",
       "    }\n",
       "\n",
       "    .dataframe thead th {\n",
       "        text-align: right;\n",
       "    }\n",
       "</style>\n",
       "<table border=\"1\" class=\"dataframe\">\n",
       "  <thead>\n",
       "    <tr style=\"text-align: right;\">\n",
       "      <th></th>\n",
       "      <th>Sr.No</th>\n",
       "      <th>Name of District along with State</th>\n",
       "      <th>Name of District Panchayat President</th>\n",
       "      <th>Address with Pin Code</th>\n",
       "      <th>Mobile No. / Email Address</th>\n",
       "    </tr>\n",
       "  </thead>\n",
       "  <tbody>\n",
       "    <tr>\n",
       "      <th>count</th>\n",
       "      <td>4</td>\n",
       "      <td>4</td>\n",
       "      <td>4</td>\n",
       "      <td>4</td>\n",
       "      <td>4</td>\n",
       "    </tr>\n",
       "    <tr>\n",
       "      <th>unique</th>\n",
       "      <td>4</td>\n",
       "      <td>2</td>\n",
       "      <td>4</td>\n",
       "      <td>4</td>\n",
       "      <td>4</td>\n",
       "    </tr>\n",
       "    <tr>\n",
       "      <th>top</th>\n",
       "      <td>1</td>\n",
       "      <td>South Goa, GOA</td>\n",
       "      <td>Shri. Navnaath G. Naik - Adhyaksha</td>\n",
       "      <td>H.No 353, Khalap wado, Canca, Bardez - Goa</td>\n",
       "      <td>9049666058</td>\n",
       "    </tr>\n",
       "    <tr>\n",
       "      <th>freq</th>\n",
       "      <td>1</td>\n",
       "      <td>2</td>\n",
       "      <td>1</td>\n",
       "      <td>1</td>\n",
       "      <td>1</td>\n",
       "    </tr>\n",
       "  </tbody>\n",
       "</table>\n",
       "</div>"
      ],
      "text/plain": [
       "        Sr.No Name of District along with State  \\\n",
       "count       4                                 4   \n",
       "unique      4                                 2   \n",
       "top         1                    South Goa, GOA   \n",
       "freq        1                                 2   \n",
       "\n",
       "       Name of District Panchayat President  \\\n",
       "count                                     4   \n",
       "unique                                    4   \n",
       "top      Shri. Navnaath G. Naik - Adhyaksha   \n",
       "freq                                      1   \n",
       "\n",
       "                             Address with Pin Code  Mobile No. / Email Address  \n",
       "count                                            4                           4  \n",
       "unique                                           4                           4  \n",
       "top     H.No 353, Khalap wado, Canca, Bardez - Goa                  9049666058  \n",
       "freq                                             1                           1  "
      ]
     },
     "execution_count": 116,
     "metadata": {},
     "output_type": "execute_result"
    }
   ],
   "source": [
    "goa_proforma_E.describe()"
   ]
  },
  {
   "cell_type": "code",
   "execution_count": 117,
   "id": "neither-photographer",
   "metadata": {},
   "outputs": [
    {
     "data": {
      "text/html": [
       "<div>\n",
       "<style scoped>\n",
       "    .dataframe tbody tr th:only-of-type {\n",
       "        vertical-align: middle;\n",
       "    }\n",
       "\n",
       "    .dataframe tbody tr th {\n",
       "        vertical-align: top;\n",
       "    }\n",
       "\n",
       "    .dataframe thead th {\n",
       "        text-align: right;\n",
       "    }\n",
       "</style>\n",
       "<table border=\"1\" class=\"dataframe\">\n",
       "  <thead>\n",
       "    <tr style=\"text-align: right;\">\n",
       "      <th></th>\n",
       "      <th>Sr.No</th>\n",
       "      <th>Name of the State</th>\n",
       "      <th>Name of the Nodal Officer / Designation</th>\n",
       "      <th>Mobile No. / Email Address</th>\n",
       "      <th>Postal Details</th>\n",
       "    </tr>\n",
       "  </thead>\n",
       "  <tbody>\n",
       "    <tr>\n",
       "      <th>count</th>\n",
       "      <td>1</td>\n",
       "      <td>1</td>\n",
       "      <td>1</td>\n",
       "      <td>1</td>\n",
       "      <td>1</td>\n",
       "    </tr>\n",
       "    <tr>\n",
       "      <th>unique</th>\n",
       "      <td>1</td>\n",
       "      <td>1</td>\n",
       "      <td>1</td>\n",
       "      <td>1</td>\n",
       "      <td>1</td>\n",
       "    </tr>\n",
       "    <tr>\n",
       "      <th>top</th>\n",
       "      <td>1</td>\n",
       "      <td>GOA</td>\n",
       "      <td>Shri. Gurudas Pilarnekar, Director, Directorat...</td>\n",
       "      <td>9763554136 dir-panc.goa@nic.in</td>\n",
       "      <td>3rd lift, 3rd floor, Junta House, Panaji - Goa</td>\n",
       "    </tr>\n",
       "    <tr>\n",
       "      <th>freq</th>\n",
       "      <td>1</td>\n",
       "      <td>1</td>\n",
       "      <td>1</td>\n",
       "      <td>1</td>\n",
       "      <td>1</td>\n",
       "    </tr>\n",
       "  </tbody>\n",
       "</table>\n",
       "</div>"
      ],
      "text/plain": [
       "        Sr.No Name of the State  \\\n",
       "count       1                 1   \n",
       "unique      1                 1   \n",
       "top         1               GOA   \n",
       "freq        1                 1   \n",
       "\n",
       "                  Name of the Nodal Officer / Designation  \\\n",
       "count                                                   1   \n",
       "unique                                                  1   \n",
       "top     Shri. Gurudas Pilarnekar, Director, Directorat...   \n",
       "freq                                                    1   \n",
       "\n",
       "            Mobile No. / Email Address  \\\n",
       "count                                1   \n",
       "unique                               1   \n",
       "top     9763554136 dir-panc.goa@nic.in   \n",
       "freq                                 1   \n",
       "\n",
       "                                        Postal Details  \n",
       "count                                                1  \n",
       "unique                                               1  \n",
       "top     3rd lift, 3rd floor, Junta House, Panaji - Goa  \n",
       "freq                                                 1  "
      ]
     },
     "execution_count": 117,
     "metadata": {},
     "output_type": "execute_result"
    }
   ],
   "source": [
    "goa_proforma_F.describe()"
   ]
  },
  {
   "cell_type": "markdown",
   "id": "national-three",
   "metadata": {},
   "source": [
    "## Columns\n",
    "<a class=\"anchor\" id=\"5\"></a>"
   ]
  },
  {
   "cell_type": "markdown",
   "id": "pediatric-pharmacology",
   "metadata": {},
   "source": [
    "### Sheet A\n",
    "<a class=\"anchor\" id=\"5.1\"></a>\n",
    "Sheet A contains information about Sarpanchs in Goa."
   ]
  },
  {
   "cell_type": "markdown",
   "id": "returning-worker",
   "metadata": {},
   "source": [
    "### Sr.No.\n",
    "<a class=\"anchor\" id=\"5.1.1\"></a>\n",
    "Meant for counting, is a null column."
   ]
  },
  {
   "cell_type": "code",
   "execution_count": 118,
   "id": "killing-tragedy",
   "metadata": {},
   "outputs": [
    {
     "data": {
      "text/plain": [
       "0      NaN\n",
       "1      NaN\n",
       "2      NaN\n",
       "3      NaN\n",
       "4      NaN\n",
       "      ... \n",
       "182    NaN\n",
       "183    NaN\n",
       "184    NaN\n",
       "185    NaN\n",
       "186    NaN\n",
       "Name: Sr.No, Length: 187, dtype: object"
      ]
     },
     "execution_count": 118,
     "metadata": {},
     "output_type": "execute_result"
    }
   ],
   "source": [
    "column = goa_proforma_A[\"Sr.No\"]\n",
    "column"
   ]
  },
  {
   "cell_type": "code",
   "execution_count": 119,
   "id": "ceramic-handy",
   "metadata": {},
   "outputs": [
    {
     "name": "stdout",
     "output_type": "stream",
     "text": [
      "No. of unique values: 1\n",
      "Duplicates: {nan: 187}\n",
      "No. of duplicates: 1\n",
      "No. of null values: 187\n"
     ]
    }
   ],
   "source": [
    "print(\"No. of unique values:\", len(column.unique()))\n",
    "counter = dict(Counter(column))\n",
    "duplicates = {key:value for key, value in counter.items() if value > 1}\n",
    "print(\"Duplicates:\", duplicates)\n",
    "if len(duplicates) > 0:\n",
    "    print(\"No. of duplicates:\", len(duplicates))\n",
    "\n",
    "print(\"No. of null values:\", sum(column.isnull()))"
   ]
  },
  {
   "cell_type": "markdown",
   "id": "rural-citation",
   "metadata": {},
   "source": [
    "### Name of the District along with State\n",
    "<a class=\"anchor\" id=\"5.1.2\"></a>\n",
    "Name of district in Goa."
   ]
  },
  {
   "cell_type": "code",
   "execution_count": 120,
   "id": "failing-palestinian",
   "metadata": {},
   "outputs": [
    {
     "data": {
      "text/plain": [
       "0                    North Goa, V.P. Dhargalim\n",
       "1                      North Goa, V.P. Arambol\n",
       "2      North Goa, V.P. Khajne-Amere-Poroscodem\n",
       "3                       North Goa, V.P. Parcem\n",
       "4          North Goa, V.P. Ibrampur - Hankahne\n",
       "                        ...                   \n",
       "182                                  South Goa\n",
       "183                                  South Goa\n",
       "184                                  South Goa\n",
       "185                                  South Goa\n",
       "186                                  South Goa\n",
       "Name: Name of the District along with State, Length: 187, dtype: object"
      ]
     },
     "execution_count": 120,
     "metadata": {},
     "output_type": "execute_result"
    }
   ],
   "source": [
    "column = goa_proforma_A[\"Name of the District along with State\"]\n",
    "column"
   ]
  },
  {
   "cell_type": "code",
   "execution_count": 121,
   "id": "stable-mirror",
   "metadata": {},
   "outputs": [
    {
     "name": "stdout",
     "output_type": "stream",
     "text": [
      "No. of unique values: 130\n",
      "Duplicates: {'South Goa': 58}\n",
      "No. of duplicates: 1\n",
      "No. of null values: 0\n"
     ]
    }
   ],
   "source": [
    "print(\"No. of unique values:\", len(column.unique()))\n",
    "counter = dict(Counter(column))\n",
    "duplicates = {key:value for key, value in counter.items() if value > 1}\n",
    "print(\"Duplicates:\", duplicates)\n",
    "if len(duplicates) > 0:\n",
    "    print(\"No. of duplicates:\", len(duplicates))\n",
    "\n",
    "print(\"No. of null values:\", sum(column.isnull()))"
   ]
  },
  {
   "cell_type": "markdown",
   "id": "affected-fields",
   "metadata": {},
   "source": [
    "The first 128 values all consist of either \"North Goa\" or \"South Goa\", followed by \"V.P.\" and a name of a Village Panchayat. This VP is repeated in the next column, so we can remove it to see how many counts we have in each district."
   ]
  },
  {
   "cell_type": "code",
   "execution_count": 122,
   "id": "distant-modern",
   "metadata": {},
   "outputs": [
    {
     "data": {
      "text/plain": [
       "0      North Goa\n",
       "1      North Goa\n",
       "2      North Goa\n",
       "3      North Goa\n",
       "4      North Goa\n",
       "         ...    \n",
       "182    South Goa\n",
       "183    South Goa\n",
       "184    South Goa\n",
       "185    South Goa\n",
       "186    South Goa\n",
       "Name: Name of the District along with State, Length: 187, dtype: object"
      ]
     },
     "execution_count": 122,
     "metadata": {},
     "output_type": "execute_result"
    }
   ],
   "source": [
    "districts = column.apply(lambda x: str(x[:9]))\n",
    "districts"
   ]
  },
  {
   "cell_type": "code",
   "execution_count": 123,
   "id": "parental-sally",
   "metadata": {},
   "outputs": [
    {
     "name": "stdout",
     "output_type": "stream",
     "text": [
      "Unique values: ['North Goa' 'South Goa']\n",
      "No. of unique values: 2\n"
     ]
    },
    {
     "data": {
      "text/html": [
       "<div>\n",
       "<style scoped>\n",
       "    .dataframe tbody tr th:only-of-type {\n",
       "        vertical-align: middle;\n",
       "    }\n",
       "\n",
       "    .dataframe tbody tr th {\n",
       "        vertical-align: top;\n",
       "    }\n",
       "\n",
       "    .dataframe thead th {\n",
       "        text-align: right;\n",
       "    }\n",
       "</style>\n",
       "<table border=\"1\" class=\"dataframe\">\n",
       "  <thead>\n",
       "    <tr style=\"text-align: right;\">\n",
       "      <th></th>\n",
       "      <th>District</th>\n",
       "      <th>Count</th>\n",
       "    </tr>\n",
       "  </thead>\n",
       "  <tbody>\n",
       "    <tr>\n",
       "      <th>0</th>\n",
       "      <td>North Goa</td>\n",
       "      <td>102</td>\n",
       "    </tr>\n",
       "    <tr>\n",
       "      <th>1</th>\n",
       "      <td>South Goa</td>\n",
       "      <td>85</td>\n",
       "    </tr>\n",
       "  </tbody>\n",
       "</table>\n",
       "</div>"
      ],
      "text/plain": [
       "    District  Count\n",
       "0  North Goa    102\n",
       "1  South Goa     85"
      ]
     },
     "execution_count": 123,
     "metadata": {},
     "output_type": "execute_result"
    }
   ],
   "source": [
    "print(\"Unique values:\", districts.unique())\n",
    "print(\"No. of unique values:\", len(districts.unique()))\n",
    "\n",
    "# Table of number of Sarpanchs in each district\n",
    "table = districts.value_counts().rename_axis('District').reset_index(name='Count')\n",
    "table"
   ]
  },
  {
   "cell_type": "code",
   "execution_count": 139,
   "id": "correct-spanking",
   "metadata": {},
   "outputs": [
    {
     "data": {
      "image/png": "[encoded data removed]",
      "text/plain": [
       "<Figure size 576x360 with 1 Axes>"
      ]
     },
     "metadata": {
      "needs_background": "light"
     },
     "output_type": "display_data"
    }
   ],
   "source": [
    "plt.figure(figsize = (8, 5))\n",
    "plt.bar(table[\"District\"], table[\"Count\"])\n",
    "plt.title(\"Number of Sarpanch's in each District\")\n",
    "plt.xlabel(\"District\")\n",
    "plt.ylabel(\"Count\")\n",
    "plt.show()"
   ]
  },
  {
   "cell_type": "markdown",
   "id": "departmental-dominant",
   "metadata": {},
   "source": [
    "### Name of Village Panchayat\n",
    "<a class=\"anchor\" id=\"5.1.3\"></a>\n",
    "Name of the village panchayat the Sarpanch is elected in."
   ]
  },
  {
   "cell_type": "code",
   "execution_count": 125,
   "id": "textile-montreal",
   "metadata": {},
   "outputs": [
    {
     "data": {
      "text/plain": [
       "0                     Dhargalim\n",
       "1                       Arambol\n",
       "2       Khajne-Amere-Porascadem\n",
       "3                        Parcem\n",
       "4             Ibrampur-Hankahne\n",
       "                 ...           \n",
       "182       Majorda Utorda Calata\n",
       "183                    Chicalim\n",
       "184    Cansaulim-Arossim-Cuelim\n",
       "185        Velsao-Pale-Issorcim\n",
       "186                    Sancoale\n",
       "Name: Name of Village Panchayat, Length: 187, dtype: object"
      ]
     },
     "execution_count": 125,
     "metadata": {},
     "output_type": "execute_result"
    }
   ],
   "source": [
    "column = goa_proforma_A[\"Name of Village Panchayat\"]\n",
    "column"
   ]
  },
  {
   "cell_type": "code",
   "execution_count": 126,
   "id": "minute-application",
   "metadata": {},
   "outputs": [
    {
     "name": "stdout",
     "output_type": "stream",
     "text": [
      "No. of unique values: 185\n",
      "Duplicates: {'Querim': 2, 'Navelim': 2}\n",
      "No. of duplicates: 2\n",
      "No. of null values: 0\n"
     ]
    }
   ],
   "source": [
    "print(\"No. of unique values:\", len(column.unique()))\n",
    "counter = dict(Counter(column))\n",
    "duplicates = {key:value for key, value in counter.items() if value > 1}\n",
    "print(\"Duplicates:\", duplicates)\n",
    "if len(duplicates) > 0:\n",
    "    print(\"No. of duplicates:\", len(duplicates))\n",
    "\n",
    "print(\"No. of null values:\", sum(column.isnull()))"
   ]
  },
  {
   "cell_type": "markdown",
   "id": "competent-geometry",
   "metadata": {},
   "source": [
    "### Name of Sarpanch\n",
    "<a class=\"anchor\" id=\"5.1.4\"></a>\n",
    "Name of the Sarpanch (elected offical)."
   ]
  },
  {
   "cell_type": "code",
   "execution_count": 127,
   "id": "irish-synthesis",
   "metadata": {},
   "outputs": [
    {
     "data": {
      "text/plain": [
       "0      Shri.  Murarri Waradkar (Administrator)\n",
       "1                    Smt. Pranali P. Vaigankar\n",
       "2                 Smt. Jayshri Jairam Pirankar\n",
       "3                              Shri. Rama Naik\n",
       "4                 Shri. Ashok Mahadev Dhauskar\n",
       "                        ...                   \n",
       "182                           Mr.Moises A. Vaz\n",
       "183                    Mrs.Prajoti L. Kudaikar\n",
       "184                        Mrs.FilomenaD,Mello\n",
       "185                       Mr. Henrique D’Mello\n",
       "186                 Mr.Ramakant Narayan Borkar\n",
       "Name: Name of Sarpanch, Length: 187, dtype: object"
      ]
     },
     "execution_count": 127,
     "metadata": {},
     "output_type": "execute_result"
    }
   ],
   "source": [
    "column = goa_proforma_A[\"Name of Sarpanch\"]\n",
    "column"
   ]
  },
  {
   "cell_type": "code",
   "execution_count": 128,
   "id": "divine-burlington",
   "metadata": {},
   "outputs": [
    {
     "name": "stdout",
     "output_type": "stream",
     "text": [
      "No. of unique values: 187\n",
      "Duplicates: {}\n",
      "No. of null values: 0\n"
     ]
    }
   ],
   "source": [
    "print(\"No. of unique values:\", len(column.unique()))\n",
    "counter = dict(Counter(column))\n",
    "duplicates = {key:value for key, value in counter.items() if value > 1}\n",
    "print(\"Duplicates:\", duplicates)\n",
    "if len(duplicates) > 0:\n",
    "    print(\"No. of duplicates:\", len(duplicates))\n",
    "\n",
    "print(\"No. of null values:\", sum(column.isnull()))"
   ]
  },
  {
   "cell_type": "code",
   "execution_count": 129,
   "id": "informal-child",
   "metadata": {},
   "outputs": [
    {
     "data": {
      "text/html": [
       "<div>\n",
       "<style scoped>\n",
       "    .dataframe tbody tr th:only-of-type {\n",
       "        vertical-align: middle;\n",
       "    }\n",
       "\n",
       "    .dataframe tbody tr th {\n",
       "        vertical-align: top;\n",
       "    }\n",
       "\n",
       "    .dataframe thead th {\n",
       "        text-align: right;\n",
       "    }\n",
       "</style>\n",
       "<table border=\"1\" class=\"dataframe\">\n",
       "  <thead>\n",
       "    <tr style=\"text-align: right;\">\n",
       "      <th></th>\n",
       "      <th>Titles</th>\n",
       "      <th>Counts</th>\n",
       "    </tr>\n",
       "  </thead>\n",
       "  <tbody>\n",
       "    <tr>\n",
       "      <th>0</th>\n",
       "      <td>Smt.</td>\n",
       "      <td>34</td>\n",
       "    </tr>\n",
       "    <tr>\n",
       "      <th>1</th>\n",
       "      <td>Shri.</td>\n",
       "      <td>48</td>\n",
       "    </tr>\n",
       "    <tr>\n",
       "      <th>2</th>\n",
       "      <td>Mr.</td>\n",
       "      <td>8</td>\n",
       "    </tr>\n",
       "    <tr>\n",
       "      <th>3</th>\n",
       "      <td>Mrs.</td>\n",
       "      <td>4</td>\n",
       "    </tr>\n",
       "    <tr>\n",
       "      <th>4</th>\n",
       "      <td>None</td>\n",
       "      <td>93</td>\n",
       "    </tr>\n",
       "  </tbody>\n",
       "</table>\n",
       "</div>"
      ],
      "text/plain": [
       "  Titles  Counts\n",
       "0   Smt.      34\n",
       "1  Shri.      48\n",
       "2    Mr.       8\n",
       "3   Mrs.       4\n",
       "4   None      93"
      ]
     },
     "execution_count": 129,
     "metadata": {},
     "output_type": "execute_result"
    }
   ],
   "source": [
    "#Titles of officers\n",
    "titles = column.apply(lambda x: str(x[:3]))\n",
    "smt = 0; shr = 0; mr = 0; mrs = 0; none = 0\n",
    "for title in titles:\n",
    "    if (title == 'Smt'):\n",
    "        smt += 1\n",
    "    elif (title == 'Shr'):\n",
    "        shr += 1\n",
    "    elif (title == 'Mrs'):\n",
    "        mrs += 1\n",
    "    elif (title == 'Mr.'):\n",
    "        mr += 1\n",
    "    else:\n",
    "        none += 1\n",
    "titles_df = pd.DataFrame(data = {'Titles' : ['Smt.', 'Shri.', 'Mr.', 'Mrs.', 'None'], \n",
    "                                 'Counts' : [smt, shr, mr, mrs, none]})\n",
    "titles_df"
   ]
  },
  {
   "cell_type": "code",
   "execution_count": 130,
   "id": "bound-weekend",
   "metadata": {},
   "outputs": [
    {
     "data": {
      "image/png": "[encoded data removed]",
      "text/plain": [
       "<Figure size 720x504 with 1 Axes>"
      ]
     },
     "metadata": {
      "needs_background": "light"
     },
     "output_type": "display_data"
    }
   ],
   "source": [
    "# Plot number of titles'\n",
    "plt.figure(figsize = (10, 7))\n",
    "plt.bar(titles_df[\"Titles\"], titles_df[\"Counts\"])\n",
    "plt.title(\"Count of Titles\")\n",
    "plt.xlabel(\"Title\")\n",
    "plt.ylabel('Count')\n",
    "plt.show()"
   ]
  },
  {
   "cell_type": "markdown",
   "id": "right-month",
   "metadata": {},
   "source": [
    "### Address with Pin Code\n",
    "<a class=\"anchor\" id=\"5.1.5\"></a>\n",
    "The address and pin code of the Sarpanch."
   ]
  },
  {
   "cell_type": "code",
   "execution_count": 131,
   "id": "minor-history",
   "metadata": {},
   "outputs": [
    {
     "data": {
      "text/plain": [
       "0                Mahakhajan, Dhargal, Pernem -Goa 403512\n",
       "1      H. No. 302/1, Khalchawada, Arambol, Pernem – G...\n",
       "2                    H.No.75, Naibag, Pernem, Goa 403512\n",
       "3                      Chonsai, Parcem Pernem-Goa 403512\n",
       "4                 H.No. 89, Ibrampur-Pernem – Goa 403512\n",
       "                             ...                        \n",
       "182                                                  ---\n",
       "183                                                  ---\n",
       "184                                                  ---\n",
       "185                                                  ---\n",
       "186                                                  ---\n",
       "Name: Address with Pin Code, Length: 187, dtype: object"
      ]
     },
     "execution_count": 131,
     "metadata": {},
     "output_type": "execute_result"
    }
   ],
   "source": [
    "column = goa_proforma_A[\"Address with Pin Code\"]\n",
    "column"
   ]
  },
  {
   "cell_type": "code",
   "execution_count": 132,
   "id": "sought-difference",
   "metadata": {},
   "outputs": [
    {
     "name": "stdout",
     "output_type": "stream",
     "text": [
      "No. of unique values: 150\n",
      "Duplicates: {nan: 19, ' ---': 20}\n",
      "No. of duplicates: 2\n",
      "No. of null values: 19\n"
     ]
    }
   ],
   "source": [
    "print(\"No. of unique values:\", len(column.unique()))\n",
    "counter = dict(Counter(column))\n",
    "duplicates = {key:value for key, value in counter.items() if value > 1}\n",
    "print(\"Duplicates:\", duplicates)\n",
    "if len(duplicates) > 0:\n",
    "    print(\"No. of duplicates:\", len(duplicates))\n",
    "\n",
    "print(\"No. of null values:\", sum(column.isnull()))"
   ]
  },
  {
   "cell_type": "markdown",
   "id": "operational-blocking",
   "metadata": {},
   "source": [
    "### Mobile No./Email Address\n",
    "<a class=\"anchor\" id=\"5.1.6\"></a>\n",
    "The mobile phone number or email address of the Sarpanch."
   ]
  },
  {
   "cell_type": "code",
   "execution_count": 133,
   "id": "monetary-belarus",
   "metadata": {},
   "outputs": [
    {
     "data": {
      "text/plain": [
       "0      9823717910\n",
       "1      8007881645\n",
       "2      8390895492\n",
       "3      9823321192\n",
       "4      9421240482\n",
       "          ...    \n",
       "182    9922929636\n",
       "183    9049843109\n",
       "184    9545485086\n",
       "185    9657896983\n",
       "186    9860187445\n",
       "Name: Mobile No./Email Address, Length: 187, dtype: object"
      ]
     },
     "execution_count": 133,
     "metadata": {},
     "output_type": "execute_result"
    }
   ],
   "source": [
    "column = goa_proforma_A[\"Mobile No./Email Address\"]\n",
    "column"
   ]
  },
  {
   "cell_type": "code",
   "execution_count": 134,
   "id": "lucky-notion",
   "metadata": {},
   "outputs": [
    {
     "name": "stdout",
     "output_type": "stream",
     "text": [
      "No. of unique values: 187\n",
      "Duplicates: {}\n",
      "No. of null values: 1\n"
     ]
    }
   ],
   "source": [
    "print(\"No. of unique values:\", len(column.unique()))\n",
    "counter = dict(Counter(column))\n",
    "duplicates = {key:value for key, value in counter.items() if value > 1}\n",
    "print(\"Duplicates:\", duplicates)\n",
    "if len(duplicates) > 0:\n",
    "    print(\"No. of duplicates:\", len(duplicates))\n",
    "\n",
    "print(\"No. of null values:\", sum(column.isnull()))"
   ]
  },
  {
   "cell_type": "markdown",
   "id": "adjusted-triangle",
   "metadata": {},
   "source": [
    "### Sheet B\n",
    "<a class=\"anchor\" id=\"5.2\"></a>\n",
    "Sheet B contains information about Gram Panchayats in Goa."
   ]
  },
  {
   "cell_type": "markdown",
   "id": "worst-scottish",
   "metadata": {},
   "source": [
    "### Sr.No.\n",
    "<a class=\"anchor\" id=\"5.2.1\"></a>\n",
    "Counts the number of Gram Panchayats."
   ]
  },
  {
   "cell_type": "code",
   "execution_count": 135,
   "id": "familiar-mounting",
   "metadata": {},
   "outputs": [
    {
     "data": {
      "text/plain": [
       "0        1\n",
       "1        2\n",
       "2        3\n",
       "3        4\n",
       "4        5\n",
       "      ... \n",
       "182    183\n",
       "183    184\n",
       "184    185\n",
       "185    186\n",
       "186    187\n",
       "Name: Sr.No, Length: 187, dtype: object"
      ]
     },
     "execution_count": 135,
     "metadata": {},
     "output_type": "execute_result"
    }
   ],
   "source": [
    "column = goa_proforma_B[\"Sr.No\"]\n",
    "column"
   ]
  },
  {
   "cell_type": "code",
   "execution_count": 136,
   "id": "pharmaceutical-anthony",
   "metadata": {},
   "outputs": [
    {
     "name": "stdout",
     "output_type": "stream",
     "text": [
      "No. of unique values: 187\n",
      "Duplicates: {}\n",
      "No. of null values: 0\n"
     ]
    }
   ],
   "source": [
    "print(\"No. of unique values:\", len(column.unique()))\n",
    "counter = dict(Counter(column))\n",
    "duplicates = {key:value for key, value in counter.items() if value > 1}\n",
    "print(\"Duplicates:\", duplicates)\n",
    "if len(duplicates) > 0:\n",
    "    print(\"No. of duplicates:\", len(duplicates))\n",
    "\n",
    "print(\"No. of null values:\", sum(column.isnull()))"
   ]
  },
  {
   "cell_type": "markdown",
   "id": "alone-subcommittee",
   "metadata": {},
   "source": [
    "### Name of the District along with State\n",
    "<a class=\"anchor\" id=\"5.2.2\"></a>\n",
    "Name of district in Goa."
   ]
  },
  {
   "cell_type": "code",
   "execution_count": 137,
   "id": "interim-clock",
   "metadata": {},
   "outputs": [
    {
     "data": {
      "text/plain": [
       "0      North Goa, Goa\n",
       "1      North Goa, Goa\n",
       "2      North Goa, Goa\n",
       "3      North Goa, Goa\n",
       "4      North Goa, Goa\n",
       "            ...      \n",
       "182    South Goa, Goa\n",
       "183    South Goa, Goa\n",
       "184    South Goa, Goa\n",
       "185    South Goa, Goa\n",
       "186    South Goa, Goa\n",
       "Name: Name of the District along with State, Length: 187, dtype: object"
      ]
     },
     "execution_count": 137,
     "metadata": {},
     "output_type": "execute_result"
    }
   ],
   "source": [
    "column = goa_proforma_B[\"Name of the District along with State\"]\n",
    "column"
   ]
  },
  {
   "cell_type": "code",
   "execution_count": 140,
   "id": "professional-revolution",
   "metadata": {},
   "outputs": [
    {
     "name": "stdout",
     "output_type": "stream",
     "text": [
      "No. of unique values: 2\n",
      "Duplicates: {'North Goa, Goa': 102, 'South Goa, Goa': 85}\n",
      "No. of duplicates: 2\n",
      "No. of null values: 0\n"
     ]
    }
   ],
   "source": [
    "print(\"No. of unique values:\", len(column.unique()))\n",
    "counter = dict(Counter(column))\n",
    "duplicates = {key:value for key, value in counter.items() if value > 1}\n",
    "print(\"Duplicates:\", duplicates)\n",
    "if len(duplicates) > 0:\n",
    "    print(\"No. of duplicates:\", len(duplicates))\n",
    "\n",
    "print(\"No. of null values:\", sum(column.isnull()))"
   ]
  },
  {
   "cell_type": "code",
   "execution_count": 141,
   "id": "dominant-maryland",
   "metadata": {},
   "outputs": [
    {
     "name": "stdout",
     "output_type": "stream",
     "text": [
      "Unique values: ['North Goa' 'South Goa']\n",
      "No. of unique values: 2\n"
     ]
    },
    {
     "data": {
      "text/html": [
       "<div>\n",
       "<style scoped>\n",
       "    .dataframe tbody tr th:only-of-type {\n",
       "        vertical-align: middle;\n",
       "    }\n",
       "\n",
       "    .dataframe tbody tr th {\n",
       "        vertical-align: top;\n",
       "    }\n",
       "\n",
       "    .dataframe thead th {\n",
       "        text-align: right;\n",
       "    }\n",
       "</style>\n",
       "<table border=\"1\" class=\"dataframe\">\n",
       "  <thead>\n",
       "    <tr style=\"text-align: right;\">\n",
       "      <th></th>\n",
       "      <th>District</th>\n",
       "      <th>Count</th>\n",
       "    </tr>\n",
       "  </thead>\n",
       "  <tbody>\n",
       "    <tr>\n",
       "      <th>0</th>\n",
       "      <td>North Goa</td>\n",
       "      <td>102</td>\n",
       "    </tr>\n",
       "    <tr>\n",
       "      <th>1</th>\n",
       "      <td>South Goa</td>\n",
       "      <td>85</td>\n",
       "    </tr>\n",
       "  </tbody>\n",
       "</table>\n",
       "</div>"
      ],
      "text/plain": [
       "    District  Count\n",
       "0  North Goa    102\n",
       "1  South Goa     85"
      ]
     },
     "execution_count": 141,
     "metadata": {},
     "output_type": "execute_result"
    }
   ],
   "source": [
    "districts = column.apply(lambda x: str(x[:9]))\n",
    "\n",
    "print(\"Unique values:\", districts.unique())\n",
    "print(\"No. of unique values:\", len(districts.unique()))\n",
    "\n",
    "# Table of number of Sarpanchs in each district\n",
    "table = districts.value_counts().rename_axis('District').reset_index(name='Count')\n",
    "table"
   ]
  },
  {
   "cell_type": "code",
   "execution_count": 142,
   "id": "naughty-performance",
   "metadata": {},
   "outputs": [
    {
     "data": {
      "image/png": "[encoded data removed]",
      "text/plain": [
       "<Figure size 576x360 with 1 Axes>"
      ]
     },
     "metadata": {
      "needs_background": "light"
     },
     "output_type": "display_data"
    }
   ],
   "source": [
    "plt.figure(figsize = (8, 5))\n",
    "plt.bar(table[\"District\"], table[\"Count\"])\n",
    "plt.title(\"Number of Sarpanch's in each District\")\n",
    "plt.xlabel(\"District\")\n",
    "plt.ylabel(\"Count\")\n",
    "plt.show()"
   ]
  },
  {
   "cell_type": "markdown",
   "id": "impaired-navigator",
   "metadata": {},
   "source": [
    "### Name of Gram Panchayat\n",
    "<a class=\"anchor\" id=\"5.2.3\"></a>\n",
    "Name of the Gram Panchayat (elected offical)."
   ]
  },
  {
   "cell_type": "code",
   "execution_count": 143,
   "id": "atmospheric-toronto",
   "metadata": {},
   "outputs": [
    {
     "data": {
      "text/plain": [
       "0                     Dhargalim\n",
       "1                       Arambol\n",
       "2       Khajne-Amere-Porascadem\n",
       "3                        Parcem\n",
       "4             Ibrampur-Hankahne\n",
       "                 ...           \n",
       "182       Majorda Utorda Calata\n",
       "183                    Chicalim\n",
       "184    Cansaulim-Arossim-Cuelim\n",
       "185        Velsao-Pale-Issorcim\n",
       "186                    Sancoale\n",
       "Name: Name of Gram Panchayat, Length: 187, dtype: object"
      ]
     },
     "execution_count": 143,
     "metadata": {},
     "output_type": "execute_result"
    }
   ],
   "source": [
    "column = goa_proforma_B[\"Name of Gram Panchayat\"]\n",
    "column"
   ]
  },
  {
   "cell_type": "code",
   "execution_count": 144,
   "id": "jewish-identification",
   "metadata": {},
   "outputs": [
    {
     "name": "stdout",
     "output_type": "stream",
     "text": [
      "No. of unique values: 185\n",
      "Duplicates: {'Querim': 2, 'Navelim': 2}\n",
      "No. of duplicates: 2\n",
      "No. of null values: 0\n"
     ]
    }
   ],
   "source": [
    "print(\"No. of unique values:\", len(column.unique()))\n",
    "counter = dict(Counter(column))\n",
    "duplicates = {key:value for key, value in counter.items() if value > 1}\n",
    "print(\"Duplicates:\", duplicates)\n",
    "if len(duplicates) > 0:\n",
    "    print(\"No. of duplicates:\", len(duplicates))\n",
    "\n",
    "print(\"No. of null values:\", sum(column.isnull()))"
   ]
  },
  {
   "cell_type": "code",
   "execution_count": 146,
   "id": "fallen-combine",
   "metadata": {},
   "outputs": [
    {
     "data": {
      "text/html": [
       "<div>\n",
       "<style scoped>\n",
       "    .dataframe tbody tr th:only-of-type {\n",
       "        vertical-align: middle;\n",
       "    }\n",
       "\n",
       "    .dataframe tbody tr th {\n",
       "        vertical-align: top;\n",
       "    }\n",
       "\n",
       "    .dataframe thead th {\n",
       "        text-align: right;\n",
       "    }\n",
       "</style>\n",
       "<table border=\"1\" class=\"dataframe\">\n",
       "  <thead>\n",
       "    <tr style=\"text-align: right;\">\n",
       "      <th></th>\n",
       "      <th>Sr.No</th>\n",
       "      <th>Name of the District along with State</th>\n",
       "      <th>Name of Gram Panchayat</th>\n",
       "      <th>Gram Panchayat Bhawan Adress with Pin Code</th>\n",
       "    </tr>\n",
       "  </thead>\n",
       "  <tbody>\n",
       "    <tr>\n",
       "      <th>93</th>\n",
       "      <td>94</td>\n",
       "      <td>North Goa, Goa</td>\n",
       "      <td>Navelim</td>\n",
       "      <td>Navelim, Bicholim - Goa</td>\n",
       "    </tr>\n",
       "    <tr>\n",
       "      <th>129</th>\n",
       "      <td>130</td>\n",
       "      <td>South Goa, Goa</td>\n",
       "      <td>Navelim</td>\n",
       "      <td>Navelim, Salcete - Goa</td>\n",
       "    </tr>\n",
       "    <tr>\n",
       "      <th>81</th>\n",
       "      <td>82</td>\n",
       "      <td>North Goa, Goa</td>\n",
       "      <td>Querim</td>\n",
       "      <td>Querim,Sattari - Goa</td>\n",
       "    </tr>\n",
       "    <tr>\n",
       "      <th>113</th>\n",
       "      <td>114</td>\n",
       "      <td>South Goa, Goa</td>\n",
       "      <td>Querim</td>\n",
       "      <td>Querim, Ponda - Goa</td>\n",
       "    </tr>\n",
       "  </tbody>\n",
       "</table>\n",
       "</div>"
      ],
      "text/plain": [
       "    Sr.No Name of the District along with State Name of Gram Panchayat  \\\n",
       "93     94                        North Goa, Goa                Navelim   \n",
       "129   130                        South Goa, Goa                Navelim   \n",
       "81     82                        North Goa, Goa                 Querim   \n",
       "113   114                        South Goa, Goa                 Querim   \n",
       "\n",
       "    Gram Panchayat Bhawan Adress with Pin Code  \n",
       "93                     Navelim, Bicholim - Goa  \n",
       "129                     Navelim, Salcete - Goa  \n",
       "81                        Querim,Sattari - Goa  \n",
       "113                        Querim, Ponda - Goa  "
      ]
     },
     "execution_count": 146,
     "metadata": {},
     "output_type": "execute_result"
    }
   ],
   "source": [
    "goa_proforma_B[goa_proforma_B[\"Name of Gram Panchayat\"].isin(duplicates)].sort_values('Name of Gram Panchayat')"
   ]
  },
  {
   "cell_type": "markdown",
   "id": "insured-seeking",
   "metadata": {},
   "source": [
    "Duplicates in ```Name of Gram Panchayat``` are duplicates in rows."
   ]
  },
  {
   "cell_type": "markdown",
   "id": "noticed-closing",
   "metadata": {},
   "source": [
    "### Gram Panchayat Bhawan Adress with Pin Code\n",
    "<a class=\"anchor\" id=\"5.2.4\"></a>\n",
    "The address and pin code of the Gram Panchayat."
   ]
  },
  {
   "cell_type": "code",
   "execution_count": 147,
   "id": "civic-avenue",
   "metadata": {},
   "outputs": [
    {
     "data": {
      "text/plain": [
       "0                    Dhargalim, Pernem - Goa 403513\n",
       "1                      Arambol, Pernem - Goa 403524\n",
       "2      Khajne-Amere-Porascadem, Pernem - Goa 403512\n",
       "3                       Parcem, Pernem - Goa 403512\n",
       "4            Ibrampur-Hankahne, Pernem - Goa 403503\n",
       "                           ...                     \n",
       "182           Majorda Utorda Calata, Mormugoa - Goa\n",
       "183                        Chicalim, Mormugoa - Goa\n",
       "184        Cansaulim-Arossim-Cuelim, Mormugoa - Goa\n",
       "185            Velsao-Pale-Issorcim, Mormugoa - Goa\n",
       "186                         Sancoale,Mormugoa - Goa\n",
       "Name: Gram Panchayat Bhawan Adress with Pin Code, Length: 187, dtype: object"
      ]
     },
     "execution_count": 147,
     "metadata": {},
     "output_type": "execute_result"
    }
   ],
   "source": [
    "column = goa_proforma_B[\"Gram Panchayat Bhawan Adress with Pin Code\"]\n",
    "column"
   ]
  },
  {
   "cell_type": "code",
   "execution_count": 148,
   "id": "perceived-software",
   "metadata": {},
   "outputs": [
    {
     "name": "stdout",
     "output_type": "stream",
     "text": [
      "No. of unique values: 187\n",
      "Duplicates: {}\n",
      "No. of null values: 0\n"
     ]
    }
   ],
   "source": [
    "print(\"No. of unique values:\", len(column.unique()))\n",
    "counter = dict(Counter(column))\n",
    "duplicates = {key:value for key, value in counter.items() if value > 1}\n",
    "print(\"Duplicates:\", duplicates)\n",
    "if len(duplicates) > 0:\n",
    "    print(\"No. of duplicates:\", len(duplicates))\n",
    "\n",
    "print(\"No. of null values:\", sum(column.isnull()))"
   ]
  },
  {
   "cell_type": "markdown",
   "id": "bottom-dispatch",
   "metadata": {},
   "source": [
    "### Sheet C\n",
    "<a class=\"anchor\" id=\"5.3\"></a>\n",
    "Sheet C contains information about Panchayat Officers in Goa."
   ]
  },
  {
   "cell_type": "code",
   "execution_count": null,
   "id": "understood-shakespeare",
   "metadata": {},
   "outputs": [],
   "source": []
  }
 ],
 "metadata": {
  "kernelspec": {
   "display_name": "Python 3",
   "language": "python",
   "name": "python3"
  },
  "language_info": {
   "codemirror_mode": {
    "name": "ipython",
    "version": 3
   },
   "file_extension": ".py",
   "mimetype": "text/x-python",
   "name": "python",
   "nbconvert_exporter": "python",
   "pygments_lexer": "ipython3",
   "version": "3.9.2"
  }
 },
 "nbformat": 4,
 "nbformat_minor": 5
}
