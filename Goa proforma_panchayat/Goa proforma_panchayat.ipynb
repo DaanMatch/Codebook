{
 "cells": [
  {
   "cell_type": "markdown",
   "id": "medical-indication",
   "metadata": {},
   "source": [
    "# Codebook  \n",
    "**Authors:** Lauren Baker   \n",
    "Documenting existing data files of DaanMatch with information about location, owner, \"version\", source etc."
   ]
  },
  {
   "cell_type": "code",
   "execution_count": 1,
   "id": "molecular-hypothesis",
   "metadata": {},
   "outputs": [],
   "source": [
    "import boto3\n",
    "import numpy as np \n",
    "import pandas as pd\n",
    "pd.plotting.register_matplotlib_converters()\n",
    "import matplotlib.pyplot as plt\n",
    "%matplotlib inline\n",
    "from collections import Counter\n",
    "import statistics"
   ]
  },
  {
   "cell_type": "code",
   "execution_count": 2,
   "id": "collect-comfort",
   "metadata": {},
   "outputs": [],
   "source": [
    "client = boto3.client('s3')\n",
    "resource = boto3.resource('s3')\n",
    "my_bucket = resource.Bucket('daanmatchdatafiles')"
   ]
  },
  {
   "cell_type": "markdown",
   "id": "manufactured-mixture",
   "metadata": {},
   "source": [
    "# Goa proforma_panchayat.xlsx\n",
    "\n",
    "## TOC:\n",
    "* [About this dataset](#1)\n",
    "* [Cleaned datasets](#2)\n",
    "* [What's in this dataset](#3)\n",
    "* [Codebook](#4)\n",
    "    * [Missing values](#4.1)\n",
    "    * [Summary statistics](#4.2)\n",
    "* [Columns](#5)\n",
    "    * [Sheet A](#5.1)\n",
    "        * [Sr.No](#5.1.1)\n",
    "        * [Name of the District along with State](#5.1.2)\n",
    "        * [Name of Village Panchayat](#5.1.3)\n",
    "        * [Name of Sarpanch](#5.1.4)\n",
    "        * [Address with Pin Code](#5.1.5)\n",
    "        * [Mobile No./Email Address](#5.1.6)\n",
    "    * [Sheet B](#5.2)\n",
    "        * [Sr.No](#5.2.1)\n",
    "        * [Name of the District along with State](#5.2.2)\n",
    "        * [Name of Gram Panchayat](#5.2.3)\n",
    "        * [Gram Panchayat Bhawan Adress with Pin Code](#5.2.4)\n",
    "    * [Sheet C](#5.3)\n",
    "        * [Sr.No](#5.3.1)\n",
    "        * [Name of the District along with State](#5.3.2)\n",
    "        * [Name of Panchayat Officer (V.P. Secretary)](#5.3.3)\n",
    "        * [Mobile No.](#5.3.4)\n",
    "        * [Email Address](#5.3.5)\n",
    "    * [Sheet E](#5.4)\n",
    "        * [Sr.No](#5.4.1)\n",
    "        * [Name of District along with State](#5.4.2)\n",
    "        * [Name of Disctrict Panchayat President](#5.4.3)\n",
    "        * [Address with Pin Code](#5.4.4)\n",
    "        * [Mobile No. / Email Address](#5.4.5)\n",
    "    * [Sheet F](#5.5)\n",
    "        * [Sr.No](#5.5.1)\n",
    "        * [Name of the State](#5.5.2)\n",
    "        * [Name of the Nodal Officer / Designation](#5.5.3)\n",
    "        * [Mobile No. / Email Address](#5.5.4)\n",
    "        * [Postal Details](#5.5.5)"
   ]
  },
  {
   "cell_type": "markdown",
   "id": "demonstrated-orlando",
   "metadata": {},
   "source": [
    "**About this dataset**  <a class=\"anchor\" id=\"1\"></a>  \n",
    "Data provided by: Unknown.  \n",
    "Source: https://daanmatchdatafiles.s3.us-west-1.amazonaws.com/Goa+proforma_panchayat.xlsx  \n",
    "Type: xlsx  \n",
    "Last Modified: June 14, 2021, 21:47:22 (UTC-07:00)  \n",
    "Size: 50.8 KB"
   ]
  },
  {
   "cell_type": "code",
   "execution_count": 3,
   "id": "cloudy-territory",
   "metadata": {},
   "outputs": [
    {
     "name": "stdout",
     "output_type": "stream",
     "text": [
      "['(A)', '(B)', '(C)', '(D)', '(E)', '(F)']\n"
     ]
    }
   ],
   "source": [
    "path = \"s3://daanmatchdatafiles/Goa proforma_panchayat.xlsx\"\n",
    "goa_proforma = pd.ExcelFile(path)\n",
    "print(goa_proforma.sheet_names)"
   ]
  },
  {
   "cell_type": "code",
   "execution_count": 4,
   "id": "central-latin",
   "metadata": {},
   "outputs": [
    {
     "data": {
      "text/html": [
       "<div>\n",
       "<style scoped>\n",
       "    .dataframe tbody tr th:only-of-type {\n",
       "        vertical-align: middle;\n",
       "    }\n",
       "\n",
       "    .dataframe tbody tr th {\n",
       "        vertical-align: top;\n",
       "    }\n",
       "\n",
       "    .dataframe thead th {\n",
       "        text-align: right;\n",
       "    }\n",
       "</style>\n",
       "<table border=\"1\" class=\"dataframe\">\n",
       "  <thead>\n",
       "    <tr style=\"text-align: right;\">\n",
       "      <th></th>\n",
       "      <th>Unnamed: 0</th>\n",
       "      <th>Unnamed: 1</th>\n",
       "      <th>Unnamed: 2</th>\n",
       "      <th>Unnamed: 3</th>\n",
       "      <th>Unnamed: 4</th>\n",
       "      <th>Unnamed: 5</th>\n",
       "    </tr>\n",
       "  </thead>\n",
       "  <tbody>\n",
       "    <tr>\n",
       "      <th>0</th>\n",
       "      <td>Sr.No</td>\n",
       "      <td>Name of the District along with State</td>\n",
       "      <td>Name of Village Panchayat</td>\n",
       "      <td>Name of Sarpanch</td>\n",
       "      <td>Address with Pin Code</td>\n",
       "      <td>Mobile No./Email Address</td>\n",
       "    </tr>\n",
       "    <tr>\n",
       "      <th>1</th>\n",
       "      <td>NaN</td>\n",
       "      <td>North Goa, V.P. Dhargalim</td>\n",
       "      <td>Dhargalim</td>\n",
       "      <td>Shri.  Murarri Waradkar (Administrator)</td>\n",
       "      <td>Mahakhajan, Dhargal, Pernem -Goa 403512</td>\n",
       "      <td>9823717910</td>\n",
       "    </tr>\n",
       "    <tr>\n",
       "      <th>2</th>\n",
       "      <td>NaN</td>\n",
       "      <td>North Goa, V.P. Arambol</td>\n",
       "      <td>Arambol</td>\n",
       "      <td>Smt. Pranali P. Vaigankar</td>\n",
       "      <td>H. No. 302/1, Khalchawada, Arambol, Pernem – G...</td>\n",
       "      <td>8007881645</td>\n",
       "    </tr>\n",
       "    <tr>\n",
       "      <th>3</th>\n",
       "      <td>NaN</td>\n",
       "      <td>North Goa, V.P. Khajne-Amere-Poroscodem</td>\n",
       "      <td>Khajne-Amere-Porascadem</td>\n",
       "      <td>Smt. Jayshri Jairam Pirankar</td>\n",
       "      <td>H.No.75, Naibag, Pernem, Goa 403512</td>\n",
       "      <td>8390895492</td>\n",
       "    </tr>\n",
       "    <tr>\n",
       "      <th>4</th>\n",
       "      <td>NaN</td>\n",
       "      <td>North Goa, V.P. Parcem</td>\n",
       "      <td>Parcem</td>\n",
       "      <td>Shri. Rama Naik</td>\n",
       "      <td>Chonsai, Parcem Pernem-Goa 403512</td>\n",
       "      <td>9823321192</td>\n",
       "    </tr>\n",
       "  </tbody>\n",
       "</table>\n",
       "</div>"
      ],
      "text/plain": [
       "  Unnamed: 0                               Unnamed: 1  \\\n",
       "0      Sr.No    Name of the District along with State   \n",
       "1        NaN                North Goa, V.P. Dhargalim   \n",
       "2        NaN                  North Goa, V.P. Arambol   \n",
       "3        NaN  North Goa, V.P. Khajne-Amere-Poroscodem   \n",
       "4        NaN                   North Goa, V.P. Parcem   \n",
       "\n",
       "                  Unnamed: 2                               Unnamed: 3  \\\n",
       "0  Name of Village Panchayat                         Name of Sarpanch   \n",
       "1                  Dhargalim  Shri.  Murarri Waradkar (Administrator)   \n",
       "2                    Arambol                Smt. Pranali P. Vaigankar   \n",
       "3    Khajne-Amere-Porascadem             Smt. Jayshri Jairam Pirankar   \n",
       "4                     Parcem                          Shri. Rama Naik   \n",
       "\n",
       "                                          Unnamed: 4                Unnamed: 5  \n",
       "0                              Address with Pin Code  Mobile No./Email Address  \n",
       "1            Mahakhajan, Dhargal, Pernem -Goa 403512                9823717910  \n",
       "2  H. No. 302/1, Khalchawada, Arambol, Pernem – G...                8007881645  \n",
       "3                H.No.75, Naibag, Pernem, Goa 403512                8390895492  \n",
       "4                  Chonsai, Parcem Pernem-Goa 403512                9823321192  "
      ]
     },
     "execution_count": 4,
     "metadata": {},
     "output_type": "execute_result"
    }
   ],
   "source": [
    "goa_proforma_A = goa_proforma.parse('(A)')\n",
    "goa_proforma_A.head()"
   ]
  },
  {
   "cell_type": "code",
   "execution_count": 5,
   "id": "statewide-choice",
   "metadata": {},
   "outputs": [
    {
     "data": {
      "text/html": [
       "<div>\n",
       "<style scoped>\n",
       "    .dataframe tbody tr th:only-of-type {\n",
       "        vertical-align: middle;\n",
       "    }\n",
       "\n",
       "    .dataframe tbody tr th {\n",
       "        vertical-align: top;\n",
       "    }\n",
       "\n",
       "    .dataframe thead th {\n",
       "        text-align: right;\n",
       "    }\n",
       "</style>\n",
       "<table border=\"1\" class=\"dataframe\">\n",
       "  <thead>\n",
       "    <tr style=\"text-align: right;\">\n",
       "      <th></th>\n",
       "      <th>PROFORMA</th>\n",
       "      <th>Unnamed: 1</th>\n",
       "      <th>Unnamed: 2</th>\n",
       "      <th>Unnamed: 3</th>\n",
       "    </tr>\n",
       "  </thead>\n",
       "  <tbody>\n",
       "    <tr>\n",
       "      <th>0</th>\n",
       "      <td>NaN</td>\n",
       "      <td>NaN</td>\n",
       "      <td>NaN</td>\n",
       "      <td>NaN</td>\n",
       "    </tr>\n",
       "    <tr>\n",
       "      <th>1</th>\n",
       "      <td>(B)</td>\n",
       "      <td>NaN</td>\n",
       "      <td>NaN</td>\n",
       "      <td>NaN</td>\n",
       "    </tr>\n",
       "    <tr>\n",
       "      <th>2</th>\n",
       "      <td>NaN</td>\n",
       "      <td>NaN</td>\n",
       "      <td>NaN</td>\n",
       "      <td>NaN</td>\n",
       "    </tr>\n",
       "    <tr>\n",
       "      <th>3</th>\n",
       "      <td>Sr.No</td>\n",
       "      <td>Name of the District along with State</td>\n",
       "      <td>Name of Gram Panchayat</td>\n",
       "      <td>Gram Panchayat Bhawan Adress with Pin Code</td>\n",
       "    </tr>\n",
       "    <tr>\n",
       "      <th>4</th>\n",
       "      <td>1</td>\n",
       "      <td>North Goa, Goa</td>\n",
       "      <td>Dhargalim</td>\n",
       "      <td>Dhargalim, Pernem - Goa 403513</td>\n",
       "    </tr>\n",
       "  </tbody>\n",
       "</table>\n",
       "</div>"
      ],
      "text/plain": [
       "  PROFORMA                             Unnamed: 1              Unnamed: 2  \\\n",
       "0      NaN                                    NaN                     NaN   \n",
       "1      (B)                                    NaN                     NaN   \n",
       "2      NaN                                    NaN                     NaN   \n",
       "3    Sr.No  Name of the District along with State  Name of Gram Panchayat   \n",
       "4        1                         North Goa, Goa               Dhargalim   \n",
       "\n",
       "                                   Unnamed: 3  \n",
       "0                                         NaN  \n",
       "1                                         NaN  \n",
       "2                                         NaN  \n",
       "3  Gram Panchayat Bhawan Adress with Pin Code  \n",
       "4              Dhargalim, Pernem - Goa 403513  "
      ]
     },
     "execution_count": 5,
     "metadata": {},
     "output_type": "execute_result"
    }
   ],
   "source": [
    "goa_proforma_B = goa_proforma.parse('(B)')\n",
    "goa_proforma_B.head()"
   ]
  },
  {
   "cell_type": "code",
   "execution_count": 6,
   "id": "touched-blind",
   "metadata": {},
   "outputs": [
    {
     "data": {
      "text/html": [
       "<div>\n",
       "<style scoped>\n",
       "    .dataframe tbody tr th:only-of-type {\n",
       "        vertical-align: middle;\n",
       "    }\n",
       "\n",
       "    .dataframe tbody tr th {\n",
       "        vertical-align: top;\n",
       "    }\n",
       "\n",
       "    .dataframe thead th {\n",
       "        text-align: right;\n",
       "    }\n",
       "</style>\n",
       "<table border=\"1\" class=\"dataframe\">\n",
       "  <thead>\n",
       "    <tr style=\"text-align: right;\">\n",
       "      <th></th>\n",
       "      <th>PROFORMA</th>\n",
       "      <th>Unnamed: 1</th>\n",
       "      <th>Unnamed: 2</th>\n",
       "      <th>Unnamed: 3</th>\n",
       "      <th>Unnamed: 4</th>\n",
       "    </tr>\n",
       "  </thead>\n",
       "  <tbody>\n",
       "    <tr>\n",
       "      <th>0</th>\n",
       "      <td>NaN</td>\n",
       "      <td>NaN</td>\n",
       "      <td>NaN</td>\n",
       "      <td>NaN</td>\n",
       "      <td>NaN</td>\n",
       "    </tr>\n",
       "    <tr>\n",
       "      <th>1</th>\n",
       "      <td>(C)</td>\n",
       "      <td>NaN</td>\n",
       "      <td>NaN</td>\n",
       "      <td>NaN</td>\n",
       "      <td>NaN</td>\n",
       "    </tr>\n",
       "    <tr>\n",
       "      <th>2</th>\n",
       "      <td>NaN</td>\n",
       "      <td>NaN</td>\n",
       "      <td>NaN</td>\n",
       "      <td>NaN</td>\n",
       "      <td>NaN</td>\n",
       "    </tr>\n",
       "    <tr>\n",
       "      <th>3</th>\n",
       "      <td>Sr.No</td>\n",
       "      <td>Name of the District along with State</td>\n",
       "      <td>Name of Panchayat Officer (V.P. Secretary)</td>\n",
       "      <td>Mobile No.</td>\n",
       "      <td>Email Address</td>\n",
       "    </tr>\n",
       "    <tr>\n",
       "      <th>4</th>\n",
       "      <td>1</td>\n",
       "      <td>North Goa, Goa</td>\n",
       "      <td>Shri. Subodh Prabhu</td>\n",
       "      <td>9970451419</td>\n",
       "      <td>NaN</td>\n",
       "    </tr>\n",
       "  </tbody>\n",
       "</table>\n",
       "</div>"
      ],
      "text/plain": [
       "  PROFORMA                             Unnamed: 1  \\\n",
       "0      NaN                                    NaN   \n",
       "1      (C)                                    NaN   \n",
       "2      NaN                                    NaN   \n",
       "3    Sr.No  Name of the District along with State   \n",
       "4        1                         North Goa, Goa   \n",
       "\n",
       "                                   Unnamed: 2  Unnamed: 3     Unnamed: 4  \n",
       "0                                         NaN         NaN            NaN  \n",
       "1                                         NaN         NaN            NaN  \n",
       "2                                         NaN         NaN            NaN  \n",
       "3  Name of Panchayat Officer (V.P. Secretary)  Mobile No.  Email Address  \n",
       "4                         Shri. Subodh Prabhu  9970451419            NaN  "
      ]
     },
     "execution_count": 6,
     "metadata": {},
     "output_type": "execute_result"
    }
   ],
   "source": [
    "goa_proforma_C = goa_proforma.parse('(C)')\n",
    "goa_proforma_C.head()"
   ]
  },
  {
   "cell_type": "code",
   "execution_count": 7,
   "id": "interstate-luxembourg",
   "metadata": {},
   "outputs": [
    {
     "data": {
      "text/html": [
       "<div>\n",
       "<style scoped>\n",
       "    .dataframe tbody tr th:only-of-type {\n",
       "        vertical-align: middle;\n",
       "    }\n",
       "\n",
       "    .dataframe tbody tr th {\n",
       "        vertical-align: top;\n",
       "    }\n",
       "\n",
       "    .dataframe thead th {\n",
       "        text-align: right;\n",
       "    }\n",
       "</style>\n",
       "<table border=\"1\" class=\"dataframe\">\n",
       "  <thead>\n",
       "    <tr style=\"text-align: right;\">\n",
       "      <th></th>\n",
       "      <th>PROFORMA</th>\n",
       "      <th>Unnamed: 1</th>\n",
       "      <th>Unnamed: 2</th>\n",
       "      <th>Unnamed: 3</th>\n",
       "      <th>Unnamed: 4</th>\n",
       "    </tr>\n",
       "  </thead>\n",
       "  <tbody>\n",
       "    <tr>\n",
       "      <th>0</th>\n",
       "      <td>NaN</td>\n",
       "      <td>NaN</td>\n",
       "      <td>NaN</td>\n",
       "      <td>NaN</td>\n",
       "      <td>NaN</td>\n",
       "    </tr>\n",
       "    <tr>\n",
       "      <th>1</th>\n",
       "      <td>(D)</td>\n",
       "      <td>NaN</td>\n",
       "      <td>NaN</td>\n",
       "      <td>NaN</td>\n",
       "      <td>NaN</td>\n",
       "    </tr>\n",
       "    <tr>\n",
       "      <th>2</th>\n",
       "      <td>NaN</td>\n",
       "      <td>NaN</td>\n",
       "      <td>NaN</td>\n",
       "      <td>NaN</td>\n",
       "      <td>NaN</td>\n",
       "    </tr>\n",
       "    <tr>\n",
       "      <th>3</th>\n",
       "      <td>Sr.No</td>\n",
       "      <td>Name of the District along with State</td>\n",
       "      <td>Name of Block Panchayat President</td>\n",
       "      <td>Address with Pin Code</td>\n",
       "      <td>Mobile No. / Email Address</td>\n",
       "    </tr>\n",
       "    <tr>\n",
       "      <th>4</th>\n",
       "      <td>1</td>\n",
       "      <td>GOA</td>\n",
       "      <td>NaN</td>\n",
       "      <td>NaN</td>\n",
       "      <td>NaN</td>\n",
       "    </tr>\n",
       "  </tbody>\n",
       "</table>\n",
       "</div>"
      ],
      "text/plain": [
       "  PROFORMA                             Unnamed: 1  \\\n",
       "0      NaN                                    NaN   \n",
       "1      (D)                                    NaN   \n",
       "2      NaN                                    NaN   \n",
       "3    Sr.No  Name of the District along with State   \n",
       "4        1                                    GOA   \n",
       "\n",
       "                          Unnamed: 2             Unnamed: 3  \\\n",
       "0                                NaN                    NaN   \n",
       "1                                NaN                    NaN   \n",
       "2                                NaN                    NaN   \n",
       "3  Name of Block Panchayat President  Address with Pin Code   \n",
       "4                                NaN                    NaN   \n",
       "\n",
       "                   Unnamed: 4  \n",
       "0                         NaN  \n",
       "1                         NaN  \n",
       "2                         NaN  \n",
       "3  Mobile No. / Email Address  \n",
       "4                         NaN  "
      ]
     },
     "execution_count": 7,
     "metadata": {},
     "output_type": "execute_result"
    }
   ],
   "source": [
    "goa_proforma_D = goa_proforma.parse('(D)')\n",
    "goa_proforma_D.head()"
   ]
  },
  {
   "cell_type": "code",
   "execution_count": 8,
   "id": "resident-therapist",
   "metadata": {},
   "outputs": [
    {
     "data": {
      "text/html": [
       "<div>\n",
       "<style scoped>\n",
       "    .dataframe tbody tr th:only-of-type {\n",
       "        vertical-align: middle;\n",
       "    }\n",
       "\n",
       "    .dataframe tbody tr th {\n",
       "        vertical-align: top;\n",
       "    }\n",
       "\n",
       "    .dataframe thead th {\n",
       "        text-align: right;\n",
       "    }\n",
       "</style>\n",
       "<table border=\"1\" class=\"dataframe\">\n",
       "  <thead>\n",
       "    <tr style=\"text-align: right;\">\n",
       "      <th></th>\n",
       "      <th>(E)</th>\n",
       "      <th>Unnamed: 1</th>\n",
       "      <th>Unnamed: 2</th>\n",
       "      <th>Unnamed: 3</th>\n",
       "      <th>Unnamed: 4</th>\n",
       "    </tr>\n",
       "  </thead>\n",
       "  <tbody>\n",
       "    <tr>\n",
       "      <th>0</th>\n",
       "      <td>NaN</td>\n",
       "      <td>NaN</td>\n",
       "      <td>NaN</td>\n",
       "      <td>NaN</td>\n",
       "      <td>NaN</td>\n",
       "    </tr>\n",
       "    <tr>\n",
       "      <th>1</th>\n",
       "      <td>Sr.No</td>\n",
       "      <td>Name of District along with State</td>\n",
       "      <td>Name of Disctrict Panchayat President</td>\n",
       "      <td>Address with Pin Code</td>\n",
       "      <td>Mobile No. / Email Address</td>\n",
       "    </tr>\n",
       "    <tr>\n",
       "      <th>2</th>\n",
       "      <td>1</td>\n",
       "      <td>North Goa, GOA</td>\n",
       "      <td>Smt.Ankita L Navelkar - Adhyaksha</td>\n",
       "      <td>H.No 247, Lalbag, Vithalpur, P.O. Sanquelim, B...</td>\n",
       "      <td>9923446211</td>\n",
       "    </tr>\n",
       "    <tr>\n",
       "      <th>3</th>\n",
       "      <td>2</td>\n",
       "      <td>North Goa, GOA</td>\n",
       "      <td>Shri. Vasudev L Korgaonkar - Upadhyaksha</td>\n",
       "      <td>H.No 353, Khalap wado, Canca, Bardez - Goa</td>\n",
       "      <td>9850453006</td>\n",
       "    </tr>\n",
       "    <tr>\n",
       "      <th>4</th>\n",
       "      <td>3</td>\n",
       "      <td>South Goa, GOA</td>\n",
       "      <td>Shri. Navnaath G. Naik - Adhyaksha</td>\n",
       "      <td>H.No 164/1, Bhaati, Sanguem-Goa</td>\n",
       "      <td>9421240037</td>\n",
       "    </tr>\n",
       "  </tbody>\n",
       "</table>\n",
       "</div>"
      ],
      "text/plain": [
       "     (E)                         Unnamed: 1  \\\n",
       "0    NaN                                NaN   \n",
       "1  Sr.No  Name of District along with State   \n",
       "2      1                     North Goa, GOA   \n",
       "3      2                     North Goa, GOA   \n",
       "4      3                     South Goa, GOA   \n",
       "\n",
       "                                 Unnamed: 2  \\\n",
       "0                                       NaN   \n",
       "1     Name of Disctrict Panchayat President   \n",
       "2         Smt.Ankita L Navelkar - Adhyaksha   \n",
       "3  Shri. Vasudev L Korgaonkar - Upadhyaksha   \n",
       "4        Shri. Navnaath G. Naik - Adhyaksha   \n",
       "\n",
       "                                          Unnamed: 3  \\\n",
       "0                                                NaN   \n",
       "1                              Address with Pin Code   \n",
       "2  H.No 247, Lalbag, Vithalpur, P.O. Sanquelim, B...   \n",
       "3         H.No 353, Khalap wado, Canca, Bardez - Goa   \n",
       "4                    H.No 164/1, Bhaati, Sanguem-Goa   \n",
       "\n",
       "                   Unnamed: 4  \n",
       "0                         NaN  \n",
       "1  Mobile No. / Email Address  \n",
       "2                  9923446211  \n",
       "3                  9850453006  \n",
       "4                  9421240037  "
      ]
     },
     "execution_count": 8,
     "metadata": {},
     "output_type": "execute_result"
    }
   ],
   "source": [
    "goa_proforma_E = goa_proforma.parse('(E)')\n",
    "goa_proforma_E.head()"
   ]
  },
  {
   "cell_type": "code",
   "execution_count": 9,
   "id": "middle-petersburg",
   "metadata": {},
   "outputs": [
    {
     "data": {
      "text/html": [
       "<div>\n",
       "<style scoped>\n",
       "    .dataframe tbody tr th:only-of-type {\n",
       "        vertical-align: middle;\n",
       "    }\n",
       "\n",
       "    .dataframe tbody tr th {\n",
       "        vertical-align: top;\n",
       "    }\n",
       "\n",
       "    .dataframe thead th {\n",
       "        text-align: right;\n",
       "    }\n",
       "</style>\n",
       "<table border=\"1\" class=\"dataframe\">\n",
       "  <thead>\n",
       "    <tr style=\"text-align: right;\">\n",
       "      <th></th>\n",
       "      <th>PROFORMA</th>\n",
       "      <th>Unnamed: 1</th>\n",
       "      <th>Unnamed: 2</th>\n",
       "      <th>Unnamed: 3</th>\n",
       "      <th>Unnamed: 4</th>\n",
       "    </tr>\n",
       "  </thead>\n",
       "  <tbody>\n",
       "    <tr>\n",
       "      <th>0</th>\n",
       "      <td>NaN</td>\n",
       "      <td>NaN</td>\n",
       "      <td>NaN</td>\n",
       "      <td>NaN</td>\n",
       "      <td>NaN</td>\n",
       "    </tr>\n",
       "    <tr>\n",
       "      <th>1</th>\n",
       "      <td>(F)</td>\n",
       "      <td>NaN</td>\n",
       "      <td>NaN</td>\n",
       "      <td>NaN</td>\n",
       "      <td>NaN</td>\n",
       "    </tr>\n",
       "    <tr>\n",
       "      <th>2</th>\n",
       "      <td>NaN</td>\n",
       "      <td>NaN</td>\n",
       "      <td>NaN</td>\n",
       "      <td>NaN</td>\n",
       "      <td>NaN</td>\n",
       "    </tr>\n",
       "    <tr>\n",
       "      <th>3</th>\n",
       "      <td>Sr.No</td>\n",
       "      <td>Name of the State</td>\n",
       "      <td>Name of the Nodal Officer / Designation</td>\n",
       "      <td>Mobile No. / Email Address</td>\n",
       "      <td>Postal Details</td>\n",
       "    </tr>\n",
       "    <tr>\n",
       "      <th>4</th>\n",
       "      <td>1</td>\n",
       "      <td>GOA</td>\n",
       "      <td>Shri. Gurudas Pilarnekar, Director, Directorat...</td>\n",
       "      <td>9763554136 dir-panc.goa@nic.in</td>\n",
       "      <td>3rd lift, 3rd floor, Junta House, Panaji - Goa</td>\n",
       "    </tr>\n",
       "  </tbody>\n",
       "</table>\n",
       "</div>"
      ],
      "text/plain": [
       "  PROFORMA         Unnamed: 1  \\\n",
       "0      NaN                NaN   \n",
       "1      (F)                NaN   \n",
       "2      NaN                NaN   \n",
       "3    Sr.No  Name of the State   \n",
       "4        1                GOA   \n",
       "\n",
       "                                          Unnamed: 2  \\\n",
       "0                                                NaN   \n",
       "1                                                NaN   \n",
       "2                                                NaN   \n",
       "3            Name of the Nodal Officer / Designation   \n",
       "4  Shri. Gurudas Pilarnekar, Director, Directorat...   \n",
       "\n",
       "                       Unnamed: 3  \\\n",
       "0                             NaN   \n",
       "1                             NaN   \n",
       "2                             NaN   \n",
       "3      Mobile No. / Email Address   \n",
       "4  9763554136 dir-panc.goa@nic.in   \n",
       "\n",
       "                                       Unnamed: 4  \n",
       "0                                             NaN  \n",
       "1                                             NaN  \n",
       "2                                             NaN  \n",
       "3                                  Postal Details  \n",
       "4  3rd lift, 3rd floor, Junta House, Panaji - Goa  "
      ]
     },
     "execution_count": 9,
     "metadata": {},
     "output_type": "execute_result"
    }
   ],
   "source": [
    "goa_proforma_F = goa_proforma.parse('(F)')\n",
    "goa_proforma_F.head()"
   ]
  },
  {
   "cell_type": "markdown",
   "id": "reverse-coverage",
   "metadata": {},
   "source": [
    "**Cleaned datasets**  <a class=\"anchor\" id=\"2\"></a>  "
   ]
  },
  {
   "cell_type": "markdown",
   "id": "duplicate-conditions",
   "metadata": {},
   "source": [
    "Cleaning up the data in Sheet A:"
   ]
  },
  {
   "cell_type": "code",
   "execution_count": 10,
   "id": "specified-chapel",
   "metadata": {},
   "outputs": [
    {
     "data": {
      "text/html": [
       "<div>\n",
       "<style scoped>\n",
       "    .dataframe tbody tr th:only-of-type {\n",
       "        vertical-align: middle;\n",
       "    }\n",
       "\n",
       "    .dataframe tbody tr th {\n",
       "        vertical-align: top;\n",
       "    }\n",
       "\n",
       "    .dataframe thead th {\n",
       "        text-align: right;\n",
       "    }\n",
       "</style>\n",
       "<table border=\"1\" class=\"dataframe\">\n",
       "  <thead>\n",
       "    <tr style=\"text-align: right;\">\n",
       "      <th></th>\n",
       "      <th>Sr.No</th>\n",
       "      <th>Name of the District along with State</th>\n",
       "      <th>Name of Village Panchayat</th>\n",
       "      <th>Name of Sarpanch</th>\n",
       "      <th>Address with Pin Code</th>\n",
       "      <th>Mobile No./Email Address</th>\n",
       "    </tr>\n",
       "  </thead>\n",
       "  <tbody>\n",
       "    <tr>\n",
       "      <th>0</th>\n",
       "      <td>NaN</td>\n",
       "      <td>North Goa, V.P. Dhargalim</td>\n",
       "      <td>Dhargalim</td>\n",
       "      <td>Shri.  Murarri Waradkar (Administrator)</td>\n",
       "      <td>Mahakhajan, Dhargal, Pernem -Goa 403512</td>\n",
       "      <td>9823717910</td>\n",
       "    </tr>\n",
       "    <tr>\n",
       "      <th>1</th>\n",
       "      <td>NaN</td>\n",
       "      <td>North Goa, V.P. Arambol</td>\n",
       "      <td>Arambol</td>\n",
       "      <td>Smt. Pranali P. Vaigankar</td>\n",
       "      <td>H. No. 302/1, Khalchawada, Arambol, Pernem – G...</td>\n",
       "      <td>8007881645</td>\n",
       "    </tr>\n",
       "    <tr>\n",
       "      <th>2</th>\n",
       "      <td>NaN</td>\n",
       "      <td>North Goa, V.P. Khajne-Amere-Poroscodem</td>\n",
       "      <td>Khajne-Amere-Porascadem</td>\n",
       "      <td>Smt. Jayshri Jairam Pirankar</td>\n",
       "      <td>H.No.75, Naibag, Pernem, Goa 403512</td>\n",
       "      <td>8390895492</td>\n",
       "    </tr>\n",
       "    <tr>\n",
       "      <th>3</th>\n",
       "      <td>NaN</td>\n",
       "      <td>North Goa, V.P. Parcem</td>\n",
       "      <td>Parcem</td>\n",
       "      <td>Shri. Rama Naik</td>\n",
       "      <td>Chonsai, Parcem Pernem-Goa 403512</td>\n",
       "      <td>9823321192</td>\n",
       "    </tr>\n",
       "    <tr>\n",
       "      <th>4</th>\n",
       "      <td>NaN</td>\n",
       "      <td>North Goa, V.P. Ibrampur - Hankahne</td>\n",
       "      <td>Ibrampur-Hankahne</td>\n",
       "      <td>Shri. Ashok Mahadev Dhauskar</td>\n",
       "      <td>H.No. 89, Ibrampur-Pernem – Goa 403512</td>\n",
       "      <td>9421240482</td>\n",
       "    </tr>\n",
       "    <tr>\n",
       "      <th>...</th>\n",
       "      <td>...</td>\n",
       "      <td>...</td>\n",
       "      <td>...</td>\n",
       "      <td>...</td>\n",
       "      <td>...</td>\n",
       "      <td>...</td>\n",
       "    </tr>\n",
       "    <tr>\n",
       "      <th>182</th>\n",
       "      <td>NaN</td>\n",
       "      <td>South Goa</td>\n",
       "      <td>Majorda Utorda Calata</td>\n",
       "      <td>Mr.Moises A. Vaz</td>\n",
       "      <td>---</td>\n",
       "      <td>9922929636</td>\n",
       "    </tr>\n",
       "    <tr>\n",
       "      <th>183</th>\n",
       "      <td>NaN</td>\n",
       "      <td>South Goa</td>\n",
       "      <td>Chicalim</td>\n",
       "      <td>Mrs.Prajoti L. Kudaikar</td>\n",
       "      <td>---</td>\n",
       "      <td>9049843109</td>\n",
       "    </tr>\n",
       "    <tr>\n",
       "      <th>184</th>\n",
       "      <td>NaN</td>\n",
       "      <td>South Goa</td>\n",
       "      <td>Cansaulim-Arossim-Cuelim</td>\n",
       "      <td>Mrs.FilomenaD,Mello</td>\n",
       "      <td>---</td>\n",
       "      <td>9545485086</td>\n",
       "    </tr>\n",
       "    <tr>\n",
       "      <th>185</th>\n",
       "      <td>NaN</td>\n",
       "      <td>South Goa</td>\n",
       "      <td>Velsao-Pale-Issorcim</td>\n",
       "      <td>Mr. Henrique D’Mello</td>\n",
       "      <td>---</td>\n",
       "      <td>9657896983</td>\n",
       "    </tr>\n",
       "    <tr>\n",
       "      <th>186</th>\n",
       "      <td>NaN</td>\n",
       "      <td>South Goa</td>\n",
       "      <td>Sancoale</td>\n",
       "      <td>Mr.Ramakant Narayan Borkar</td>\n",
       "      <td>---</td>\n",
       "      <td>9860187445</td>\n",
       "    </tr>\n",
       "  </tbody>\n",
       "</table>\n",
       "<p>187 rows × 6 columns</p>\n",
       "</div>"
      ],
      "text/plain": [
       "    Sr.No    Name of the District along with State Name of Village Panchayat  \\\n",
       "0     NaN                North Goa, V.P. Dhargalim                 Dhargalim   \n",
       "1     NaN                  North Goa, V.P. Arambol                   Arambol   \n",
       "2     NaN  North Goa, V.P. Khajne-Amere-Poroscodem   Khajne-Amere-Porascadem   \n",
       "3     NaN                   North Goa, V.P. Parcem                    Parcem   \n",
       "4     NaN      North Goa, V.P. Ibrampur - Hankahne         Ibrampur-Hankahne   \n",
       "..    ...                                      ...                       ...   \n",
       "182   NaN                                South Goa     Majorda Utorda Calata   \n",
       "183   NaN                                South Goa                  Chicalim   \n",
       "184   NaN                                South Goa  Cansaulim-Arossim-Cuelim   \n",
       "185   NaN                                South Goa      Velsao-Pale-Issorcim   \n",
       "186   NaN                                South Goa                  Sancoale   \n",
       "\n",
       "                            Name of Sarpanch  \\\n",
       "0    Shri.  Murarri Waradkar (Administrator)   \n",
       "1                  Smt. Pranali P. Vaigankar   \n",
       "2               Smt. Jayshri Jairam Pirankar   \n",
       "3                            Shri. Rama Naik   \n",
       "4               Shri. Ashok Mahadev Dhauskar   \n",
       "..                                       ...   \n",
       "182                         Mr.Moises A. Vaz   \n",
       "183                  Mrs.Prajoti L. Kudaikar   \n",
       "184                      Mrs.FilomenaD,Mello   \n",
       "185                     Mr. Henrique D’Mello   \n",
       "186               Mr.Ramakant Narayan Borkar   \n",
       "\n",
       "                                 Address with Pin Code  \\\n",
       "0              Mahakhajan, Dhargal, Pernem -Goa 403512   \n",
       "1    H. No. 302/1, Khalchawada, Arambol, Pernem – G...   \n",
       "2                  H.No.75, Naibag, Pernem, Goa 403512   \n",
       "3                    Chonsai, Parcem Pernem-Goa 403512   \n",
       "4               H.No. 89, Ibrampur-Pernem – Goa 403512   \n",
       "..                                                 ...   \n",
       "182                                                ---   \n",
       "183                                                ---   \n",
       "184                                                ---   \n",
       "185                                                ---   \n",
       "186                                                ---   \n",
       "\n",
       "    Mobile No./Email Address  \n",
       "0                 9823717910  \n",
       "1                 8007881645  \n",
       "2                 8390895492  \n",
       "3                 9823321192  \n",
       "4                 9421240482  \n",
       "..                       ...  \n",
       "182               9922929636  \n",
       "183               9049843109  \n",
       "184               9545485086  \n",
       "185               9657896983  \n",
       "186               9860187445  \n",
       "\n",
       "[187 rows x 6 columns]"
      ]
     },
     "execution_count": 10,
     "metadata": {},
     "output_type": "execute_result"
    }
   ],
   "source": [
    "goa_proforma_A.rename(columns = {'Unnamed: 0' : 'Sr.No', \n",
    "                                 'Unnamed: 1' : 'Name of the District along with State', \n",
    "                                 'Unnamed: 2' : 'Name of Village Panchayat', \n",
    "                                 'Unnamed: 3' : 'Name of Sarpanch', \n",
    "                                 'Unnamed: 4' : 'Address with Pin Code', \n",
    "                                 'Unnamed: 5' : 'Mobile No./Email Address'}, inplace = True)\n",
    "goa_proforma_A = goa_proforma_A.iloc[1:, :]\n",
    "goa_proforma_A = goa_proforma_A.reset_index(drop = True)\n",
    "goa_proforma_A"
   ]
  },
  {
   "cell_type": "markdown",
   "id": "suffering-industry",
   "metadata": {},
   "source": [
    "Cleaning up the data in Sheet B:"
   ]
  },
  {
   "cell_type": "code",
   "execution_count": 11,
   "id": "indian-seller",
   "metadata": {},
   "outputs": [
    {
     "data": {
      "text/html": [
       "<div>\n",
       "<style scoped>\n",
       "    .dataframe tbody tr th:only-of-type {\n",
       "        vertical-align: middle;\n",
       "    }\n",
       "\n",
       "    .dataframe tbody tr th {\n",
       "        vertical-align: top;\n",
       "    }\n",
       "\n",
       "    .dataframe thead th {\n",
       "        text-align: right;\n",
       "    }\n",
       "</style>\n",
       "<table border=\"1\" class=\"dataframe\">\n",
       "  <thead>\n",
       "    <tr style=\"text-align: right;\">\n",
       "      <th></th>\n",
       "      <th>Sr.No</th>\n",
       "      <th>Name of the District along with State</th>\n",
       "      <th>Name of Gram Panchayat</th>\n",
       "      <th>Gram Panchayat Bhawan Adress with Pin Code</th>\n",
       "    </tr>\n",
       "  </thead>\n",
       "  <tbody>\n",
       "    <tr>\n",
       "      <th>0</th>\n",
       "      <td>1</td>\n",
       "      <td>North Goa, Goa</td>\n",
       "      <td>Dhargalim</td>\n",
       "      <td>Dhargalim, Pernem - Goa 403513</td>\n",
       "    </tr>\n",
       "    <tr>\n",
       "      <th>1</th>\n",
       "      <td>2</td>\n",
       "      <td>North Goa, Goa</td>\n",
       "      <td>Arambol</td>\n",
       "      <td>Arambol, Pernem - Goa 403524</td>\n",
       "    </tr>\n",
       "    <tr>\n",
       "      <th>2</th>\n",
       "      <td>3</td>\n",
       "      <td>North Goa, Goa</td>\n",
       "      <td>Khajne-Amere-Porascadem</td>\n",
       "      <td>Khajne-Amere-Porascadem, Pernem - Goa 403512</td>\n",
       "    </tr>\n",
       "    <tr>\n",
       "      <th>3</th>\n",
       "      <td>4</td>\n",
       "      <td>North Goa, Goa</td>\n",
       "      <td>Parcem</td>\n",
       "      <td>Parcem, Pernem - Goa 403512</td>\n",
       "    </tr>\n",
       "    <tr>\n",
       "      <th>4</th>\n",
       "      <td>5</td>\n",
       "      <td>North Goa, Goa</td>\n",
       "      <td>Ibrampur-Hankahne</td>\n",
       "      <td>Ibrampur-Hankahne, Pernem - Goa 403503</td>\n",
       "    </tr>\n",
       "    <tr>\n",
       "      <th>...</th>\n",
       "      <td>...</td>\n",
       "      <td>...</td>\n",
       "      <td>...</td>\n",
       "      <td>...</td>\n",
       "    </tr>\n",
       "    <tr>\n",
       "      <th>182</th>\n",
       "      <td>183</td>\n",
       "      <td>South Goa, Goa</td>\n",
       "      <td>Majorda Utorda Calata</td>\n",
       "      <td>Majorda Utorda Calata, Mormugoa - Goa</td>\n",
       "    </tr>\n",
       "    <tr>\n",
       "      <th>183</th>\n",
       "      <td>184</td>\n",
       "      <td>South Goa, Goa</td>\n",
       "      <td>Chicalim</td>\n",
       "      <td>Chicalim, Mormugoa - Goa</td>\n",
       "    </tr>\n",
       "    <tr>\n",
       "      <th>184</th>\n",
       "      <td>185</td>\n",
       "      <td>South Goa, Goa</td>\n",
       "      <td>Cansaulim-Arossim-Cuelim</td>\n",
       "      <td>Cansaulim-Arossim-Cuelim, Mormugoa - Goa</td>\n",
       "    </tr>\n",
       "    <tr>\n",
       "      <th>185</th>\n",
       "      <td>186</td>\n",
       "      <td>South Goa, Goa</td>\n",
       "      <td>Velsao-Pale-Issorcim</td>\n",
       "      <td>Velsao-Pale-Issorcim, Mormugoa - Goa</td>\n",
       "    </tr>\n",
       "    <tr>\n",
       "      <th>186</th>\n",
       "      <td>187</td>\n",
       "      <td>South Goa, Goa</td>\n",
       "      <td>Sancoale</td>\n",
       "      <td>Sancoale,Mormugoa - Goa</td>\n",
       "    </tr>\n",
       "  </tbody>\n",
       "</table>\n",
       "<p>187 rows × 4 columns</p>\n",
       "</div>"
      ],
      "text/plain": [
       "    Sr.No Name of the District along with State    Name of Gram Panchayat  \\\n",
       "0       1                        North Goa, Goa                 Dhargalim   \n",
       "1       2                        North Goa, Goa                   Arambol   \n",
       "2       3                        North Goa, Goa   Khajne-Amere-Porascadem   \n",
       "3       4                        North Goa, Goa                    Parcem   \n",
       "4       5                        North Goa, Goa         Ibrampur-Hankahne   \n",
       "..    ...                                   ...                       ...   \n",
       "182   183                        South Goa, Goa     Majorda Utorda Calata   \n",
       "183   184                        South Goa, Goa                  Chicalim   \n",
       "184   185                        South Goa, Goa  Cansaulim-Arossim-Cuelim   \n",
       "185   186                        South Goa, Goa      Velsao-Pale-Issorcim   \n",
       "186   187                        South Goa, Goa                  Sancoale   \n",
       "\n",
       "       Gram Panchayat Bhawan Adress with Pin Code  \n",
       "0                  Dhargalim, Pernem - Goa 403513  \n",
       "1                    Arambol, Pernem - Goa 403524  \n",
       "2    Khajne-Amere-Porascadem, Pernem - Goa 403512  \n",
       "3                     Parcem, Pernem - Goa 403512  \n",
       "4          Ibrampur-Hankahne, Pernem - Goa 403503  \n",
       "..                                            ...  \n",
       "182         Majorda Utorda Calata, Mormugoa - Goa  \n",
       "183                      Chicalim, Mormugoa - Goa  \n",
       "184      Cansaulim-Arossim-Cuelim, Mormugoa - Goa  \n",
       "185          Velsao-Pale-Issorcim, Mormugoa - Goa  \n",
       "186                       Sancoale,Mormugoa - Goa  \n",
       "\n",
       "[187 rows x 4 columns]"
      ]
     },
     "execution_count": 11,
     "metadata": {},
     "output_type": "execute_result"
    }
   ],
   "source": [
    "goa_proforma_B.rename(columns = {'PROFORMA' : 'Sr.No', \n",
    "                                 'Unnamed: 1' : 'Name of the District along with State', \n",
    "                                 'Unnamed: 2' : 'Name of Gram Panchayat', \n",
    "                                 'Unnamed: 3' : 'Gram Panchayat Bhawan Adress with Pin Code'}, inplace = True)\n",
    "goa_proforma_B = goa_proforma_B.iloc[4:, :]\n",
    "goa_proforma_B = goa_proforma_B.reset_index(drop = True)\n",
    "goa_proforma_B"
   ]
  },
  {
   "cell_type": "markdown",
   "id": "optical-firmware",
   "metadata": {},
   "source": [
    "Cleaning up the data in Sheet C:"
   ]
  },
  {
   "cell_type": "code",
   "execution_count": 12,
   "id": "affiliated-jersey",
   "metadata": {},
   "outputs": [
    {
     "data": {
      "text/html": [
       "<div>\n",
       "<style scoped>\n",
       "    .dataframe tbody tr th:only-of-type {\n",
       "        vertical-align: middle;\n",
       "    }\n",
       "\n",
       "    .dataframe tbody tr th {\n",
       "        vertical-align: top;\n",
       "    }\n",
       "\n",
       "    .dataframe thead th {\n",
       "        text-align: right;\n",
       "    }\n",
       "</style>\n",
       "<table border=\"1\" class=\"dataframe\">\n",
       "  <thead>\n",
       "    <tr style=\"text-align: right;\">\n",
       "      <th></th>\n",
       "      <th>Sr.No</th>\n",
       "      <th>Name of the District along with State</th>\n",
       "      <th>Name of Panchayat Officer (V.P. Secretary)</th>\n",
       "      <th>Mobile No.</th>\n",
       "      <th>Email Address</th>\n",
       "    </tr>\n",
       "  </thead>\n",
       "  <tbody>\n",
       "    <tr>\n",
       "      <th>0</th>\n",
       "      <td>1</td>\n",
       "      <td>North Goa, Goa</td>\n",
       "      <td>Shri. Subodh Prabhu</td>\n",
       "      <td>9970451419</td>\n",
       "      <td>NaN</td>\n",
       "    </tr>\n",
       "    <tr>\n",
       "      <th>1</th>\n",
       "      <td>2</td>\n",
       "      <td>North Goa, Goa</td>\n",
       "      <td>Shri.  Dharmendra Govekar</td>\n",
       "      <td>9764364603</td>\n",
       "      <td>NaN</td>\n",
       "    </tr>\n",
       "    <tr>\n",
       "      <th>2</th>\n",
       "      <td>3</td>\n",
       "      <td>North Goa, Goa</td>\n",
       "      <td>Shri. Rui Cardozo</td>\n",
       "      <td>9822282013</td>\n",
       "      <td>NaN</td>\n",
       "    </tr>\n",
       "    <tr>\n",
       "      <th>3</th>\n",
       "      <td>4</td>\n",
       "      <td>North Goa, Goa</td>\n",
       "      <td>Shri. Rajesh Assolkar</td>\n",
       "      <td>9764007587</td>\n",
       "      <td>NaN</td>\n",
       "    </tr>\n",
       "    <tr>\n",
       "      <th>4</th>\n",
       "      <td>5</td>\n",
       "      <td>North Goa, Goa</td>\n",
       "      <td>Shri. Amit Prabhu</td>\n",
       "      <td>9764512999</td>\n",
       "      <td>NaN</td>\n",
       "    </tr>\n",
       "    <tr>\n",
       "      <th>...</th>\n",
       "      <td>...</td>\n",
       "      <td>...</td>\n",
       "      <td>...</td>\n",
       "      <td>...</td>\n",
       "      <td>...</td>\n",
       "    </tr>\n",
       "    <tr>\n",
       "      <th>180</th>\n",
       "      <td>181</td>\n",
       "      <td>South Goa, Goa</td>\n",
       "      <td>Shri Babuso M Tilve</td>\n",
       "      <td>9420107912</td>\n",
       "      <td>NaN</td>\n",
       "    </tr>\n",
       "    <tr>\n",
       "      <th>181</th>\n",
       "      <td>182</td>\n",
       "      <td>South Goa, Goa</td>\n",
       "      <td>Smt. Gauri M. Velip</td>\n",
       "      <td>9421255686</td>\n",
       "      <td>NaN</td>\n",
       "    </tr>\n",
       "    <tr>\n",
       "      <th>182</th>\n",
       "      <td>183</td>\n",
       "      <td>South Goa, Goa</td>\n",
       "      <td>Shri. Dinkar V. Kossambe</td>\n",
       "      <td>9423503452</td>\n",
       "      <td>NaN</td>\n",
       "    </tr>\n",
       "    <tr>\n",
       "      <th>183</th>\n",
       "      <td>184</td>\n",
       "      <td>South Goa, Goa</td>\n",
       "      <td>Shri Gurudas Gaonkar</td>\n",
       "      <td>8554904684</td>\n",
       "      <td>NaN</td>\n",
       "    </tr>\n",
       "    <tr>\n",
       "      <th>184</th>\n",
       "      <td>185</td>\n",
       "      <td>South Goa, Goa</td>\n",
       "      <td>Shri. John Colaco</td>\n",
       "      <td>9921170574</td>\n",
       "      <td>NaN</td>\n",
       "    </tr>\n",
       "  </tbody>\n",
       "</table>\n",
       "<p>185 rows × 5 columns</p>\n",
       "</div>"
      ],
      "text/plain": [
       "    Sr.No Name of the District along with State  \\\n",
       "0       1                        North Goa, Goa   \n",
       "1       2                        North Goa, Goa   \n",
       "2       3                        North Goa, Goa   \n",
       "3       4                        North Goa, Goa   \n",
       "4       5                        North Goa, Goa   \n",
       "..    ...                                   ...   \n",
       "180   181                        South Goa, Goa   \n",
       "181   182                        South Goa, Goa   \n",
       "182   183                        South Goa, Goa   \n",
       "183   184                        South Goa, Goa   \n",
       "184   185                        South Goa, Goa   \n",
       "\n",
       "    Name of Panchayat Officer (V.P. Secretary)  Mobile No. Email Address  \n",
       "0                          Shri. Subodh Prabhu  9970451419           NaN  \n",
       "1                    Shri.  Dharmendra Govekar  9764364603           NaN  \n",
       "2                            Shri. Rui Cardozo  9822282013           NaN  \n",
       "3                        Shri. Rajesh Assolkar  9764007587           NaN  \n",
       "4                            Shri. Amit Prabhu  9764512999           NaN  \n",
       "..                                         ...         ...           ...  \n",
       "180                        Shri Babuso M Tilve  9420107912           NaN  \n",
       "181                        Smt. Gauri M. Velip  9421255686           NaN  \n",
       "182                   Shri. Dinkar V. Kossambe  9423503452           NaN  \n",
       "183                       Shri Gurudas Gaonkar  8554904684           NaN  \n",
       "184                          Shri. John Colaco  9921170574           NaN  \n",
       "\n",
       "[185 rows x 5 columns]"
      ]
     },
     "execution_count": 12,
     "metadata": {},
     "output_type": "execute_result"
    }
   ],
   "source": [
    "goa_proforma_C.rename(columns = {'PROFORMA' : 'Sr.No', \n",
    "                                 'Unnamed: 1' : 'Name of the District along with State', \n",
    "                                 'Unnamed: 2' : 'Name of Panchayat Officer (V.P. Secretary)', \n",
    "                                 'Unnamed: 3' : 'Mobile No.', \n",
    "                                 'Unnamed: 4' : 'Email Address'}, inplace = True)\n",
    "goa_proforma_C = goa_proforma_C.iloc[4:, :]\n",
    "goa_proforma_C = goa_proforma_C.reset_index(drop = True)\n",
    "goa_proforma_C"
   ]
  },
  {
   "cell_type": "markdown",
   "id": "designed-actor",
   "metadata": {},
   "source": [
    "Cleaning up the data in Sheet D:"
   ]
  },
  {
   "cell_type": "code",
   "execution_count": 13,
   "id": "south-thomas",
   "metadata": {},
   "outputs": [
    {
     "data": {
      "text/html": [
       "<div>\n",
       "<style scoped>\n",
       "    .dataframe tbody tr th:only-of-type {\n",
       "        vertical-align: middle;\n",
       "    }\n",
       "\n",
       "    .dataframe tbody tr th {\n",
       "        vertical-align: top;\n",
       "    }\n",
       "\n",
       "    .dataframe thead th {\n",
       "        text-align: right;\n",
       "    }\n",
       "</style>\n",
       "<table border=\"1\" class=\"dataframe\">\n",
       "  <thead>\n",
       "    <tr style=\"text-align: right;\">\n",
       "      <th></th>\n",
       "      <th>PROFORMA</th>\n",
       "      <th>Unnamed: 1</th>\n",
       "      <th>Unnamed: 2</th>\n",
       "      <th>Unnamed: 3</th>\n",
       "      <th>Unnamed: 4</th>\n",
       "    </tr>\n",
       "  </thead>\n",
       "  <tbody>\n",
       "    <tr>\n",
       "      <th>0</th>\n",
       "      <td>NaN</td>\n",
       "      <td>NaN</td>\n",
       "      <td>NaN</td>\n",
       "      <td>NaN</td>\n",
       "      <td>NaN</td>\n",
       "    </tr>\n",
       "    <tr>\n",
       "      <th>1</th>\n",
       "      <td>(D)</td>\n",
       "      <td>NaN</td>\n",
       "      <td>NaN</td>\n",
       "      <td>NaN</td>\n",
       "      <td>NaN</td>\n",
       "    </tr>\n",
       "    <tr>\n",
       "      <th>2</th>\n",
       "      <td>NaN</td>\n",
       "      <td>NaN</td>\n",
       "      <td>NaN</td>\n",
       "      <td>NaN</td>\n",
       "      <td>NaN</td>\n",
       "    </tr>\n",
       "    <tr>\n",
       "      <th>3</th>\n",
       "      <td>Sr.No</td>\n",
       "      <td>Name of the District along with State</td>\n",
       "      <td>Name of Block Panchayat President</td>\n",
       "      <td>Address with Pin Code</td>\n",
       "      <td>Mobile No. / Email Address</td>\n",
       "    </tr>\n",
       "    <tr>\n",
       "      <th>4</th>\n",
       "      <td>1</td>\n",
       "      <td>GOA</td>\n",
       "      <td>NaN</td>\n",
       "      <td>NaN</td>\n",
       "      <td>NaN</td>\n",
       "    </tr>\n",
       "  </tbody>\n",
       "</table>\n",
       "</div>"
      ],
      "text/plain": [
       "  PROFORMA                             Unnamed: 1  \\\n",
       "0      NaN                                    NaN   \n",
       "1      (D)                                    NaN   \n",
       "2      NaN                                    NaN   \n",
       "3    Sr.No  Name of the District along with State   \n",
       "4        1                                    GOA   \n",
       "\n",
       "                          Unnamed: 2             Unnamed: 3  \\\n",
       "0                                NaN                    NaN   \n",
       "1                                NaN                    NaN   \n",
       "2                                NaN                    NaN   \n",
       "3  Name of Block Panchayat President  Address with Pin Code   \n",
       "4                                NaN                    NaN   \n",
       "\n",
       "                   Unnamed: 4  \n",
       "0                         NaN  \n",
       "1                         NaN  \n",
       "2                         NaN  \n",
       "3  Mobile No. / Email Address  \n",
       "4                         NaN  "
      ]
     },
     "execution_count": 13,
     "metadata": {},
     "output_type": "execute_result"
    }
   ],
   "source": [
    "goa_proforma_D"
   ]
  },
  {
   "cell_type": "markdown",
   "id": "certain-alexander",
   "metadata": {},
   "source": [
    "Sheet D contains no information, so we can ignore it and proceed with cleaning the other sheets."
   ]
  },
  {
   "cell_type": "markdown",
   "id": "verbal-storm",
   "metadata": {},
   "source": [
    "Cleaning up the data in Sheet E:"
   ]
  },
  {
   "cell_type": "code",
   "execution_count": 14,
   "id": "fifty-franchise",
   "metadata": {},
   "outputs": [
    {
     "data": {
      "text/html": [
       "<div>\n",
       "<style scoped>\n",
       "    .dataframe tbody tr th:only-of-type {\n",
       "        vertical-align: middle;\n",
       "    }\n",
       "\n",
       "    .dataframe tbody tr th {\n",
       "        vertical-align: top;\n",
       "    }\n",
       "\n",
       "    .dataframe thead th {\n",
       "        text-align: right;\n",
       "    }\n",
       "</style>\n",
       "<table border=\"1\" class=\"dataframe\">\n",
       "  <thead>\n",
       "    <tr style=\"text-align: right;\">\n",
       "      <th></th>\n",
       "      <th>Sr.No</th>\n",
       "      <th>Name of District along with State</th>\n",
       "      <th>Name of District Panchayat President</th>\n",
       "      <th>Address with Pin Code</th>\n",
       "      <th>Mobile No. / Email Address</th>\n",
       "    </tr>\n",
       "  </thead>\n",
       "  <tbody>\n",
       "    <tr>\n",
       "      <th>0</th>\n",
       "      <td>1</td>\n",
       "      <td>North Goa, GOA</td>\n",
       "      <td>Smt.Ankita L Navelkar - Adhyaksha</td>\n",
       "      <td>H.No 247, Lalbag, Vithalpur, P.O. Sanquelim, B...</td>\n",
       "      <td>9923446211</td>\n",
       "    </tr>\n",
       "    <tr>\n",
       "      <th>1</th>\n",
       "      <td>2</td>\n",
       "      <td>North Goa, GOA</td>\n",
       "      <td>Shri. Vasudev L Korgaonkar - Upadhyaksha</td>\n",
       "      <td>H.No 353, Khalap wado, Canca, Bardez - Goa</td>\n",
       "      <td>9850453006</td>\n",
       "    </tr>\n",
       "    <tr>\n",
       "      <th>2</th>\n",
       "      <td>3</td>\n",
       "      <td>South Goa, GOA</td>\n",
       "      <td>Shri. Navnaath G. Naik - Adhyaksha</td>\n",
       "      <td>H.No 164/1, Bhaati, Sanguem-Goa</td>\n",
       "      <td>9421240037</td>\n",
       "    </tr>\n",
       "    <tr>\n",
       "      <th>3</th>\n",
       "      <td>4</td>\n",
       "      <td>South Goa, GOA</td>\n",
       "      <td>Smt. Chitra Parab Fadte  - Upadhyaksha</td>\n",
       "      <td>H.No 73, Near Mal, Kharwada, Bandora, Ponda - Goa</td>\n",
       "      <td>9049666058</td>\n",
       "    </tr>\n",
       "  </tbody>\n",
       "</table>\n",
       "</div>"
      ],
      "text/plain": [
       "  Sr.No Name of District along with State  \\\n",
       "0     1                    North Goa, GOA   \n",
       "1     2                    North Goa, GOA   \n",
       "2     3                    South Goa, GOA   \n",
       "3     4                    South Goa, GOA   \n",
       "\n",
       "       Name of District Panchayat President  \\\n",
       "0         Smt.Ankita L Navelkar - Adhyaksha   \n",
       "1  Shri. Vasudev L Korgaonkar - Upadhyaksha   \n",
       "2        Shri. Navnaath G. Naik - Adhyaksha   \n",
       "3    Smt. Chitra Parab Fadte  - Upadhyaksha   \n",
       "\n",
       "                               Address with Pin Code  \\\n",
       "0  H.No 247, Lalbag, Vithalpur, P.O. Sanquelim, B...   \n",
       "1         H.No 353, Khalap wado, Canca, Bardez - Goa   \n",
       "2                    H.No 164/1, Bhaati, Sanguem-Goa   \n",
       "3  H.No 73, Near Mal, Kharwada, Bandora, Ponda - Goa   \n",
       "\n",
       "  Mobile No. / Email Address  \n",
       "0                 9923446211  \n",
       "1                 9850453006  \n",
       "2                 9421240037  \n",
       "3                 9049666058  "
      ]
     },
     "execution_count": 14,
     "metadata": {},
     "output_type": "execute_result"
    }
   ],
   "source": [
    "goa_proforma_E.rename(columns = {'(E)' : 'Sr.No', \n",
    "                                 'Unnamed: 1' : 'Name of District along with State', \n",
    "                                 'Unnamed: 2' : 'Name of District Panchayat President', \n",
    "                                 'Unnamed: 3' : 'Address with Pin Code', \n",
    "                                 'Unnamed: 4' : 'Mobile No. / Email Address'}, inplace = True)\n",
    "goa_proforma_E = goa_proforma_E.iloc[2:, :]\n",
    "goa_proforma_E = goa_proforma_E.reset_index(drop = True)\n",
    "goa_proforma_E"
   ]
  },
  {
   "cell_type": "markdown",
   "id": "offensive-philosophy",
   "metadata": {},
   "source": [
    "Cleaning up the data in Sheet F:"
   ]
  },
  {
   "cell_type": "code",
   "execution_count": 15,
   "id": "found-treaty",
   "metadata": {},
   "outputs": [
    {
     "data": {
      "text/html": [
       "<div>\n",
       "<style scoped>\n",
       "    .dataframe tbody tr th:only-of-type {\n",
       "        vertical-align: middle;\n",
       "    }\n",
       "\n",
       "    .dataframe tbody tr th {\n",
       "        vertical-align: top;\n",
       "    }\n",
       "\n",
       "    .dataframe thead th {\n",
       "        text-align: right;\n",
       "    }\n",
       "</style>\n",
       "<table border=\"1\" class=\"dataframe\">\n",
       "  <thead>\n",
       "    <tr style=\"text-align: right;\">\n",
       "      <th></th>\n",
       "      <th>PROFORMA</th>\n",
       "      <th>Unnamed: 1</th>\n",
       "      <th>Unnamed: 2</th>\n",
       "      <th>Unnamed: 3</th>\n",
       "      <th>Unnamed: 4</th>\n",
       "    </tr>\n",
       "  </thead>\n",
       "  <tbody>\n",
       "    <tr>\n",
       "      <th>0</th>\n",
       "      <td>NaN</td>\n",
       "      <td>NaN</td>\n",
       "      <td>NaN</td>\n",
       "      <td>NaN</td>\n",
       "      <td>NaN</td>\n",
       "    </tr>\n",
       "    <tr>\n",
       "      <th>1</th>\n",
       "      <td>(F)</td>\n",
       "      <td>NaN</td>\n",
       "      <td>NaN</td>\n",
       "      <td>NaN</td>\n",
       "      <td>NaN</td>\n",
       "    </tr>\n",
       "    <tr>\n",
       "      <th>2</th>\n",
       "      <td>NaN</td>\n",
       "      <td>NaN</td>\n",
       "      <td>NaN</td>\n",
       "      <td>NaN</td>\n",
       "      <td>NaN</td>\n",
       "    </tr>\n",
       "    <tr>\n",
       "      <th>3</th>\n",
       "      <td>Sr.No</td>\n",
       "      <td>Name of the State</td>\n",
       "      <td>Name of the Nodal Officer / Designation</td>\n",
       "      <td>Mobile No. / Email Address</td>\n",
       "      <td>Postal Details</td>\n",
       "    </tr>\n",
       "    <tr>\n",
       "      <th>4</th>\n",
       "      <td>1</td>\n",
       "      <td>GOA</td>\n",
       "      <td>Shri. Gurudas Pilarnekar, Director, Directorat...</td>\n",
       "      <td>9763554136 dir-panc.goa@nic.in</td>\n",
       "      <td>3rd lift, 3rd floor, Junta House, Panaji - Goa</td>\n",
       "    </tr>\n",
       "  </tbody>\n",
       "</table>\n",
       "</div>"
      ],
      "text/plain": [
       "  PROFORMA         Unnamed: 1  \\\n",
       "0      NaN                NaN   \n",
       "1      (F)                NaN   \n",
       "2      NaN                NaN   \n",
       "3    Sr.No  Name of the State   \n",
       "4        1                GOA   \n",
       "\n",
       "                                          Unnamed: 2  \\\n",
       "0                                                NaN   \n",
       "1                                                NaN   \n",
       "2                                                NaN   \n",
       "3            Name of the Nodal Officer / Designation   \n",
       "4  Shri. Gurudas Pilarnekar, Director, Directorat...   \n",
       "\n",
       "                       Unnamed: 3  \\\n",
       "0                             NaN   \n",
       "1                             NaN   \n",
       "2                             NaN   \n",
       "3      Mobile No. / Email Address   \n",
       "4  9763554136 dir-panc.goa@nic.in   \n",
       "\n",
       "                                       Unnamed: 4  \n",
       "0                                             NaN  \n",
       "1                                             NaN  \n",
       "2                                             NaN  \n",
       "3                                  Postal Details  \n",
       "4  3rd lift, 3rd floor, Junta House, Panaji - Goa  "
      ]
     },
     "execution_count": 15,
     "metadata": {},
     "output_type": "execute_result"
    }
   ],
   "source": [
    "goa_proforma_F"
   ]
  },
  {
   "cell_type": "code",
   "execution_count": 16,
   "id": "elect-farmer",
   "metadata": {},
   "outputs": [
    {
     "data": {
      "text/html": [
       "<div>\n",
       "<style scoped>\n",
       "    .dataframe tbody tr th:only-of-type {\n",
       "        vertical-align: middle;\n",
       "    }\n",
       "\n",
       "    .dataframe tbody tr th {\n",
       "        vertical-align: top;\n",
       "    }\n",
       "\n",
       "    .dataframe thead th {\n",
       "        text-align: right;\n",
       "    }\n",
       "</style>\n",
       "<table border=\"1\" class=\"dataframe\">\n",
       "  <thead>\n",
       "    <tr style=\"text-align: right;\">\n",
       "      <th></th>\n",
       "      <th>Sr.No</th>\n",
       "      <th>Name of the State</th>\n",
       "      <th>Name of the Nodal Officer / Designation</th>\n",
       "      <th>Mobile No. / Email Address</th>\n",
       "      <th>Postal Details</th>\n",
       "    </tr>\n",
       "  </thead>\n",
       "  <tbody>\n",
       "    <tr>\n",
       "      <th>0</th>\n",
       "      <td>1</td>\n",
       "      <td>GOA</td>\n",
       "      <td>Shri. Gurudas Pilarnekar, Director, Directorat...</td>\n",
       "      <td>9763554136 dir-panc.goa@nic.in</td>\n",
       "      <td>3rd lift, 3rd floor, Junta House, Panaji - Goa</td>\n",
       "    </tr>\n",
       "  </tbody>\n",
       "</table>\n",
       "</div>"
      ],
      "text/plain": [
       "  Sr.No Name of the State            Name of the Nodal Officer / Designation  \\\n",
       "0     1               GOA  Shri. Gurudas Pilarnekar, Director, Directorat...   \n",
       "\n",
       "       Mobile No. / Email Address  \\\n",
       "0  9763554136 dir-panc.goa@nic.in   \n",
       "\n",
       "                                   Postal Details  \n",
       "0  3rd lift, 3rd floor, Junta House, Panaji - Goa  "
      ]
     },
     "execution_count": 16,
     "metadata": {},
     "output_type": "execute_result"
    }
   ],
   "source": [
    "goa_proforma_F.rename(columns = {'PROFORMA' : 'Sr.No', \n",
    "                                 'Unnamed: 1' : 'Name of the State', \n",
    "                                 'Unnamed: 2' : 'Name of the Nodal Officer / Designation', \n",
    "                                 'Unnamed: 3' : 'Mobile No. / Email Address', \n",
    "                                 'Unnamed: 4' : 'Postal Details'}, inplace = True)\n",
    "goa_proforma_F = goa_proforma_F.iloc[4:, :]\n",
    "goa_proforma_F = goa_proforma_F.reset_index(drop = True)\n",
    "goa_proforma_F"
   ]
  },
  {
   "cell_type": "markdown",
   "id": "attached-radius",
   "metadata": {},
   "source": [
    "**What's in this dataset?** <a class=\"anchor\" id=\"3\"></a>"
   ]
  },
  {
   "cell_type": "code",
   "execution_count": 17,
   "id": "resident-azerbaijan",
   "metadata": {},
   "outputs": [
    {
     "name": "stdout",
     "output_type": "stream",
     "text": [
      "Sheet A:\n",
      "Shape: (187, 6)\n",
      "Rows: 187\n",
      "Columns: 6\n",
      "Each row is a Sarpanch in Goa.\n",
      "\n",
      "\n",
      "Sheet B:\n",
      "Shape: (187, 4)\n",
      "Rows: 187\n",
      "Columns: 4\n",
      "Each row is a Gram Panchayat in Goa.\n",
      "\n",
      "\n",
      "Sheet C:\n",
      "Shape: (185, 5)\n",
      "Rows: 185\n",
      "Columns: 5\n",
      "Each row is a Panchayat Officer in Goa.\n",
      "\n",
      "\n",
      "Sheet E:\n",
      "Shape: (4, 5)\n",
      "Rows: 4\n",
      "Columns: 5\n",
      "Each row is a Disctrict Panchayat President in Goa.\n",
      "\n",
      "\n",
      "Sheet F:\n",
      "Shape: (1, 5)\n",
      "Rows: 1\n",
      "Columns: 5\n",
      "Each row is a Nodal Officer in Goa.\n"
     ]
    }
   ],
   "source": [
    "print(\"Sheet A:\")\n",
    "print(\"Shape:\", goa_proforma_A.shape)\n",
    "print(\"Rows:\", goa_proforma_A.shape[0])\n",
    "print(\"Columns:\", goa_proforma_A.shape[1])\n",
    "print(\"Each row is a Sarpanch in Goa.\")\n",
    "\n",
    "print('\\n')\n",
    "print(\"Sheet B:\")\n",
    "print(\"Shape:\", goa_proforma_B.shape)\n",
    "print(\"Rows:\", goa_proforma_B.shape[0])\n",
    "print(\"Columns:\", goa_proforma_B.shape[1])\n",
    "print(\"Each row is a Gram Panchayat in Goa.\")\n",
    "\n",
    "print('\\n')\n",
    "print(\"Sheet C:\")\n",
    "print(\"Shape:\", goa_proforma_C.shape)\n",
    "print(\"Rows:\", goa_proforma_C.shape[0])\n",
    "print(\"Columns:\", goa_proforma_C.shape[1])\n",
    "print(\"Each row is a Panchayat Officer in Goa.\")\n",
    "\n",
    "print('\\n')\n",
    "print(\"Sheet E:\")\n",
    "print(\"Shape:\", goa_proforma_E.shape)\n",
    "print(\"Rows:\", goa_proforma_E.shape[0])\n",
    "print(\"Columns:\", goa_proforma_E.shape[1])\n",
    "print(\"Each row is a Disctrict Panchayat President in Goa.\")\n",
    "\n",
    "print('\\n')\n",
    "print(\"Sheet F:\")\n",
    "print(\"Shape:\", goa_proforma_F.shape)\n",
    "print(\"Rows:\", goa_proforma_F.shape[0])\n",
    "print(\"Columns:\", goa_proforma_F.shape[1])\n",
    "print(\"Each row is a Nodal Officer in Goa.\")"
   ]
  },
  {
   "cell_type": "markdown",
   "id": "laughing-republic",
   "metadata": {},
   "source": [
    "**Codebook** <a class=\"anchor\" id=\"4\"></a>"
   ]
  },
  {
   "cell_type": "code",
   "execution_count": 18,
   "id": "subject-party",
   "metadata": {},
   "outputs": [
    {
     "name": "stdout",
     "output_type": "stream",
     "text": [
      "Codebook for Sheet A:\n"
     ]
    },
    {
     "data": {
      "text/html": [
       "<style  type=\"text/css\" >\n",
       "#T_b79b8_row0_col1,#T_b79b8_row1_col1,#T_b79b8_row2_col1,#T_b79b8_row3_col1,#T_b79b8_row4_col1,#T_b79b8_row5_col1{\n",
       "            width:  600px;\n",
       "        }</style><table id=\"T_b79b8_\" ><thead>    <tr>        <th class=\"blank level0\" ></th>        <th class=\"col_heading level0 col0\" >Column Name</th>        <th class=\"col_heading level0 col1\" >Description</th>        <th class=\"col_heading level0 col2\" >Type</th>    </tr></thead><tbody>\n",
       "                <tr>\n",
       "                        <th id=\"T_b79b8_level0_row0\" class=\"row_heading level0 row0\" >0</th>\n",
       "                        <td id=\"T_b79b8_row0_col0\" class=\"data row0 col0\" >Sr.No</td>\n",
       "                        <td id=\"T_b79b8_row0_col1\" class=\"data row0 col1\" >Meant for counting, is a null column.</td>\n",
       "                        <td id=\"T_b79b8_row0_col2\" class=\"data row0 col2\" >object</td>\n",
       "            </tr>\n",
       "            <tr>\n",
       "                        <th id=\"T_b79b8_level0_row1\" class=\"row_heading level0 row1\" >1</th>\n",
       "                        <td id=\"T_b79b8_row1_col0\" class=\"data row1 col0\" >Name of the District along with State</td>\n",
       "                        <td id=\"T_b79b8_row1_col1\" class=\"data row1 col1\" >Name of district in Goa.</td>\n",
       "                        <td id=\"T_b79b8_row1_col2\" class=\"data row1 col2\" >object</td>\n",
       "            </tr>\n",
       "            <tr>\n",
       "                        <th id=\"T_b79b8_level0_row2\" class=\"row_heading level0 row2\" >2</th>\n",
       "                        <td id=\"T_b79b8_row2_col0\" class=\"data row2 col0\" >Name of Village Panchayat</td>\n",
       "                        <td id=\"T_b79b8_row2_col1\" class=\"data row2 col1\" >Name of the village panchayat the Sarpanch is elected in.</td>\n",
       "                        <td id=\"T_b79b8_row2_col2\" class=\"data row2 col2\" >object</td>\n",
       "            </tr>\n",
       "            <tr>\n",
       "                        <th id=\"T_b79b8_level0_row3\" class=\"row_heading level0 row3\" >3</th>\n",
       "                        <td id=\"T_b79b8_row3_col0\" class=\"data row3 col0\" >Name of Sarpanch</td>\n",
       "                        <td id=\"T_b79b8_row3_col1\" class=\"data row3 col1\" >Name of the Sarpanch (elected offical).</td>\n",
       "                        <td id=\"T_b79b8_row3_col2\" class=\"data row3 col2\" >object</td>\n",
       "            </tr>\n",
       "            <tr>\n",
       "                        <th id=\"T_b79b8_level0_row4\" class=\"row_heading level0 row4\" >4</th>\n",
       "                        <td id=\"T_b79b8_row4_col0\" class=\"data row4 col0\" >Address with Pin Code</td>\n",
       "                        <td id=\"T_b79b8_row4_col1\" class=\"data row4 col1\" >The address and pin code of the Sarpanch.</td>\n",
       "                        <td id=\"T_b79b8_row4_col2\" class=\"data row4 col2\" >object</td>\n",
       "            </tr>\n",
       "            <tr>\n",
       "                        <th id=\"T_b79b8_level0_row5\" class=\"row_heading level0 row5\" >5</th>\n",
       "                        <td id=\"T_b79b8_row5_col0\" class=\"data row5 col0\" >Mobile No./Email Address</td>\n",
       "                        <td id=\"T_b79b8_row5_col1\" class=\"data row5 col1\" >The mobile phone number or email address of the Sarpanch.</td>\n",
       "                        <td id=\"T_b79b8_row5_col2\" class=\"data row5 col2\" >object</td>\n",
       "            </tr>\n",
       "    </tbody></table>"
      ],
      "text/plain": [
       "<pandas.io.formats.style.Styler at 0x11b155790>"
      ]
     },
     "execution_count": 18,
     "metadata": {},
     "output_type": "execute_result"
    }
   ],
   "source": [
    "print(\"Codebook for Sheet A:\")\n",
    "goa_proforma_A_columns = [column for column in goa_proforma_A.columns]\n",
    "goa_proforma_A_description = [\"Meant for counting, is a null column.\", \n",
    "                              \"Name of district in Goa.\", \n",
    "                              \"Name of the village panchayat the Sarpanch is elected in.\", \n",
    "                              \"Name of the Sarpanch (elected offical).\", \n",
    "                              \"The address and pin code of the Sarpanch.\", \n",
    "                              \"The mobile phone number or email address of the Sarpanch.\"]\n",
    "goa_proforma_A_dtypes = [dtype for dtype in goa_proforma_A.dtypes]\n",
    "\n",
    "data_A = {\"Column Name\": goa_proforma_A_columns, \"Description\": goa_proforma_A_description, \"Type\": goa_proforma_A_dtypes}\n",
    "goa_proforma_A_codebook = pd.DataFrame(data_A)\n",
    "goa_proforma_A_codebook.style.set_properties(subset=['Description'], **{'width': '600px'})"
   ]
  },
  {
   "cell_type": "code",
   "execution_count": 19,
   "id": "precise-liverpool",
   "metadata": {},
   "outputs": [
    {
     "name": "stdout",
     "output_type": "stream",
     "text": [
      "Codebook for Sheet B:\n"
     ]
    },
    {
     "data": {
      "text/html": [
       "<style  type=\"text/css\" >\n",
       "#T_0706c_row0_col1,#T_0706c_row1_col1,#T_0706c_row2_col1,#T_0706c_row3_col1{\n",
       "            width:  600px;\n",
       "        }</style><table id=\"T_0706c_\" ><thead>    <tr>        <th class=\"blank level0\" ></th>        <th class=\"col_heading level0 col0\" >Column Name</th>        <th class=\"col_heading level0 col1\" >Description</th>        <th class=\"col_heading level0 col2\" >Type</th>    </tr></thead><tbody>\n",
       "                <tr>\n",
       "                        <th id=\"T_0706c_level0_row0\" class=\"row_heading level0 row0\" >0</th>\n",
       "                        <td id=\"T_0706c_row0_col0\" class=\"data row0 col0\" >Sr.No</td>\n",
       "                        <td id=\"T_0706c_row0_col1\" class=\"data row0 col1\" >Counts the number of Gram Panchayats.</td>\n",
       "                        <td id=\"T_0706c_row0_col2\" class=\"data row0 col2\" >object</td>\n",
       "            </tr>\n",
       "            <tr>\n",
       "                        <th id=\"T_0706c_level0_row1\" class=\"row_heading level0 row1\" >1</th>\n",
       "                        <td id=\"T_0706c_row1_col0\" class=\"data row1 col0\" >Name of the District along with State</td>\n",
       "                        <td id=\"T_0706c_row1_col1\" class=\"data row1 col1\" >Name of district in Goa.</td>\n",
       "                        <td id=\"T_0706c_row1_col2\" class=\"data row1 col2\" >object</td>\n",
       "            </tr>\n",
       "            <tr>\n",
       "                        <th id=\"T_0706c_level0_row2\" class=\"row_heading level0 row2\" >2</th>\n",
       "                        <td id=\"T_0706c_row2_col0\" class=\"data row2 col0\" >Name of Gram Panchayat</td>\n",
       "                        <td id=\"T_0706c_row2_col1\" class=\"data row2 col1\" >Name of the Gram Panchayat (elected offical).</td>\n",
       "                        <td id=\"T_0706c_row2_col2\" class=\"data row2 col2\" >object</td>\n",
       "            </tr>\n",
       "            <tr>\n",
       "                        <th id=\"T_0706c_level0_row3\" class=\"row_heading level0 row3\" >3</th>\n",
       "                        <td id=\"T_0706c_row3_col0\" class=\"data row3 col0\" >Gram Panchayat Bhawan Adress with Pin Code</td>\n",
       "                        <td id=\"T_0706c_row3_col1\" class=\"data row3 col1\" >The address and pin code of the Gram Panchayat.</td>\n",
       "                        <td id=\"T_0706c_row3_col2\" class=\"data row3 col2\" >object</td>\n",
       "            </tr>\n",
       "    </tbody></table>"
      ],
      "text/plain": [
       "<pandas.io.formats.style.Styler at 0x119fecbb0>"
      ]
     },
     "execution_count": 19,
     "metadata": {},
     "output_type": "execute_result"
    }
   ],
   "source": [
    "print(\"Codebook for Sheet B:\")\n",
    "goa_proforma_B_columns = [column for column in goa_proforma_B.columns]\n",
    "goa_proforma_B_description = [\"Counts the number of Gram Panchayats.\", \n",
    "                              \"Name of district in Goa.\", \n",
    "                              \"Name of the Gram Panchayat (elected offical).\", \n",
    "                              \"The address and pin code of the Gram Panchayat.\"]\n",
    "goa_proforma_B_dtypes = [dtype for dtype in goa_proforma_B.dtypes]\n",
    "\n",
    "data_B = {\"Column Name\": goa_proforma_B_columns, \"Description\": goa_proforma_B_description, \"Type\": goa_proforma_B_dtypes}\n",
    "goa_proforma_B_codebook = pd.DataFrame(data_B)\n",
    "goa_proforma_B_codebook.style.set_properties(subset=['Description'], **{'width': '600px'})"
   ]
  },
  {
   "cell_type": "code",
   "execution_count": 20,
   "id": "coastal-blowing",
   "metadata": {},
   "outputs": [
    {
     "name": "stdout",
     "output_type": "stream",
     "text": [
      "Codebook for Sheet C:\n"
     ]
    },
    {
     "data": {
      "text/html": [
       "<style  type=\"text/css\" >\n",
       "#T_42efb_row0_col1,#T_42efb_row1_col1,#T_42efb_row2_col1,#T_42efb_row3_col1,#T_42efb_row4_col1{\n",
       "            width:  600px;\n",
       "        }</style><table id=\"T_42efb_\" ><thead>    <tr>        <th class=\"blank level0\" ></th>        <th class=\"col_heading level0 col0\" >Column Name</th>        <th class=\"col_heading level0 col1\" >Description</th>        <th class=\"col_heading level0 col2\" >Type</th>    </tr></thead><tbody>\n",
       "                <tr>\n",
       "                        <th id=\"T_42efb_level0_row0\" class=\"row_heading level0 row0\" >0</th>\n",
       "                        <td id=\"T_42efb_row0_col0\" class=\"data row0 col0\" >Sr.No</td>\n",
       "                        <td id=\"T_42efb_row0_col1\" class=\"data row0 col1\" >Counts the number of Panchayat Officers.</td>\n",
       "                        <td id=\"T_42efb_row0_col2\" class=\"data row0 col2\" >object</td>\n",
       "            </tr>\n",
       "            <tr>\n",
       "                        <th id=\"T_42efb_level0_row1\" class=\"row_heading level0 row1\" >1</th>\n",
       "                        <td id=\"T_42efb_row1_col0\" class=\"data row1 col0\" >Name of the District along with State</td>\n",
       "                        <td id=\"T_42efb_row1_col1\" class=\"data row1 col1\" >Name of district in Goa.</td>\n",
       "                        <td id=\"T_42efb_row1_col2\" class=\"data row1 col2\" >object</td>\n",
       "            </tr>\n",
       "            <tr>\n",
       "                        <th id=\"T_42efb_level0_row2\" class=\"row_heading level0 row2\" >2</th>\n",
       "                        <td id=\"T_42efb_row2_col0\" class=\"data row2 col0\" >Name of Panchayat Officer (V.P. Secretary)</td>\n",
       "                        <td id=\"T_42efb_row2_col1\" class=\"data row2 col1\" >Name of the Panchayat Officer (V.P. Secretary).</td>\n",
       "                        <td id=\"T_42efb_row2_col2\" class=\"data row2 col2\" >object</td>\n",
       "            </tr>\n",
       "            <tr>\n",
       "                        <th id=\"T_42efb_level0_row3\" class=\"row_heading level0 row3\" >3</th>\n",
       "                        <td id=\"T_42efb_row3_col0\" class=\"data row3 col0\" >Mobile No.</td>\n",
       "                        <td id=\"T_42efb_row3_col1\" class=\"data row3 col1\" >The mobile phone number of the Panchayat Officer.</td>\n",
       "                        <td id=\"T_42efb_row3_col2\" class=\"data row3 col2\" >object</td>\n",
       "            </tr>\n",
       "            <tr>\n",
       "                        <th id=\"T_42efb_level0_row4\" class=\"row_heading level0 row4\" >4</th>\n",
       "                        <td id=\"T_42efb_row4_col0\" class=\"data row4 col0\" >Email Address</td>\n",
       "                        <td id=\"T_42efb_row4_col1\" class=\"data row4 col1\" >The email address of the Panchayat Officer.</td>\n",
       "                        <td id=\"T_42efb_row4_col2\" class=\"data row4 col2\" >object</td>\n",
       "            </tr>\n",
       "    </tbody></table>"
      ],
      "text/plain": [
       "<pandas.io.formats.style.Styler at 0x11b0c9b80>"
      ]
     },
     "execution_count": 20,
     "metadata": {},
     "output_type": "execute_result"
    }
   ],
   "source": [
    "print(\"Codebook for Sheet C:\")\n",
    "goa_proforma_C_columns = [column for column in goa_proforma_C.columns]\n",
    "goa_proforma_C_description = [\"Counts the number of Panchayat Officers.\", \n",
    "                              \"Name of district in Goa.\", \n",
    "                              \"Name of the Panchayat Officer (V.P. Secretary).\", \n",
    "                              \"The mobile phone number of the Panchayat Officer.\", \n",
    "                              \"The email address of the Panchayat Officer.\"]\n",
    "goa_proforma_C_dtypes = [dtype for dtype in goa_proforma_C.dtypes]\n",
    "\n",
    "data_C = {\"Column Name\": goa_proforma_C_columns, \"Description\": goa_proforma_C_description, \"Type\": goa_proforma_C_dtypes}\n",
    "goa_proforma_C_codebook = pd.DataFrame(data_C)\n",
    "goa_proforma_C_codebook.style.set_properties(subset=['Description'], **{'width': '600px'})"
   ]
  },
  {
   "cell_type": "code",
   "execution_count": 79,
   "id": "sufficient-season",
   "metadata": {},
   "outputs": [
    {
     "name": "stdout",
     "output_type": "stream",
     "text": [
      "Codebook for Sheet E:\n"
     ]
    },
    {
     "data": {
      "text/html": [
       "<style  type=\"text/css\" >\n",
       "#T_a2225_row0_col1,#T_a2225_row1_col1,#T_a2225_row2_col1,#T_a2225_row3_col1,#T_a2225_row4_col1{\n",
       "            width:  600px;\n",
       "        }</style><table id=\"T_a2225_\" ><thead>    <tr>        <th class=\"blank level0\" ></th>        <th class=\"col_heading level0 col0\" >Column Name</th>        <th class=\"col_heading level0 col1\" >Description</th>        <th class=\"col_heading level0 col2\" >Type</th>    </tr></thead><tbody>\n",
       "                <tr>\n",
       "                        <th id=\"T_a2225_level0_row0\" class=\"row_heading level0 row0\" >0</th>\n",
       "                        <td id=\"T_a2225_row0_col0\" class=\"data row0 col0\" >Sr.No</td>\n",
       "                        <td id=\"T_a2225_row0_col1\" class=\"data row0 col1\" >Counts the number of Disctrict Panchayat Presidents.</td>\n",
       "                        <td id=\"T_a2225_row0_col2\" class=\"data row0 col2\" >object</td>\n",
       "            </tr>\n",
       "            <tr>\n",
       "                        <th id=\"T_a2225_level0_row1\" class=\"row_heading level0 row1\" >1</th>\n",
       "                        <td id=\"T_a2225_row1_col0\" class=\"data row1 col0\" >Name of District along with State</td>\n",
       "                        <td id=\"T_a2225_row1_col1\" class=\"data row1 col1\" >Name of district in Goa.</td>\n",
       "                        <td id=\"T_a2225_row1_col2\" class=\"data row1 col2\" >object</td>\n",
       "            </tr>\n",
       "            <tr>\n",
       "                        <th id=\"T_a2225_level0_row2\" class=\"row_heading level0 row2\" >2</th>\n",
       "                        <td id=\"T_a2225_row2_col0\" class=\"data row2 col0\" >Name of District Panchayat President</td>\n",
       "                        <td id=\"T_a2225_row2_col1\" class=\"data row2 col1\" >Name of the Disctrict Panchayat President.</td>\n",
       "                        <td id=\"T_a2225_row2_col2\" class=\"data row2 col2\" >object</td>\n",
       "            </tr>\n",
       "            <tr>\n",
       "                        <th id=\"T_a2225_level0_row3\" class=\"row_heading level0 row3\" >3</th>\n",
       "                        <td id=\"T_a2225_row3_col0\" class=\"data row3 col0\" >Address with Pin Code</td>\n",
       "                        <td id=\"T_a2225_row3_col1\" class=\"data row3 col1\" >The address and pin code of the Disctrict Panchayat President.</td>\n",
       "                        <td id=\"T_a2225_row3_col2\" class=\"data row3 col2\" >object</td>\n",
       "            </tr>\n",
       "            <tr>\n",
       "                        <th id=\"T_a2225_level0_row4\" class=\"row_heading level0 row4\" >4</th>\n",
       "                        <td id=\"T_a2225_row4_col0\" class=\"data row4 col0\" >Mobile No. / Email Address</td>\n",
       "                        <td id=\"T_a2225_row4_col1\" class=\"data row4 col1\" >The mobile phone number or email address of the Disctrict Panchayat President.</td>\n",
       "                        <td id=\"T_a2225_row4_col2\" class=\"data row4 col2\" >object</td>\n",
       "            </tr>\n",
       "    </tbody></table>"
      ],
      "text/plain": [
       "<pandas.io.formats.style.Styler at 0x11bb26a60>"
      ]
     },
     "execution_count": 79,
     "metadata": {},
     "output_type": "execute_result"
    }
   ],
   "source": [
    "print(\"Codebook for Sheet E:\")\n",
    "goa_proforma_E_columns = [column for column in goa_proforma_E.columns]\n",
    "goa_proforma_E_description = [\"Counts the number of Disctrict Panchayat Presidents.\", \n",
    "                              \"Name of district in Goa.\", \n",
    "                              \"Name of the Disctrict Panchayat President.\", \n",
    "                              \"The address and pin code of the Disctrict Panchayat President.\", \n",
    "                              \"The mobile phone number or email address of the Disctrict Panchayat President.\"]\n",
    "goa_proforma_E_dtypes = [dtype for dtype in goa_proforma_E.dtypes]\n",
    "\n",
    "data_E = {\"Column Name\": goa_proforma_E_columns, \"Description\": goa_proforma_E_description, \"Type\": goa_proforma_E_dtypes}\n",
    "goa_proforma_E_codebook = pd.DataFrame(data_E)\n",
    "goa_proforma_E_codebook.style.set_properties(subset=['Description'], **{'width': '600px'})"
   ]
  },
  {
   "cell_type": "code",
   "execution_count": 100,
   "id": "outside-swift",
   "metadata": {},
   "outputs": [
    {
     "name": "stdout",
     "output_type": "stream",
     "text": [
      "Codebook for Sheet F:\n"
     ]
    },
    {
     "data": {
      "text/html": [
       "<style  type=\"text/css\" >\n",
       "#T_33f9d_row0_col1,#T_33f9d_row1_col1,#T_33f9d_row2_col1,#T_33f9d_row3_col1,#T_33f9d_row4_col1{\n",
       "            width:  600px;\n",
       "        }</style><table id=\"T_33f9d_\" ><thead>    <tr>        <th class=\"blank level0\" ></th>        <th class=\"col_heading level0 col0\" >Column Name</th>        <th class=\"col_heading level0 col1\" >Description</th>        <th class=\"col_heading level0 col2\" >Type</th>    </tr></thead><tbody>\n",
       "                <tr>\n",
       "                        <th id=\"T_33f9d_level0_row0\" class=\"row_heading level0 row0\" >0</th>\n",
       "                        <td id=\"T_33f9d_row0_col0\" class=\"data row0 col0\" >Sr.No</td>\n",
       "                        <td id=\"T_33f9d_row0_col1\" class=\"data row0 col1\" >Counts the number of Nodal Officers.</td>\n",
       "                        <td id=\"T_33f9d_row0_col2\" class=\"data row0 col2\" >object</td>\n",
       "            </tr>\n",
       "            <tr>\n",
       "                        <th id=\"T_33f9d_level0_row1\" class=\"row_heading level0 row1\" >1</th>\n",
       "                        <td id=\"T_33f9d_row1_col0\" class=\"data row1 col0\" >Name of the State</td>\n",
       "                        <td id=\"T_33f9d_row1_col1\" class=\"data row1 col1\" >Name of State in India.</td>\n",
       "                        <td id=\"T_33f9d_row1_col2\" class=\"data row1 col2\" >object</td>\n",
       "            </tr>\n",
       "            <tr>\n",
       "                        <th id=\"T_33f9d_level0_row2\" class=\"row_heading level0 row2\" >2</th>\n",
       "                        <td id=\"T_33f9d_row2_col0\" class=\"data row2 col0\" >Name of the Nodal Officer / Designation</td>\n",
       "                        <td id=\"T_33f9d_row2_col1\" class=\"data row2 col1\" >Name of the Nodal Officer and their designation.</td>\n",
       "                        <td id=\"T_33f9d_row2_col2\" class=\"data row2 col2\" >object</td>\n",
       "            </tr>\n",
       "            <tr>\n",
       "                        <th id=\"T_33f9d_level0_row3\" class=\"row_heading level0 row3\" >3</th>\n",
       "                        <td id=\"T_33f9d_row3_col0\" class=\"data row3 col0\" >Mobile No. / Email Address</td>\n",
       "                        <td id=\"T_33f9d_row3_col1\" class=\"data row3 col1\" >The mobile phone number or email address of the Nodal Officer.</td>\n",
       "                        <td id=\"T_33f9d_row3_col2\" class=\"data row3 col2\" >object</td>\n",
       "            </tr>\n",
       "            <tr>\n",
       "                        <th id=\"T_33f9d_level0_row4\" class=\"row_heading level0 row4\" >4</th>\n",
       "                        <td id=\"T_33f9d_row4_col0\" class=\"data row4 col0\" >Postal Details</td>\n",
       "                        <td id=\"T_33f9d_row4_col1\" class=\"data row4 col1\" >The address and pin code of the Nodal Officer.</td>\n",
       "                        <td id=\"T_33f9d_row4_col2\" class=\"data row4 col2\" >object</td>\n",
       "            </tr>\n",
       "    </tbody></table>"
      ],
      "text/plain": [
       "<pandas.io.formats.style.Styler at 0x11c32fe20>"
      ]
     },
     "execution_count": 100,
     "metadata": {},
     "output_type": "execute_result"
    }
   ],
   "source": [
    "print(\"Codebook for Sheet F:\")\n",
    "goa_proforma_F_columns = [column for column in goa_proforma_F.columns]\n",
    "goa_proforma_F_description = [\"Counts the number of Nodal Officers.\", \n",
    "                              \"Name of State in India.\", \n",
    "                              \"Name of the Nodal Officer and their designation.\", \n",
    "                              \"The mobile phone number or email address of the Nodal Officer.\", \n",
    "                              \"The address and pin code of the Nodal Officer.\"]\n",
    "goa_proforma_F_dtypes = [dtype for dtype in goa_proforma_F.dtypes]\n",
    "\n",
    "data_F = {\"Column Name\": goa_proforma_F_columns, \"Description\": goa_proforma_F_description, \"Type\": goa_proforma_F_dtypes}\n",
    "goa_proforma_F_codebook = pd.DataFrame(data_F)\n",
    "goa_proforma_F_codebook.style.set_properties(subset=['Description'], **{'width': '600px'})"
   ]
  },
  {
   "cell_type": "markdown",
   "id": "functional-review",
   "metadata": {},
   "source": [
    "**Missing values** <a class=\"anchor\" id=\"4.1\"></a>"
   ]
  },
  {
   "cell_type": "code",
   "execution_count": 21,
   "id": "affiliated-crossing",
   "metadata": {},
   "outputs": [
    {
     "data": {
      "text/plain": [
       "Sr.No                                    187\n",
       "Name of the District along with State      0\n",
       "Name of Village Panchayat                  0\n",
       "Name of Sarpanch                           0\n",
       "Address with Pin Code                     19\n",
       "Mobile No./Email Address                   1\n",
       "dtype: int64"
      ]
     },
     "execution_count": 21,
     "metadata": {},
     "output_type": "execute_result"
    }
   ],
   "source": [
    "goa_proforma_A.isnull().sum()"
   ]
  },
  {
   "cell_type": "code",
   "execution_count": 22,
   "id": "authentic-breathing",
   "metadata": {},
   "outputs": [
    {
     "data": {
      "text/plain": [
       "Sr.No                                         0\n",
       "Name of the District along with State         0\n",
       "Name of Gram Panchayat                        0\n",
       "Gram Panchayat Bhawan Adress with Pin Code    0\n",
       "dtype: int64"
      ]
     },
     "execution_count": 22,
     "metadata": {},
     "output_type": "execute_result"
    }
   ],
   "source": [
    "goa_proforma_B.isnull().sum()"
   ]
  },
  {
   "cell_type": "code",
   "execution_count": 23,
   "id": "private-baptist",
   "metadata": {},
   "outputs": [
    {
     "data": {
      "text/plain": [
       "Sr.No                                           0\n",
       "Name of the District along with State           0\n",
       "Name of Panchayat Officer (V.P. Secretary)      0\n",
       "Mobile No.                                      0\n",
       "Email Address                                 182\n",
       "dtype: int64"
      ]
     },
     "execution_count": 23,
     "metadata": {},
     "output_type": "execute_result"
    }
   ],
   "source": [
    "goa_proforma_C.isnull().sum()"
   ]
  },
  {
   "cell_type": "code",
   "execution_count": 24,
   "id": "excellent-cemetery",
   "metadata": {},
   "outputs": [
    {
     "data": {
      "text/plain": [
       "Sr.No                                   0\n",
       "Name of District along with State       0\n",
       "Name of District Panchayat President    0\n",
       "Address with Pin Code                   0\n",
       "Mobile No. / Email Address              0\n",
       "dtype: int64"
      ]
     },
     "execution_count": 24,
     "metadata": {},
     "output_type": "execute_result"
    }
   ],
   "source": [
    "goa_proforma_E.isnull().sum()"
   ]
  },
  {
   "cell_type": "code",
   "execution_count": 25,
   "id": "liable-transaction",
   "metadata": {},
   "outputs": [
    {
     "data": {
      "text/plain": [
       "Sr.No                                      0\n",
       "Name of the State                          0\n",
       "Name of the Nodal Officer / Designation    0\n",
       "Mobile No. / Email Address                 0\n",
       "Postal Details                             0\n",
       "dtype: int64"
      ]
     },
     "execution_count": 25,
     "metadata": {},
     "output_type": "execute_result"
    }
   ],
   "source": [
    "goa_proforma_F.isnull().sum()"
   ]
  },
  {
   "cell_type": "markdown",
   "id": "direct-suggestion",
   "metadata": {},
   "source": [
    "**Summary statistics** <a class=\"anchor\" id=\"4.2\"></a>"
   ]
  },
  {
   "cell_type": "code",
   "execution_count": 26,
   "id": "actual-monkey",
   "metadata": {},
   "outputs": [
    {
     "data": {
      "text/html": [
       "<div>\n",
       "<style scoped>\n",
       "    .dataframe tbody tr th:only-of-type {\n",
       "        vertical-align: middle;\n",
       "    }\n",
       "\n",
       "    .dataframe tbody tr th {\n",
       "        vertical-align: top;\n",
       "    }\n",
       "\n",
       "    .dataframe thead th {\n",
       "        text-align: right;\n",
       "    }\n",
       "</style>\n",
       "<table border=\"1\" class=\"dataframe\">\n",
       "  <thead>\n",
       "    <tr style=\"text-align: right;\">\n",
       "      <th></th>\n",
       "      <th>Sr.No</th>\n",
       "      <th>Name of the District along with State</th>\n",
       "      <th>Name of Village Panchayat</th>\n",
       "      <th>Name of Sarpanch</th>\n",
       "      <th>Address with Pin Code</th>\n",
       "      <th>Mobile No./Email Address</th>\n",
       "    </tr>\n",
       "  </thead>\n",
       "  <tbody>\n",
       "    <tr>\n",
       "      <th>count</th>\n",
       "      <td>0</td>\n",
       "      <td>187</td>\n",
       "      <td>187</td>\n",
       "      <td>187</td>\n",
       "      <td>168</td>\n",
       "      <td>186</td>\n",
       "    </tr>\n",
       "    <tr>\n",
       "      <th>unique</th>\n",
       "      <td>0</td>\n",
       "      <td>130</td>\n",
       "      <td>185</td>\n",
       "      <td>187</td>\n",
       "      <td>149</td>\n",
       "      <td>186</td>\n",
       "    </tr>\n",
       "    <tr>\n",
       "      <th>top</th>\n",
       "      <td>NaN</td>\n",
       "      <td>South Goa</td>\n",
       "      <td>Querim</td>\n",
       "      <td>Shri. Sandeep D. Salgaonkar</td>\n",
       "      <td>---</td>\n",
       "      <td>9423224690</td>\n",
       "    </tr>\n",
       "    <tr>\n",
       "      <th>freq</th>\n",
       "      <td>NaN</td>\n",
       "      <td>58</td>\n",
       "      <td>2</td>\n",
       "      <td>1</td>\n",
       "      <td>20</td>\n",
       "      <td>1</td>\n",
       "    </tr>\n",
       "  </tbody>\n",
       "</table>\n",
       "</div>"
      ],
      "text/plain": [
       "       Sr.No Name of the District along with State Name of Village Panchayat  \\\n",
       "count      0                                   187                       187   \n",
       "unique     0                                   130                       185   \n",
       "top      NaN                             South Goa                    Querim   \n",
       "freq     NaN                                    58                         2   \n",
       "\n",
       "                   Name of Sarpanch Address with Pin Code  \\\n",
       "count                           187                   168   \n",
       "unique                          187                   149   \n",
       "top     Shri. Sandeep D. Salgaonkar                   ---   \n",
       "freq                              1                    20   \n",
       "\n",
       "        Mobile No./Email Address  \n",
       "count                        186  \n",
       "unique                       186  \n",
       "top                   9423224690  \n",
       "freq                           1  "
      ]
     },
     "execution_count": 26,
     "metadata": {},
     "output_type": "execute_result"
    }
   ],
   "source": [
    "goa_proforma_A.describe()"
   ]
  },
  {
   "cell_type": "code",
   "execution_count": 27,
   "id": "standing-closure",
   "metadata": {},
   "outputs": [
    {
     "data": {
      "text/html": [
       "<div>\n",
       "<style scoped>\n",
       "    .dataframe tbody tr th:only-of-type {\n",
       "        vertical-align: middle;\n",
       "    }\n",
       "\n",
       "    .dataframe tbody tr th {\n",
       "        vertical-align: top;\n",
       "    }\n",
       "\n",
       "    .dataframe thead th {\n",
       "        text-align: right;\n",
       "    }\n",
       "</style>\n",
       "<table border=\"1\" class=\"dataframe\">\n",
       "  <thead>\n",
       "    <tr style=\"text-align: right;\">\n",
       "      <th></th>\n",
       "      <th>Sr.No</th>\n",
       "      <th>Name of the District along with State</th>\n",
       "      <th>Name of Gram Panchayat</th>\n",
       "      <th>Gram Panchayat Bhawan Adress with Pin Code</th>\n",
       "    </tr>\n",
       "  </thead>\n",
       "  <tbody>\n",
       "    <tr>\n",
       "      <th>count</th>\n",
       "      <td>187</td>\n",
       "      <td>187</td>\n",
       "      <td>187</td>\n",
       "      <td>187</td>\n",
       "    </tr>\n",
       "    <tr>\n",
       "      <th>unique</th>\n",
       "      <td>187</td>\n",
       "      <td>2</td>\n",
       "      <td>185</td>\n",
       "      <td>187</td>\n",
       "    </tr>\n",
       "    <tr>\n",
       "      <th>top</th>\n",
       "      <td>1</td>\n",
       "      <td>North Goa, Goa</td>\n",
       "      <td>Querim</td>\n",
       "      <td>Morpila, Quepem - Goa</td>\n",
       "    </tr>\n",
       "    <tr>\n",
       "      <th>freq</th>\n",
       "      <td>1</td>\n",
       "      <td>102</td>\n",
       "      <td>2</td>\n",
       "      <td>1</td>\n",
       "    </tr>\n",
       "  </tbody>\n",
       "</table>\n",
       "</div>"
      ],
      "text/plain": [
       "        Sr.No Name of the District along with State Name of Gram Panchayat  \\\n",
       "count     187                                   187                    187   \n",
       "unique    187                                     2                    185   \n",
       "top         1                        North Goa, Goa                 Querim   \n",
       "freq        1                                   102                      2   \n",
       "\n",
       "       Gram Panchayat Bhawan Adress with Pin Code  \n",
       "count                                         187  \n",
       "unique                                        187  \n",
       "top                         Morpila, Quepem - Goa  \n",
       "freq                                            1  "
      ]
     },
     "execution_count": 27,
     "metadata": {},
     "output_type": "execute_result"
    }
   ],
   "source": [
    "goa_proforma_B.describe()"
   ]
  },
  {
   "cell_type": "code",
   "execution_count": 28,
   "id": "minus-florida",
   "metadata": {},
   "outputs": [
    {
     "data": {
      "text/html": [
       "<div>\n",
       "<style scoped>\n",
       "    .dataframe tbody tr th:only-of-type {\n",
       "        vertical-align: middle;\n",
       "    }\n",
       "\n",
       "    .dataframe tbody tr th {\n",
       "        vertical-align: top;\n",
       "    }\n",
       "\n",
       "    .dataframe thead th {\n",
       "        text-align: right;\n",
       "    }\n",
       "</style>\n",
       "<table border=\"1\" class=\"dataframe\">\n",
       "  <thead>\n",
       "    <tr style=\"text-align: right;\">\n",
       "      <th></th>\n",
       "      <th>Sr.No</th>\n",
       "      <th>Name of the District along with State</th>\n",
       "      <th>Name of Panchayat Officer (V.P. Secretary)</th>\n",
       "      <th>Mobile No.</th>\n",
       "      <th>Email Address</th>\n",
       "    </tr>\n",
       "  </thead>\n",
       "  <tbody>\n",
       "    <tr>\n",
       "      <th>count</th>\n",
       "      <td>185</td>\n",
       "      <td>185</td>\n",
       "      <td>185</td>\n",
       "      <td>185</td>\n",
       "      <td>3</td>\n",
       "    </tr>\n",
       "    <tr>\n",
       "      <th>unique</th>\n",
       "      <td>185</td>\n",
       "      <td>2</td>\n",
       "      <td>175</td>\n",
       "      <td>171</td>\n",
       "      <td>3</td>\n",
       "    </tr>\n",
       "    <tr>\n",
       "      <th>top</th>\n",
       "      <td>1</td>\n",
       "      <td>North Goa, Goa</td>\n",
       "      <td>Sameer Parab</td>\n",
       "      <td>---</td>\n",
       "      <td>mailoswynmas@gmail.com</td>\n",
       "    </tr>\n",
       "    <tr>\n",
       "      <th>freq</th>\n",
       "      <td>1</td>\n",
       "      <td>103</td>\n",
       "      <td>2</td>\n",
       "      <td>3</td>\n",
       "      <td>1</td>\n",
       "    </tr>\n",
       "  </tbody>\n",
       "</table>\n",
       "</div>"
      ],
      "text/plain": [
       "        Sr.No Name of the District along with State  \\\n",
       "count     185                                   185   \n",
       "unique    185                                     2   \n",
       "top         1                        North Goa, Goa   \n",
       "freq        1                                   103   \n",
       "\n",
       "       Name of Panchayat Officer (V.P. Secretary) Mobile No.  \\\n",
       "count                                         185        185   \n",
       "unique                                        175        171   \n",
       "top                                  Sameer Parab        ---   \n",
       "freq                                            2          3   \n",
       "\n",
       "                  Email Address  \n",
       "count                         3  \n",
       "unique                        3  \n",
       "top     mailoswynmas@gmail.com   \n",
       "freq                          1  "
      ]
     },
     "execution_count": 28,
     "metadata": {},
     "output_type": "execute_result"
    }
   ],
   "source": [
    "goa_proforma_C.describe()"
   ]
  },
  {
   "cell_type": "code",
   "execution_count": 29,
   "id": "wooden-nurse",
   "metadata": {},
   "outputs": [
    {
     "data": {
      "text/html": [
       "<div>\n",
       "<style scoped>\n",
       "    .dataframe tbody tr th:only-of-type {\n",
       "        vertical-align: middle;\n",
       "    }\n",
       "\n",
       "    .dataframe tbody tr th {\n",
       "        vertical-align: top;\n",
       "    }\n",
       "\n",
       "    .dataframe thead th {\n",
       "        text-align: right;\n",
       "    }\n",
       "</style>\n",
       "<table border=\"1\" class=\"dataframe\">\n",
       "  <thead>\n",
       "    <tr style=\"text-align: right;\">\n",
       "      <th></th>\n",
       "      <th>Sr.No</th>\n",
       "      <th>Name of District along with State</th>\n",
       "      <th>Name of District Panchayat President</th>\n",
       "      <th>Address with Pin Code</th>\n",
       "      <th>Mobile No. / Email Address</th>\n",
       "    </tr>\n",
       "  </thead>\n",
       "  <tbody>\n",
       "    <tr>\n",
       "      <th>count</th>\n",
       "      <td>4</td>\n",
       "      <td>4</td>\n",
       "      <td>4</td>\n",
       "      <td>4</td>\n",
       "      <td>4</td>\n",
       "    </tr>\n",
       "    <tr>\n",
       "      <th>unique</th>\n",
       "      <td>4</td>\n",
       "      <td>2</td>\n",
       "      <td>4</td>\n",
       "      <td>4</td>\n",
       "      <td>4</td>\n",
       "    </tr>\n",
       "    <tr>\n",
       "      <th>top</th>\n",
       "      <td>1</td>\n",
       "      <td>North Goa, GOA</td>\n",
       "      <td>Smt.Ankita L Navelkar - Adhyaksha</td>\n",
       "      <td>H.No 247, Lalbag, Vithalpur, P.O. Sanquelim, B...</td>\n",
       "      <td>9049666058</td>\n",
       "    </tr>\n",
       "    <tr>\n",
       "      <th>freq</th>\n",
       "      <td>1</td>\n",
       "      <td>2</td>\n",
       "      <td>1</td>\n",
       "      <td>1</td>\n",
       "      <td>1</td>\n",
       "    </tr>\n",
       "  </tbody>\n",
       "</table>\n",
       "</div>"
      ],
      "text/plain": [
       "        Sr.No Name of District along with State  \\\n",
       "count       4                                 4   \n",
       "unique      4                                 2   \n",
       "top         1                    North Goa, GOA   \n",
       "freq        1                                 2   \n",
       "\n",
       "       Name of District Panchayat President  \\\n",
       "count                                     4   \n",
       "unique                                    4   \n",
       "top       Smt.Ankita L Navelkar - Adhyaksha   \n",
       "freq                                      1   \n",
       "\n",
       "                                    Address with Pin Code  \\\n",
       "count                                                   4   \n",
       "unique                                                  4   \n",
       "top     H.No 247, Lalbag, Vithalpur, P.O. Sanquelim, B...   \n",
       "freq                                                    1   \n",
       "\n",
       "        Mobile No. / Email Address  \n",
       "count                            4  \n",
       "unique                           4  \n",
       "top                     9049666058  \n",
       "freq                             1  "
      ]
     },
     "execution_count": 29,
     "metadata": {},
     "output_type": "execute_result"
    }
   ],
   "source": [
    "goa_proforma_E.describe()"
   ]
  },
  {
   "cell_type": "code",
   "execution_count": 30,
   "id": "international-belle",
   "metadata": {},
   "outputs": [
    {
     "data": {
      "text/html": [
       "<div>\n",
       "<style scoped>\n",
       "    .dataframe tbody tr th:only-of-type {\n",
       "        vertical-align: middle;\n",
       "    }\n",
       "\n",
       "    .dataframe tbody tr th {\n",
       "        vertical-align: top;\n",
       "    }\n",
       "\n",
       "    .dataframe thead th {\n",
       "        text-align: right;\n",
       "    }\n",
       "</style>\n",
       "<table border=\"1\" class=\"dataframe\">\n",
       "  <thead>\n",
       "    <tr style=\"text-align: right;\">\n",
       "      <th></th>\n",
       "      <th>Sr.No</th>\n",
       "      <th>Name of the State</th>\n",
       "      <th>Name of the Nodal Officer / Designation</th>\n",
       "      <th>Mobile No. / Email Address</th>\n",
       "      <th>Postal Details</th>\n",
       "    </tr>\n",
       "  </thead>\n",
       "  <tbody>\n",
       "    <tr>\n",
       "      <th>count</th>\n",
       "      <td>1</td>\n",
       "      <td>1</td>\n",
       "      <td>1</td>\n",
       "      <td>1</td>\n",
       "      <td>1</td>\n",
       "    </tr>\n",
       "    <tr>\n",
       "      <th>unique</th>\n",
       "      <td>1</td>\n",
       "      <td>1</td>\n",
       "      <td>1</td>\n",
       "      <td>1</td>\n",
       "      <td>1</td>\n",
       "    </tr>\n",
       "    <tr>\n",
       "      <th>top</th>\n",
       "      <td>1</td>\n",
       "      <td>GOA</td>\n",
       "      <td>Shri. Gurudas Pilarnekar, Director, Directorat...</td>\n",
       "      <td>9763554136 dir-panc.goa@nic.in</td>\n",
       "      <td>3rd lift, 3rd floor, Junta House, Panaji - Goa</td>\n",
       "    </tr>\n",
       "    <tr>\n",
       "      <th>freq</th>\n",
       "      <td>1</td>\n",
       "      <td>1</td>\n",
       "      <td>1</td>\n",
       "      <td>1</td>\n",
       "      <td>1</td>\n",
       "    </tr>\n",
       "  </tbody>\n",
       "</table>\n",
       "</div>"
      ],
      "text/plain": [
       "        Sr.No Name of the State  \\\n",
       "count       1                 1   \n",
       "unique      1                 1   \n",
       "top         1               GOA   \n",
       "freq        1                 1   \n",
       "\n",
       "                  Name of the Nodal Officer / Designation  \\\n",
       "count                                                   1   \n",
       "unique                                                  1   \n",
       "top     Shri. Gurudas Pilarnekar, Director, Directorat...   \n",
       "freq                                                    1   \n",
       "\n",
       "            Mobile No. / Email Address  \\\n",
       "count                                1   \n",
       "unique                               1   \n",
       "top     9763554136 dir-panc.goa@nic.in   \n",
       "freq                                 1   \n",
       "\n",
       "                                        Postal Details  \n",
       "count                                                1  \n",
       "unique                                               1  \n",
       "top     3rd lift, 3rd floor, Junta House, Panaji - Goa  \n",
       "freq                                                 1  "
      ]
     },
     "execution_count": 30,
     "metadata": {},
     "output_type": "execute_result"
    }
   ],
   "source": [
    "goa_proforma_F.describe()"
   ]
  },
  {
   "cell_type": "markdown",
   "id": "elect-picnic",
   "metadata": {},
   "source": [
    "## Columns\n",
    "<a class=\"anchor\" id=\"5\"></a>"
   ]
  },
  {
   "cell_type": "markdown",
   "id": "located-living",
   "metadata": {},
   "source": [
    "### Sheet A\n",
    "<a class=\"anchor\" id=\"5.1\"></a>\n",
    "Sheet A contains information about Sarpanchs in Goa."
   ]
  },
  {
   "cell_type": "markdown",
   "id": "modular-lawsuit",
   "metadata": {},
   "source": [
    "### Sr.No.\n",
    "<a class=\"anchor\" id=\"5.1.1\"></a>\n",
    "Meant for counting, is a null column."
   ]
  },
  {
   "cell_type": "code",
   "execution_count": 31,
   "id": "current-refrigerator",
   "metadata": {},
   "outputs": [
    {
     "data": {
      "text/plain": [
       "0      NaN\n",
       "1      NaN\n",
       "2      NaN\n",
       "3      NaN\n",
       "4      NaN\n",
       "      ... \n",
       "182    NaN\n",
       "183    NaN\n",
       "184    NaN\n",
       "185    NaN\n",
       "186    NaN\n",
       "Name: Sr.No, Length: 187, dtype: object"
      ]
     },
     "execution_count": 31,
     "metadata": {},
     "output_type": "execute_result"
    }
   ],
   "source": [
    "column = goa_proforma_A[\"Sr.No\"]\n",
    "column"
   ]
  },
  {
   "cell_type": "code",
   "execution_count": 32,
   "id": "hundred-ethiopia",
   "metadata": {},
   "outputs": [
    {
     "name": "stdout",
     "output_type": "stream",
     "text": [
      "No. of unique values: 1\n",
      "Duplicates: {nan: 187}\n",
      "No. of duplicates: 1\n",
      "No. of null values: 187\n"
     ]
    }
   ],
   "source": [
    "print(\"No. of unique values:\", len(column.unique()))\n",
    "counter = dict(Counter(column))\n",
    "duplicates = {key:value for key, value in counter.items() if value > 1}\n",
    "print(\"Duplicates:\", duplicates)\n",
    "if len(duplicates) > 0:\n",
    "    print(\"No. of duplicates:\", len(duplicates))\n",
    "\n",
    "print(\"No. of null values:\", sum(column.isnull()))"
   ]
  },
  {
   "cell_type": "markdown",
   "id": "medieval-frequency",
   "metadata": {},
   "source": [
    "### Name of the District along with State\n",
    "<a class=\"anchor\" id=\"5.1.2\"></a>\n",
    "Name of district in Goa."
   ]
  },
  {
   "cell_type": "code",
   "execution_count": 33,
   "id": "asian-hamburg",
   "metadata": {},
   "outputs": [
    {
     "data": {
      "text/plain": [
       "0                    North Goa, V.P. Dhargalim\n",
       "1                      North Goa, V.P. Arambol\n",
       "2      North Goa, V.P. Khajne-Amere-Poroscodem\n",
       "3                       North Goa, V.P. Parcem\n",
       "4          North Goa, V.P. Ibrampur - Hankahne\n",
       "                        ...                   \n",
       "182                                  South Goa\n",
       "183                                  South Goa\n",
       "184                                  South Goa\n",
       "185                                  South Goa\n",
       "186                                  South Goa\n",
       "Name: Name of the District along with State, Length: 187, dtype: object"
      ]
     },
     "execution_count": 33,
     "metadata": {},
     "output_type": "execute_result"
    }
   ],
   "source": [
    "column = goa_proforma_A[\"Name of the District along with State\"]\n",
    "column"
   ]
  },
  {
   "cell_type": "code",
   "execution_count": 34,
   "id": "large-gathering",
   "metadata": {},
   "outputs": [
    {
     "name": "stdout",
     "output_type": "stream",
     "text": [
      "No. of unique values: 130\n",
      "Duplicates: {'South Goa': 58}\n",
      "No. of duplicates: 1\n",
      "No. of null values: 0\n"
     ]
    }
   ],
   "source": [
    "print(\"No. of unique values:\", len(column.unique()))\n",
    "counter = dict(Counter(column))\n",
    "duplicates = {key:value for key, value in counter.items() if value > 1}\n",
    "print(\"Duplicates:\", duplicates)\n",
    "if len(duplicates) > 0:\n",
    "    print(\"No. of duplicates:\", len(duplicates))\n",
    "\n",
    "print(\"No. of null values:\", sum(column.isnull()))"
   ]
  },
  {
   "cell_type": "markdown",
   "id": "sitting-campus",
   "metadata": {},
   "source": [
    "The first 128 values all consist of either \"North Goa\" or \"South Goa\", followed by \"V.P.\" and a name of a Village Panchayat. This VP is repeated in the next column, so we can remove it to see how many counts we have in each district."
   ]
  },
  {
   "cell_type": "code",
   "execution_count": 35,
   "id": "expanded-pillow",
   "metadata": {},
   "outputs": [
    {
     "data": {
      "text/plain": [
       "0      North Goa\n",
       "1      North Goa\n",
       "2      North Goa\n",
       "3      North Goa\n",
       "4      North Goa\n",
       "         ...    \n",
       "182    South Goa\n",
       "183    South Goa\n",
       "184    South Goa\n",
       "185    South Goa\n",
       "186    South Goa\n",
       "Name: Name of the District along with State, Length: 187, dtype: object"
      ]
     },
     "execution_count": 35,
     "metadata": {},
     "output_type": "execute_result"
    }
   ],
   "source": [
    "districts = column.apply(lambda x: str(x[:9]))\n",
    "districts"
   ]
  },
  {
   "cell_type": "code",
   "execution_count": 36,
   "id": "willing-theorem",
   "metadata": {},
   "outputs": [
    {
     "name": "stdout",
     "output_type": "stream",
     "text": [
      "Unique values: ['North Goa' 'South Goa']\n",
      "No. of unique values: 2\n"
     ]
    },
    {
     "data": {
      "text/html": [
       "<div>\n",
       "<style scoped>\n",
       "    .dataframe tbody tr th:only-of-type {\n",
       "        vertical-align: middle;\n",
       "    }\n",
       "\n",
       "    .dataframe tbody tr th {\n",
       "        vertical-align: top;\n",
       "    }\n",
       "\n",
       "    .dataframe thead th {\n",
       "        text-align: right;\n",
       "    }\n",
       "</style>\n",
       "<table border=\"1\" class=\"dataframe\">\n",
       "  <thead>\n",
       "    <tr style=\"text-align: right;\">\n",
       "      <th></th>\n",
       "      <th>District</th>\n",
       "      <th>Count</th>\n",
       "    </tr>\n",
       "  </thead>\n",
       "  <tbody>\n",
       "    <tr>\n",
       "      <th>0</th>\n",
       "      <td>North Goa</td>\n",
       "      <td>102</td>\n",
       "    </tr>\n",
       "    <tr>\n",
       "      <th>1</th>\n",
       "      <td>South Goa</td>\n",
       "      <td>85</td>\n",
       "    </tr>\n",
       "  </tbody>\n",
       "</table>\n",
       "</div>"
      ],
      "text/plain": [
       "    District  Count\n",
       "0  North Goa    102\n",
       "1  South Goa     85"
      ]
     },
     "execution_count": 36,
     "metadata": {},
     "output_type": "execute_result"
    }
   ],
   "source": [
    "print(\"Unique values:\", districts.unique())\n",
    "print(\"No. of unique values:\", len(districts.unique()))\n",
    "\n",
    "# Table of number of Sarpanchs in each district\n",
    "table = districts.value_counts().rename_axis('District').reset_index(name='Count')\n",
    "table"
   ]
  },
  {
   "cell_type": "code",
   "execution_count": 37,
   "id": "given-infrastructure",
   "metadata": {},
   "outputs": [
    {
     "data": {
      "image/png": "[encoded data removed]",
      "text/plain": [
       "<Figure size 576x360 with 1 Axes>"
      ]
     },
     "metadata": {
      "needs_background": "light"
     },
     "output_type": "display_data"
    }
   ],
   "source": [
    "plt.figure(figsize = (8, 5))\n",
    "plt.bar(table[\"District\"], table[\"Count\"])\n",
    "plt.title(\"Number of Sarpanch's in each District\")\n",
    "plt.xlabel(\"District\")\n",
    "plt.ylabel(\"Count\")\n",
    "plt.show()"
   ]
  },
  {
   "cell_type": "markdown",
   "id": "elder-africa",
   "metadata": {},
   "source": [
    "### Name of Village Panchayat\n",
    "<a class=\"anchor\" id=\"5.1.3\"></a>\n",
    "Name of the village panchayat the Sarpanch is elected in."
   ]
  },
  {
   "cell_type": "code",
   "execution_count": 38,
   "id": "great-dublin",
   "metadata": {},
   "outputs": [
    {
     "data": {
      "text/plain": [
       "0                     Dhargalim\n",
       "1                       Arambol\n",
       "2       Khajne-Amere-Porascadem\n",
       "3                        Parcem\n",
       "4             Ibrampur-Hankahne\n",
       "                 ...           \n",
       "182       Majorda Utorda Calata\n",
       "183                    Chicalim\n",
       "184    Cansaulim-Arossim-Cuelim\n",
       "185        Velsao-Pale-Issorcim\n",
       "186                    Sancoale\n",
       "Name: Name of Village Panchayat, Length: 187, dtype: object"
      ]
     },
     "execution_count": 38,
     "metadata": {},
     "output_type": "execute_result"
    }
   ],
   "source": [
    "column = goa_proforma_A[\"Name of Village Panchayat\"]\n",
    "column"
   ]
  },
  {
   "cell_type": "code",
   "execution_count": 39,
   "id": "graduate-eagle",
   "metadata": {},
   "outputs": [
    {
     "name": "stdout",
     "output_type": "stream",
     "text": [
      "No. of unique values: 185\n",
      "Duplicates: {'Querim': 2, 'Navelim': 2}\n",
      "No. of duplicates: 2\n",
      "No. of null values: 0\n"
     ]
    }
   ],
   "source": [
    "print(\"No. of unique values:\", len(column.unique()))\n",
    "counter = dict(Counter(column))\n",
    "duplicates = {key:value for key, value in counter.items() if value > 1}\n",
    "print(\"Duplicates:\", duplicates)\n",
    "if len(duplicates) > 0:\n",
    "    print(\"No. of duplicates:\", len(duplicates))\n",
    "\n",
    "print(\"No. of null values:\", sum(column.isnull()))"
   ]
  },
  {
   "cell_type": "markdown",
   "id": "killing-lodging",
   "metadata": {},
   "source": [
    "### Name of Sarpanch\n",
    "<a class=\"anchor\" id=\"5.1.4\"></a>\n",
    "Name of the Sarpanch (elected offical)."
   ]
  },
  {
   "cell_type": "code",
   "execution_count": 40,
   "id": "subjective-bunch",
   "metadata": {},
   "outputs": [
    {
     "data": {
      "text/plain": [
       "0      Shri.  Murarri Waradkar (Administrator)\n",
       "1                    Smt. Pranali P. Vaigankar\n",
       "2                 Smt. Jayshri Jairam Pirankar\n",
       "3                              Shri. Rama Naik\n",
       "4                 Shri. Ashok Mahadev Dhauskar\n",
       "                        ...                   \n",
       "182                           Mr.Moises A. Vaz\n",
       "183                    Mrs.Prajoti L. Kudaikar\n",
       "184                        Mrs.FilomenaD,Mello\n",
       "185                       Mr. Henrique D’Mello\n",
       "186                 Mr.Ramakant Narayan Borkar\n",
       "Name: Name of Sarpanch, Length: 187, dtype: object"
      ]
     },
     "execution_count": 40,
     "metadata": {},
     "output_type": "execute_result"
    }
   ],
   "source": [
    "column = goa_proforma_A[\"Name of Sarpanch\"]\n",
    "column"
   ]
  },
  {
   "cell_type": "code",
   "execution_count": 41,
   "id": "referenced-reception",
   "metadata": {},
   "outputs": [
    {
     "name": "stdout",
     "output_type": "stream",
     "text": [
      "No. of unique values: 187\n",
      "Duplicates: {}\n",
      "No. of null values: 0\n"
     ]
    }
   ],
   "source": [
    "print(\"No. of unique values:\", len(column.unique()))\n",
    "counter = dict(Counter(column))\n",
    "duplicates = {key:value for key, value in counter.items() if value > 1}\n",
    "print(\"Duplicates:\", duplicates)\n",
    "if len(duplicates) > 0:\n",
    "    print(\"No. of duplicates:\", len(duplicates))\n",
    "\n",
    "print(\"No. of null values:\", sum(column.isnull()))"
   ]
  },
  {
   "cell_type": "code",
   "execution_count": 42,
   "id": "oriental-conspiracy",
   "metadata": {},
   "outputs": [
    {
     "data": {
      "text/html": [
       "<div>\n",
       "<style scoped>\n",
       "    .dataframe tbody tr th:only-of-type {\n",
       "        vertical-align: middle;\n",
       "    }\n",
       "\n",
       "    .dataframe tbody tr th {\n",
       "        vertical-align: top;\n",
       "    }\n",
       "\n",
       "    .dataframe thead th {\n",
       "        text-align: right;\n",
       "    }\n",
       "</style>\n",
       "<table border=\"1\" class=\"dataframe\">\n",
       "  <thead>\n",
       "    <tr style=\"text-align: right;\">\n",
       "      <th></th>\n",
       "      <th>Titles</th>\n",
       "      <th>Counts</th>\n",
       "    </tr>\n",
       "  </thead>\n",
       "  <tbody>\n",
       "    <tr>\n",
       "      <th>0</th>\n",
       "      <td>Smt.</td>\n",
       "      <td>34</td>\n",
       "    </tr>\n",
       "    <tr>\n",
       "      <th>1</th>\n",
       "      <td>Shri.</td>\n",
       "      <td>48</td>\n",
       "    </tr>\n",
       "    <tr>\n",
       "      <th>2</th>\n",
       "      <td>Mr.</td>\n",
       "      <td>8</td>\n",
       "    </tr>\n",
       "    <tr>\n",
       "      <th>3</th>\n",
       "      <td>Mrs.</td>\n",
       "      <td>4</td>\n",
       "    </tr>\n",
       "    <tr>\n",
       "      <th>4</th>\n",
       "      <td>None</td>\n",
       "      <td>93</td>\n",
       "    </tr>\n",
       "  </tbody>\n",
       "</table>\n",
       "</div>"
      ],
      "text/plain": [
       "  Titles  Counts\n",
       "0   Smt.      34\n",
       "1  Shri.      48\n",
       "2    Mr.       8\n",
       "3   Mrs.       4\n",
       "4   None      93"
      ]
     },
     "execution_count": 42,
     "metadata": {},
     "output_type": "execute_result"
    }
   ],
   "source": [
    "#Titles of officers\n",
    "titles = column.apply(lambda x: str(x[:3]))\n",
    "smt = 0; shr = 0; mr = 0; mrs = 0; none = 0\n",
    "for title in titles:\n",
    "    if (title == 'Smt'):\n",
    "        smt += 1\n",
    "    elif (title == 'Shr'):\n",
    "        shr += 1\n",
    "    elif (title == 'Mrs'):\n",
    "        mrs += 1\n",
    "    elif (title == 'Mr.'):\n",
    "        mr += 1\n",
    "    else:\n",
    "        none += 1\n",
    "titles_df = pd.DataFrame(data = {'Titles' : ['Smt.', 'Shri.', 'Mr.', 'Mrs.', 'None'], \n",
    "                                 'Counts' : [smt, shr, mr, mrs, none]})\n",
    "titles_df"
   ]
  },
  {
   "cell_type": "code",
   "execution_count": 43,
   "id": "infectious-treaty",
   "metadata": {},
   "outputs": [
    {
     "data": {
      "image/png": "[encoded data removed]",
      "text/plain": [
       "<Figure size 720x504 with 1 Axes>"
      ]
     },
     "metadata": {
      "needs_background": "light"
     },
     "output_type": "display_data"
    }
   ],
   "source": [
    "# Plot number of titles'\n",
    "plt.figure(figsize = (10, 7))\n",
    "plt.bar(titles_df[\"Titles\"], titles_df[\"Counts\"])\n",
    "plt.title(\"Count of Titles\")\n",
    "plt.xlabel(\"Title\")\n",
    "plt.ylabel('Count')\n",
    "plt.show()"
   ]
  },
  {
   "cell_type": "markdown",
   "id": "strong-anger",
   "metadata": {},
   "source": [
    "### Address with Pin Code\n",
    "<a class=\"anchor\" id=\"5.1.5\"></a>\n",
    "The address and pin code of the Sarpanch."
   ]
  },
  {
   "cell_type": "code",
   "execution_count": 44,
   "id": "prospective-toilet",
   "metadata": {},
   "outputs": [
    {
     "data": {
      "text/plain": [
       "0                Mahakhajan, Dhargal, Pernem -Goa 403512\n",
       "1      H. No. 302/1, Khalchawada, Arambol, Pernem – G...\n",
       "2                    H.No.75, Naibag, Pernem, Goa 403512\n",
       "3                      Chonsai, Parcem Pernem-Goa 403512\n",
       "4                 H.No. 89, Ibrampur-Pernem – Goa 403512\n",
       "                             ...                        \n",
       "182                                                  ---\n",
       "183                                                  ---\n",
       "184                                                  ---\n",
       "185                                                  ---\n",
       "186                                                  ---\n",
       "Name: Address with Pin Code, Length: 187, dtype: object"
      ]
     },
     "execution_count": 44,
     "metadata": {},
     "output_type": "execute_result"
    }
   ],
   "source": [
    "column = goa_proforma_A[\"Address with Pin Code\"]\n",
    "column"
   ]
  },
  {
   "cell_type": "code",
   "execution_count": 45,
   "id": "juvenile-currency",
   "metadata": {},
   "outputs": [
    {
     "name": "stdout",
     "output_type": "stream",
     "text": [
      "No. of unique values: 150\n",
      "Duplicates: {nan: 19, ' ---': 20}\n",
      "No. of duplicates: 2\n",
      "No. of null values: 19\n"
     ]
    }
   ],
   "source": [
    "print(\"No. of unique values:\", len(column.unique()))\n",
    "counter = dict(Counter(column))\n",
    "duplicates = {key:value for key, value in counter.items() if value > 1}\n",
    "print(\"Duplicates:\", duplicates)\n",
    "if len(duplicates) > 0:\n",
    "    print(\"No. of duplicates:\", len(duplicates))\n",
    "\n",
    "print(\"No. of null values:\", sum(column.isnull()))"
   ]
  },
  {
   "cell_type": "markdown",
   "id": "processed-baseline",
   "metadata": {},
   "source": [
    "### Mobile No./Email Address\n",
    "<a class=\"anchor\" id=\"5.1.6\"></a>\n",
    "The mobile phone number or email address of the Sarpanch."
   ]
  },
  {
   "cell_type": "code",
   "execution_count": 46,
   "id": "curious-sleeping",
   "metadata": {},
   "outputs": [
    {
     "data": {
      "text/plain": [
       "0      9823717910\n",
       "1      8007881645\n",
       "2      8390895492\n",
       "3      9823321192\n",
       "4      9421240482\n",
       "          ...    \n",
       "182    9922929636\n",
       "183    9049843109\n",
       "184    9545485086\n",
       "185    9657896983\n",
       "186    9860187445\n",
       "Name: Mobile No./Email Address, Length: 187, dtype: object"
      ]
     },
     "execution_count": 46,
     "metadata": {},
     "output_type": "execute_result"
    }
   ],
   "source": [
    "column = goa_proforma_A[\"Mobile No./Email Address\"]\n",
    "column"
   ]
  },
  {
   "cell_type": "code",
   "execution_count": 47,
   "id": "attractive-banner",
   "metadata": {},
   "outputs": [
    {
     "name": "stdout",
     "output_type": "stream",
     "text": [
      "No. of unique values: 187\n",
      "Duplicates: {}\n",
      "No. of null values: 1\n"
     ]
    }
   ],
   "source": [
    "print(\"No. of unique values:\", len(column.unique()))\n",
    "counter = dict(Counter(column))\n",
    "duplicates = {key:value for key, value in counter.items() if value > 1}\n",
    "print(\"Duplicates:\", duplicates)\n",
    "if len(duplicates) > 0:\n",
    "    print(\"No. of duplicates:\", len(duplicates))\n",
    "\n",
    "print(\"No. of null values:\", sum(column.isnull()))"
   ]
  },
  {
   "cell_type": "markdown",
   "id": "foreign-hypothetical",
   "metadata": {},
   "source": [
    "### Sheet B\n",
    "<a class=\"anchor\" id=\"5.2\"></a>\n",
    "Sheet B contains information about Gram Panchayats in Goa."
   ]
  },
  {
   "cell_type": "markdown",
   "id": "subtle-grenada",
   "metadata": {},
   "source": [
    "### Sr.No.\n",
    "<a class=\"anchor\" id=\"5.2.1\"></a>\n",
    "Counts the number of Gram Panchayats."
   ]
  },
  {
   "cell_type": "code",
   "execution_count": 48,
   "id": "rolled-jacksonville",
   "metadata": {},
   "outputs": [
    {
     "data": {
      "text/plain": [
       "0        1\n",
       "1        2\n",
       "2        3\n",
       "3        4\n",
       "4        5\n",
       "      ... \n",
       "182    183\n",
       "183    184\n",
       "184    185\n",
       "185    186\n",
       "186    187\n",
       "Name: Sr.No, Length: 187, dtype: object"
      ]
     },
     "execution_count": 48,
     "metadata": {},
     "output_type": "execute_result"
    }
   ],
   "source": [
    "column = goa_proforma_B[\"Sr.No\"]\n",
    "column"
   ]
  },
  {
   "cell_type": "code",
   "execution_count": 49,
   "id": "canadian-camcorder",
   "metadata": {},
   "outputs": [
    {
     "name": "stdout",
     "output_type": "stream",
     "text": [
      "No. of unique values: 187\n",
      "Duplicates: {}\n",
      "No. of null values: 0\n"
     ]
    }
   ],
   "source": [
    "print(\"No. of unique values:\", len(column.unique()))\n",
    "counter = dict(Counter(column))\n",
    "duplicates = {key:value for key, value in counter.items() if value > 1}\n",
    "print(\"Duplicates:\", duplicates)\n",
    "if len(duplicates) > 0:\n",
    "    print(\"No. of duplicates:\", len(duplicates))\n",
    "\n",
    "print(\"No. of null values:\", sum(column.isnull()))"
   ]
  },
  {
   "cell_type": "markdown",
   "id": "greater-decision",
   "metadata": {},
   "source": [
    "### Name of the District along with State\n",
    "<a class=\"anchor\" id=\"5.2.2\"></a>\n",
    "Name of district in Goa."
   ]
  },
  {
   "cell_type": "code",
   "execution_count": 50,
   "id": "integrated-arena",
   "metadata": {},
   "outputs": [
    {
     "data": {
      "text/plain": [
       "0      North Goa, Goa\n",
       "1      North Goa, Goa\n",
       "2      North Goa, Goa\n",
       "3      North Goa, Goa\n",
       "4      North Goa, Goa\n",
       "            ...      \n",
       "182    South Goa, Goa\n",
       "183    South Goa, Goa\n",
       "184    South Goa, Goa\n",
       "185    South Goa, Goa\n",
       "186    South Goa, Goa\n",
       "Name: Name of the District along with State, Length: 187, dtype: object"
      ]
     },
     "execution_count": 50,
     "metadata": {},
     "output_type": "execute_result"
    }
   ],
   "source": [
    "column = goa_proforma_B[\"Name of the District along with State\"]\n",
    "column"
   ]
  },
  {
   "cell_type": "code",
   "execution_count": 51,
   "id": "affecting-campaign",
   "metadata": {},
   "outputs": [
    {
     "name": "stdout",
     "output_type": "stream",
     "text": [
      "No. of unique values: 2\n",
      "Duplicates: {'North Goa, Goa': 102, 'South Goa, Goa': 85}\n",
      "No. of duplicates: 2\n",
      "No. of null values: 0\n"
     ]
    }
   ],
   "source": [
    "print(\"No. of unique values:\", len(column.unique()))\n",
    "counter = dict(Counter(column))\n",
    "duplicates = {key:value for key, value in counter.items() if value > 1}\n",
    "print(\"Duplicates:\", duplicates)\n",
    "if len(duplicates) > 0:\n",
    "    print(\"No. of duplicates:\", len(duplicates))\n",
    "\n",
    "print(\"No. of null values:\", sum(column.isnull()))"
   ]
  },
  {
   "cell_type": "code",
   "execution_count": 52,
   "id": "freelance-iceland",
   "metadata": {},
   "outputs": [
    {
     "name": "stdout",
     "output_type": "stream",
     "text": [
      "Unique values: ['North Goa' 'South Goa']\n",
      "No. of unique values: 2\n"
     ]
    },
    {
     "data": {
      "text/html": [
       "<div>\n",
       "<style scoped>\n",
       "    .dataframe tbody tr th:only-of-type {\n",
       "        vertical-align: middle;\n",
       "    }\n",
       "\n",
       "    .dataframe tbody tr th {\n",
       "        vertical-align: top;\n",
       "    }\n",
       "\n",
       "    .dataframe thead th {\n",
       "        text-align: right;\n",
       "    }\n",
       "</style>\n",
       "<table border=\"1\" class=\"dataframe\">\n",
       "  <thead>\n",
       "    <tr style=\"text-align: right;\">\n",
       "      <th></th>\n",
       "      <th>District</th>\n",
       "      <th>Count</th>\n",
       "    </tr>\n",
       "  </thead>\n",
       "  <tbody>\n",
       "    <tr>\n",
       "      <th>0</th>\n",
       "      <td>North Goa</td>\n",
       "      <td>102</td>\n",
       "    </tr>\n",
       "    <tr>\n",
       "      <th>1</th>\n",
       "      <td>South Goa</td>\n",
       "      <td>85</td>\n",
       "    </tr>\n",
       "  </tbody>\n",
       "</table>\n",
       "</div>"
      ],
      "text/plain": [
       "    District  Count\n",
       "0  North Goa    102\n",
       "1  South Goa     85"
      ]
     },
     "execution_count": 52,
     "metadata": {},
     "output_type": "execute_result"
    }
   ],
   "source": [
    "districts = column.apply(lambda x: str(x[:9]))\n",
    "\n",
    "print(\"Unique values:\", districts.unique())\n",
    "print(\"No. of unique values:\", len(districts.unique()))\n",
    "\n",
    "# Table of number of Sarpanchs in each district\n",
    "table = districts.value_counts().rename_axis('District').reset_index(name='Count')\n",
    "table"
   ]
  },
  {
   "cell_type": "code",
   "execution_count": 53,
   "id": "angry-gauge",
   "metadata": {},
   "outputs": [
    {
     "data": {
      "image/png": "[encoded data removed]",
      "text/plain": [
       "<Figure size 576x360 with 1 Axes>"
      ]
     },
     "metadata": {
      "needs_background": "light"
     },
     "output_type": "display_data"
    }
   ],
   "source": [
    "plt.figure(figsize = (8, 5))\n",
    "plt.bar(table[\"District\"], table[\"Count\"])\n",
    "plt.title(\"Number of Gram Panchayats in each District\")\n",
    "plt.xlabel(\"District\")\n",
    "plt.ylabel(\"Count\")\n",
    "plt.show()"
   ]
  },
  {
   "cell_type": "markdown",
   "id": "military-pulse",
   "metadata": {},
   "source": [
    "### Name of Gram Panchayat\n",
    "<a class=\"anchor\" id=\"5.2.3\"></a>\n",
    "Name of the Gram Panchayat (elected offical)."
   ]
  },
  {
   "cell_type": "code",
   "execution_count": 54,
   "id": "located-blocking",
   "metadata": {},
   "outputs": [
    {
     "data": {
      "text/plain": [
       "0                     Dhargalim\n",
       "1                       Arambol\n",
       "2       Khajne-Amere-Porascadem\n",
       "3                        Parcem\n",
       "4             Ibrampur-Hankahne\n",
       "                 ...           \n",
       "182       Majorda Utorda Calata\n",
       "183                    Chicalim\n",
       "184    Cansaulim-Arossim-Cuelim\n",
       "185        Velsao-Pale-Issorcim\n",
       "186                    Sancoale\n",
       "Name: Name of Gram Panchayat, Length: 187, dtype: object"
      ]
     },
     "execution_count": 54,
     "metadata": {},
     "output_type": "execute_result"
    }
   ],
   "source": [
    "column = goa_proforma_B[\"Name of Gram Panchayat\"]\n",
    "column"
   ]
  },
  {
   "cell_type": "code",
   "execution_count": 55,
   "id": "bulgarian-floating",
   "metadata": {},
   "outputs": [
    {
     "name": "stdout",
     "output_type": "stream",
     "text": [
      "No. of unique values: 185\n",
      "Duplicates: {'Querim': 2, 'Navelim': 2}\n",
      "No. of duplicates: 2\n",
      "No. of null values: 0\n"
     ]
    }
   ],
   "source": [
    "print(\"No. of unique values:\", len(column.unique()))\n",
    "counter = dict(Counter(column))\n",
    "duplicates = {key:value for key, value in counter.items() if value > 1}\n",
    "print(\"Duplicates:\", duplicates)\n",
    "if len(duplicates) > 0:\n",
    "    print(\"No. of duplicates:\", len(duplicates))\n",
    "\n",
    "print(\"No. of null values:\", sum(column.isnull()))"
   ]
  },
  {
   "cell_type": "code",
   "execution_count": 56,
   "id": "elegant-synthetic",
   "metadata": {},
   "outputs": [
    {
     "data": {
      "text/html": [
       "<div>\n",
       "<style scoped>\n",
       "    .dataframe tbody tr th:only-of-type {\n",
       "        vertical-align: middle;\n",
       "    }\n",
       "\n",
       "    .dataframe tbody tr th {\n",
       "        vertical-align: top;\n",
       "    }\n",
       "\n",
       "    .dataframe thead th {\n",
       "        text-align: right;\n",
       "    }\n",
       "</style>\n",
       "<table border=\"1\" class=\"dataframe\">\n",
       "  <thead>\n",
       "    <tr style=\"text-align: right;\">\n",
       "      <th></th>\n",
       "      <th>Sr.No</th>\n",
       "      <th>Name of the District along with State</th>\n",
       "      <th>Name of Gram Panchayat</th>\n",
       "      <th>Gram Panchayat Bhawan Adress with Pin Code</th>\n",
       "    </tr>\n",
       "  </thead>\n",
       "  <tbody>\n",
       "    <tr>\n",
       "      <th>93</th>\n",
       "      <td>94</td>\n",
       "      <td>North Goa, Goa</td>\n",
       "      <td>Navelim</td>\n",
       "      <td>Navelim, Bicholim - Goa</td>\n",
       "    </tr>\n",
       "    <tr>\n",
       "      <th>129</th>\n",
       "      <td>130</td>\n",
       "      <td>South Goa, Goa</td>\n",
       "      <td>Navelim</td>\n",
       "      <td>Navelim, Salcete - Goa</td>\n",
       "    </tr>\n",
       "    <tr>\n",
       "      <th>81</th>\n",
       "      <td>82</td>\n",
       "      <td>North Goa, Goa</td>\n",
       "      <td>Querim</td>\n",
       "      <td>Querim,Sattari - Goa</td>\n",
       "    </tr>\n",
       "    <tr>\n",
       "      <th>113</th>\n",
       "      <td>114</td>\n",
       "      <td>South Goa, Goa</td>\n",
       "      <td>Querim</td>\n",
       "      <td>Querim, Ponda - Goa</td>\n",
       "    </tr>\n",
       "  </tbody>\n",
       "</table>\n",
       "</div>"
      ],
      "text/plain": [
       "    Sr.No Name of the District along with State Name of Gram Panchayat  \\\n",
       "93     94                        North Goa, Goa                Navelim   \n",
       "129   130                        South Goa, Goa                Navelim   \n",
       "81     82                        North Goa, Goa                 Querim   \n",
       "113   114                        South Goa, Goa                 Querim   \n",
       "\n",
       "    Gram Panchayat Bhawan Adress with Pin Code  \n",
       "93                     Navelim, Bicholim - Goa  \n",
       "129                     Navelim, Salcete - Goa  \n",
       "81                        Querim,Sattari - Goa  \n",
       "113                        Querim, Ponda - Goa  "
      ]
     },
     "execution_count": 56,
     "metadata": {},
     "output_type": "execute_result"
    }
   ],
   "source": [
    "goa_proforma_B[goa_proforma_B[\"Name of Gram Panchayat\"].isin(duplicates)].sort_values('Name of Gram Panchayat')"
   ]
  },
  {
   "cell_type": "markdown",
   "id": "raising-rebel",
   "metadata": {},
   "source": [
    "Duplicates in ```Name of Gram Panchayat``` are duplicates in rows."
   ]
  },
  {
   "cell_type": "markdown",
   "id": "intense-credit",
   "metadata": {},
   "source": [
    "### Gram Panchayat Bhawan Adress with Pin Code\n",
    "<a class=\"anchor\" id=\"5.2.4\"></a>\n",
    "The address and pin code of the Gram Panchayat."
   ]
  },
  {
   "cell_type": "code",
   "execution_count": 57,
   "id": "legislative-batch",
   "metadata": {},
   "outputs": [
    {
     "data": {
      "text/plain": [
       "0                    Dhargalim, Pernem - Goa 403513\n",
       "1                      Arambol, Pernem - Goa 403524\n",
       "2      Khajne-Amere-Porascadem, Pernem - Goa 403512\n",
       "3                       Parcem, Pernem - Goa 403512\n",
       "4            Ibrampur-Hankahne, Pernem - Goa 403503\n",
       "                           ...                     \n",
       "182           Majorda Utorda Calata, Mormugoa - Goa\n",
       "183                        Chicalim, Mormugoa - Goa\n",
       "184        Cansaulim-Arossim-Cuelim, Mormugoa - Goa\n",
       "185            Velsao-Pale-Issorcim, Mormugoa - Goa\n",
       "186                         Sancoale,Mormugoa - Goa\n",
       "Name: Gram Panchayat Bhawan Adress with Pin Code, Length: 187, dtype: object"
      ]
     },
     "execution_count": 57,
     "metadata": {},
     "output_type": "execute_result"
    }
   ],
   "source": [
    "column = goa_proforma_B[\"Gram Panchayat Bhawan Adress with Pin Code\"]\n",
    "column"
   ]
  },
  {
   "cell_type": "code",
   "execution_count": 58,
   "id": "premier-printing",
   "metadata": {},
   "outputs": [
    {
     "name": "stdout",
     "output_type": "stream",
     "text": [
      "No. of unique values: 187\n",
      "Duplicates: {}\n",
      "No. of null values: 0\n"
     ]
    }
   ],
   "source": [
    "print(\"No. of unique values:\", len(column.unique()))\n",
    "counter = dict(Counter(column))\n",
    "duplicates = {key:value for key, value in counter.items() if value > 1}\n",
    "print(\"Duplicates:\", duplicates)\n",
    "if len(duplicates) > 0:\n",
    "    print(\"No. of duplicates:\", len(duplicates))\n",
    "\n",
    "print(\"No. of null values:\", sum(column.isnull()))"
   ]
  },
  {
   "cell_type": "markdown",
   "id": "fifth-outside",
   "metadata": {},
   "source": [
    "### Sheet C\n",
    "<a class=\"anchor\" id=\"5.3\"></a>\n",
    "Sheet C contains information about Panchayat Officers in Goa."
   ]
  },
  {
   "cell_type": "markdown",
   "id": "brief-scene",
   "metadata": {},
   "source": [
    "### Sr.No.\n",
    "<a class=\"anchor\" id=\"5.3.1\"></a>\n",
    "Counts the number of Panchayat Officers."
   ]
  },
  {
   "cell_type": "code",
   "execution_count": 59,
   "id": "intensive-strike",
   "metadata": {},
   "outputs": [
    {
     "data": {
      "text/plain": [
       "0        1\n",
       "1        2\n",
       "2        3\n",
       "3        4\n",
       "4        5\n",
       "      ... \n",
       "180    181\n",
       "181    182\n",
       "182    183\n",
       "183    184\n",
       "184    185\n",
       "Name: Sr.No, Length: 185, dtype: object"
      ]
     },
     "execution_count": 59,
     "metadata": {},
     "output_type": "execute_result"
    }
   ],
   "source": [
    "column = goa_proforma_C[\"Sr.No\"]\n",
    "column"
   ]
  },
  {
   "cell_type": "code",
   "execution_count": 60,
   "id": "liberal-touch",
   "metadata": {},
   "outputs": [
    {
     "name": "stdout",
     "output_type": "stream",
     "text": [
      "No. of unique values: 185\n",
      "Duplicates: {}\n",
      "No. of null values: 0\n"
     ]
    }
   ],
   "source": [
    "print(\"No. of unique values:\", len(column.unique()))\n",
    "counter = dict(Counter(column))\n",
    "duplicates = {key:value for key, value in counter.items() if value > 1}\n",
    "print(\"Duplicates:\", duplicates)\n",
    "if len(duplicates) > 0:\n",
    "    print(\"No. of duplicates:\", len(duplicates))\n",
    "\n",
    "print(\"No. of null values:\", sum(column.isnull()))"
   ]
  },
  {
   "cell_type": "markdown",
   "id": "incoming-integrity",
   "metadata": {},
   "source": [
    "### Name of the District along with State\n",
    "<a class=\"anchor\" id=\"5.3.2\"></a>\n",
    "Name of district in Goa."
   ]
  },
  {
   "cell_type": "code",
   "execution_count": 61,
   "id": "organized-bermuda",
   "metadata": {},
   "outputs": [
    {
     "data": {
      "text/plain": [
       "0      North Goa, Goa\n",
       "1      North Goa, Goa\n",
       "2      North Goa, Goa\n",
       "3      North Goa, Goa\n",
       "4      North Goa, Goa\n",
       "            ...      \n",
       "180    South Goa, Goa\n",
       "181    South Goa, Goa\n",
       "182    South Goa, Goa\n",
       "183    South Goa, Goa\n",
       "184    South Goa, Goa\n",
       "Name: Name of the District along with State, Length: 185, dtype: object"
      ]
     },
     "execution_count": 61,
     "metadata": {},
     "output_type": "execute_result"
    }
   ],
   "source": [
    "column = goa_proforma_C[\"Name of the District along with State\"]\n",
    "column"
   ]
  },
  {
   "cell_type": "code",
   "execution_count": 62,
   "id": "indonesian-friend",
   "metadata": {},
   "outputs": [
    {
     "name": "stdout",
     "output_type": "stream",
     "text": [
      "No. of unique values: 2\n",
      "Duplicates: {'North Goa, Goa': 103, 'South Goa, Goa': 82}\n",
      "No. of duplicates: 2\n",
      "No. of null values: 0\n"
     ]
    }
   ],
   "source": [
    "print(\"No. of unique values:\", len(column.unique()))\n",
    "counter = dict(Counter(column))\n",
    "duplicates = {key:value for key, value in counter.items() if value > 1}\n",
    "print(\"Duplicates:\", duplicates)\n",
    "if len(duplicates) > 0:\n",
    "    print(\"No. of duplicates:\", len(duplicates))\n",
    "\n",
    "print(\"No. of null values:\", sum(column.isnull()))"
   ]
  },
  {
   "cell_type": "code",
   "execution_count": 63,
   "id": "behavioral-savage",
   "metadata": {},
   "outputs": [
    {
     "name": "stdout",
     "output_type": "stream",
     "text": [
      "Unique values: ['North Goa' 'South Goa']\n",
      "No. of unique values: 2\n"
     ]
    },
    {
     "data": {
      "text/html": [
       "<div>\n",
       "<style scoped>\n",
       "    .dataframe tbody tr th:only-of-type {\n",
       "        vertical-align: middle;\n",
       "    }\n",
       "\n",
       "    .dataframe tbody tr th {\n",
       "        vertical-align: top;\n",
       "    }\n",
       "\n",
       "    .dataframe thead th {\n",
       "        text-align: right;\n",
       "    }\n",
       "</style>\n",
       "<table border=\"1\" class=\"dataframe\">\n",
       "  <thead>\n",
       "    <tr style=\"text-align: right;\">\n",
       "      <th></th>\n",
       "      <th>District</th>\n",
       "      <th>Count</th>\n",
       "    </tr>\n",
       "  </thead>\n",
       "  <tbody>\n",
       "    <tr>\n",
       "      <th>0</th>\n",
       "      <td>North Goa</td>\n",
       "      <td>103</td>\n",
       "    </tr>\n",
       "    <tr>\n",
       "      <th>1</th>\n",
       "      <td>South Goa</td>\n",
       "      <td>82</td>\n",
       "    </tr>\n",
       "  </tbody>\n",
       "</table>\n",
       "</div>"
      ],
      "text/plain": [
       "    District  Count\n",
       "0  North Goa    103\n",
       "1  South Goa     82"
      ]
     },
     "execution_count": 63,
     "metadata": {},
     "output_type": "execute_result"
    }
   ],
   "source": [
    "districts = column.apply(lambda x: str(x[:9]))\n",
    "\n",
    "print(\"Unique values:\", districts.unique())\n",
    "print(\"No. of unique values:\", len(districts.unique()))\n",
    "\n",
    "# Table of number of Sarpanchs in each district\n",
    "table = districts.value_counts().rename_axis('District').reset_index(name='Count')\n",
    "table"
   ]
  },
  {
   "cell_type": "code",
   "execution_count": 64,
   "id": "wooden-aspect",
   "metadata": {},
   "outputs": [
    {
     "data": {
      "image/png": "[encoded data removed]",
      "text/plain": [
       "<Figure size 576x360 with 1 Axes>"
      ]
     },
     "metadata": {
      "needs_background": "light"
     },
     "output_type": "display_data"
    }
   ],
   "source": [
    "plt.figure(figsize = (8, 5))\n",
    "plt.bar(table[\"District\"], table[\"Count\"])\n",
    "plt.title(\"Number of Panchayat Officers in each District\")\n",
    "plt.xlabel(\"District\")\n",
    "plt.ylabel(\"Count\")\n",
    "plt.show()"
   ]
  },
  {
   "cell_type": "markdown",
   "id": "indoor-macintosh",
   "metadata": {},
   "source": [
    "### Name of Panchayat Officer (V.P. Secretary)\n",
    "<a class=\"anchor\" id=\"5.3.3\"></a>\n",
    "Name of the Panchayat Officer (V.P. Secretary)."
   ]
  },
  {
   "cell_type": "code",
   "execution_count": 65,
   "id": "piano-broadcast",
   "metadata": {},
   "outputs": [
    {
     "data": {
      "text/plain": [
       "0            Shri. Subodh Prabhu\n",
       "1      Shri.  Dharmendra Govekar\n",
       "2              Shri. Rui Cardozo\n",
       "3          Shri. Rajesh Assolkar\n",
       "4              Shri. Amit Prabhu\n",
       "                 ...            \n",
       "180          Shri Babuso M Tilve\n",
       "181          Smt. Gauri M. Velip\n",
       "182     Shri. Dinkar V. Kossambe\n",
       "183         Shri Gurudas Gaonkar\n",
       "184            Shri. John Colaco\n",
       "Name: Name of Panchayat Officer (V.P. Secretary), Length: 185, dtype: object"
      ]
     },
     "execution_count": 65,
     "metadata": {},
     "output_type": "execute_result"
    }
   ],
   "source": [
    "column = goa_proforma_C[\"Name of Panchayat Officer (V.P. Secretary)\"]\n",
    "column"
   ]
  },
  {
   "cell_type": "code",
   "execution_count": 66,
   "id": "organizational-holiday",
   "metadata": {},
   "outputs": [
    {
     "name": "stdout",
     "output_type": "stream",
     "text": [
      "No. of unique values: 175\n",
      "Duplicates: {'Shri. Francis Fernandes': 2, 'Shri. Clifton Azavedo': 2, 'Shri. Vipin Korgaonkar': 2, 'Shri. Subhash Kambli': 2, 'Monali Betkikar': 2, 'Sameer Parab': 2, 'Shri. Amol Tendulkar': 2, 'Shri. Nilesh Shirodkar': 2, 'Shri. Dinesh Gaonkar': 2, 'Shri. Advin Carvalho': 2}\n",
      "No. of duplicates: 10\n",
      "No. of null values: 0\n"
     ]
    }
   ],
   "source": [
    "print(\"No. of unique values:\", len(column.unique()))\n",
    "counter = dict(Counter(column))\n",
    "duplicates = {key:value for key, value in counter.items() if value > 1}\n",
    "print(\"Duplicates:\", duplicates)\n",
    "if len(duplicates) > 0:\n",
    "    print(\"No. of duplicates:\", len(duplicates))\n",
    "\n",
    "print(\"No. of null values:\", sum(column.isnull()))"
   ]
  },
  {
   "cell_type": "code",
   "execution_count": 67,
   "id": "north-cholesterol",
   "metadata": {},
   "outputs": [
    {
     "data": {
      "text/html": [
       "<div>\n",
       "<style scoped>\n",
       "    .dataframe tbody tr th:only-of-type {\n",
       "        vertical-align: middle;\n",
       "    }\n",
       "\n",
       "    .dataframe tbody tr th {\n",
       "        vertical-align: top;\n",
       "    }\n",
       "\n",
       "    .dataframe thead th {\n",
       "        text-align: right;\n",
       "    }\n",
       "</style>\n",
       "<table border=\"1\" class=\"dataframe\">\n",
       "  <thead>\n",
       "    <tr style=\"text-align: right;\">\n",
       "      <th></th>\n",
       "      <th>Sr.No</th>\n",
       "      <th>Name of the District along with State</th>\n",
       "      <th>Name of Panchayat Officer (V.P. Secretary)</th>\n",
       "      <th>Mobile No.</th>\n",
       "      <th>Email Address</th>\n",
       "    </tr>\n",
       "  </thead>\n",
       "  <tbody>\n",
       "    <tr>\n",
       "      <th>47</th>\n",
       "      <td>48</td>\n",
       "      <td>North Goa, Goa</td>\n",
       "      <td>Monali Betkikar</td>\n",
       "      <td>7066672547</td>\n",
       "      <td>NaN</td>\n",
       "    </tr>\n",
       "    <tr>\n",
       "      <th>40</th>\n",
       "      <td>41</td>\n",
       "      <td>North Goa, Goa</td>\n",
       "      <td>Monali Betkikar</td>\n",
       "      <td>7066672547</td>\n",
       "      <td>NaN</td>\n",
       "    </tr>\n",
       "    <tr>\n",
       "      <th>41</th>\n",
       "      <td>42</td>\n",
       "      <td>North Goa, Goa</td>\n",
       "      <td>Sameer Parab</td>\n",
       "      <td>9823259969</td>\n",
       "      <td>NaN</td>\n",
       "    </tr>\n",
       "    <tr>\n",
       "      <th>45</th>\n",
       "      <td>46</td>\n",
       "      <td>North Goa, Goa</td>\n",
       "      <td>Sameer Parab</td>\n",
       "      <td>9823259969</td>\n",
       "      <td>NaN</td>\n",
       "    </tr>\n",
       "    <tr>\n",
       "      <th>162</th>\n",
       "      <td>163</td>\n",
       "      <td>South Goa, Goa</td>\n",
       "      <td>Shri. Advin Carvalho</td>\n",
       "      <td>9764683821</td>\n",
       "      <td>NaN</td>\n",
       "    </tr>\n",
       "  </tbody>\n",
       "</table>\n",
       "</div>"
      ],
      "text/plain": [
       "    Sr.No Name of the District along with State  \\\n",
       "47     48                        North Goa, Goa   \n",
       "40     41                        North Goa, Goa   \n",
       "41     42                        North Goa, Goa   \n",
       "45     46                        North Goa, Goa   \n",
       "162   163                        South Goa, Goa   \n",
       "\n",
       "    Name of Panchayat Officer (V.P. Secretary)  Mobile No. Email Address  \n",
       "47                             Monali Betkikar  7066672547           NaN  \n",
       "40                             Monali Betkikar  7066672547           NaN  \n",
       "41                                Sameer Parab  9823259969           NaN  \n",
       "45                                Sameer Parab  9823259969           NaN  \n",
       "162                       Shri. Advin Carvalho  9764683821           NaN  "
      ]
     },
     "execution_count": 67,
     "metadata": {},
     "output_type": "execute_result"
    }
   ],
   "source": [
    "goa_proforma_C[goa_proforma_C[\"Name of Panchayat Officer (V.P. Secretary)\"].isin(duplicates)].sort_values(\"Name of Panchayat Officer (V.P. Secretary)\").head()"
   ]
  },
  {
   "cell_type": "markdown",
   "id": "parliamentary-eagle",
   "metadata": {},
   "source": [
    "Duplicates in ```Name of Panchayat Officer (V.P. Secretary)``` are duplicates in rows."
   ]
  },
  {
   "cell_type": "code",
   "execution_count": 68,
   "id": "thrown-cosmetic",
   "metadata": {},
   "outputs": [
    {
     "data": {
      "text/html": [
       "<div>\n",
       "<style scoped>\n",
       "    .dataframe tbody tr th:only-of-type {\n",
       "        vertical-align: middle;\n",
       "    }\n",
       "\n",
       "    .dataframe tbody tr th {\n",
       "        vertical-align: top;\n",
       "    }\n",
       "\n",
       "    .dataframe thead th {\n",
       "        text-align: right;\n",
       "    }\n",
       "</style>\n",
       "<table border=\"1\" class=\"dataframe\">\n",
       "  <thead>\n",
       "    <tr style=\"text-align: right;\">\n",
       "      <th></th>\n",
       "      <th>Titles</th>\n",
       "      <th>Counts</th>\n",
       "    </tr>\n",
       "  </thead>\n",
       "  <tbody>\n",
       "    <tr>\n",
       "      <th>0</th>\n",
       "      <td>Smt.</td>\n",
       "      <td>12</td>\n",
       "    </tr>\n",
       "    <tr>\n",
       "      <th>1</th>\n",
       "      <td>Shri.</td>\n",
       "      <td>130</td>\n",
       "    </tr>\n",
       "    <tr>\n",
       "      <th>2</th>\n",
       "      <td>Mr.</td>\n",
       "      <td>0</td>\n",
       "    </tr>\n",
       "    <tr>\n",
       "      <th>3</th>\n",
       "      <td>Mrs.</td>\n",
       "      <td>2</td>\n",
       "    </tr>\n",
       "    <tr>\n",
       "      <th>4</th>\n",
       "      <td>None</td>\n",
       "      <td>41</td>\n",
       "    </tr>\n",
       "  </tbody>\n",
       "</table>\n",
       "</div>"
      ],
      "text/plain": [
       "  Titles  Counts\n",
       "0   Smt.      12\n",
       "1  Shri.     130\n",
       "2    Mr.       0\n",
       "3   Mrs.       2\n",
       "4   None      41"
      ]
     },
     "execution_count": 68,
     "metadata": {},
     "output_type": "execute_result"
    }
   ],
   "source": [
    "#Titles of officers\n",
    "titles = column.apply(lambda x: str(x[:3]))\n",
    "smt = 0; shr = 0; mr = 0; mrs = 0; none = 0\n",
    "for title in titles:\n",
    "    if (title == 'Smt'):\n",
    "        smt += 1\n",
    "    elif (title == 'Shr'):\n",
    "        shr += 1\n",
    "    elif (title == 'Mrs'):\n",
    "        mrs += 1\n",
    "    elif (title == 'Mr.'):\n",
    "        mr += 1\n",
    "    else:\n",
    "        none += 1\n",
    "titles_df = pd.DataFrame(data = {'Titles' : ['Smt.', 'Shri.', 'Mr.', 'Mrs.', 'None'], \n",
    "                                 'Counts' : [smt, shr, mr, mrs, none]})\n",
    "titles_df"
   ]
  },
  {
   "cell_type": "code",
   "execution_count": 69,
   "id": "dental-notebook",
   "metadata": {},
   "outputs": [
    {
     "data": {
      "image/png": "[encoded data removed]",
      "text/plain": [
       "<Figure size 720x504 with 1 Axes>"
      ]
     },
     "metadata": {
      "needs_background": "light"
     },
     "output_type": "display_data"
    }
   ],
   "source": [
    "# Plot number of titles'\n",
    "plt.figure(figsize = (10, 7))\n",
    "plt.bar(titles_df[\"Titles\"], titles_df[\"Counts\"])\n",
    "plt.title(\"Count of Titles\")\n",
    "plt.xlabel(\"Title\")\n",
    "plt.ylabel('Count')\n",
    "plt.show()"
   ]
  },
  {
   "cell_type": "markdown",
   "id": "possible-plastic",
   "metadata": {},
   "source": [
    "### Mobile No.\n",
    "<a class=\"anchor\" id=\"5.3.4\"></a>\n",
    "The mobile phone number of the Panchayat Officer."
   ]
  },
  {
   "cell_type": "code",
   "execution_count": 70,
   "id": "offensive-language",
   "metadata": {},
   "outputs": [
    {
     "data": {
      "text/plain": [
       "0      9970451419\n",
       "1      9764364603\n",
       "2      9822282013\n",
       "3      9764007587\n",
       "4      9764512999\n",
       "          ...    \n",
       "180    9420107912\n",
       "181    9421255686\n",
       "182    9423503452\n",
       "183    8554904684\n",
       "184    9921170574\n",
       "Name: Mobile No., Length: 185, dtype: object"
      ]
     },
     "execution_count": 70,
     "metadata": {},
     "output_type": "execute_result"
    }
   ],
   "source": [
    "column = goa_proforma_C[\"Mobile No.\"]\n",
    "column"
   ]
  },
  {
   "cell_type": "code",
   "execution_count": 71,
   "id": "blind-membrane",
   "metadata": {},
   "outputs": [
    {
     "name": "stdout",
     "output_type": "stream",
     "text": [
      "No. of unique values: 171\n",
      "Duplicates: {9421194391: 2, 9890419521: 2, 9422063482: 2, 9049594355: 2, 9822154237: 2, 7066672547: 2, 9823259969: 2, '---': 3, 9422579459: 2, 9423503452: 2, 9673745449: 2, 9822232014: 2, 9764683821: 2}\n",
      "No. of duplicates: 13\n",
      "No. of null values: 0\n"
     ]
    }
   ],
   "source": [
    "print(\"No. of unique values:\", len(column.unique()))\n",
    "counter = dict(Counter(column))\n",
    "duplicates = {key:value for key, value in counter.items() if value > 1}\n",
    "print(\"Duplicates:\", duplicates)\n",
    "if len(duplicates) > 0:\n",
    "    print(\"No. of duplicates:\", len(duplicates))\n",
    "\n",
    "print(\"No. of null values:\", sum(column.isnull()))"
   ]
  },
  {
   "cell_type": "code",
   "execution_count": 72,
   "id": "referenced-february",
   "metadata": {},
   "outputs": [
    {
     "data": {
      "text/html": [
       "<div>\n",
       "<style scoped>\n",
       "    .dataframe tbody tr th:only-of-type {\n",
       "        vertical-align: middle;\n",
       "    }\n",
       "\n",
       "    .dataframe tbody tr th {\n",
       "        vertical-align: top;\n",
       "    }\n",
       "\n",
       "    .dataframe thead th {\n",
       "        text-align: right;\n",
       "    }\n",
       "</style>\n",
       "<table border=\"1\" class=\"dataframe\">\n",
       "  <thead>\n",
       "    <tr style=\"text-align: right;\">\n",
       "      <th></th>\n",
       "      <th>Sr.No</th>\n",
       "      <th>Name of the District along with State</th>\n",
       "      <th>Name of Panchayat Officer (V.P. Secretary)</th>\n",
       "      <th>Mobile No.</th>\n",
       "      <th>Email Address</th>\n",
       "    </tr>\n",
       "  </thead>\n",
       "  <tbody>\n",
       "    <tr>\n",
       "      <th>10</th>\n",
       "      <td>11</td>\n",
       "      <td>North Goa, Goa</td>\n",
       "      <td>Shri. Francis Fernandes</td>\n",
       "      <td>9421194391</td>\n",
       "      <td>NaN</td>\n",
       "    </tr>\n",
       "    <tr>\n",
       "      <th>58</th>\n",
       "      <td>59</td>\n",
       "      <td>North Goa, Goa</td>\n",
       "      <td>Shri. Francis Fernandes</td>\n",
       "      <td>9421194391</td>\n",
       "      <td>NaN</td>\n",
       "    </tr>\n",
       "  </tbody>\n",
       "</table>\n",
       "</div>"
      ],
      "text/plain": [
       "   Sr.No Name of the District along with State  \\\n",
       "10    11                        North Goa, Goa   \n",
       "58    59                        North Goa, Goa   \n",
       "\n",
       "   Name of Panchayat Officer (V.P. Secretary)  Mobile No. Email Address  \n",
       "10                    Shri. Francis Fernandes  9421194391           NaN  \n",
       "58                    Shri. Francis Fernandes  9421194391           NaN  "
      ]
     },
     "execution_count": 72,
     "metadata": {},
     "output_type": "execute_result"
    }
   ],
   "source": [
    "goa_proforma_C[goa_proforma_C[\"Mobile No.\"] == 9421194391]"
   ]
  },
  {
   "cell_type": "code",
   "execution_count": 73,
   "id": "wooden-drain",
   "metadata": {},
   "outputs": [
    {
     "data": {
      "text/html": [
       "<div>\n",
       "<style scoped>\n",
       "    .dataframe tbody tr th:only-of-type {\n",
       "        vertical-align: middle;\n",
       "    }\n",
       "\n",
       "    .dataframe tbody tr th {\n",
       "        vertical-align: top;\n",
       "    }\n",
       "\n",
       "    .dataframe thead th {\n",
       "        text-align: right;\n",
       "    }\n",
       "</style>\n",
       "<table border=\"1\" class=\"dataframe\">\n",
       "  <thead>\n",
       "    <tr style=\"text-align: right;\">\n",
       "      <th></th>\n",
       "      <th>Sr.No</th>\n",
       "      <th>Name of the District along with State</th>\n",
       "      <th>Name of Panchayat Officer (V.P. Secretary)</th>\n",
       "      <th>Mobile No.</th>\n",
       "      <th>Email Address</th>\n",
       "    </tr>\n",
       "  </thead>\n",
       "  <tbody>\n",
       "    <tr>\n",
       "      <th>11</th>\n",
       "      <td>12</td>\n",
       "      <td>North Goa, Goa</td>\n",
       "      <td>Shri. Clifton Azavedo</td>\n",
       "      <td>9890419521</td>\n",
       "      <td>NaN</td>\n",
       "    </tr>\n",
       "    <tr>\n",
       "      <th>30</th>\n",
       "      <td>31</td>\n",
       "      <td>North Goa, Goa</td>\n",
       "      <td>Shri. Clifton Azavedo</td>\n",
       "      <td>9890419521</td>\n",
       "      <td>NaN</td>\n",
       "    </tr>\n",
       "  </tbody>\n",
       "</table>\n",
       "</div>"
      ],
      "text/plain": [
       "   Sr.No Name of the District along with State  \\\n",
       "11    12                        North Goa, Goa   \n",
       "30    31                        North Goa, Goa   \n",
       "\n",
       "   Name of Panchayat Officer (V.P. Secretary)  Mobile No. Email Address  \n",
       "11                      Shri. Clifton Azavedo  9890419521           NaN  \n",
       "30                      Shri. Clifton Azavedo  9890419521           NaN  "
      ]
     },
     "execution_count": 73,
     "metadata": {},
     "output_type": "execute_result"
    }
   ],
   "source": [
    "goa_proforma_C[goa_proforma_C[\"Mobile No.\"] == 9890419521]"
   ]
  },
  {
   "cell_type": "markdown",
   "id": "infrared-consolidation",
   "metadata": {},
   "source": [
    "Duplicates in ```Mobile No.``` are duplicates in rows."
   ]
  },
  {
   "cell_type": "markdown",
   "id": "selective-fusion",
   "metadata": {},
   "source": [
    "### Email Address\n",
    "<a class=\"anchor\" id=\"5.3.5\"></a>\n",
    "The email address of the Panchayat Officer."
   ]
  },
  {
   "cell_type": "code",
   "execution_count": 74,
   "id": "historic-metro",
   "metadata": {},
   "outputs": [
    {
     "data": {
      "text/plain": [
       "0      NaN\n",
       "1      NaN\n",
       "2      NaN\n",
       "3      NaN\n",
       "4      NaN\n",
       "      ... \n",
       "180    NaN\n",
       "181    NaN\n",
       "182    NaN\n",
       "183    NaN\n",
       "184    NaN\n",
       "Name: Email Address, Length: 185, dtype: object"
      ]
     },
     "execution_count": 74,
     "metadata": {},
     "output_type": "execute_result"
    }
   ],
   "source": [
    "column = goa_proforma_C[\"Email Address\"]\n",
    "column"
   ]
  },
  {
   "cell_type": "code",
   "execution_count": 75,
   "id": "monetary-quarterly",
   "metadata": {},
   "outputs": [
    {
     "name": "stdout",
     "output_type": "stream",
     "text": [
      "No. of unique values: 4\n",
      "Duplicates: {nan: 182}\n",
      "No. of duplicates: 1\n",
      "No. of null values: 182\n"
     ]
    }
   ],
   "source": [
    "print(\"No. of unique values:\", len(column.unique()))\n",
    "counter = dict(Counter(column))\n",
    "duplicates = {key:value for key, value in counter.items() if value > 1}\n",
    "print(\"Duplicates:\", duplicates)\n",
    "if len(duplicates) > 0:\n",
    "    print(\"No. of duplicates:\", len(duplicates))\n",
    "\n",
    "print(\"No. of null values:\", sum(column.isnull()))"
   ]
  },
  {
   "cell_type": "code",
   "execution_count": 76,
   "id": "moving-herald",
   "metadata": {},
   "outputs": [
    {
     "data": {
      "text/plain": [
       "104          mailoswynmas@gmail.com \n",
       "119    lencydiasjuliao007@gmail.com \n",
       "121          joslynesteves@gmail.com\n",
       "Name: Email Address, dtype: object"
      ]
     },
     "execution_count": 76,
     "metadata": {},
     "output_type": "execute_result"
    }
   ],
   "source": [
    "column.dropna()"
   ]
  },
  {
   "cell_type": "markdown",
   "id": "guilty-testament",
   "metadata": {},
   "source": [
    "### Sheet E\n",
    "<a class=\"anchor\" id=\"5.4\"></a>\n",
    "Sheet E contains information about Disctrict Panchayat Presidents in Goa."
   ]
  },
  {
   "cell_type": "markdown",
   "id": "rolled-henry",
   "metadata": {},
   "source": [
    "### Sr.No.\n",
    "<a class=\"anchor\" id=\"5.4.1\"></a>\n",
    "Counts the number of Disctrict Panchayat Presidents."
   ]
  },
  {
   "cell_type": "code",
   "execution_count": 82,
   "id": "sound-cabin",
   "metadata": {},
   "outputs": [
    {
     "data": {
      "text/plain": [
       "0    1\n",
       "1    2\n",
       "2    3\n",
       "3    4\n",
       "Name: Sr.No, dtype: object"
      ]
     },
     "execution_count": 82,
     "metadata": {},
     "output_type": "execute_result"
    }
   ],
   "source": [
    "column = goa_proforma_E[\"Sr.No\"]\n",
    "column"
   ]
  },
  {
   "cell_type": "code",
   "execution_count": 83,
   "id": "institutional-concentrate",
   "metadata": {},
   "outputs": [
    {
     "name": "stdout",
     "output_type": "stream",
     "text": [
      "No. of unique values: 4\n"
     ]
    }
   ],
   "source": [
    "print(\"No. of unique values:\", len(column.unique()))"
   ]
  },
  {
   "cell_type": "markdown",
   "id": "directed-dragon",
   "metadata": {},
   "source": [
    "### Name of District along with State\n",
    "<a class=\"anchor\" id=\"5.4.2\"></a>\n",
    "Name of district in Goa."
   ]
  },
  {
   "cell_type": "code",
   "execution_count": 84,
   "id": "smart-sleeping",
   "metadata": {},
   "outputs": [
    {
     "data": {
      "text/plain": [
       "0    North Goa, GOA\n",
       "1    North Goa, GOA\n",
       "2    South Goa, GOA\n",
       "3    South Goa, GOA\n",
       "Name: Name of District along with State, dtype: object"
      ]
     },
     "execution_count": 84,
     "metadata": {},
     "output_type": "execute_result"
    }
   ],
   "source": [
    "column = goa_proforma_E[\"Name of District along with State\"]\n",
    "column"
   ]
  },
  {
   "cell_type": "code",
   "execution_count": 85,
   "id": "lyric-novelty",
   "metadata": {},
   "outputs": [
    {
     "name": "stdout",
     "output_type": "stream",
     "text": [
      "Unique values: ['North Goa' 'South Goa']\n",
      "No. of unique values: 2\n"
     ]
    },
    {
     "data": {
      "text/html": [
       "<div>\n",
       "<style scoped>\n",
       "    .dataframe tbody tr th:only-of-type {\n",
       "        vertical-align: middle;\n",
       "    }\n",
       "\n",
       "    .dataframe tbody tr th {\n",
       "        vertical-align: top;\n",
       "    }\n",
       "\n",
       "    .dataframe thead th {\n",
       "        text-align: right;\n",
       "    }\n",
       "</style>\n",
       "<table border=\"1\" class=\"dataframe\">\n",
       "  <thead>\n",
       "    <tr style=\"text-align: right;\">\n",
       "      <th></th>\n",
       "      <th>District</th>\n",
       "      <th>Count</th>\n",
       "    </tr>\n",
       "  </thead>\n",
       "  <tbody>\n",
       "    <tr>\n",
       "      <th>0</th>\n",
       "      <td>South Goa</td>\n",
       "      <td>2</td>\n",
       "    </tr>\n",
       "    <tr>\n",
       "      <th>1</th>\n",
       "      <td>North Goa</td>\n",
       "      <td>2</td>\n",
       "    </tr>\n",
       "  </tbody>\n",
       "</table>\n",
       "</div>"
      ],
      "text/plain": [
       "    District  Count\n",
       "0  South Goa      2\n",
       "1  North Goa      2"
      ]
     },
     "execution_count": 85,
     "metadata": {},
     "output_type": "execute_result"
    }
   ],
   "source": [
    "districts = column.apply(lambda x: str(x[:9]))\n",
    "\n",
    "print(\"Unique values:\", districts.unique())\n",
    "print(\"No. of unique values:\", len(districts.unique()))\n",
    "\n",
    "# Table of number of Sarpanchs in each district\n",
    "table = districts.value_counts().rename_axis('District').reset_index(name='Count')\n",
    "table"
   ]
  },
  {
   "cell_type": "code",
   "execution_count": 92,
   "id": "expensive-samoa",
   "metadata": {},
   "outputs": [
    {
     "data": {
      "image/png": "[encoded data removed]",
      "text/plain": [
       "<Figure size 504x360 with 1 Axes>"
      ]
     },
     "metadata": {
      "needs_background": "light"
     },
     "output_type": "display_data"
    }
   ],
   "source": [
    "plt.figure(figsize = (7, 5))\n",
    "plt.bar(table[\"District\"], table[\"Count\"])\n",
    "plt.title(\"Number of Disctrict Panchayat Presidents in each District\")\n",
    "plt.xlabel(\"District\")\n",
    "plt.ylabel(\"Count\")\n",
    "plt.show()"
   ]
  },
  {
   "cell_type": "markdown",
   "id": "responsible-ivory",
   "metadata": {},
   "source": [
    "### Name of District Panchayat President\n",
    "<a class=\"anchor\" id=\"5.4.3\"></a>\n",
    "Name of the Disctrict Panchayat President."
   ]
  },
  {
   "cell_type": "code",
   "execution_count": 88,
   "id": "reduced-vehicle",
   "metadata": {
    "scrolled": true
   },
   "outputs": [
    {
     "data": {
      "text/plain": [
       "0           Smt.Ankita L Navelkar - Adhyaksha\n",
       "1    Shri. Vasudev L Korgaonkar - Upadhyaksha\n",
       "2          Shri. Navnaath G. Naik - Adhyaksha\n",
       "3      Smt. Chitra Parab Fadte  - Upadhyaksha\n",
       "Name: Name of District Panchayat President, dtype: object"
      ]
     },
     "execution_count": 88,
     "metadata": {},
     "output_type": "execute_result"
    }
   ],
   "source": [
    "column = goa_proforma_E[\"Name of District Panchayat President\"]\n",
    "column"
   ]
  },
  {
   "cell_type": "code",
   "execution_count": 93,
   "id": "genetic-watts",
   "metadata": {},
   "outputs": [
    {
     "name": "stdout",
     "output_type": "stream",
     "text": [
      "No. of unique values: 4\n"
     ]
    }
   ],
   "source": [
    "print(\"No. of unique values:\", len(column.unique()))"
   ]
  },
  {
   "cell_type": "code",
   "execution_count": 89,
   "id": "external-department",
   "metadata": {},
   "outputs": [
    {
     "data": {
      "text/html": [
       "<div>\n",
       "<style scoped>\n",
       "    .dataframe tbody tr th:only-of-type {\n",
       "        vertical-align: middle;\n",
       "    }\n",
       "\n",
       "    .dataframe tbody tr th {\n",
       "        vertical-align: top;\n",
       "    }\n",
       "\n",
       "    .dataframe thead th {\n",
       "        text-align: right;\n",
       "    }\n",
       "</style>\n",
       "<table border=\"1\" class=\"dataframe\">\n",
       "  <thead>\n",
       "    <tr style=\"text-align: right;\">\n",
       "      <th></th>\n",
       "      <th>Titles</th>\n",
       "      <th>Counts</th>\n",
       "    </tr>\n",
       "  </thead>\n",
       "  <tbody>\n",
       "    <tr>\n",
       "      <th>0</th>\n",
       "      <td>Smt.</td>\n",
       "      <td>2</td>\n",
       "    </tr>\n",
       "    <tr>\n",
       "      <th>1</th>\n",
       "      <td>Shri.</td>\n",
       "      <td>2</td>\n",
       "    </tr>\n",
       "  </tbody>\n",
       "</table>\n",
       "</div>"
      ],
      "text/plain": [
       "  Titles  Counts\n",
       "0   Smt.       2\n",
       "1  Shri.       2"
      ]
     },
     "execution_count": 89,
     "metadata": {},
     "output_type": "execute_result"
    }
   ],
   "source": [
    "#Titles of officers\n",
    "titles = column.apply(lambda x: str(x[:3]))\n",
    "smt = 0; shr = 0\n",
    "for title in titles:\n",
    "    if (title == 'Smt'):\n",
    "        smt += 1\n",
    "    elif (title == 'Shr'):\n",
    "        shr += 1\n",
    "titles_df = pd.DataFrame(data = {'Titles' : ['Smt.', 'Shri.'], \n",
    "                                 'Counts' : [smt, shr]})\n",
    "titles_df"
   ]
  },
  {
   "cell_type": "code",
   "execution_count": 91,
   "id": "intensive-typing",
   "metadata": {},
   "outputs": [
    {
     "data": {
      "image/png": "[encoded data removed]",
      "text/plain": [
       "<Figure size 504x360 with 1 Axes>"
      ]
     },
     "metadata": {
      "needs_background": "light"
     },
     "output_type": "display_data"
    }
   ],
   "source": [
    "# Plot number of titles'\n",
    "plt.figure(figsize = (7, 5))\n",
    "plt.bar(titles_df[\"Titles\"], titles_df[\"Counts\"])\n",
    "plt.title(\"Count of Titles\")\n",
    "plt.xlabel(\"Title\")\n",
    "plt.ylabel('Count')\n",
    "plt.show()"
   ]
  },
  {
   "cell_type": "markdown",
   "id": "clinical-exception",
   "metadata": {},
   "source": [
    "### Address with Pin Code\n",
    "<a class=\"anchor\" id=\"5.4.4\"></a>\n",
    "The address and pin code of the Disctrict Panchayat President."
   ]
  },
  {
   "cell_type": "code",
   "execution_count": 94,
   "id": "confident-sacramento",
   "metadata": {},
   "outputs": [
    {
     "data": {
      "text/plain": [
       "0    H.No 247, Lalbag, Vithalpur, P.O. Sanquelim, B...\n",
       "1           H.No 353, Khalap wado, Canca, Bardez - Goa\n",
       "2                      H.No 164/1, Bhaati, Sanguem-Goa\n",
       "3    H.No 73, Near Mal, Kharwada, Bandora, Ponda - Goa\n",
       "Name: Address with Pin Code, dtype: object"
      ]
     },
     "execution_count": 94,
     "metadata": {},
     "output_type": "execute_result"
    }
   ],
   "source": [
    "column = goa_proforma_E[\"Address with Pin Code\"]\n",
    "column"
   ]
  },
  {
   "cell_type": "code",
   "execution_count": 95,
   "id": "careful-pharmacology",
   "metadata": {},
   "outputs": [
    {
     "name": "stdout",
     "output_type": "stream",
     "text": [
      "No. of unique values: 4\n"
     ]
    }
   ],
   "source": [
    "print(\"No. of unique values:\", len(column.unique()))"
   ]
  },
  {
   "cell_type": "markdown",
   "id": "guided-judges",
   "metadata": {},
   "source": [
    "### Mobile No. / Email Address\n",
    "<a class=\"anchor\" id=\"5.4.5\"></a>\n",
    "The mobile phone number or email address of the Disctrict Panchayat President."
   ]
  },
  {
   "cell_type": "code",
   "execution_count": 96,
   "id": "scientific-black",
   "metadata": {},
   "outputs": [
    {
     "data": {
      "text/plain": [
       "0    9923446211\n",
       "1    9850453006\n",
       "2    9421240037\n",
       "3    9049666058\n",
       "Name: Mobile No. / Email Address, dtype: object"
      ]
     },
     "execution_count": 96,
     "metadata": {},
     "output_type": "execute_result"
    }
   ],
   "source": [
    "column = goa_proforma_E[\"Mobile No. / Email Address\"]\n",
    "column"
   ]
  },
  {
   "cell_type": "code",
   "execution_count": 97,
   "id": "medical-testament",
   "metadata": {},
   "outputs": [
    {
     "name": "stdout",
     "output_type": "stream",
     "text": [
      "No. of unique values: 4\n"
     ]
    }
   ],
   "source": [
    "print(\"No. of unique values:\", len(column.unique()))"
   ]
  },
  {
   "cell_type": "markdown",
   "id": "dependent-lease",
   "metadata": {},
   "source": [
    "### Sheet F\n",
    "<a class=\"anchor\" id=\"5.5\"></a>\n",
    "Sheet F contains information about the Nodal Officer in Goa.      \n",
    "Since there is only one row in the DataFrame, for each column I will just print out the value in the row."
   ]
  },
  {
   "cell_type": "markdown",
   "id": "revolutionary-cabinet",
   "metadata": {},
   "source": [
    "### Sr.No.\n",
    "<a class=\"anchor\" id=\"5.5.1\"></a>\n",
    "Counts the number of Nodal Officers."
   ]
  },
  {
   "cell_type": "code",
   "execution_count": 98,
   "id": "herbal-illinois",
   "metadata": {},
   "outputs": [
    {
     "data": {
      "text/plain": [
       "1"
      ]
     },
     "execution_count": 98,
     "metadata": {},
     "output_type": "execute_result"
    }
   ],
   "source": [
    "goa_proforma_F[\"Sr.No\"][0]"
   ]
  },
  {
   "cell_type": "markdown",
   "id": "sharp-hanging",
   "metadata": {},
   "source": [
    "### Name of the State\n",
    "<a class=\"anchor\" id=\"5.5.2\"></a>\n",
    "Name of State in India."
   ]
  },
  {
   "cell_type": "code",
   "execution_count": 101,
   "id": "crucial-interaction",
   "metadata": {},
   "outputs": [
    {
     "data": {
      "text/plain": [
       "'GOA'"
      ]
     },
     "execution_count": 101,
     "metadata": {},
     "output_type": "execute_result"
    }
   ],
   "source": [
    "goa_proforma_F[\"Name of the State\"][0]"
   ]
  },
  {
   "cell_type": "markdown",
   "id": "fossil-digest",
   "metadata": {},
   "source": [
    "### Name of the Nodal Officer / Designation\n",
    "<a class=\"anchor\" id=\"5.5.3\"></a>\n",
    "Name of the Nodal Officer and their designation."
   ]
  },
  {
   "cell_type": "code",
   "execution_count": 102,
   "id": "revised-coordinate",
   "metadata": {},
   "outputs": [
    {
     "data": {
      "text/plain": [
       "'Shri. Gurudas Pilarnekar, Director, Directorate of Panchayats'"
      ]
     },
     "execution_count": 102,
     "metadata": {},
     "output_type": "execute_result"
    }
   ],
   "source": [
    "goa_proforma_F[\"Name of the Nodal Officer / Designation\"][0]"
   ]
  },
  {
   "cell_type": "markdown",
   "id": "imported-freight",
   "metadata": {},
   "source": [
    "### Mobile No. / Email Address\n",
    "<a class=\"anchor\" id=\"5.5.4\"></a>\n",
    "The mobile phone number or email address of the Nodal Officer."
   ]
  },
  {
   "cell_type": "code",
   "execution_count": 103,
   "id": "optical-preparation",
   "metadata": {},
   "outputs": [
    {
     "data": {
      "text/plain": [
       "'9763554136 dir-panc.goa@nic.in'"
      ]
     },
     "execution_count": 103,
     "metadata": {},
     "output_type": "execute_result"
    }
   ],
   "source": [
    "goa_proforma_F[\"Mobile No. / Email Address\"][0]"
   ]
  },
  {
   "cell_type": "markdown",
   "id": "optimum-heater",
   "metadata": {},
   "source": [
    "### Postal Details\n",
    "<a class=\"anchor\" id=\"5.5.5\"></a>\n",
    "The address and pin code of the Nodal Officer."
   ]
  },
  {
   "cell_type": "code",
   "execution_count": 104,
   "id": "cathedral-bankruptcy",
   "metadata": {},
   "outputs": [
    {
     "data": {
      "text/plain": [
       "'3rd lift, 3rd floor, Junta House, Panaji - Goa'"
      ]
     },
     "execution_count": 104,
     "metadata": {},
     "output_type": "execute_result"
    }
   ],
   "source": [
    "goa_proforma_F[\"Postal Details\"][0]"
   ]
  },
  {
   "cell_type": "code",
   "execution_count": null,
   "id": "popular-pittsburgh",
   "metadata": {},
   "outputs": [],
   "source": []
  }
 ],
 "metadata": {
  "kernelspec": {
   "display_name": "Python 3",
   "language": "python",
   "name": "python3"
  },
  "language_info": {
   "codemirror_mode": {
    "name": "ipython",
    "version": 3
   },
   "file_extension": ".py",
   "mimetype": "text/x-python",
   "name": "python",
   "nbconvert_exporter": "python",
   "pygments_lexer": "ipython3",
   "version": "3.9.2"
  }
 },
 "nbformat": 4,
 "nbformat_minor": 5
}
