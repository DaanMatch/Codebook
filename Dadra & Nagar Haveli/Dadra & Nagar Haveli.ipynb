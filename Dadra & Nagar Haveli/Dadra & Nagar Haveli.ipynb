{
 "cells": [
  {
   "cell_type": "markdown",
   "metadata": {},
   "source": [
    "# Codebook  \n",
    "**Authors:** Lauren Baker     \n",
    "Documenting existing data files of DaanMatch with information about location, owner, \"version\", source etc."
   ]
  },
  {
   "cell_type": "code",
   "execution_count": 24,
   "metadata": {},
   "outputs": [],
   "source": [
    "import boto3\n",
    "import numpy as np \n",
    "import pandas as pd\n",
    "pd.plotting.register_matplotlib_converters()\n",
    "import matplotlib.pyplot as plt\n",
    "%matplotlib inline\n",
    "from collections import Counter\n",
    "import statistics"
   ]
  },
  {
   "cell_type": "code",
   "execution_count": 25,
   "metadata": {},
   "outputs": [],
   "source": [
    "client = boto3.client('s3')\n",
    "resource = boto3.resource('s3')\n",
    "my_bucket = resource.Bucket('daanmatchdatafiles')"
   ]
  },
  {
   "cell_type": "markdown",
   "metadata": {},
   "source": [
    "# Dadra & Nagar Haveli.xls\n",
    "\n",
    "## TOC:\n",
    "* [About this dataset](#1)\n",
    "* [Cleaned datasets](#2)\n",
    "* [What's in this dataset](#3)\n",
    "* [Codebook](#4)\n",
    "    * [Missing values](#4.1)\n",
    "    * [Summary statistics](#4.2)\n",
    "* [Columns](#5)\n",
    "    * [DataFrame 1](#5.1)\n",
    "        * [Sr No.](#5.1.1)\n",
    "        * [Name of District /Zila Parishad](#5.1.2)\n",
    "        * [Name of President/Chairperson](#5.1.3)\n",
    "        * [Completed Postal- address (with PIN Code)](#5.1.4)\n",
    "        * [Mobile](#5.1.5)\n",
    "        * [E-mail ID](#5.1.6)\n",
    "    * [DataFrame 2](#5.2)\n",
    "        * [Sr No.](#5.2.1)\n",
    "        * [Name of Gram Panchayat/Village Panchayat](#5.2.2)\n",
    "        * [Name of Sarpanch/Mukhiya/President](#5.2.3)\n",
    "        * [Completed Postal- address (with PIN Code)](#5.2.4)\n",
    "        * [Mobile](#5.2.5)\n",
    "        * [E-mail ID](#5.2.6)\n",
    "    * [DataFrame 3](#5.3)\n",
    "        * [Sr No.](#5.3.1)\n",
    "        * [Name & Designation of Officer (S)](#5.3.2)\n",
    "        * [Completed Postal- address (with PIN Code)](#5.3.3)\n",
    "        * [Tel./Fax (Office)](#5.3.4)\n",
    "        * [Mobile](#5.3.5)\n",
    "        * [E-mail ID](#5.3.6)"
   ]
  },
  {
   "cell_type": "markdown",
   "metadata": {},
   "source": [
    "**About this dataset**  <a class=\"anchor\" id=\"1\"></a>  \n",
    "Data provided by: Unknown.  \n",
    "Source: https://daanmatchdatafiles.s3.us-west-1.amazonaws.com/DaanMatch_DataFiles/Dadra+%26+Nagar+Haveli.xls    \n",
    "Type: xls     \n",
    "Last Modified: May 29, 2021, 22:50:47 (UTC-07:00)  \n",
    "Size: 30.0 KB"
   ]
  },
  {
   "cell_type": "code",
   "execution_count": 26,
   "metadata": {},
   "outputs": [
    {
     "name": "stdout",
     "output_type": "stream",
     "text": [
      "['Sheet1']\n"
     ]
    },
    {
     "data": {
      "text/html": [
       "<div>\n",
       "<style scoped>\n",
       "    .dataframe tbody tr th:only-of-type {\n",
       "        vertical-align: middle;\n",
       "    }\n",
       "\n",
       "    .dataframe tbody tr th {\n",
       "        vertical-align: top;\n",
       "    }\n",
       "\n",
       "    .dataframe thead th {\n",
       "        text-align: right;\n",
       "    }\n",
       "</style>\n",
       "<table border=\"1\" class=\"dataframe\">\n",
       "  <thead>\n",
       "    <tr style=\"text-align: right;\">\n",
       "      <th></th>\n",
       "      <th>Unnamed: 0</th>\n",
       "      <th>Unnamed: 1</th>\n",
       "      <th>Unnamed: 2</th>\n",
       "      <th>Unnamed: 3</th>\n",
       "      <th>Unnamed: 4</th>\n",
       "      <th>Unnamed: 5</th>\n",
       "      <th>Unnamed: 6</th>\n",
       "    </tr>\n",
       "  </thead>\n",
       "  <tbody>\n",
       "    <tr>\n",
       "      <th>0</th>\n",
       "      <td>NaN</td>\n",
       "      <td>Proforma ( To be prepared in MS-Excel Format)</td>\n",
       "      <td>NaN</td>\n",
       "      <td>NaN</td>\n",
       "      <td>NaN</td>\n",
       "      <td>NaN</td>\n",
       "      <td>NaN</td>\n",
       "    </tr>\n",
       "    <tr>\n",
       "      <th>1</th>\n",
       "      <td>NaN</td>\n",
       "      <td>Name of State / UT: UT of Dadra and Nagar Haveli</td>\n",
       "      <td>NaN</td>\n",
       "      <td>NaN</td>\n",
       "      <td>NaN</td>\n",
       "      <td>NaN</td>\n",
       "      <td>NaN</td>\n",
       "    </tr>\n",
       "    <tr>\n",
       "      <th>2</th>\n",
       "      <td>NaN</td>\n",
       "      <td>NaN</td>\n",
       "      <td>NaN</td>\n",
       "      <td>NaN</td>\n",
       "      <td>NaN</td>\n",
       "      <td>NaN</td>\n",
       "      <td>NaN</td>\n",
       "    </tr>\n",
       "    <tr>\n",
       "      <th>3</th>\n",
       "      <td>NaN</td>\n",
       "      <td>Contact-Details of Elected Head/Members of Dis...</td>\n",
       "      <td>NaN</td>\n",
       "      <td>NaN</td>\n",
       "      <td>NaN</td>\n",
       "      <td>NaN</td>\n",
       "      <td>NaN</td>\n",
       "    </tr>\n",
       "    <tr>\n",
       "      <th>4</th>\n",
       "      <td>NaN</td>\n",
       "      <td>Sr No.</td>\n",
       "      <td>Name of District /Zila Parishad</td>\n",
       "      <td>Name of President/Chairperson</td>\n",
       "      <td>Completed Postal- address (with PIN Code)</td>\n",
       "      <td>Mobile</td>\n",
       "      <td>E-mail ID</td>\n",
       "    </tr>\n",
       "  </tbody>\n",
       "</table>\n",
       "</div>"
      ],
      "text/plain": [
       "   Unnamed: 0                                         Unnamed: 1  \\\n",
       "0         NaN      Proforma ( To be prepared in MS-Excel Format)   \n",
       "1         NaN   Name of State / UT: UT of Dadra and Nagar Haveli   \n",
       "2         NaN                                                NaN   \n",
       "3         NaN  Contact-Details of Elected Head/Members of Dis...   \n",
       "4         NaN                                             Sr No.   \n",
       "\n",
       "                        Unnamed: 2                     Unnamed: 3  \\\n",
       "0                              NaN                            NaN   \n",
       "1                              NaN                            NaN   \n",
       "2                              NaN                            NaN   \n",
       "3                              NaN                            NaN   \n",
       "4  Name of District /Zila Parishad  Name of President/Chairperson   \n",
       "\n",
       "                                  Unnamed: 4 Unnamed: 5 Unnamed: 6  \n",
       "0                                        NaN        NaN        NaN  \n",
       "1                                        NaN        NaN        NaN  \n",
       "2                                        NaN        NaN        NaN  \n",
       "3                                        NaN        NaN        NaN  \n",
       "4  Completed Postal- address (with PIN Code)     Mobile  E-mail ID  "
      ]
     },
     "execution_count": 26,
     "metadata": {},
     "output_type": "execute_result"
    }
   ],
   "source": [
    "path = 's3://daanmatchdatafiles/DaanMatch_DataFiles/Dadra & Nagar Haveli.xls'\n",
    "dadra_nagar = pd.ExcelFile(path)\n",
    "print(dadra_nagar.sheet_names)\n",
    "# Combine both sheets\n",
    "dadra_nagar = dadra_nagar.parse('Sheet1')\n",
    "dadra_nagar = dadra_nagar.reset_index(drop=True)\n",
    "dadra_nagar.head()"
   ]
  },
  {
   "cell_type": "markdown",
   "metadata": {},
   "source": [
    "**Cleaned datasets** <a class=\"anchor\" id=\"2\"></a>"
   ]
  },
  {
   "cell_type": "markdown",
   "metadata": {},
   "source": [
    "Contact Details of Elected Head/Members of District Panchayat:"
   ]
  },
  {
   "cell_type": "code",
   "execution_count": 27,
   "metadata": {},
   "outputs": [
    {
     "data": {
      "text/html": [
       "<div>\n",
       "<style scoped>\n",
       "    .dataframe tbody tr th:only-of-type {\n",
       "        vertical-align: middle;\n",
       "    }\n",
       "\n",
       "    .dataframe tbody tr th {\n",
       "        vertical-align: top;\n",
       "    }\n",
       "\n",
       "    .dataframe thead th {\n",
       "        text-align: right;\n",
       "    }\n",
       "</style>\n",
       "<table border=\"1\" class=\"dataframe\">\n",
       "  <thead>\n",
       "    <tr style=\"text-align: right;\">\n",
       "      <th></th>\n",
       "      <th>Sr No.</th>\n",
       "      <th>Name of District /Zila Parishad</th>\n",
       "      <th>Name of President/Chairperson</th>\n",
       "      <th>Completed Postal- address (with PIN Code)</th>\n",
       "      <th>Mobile</th>\n",
       "      <th>E-mail ID</th>\n",
       "    </tr>\n",
       "  </thead>\n",
       "  <tbody>\n",
       "    <tr>\n",
       "      <th>0</th>\n",
       "      <td>1</td>\n",
       "      <td>District Panchayat</td>\n",
       "      <td>Shri Kakva Ramanbhai Devjibhai, President, DP</td>\n",
       "      <td>NaN</td>\n",
       "      <td>9824749121</td>\n",
       "      <td>dpo-dnh@nic.in</td>\n",
       "    </tr>\n",
       "    <tr>\n",
       "      <th>1</th>\n",
       "      <td>2</td>\n",
       "      <td>Dadra and Nagar Haveli</td>\n",
       "      <td>Shri Gavit Maheshbhai Chimanbhai, Vice-Preside...</td>\n",
       "      <td>NaN</td>\n",
       "      <td>9624001777</td>\n",
       "      <td>dpo-dnh@nic.in</td>\n",
       "    </tr>\n",
       "    <tr>\n",
       "      <th>2</th>\n",
       "      <td>3</td>\n",
       "      <td>Silvassa</td>\n",
       "      <td>Smt. Patel Jigishaben Hitendra</td>\n",
       "      <td>Gram Panchayat Naroli</td>\n",
       "      <td>9714310164</td>\n",
       "      <td>dpo-dnh@nic.in</td>\n",
       "    </tr>\n",
       "    <tr>\n",
       "      <th>3</th>\n",
       "      <td>4</td>\n",
       "      <td>NaN</td>\n",
       "      <td>Smt. Patel Jashodaben Ravindra</td>\n",
       "      <td>Gram Panchayat Kharadpada</td>\n",
       "      <td>8758824809</td>\n",
       "      <td>dpo-dnh@nic.in</td>\n",
       "    </tr>\n",
       "    <tr>\n",
       "      <th>4</th>\n",
       "      <td>5</td>\n",
       "      <td>NaN</td>\n",
       "      <td>Shri Vartha Sumanbhai Raghubhai</td>\n",
       "      <td>Gram Panchayat Galonda</td>\n",
       "      <td>9925323231</td>\n",
       "      <td>dpo-dnh@nic.in</td>\n",
       "    </tr>\n",
       "  </tbody>\n",
       "</table>\n",
       "</div>"
      ],
      "text/plain": [
       "  Sr No. Name of District /Zila Parishad  \\\n",
       "0      1              District Panchayat   \n",
       "1      2          Dadra and Nagar Haveli   \n",
       "2      3                        Silvassa   \n",
       "3      4                             NaN   \n",
       "4      5                             NaN   \n",
       "\n",
       "                       Name of President/Chairperson  \\\n",
       "0      Shri Kakva Ramanbhai Devjibhai, President, DP   \n",
       "1  Shri Gavit Maheshbhai Chimanbhai, Vice-Preside...   \n",
       "2                     Smt. Patel Jigishaben Hitendra   \n",
       "3                     Smt. Patel Jashodaben Ravindra   \n",
       "4                    Shri Vartha Sumanbhai Raghubhai   \n",
       "\n",
       "  Completed Postal- address (with PIN Code)      Mobile       E-mail ID  \n",
       "0                                       NaN  9824749121  dpo-dnh@nic.in  \n",
       "1                                       NaN  9624001777  dpo-dnh@nic.in  \n",
       "2                     Gram Panchayat Naroli  9714310164  dpo-dnh@nic.in  \n",
       "3                 Gram Panchayat Kharadpada  8758824809  dpo-dnh@nic.in  \n",
       "4                    Gram Panchayat Galonda  9925323231  dpo-dnh@nic.in  "
      ]
     },
     "execution_count": 27,
     "metadata": {},
     "output_type": "execute_result"
    }
   ],
   "source": [
    "dadra_nagar_1 = dadra_nagar.copy()\n",
    "dadra_nagar_1 = dadra_nagar_1.rename(columns = {'Unnamed: 1' : 'Sr No.', 'Unnamed: 2' : 'Name of District /Zila Parishad', 'Unnamed: 3' : 'Name of President/Chairperson', 'Unnamed: 4' : 'Completed Postal- address (with PIN Code)', 'Unnamed: 5' : 'Mobile', 'Unnamed: 6' : 'E-mail ID'})\n",
    "dadra_nagar_1 = dadra_nagar_1.iloc[5:25, 1:]\n",
    "dadra_nagar_1 = dadra_nagar_1.reset_index(drop=True)\n",
    "dadra_nagar_1.head()"
   ]
  },
  {
   "cell_type": "markdown",
   "metadata": {},
   "source": [
    "Contact Details of Elected Head of Gram Panchayat/Village Panchayats:"
   ]
  },
  {
   "cell_type": "code",
   "execution_count": 28,
   "metadata": {},
   "outputs": [
    {
     "data": {
      "text/html": [
       "<div>\n",
       "<style scoped>\n",
       "    .dataframe tbody tr th:only-of-type {\n",
       "        vertical-align: middle;\n",
       "    }\n",
       "\n",
       "    .dataframe tbody tr th {\n",
       "        vertical-align: top;\n",
       "    }\n",
       "\n",
       "    .dataframe thead th {\n",
       "        text-align: right;\n",
       "    }\n",
       "</style>\n",
       "<table border=\"1\" class=\"dataframe\">\n",
       "  <thead>\n",
       "    <tr style=\"text-align: right;\">\n",
       "      <th></th>\n",
       "      <th>Sr No.</th>\n",
       "      <th>Name of Gram Panchayat/Village Panchayat</th>\n",
       "      <th>Name of Sarpanch/Mukhiya/President</th>\n",
       "      <th>Completed Postal- address (with PIN Code)</th>\n",
       "      <th>Mobile</th>\n",
       "      <th>E-mail ID</th>\n",
       "    </tr>\n",
       "  </thead>\n",
       "  <tbody>\n",
       "    <tr>\n",
       "      <th>0</th>\n",
       "      <td>1</td>\n",
       "      <td>Surangi</td>\n",
       "      <td>Smt.Kakad Ashaben Dhanjibhai</td>\n",
       "      <td>Gram Panchayat Surangi</td>\n",
       "      <td>9924740998</td>\n",
       "      <td>dpo-dnh@nic.in</td>\n",
       "    </tr>\n",
       "    <tr>\n",
       "      <th>1</th>\n",
       "      <td>2</td>\n",
       "      <td>Kauncha</td>\n",
       "      <td>Smt.Gond Kamlaben Rupjibhai</td>\n",
       "      <td>Gram Panchayat Kauncha</td>\n",
       "      <td>7621992170</td>\n",
       "      <td>dpo-dnh@nic.in</td>\n",
       "    </tr>\n",
       "    <tr>\n",
       "      <th>2</th>\n",
       "      <td>3</td>\n",
       "      <td>Naroli</td>\n",
       "      <td>Smt.Dodia Pritiben Jitendersinh</td>\n",
       "      <td>Gram Panchayat Naroli</td>\n",
       "      <td>9824481685</td>\n",
       "      <td>dpo-dnh@nic.in</td>\n",
       "    </tr>\n",
       "    <tr>\n",
       "      <th>3</th>\n",
       "      <td>4</td>\n",
       "      <td>Kharadpada</td>\n",
       "      <td>Shri Radiya Patadiya Katya</td>\n",
       "      <td>Gram Panchayat Kharadpada</td>\n",
       "      <td>9377007205</td>\n",
       "      <td>dpo-dnh@nic.in</td>\n",
       "    </tr>\n",
       "    <tr>\n",
       "      <th>4</th>\n",
       "      <td>5</td>\n",
       "      <td>Galonda</td>\n",
       "      <td>Shri Bhurkud Ishwarbhai</td>\n",
       "      <td>Gram Panchayat Galonda</td>\n",
       "      <td>9925678785</td>\n",
       "      <td>dpo-dnh@nic.in</td>\n",
       "    </tr>\n",
       "  </tbody>\n",
       "</table>\n",
       "</div>"
      ],
      "text/plain": [
       "  Sr No. Name of Gram Panchayat/Village Panchayat  \\\n",
       "0      1                                  Surangi   \n",
       "1      2                                  Kauncha   \n",
       "2      3                                   Naroli   \n",
       "3      4                               Kharadpada   \n",
       "4      5                                  Galonda   \n",
       "\n",
       "  Name of Sarpanch/Mukhiya/President  \\\n",
       "0       Smt.Kakad Ashaben Dhanjibhai   \n",
       "1        Smt.Gond Kamlaben Rupjibhai   \n",
       "2    Smt.Dodia Pritiben Jitendersinh   \n",
       "3         Shri Radiya Patadiya Katya   \n",
       "4            Shri Bhurkud Ishwarbhai   \n",
       "\n",
       "  Completed Postal- address (with PIN Code)      Mobile        E-mail ID  \n",
       "0                    Gram Panchayat Surangi  9924740998  dpo-dnh@nic.in   \n",
       "1                    Gram Panchayat Kauncha  7621992170  dpo-dnh@nic.in   \n",
       "2                     Gram Panchayat Naroli  9824481685  dpo-dnh@nic.in   \n",
       "3                 Gram Panchayat Kharadpada  9377007205  dpo-dnh@nic.in   \n",
       "4                    Gram Panchayat Galonda  9925678785  dpo-dnh@nic.in   "
      ]
     },
     "execution_count": 28,
     "metadata": {},
     "output_type": "execute_result"
    }
   ],
   "source": [
    "dadra_nagar_2 = dadra_nagar.copy()\n",
    "dadra_nagar_2 = dadra_nagar_2.rename(columns = {'Unnamed: 1' : 'Sr No.', 'Unnamed: 2' : 'Name of Gram Panchayat/Village Panchayat', 'Unnamed: 3' : 'Name of Sarpanch/Mukhiya/President', 'Unnamed: 4' : 'Completed Postal- address (with PIN Code)', 'Unnamed: 5' : 'Mobile', 'Unnamed: 6' : 'E-mail ID'})\n",
    "dadra_nagar_2 = dadra_nagar_2.iloc[37:57, 1:]\n",
    "dadra_nagar_2 = dadra_nagar_2.reset_index(drop=True)\n",
    "dadra_nagar_2.head()"
   ]
  },
  {
   "cell_type": "markdown",
   "metadata": {},
   "source": [
    "Contact Details of State-Level Nodal Officer (designated for compilation of Contact Details of Eleceted Head of Gram Panchayats/Intermediate Panchayat/District panchayats):"
   ]
  },
  {
   "cell_type": "code",
   "execution_count": 29,
   "metadata": {},
   "outputs": [
    {
     "data": {
      "text/html": [
       "<div>\n",
       "<style scoped>\n",
       "    .dataframe tbody tr th:only-of-type {\n",
       "        vertical-align: middle;\n",
       "    }\n",
       "\n",
       "    .dataframe tbody tr th {\n",
       "        vertical-align: top;\n",
       "    }\n",
       "\n",
       "    .dataframe thead th {\n",
       "        text-align: right;\n",
       "    }\n",
       "</style>\n",
       "<table border=\"1\" class=\"dataframe\">\n",
       "  <thead>\n",
       "    <tr style=\"text-align: right;\">\n",
       "      <th></th>\n",
       "      <th>Sr No.</th>\n",
       "      <th>Name &amp; Designation of Officer (S)</th>\n",
       "      <th>Completed Postal- address (with PIN Code)</th>\n",
       "      <th>Tel./Fax (Office)</th>\n",
       "      <th>Mobile</th>\n",
       "      <th>E-mail ID</th>\n",
       "    </tr>\n",
       "  </thead>\n",
       "  <tbody>\n",
       "    <tr>\n",
       "      <th>0</th>\n",
       "      <td>1</td>\n",
       "      <td>Dr. D. M. Dumralia, Development and planning O...</td>\n",
       "      <td>66, KV Road Amli, Opposite Vidhyut Bhavan  Sil...</td>\n",
       "      <td>2602632303</td>\n",
       "      <td>9824540765</td>\n",
       "      <td>dpo-dnh@nic.in</td>\n",
       "    </tr>\n",
       "  </tbody>\n",
       "</table>\n",
       "</div>"
      ],
      "text/plain": [
       "  Sr No.                  Name & Designation of Officer (S)  \\\n",
       "0      1  Dr. D. M. Dumralia, Development and planning O...   \n",
       "\n",
       "           Completed Postal- address (with PIN Code) Tel./Fax (Office)  \\\n",
       "0  66, KV Road Amli, Opposite Vidhyut Bhavan  Sil...        2602632303   \n",
       "\n",
       "       Mobile        E-mail ID  \n",
       "0  9824540765  dpo-dnh@nic.in   "
      ]
     },
     "execution_count": 29,
     "metadata": {},
     "output_type": "execute_result"
    }
   ],
   "source": [
    "dadra_nagar_3 = dadra_nagar.copy()\n",
    "dadra_nagar_3 = dadra_nagar_3.rename(columns = {'Unnamed: 1' : 'Sr No.', 'Unnamed: 2' : 'Name & Designation of Officer (S)', 'Unnamed: 3' : 'Completed Postal- address (with PIN Code)', 'Unnamed: 4' : 'Tel./Fax (Office)', 'Unnamed: 5' : 'Mobile', 'Unnamed: 6' : 'E-mail ID'})\n",
    "dadra_nagar_3 = dadra_nagar_3.iloc[62:, 1:]\n",
    "dadra_nagar_3 = dadra_nagar_3.reset_index(drop=True)\n",
    "dadra_nagar_3.head()"
   ]
  },
  {
   "cell_type": "markdown",
   "metadata": {},
   "source": [
    "**What's in this dataset?** <a class=\"anchor\" id=\"3\"></a>"
   ]
  },
  {
   "cell_type": "code",
   "execution_count": 30,
   "metadata": {},
   "outputs": [
    {
     "name": "stdout",
     "output_type": "stream",
     "text": [
      "DataFrame 1:\n",
      "Shape: (20, 6)\n",
      "Rows: 20\n",
      "Columns: 6\n",
      "Each row is the contact details of an elected head/ members of District Panchayat.\n",
      "\n",
      "\n",
      "DataFrame 2:\n",
      "Shape: (20, 6)\n",
      "Rows: 20\n",
      "Columns: 6\n",
      "Each row is the contact details of an elected head of Gram Panchayat/Village Panchayats.\n",
      "\n",
      "\n",
      "DataFrame 3:\n",
      "Shape: (1, 6)\n",
      "Rows: 1\n",
      "Columns: 6\n",
      "Each row is the contact details of a state-level Nodal Officer.\n"
     ]
    }
   ],
   "source": [
    "print(\"DataFrame 1:\")\n",
    "print(\"Shape:\", dadra_nagar_1.shape)\n",
    "print(\"Rows:\", dadra_nagar_1.shape[0])\n",
    "print(\"Columns:\", dadra_nagar_1.shape[1])\n",
    "print(\"Each row is the contact details of an elected head/ members of District Panchayat.\")\n",
    "print('\\n')\n",
    "print(\"DataFrame 2:\")\n",
    "print(\"Shape:\", dadra_nagar_2.shape)\n",
    "print(\"Rows:\", dadra_nagar_2.shape[0])\n",
    "print(\"Columns:\", dadra_nagar_2.shape[1])\n",
    "print(\"Each row is the contact details of an elected head of Gram Panchayat/Village Panchayats.\")\n",
    "print('\\n')\n",
    "print(\"DataFrame 3:\")\n",
    "print(\"Shape:\", dadra_nagar_3.shape)\n",
    "print(\"Rows:\", dadra_nagar_3.shape[0])\n",
    "print(\"Columns:\", dadra_nagar_3.shape[1])\n",
    "print(\"Each row is the contact details of a state-level Nodal Officer.\")"
   ]
  },
  {
   "cell_type": "markdown",
   "metadata": {},
   "source": [
    "**Codebook** <a class=\"anchor\" id=\"4\"></a>"
   ]
  },
  {
   "cell_type": "code",
   "execution_count": null,
   "metadata": {},
   "outputs": [],
   "source": []
  },
  {
   "cell_type": "code",
   "execution_count": 31,
   "metadata": {},
   "outputs": [
    {
     "name": "stdout",
     "output_type": "stream",
     "text": [
      "DataFrame 1 Codebook:\n"
     ]
    },
    {
     "data": {
      "text/html": [
       "<style  type=\"text/css\" >\n",
       "#T_4a6c2_row0_col1,#T_4a6c2_row1_col1,#T_4a6c2_row2_col1,#T_4a6c2_row3_col1,#T_4a6c2_row4_col1,#T_4a6c2_row5_col1{\n",
       "            width:  600px;\n",
       "        }</style><table id=\"T_4a6c2_\" ><thead>    <tr>        <th class=\"blank level0\" ></th>        <th class=\"col_heading level0 col0\" >Column Name</th>        <th class=\"col_heading level0 col1\" >Description</th>        <th class=\"col_heading level0 col2\" >Type</th>    </tr></thead><tbody>\n",
       "                <tr>\n",
       "                        <th id=\"T_4a6c2_level0_row0\" class=\"row_heading level0 row0\" >0</th>\n",
       "                        <td id=\"T_4a6c2_row0_col0\" class=\"data row0 col0\" >Sr No.</td>\n",
       "                        <td id=\"T_4a6c2_row0_col1\" class=\"data row0 col1\" >Number of elected head/ member of District Panchayat. Starts at 1 and goes up to 20.</td>\n",
       "                        <td id=\"T_4a6c2_row0_col2\" class=\"data row0 col2\" >object</td>\n",
       "            </tr>\n",
       "            <tr>\n",
       "                        <th id=\"T_4a6c2_level0_row1\" class=\"row_heading level0 row1\" >1</th>\n",
       "                        <td id=\"T_4a6c2_row1_col0\" class=\"data row1 col0\" >Name of District /Zila Parishad</td>\n",
       "                        <td id=\"T_4a6c2_row1_col1\" class=\"data row1 col1\" >The name of the district / Zila Parishad where the elected head / member resides.</td>\n",
       "                        <td id=\"T_4a6c2_row1_col2\" class=\"data row1 col2\" >object</td>\n",
       "            </tr>\n",
       "            <tr>\n",
       "                        <th id=\"T_4a6c2_level0_row2\" class=\"row_heading level0 row2\" >2</th>\n",
       "                        <td id=\"T_4a6c2_row2_col0\" class=\"data row2 col0\" >Name of President/Chairperson</td>\n",
       "                        <td id=\"T_4a6c2_row2_col1\" class=\"data row2 col1\" >Name of the President / Chairsperson.</td>\n",
       "                        <td id=\"T_4a6c2_row2_col2\" class=\"data row2 col2\" >object</td>\n",
       "            </tr>\n",
       "            <tr>\n",
       "                        <th id=\"T_4a6c2_level0_row3\" class=\"row_heading level0 row3\" >3</th>\n",
       "                        <td id=\"T_4a6c2_row3_col0\" class=\"data row3 col0\" >Completed Postal- address (with PIN Code)</td>\n",
       "                        <td id=\"T_4a6c2_row3_col1\" class=\"data row3 col1\" >Title does not relate to content of column. The column contains strings that all begin with \"Gram Panchayat,\" which is the name of a basic village governing democractic structed institute in Indian villages. The strings also each have the name of a village followed by \"Gram Panchayat\".</td>\n",
       "                        <td id=\"T_4a6c2_row3_col2\" class=\"data row3 col2\" >object</td>\n",
       "            </tr>\n",
       "            <tr>\n",
       "                        <th id=\"T_4a6c2_level0_row4\" class=\"row_heading level0 row4\" >4</th>\n",
       "                        <td id=\"T_4a6c2_row4_col0\" class=\"data row4 col0\" >Mobile</td>\n",
       "                        <td id=\"T_4a6c2_row4_col1\" class=\"data row4 col1\" >Mobile phone number of the president / chairperson.</td>\n",
       "                        <td id=\"T_4a6c2_row4_col2\" class=\"data row4 col2\" >object</td>\n",
       "            </tr>\n",
       "            <tr>\n",
       "                        <th id=\"T_4a6c2_level0_row5\" class=\"row_heading level0 row5\" >5</th>\n",
       "                        <td id=\"T_4a6c2_row5_col0\" class=\"data row5 col0\" >E-mail ID</td>\n",
       "                        <td id=\"T_4a6c2_row5_col1\" class=\"data row5 col1\" >Email address of the president / chairperson.</td>\n",
       "                        <td id=\"T_4a6c2_row5_col2\" class=\"data row5 col2\" >object</td>\n",
       "            </tr>\n",
       "    </tbody></table>"
      ],
      "text/plain": [
       "<pandas.io.formats.style.Styler at 0x1221bc1c0>"
      ]
     },
     "execution_count": 31,
     "metadata": {},
     "output_type": "execute_result"
    }
   ],
   "source": [
    "print(\"DataFrame 1 Codebook:\")\n",
    "dadra_nagar_1_columns = [column for column in dadra_nagar_1.columns]\n",
    "dadra_nagar_1_description = [\"Number of elected head/ member of District Panchayat. Starts at 1 and goes up to 20.\",\n",
    "                            \"The name of the district / Zila Parishad where the elected head / member resides.\",\n",
    "                            \"Name of the President / Chairsperson.\",\n",
    "                            'Title does not relate to content of column. The column contains strings that all begin with \"Gram Panchayat,\" which is the name of a basic village governing democractic structed institute in Indian villages. The strings also each have the name of a village followed by \"Gram Panchayat\".',\n",
    "                            \"Mobile phone number of the president / chairperson.\",\n",
    "                            \"Email address of the president / chairperson.\"]\n",
    "dadra_nagar_1_dtypes = [dtype for dtype in dadra_nagar_1.dtypes]\n",
    "\n",
    "data_1 = {\"Column Name\": dadra_nagar_1_columns, \"Description\": dadra_nagar_1_description, \"Type\": dadra_nagar_1_dtypes}\n",
    "dadra_nagar_1_codebook = pd.DataFrame(data_1)\n",
    "dadra_nagar_1_codebook.style.set_properties(subset=['Description'], **{'width': '600px'})"
   ]
  },
  {
   "cell_type": "code",
   "execution_count": 32,
   "metadata": {},
   "outputs": [
    {
     "name": "stdout",
     "output_type": "stream",
     "text": [
      "DataFrame 2 Codebook:\n"
     ]
    },
    {
     "data": {
      "text/html": [
       "<style  type=\"text/css\" >\n",
       "#T_cae74_row0_col1,#T_cae74_row1_col1,#T_cae74_row2_col1,#T_cae74_row3_col1,#T_cae74_row4_col1,#T_cae74_row5_col1{\n",
       "            width:  600px;\n",
       "        }</style><table id=\"T_cae74_\" ><thead>    <tr>        <th class=\"blank level0\" ></th>        <th class=\"col_heading level0 col0\" >Column Name</th>        <th class=\"col_heading level0 col1\" >Description</th>        <th class=\"col_heading level0 col2\" >Type</th>    </tr></thead><tbody>\n",
       "                <tr>\n",
       "                        <th id=\"T_cae74_level0_row0\" class=\"row_heading level0 row0\" >0</th>\n",
       "                        <td id=\"T_cae74_row0_col0\" class=\"data row0 col0\" >Sr No.</td>\n",
       "                        <td id=\"T_cae74_row0_col1\" class=\"data row0 col1\" >Number of elected head of Gram Panchayat / Village Panchayats. Starts at 1 and goes up to 20.</td>\n",
       "                        <td id=\"T_cae74_row0_col2\" class=\"data row0 col2\" >object</td>\n",
       "            </tr>\n",
       "            <tr>\n",
       "                        <th id=\"T_cae74_level0_row1\" class=\"row_heading level0 row1\" >1</th>\n",
       "                        <td id=\"T_cae74_row1_col0\" class=\"data row1 col0\" >Name of Gram Panchayat/Village Panchayat</td>\n",
       "                        <td id=\"T_cae74_row1_col1\" class=\"data row1 col1\" >The name of the village the elected head resides in.</td>\n",
       "                        <td id=\"T_cae74_row1_col2\" class=\"data row1 col2\" >object</td>\n",
       "            </tr>\n",
       "            <tr>\n",
       "                        <th id=\"T_cae74_level0_row2\" class=\"row_heading level0 row2\" >2</th>\n",
       "                        <td id=\"T_cae74_row2_col0\" class=\"data row2 col0\" >Name of Sarpanch/Mukhiya/President</td>\n",
       "                        <td id=\"T_cae74_row2_col1\" class=\"data row2 col1\" >Name of the Sarpanch / Mukhiya / President.</td>\n",
       "                        <td id=\"T_cae74_row2_col2\" class=\"data row2 col2\" >object</td>\n",
       "            </tr>\n",
       "            <tr>\n",
       "                        <th id=\"T_cae74_level0_row3\" class=\"row_heading level0 row3\" >3</th>\n",
       "                        <td id=\"T_cae74_row3_col0\" class=\"data row3 col0\" >Completed Postal- address (with PIN Code)</td>\n",
       "                        <td id=\"T_cae74_row3_col1\" class=\"data row3 col1\" >Title does not relate to content of column. The column contains strings that all begin with \"Gram Panchayat,\" which is the name of a basic village governing democractic structed institute in Indian villages. The strings also each have the name of the village from the second column followed by \"Gram Panchayat\".</td>\n",
       "                        <td id=\"T_cae74_row3_col2\" class=\"data row3 col2\" >object</td>\n",
       "            </tr>\n",
       "            <tr>\n",
       "                        <th id=\"T_cae74_level0_row4\" class=\"row_heading level0 row4\" >4</th>\n",
       "                        <td id=\"T_cae74_row4_col0\" class=\"data row4 col0\" >Mobile</td>\n",
       "                        <td id=\"T_cae74_row4_col1\" class=\"data row4 col1\" >Mobile phone number of the elected head.</td>\n",
       "                        <td id=\"T_cae74_row4_col2\" class=\"data row4 col2\" >object</td>\n",
       "            </tr>\n",
       "            <tr>\n",
       "                        <th id=\"T_cae74_level0_row5\" class=\"row_heading level0 row5\" >5</th>\n",
       "                        <td id=\"T_cae74_row5_col0\" class=\"data row5 col0\" >E-mail ID</td>\n",
       "                        <td id=\"T_cae74_row5_col1\" class=\"data row5 col1\" >Email address of the elected head.</td>\n",
       "                        <td id=\"T_cae74_row5_col2\" class=\"data row5 col2\" >object</td>\n",
       "            </tr>\n",
       "    </tbody></table>"
      ],
      "text/plain": [
       "<pandas.io.formats.style.Styler at 0x1213434f0>"
      ]
     },
     "execution_count": 32,
     "metadata": {},
     "output_type": "execute_result"
    }
   ],
   "source": [
    "print(\"DataFrame 2 Codebook:\")\n",
    "dadra_nagar_2_columns = [column for column in dadra_nagar_2.columns]\n",
    "dadra_nagar_2_description = [\"Number of elected head of Gram Panchayat / Village Panchayats. Starts at 1 and goes up to 20.\",\n",
    "                            \"The name of the village the elected head resides in.\",\n",
    "                            \"Name of the Sarpanch / Mukhiya / President.\",\n",
    "                            'Title does not relate to content of column. The column contains strings that all begin with \"Gram Panchayat,\" which is the name of a basic village governing democractic structed institute in Indian villages. The strings also each have the name of the village from the second column followed by \"Gram Panchayat\".',\n",
    "                            \"Mobile phone number of the elected head.\",\n",
    "                            \"Email address of the elected head.\"]\n",
    "dadra_nagar_2_dtypes = [dtype for dtype in dadra_nagar_2.dtypes]\n",
    "\n",
    "data_2 = {\"Column Name\": dadra_nagar_2_columns, \"Description\": dadra_nagar_2_description, \"Type\": dadra_nagar_2_dtypes}\n",
    "dadra_nagar_2_codebook = pd.DataFrame(data_2)\n",
    "dadra_nagar_2_codebook.style.set_properties(subset=['Description'], **{'width': '600px'})"
   ]
  },
  {
   "cell_type": "code",
   "execution_count": 117,
   "metadata": {},
   "outputs": [
    {
     "name": "stdout",
     "output_type": "stream",
     "text": [
      "DataFrame 3 Codebook:\n"
     ]
    },
    {
     "data": {
      "text/html": [
       "<style  type=\"text/css\" >\n",
       "#T_1cb08_row0_col1,#T_1cb08_row1_col1,#T_1cb08_row2_col1,#T_1cb08_row3_col1,#T_1cb08_row4_col1,#T_1cb08_row5_col1{\n",
       "            width:  600px;\n",
       "        }</style><table id=\"T_1cb08_\" ><thead>    <tr>        <th class=\"blank level0\" ></th>        <th class=\"col_heading level0 col0\" >Column Name</th>        <th class=\"col_heading level0 col1\" >Description</th>        <th class=\"col_heading level0 col2\" >Type</th>    </tr></thead><tbody>\n",
       "                <tr>\n",
       "                        <th id=\"T_1cb08_level0_row0\" class=\"row_heading level0 row0\" >0</th>\n",
       "                        <td id=\"T_1cb08_row0_col0\" class=\"data row0 col0\" >Sr No.</td>\n",
       "                        <td id=\"T_1cb08_row0_col1\" class=\"data row0 col1\" >Number of state-level nodel officer. Starts at 1 and only contains that single row.</td>\n",
       "                        <td id=\"T_1cb08_row0_col2\" class=\"data row0 col2\" >object</td>\n",
       "            </tr>\n",
       "            <tr>\n",
       "                        <th id=\"T_1cb08_level0_row1\" class=\"row_heading level0 row1\" >1</th>\n",
       "                        <td id=\"T_1cb08_row1_col0\" class=\"data row1 col0\" >Name & Designation of Officer (S)</td>\n",
       "                        <td id=\"T_1cb08_row1_col1\" class=\"data row1 col1\" >The name and title of the officer.</td>\n",
       "                        <td id=\"T_1cb08_row1_col2\" class=\"data row1 col2\" >object</td>\n",
       "            </tr>\n",
       "            <tr>\n",
       "                        <th id=\"T_1cb08_level0_row2\" class=\"row_heading level0 row2\" >2</th>\n",
       "                        <td id=\"T_1cb08_row2_col0\" class=\"data row2 col0\" >Completed Postal- address (with PIN Code)</td>\n",
       "                        <td id=\"T_1cb08_row2_col1\" class=\"data row2 col1\" >The postal address, including PIN Code, of the officer.</td>\n",
       "                        <td id=\"T_1cb08_row2_col2\" class=\"data row2 col2\" >object</td>\n",
       "            </tr>\n",
       "            <tr>\n",
       "                        <th id=\"T_1cb08_level0_row3\" class=\"row_heading level0 row3\" >3</th>\n",
       "                        <td id=\"T_1cb08_row3_col0\" class=\"data row3 col0\" >Tel./Fax (Office)</td>\n",
       "                        <td id=\"T_1cb08_row3_col1\" class=\"data row3 col1\" >Telephone / Fax number of the office of the officer.</td>\n",
       "                        <td id=\"T_1cb08_row3_col2\" class=\"data row3 col2\" >object</td>\n",
       "            </tr>\n",
       "            <tr>\n",
       "                        <th id=\"T_1cb08_level0_row4\" class=\"row_heading level0 row4\" >4</th>\n",
       "                        <td id=\"T_1cb08_row4_col0\" class=\"data row4 col0\" >Mobile</td>\n",
       "                        <td id=\"T_1cb08_row4_col1\" class=\"data row4 col1\" >Mobile phone number of the officer.</td>\n",
       "                        <td id=\"T_1cb08_row4_col2\" class=\"data row4 col2\" >object</td>\n",
       "            </tr>\n",
       "            <tr>\n",
       "                        <th id=\"T_1cb08_level0_row5\" class=\"row_heading level0 row5\" >5</th>\n",
       "                        <td id=\"T_1cb08_row5_col0\" class=\"data row5 col0\" >E-mail ID</td>\n",
       "                        <td id=\"T_1cb08_row5_col1\" class=\"data row5 col1\" >Email address of the officer.</td>\n",
       "                        <td id=\"T_1cb08_row5_col2\" class=\"data row5 col2\" >object</td>\n",
       "            </tr>\n",
       "    </tbody></table>"
      ],
      "text/plain": [
       "<pandas.io.formats.style.Styler at 0x123a57af0>"
      ]
     },
     "execution_count": 117,
     "metadata": {},
     "output_type": "execute_result"
    }
   ],
   "source": [
    "print(\"DataFrame 3 Codebook:\")\n",
    "dadra_nagar_3_columns = [column for column in dadra_nagar_3.columns]\n",
    "dadra_nagar_3_description = [\"Number of state-level nodel officer. Starts at 1 and only contains that single row.\",\n",
    "                            \"The name and title of the officer.\",\n",
    "                            \"The postal address, including PIN Code, of the officer.\",\n",
    "                            \"Telephone / Fax number of the office of the officer.\",\n",
    "                            \"Mobile phone number of the officer.\",\n",
    "                            \"Email address of the officer.\"]\n",
    "dadra_nagar_3_dtypes = [dtype for dtype in dadra_nagar_3.dtypes]\n",
    "\n",
    "data_3 = {\"Column Name\": dadra_nagar_3_columns, \"Description\": dadra_nagar_3_description, \"Type\": dadra_nagar_3_dtypes}\n",
    "dadra_nagar_3_codebook = pd.DataFrame(data_3)\n",
    "dadra_nagar_3_codebook.style.set_properties(subset=['Description'], **{'width': '600px'})"
   ]
  },
  {
   "cell_type": "markdown",
   "metadata": {},
   "source": [
    "**Missing values** <a class=\"anchor\" id=\"4.1\"></a>"
   ]
  },
  {
   "cell_type": "code",
   "execution_count": 34,
   "metadata": {},
   "outputs": [
    {
     "data": {
      "text/plain": [
       "Sr No.                                        0\n",
       "Name of District /Zila Parishad              17\n",
       "Name of President/Chairperson                 0\n",
       "Completed Postal- address (with PIN Code)     2\n",
       "Mobile                                        0\n",
       "E-mail ID                                     0\n",
       "dtype: int64"
      ]
     },
     "execution_count": 34,
     "metadata": {},
     "output_type": "execute_result"
    }
   ],
   "source": [
    "dadra_nagar_1.isnull().sum()"
   ]
  },
  {
   "cell_type": "code",
   "execution_count": 35,
   "metadata": {},
   "outputs": [
    {
     "data": {
      "text/plain": [
       "Sr No.                                       0\n",
       "Name of Gram Panchayat/Village Panchayat     0\n",
       "Name of Sarpanch/Mukhiya/President           0\n",
       "Completed Postal- address (with PIN Code)    0\n",
       "Mobile                                       0\n",
       "E-mail ID                                    0\n",
       "dtype: int64"
      ]
     },
     "execution_count": 35,
     "metadata": {},
     "output_type": "execute_result"
    }
   ],
   "source": [
    "dadra_nagar_2.isnull().sum()"
   ]
  },
  {
   "cell_type": "code",
   "execution_count": 36,
   "metadata": {},
   "outputs": [
    {
     "data": {
      "text/plain": [
       "Sr No.                                       0\n",
       "Name & Designation of Officer (S)            0\n",
       "Completed Postal- address (with PIN Code)    0\n",
       "Tel./Fax (Office)                            0\n",
       "Mobile                                       0\n",
       "E-mail ID                                    0\n",
       "dtype: int64"
      ]
     },
     "execution_count": 36,
     "metadata": {},
     "output_type": "execute_result"
    }
   ],
   "source": [
    "dadra_nagar_3.isnull().sum()"
   ]
  },
  {
   "cell_type": "markdown",
   "metadata": {},
   "source": [
    "**Summary statistics** <a class=\"anchor\" id=\"4.2\"></a>"
   ]
  },
  {
   "cell_type": "code",
   "execution_count": 37,
   "metadata": {
    "scrolled": true
   },
   "outputs": [
    {
     "data": {
      "text/html": [
       "<div>\n",
       "<style scoped>\n",
       "    .dataframe tbody tr th:only-of-type {\n",
       "        vertical-align: middle;\n",
       "    }\n",
       "\n",
       "    .dataframe tbody tr th {\n",
       "        vertical-align: top;\n",
       "    }\n",
       "\n",
       "    .dataframe thead th {\n",
       "        text-align: right;\n",
       "    }\n",
       "</style>\n",
       "<table border=\"1\" class=\"dataframe\">\n",
       "  <thead>\n",
       "    <tr style=\"text-align: right;\">\n",
       "      <th></th>\n",
       "      <th>Sr No.</th>\n",
       "      <th>Name of District /Zila Parishad</th>\n",
       "      <th>Name of President/Chairperson</th>\n",
       "      <th>Completed Postal- address (with PIN Code)</th>\n",
       "      <th>Mobile</th>\n",
       "      <th>E-mail ID</th>\n",
       "    </tr>\n",
       "  </thead>\n",
       "  <tbody>\n",
       "    <tr>\n",
       "      <th>count</th>\n",
       "      <td>20</td>\n",
       "      <td>3</td>\n",
       "      <td>20</td>\n",
       "      <td>18</td>\n",
       "      <td>20</td>\n",
       "      <td>20</td>\n",
       "    </tr>\n",
       "    <tr>\n",
       "      <th>unique</th>\n",
       "      <td>20</td>\n",
       "      <td>3</td>\n",
       "      <td>20</td>\n",
       "      <td>18</td>\n",
       "      <td>19</td>\n",
       "      <td>1</td>\n",
       "    </tr>\n",
       "    <tr>\n",
       "      <th>top</th>\n",
       "      <td>1</td>\n",
       "      <td>Silvassa</td>\n",
       "      <td>Shri Rajeshbhai  Ranabhai Patel</td>\n",
       "      <td>Gram Panchayat Galonda</td>\n",
       "      <td>9824252100</td>\n",
       "      <td>dpo-dnh@nic.in</td>\n",
       "    </tr>\n",
       "    <tr>\n",
       "      <th>freq</th>\n",
       "      <td>1</td>\n",
       "      <td>1</td>\n",
       "      <td>1</td>\n",
       "      <td>1</td>\n",
       "      <td>2</td>\n",
       "      <td>20</td>\n",
       "    </tr>\n",
       "  </tbody>\n",
       "</table>\n",
       "</div>"
      ],
      "text/plain": [
       "        Sr No. Name of District /Zila Parishad  \\\n",
       "count       20                               3   \n",
       "unique      20                               3   \n",
       "top          1                        Silvassa   \n",
       "freq         1                               1   \n",
       "\n",
       "          Name of President/Chairperson  \\\n",
       "count                                20   \n",
       "unique                               20   \n",
       "top     Shri Rajeshbhai  Ranabhai Patel   \n",
       "freq                                  1   \n",
       "\n",
       "       Completed Postal- address (with PIN Code)      Mobile       E-mail ID  \n",
       "count                                         18          20              20  \n",
       "unique                                        18          19               1  \n",
       "top                       Gram Panchayat Galonda  9824252100  dpo-dnh@nic.in  \n",
       "freq                                           1           2              20  "
      ]
     },
     "execution_count": 37,
     "metadata": {},
     "output_type": "execute_result"
    }
   ],
   "source": [
    "dadra_nagar_1.describe()"
   ]
  },
  {
   "cell_type": "code",
   "execution_count": 38,
   "metadata": {},
   "outputs": [
    {
     "data": {
      "text/html": [
       "<div>\n",
       "<style scoped>\n",
       "    .dataframe tbody tr th:only-of-type {\n",
       "        vertical-align: middle;\n",
       "    }\n",
       "\n",
       "    .dataframe tbody tr th {\n",
       "        vertical-align: top;\n",
       "    }\n",
       "\n",
       "    .dataframe thead th {\n",
       "        text-align: right;\n",
       "    }\n",
       "</style>\n",
       "<table border=\"1\" class=\"dataframe\">\n",
       "  <thead>\n",
       "    <tr style=\"text-align: right;\">\n",
       "      <th></th>\n",
       "      <th>Sr No.</th>\n",
       "      <th>Name of Gram Panchayat/Village Panchayat</th>\n",
       "      <th>Name of Sarpanch/Mukhiya/President</th>\n",
       "      <th>Completed Postal- address (with PIN Code)</th>\n",
       "      <th>Mobile</th>\n",
       "      <th>E-mail ID</th>\n",
       "    </tr>\n",
       "  </thead>\n",
       "  <tbody>\n",
       "    <tr>\n",
       "      <th>count</th>\n",
       "      <td>20</td>\n",
       "      <td>20</td>\n",
       "      <td>20</td>\n",
       "      <td>20</td>\n",
       "      <td>20</td>\n",
       "      <td>20</td>\n",
       "    </tr>\n",
       "    <tr>\n",
       "      <th>unique</th>\n",
       "      <td>20</td>\n",
       "      <td>20</td>\n",
       "      <td>20</td>\n",
       "      <td>20</td>\n",
       "      <td>20</td>\n",
       "      <td>1</td>\n",
       "    </tr>\n",
       "    <tr>\n",
       "      <th>top</th>\n",
       "      <td>1</td>\n",
       "      <td>Rakholi</td>\n",
       "      <td>Shri Radiya Patadiya Katya</td>\n",
       "      <td>Gram Panchayat Galonda</td>\n",
       "      <td>9824403392</td>\n",
       "      <td>dpo-dnh@nic.in</td>\n",
       "    </tr>\n",
       "    <tr>\n",
       "      <th>freq</th>\n",
       "      <td>1</td>\n",
       "      <td>1</td>\n",
       "      <td>1</td>\n",
       "      <td>1</td>\n",
       "      <td>1</td>\n",
       "      <td>20</td>\n",
       "    </tr>\n",
       "  </tbody>\n",
       "</table>\n",
       "</div>"
      ],
      "text/plain": [
       "        Sr No. Name of Gram Panchayat/Village Panchayat  \\\n",
       "count       20                                       20   \n",
       "unique      20                                       20   \n",
       "top          1                                  Rakholi   \n",
       "freq         1                                        1   \n",
       "\n",
       "       Name of Sarpanch/Mukhiya/President  \\\n",
       "count                                  20   \n",
       "unique                                 20   \n",
       "top            Shri Radiya Patadiya Katya   \n",
       "freq                                    1   \n",
       "\n",
       "       Completed Postal- address (with PIN Code)      Mobile        E-mail ID  \n",
       "count                                         20          20               20  \n",
       "unique                                        20          20                1  \n",
       "top                       Gram Panchayat Galonda  9824403392  dpo-dnh@nic.in   \n",
       "freq                                           1           1               20  "
      ]
     },
     "execution_count": 38,
     "metadata": {},
     "output_type": "execute_result"
    }
   ],
   "source": [
    "dadra_nagar_2.describe()"
   ]
  },
  {
   "cell_type": "code",
   "execution_count": 39,
   "metadata": {},
   "outputs": [
    {
     "data": {
      "text/html": [
       "<div>\n",
       "<style scoped>\n",
       "    .dataframe tbody tr th:only-of-type {\n",
       "        vertical-align: middle;\n",
       "    }\n",
       "\n",
       "    .dataframe tbody tr th {\n",
       "        vertical-align: top;\n",
       "    }\n",
       "\n",
       "    .dataframe thead th {\n",
       "        text-align: right;\n",
       "    }\n",
       "</style>\n",
       "<table border=\"1\" class=\"dataframe\">\n",
       "  <thead>\n",
       "    <tr style=\"text-align: right;\">\n",
       "      <th></th>\n",
       "      <th>Sr No.</th>\n",
       "      <th>Name &amp; Designation of Officer (S)</th>\n",
       "      <th>Completed Postal- address (with PIN Code)</th>\n",
       "      <th>Tel./Fax (Office)</th>\n",
       "      <th>Mobile</th>\n",
       "      <th>E-mail ID</th>\n",
       "    </tr>\n",
       "  </thead>\n",
       "  <tbody>\n",
       "    <tr>\n",
       "      <th>count</th>\n",
       "      <td>1</td>\n",
       "      <td>1</td>\n",
       "      <td>1</td>\n",
       "      <td>1</td>\n",
       "      <td>1</td>\n",
       "      <td>1</td>\n",
       "    </tr>\n",
       "    <tr>\n",
       "      <th>unique</th>\n",
       "      <td>1</td>\n",
       "      <td>1</td>\n",
       "      <td>1</td>\n",
       "      <td>1</td>\n",
       "      <td>1</td>\n",
       "      <td>1</td>\n",
       "    </tr>\n",
       "    <tr>\n",
       "      <th>top</th>\n",
       "      <td>1</td>\n",
       "      <td>Dr. D. M. Dumralia, Development and planning O...</td>\n",
       "      <td>66, KV Road Amli, Opposite Vidhyut Bhavan  Sil...</td>\n",
       "      <td>2602632303</td>\n",
       "      <td>9824540765</td>\n",
       "      <td>dpo-dnh@nic.in</td>\n",
       "    </tr>\n",
       "    <tr>\n",
       "      <th>freq</th>\n",
       "      <td>1</td>\n",
       "      <td>1</td>\n",
       "      <td>1</td>\n",
       "      <td>1</td>\n",
       "      <td>1</td>\n",
       "      <td>1</td>\n",
       "    </tr>\n",
       "  </tbody>\n",
       "</table>\n",
       "</div>"
      ],
      "text/plain": [
       "        Sr No.                  Name & Designation of Officer (S)  \\\n",
       "count        1                                                  1   \n",
       "unique       1                                                  1   \n",
       "top          1  Dr. D. M. Dumralia, Development and planning O...   \n",
       "freq         1                                                  1   \n",
       "\n",
       "                Completed Postal- address (with PIN Code)  Tel./Fax (Office)  \\\n",
       "count                                                   1                  1   \n",
       "unique                                                  1                  1   \n",
       "top     66, KV Road Amli, Opposite Vidhyut Bhavan  Sil...         2602632303   \n",
       "freq                                                    1                  1   \n",
       "\n",
       "            Mobile        E-mail ID  \n",
       "count            1                1  \n",
       "unique           1                1  \n",
       "top     9824540765  dpo-dnh@nic.in   \n",
       "freq             1                1  "
      ]
     },
     "execution_count": 39,
     "metadata": {},
     "output_type": "execute_result"
    }
   ],
   "source": [
    "dadra_nagar_3.describe()"
   ]
  },
  {
   "cell_type": "markdown",
   "metadata": {},
   "source": [
    "## Columns\n",
    "<a class=\"anchor\" id=\"5\"></a>"
   ]
  },
  {
   "cell_type": "markdown",
   "metadata": {},
   "source": [
    "### DataFrame 1\n",
    "<a class=\"anchor\" id=\"5.1\"></a>\n",
    "DataFrame 1 contains the contact details of elected heads and members of district Panchayat. "
   ]
  },
  {
   "cell_type": "markdown",
   "metadata": {},
   "source": [
    "### Sr No.\n",
    "<a class=\"anchor\" id=\"5.1.1\"></a>\n",
    "Number of elected head or member of District Panchayat. Starts at 1 and goes up to 20."
   ]
  },
  {
   "cell_type": "code",
   "execution_count": 40,
   "metadata": {},
   "outputs": [
    {
     "data": {
      "text/plain": [
       "0      1\n",
       "1      2\n",
       "2      3\n",
       "3      4\n",
       "4      5\n",
       "5      6\n",
       "6      7\n",
       "7      8\n",
       "8      9\n",
       "9     10\n",
       "10    11\n",
       "11    12\n",
       "12    13\n",
       "13    14\n",
       "14    15\n",
       "15    16\n",
       "16    17\n",
       "17    18\n",
       "18    19\n",
       "19    20\n",
       "Name: Sr No., dtype: object"
      ]
     },
     "execution_count": 40,
     "metadata": {},
     "output_type": "execute_result"
    }
   ],
   "source": [
    "column = dadra_nagar_1[\"Sr No.\"]\n",
    "column"
   ]
  },
  {
   "cell_type": "code",
   "execution_count": 41,
   "metadata": {},
   "outputs": [
    {
     "name": "stdout",
     "output_type": "stream",
     "text": [
      "No. of unique values: 20\n",
      "Duplicates: {}\n"
     ]
    }
   ],
   "source": [
    "print(\"No. of unique values:\", len(column.unique()))\n",
    "counter = dict(Counter(column))\n",
    "duplicates = {key:value for key, value in counter.items() if value > 1}\n",
    "print(\"Duplicates:\", duplicates)"
   ]
  },
  {
   "cell_type": "markdown",
   "metadata": {},
   "source": [
    "### Name of District / Zila Parishad\n",
    "<a class=\"anchor\" id=\"5.1.2\"></a>\n",
    "The name of the district / Zila Parishad where the elected head / member resides."
   ]
  },
  {
   "cell_type": "code",
   "execution_count": 42,
   "metadata": {},
   "outputs": [
    {
     "data": {
      "text/plain": [
       "0         District Panchayat\n",
       "1     Dadra and Nagar Haveli\n",
       "2                   Silvassa\n",
       "3                        NaN\n",
       "4                        NaN\n",
       "5                        NaN\n",
       "6                        NaN\n",
       "7                        NaN\n",
       "8                        NaN\n",
       "9                        NaN\n",
       "10                       NaN\n",
       "11                       NaN\n",
       "12                       NaN\n",
       "13                       NaN\n",
       "14                       NaN\n",
       "15                       NaN\n",
       "16                       NaN\n",
       "17                       NaN\n",
       "18                       NaN\n",
       "19                       NaN\n",
       "Name: Name of District /Zila Parishad, dtype: object"
      ]
     },
     "execution_count": 42,
     "metadata": {},
     "output_type": "execute_result"
    }
   ],
   "source": [
    "column = dadra_nagar_1[\"Name of District /Zila Parishad\"]\n",
    "column"
   ]
  },
  {
   "cell_type": "code",
   "execution_count": 43,
   "metadata": {},
   "outputs": [
    {
     "name": "stdout",
     "output_type": "stream",
     "text": [
      "No. of unique values: 4\n",
      "Duplicates: {nan: 17}\n"
     ]
    }
   ],
   "source": [
    "print(\"No. of unique values:\", len(column.unique()))\n",
    "counter = dict(Counter(column))\n",
    "duplicates = {key:value for key, value in counter.items() if value > 1}\n",
    "print(\"Duplicates:\", duplicates)"
   ]
  },
  {
   "cell_type": "markdown",
   "metadata": {},
   "source": [
    "### Name of President/Chairperson\n",
    "<a class=\"anchor\" id=\"5.1.3\"></a>"
   ]
  },
  {
   "cell_type": "code",
   "execution_count": 44,
   "metadata": {},
   "outputs": [
    {
     "data": {
      "text/plain": [
       "0         Shri Kakva Ramanbhai Devjibhai, President, DP\n",
       "1     Shri Gavit Maheshbhai Chimanbhai, Vice-Preside...\n",
       "2                        Smt. Patel Jigishaben Hitendra\n",
       "3                        Smt. Patel Jashodaben Ravindra\n",
       "4                       Shri Vartha Sumanbhai Raghubhai\n",
       "5                       Shri Ghughsa Dilipbhai Lalabhai\n",
       "6                   Shri Madha Jatariyabhai Budhiyabhai\n",
       "7                       Shri Rajeshbhai  Ranabhai Patel\n",
       "8                      Shri Patel Pravinbhai Raviyabhai\n",
       "9                      Smt. Patel Chandanben Dineshbhai\n",
       "10                    Shri Vartha Vishnubhai Dharmabhai\n",
       "11                      Smt. Hadal Sangitaben Rupjibhai\n",
       "12                            Shri Dhodhde Sante Mahiya\n",
       "13                       Smt.Ghutiya Vanitaben Yashwant\n",
       "14                Smt. Kharpadiya Shitalben  Sanjaybhai\n",
       "15                       Smt.Shetty Rajniben Govindbhai\n",
       "16                      Shri Bhimra Bhikubhai Vansabhai\n",
       "17                       Shri Gond Ashaben Shaileshbhai\n",
       "18                        Smt.Tokre Nirmlaben tulasiram\n",
       "19                    Shri  Halpati Bhartiben Udaybhai \n",
       "Name: Name of President/Chairperson, dtype: object"
      ]
     },
     "execution_count": 44,
     "metadata": {},
     "output_type": "execute_result"
    }
   ],
   "source": [
    "column = dadra_nagar_1[\"Name of President/Chairperson\"]\n",
    "column"
   ]
  },
  {
   "cell_type": "code",
   "execution_count": 50,
   "metadata": {},
   "outputs": [
    {
     "name": "stdout",
     "output_type": "stream",
     "text": [
      "No. of unique values: 20\n",
      "Duplicates: {}\n"
     ]
    }
   ],
   "source": [
    "print(\"No. of unique values:\", len(column.unique()))\n",
    "counter = dict(Counter(column))\n",
    "duplicates = {key:value for key, value in counter.items() if value > 1}\n",
    "print(\"Duplicates:\", duplicates)"
   ]
  },
  {
   "cell_type": "code",
   "execution_count": 56,
   "metadata": {},
   "outputs": [
    {
     "data": {
      "text/html": [
       "<div>\n",
       "<style scoped>\n",
       "    .dataframe tbody tr th:only-of-type {\n",
       "        vertical-align: middle;\n",
       "    }\n",
       "\n",
       "    .dataframe tbody tr th {\n",
       "        vertical-align: top;\n",
       "    }\n",
       "\n",
       "    .dataframe thead th {\n",
       "        text-align: right;\n",
       "    }\n",
       "</style>\n",
       "<table border=\"1\" class=\"dataframe\">\n",
       "  <thead>\n",
       "    <tr style=\"text-align: right;\">\n",
       "      <th></th>\n",
       "      <th>Title of President / Chairperson</th>\n",
       "      <th>Gender</th>\n",
       "      <th>Count</th>\n",
       "    </tr>\n",
       "  </thead>\n",
       "  <tbody>\n",
       "    <tr>\n",
       "      <th>0</th>\n",
       "      <td>Shri</td>\n",
       "      <td>Men</td>\n",
       "      <td>12</td>\n",
       "    </tr>\n",
       "    <tr>\n",
       "      <th>1</th>\n",
       "      <td>Smt</td>\n",
       "      <td>Women</td>\n",
       "      <td>8</td>\n",
       "    </tr>\n",
       "  </tbody>\n",
       "</table>\n",
       "</div>"
      ],
      "text/plain": [
       "  Title of President / Chairperson Gender  Count\n",
       "0                             Shri    Men     12\n",
       "1                              Smt  Women      8"
      ]
     },
     "execution_count": 56,
     "metadata": {},
     "output_type": "execute_result"
    }
   ],
   "source": [
    "#Show how many Elected Officials are male and female\n",
    "names = np.array(column)\n",
    "man = 0\n",
    "woman = 0\n",
    "for name in names:\n",
    "    title = str(name)[:3]\n",
    "    if (title.__eq__('Shr')):\n",
    "        man += 1\n",
    "    else:\n",
    "        woman += 1\n",
    "\n",
    "genders = pd.DataFrame(data = {'Title of President / Chairperson' : ['Shri', 'Smt'], \n",
    "                               'Gender' : ['Men', 'Women'], \n",
    "                               'Count' : [man, woman]})\n",
    "genders"
   ]
  },
  {
   "cell_type": "code",
   "execution_count": 57,
   "metadata": {},
   "outputs": [
    {
     "data": {
      "image/png": "[encoded data removed]",
      "text/plain": [
       "<Figure size 432x288 with 1 Axes>"
      ]
     },
     "metadata": {
      "needs_background": "light"
     },
     "output_type": "display_data"
    }
   ],
   "source": [
    "# Plot number of men and women\n",
    "plt.bar(genders[\"Gender\"], genders[\"Count\"])\n",
    "plt.title(\"Number of Men vs Women that are Presidents / Chairpersons\")\n",
    "plt.xlabel(\"Gender\")\n",
    "plt.ylabel('Count')\n",
    "plt.xticks(rotation = 90)\n",
    "plt.show()"
   ]
  },
  {
   "cell_type": "markdown",
   "metadata": {},
   "source": [
    "### Completed Postal- address (with PIN Code)\n",
    "<a class=\"anchor\" id=\"5.1.4\"></a>\n",
    "Title does not relate to content of column. The column contains strings that all begin with \"Gram Panchayat,\" which is the name of a basic village governing democractic structed institute in Indian villages. The strings also each have the name of a village followed by \"Gram Panchayat\"."
   ]
  },
  {
   "cell_type": "code",
   "execution_count": 58,
   "metadata": {},
   "outputs": [
    {
     "data": {
      "text/plain": [
       "0                           NaN\n",
       "1                           NaN\n",
       "2         Gram Panchayat Naroli\n",
       "3     Gram Panchayat Kharadpada\n",
       "4        Gram Panchayat Galonda\n",
       "5        Gram Panchayat Kilvani\n",
       "6         Gram Panchayat Randha\n",
       "7     Gram Panchayat Samarvarni\n",
       "8          Gram Panchayat Masat\n",
       "9        Gram Panchayat Rakholi\n",
       "10         Gram Panchayat Sayli\n",
       "11        Gram Panchayat Dapada\n",
       "12        Gram Panchayat Amboli\n",
       "13        Gram Panchayat Kherdi\n",
       "14       Gram Panchayat Dudhani\n",
       "15       Gram Panchayat Khanvel\n",
       "16        Gram Panchayat Rudana\n",
       "17       Gram Panchayat Mandoni\n",
       "18       Gram Panchayat Sindoni\n",
       "19         Gram Panchayat Dadra\n",
       "Name: Completed Postal- address (with PIN Code), dtype: object"
      ]
     },
     "execution_count": 58,
     "metadata": {},
     "output_type": "execute_result"
    }
   ],
   "source": [
    "column = dadra_nagar_1[\"Completed Postal- address (with PIN Code)\"]\n",
    "column"
   ]
  },
  {
   "cell_type": "code",
   "execution_count": 59,
   "metadata": {},
   "outputs": [
    {
     "name": "stdout",
     "output_type": "stream",
     "text": [
      "No. of unique values: 19\n",
      "Duplicates: {nan: 2}\n"
     ]
    }
   ],
   "source": [
    "print(\"No. of unique values:\", len(column.unique()))\n",
    "counter = dict(Counter(column))\n",
    "duplicates = {key:value for key, value in counter.items() if value > 1}\n",
    "print(\"Duplicates:\", duplicates)"
   ]
  },
  {
   "cell_type": "code",
   "execution_count": 64,
   "metadata": {},
   "outputs": [
    {
     "data": {
      "text/plain": [
       "['',\n",
       " '',\n",
       " 'Naroli',\n",
       " 'Kharadpada',\n",
       " 'Galonda',\n",
       " 'Kilvani',\n",
       " 'Randha',\n",
       " 'Samarvarni',\n",
       " 'Masat',\n",
       " 'Rakholi',\n",
       " 'Sayli',\n",
       " 'Dapada',\n",
       " 'Amboli',\n",
       " 'Kherdi',\n",
       " 'Dudhani',\n",
       " 'Khanvel',\n",
       " 'Rudana',\n",
       " 'Mandoni',\n",
       " 'Sindoni',\n",
       " 'Dadra']"
      ]
     },
     "execution_count": 64,
     "metadata": {},
     "output_type": "execute_result"
    }
   ],
   "source": [
    "#Show names of villages without \"Gram Panchayat\" at front\n",
    "villages = []\n",
    "for village in np.array(column):\n",
    "    villages.append(str(village)[15:])\n",
    "villages"
   ]
  },
  {
   "cell_type": "markdown",
   "metadata": {},
   "source": [
    "### Mobile\n",
    "<a class=\"anchor\" id=\"5.1.5\"></a>\n",
    "Mobile phone number of the president / chairperson."
   ]
  },
  {
   "cell_type": "code",
   "execution_count": 73,
   "metadata": {},
   "outputs": [
    {
     "data": {
      "text/plain": [
       "0                  9824749121\n",
       "1                  9624001777\n",
       "2                  9714310164\n",
       "3                  8758824809\n",
       "4                  9925323231\n",
       "5                  9904748254\n",
       "6                  9824252100\n",
       "7                  9725566189\n",
       "8                  9924104388\n",
       "9                  7698559928\n",
       "10                 9099029304\n",
       "11                 9904220101\n",
       "12                 9824101416\n",
       "13                 9824734870\n",
       "14                 9824759567\n",
       "15                 9998691635\n",
       "16                 9824252100\n",
       "17                 7623950405\n",
       "18    9638479038 / 9737811595\n",
       "19                 9824151845\n",
       "Name: Mobile, dtype: object"
      ]
     },
     "execution_count": 73,
     "metadata": {},
     "output_type": "execute_result"
    }
   ],
   "source": [
    "column = dadra_nagar_1[\"Mobile\"]\n",
    "column"
   ]
  },
  {
   "cell_type": "code",
   "execution_count": 74,
   "metadata": {},
   "outputs": [
    {
     "name": "stdout",
     "output_type": "stream",
     "text": [
      "No. of unique values: 19\n",
      "Duplicates: {9824252100: 2}\n"
     ]
    }
   ],
   "source": [
    "print(\"No. of unique values:\", len(column.unique()))\n",
    "counter = dict(Counter(column))\n",
    "duplicates = {key:value for key, value in counter.items() if value > 1}\n",
    "print(\"Duplicates:\", duplicates)"
   ]
  },
  {
   "cell_type": "markdown",
   "metadata": {},
   "source": [
    "### E-mail ID\n",
    "<a class=\"anchor\" id=\"5.1.6\"></a>\n",
    "Email address of the president / chairperson."
   ]
  },
  {
   "cell_type": "code",
   "execution_count": 67,
   "metadata": {},
   "outputs": [
    {
     "data": {
      "text/plain": [
       "0     dpo-dnh@nic.in\n",
       "1     dpo-dnh@nic.in\n",
       "2     dpo-dnh@nic.in\n",
       "3     dpo-dnh@nic.in\n",
       "4     dpo-dnh@nic.in\n",
       "5     dpo-dnh@nic.in\n",
       "6     dpo-dnh@nic.in\n",
       "7     dpo-dnh@nic.in\n",
       "8     dpo-dnh@nic.in\n",
       "9     dpo-dnh@nic.in\n",
       "10    dpo-dnh@nic.in\n",
       "11    dpo-dnh@nic.in\n",
       "12    dpo-dnh@nic.in\n",
       "13    dpo-dnh@nic.in\n",
       "14    dpo-dnh@nic.in\n",
       "15    dpo-dnh@nic.in\n",
       "16    dpo-dnh@nic.in\n",
       "17    dpo-dnh@nic.in\n",
       "18    dpo-dnh@nic.in\n",
       "19    dpo-dnh@nic.in\n",
       "Name: E-mail ID, dtype: object"
      ]
     },
     "execution_count": 67,
     "metadata": {},
     "output_type": "execute_result"
    }
   ],
   "source": [
    "column = dadra_nagar_1[\"E-mail ID\"]\n",
    "column"
   ]
  },
  {
   "cell_type": "code",
   "execution_count": 100,
   "metadata": {},
   "outputs": [
    {
     "name": "stdout",
     "output_type": "stream",
     "text": [
      "No. of unique values: 1\n",
      "Duplicates: {'dpo-dnh@nic.in ': 20}\n"
     ]
    }
   ],
   "source": [
    "print(\"No. of unique values:\", len(column.unique()))\n",
    "counter = dict(Counter(column))\n",
    "duplicates = {key:value for key, value in counter.items() if value > 1}\n",
    "print(\"Duplicates:\", duplicates)"
   ]
  },
  {
   "cell_type": "markdown",
   "metadata": {},
   "source": [
    "### DataFrame 2\n",
    "<a class=\"anchor\" id=\"5.2\"></a>\n",
    "DataFrame 2 contains the contact details of the elected heads of Gram Panchayat/ Village Panchayats. "
   ]
  },
  {
   "cell_type": "markdown",
   "metadata": {},
   "source": [
    "### Sr No.\n",
    "<a class=\"anchor\" id=\"5.2.1\"></a>\n",
    "Number of elected head of Gram Panchayat / Village Panchayats. Starts at 1 and goes up to 20."
   ]
  },
  {
   "cell_type": "code",
   "execution_count": 69,
   "metadata": {},
   "outputs": [
    {
     "data": {
      "text/plain": [
       "0      1\n",
       "1      2\n",
       "2      3\n",
       "3      4\n",
       "4      5\n",
       "5      6\n",
       "6      7\n",
       "7      8\n",
       "8      9\n",
       "9     10\n",
       "10    11\n",
       "11    12\n",
       "12    13\n",
       "13    14\n",
       "14    15\n",
       "15    16\n",
       "16    17\n",
       "17    18\n",
       "18    19\n",
       "19    20\n",
       "Name: Sr No., dtype: object"
      ]
     },
     "execution_count": 69,
     "metadata": {},
     "output_type": "execute_result"
    }
   ],
   "source": [
    "column = dadra_nagar_2[\"Sr No.\"]\n",
    "column"
   ]
  },
  {
   "cell_type": "code",
   "execution_count": 70,
   "metadata": {},
   "outputs": [
    {
     "name": "stdout",
     "output_type": "stream",
     "text": [
      "No. of unique values: 20\n",
      "Duplicates: {}\n"
     ]
    }
   ],
   "source": [
    "print(\"No. of unique values:\", len(column.unique()))\n",
    "counter = dict(Counter(column))\n",
    "duplicates = {key:value for key, value in counter.items() if value > 1}\n",
    "print(\"Duplicates:\", duplicates)"
   ]
  },
  {
   "cell_type": "markdown",
   "metadata": {},
   "source": [
    "### Name of Gram Panchayat/Village Panchayat\n",
    "<a class=\"anchor\" id=\"5.2.2\"></a>\n",
    "The name of the village the elected head resides in."
   ]
  },
  {
   "cell_type": "code",
   "execution_count": 82,
   "metadata": {},
   "outputs": [
    {
     "data": {
      "text/plain": [
       "0        Surangi\n",
       "1        Kauncha\n",
       "2         Naroli\n",
       "3     Kharadpada\n",
       "4        Galonda\n",
       "5        Kilavni\n",
       "6         Randha\n",
       "7     Samarvarni\n",
       "8          Masat\n",
       "9        Rakholi\n",
       "10         sayli\n",
       "11        Dapada\n",
       "12        Amboli\n",
       "13        Kherdi\n",
       "14       Dudhani\n",
       "15       Khanvel\n",
       "16        Rudana\n",
       "17       Mandoni\n",
       "18       Sindoni\n",
       "19         Dadra\n",
       "Name: Name of Gram Panchayat/Village Panchayat, dtype: object"
      ]
     },
     "execution_count": 82,
     "metadata": {},
     "output_type": "execute_result"
    }
   ],
   "source": [
    "column = dadra_nagar_2[\"Name of Gram Panchayat/Village Panchayat\"]\n",
    "villages_2 = np.array(column)\n",
    "column"
   ]
  },
  {
   "cell_type": "code",
   "execution_count": 72,
   "metadata": {},
   "outputs": [
    {
     "name": "stdout",
     "output_type": "stream",
     "text": [
      "No. of unique values: 20\n",
      "Duplicates: {}\n"
     ]
    }
   ],
   "source": [
    "print(\"No. of unique values:\", len(column.unique()))\n",
    "counter = dict(Counter(column))\n",
    "duplicates = {key:value for key, value in counter.items() if value > 1}\n",
    "print(\"Duplicates:\", duplicates)"
   ]
  },
  {
   "cell_type": "markdown",
   "metadata": {},
   "source": [
    "### Name of Sarpanch/Mukhiya/President\n",
    "<a class=\"anchor\" id=\"5.2.3\"></a>"
   ]
  },
  {
   "cell_type": "code",
   "execution_count": 75,
   "metadata": {},
   "outputs": [
    {
     "data": {
      "text/plain": [
       "0          Smt.Kakad Ashaben Dhanjibhai\n",
       "1           Smt.Gond Kamlaben Rupjibhai\n",
       "2       Smt.Dodia Pritiben Jitendersinh\n",
       "3            Shri Radiya Patadiya Katya\n",
       "4               Shri Bhurkud Ishwarbhai\n",
       "5            Smt.Yashwantiben Kantubhai\n",
       "6                Shri Chudhari Zinabhai\n",
       "7       Shri Patel Sureshbhai Vajirbhai\n",
       "8       Shri Patel Raviyabhai Limjibhai\n",
       "9        Smt.Patel Champaben Prabhubhai\n",
       "10       Shri  Patel  Gitaben Madhubhai\n",
       "11    Smt.Choudhary Radhuben Rajeshbhai\n",
       "12                Shri Gorat Pravinbhai\n",
       "13               Shri Bariya Chandubhai\n",
       "14        Smt.Ghatal Saynaben Mohanbhai\n",
       "15               Smt.Vaghera Anita Ablu\n",
       "16                  Shri Chimbda Sandip\n",
       "17        Smt.Nadge Kanchanben Laxibhai\n",
       "18     Shri Bhusara Vipulbhai Kakadbhai\n",
       "19    Smt. Patel Sumitraben Jayantibhai\n",
       "Name: Name of Sarpanch/Mukhiya/President, dtype: object"
      ]
     },
     "execution_count": 75,
     "metadata": {},
     "output_type": "execute_result"
    }
   ],
   "source": [
    "column = dadra_nagar_2[\"Name of Sarpanch/Mukhiya/President\"]\n",
    "column"
   ]
  },
  {
   "cell_type": "code",
   "execution_count": 76,
   "metadata": {},
   "outputs": [
    {
     "name": "stdout",
     "output_type": "stream",
     "text": [
      "No. of unique values: 20\n",
      "Duplicates: {}\n"
     ]
    }
   ],
   "source": [
    "print(\"No. of unique values:\", len(column.unique()))\n",
    "counter = dict(Counter(column))\n",
    "duplicates = {key:value for key, value in counter.items() if value > 1}\n",
    "print(\"Duplicates:\", duplicates)"
   ]
  },
  {
   "cell_type": "code",
   "execution_count": 77,
   "metadata": {},
   "outputs": [
    {
     "data": {
      "text/html": [
       "<div>\n",
       "<style scoped>\n",
       "    .dataframe tbody tr th:only-of-type {\n",
       "        vertical-align: middle;\n",
       "    }\n",
       "\n",
       "    .dataframe tbody tr th {\n",
       "        vertical-align: top;\n",
       "    }\n",
       "\n",
       "    .dataframe thead th {\n",
       "        text-align: right;\n",
       "    }\n",
       "</style>\n",
       "<table border=\"1\" class=\"dataframe\">\n",
       "  <thead>\n",
       "    <tr style=\"text-align: right;\">\n",
       "      <th></th>\n",
       "      <th>Title of President / Chairperson</th>\n",
       "      <th>Gender</th>\n",
       "      <th>Count</th>\n",
       "    </tr>\n",
       "  </thead>\n",
       "  <tbody>\n",
       "    <tr>\n",
       "      <th>0</th>\n",
       "      <td>Shri</td>\n",
       "      <td>Men</td>\n",
       "      <td>10</td>\n",
       "    </tr>\n",
       "    <tr>\n",
       "      <th>1</th>\n",
       "      <td>Smt</td>\n",
       "      <td>Women</td>\n",
       "      <td>10</td>\n",
       "    </tr>\n",
       "  </tbody>\n",
       "</table>\n",
       "</div>"
      ],
      "text/plain": [
       "  Title of President / Chairperson Gender  Count\n",
       "0                             Shri    Men     10\n",
       "1                              Smt  Women     10"
      ]
     },
     "execution_count": 77,
     "metadata": {},
     "output_type": "execute_result"
    }
   ],
   "source": [
    "#Show how many Elected Officials are male and female\n",
    "names = np.array(column)\n",
    "man = 0\n",
    "woman = 0\n",
    "for name in names:\n",
    "    title = str(name)[:3]\n",
    "    if (title.__eq__('Shr')):\n",
    "        man += 1\n",
    "    else:\n",
    "        woman += 1\n",
    "\n",
    "genders = pd.DataFrame(data = {'Title of President / Chairperson' : ['Shri', 'Smt'], \n",
    "                               'Gender' : ['Men', 'Women'], \n",
    "                               'Count' : [man, woman]})\n",
    "genders"
   ]
  },
  {
   "cell_type": "code",
   "execution_count": 78,
   "metadata": {},
   "outputs": [
    {
     "data": {
      "image/png": "[encoded data removed]",
      "text/plain": [
       "<Figure size 432x288 with 1 Axes>"
      ]
     },
     "metadata": {
      "needs_background": "light"
     },
     "output_type": "display_data"
    }
   ],
   "source": [
    "# Plot number of men and women\n",
    "plt.bar(genders[\"Gender\"], genders[\"Count\"])\n",
    "plt.title(\"Number of Men vs Women that are Presidents / Chairpersons\")\n",
    "plt.xlabel(\"Gender\")\n",
    "plt.ylabel('Count')\n",
    "plt.xticks(rotation = 90)\n",
    "plt.show()"
   ]
  },
  {
   "cell_type": "markdown",
   "metadata": {},
   "source": [
    "### Completed Postal- address (with PIN Code)\n",
    "<a class=\"anchor\" id=\"5.2.4\"></a>\n",
    "Title does not relate to content of column. The column contains strings that all begin with \"Gram Panchayat,\" which is the name of a basic village governing democractic structed institute in Indian villages. The strings also each have the name of the village from the second column followed by \"Gram Panchayat\"."
   ]
  },
  {
   "cell_type": "code",
   "execution_count": 91,
   "metadata": {},
   "outputs": [
    {
     "data": {
      "text/plain": [
       "0        Gram Panchayat Surangi\n",
       "1        Gram Panchayat Kauncha\n",
       "2         Gram Panchayat Naroli\n",
       "3     Gram Panchayat Kharadpada\n",
       "4        Gram Panchayat Galonda\n",
       "5        Gram Panchayat Kilavni\n",
       "6         Gram Panchayat Randha\n",
       "7     Gram Panchayat Samarvarni\n",
       "8          Gram Panchayat Masat\n",
       "9        Gram Panchayat Rakholi\n",
       "10         Gram Panchayat sayli\n",
       "11        Gram Panchayat Dapada\n",
       "12        Gram Panchayat Amboli\n",
       "13        Gram Panchayat Kherdi\n",
       "14       Gram Panchayat Dudhani\n",
       "15       Gram Panchayat Khanvel\n",
       "16        Gram Panchayat Rudana\n",
       "17       Gram Panchayat Mandoni\n",
       "18       Gram Panchayat Sindoni\n",
       "19         Gram Panchayat Dadra\n",
       "Name: Completed Postal- address (with PIN Code), dtype: object"
      ]
     },
     "execution_count": 91,
     "metadata": {},
     "output_type": "execute_result"
    }
   ],
   "source": [
    "column = dadra_nagar_2[\"Completed Postal- address (with PIN Code)\"]\n",
    "column"
   ]
  },
  {
   "cell_type": "code",
   "execution_count": 80,
   "metadata": {},
   "outputs": [
    {
     "name": "stdout",
     "output_type": "stream",
     "text": [
      "No. of unique values: 20\n",
      "Duplicates: {}\n"
     ]
    }
   ],
   "source": [
    "print(\"No. of unique values:\", len(column.unique()))\n",
    "counter = dict(Counter(column))\n",
    "duplicates = {key:value for key, value in counter.items() if value > 1}\n",
    "print(\"Duplicates:\", duplicates)"
   ]
  },
  {
   "cell_type": "code",
   "execution_count": 95,
   "metadata": {},
   "outputs": [
    {
     "name": "stdout",
     "output_type": "stream",
     "text": [
      "True\n",
      "True\n",
      "True\n",
      "True\n",
      "True\n",
      "True\n",
      "True\n",
      "True\n",
      "True\n",
      "True\n",
      "True\n",
      "True\n",
      "True\n",
      "True\n",
      "True\n",
      "True\n",
      "True\n",
      "True\n",
      "True\n",
      "True\n"
     ]
    }
   ],
   "source": [
    "#See if village name is equal to the village name in 2nd column\n",
    "villages = []\n",
    "for village in np.array(column):\n",
    "    villages.append(str(village)[15:])\n",
    "i = 0\n",
    "villages\n",
    "\n",
    "for village in villages_2:\n",
    "    if str(village).__eq__(villages[i]):\n",
    "        print(True)\n",
    "    else:\n",
    "        print(False)\n",
    "    i += 1"
   ]
  },
  {
   "cell_type": "markdown",
   "metadata": {},
   "source": [
    "### Mobile\n",
    "<a class=\"anchor\" id=\"5.2.5\"></a>\n",
    "Mobile phone number of the elected head."
   ]
  },
  {
   "cell_type": "code",
   "execution_count": 97,
   "metadata": {},
   "outputs": [
    {
     "data": {
      "text/plain": [
       "0     9924740998\n",
       "1     7621992170\n",
       "2     9824481685\n",
       "3     9377007205\n",
       "4     9925678785\n",
       "5     9879129712\n",
       "6     9714243400\n",
       "7     9624826890\n",
       "8     9726693966\n",
       "9     9904443067\n",
       "10    9824181567\n",
       "11    9574437277\n",
       "12    9904977880\n",
       "13    9824403392\n",
       "14    9904564267\n",
       "15    9824729569\n",
       "16    9824303566\n",
       "17    7046339182\n",
       "18    8460270761\n",
       "19    7698644788\n",
       "Name: Mobile, dtype: object"
      ]
     },
     "execution_count": 97,
     "metadata": {},
     "output_type": "execute_result"
    }
   ],
   "source": [
    "column = dadra_nagar_2[\"Mobile\"]\n",
    "column"
   ]
  },
  {
   "cell_type": "code",
   "execution_count": 98,
   "metadata": {},
   "outputs": [
    {
     "name": "stdout",
     "output_type": "stream",
     "text": [
      "No. of unique values: 20\n",
      "Duplicates: {}\n"
     ]
    }
   ],
   "source": [
    "print(\"No. of unique values:\", len(column.unique()))\n",
    "counter = dict(Counter(column))\n",
    "duplicates = {key:value for key, value in counter.items() if value > 1}\n",
    "print(\"Duplicates:\", duplicates)"
   ]
  },
  {
   "cell_type": "markdown",
   "metadata": {},
   "source": [
    "### E-mail ID\n",
    "<a class=\"anchor\" id=\"5.2.6\"></a>\n",
    "Email address of the elected head."
   ]
  },
  {
   "cell_type": "code",
   "execution_count": 99,
   "metadata": {},
   "outputs": [
    {
     "data": {
      "text/plain": [
       "0     dpo-dnh@nic.in \n",
       "1     dpo-dnh@nic.in \n",
       "2     dpo-dnh@nic.in \n",
       "3     dpo-dnh@nic.in \n",
       "4     dpo-dnh@nic.in \n",
       "5     dpo-dnh@nic.in \n",
       "6     dpo-dnh@nic.in \n",
       "7     dpo-dnh@nic.in \n",
       "8     dpo-dnh@nic.in \n",
       "9     dpo-dnh@nic.in \n",
       "10    dpo-dnh@nic.in \n",
       "11    dpo-dnh@nic.in \n",
       "12    dpo-dnh@nic.in \n",
       "13    dpo-dnh@nic.in \n",
       "14    dpo-dnh@nic.in \n",
       "15    dpo-dnh@nic.in \n",
       "16    dpo-dnh@nic.in \n",
       "17    dpo-dnh@nic.in \n",
       "18    dpo-dnh@nic.in \n",
       "19    dpo-dnh@nic.in \n",
       "Name: E-mail ID, dtype: object"
      ]
     },
     "execution_count": 99,
     "metadata": {},
     "output_type": "execute_result"
    }
   ],
   "source": [
    "column = dadra_nagar_2[\"E-mail ID\"]\n",
    "column"
   ]
  },
  {
   "cell_type": "code",
   "execution_count": 101,
   "metadata": {},
   "outputs": [
    {
     "name": "stdout",
     "output_type": "stream",
     "text": [
      "No. of unique values: 1\n",
      "Duplicates: {'dpo-dnh@nic.in ': 20}\n"
     ]
    }
   ],
   "source": [
    "print(\"No. of unique values:\", len(column.unique()))\n",
    "counter = dict(Counter(column))\n",
    "duplicates = {key:value for key, value in counter.items() if value > 1}\n",
    "print(\"Duplicates:\", duplicates)"
   ]
  },
  {
   "cell_type": "markdown",
   "metadata": {},
   "source": [
    "### DataFrame 3\n",
    "<a class=\"anchor\" id=\"5.3\"></a>\n",
    "DataFrame 3 contains the contact details of the elected heads of a state-level Nodal Officer.   \n",
    "There is only one row in the table, so below is the value in each column for that singular row:"
   ]
  },
  {
   "cell_type": "markdown",
   "metadata": {},
   "source": [
    "### Sr No.\n",
    "<a class=\"anchor\" id=\"5.3.1\"></a>\n",
    "Number of state-level nodel officer. Starts at 1 and only contains that single row."
   ]
  },
  {
   "cell_type": "code",
   "execution_count": 113,
   "metadata": {},
   "outputs": [
    {
     "data": {
      "text/plain": [
       "1"
      ]
     },
     "execution_count": 113,
     "metadata": {},
     "output_type": "execute_result"
    }
   ],
   "source": [
    "dadra_nagar_3[\"Sr No.\"][0]"
   ]
  },
  {
   "cell_type": "markdown",
   "metadata": {},
   "source": [
    "### Name & Designation of Officer (S)\n",
    "<a class=\"anchor\" id=\"5.3.2\"></a>\n",
    "The name and title of the officer."
   ]
  },
  {
   "cell_type": "code",
   "execution_count": 114,
   "metadata": {},
   "outputs": [
    {
     "data": {
      "text/plain": [
       "'Dr. D. M. Dumralia, Development and planning Officer'"
      ]
     },
     "execution_count": 114,
     "metadata": {},
     "output_type": "execute_result"
    }
   ],
   "source": [
    "dadra_nagar_3[\"Name & Designation of Officer (S)\"][0]"
   ]
  },
  {
   "cell_type": "markdown",
   "metadata": {},
   "source": [
    "### Completed Postal- address (with PIN Code)\n",
    "<a class=\"anchor\" id=\"5.3.3\"></a>\n",
    "The postal address, including PIN Code, of the officer."
   ]
  },
  {
   "cell_type": "code",
   "execution_count": 115,
   "metadata": {},
   "outputs": [
    {
     "data": {
      "text/plain": [
       "'66, KV Road Amli, Opposite Vidhyut Bhavan  Silvassa, 396230'"
      ]
     },
     "execution_count": 115,
     "metadata": {},
     "output_type": "execute_result"
    }
   ],
   "source": [
    "dadra_nagar_3[\"Completed Postal- address (with PIN Code)\"][0]"
   ]
  },
  {
   "cell_type": "markdown",
   "metadata": {},
   "source": [
    "### Tel./Fax (Office)\n",
    "<a class=\"anchor\" id=\"5.3.4\"></a>\n",
    "Telephone / Fax number of the office of the officer."
   ]
  },
  {
   "cell_type": "code",
   "execution_count": 118,
   "metadata": {},
   "outputs": [
    {
     "data": {
      "text/plain": [
       "2602632303"
      ]
     },
     "execution_count": 118,
     "metadata": {},
     "output_type": "execute_result"
    }
   ],
   "source": [
    "dadra_nagar_3[\"Tel./Fax (Office)\"][0]"
   ]
  },
  {
   "cell_type": "markdown",
   "metadata": {},
   "source": [
    "### Mobile\n",
    "<a class=\"anchor\" id=\"5.3.5\"></a>\n",
    "Mobile phone number of the officer."
   ]
  },
  {
   "cell_type": "code",
   "execution_count": 120,
   "metadata": {},
   "outputs": [
    {
     "data": {
      "text/plain": [
       "9824540765"
      ]
     },
     "execution_count": 120,
     "metadata": {},
     "output_type": "execute_result"
    }
   ],
   "source": [
    "dadra_nagar_3[\"Mobile\"][0]"
   ]
  },
  {
   "cell_type": "markdown",
   "metadata": {},
   "source": [
    "### E-mail ID\n",
    "<a class=\"anchor\" id=\"5.3.6\"></a>\n",
    "Email address of the officer."
   ]
  },
  {
   "cell_type": "code",
   "execution_count": 119,
   "metadata": {},
   "outputs": [
    {
     "data": {
      "text/plain": [
       "'dpo-dnh@nic.in '"
      ]
     },
     "execution_count": 119,
     "metadata": {},
     "output_type": "execute_result"
    }
   ],
   "source": [
    "dadra_nagar_3[\"E-mail ID\"][0]"
   ]
  },
  {
   "cell_type": "code",
   "execution_count": null,
   "metadata": {},
   "outputs": [],
   "source": []
  }
 ],
 "metadata": {
  "kernelspec": {
   "display_name": "Python 3",
   "language": "python",
   "name": "python3"
  },
  "language_info": {
   "codemirror_mode": {
    "name": "ipython",
    "version": 3
   },
   "file_extension": ".py",
   "mimetype": "text/x-python",
   "name": "python",
   "nbconvert_exporter": "python",
   "pygments_lexer": "ipython3",
   "version": "3.8.3"
  }
 },
 "nbformat": 4,
 "nbformat_minor": 5
}
