{
 "cells": [
  {
   "cell_type": "markdown",
   "id": "handmade-theology",
   "metadata": {},
   "source": [
    "# Codebook  \n",
    "**Authors:** Lauren Baker   \n",
    "Documenting existing data files of DaanMatch with information about location, owner, \"version\", source etc."
   ]
  },
  {
   "cell_type": "code",
   "execution_count": 1,
   "id": "naked-vitamin",
   "metadata": {},
   "outputs": [],
   "source": [
    "import boto3\n",
    "import numpy as np \n",
    "import pandas as pd\n",
    "pd.plotting.register_matplotlib_converters()\n",
    "import matplotlib.pyplot as plt\n",
    "%matplotlib inline\n",
    "from collections import Counter\n",
    "import statistics\n",
    "import math "
   ]
  },
  {
   "cell_type": "code",
   "execution_count": 2,
   "id": "permanent-provision",
   "metadata": {},
   "outputs": [],
   "source": [
    "client = boto3.client('s3')\n",
    "resource = boto3.resource('s3')\n",
    "my_bucket = resource.Bucket('daanmatchdatafiles')"
   ]
  },
  {
   "cell_type": "markdown",
   "id": "approximate-worthy",
   "metadata": {},
   "source": [
    "# CSR 2016_2017.xlsx\n",
    "\n",
    "## TOC:\n",
    "* [About this dataset](#1)\n",
    "* [Cleaned datasets](#2)\n",
    "* [What's in this dataset](#3)\n",
    "* [Codebook](#4)\n",
    "    * [Missing values](#4.1)\n",
    "    * [Summary statistics](#4.2)\n",
    "* [Columns](#5)\n",
    "    * [Sheet 1](#5.1)\n",
    "        * [S.No.](#5.1.1)\n",
    "        * [Company Name(s)](#5.1.2)\n",
    "        * [Amount (Actuals)](#5.1.3)\n",
    "    * [Sheet 2](#5.2)\n",
    "        * [Development Sectors](#5.2.1)\n",
    "        * [Amount Spent FY 2014-15 (INR Cr.)](#5.2.2)\n",
    "        * [Amount Spent FY 2015-16 (INR Cr.)](#5.2.3)\n",
    "        * [Amount Spent FY 2016-17 (INR Cr.)](#5.2.4)\n",
    "* [Problems with the data](#6)"
   ]
  },
  {
   "cell_type": "markdown",
   "id": "genetic-intensity",
   "metadata": {},
   "source": [
    "**About this dataset**  <a class=\"anchor\" id=\"1\"></a>  \n",
    "Data provided by: National CSR Portal.         \n",
    "Source: https://csr.gov.in/         \n",
    "Type: xlsx  \n",
    "Last Modified: May 29, 2021, 19:52:24 (UTC-07:00)  \n",
    "Size: 487.4 KB"
   ]
  },
  {
   "cell_type": "code",
   "execution_count": 3,
   "id": "subtle-foundation",
   "metadata": {},
   "outputs": [
    {
     "name": "stdout",
     "output_type": "stream",
     "text": [
      "['Sheet1', 'Sheet2', 'Sheet3']\n"
     ]
    }
   ],
   "source": [
    "path = \"s3://daanmatchdatafiles/DaanMatch_DataFiles/CSR 2016_2017.xlsx\"\n",
    "CSR_2016_2017 = pd.ExcelFile(path)\n",
    "print(CSR_2016_2017.sheet_names)"
   ]
  },
  {
   "cell_type": "code",
   "execution_count": 4,
   "id": "unable-swiss",
   "metadata": {},
   "outputs": [
    {
     "data": {
      "text/html": [
       "<div>\n",
       "<style scoped>\n",
       "    .dataframe tbody tr th:only-of-type {\n",
       "        vertical-align: middle;\n",
       "    }\n",
       "\n",
       "    .dataframe tbody tr th {\n",
       "        vertical-align: top;\n",
       "    }\n",
       "\n",
       "    .dataframe thead th {\n",
       "        text-align: right;\n",
       "    }\n",
       "</style>\n",
       "<table border=\"1\" class=\"dataframe\">\n",
       "  <thead>\n",
       "    <tr style=\"text-align: right;\">\n",
       "      <th></th>\n",
       "      <th>Unnamed: 0</th>\n",
       "      <th>Unnamed: 1</th>\n",
       "      <th>Unnamed: 2</th>\n",
       "      <th>Unnamed: 3</th>\n",
       "      <th>Unnamed: 4</th>\n",
       "      <th>Unnamed: 5</th>\n",
       "      <th>Unnamed: 6</th>\n",
       "      <th>Unnamed: 7</th>\n",
       "      <th>Unnamed: 8</th>\n",
       "      <th>Unnamed: 9</th>\n",
       "      <th>Unnamed: 10</th>\n",
       "      <th>Unnamed: 11</th>\n",
       "      <th>Unnamed: 12</th>\n",
       "      <th>Unnamed: 13</th>\n",
       "      <th>Unnamed: 14</th>\n",
       "      <th>Unnamed: 15</th>\n",
       "      <th>Unnamed: 16</th>\n",
       "      <th>Unnamed: 17</th>\n",
       "    </tr>\n",
       "  </thead>\n",
       "  <tbody>\n",
       "    <tr>\n",
       "      <th>0</th>\n",
       "      <td>NaN</td>\n",
       "      <td>NaN</td>\n",
       "      <td>NaN</td>\n",
       "      <td>NaN</td>\n",
       "      <td>NaN</td>\n",
       "      <td>NaN</td>\n",
       "      <td>NaN</td>\n",
       "      <td>NaN</td>\n",
       "      <td>NaN</td>\n",
       "      <td>NaN</td>\n",
       "      <td>NaN</td>\n",
       "      <td>NaN</td>\n",
       "      <td>NaN</td>\n",
       "      <td>NaN</td>\n",
       "      <td>NaN</td>\n",
       "      <td>NaN</td>\n",
       "      <td>NaN</td>\n",
       "      <td>NaN</td>\n",
       "    </tr>\n",
       "    <tr>\n",
       "      <th>1</th>\n",
       "      <td>NaN</td>\n",
       "      <td>NaN</td>\n",
       "      <td>AS Prescribed</td>\n",
       "      <td>NaN</td>\n",
       "      <td>NaN</td>\n",
       "      <td>NaN</td>\n",
       "      <td>Less than Prescribed</td>\n",
       "      <td>NaN</td>\n",
       "      <td>NaN</td>\n",
       "      <td>NaN</td>\n",
       "      <td>More than Prescribed</td>\n",
       "      <td>NaN</td>\n",
       "      <td>NaN</td>\n",
       "      <td>NaN</td>\n",
       "      <td>NaN</td>\n",
       "      <td>NaN</td>\n",
       "      <td>NaN</td>\n",
       "      <td>NaN</td>\n",
       "    </tr>\n",
       "    <tr>\n",
       "      <th>2</th>\n",
       "      <td>NaN</td>\n",
       "      <td>Contributing Companies</td>\n",
       "      <td>NaN</td>\n",
       "      <td>NaN</td>\n",
       "      <td>NaN</td>\n",
       "      <td>Contributing Companies</td>\n",
       "      <td>NaN</td>\n",
       "      <td>NaN</td>\n",
       "      <td>NaN</td>\n",
       "      <td>NaN</td>\n",
       "      <td>NaN</td>\n",
       "      <td>NaN</td>\n",
       "      <td>NaN</td>\n",
       "      <td>NaN</td>\n",
       "      <td>NaN</td>\n",
       "      <td>NaN</td>\n",
       "      <td>NaN</td>\n",
       "      <td>The Ministry of Corporate Affairs (\"MCA\"), vid...</td>\n",
       "    </tr>\n",
       "    <tr>\n",
       "      <th>3</th>\n",
       "      <td>NaN</td>\n",
       "      <td>S.No.</td>\n",
       "      <td>Company Name(s)</td>\n",
       "      <td>Amount (Actuals)</td>\n",
       "      <td>NaN</td>\n",
       "      <td>S.No.</td>\n",
       "      <td>Company Name(s)</td>\n",
       "      <td>Amount (Actuals)</td>\n",
       "      <td>NaN</td>\n",
       "      <td>S.No.</td>\n",
       "      <td>Company Name(s)</td>\n",
       "      <td>Amount (Actuals)</td>\n",
       "      <td>NaN</td>\n",
       "      <td>NaN</td>\n",
       "      <td>NaN</td>\n",
       "      <td>NaN</td>\n",
       "      <td>NaN</td>\n",
       "      <td>NaN</td>\n",
       "    </tr>\n",
       "    <tr>\n",
       "      <th>4</th>\n",
       "      <td>NaN</td>\n",
       "      <td>1</td>\n",
       "      <td>India Infrastructure Finance Company Limited</td>\n",
       "      <td>244600000</td>\n",
       "      <td>NaN</td>\n",
       "      <td>1</td>\n",
       "      <td>Tata Consultancy Services Limited</td>\n",
       "      <td>2802200000</td>\n",
       "      <td>NaN</td>\n",
       "      <td>1</td>\n",
       "      <td>Reliance Industries Limited</td>\n",
       "      <td>6397000000</td>\n",
       "      <td>NaN</td>\n",
       "      <td>NaN</td>\n",
       "      <td>NaN</td>\n",
       "      <td>NaN</td>\n",
       "      <td>NaN</td>\n",
       "      <td>Present Corporate Social Responsibility Norms ...</td>\n",
       "    </tr>\n",
       "  </tbody>\n",
       "</table>\n",
       "</div>"
      ],
      "text/plain": [
       "   Unnamed: 0              Unnamed: 1  \\\n",
       "0         NaN                     NaN   \n",
       "1         NaN                     NaN   \n",
       "2         NaN  Contributing Companies   \n",
       "3         NaN                   S.No.   \n",
       "4         NaN                       1   \n",
       "\n",
       "                                     Unnamed: 2        Unnamed: 3  Unnamed: 4  \\\n",
       "0                                           NaN               NaN         NaN   \n",
       "1                                 AS Prescribed               NaN         NaN   \n",
       "2                                           NaN               NaN         NaN   \n",
       "3                               Company Name(s)  Amount (Actuals)         NaN   \n",
       "4  India Infrastructure Finance Company Limited         244600000         NaN   \n",
       "\n",
       "               Unnamed: 5                         Unnamed: 6  \\\n",
       "0                     NaN                                NaN   \n",
       "1                     NaN               Less than Prescribed   \n",
       "2  Contributing Companies                                NaN   \n",
       "3                   S.No.                    Company Name(s)   \n",
       "4                       1  Tata Consultancy Services Limited   \n",
       "\n",
       "         Unnamed: 7  Unnamed: 8 Unnamed: 9                  Unnamed: 10  \\\n",
       "0               NaN         NaN        NaN                          NaN   \n",
       "1               NaN         NaN        NaN         More than Prescribed   \n",
       "2               NaN         NaN        NaN                          NaN   \n",
       "3  Amount (Actuals)         NaN      S.No.              Company Name(s)   \n",
       "4        2802200000         NaN          1  Reliance Industries Limited   \n",
       "\n",
       "        Unnamed: 11  Unnamed: 12  Unnamed: 13  Unnamed: 14  Unnamed: 15  \\\n",
       "0               NaN          NaN          NaN          NaN          NaN   \n",
       "1               NaN          NaN          NaN          NaN          NaN   \n",
       "2               NaN          NaN          NaN          NaN          NaN   \n",
       "3  Amount (Actuals)          NaN          NaN          NaN          NaN   \n",
       "4        6397000000          NaN          NaN          NaN          NaN   \n",
       "\n",
       "   Unnamed: 16                                        Unnamed: 17  \n",
       "0          NaN                                                NaN  \n",
       "1          NaN                                                NaN  \n",
       "2          NaN  The Ministry of Corporate Affairs (\"MCA\"), vid...  \n",
       "3          NaN                                                NaN  \n",
       "4          NaN  Present Corporate Social Responsibility Norms ...  "
      ]
     },
     "execution_count": 4,
     "metadata": {},
     "output_type": "execute_result"
    }
   ],
   "source": [
    "# Show dataframe 1\n",
    "CSR_2016_2017_1 = CSR_2016_2017.parse('Sheet1')\n",
    "CSR_2016_2017_1.head()"
   ]
  },
  {
   "cell_type": "code",
   "execution_count": 5,
   "id": "vital-presence",
   "metadata": {},
   "outputs": [
    {
     "data": {
      "text/html": [
       "<div>\n",
       "<style scoped>\n",
       "    .dataframe tbody tr th:only-of-type {\n",
       "        vertical-align: middle;\n",
       "    }\n",
       "\n",
       "    .dataframe tbody tr th {\n",
       "        vertical-align: top;\n",
       "    }\n",
       "\n",
       "    .dataframe thead th {\n",
       "        text-align: right;\n",
       "    }\n",
       "</style>\n",
       "<table border=\"1\" class=\"dataframe\">\n",
       "  <thead>\n",
       "    <tr style=\"text-align: right;\">\n",
       "      <th></th>\n",
       "      <th>Unnamed: 0</th>\n",
       "      <th>Unnamed: 1</th>\n",
       "      <th>Unnamed: 2</th>\n",
       "      <th>Unnamed: 3</th>\n",
       "      <th>Unnamed: 4</th>\n",
       "      <th>Unnamed: 5</th>\n",
       "    </tr>\n",
       "  </thead>\n",
       "  <tbody>\n",
       "    <tr>\n",
       "      <th>0</th>\n",
       "      <td>NaN</td>\n",
       "      <td>NaN</td>\n",
       "      <td>NaN</td>\n",
       "      <td>NaN</td>\n",
       "      <td>NaN</td>\n",
       "      <td>NaN</td>\n",
       "    </tr>\n",
       "    <tr>\n",
       "      <th>1</th>\n",
       "      <td>NaN</td>\n",
       "      <td>Development Sector-wise</td>\n",
       "      <td>NaN</td>\n",
       "      <td>NaN</td>\n",
       "      <td>NaN</td>\n",
       "      <td>NaN</td>\n",
       "    </tr>\n",
       "    <tr>\n",
       "      <th>2</th>\n",
       "      <td>NaN</td>\n",
       "      <td>Development Sectors</td>\n",
       "      <td>NaN</td>\n",
       "      <td>Amount Spent FY 2014-15 (INR Cr.)</td>\n",
       "      <td>Amount Spent FY 2015-16 (INR Cr.)</td>\n",
       "      <td>Amount Spent FY 2016-17 (INR Cr.)</td>\n",
       "    </tr>\n",
       "    <tr>\n",
       "      <th>3</th>\n",
       "      <td>NaN</td>\n",
       "      <td>1</td>\n",
       "      <td>Clean Ganga Fund</td>\n",
       "      <td>5.47</td>\n",
       "      <td>32.65</td>\n",
       "      <td>24.23</td>\n",
       "    </tr>\n",
       "    <tr>\n",
       "      <th>4</th>\n",
       "      <td>NaN</td>\n",
       "      <td>2</td>\n",
       "      <td>Education, Differently Abled, Livelihood</td>\n",
       "      <td>3188.09</td>\n",
       "      <td>4881.26</td>\n",
       "      <td>5123.83</td>\n",
       "    </tr>\n",
       "  </tbody>\n",
       "</table>\n",
       "</div>"
      ],
      "text/plain": [
       "   Unnamed: 0               Unnamed: 1  \\\n",
       "0         NaN                      NaN   \n",
       "1         NaN  Development Sector-wise   \n",
       "2         NaN      Development Sectors   \n",
       "3         NaN                        1   \n",
       "4         NaN                        2   \n",
       "\n",
       "                                 Unnamed: 2  \\\n",
       "0                                       NaN   \n",
       "1                                       NaN   \n",
       "2                                       NaN   \n",
       "3                          Clean Ganga Fund   \n",
       "4  Education, Differently Abled, Livelihood   \n",
       "\n",
       "                          Unnamed: 3                         Unnamed: 4  \\\n",
       "0                                NaN                                NaN   \n",
       "1                                NaN                                NaN   \n",
       "2  Amount Spent FY 2014-15 (INR Cr.)  Amount Spent FY 2015-16 (INR Cr.)   \n",
       "3                               5.47                              32.65   \n",
       "4                            3188.09                            4881.26   \n",
       "\n",
       "                          Unnamed: 5  \n",
       "0                                NaN  \n",
       "1                                NaN  \n",
       "2  Amount Spent FY 2016-17 (INR Cr.)  \n",
       "3                              24.23  \n",
       "4                            5123.83  "
      ]
     },
     "execution_count": 5,
     "metadata": {},
     "output_type": "execute_result"
    }
   ],
   "source": [
    "# Show dataframe 2\n",
    "CSR_2016_2017_2 = CSR_2016_2017.parse('Sheet2')\n",
    "CSR_2016_2017_2.head()"
   ]
  },
  {
   "cell_type": "code",
   "execution_count": 6,
   "id": "aquatic-cliff",
   "metadata": {},
   "outputs": [
    {
     "data": {
      "text/html": [
       "<div>\n",
       "<style scoped>\n",
       "    .dataframe tbody tr th:only-of-type {\n",
       "        vertical-align: middle;\n",
       "    }\n",
       "\n",
       "    .dataframe tbody tr th {\n",
       "        vertical-align: top;\n",
       "    }\n",
       "\n",
       "    .dataframe thead th {\n",
       "        text-align: right;\n",
       "    }\n",
       "</style>\n",
       "<table border=\"1\" class=\"dataframe\">\n",
       "  <thead>\n",
       "    <tr style=\"text-align: right;\">\n",
       "      <th></th>\n",
       "    </tr>\n",
       "  </thead>\n",
       "  <tbody>\n",
       "  </tbody>\n",
       "</table>\n",
       "</div>"
      ],
      "text/plain": [
       "Empty DataFrame\n",
       "Columns: []\n",
       "Index: []"
      ]
     },
     "execution_count": 6,
     "metadata": {},
     "output_type": "execute_result"
    }
   ],
   "source": [
    "# Show dataframe 3\n",
    "CSR_2016_2017_3 = CSR_2016_2017.parse('Sheet3')\n",
    "CSR_2016_2017_3.head()"
   ]
  },
  {
   "cell_type": "markdown",
   "id": "restricted-caution",
   "metadata": {},
   "source": [
    "Sheet 3 is empty."
   ]
  },
  {
   "cell_type": "markdown",
   "id": "burning-slope",
   "metadata": {},
   "source": [
    "**Cleaned datasets** <a class=\"anchor\" id=\"2\"></a>"
   ]
  },
  {
   "cell_type": "markdown",
   "id": "informed-stranger",
   "metadata": {},
   "source": [
    "#### Sheet 1"
   ]
  },
  {
   "cell_type": "markdown",
   "id": "choice-aging",
   "metadata": {},
   "source": [
    "Cleaning up the data in sheet 1:"
   ]
  },
  {
   "cell_type": "code",
   "execution_count": 7,
   "id": "respective-lobby",
   "metadata": {},
   "outputs": [
    {
     "data": {
      "text/html": [
       "<div>\n",
       "<style scoped>\n",
       "    .dataframe tbody tr th:only-of-type {\n",
       "        vertical-align: middle;\n",
       "    }\n",
       "\n",
       "    .dataframe tbody tr th {\n",
       "        vertical-align: top;\n",
       "    }\n",
       "\n",
       "    .dataframe thead th {\n",
       "        text-align: right;\n",
       "    }\n",
       "</style>\n",
       "<table border=\"1\" class=\"dataframe\">\n",
       "  <thead>\n",
       "    <tr style=\"text-align: right;\">\n",
       "      <th></th>\n",
       "      <th>Unnamed: 0</th>\n",
       "      <th>Unnamed: 1</th>\n",
       "      <th>Unnamed: 2</th>\n",
       "      <th>Unnamed: 3</th>\n",
       "      <th>Unnamed: 4</th>\n",
       "      <th>Unnamed: 5</th>\n",
       "      <th>Unnamed: 6</th>\n",
       "      <th>Unnamed: 7</th>\n",
       "      <th>Unnamed: 8</th>\n",
       "      <th>Unnamed: 9</th>\n",
       "      <th>Unnamed: 10</th>\n",
       "      <th>Unnamed: 11</th>\n",
       "      <th>Unnamed: 12</th>\n",
       "      <th>Unnamed: 13</th>\n",
       "      <th>Unnamed: 14</th>\n",
       "      <th>Unnamed: 15</th>\n",
       "      <th>Unnamed: 16</th>\n",
       "      <th>Unnamed: 17</th>\n",
       "    </tr>\n",
       "  </thead>\n",
       "  <tbody>\n",
       "    <tr>\n",
       "      <th>0</th>\n",
       "      <td>NaN</td>\n",
       "      <td>NaN</td>\n",
       "      <td>NaN</td>\n",
       "      <td>NaN</td>\n",
       "      <td>NaN</td>\n",
       "      <td>NaN</td>\n",
       "      <td>NaN</td>\n",
       "      <td>NaN</td>\n",
       "      <td>NaN</td>\n",
       "      <td>NaN</td>\n",
       "      <td>NaN</td>\n",
       "      <td>NaN</td>\n",
       "      <td>NaN</td>\n",
       "      <td>NaN</td>\n",
       "      <td>NaN</td>\n",
       "      <td>NaN</td>\n",
       "      <td>NaN</td>\n",
       "      <td>NaN</td>\n",
       "    </tr>\n",
       "    <tr>\n",
       "      <th>1</th>\n",
       "      <td>NaN</td>\n",
       "      <td>NaN</td>\n",
       "      <td>AS Prescribed</td>\n",
       "      <td>NaN</td>\n",
       "      <td>NaN</td>\n",
       "      <td>NaN</td>\n",
       "      <td>Less than Prescribed</td>\n",
       "      <td>NaN</td>\n",
       "      <td>NaN</td>\n",
       "      <td>NaN</td>\n",
       "      <td>More than Prescribed</td>\n",
       "      <td>NaN</td>\n",
       "      <td>NaN</td>\n",
       "      <td>NaN</td>\n",
       "      <td>NaN</td>\n",
       "      <td>NaN</td>\n",
       "      <td>NaN</td>\n",
       "      <td>NaN</td>\n",
       "    </tr>\n",
       "    <tr>\n",
       "      <th>2</th>\n",
       "      <td>NaN</td>\n",
       "      <td>Contributing Companies</td>\n",
       "      <td>NaN</td>\n",
       "      <td>NaN</td>\n",
       "      <td>NaN</td>\n",
       "      <td>Contributing Companies</td>\n",
       "      <td>NaN</td>\n",
       "      <td>NaN</td>\n",
       "      <td>NaN</td>\n",
       "      <td>NaN</td>\n",
       "      <td>NaN</td>\n",
       "      <td>NaN</td>\n",
       "      <td>NaN</td>\n",
       "      <td>NaN</td>\n",
       "      <td>NaN</td>\n",
       "      <td>NaN</td>\n",
       "      <td>NaN</td>\n",
       "      <td>The Ministry of Corporate Affairs (\"MCA\"), vid...</td>\n",
       "    </tr>\n",
       "    <tr>\n",
       "      <th>3</th>\n",
       "      <td>NaN</td>\n",
       "      <td>S.No.</td>\n",
       "      <td>Company Name(s)</td>\n",
       "      <td>Amount (Actuals)</td>\n",
       "      <td>NaN</td>\n",
       "      <td>S.No.</td>\n",
       "      <td>Company Name(s)</td>\n",
       "      <td>Amount (Actuals)</td>\n",
       "      <td>NaN</td>\n",
       "      <td>S.No.</td>\n",
       "      <td>Company Name(s)</td>\n",
       "      <td>Amount (Actuals)</td>\n",
       "      <td>NaN</td>\n",
       "      <td>NaN</td>\n",
       "      <td>NaN</td>\n",
       "      <td>NaN</td>\n",
       "      <td>NaN</td>\n",
       "      <td>NaN</td>\n",
       "    </tr>\n",
       "    <tr>\n",
       "      <th>4</th>\n",
       "      <td>NaN</td>\n",
       "      <td>1</td>\n",
       "      <td>India Infrastructure Finance Company Limited</td>\n",
       "      <td>244600000</td>\n",
       "      <td>NaN</td>\n",
       "      <td>1</td>\n",
       "      <td>Tata Consultancy Services Limited</td>\n",
       "      <td>2802200000</td>\n",
       "      <td>NaN</td>\n",
       "      <td>1</td>\n",
       "      <td>Reliance Industries Limited</td>\n",
       "      <td>6397000000</td>\n",
       "      <td>NaN</td>\n",
       "      <td>NaN</td>\n",
       "      <td>NaN</td>\n",
       "      <td>NaN</td>\n",
       "      <td>NaN</td>\n",
       "      <td>Present Corporate Social Responsibility Norms ...</td>\n",
       "    </tr>\n",
       "  </tbody>\n",
       "</table>\n",
       "</div>"
      ],
      "text/plain": [
       "   Unnamed: 0              Unnamed: 1  \\\n",
       "0         NaN                     NaN   \n",
       "1         NaN                     NaN   \n",
       "2         NaN  Contributing Companies   \n",
       "3         NaN                   S.No.   \n",
       "4         NaN                       1   \n",
       "\n",
       "                                     Unnamed: 2        Unnamed: 3  Unnamed: 4  \\\n",
       "0                                           NaN               NaN         NaN   \n",
       "1                                 AS Prescribed               NaN         NaN   \n",
       "2                                           NaN               NaN         NaN   \n",
       "3                               Company Name(s)  Amount (Actuals)         NaN   \n",
       "4  India Infrastructure Finance Company Limited         244600000         NaN   \n",
       "\n",
       "               Unnamed: 5                         Unnamed: 6  \\\n",
       "0                     NaN                                NaN   \n",
       "1                     NaN               Less than Prescribed   \n",
       "2  Contributing Companies                                NaN   \n",
       "3                   S.No.                    Company Name(s)   \n",
       "4                       1  Tata Consultancy Services Limited   \n",
       "\n",
       "         Unnamed: 7  Unnamed: 8 Unnamed: 9                  Unnamed: 10  \\\n",
       "0               NaN         NaN        NaN                          NaN   \n",
       "1               NaN         NaN        NaN         More than Prescribed   \n",
       "2               NaN         NaN        NaN                          NaN   \n",
       "3  Amount (Actuals)         NaN      S.No.              Company Name(s)   \n",
       "4        2802200000         NaN          1  Reliance Industries Limited   \n",
       "\n",
       "        Unnamed: 11  Unnamed: 12  Unnamed: 13  Unnamed: 14  Unnamed: 15  \\\n",
       "0               NaN          NaN          NaN          NaN          NaN   \n",
       "1               NaN          NaN          NaN          NaN          NaN   \n",
       "2               NaN          NaN          NaN          NaN          NaN   \n",
       "3  Amount (Actuals)          NaN          NaN          NaN          NaN   \n",
       "4        6397000000          NaN          NaN          NaN          NaN   \n",
       "\n",
       "   Unnamed: 16                                        Unnamed: 17  \n",
       "0          NaN                                                NaN  \n",
       "1          NaN                                                NaN  \n",
       "2          NaN  The Ministry of Corporate Affairs (\"MCA\"), vid...  \n",
       "3          NaN                                                NaN  \n",
       "4          NaN  Present Corporate Social Responsibility Norms ...  "
      ]
     },
     "execution_count": 7,
     "metadata": {},
     "output_type": "execute_result"
    }
   ],
   "source": [
    "CSR_2016_2017_1.head()"
   ]
  },
  {
   "cell_type": "code",
   "execution_count": 8,
   "id": "suspended-bullet",
   "metadata": {},
   "outputs": [
    {
     "data": {
      "text/html": [
       "<div>\n",
       "<style scoped>\n",
       "    .dataframe tbody tr th:only-of-type {\n",
       "        vertical-align: middle;\n",
       "    }\n",
       "\n",
       "    .dataframe tbody tr th {\n",
       "        vertical-align: top;\n",
       "    }\n",
       "\n",
       "    .dataframe thead th {\n",
       "        text-align: right;\n",
       "    }\n",
       "</style>\n",
       "<table border=\"1\" class=\"dataframe\">\n",
       "  <thead>\n",
       "    <tr style=\"text-align: right;\">\n",
       "      <th></th>\n",
       "      <th>S.No.</th>\n",
       "      <th>Company Name(s)</th>\n",
       "      <th>Amount (Actuals)</th>\n",
       "    </tr>\n",
       "  </thead>\n",
       "  <tbody>\n",
       "    <tr>\n",
       "      <th>0</th>\n",
       "      <td>1</td>\n",
       "      <td>India Infrastructure Finance Company Limited</td>\n",
       "      <td>244600000</td>\n",
       "    </tr>\n",
       "    <tr>\n",
       "      <th>1</th>\n",
       "      <td>2</td>\n",
       "      <td>Tata Communications Limited</td>\n",
       "      <td>138500000</td>\n",
       "    </tr>\n",
       "    <tr>\n",
       "      <th>2</th>\n",
       "      <td>3</td>\n",
       "      <td>Infosys Bpo Limited</td>\n",
       "      <td>135800000</td>\n",
       "    </tr>\n",
       "    <tr>\n",
       "      <th>3</th>\n",
       "      <td>4</td>\n",
       "      <td>Gujarat State Fertilizers &amp; Chemicals Limited</td>\n",
       "      <td>122200000</td>\n",
       "    </tr>\n",
       "    <tr>\n",
       "      <th>4</th>\n",
       "      <td>5</td>\n",
       "      <td>Havells India Limited</td>\n",
       "      <td>114800000</td>\n",
       "    </tr>\n",
       "    <tr>\n",
       "      <th>...</th>\n",
       "      <td>...</td>\n",
       "      <td>...</td>\n",
       "      <td>...</td>\n",
       "    </tr>\n",
       "    <tr>\n",
       "      <th>392</th>\n",
       "      <td>393</td>\n",
       "      <td>Aak Kamani Private Limited</td>\n",
       "      <td>0</td>\n",
       "    </tr>\n",
       "    <tr>\n",
       "      <th>393</th>\n",
       "      <td>394</td>\n",
       "      <td>Bombay Oxygen Corporation Limited</td>\n",
       "      <td>0</td>\n",
       "    </tr>\n",
       "    <tr>\n",
       "      <th>394</th>\n",
       "      <td>395</td>\n",
       "      <td>20 Microns Limited</td>\n",
       "      <td>0</td>\n",
       "    </tr>\n",
       "    <tr>\n",
       "      <th>395</th>\n",
       "      <td>396</td>\n",
       "      <td>Hindustan Coca Cola Holdings Private Limited</td>\n",
       "      <td>0</td>\n",
       "    </tr>\n",
       "    <tr>\n",
       "      <th>396</th>\n",
       "      <td>Total</td>\n",
       "      <td>NaN</td>\n",
       "      <td>3665300000</td>\n",
       "    </tr>\n",
       "  </tbody>\n",
       "</table>\n",
       "<p>397 rows × 3 columns</p>\n",
       "</div>"
      ],
      "text/plain": [
       "     S.No.                                Company Name(s) Amount (Actuals)\n",
       "0        1   India Infrastructure Finance Company Limited        244600000\n",
       "1        2                    Tata Communications Limited        138500000\n",
       "2        3                            Infosys Bpo Limited        135800000\n",
       "3        4  Gujarat State Fertilizers & Chemicals Limited        122200000\n",
       "4        5                          Havells India Limited        114800000\n",
       "..     ...                                            ...              ...\n",
       "392    393                     Aak Kamani Private Limited                0\n",
       "393    394              Bombay Oxygen Corporation Limited                0\n",
       "394    395                             20 Microns Limited                0\n",
       "395    396   Hindustan Coca Cola Holdings Private Limited                0\n",
       "396  Total                                            NaN       3665300000\n",
       "\n",
       "[397 rows x 3 columns]"
      ]
     },
     "execution_count": 8,
     "metadata": {},
     "output_type": "execute_result"
    }
   ],
   "source": [
    "as_prescribed = CSR_2016_2017_1.copy()\n",
    "as_prescribed.rename(columns = {'Unnamed: 1' : 'S.No.', 'Unnamed: 2' : 'Company Name(s)', 'Unnamed: 3' : 'Amount (Actuals)'}, inplace = True)\n",
    "as_prescribed = as_prescribed.iloc[4:401, 1:4]\n",
    "as_prescribed = as_prescribed.reset_index(drop = True)\n",
    "as_prescribed"
   ]
  },
  {
   "cell_type": "code",
   "execution_count": 9,
   "id": "premier-cambridge",
   "metadata": {},
   "outputs": [
    {
     "data": {
      "text/html": [
       "<div>\n",
       "<style scoped>\n",
       "    .dataframe tbody tr th:only-of-type {\n",
       "        vertical-align: middle;\n",
       "    }\n",
       "\n",
       "    .dataframe tbody tr th {\n",
       "        vertical-align: top;\n",
       "    }\n",
       "\n",
       "    .dataframe thead th {\n",
       "        text-align: right;\n",
       "    }\n",
       "</style>\n",
       "<table border=\"1\" class=\"dataframe\">\n",
       "  <thead>\n",
       "    <tr style=\"text-align: right;\">\n",
       "      <th></th>\n",
       "      <th>S.No.</th>\n",
       "      <th>Company Name(s)</th>\n",
       "      <th>Amount (Actuals)</th>\n",
       "    </tr>\n",
       "  </thead>\n",
       "  <tbody>\n",
       "    <tr>\n",
       "      <th>0</th>\n",
       "      <td>1</td>\n",
       "      <td>Tata Consultancy Services Limited</td>\n",
       "      <td>2802200000</td>\n",
       "    </tr>\n",
       "    <tr>\n",
       "      <th>1</th>\n",
       "      <td>2</td>\n",
       "      <td>Infosys Limited</td>\n",
       "      <td>2023000000</td>\n",
       "    </tr>\n",
       "    <tr>\n",
       "      <th>2</th>\n",
       "      <td>3</td>\n",
       "      <td>Icici Bank Limited</td>\n",
       "      <td>1715100000</td>\n",
       "    </tr>\n",
       "    <tr>\n",
       "      <th>3</th>\n",
       "      <td>4</td>\n",
       "      <td>Axis Bank Limited</td>\n",
       "      <td>1477800000</td>\n",
       "    </tr>\n",
       "    <tr>\n",
       "      <th>4</th>\n",
       "      <td>5</td>\n",
       "      <td>Housing Development Finance Corporation Limited</td>\n",
       "      <td>1465400000</td>\n",
       "    </tr>\n",
       "    <tr>\n",
       "      <th>...</th>\n",
       "      <td>...</td>\n",
       "      <td>...</td>\n",
       "      <td>...</td>\n",
       "    </tr>\n",
       "    <tr>\n",
       "      <th>6808</th>\n",
       "      <td>6809</td>\n",
       "      <td>Madaus Pharmaceuticals Private Limited</td>\n",
       "      <td>0</td>\n",
       "    </tr>\n",
       "    <tr>\n",
       "      <th>6809</th>\n",
       "      <td>6810</td>\n",
       "      <td>Yahoo India Private Limited</td>\n",
       "      <td>0</td>\n",
       "    </tr>\n",
       "    <tr>\n",
       "      <th>6810</th>\n",
       "      <td>6811</td>\n",
       "      <td>Apeejay Shipping Ltd</td>\n",
       "      <td>0</td>\n",
       "    </tr>\n",
       "    <tr>\n",
       "      <th>6811</th>\n",
       "      <td>6812</td>\n",
       "      <td>Parker Multi-Commodities (India) Private Limited</td>\n",
       "      <td>0</td>\n",
       "    </tr>\n",
       "    <tr>\n",
       "      <th>6812</th>\n",
       "      <td>Total</td>\n",
       "      <td>NaN</td>\n",
       "      <td>39931700000</td>\n",
       "    </tr>\n",
       "  </tbody>\n",
       "</table>\n",
       "<p>6813 rows × 3 columns</p>\n",
       "</div>"
      ],
      "text/plain": [
       "      S.No.                                   Company Name(s) Amount (Actuals)\n",
       "0         1                 Tata Consultancy Services Limited       2802200000\n",
       "1         2                                   Infosys Limited       2023000000\n",
       "2         3                                Icici Bank Limited       1715100000\n",
       "3         4                                 Axis Bank Limited       1477800000\n",
       "4         5   Housing Development Finance Corporation Limited       1465400000\n",
       "...     ...                                               ...              ...\n",
       "6808   6809            Madaus Pharmaceuticals Private Limited                0\n",
       "6809   6810                       Yahoo India Private Limited                0\n",
       "6810   6811                              Apeejay Shipping Ltd                0\n",
       "6811   6812  Parker Multi-Commodities (India) Private Limited                0\n",
       "6812  Total                                               NaN      39931700000\n",
       "\n",
       "[6813 rows x 3 columns]"
      ]
     },
     "execution_count": 9,
     "metadata": {},
     "output_type": "execute_result"
    }
   ],
   "source": [
    "less_prescribed = CSR_2016_2017_1.copy()\n",
    "less_prescribed.rename(columns = {'Unnamed: 5' : 'S.No.', 'Unnamed: 6' : 'Company Name(s)', 'Unnamed: 7' : 'Amount (Actuals)'}, inplace = True)\n",
    "less_prescribed = less_prescribed.iloc[4:, 5:8]\n",
    "less_prescribed = less_prescribed.reset_index(drop = True)\n",
    "less_prescribed"
   ]
  },
  {
   "cell_type": "code",
   "execution_count": 10,
   "id": "mature-induction",
   "metadata": {
    "scrolled": true
   },
   "outputs": [
    {
     "data": {
      "text/html": [
       "<div>\n",
       "<style scoped>\n",
       "    .dataframe tbody tr th:only-of-type {\n",
       "        vertical-align: middle;\n",
       "    }\n",
       "\n",
       "    .dataframe tbody tr th {\n",
       "        vertical-align: top;\n",
       "    }\n",
       "\n",
       "    .dataframe thead th {\n",
       "        text-align: right;\n",
       "    }\n",
       "</style>\n",
       "<table border=\"1\" class=\"dataframe\">\n",
       "  <thead>\n",
       "    <tr style=\"text-align: right;\">\n",
       "      <th></th>\n",
       "      <th>S.No.</th>\n",
       "      <th>Company Name(s)</th>\n",
       "      <th>Amount (Actuals)</th>\n",
       "    </tr>\n",
       "  </thead>\n",
       "  <tbody>\n",
       "    <tr>\n",
       "      <th>0</th>\n",
       "      <td>1</td>\n",
       "      <td>Reliance Industries Limited</td>\n",
       "      <td>6397000000</td>\n",
       "    </tr>\n",
       "    <tr>\n",
       "      <th>1</th>\n",
       "      <td>2</td>\n",
       "      <td>Ntpc Limited</td>\n",
       "      <td>4918000000</td>\n",
       "    </tr>\n",
       "    <tr>\n",
       "      <th>2</th>\n",
       "      <td>3</td>\n",
       "      <td>Oil And Natural Gas Corporation Limited</td>\n",
       "      <td>4089900000</td>\n",
       "    </tr>\n",
       "    <tr>\n",
       "      <th>3</th>\n",
       "      <td>4</td>\n",
       "      <td>Itc Limited</td>\n",
       "      <td>2475000000</td>\n",
       "    </tr>\n",
       "    <tr>\n",
       "      <th>4</th>\n",
       "      <td>5</td>\n",
       "      <td>Central Coalfields Limited</td>\n",
       "      <td>2146000000</td>\n",
       "    </tr>\n",
       "    <tr>\n",
       "      <th>...</th>\n",
       "      <td>...</td>\n",
       "      <td>...</td>\n",
       "      <td>...</td>\n",
       "    </tr>\n",
       "    <tr>\n",
       "      <th>3723</th>\n",
       "      <td>3724</td>\n",
       "      <td>Highend Properties Private Limtied</td>\n",
       "      <td>0</td>\n",
       "    </tr>\n",
       "    <tr>\n",
       "      <th>3724</th>\n",
       "      <td>3725</td>\n",
       "      <td>P.C. Chandra Jewellery Apex Private Limited</td>\n",
       "      <td>0</td>\n",
       "    </tr>\n",
       "    <tr>\n",
       "      <th>3725</th>\n",
       "      <td>3726</td>\n",
       "      <td>Siro Clinpharm Private Limited</td>\n",
       "      <td>0</td>\n",
       "    </tr>\n",
       "    <tr>\n",
       "      <th>3726</th>\n",
       "      <td>3727</td>\n",
       "      <td>Divgi Torqtransfer Systems Private Limited</td>\n",
       "      <td>0</td>\n",
       "    </tr>\n",
       "    <tr>\n",
       "      <th>3727</th>\n",
       "      <td>Total</td>\n",
       "      <td>NaN</td>\n",
       "      <td>100065900000</td>\n",
       "    </tr>\n",
       "  </tbody>\n",
       "</table>\n",
       "<p>3728 rows × 3 columns</p>\n",
       "</div>"
      ],
      "text/plain": [
       "      S.No.                              Company Name(s) Amount (Actuals)\n",
       "0         1                  Reliance Industries Limited       6397000000\n",
       "1         2                                 Ntpc Limited       4918000000\n",
       "2         3      Oil And Natural Gas Corporation Limited       4089900000\n",
       "3         4                                  Itc Limited       2475000000\n",
       "4         5                   Central Coalfields Limited       2146000000\n",
       "...     ...                                          ...              ...\n",
       "3723   3724           Highend Properties Private Limtied                0\n",
       "3724   3725  P.C. Chandra Jewellery Apex Private Limited                0\n",
       "3725   3726               Siro Clinpharm Private Limited                0\n",
       "3726   3727   Divgi Torqtransfer Systems Private Limited                0\n",
       "3727  Total                                          NaN     100065900000\n",
       "\n",
       "[3728 rows x 3 columns]"
      ]
     },
     "execution_count": 10,
     "metadata": {},
     "output_type": "execute_result"
    }
   ],
   "source": [
    "more_prescribed = CSR_2016_2017_1.copy()\n",
    "more_prescribed.rename(columns = {'Unnamed: 9' : 'S.No.', 'Unnamed: 10' : 'Company Name(s)', 'Unnamed: 11' : 'Amount (Actuals)'}, inplace = True)\n",
    "more_prescribed = more_prescribed.iloc[4:3732, 9:12]\n",
    "more_prescribed = more_prescribed.reset_index(drop = True)\n",
    "more_prescribed"
   ]
  },
  {
   "cell_type": "markdown",
   "id": "proved-hearing",
   "metadata": {},
   "source": [
    "#### Sheet 2"
   ]
  },
  {
   "cell_type": "markdown",
   "id": "reflected-linux",
   "metadata": {},
   "source": [
    "Cleaning up the data in sheet 2:"
   ]
  },
  {
   "cell_type": "code",
   "execution_count": 11,
   "id": "israeli-creativity",
   "metadata": {},
   "outputs": [
    {
     "data": {
      "text/html": [
       "<div>\n",
       "<style scoped>\n",
       "    .dataframe tbody tr th:only-of-type {\n",
       "        vertical-align: middle;\n",
       "    }\n",
       "\n",
       "    .dataframe tbody tr th {\n",
       "        vertical-align: top;\n",
       "    }\n",
       "\n",
       "    .dataframe thead th {\n",
       "        text-align: right;\n",
       "    }\n",
       "</style>\n",
       "<table border=\"1\" class=\"dataframe\">\n",
       "  <thead>\n",
       "    <tr style=\"text-align: right;\">\n",
       "      <th></th>\n",
       "      <th>Unnamed: 0</th>\n",
       "      <th>Unnamed: 1</th>\n",
       "      <th>Unnamed: 2</th>\n",
       "      <th>Unnamed: 3</th>\n",
       "      <th>Unnamed: 4</th>\n",
       "      <th>Unnamed: 5</th>\n",
       "    </tr>\n",
       "  </thead>\n",
       "  <tbody>\n",
       "    <tr>\n",
       "      <th>0</th>\n",
       "      <td>NaN</td>\n",
       "      <td>NaN</td>\n",
       "      <td>NaN</td>\n",
       "      <td>NaN</td>\n",
       "      <td>NaN</td>\n",
       "      <td>NaN</td>\n",
       "    </tr>\n",
       "    <tr>\n",
       "      <th>1</th>\n",
       "      <td>NaN</td>\n",
       "      <td>Development Sector-wise</td>\n",
       "      <td>NaN</td>\n",
       "      <td>NaN</td>\n",
       "      <td>NaN</td>\n",
       "      <td>NaN</td>\n",
       "    </tr>\n",
       "    <tr>\n",
       "      <th>2</th>\n",
       "      <td>NaN</td>\n",
       "      <td>Development Sectors</td>\n",
       "      <td>NaN</td>\n",
       "      <td>Amount Spent FY 2014-15 (INR Cr.)</td>\n",
       "      <td>Amount Spent FY 2015-16 (INR Cr.)</td>\n",
       "      <td>Amount Spent FY 2016-17 (INR Cr.)</td>\n",
       "    </tr>\n",
       "    <tr>\n",
       "      <th>3</th>\n",
       "      <td>NaN</td>\n",
       "      <td>1</td>\n",
       "      <td>Clean Ganga Fund</td>\n",
       "      <td>5.47</td>\n",
       "      <td>32.65</td>\n",
       "      <td>24.23</td>\n",
       "    </tr>\n",
       "    <tr>\n",
       "      <th>4</th>\n",
       "      <td>NaN</td>\n",
       "      <td>2</td>\n",
       "      <td>Education, Differently Abled, Livelihood</td>\n",
       "      <td>3188.09</td>\n",
       "      <td>4881.26</td>\n",
       "      <td>5123.83</td>\n",
       "    </tr>\n",
       "  </tbody>\n",
       "</table>\n",
       "</div>"
      ],
      "text/plain": [
       "   Unnamed: 0               Unnamed: 1  \\\n",
       "0         NaN                      NaN   \n",
       "1         NaN  Development Sector-wise   \n",
       "2         NaN      Development Sectors   \n",
       "3         NaN                        1   \n",
       "4         NaN                        2   \n",
       "\n",
       "                                 Unnamed: 2  \\\n",
       "0                                       NaN   \n",
       "1                                       NaN   \n",
       "2                                       NaN   \n",
       "3                          Clean Ganga Fund   \n",
       "4  Education, Differently Abled, Livelihood   \n",
       "\n",
       "                          Unnamed: 3                         Unnamed: 4  \\\n",
       "0                                NaN                                NaN   \n",
       "1                                NaN                                NaN   \n",
       "2  Amount Spent FY 2014-15 (INR Cr.)  Amount Spent FY 2015-16 (INR Cr.)   \n",
       "3                               5.47                              32.65   \n",
       "4                            3188.09                            4881.26   \n",
       "\n",
       "                          Unnamed: 5  \n",
       "0                                NaN  \n",
       "1                                NaN  \n",
       "2  Amount Spent FY 2016-17 (INR Cr.)  \n",
       "3                              24.23  \n",
       "4                            5123.83  "
      ]
     },
     "execution_count": 11,
     "metadata": {},
     "output_type": "execute_result"
    }
   ],
   "source": [
    "CSR_2016_2017_2.head()"
   ]
  },
  {
   "cell_type": "code",
   "execution_count": 12,
   "id": "beginning-integration",
   "metadata": {
    "scrolled": true
   },
   "outputs": [
    {
     "data": {
      "text/html": [
       "<div>\n",
       "<style scoped>\n",
       "    .dataframe tbody tr th:only-of-type {\n",
       "        vertical-align: middle;\n",
       "    }\n",
       "\n",
       "    .dataframe tbody tr th {\n",
       "        vertical-align: top;\n",
       "    }\n",
       "\n",
       "    .dataframe thead th {\n",
       "        text-align: right;\n",
       "    }\n",
       "</style>\n",
       "<table border=\"1\" class=\"dataframe\">\n",
       "  <thead>\n",
       "    <tr style=\"text-align: right;\">\n",
       "      <th></th>\n",
       "      <th>Development Sectors</th>\n",
       "      <th>Amount Spent FY 2014-15 (INR Cr.)</th>\n",
       "      <th>Amount Spent FY 2015-16 (INR Cr.)</th>\n",
       "      <th>Amount Spent FY 2016-17 (INR Cr.)</th>\n",
       "    </tr>\n",
       "  </thead>\n",
       "  <tbody>\n",
       "    <tr>\n",
       "      <th>0</th>\n",
       "      <td>Clean Ganga Fund</td>\n",
       "      <td>5.47</td>\n",
       "      <td>32.65</td>\n",
       "      <td>24.23</td>\n",
       "    </tr>\n",
       "    <tr>\n",
       "      <th>1</th>\n",
       "      <td>Education, Differently Abled, Livelihood</td>\n",
       "      <td>3188.09</td>\n",
       "      <td>4881.26</td>\n",
       "      <td>5123.83</td>\n",
       "    </tr>\n",
       "    <tr>\n",
       "      <th>2</th>\n",
       "      <td>Encouraging Sports</td>\n",
       "      <td>57.61</td>\n",
       "      <td>137.58</td>\n",
       "      <td>172.53</td>\n",
       "    </tr>\n",
       "    <tr>\n",
       "      <th>3</th>\n",
       "      <td>Environment, Animal Welfare, Conservation Of R...</td>\n",
       "      <td>853.99</td>\n",
       "      <td>963.22</td>\n",
       "      <td>1282.34</td>\n",
       "    </tr>\n",
       "    <tr>\n",
       "      <th>4</th>\n",
       "      <td>Gender Equality , Women Empowerment , Old Age ...</td>\n",
       "      <td>189.92</td>\n",
       "      <td>337.44</td>\n",
       "      <td>434.75</td>\n",
       "    </tr>\n",
       "    <tr>\n",
       "      <th>5</th>\n",
       "      <td>Health, Eradicating Hunger, Poverty And Malnut...</td>\n",
       "      <td>2525.92</td>\n",
       "      <td>4545</td>\n",
       "      <td>3397</td>\n",
       "    </tr>\n",
       "    <tr>\n",
       "      <th>6</th>\n",
       "      <td>Heritage Art And Culture</td>\n",
       "      <td>117.37</td>\n",
       "      <td>117.58</td>\n",
       "      <td>296.85</td>\n",
       "    </tr>\n",
       "    <tr>\n",
       "      <th>7</th>\n",
       "      <td>Other Sectors ( Technology Incubator And Benef...</td>\n",
       "      <td>9.5</td>\n",
       "      <td>37.15</td>\n",
       "      <td>58.71</td>\n",
       "    </tr>\n",
       "    <tr>\n",
       "      <th>8</th>\n",
       "      <td>Prime Ministers National Relief Fund</td>\n",
       "      <td>228.18</td>\n",
       "      <td>213.7</td>\n",
       "      <td>150.7</td>\n",
       "    </tr>\n",
       "    <tr>\n",
       "      <th>9</th>\n",
       "      <td>Rural Development</td>\n",
       "      <td>1059.34</td>\n",
       "      <td>1369.52</td>\n",
       "      <td>1507.45</td>\n",
       "    </tr>\n",
       "    <tr>\n",
       "      <th>10</th>\n",
       "      <td>Slum Area Development</td>\n",
       "      <td>101.14</td>\n",
       "      <td>14.3</td>\n",
       "      <td>49.81</td>\n",
       "    </tr>\n",
       "    <tr>\n",
       "      <th>11</th>\n",
       "      <td>Swachh Bharat Kosh</td>\n",
       "      <td>113.86</td>\n",
       "      <td>324.72</td>\n",
       "      <td>165.09</td>\n",
       "    </tr>\n",
       "    <tr>\n",
       "      <th>12</th>\n",
       "      <td>Any Other Fund</td>\n",
       "      <td>277.09</td>\n",
       "      <td>326.88</td>\n",
       "      <td>412.38</td>\n",
       "    </tr>\n",
       "    <tr>\n",
       "      <th>13</th>\n",
       "      <td>NEC/ Not Mentioned</td>\n",
       "      <td>1338.39</td>\n",
       "      <td>1065.22</td>\n",
       "      <td>388.86</td>\n",
       "    </tr>\n",
       "    <tr>\n",
       "      <th>14</th>\n",
       "      <td>Grand Total (in Cr.)</td>\n",
       "      <td>10065.93</td>\n",
       "      <td>14366.29</td>\n",
       "      <td>13464.6</td>\n",
       "    </tr>\n",
       "  </tbody>\n",
       "</table>\n",
       "</div>"
      ],
      "text/plain": [
       "                                  Development Sectors  \\\n",
       "0                                    Clean Ganga Fund   \n",
       "1            Education, Differently Abled, Livelihood   \n",
       "2                                  Encouraging Sports   \n",
       "3   Environment, Animal Welfare, Conservation Of R...   \n",
       "4   Gender Equality , Women Empowerment , Old Age ...   \n",
       "5   Health, Eradicating Hunger, Poverty And Malnut...   \n",
       "6                            Heritage Art And Culture   \n",
       "7   Other Sectors ( Technology Incubator And Benef...   \n",
       "8                Prime Ministers National Relief Fund   \n",
       "9                                   Rural Development   \n",
       "10                              Slum Area Development   \n",
       "11                                 Swachh Bharat Kosh   \n",
       "12                                     Any Other Fund   \n",
       "13                                 NEC/ Not Mentioned   \n",
       "14                               Grand Total (in Cr.)   \n",
       "\n",
       "   Amount Spent FY 2014-15 (INR Cr.) Amount Spent FY 2015-16 (INR Cr.)  \\\n",
       "0                               5.47                             32.65   \n",
       "1                            3188.09                           4881.26   \n",
       "2                              57.61                            137.58   \n",
       "3                             853.99                            963.22   \n",
       "4                             189.92                            337.44   \n",
       "5                            2525.92                              4545   \n",
       "6                             117.37                            117.58   \n",
       "7                                9.5                             37.15   \n",
       "8                             228.18                             213.7   \n",
       "9                            1059.34                           1369.52   \n",
       "10                            101.14                              14.3   \n",
       "11                            113.86                            324.72   \n",
       "12                            277.09                            326.88   \n",
       "13                           1338.39                           1065.22   \n",
       "14                          10065.93                          14366.29   \n",
       "\n",
       "   Amount Spent FY 2016-17 (INR Cr.)  \n",
       "0                              24.23  \n",
       "1                            5123.83  \n",
       "2                             172.53  \n",
       "3                            1282.34  \n",
       "4                             434.75  \n",
       "5                               3397  \n",
       "6                             296.85  \n",
       "7                              58.71  \n",
       "8                              150.7  \n",
       "9                            1507.45  \n",
       "10                             49.81  \n",
       "11                            165.09  \n",
       "12                            412.38  \n",
       "13                            388.86  \n",
       "14                           13464.6  "
      ]
     },
     "execution_count": 12,
     "metadata": {},
     "output_type": "execute_result"
    }
   ],
   "source": [
    "sheet_2 = CSR_2016_2017_2.copy()\n",
    "sheet_2 = sheet_2.rename(columns = {'Unnamed: 2' : 'Development Sectors', 'Unnamed: 3' : 'Amount Spent FY 2014-15 (INR Cr.)', 'Unnamed: 4' : 'Amount Spent FY 2015-16 (INR Cr.)', 'Unnamed: 5' : 'Amount Spent FY 2016-17 (INR Cr.)'})\n",
    "sheet_2 = sheet_2.iloc[3:, 2:]\n",
    "sheet_2 = sheet_2.reset_index(drop = True)\n",
    "sheet_2['Development Sectors'] = sheet_2['Development Sectors'].fillna('Grand Total (in Cr.)')\n",
    "sheet_2"
   ]
  },
  {
   "cell_type": "markdown",
   "id": "humanitarian-nursery",
   "metadata": {},
   "source": [
    "**What's in this dataset?** <a class=\"anchor\" id=\"3\"></a>"
   ]
  },
  {
   "cell_type": "code",
   "execution_count": 13,
   "id": "sexual-corporation",
   "metadata": {},
   "outputs": [
    {
     "name": "stdout",
     "output_type": "stream",
     "text": [
      "Sheet 1:\n",
      "\n",
      "\n",
      "As Prescribed:\n",
      "Shape: (397, 3)\n",
      "Rows: 397\n",
      "Columns: 3\n",
      "Each row is a company who spent exactly 2% of their earnings on CSR (Corporate Social Responsibility).\n",
      "\n",
      "\n",
      "Less Than Prescribed:\n",
      "Shape: (6813, 3)\n",
      "Rows: 6813\n",
      "Columns: 3\n",
      "Each row is a company who spent less than 2% of their earnings on CSR (Corporate Social Responsibility).\n",
      "\n",
      "\n",
      "More Than Prescribed:\n",
      "Shape: (3728, 3)\n",
      "Rows: 3728\n",
      "Columns: 3\n",
      "Each row is a company who spent more than 2% of their earnings on CSR (Corporate Social Responsibility).\n",
      "\n",
      "\n",
      "\n",
      "\n",
      "Sheet 2:\n",
      "Shape: (15, 4)\n",
      "Rows: 15\n",
      "Columns: 4\n",
      "Each row is a development sector of CSR and how much was spent on that sector each year.\n"
     ]
    }
   ],
   "source": [
    "print(\"Sheet 1:\")\n",
    "print('\\n')\n",
    "print(\"As Prescribed:\")\n",
    "print(\"Shape:\", as_prescribed.shape)\n",
    "print(\"Rows:\", as_prescribed.shape[0])\n",
    "print(\"Columns:\", as_prescribed.shape[1])\n",
    "print(\"Each row is a company who spent exactly 2% of their earnings on CSR (Corporate Social Responsibility).\")\n",
    "print('\\n')\n",
    "print(\"Less Than Prescribed:\")\n",
    "print(\"Shape:\", less_prescribed.shape)\n",
    "print(\"Rows:\", less_prescribed.shape[0])\n",
    "print(\"Columns:\", less_prescribed.shape[1])\n",
    "print(\"Each row is a company who spent less than 2% of their earnings on CSR (Corporate Social Responsibility).\")\n",
    "print('\\n')\n",
    "print(\"More Than Prescribed:\")\n",
    "print(\"Shape:\", more_prescribed.shape)\n",
    "print(\"Rows:\", more_prescribed.shape[0])\n",
    "print(\"Columns:\", more_prescribed.shape[1])\n",
    "print(\"Each row is a company who spent more than 2% of their earnings on CSR (Corporate Social Responsibility).\")\n",
    "\n",
    "print('\\n')\n",
    "print('\\n')\n",
    "print(\"Sheet 2:\")\n",
    "print(\"Shape:\", sheet_2.shape)\n",
    "print(\"Rows:\", sheet_2.shape[0])\n",
    "print(\"Columns:\", sheet_2.shape[1])\n",
    "print(\"Each row is a development sector of CSR and how much was spent on that sector each year.\")"
   ]
  },
  {
   "cell_type": "markdown",
   "id": "nervous-bankruptcy",
   "metadata": {},
   "source": [
    "##### So what does this mean?"
   ]
  },
  {
   "cell_type": "markdown",
   "id": "protective-corrections",
   "metadata": {},
   "source": [
    "In India, every company is supposed to spend 2% of their earnings on Corporate Social Responsibility (CSR). The first sheet is showing every company that spent exactly 2%, less than 2%, and more than 2% on CSR in the year 2016-2017. The total amounts shown are in INR (Indian Rupees). The second sheet is showing how these CSR donations are divided up each year. There are several different sectors of where donations go, and this sheet shows how much money is donated to each sector over the span of three years. The total amounts are shown in Cr (Crores). "
   ]
  },
  {
   "cell_type": "markdown",
   "id": "early-broad",
   "metadata": {},
   "source": [
    "**Codebook** <a class=\"anchor\" id=\"4\"></a>"
   ]
  },
  {
   "cell_type": "code",
   "execution_count": 14,
   "id": "healthy-warehouse",
   "metadata": {},
   "outputs": [
    {
     "name": "stdout",
     "output_type": "stream",
     "text": [
      "Codebook for As Prescribed, Less than Prescribed, and More than Prescribed:\n"
     ]
    },
    {
     "data": {
      "text/html": [
       "<style  type=\"text/css\" >\n",
       "#T_76f13_row0_col1,#T_76f13_row1_col1,#T_76f13_row2_col1{\n",
       "            width:  600px;\n",
       "        }</style><table id=\"T_76f13_\" ><thead>    <tr>        <th class=\"blank level0\" ></th>        <th class=\"col_heading level0 col0\" >Column Name</th>        <th class=\"col_heading level0 col1\" >Description</th>        <th class=\"col_heading level0 col2\" >Type</th>    </tr></thead><tbody>\n",
       "                <tr>\n",
       "                        <th id=\"T_76f13_level0_row0\" class=\"row_heading level0 row0\" >0</th>\n",
       "                        <td id=\"T_76f13_row0_col0\" class=\"data row0 col0\" >S.No.</td>\n",
       "                        <td id=\"T_76f13_row0_col1\" class=\"data row0 col1\" >Counting how many companies in the DataFrame. The ordering is based on how much each company spent on CSR in 2016-17 in relation to the other companies in the DataFrame.</td>\n",
       "                        <td id=\"T_76f13_row0_col2\" class=\"data row0 col2\" >object</td>\n",
       "            </tr>\n",
       "            <tr>\n",
       "                        <th id=\"T_76f13_level0_row1\" class=\"row_heading level0 row1\" >1</th>\n",
       "                        <td id=\"T_76f13_row1_col0\" class=\"data row1 col0\" >Company Name(s)</td>\n",
       "                        <td id=\"T_76f13_row1_col1\" class=\"data row1 col1\" >The name of the company.</td>\n",
       "                        <td id=\"T_76f13_row1_col2\" class=\"data row1 col2\" >object</td>\n",
       "            </tr>\n",
       "            <tr>\n",
       "                        <th id=\"T_76f13_level0_row2\" class=\"row_heading level0 row2\" >2</th>\n",
       "                        <td id=\"T_76f13_row2_col0\" class=\"data row2 col0\" >Amount (Actuals)</td>\n",
       "                        <td id=\"T_76f13_row2_col1\" class=\"data row2 col1\" >Amount of money (in Rupees) spent on CSR in 2016-17. Ordered by decreasing amount.</td>\n",
       "                        <td id=\"T_76f13_row2_col2\" class=\"data row2 col2\" >object</td>\n",
       "            </tr>\n",
       "    </tbody></table>"
      ],
      "text/plain": [
       "<pandas.io.formats.style.Styler at 0x124629880>"
      ]
     },
     "execution_count": 14,
     "metadata": {},
     "output_type": "execute_result"
    }
   ],
   "source": [
    "print(\"Codebook for As Prescribed, Less than Prescribed, and More than Prescribed:\")\n",
    "as_prescribed_columns = [column for column in as_prescribed.columns]\n",
    "as_prescribed_description = [\"Counting how many companies in the DataFrame. The ordering is based on how much each company spent on CSR in 2016-17 in relation to the other companies in the DataFrame.\",\n",
    "                            \"The name of the company.\",\n",
    "                            \"Amount of money (in Rupees) spent on CSR in 2016-17. Ordered by decreasing amount.\"]\n",
    "as_prescribed_dtypes = [dtype for dtype in as_prescribed.dtypes]\n",
    "\n",
    "data_1 = {\"Column Name\": as_prescribed_columns, \"Description\": as_prescribed_description, \"Type\": as_prescribed_dtypes}\n",
    "as_prescribed_codebook = pd.DataFrame(data_1)\n",
    "as_prescribed_codebook.style.set_properties(subset=['Description'], **{'width': '600px'})"
   ]
  },
  {
   "cell_type": "code",
   "execution_count": 15,
   "id": "future-lyric",
   "metadata": {},
   "outputs": [
    {
     "name": "stdout",
     "output_type": "stream",
     "text": [
      "Codebook for Sheet 2:\n"
     ]
    },
    {
     "data": {
      "text/html": [
       "<style  type=\"text/css\" >\n",
       "#T_faef7_row0_col1,#T_faef7_row1_col1,#T_faef7_row2_col1,#T_faef7_row3_col1{\n",
       "            width:  600px;\n",
       "        }</style><table id=\"T_faef7_\" ><thead>    <tr>        <th class=\"blank level0\" ></th>        <th class=\"col_heading level0 col0\" >Column Name</th>        <th class=\"col_heading level0 col1\" >Description</th>        <th class=\"col_heading level0 col2\" >Type</th>    </tr></thead><tbody>\n",
       "                <tr>\n",
       "                        <th id=\"T_faef7_level0_row0\" class=\"row_heading level0 row0\" >0</th>\n",
       "                        <td id=\"T_faef7_row0_col0\" class=\"data row0 col0\" >Development Sectors</td>\n",
       "                        <td id=\"T_faef7_row0_col1\" class=\"data row0 col1\" >The different sectors that CSR donations are divided into.</td>\n",
       "                        <td id=\"T_faef7_row0_col2\" class=\"data row0 col2\" >object</td>\n",
       "            </tr>\n",
       "            <tr>\n",
       "                        <th id=\"T_faef7_level0_row1\" class=\"row_heading level0 row1\" >1</th>\n",
       "                        <td id=\"T_faef7_row1_col0\" class=\"data row1 col0\" >Amount Spent FY 2014-15 (INR Cr.)</td>\n",
       "                        <td id=\"T_faef7_row1_col1\" class=\"data row1 col1\" >Amount of money (in Cr.) spent in total in each sector in 2014-15.</td>\n",
       "                        <td id=\"T_faef7_row1_col2\" class=\"data row1 col2\" >object</td>\n",
       "            </tr>\n",
       "            <tr>\n",
       "                        <th id=\"T_faef7_level0_row2\" class=\"row_heading level0 row2\" >2</th>\n",
       "                        <td id=\"T_faef7_row2_col0\" class=\"data row2 col0\" >Amount Spent FY 2015-16 (INR Cr.)</td>\n",
       "                        <td id=\"T_faef7_row2_col1\" class=\"data row2 col1\" >Amount of money (in Cr.) spent in total in each sector in 2015-16.</td>\n",
       "                        <td id=\"T_faef7_row2_col2\" class=\"data row2 col2\" >object</td>\n",
       "            </tr>\n",
       "            <tr>\n",
       "                        <th id=\"T_faef7_level0_row3\" class=\"row_heading level0 row3\" >3</th>\n",
       "                        <td id=\"T_faef7_row3_col0\" class=\"data row3 col0\" >Amount Spent FY 2016-17 (INR Cr.)</td>\n",
       "                        <td id=\"T_faef7_row3_col1\" class=\"data row3 col1\" >Amount of money (in Cr.) spent in total in each sector in 2016-17.</td>\n",
       "                        <td id=\"T_faef7_row3_col2\" class=\"data row3 col2\" >object</td>\n",
       "            </tr>\n",
       "    </tbody></table>"
      ],
      "text/plain": [
       "<pandas.io.formats.style.Styler at 0x124a636d0>"
      ]
     },
     "execution_count": 15,
     "metadata": {},
     "output_type": "execute_result"
    }
   ],
   "source": [
    "print(\"Codebook for Sheet 2:\")\n",
    "sheet_2_columns = [column for column in sheet_2.columns]\n",
    "sheet_2_description = [\"The different sectors that CSR donations are divided into.\", \n",
    "                       \"Amount of money (in Cr.) spent in total in each sector in 2014-15.\", \n",
    "                       \"Amount of money (in Cr.) spent in total in each sector in 2015-16.\", \n",
    "                       \"Amount of money (in Cr.) spent in total in each sector in 2016-17.\"]\n",
    "sheet_2_dtypes = [dtype for dtype in sheet_2.dtypes]\n",
    "\n",
    "data_2 = {\"Column Name\": sheet_2_columns, \"Description\": sheet_2_description, \"Type\": sheet_2_dtypes}\n",
    "sheet_2_codebook = pd.DataFrame(data_2)\n",
    "sheet_2_codebook.style.set_properties(subset=['Description'], **{'width': '600px'})"
   ]
  },
  {
   "cell_type": "markdown",
   "id": "individual-swimming",
   "metadata": {},
   "source": [
    "**Missing values** <a class=\"anchor\" id=\"4.1\"></a>"
   ]
  },
  {
   "cell_type": "code",
   "execution_count": 16,
   "id": "square-beauty",
   "metadata": {},
   "outputs": [
    {
     "data": {
      "text/plain": [
       "S.No.               0\n",
       "Company Name(s)     1\n",
       "Amount (Actuals)    0\n",
       "dtype: int64"
      ]
     },
     "execution_count": 16,
     "metadata": {},
     "output_type": "execute_result"
    }
   ],
   "source": [
    "as_prescribed.isnull().sum()"
   ]
  },
  {
   "cell_type": "code",
   "execution_count": 17,
   "id": "boxed-medium",
   "metadata": {},
   "outputs": [
    {
     "data": {
      "text/plain": [
       "S.No.                0\n",
       "Company Name(s)     64\n",
       "Amount (Actuals)     1\n",
       "dtype: int64"
      ]
     },
     "execution_count": 17,
     "metadata": {},
     "output_type": "execute_result"
    }
   ],
   "source": [
    "less_prescribed.isnull().sum()"
   ]
  },
  {
   "cell_type": "code",
   "execution_count": 18,
   "id": "false-background",
   "metadata": {},
   "outputs": [
    {
     "data": {
      "text/plain": [
       "S.No.               0\n",
       "Company Name(s)     1\n",
       "Amount (Actuals)    0\n",
       "dtype: int64"
      ]
     },
     "execution_count": 18,
     "metadata": {},
     "output_type": "execute_result"
    }
   ],
   "source": [
    "more_prescribed.isnull().sum()"
   ]
  },
  {
   "cell_type": "code",
   "execution_count": 19,
   "id": "obvious-violation",
   "metadata": {},
   "outputs": [
    {
     "data": {
      "text/plain": [
       "Development Sectors                  0\n",
       "Amount Spent FY 2014-15 (INR Cr.)    0\n",
       "Amount Spent FY 2015-16 (INR Cr.)    0\n",
       "Amount Spent FY 2016-17 (INR Cr.)    0\n",
       "dtype: int64"
      ]
     },
     "execution_count": 19,
     "metadata": {},
     "output_type": "execute_result"
    }
   ],
   "source": [
    "sheet_2.isnull().sum()"
   ]
  },
  {
   "cell_type": "code",
   "execution_count": 20,
   "id": "unavailable-extent",
   "metadata": {},
   "outputs": [
    {
     "data": {
      "text/html": [
       "<div>\n",
       "<style scoped>\n",
       "    .dataframe tbody tr th:only-of-type {\n",
       "        vertical-align: middle;\n",
       "    }\n",
       "\n",
       "    .dataframe tbody tr th {\n",
       "        vertical-align: top;\n",
       "    }\n",
       "\n",
       "    .dataframe thead th {\n",
       "        text-align: right;\n",
       "    }\n",
       "</style>\n",
       "<table border=\"1\" class=\"dataframe\">\n",
       "  <thead>\n",
       "    <tr style=\"text-align: right;\">\n",
       "      <th></th>\n",
       "      <th>S.No.</th>\n",
       "      <th>Company Name(s)</th>\n",
       "      <th>Amount (Actuals)</th>\n",
       "    </tr>\n",
       "  </thead>\n",
       "  <tbody>\n",
       "    <tr>\n",
       "      <th>3248</th>\n",
       "      <td>3249</td>\n",
       "      <td>NaN</td>\n",
       "      <td>0</td>\n",
       "    </tr>\n",
       "    <tr>\n",
       "      <th>3250</th>\n",
       "      <td>3251</td>\n",
       "      <td>NaN</td>\n",
       "      <td>0</td>\n",
       "    </tr>\n",
       "    <tr>\n",
       "      <th>3343</th>\n",
       "      <td>3344</td>\n",
       "      <td>NaN</td>\n",
       "      <td>0</td>\n",
       "    </tr>\n",
       "    <tr>\n",
       "      <th>3423</th>\n",
       "      <td>3424</td>\n",
       "      <td>NaN</td>\n",
       "      <td>0</td>\n",
       "    </tr>\n",
       "    <tr>\n",
       "      <th>3433</th>\n",
       "      <td>3434</td>\n",
       "      <td>NaN</td>\n",
       "      <td>0</td>\n",
       "    </tr>\n",
       "    <tr>\n",
       "      <th>...</th>\n",
       "      <td>...</td>\n",
       "      <td>...</td>\n",
       "      <td>...</td>\n",
       "    </tr>\n",
       "    <tr>\n",
       "      <th>6526</th>\n",
       "      <td>6527</td>\n",
       "      <td>NaN</td>\n",
       "      <td>0</td>\n",
       "    </tr>\n",
       "    <tr>\n",
       "      <th>6662</th>\n",
       "      <td>6663</td>\n",
       "      <td>NaN</td>\n",
       "      <td>0</td>\n",
       "    </tr>\n",
       "    <tr>\n",
       "      <th>6664</th>\n",
       "      <td>6665</td>\n",
       "      <td>NaN</td>\n",
       "      <td>0</td>\n",
       "    </tr>\n",
       "    <tr>\n",
       "      <th>6794</th>\n",
       "      <td>6795</td>\n",
       "      <td>NaN</td>\n",
       "      <td>0</td>\n",
       "    </tr>\n",
       "    <tr>\n",
       "      <th>6812</th>\n",
       "      <td>Total</td>\n",
       "      <td>NaN</td>\n",
       "      <td>39931700000</td>\n",
       "    </tr>\n",
       "  </tbody>\n",
       "</table>\n",
       "<p>64 rows × 3 columns</p>\n",
       "</div>"
      ],
      "text/plain": [
       "      S.No. Company Name(s) Amount (Actuals)\n",
       "3248   3249             NaN                0\n",
       "3250   3251             NaN                0\n",
       "3343   3344             NaN                0\n",
       "3423   3424             NaN                0\n",
       "3433   3434             NaN                0\n",
       "...     ...             ...              ...\n",
       "6526   6527             NaN                0\n",
       "6662   6663             NaN                0\n",
       "6664   6665             NaN                0\n",
       "6794   6795             NaN                0\n",
       "6812  Total             NaN      39931700000\n",
       "\n",
       "[64 rows x 3 columns]"
      ]
     },
     "execution_count": 20,
     "metadata": {},
     "output_type": "execute_result"
    }
   ],
   "source": [
    "less_prescribed.loc[less_prescribed['Company Name(s)'].isnull()]"
   ]
  },
  {
   "cell_type": "markdown",
   "id": "realistic-nebraska",
   "metadata": {},
   "source": [
    "The 1 missing value in the \"Company Name(s)\" column in the As Prescribed and More than Prescribed DataFrames are in the last row, which is summing the totals. In the Less than Prescribed DataFrame, however, there are 64 NaN values in the \"Company Name(s)\" column. As we can see above, 1 of those is the total row and the other 63 are rows where the \"Amount (Actuals)\" value is 0. We can remove these rows, except for the total row, as they do not provide any information and are most likely mistakes."
   ]
  },
  {
   "cell_type": "code",
   "execution_count": 21,
   "id": "critical-checkout",
   "metadata": {},
   "outputs": [
    {
     "data": {
      "text/html": [
       "<div>\n",
       "<style scoped>\n",
       "    .dataframe tbody tr th:only-of-type {\n",
       "        vertical-align: middle;\n",
       "    }\n",
       "\n",
       "    .dataframe tbody tr th {\n",
       "        vertical-align: top;\n",
       "    }\n",
       "\n",
       "    .dataframe thead th {\n",
       "        text-align: right;\n",
       "    }\n",
       "</style>\n",
       "<table border=\"1\" class=\"dataframe\">\n",
       "  <thead>\n",
       "    <tr style=\"text-align: right;\">\n",
       "      <th></th>\n",
       "      <th>S.No.</th>\n",
       "      <th>Company Name(s)</th>\n",
       "      <th>Amount (Actuals)</th>\n",
       "    </tr>\n",
       "  </thead>\n",
       "  <tbody>\n",
       "    <tr>\n",
       "      <th>0</th>\n",
       "      <td>1</td>\n",
       "      <td>Tata Consultancy Services Limited</td>\n",
       "      <td>2802200000</td>\n",
       "    </tr>\n",
       "    <tr>\n",
       "      <th>1</th>\n",
       "      <td>2</td>\n",
       "      <td>Infosys Limited</td>\n",
       "      <td>2023000000</td>\n",
       "    </tr>\n",
       "    <tr>\n",
       "      <th>2</th>\n",
       "      <td>3</td>\n",
       "      <td>Icici Bank Limited</td>\n",
       "      <td>1715100000</td>\n",
       "    </tr>\n",
       "    <tr>\n",
       "      <th>3</th>\n",
       "      <td>4</td>\n",
       "      <td>Axis Bank Limited</td>\n",
       "      <td>1477800000</td>\n",
       "    </tr>\n",
       "    <tr>\n",
       "      <th>4</th>\n",
       "      <td>5</td>\n",
       "      <td>Housing Development Finance Corporation Limited</td>\n",
       "      <td>1465400000</td>\n",
       "    </tr>\n",
       "    <tr>\n",
       "      <th>...</th>\n",
       "      <td>...</td>\n",
       "      <td>...</td>\n",
       "      <td>...</td>\n",
       "    </tr>\n",
       "    <tr>\n",
       "      <th>6744</th>\n",
       "      <td>6809</td>\n",
       "      <td>Madaus Pharmaceuticals Private Limited</td>\n",
       "      <td>0</td>\n",
       "    </tr>\n",
       "    <tr>\n",
       "      <th>6745</th>\n",
       "      <td>6810</td>\n",
       "      <td>Yahoo India Private Limited</td>\n",
       "      <td>0</td>\n",
       "    </tr>\n",
       "    <tr>\n",
       "      <th>6746</th>\n",
       "      <td>6811</td>\n",
       "      <td>Apeejay Shipping Ltd</td>\n",
       "      <td>0</td>\n",
       "    </tr>\n",
       "    <tr>\n",
       "      <th>6747</th>\n",
       "      <td>6812</td>\n",
       "      <td>Parker Multi-Commodities (India) Private Limited</td>\n",
       "      <td>0</td>\n",
       "    </tr>\n",
       "    <tr>\n",
       "      <th>6748</th>\n",
       "      <td>Total</td>\n",
       "      <td>NaN</td>\n",
       "      <td>39931700000</td>\n",
       "    </tr>\n",
       "  </tbody>\n",
       "</table>\n",
       "<p>6749 rows × 3 columns</p>\n",
       "</div>"
      ],
      "text/plain": [
       "      S.No.                                   Company Name(s) Amount (Actuals)\n",
       "0         1                 Tata Consultancy Services Limited       2802200000\n",
       "1         2                                   Infosys Limited       2023000000\n",
       "2         3                                Icici Bank Limited       1715100000\n",
       "3         4                                 Axis Bank Limited       1477800000\n",
       "4         5   Housing Development Finance Corporation Limited       1465400000\n",
       "...     ...                                               ...              ...\n",
       "6744   6809            Madaus Pharmaceuticals Private Limited                0\n",
       "6745   6810                       Yahoo India Private Limited                0\n",
       "6746   6811                              Apeejay Shipping Ltd                0\n",
       "6747   6812  Parker Multi-Commodities (India) Private Limited                0\n",
       "6748  Total                                               NaN      39931700000\n",
       "\n",
       "[6749 rows x 3 columns]"
      ]
     },
     "execution_count": 21,
     "metadata": {},
     "output_type": "execute_result"
    }
   ],
   "source": [
    "#Dropping null rows from less_prescribed\n",
    "less_prescribed = less_prescribed.dropna()\n",
    "total_row = {'S.No.' : 'Total', 'Amount (Actuals)' : 39931700000}\n",
    "less_prescribed = less_prescribed.append(total_row, ignore_index = True)\n",
    "less_prescribed = less_prescribed.reset_index(drop = True)\n",
    "less_prescribed"
   ]
  },
  {
   "cell_type": "code",
   "execution_count": 22,
   "id": "remarkable-nebraska",
   "metadata": {},
   "outputs": [
    {
     "data": {
      "text/plain": [
       "S.No.               0\n",
       "Company Name(s)     1\n",
       "Amount (Actuals)    0\n",
       "dtype: int64"
      ]
     },
     "execution_count": 22,
     "metadata": {},
     "output_type": "execute_result"
    }
   ],
   "source": [
    "#Checking to make sure we only have 1 NaN value now\n",
    "less_prescribed.isnull().sum()"
   ]
  },
  {
   "cell_type": "markdown",
   "id": "beautiful-lending",
   "metadata": {},
   "source": [
    "**Summary statistics** <a class=\"anchor\" id=\"4.2\"></a>"
   ]
  },
  {
   "cell_type": "code",
   "execution_count": 23,
   "id": "diverse-course",
   "metadata": {},
   "outputs": [],
   "source": [
    "#Changing the spending columns into type int\n",
    "as_prescribed[\"Amount (Actuals)\"] = as_prescribed[\"Amount (Actuals)\"].astype(str).astype(int)\n",
    "less_prescribed[\"Amount (Actuals)\"] = less_prescribed[\"Amount (Actuals)\"].astype(str).astype(int)\n",
    "more_prescribed[\"Amount (Actuals)\"] = more_prescribed[\"Amount (Actuals)\"].astype(str).astype(int)\n",
    "sheet_2['Amount Spent FY 2014-15 (INR Cr.)'] = sheet_2['Amount Spent FY 2014-15 (INR Cr.)'].astype(str).astype(float)\n",
    "sheet_2['Amount Spent FY 2015-16 (INR Cr.)'] = sheet_2['Amount Spent FY 2015-16 (INR Cr.)'].astype(str).astype(float)\n",
    "sheet_2['Amount Spent FY 2016-17 (INR Cr.)'] = sheet_2['Amount Spent FY 2016-17 (INR Cr.)'].astype(str).astype(float)"
   ]
  },
  {
   "cell_type": "code",
   "execution_count": 24,
   "id": "involved-power",
   "metadata": {},
   "outputs": [
    {
     "data": {
      "text/html": [
       "<div>\n",
       "<style scoped>\n",
       "    .dataframe tbody tr th:only-of-type {\n",
       "        vertical-align: middle;\n",
       "    }\n",
       "\n",
       "    .dataframe tbody tr th {\n",
       "        vertical-align: top;\n",
       "    }\n",
       "\n",
       "    .dataframe thead th {\n",
       "        text-align: right;\n",
       "    }\n",
       "</style>\n",
       "<table border=\"1\" class=\"dataframe\">\n",
       "  <thead>\n",
       "    <tr style=\"text-align: right;\">\n",
       "      <th></th>\n",
       "      <th>Amount (Actuals)</th>\n",
       "    </tr>\n",
       "  </thead>\n",
       "  <tbody>\n",
       "    <tr>\n",
       "      <th>count</th>\n",
       "      <td>3.970000e+02</td>\n",
       "    </tr>\n",
       "    <tr>\n",
       "      <th>mean</th>\n",
       "      <td>1.846499e+07</td>\n",
       "    </tr>\n",
       "    <tr>\n",
       "      <th>std</th>\n",
       "      <td>1.849822e+08</td>\n",
       "    </tr>\n",
       "    <tr>\n",
       "      <th>min</th>\n",
       "      <td>0.000000e+00</td>\n",
       "    </tr>\n",
       "    <tr>\n",
       "      <th>25%</th>\n",
       "      <td>9.000000e+05</td>\n",
       "    </tr>\n",
       "    <tr>\n",
       "      <th>50%</th>\n",
       "      <td>1.800000e+06</td>\n",
       "    </tr>\n",
       "    <tr>\n",
       "      <th>75%</th>\n",
       "      <td>5.300000e+06</td>\n",
       "    </tr>\n",
       "    <tr>\n",
       "      <th>max</th>\n",
       "      <td>3.665300e+09</td>\n",
       "    </tr>\n",
       "  </tbody>\n",
       "</table>\n",
       "</div>"
      ],
      "text/plain": [
       "       Amount (Actuals)\n",
       "count      3.970000e+02\n",
       "mean       1.846499e+07\n",
       "std        1.849822e+08\n",
       "min        0.000000e+00\n",
       "25%        9.000000e+05\n",
       "50%        1.800000e+06\n",
       "75%        5.300000e+06\n",
       "max        3.665300e+09"
      ]
     },
     "execution_count": 24,
     "metadata": {},
     "output_type": "execute_result"
    }
   ],
   "source": [
    "as_prescribed.describe()"
   ]
  },
  {
   "cell_type": "code",
   "execution_count": 25,
   "id": "material-portal",
   "metadata": {},
   "outputs": [
    {
     "data": {
      "text/html": [
       "<div>\n",
       "<style scoped>\n",
       "    .dataframe tbody tr th:only-of-type {\n",
       "        vertical-align: middle;\n",
       "    }\n",
       "\n",
       "    .dataframe tbody tr th {\n",
       "        vertical-align: top;\n",
       "    }\n",
       "\n",
       "    .dataframe thead th {\n",
       "        text-align: right;\n",
       "    }\n",
       "</style>\n",
       "<table border=\"1\" class=\"dataframe\">\n",
       "  <thead>\n",
       "    <tr style=\"text-align: right;\">\n",
       "      <th></th>\n",
       "      <th>Amount (Actuals)</th>\n",
       "    </tr>\n",
       "  </thead>\n",
       "  <tbody>\n",
       "    <tr>\n",
       "      <th>count</th>\n",
       "      <td>6.749000e+03</td>\n",
       "    </tr>\n",
       "    <tr>\n",
       "      <th>mean</th>\n",
       "      <td>1.183337e+07</td>\n",
       "    </tr>\n",
       "    <tr>\n",
       "      <th>std</th>\n",
       "      <td>4.902990e+08</td>\n",
       "    </tr>\n",
       "    <tr>\n",
       "      <th>min</th>\n",
       "      <td>0.000000e+00</td>\n",
       "    </tr>\n",
       "    <tr>\n",
       "      <th>25%</th>\n",
       "      <td>0.000000e+00</td>\n",
       "    </tr>\n",
       "    <tr>\n",
       "      <th>50%</th>\n",
       "      <td>0.000000e+00</td>\n",
       "    </tr>\n",
       "    <tr>\n",
       "      <th>75%</th>\n",
       "      <td>1.200000e+06</td>\n",
       "    </tr>\n",
       "    <tr>\n",
       "      <th>max</th>\n",
       "      <td>3.993170e+10</td>\n",
       "    </tr>\n",
       "  </tbody>\n",
       "</table>\n",
       "</div>"
      ],
      "text/plain": [
       "       Amount (Actuals)\n",
       "count      6.749000e+03\n",
       "mean       1.183337e+07\n",
       "std        4.902990e+08\n",
       "min        0.000000e+00\n",
       "25%        0.000000e+00\n",
       "50%        0.000000e+00\n",
       "75%        1.200000e+06\n",
       "max        3.993170e+10"
      ]
     },
     "execution_count": 25,
     "metadata": {},
     "output_type": "execute_result"
    }
   ],
   "source": [
    "less_prescribed.describe()"
   ]
  },
  {
   "cell_type": "code",
   "execution_count": 26,
   "id": "injured-instrumentation",
   "metadata": {},
   "outputs": [
    {
     "data": {
      "text/html": [
       "<div>\n",
       "<style scoped>\n",
       "    .dataframe tbody tr th:only-of-type {\n",
       "        vertical-align: middle;\n",
       "    }\n",
       "\n",
       "    .dataframe tbody tr th {\n",
       "        vertical-align: top;\n",
       "    }\n",
       "\n",
       "    .dataframe thead th {\n",
       "        text-align: right;\n",
       "    }\n",
       "</style>\n",
       "<table border=\"1\" class=\"dataframe\">\n",
       "  <thead>\n",
       "    <tr style=\"text-align: right;\">\n",
       "      <th></th>\n",
       "      <th>Amount (Actuals)</th>\n",
       "    </tr>\n",
       "  </thead>\n",
       "  <tbody>\n",
       "    <tr>\n",
       "      <th>count</th>\n",
       "      <td>3.728000e+03</td>\n",
       "    </tr>\n",
       "    <tr>\n",
       "      <th>mean</th>\n",
       "      <td>5.368342e+07</td>\n",
       "    </tr>\n",
       "    <tr>\n",
       "      <th>std</th>\n",
       "      <td>1.649708e+09</td>\n",
       "    </tr>\n",
       "    <tr>\n",
       "      <th>min</th>\n",
       "      <td>0.000000e+00</td>\n",
       "    </tr>\n",
       "    <tr>\n",
       "      <th>25%</th>\n",
       "      <td>1.400000e+06</td>\n",
       "    </tr>\n",
       "    <tr>\n",
       "      <th>50%</th>\n",
       "      <td>2.850000e+06</td>\n",
       "    </tr>\n",
       "    <tr>\n",
       "      <th>75%</th>\n",
       "      <td>8.100000e+06</td>\n",
       "    </tr>\n",
       "    <tr>\n",
       "      <th>max</th>\n",
       "      <td>1.000659e+11</td>\n",
       "    </tr>\n",
       "  </tbody>\n",
       "</table>\n",
       "</div>"
      ],
      "text/plain": [
       "       Amount (Actuals)\n",
       "count      3.728000e+03\n",
       "mean       5.368342e+07\n",
       "std        1.649708e+09\n",
       "min        0.000000e+00\n",
       "25%        1.400000e+06\n",
       "50%        2.850000e+06\n",
       "75%        8.100000e+06\n",
       "max        1.000659e+11"
      ]
     },
     "execution_count": 26,
     "metadata": {},
     "output_type": "execute_result"
    }
   ],
   "source": [
    "more_prescribed.describe()"
   ]
  },
  {
   "cell_type": "code",
   "execution_count": 27,
   "id": "bibliographic-cosmetic",
   "metadata": {
    "scrolled": true
   },
   "outputs": [
    {
     "data": {
      "text/html": [
       "<div>\n",
       "<style scoped>\n",
       "    .dataframe tbody tr th:only-of-type {\n",
       "        vertical-align: middle;\n",
       "    }\n",
       "\n",
       "    .dataframe tbody tr th {\n",
       "        vertical-align: top;\n",
       "    }\n",
       "\n",
       "    .dataframe thead th {\n",
       "        text-align: right;\n",
       "    }\n",
       "</style>\n",
       "<table border=\"1\" class=\"dataframe\">\n",
       "  <thead>\n",
       "    <tr style=\"text-align: right;\">\n",
       "      <th></th>\n",
       "      <th>Amount Spent FY 2014-15 (INR Cr.)</th>\n",
       "      <th>Amount Spent FY 2015-16 (INR Cr.)</th>\n",
       "      <th>Amount Spent FY 2016-17 (INR Cr.)</th>\n",
       "    </tr>\n",
       "  </thead>\n",
       "  <tbody>\n",
       "    <tr>\n",
       "      <th>count</th>\n",
       "      <td>15.00000</td>\n",
       "      <td>15.000000</td>\n",
       "      <td>15.000000</td>\n",
       "    </tr>\n",
       "    <tr>\n",
       "      <th>mean</th>\n",
       "      <td>1342.12000</td>\n",
       "      <td>1915.500667</td>\n",
       "      <td>1795.275333</td>\n",
       "    </tr>\n",
       "    <tr>\n",
       "      <th>std</th>\n",
       "      <td>2600.76851</td>\n",
       "      <td>3781.365711</td>\n",
       "      <td>3539.016593</td>\n",
       "    </tr>\n",
       "    <tr>\n",
       "      <th>min</th>\n",
       "      <td>5.47000</td>\n",
       "      <td>14.300000</td>\n",
       "      <td>24.230000</td>\n",
       "    </tr>\n",
       "    <tr>\n",
       "      <th>25%</th>\n",
       "      <td>107.50000</td>\n",
       "      <td>127.580000</td>\n",
       "      <td>157.895000</td>\n",
       "    </tr>\n",
       "    <tr>\n",
       "      <th>50%</th>\n",
       "      <td>228.18000</td>\n",
       "      <td>326.880000</td>\n",
       "      <td>388.860000</td>\n",
       "    </tr>\n",
       "    <tr>\n",
       "      <th>75%</th>\n",
       "      <td>1198.86500</td>\n",
       "      <td>1217.370000</td>\n",
       "      <td>1394.895000</td>\n",
       "    </tr>\n",
       "    <tr>\n",
       "      <th>max</th>\n",
       "      <td>10065.93000</td>\n",
       "      <td>14366.290000</td>\n",
       "      <td>13464.600000</td>\n",
       "    </tr>\n",
       "  </tbody>\n",
       "</table>\n",
       "</div>"
      ],
      "text/plain": [
       "       Amount Spent FY 2014-15 (INR Cr.)  Amount Spent FY 2015-16 (INR Cr.)  \\\n",
       "count                           15.00000                          15.000000   \n",
       "mean                          1342.12000                        1915.500667   \n",
       "std                           2600.76851                        3781.365711   \n",
       "min                              5.47000                          14.300000   \n",
       "25%                            107.50000                         127.580000   \n",
       "50%                            228.18000                         326.880000   \n",
       "75%                           1198.86500                        1217.370000   \n",
       "max                          10065.93000                       14366.290000   \n",
       "\n",
       "       Amount Spent FY 2016-17 (INR Cr.)  \n",
       "count                          15.000000  \n",
       "mean                         1795.275333  \n",
       "std                          3539.016593  \n",
       "min                            24.230000  \n",
       "25%                           157.895000  \n",
       "50%                           388.860000  \n",
       "75%                          1394.895000  \n",
       "max                         13464.600000  "
      ]
     },
     "execution_count": 27,
     "metadata": {},
     "output_type": "execute_result"
    }
   ],
   "source": [
    "sheet_2.describe()"
   ]
  },
  {
   "cell_type": "code",
   "execution_count": 28,
   "id": "appreciated-first",
   "metadata": {},
   "outputs": [
    {
     "data": {
      "text/html": [
       "<div>\n",
       "<style scoped>\n",
       "    .dataframe tbody tr th:only-of-type {\n",
       "        vertical-align: middle;\n",
       "    }\n",
       "\n",
       "    .dataframe tbody tr th {\n",
       "        vertical-align: top;\n",
       "    }\n",
       "\n",
       "    .dataframe thead th {\n",
       "        text-align: right;\n",
       "    }\n",
       "</style>\n",
       "<table border=\"1\" class=\"dataframe\">\n",
       "  <thead>\n",
       "    <tr style=\"text-align: right;\">\n",
       "      <th></th>\n",
       "      <th>S.No.</th>\n",
       "      <th>Company Name(s)</th>\n",
       "      <th>Amount (Actuals)</th>\n",
       "    </tr>\n",
       "  </thead>\n",
       "  <tbody>\n",
       "    <tr>\n",
       "      <th>0</th>\n",
       "      <td>1</td>\n",
       "      <td>India Infrastructure Finance Company Limited</td>\n",
       "      <td>244600000</td>\n",
       "    </tr>\n",
       "    <tr>\n",
       "      <th>1</th>\n",
       "      <td>2</td>\n",
       "      <td>Tata Communications Limited</td>\n",
       "      <td>138500000</td>\n",
       "    </tr>\n",
       "    <tr>\n",
       "      <th>2</th>\n",
       "      <td>3</td>\n",
       "      <td>Infosys Bpo Limited</td>\n",
       "      <td>135800000</td>\n",
       "    </tr>\n",
       "    <tr>\n",
       "      <th>3</th>\n",
       "      <td>4</td>\n",
       "      <td>Gujarat State Fertilizers &amp; Chemicals Limited</td>\n",
       "      <td>122200000</td>\n",
       "    </tr>\n",
       "    <tr>\n",
       "      <th>4</th>\n",
       "      <td>5</td>\n",
       "      <td>Havells India Limited</td>\n",
       "      <td>114800000</td>\n",
       "    </tr>\n",
       "    <tr>\n",
       "      <th>...</th>\n",
       "      <td>...</td>\n",
       "      <td>...</td>\n",
       "      <td>...</td>\n",
       "    </tr>\n",
       "    <tr>\n",
       "      <th>10866</th>\n",
       "      <td>3723</td>\n",
       "      <td>Ampa Housing Development Private Limited</td>\n",
       "      <td>0</td>\n",
       "    </tr>\n",
       "    <tr>\n",
       "      <th>10867</th>\n",
       "      <td>3724</td>\n",
       "      <td>Highend Properties Private Limtied</td>\n",
       "      <td>0</td>\n",
       "    </tr>\n",
       "    <tr>\n",
       "      <th>10868</th>\n",
       "      <td>3725</td>\n",
       "      <td>P.C. Chandra Jewellery Apex Private Limited</td>\n",
       "      <td>0</td>\n",
       "    </tr>\n",
       "    <tr>\n",
       "      <th>10869</th>\n",
       "      <td>3726</td>\n",
       "      <td>Siro Clinpharm Private Limited</td>\n",
       "      <td>0</td>\n",
       "    </tr>\n",
       "    <tr>\n",
       "      <th>10870</th>\n",
       "      <td>3727</td>\n",
       "      <td>Divgi Torqtransfer Systems Private Limited</td>\n",
       "      <td>0</td>\n",
       "    </tr>\n",
       "  </tbody>\n",
       "</table>\n",
       "<p>10871 rows × 3 columns</p>\n",
       "</div>"
      ],
      "text/plain": [
       "      S.No.                                Company Name(s)  Amount (Actuals)\n",
       "0         1   India Infrastructure Finance Company Limited         244600000\n",
       "1         2                    Tata Communications Limited         138500000\n",
       "2         3                            Infosys Bpo Limited         135800000\n",
       "3         4  Gujarat State Fertilizers & Chemicals Limited         122200000\n",
       "4         5                          Havells India Limited         114800000\n",
       "...     ...                                            ...               ...\n",
       "10866  3723       Ampa Housing Development Private Limited                 0\n",
       "10867  3724             Highend Properties Private Limtied                 0\n",
       "10868  3725    P.C. Chandra Jewellery Apex Private Limited                 0\n",
       "10869  3726                 Siro Clinpharm Private Limited                 0\n",
       "10870  3727     Divgi Torqtransfer Systems Private Limited                 0\n",
       "\n",
       "[10871 rows x 3 columns]"
      ]
     },
     "execution_count": 28,
     "metadata": {},
     "output_type": "execute_result"
    }
   ],
   "source": [
    "#Combining the 3 prescribed DataFrames into 1\n",
    "total_companies = as_prescribed.append(less_prescribed, ignore_index = True).append(more_prescribed, ignore_index = True)\n",
    "total_companies = total_companies.dropna()\n",
    "total_companies = total_companies.reset_index(drop = True)\n",
    "total_companies"
   ]
  },
  {
   "cell_type": "markdown",
   "id": "surgical-montgomery",
   "metadata": {},
   "source": [
    "## Columns\n",
    "<a class=\"anchor\" id=\"5\"></a>"
   ]
  },
  {
   "cell_type": "markdown",
   "id": "affecting-documentation",
   "metadata": {},
   "source": [
    "### Sheet 1\n",
    "<a class=\"anchor\" id=\"5.1\"></a>\n",
    "Sheet 1 contains 3 DataFrames: As Prescribed, Less than Prescribed, and More than Prescribed. They all contain the same 3 columns. "
   ]
  },
  {
   "cell_type": "markdown",
   "id": "engaging-subject",
   "metadata": {},
   "source": [
    "### S.No.\n",
    "<a class=\"anchor\" id=\"5.1.1\"></a>\n",
    "Counting how many companies in the DataFrame. The ordering is based on how much each company spent on CSR in 2016-17 in relation to the other companies in the DataFrame."
   ]
  },
  {
   "cell_type": "markdown",
   "id": "beautiful-salem",
   "metadata": {},
   "source": [
    "#### As Prescribed DataFrame:"
   ]
  },
  {
   "cell_type": "code",
   "execution_count": 29,
   "id": "latest-chess",
   "metadata": {},
   "outputs": [
    {
     "data": {
      "text/plain": [
       "0          1\n",
       "1          2\n",
       "2          3\n",
       "3          4\n",
       "4          5\n",
       "       ...  \n",
       "392      393\n",
       "393      394\n",
       "394      395\n",
       "395      396\n",
       "396    Total\n",
       "Name: S.No., Length: 397, dtype: object"
      ]
     },
     "execution_count": 29,
     "metadata": {},
     "output_type": "execute_result"
    }
   ],
   "source": [
    "column = as_prescribed[\"S.No.\"]\n",
    "column"
   ]
  },
  {
   "cell_type": "code",
   "execution_count": 30,
   "id": "virgin-hudson",
   "metadata": {},
   "outputs": [
    {
     "name": "stdout",
     "output_type": "stream",
     "text": [
      "No. of unique values: 397\n",
      "Duplicates: {}\n"
     ]
    }
   ],
   "source": [
    "print(\"No. of unique values:\", len(column.unique()))\n",
    "counter = dict(Counter(column))\n",
    "duplicates = {key:value for key, value in counter.items() if value > 1}\n",
    "print(\"Duplicates:\", duplicates)"
   ]
  },
  {
   "cell_type": "markdown",
   "id": "incorporate-remark",
   "metadata": {},
   "source": [
    "#### Less Than Prescribed DataFrame:"
   ]
  },
  {
   "cell_type": "code",
   "execution_count": 31,
   "id": "indirect-exposure",
   "metadata": {},
   "outputs": [
    {
     "data": {
      "text/plain": [
       "0           1\n",
       "1           2\n",
       "2           3\n",
       "3           4\n",
       "4           5\n",
       "        ...  \n",
       "6744     6809\n",
       "6745     6810\n",
       "6746     6811\n",
       "6747     6812\n",
       "6748    Total\n",
       "Name: S.No., Length: 6749, dtype: object"
      ]
     },
     "execution_count": 31,
     "metadata": {},
     "output_type": "execute_result"
    }
   ],
   "source": [
    "column = less_prescribed[\"S.No.\"]\n",
    "column"
   ]
  },
  {
   "cell_type": "code",
   "execution_count": 32,
   "id": "elegant-trailer",
   "metadata": {},
   "outputs": [
    {
     "name": "stdout",
     "output_type": "stream",
     "text": [
      "No. of unique values: 6749\n",
      "Duplicates: {}\n"
     ]
    }
   ],
   "source": [
    "print(\"No. of unique values:\", len(column.unique()))\n",
    "counter = dict(Counter(column))\n",
    "duplicates = {key:value for key, value in counter.items() if value > 1}\n",
    "print(\"Duplicates:\", duplicates)"
   ]
  },
  {
   "cell_type": "markdown",
   "id": "geographic-manual",
   "metadata": {},
   "source": [
    "#### More Than Prescribed DataFrame:"
   ]
  },
  {
   "cell_type": "code",
   "execution_count": 33,
   "id": "emotional-administration",
   "metadata": {},
   "outputs": [
    {
     "data": {
      "text/plain": [
       "0           1\n",
       "1           2\n",
       "2           3\n",
       "3           4\n",
       "4           5\n",
       "        ...  \n",
       "3723     3724\n",
       "3724     3725\n",
       "3725     3726\n",
       "3726     3727\n",
       "3727    Total\n",
       "Name: S.No., Length: 3728, dtype: object"
      ]
     },
     "execution_count": 33,
     "metadata": {},
     "output_type": "execute_result"
    }
   ],
   "source": [
    "column = more_prescribed[\"S.No.\"]\n",
    "column"
   ]
  },
  {
   "cell_type": "code",
   "execution_count": 34,
   "id": "brutal-lindsay",
   "metadata": {},
   "outputs": [
    {
     "name": "stdout",
     "output_type": "stream",
     "text": [
      "No. of unique values: 3728\n",
      "Duplicates: {}\n"
     ]
    }
   ],
   "source": [
    "print(\"No. of unique values:\", len(column.unique()))\n",
    "counter = dict(Counter(column))\n",
    "duplicates = {key:value for key, value in counter.items() if value > 1}\n",
    "print(\"Duplicates:\", duplicates)"
   ]
  },
  {
   "cell_type": "markdown",
   "id": "portuguese-capital",
   "metadata": {},
   "source": [
    "### Company Name(s)\n",
    "<a class=\"anchor\" id=\"5.1.2\"></a>\n",
    "The name of the company."
   ]
  },
  {
   "cell_type": "markdown",
   "id": "chicken-entry",
   "metadata": {},
   "source": [
    "#### As Prescribed DataFrame:"
   ]
  },
  {
   "cell_type": "code",
   "execution_count": 35,
   "id": "forty-distance",
   "metadata": {},
   "outputs": [
    {
     "data": {
      "text/plain": [
       "0       India Infrastructure Finance Company Limited\n",
       "1                        Tata Communications Limited\n",
       "2                                Infosys Bpo Limited\n",
       "3      Gujarat State Fertilizers & Chemicals Limited\n",
       "4                              Havells India Limited\n",
       "                           ...                      \n",
       "392                       Aak Kamani Private Limited\n",
       "393                Bombay Oxygen Corporation Limited\n",
       "394                               20 Microns Limited\n",
       "395     Hindustan Coca Cola Holdings Private Limited\n",
       "396                                              NaN\n",
       "Name: Company Name(s), Length: 397, dtype: object"
      ]
     },
     "execution_count": 35,
     "metadata": {},
     "output_type": "execute_result"
    }
   ],
   "source": [
    "column = as_prescribed['Company Name(s)']\n",
    "as_companies = np.array(column)\n",
    "column"
   ]
  },
  {
   "cell_type": "code",
   "execution_count": 36,
   "id": "north-planner",
   "metadata": {},
   "outputs": [
    {
     "name": "stdout",
     "output_type": "stream",
     "text": [
      "No. of unique values: 397\n",
      "Duplicates: {}\n"
     ]
    }
   ],
   "source": [
    "print(\"No. of unique values:\", len(column.unique()))\n",
    "\n",
    "# Check for duplicates\n",
    "counter = dict(Counter(column))\n",
    "duplicates = { key:value for key, value in counter.items() if value > 1}\n",
    "print(\"Duplicates:\", duplicates)\n",
    "if len(duplicates) > 0:\n",
    "    print(\"No. of duplicates:\", len(duplicates))"
   ]
  },
  {
   "cell_type": "markdown",
   "id": "earned-pantyhose",
   "metadata": {},
   "source": [
    "#### Less Than Prescribed DataFrame:"
   ]
  },
  {
   "cell_type": "code",
   "execution_count": 37,
   "id": "czech-blogger",
   "metadata": {},
   "outputs": [
    {
     "data": {
      "text/plain": [
       "0                      Tata Consultancy Services Limited\n",
       "1                                        Infosys Limited\n",
       "2                                     Icici Bank Limited\n",
       "3                                      Axis Bank Limited\n",
       "4        Housing Development Finance Corporation Limited\n",
       "                              ...                       \n",
       "6744              Madaus Pharmaceuticals Private Limited\n",
       "6745                         Yahoo India Private Limited\n",
       "6746                                Apeejay Shipping Ltd\n",
       "6747    Parker Multi-Commodities (India) Private Limited\n",
       "6748                                                 NaN\n",
       "Name: Company Name(s), Length: 6749, dtype: object"
      ]
     },
     "execution_count": 37,
     "metadata": {},
     "output_type": "execute_result"
    }
   ],
   "source": [
    "column = less_prescribed['Company Name(s)']\n",
    "less_companies = np.array(column)\n",
    "column"
   ]
  },
  {
   "cell_type": "code",
   "execution_count": 38,
   "id": "casual-logic",
   "metadata": {
    "scrolled": true
   },
   "outputs": [
    {
     "name": "stdout",
     "output_type": "stream",
     "text": [
      "No. of unique values: 6734\n",
      "Duplicates: {'General Insurance Corporation Of India': 2, 'Pnb Housing Finance Limited': 2, 'Housing And Urban Development Corporation Limited': 2, 'Pennwalt Limited': 2, 'Acme Resources Limited': 2, 'Zen Securities Ltd': 2, 'Unicorn Natural Products Limited': 2, 'Runner Marketing Private Limited': 2, 'Rare Rose Premises Private Limited': 2, 'Suncity Infrastructures Private Limited': 2, 'Crossroads Mills Private Limited': 2, 'Bagrrys India Limited.': 2, 'Puran Associates Private Limited': 2, 'Burmans Finvest Private Limited': 2, 'Indrus Countertrade Private Limited': 2}\n",
      "No. of duplicates: 15\n"
     ]
    }
   ],
   "source": [
    "print(\"No. of unique values:\", len(column.unique()))\n",
    "\n",
    "# Check for duplicates\n",
    "counter = dict(Counter(column))\n",
    "less_duplicates = { key:value for key, value in counter.items() if value > 1}\n",
    "print(\"Duplicates:\", less_duplicates)\n",
    "if len(less_duplicates) > 0:\n",
    "    print(\"No. of duplicates:\", len(less_duplicates))"
   ]
  },
  {
   "cell_type": "code",
   "execution_count": 39,
   "id": "requested-calcium",
   "metadata": {
    "scrolled": true
   },
   "outputs": [
    {
     "data": {
      "text/plain": [
       "{'General Insurance Corporation Of India': 2,\n",
       " 'Pnb Housing Finance Limited': 2,\n",
       " 'Housing And Urban Development Corporation Limited': 2,\n",
       " 'Pennwalt Limited': 2,\n",
       " 'Acme Resources Limited': 2,\n",
       " 'Zen Securities Ltd': 2,\n",
       " 'Unicorn Natural Products Limited': 2,\n",
       " 'Runner Marketing Private Limited': 2,\n",
       " 'Rare Rose Premises Private Limited': 2,\n",
       " 'Suncity Infrastructures Private Limited': 2,\n",
       " 'Crossroads Mills Private Limited': 2,\n",
       " 'Bagrrys India Limited.': 2,\n",
       " 'Puran Associates Private Limited': 2,\n",
       " 'Burmans Finvest Private Limited': 2,\n",
       " 'Indrus Countertrade Private Limited': 2}"
      ]
     },
     "execution_count": 39,
     "metadata": {},
     "output_type": "execute_result"
    }
   ],
   "source": [
    "less_duplicates"
   ]
  },
  {
   "cell_type": "code",
   "execution_count": 40,
   "id": "exotic-exception",
   "metadata": {
    "scrolled": true
   },
   "outputs": [
    {
     "data": {
      "text/html": [
       "<div>\n",
       "<style scoped>\n",
       "    .dataframe tbody tr th:only-of-type {\n",
       "        vertical-align: middle;\n",
       "    }\n",
       "\n",
       "    .dataframe tbody tr th {\n",
       "        vertical-align: top;\n",
       "    }\n",
       "\n",
       "    .dataframe thead th {\n",
       "        text-align: right;\n",
       "    }\n",
       "</style>\n",
       "<table border=\"1\" class=\"dataframe\">\n",
       "  <thead>\n",
       "    <tr style=\"text-align: right;\">\n",
       "      <th></th>\n",
       "      <th>S.No.</th>\n",
       "      <th>Company Name(s)</th>\n",
       "      <th>Amount (Actuals)</th>\n",
       "    </tr>\n",
       "  </thead>\n",
       "  <tbody>\n",
       "    <tr>\n",
       "      <th>6368</th>\n",
       "      <td>6428</td>\n",
       "      <td>Acme Resources Limited</td>\n",
       "      <td>0</td>\n",
       "    </tr>\n",
       "    <tr>\n",
       "      <th>1490</th>\n",
       "      <td>1491</td>\n",
       "      <td>Acme Resources Limited</td>\n",
       "      <td>1500000</td>\n",
       "    </tr>\n",
       "    <tr>\n",
       "      <th>4186</th>\n",
       "      <td>4207</td>\n",
       "      <td>Bagrrys India Limited.</td>\n",
       "      <td>0</td>\n",
       "    </tr>\n",
       "    <tr>\n",
       "      <th>3850</th>\n",
       "      <td>3862</td>\n",
       "      <td>Bagrrys India Limited.</td>\n",
       "      <td>0</td>\n",
       "    </tr>\n",
       "    <tr>\n",
       "      <th>6701</th>\n",
       "      <td>6765</td>\n",
       "      <td>Burmans Finvest Private Limited</td>\n",
       "      <td>0</td>\n",
       "    </tr>\n",
       "    <tr>\n",
       "      <th>5537</th>\n",
       "      <td>5581</td>\n",
       "      <td>Burmans Finvest Private Limited</td>\n",
       "      <td>0</td>\n",
       "    </tr>\n",
       "    <tr>\n",
       "      <th>6569</th>\n",
       "      <td>6631</td>\n",
       "      <td>Crossroads Mills Private Limited</td>\n",
       "      <td>0</td>\n",
       "    </tr>\n",
       "    <tr>\n",
       "      <th>3650</th>\n",
       "      <td>3661</td>\n",
       "      <td>Crossroads Mills Private Limited</td>\n",
       "      <td>0</td>\n",
       "    </tr>\n",
       "    <tr>\n",
       "      <th>14</th>\n",
       "      <td>15</td>\n",
       "      <td>General Insurance Corporation Of India</td>\n",
       "      <td>490000000</td>\n",
       "    </tr>\n",
       "    <tr>\n",
       "      <th>346</th>\n",
       "      <td>347</td>\n",
       "      <td>General Insurance Corporation Of India</td>\n",
       "      <td>12600000</td>\n",
       "    </tr>\n",
       "    <tr>\n",
       "      <th>121</th>\n",
       "      <td>122</td>\n",
       "      <td>Housing And Urban Development Corporation Limited</td>\n",
       "      <td>43000000</td>\n",
       "    </tr>\n",
       "    <tr>\n",
       "      <th>106</th>\n",
       "      <td>107</td>\n",
       "      <td>Housing And Urban Development Corporation Limited</td>\n",
       "      <td>47500000</td>\n",
       "    </tr>\n",
       "    <tr>\n",
       "      <th>6346</th>\n",
       "      <td>6405</td>\n",
       "      <td>Indrus Countertrade Private Limited</td>\n",
       "      <td>0</td>\n",
       "    </tr>\n",
       "    <tr>\n",
       "      <th>5988</th>\n",
       "      <td>6039</td>\n",
       "      <td>Indrus Countertrade Private Limited</td>\n",
       "      <td>0</td>\n",
       "    </tr>\n",
       "    <tr>\n",
       "      <th>906</th>\n",
       "      <td>907</td>\n",
       "      <td>Pennwalt Limited</td>\n",
       "      <td>3200000</td>\n",
       "    </tr>\n",
       "    <tr>\n",
       "      <th>905</th>\n",
       "      <td>906</td>\n",
       "      <td>Pennwalt Limited</td>\n",
       "      <td>3200000</td>\n",
       "    </tr>\n",
       "    <tr>\n",
       "      <th>187</th>\n",
       "      <td>188</td>\n",
       "      <td>Pnb Housing Finance Limited</td>\n",
       "      <td>27400000</td>\n",
       "    </tr>\n",
       "    <tr>\n",
       "      <th>95</th>\n",
       "      <td>96</td>\n",
       "      <td>Pnb Housing Finance Limited</td>\n",
       "      <td>52500000</td>\n",
       "    </tr>\n",
       "    <tr>\n",
       "      <th>4373</th>\n",
       "      <td>4395</td>\n",
       "      <td>Puran Associates Private Limited</td>\n",
       "      <td>0</td>\n",
       "    </tr>\n",
       "    <tr>\n",
       "      <th>6360</th>\n",
       "      <td>6420</td>\n",
       "      <td>Puran Associates Private Limited</td>\n",
       "      <td>0</td>\n",
       "    </tr>\n",
       "    <tr>\n",
       "      <th>3069</th>\n",
       "      <td>3070</td>\n",
       "      <td>Rare Rose Premises Private Limited</td>\n",
       "      <td>100000</td>\n",
       "    </tr>\n",
       "    <tr>\n",
       "      <th>4882</th>\n",
       "      <td>4913</td>\n",
       "      <td>Rare Rose Premises Private Limited</td>\n",
       "      <td>0</td>\n",
       "    </tr>\n",
       "    <tr>\n",
       "      <th>3265</th>\n",
       "      <td>3268</td>\n",
       "      <td>Runner Marketing Private Limited</td>\n",
       "      <td>0</td>\n",
       "    </tr>\n",
       "    <tr>\n",
       "      <th>2903</th>\n",
       "      <td>2904</td>\n",
       "      <td>Runner Marketing Private Limited</td>\n",
       "      <td>200000</td>\n",
       "    </tr>\n",
       "    <tr>\n",
       "      <th>6606</th>\n",
       "      <td>6670</td>\n",
       "      <td>Suncity Infrastructures Private Limited</td>\n",
       "      <td>0</td>\n",
       "    </tr>\n",
       "    <tr>\n",
       "      <th>3343</th>\n",
       "      <td>3347</td>\n",
       "      <td>Suncity Infrastructures Private Limited</td>\n",
       "      <td>0</td>\n",
       "    </tr>\n",
       "    <tr>\n",
       "      <th>2624</th>\n",
       "      <td>2625</td>\n",
       "      <td>Unicorn Natural Products Limited</td>\n",
       "      <td>400000</td>\n",
       "    </tr>\n",
       "    <tr>\n",
       "      <th>2568</th>\n",
       "      <td>2569</td>\n",
       "      <td>Unicorn Natural Products Limited</td>\n",
       "      <td>400000</td>\n",
       "    </tr>\n",
       "    <tr>\n",
       "      <th>2500</th>\n",
       "      <td>2501</td>\n",
       "      <td>Zen Securities Ltd</td>\n",
       "      <td>500000</td>\n",
       "    </tr>\n",
       "    <tr>\n",
       "      <th>3108</th>\n",
       "      <td>3109</td>\n",
       "      <td>Zen Securities Ltd</td>\n",
       "      <td>100000</td>\n",
       "    </tr>\n",
       "  </tbody>\n",
       "</table>\n",
       "</div>"
      ],
      "text/plain": [
       "     S.No.                                    Company Name(s)  \\\n",
       "6368  6428                             Acme Resources Limited   \n",
       "1490  1491                             Acme Resources Limited   \n",
       "4186  4207                             Bagrrys India Limited.   \n",
       "3850  3862                             Bagrrys India Limited.   \n",
       "6701  6765                    Burmans Finvest Private Limited   \n",
       "5537  5581                    Burmans Finvest Private Limited   \n",
       "6569  6631                   Crossroads Mills Private Limited   \n",
       "3650  3661                   Crossroads Mills Private Limited   \n",
       "14      15             General Insurance Corporation Of India   \n",
       "346    347             General Insurance Corporation Of India   \n",
       "121    122  Housing And Urban Development Corporation Limited   \n",
       "106    107  Housing And Urban Development Corporation Limited   \n",
       "6346  6405                Indrus Countertrade Private Limited   \n",
       "5988  6039                Indrus Countertrade Private Limited   \n",
       "906    907                                   Pennwalt Limited   \n",
       "905    906                                   Pennwalt Limited   \n",
       "187    188                        Pnb Housing Finance Limited   \n",
       "95      96                        Pnb Housing Finance Limited   \n",
       "4373  4395                   Puran Associates Private Limited   \n",
       "6360  6420                   Puran Associates Private Limited   \n",
       "3069  3070                 Rare Rose Premises Private Limited   \n",
       "4882  4913                 Rare Rose Premises Private Limited   \n",
       "3265  3268                   Runner Marketing Private Limited   \n",
       "2903  2904                   Runner Marketing Private Limited   \n",
       "6606  6670            Suncity Infrastructures Private Limited   \n",
       "3343  3347            Suncity Infrastructures Private Limited   \n",
       "2624  2625                   Unicorn Natural Products Limited   \n",
       "2568  2569                   Unicorn Natural Products Limited   \n",
       "2500  2501                                 Zen Securities Ltd   \n",
       "3108  3109                                 Zen Securities Ltd   \n",
       "\n",
       "      Amount (Actuals)  \n",
       "6368                 0  \n",
       "1490           1500000  \n",
       "4186                 0  \n",
       "3850                 0  \n",
       "6701                 0  \n",
       "5537                 0  \n",
       "6569                 0  \n",
       "3650                 0  \n",
       "14           490000000  \n",
       "346           12600000  \n",
       "121           43000000  \n",
       "106           47500000  \n",
       "6346                 0  \n",
       "5988                 0  \n",
       "906            3200000  \n",
       "905            3200000  \n",
       "187           27400000  \n",
       "95            52500000  \n",
       "4373                 0  \n",
       "6360                 0  \n",
       "3069            100000  \n",
       "4882                 0  \n",
       "3265                 0  \n",
       "2903            200000  \n",
       "6606                 0  \n",
       "3343                 0  \n",
       "2624            400000  \n",
       "2568            400000  \n",
       "2500            500000  \n",
       "3108            100000  "
      ]
     },
     "execution_count": 40,
     "metadata": {},
     "output_type": "execute_result"
    }
   ],
   "source": [
    "less_prescribed[less_prescribed['Company Name(s)'].isin(less_duplicates)].sort_values('Company Name(s)')"
   ]
  },
  {
   "cell_type": "markdown",
   "id": "loving-entry",
   "metadata": {},
   "source": [
    "We can see above that of the 15 companies repeated twice in the less_prescribed DataFrame, 7 of them have different values in the \"Amount (Actuals)\" column. Therefore, 8 companies were added twice with the same value in the \"Amount (Actuals)\" column, and 7 were added twice with completely different values. This is an error in the dataset."
   ]
  },
  {
   "cell_type": "markdown",
   "id": "optimum-yield",
   "metadata": {},
   "source": [
    "#### More Than Prescribed DataFrame:"
   ]
  },
  {
   "cell_type": "code",
   "execution_count": 41,
   "id": "lightweight-shanghai",
   "metadata": {},
   "outputs": [
    {
     "data": {
      "text/plain": [
       "0                       Reliance Industries Limited\n",
       "1                                      Ntpc Limited\n",
       "2           Oil And Natural Gas Corporation Limited\n",
       "3                                       Itc Limited\n",
       "4                        Central Coalfields Limited\n",
       "                           ...                     \n",
       "3723             Highend Properties Private Limtied\n",
       "3724    P.C. Chandra Jewellery Apex Private Limited\n",
       "3725                 Siro Clinpharm Private Limited\n",
       "3726     Divgi Torqtransfer Systems Private Limited\n",
       "3727                                            NaN\n",
       "Name: Company Name(s), Length: 3728, dtype: object"
      ]
     },
     "execution_count": 41,
     "metadata": {},
     "output_type": "execute_result"
    }
   ],
   "source": [
    "column = more_prescribed['Company Name(s)']\n",
    "more_companies = np.array(column)\n",
    "column"
   ]
  },
  {
   "cell_type": "code",
   "execution_count": 42,
   "id": "certain-anchor",
   "metadata": {},
   "outputs": [
    {
     "name": "stdout",
     "output_type": "stream",
     "text": [
      "No. of unique values: 3718\n",
      "Duplicates: {'Bses Yamuna Power Limited': 2, 'Reliance Infrastructure Limited': 2, 'Sbi Life Insurance Company Limited': 2, 'Jaiprakash Power Ventures Limited': 2, 'Bses Rajdhani Power Limited': 2, 'Mapaex Remedies Private Limited': 2, 'Chowdry Associates': 2, 'Keshav Power Limited': 2, 'Green Infra Wind Farm Assets Limited': 2, 'Atrenta (India) Private Limited': 2}\n",
      "No. of duplicates: 10\n"
     ]
    }
   ],
   "source": [
    "print(\"No. of unique values:\", len(column.unique()))\n",
    "\n",
    "# Check for duplicates\n",
    "counter = dict(Counter(column))\n",
    "more_duplicates = { key:value for key, value in counter.items() if value > 1}\n",
    "print(\"Duplicates:\", more_duplicates)\n",
    "if len(more_duplicates) > 0:\n",
    "    print(\"No. of duplicates:\", len(more_duplicates))"
   ]
  },
  {
   "cell_type": "code",
   "execution_count": 43,
   "id": "bearing-works",
   "metadata": {
    "scrolled": true
   },
   "outputs": [
    {
     "data": {
      "text/plain": [
       "{'Bses Yamuna Power Limited': 2,\n",
       " 'Reliance Infrastructure Limited': 2,\n",
       " 'Sbi Life Insurance Company Limited': 2,\n",
       " 'Jaiprakash Power Ventures Limited': 2,\n",
       " 'Bses Rajdhani Power Limited': 2,\n",
       " 'Mapaex Remedies Private Limited': 2,\n",
       " 'Chowdry Associates': 2,\n",
       " 'Keshav Power Limited': 2,\n",
       " 'Green Infra Wind Farm Assets Limited': 2,\n",
       " 'Atrenta (India) Private Limited': 2}"
      ]
     },
     "execution_count": 43,
     "metadata": {},
     "output_type": "execute_result"
    }
   ],
   "source": [
    "more_duplicates"
   ]
  },
  {
   "cell_type": "code",
   "execution_count": 44,
   "id": "north-winter",
   "metadata": {},
   "outputs": [
    {
     "data": {
      "text/html": [
       "<div>\n",
       "<style scoped>\n",
       "    .dataframe tbody tr th:only-of-type {\n",
       "        vertical-align: middle;\n",
       "    }\n",
       "\n",
       "    .dataframe tbody tr th {\n",
       "        vertical-align: top;\n",
       "    }\n",
       "\n",
       "    .dataframe thead th {\n",
       "        text-align: right;\n",
       "    }\n",
       "</style>\n",
       "<table border=\"1\" class=\"dataframe\">\n",
       "  <thead>\n",
       "    <tr style=\"text-align: right;\">\n",
       "      <th></th>\n",
       "      <th>S.No.</th>\n",
       "      <th>Company Name(s)</th>\n",
       "      <th>Amount (Actuals)</th>\n",
       "    </tr>\n",
       "  </thead>\n",
       "  <tbody>\n",
       "    <tr>\n",
       "      <th>2263</th>\n",
       "      <td>2264</td>\n",
       "      <td>Atrenta (India) Private Limited</td>\n",
       "      <td>2100000</td>\n",
       "    </tr>\n",
       "    <tr>\n",
       "      <th>2434</th>\n",
       "      <td>2435</td>\n",
       "      <td>Atrenta (India) Private Limited</td>\n",
       "      <td>1800000</td>\n",
       "    </tr>\n",
       "    <tr>\n",
       "      <th>374</th>\n",
       "      <td>375</td>\n",
       "      <td>Bses Rajdhani Power Limited</td>\n",
       "      <td>26700000</td>\n",
       "    </tr>\n",
       "    <tr>\n",
       "      <th>432</th>\n",
       "      <td>433</td>\n",
       "      <td>Bses Rajdhani Power Limited</td>\n",
       "      <td>22400000</td>\n",
       "    </tr>\n",
       "    <tr>\n",
       "      <th>11</th>\n",
       "      <td>12</td>\n",
       "      <td>Bses Yamuna Power Limited</td>\n",
       "      <td>1573500000</td>\n",
       "    </tr>\n",
       "    <tr>\n",
       "      <th>1008</th>\n",
       "      <td>1009</td>\n",
       "      <td>Bses Yamuna Power Limited</td>\n",
       "      <td>7100000</td>\n",
       "    </tr>\n",
       "    <tr>\n",
       "      <th>1425</th>\n",
       "      <td>1426</td>\n",
       "      <td>Chowdry Associates</td>\n",
       "      <td>4200000</td>\n",
       "    </tr>\n",
       "    <tr>\n",
       "      <th>1415</th>\n",
       "      <td>1416</td>\n",
       "      <td>Chowdry Associates</td>\n",
       "      <td>4200000</td>\n",
       "    </tr>\n",
       "    <tr>\n",
       "      <th>2072</th>\n",
       "      <td>2073</td>\n",
       "      <td>Green Infra Wind Farm Assets Limited</td>\n",
       "      <td>2400000</td>\n",
       "    </tr>\n",
       "    <tr>\n",
       "      <th>2585</th>\n",
       "      <td>2586</td>\n",
       "      <td>Green Infra Wind Farm Assets Limited</td>\n",
       "      <td>1600000</td>\n",
       "    </tr>\n",
       "    <tr>\n",
       "      <th>293</th>\n",
       "      <td>294</td>\n",
       "      <td>Jaiprakash Power Ventures Limited</td>\n",
       "      <td>37800000</td>\n",
       "    </tr>\n",
       "    <tr>\n",
       "      <th>554</th>\n",
       "      <td>555</td>\n",
       "      <td>Jaiprakash Power Ventures Limited</td>\n",
       "      <td>15600000</td>\n",
       "    </tr>\n",
       "    <tr>\n",
       "      <th>1732</th>\n",
       "      <td>1733</td>\n",
       "      <td>Keshav Power Limited</td>\n",
       "      <td>3200000</td>\n",
       "    </tr>\n",
       "    <tr>\n",
       "      <th>2243</th>\n",
       "      <td>2244</td>\n",
       "      <td>Keshav Power Limited</td>\n",
       "      <td>2100000</td>\n",
       "    </tr>\n",
       "    <tr>\n",
       "      <th>795</th>\n",
       "      <td>796</td>\n",
       "      <td>Mapaex Remedies Private Limited</td>\n",
       "      <td>10000000</td>\n",
       "    </tr>\n",
       "    <tr>\n",
       "      <th>397</th>\n",
       "      <td>398</td>\n",
       "      <td>Mapaex Remedies Private Limited</td>\n",
       "      <td>25000000</td>\n",
       "    </tr>\n",
       "    <tr>\n",
       "      <th>46</th>\n",
       "      <td>47</td>\n",
       "      <td>Reliance Infrastructure Limited</td>\n",
       "      <td>325000000</td>\n",
       "    </tr>\n",
       "    <tr>\n",
       "      <th>45</th>\n",
       "      <td>46</td>\n",
       "      <td>Reliance Infrastructure Limited</td>\n",
       "      <td>327800000</td>\n",
       "    </tr>\n",
       "    <tr>\n",
       "      <th>137</th>\n",
       "      <td>138</td>\n",
       "      <td>Sbi Life Insurance Company Limited</td>\n",
       "      <td>99400000</td>\n",
       "    </tr>\n",
       "    <tr>\n",
       "      <th>107</th>\n",
       "      <td>108</td>\n",
       "      <td>Sbi Life Insurance Company Limited</td>\n",
       "      <td>130800000</td>\n",
       "    </tr>\n",
       "  </tbody>\n",
       "</table>\n",
       "</div>"
      ],
      "text/plain": [
       "     S.No.                       Company Name(s)  Amount (Actuals)\n",
       "2263  2264       Atrenta (India) Private Limited           2100000\n",
       "2434  2435       Atrenta (India) Private Limited           1800000\n",
       "374    375           Bses Rajdhani Power Limited          26700000\n",
       "432    433           Bses Rajdhani Power Limited          22400000\n",
       "11      12             Bses Yamuna Power Limited        1573500000\n",
       "1008  1009             Bses Yamuna Power Limited           7100000\n",
       "1425  1426                    Chowdry Associates           4200000\n",
       "1415  1416                    Chowdry Associates           4200000\n",
       "2072  2073  Green Infra Wind Farm Assets Limited           2400000\n",
       "2585  2586  Green Infra Wind Farm Assets Limited           1600000\n",
       "293    294     Jaiprakash Power Ventures Limited          37800000\n",
       "554    555     Jaiprakash Power Ventures Limited          15600000\n",
       "1732  1733                  Keshav Power Limited           3200000\n",
       "2243  2244                  Keshav Power Limited           2100000\n",
       "795    796       Mapaex Remedies Private Limited          10000000\n",
       "397    398       Mapaex Remedies Private Limited          25000000\n",
       "46      47       Reliance Infrastructure Limited         325000000\n",
       "45      46       Reliance Infrastructure Limited         327800000\n",
       "137    138    Sbi Life Insurance Company Limited          99400000\n",
       "107    108    Sbi Life Insurance Company Limited         130800000"
      ]
     },
     "execution_count": 44,
     "metadata": {},
     "output_type": "execute_result"
    }
   ],
   "source": [
    "more_prescribed[more_prescribed['Company Name(s)'].isin(more_duplicates)].sort_values('Company Name(s)')"
   ]
  },
  {
   "cell_type": "markdown",
   "id": "hourly-projection",
   "metadata": {},
   "source": [
    "We can see above that of the 10 companies repeated twice in the more_prescribed DataFrame, 9 of them have different values in the \"Amount (Actuals)\" column. Therefore, 1 company was added twice with the same value in the \"Amount (Actuals)\" column, and 9 were added twice with completely different values. This is an error in the dataset."
   ]
  },
  {
   "cell_type": "markdown",
   "id": "imported-smooth",
   "metadata": {},
   "source": [
    "#### Total Companies DataFrame:"
   ]
  },
  {
   "cell_type": "code",
   "execution_count": 45,
   "id": "american-commerce",
   "metadata": {},
   "outputs": [
    {
     "data": {
      "text/plain": [
       "0         India Infrastructure Finance Company Limited\n",
       "1                          Tata Communications Limited\n",
       "2                                  Infosys Bpo Limited\n",
       "3        Gujarat State Fertilizers & Chemicals Limited\n",
       "4                                Havells India Limited\n",
       "                             ...                      \n",
       "10866         Ampa Housing Development Private Limited\n",
       "10867               Highend Properties Private Limtied\n",
       "10868      P.C. Chandra Jewellery Apex Private Limited\n",
       "10869                   Siro Clinpharm Private Limited\n",
       "10870       Divgi Torqtransfer Systems Private Limited\n",
       "Name: Company Name(s), Length: 10871, dtype: object"
      ]
     },
     "execution_count": 45,
     "metadata": {},
     "output_type": "execute_result"
    }
   ],
   "source": [
    "column = total_companies['Company Name(s)']\n",
    "all_companies = np.array(column)\n",
    "column"
   ]
  },
  {
   "cell_type": "code",
   "execution_count": 46,
   "id": "norman-ukraine",
   "metadata": {
    "scrolled": true
   },
   "outputs": [
    {
     "name": "stdout",
     "output_type": "stream",
     "text": [
      "No. of unique values: 10831\n",
      "Duplicates: {'Barclays Investments & Loans (India) Limited.': 2, 'Aadhar Housing Finance Limited': 2, 'Green Infra Solar Farms Limited': 2, 'Hindusthan Consultancy And Services Limited': 2, 'Madhur Housing And Development Company(A Pvt Co.With Unlimited Liabili': 2, 'Panchsheel Investment Company (A Pvt.Co.With Unlimited Liability)': 2, 'Avail Financial Services Limited': 2, 'General Insurance Corporation Of India': 2, 'Pnb Housing Finance Limited': 2, 'Housing And Urban Development Corporation Limited': 2, 'Ujjivan Financial Services Limited': 2, 'Amd India Private Limited': 2, 'Pennwalt Limited': 2, 'Acme Resources Limited': 2, 'Green Infra Wind Energy Project Limited': 2, 'Green Infra Btv Limited': 2, 'Karun Carpets Private Limited': 2, 'Black Knight India Solutions Private Limited': 2, 'Zen Securities Ltd': 2, 'Unicorn Natural Products Limited': 2, 'Runner Marketing Private Limited': 2, 'Rare Rose Premises Private Limited': 2, 'Suncity Infrastructures Private Limited': 2, 'Crossroads Mills Private Limited': 2, 'Bagrrys India Limited.': 2, 'Niksar Finvest Private Limited': 2, 'Puran Associates Private Limited': 2, 'Sequence Design (India) Private Limited': 2, 'Burmans Finvest Private Limited': 2, 'Indrus Countertrade Private Limited': 2, 'Bses Yamuna Power Limited': 2, 'Reliance Infrastructure Limited': 2, 'Sbi Life Insurance Company Limited': 2, 'Jaiprakash Power Ventures Limited': 2, 'Bses Rajdhani Power Limited': 2, 'Mapaex Remedies Private Limited': 2, 'Chowdry Associates': 2, 'Keshav Power Limited': 2, 'Green Infra Wind Farm Assets Limited': 2, 'Atrenta (India) Private Limited': 2}\n",
      "No. of duplicates: 40\n"
     ]
    }
   ],
   "source": [
    "print(\"No. of unique values:\", len(column.unique()))\n",
    "\n",
    "# Check for duplicates\n",
    "counter = dict(Counter(column))\n",
    "all_duplicates = { key:value for key, value in counter.items() if value > 1}\n",
    "print(\"Duplicates:\", all_duplicates)\n",
    "if len(all_duplicates) > 0:\n",
    "    print(\"No. of duplicates:\", len(all_duplicates))"
   ]
  },
  {
   "cell_type": "code",
   "execution_count": 47,
   "id": "comparable-relationship",
   "metadata": {},
   "outputs": [
    {
     "data": {
      "text/plain": [
       "{'Barclays Investments & Loans (India) Limited.': 2,\n",
       " 'Aadhar Housing Finance Limited': 2,\n",
       " 'Green Infra Solar Farms Limited': 2,\n",
       " 'Hindusthan Consultancy And Services Limited': 2,\n",
       " 'Madhur Housing And Development Company(A Pvt Co.With Unlimited Liabili': 2,\n",
       " 'Panchsheel Investment Company (A Pvt.Co.With Unlimited Liability)': 2,\n",
       " 'Avail Financial Services Limited': 2,\n",
       " 'General Insurance Corporation Of India': 2,\n",
       " 'Pnb Housing Finance Limited': 2,\n",
       " 'Housing And Urban Development Corporation Limited': 2,\n",
       " 'Ujjivan Financial Services Limited': 2,\n",
       " 'Amd India Private Limited': 2,\n",
       " 'Pennwalt Limited': 2,\n",
       " 'Acme Resources Limited': 2,\n",
       " 'Green Infra Wind Energy Project Limited': 2,\n",
       " 'Green Infra Btv Limited': 2,\n",
       " 'Karun Carpets Private Limited': 2,\n",
       " 'Black Knight India Solutions Private Limited': 2,\n",
       " 'Zen Securities Ltd': 2,\n",
       " 'Unicorn Natural Products Limited': 2,\n",
       " 'Runner Marketing Private Limited': 2,\n",
       " 'Rare Rose Premises Private Limited': 2,\n",
       " 'Suncity Infrastructures Private Limited': 2,\n",
       " 'Crossroads Mills Private Limited': 2,\n",
       " 'Bagrrys India Limited.': 2,\n",
       " 'Niksar Finvest Private Limited': 2,\n",
       " 'Puran Associates Private Limited': 2,\n",
       " 'Sequence Design (India) Private Limited': 2,\n",
       " 'Burmans Finvest Private Limited': 2,\n",
       " 'Indrus Countertrade Private Limited': 2,\n",
       " 'Bses Yamuna Power Limited': 2,\n",
       " 'Reliance Infrastructure Limited': 2,\n",
       " 'Sbi Life Insurance Company Limited': 2,\n",
       " 'Jaiprakash Power Ventures Limited': 2,\n",
       " 'Bses Rajdhani Power Limited': 2,\n",
       " 'Mapaex Remedies Private Limited': 2,\n",
       " 'Chowdry Associates': 2,\n",
       " 'Keshav Power Limited': 2,\n",
       " 'Green Infra Wind Farm Assets Limited': 2,\n",
       " 'Atrenta (India) Private Limited': 2}"
      ]
     },
     "execution_count": 47,
     "metadata": {},
     "output_type": "execute_result"
    }
   ],
   "source": [
    "all_duplicates"
   ]
  },
  {
   "cell_type": "code",
   "execution_count": 48,
   "id": "peripheral-happiness",
   "metadata": {},
   "outputs": [
    {
     "data": {
      "text/html": [
       "<div>\n",
       "<style scoped>\n",
       "    .dataframe tbody tr th:only-of-type {\n",
       "        vertical-align: middle;\n",
       "    }\n",
       "\n",
       "    .dataframe tbody tr th {\n",
       "        vertical-align: top;\n",
       "    }\n",
       "\n",
       "    .dataframe thead th {\n",
       "        text-align: right;\n",
       "    }\n",
       "</style>\n",
       "<table border=\"1\" class=\"dataframe\">\n",
       "  <thead>\n",
       "    <tr style=\"text-align: right;\">\n",
       "      <th></th>\n",
       "      <th>S.No.</th>\n",
       "      <th>Company Name(s)</th>\n",
       "      <th>Amount (Actuals)</th>\n",
       "    </tr>\n",
       "  </thead>\n",
       "  <tbody>\n",
       "    <tr>\n",
       "      <th>189</th>\n",
       "      <td>190</td>\n",
       "      <td>Aadhar Housing Finance Limited</td>\n",
       "      <td>1900000</td>\n",
       "    </tr>\n",
       "    <tr>\n",
       "      <th>2786</th>\n",
       "      <td>2391</td>\n",
       "      <td>Aadhar Housing Finance Limited</td>\n",
       "      <td>500000</td>\n",
       "    </tr>\n",
       "    <tr>\n",
       "      <th>6764</th>\n",
       "      <td>6428</td>\n",
       "      <td>Acme Resources Limited</td>\n",
       "      <td>0</td>\n",
       "    </tr>\n",
       "    <tr>\n",
       "      <th>1886</th>\n",
       "      <td>1491</td>\n",
       "      <td>Acme Resources Limited</td>\n",
       "      <td>1500000</td>\n",
       "    </tr>\n",
       "    <tr>\n",
       "      <th>8735</th>\n",
       "      <td>1592</td>\n",
       "      <td>Amd India Private Limited</td>\n",
       "      <td>3500000</td>\n",
       "    </tr>\n",
       "    <tr>\n",
       "      <th>...</th>\n",
       "      <td>...</td>\n",
       "      <td>...</td>\n",
       "      <td>...</td>\n",
       "    </tr>\n",
       "    <tr>\n",
       "      <th>586</th>\n",
       "      <td>191</td>\n",
       "      <td>Ujjivan Financial Services Limited</td>\n",
       "      <td>26800000</td>\n",
       "    </tr>\n",
       "    <tr>\n",
       "      <th>3020</th>\n",
       "      <td>2625</td>\n",
       "      <td>Unicorn Natural Products Limited</td>\n",
       "      <td>400000</td>\n",
       "    </tr>\n",
       "    <tr>\n",
       "      <th>2964</th>\n",
       "      <td>2569</td>\n",
       "      <td>Unicorn Natural Products Limited</td>\n",
       "      <td>400000</td>\n",
       "    </tr>\n",
       "    <tr>\n",
       "      <th>2896</th>\n",
       "      <td>2501</td>\n",
       "      <td>Zen Securities Ltd</td>\n",
       "      <td>500000</td>\n",
       "    </tr>\n",
       "    <tr>\n",
       "      <th>3504</th>\n",
       "      <td>3109</td>\n",
       "      <td>Zen Securities Ltd</td>\n",
       "      <td>100000</td>\n",
       "    </tr>\n",
       "  </tbody>\n",
       "</table>\n",
       "<p>80 rows × 3 columns</p>\n",
       "</div>"
      ],
      "text/plain": [
       "     S.No.                     Company Name(s)  Amount (Actuals)\n",
       "189    190      Aadhar Housing Finance Limited           1900000\n",
       "2786  2391      Aadhar Housing Finance Limited            500000\n",
       "6764  6428              Acme Resources Limited                 0\n",
       "1886  1491              Acme Resources Limited           1500000\n",
       "8735  1592           Amd India Private Limited           3500000\n",
       "...    ...                                 ...               ...\n",
       "586    191  Ujjivan Financial Services Limited          26800000\n",
       "3020  2625    Unicorn Natural Products Limited            400000\n",
       "2964  2569    Unicorn Natural Products Limited            400000\n",
       "2896  2501                  Zen Securities Ltd            500000\n",
       "3504  3109                  Zen Securities Ltd            100000\n",
       "\n",
       "[80 rows x 3 columns]"
      ]
     },
     "execution_count": 48,
     "metadata": {},
     "output_type": "execute_result"
    }
   ],
   "source": [
    "total_companies[total_companies['Company Name(s)'].isin(all_duplicates)].sort_values('Company Name(s)')"
   ]
  },
  {
   "cell_type": "code",
   "execution_count": 49,
   "id": "turned-harris",
   "metadata": {},
   "outputs": [
    {
     "data": {
      "text/html": [
       "<div>\n",
       "<style scoped>\n",
       "    .dataframe tbody tr th:only-of-type {\n",
       "        vertical-align: middle;\n",
       "    }\n",
       "\n",
       "    .dataframe tbody tr th {\n",
       "        vertical-align: top;\n",
       "    }\n",
       "\n",
       "    .dataframe thead th {\n",
       "        text-align: right;\n",
       "    }\n",
       "</style>\n",
       "<table border=\"1\" class=\"dataframe\">\n",
       "  <thead>\n",
       "    <tr style=\"text-align: right;\">\n",
       "      <th></th>\n",
       "      <th>S.No.</th>\n",
       "      <th>Company Name(s)</th>\n",
       "      <th>Amount (Actuals)</th>\n",
       "      <th>DataFrame</th>\n",
       "    </tr>\n",
       "  </thead>\n",
       "  <tbody>\n",
       "    <tr>\n",
       "      <th>0</th>\n",
       "      <td>190</td>\n",
       "      <td>Aadhar Housing Finance Limited</td>\n",
       "      <td>1900000</td>\n",
       "      <td>as_prescribed</td>\n",
       "    </tr>\n",
       "    <tr>\n",
       "      <th>7</th>\n",
       "      <td>2391</td>\n",
       "      <td>Aadhar Housing Finance Limited</td>\n",
       "      <td>500000</td>\n",
       "      <td>less_prescribed</td>\n",
       "    </tr>\n",
       "    <tr>\n",
       "      <th>17</th>\n",
       "      <td>1592</td>\n",
       "      <td>Amd India Private Limited</td>\n",
       "      <td>3500000</td>\n",
       "      <td>more_prescribed</td>\n",
       "    </tr>\n",
       "    <tr>\n",
       "      <th>8</th>\n",
       "      <td>796</td>\n",
       "      <td>Amd India Private Limited</td>\n",
       "      <td>4000000</td>\n",
       "      <td>less_prescribed</td>\n",
       "    </tr>\n",
       "    <tr>\n",
       "      <th>1</th>\n",
       "      <td>391</td>\n",
       "      <td>Avail Financial Services Limited</td>\n",
       "      <td>100000</td>\n",
       "      <td>as_prescribed</td>\n",
       "    </tr>\n",
       "    <tr>\n",
       "      <th>18</th>\n",
       "      <td>3659</td>\n",
       "      <td>Avail Financial Services Limited</td>\n",
       "      <td>100000</td>\n",
       "      <td>more_prescribed</td>\n",
       "    </tr>\n",
       "    <tr>\n",
       "      <th>2</th>\n",
       "      <td>62</td>\n",
       "      <td>Barclays Investments &amp; Loans (India) Limited.</td>\n",
       "      <td>10400000</td>\n",
       "      <td>as_prescribed</td>\n",
       "    </tr>\n",
       "    <tr>\n",
       "      <th>19</th>\n",
       "      <td>1065</td>\n",
       "      <td>Barclays Investments &amp; Loans (India) Limited.</td>\n",
       "      <td>6500000</td>\n",
       "      <td>more_prescribed</td>\n",
       "    </tr>\n",
       "    <tr>\n",
       "      <th>20</th>\n",
       "      <td>2509</td>\n",
       "      <td>Black Knight India Solutions Private Limited</td>\n",
       "      <td>1700000</td>\n",
       "      <td>more_prescribed</td>\n",
       "    </tr>\n",
       "    <tr>\n",
       "      <th>9</th>\n",
       "      <td>2330</td>\n",
       "      <td>Black Knight India Solutions Private Limited</td>\n",
       "      <td>600000</td>\n",
       "      <td>less_prescribed</td>\n",
       "    </tr>\n",
       "    <tr>\n",
       "      <th>10</th>\n",
       "      <td>2030</td>\n",
       "      <td>Green Infra Btv Limited</td>\n",
       "      <td>800000</td>\n",
       "      <td>less_prescribed</td>\n",
       "    </tr>\n",
       "    <tr>\n",
       "      <th>21</th>\n",
       "      <td>3097</td>\n",
       "      <td>Green Infra Btv Limited</td>\n",
       "      <td>1100000</td>\n",
       "      <td>more_prescribed</td>\n",
       "    </tr>\n",
       "    <tr>\n",
       "      <th>22</th>\n",
       "      <td>3109</td>\n",
       "      <td>Green Infra Solar Farms Limited</td>\n",
       "      <td>1100000</td>\n",
       "      <td>more_prescribed</td>\n",
       "    </tr>\n",
       "    <tr>\n",
       "      <th>3</th>\n",
       "      <td>227</td>\n",
       "      <td>Green Infra Solar Farms Limited</td>\n",
       "      <td>1500000</td>\n",
       "      <td>as_prescribed</td>\n",
       "    </tr>\n",
       "    <tr>\n",
       "      <th>23</th>\n",
       "      <td>2204</td>\n",
       "      <td>Green Infra Wind Energy Project Limited</td>\n",
       "      <td>2200000</td>\n",
       "      <td>more_prescribed</td>\n",
       "    </tr>\n",
       "    <tr>\n",
       "      <th>11</th>\n",
       "      <td>1760</td>\n",
       "      <td>Green Infra Wind Energy Project Limited</td>\n",
       "      <td>1100000</td>\n",
       "      <td>less_prescribed</td>\n",
       "    </tr>\n",
       "    <tr>\n",
       "      <th>4</th>\n",
       "      <td>313</td>\n",
       "      <td>Hindusthan Consultancy And Services Limited</td>\n",
       "      <td>900000</td>\n",
       "      <td>as_prescribed</td>\n",
       "    </tr>\n",
       "    <tr>\n",
       "      <th>12</th>\n",
       "      <td>5672</td>\n",
       "      <td>Hindusthan Consultancy And Services Limited</td>\n",
       "      <td>0</td>\n",
       "      <td>less_prescribed</td>\n",
       "    </tr>\n",
       "    <tr>\n",
       "      <th>13</th>\n",
       "      <td>2099</td>\n",
       "      <td>Karun Carpets Private Limited</td>\n",
       "      <td>800000</td>\n",
       "      <td>less_prescribed</td>\n",
       "    </tr>\n",
       "    <tr>\n",
       "      <th>24</th>\n",
       "      <td>1304</td>\n",
       "      <td>Karun Carpets Private Limited</td>\n",
       "      <td>5000000</td>\n",
       "      <td>more_prescribed</td>\n",
       "    </tr>\n",
       "    <tr>\n",
       "      <th>25</th>\n",
       "      <td>3655</td>\n",
       "      <td>Madhur Housing And Development Company(A Pvt C...</td>\n",
       "      <td>100000</td>\n",
       "      <td>more_prescribed</td>\n",
       "    </tr>\n",
       "    <tr>\n",
       "      <th>5</th>\n",
       "      <td>361</td>\n",
       "      <td>Madhur Housing And Development Company(A Pvt C...</td>\n",
       "      <td>500000</td>\n",
       "      <td>as_prescribed</td>\n",
       "    </tr>\n",
       "    <tr>\n",
       "      <th>26</th>\n",
       "      <td>1396</td>\n",
       "      <td>Niksar Finvest Private Limited</td>\n",
       "      <td>4400000</td>\n",
       "      <td>more_prescribed</td>\n",
       "    </tr>\n",
       "    <tr>\n",
       "      <th>14</th>\n",
       "      <td>4367</td>\n",
       "      <td>Niksar Finvest Private Limited</td>\n",
       "      <td>0</td>\n",
       "      <td>less_prescribed</td>\n",
       "    </tr>\n",
       "    <tr>\n",
       "      <th>6</th>\n",
       "      <td>362</td>\n",
       "      <td>Panchsheel Investment Company (A Pvt.Co.With U...</td>\n",
       "      <td>500000</td>\n",
       "      <td>as_prescribed</td>\n",
       "    </tr>\n",
       "    <tr>\n",
       "      <th>27</th>\n",
       "      <td>3522</td>\n",
       "      <td>Panchsheel Investment Company (A Pvt.Co.With U...</td>\n",
       "      <td>400000</td>\n",
       "      <td>more_prescribed</td>\n",
       "    </tr>\n",
       "    <tr>\n",
       "      <th>15</th>\n",
       "      <td>5205</td>\n",
       "      <td>Sequence Design (India) Private Limited</td>\n",
       "      <td>0</td>\n",
       "      <td>less_prescribed</td>\n",
       "    </tr>\n",
       "    <tr>\n",
       "      <th>28</th>\n",
       "      <td>3222</td>\n",
       "      <td>Sequence Design (India) Private Limited</td>\n",
       "      <td>1000000</td>\n",
       "      <td>more_prescribed</td>\n",
       "    </tr>\n",
       "    <tr>\n",
       "      <th>16</th>\n",
       "      <td>191</td>\n",
       "      <td>Ujjivan Financial Services Limited</td>\n",
       "      <td>26800000</td>\n",
       "      <td>less_prescribed</td>\n",
       "    </tr>\n",
       "    <tr>\n",
       "      <th>29</th>\n",
       "      <td>514</td>\n",
       "      <td>Ujjivan Financial Services Limited</td>\n",
       "      <td>17800000</td>\n",
       "      <td>more_prescribed</td>\n",
       "    </tr>\n",
       "  </tbody>\n",
       "</table>\n",
       "</div>"
      ],
      "text/plain": [
       "   S.No.                                    Company Name(s)  Amount (Actuals)  \\\n",
       "0    190                     Aadhar Housing Finance Limited           1900000   \n",
       "7   2391                     Aadhar Housing Finance Limited            500000   \n",
       "17  1592                          Amd India Private Limited           3500000   \n",
       "8    796                          Amd India Private Limited           4000000   \n",
       "1    391                   Avail Financial Services Limited            100000   \n",
       "18  3659                   Avail Financial Services Limited            100000   \n",
       "2     62      Barclays Investments & Loans (India) Limited.          10400000   \n",
       "19  1065      Barclays Investments & Loans (India) Limited.           6500000   \n",
       "20  2509       Black Knight India Solutions Private Limited           1700000   \n",
       "9   2330       Black Knight India Solutions Private Limited            600000   \n",
       "10  2030                            Green Infra Btv Limited            800000   \n",
       "21  3097                            Green Infra Btv Limited           1100000   \n",
       "22  3109                    Green Infra Solar Farms Limited           1100000   \n",
       "3    227                    Green Infra Solar Farms Limited           1500000   \n",
       "23  2204            Green Infra Wind Energy Project Limited           2200000   \n",
       "11  1760            Green Infra Wind Energy Project Limited           1100000   \n",
       "4    313        Hindusthan Consultancy And Services Limited            900000   \n",
       "12  5672        Hindusthan Consultancy And Services Limited                 0   \n",
       "13  2099                      Karun Carpets Private Limited            800000   \n",
       "24  1304                      Karun Carpets Private Limited           5000000   \n",
       "25  3655  Madhur Housing And Development Company(A Pvt C...            100000   \n",
       "5    361  Madhur Housing And Development Company(A Pvt C...            500000   \n",
       "26  1396                     Niksar Finvest Private Limited           4400000   \n",
       "14  4367                     Niksar Finvest Private Limited                 0   \n",
       "6    362  Panchsheel Investment Company (A Pvt.Co.With U...            500000   \n",
       "27  3522  Panchsheel Investment Company (A Pvt.Co.With U...            400000   \n",
       "15  5205            Sequence Design (India) Private Limited                 0   \n",
       "28  3222            Sequence Design (India) Private Limited           1000000   \n",
       "16   191                 Ujjivan Financial Services Limited          26800000   \n",
       "29   514                 Ujjivan Financial Services Limited          17800000   \n",
       "\n",
       "          DataFrame  \n",
       "0     as_prescribed  \n",
       "7   less_prescribed  \n",
       "17  more_prescribed  \n",
       "8   less_prescribed  \n",
       "1     as_prescribed  \n",
       "18  more_prescribed  \n",
       "2     as_prescribed  \n",
       "19  more_prescribed  \n",
       "20  more_prescribed  \n",
       "9   less_prescribed  \n",
       "10  less_prescribed  \n",
       "21  more_prescribed  \n",
       "22  more_prescribed  \n",
       "3     as_prescribed  \n",
       "23  more_prescribed  \n",
       "11  less_prescribed  \n",
       "4     as_prescribed  \n",
       "12  less_prescribed  \n",
       "13  less_prescribed  \n",
       "24  more_prescribed  \n",
       "25  more_prescribed  \n",
       "5     as_prescribed  \n",
       "26  more_prescribed  \n",
       "14  less_prescribed  \n",
       "6     as_prescribed  \n",
       "27  more_prescribed  \n",
       "15  less_prescribed  \n",
       "28  more_prescribed  \n",
       "16  less_prescribed  \n",
       "29  more_prescribed  "
      ]
     },
     "execution_count": 49,
     "metadata": {},
     "output_type": "execute_result"
    }
   ],
   "source": [
    "#Making a DataFrame for companies that are repeated in 2 different DataFrames\n",
    "dups_3 = all_duplicates.keys()\n",
    "dups_4 = []\n",
    "\n",
    "for dup in dups_3:\n",
    "    if (not dup in(less_duplicates)):\n",
    "        if (not dup in (more_duplicates)):\n",
    "            dups_4.append(dup)\n",
    "\n",
    "as_repeats = as_prescribed[as_prescribed['Company Name(s)'].isin(dups_4)].sort_values('Company Name(s)')\n",
    "as_repeats['DataFrame'] = 'as_prescribed'\n",
    "\n",
    "less_repeats = less_prescribed[less_prescribed['Company Name(s)'].isin(dups_4)].sort_values('Company Name(s)')\n",
    "less_repeats['DataFrame'] = 'less_prescribed'\n",
    "\n",
    "more_repeats = more_prescribed[more_prescribed['Company Name(s)'].isin(dups_4)].sort_values('Company Name(s)')\n",
    "more_repeats['DataFrame'] = 'more_prescribed'\n",
    "\n",
    "mixed_repeats = as_repeats.append(less_repeats, ignore_index = True).append(more_repeats, ignore_index = True)\n",
    "mixed_repeats.sort_values('Company Name(s)')"
   ]
  },
  {
   "cell_type": "code",
   "execution_count": 92,
   "id": "organized-eight",
   "metadata": {},
   "outputs": [
    {
     "data": {
      "image/png": "[encoded data removed]",
      "text/plain": [
       "<Figure size 576x432 with 1 Axes>"
      ]
     },
     "metadata": {
      "needs_background": "light"
     },
     "output_type": "display_data"
    }
   ],
   "source": [
    "df_chart = mixed_repeats.groupby('DataFrame').agg(len)\n",
    "plt.figure(figsize=(8,6))\n",
    "plt.bar(df_chart.index, df_chart[\"S.No.\"])\n",
    "plt.title(\"Companies in each DataFrame that are Repeated Elsewhere\")\n",
    "plt.xlabel(\"Original DataFrame\")\n",
    "plt.ylabel('Number of Companies that are Repeated in Other DataFrames')\n",
    "plt.xticks(rotation = 20)\n",
    "plt.show()"
   ]
  },
  {
   "cell_type": "markdown",
   "id": "experienced-advocate",
   "metadata": {},
   "source": [
    "As you can see above, there are 15 companies whose names are repeated in 2 different datasets. Therefore, those 15 companies each appear twice in total throughout the as_prescribed, less_prescribed, and more_prescribed DataFrames. 13 companies in the more_prescribed DataFrame, 10 companies in the less_prescribed DataFrame, and 7 companies in the as_prescribed DataFrame appear in another DataFrame. This means that the data for those 15 companies is innacurate and is an error in the data."
   ]
  },
  {
   "cell_type": "markdown",
   "id": "varied-import",
   "metadata": {},
   "source": [
    "### Amount (Actuals)\n",
    "<a class=\"anchor\" id=\"5.1.3\"></a>\n",
    "Amount of money (in Rupees) spent on CSR in 2016-17. Ordered by decreasing amount."
   ]
  },
  {
   "cell_type": "markdown",
   "id": "danish-robert",
   "metadata": {},
   "source": [
    "#### As Prescribed DataFrame:"
   ]
  },
  {
   "cell_type": "code",
   "execution_count": 51,
   "id": "excellent-oxide",
   "metadata": {},
   "outputs": [
    {
     "data": {
      "text/plain": [
       "0       244600000\n",
       "1       138500000\n",
       "2       135800000\n",
       "3       122200000\n",
       "4       114800000\n",
       "          ...    \n",
       "392             0\n",
       "393             0\n",
       "394             0\n",
       "395             0\n",
       "396    3665300000\n",
       "Name: Amount (Actuals), Length: 397, dtype: int64"
      ]
     },
     "execution_count": 51,
     "metadata": {},
     "output_type": "execute_result"
    }
   ],
   "source": [
    "column = as_prescribed['Amount (Actuals)']\n",
    "column"
   ]
  },
  {
   "cell_type": "code",
   "execution_count": 52,
   "id": "standing-salvation",
   "metadata": {},
   "outputs": [
    {
     "name": "stdout",
     "output_type": "stream",
     "text": [
      "No. of unique values: 135\n",
      "Duplicates: {20200000: 2, 19800000: 2, 14900000: 2, 13000000: 2, 10000000: 2, 9300000: 2, 7900000: 2, 7500000: 2, 7100000: 2, 7000000: 2, 6000000: 2, 5800000: 2, 5600000: 2, 5400000: 2, 5300000: 2, 4800000: 2, 4700000: 2, 4600000: 2, 4500000: 4, 4400000: 3, 4100000: 2, 4000000: 2, 3900000: 2, 3800000: 2, 3200000: 3, 3100000: 3, 3000000: 3, 2900000: 3, 2800000: 6, 2700000: 2, 2600000: 8, 2500000: 6, 2400000: 4, 2300000: 3, 2200000: 6, 2100000: 5, 2000000: 6, 1900000: 5, 1800000: 9, 1700000: 6, 1600000: 10, 1500000: 11, 1400000: 13, 1300000: 9, 1200000: 10, 1100000: 10, 1000000: 23, 900000: 21, 800000: 15, 700000: 20, 600000: 11, 500000: 8, 400000: 7, 300000: 7, 200000: 8, 100000: 3, 0: 4}\n",
      "No. of duplicates: 57\n"
     ]
    }
   ],
   "source": [
    "print(\"No. of unique values:\", len(column.unique()))\n",
    "\n",
    "# Check for duplicates\n",
    "counter = dict(Counter(column))\n",
    "duplicates = { key:value for key, value in counter.items() if value > 1}\n",
    "print(\"Duplicates:\", duplicates)\n",
    "if len(duplicates) > 0:\n",
    "    print(\"No. of duplicates:\", len(duplicates))"
   ]
  },
  {
   "cell_type": "code",
   "execution_count": 53,
   "id": "whole-prince",
   "metadata": {},
   "outputs": [
    {
     "data": {
      "text/html": [
       "<div>\n",
       "<style scoped>\n",
       "    .dataframe tbody tr th:only-of-type {\n",
       "        vertical-align: middle;\n",
       "    }\n",
       "\n",
       "    .dataframe tbody tr th {\n",
       "        vertical-align: top;\n",
       "    }\n",
       "\n",
       "    .dataframe thead th {\n",
       "        text-align: right;\n",
       "    }\n",
       "</style>\n",
       "<table border=\"1\" class=\"dataframe\">\n",
       "  <thead>\n",
       "    <tr style=\"text-align: right;\">\n",
       "      <th></th>\n",
       "      <th>S.No.</th>\n",
       "      <th>Company Name(s)</th>\n",
       "    </tr>\n",
       "    <tr>\n",
       "      <th>Amount (Actuals)</th>\n",
       "      <th></th>\n",
       "      <th></th>\n",
       "    </tr>\n",
       "  </thead>\n",
       "  <tbody>\n",
       "    <tr>\n",
       "      <th>1000000</th>\n",
       "      <td>23</td>\n",
       "      <td>23</td>\n",
       "    </tr>\n",
       "    <tr>\n",
       "      <th>900000</th>\n",
       "      <td>21</td>\n",
       "      <td>21</td>\n",
       "    </tr>\n",
       "    <tr>\n",
       "      <th>700000</th>\n",
       "      <td>20</td>\n",
       "      <td>20</td>\n",
       "    </tr>\n",
       "    <tr>\n",
       "      <th>800000</th>\n",
       "      <td>15</td>\n",
       "      <td>15</td>\n",
       "    </tr>\n",
       "    <tr>\n",
       "      <th>1400000</th>\n",
       "      <td>13</td>\n",
       "      <td>13</td>\n",
       "    </tr>\n",
       "    <tr>\n",
       "      <th>...</th>\n",
       "      <td>...</td>\n",
       "      <td>...</td>\n",
       "    </tr>\n",
       "    <tr>\n",
       "      <th>11000000</th>\n",
       "      <td>1</td>\n",
       "      <td>1</td>\n",
       "    </tr>\n",
       "    <tr>\n",
       "      <th>10400000</th>\n",
       "      <td>1</td>\n",
       "      <td>1</td>\n",
       "    </tr>\n",
       "    <tr>\n",
       "      <th>10200000</th>\n",
       "      <td>1</td>\n",
       "      <td>1</td>\n",
       "    </tr>\n",
       "    <tr>\n",
       "      <th>10100000</th>\n",
       "      <td>1</td>\n",
       "      <td>1</td>\n",
       "    </tr>\n",
       "    <tr>\n",
       "      <th>3665300000</th>\n",
       "      <td>1</td>\n",
       "      <td>1</td>\n",
       "    </tr>\n",
       "  </tbody>\n",
       "</table>\n",
       "<p>135 rows × 2 columns</p>\n",
       "</div>"
      ],
      "text/plain": [
       "                  S.No.  Company Name(s)\n",
       "Amount (Actuals)                        \n",
       "1000000              23               23\n",
       "900000               21               21\n",
       "700000               20               20\n",
       "800000               15               15\n",
       "1400000              13               13\n",
       "...                 ...              ...\n",
       "11000000              1                1\n",
       "10400000              1                1\n",
       "10200000              1                1\n",
       "10100000              1                1\n",
       "3665300000            1                1\n",
       "\n",
       "[135 rows x 2 columns]"
      ]
     },
     "execution_count": 53,
     "metadata": {},
     "output_type": "execute_result"
    }
   ],
   "source": [
    "as_prescribed.groupby('Amount (Actuals)').agg(len).sort_values('S.No.', ascending = False)"
   ]
  },
  {
   "cell_type": "code",
   "execution_count": 96,
   "id": "executive-maldives",
   "metadata": {
    "scrolled": true
   },
   "outputs": [
    {
     "data": {
      "image/png": "[encoded data removed]",
      "text/plain": [
       "<Figure size 432x360 with 1 Axes>"
      ]
     },
     "metadata": {
      "needs_background": "light"
     },
     "output_type": "display_data"
    }
   ],
   "source": [
    "bins= np.linspace(0, 250000000, 10)\n",
    "plt.figure(figsize=(6,5))\n",
    "plt.hist(as_prescribed['Amount (Actuals)'], bins=bins, edgecolor=\"k\")\n",
    "plt.xticks(bins)\n",
    "\n",
    "plt.show()"
   ]
  },
  {
   "cell_type": "code",
   "execution_count": 55,
   "id": "controlling-screw",
   "metadata": {},
   "outputs": [
    {
     "data": {
      "text/plain": [
       "18464987.40554156"
      ]
     },
     "execution_count": 55,
     "metadata": {},
     "output_type": "execute_result"
    }
   ],
   "source": [
    "#Mean:\n",
    "as_mean = np.mean(np.array(column))\n",
    "as_mean"
   ]
  },
  {
   "cell_type": "markdown",
   "id": "decent-thompson",
   "metadata": {},
   "source": [
    "#### Less Than Prescribed DataFrame:"
   ]
  },
  {
   "cell_type": "code",
   "execution_count": 56,
   "id": "younger-stroke",
   "metadata": {},
   "outputs": [
    {
     "data": {
      "text/plain": [
       "0        2802200000\n",
       "1        2023000000\n",
       "2        1715100000\n",
       "3        1477800000\n",
       "4        1465400000\n",
       "           ...     \n",
       "6744              0\n",
       "6745              0\n",
       "6746              0\n",
       "6747              0\n",
       "6748    39931700000\n",
       "Name: Amount (Actuals), Length: 6749, dtype: int64"
      ]
     },
     "execution_count": 56,
     "metadata": {},
     "output_type": "execute_result"
    }
   ],
   "source": [
    "column = less_prescribed['Amount (Actuals)']\n",
    "column"
   ]
  },
  {
   "cell_type": "code",
   "execution_count": 57,
   "id": "hairy-atlas",
   "metadata": {},
   "outputs": [
    {
     "name": "stdout",
     "output_type": "stream",
     "text": [
      "No. of unique values: 389\n",
      "Duplicates: {56000000: 2, 48900000: 2, 43900000: 2, 42200000: 2, 37100000: 2, 37000000: 2, 35800000: 2, 33400000: 2, 32900000: 2, 30800000: 2, 30300000: 2, 30200000: 2, 29800000: 2, 28500000: 2, 28400000: 3, 27200000: 2, 25200000: 2, 24500000: 3, 24400000: 2, 23900000: 2, 23000000: 3, 22500000: 2, 22200000: 2, 22100000: 2, 22000000: 2, 21600000: 2, 21300000: 3, 20600000: 3, 20000000: 3, 19200000: 2, 18900000: 2, 18800000: 2, 18700000: 2, 18600000: 3, 18500000: 3, 18300000: 2, 18100000: 4, 17500000: 2, 17400000: 2, 17300000: 2, 17000000: 2, 16900000: 2, 16800000: 2, 16300000: 3, 16100000: 2, 15700000: 2, 15500000: 3, 15400000: 2, 15200000: 3, 15100000: 3, 15000000: 2, 14800000: 2, 14500000: 3, 14400000: 2, 14100000: 4, 13700000: 2, 13600000: 2, 13500000: 2, 13300000: 2, 13100000: 3, 12800000: 5, 12600000: 3, 12500000: 3, 12400000: 3, 12300000: 2, 12200000: 3, 12100000: 2, 12000000: 2, 11900000: 5, 11700000: 5, 11600000: 3, 11500000: 2, 11300000: 2, 11000000: 6, 10800000: 3, 10700000: 2, 10600000: 3, 10500000: 7, 10200000: 3, 10000000: 5, 9900000: 4, 9700000: 2, 9600000: 5, 9500000: 4, 9400000: 2, 9300000: 3, 9200000: 3, 9000000: 5, 8900000: 5, 8800000: 6, 8700000: 3, 8600000: 3, 8500000: 7, 8400000: 3, 8200000: 7, 8100000: 3, 8000000: 6, 7900000: 3, 7800000: 7, 7700000: 7, 7600000: 4, 7500000: 5, 7400000: 4, 7100000: 5, 7000000: 6, 6900000: 6, 6800000: 4, 6700000: 9, 6600000: 5, 6500000: 6, 6400000: 2, 6300000: 5, 6200000: 5, 6100000: 4, 6000000: 14, 5900000: 10, 5800000: 6, 5700000: 8, 5600000: 7, 5500000: 9, 5400000: 9, 5300000: 5, 5200000: 5, 5100000: 11, 5000000: 26, 4900000: 7, 4800000: 5, 4700000: 8, 4600000: 11, 4500000: 16, 4400000: 17, 4300000: 11, 4200000: 10, 4100000: 17, 4000000: 17, 3900000: 15, 3800000: 11, 3700000: 7, 3600000: 12, 3500000: 18, 3400000: 12, 3300000: 16, 3200000: 14, 3100000: 21, 3000000: 27, 2900000: 16, 2800000: 19, 2700000: 28, 2600000: 32, 2500000: 39, 2400000: 21, 2300000: 39, 2200000: 27, 2100000: 41, 2000000: 57, 1900000: 48, 1800000: 48, 1700000: 41, 1600000: 42, 1500000: 59, 1400000: 48, 1300000: 55, 1200000: 77, 1100000: 94, 1000000: 131, 900000: 83, 800000: 98, 700000: 94, 600000: 139, 500000: 168, 400000: 135, 300000: 171, 200000: 172, 100000: 159, 0: 3607}\n",
      "No. of duplicates: 175\n"
     ]
    }
   ],
   "source": [
    "print(\"No. of unique values:\", len(column.unique()))\n",
    "\n",
    "# Check for duplicates\n",
    "counter = dict(Counter(column))\n",
    "duplicates = { key:value for key, value in counter.items() if value > 1}\n",
    "print(\"Duplicates:\", duplicates)\n",
    "if len(duplicates) > 0:\n",
    "    print(\"No. of duplicates:\", len(duplicates))"
   ]
  },
  {
   "cell_type": "code",
   "execution_count": 58,
   "id": "front-indian",
   "metadata": {},
   "outputs": [
    {
     "data": {
      "text/html": [
       "<div>\n",
       "<style scoped>\n",
       "    .dataframe tbody tr th:only-of-type {\n",
       "        vertical-align: middle;\n",
       "    }\n",
       "\n",
       "    .dataframe tbody tr th {\n",
       "        vertical-align: top;\n",
       "    }\n",
       "\n",
       "    .dataframe thead th {\n",
       "        text-align: right;\n",
       "    }\n",
       "</style>\n",
       "<table border=\"1\" class=\"dataframe\">\n",
       "  <thead>\n",
       "    <tr style=\"text-align: right;\">\n",
       "      <th></th>\n",
       "      <th>S.No.</th>\n",
       "      <th>Company Name(s)</th>\n",
       "    </tr>\n",
       "    <tr>\n",
       "      <th>Amount (Actuals)</th>\n",
       "      <th></th>\n",
       "      <th></th>\n",
       "    </tr>\n",
       "  </thead>\n",
       "  <tbody>\n",
       "    <tr>\n",
       "      <th>0</th>\n",
       "      <td>3607</td>\n",
       "      <td>3607</td>\n",
       "    </tr>\n",
       "    <tr>\n",
       "      <th>200000</th>\n",
       "      <td>172</td>\n",
       "      <td>172</td>\n",
       "    </tr>\n",
       "    <tr>\n",
       "      <th>300000</th>\n",
       "      <td>171</td>\n",
       "      <td>171</td>\n",
       "    </tr>\n",
       "    <tr>\n",
       "      <th>500000</th>\n",
       "      <td>168</td>\n",
       "      <td>168</td>\n",
       "    </tr>\n",
       "    <tr>\n",
       "      <th>100000</th>\n",
       "      <td>159</td>\n",
       "      <td>159</td>\n",
       "    </tr>\n",
       "    <tr>\n",
       "      <th>...</th>\n",
       "      <td>...</td>\n",
       "      <td>...</td>\n",
       "    </tr>\n",
       "    <tr>\n",
       "      <th>34300000</th>\n",
       "      <td>1</td>\n",
       "      <td>1</td>\n",
       "    </tr>\n",
       "    <tr>\n",
       "      <th>34900000</th>\n",
       "      <td>1</td>\n",
       "      <td>1</td>\n",
       "    </tr>\n",
       "    <tr>\n",
       "      <th>35100000</th>\n",
       "      <td>1</td>\n",
       "      <td>1</td>\n",
       "    </tr>\n",
       "    <tr>\n",
       "      <th>35500000</th>\n",
       "      <td>1</td>\n",
       "      <td>1</td>\n",
       "    </tr>\n",
       "    <tr>\n",
       "      <th>39931700000</th>\n",
       "      <td>1</td>\n",
       "      <td>1</td>\n",
       "    </tr>\n",
       "  </tbody>\n",
       "</table>\n",
       "<p>389 rows × 2 columns</p>\n",
       "</div>"
      ],
      "text/plain": [
       "                  S.No.  Company Name(s)\n",
       "Amount (Actuals)                        \n",
       "0                  3607             3607\n",
       "200000              172              172\n",
       "300000              171              171\n",
       "500000              168              168\n",
       "100000              159              159\n",
       "...                 ...              ...\n",
       "34300000              1                1\n",
       "34900000              1                1\n",
       "35100000              1                1\n",
       "35500000              1                1\n",
       "39931700000           1                1\n",
       "\n",
       "[389 rows x 2 columns]"
      ]
     },
     "execution_count": 58,
     "metadata": {},
     "output_type": "execute_result"
    }
   ],
   "source": [
    "less_prescribed.groupby('Amount (Actuals)').agg(len).sort_values('S.No.', ascending = False)"
   ]
  },
  {
   "cell_type": "code",
   "execution_count": 97,
   "id": "western-implement",
   "metadata": {},
   "outputs": [
    {
     "data": {
      "image/png": "[encoded data removed]",
      "text/plain": [
       "<Figure size 432x360 with 1 Axes>"
      ]
     },
     "metadata": {
      "needs_background": "light"
     },
     "output_type": "display_data"
    }
   ],
   "source": [
    "bins= np.linspace(0, 40000000, 7)\n",
    "plt.figure(figsize=(6,5))\n",
    "plt.hist(less_prescribed['Amount (Actuals)'], bins=bins, edgecolor=\"k\")\n",
    "plt.xticks(bins)\n",
    "\n",
    "plt.show()"
   ]
  },
  {
   "cell_type": "code",
   "execution_count": 60,
   "id": "higher-narrow",
   "metadata": {},
   "outputs": [
    {
     "data": {
      "text/plain": [
       "11833367.906356497"
      ]
     },
     "execution_count": 60,
     "metadata": {},
     "output_type": "execute_result"
    }
   ],
   "source": [
    "#Mean:\n",
    "less_mean = np.mean(np.array(column))\n",
    "less_mean"
   ]
  },
  {
   "cell_type": "markdown",
   "id": "thermal-driver",
   "metadata": {},
   "source": [
    "#### More Than Prescribed DataFrame:"
   ]
  },
  {
   "cell_type": "code",
   "execution_count": 61,
   "id": "beginning-connectivity",
   "metadata": {
    "scrolled": true
   },
   "outputs": [
    {
     "data": {
      "text/plain": [
       "0         6397000000\n",
       "1         4918000000\n",
       "2         4089900000\n",
       "3         2475000000\n",
       "4         2146000000\n",
       "            ...     \n",
       "3723               0\n",
       "3724               0\n",
       "3725               0\n",
       "3726               0\n",
       "3727    100065900000\n",
       "Name: Amount (Actuals), Length: 3728, dtype: int64"
      ]
     },
     "execution_count": 61,
     "metadata": {},
     "output_type": "execute_result"
    }
   ],
   "source": [
    "column = more_prescribed['Amount (Actuals)']\n",
    "column"
   ]
  },
  {
   "cell_type": "code",
   "execution_count": 62,
   "id": "speaking-vulnerability",
   "metadata": {},
   "outputs": [
    {
     "name": "stdout",
     "output_type": "stream",
     "text": [
      "No. of unique values: 556\n",
      "Duplicates: {142600000: 2, 137400000: 3, 114700000: 2, 98700000: 2, 80000000: 2, 73700000: 2, 64500000: 2, 63000000: 2, 60000000: 3, 58600000: 2, 57300000: 2, 54500000: 2, 50100000: 2, 50000000: 2, 47000000: 3, 43500000: 2, 40700000: 2, 40000000: 3, 39700000: 2, 39600000: 2, 38500000: 4, 37900000: 2, 37500000: 2, 36100000: 2, 36000000: 2, 35400000: 2, 35000000: 2, 34700000: 2, 32800000: 3, 32700000: 2, 32200000: 2, 32000000: 2, 31800000: 2, 31500000: 3, 31400000: 3, 31000000: 3, 30700000: 4, 30500000: 4, 27300000: 3, 26100000: 2, 25800000: 2, 25600000: 2, 25300000: 2, 25100000: 4, 25000000: 5, 24900000: 3, 24600000: 2, 24400000: 3, 24300000: 2, 24000000: 2, 23800000: 3, 23100000: 3, 22900000: 2, 22700000: 3, 22600000: 2, 22400000: 3, 22100000: 4, 21900000: 2, 21700000: 2, 20900000: 2, 20800000: 2, 20600000: 2, 20500000: 4, 20400000: 2, 20300000: 2, 20200000: 2, 20100000: 6, 20000000: 8, 19800000: 2, 19700000: 2, 19400000: 2, 19100000: 2, 19000000: 3, 18900000: 4, 18800000: 3, 18400000: 2, 18300000: 5, 18200000: 3, 18100000: 3, 18000000: 3, 17700000: 2, 17600000: 3, 17500000: 6, 17200000: 3, 17000000: 2, 16900000: 2, 16800000: 7, 16700000: 2, 16200000: 2, 15700000: 3, 15600000: 2, 15500000: 3, 15300000: 4, 15200000: 2, 15100000: 2, 15000000: 12, 14800000: 5, 14700000: 3, 14600000: 2, 14400000: 5, 14300000: 4, 14200000: 3, 14100000: 2, 13800000: 5, 13700000: 2, 13600000: 6, 13500000: 4, 13400000: 5, 13300000: 2, 13200000: 2, 13100000: 4, 13000000: 8, 12900000: 6, 12800000: 5, 12700000: 2, 12600000: 5, 12500000: 6, 12300000: 6, 12200000: 6, 12100000: 2, 12000000: 7, 11900000: 10, 11800000: 5, 11700000: 5, 11600000: 5, 11500000: 3, 11400000: 6, 11300000: 5, 11100000: 3, 11000000: 8, 10900000: 5, 10800000: 4, 10700000: 6, 10600000: 4, 10500000: 9, 10400000: 3, 10300000: 8, 10200000: 5, 10100000: 3, 10000000: 22, 9900000: 7, 9800000: 6, 9600000: 5, 9500000: 10, 9400000: 6, 9300000: 6, 9200000: 10, 9100000: 6, 9000000: 3, 8900000: 9, 8800000: 4, 8700000: 3, 8600000: 8, 8500000: 10, 8400000: 9, 8300000: 8, 8200000: 7, 8100000: 7, 8000000: 13, 7900000: 5, 7800000: 7, 7700000: 4, 7600000: 7, 7500000: 12, 7400000: 7, 7300000: 8, 7200000: 11, 7100000: 3, 7000000: 13, 6900000: 7, 6800000: 7, 6700000: 9, 6600000: 7, 6500000: 16, 6400000: 15, 6300000: 6, 6200000: 14, 6100000: 10, 6000000: 21, 5900000: 10, 5800000: 9, 5700000: 19, 5600000: 17, 5500000: 15, 5400000: 17, 5300000: 20, 5200000: 18, 5100000: 14, 5000000: 34, 4900000: 16, 4800000: 16, 4700000: 17, 4600000: 16, 4500000: 19, 4400000: 14, 4300000: 9, 4200000: 21, 4100000: 19, 4000000: 41, 3900000: 23, 3800000: 20, 3700000: 18, 3600000: 33, 3500000: 46, 3400000: 32, 3300000: 39, 3200000: 34, 3100000: 34, 3000000: 53, 2900000: 35, 2800000: 33, 2700000: 38, 2600000: 59, 2500000: 69, 2400000: 54, 2300000: 53, 2200000: 55, 2100000: 50, 2000000: 106, 1900000: 47, 1800000: 70, 1700000: 69, 1600000: 89, 1500000: 98, 1400000: 86, 1300000: 81, 1200000: 106, 1100000: 91, 1000000: 127, 900000: 63, 800000: 85, 700000: 37, 600000: 40, 500000: 52, 400000: 39, 300000: 42, 200000: 37, 100000: 40, 0: 48}\n",
      "No. of duplicates: 239\n"
     ]
    }
   ],
   "source": [
    "print(\"No. of unique values:\", len(column.unique()))\n",
    "\n",
    "# Check for duplicates\n",
    "counter = dict(Counter(column))\n",
    "duplicates = { key:value for key, value in counter.items() if value > 1}\n",
    "print(\"Duplicates:\", duplicates)\n",
    "if len(duplicates) > 0:\n",
    "    print(\"No. of duplicates:\", len(duplicates))"
   ]
  },
  {
   "cell_type": "code",
   "execution_count": 63,
   "id": "emotional-entrance",
   "metadata": {},
   "outputs": [
    {
     "data": {
      "text/html": [
       "<div>\n",
       "<style scoped>\n",
       "    .dataframe tbody tr th:only-of-type {\n",
       "        vertical-align: middle;\n",
       "    }\n",
       "\n",
       "    .dataframe tbody tr th {\n",
       "        vertical-align: top;\n",
       "    }\n",
       "\n",
       "    .dataframe thead th {\n",
       "        text-align: right;\n",
       "    }\n",
       "</style>\n",
       "<table border=\"1\" class=\"dataframe\">\n",
       "  <thead>\n",
       "    <tr style=\"text-align: right;\">\n",
       "      <th></th>\n",
       "      <th>S.No.</th>\n",
       "      <th>Company Name(s)</th>\n",
       "    </tr>\n",
       "    <tr>\n",
       "      <th>Amount (Actuals)</th>\n",
       "      <th></th>\n",
       "      <th></th>\n",
       "    </tr>\n",
       "  </thead>\n",
       "  <tbody>\n",
       "    <tr>\n",
       "      <th>1000000</th>\n",
       "      <td>127</td>\n",
       "      <td>127</td>\n",
       "    </tr>\n",
       "    <tr>\n",
       "      <th>2000000</th>\n",
       "      <td>106</td>\n",
       "      <td>106</td>\n",
       "    </tr>\n",
       "    <tr>\n",
       "      <th>1200000</th>\n",
       "      <td>106</td>\n",
       "      <td>106</td>\n",
       "    </tr>\n",
       "    <tr>\n",
       "      <th>1500000</th>\n",
       "      <td>98</td>\n",
       "      <td>98</td>\n",
       "    </tr>\n",
       "    <tr>\n",
       "      <th>1100000</th>\n",
       "      <td>91</td>\n",
       "      <td>91</td>\n",
       "    </tr>\n",
       "    <tr>\n",
       "      <th>...</th>\n",
       "      <td>...</td>\n",
       "      <td>...</td>\n",
       "    </tr>\n",
       "    <tr>\n",
       "      <th>49800000</th>\n",
       "      <td>1</td>\n",
       "      <td>1</td>\n",
       "    </tr>\n",
       "    <tr>\n",
       "      <th>49300000</th>\n",
       "      <td>1</td>\n",
       "      <td>1</td>\n",
       "    </tr>\n",
       "    <tr>\n",
       "      <th>49000000</th>\n",
       "      <td>1</td>\n",
       "      <td>1</td>\n",
       "    </tr>\n",
       "    <tr>\n",
       "      <th>48700000</th>\n",
       "      <td>1</td>\n",
       "      <td>1</td>\n",
       "    </tr>\n",
       "    <tr>\n",
       "      <th>100065900000</th>\n",
       "      <td>1</td>\n",
       "      <td>1</td>\n",
       "    </tr>\n",
       "  </tbody>\n",
       "</table>\n",
       "<p>556 rows × 2 columns</p>\n",
       "</div>"
      ],
      "text/plain": [
       "                  S.No.  Company Name(s)\n",
       "Amount (Actuals)                        \n",
       "1000000             127              127\n",
       "2000000             106              106\n",
       "1200000             106              106\n",
       "1500000              98               98\n",
       "1100000              91               91\n",
       "...                 ...              ...\n",
       "49800000              1                1\n",
       "49300000              1                1\n",
       "49000000              1                1\n",
       "48700000              1                1\n",
       "100065900000          1                1\n",
       "\n",
       "[556 rows x 2 columns]"
      ]
     },
     "execution_count": 63,
     "metadata": {},
     "output_type": "execute_result"
    }
   ],
   "source": [
    "more_prescribed.groupby('Amount (Actuals)').agg(len).sort_values('S.No.', ascending = False)"
   ]
  },
  {
   "cell_type": "code",
   "execution_count": 98,
   "id": "executed-associate",
   "metadata": {},
   "outputs": [
    {
     "data": {
      "image/png": "[encoded data removed]",
      "text/plain": [
       "<Figure size 432x360 with 1 Axes>"
      ]
     },
     "metadata": {
      "needs_background": "light"
     },
     "output_type": "display_data"
    }
   ],
   "source": [
    "bins= np.linspace(0, 50000000, 7)\n",
    "plt.figure(figsize=(6,5))\n",
    "plt.hist(more_prescribed['Amount (Actuals)'], bins=bins, edgecolor=\"k\")\n",
    "plt.xticks(bins)\n",
    "\n",
    "plt.show()"
   ]
  },
  {
   "cell_type": "code",
   "execution_count": 99,
   "id": "invisible-organizer",
   "metadata": {},
   "outputs": [
    {
     "data": {
      "text/plain": [
       "53683422.74678112"
      ]
     },
     "execution_count": 99,
     "metadata": {},
     "output_type": "execute_result"
    }
   ],
   "source": [
    "#Mean:\n",
    "more_mean = np.mean(np.array(column))\n",
    "more_mean"
   ]
  },
  {
   "cell_type": "markdown",
   "id": "pretty-electron",
   "metadata": {},
   "source": [
    "##### Mean Amount Graph:"
   ]
  },
  {
   "cell_type": "code",
   "execution_count": 100,
   "id": "numeric-flour",
   "metadata": {},
   "outputs": [
    {
     "data": {
      "image/png": "[encoded data removed]",
      "text/plain": [
       "<Figure size 576x432 with 1 Axes>"
      ]
     },
     "metadata": {
      "needs_background": "light"
     },
     "output_type": "display_data"
    }
   ],
   "source": [
    "means = pd.DataFrame(data = {'DataFrame' : [\"As Prescribed\", \"Less than Prescribed\", \"More than Prescribed\"], \n",
    "                             'Mean' : [as_mean, less_mean, more_mean]})\n",
    "\n",
    "plt.figure(figsize=(8,6))\n",
    "plt.bar(means['DataFrame'], means['Mean'])\n",
    "plt.title(\"Mean Amount (Actuals) of each Dataset\")\n",
    "plt.xlabel(\"DataFrame\")\n",
    "plt.ylabel('Mean Amount (Actuals) (in INR)')\n",
    "plt.xticks(rotation = 20);"
   ]
  },
  {
   "cell_type": "markdown",
   "id": "controlling-champion",
   "metadata": {},
   "source": [
    "### Sheet 2\n",
    "<a class=\"anchor\" id=\"5.2\"></a>\n",
    "Sheet 2 contains information on how much money was spent towards each Development Sector of CSR in the years 2014-15, 2015-16, and 2016-17."
   ]
  },
  {
   "cell_type": "markdown",
   "id": "particular-birmingham",
   "metadata": {},
   "source": [
    "### Development Sectors\n",
    "<a class=\"anchor\" id=\"5.2.1\"></a>\n",
    "The different sectors that CSR donations are divided into."
   ]
  },
  {
   "cell_type": "code",
   "execution_count": 101,
   "id": "tough-trustee",
   "metadata": {},
   "outputs": [
    {
     "data": {
      "text/plain": [
       "0                                      Clean Ganga Fund\n",
       "1              Education, Differently Abled, Livelihood\n",
       "2                                    Encouraging Sports\n",
       "3     Environment, Animal Welfare, Conservation Of R...\n",
       "4     Gender Equality , Women Empowerment , Old Age ...\n",
       "5     Health, Eradicating Hunger, Poverty And Malnut...\n",
       "6                              Heritage Art And Culture\n",
       "7     Other Sectors ( Technology Incubator And Benef...\n",
       "8                  Prime Ministers National Relief Fund\n",
       "9                                     Rural Development\n",
       "10                                Slum Area Development\n",
       "11                                   Swachh Bharat Kosh\n",
       "12                                       Any Other Fund\n",
       "13                                   NEC/ Not Mentioned\n",
       "14                                 Grand Total (in Cr.)\n",
       "Name: Development Sectors, dtype: object"
      ]
     },
     "execution_count": 101,
     "metadata": {},
     "output_type": "execute_result"
    }
   ],
   "source": [
    "column = sheet_2['Development Sectors']\n",
    "column"
   ]
  },
  {
   "cell_type": "code",
   "execution_count": 102,
   "id": "explicit-armstrong",
   "metadata": {},
   "outputs": [
    {
     "name": "stdout",
     "output_type": "stream",
     "text": [
      "No. of unique values: 15\n",
      "Duplicates: {}\n"
     ]
    }
   ],
   "source": [
    "print(\"No. of unique values:\", len(column.unique()))\n",
    "\n",
    "# Check for duplicates\n",
    "counter = dict(Counter(column))\n",
    "duplicates = { key:value for key, value in counter.items() if value > 1}\n",
    "print(\"Duplicates:\", duplicates)\n",
    "if len(duplicates) > 0:\n",
    "    print(\"No. of duplicates:\", len(duplicates))"
   ]
  },
  {
   "cell_type": "markdown",
   "id": "historic-recycling",
   "metadata": {},
   "source": [
    "### Amount Spent FY 2014-15 (INR Cr.)\n",
    "<a class=\"anchor\" id=\"5.2.2\"></a>\n",
    "Amount of money (in Cr.) spent in total in each sector in 2014-15."
   ]
  },
  {
   "cell_type": "code",
   "execution_count": 103,
   "id": "egyptian-enlargement",
   "metadata": {},
   "outputs": [
    {
     "data": {
      "text/plain": [
       "0         5.47\n",
       "1      3188.09\n",
       "2        57.61\n",
       "3       853.99\n",
       "4       189.92\n",
       "5      2525.92\n",
       "6       117.37\n",
       "7         9.50\n",
       "8       228.18\n",
       "9      1059.34\n",
       "10      101.14\n",
       "11      113.86\n",
       "12      277.09\n",
       "13     1338.39\n",
       "14    10065.93\n",
       "Name: Amount Spent FY 2014-15 (INR Cr.), dtype: float64"
      ]
     },
     "execution_count": 103,
     "metadata": {},
     "output_type": "execute_result"
    }
   ],
   "source": [
    "column = sheet_2['Amount Spent FY 2014-15 (INR Cr.)']\n",
    "column"
   ]
  },
  {
   "cell_type": "code",
   "execution_count": 109,
   "id": "gorgeous-fleece",
   "metadata": {},
   "outputs": [
    {
     "data": {
      "text/plain": [
       "True"
      ]
     },
     "execution_count": 109,
     "metadata": {},
     "output_type": "execute_result"
    }
   ],
   "source": [
    "#Making sure first 14 rows sum to last value\n",
    "total_14 = np.sum(np.array(column)[0:14])\n",
    "math.isclose(total_14, column[14], abs_tol = 0.5)"
   ]
  },
  {
   "cell_type": "markdown",
   "id": "improved-inflation",
   "metadata": {},
   "source": [
    "### Amount Spent FY 2015-16 (INR Cr.)\n",
    "<a class=\"anchor\" id=\"5.2.3\"></a>\n",
    "Amount of money (in Cr.) spent in total in each sector in 2015-16."
   ]
  },
  {
   "cell_type": "code",
   "execution_count": 110,
   "id": "handled-advancement",
   "metadata": {},
   "outputs": [
    {
     "data": {
      "text/plain": [
       "0        32.65\n",
       "1      4881.26\n",
       "2       137.58\n",
       "3       963.22\n",
       "4       337.44\n",
       "5      4545.00\n",
       "6       117.58\n",
       "7        37.15\n",
       "8       213.70\n",
       "9      1369.52\n",
       "10       14.30\n",
       "11      324.72\n",
       "12      326.88\n",
       "13     1065.22\n",
       "14    14366.29\n",
       "Name: Amount Spent FY 2015-16 (INR Cr.), dtype: float64"
      ]
     },
     "execution_count": 110,
     "metadata": {},
     "output_type": "execute_result"
    }
   ],
   "source": [
    "column = sheet_2['Amount Spent FY 2015-16 (INR Cr.)']\n",
    "column"
   ]
  },
  {
   "cell_type": "code",
   "execution_count": 111,
   "id": "antique-formula",
   "metadata": {},
   "outputs": [
    {
     "data": {
      "text/plain": [
       "True"
      ]
     },
     "execution_count": 111,
     "metadata": {},
     "output_type": "execute_result"
    }
   ],
   "source": [
    "#Making sure first 14 rows sum to last value\n",
    "total_15 = np.sum(np.array(column)[0:14])\n",
    "math.isclose(total_15, column[14], abs_tol = 0.5)"
   ]
  },
  {
   "cell_type": "markdown",
   "id": "stretch-better",
   "metadata": {},
   "source": [
    "### Amount Spent FY 2016-17 (INR Cr.)\n",
    "<a class=\"anchor\" id=\"5.2.4\"></a>\n",
    "Amount of money (in Cr.) spent in total in each sector in 2016-17."
   ]
  },
  {
   "cell_type": "code",
   "execution_count": 112,
   "id": "wrapped-switch",
   "metadata": {},
   "outputs": [
    {
     "data": {
      "text/plain": [
       "0        24.23\n",
       "1      5123.83\n",
       "2       172.53\n",
       "3      1282.34\n",
       "4       434.75\n",
       "5      3397.00\n",
       "6       296.85\n",
       "7        58.71\n",
       "8       150.70\n",
       "9      1507.45\n",
       "10       49.81\n",
       "11      165.09\n",
       "12      412.38\n",
       "13      388.86\n",
       "14    13464.60\n",
       "Name: Amount Spent FY 2016-17 (INR Cr.), dtype: float64"
      ]
     },
     "execution_count": 112,
     "metadata": {},
     "output_type": "execute_result"
    }
   ],
   "source": [
    "column = sheet_2['Amount Spent FY 2016-17 (INR Cr.)']\n",
    "column"
   ]
  },
  {
   "cell_type": "code",
   "execution_count": 113,
   "id": "excellent-bobby",
   "metadata": {
    "scrolled": true
   },
   "outputs": [
    {
     "data": {
      "text/plain": [
       "True"
      ]
     },
     "execution_count": 113,
     "metadata": {},
     "output_type": "execute_result"
    }
   ],
   "source": [
    "#Making sure first 14 rows sum to last value\n",
    "total_16 = np.sum(np.array(column)[0:14])\n",
    "math.isclose(total_16, column[14], abs_tol = 0.5)"
   ]
  },
  {
   "cell_type": "markdown",
   "id": "balanced-tamil",
   "metadata": {},
   "source": [
    "#### Visualization:"
   ]
  },
  {
   "cell_type": "code",
   "execution_count": 115,
   "id": "ethical-share",
   "metadata": {},
   "outputs": [
    {
     "data": {
      "image/png": "[encoded data removed]",
      "text/plain": [
       "<Figure size 576x432 with 1 Axes>"
      ]
     },
     "metadata": {
      "needs_background": "light"
     },
     "output_type": "display_data"
    }
   ],
   "source": [
    "spent_yearly = pd.DataFrame(data = {'Year' : ['2014-15', '2015-16', '2016-17'], \n",
    "                                    'Total Spent' : [total_14, total_15, total_16]})\n",
    "plt.figure(figsize=(8,6))\n",
    "plt.bar(spent_yearly['Year'], spent_yearly['Total Spent'])\n",
    "plt.title(\"Total Spent on CSR Yearly (In Cr. INR)\")\n",
    "plt.xlabel(\"Fiscal Year\")\n",
    "plt.ylabel('Total Amount Spent on CSR')\n",
    "plt.xticks(rotation = 20)\n",
    "plt.show()"
   ]
  },
  {
   "cell_type": "markdown",
   "id": "painful-invite",
   "metadata": {},
   "source": [
    "**Problems with the data**  <a class=\"anchor\" id=\"6\"></a>  "
   ]
  },
  {
   "cell_type": "markdown",
   "id": "isolated-curve",
   "metadata": {},
   "source": [
    "* Repeated values\n",
    "    * There are several company names that are repeated within the same dataframe, or even within other dataframes\n",
    "    * 15 repeated companies in the Less than Prescribed data (7 with two different amount values)\n",
    "    * 10 repeated companies in the More than Prescribed data (9 with two different amount values)\n",
    "    * 15 comapanies included in two different DataFrames\n",
    "* Amount value is zero\n",
    "    * In all 3 tables, there are companies whose \"Amount (Actuals)\" value is equal to zero\n",
    "    * 4 companies in the As Prescribed data have amount as 0\n",
    "        * The only way this can be accurate is if the companies have an income of zero, since 2% of zero is zero\n",
    "    * 3607 companies in the Less than Prescribed data have amount as 0\n",
    "        * This could be accurate since 0 is less than 2% of any value greater than zero, yet seems unlikely based on the high value\n",
    "    * 48 companies in the More than Prescribed data have amount as 0\n",
    "        * This must be an error since zero is never more than 2% of any value, even if the income total is 0"
   ]
  },
  {
   "cell_type": "code",
   "execution_count": null,
   "id": "revised-signal",
   "metadata": {},
   "outputs": [],
   "source": []
  }
 ],
 "metadata": {
  "kernelspec": {
   "display_name": "Python 3",
   "language": "python",
   "name": "python3"
  },
  "language_info": {
   "codemirror_mode": {
    "name": "ipython",
    "version": 3
   },
   "file_extension": ".py",
   "mimetype": "text/x-python",
   "name": "python",
   "nbconvert_exporter": "python",
   "pygments_lexer": "ipython3",
   "version": "3.9.2"
  }
 },
 "nbformat": 4,
 "nbformat_minor": 5
}
