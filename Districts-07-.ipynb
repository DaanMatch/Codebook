{
 "cells": [
  {
   "cell_type": "markdown",
   "id": "neural-mount",
   "metadata": {},
   "source": [
    "# Codebook"
   ]
  },
  {
   "cell_type": "code",
   "execution_count": 1,
   "id": "nonprofit-palestine",
   "metadata": {},
   "outputs": [],
   "source": [
    "import pandas as pd\n",
    "import numpy as np \n",
    "import os\n",
    "from collections import Counter\n",
    "import matplotlib.pyplot as plt\n",
    "import statistics\n",
    "import boto3"
   ]
  },
  {
   "cell_type": "markdown",
   "id": "mature-galaxy",
   "metadata": {},
   "source": [
    "# Districts-07-.csv"
   ]
  },
  {
   "cell_type": "markdown",
   "id": "dramatic-myanmar",
   "metadata": {},
   "source": [
    "#### About this dataset"
   ]
  },
  {
   "cell_type": "markdown",
   "id": "partial-printer",
   "metadata": {},
   "source": [
    "Data provided by: "
   ]
  },
  {
   "cell_type": "markdown",
   "id": "extensive-hospital",
   "metadata": {},
   "source": [
    "Source: https://daanmatchdatafiles.s3-us-west-1.amazonaws.com/DaanMatch_DataFiles/Districts-07-.csv"
   ]
  },
  {
   "cell_type": "markdown",
   "id": "occasional-expansion",
   "metadata": {},
   "source": [
    "Type: csv"
   ]
  },
  {
   "cell_type": "markdown",
   "id": "limited-garden",
   "metadata": {},
   "source": [
    "Last Modified: May 29, 2021, 19:54:14 (UTC-07:00)"
   ]
  },
  {
   "cell_type": "markdown",
   "id": "streaming-market",
   "metadata": {},
   "source": [
    "Size: 212.0 B"
   ]
  },
  {
   "cell_type": "code",
   "execution_count": 2,
   "id": "assisted-graduation",
   "metadata": {},
   "outputs": [],
   "source": [
    "client = boto3.client('s3')\n",
    "resource = boto3.resource('s3')\n",
    "my_bucket = resource.Bucket('my-bucket')"
   ]
  },
  {
   "cell_type": "code",
   "execution_count": 4,
   "id": "dedicated-abortion",
   "metadata": {},
   "outputs": [
    {
     "data": {
      "text/html": [
       "<div>\n",
       "<style scoped>\n",
       "    .dataframe tbody tr th:only-of-type {\n",
       "        vertical-align: middle;\n",
       "    }\n",
       "\n",
       "    .dataframe tbody tr th {\n",
       "        vertical-align: top;\n",
       "    }\n",
       "\n",
       "    .dataframe thead th {\n",
       "        text-align: right;\n",
       "    }\n",
       "</style>\n",
       "<table border=\"1\" class=\"dataframe\">\n",
       "  <thead>\n",
       "    <tr style=\"text-align: right;\">\n",
       "      <th></th>\n",
       "      <th>KeyColumn</th>\n",
       "      <th>Name</th>\n",
       "      <th>Value</th>\n",
       "    </tr>\n",
       "  </thead>\n",
       "  <tbody>\n",
       "    <tr>\n",
       "      <th>0</th>\n",
       "      <td>90</td>\n",
       "      <td>North</td>\n",
       "      <td>90</td>\n",
       "    </tr>\n",
       "    <tr>\n",
       "      <th>1</th>\n",
       "      <td>90</td>\n",
       "      <td>North West</td>\n",
       "      <td>90</td>\n",
       "    </tr>\n",
       "    <tr>\n",
       "      <th>2</th>\n",
       "      <td>92</td>\n",
       "      <td>North East</td>\n",
       "      <td>92</td>\n",
       "    </tr>\n",
       "    <tr>\n",
       "      <th>3</th>\n",
       "      <td>93</td>\n",
       "      <td>East</td>\n",
       "      <td>93</td>\n",
       "    </tr>\n",
       "    <tr>\n",
       "      <th>4</th>\n",
       "      <td>94</td>\n",
       "      <td>New Delhi</td>\n",
       "      <td>94</td>\n",
       "    </tr>\n",
       "    <tr>\n",
       "      <th>5</th>\n",
       "      <td>95</td>\n",
       "      <td>Central</td>\n",
       "      <td>95</td>\n",
       "    </tr>\n",
       "    <tr>\n",
       "      <th>6</th>\n",
       "      <td>96</td>\n",
       "      <td>West</td>\n",
       "      <td>96</td>\n",
       "    </tr>\n",
       "    <tr>\n",
       "      <th>7</th>\n",
       "      <td>97</td>\n",
       "      <td>South West</td>\n",
       "      <td>97</td>\n",
       "    </tr>\n",
       "    <tr>\n",
       "      <th>8</th>\n",
       "      <td>98</td>\n",
       "      <td>South</td>\n",
       "      <td>98</td>\n",
       "    </tr>\n",
       "    <tr>\n",
       "      <th>9</th>\n",
       "      <td>702</td>\n",
       "      <td>Shahdara</td>\n",
       "      <td>702</td>\n",
       "    </tr>\n",
       "    <tr>\n",
       "      <th>10</th>\n",
       "      <td>703</td>\n",
       "      <td>South East</td>\n",
       "      <td>703</td>\n",
       "    </tr>\n",
       "  </tbody>\n",
       "</table>\n",
       "</div>"
      ],
      "text/plain": [
       "    KeyColumn        Name  Value\n",
       "0          90       North     90\n",
       "1          90  North West     90\n",
       "2          92  North East     92\n",
       "3          93        East     93\n",
       "4          94   New Delhi     94\n",
       "5          95     Central     95\n",
       "6          96        West     96\n",
       "7          97  South West     97\n",
       "8          98       South     98\n",
       "9         702    Shahdara    702\n",
       "10        703  South East    703"
      ]
     },
     "execution_count": 4,
     "metadata": {},
     "output_type": "execute_result"
    }
   ],
   "source": [
    "#path = \"/Users/laurenbaker/Downloads/Districts-07-.csv\"\n",
    "path = \"s3://daanmatchdatafiles/DaanMatch_DataFiles/Districts-07-.csv\"\n",
    "Districts_07 = pd.read_csv(path)\n",
    "Districts_07"
   ]
  },
  {
   "cell_type": "markdown",
   "id": "fiscal-tracker",
   "metadata": {},
   "source": [
    "#### What's in the dataset?"
   ]
  },
  {
   "cell_type": "code",
   "execution_count": 8,
   "id": "future-conflict",
   "metadata": {},
   "outputs": [
    {
     "name": "stdout",
     "output_type": "stream",
     "text": [
      "Shape: (11, 3)\n",
      "Rows: 11\n",
      "Columns: 3\n",
      "Each row is a District in Delhi.\n"
     ]
    }
   ],
   "source": [
    "print(\"Shape:\", Districts_07.shape)\n",
    "print(\"Rows:\", Districts_07.shape[0])\n",
    "print(\"Columns:\", Districts_07.shape[1])\n",
    "print(\"Each row is a District in Delhi.\")"
   ]
  },
  {
   "cell_type": "markdown",
   "id": "excellent-arena",
   "metadata": {},
   "source": [
    "#### Codebook"
   ]
  },
  {
   "cell_type": "code",
   "execution_count": 9,
   "id": "international-principal",
   "metadata": {},
   "outputs": [
    {
     "data": {
      "text/html": [
       "<style  type=\"text/css\" >\n",
       "#T_0b8cf_row0_col1,#T_0b8cf_row1_col1,#T_0b8cf_row2_col1{\n",
       "            width:  600px;\n",
       "        }</style><table id=\"T_0b8cf_\" ><thead>    <tr>        <th class=\"blank level0\" ></th>        <th class=\"col_heading level0 col0\" >Column Name</th>        <th class=\"col_heading level0 col1\" >Description</th>        <th class=\"col_heading level0 col2\" >Type</th>    </tr></thead><tbody>\n",
       "                <tr>\n",
       "                        <th id=\"T_0b8cf_level0_row0\" class=\"row_heading level0 row0\" >0</th>\n",
       "                        <td id=\"T_0b8cf_row0_col0\" class=\"data row0 col0\" >KeyColumn</td>\n",
       "                        <td id=\"T_0b8cf_row0_col1\" class=\"data row0 col1\" >Same as the Value column.</td>\n",
       "                        <td id=\"T_0b8cf_row0_col2\" class=\"data row0 col2\" >int64</td>\n",
       "            </tr>\n",
       "            <tr>\n",
       "                        <th id=\"T_0b8cf_level0_row1\" class=\"row_heading level0 row1\" >1</th>\n",
       "                        <td id=\"T_0b8cf_row1_col0\" class=\"data row1 col0\" >Name</td>\n",
       "                        <td id=\"T_0b8cf_row1_col1\" class=\"data row1 col1\" >Name of District in the state of Delhi.</td>\n",
       "                        <td id=\"T_0b8cf_row1_col2\" class=\"data row1 col2\" >object</td>\n",
       "            </tr>\n",
       "            <tr>\n",
       "                        <th id=\"T_0b8cf_level0_row2\" class=\"row_heading level0 row2\" >2</th>\n",
       "                        <td id=\"T_0b8cf_row2_col0\" class=\"data row2 col0\" >Value</td>\n",
       "                        <td id=\"T_0b8cf_row2_col1\" class=\"data row2 col1\" >Value of the District.</td>\n",
       "                        <td id=\"T_0b8cf_row2_col2\" class=\"data row2 col2\" >int64</td>\n",
       "            </tr>\n",
       "    </tbody></table>"
      ],
      "text/plain": [
       "<pandas.io.formats.style.Styler at 0x122ecf3d0>"
      ]
     },
     "execution_count": 9,
     "metadata": {},
     "output_type": "execute_result"
    }
   ],
   "source": [
    "Districts_07_columns = [column for column in Districts_07.columns]\n",
    "Districts_07_description = [\"Same as the Value column.\",\n",
    "                            \"Name of District in the state of Delhi.\",\n",
    "                            \"Value of the District.\"]\n",
    "Districts_07_dtypes = [dtype for dtype in Districts_07.dtypes]\n",
    "\n",
    "data = {\"Column Name\": Districts_07_columns, \"Description\": Districts_07_description, \"Type\": Districts_07_dtypes}\n",
    "Districts_07_codebook = pd.DataFrame(data)\n",
    "Districts_07_codebook.style.set_properties(subset=['Description'], **{'width': '600px'})"
   ]
  },
  {
   "cell_type": "markdown",
   "id": "dress-sheep",
   "metadata": {},
   "source": [
    "#### Missing values"
   ]
  },
  {
   "cell_type": "code",
   "execution_count": 10,
   "id": "overall-cliff",
   "metadata": {},
   "outputs": [
    {
     "data": {
      "text/plain": [
       "KeyColumn    0\n",
       "Name         0\n",
       "Value        0\n",
       "dtype: int64"
      ]
     },
     "execution_count": 10,
     "metadata": {},
     "output_type": "execute_result"
    }
   ],
   "source": [
    "Districts_07.isnull().sum()"
   ]
  },
  {
   "cell_type": "markdown",
   "id": "understanding-second",
   "metadata": {},
   "source": [
    "#### Summary statistics"
   ]
  },
  {
   "cell_type": "code",
   "execution_count": 11,
   "id": "falling-batman",
   "metadata": {},
   "outputs": [
    {
     "data": {
      "text/html": [
       "<div>\n",
       "<style scoped>\n",
       "    .dataframe tbody tr th:only-of-type {\n",
       "        vertical-align: middle;\n",
       "    }\n",
       "\n",
       "    .dataframe tbody tr th {\n",
       "        vertical-align: top;\n",
       "    }\n",
       "\n",
       "    .dataframe thead th {\n",
       "        text-align: right;\n",
       "    }\n",
       "</style>\n",
       "<table border=\"1\" class=\"dataframe\">\n",
       "  <thead>\n",
       "    <tr style=\"text-align: right;\">\n",
       "      <th></th>\n",
       "      <th>KeyColumn</th>\n",
       "      <th>Value</th>\n",
       "    </tr>\n",
       "  </thead>\n",
       "  <tbody>\n",
       "    <tr>\n",
       "      <th>count</th>\n",
       "      <td>11.000000</td>\n",
       "      <td>11.000000</td>\n",
       "    </tr>\n",
       "    <tr>\n",
       "      <th>mean</th>\n",
       "      <td>204.545455</td>\n",
       "      <td>204.545455</td>\n",
       "    </tr>\n",
       "    <tr>\n",
       "      <th>std</th>\n",
       "      <td>246.209002</td>\n",
       "      <td>246.209002</td>\n",
       "    </tr>\n",
       "    <tr>\n",
       "      <th>min</th>\n",
       "      <td>90.000000</td>\n",
       "      <td>90.000000</td>\n",
       "    </tr>\n",
       "    <tr>\n",
       "      <th>25%</th>\n",
       "      <td>92.500000</td>\n",
       "      <td>92.500000</td>\n",
       "    </tr>\n",
       "    <tr>\n",
       "      <th>50%</th>\n",
       "      <td>95.000000</td>\n",
       "      <td>95.000000</td>\n",
       "    </tr>\n",
       "    <tr>\n",
       "      <th>75%</th>\n",
       "      <td>97.500000</td>\n",
       "      <td>97.500000</td>\n",
       "    </tr>\n",
       "    <tr>\n",
       "      <th>max</th>\n",
       "      <td>703.000000</td>\n",
       "      <td>703.000000</td>\n",
       "    </tr>\n",
       "  </tbody>\n",
       "</table>\n",
       "</div>"
      ],
      "text/plain": [
       "        KeyColumn       Value\n",
       "count   11.000000   11.000000\n",
       "mean   204.545455  204.545455\n",
       "std    246.209002  246.209002\n",
       "min     90.000000   90.000000\n",
       "25%     92.500000   92.500000\n",
       "50%     95.000000   95.000000\n",
       "75%     97.500000   97.500000\n",
       "max    703.000000  703.000000"
      ]
     },
     "execution_count": 11,
     "metadata": {},
     "output_type": "execute_result"
    }
   ],
   "source": [
    "Districts_07.describe()"
   ]
  },
  {
   "cell_type": "markdown",
   "id": "veterinary-premium",
   "metadata": {},
   "source": [
    "## Columns"
   ]
  },
  {
   "cell_type": "markdown",
   "id": "trained-microwave",
   "metadata": {},
   "source": [
    "### Name"
   ]
  },
  {
   "cell_type": "markdown",
   "id": "instant-margin",
   "metadata": {},
   "source": [
    "The name column is the name of each district in the state of Delhi in India."
   ]
  },
  {
   "cell_type": "code",
   "execution_count": 12,
   "id": "brown-kenya",
   "metadata": {},
   "outputs": [
    {
     "data": {
      "text/plain": [
       "0          North\n",
       "1     North West\n",
       "2     North East\n",
       "3           East\n",
       "4      New Delhi\n",
       "5        Central\n",
       "6           West\n",
       "7     South West\n",
       "8          South\n",
       "9       Shahdara\n",
       "10    South East\n",
       "Name: Name, dtype: object"
      ]
     },
     "execution_count": 12,
     "metadata": {},
     "output_type": "execute_result"
    }
   ],
   "source": [
    "column = Districts_07[\"Name\"]\n",
    "column"
   ]
  },
  {
   "cell_type": "code",
   "execution_count": 13,
   "id": "european-irrigation",
   "metadata": {},
   "outputs": [
    {
     "name": "stdout",
     "output_type": "stream",
     "text": [
      "No. of unique values: 11\n",
      "Duplicates: {}\n"
     ]
    }
   ],
   "source": [
    "print(\"No. of unique values:\", len(column.unique()))\n",
    "\n",
    "# Check for duplicates\n",
    "counter = dict(Counter(column))\n",
    "duplicates = { key:value for key, value in counter.items() if value > 1}\n",
    "print(\"Duplicates:\", duplicates)"
   ]
  },
  {
   "cell_type": "markdown",
   "id": "mineral-contact",
   "metadata": {},
   "source": [
    "### Value"
   ]
  },
  {
   "cell_type": "markdown",
   "id": "noticed-earth",
   "metadata": {},
   "source": [
    "The value column represents the value of each district in Delhi. (Cara is looking into what these values mean exactly.)"
   ]
  },
  {
   "cell_type": "code",
   "execution_count": 14,
   "id": "ready-separate",
   "metadata": {},
   "outputs": [
    {
     "data": {
      "text/plain": [
       "0      90\n",
       "1      90\n",
       "2      92\n",
       "3      93\n",
       "4      94\n",
       "5      95\n",
       "6      96\n",
       "7      97\n",
       "8      98\n",
       "9     702\n",
       "10    703\n",
       "Name: Value, dtype: int64"
      ]
     },
     "execution_count": 14,
     "metadata": {},
     "output_type": "execute_result"
    }
   ],
   "source": [
    "column = Districts_07[\"Value\"]\n",
    "column"
   ]
  },
  {
   "cell_type": "code",
   "execution_count": 15,
   "id": "utility-facing",
   "metadata": {},
   "outputs": [
    {
     "name": "stdout",
     "output_type": "stream",
     "text": [
      "No. of unique values: 10\n",
      "Duplicates: {90: 2}\n",
      "No. of duplicates: 1\n"
     ]
    }
   ],
   "source": [
    "print(\"No. of unique values:\", len(column.unique()))\n",
    "\n",
    "# Check for duplicates\n",
    "counter = dict(Counter(column))\n",
    "duplicates = { key:value for key, value in counter.items() if value > 1}\n",
    "print(\"Duplicates:\", duplicates)\n",
    "if len(duplicates) > 0:\n",
    "    print(\"No. of duplicates:\", len(duplicates))"
   ]
  },
  {
   "cell_type": "code",
   "execution_count": 16,
   "id": "collect-stage",
   "metadata": {},
   "outputs": [
    {
     "data": {
      "text/html": [
       "<div>\n",
       "<style scoped>\n",
       "    .dataframe tbody tr th:only-of-type {\n",
       "        vertical-align: middle;\n",
       "    }\n",
       "\n",
       "    .dataframe tbody tr th {\n",
       "        vertical-align: top;\n",
       "    }\n",
       "\n",
       "    .dataframe thead th {\n",
       "        text-align: right;\n",
       "    }\n",
       "</style>\n",
       "<table border=\"1\" class=\"dataframe\">\n",
       "  <thead>\n",
       "    <tr style=\"text-align: right;\">\n",
       "      <th></th>\n",
       "      <th>KeyColumn</th>\n",
       "      <th>Name</th>\n",
       "      <th>Value</th>\n",
       "    </tr>\n",
       "  </thead>\n",
       "  <tbody>\n",
       "    <tr>\n",
       "      <th>0</th>\n",
       "      <td>90</td>\n",
       "      <td>North</td>\n",
       "      <td>90</td>\n",
       "    </tr>\n",
       "    <tr>\n",
       "      <th>1</th>\n",
       "      <td>90</td>\n",
       "      <td>North West</td>\n",
       "      <td>90</td>\n",
       "    </tr>\n",
       "  </tbody>\n",
       "</table>\n",
       "</div>"
      ],
      "text/plain": [
       "   KeyColumn        Name  Value\n",
       "0         90       North     90\n",
       "1         90  North West     90"
      ]
     },
     "execution_count": 16,
     "metadata": {},
     "output_type": "execute_result"
    }
   ],
   "source": [
    "Districts_07[Districts_07['Value'] == 90]"
   ]
  },
  {
   "cell_type": "code",
   "execution_count": null,
   "id": "behind-premium",
   "metadata": {},
   "outputs": [],
   "source": []
  }
 ],
 "metadata": {
  "kernelspec": {
   "display_name": "Python 3",
   "language": "python",
   "name": "python3"
  },
  "language_info": {
   "codemirror_mode": {
    "name": "ipython",
    "version": 3
   },
   "file_extension": ".py",
   "mimetype": "text/x-python",
   "name": "python",
   "nbconvert_exporter": "python",
   "pygments_lexer": "ipython3",
   "version": "3.9.2"
  }
 },
 "nbformat": 4,
 "nbformat_minor": 5
}
