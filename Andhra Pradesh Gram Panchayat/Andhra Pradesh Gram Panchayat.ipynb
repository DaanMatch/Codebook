{
 "cells": [
  {
   "cell_type": "markdown",
   "metadata": {},
   "source": [
    "# Codebook  \n",
    "**Authors:** Patrick Guo  \n",
    "Documenting existing data files of DaanMatch with information about location, owner, \"version\", source etc."
   ]
  },
  {
   "cell_type": "code",
   "execution_count": 1,
   "metadata": {},
   "outputs": [],
   "source": [
    "import boto3\n",
    "import pandas as pd\n",
    "import numpy as np \n",
    "import os\n",
    "from collections import Counter\n",
    "import matplotlib.pyplot as plt\n",
    "import statistics"
   ]
  },
  {
   "cell_type": "code",
   "execution_count": 2,
   "metadata": {},
   "outputs": [],
   "source": [
    "client = boto3.client('s3')\n",
    "resource = boto3.resource('s3')\n",
    "my_bucket = resource.Bucket('my-bucket')"
   ]
  },
  {
   "cell_type": "markdown",
   "metadata": {},
   "source": [
    "# Andhra_Pradesh_Gram_Panchayat\n",
    "\n",
    "## TOC:\n",
    "* [About this dataset](#1)\n",
    "* [What's in this dataset](#2)\n",
    "* [Codebook](#3)\n",
    "* [Columns](#4)\n",
    "    * [S. No.](#4.1)\n",
    "    * [District](#4.2)\n",
    "    * [Mandal](#4.3)\n",
    "    * [Panchayat](#4.4)\n",
    "    * [Gram Panchayat Special officer Name](#4.5)\n",
    "    * [Mobile Number](#4.6)\n",
    "    * [Address for Communication](#4.7)"
   ]
  },
  {
   "cell_type": "markdown",
   "metadata": {},
   "source": [
    "**About this dataset**  <a class=\"anchor\" id=\"1\"></a>  \n",
    "Data provided by: The Ministry of Panchayati Raj  \n",
    "Source: https://www.panchayat.gov.in/documents/20126/75657/Andhra+Pradesh+Gram+Panchayat.xlsx/e1b39a3d-d726-fd91-68c8-3d7cd42755a4?t=1556532428214  \n",
    "Last modified: May 29, 2021, 19:53:36 (UTC-07:00)\n",
    "Size: 894.3 KB "
   ]
  },
  {
   "cell_type": "code",
   "execution_count": 17,
   "metadata": {},
   "outputs": [
    {
     "name": "stdout",
     "output_type": "stream",
     "text": [
      "['Gram Panchayat']\n"
     ]
    },
    {
     "data": {
      "text/html": [
       "<div>\n",
       "<style scoped>\n",
       "    .dataframe tbody tr th:only-of-type {\n",
       "        vertical-align: middle;\n",
       "    }\n",
       "\n",
       "    .dataframe tbody tr th {\n",
       "        vertical-align: top;\n",
       "    }\n",
       "\n",
       "    .dataframe thead th {\n",
       "        text-align: right;\n",
       "    }\n",
       "</style>\n",
       "<table border=\"1\" class=\"dataframe\">\n",
       "  <thead>\n",
       "    <tr style=\"text-align: right;\">\n",
       "      <th></th>\n",
       "      <th>S. No.</th>\n",
       "      <th>District</th>\n",
       "      <th>Mandal</th>\n",
       "      <th>Panchayat</th>\n",
       "      <th>Gram Panchayat Special officer Name</th>\n",
       "      <th>Mobile Number</th>\n",
       "      <th>Address for Communication</th>\n",
       "    </tr>\n",
       "  </thead>\n",
       "  <tbody>\n",
       "    <tr>\n",
       "      <th>0</th>\n",
       "      <td>1</td>\n",
       "      <td>Ananthapur</td>\n",
       "      <td>Ananthapur</td>\n",
       "      <td>A.Narayanapuram</td>\n",
       "      <td>Anwar Basha</td>\n",
       "      <td>9.496189e+09</td>\n",
       "      <td>Sarpanch\\nA.Narayanapuram Gram Panchayat \\nAt-...</td>\n",
       "    </tr>\n",
       "    <tr>\n",
       "      <th>1</th>\n",
       "      <td>2</td>\n",
       "      <td>Ananthapur</td>\n",
       "      <td>Ananthapur</td>\n",
       "      <td>Akuthotapalli</td>\n",
       "      <td>C Obulamma</td>\n",
       "      <td>9.490610e+09</td>\n",
       "      <td>Sarpanch\\nAkuthotapalli Gram Panchayat \\nAt- A...</td>\n",
       "    </tr>\n",
       "    <tr>\n",
       "      <th>2</th>\n",
       "      <td>3</td>\n",
       "      <td>Ananthapur</td>\n",
       "      <td>Ananthapur</td>\n",
       "      <td>Alamuru</td>\n",
       "      <td>SURESH</td>\n",
       "      <td>8.790998e+09</td>\n",
       "      <td>Sarpanch\\nAlamuru Gram Panchayat \\nAt- Alamuru...</td>\n",
       "    </tr>\n",
       "    <tr>\n",
       "      <th>3</th>\n",
       "      <td>4</td>\n",
       "      <td>Ananthapur</td>\n",
       "      <td>Ananthapur</td>\n",
       "      <td>Anantapur(R)</td>\n",
       "      <td>H M Basha</td>\n",
       "      <td>9.703327e+09</td>\n",
       "      <td>Sarpanch\\nAnantapur(R) Gram Panchayat \\nAt- An...</td>\n",
       "    </tr>\n",
       "    <tr>\n",
       "      <th>4</th>\n",
       "      <td>5</td>\n",
       "      <td>Ananthapur</td>\n",
       "      <td>Ananthapur</td>\n",
       "      <td>Ankampalli</td>\n",
       "      <td>P Venkatesh Kumar</td>\n",
       "      <td>9.985021e+09</td>\n",
       "      <td>Sarpanch\\nAnkampalli Gram Panchayat \\nAt- Anka...</td>\n",
       "    </tr>\n",
       "  </tbody>\n",
       "</table>\n",
       "</div>"
      ],
      "text/plain": [
       "   S. No.    District      Mandal        Panchayat  \\\n",
       "0       1  Ananthapur  Ananthapur  A.Narayanapuram   \n",
       "1       2  Ananthapur  Ananthapur    Akuthotapalli   \n",
       "2       3  Ananthapur  Ananthapur          Alamuru   \n",
       "3       4  Ananthapur  Ananthapur     Anantapur(R)   \n",
       "4       5  Ananthapur  Ananthapur       Ankampalli   \n",
       "\n",
       "  Gram Panchayat Special officer Name  Mobile Number  \\\n",
       "0                         Anwar Basha   9.496189e+09   \n",
       "1                          C Obulamma   9.490610e+09   \n",
       "2                              SURESH   8.790998e+09   \n",
       "3                           H M Basha   9.703327e+09   \n",
       "4                P Venkatesh Kumar      9.985021e+09   \n",
       "\n",
       "                           Address for Communication  \n",
       "0  Sarpanch\\nA.Narayanapuram Gram Panchayat \\nAt-...  \n",
       "1  Sarpanch\\nAkuthotapalli Gram Panchayat \\nAt- A...  \n",
       "2  Sarpanch\\nAlamuru Gram Panchayat \\nAt- Alamuru...  \n",
       "3  Sarpanch\\nAnantapur(R) Gram Panchayat \\nAt- An...  \n",
       "4  Sarpanch\\nAnkampalli Gram Panchayat \\nAt- Anka...  "
      ]
     },
     "execution_count": 17,
     "metadata": {},
     "output_type": "execute_result"
    }
   ],
   "source": [
    "path = \"s3://daanmatchdatafiles/DaanMatch_DataFiles/Andhra Pradesh Gram Panchayat.xlsx\"\n",
    "xl = pd.ExcelFile(path)\n",
    "print(xl.sheet_names)\n",
    "# Load sheet\n",
    "AndhraPradeshGramPanchayat = xl.parse(\"Gram Panchayat\")\n",
    "# Reset index\n",
    "AndhraPradeshGramPanchayat.head()"
   ]
  },
  {
   "cell_type": "markdown",
   "metadata": {},
   "source": [
    "**What's in this dataset?** <a class=\"anchor\" id=\"2\"></a>"
   ]
  },
  {
   "cell_type": "code",
   "execution_count": 13,
   "metadata": {},
   "outputs": [
    {
     "name": "stdout",
     "output_type": "stream",
     "text": [
      "Shape: (12918, 7)\n",
      "Rows: 12918\n",
      "Columns: 7\n",
      "Each row is a Gram Panchayat.\n"
     ]
    }
   ],
   "source": [
    "print(\"Shape:\", AndhraPradeshGramPanchayat.shape)\n",
    "print(\"Rows:\", AndhraPradeshGramPanchayat.shape[0])\n",
    "print(\"Columns:\", AndhraPradeshGramPanchayat.shape[1])\n",
    "print(\"Each row is a Gram Panchayat.\")"
   ]
  },
  {
   "cell_type": "code",
   "execution_count": 15,
   "metadata": {},
   "outputs": [
    {
     "data": {
      "text/plain": [
       "['S. No.',\n",
       " 'District',\n",
       " 'Mandal',\n",
       " 'Panchayat',\n",
       " 'Gram Panchayat Special officer Name',\n",
       " 'Mobile Number',\n",
       " 'Address for Communication']"
      ]
     },
     "execution_count": 15,
     "metadata": {},
     "output_type": "execute_result"
    }
   ],
   "source": [
    "AndhraPradeshGramPanchayat_columns = [column for column in AndhraPradeshGramPanchayat_df.columns]\n",
    "AndhraPradeshGramPanchayat_columns"
   ]
  },
  {
   "cell_type": "markdown",
   "metadata": {},
   "source": [
    "**Codebook** <a class=\"anchor\" id=\"3\"></a>"
   ]
  },
  {
   "cell_type": "code",
   "execution_count": 23,
   "metadata": {},
   "outputs": [
    {
     "data": {
      "text/html": [
       "<div>\n",
       "<style scoped>\n",
       "    .dataframe tbody tr th:only-of-type {\n",
       "        vertical-align: middle;\n",
       "    }\n",
       "\n",
       "    .dataframe tbody tr th {\n",
       "        vertical-align: top;\n",
       "    }\n",
       "\n",
       "    .dataframe thead th {\n",
       "        text-align: right;\n",
       "    }\n",
       "</style>\n",
       "<table border=\"1\" class=\"dataframe\">\n",
       "  <thead>\n",
       "    <tr style=\"text-align: right;\">\n",
       "      <th></th>\n",
       "      <th>Column Name</th>\n",
       "      <th>Description</th>\n",
       "      <th>Type</th>\n",
       "    </tr>\n",
       "  </thead>\n",
       "  <tbody>\n",
       "    <tr>\n",
       "      <th>0</th>\n",
       "      <td>S. No.</td>\n",
       "      <td>Index</td>\n",
       "      <td>int64</td>\n",
       "    </tr>\n",
       "    <tr>\n",
       "      <th>1</th>\n",
       "      <td>District</td>\n",
       "      <td>District name</td>\n",
       "      <td>object</td>\n",
       "    </tr>\n",
       "    <tr>\n",
       "      <th>2</th>\n",
       "      <td>Mandal</td>\n",
       "      <td>Mandal (local government area)</td>\n",
       "      <td>object</td>\n",
       "    </tr>\n",
       "    <tr>\n",
       "      <th>3</th>\n",
       "      <td>Panchayat</td>\n",
       "      <td>Panchayat (village)</td>\n",
       "      <td>object</td>\n",
       "    </tr>\n",
       "    <tr>\n",
       "      <th>4</th>\n",
       "      <td>Gram Panchayat Special officer Name</td>\n",
       "      <td>Name of Gram Panchayat special officer</td>\n",
       "      <td>object</td>\n",
       "    </tr>\n",
       "    <tr>\n",
       "      <th>5</th>\n",
       "      <td>Mobile Number</td>\n",
       "      <td>Mobile Number</td>\n",
       "      <td>float64</td>\n",
       "    </tr>\n",
       "    <tr>\n",
       "      <th>6</th>\n",
       "      <td>Address for Communication</td>\n",
       "      <td>Communication Address</td>\n",
       "      <td>object</td>\n",
       "    </tr>\n",
       "  </tbody>\n",
       "</table>\n",
       "</div>"
      ],
      "text/plain": [
       "                           Column Name  \\\n",
       "0                               S. No.   \n",
       "1                             District   \n",
       "2                               Mandal   \n",
       "3                            Panchayat   \n",
       "4  Gram Panchayat Special officer Name   \n",
       "5                        Mobile Number   \n",
       "6            Address for Communication   \n",
       "\n",
       "                              Description     Type  \n",
       "0                                   Index    int64  \n",
       "1                           District name   object  \n",
       "2          Mandal (local government area)   object  \n",
       "3                     Panchayat (village)   object  \n",
       "4  Name of Gram Panchayat special officer   object  \n",
       "5                           Mobile Number  float64  \n",
       "6                   Communication Address   object  "
      ]
     },
     "execution_count": 23,
     "metadata": {},
     "output_type": "execute_result"
    }
   ],
   "source": [
    "AndhraPradeshGramPanchayat_columns = [column for column in AndhraPradeshGramPanchayat_df.columns]\n",
    "AndhraPradeshGramPanchayat_description = [\"Index\",\n",
    "                                          \"District name\",\n",
    "                                          \"Mandal (local government area)\", \n",
    "                                          \"Panchayat (village)\", \n",
    "                                          \"Name of Gram Panchayat special officer\", \n",
    "                                          \"Mobile Number\", \n",
    "                                          \"Communication Address\"]\n",
    "AndhraPradeshGramPanchayat_dtypes = [dtype for dtype in AndhraPradeshGramPanchayat_df.dtypes]\n",
    "\n",
    "data = {\"Column Name\": AndhraPradeshGramPanchayat_columns, \"Description\": AndhraPradeshGramPanchayat_description, \"Type\": AndhraPradeshGramPanchayat_dtypes}\n",
    "AndhraPradeshGramPanchayat_codebook = pd.DataFrame(data)\n",
    "AndhraPradeshGramPanchayat_codebook"
   ]
  },
  {
   "cell_type": "markdown",
   "metadata": {},
   "source": [
    "## Columns\n",
    "<a class=\"anchor\" id=\"4\"></a>"
   ]
  },
  {
   "cell_type": "code",
   "execution_count": null,
   "metadata": {},
   "outputs": [],
   "source": []
  },
  {
   "cell_type": "code",
   "execution_count": 38,
   "metadata": {},
   "outputs": [
    {
     "data": {
      "text/plain": [
       "S. No.                                  0\n",
       "District                                0\n",
       "Mandal                                  0\n",
       "Panchayat                               0\n",
       "Gram Panchayat Special officer Name    17\n",
       "Mobile Number                          21\n",
       "Address for Communication               0\n",
       "dtype: int64"
      ]
     },
     "execution_count": 38,
     "metadata": {},
     "output_type": "execute_result"
    }
   ],
   "source": [
    "AndhraPradeshGramPanchayat.isnull().sum()"
   ]
  },
  {
   "cell_type": "markdown",
   "metadata": {},
   "source": [
    "### S. No.\n",
    "<a class=\"anchor\" id=\"4.1\"></a>\n",
    "Index"
   ]
  },
  {
   "cell_type": "code",
   "execution_count": 25,
   "metadata": {},
   "outputs": [
    {
     "data": {
      "text/plain": [
       "0            1\n",
       "1            2\n",
       "2            3\n",
       "3            4\n",
       "4            5\n",
       "         ...  \n",
       "12913    12914\n",
       "12914    12915\n",
       "12915    12916\n",
       "12916    12917\n",
       "12917    12918\n",
       "Name: S. No., Length: 12918, dtype: int64"
      ]
     },
     "execution_count": 25,
     "metadata": {},
     "output_type": "execute_result"
    }
   ],
   "source": [
    "column = AndhraPradeshGramPanchayat[\"S. No.\"]\n",
    "column"
   ]
  },
  {
   "cell_type": "code",
   "execution_count": 26,
   "metadata": {},
   "outputs": [
    {
     "name": "stdout",
     "output_type": "stream",
     "text": [
      "Duplicates: {}\n"
     ]
    }
   ],
   "source": [
    "# Check for duplicates\n",
    "counter = dict(Counter(column))\n",
    "duplicates = { key:value for key, value in counter.items() if value > 1}\n",
    "print(\"Duplicates:\", duplicates)"
   ]
  },
  {
   "cell_type": "markdown",
   "metadata": {},
   "source": [
    "### District\n",
    "<a class=\"anchor\" id=\"4.2\"></a>\n",
    "District name"
   ]
  },
  {
   "cell_type": "code",
   "execution_count": 28,
   "metadata": {},
   "outputs": [
    {
     "data": {
      "text/plain": [
       "0          Ananthapur\n",
       "1          Ananthapur\n",
       "2          Ananthapur\n",
       "3          Ananthapur\n",
       "4          Ananthapur\n",
       "             ...     \n",
       "12913    YSR District\n",
       "12914    YSR District\n",
       "12915    YSR District\n",
       "12916    YSR District\n",
       "12917    YSR District\n",
       "Name: District, Length: 12918, dtype: object"
      ]
     },
     "execution_count": 28,
     "metadata": {},
     "output_type": "execute_result"
    }
   ],
   "source": [
    "column = AndhraPradeshGramPanchayat[\"District\"]\n",
    "column"
   ]
  },
  {
   "cell_type": "code",
   "execution_count": 29,
   "metadata": {},
   "outputs": [
    {
     "name": "stdout",
     "output_type": "stream",
     "text": [
      "Unique values: ['Ananthapur' 'Chittoor' 'East Godavari' 'Guntur' 'Krishna' 'Kurnool'\n",
      " 'Prakasam' 'SPSR Nellore' 'Srikakulam' 'Visakhapatnam' 'Vizianagaram'\n",
      " 'West Godavari' 'YSR District']\n",
      "Empty strings: 0\n"
     ]
    },
    {
     "data": {
      "text/html": [
       "<div>\n",
       "<style scoped>\n",
       "    .dataframe tbody tr th:only-of-type {\n",
       "        vertical-align: middle;\n",
       "    }\n",
       "\n",
       "    .dataframe tbody tr th {\n",
       "        vertical-align: top;\n",
       "    }\n",
       "\n",
       "    .dataframe thead th {\n",
       "        text-align: right;\n",
       "    }\n",
       "</style>\n",
       "<table border=\"1\" class=\"dataframe\">\n",
       "  <thead>\n",
       "    <tr style=\"text-align: right;\">\n",
       "      <th></th>\n",
       "      <th>Class</th>\n",
       "      <th>Count</th>\n",
       "    </tr>\n",
       "  </thead>\n",
       "  <tbody>\n",
       "    <tr>\n",
       "      <th>0</th>\n",
       "      <td>Ananthapur</td>\n",
       "      <td>1003</td>\n",
       "    </tr>\n",
       "    <tr>\n",
       "      <th>1</th>\n",
       "      <td>Chittoor</td>\n",
       "      <td>1363</td>\n",
       "    </tr>\n",
       "    <tr>\n",
       "      <th>2</th>\n",
       "      <td>East Godavari</td>\n",
       "      <td>1069</td>\n",
       "    </tr>\n",
       "    <tr>\n",
       "      <th>3</th>\n",
       "      <td>Guntur</td>\n",
       "      <td>1011</td>\n",
       "    </tr>\n",
       "    <tr>\n",
       "      <th>4</th>\n",
       "      <td>Krishna</td>\n",
       "      <td>970</td>\n",
       "    </tr>\n",
       "    <tr>\n",
       "      <th>5</th>\n",
       "      <td>Kurnool</td>\n",
       "      <td>889</td>\n",
       "    </tr>\n",
       "    <tr>\n",
       "      <th>6</th>\n",
       "      <td>Prakasam</td>\n",
       "      <td>1028</td>\n",
       "    </tr>\n",
       "    <tr>\n",
       "      <th>7</th>\n",
       "      <td>SPSR Nellore</td>\n",
       "      <td>940</td>\n",
       "    </tr>\n",
       "    <tr>\n",
       "      <th>8</th>\n",
       "      <td>Srikakulam</td>\n",
       "      <td>1100</td>\n",
       "    </tr>\n",
       "    <tr>\n",
       "      <th>9</th>\n",
       "      <td>Visakhapatnam</td>\n",
       "      <td>925</td>\n",
       "    </tr>\n",
       "    <tr>\n",
       "      <th>10</th>\n",
       "      <td>Vizianagaram</td>\n",
       "      <td>921</td>\n",
       "    </tr>\n",
       "    <tr>\n",
       "      <th>11</th>\n",
       "      <td>West Godavari</td>\n",
       "      <td>909</td>\n",
       "    </tr>\n",
       "    <tr>\n",
       "      <th>12</th>\n",
       "      <td>YSR District</td>\n",
       "      <td>790</td>\n",
       "    </tr>\n",
       "  </tbody>\n",
       "</table>\n",
       "</div>"
      ],
      "text/plain": [
       "            Class  Count\n",
       "0      Ananthapur   1003\n",
       "1        Chittoor   1363\n",
       "2   East Godavari   1069\n",
       "3          Guntur   1011\n",
       "4         Krishna    970\n",
       "5         Kurnool    889\n",
       "6        Prakasam   1028\n",
       "7    SPSR Nellore    940\n",
       "8      Srikakulam   1100\n",
       "9   Visakhapatnam    925\n",
       "10   Vizianagaram    921\n",
       "11  West Godavari    909\n",
       "12   YSR District    790"
      ]
     },
     "execution_count": 29,
     "metadata": {},
     "output_type": "execute_result"
    }
   ],
   "source": [
    "print(\"Unique values:\", column.unique())\n",
    "\n",
    "# Number of empty strings\n",
    "print(\"Empty strings:\", sum(column == \" \"))\n",
    "\n",
    "# Table of number of each class\n",
    "counter = dict(Counter(column))\n",
    "count = { key:[value] for key, value in counter.items()}\n",
    "table = pd.DataFrame.from_dict(count).rename(columns={\" \": \"Empty\"})\n",
    "table = table.melt(var_name=\"Class\", value_name=\"Count\")\n",
    "table"
   ]
  },
  {
   "cell_type": "markdown",
   "metadata": {},
   "source": [
    "### Mandal\n",
    "<a class=\"anchor\" id=\"4.3\"></a>\n",
    "Mandal (local government area)"
   ]
  },
  {
   "cell_type": "markdown",
   "metadata": {},
   "source": [
    "### Panchayat\n",
    "<a class=\"anchor\" id=\"4.4\"></a>\n",
    "Panchayat (village)"
   ]
  },
  {
   "cell_type": "markdown",
   "metadata": {},
   "source": [
    "### Gram Panchayat Special officer Name\n",
    "<a class=\"anchor\" id=\"4.5\"></a>\n",
    "Name of Gram Panchayat special officer"
   ]
  },
  {
   "cell_type": "markdown",
   "metadata": {},
   "source": [
    "### Mobile Number\n",
    "<a class=\"anchor\" id=\"4.6\"></a>\n",
    "Mobile Number"
   ]
  },
  {
   "cell_type": "markdown",
   "metadata": {},
   "source": [
    "### Address for Communication\n",
    "<a class=\"anchor\" id=\"4.7\"></a>\n",
    "Communication Address"
   ]
  },
  {
   "cell_type": "code",
   "execution_count": null,
   "metadata": {},
   "outputs": [],
   "source": []
  }
 ],
 "metadata": {
  "kernelspec": {
   "display_name": "Python 3",
   "language": "python",
   "name": "python3"
  },
  "language_info": {
   "codemirror_mode": {
    "name": "ipython",
    "version": 3
   },
   "file_extension": ".py",
   "mimetype": "text/x-python",
   "name": "python",
   "nbconvert_exporter": "python",
   "pygments_lexer": "ipython3",
   "version": "3.8.3"
  }
 },
 "nbformat": 4,
 "nbformat_minor": 4
}
