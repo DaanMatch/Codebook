{
 "cells": [
  {
   "cell_type": "markdown",
   "metadata": {},
   "source": [
    "# Codebook  \n",
    "**Authors:** Patrick Guo  \n",
    "Documenting existing data files of DaanMatch with information about location, owner, \"version\", source etc."
   ]
  },
  {
   "cell_type": "code",
   "execution_count": 1,
   "metadata": {},
   "outputs": [],
   "source": [
    "import boto3\n",
    "import pandas as pd\n",
    "import numpy as np \n",
    "import os\n",
    "from collections import Counter\n",
    "import matplotlib.pyplot as plt\n",
    "import statistics"
   ]
  },
  {
   "cell_type": "code",
   "execution_count": 2,
   "metadata": {},
   "outputs": [],
   "source": [
    "client = boto3.client('s3')\n",
    "resource = boto3.resource('s3')\n",
    "my_bucket = resource.Bucket('my-bucket')"
   ]
  },
  {
   "cell_type": "markdown",
   "metadata": {},
   "source": [
    "# Andhra_Pradesh_Gram_Panchayat\n",
    "\n",
    "## TOC:\n",
    "* [About this dataset](#1)\n",
    "* [What's in this dataset](#2)\n",
    "* [Codebook](#3)\n",
    "* [Columns](#4)\n",
    "    * [CIN](#4.1)\n",
    "    * [COMPANY_NAME](#4.2)\n",
    "    * [COMPANY_CLASS](#4.3)\n",
    "    * [COMPANY_CATEGORY](#4.4)\n",
    "    * [COMPANY_SUBCAT](#4.5)\n",
    "    * [COMPANY_STATUS](#4.6)\n",
    "    * [DATE_OF_REGISTRATION](#4.7)\n",
    "    * [REGISTERED_STATE](#4.8)\n",
    "    * [Authorized Capital  (Rs.)](#4.9)\n",
    "    * [PAIDUP_CAPITAL (Rs.)](#4.10)\n",
    "    * [PRINCIPAL_BUSINESS_ACTIVITY_CODE](#4.11)\n",
    "    * [REGISTERED_OFFICE_ADDRESS](#4.12)\n",
    "    * [EMAIL_ID](#4.13)\n",
    "    * [LATEST ANNUAL REPORT FILING FY END DATE](#4.14)\n",
    "    * [LATEST BALANCE SHEET FILING FY END DATE](#4.15)"
   ]
  },
  {
   "cell_type": "markdown",
   "metadata": {},
   "source": [
    "**About this dataset**  <a class=\"anchor\" id=\"1\"></a>  \n",
    "Data provided by: MCA  \n",
    "Source: https://www.mca.gov.in/Ministry/pdf/Andaman_Nicobar_Islands_2016.xlsx  \n",
    "Last modified: May 29, 2021, 19:51:54 (UTC-07:00)\n",
    "Size: 3.16MB  "
   ]
  },
  {
   "cell_type": "code",
   "execution_count": 4,
   "metadata": {},
   "outputs": [
    {
     "ename": "SyntaxError",
     "evalue": "invalid syntax (<ipython-input-4-d7676d609e16>, line 1)",
     "output_type": "error",
     "traceback": [
      "\u001b[0;36m  File \u001b[0;32m\"<ipython-input-4-d7676d609e16>\"\u001b[0;36m, line \u001b[0;32m1\u001b[0m\n\u001b[0;31m    s3://daanmatchdatafiles/DaanMatch_DataFiles/Andhra Pradesh Gram Panchayat.xlsx\u001b[0m\n\u001b[0m       ^\u001b[0m\n\u001b[0;31mSyntaxError\u001b[0m\u001b[0;31m:\u001b[0m invalid syntax\n"
     ]
    }
   ],
   "source": [
    "s3://daanmatchdatafiles/DaanMatch_DataFiles/Andhra Pradesh Gram Panchayat.xlsx"
   ]
  },
  {
   "cell_type": "code",
   "execution_count": null,
   "metadata": {},
   "outputs": [],
   "source": []
  }
 ],
 "metadata": {
  "kernelspec": {
   "display_name": "Python 3",
   "language": "python",
   "name": "python3"
  },
  "language_info": {
   "codemirror_mode": {
    "name": "ipython",
    "version": 3
   },
   "file_extension": ".py",
   "mimetype": "text/x-python",
   "name": "python",
   "nbconvert_exporter": "python",
   "pygments_lexer": "ipython3",
   "version": "3.8.3"
  }
 },
 "nbformat": 4,
 "nbformat_minor": 4
}
