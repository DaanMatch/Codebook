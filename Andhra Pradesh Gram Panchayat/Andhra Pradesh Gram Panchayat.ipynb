{
 "cells": [
  {
   "cell_type": "markdown",
   "metadata": {},
   "source": [
    "# Codebook  \n",
    "**Authors:** Patrick Guo  \n",
    "Documenting existing data files of DaanMatch with information about location, owner, \"version\", source etc."
   ]
  },
  {
   "cell_type": "code",
   "execution_count": 1,
   "metadata": {},
   "outputs": [],
   "source": [
    "import boto3\n",
    "import pandas as pd\n",
    "import numpy as np \n",
    "import os\n",
    "from collections import Counter\n",
    "import matplotlib.pyplot as plt\n",
    "import statistics"
   ]
  },
  {
   "cell_type": "code",
   "execution_count": 2,
   "metadata": {},
   "outputs": [],
   "source": [
    "client = boto3.client('s3')\n",
    "resource = boto3.resource('s3')\n",
    "my_bucket = resource.Bucket('my-bucket')"
   ]
  },
  {
   "cell_type": "markdown",
   "metadata": {},
   "source": [
    "# Andhra_Pradesh_Gram_Panchayat\n",
    "\n",
    "## TOC:\n",
    "* [About this dataset](#1)\n",
    "* [What's in this dataset](#2)\n",
    "* [Codebook](#3)\n",
    "* [Columns](#4)"
   ]
  },
  {
   "cell_type": "markdown",
   "metadata": {},
   "source": [
    "**About this dataset**  <a class=\"anchor\" id=\"1\"></a>  \n",
    "Data provided by: The Ministry of Panchayati Raj  \n",
    "Source: https://www.panchayat.gov.in/documents/20126/75657/Andhra+Pradesh+Gram+Panchayat.xlsx/e1b39a3d-d726-fd91-68c8-3d7cd42755a4?t=1556532428214  \n",
    "Last modified: May 29, 2021, 19:53:36 (UTC-07:00)\n",
    "Size: 894.3 KB "
   ]
  },
  {
   "cell_type": "code",
   "execution_count": 17,
   "metadata": {},
   "outputs": [
    {
     "name": "stdout",
     "output_type": "stream",
     "text": [
      "['Gram Panchayat']\n"
     ]
    },
    {
     "data": {
      "text/html": [
       "<div>\n",
       "<style scoped>\n",
       "    .dataframe tbody tr th:only-of-type {\n",
       "        vertical-align: middle;\n",
       "    }\n",
       "\n",
       "    .dataframe tbody tr th {\n",
       "        vertical-align: top;\n",
       "    }\n",
       "\n",
       "    .dataframe thead th {\n",
       "        text-align: right;\n",
       "    }\n",
       "</style>\n",
       "<table border=\"1\" class=\"dataframe\">\n",
       "  <thead>\n",
       "    <tr style=\"text-align: right;\">\n",
       "      <th></th>\n",
       "      <th>S. No.</th>\n",
       "      <th>District</th>\n",
       "      <th>Mandal</th>\n",
       "      <th>Panchayat</th>\n",
       "      <th>Gram Panchayat Special officer Name</th>\n",
       "      <th>Mobile Number</th>\n",
       "      <th>Address for Communication</th>\n",
       "    </tr>\n",
       "  </thead>\n",
       "  <tbody>\n",
       "    <tr>\n",
       "      <th>0</th>\n",
       "      <td>1</td>\n",
       "      <td>Ananthapur</td>\n",
       "      <td>Ananthapur</td>\n",
       "      <td>A.Narayanapuram</td>\n",
       "      <td>Anwar Basha</td>\n",
       "      <td>9.496189e+09</td>\n",
       "      <td>Sarpanch\\nA.Narayanapuram Gram Panchayat \\nAt-...</td>\n",
       "    </tr>\n",
       "    <tr>\n",
       "      <th>1</th>\n",
       "      <td>2</td>\n",
       "      <td>Ananthapur</td>\n",
       "      <td>Ananthapur</td>\n",
       "      <td>Akuthotapalli</td>\n",
       "      <td>C Obulamma</td>\n",
       "      <td>9.490610e+09</td>\n",
       "      <td>Sarpanch\\nAkuthotapalli Gram Panchayat \\nAt- A...</td>\n",
       "    </tr>\n",
       "    <tr>\n",
       "      <th>2</th>\n",
       "      <td>3</td>\n",
       "      <td>Ananthapur</td>\n",
       "      <td>Ananthapur</td>\n",
       "      <td>Alamuru</td>\n",
       "      <td>SURESH</td>\n",
       "      <td>8.790998e+09</td>\n",
       "      <td>Sarpanch\\nAlamuru Gram Panchayat \\nAt- Alamuru...</td>\n",
       "    </tr>\n",
       "    <tr>\n",
       "      <th>3</th>\n",
       "      <td>4</td>\n",
       "      <td>Ananthapur</td>\n",
       "      <td>Ananthapur</td>\n",
       "      <td>Anantapur(R)</td>\n",
       "      <td>H M Basha</td>\n",
       "      <td>9.703327e+09</td>\n",
       "      <td>Sarpanch\\nAnantapur(R) Gram Panchayat \\nAt- An...</td>\n",
       "    </tr>\n",
       "    <tr>\n",
       "      <th>4</th>\n",
       "      <td>5</td>\n",
       "      <td>Ananthapur</td>\n",
       "      <td>Ananthapur</td>\n",
       "      <td>Ankampalli</td>\n",
       "      <td>P Venkatesh Kumar</td>\n",
       "      <td>9.985021e+09</td>\n",
       "      <td>Sarpanch\\nAnkampalli Gram Panchayat \\nAt- Anka...</td>\n",
       "    </tr>\n",
       "  </tbody>\n",
       "</table>\n",
       "</div>"
      ],
      "text/plain": [
       "   S. No.    District      Mandal        Panchayat  \\\n",
       "0       1  Ananthapur  Ananthapur  A.Narayanapuram   \n",
       "1       2  Ananthapur  Ananthapur    Akuthotapalli   \n",
       "2       3  Ananthapur  Ananthapur          Alamuru   \n",
       "3       4  Ananthapur  Ananthapur     Anantapur(R)   \n",
       "4       5  Ananthapur  Ananthapur       Ankampalli   \n",
       "\n",
       "  Gram Panchayat Special officer Name  Mobile Number  \\\n",
       "0                         Anwar Basha   9.496189e+09   \n",
       "1                          C Obulamma   9.490610e+09   \n",
       "2                              SURESH   8.790998e+09   \n",
       "3                           H M Basha   9.703327e+09   \n",
       "4                P Venkatesh Kumar      9.985021e+09   \n",
       "\n",
       "                           Address for Communication  \n",
       "0  Sarpanch\\nA.Narayanapuram Gram Panchayat \\nAt-...  \n",
       "1  Sarpanch\\nAkuthotapalli Gram Panchayat \\nAt- A...  \n",
       "2  Sarpanch\\nAlamuru Gram Panchayat \\nAt- Alamuru...  \n",
       "3  Sarpanch\\nAnantapur(R) Gram Panchayat \\nAt- An...  \n",
       "4  Sarpanch\\nAnkampalli Gram Panchayat \\nAt- Anka...  "
      ]
     },
     "execution_count": 17,
     "metadata": {},
     "output_type": "execute_result"
    }
   ],
   "source": [
    "path = \"s3://daanmatchdatafiles/DaanMatch_DataFiles/Andhra Pradesh Gram Panchayat.xlsx\"\n",
    "xl = pd.ExcelFile(path)\n",
    "print(xl.sheet_names)\n",
    "# Load sheet\n",
    "AndhraPradeshGramPanchayat = xl.parse(\"Gram Panchayat\")\n",
    "# Reset index\n",
    "AndhraPradeshGramPanchayat.head()"
   ]
  },
  {
   "cell_type": "markdown",
   "metadata": {},
   "source": [
    "**What's in this dataset?** <a class=\"anchor\" id=\"2\"></a>"
   ]
  },
  {
   "cell_type": "code",
   "execution_count": 13,
   "metadata": {},
   "outputs": [
    {
     "name": "stdout",
     "output_type": "stream",
     "text": [
      "Shape: (12918, 7)\n",
      "Rows: 12918\n",
      "Columns: 7\n",
      "Each row is a Gram Panchayat.\n"
     ]
    }
   ],
   "source": [
    "print(\"Shape:\", AndhraPradeshGramPanchayat.shape)\n",
    "print(\"Rows:\", AndhraPradeshGramPanchayat.shape[0])\n",
    "print(\"Columns:\", AndhraPradeshGramPanchayat.shape[1])\n",
    "print(\"Each row is a Gram Panchayat.\")"
   ]
  },
  {
   "cell_type": "code",
   "execution_count": 15,
   "metadata": {},
   "outputs": [
    {
     "data": {
      "text/plain": [
       "['S. No.',\n",
       " 'District',\n",
       " 'Mandal',\n",
       " 'Panchayat',\n",
       " 'Gram Panchayat Special officer Name',\n",
       " 'Mobile Number',\n",
       " 'Address for Communication']"
      ]
     },
     "execution_count": 15,
     "metadata": {},
     "output_type": "execute_result"
    }
   ],
   "source": [
    "AndhraPradeshGramPanchayat_columns = [column for column in AndhraPradeshGramPanchayat_df.columns]\n",
    "AndhraPradeshGramPanchayat_columns"
   ]
  },
  {
   "cell_type": "markdown",
   "metadata": {},
   "source": [
    "**Codebook** <a class=\"anchor\" id=\"3\"></a>"
   ]
  },
  {
   "cell_type": "code",
   "execution_count": 20,
   "metadata": {},
   "outputs": [
    {
     "ename": "NameError",
     "evalue": "name 'Andaman_Nicobar_Islands_2016_codebook' is not defined",
     "output_type": "error",
     "traceback": [
      "\u001b[0;31m---------------------------------------------------------------------------\u001b[0m",
      "\u001b[0;31mNameError\u001b[0m                                 Traceback (most recent call last)",
      "\u001b[0;32m<ipython-input-20-4c654392ce6f>\u001b[0m in \u001b[0;36m<module>\u001b[0;34m\u001b[0m\n\u001b[1;32m     12\u001b[0m \u001b[0mAndhraPradeshGramPanchayat_codebook\u001b[0m \u001b[0;34m=\u001b[0m \u001b[0mpd\u001b[0m\u001b[0;34m.\u001b[0m\u001b[0mDataFrame\u001b[0m\u001b[0;34m(\u001b[0m\u001b[0mdata\u001b[0m\u001b[0;34m)\u001b[0m\u001b[0;34m\u001b[0m\u001b[0;34m\u001b[0m\u001b[0m\n\u001b[1;32m     13\u001b[0m \u001b[0mAndhraPradeshGramPanchayat_codebook\u001b[0m\u001b[0;34m.\u001b[0m\u001b[0mstyle\u001b[0m\u001b[0;34m.\u001b[0m\u001b[0mset_properties\u001b[0m\u001b[0;34m(\u001b[0m\u001b[0msubset\u001b[0m\u001b[0;34m=\u001b[0m\u001b[0;34m[\u001b[0m\u001b[0;34m'Description'\u001b[0m\u001b[0;34m]\u001b[0m\u001b[0;34m,\u001b[0m \u001b[0;34m**\u001b[0m\u001b[0;34m{\u001b[0m\u001b[0;34m'width'\u001b[0m\u001b[0;34m:\u001b[0m \u001b[0;34m'600px'\u001b[0m\u001b[0;34m}\u001b[0m\u001b[0;34m)\u001b[0m\u001b[0;34m\u001b[0m\u001b[0;34m\u001b[0m\u001b[0m\n\u001b[0;32m---> 14\u001b[0;31m \u001b[0mAndaman_Nicobar_Islands_2016_codebook\u001b[0m\u001b[0;34m\u001b[0m\u001b[0;34m\u001b[0m\u001b[0m\n\u001b[0m",
      "\u001b[0;31mNameError\u001b[0m: name 'Andaman_Nicobar_Islands_2016_codebook' is not defined"
     ]
    }
   ],
   "source": [
    "AndhraPradeshGramPanchayat_columns = [column for column in AndhraPradeshGramPanchayat_df.columns]\n",
    "AndhraPradeshGramPanchayat_description = [\"Index\",\n",
    "                                          \"District name\",\n",
    "                                          \"Mandal (local government area)\", \n",
    "                                          \"Panchayat (village)\", \n",
    "                                          \"Name of Gram Panchayat special officer\", \n",
    "                                          \"Mobile Number\", \n",
    "                                          \"Communication Address\"]\n",
    "AndhraPradeshGramPanchayat_dtypes = [dtype for dtype in AndhraPradeshGramPanchayat_df.dtypes]\n",
    "\n",
    "data = {\"Column Name\": AndhraPradeshGramPanchayat_columns, \"Description\": AndhraPradeshGramPanchayat_description, \"Type\": AndhraPradeshGramPanchayat_dtypes}\n",
    "AndhraPradeshGramPanchayat_codebook = pd.DataFrame(data)\n",
    "AndhraPradeshGramPanchayat_codebook.style.set_properties(subset=['Description'], **{'width': '600px'})\n",
    "Andaman_Nicobar_Islands_2016_codebook"
   ]
  },
  {
   "cell_type": "code",
   "execution_count": null,
   "metadata": {},
   "outputs": [],
   "source": []
  }
 ],
 "metadata": {
  "kernelspec": {
   "display_name": "Python 3",
   "language": "python",
   "name": "python3"
  },
  "language_info": {
   "codemirror_mode": {
    "name": "ipython",
    "version": 3
   },
   "file_extension": ".py",
   "mimetype": "text/x-python",
   "name": "python",
   "nbconvert_exporter": "python",
   "pygments_lexer": "ipython3",
   "version": "3.8.3"
  }
 },
 "nbformat": 4,
 "nbformat_minor": 4
}
