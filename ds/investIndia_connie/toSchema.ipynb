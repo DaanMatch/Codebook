{
 "cells": [
  {
   "cell_type": "markdown",
   "id": "01bb5f0a-aced-48c7-af4c-8ff3aa7080ad",
   "metadata": {},
   "source": [
    "# Schema\n",
    "\n",
    "https://docs.google.com/document/d/1wDCb29oYVJIF2RPNtrnzxEYs1lH0J4RwYACDIn4kPhA/edit#heading=h.4wl6nl945n7g"
   ]
  },
  {
   "cell_type": "code",
   "execution_count": 8,
   "id": "01923a82-cefb-48ca-8984-b23f6ec7e33b",
   "metadata": {},
   "outputs": [],
   "source": [
    "import pandas as pd\n",
    "import validators\n",
    "import numpy as np\n",
    "import uuid\n",
    "import re"
   ]
  },
  {
   "cell_type": "code",
   "execution_count": 9,
   "id": "06f015e2-e830-4b55-aa55-aa4d73fc6458",
   "metadata": {},
   "outputs": [
    {
     "data": {
      "text/html": [
       "<div>\n",
       "<style scoped>\n",
       "    .dataframe tbody tr th:only-of-type {\n",
       "        vertical-align: middle;\n",
       "    }\n",
       "\n",
       "    .dataframe tbody tr th {\n",
       "        vertical-align: top;\n",
       "    }\n",
       "\n",
       "    .dataframe thead th {\n",
       "        text-align: right;\n",
       "    }\n",
       "</style>\n",
       "<table border=\"1\" class=\"dataframe\">\n",
       "  <thead>\n",
       "    <tr style=\"text-align: right;\">\n",
       "      <th></th>\n",
       "      <th>Name</th>\n",
       "      <th>Description</th>\n",
       "      <th>State</th>\n",
       "      <th>Contact</th>\n",
       "      <th>Email</th>\n",
       "      <th>Phone</th>\n",
       "      <th>Other</th>\n",
       "    </tr>\n",
       "  </thead>\n",
       "  <tbody>\n",
       "    <tr>\n",
       "      <th>0</th>\n",
       "      <td>Mission Oxygen</td>\n",
       "      <td>Mission Oxygen began as a overnight initiative...</td>\n",
       "      <td>Delhi NCR</td>\n",
       "      <td>https://www.ketto.org/fundraiser/mission-oxyge...</td>\n",
       "      <td>None</td>\n",
       "      <td>None</td>\n",
       "      <td>NaN</td>\n",
       "    </tr>\n",
       "    <tr>\n",
       "      <th>1</th>\n",
       "      <td>Gautam Gambhir Foundation</td>\n",
       "      <td>The Gautam Gambhir Foundation is extending the...</td>\n",
       "      <td>Delhi NCR</td>\n",
       "      <td>https://gautamgambhirfoundation.org/donate/\\n ...</td>\n",
       "      <td>info@gautamgambhirfoundation.org</td>\n",
       "      <td>None</td>\n",
       "      <td>NaN</td>\n",
       "    </tr>\n",
       "    <tr>\n",
       "      <th>2</th>\n",
       "      <td>Mazdoor Kitchen</td>\n",
       "      <td>Mazdoor Kitchen is a citizen run voluntary ini...</td>\n",
       "      <td>Delhi (North)</td>\n",
       "      <td>https://www.ketto.org/fundraiser/mazdoorkitche...</td>\n",
       "      <td>None</td>\n",
       "      <td>None</td>\n",
       "      <td>NaN</td>\n",
       "    </tr>\n",
       "    <tr>\n",
       "      <th>3</th>\n",
       "      <td>Breathe India</td>\n",
       "      <td>A group of IIT alumni, in coordination with Sa...</td>\n",
       "      <td>Delhi NCR</td>\n",
       "      <td>https://milaap.org/fundraisers/support-arrange...</td>\n",
       "      <td>ashu95.ranka@gmail.com</td>\n",
       "      <td>None</td>\n",
       "      <td>NaN</td>\n",
       "    </tr>\n",
       "    <tr>\n",
       "      <th>4</th>\n",
       "      <td>Chikka Foundation</td>\n",
       "      <td>Chikka Federation is a United Nations accredit...</td>\n",
       "      <td>Delhi, Bihar</td>\n",
       "      <td>http://www.chikkafederation.org/</td>\n",
       "      <td>None</td>\n",
       "      <td>: 9570716800</td>\n",
       "      <td>: Santosh Kumar ,: 9570716800</td>\n",
       "    </tr>\n",
       "  </tbody>\n",
       "</table>\n",
       "</div>"
      ],
      "text/plain": [
       "                        Name  \\\n",
       "0             Mission Oxygen   \n",
       "1  Gautam Gambhir Foundation   \n",
       "2           Mazdoor Kitchen    \n",
       "3              Breathe India   \n",
       "4          Chikka Foundation   \n",
       "\n",
       "                                         Description          State  \\\n",
       "0  Mission Oxygen began as a overnight initiative...      Delhi NCR   \n",
       "1  The Gautam Gambhir Foundation is extending the...      Delhi NCR   \n",
       "2  Mazdoor Kitchen is a citizen run voluntary ini...  Delhi (North)   \n",
       "3  A group of IIT alumni, in coordination with Sa...      Delhi NCR   \n",
       "4  Chikka Federation is a United Nations accredit...   Delhi, Bihar   \n",
       "\n",
       "                                             Contact  \\\n",
       "0  https://www.ketto.org/fundraiser/mission-oxyge...   \n",
       "1  https://gautamgambhirfoundation.org/donate/\\n ...   \n",
       "2  https://www.ketto.org/fundraiser/mazdoorkitche...   \n",
       "3  https://milaap.org/fundraisers/support-arrange...   \n",
       "4                   http://www.chikkafederation.org/   \n",
       "\n",
       "                              Email         Phone  \\\n",
       "0                              None          None   \n",
       "1  info@gautamgambhirfoundation.org          None   \n",
       "2                              None          None   \n",
       "3            ashu95.ranka@gmail.com          None   \n",
       "4                              None  : 9570716800   \n",
       "\n",
       "                           Other  \n",
       "0                            NaN  \n",
       "1                            NaN  \n",
       "2                            NaN  \n",
       "3                            NaN  \n",
       "4  : Santosh Kumar ,: 9570716800  "
      ]
     },
     "execution_count": 9,
     "metadata": {},
     "output_type": "execute_result"
    }
   ],
   "source": [
    "df = pd.read_csv(\"InvestIndia.csv\")\n",
    "# Delete unnamed column  \n",
    "#df = df.loc[:, ~df.columns.str.contains('^Unnamed')] \n",
    "df.head()"
   ]
  },
  {
   "cell_type": "code",
   "execution_count": 10,
   "id": "28d5b512-6aff-400e-8c67-5696b7506988",
   "metadata": {},
   "outputs": [],
   "source": [
    "NgoBackground = pd.DataFrame(columns=[\n",
    "    'ngoId', \n",
    "    'hasRegistration', \n",
    "    'hasFinance',\n",
    "    'logo', \n",
    "    'yearEstablished', \n",
    "    'missionStatement', \n",
    "    'vision', \n",
    "    'objectives', \n",
    "    'legalStatus', \n",
    "    'areasOfOperation', \n",
    "    'activeStatus'\n",
    "])\n",
    "\n",
    "NgoContact = pd.DataFrame(columns=[\n",
    "    'ngoId',\n",
    "    'ngoName',\n",
    "    'orgEmail',\n",
    "    'officePhone',\n",
    "    'primaryPoc',\n",
    "    'primaryPocPhone',\n",
    "    'secondaryPoc',\n",
    "    'secondaryPocPhone',\n",
    "    'mailingAddress',\n",
    "    'physicalAddress',\n",
    "    'fieldOffices',\n",
    "    'orgType',\n",
    "    'orgWebsite',\n",
    "    'websiteIsValid',\n",
    "    'facebook',\n",
    "    'twitter',\n",
    "    'iInstagram',\n",
    "    'youtube',\n",
    "    'whatsapp',\n",
    "    'otherSocials',\n",
    "    'scrapeSource',\n",
    "    'executiveDirector',\n",
    "    'technicalSupport',\n",
    "    'chairmanName',\n",
    "    'chairmanMobile',\n",
    "    'chairmanEmail',\n",
    "    'viceChairmanName',\n",
    "    'viceChairmanMobile',\n",
    "    'viceChairmanEmail',\n",
    "    'secretaryName',\n",
    "    'secretaryMobile',\n",
    "    'secretaryEmail',\n",
    "    'assistantSecretaryName',\n",
    "    'assistantSecretaryMobile',\n",
    "    'assistantSecretaryEmail'\n",
    "])"
   ]
  },
  {
   "cell_type": "code",
   "execution_count": 11,
   "id": "55dbe2e9-f4e3-40eb-8ed9-7000f19a2bf8",
   "metadata": {},
   "outputs": [
    {
     "data": {
      "text/plain": [
       "Index(['Name', 'Description', 'State', 'Contact', 'Email', 'Phone', 'Other'], dtype='object')"
      ]
     },
     "execution_count": 11,
     "metadata": {},
     "output_type": "execute_result"
    }
   ],
   "source": [
    "df.columns"
   ]
  },
  {
   "cell_type": "code",
   "execution_count": 12,
   "id": "c6c2c5e2-ec2f-4052-87d7-ed081f1d40a9",
   "metadata": {},
   "outputs": [],
   "source": [
    "## Generate uuid3\n",
    "NgoContact[\"ngoId\"] = [uuid.uuid3(uuid.NAMESPACE_URL, _) for _ in df[\"Name\"].str.title()]\n",
    "NgoBackground[\"ngoId\"] = [uuid.uuid3(uuid.NAMESPACE_URL, _) for _ in df[\"Name\"].str.title()]\n",
    "\n",
    "NgoContact[\"ngoName\"] = df[\"Name\"].str.title()\n",
    "NgoContact['officePhone'] = df[\"Phone\"]\n",
    "NgoContact[\"physicalAddress\"] = df[\"State\"]\n",
    "NgoContact[\"mailingAddress\"] = df[\"State\"]\n",
    "NgoContact['orgEmail'] = df['Email']\n",
    "NgoContact['scrapeSource'] = 'investIndia'\n",
    "\n",
    "NgoBackground[\"missionStatement\"] = df['Description']"
   ]
  },
  {
   "cell_type": "code",
   "execution_count": 13,
   "id": "02516e75-1a40-4d7f-ac13-7ca38a26af99",
   "metadata": {},
   "outputs": [],
   "source": [
    "# For DataFrame NgoBackground\n",
    "NgoBackground = NgoBackground.dropna(how='all', subset=NgoBackground.columns.difference(['ngoId']))\n",
    "\n",
    "# For DataFrame NgoContact\n",
    "NgoContact = NgoContact.dropna(how='all', subset=NgoContact.columns.difference(['ngoId']))"
   ]
  },
  {
   "cell_type": "code",
   "execution_count": 14,
   "id": "3bbf7150-b995-4f7f-8bc3-4b4179442784",
   "metadata": {},
   "outputs": [],
   "source": [
    "# Export to CSV\n",
    "NgoBackground.to_csv('NgoBackground.csv', index=False)\n",
    "NgoContact.to_csv('NgoContact.csv', index=False)"
   ]
  },
  {
   "cell_type": "code",
   "execution_count": null,
   "id": "b1b5914b-fc56-4f24-803f-0303d4c41dd8",
   "metadata": {},
   "outputs": [],
   "source": []
  },
  {
   "cell_type": "code",
   "execution_count": null,
   "id": "40d96f0f-fcaa-4495-aa01-218fef4ab56a",
   "metadata": {},
   "outputs": [],
   "source": []
  },
  {
   "cell_type": "code",
   "execution_count": null,
   "id": "cc8979e1-ece2-45e3-b1fb-3bb02ecb8a19",
   "metadata": {},
   "outputs": [],
   "source": []
  }
 ],
 "metadata": {
  "kernelspec": {
   "display_name": "Python 3 (ipykernel)",
   "language": "python",
   "name": "python3"
  },
  "language_info": {
   "codemirror_mode": {
    "name": "ipython",
    "version": 3
   },
   "file_extension": ".py",
   "mimetype": "text/x-python",
   "name": "python",
   "nbconvert_exporter": "python",
   "pygments_lexer": "ipython3",
   "version": "3.8.12"
  }
 },
 "nbformat": 4,
 "nbformat_minor": 5
}
