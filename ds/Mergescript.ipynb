{
 "cells": [
  {
   "cell_type": "code",
   "execution_count": 1,
   "id": "11a8afe7-a2b4-4f87-bd59-74da64eb396f",
   "metadata": {},
   "outputs": [
    {
     "name": "stdout",
     "output_type": "stream",
     "text": [
      "NgoBackground copy.csv   NgoContact.csv           NgoRegistration.csv\n",
      "NgoBackground.csv        NgoFinance.csv           Untitled.ipynb\n",
      "NgoContact copy.csv      NgoRegistration copy.csv\n"
     ]
    }
   ],
   "source": [
    "!ls"
   ]
  },
  {
   "cell_type": "code",
   "execution_count": 2,
   "id": "ead36efd-9efc-45b9-9a5a-865e77124aed",
   "metadata": {},
   "outputs": [],
   "source": [
    "import pandas as pd\n",
    "\n",
    "# Load the CSV files\n",
    "ngoBackground1 = pd.read_csv('NgoBackground.csv')\n",
    "ngoBackground2 = pd.read_csv('NgoBackground copy.csv')\n",
    "\n",
    "ngoContact1 = pd.read_csv('NgoContact.csv')\n",
    "ngoContact2 = pd.read_csv('NgoContact copy.csv')\n",
    "\n",
    "ngoRegistration1 = pd.read_csv('NgoRegistration.csv')\n",
    "ngoRegistration2 = pd.read_csv('NgoRegistration copy.csv')\n",
    "\n",
    "ngoFinance1 = pd.read_csv('NgoFinance.csv')\n",
    "\n",
    "# Concatenate the dataframes\n",
    "ngoBackground_final = pd.concat([ngoBackground1, ngoBackground2])\n",
    "ngoContact_final = pd.concat([ngoContact1, ngoContact2])\n",
    "ngoRegistration_final = pd.concat([ngoRegistration1, ngoRegistration2])\n",
    "ngoFinance_final = ngoFinance1  # as there is only one dataframe\n",
    "\n",
    "# Save the concatenated dataframes to new CSV files\n",
    "ngoBackground_final.to_csv('NgoBackground_final.csv', index=False)\n",
    "ngoContact_final.to_csv('NgoContact_final.csv', index=False)\n",
    "ngoRegistration_final.to_csv('NgoRegistration_final.csv', index=False)\n",
    "ngoFinance_final.to_csv('NgoFinance_final.csv', index=False)\n"
   ]
  },
  {
   "cell_type": "code",
   "execution_count": 3,
   "id": "82d0d53e-ea46-471b-bfbc-09f393155875",
   "metadata": {},
   "outputs": [
    {
     "name": "stdout",
     "output_type": "stream",
     "text": [
      "NgoBackground_final shape:  (85003, 11)\n",
      "NgoContact_final shape:  (112466, 36)\n",
      "NgoRegistration_final shape:  (112441, 25)\n",
      "NgoFinance_final shape:  (445, 26)\n"
     ]
    }
   ],
   "source": [
    "print(\"NgoBackground_final shape: \", ngoBackground_final.shape)\n",
    "print(\"NgoContact_final shape: \", ngoContact_final.shape)\n",
    "print(\"NgoRegistration_final shape: \", ngoRegistration_final.shape)\n",
    "print(\"NgoFinance_final shape: \", ngoFinance_final.shape)\n"
   ]
  },
  {
   "cell_type": "code",
   "execution_count": null,
   "id": "cccc3723-97bc-46e3-b1f7-04946c5aa96d",
   "metadata": {},
   "outputs": [],
   "source": []
  }
 ],
 "metadata": {
  "kernelspec": {
   "display_name": "Python 3 (ipykernel)",
   "language": "python",
   "name": "python3"
  },
  "language_info": {
   "codemirror_mode": {
    "name": "ipython",
    "version": 3
   },
   "file_extension": ".py",
   "mimetype": "text/x-python",
   "name": "python",
   "nbconvert_exporter": "python",
   "pygments_lexer": "ipython3",
   "version": "3.8.12"
  }
 },
 "nbformat": 4,
 "nbformat_minor": 5
}
