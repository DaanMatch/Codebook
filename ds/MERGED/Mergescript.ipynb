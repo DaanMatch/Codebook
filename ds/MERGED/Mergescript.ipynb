{
 "cells": [
  {
   "cell_type": "code",
   "execution_count": 5,
   "id": "ead36efd-9efc-45b9-9a5a-865e77124aed",
   "metadata": {},
   "outputs": [
    {
     "name": "stderr",
     "output_type": "stream",
     "text": [
      "/Applications/JupyterLab.app/Contents/Resources/jlab_server/lib/python3.8/site-packages/IPython/core/interactiveshell.py:3441: DtypeWarning: Columns (6) have mixed types.Specify dtype option on import or set low_memory=False.\n",
      "  exec(code_obj, self.user_global_ns, self.user_ns)\n",
      "/Applications/JupyterLab.app/Contents/Resources/jlab_server/lib/python3.8/site-packages/IPython/core/interactiveshell.py:3441: DtypeWarning: Columns (8) have mixed types.Specify dtype option on import or set low_memory=False.\n",
      "  exec(code_obj, self.user_global_ns, self.user_ns)\n",
      "/Applications/JupyterLab.app/Contents/Resources/jlab_server/lib/python3.8/site-packages/IPython/core/interactiveshell.py:3441: DtypeWarning: Columns (4,6,7,9,10,13,16,21) have mixed types.Specify dtype option on import or set low_memory=False.\n",
      "  exec(code_obj, self.user_global_ns, self.user_ns)\n"
     ]
    }
   ],
   "source": [
    "import pandas as pd\n",
    "\n",
    "# Load the CSV files\n",
    "ngoBackground1 = pd.read_csv('NgoBackground.csv')\n",
    "ngoBackground2 = pd.read_csv('NgoBackground_final.csv')\n",
    "\n",
    "ngoContact1 = pd.read_csv('NgoContact.csv')\n",
    "ngoContact2 = pd.read_csv('NgoContact_final.csv')\n",
    "\n",
    "ngoRegistration1 = pd.read_csv('NgoRegistration.csv')\n",
    "ngoRegistration2 = pd.read_csv('NgoRegistration_final.csv')\n",
    "\n",
    "ngoFinance1 = pd.read_csv('NgoFinance_final.csv')\n",
    "\n",
    "# Concatenate the dataframes\n",
    "ngoBackground_final = pd.concat([ngoBackground1, ngoBackground2])\n",
    "ngoContact_final = pd.concat([ngoContact1, ngoContact2])\n",
    "ngoRegistration_final = pd.concat([ngoRegistration1, ngoRegistration2])\n",
    "ngoFinance_final = ngoFinance1  # as there is only one dataframe\n",
    "\n",
    "# Save the concatenated dataframes to new CSV files\n",
    "ngoBackground_final.to_csv('NgoBackground_final.csv', index=False)\n",
    "ngoContact_final.to_csv('NgoContact_final.csv', index=False)\n",
    "ngoRegistration_final.to_csv('NgoRegistration_final.csv', index=False)\n",
    "ngoFinance_final.to_csv('NgoFinance_final.csv', index=False)\n"
   ]
  },
  {
   "cell_type": "code",
   "execution_count": 6,
   "id": "82d0d53e-ea46-471b-bfbc-09f393155875",
   "metadata": {},
   "outputs": [
    {
     "name": "stdout",
     "output_type": "stream",
     "text": [
      "NgoBackground_final shape:  (141184, 11)\n",
      "NgoContact_final shape:  (168647, 36)\n",
      "NgoRegistration_final shape:  (168622, 25)\n",
      "NgoFinance_final shape:  (445, 26)\n"
     ]
    }
   ],
   "source": [
    "print(\"NgoBackground_final shape: \", ngoBackground_final.shape)\n",
    "print(\"NgoContact_final shape: \", ngoContact_final.shape)\n",
    "print(\"NgoRegistration_final shape: \", ngoRegistration_final.shape)\n",
    "print(\"NgoFinance_final shape: \", ngoFinance_final.shape)"
   ]
  },
  {
   "cell_type": "code",
   "execution_count": null,
   "id": "cccc3723-97bc-46e3-b1f7-04946c5aa96d",
   "metadata": {},
   "outputs": [],
   "source": []
  }
 ],
 "metadata": {
  "kernelspec": {
   "display_name": "Python 3 (ipykernel)",
   "language": "python",
   "name": "python3"
  },
  "language_info": {
   "codemirror_mode": {
    "name": "ipython",
    "version": 3
   },
   "file_extension": ".py",
   "mimetype": "text/x-python",
   "name": "python",
   "nbconvert_exporter": "python",
   "pygments_lexer": "ipython3",
   "version": "3.8.12"
  }
 },
 "nbformat": 4,
 "nbformat_minor": 5
}
