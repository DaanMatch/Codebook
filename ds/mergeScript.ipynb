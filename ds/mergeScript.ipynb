{
 "cells": [
  {
   "cell_type": "code",
   "execution_count": 1,
   "id": "52e19ef4-9a76-4bad-874a-6c855972fe33",
   "metadata": {},
   "outputs": [],
   "source": [
    "import pandas as pd"
   ]
  },
  {
   "cell_type": "markdown",
   "id": "9de5451a-3e6c-4ec7-8b20-4f4fb12f2112",
   "metadata": {
    "tags": []
   },
   "source": [
    "# Load the CSV files\n",
    "ngoBackground1 = pd.read_csv('darpan_yijun/NgoBackground.csv')\n",
    "ngoBackground2 = pd.read_csv('ngo_impact_harish/NgoBackground.csv')\n",
    "ngoBackground3 = pd.read_csv('indiangolist_harish/NgoBackground.csv')\n",
    "ngoBackground4 = pd.read_csv('helpyourngo_michael/NgoBackground.csv')\n",
    "\n",
    "ngoContact1 = pd.read_csv('darpan_yijun/NgoContact.csv')\n",
    "ngoContact2 = pd.read_csv('ngo_impact_harish/NgoContact.csv')\n",
    "ngoContact3 = pd.read_csv('indiangolist_harish/NgoContact.csv')\n",
    "ngoContact4 = pd.read_csv('helpyourngo_michael/NgoContact.csv')\n",
    "\n",
    "ngoRegistration1 = pd.read_csv('darpan_yijun/NgoRegistration.csv')\n",
    "ngoRegistration2 = pd.read_csv('ngo_impact_harish/NgoRegistration.csv')\n",
    "ngoRegistration3 = pd.read_csv('indiangolist_harish/NgoRegistration.csv')\n",
    "\n",
    "ngoFinance1 = pd.read_csv('ngo_impact_harish/NgoFinance.csv')\n",
    "ngoFinance2 = pd.read_csv('helpyourngo_michael/NgoFinance.csv')\n",
    "\n",
    "# Concatenate the dataframes\n",
    "ngoBackground_merge = pd.concat([ngoBackground1, ngoBackground2, ngoBackground3, ngoBackground4])\n",
    "ngoContact_merge = pd.concat([ngoContact1, ngoContact2, ngoContact3, ngoContact4])\n",
    "ngoRegistration_merge = pd.concat([ngoRegistration1, ngoRegistration2, ngoRegistration3])\n",
    "ngoFinance_merge = pd.concat([ngoFinance1, ngoFinance2])"
   ]
  },
  {
   "cell_type": "code",
   "execution_count": 2,
   "id": "09552e20-b873-49a3-904c-9dd4d952777c",
   "metadata": {},
   "outputs": [
    {
     "ename": "FileNotFoundError",
     "evalue": "[Errno 2] No such file or directory: 'investIndia_connie/NgoBackground.csv'",
     "output_type": "error",
     "traceback": [
      "\u001b[0;31m---------------------------------------------------------------------------\u001b[0m",
      "\u001b[0;31mFileNotFoundError\u001b[0m                         Traceback (most recent call last)",
      "\u001b[0;32m/tmp/ipykernel_10795/47564921.py\u001b[0m in \u001b[0;36m<module>\u001b[0;34m\u001b[0m\n\u001b[1;32m      1\u001b[0m \u001b[0;31m# Load the CSV files\u001b[0m\u001b[0;34m\u001b[0m\u001b[0;34m\u001b[0m\u001b[0;34m\u001b[0m\u001b[0m\n\u001b[0;32m----> 2\u001b[0;31m \u001b[0mngoBackground1\u001b[0m \u001b[0;34m=\u001b[0m \u001b[0mpd\u001b[0m\u001b[0;34m.\u001b[0m\u001b[0mread_csv\u001b[0m\u001b[0;34m(\u001b[0m\u001b[0;34m'investIndia_connie/NgoBackground.csv'\u001b[0m\u001b[0;34m)\u001b[0m\u001b[0;34m\u001b[0m\u001b[0;34m\u001b[0m\u001b[0m\n\u001b[0m\u001b[1;32m      3\u001b[0m \u001b[0;34m\u001b[0m\u001b[0m\n\u001b[1;32m      4\u001b[0m \u001b[0mngoContact1\u001b[0m \u001b[0;34m=\u001b[0m \u001b[0mpd\u001b[0m\u001b[0;34m.\u001b[0m\u001b[0mread_csv\u001b[0m\u001b[0;34m(\u001b[0m\u001b[0;34m'investIndia_connie/NgoContact.csv'\u001b[0m\u001b[0;34m)\u001b[0m\u001b[0;34m\u001b[0m\u001b[0;34m\u001b[0m\u001b[0m\n\u001b[1;32m      5\u001b[0m \u001b[0;34m\u001b[0m\u001b[0m\n",
      "\u001b[0;32m/Applications/JupyterLab.app/Contents/Resources/jlab_server/lib/python3.8/site-packages/pandas/util/_decorators.py\u001b[0m in \u001b[0;36mwrapper\u001b[0;34m(*args, **kwargs)\u001b[0m\n\u001b[1;32m    309\u001b[0m                     \u001b[0mstacklevel\u001b[0m\u001b[0;34m=\u001b[0m\u001b[0mstacklevel\u001b[0m\u001b[0;34m,\u001b[0m\u001b[0;34m\u001b[0m\u001b[0;34m\u001b[0m\u001b[0m\n\u001b[1;32m    310\u001b[0m                 )\n\u001b[0;32m--> 311\u001b[0;31m             \u001b[0;32mreturn\u001b[0m \u001b[0mfunc\u001b[0m\u001b[0;34m(\u001b[0m\u001b[0;34m*\u001b[0m\u001b[0margs\u001b[0m\u001b[0;34m,\u001b[0m \u001b[0;34m**\u001b[0m\u001b[0mkwargs\u001b[0m\u001b[0;34m)\u001b[0m\u001b[0;34m\u001b[0m\u001b[0;34m\u001b[0m\u001b[0m\n\u001b[0m\u001b[1;32m    312\u001b[0m \u001b[0;34m\u001b[0m\u001b[0m\n\u001b[1;32m    313\u001b[0m         \u001b[0;32mreturn\u001b[0m \u001b[0mwrapper\u001b[0m\u001b[0;34m\u001b[0m\u001b[0;34m\u001b[0m\u001b[0m\n",
      "\u001b[0;32m/Applications/JupyterLab.app/Contents/Resources/jlab_server/lib/python3.8/site-packages/pandas/io/parsers/readers.py\u001b[0m in \u001b[0;36mread_csv\u001b[0;34m(filepath_or_buffer, sep, delimiter, header, names, index_col, usecols, squeeze, prefix, mangle_dupe_cols, dtype, engine, converters, true_values, false_values, skipinitialspace, skiprows, skipfooter, nrows, na_values, keep_default_na, na_filter, verbose, skip_blank_lines, parse_dates, infer_datetime_format, keep_date_col, date_parser, dayfirst, cache_dates, iterator, chunksize, compression, thousands, decimal, lineterminator, quotechar, quoting, doublequote, escapechar, comment, encoding, encoding_errors, dialect, error_bad_lines, warn_bad_lines, on_bad_lines, delim_whitespace, low_memory, memory_map, float_precision, storage_options)\u001b[0m\n\u001b[1;32m    584\u001b[0m     \u001b[0mkwds\u001b[0m\u001b[0;34m.\u001b[0m\u001b[0mupdate\u001b[0m\u001b[0;34m(\u001b[0m\u001b[0mkwds_defaults\u001b[0m\u001b[0;34m)\u001b[0m\u001b[0;34m\u001b[0m\u001b[0;34m\u001b[0m\u001b[0m\n\u001b[1;32m    585\u001b[0m \u001b[0;34m\u001b[0m\u001b[0m\n\u001b[0;32m--> 586\u001b[0;31m     \u001b[0;32mreturn\u001b[0m \u001b[0m_read\u001b[0m\u001b[0;34m(\u001b[0m\u001b[0mfilepath_or_buffer\u001b[0m\u001b[0;34m,\u001b[0m \u001b[0mkwds\u001b[0m\u001b[0;34m)\u001b[0m\u001b[0;34m\u001b[0m\u001b[0;34m\u001b[0m\u001b[0m\n\u001b[0m\u001b[1;32m    587\u001b[0m \u001b[0;34m\u001b[0m\u001b[0m\n\u001b[1;32m    588\u001b[0m \u001b[0;34m\u001b[0m\u001b[0m\n",
      "\u001b[0;32m/Applications/JupyterLab.app/Contents/Resources/jlab_server/lib/python3.8/site-packages/pandas/io/parsers/readers.py\u001b[0m in \u001b[0;36m_read\u001b[0;34m(filepath_or_buffer, kwds)\u001b[0m\n\u001b[1;32m    480\u001b[0m \u001b[0;34m\u001b[0m\u001b[0m\n\u001b[1;32m    481\u001b[0m     \u001b[0;31m# Create the parser.\u001b[0m\u001b[0;34m\u001b[0m\u001b[0;34m\u001b[0m\u001b[0;34m\u001b[0m\u001b[0m\n\u001b[0;32m--> 482\u001b[0;31m     \u001b[0mparser\u001b[0m \u001b[0;34m=\u001b[0m \u001b[0mTextFileReader\u001b[0m\u001b[0;34m(\u001b[0m\u001b[0mfilepath_or_buffer\u001b[0m\u001b[0;34m,\u001b[0m \u001b[0;34m**\u001b[0m\u001b[0mkwds\u001b[0m\u001b[0;34m)\u001b[0m\u001b[0;34m\u001b[0m\u001b[0;34m\u001b[0m\u001b[0m\n\u001b[0m\u001b[1;32m    483\u001b[0m \u001b[0;34m\u001b[0m\u001b[0m\n\u001b[1;32m    484\u001b[0m     \u001b[0;32mif\u001b[0m \u001b[0mchunksize\u001b[0m \u001b[0;32mor\u001b[0m \u001b[0miterator\u001b[0m\u001b[0;34m:\u001b[0m\u001b[0;34m\u001b[0m\u001b[0;34m\u001b[0m\u001b[0m\n",
      "\u001b[0;32m/Applications/JupyterLab.app/Contents/Resources/jlab_server/lib/python3.8/site-packages/pandas/io/parsers/readers.py\u001b[0m in \u001b[0;36m__init__\u001b[0;34m(self, f, engine, **kwds)\u001b[0m\n\u001b[1;32m    809\u001b[0m             \u001b[0mself\u001b[0m\u001b[0;34m.\u001b[0m\u001b[0moptions\u001b[0m\u001b[0;34m[\u001b[0m\u001b[0;34m\"has_index_names\"\u001b[0m\u001b[0;34m]\u001b[0m \u001b[0;34m=\u001b[0m \u001b[0mkwds\u001b[0m\u001b[0;34m[\u001b[0m\u001b[0;34m\"has_index_names\"\u001b[0m\u001b[0;34m]\u001b[0m\u001b[0;34m\u001b[0m\u001b[0;34m\u001b[0m\u001b[0m\n\u001b[1;32m    810\u001b[0m \u001b[0;34m\u001b[0m\u001b[0m\n\u001b[0;32m--> 811\u001b[0;31m         \u001b[0mself\u001b[0m\u001b[0;34m.\u001b[0m\u001b[0m_engine\u001b[0m \u001b[0;34m=\u001b[0m \u001b[0mself\u001b[0m\u001b[0;34m.\u001b[0m\u001b[0m_make_engine\u001b[0m\u001b[0;34m(\u001b[0m\u001b[0mself\u001b[0m\u001b[0;34m.\u001b[0m\u001b[0mengine\u001b[0m\u001b[0;34m)\u001b[0m\u001b[0;34m\u001b[0m\u001b[0;34m\u001b[0m\u001b[0m\n\u001b[0m\u001b[1;32m    812\u001b[0m \u001b[0;34m\u001b[0m\u001b[0m\n\u001b[1;32m    813\u001b[0m     \u001b[0;32mdef\u001b[0m \u001b[0mclose\u001b[0m\u001b[0;34m(\u001b[0m\u001b[0mself\u001b[0m\u001b[0;34m)\u001b[0m\u001b[0;34m:\u001b[0m\u001b[0;34m\u001b[0m\u001b[0;34m\u001b[0m\u001b[0m\n",
      "\u001b[0;32m/Applications/JupyterLab.app/Contents/Resources/jlab_server/lib/python3.8/site-packages/pandas/io/parsers/readers.py\u001b[0m in \u001b[0;36m_make_engine\u001b[0;34m(self, engine)\u001b[0m\n\u001b[1;32m   1038\u001b[0m             )\n\u001b[1;32m   1039\u001b[0m         \u001b[0;31m# error: Too many arguments for \"ParserBase\"\u001b[0m\u001b[0;34m\u001b[0m\u001b[0;34m\u001b[0m\u001b[0;34m\u001b[0m\u001b[0m\n\u001b[0;32m-> 1040\u001b[0;31m         \u001b[0;32mreturn\u001b[0m \u001b[0mmapping\u001b[0m\u001b[0;34m[\u001b[0m\u001b[0mengine\u001b[0m\u001b[0;34m]\u001b[0m\u001b[0;34m(\u001b[0m\u001b[0mself\u001b[0m\u001b[0;34m.\u001b[0m\u001b[0mf\u001b[0m\u001b[0;34m,\u001b[0m \u001b[0;34m**\u001b[0m\u001b[0mself\u001b[0m\u001b[0;34m.\u001b[0m\u001b[0moptions\u001b[0m\u001b[0;34m)\u001b[0m  \u001b[0;31m# type: ignore[call-arg]\u001b[0m\u001b[0;34m\u001b[0m\u001b[0;34m\u001b[0m\u001b[0m\n\u001b[0m\u001b[1;32m   1041\u001b[0m \u001b[0;34m\u001b[0m\u001b[0m\n\u001b[1;32m   1042\u001b[0m     \u001b[0;32mdef\u001b[0m \u001b[0m_failover_to_python\u001b[0m\u001b[0;34m(\u001b[0m\u001b[0mself\u001b[0m\u001b[0;34m)\u001b[0m\u001b[0;34m:\u001b[0m\u001b[0;34m\u001b[0m\u001b[0;34m\u001b[0m\u001b[0m\n",
      "\u001b[0;32m/Applications/JupyterLab.app/Contents/Resources/jlab_server/lib/python3.8/site-packages/pandas/io/parsers/c_parser_wrapper.py\u001b[0m in \u001b[0;36m__init__\u001b[0;34m(self, src, **kwds)\u001b[0m\n\u001b[1;32m     49\u001b[0m \u001b[0;34m\u001b[0m\u001b[0m\n\u001b[1;32m     50\u001b[0m         \u001b[0;31m# open handles\u001b[0m\u001b[0;34m\u001b[0m\u001b[0;34m\u001b[0m\u001b[0;34m\u001b[0m\u001b[0m\n\u001b[0;32m---> 51\u001b[0;31m         \u001b[0mself\u001b[0m\u001b[0;34m.\u001b[0m\u001b[0m_open_handles\u001b[0m\u001b[0;34m(\u001b[0m\u001b[0msrc\u001b[0m\u001b[0;34m,\u001b[0m \u001b[0mkwds\u001b[0m\u001b[0;34m)\u001b[0m\u001b[0;34m\u001b[0m\u001b[0;34m\u001b[0m\u001b[0m\n\u001b[0m\u001b[1;32m     52\u001b[0m         \u001b[0;32massert\u001b[0m \u001b[0mself\u001b[0m\u001b[0;34m.\u001b[0m\u001b[0mhandles\u001b[0m \u001b[0;32mis\u001b[0m \u001b[0;32mnot\u001b[0m \u001b[0;32mNone\u001b[0m\u001b[0;34m\u001b[0m\u001b[0;34m\u001b[0m\u001b[0m\n\u001b[1;32m     53\u001b[0m \u001b[0;34m\u001b[0m\u001b[0m\n",
      "\u001b[0;32m/Applications/JupyterLab.app/Contents/Resources/jlab_server/lib/python3.8/site-packages/pandas/io/parsers/base_parser.py\u001b[0m in \u001b[0;36m_open_handles\u001b[0;34m(self, src, kwds)\u001b[0m\n\u001b[1;32m    220\u001b[0m         \u001b[0mLet\u001b[0m \u001b[0mthe\u001b[0m \u001b[0mreaders\u001b[0m \u001b[0mopen\u001b[0m \u001b[0mIOHandles\u001b[0m \u001b[0mafter\u001b[0m \u001b[0mthey\u001b[0m \u001b[0mare\u001b[0m \u001b[0mdone\u001b[0m \u001b[0;32mwith\u001b[0m \u001b[0mtheir\u001b[0m \u001b[0mpotential\u001b[0m \u001b[0mraises\u001b[0m\u001b[0;34m.\u001b[0m\u001b[0;34m\u001b[0m\u001b[0;34m\u001b[0m\u001b[0m\n\u001b[1;32m    221\u001b[0m         \"\"\"\n\u001b[0;32m--> 222\u001b[0;31m         self.handles = get_handle(\n\u001b[0m\u001b[1;32m    223\u001b[0m             \u001b[0msrc\u001b[0m\u001b[0;34m,\u001b[0m\u001b[0;34m\u001b[0m\u001b[0;34m\u001b[0m\u001b[0m\n\u001b[1;32m    224\u001b[0m             \u001b[0;34m\"r\"\u001b[0m\u001b[0;34m,\u001b[0m\u001b[0;34m\u001b[0m\u001b[0;34m\u001b[0m\u001b[0m\n",
      "\u001b[0;32m/Applications/JupyterLab.app/Contents/Resources/jlab_server/lib/python3.8/site-packages/pandas/io/common.py\u001b[0m in \u001b[0;36mget_handle\u001b[0;34m(path_or_buf, mode, encoding, compression, memory_map, is_text, errors, storage_options)\u001b[0m\n\u001b[1;32m    700\u001b[0m         \u001b[0;32mif\u001b[0m \u001b[0mioargs\u001b[0m\u001b[0;34m.\u001b[0m\u001b[0mencoding\u001b[0m \u001b[0;32mand\u001b[0m \u001b[0;34m\"b\"\u001b[0m \u001b[0;32mnot\u001b[0m \u001b[0;32min\u001b[0m \u001b[0mioargs\u001b[0m\u001b[0;34m.\u001b[0m\u001b[0mmode\u001b[0m\u001b[0;34m:\u001b[0m\u001b[0;34m\u001b[0m\u001b[0;34m\u001b[0m\u001b[0m\n\u001b[1;32m    701\u001b[0m             \u001b[0;31m# Encoding\u001b[0m\u001b[0;34m\u001b[0m\u001b[0;34m\u001b[0m\u001b[0;34m\u001b[0m\u001b[0m\n\u001b[0;32m--> 702\u001b[0;31m             handle = open(\n\u001b[0m\u001b[1;32m    703\u001b[0m                 \u001b[0mhandle\u001b[0m\u001b[0;34m,\u001b[0m\u001b[0;34m\u001b[0m\u001b[0;34m\u001b[0m\u001b[0m\n\u001b[1;32m    704\u001b[0m                 \u001b[0mioargs\u001b[0m\u001b[0;34m.\u001b[0m\u001b[0mmode\u001b[0m\u001b[0;34m,\u001b[0m\u001b[0;34m\u001b[0m\u001b[0;34m\u001b[0m\u001b[0m\n",
      "\u001b[0;31mFileNotFoundError\u001b[0m: [Errno 2] No such file or directory: 'investIndia_connie/NgoBackground.csv'"
     ]
    }
   ],
   "source": [
    "# Load the CSV files\n",
    "ngoBackground1 = pd.read_csv('giveIndia_connie/NgoBackground.csv')\n",
    "\n",
    "ngoContact1 = pd.read_csv('giveIndia_connie/NgoContact.csv')\n",
    "\n",
    "ngoRegistration1 = pd.read_csv('giveIndia_connie/NgoRegistration.csv')\n",
    "\n",
    "# Concatenate the dataframes\n",
    "ngoBackground_merge = pd.concat([ngoBackground1, ngoBackground2, ngoBackground3, ngoBackground4])\n",
    "ngoContact_merge = pd.concat([ngoContact1, ngoContact2, ngoContact3, ngoContact4])\n",
    "ngoRegistration_merge = pd.concat([ngoRegistration1, ngoRegistration2, ngoRegistration3])\n",
    "#ngoFinance_merge = pd.concat([ngoFinance1, ngoFinance2])"
   ]
  },
  {
   "cell_type": "code",
   "execution_count": 97,
   "id": "5115ef7c-3b93-4f39-ab3f-0fbaf762171d",
   "metadata": {},
   "outputs": [
    {
     "name": "stdout",
     "output_type": "stream",
     "text": [
      "(141872, 11)\n",
      "(169335, 35)\n",
      "(168622, 25)\n",
      "(1133, 26)\n"
     ]
    }
   ],
   "source": [
    "ngoBackground_final = ngoBackground_merge.copy()\n",
    "ngoContact_final = ngoContact_merge.copy()\n",
    "ngoRegistration_final = ngoRegistration_merge.copy()\n",
    "ngoFinance_final = ngoFinance_merge.copy()\n",
    "\n",
    "print(ngoBackground_final.shape)\n",
    "print(ngoContact_final.shape)\n",
    "print(ngoRegistration_final.shape)\n",
    "print(ngoFinance_final.shape)"
   ]
  },
  {
   "cell_type": "code",
   "execution_count": 98,
   "id": "3ada0fc2-70c4-4ee4-8233-26b98a083898",
   "metadata": {},
   "outputs": [],
   "source": [
    "# Drop duplicates and keep the first occurrence of each DataFrame individually\n",
    "ngoBackground_final = ngoBackground_final.drop_duplicates()\n",
    "ngoBackground_final = ngoBackground_final.drop_duplicates(subset='ngoId', keep='first')\n",
    "ngoBackground_final['is_duplicate'] = ngoBackground_final.duplicated(subset=ngoBackground_final.columns.difference(['ngoId']), keep=False)\n",
    "ngoBackground_final = ngoBackground_final[~ngoBackground_final['is_duplicate']]\n",
    "ngoBackground_final = ngoBackground_final.drop('is_duplicate', axis=1)\n",
    "\n",
    "ngoContact_final = ngoContact_final.drop_duplicates()\n",
    "ngoContact_final = ngoContact_final.drop_duplicates(subset='ngoId', keep='first')\n",
    "ngoContact_final['is_duplicate'] = ngoContact_final.duplicated(subset=ngoContact_final.columns.difference(['ngoId']), keep=False)\n",
    "ngoContact_final = ngoContact_final[~ngoContact_final['is_duplicate']]\n",
    "ngoContact_final = ngoContact_final.drop('is_duplicate', axis=1)\n",
    "\n",
    "ngoRegistration_final = ngoRegistration_final.drop_duplicates()\n",
    "ngoRegistration_final = ngoRegistration_final.drop_duplicates(subset='ngoId', keep='first')\n",
    "ngoRegistration_final['is_duplicate'] = ngoRegistration_final.duplicated(subset=ngoRegistration_final.columns.difference(['ngoId']), keep=False)\n",
    "ngoRegistration_final = ngoRegistration_final[~ngoRegistration_final['is_duplicate']]\n",
    "ngoRegistration_final = ngoRegistration_final.drop('is_duplicate', axis=1)\n",
    "\n",
    "ngoFinance_final = ngoFinance_final.drop_duplicates()\n",
    "ngoFinance_final = ngoFinance_final.drop_duplicates(subset='ngoId', keep='first')\n",
    "ngoFinance_final['is_duplicate'] = ngoFinance_final.duplicated(subset=ngoFinance_final.columns.difference(['ngoId']), keep=False)\n",
    "ngoFinance_final = ngoFinance_final[~ngoFinance_final['is_duplicate']]\n",
    "ngoFinance_final = ngoFinance_final.drop('is_duplicate', axis=1)\n"
   ]
  },
  {
   "cell_type": "code",
   "execution_count": 99,
   "id": "bf8740cd-98ae-4616-8a02-411bdb8c87a8",
   "metadata": {},
   "outputs": [
    {
     "name": "stdout",
     "output_type": "stream",
     "text": [
      "(117397, 11)\n",
      "(150247, 35)\n",
      "(137437, 25)\n",
      "(948, 26)\n"
     ]
    }
   ],
   "source": [
    "print(ngoBackground_final.shape)\n",
    "print(ngoContact_final.shape)\n",
    "print(ngoRegistration_final.shape)\n",
    "print(ngoFinance_final.shape)"
   ]
  },
  {
   "cell_type": "code",
   "execution_count": 100,
   "id": "63e1c0b8-57af-49d3-bb93-aa06be5e04c5",
   "metadata": {},
   "outputs": [],
   "source": [
    "# Save the concatenated dataframes to new CSV files\n",
    "ngoBackground_final.to_csv('MERGED/NgoBackground_final.csv', index=False)\n",
    "ngoContact_final.to_csv('MERGED/NgoContact_final.csv', index=False)\n",
    "ngoRegistration_final.to_csv('MERGED/NgoRegistration_final.csv', index=False)\n",
    "ngoFinance_final.to_csv('MERGED/NgoFinance_final.csv', index=False)"
   ]
  },
  {
   "cell_type": "code",
   "execution_count": null,
   "id": "c62c2a2d-77d1-4cca-b979-c65c7e4d7729",
   "metadata": {},
   "outputs": [],
   "source": []
  }
 ],
 "metadata": {
  "kernelspec": {
   "display_name": "Python 3 (ipykernel)",
   "language": "python",
   "name": "python3"
  },
  "language_info": {
   "codemirror_mode": {
    "name": "ipython",
    "version": 3
   },
   "file_extension": ".py",
   "mimetype": "text/x-python",
   "name": "python",
   "nbconvert_exporter": "python",
   "pygments_lexer": "ipython3",
   "version": "3.8.12"
  }
 },
 "nbformat": 4,
 "nbformat_minor": 5
}
