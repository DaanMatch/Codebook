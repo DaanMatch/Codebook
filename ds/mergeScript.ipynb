{
 "cells": [
  {
   "cell_type": "code",
   "execution_count": 3,
   "id": "351b0dba-d31d-4649-9b77-1a83de7ceb76",
   "metadata": {},
   "outputs": [],
   "source": [
    "import pandas as pd\n",
    "\n",
    "# Load the CSV files\n",
    "ngoBackground1 = pd.read_csv('darpan_yijun/NgoBackground.csv')\n",
    "ngoBackground2 = pd.read_csv('ngo_impact_harish/NgoBackground.csv')\n",
    "ngoBackground3 = pd.read_csv('indiangolist_harish/NgoBackground.csv')\n",
    "\n",
    "ngoContact1 = pd.read_csv('darpan_yijun/NgoContact.csv')\n",
    "ngoContact2 = pd.read_csv('ngo_impact_harish/NgoContact.csv')\n",
    "ngoContact3 = pd.read_csv('indiangolist_harish/NgoContact.csv')\n",
    "\n",
    "ngoRegistration1 = pd.read_csv('darpan_yijun/NgoRegistration.csv')\n",
    "ngoRegistration2 = pd.read_csv('ngo_impact_harish/NgoRegistration.csv')\n",
    "ngoRegistration3 = pd.read_csv('indiangolist_harish/NgoRegistration.csv')\n",
    "\n",
    "ngoFinance1 = pd.read_csv('ngo_impact_harish/NgoFinance.csv')\n",
    "\n",
    "# Concatenate the dataframes\n",
    "ngoBackground_final = pd.concat([ngoBackground1, ngoBackground2, ngoBackground3])\n",
    "ngoContact_final = pd.concat([ngoContact1, ngoContact2, ngoContact3])\n",
    "ngoRegistration_final = pd.concat([ngoRegistration1, ngoRegistration2, ngoRegistration3])\n",
    "ngoFinance_final = ngoFinance1  # as there is only one dataframe\n",
    "\n",
    "# Save the concatenated dataframes to new CSV files\n",
    "ngoBackground_final.to_csv('MERGED/NgoBackground_final.csv', index=False)\n",
    "ngoContact_final.to_csv('MERGED/NgoContact_final.csv', index=False)\n",
    "ngoRegistration_final.to_csv('MERGED/NgoRegistration_final.csv', index=False)\n",
    "ngoFinance_final.to_csv('MERGED/NgoFinance_final.csv', index=False)"
   ]
  },
  {
   "cell_type": "code",
   "execution_count": null,
   "id": "2b0f170a-4218-47b4-9d8a-e5dfa7f9ee5c",
   "metadata": {},
   "outputs": [],
   "source": []
  }
 ],
 "metadata": {
  "kernelspec": {
   "display_name": "Python 3 (ipykernel)",
   "language": "python",
   "name": "python3"
  },
  "language_info": {
   "codemirror_mode": {
    "name": "ipython",
    "version": 3
   },
   "file_extension": ".py",
   "mimetype": "text/x-python",
   "name": "python",
   "nbconvert_exporter": "python",
   "pygments_lexer": "ipython3",
   "version": "3.8.12"
  }
 },
 "nbformat": 4,
 "nbformat_minor": 5
}
