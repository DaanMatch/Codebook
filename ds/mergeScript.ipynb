{
 "cells": [
  {
   "cell_type": "code",
   "execution_count": 21,
   "id": "351b0dba-d31d-4649-9b77-1a83de7ceb76",
   "metadata": {},
   "outputs": [],
   "source": [
    "import pandas as pd\n",
    "\n",
    "# Load the CSV files\n",
    "ngoBackground1 = pd.read_csv('darpan_yijun/NgoBackground.csv')\n",
    "ngoBackground2 = pd.read_csv('ngo_impact_harish/NgoBackground.csv')\n",
    "ngoBackground3 = pd.read_csv('indiangolist_harish/NgoBackground.csv')\n",
    "ngoBackground4 = pd.read_csv('helpyourngo_michael/NgoBackground.csv')\n",
    "\n",
    "ngoContact1 = pd.read_csv('darpan_yijun/NgoContact.csv')\n",
    "ngoContact2 = pd.read_csv('ngo_impact_harish/NgoContact.csv')\n",
    "ngoContact3 = pd.read_csv('indiangolist_harish/NgoContact.csv')\n",
    "ngoContact4 = pd.read_csv('helpyourngo_michael/NgoContact.csv')\n",
    "\n",
    "ngoRegistration1 = pd.read_csv('darpan_yijun/NgoRegistration.csv')\n",
    "ngoRegistration2 = pd.read_csv('ngo_impact_harish/NgoRegistration.csv')\n",
    "ngoRegistration3 = pd.read_csv('indiangolist_harish/NgoRegistration.csv')\n",
    "\n",
    "ngoFinance1 = pd.read_csv('ngo_impact_harish/NgoFinance.csv')\n",
    "ngoFinance2 = pd.read_csv('helpyourngo_michael/NgoFinance.csv')\n",
    "\n",
    "# Concatenate the dataframes\n",
    "ngoBackground_final = pd.concat([ngoBackground1, ngoBackground2, ngoBackground3, ngoBackground4])\n",
    "ngoContact_final = pd.concat([ngoContact1, ngoContact2, ngoContact3, ngoContact4])\n",
    "ngoRegistration_final = pd.concat([ngoRegistration1, ngoRegistration2, ngoRegistration3])\n",
    "ngoFinance_final = pd.concat([ngoFinance1, ngoFinance2])\n",
    "\n",
    "# Drop duplicates\n",
    "ngoBackground_final= ngoBackground_final.drop_duplicates()\n",
    "ngoContact_final= ngoContact_final.drop_duplicates()\n",
    "ngoRegistration_final= ngoRegistration_final.drop_duplicates()\n",
    "ngoFinance_final= ngoFinance_final.drop_duplicates()\n",
    "\n",
    "# Save the concatenated dataframes to new CSV files\n",
    "ngoBackground_final.to_csv('MERGED/NgoBackground_final.csv', index=False)\n",
    "ngoContact_final.to_csv('MERGED/NgoContact_final.csv', index=False)\n",
    "ngoRegistration_final.to_csv('MERGED/NgoRegistration_final.csv', index=False)\n",
    "ngoFinance_final.to_csv('MERGED/NgoFinance_final.csv', index=False)"
   ]
  },
  {
   "cell_type": "code",
   "execution_count": 22,
   "id": "2b0f170a-4218-47b4-9d8a-e5dfa7f9ee5c",
   "metadata": {},
   "outputs": [
    {
     "data": {
      "text/html": [
       "<div>\n",
       "<style scoped>\n",
       "    .dataframe tbody tr th:only-of-type {\n",
       "        vertical-align: middle;\n",
       "    }\n",
       "\n",
       "    .dataframe tbody tr th {\n",
       "        vertical-align: top;\n",
       "    }\n",
       "\n",
       "    .dataframe thead th {\n",
       "        text-align: right;\n",
       "    }\n",
       "</style>\n",
       "<table border=\"1\" class=\"dataframe\">\n",
       "  <thead>\n",
       "    <tr style=\"text-align: right;\">\n",
       "      <th></th>\n",
       "      <th>ngoId</th>\n",
       "      <th>ngoName</th>\n",
       "      <th>orgEmail</th>\n",
       "      <th>officePhone</th>\n",
       "      <th>primaryPoc</th>\n",
       "      <th>primaryPocPhone</th>\n",
       "      <th>secondaryPoc</th>\n",
       "      <th>secondaryPocPhone</th>\n",
       "      <th>mailingAddress</th>\n",
       "      <th>physicalAddress</th>\n",
       "      <th>...</th>\n",
       "      <th>chairmanEmail</th>\n",
       "      <th>viceChairmanName</th>\n",
       "      <th>viceChairmanMobile</th>\n",
       "      <th>viceChairmanEmail</th>\n",
       "      <th>secretaryName</th>\n",
       "      <th>secretaryMobile</th>\n",
       "      <th>secretaryEmail</th>\n",
       "      <th>assistantSecretaryName</th>\n",
       "      <th>assistantSecretaryMobile</th>\n",
       "      <th>assistantSecretaryEmail</th>\n",
       "    </tr>\n",
       "  </thead>\n",
       "  <tbody>\n",
       "  </tbody>\n",
       "</table>\n",
       "<p>0 rows × 35 columns</p>\n",
       "</div>"
      ],
      "text/plain": [
       "Empty DataFrame\n",
       "Columns: [ngoId, ngoName, orgEmail, officePhone, primaryPoc, primaryPocPhone, secondaryPoc, secondaryPocPhone, mailingAddress, physicalAddress, fieldOffices, orgType, orgWebsite, websiteIsValid, facebook, twitter, iInstagram, youtube, whatsapp, otherSocials, scrapeSource, executiveDirector, technicalSupport, chairmanName, chairmanMobile, chairmanEmail, viceChairmanName, viceChairmanMobile, viceChairmanEmail, secretaryName, secretaryMobile, secretaryEmail, assistantSecretaryName, assistantSecretaryMobile, assistantSecretaryEmail]\n",
       "Index: []\n",
       "\n",
       "[0 rows x 35 columns]"
      ]
     },
     "execution_count": 22,
     "metadata": {},
     "output_type": "execute_result"
    }
   ],
   "source": [
    "ngoContact_final[ngoContact_final.duplicated()]"
   ]
  },
  {
   "cell_type": "code",
   "execution_count": null,
   "id": "e7a0eff2-09a1-4d6e-be2b-2c2171c7facf",
   "metadata": {},
   "outputs": [],
   "source": []
  }
 ],
 "metadata": {
  "kernelspec": {
   "display_name": "Python 3 (ipykernel)",
   "language": "python",
   "name": "python3"
  },
  "language_info": {
   "codemirror_mode": {
    "name": "ipython",
    "version": 3
   },
   "file_extension": ".py",
   "mimetype": "text/x-python",
   "name": "python",
   "nbconvert_exporter": "python",
   "pygments_lexer": "ipython3",
   "version": "3.8.12"
  }
 },
 "nbformat": 4,
 "nbformat_minor": 5
}
