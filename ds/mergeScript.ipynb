{
 "cells": [
  {
   "cell_type": "code",
   "execution_count": 52,
   "id": "351b0dba-d31d-4649-9b77-1a83de7ceb76",
   "metadata": {},
   "outputs": [],
   "source": [
    "import pandas as pd\n",
    "\n",
    "# Load the CSV files\n",
    "ngoBackground1 = pd.read_csv('darpan_yijun/NgoBackground.csv')\n",
    "ngoBackground2 = pd.read_csv('ngo_impact_harish/NgoBackground.csv')\n",
    "ngoBackground3 = pd.read_csv('indiangolist_harish/NgoBackground.csv')\n",
    "ngoBackground4 = pd.read_csv('helpyourngo_michael/NgoBackground.csv')\n",
    "\n",
    "ngoContact1 = pd.read_csv('darpan_yijun/NgoContact.csv')\n",
    "ngoContact2 = pd.read_csv('ngo_impact_harish/NgoContact.csv')\n",
    "ngoContact3 = pd.read_csv('indiangolist_harish/NgoContact.csv')\n",
    "ngoContact4 = pd.read_csv('helpyourngo_michael/NgoContact.csv')\n",
    "\n",
    "ngoRegistration1 = pd.read_csv('darpan_yijun/NgoRegistration.csv')\n",
    "ngoRegistration2 = pd.read_csv('ngo_impact_harish/NgoRegistration.csv')\n",
    "ngoRegistration3 = pd.read_csv('indiangolist_harish/NgoRegistration.csv')\n",
    "\n",
    "ngoFinance1 = pd.read_csv('ngo_impact_harish/NgoFinance.csv')\n",
    "ngoFinance2 = pd.read_csv('helpyourngo_michael/NgoFinance.csv')\n",
    "\n",
    "# Concatenate the dataframes\n",
    "ngoBackground_merge = pd.concat([ngoBackground1, ngoBackground2, ngoBackground3, ngoBackground4])\n",
    "ngoContact_merge = pd.concat([ngoContact1, ngoContact2, ngoContact3, ngoContact4])\n",
    "ngoRegistration_merge = pd.concat([ngoRegistration1, ngoRegistration2, ngoRegistration3])\n",
    "ngoFinance_merge = pd.concat([ngoFinance1, ngoFinance2])"
   ]
  },
  {
   "cell_type": "code",
   "execution_count": 97,
   "id": "5115ef7c-3b93-4f39-ab3f-0fbaf762171d",
   "metadata": {},
   "outputs": [
    {
     "name": "stdout",
     "output_type": "stream",
     "text": [
      "(141872, 11)\n",
      "(169335, 35)\n",
      "(168622, 25)\n",
      "(1133, 26)\n"
     ]
    }
   ],
   "source": [
    "ngoBackground_final = ngoBackground_merge.copy()\n",
    "ngoContact_final = ngoContact_merge.copy()\n",
    "ngoRegistration_final = ngoRegistration_merge.copy()\n",
    "ngoFinance_final = ngoFinance_merge.copy()\n",
    "\n",
    "print(ngoBackground_final.shape)\n",
    "print(ngoContact_final.shape)\n",
    "print(ngoRegistration_final.shape)\n",
    "print(ngoFinance_final.shape)"
   ]
  },
  {
   "cell_type": "code",
   "execution_count": 98,
   "id": "3ada0fc2-70c4-4ee4-8233-26b98a083898",
   "metadata": {},
   "outputs": [],
   "source": [
    "# Drop duplicates and keep the first occurrence of each DataFrame individually\n",
    "ngoBackground_final = ngoBackground_final.drop_duplicates()\n",
    "ngoBackground_final = ngoBackground_final.drop_duplicates(subset='ngoId', keep='first')\n",
    "ngoBackground_final['is_duplicate'] = ngoBackground_final.duplicated(subset=ngoBackground_final.columns.difference(['ngoId']), keep=False)\n",
    "ngoBackground_final = ngoBackground_final[~ngoBackground_final['is_duplicate']]\n",
    "ngoBackground_final = ngoBackground_final.drop('is_duplicate', axis=1)\n",
    "\n",
    "ngoContact_final = ngoContact_final.drop_duplicates()\n",
    "ngoContact_final = ngoContact_final.drop_duplicates(subset='ngoId', keep='first')\n",
    "ngoContact_final['is_duplicate'] = ngoContact_final.duplicated(subset=ngoContact_final.columns.difference(['ngoId']), keep=False)\n",
    "ngoContact_final = ngoContact_final[~ngoContact_final['is_duplicate']]\n",
    "ngoContact_final = ngoContact_final.drop('is_duplicate', axis=1)\n",
    "\n",
    "ngoRegistration_final = ngoRegistration_final.drop_duplicates()\n",
    "ngoRegistration_final = ngoRegistration_final.drop_duplicates(subset='ngoId', keep='first')\n",
    "ngoRegistration_final['is_duplicate'] = ngoRegistration_final.duplicated(subset=ngoRegistration_final.columns.difference(['ngoId']), keep=False)\n",
    "ngoRegistration_final = ngoRegistration_final[~ngoRegistration_final['is_duplicate']]\n",
    "ngoRegistration_final = ngoRegistration_final.drop('is_duplicate', axis=1)\n",
    "\n",
    "ngoFinance_final = ngoFinance_final.drop_duplicates()\n",
    "ngoFinance_final = ngoFinance_final.drop_duplicates(subset='ngoId', keep='first')\n",
    "ngoFinance_final['is_duplicate'] = ngoFinance_final.duplicated(subset=ngoFinance_final.columns.difference(['ngoId']), keep=False)\n",
    "ngoFinance_final = ngoFinance_final[~ngoFinance_final['is_duplicate']]\n",
    "ngoFinance_final = ngoFinance_final.drop('is_duplicate', axis=1)\n"
   ]
  },
  {
   "cell_type": "code",
   "execution_count": 99,
   "id": "bf8740cd-98ae-4616-8a02-411bdb8c87a8",
   "metadata": {},
   "outputs": [
    {
     "name": "stdout",
     "output_type": "stream",
     "text": [
      "(117397, 11)\n",
      "(150247, 35)\n",
      "(137437, 25)\n",
      "(948, 26)\n"
     ]
    }
   ],
   "source": [
    "print(ngoBackground_final.shape)\n",
    "print(ngoContact_final.shape)\n",
    "print(ngoRegistration_final.shape)\n",
    "print(ngoFinance_final.shape)"
   ]
  },
  {
   "cell_type": "code",
   "execution_count": 100,
   "id": "63e1c0b8-57af-49d3-bb93-aa06be5e04c5",
   "metadata": {},
   "outputs": [],
   "source": [
    "# Save the concatenated dataframes to new CSV files\n",
    "ngoBackground_final.to_csv('MERGED/NgoBackground_final.csv', index=False)\n",
    "ngoContact_final.to_csv('MERGED/NgoContact_final.csv', index=False)\n",
    "ngoRegistration_final.to_csv('MERGED/NgoRegistration_final.csv', index=False)\n",
    "ngoFinance_final.to_csv('MERGED/NgoFinance_final.csv', index=False)"
   ]
  },
  {
   "cell_type": "code",
   "execution_count": null,
   "id": "c62c2a2d-77d1-4cca-b979-c65c7e4d7729",
   "metadata": {},
   "outputs": [],
   "source": []
  }
 ],
 "metadata": {
  "kernelspec": {
   "display_name": "Python 3 (ipykernel)",
   "language": "python",
   "name": "python3"
  },
  "language_info": {
   "codemirror_mode": {
    "name": "ipython",
    "version": 3
   },
   "file_extension": ".py",
   "mimetype": "text/x-python",
   "name": "python",
   "nbconvert_exporter": "python",
   "pygments_lexer": "ipython3",
   "version": "3.8.12"
  }
 },
 "nbformat": 4,
 "nbformat_minor": 5
}
