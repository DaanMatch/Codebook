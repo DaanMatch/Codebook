{
 "cells": [
  {
   "cell_type": "markdown",
   "metadata": {},
   "source": [
    "# Codebook  \n",
    "**Authors:** Patrick Guo  \n",
    "Documenting existing data files of DaanMatch with information about location, owner, \"version\", source etc."
   ]
  },
  {
   "cell_type": "code",
   "execution_count": 1,
   "metadata": {},
   "outputs": [],
   "source": [
    "import boto3\n",
    "import numpy as np \n",
    "import pandas as pd\n",
    "pd.plotting.register_matplotlib_converters()\n",
    "import matplotlib.pyplot as plt\n",
    "%matplotlib inline\n",
    "from collections import Counter\n",
    "import statistics"
   ]
  },
  {
   "cell_type": "code",
   "execution_count": 2,
   "metadata": {},
   "outputs": [],
   "source": [
    "client = boto3.client('s3')\n",
    "resource = boto3.resource('s3')\n",
    "my_bucket = resource.Bucket('my-bucket')"
   ]
  },
  {
   "cell_type": "markdown",
   "metadata": {},
   "source": [
    "# 42621 Final_Data_ngodarpan.gov.in\n",
    "\n",
    "## TOC:\n",
    "* [About this dataset](#1)\n",
    "* [What's in this dataset](#2)\n",
    "* [Codebook](#3)\n",
    "    * [Missing values](#3.1)\n",
    "    * [Summary statistics](#3.2)\n",
    "* [Columns](#4)\n",
    "    * [Name](4.1)\n",
    "    * [ngo url](4.2)\n",
    "    * [Mobile](4.3)\n",
    "    * [UniqueID](4.4)\n",
    "    * [Off phone1](4.5)\n",
    "    * [Email](4.6)\n",
    "    * [Major Activities1](4.7)\n",
    "    * [operational states db](4.8)\n",
    "    * [issues working db](4.9)\n",
    "    * [operational district db](4.10)\n",
    "    * [reg name](4.11)\n",
    "    * [fcrano](4.12)\n",
    "    * [nr regNo](4.13)\n",
    "    * [nr add](4.14)\n",
    "    * [nr orgName](4.15)\n",
    "    * [ngo reg date](4.16)\n",
    "    * [nr actName](4.17)\n",
    "    * [nr city](4.18)\n",
    "    * [TypeDescription](4.19)\n",
    "    * [StateName](4.20)\n",
    "    * [status](4.21)\n",
    "    * [president name](4.22)\n",
    "    * [president email](4.23)\n",
    "    * [president mobile](4.24)\n",
    "    * [Chairman name](4.25)\n",
    "    * [Chairman email](4.26)\n",
    "    * [Chairman mobile](4.27)\n",
    "    * [Secretary name](4.28)\n",
    "    * [Secretary email](4.29)\n",
    "    * [Secretary mobile](4.30)\n",
    "    * [Asisstant Secretary name](4.31)\n",
    "    * [Asisstant Secretary email](4.32)\n",
    "    * [Asisstant Secretary mobile](4.33)\n",
    "    * [Board Member name](4.34)\n",
    "    * [Board Member email](4.35)\n",
    "    * [Board Member mobile](4.36)\n",
    "    * [Vice Chairman name](4.37)\n",
    "    * [Vice Chairman email](4.38)\n",
    "    * [Vice Chairman mobile](4.39)\n",
    "    * [Member name](4.40)\n",
    "    * [Member email](4.41)\n",
    "    * [Member mobile](4.42)"
   ]
  },
  {
   "cell_type": "code",
   "execution_count": 3,
   "metadata": {},
   "outputs": [],
   "source": [
    "# Lists out the column names in TOC format\n",
    "def toc_maker(dataset):\n",
    "    counter = 1\n",
    "    for column in dataset.columns:\n",
    "        print(\"* [\"+column+\"](4.\"+str(counter)+\")\")\n",
    "        counter +=1"
   ]
  },
  {
   "cell_type": "code",
   "execution_count": 4,
   "metadata": {},
   "outputs": [],
   "source": [
    "#toc_maker(Final_Data_ngodarpan)"
   ]
  },
  {
   "cell_type": "markdown",
   "metadata": {},
   "source": [
    "**About this dataset**  <a class=\"anchor\" id=\"1\"></a>  \n",
    "Data provided by: NGO Darpan  \n",
    "Source: ngodarpan.gov.in   \n",
    "Type: xlsx  \n",
    "Last Modified: June 1, 2021, 17:06:30 (UTC-07:00)  \n",
    "Size: 49.7 MB"
   ]
  },
  {
   "cell_type": "code",
   "execution_count": null,
   "metadata": {},
   "outputs": [],
   "source": [
    "path = \"s3://daanmatchdatafiles/Darpan21FCRA/42621 Final_Data_ngodarpan.gov.in.xlsx\"\n",
    "xl = pd.ExcelFile(path)\n",
    "print(xl.sheet_names)\n",
    "Final_Data_ngodarpan = xl.parse('ngodarpan.gov.in')\n",
    "Final_Data_ngodarpan.head()"
   ]
  },
  {
   "cell_type": "markdown",
   "metadata": {},
   "source": [
    "**What's in this dataset?**  <a class=\"anchor\" id=\"2\"></a>  "
   ]
  },
  {
   "cell_type": "code",
   "execution_count": null,
   "metadata": {},
   "outputs": [],
   "source": [
    "dataset = Final_Data_ngodarpan\n",
    "print(\"Shape:\", dataset.shape)\n",
    "print(\"Rows:\", dataset.shape[0])\n",
    "print(\"Columns:\", dataset.shape[1])\n",
    "print(\"Each row is a NGO.\")"
   ]
  },
  {
   "cell_type": "markdown",
   "metadata": {},
   "source": [
    "**Codebook** <a class=\"anchor\" id=\"3\"></a>"
   ]
  },
  {
   "cell_type": "code",
   "execution_count": null,
   "metadata": {},
   "outputs": [],
   "source": [
    "dataset_columns = [column for column in dataset.columns]\n",
    "dataset_desc = [\"Name of NGO\",\n",
    "               \"URL for NGO\",\n",
    "               \"Mobile phone\",\n",
    "               \"Unique ID of VO/NGO\",\n",
    "               \"Telephone/Alternate number\",\n",
    "               \"Email address\",\n",
    "               \"Description of major activities\",\n",
    "               \"List of states they operate in\",\n",
    "               \"List of issues they are working on\",\n",
    "               \"List of districts they operate in\",\n",
    "               \"Name of registrar\",\n",
    "               \"FCRA number\",\n",
    "               \"Registration number\",\n",
    "               \"Address\",\n",
    "               \"Name of NGO\",\n",
    "               \"Registration date\",\n",
    "               \"Name of Act\",\n",
    "               \"City of NGO\",\n",
    "               ]\n",
    "dataset_desc = dataset_desc + [\"N/A\"] * (len(dataset_columns) - len(dataset_desc))\n",
    "dataset_dtypes = [dtype for dtype in dataset.dtypes]\n",
    "\n",
    "data = {\"Column Name\": dataset_columns, \"Description\": dataset_desc, \"Type\": dataset_dtypes}\n",
    "dataset_codebook = pd.DataFrame(data)\n",
    "dataset_codebook"
   ]
  },
  {
   "cell_type": "markdown",
   "metadata": {},
   "source": [
    "**Missing values** <a class=\"anchor\" id=\"3.1\"></a>"
   ]
  },
  {
   "cell_type": "code",
   "execution_count": null,
   "metadata": {},
   "outputs": [],
   "source": [
    "Final_Data_ngodarpan.isnull().sum()"
   ]
  },
  {
   "cell_type": "markdown",
   "metadata": {},
   "source": [
    "**Summary statistics** <a class=\"anchor\" id=\"3.2\"></a>"
   ]
  },
  {
   "cell_type": "markdown",
   "metadata": {},
   "source": [
    "None. All qualitative features."
   ]
  },
  {
   "cell_type": "markdown",
   "metadata": {},
   "source": [
    "## Columns\n",
    "<a class=\"anchor\" id=\"4\"></a>"
   ]
  },
  {
   "cell_type": "markdown",
   "metadata": {},
   "source": [
    "### Name\n",
    "<a class=\"anchor\" id=\"4.1\"></a>\n",
    "Name of NGO.  \n",
    "No. of unique values: 109682  \n",
    "No. of duplicates: 1548  "
   ]
  },
  {
   "cell_type": "code",
   "execution_count": null,
   "metadata": {},
   "outputs": [],
   "source": [
    "column = dataset[\"Name\"]\n",
    "column"
   ]
  },
  {
   "cell_type": "code",
   "execution_count": null,
   "metadata": {},
   "outputs": [],
   "source": [
    "# Number of empty strings/missing values\n",
    "print(\"Invalid:\", sum(column == \" \") + sum(column.isnull()))\n",
    "print(\"No. of unique values:\", len(column.unique()))\n",
    "# Check for duplicates\n",
    "counter = dict(Counter(column))\n",
    "duplicates = { key:[value] for key, value in counter.items() if value > 1}\n",
    "print(\"No. of duplicates:\", len(duplicates))\n",
    "table = pd.DataFrame.from_dict(duplicates)\n",
    "table = table.melt(var_name=\"Duplicate Names\", value_name=\"Count\").sort_values(by=[\"Count\"], ascending=False).reset_index(drop=True)\n",
    "table"
   ]
  },
  {
   "cell_type": "code",
   "execution_count": null,
   "metadata": {},
   "outputs": [],
   "source": [
    "# Example\n",
    "dataset[column == table.iloc[0,0]].head()"
   ]
  },
  {
   "cell_type": "markdown",
   "metadata": {},
   "source": [
    "Same ```name``` does not mean duplicate rows."
   ]
  },
  {
   "cell_type": "markdown",
   "metadata": {},
   "source": [
    "### ngo url\n",
    "<a class=\"anchor\" id=\"4.2\"></a>\n",
    "URL for NGO.  \n",
    "No. of unique values: 24253  \n",
    "No. of duplicates values: 202   \n",
    "A lot of NGOs were confused in the information filling process, and pasted the NGO darpan URL instead of the URL to their NGO's website if there is one: the first 13. So there are a large number of invalid URLs.  \n",
    "Additionally, a large number of urls cannot be reached."
   ]
  },
  {
   "cell_type": "code",
   "execution_count": null,
   "metadata": {},
   "outputs": [],
   "source": [
    "column = dataset[\"ngo url\"]\n",
    "column"
   ]
  },
  {
   "cell_type": "code",
   "execution_count": null,
   "metadata": {},
   "outputs": [],
   "source": [
    "# Number of empty strings/missing values\n",
    "print(\"Invalid:\", sum(column == \" \") + sum(column.isnull()))\n",
    "\n",
    "print(\"No. of unique values:\", len(column.unique()))\n",
    "\n",
    "# Check for duplicates\n",
    "counter = dict(Counter(column))\n",
    "duplicates = { key:[value] for key, value in counter.items() if value > 1}\n",
    "print(\"No. of Duplicates:\", len(duplicates))\n",
    "\n",
    "table = pd.DataFrame.from_dict(duplicates)\n",
    "table = table.melt(var_name=\"Duplicate URLs\", value_name=\"Count\").sort_values(by=[\"Count\"], ascending=False).reset_index(drop=True)\n",
    "table"
   ]
  },
  {
   "cell_type": "markdown",
   "metadata": {},
   "source": [
    "A lot of NGOs were confused in the information filling process, and pasted the NGO darpan URL instead of the URL to their NGO's website if there is one: the first 13. So there are a large number of invalid URLs. Additionally, a large number of urls cannot be reached."
   ]
  },
  {
   "cell_type": "code",
   "execution_count": null,
   "metadata": {},
   "outputs": [],
   "source": [
    "table.iloc[13:]"
   ]
  },
  {
   "cell_type": "code",
   "execution_count": null,
   "metadata": {},
   "outputs": [],
   "source": [
    "# Example\n",
    "dataset[column == table.iloc[13,0]].head()"
   ]
  },
  {
   "cell_type": "markdown",
   "metadata": {},
   "source": [
    "Duplicates for ```ngo url``` do not mean duplicate rows."
   ]
  },
  {
   "cell_type": "markdown",
   "metadata": {},
   "source": [
    "### Mobile\n",
    "<a class=\"anchor\" id=\"4.3\"></a>\n",
    "Mobile number. \n",
    "Incorrect dtype.\n",
    "No. of unique values: 24253  \n",
    "No. of duplicates values: 202   "
   ]
  },
  {
   "cell_type": "code",
   "execution_count": null,
   "metadata": {},
   "outputs": [],
   "source": [
    "column = dataset[\"Mobile\"]\n",
    "column"
   ]
  },
  {
   "cell_type": "code",
   "execution_count": null,
   "metadata": {},
   "outputs": [],
   "source": []
  }
 ],
 "metadata": {
  "kernelspec": {
   "display_name": "Python 3",
   "language": "python",
   "name": "python3"
  },
  "language_info": {
   "codemirror_mode": {
    "name": "ipython",
    "version": 3
   },
   "file_extension": ".py",
   "mimetype": "text/x-python",
   "name": "python",
   "nbconvert_exporter": "python",
   "pygments_lexer": "ipython3",
   "version": "3.8.3"
  }
 },
 "nbformat": 4,
 "nbformat_minor": 4
}
