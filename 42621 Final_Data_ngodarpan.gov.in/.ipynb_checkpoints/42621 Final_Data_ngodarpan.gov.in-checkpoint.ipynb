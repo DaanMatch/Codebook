{
 "cells": [
  {
   "cell_type": "markdown",
   "metadata": {},
   "source": [
    "# Codebook  \n",
    "**Authors:** Patrick Guo  \n",
    "Documenting existing data files of DaanMatch with information about location, owner, \"version\", source etc."
   ]
  },
  {
   "cell_type": "code",
   "execution_count": 1,
   "metadata": {},
   "outputs": [],
   "source": [
    "import boto3\n",
    "import numpy as np \n",
    "import pandas as pd\n",
    "import datetime as dt\n",
    "pd.plotting.register_matplotlib_converters()\n",
    "import matplotlib.pyplot as plt\n",
    "import matplotlib.dates as mdates\n",
    "%matplotlib inline\n",
    "import seaborn as sns\n",
    "from collections import Counter\n",
    "import statistics\n",
    "import re\n",
    "from langdetect import detect"
   ]
  },
  {
   "cell_type": "code",
   "execution_count": 2,
   "metadata": {},
   "outputs": [],
   "source": [
    "client = boto3.client('s3')\n",
    "resource = boto3.resource('s3')\n",
    "my_bucket = resource.Bucket('my-bucket')"
   ]
  },
  {
   "cell_type": "markdown",
   "metadata": {},
   "source": [
    "# 42621 Final_Data_ngodarpan.gov.in\n",
    "\n",
    "## TOC:\n",
    "* [About this dataset](#1)\n",
    "* [What's in this dataset](#2)\n",
    "* [Codebook](#3)\n",
    "    * [Missing values](#3.1)\n",
    "    * [Summary statistics](#3.2)\n",
    "* [Columns](#4)\n",
    "    * [Name](4.1)\n",
    "    * [ngo url](4.2)\n",
    "    * [Mobile](4.3)\n",
    "    * [UniqueID](4.4)\n",
    "    * [Off phone1](4.5)\n",
    "    * [Email](4.6)\n",
    "    * [Major Activities1](4.7)\n",
    "    * [operational states db](4.8)\n",
    "    * [issues working db](4.9)\n",
    "    * [operational district db](4.10)\n",
    "    * [reg name](4.11)\n",
    "    * [fcrano](4.12)\n",
    "    * [nr regNo](4.13)\n",
    "    * [nr add](4.14)\n",
    "    * [nr orgName](4.15)\n",
    "    * [ngo reg date](4.16)\n",
    "    * [nr actName](4.17)\n",
    "    * [nr city](4.18)\n",
    "    * [TypeDescription](4.19)\n",
    "    * [StateName](4.20)\n",
    "    * [status](4.21)\n",
    "    * [president name](4.22)\n",
    "    * [president email](4.23)\n",
    "    * [president mobile](4.24)\n",
    "    * [Chairman name](4.25)\n",
    "    * [Chairman email](4.26)\n",
    "    * [Chairman mobile](4.27)\n",
    "    * [Secretary name](4.28)\n",
    "    * [Secretary email](4.29)\n",
    "    * [Secretary mobile](4.30)\n",
    "    * [Asisstant Secretary name](4.31)\n",
    "    * [Asisstant Secretary email](4.32)\n",
    "    * [Asisstant Secretary mobile](4.33)\n",
    "    * [Board Member name](4.34)\n",
    "    * [Board Member email](4.35)\n",
    "    * [Board Member mobile](4.36)\n",
    "    * [Vice Chairman name](4.37)\n",
    "    * [Vice Chairman email](4.38)\n",
    "    * [Vice Chairman mobile](4.39)\n",
    "    * [Member name](4.40)\n",
    "    * [Member email](4.41)\n",
    "    * [Member mobile](4.42)"
   ]
  },
  {
   "cell_type": "code",
   "execution_count": 3,
   "metadata": {},
   "outputs": [],
   "source": [
    "# Lists out the column names in TOC format\n",
    "def toc_maker(dataset):\n",
    "    counter = 1\n",
    "    for column in dataset.columns:\n",
    "        print(\"* [\"+column+\"](4.\"+str(counter)+\")\")\n",
    "        counter +=1"
   ]
  },
  {
   "cell_type": "code",
   "execution_count": 4,
   "metadata": {},
   "outputs": [],
   "source": [
    "#toc_maker(Final_Data_ngodarpan)"
   ]
  },
  {
   "cell_type": "markdown",
   "metadata": {},
   "source": [
    "**About this dataset**  <a class=\"anchor\" id=\"1\"></a>  \n",
    "Data provided by: NGO Darpan  \n",
    "Source: ngodarpan.gov.in   \n",
    "Type: xlsx  \n",
    "Last Modified: June 1, 2021, 17:06:30 (UTC-07:00)  \n",
    "Size: 49.7 MB"
   ]
  },
  {
   "cell_type": "code",
   "execution_count": null,
   "metadata": {},
   "outputs": [
    {
     "name": "stdout",
     "output_type": "stream",
     "text": [
      "['ngodarpan.gov.in']\n"
     ]
    }
   ],
   "source": [
    "path = \"s3://daanmatchdatafiles/Darpan21FCRA/42621 Final_Data_ngodarpan.gov.in.xlsx\"\n",
    "xl = pd.ExcelFile(path)\n",
    "print(xl.sheet_names)\n",
    "Final_Data_ngodarpan = xl.parse('ngodarpan.gov.in')\n",
    "Final_Data_ngodarpan.head()"
   ]
  },
  {
   "cell_type": "markdown",
   "metadata": {},
   "source": [
    "**What's in this dataset?**  <a class=\"anchor\" id=\"2\"></a>  "
   ]
  },
  {
   "cell_type": "code",
   "execution_count": null,
   "metadata": {},
   "outputs": [],
   "source": [
    "dataset = Final_Data_ngodarpan\n",
    "print(\"Shape:\", dataset.shape)\n",
    "print(\"Rows:\", dataset.shape[0])\n",
    "print(\"Columns:\", dataset.shape[1])\n",
    "print(\"Each row is a NGO.\")"
   ]
  },
  {
   "cell_type": "markdown",
   "metadata": {},
   "source": [
    "**Codebook** <a class=\"anchor\" id=\"3\"></a>"
   ]
  },
  {
   "cell_type": "code",
   "execution_count": null,
   "metadata": {},
   "outputs": [],
   "source": [
    "dataset_columns = [column for column in dataset.columns]\n",
    "dataset_desc = [\"Name of NGO\",\n",
    "               \"URL for NGO\",\n",
    "               \"Mobile phone\",\n",
    "               \"Unique ID of VO/NGO\",\n",
    "               \"Telephone/Alternate number\",\n",
    "               \"Email address\",\n",
    "               \"Description of major activities\",\n",
    "               \"List of states or union territories they operate in.\",\n",
    "               \"List of issues they are working on\",\n",
    "               \"List of districts they operate in\",\n",
    "               \"Name of registrar\",\n",
    "               \"FCRA number\",\n",
    "               \"Registration number\",\n",
    "               \"Address\",\n",
    "               \"Name of NGO\",\n",
    "               \"Registration date\",\n",
    "               \"Name of Act\",\n",
    "               \"City of NGO\",\n",
    "               ]\n",
    "dataset_desc = dataset_desc + [\"N/A\"] * (len(dataset_columns) - len(dataset_desc))\n",
    "dataset_dtypes = [dtype for dtype in dataset.dtypes]\n",
    "\n",
    "data = {\"Column Name\": dataset_columns, \"Description\": dataset_desc, \"Type\": dataset_dtypes}\n",
    "codebook = pd.DataFrame(data)\n",
    "codebook"
   ]
  },
  {
   "cell_type": "markdown",
   "metadata": {},
   "source": [
    "**Missing values** <a class=\"anchor\" id=\"3.1\"></a>"
   ]
  },
  {
   "cell_type": "code",
   "execution_count": null,
   "metadata": {},
   "outputs": [],
   "source": [
    "Final_Data_ngodarpan.isnull().sum()"
   ]
  },
  {
   "cell_type": "markdown",
   "metadata": {},
   "source": [
    "**Summary statistics** <a class=\"anchor\" id=\"3.2\"></a>"
   ]
  },
  {
   "cell_type": "markdown",
   "metadata": {},
   "source": [
    "None. All qualitative features."
   ]
  },
  {
   "cell_type": "markdown",
   "metadata": {},
   "source": [
    "## Columns\n",
    "<a class=\"anchor\" id=\"4\"></a>"
   ]
  },
  {
   "cell_type": "markdown",
   "metadata": {},
   "source": [
    "### Name\n",
    "<a class=\"anchor\" id=\"4.1\"></a>\n",
    "Name of NGO.  \n",
    "No. of unique values: 109682  \n",
    "No. of duplicates: 1548  "
   ]
  },
  {
   "cell_type": "code",
   "execution_count": null,
   "metadata": {},
   "outputs": [],
   "source": [
    "column = dataset[\"Name\"]\n",
    "column"
   ]
  },
  {
   "cell_type": "code",
   "execution_count": null,
   "metadata": {},
   "outputs": [],
   "source": [
    "# Number of empty strings/missing values\n",
    "print(\"Invalid:\", sum(column == \" \") + sum(column.isnull()))\n",
    "print(\"No. of unique values:\", len(column.unique()))\n",
    "# Check for duplicates\n",
    "counter = dict(Counter(column))\n",
    "duplicates = { key:[value] for key, value in counter.items() if value > 1}\n",
    "print(\"No. of duplicates:\", len(duplicates))\n",
    "table = pd.DataFrame.from_dict(duplicates)\n",
    "table = table.melt(var_name=\"Duplicate Names\", value_name=\"Count\").sort_values(by=[\"Count\"], ascending=False).reset_index(drop=True)\n",
    "table"
   ]
  },
  {
   "cell_type": "code",
   "execution_count": null,
   "metadata": {},
   "outputs": [],
   "source": [
    "# Example\n",
    "dataset[column == table.iloc[0,0]].head()"
   ]
  },
  {
   "cell_type": "markdown",
   "metadata": {},
   "source": [
    "Same ```name``` does not mean duplicate rows."
   ]
  },
  {
   "cell_type": "markdown",
   "metadata": {},
   "source": [
    "### ngo url\n",
    "<a class=\"anchor\" id=\"4.2\"></a>\n",
    "URL for NGO.  \n",
    "No. of unique values: 24253  \n",
    "No. of duplicates values: 202   \n",
    "A lot of NGOs were confused in the information filling process, and pasted the NGO darpan URL instead of the URL to their NGO's website if there is one: the first 13. So there are a large number of invalid URLs.  \n",
    "Additionally, a large number of urls cannot be reached."
   ]
  },
  {
   "cell_type": "code",
   "execution_count": null,
   "metadata": {},
   "outputs": [],
   "source": [
    "column = dataset[\"ngo url\"]\n",
    "column"
   ]
  },
  {
   "cell_type": "code",
   "execution_count": null,
   "metadata": {},
   "outputs": [],
   "source": [
    "# Number of empty strings/missing values\n",
    "print(\"Invalid:\", sum(column == \" \") + sum(column.isnull()))\n",
    "\n",
    "print(\"No. of unique values:\", len(column.unique()))\n",
    "\n",
    "# Check for duplicates\n",
    "counter = dict(Counter(column))\n",
    "duplicates = { key:[value] for key, value in counter.items() if value > 1}\n",
    "print(\"No. of Duplicates:\", len(duplicates))\n",
    "\n",
    "table = pd.DataFrame.from_dict(duplicates)\n",
    "table = table.melt(var_name=\"Duplicate URLs\", value_name=\"Count\").sort_values(by=[\"Count\"], ascending=False).reset_index(drop=True)\n",
    "table"
   ]
  },
  {
   "cell_type": "markdown",
   "metadata": {},
   "source": [
    "A lot of NGOs were confused in the information filling process, and pasted the NGO darpan URL instead of the URL to their NGO's website if there is one: the first 13. So there are a large number of invalid URLs. Additionally, a large number of urls cannot be reached."
   ]
  },
  {
   "cell_type": "code",
   "execution_count": null,
   "metadata": {},
   "outputs": [],
   "source": [
    "table.iloc[13:]"
   ]
  },
  {
   "cell_type": "code",
   "execution_count": null,
   "metadata": {},
   "outputs": [],
   "source": [
    "# Example\n",
    "dataset[column == table.iloc[13,0]].head()"
   ]
  },
  {
   "cell_type": "markdown",
   "metadata": {},
   "source": [
    "Duplicates for ```ngo url``` do not mean duplicate rows."
   ]
  },
  {
   "cell_type": "markdown",
   "metadata": {},
   "source": [
    "### Mobile\n",
    "<a class=\"anchor\" id=\"4.3\"></a>\n",
    "Mobile number. \n",
    "Incorrect dtype.  \n",
    "Varying lengths for mobile: 9, 10, 11\n",
    "No. of null values: 32  \n",
    "No. of unique values: 111431  \n",
    "No. of duplicate values: 402.   "
   ]
  },
  {
   "cell_type": "code",
   "execution_count": null,
   "metadata": {},
   "outputs": [],
   "source": [
    "column = dataset[\"Mobile\"]\n",
    "column"
   ]
  },
  {
   "cell_type": "code",
   "execution_count": null,
   "metadata": {},
   "outputs": [],
   "source": [
    "# Number of missing values\n",
    "print(\"Nulls:\", sum(column.isnull()))\n",
    "\n",
    "print(\"No. of unique values:\", len(column.unique()))\n",
    "\n",
    "# Drop nulls and remove float and convert to str.\n",
    "column = column.dropna().astype(int).astype(str)\n",
    "\n",
    "# Lenght of mobile number\n",
    "print(\"Lengths:\", column.apply(len).unique())\n",
    "\n",
    "# Check for duplicates\n",
    "counter = dict(Counter(column))\n",
    "duplicates = { key:[value] for key, value in counter.items() if value > 1}\n",
    "print(\"No. of Duplicates:\", len(duplicates))\n",
    "\n",
    "table = pd.DataFrame.from_dict(duplicates)\n",
    "table = table.melt(var_name=\"Duplicate Mobile numbers\", value_name=\"Count\").sort_values(by=[\"Count\"], ascending=False).reset_index(drop=True)\n",
    "table"
   ]
  },
  {
   "cell_type": "code",
   "execution_count": null,
   "metadata": {},
   "outputs": [],
   "source": [
    "# Example\n",
    "dataset[dataset[\"Mobile\"] == int(table.iloc[0,0])].head()"
   ]
  },
  {
   "cell_type": "markdown",
   "metadata": {},
   "source": [
    "Duplicate ```Mobile``` does not mean duplicate rows."
   ]
  },
  {
   "cell_type": "markdown",
   "metadata": {},
   "source": [
    "### UniqueID\n",
    "<a class=\"anchor\" id=\"4.4\"></a>\n",
    "Unique ID of VO/NGO.  \n",
    "No. of unique values: 111929 "
   ]
  },
  {
   "cell_type": "code",
   "execution_count": null,
   "metadata": {},
   "outputs": [],
   "source": [
    "column = dataset[\"UniqueID\"]\n",
    "column"
   ]
  },
  {
   "cell_type": "code",
   "execution_count": null,
   "metadata": {},
   "outputs": [],
   "source": [
    "# Number of missing values\n",
    "print(\"Nulls:\", sum(column.isnull()))\n",
    "\n",
    "print(\"No. of unique values:\", len(column.unique()))\n",
    "\n",
    "# Check for duplicates\n",
    "counter = dict(Counter(column))\n",
    "duplicates = { key:[value] for key, value in counter.items() if value > 1}\n",
    "print(\"No. of Duplicates:\", len(duplicates))"
   ]
  },
  {
   "cell_type": "markdown",
   "metadata": {},
   "source": [
    "### Off phone1\n",
    "<a class=\"anchor\" id=\"4.5\"></a>\n",
    "Telephone/Alternate number.  \n",
    "Contains invalid numbers: All zeros. Invalid formats: mysql_prep(#Mobile) Numbers of varying length.\n",
    "Nulls: 95402  \n",
    "No. of unique values: 15364  \n",
    "No. of duplicates: 641. "
   ]
  },
  {
   "cell_type": "code",
   "execution_count": null,
   "metadata": {},
   "outputs": [],
   "source": [
    "column = dataset[\"Off phone1\"]\n",
    "column"
   ]
  },
  {
   "cell_type": "code",
   "execution_count": null,
   "metadata": {},
   "outputs": [],
   "source": [
    "# Number of missing values\n",
    "print(\"Nulls:\", sum(column.isnull()))\n",
    "\n",
    "print(\"No. of unique values:\", len(column.unique()))\n",
    "\n",
    "# Drop nulls and remove hyphen and mysql_prep()\n",
    "column = column.dropna()\n",
    "cleaned_column = [re.sub('[^0-9]','', row) for row in column]\n",
    "column = pd.Series(cleaned_column)\n",
    "\n",
    "\n",
    "\n",
    "# Check for duplicates\n",
    "counter = dict(Counter(column))\n",
    "duplicates = { key:[value] for key, value in counter.items() if value > 1}\n",
    "del duplicates[\"0000000000000\"]\n",
    "del duplicates[\"00000000000\"]\n",
    "del duplicates[\"0000000000\"]\n",
    "del duplicates[\"000000000\"]\n",
    "del duplicates[\"00000000\"]\n",
    "print(\"No. of Duplicates:\", len(duplicates))\n",
    "\n",
    "table = pd.DataFrame.from_dict(duplicates)\n",
    "table = table.melt(var_name=\"Duplicate Off phone1 numbers\", value_name=\"Count\").sort_values(by=[\"Count\"], ascending=False).reset_index(drop=True)\n",
    "\n",
    "# Lenght of numbers\n",
    "print(\"Lengths:\", table[\"Duplicate Off phone1 numbers\"].apply(len).unique())\n",
    "\n",
    "table"
   ]
  },
  {
   "cell_type": "markdown",
   "metadata": {},
   "source": [
    "Column contains numbers of varying length."
   ]
  },
  {
   "cell_type": "code",
   "execution_count": null,
   "metadata": {},
   "outputs": [],
   "source": [
    "# Example\n",
    "dataset[dataset[\"Off phone1\"].str.replace(\"-\", \"\") == table.iloc[3,0]].head()"
   ]
  },
  {
   "cell_type": "markdown",
   "metadata": {},
   "source": [
    "Duplicate ```Off phone1``` does not mean duplicate rows."
   ]
  },
  {
   "cell_type": "markdown",
   "metadata": {},
   "source": [
    "### Email\n",
    "<a class=\"anchor\" id=\"4.6\"></a>\n",
    "Email address.    \n",
    "No. of unique values: 111557  \n",
    "No. of Duplicates: 340"
   ]
  },
  {
   "cell_type": "code",
   "execution_count": null,
   "metadata": {},
   "outputs": [],
   "source": [
    "column = dataset[\"Email\"]\n",
    "column"
   ]
  },
  {
   "cell_type": "code",
   "execution_count": null,
   "metadata": {},
   "outputs": [],
   "source": [
    "# Number of missing values\n",
    "print(\"Nulls:\", sum(column.isnull()))\n",
    "\n",
    "print(\"No. of unique values:\", len(column.unique()))\n",
    "\n",
    "# Lower case all emails\n",
    "column = column.str.lower()\n",
    "\n",
    "# Check for duplicates\n",
    "counter = dict(Counter(column))\n",
    "duplicates = { key:[value] for key, value in counter.items() if value > 1}\n",
    "print(\"No. of Duplicates:\", len(duplicates))\n",
    "\n",
    "table = pd.DataFrame.from_dict(duplicates)\n",
    "table = table.melt(var_name=\"Duplicate Email IDs\", value_name=\"Count\").sort_values(by=[\"Count\"], ascending=False).reset_index(drop=True)\n",
    "table"
   ]
  },
  {
   "cell_type": "code",
   "execution_count": null,
   "metadata": {},
   "outputs": [],
   "source": [
    "# Example\n",
    "dataset[dataset[\"Email\"] == table.iloc[0,0]].head()"
   ]
  },
  {
   "cell_type": "code",
   "execution_count": null,
   "metadata": {},
   "outputs": [],
   "source": [
    "domain = [split[1] for split in column.str.split(\"@\",1)]\n",
    "domain = pd.Series(domain).value_counts()\n",
    "domain_no = len(domain)\n",
    "print(\"No. of domains:\", domain_no)\n",
    "domain.head()"
   ]
  },
  {
   "cell_type": "markdown",
   "metadata": {},
   "source": [
    "Duplicate ```Email``` does not mean duplicate rows."
   ]
  },
  {
   "cell_type": "markdown",
   "metadata": {},
   "source": [
    "### Major Activities1\n",
    "<a class=\"anchor\" id=\"4.7\"></a>\n",
    "Description of major activities.  \n",
    "Not all in english.  \n",
    "Nulls: 27311  \n",
    "No. of descriptions with special characters: 1475   \n",
    "No. of unique values: 75696  \n",
    "No. of Duplicates: 1680"
   ]
  },
  {
   "cell_type": "code",
   "execution_count": null,
   "metadata": {},
   "outputs": [],
   "source": [
    "column = dataset[\"Major Activities1\"]\n",
    "column"
   ]
  },
  {
   "cell_type": "code",
   "execution_count": null,
   "metadata": {},
   "outputs": [],
   "source": [
    "# Number of missing values\n",
    "print(\"Nulls:\", sum(column.isnull()))\n",
    "column = column.dropna()\n",
    "\n",
    "# Lowercase all strings\n",
    "column = column.str.lower()\n",
    "\n",
    "def isEnglish(s):\n",
    "    try:\n",
    "        s.encode(encoding='utf-8').decode('ascii')\n",
    "    except UnicodeDecodeError:\n",
    "        return False\n",
    "    else:\n",
    "        return True\n",
    "    \n",
    "language = [isEnglish(row) for row in column]\n",
    "print(\"No. of descriptions with special characters:\", len(language) - sum(language))\n",
    "column = column[language]\n",
    "\n",
    "print(\"No. of unique values:\", len(column.unique()))\n",
    "\n",
    "# Check for duplicates\n",
    "counter = dict(Counter(column))\n",
    "duplicates = { key:[value] for key, value in counter.items() if value > 1}\n",
    "print(\"No. of Duplicates:\", len(duplicates))\n",
    "\n",
    "table = pd.DataFrame.from_dict(duplicates)\n",
    "table = table.melt(var_name=\"Duplicate Major Activities\", value_name=\"Count\").sort_values(by=[\"Count\"], ascending=False).reset_index(drop=True)\n",
    "table"
   ]
  },
  {
   "cell_type": "markdown",
   "metadata": {},
   "source": [
    "There still remains descriptions that have special characters in other languages besides English.  "
   ]
  },
  {
   "cell_type": "markdown",
   "metadata": {},
   "source": [
    "### operational states db\n",
    "<a class=\"anchor\" id=\"4.8\"></a>\n",
    "List of states or union territories they operate in.  \n",
    "Rows contain multiple states and some rows contain duplicate states.  \n",
    "No. of unique values: 38"
   ]
  },
  {
   "cell_type": "code",
   "execution_count": null,
   "metadata": {},
   "outputs": [],
   "source": [
    "column = dataset[\"operational states db\"]\n",
    "column"
   ]
  },
  {
   "cell_type": "code",
   "execution_count": null,
   "metadata": {},
   "outputs": [],
   "source": [
    "# Nulls\n",
    "print(\"Nulls:\", sum(column.isnull()))\n",
    "column = column.dropna()\n",
    "\n",
    "# Empty strings\n",
    "print(\"Empty strings:\", sum(column == \"\"))\n",
    "\n",
    "# Lowercase all strings\n",
    "column = column.str.lower()"
   ]
  },
  {
   "cell_type": "markdown",
   "metadata": {},
   "source": [
    "Rows contain multiple states, and some rows contain duplicate states."
   ]
  },
  {
   "cell_type": "code",
   "execution_count": null,
   "metadata": {},
   "outputs": [],
   "source": [
    "column.value_counts().tail(3)"
   ]
  },
  {
   "cell_type": "code",
   "execution_count": null,
   "metadata": {},
   "outputs": [],
   "source": [
    "# Strip leading and tailing whitespace and create set to remove duplicates in list\n",
    "split_column = [list(set([i.strip() for i in row])) for row in column.str.split(',')]    \n",
    "\n",
    "# Drop([0]) to remove empty string\n",
    "cleaned_column = pd.Series(split_column).explode().value_counts().rename_axis('Value').reset_index(name='Counts').drop([0])\n",
    "cleaned_column"
   ]
  },
  {
   "cell_type": "code",
   "execution_count": null,
   "metadata": {},
   "outputs": [],
   "source": [
    "cleaned_column.plot.bar(x=\"Value\", y=\"Counts\", figsize=(16,4))\n",
    "ax = plt.title(\"Count of Operational States\")\n",
    "plt.xlabel(\"Operational States\")\n",
    "plt.show()"
   ]
  },
  {
   "cell_type": "markdown",
   "metadata": {},
   "source": [
    "### issues working db\n",
    "<a class=\"anchor\" id=\"4.9\"></a>\n",
    "List of issues they are working on.  \n",
    "Some rows contain multiple issues.  \n",
    "Nulls: 22637  \n",
    "Unique values: 44  "
   ]
  },
  {
   "cell_type": "code",
   "execution_count": null,
   "metadata": {},
   "outputs": [],
   "source": [
    "column = dataset[\"issues working db\"]\n",
    "column"
   ]
  },
  {
   "cell_type": "code",
   "execution_count": null,
   "metadata": {},
   "outputs": [],
   "source": [
    "# Nulls\n",
    "print(\"Nulls:\", sum(column.isnull()))\n",
    "column = column.dropna()\n",
    "\n",
    "# Lowercase all strings\n",
    "column = column.str.lower()\n",
    "\n",
    "# Strip leading and tailing whitespace and create set to remove duplicates in list\n",
    "split_column = [list(set([i.strip() for i in row])) for row in column.str.split(',')]    \n",
    "\n",
    "# Drop([0]) to remove empty string\n",
    "cleaned_column = pd.Series(split_column).explode().value_counts().rename_axis('Value').reset_index(name='Counts').drop([0])\n",
    "cleaned_column"
   ]
  },
  {
   "cell_type": "code",
   "execution_count": null,
   "metadata": {},
   "outputs": [],
   "source": [
    "cleaned_column.plot.bar(x=\"Value\", y=\"Counts\", figsize=(16,4))\n",
    "ax = plt.title(\"Count of Issues working\")\n",
    "plt.xlabel(\"Issues working\")\n",
    "plt.show()"
   ]
  },
  {
   "cell_type": "markdown",
   "metadata": {},
   "source": [
    "### operational district db\n",
    "<a class=\"anchor\" id=\"4.10\"></a>\n",
    "List of districts they operate in.  \n",
    "Some rows contain multiple districts and arrows.  \n",
    "Nulls: 23039"
   ]
  },
  {
   "cell_type": "code",
   "execution_count": null,
   "metadata": {},
   "outputs": [],
   "source": [
    "column = dataset[\"operational district db\"]\n",
    "column"
   ]
  },
  {
   "cell_type": "code",
   "execution_count": null,
   "metadata": {},
   "outputs": [],
   "source": [
    "# Nulls\n",
    "print(\"Nulls:\", sum(column.isnull()))\n",
    "column = column.dropna()\n",
    "\n",
    "# Lowercase all strings\n",
    "column = column.str.lower()\n",
    "\n",
    "# Remove arrows\n",
    "column = column.str.replace('->', ',')\n",
    "\n",
    "# Strip leading and tailing whitespace and create set to remove duplicates in list\n",
    "split_column = [list(set([i.strip() for i in row])) for row in column.str.split(',')]    \n",
    "\n",
    "# Drop([0]) to remove empty string\n",
    "cleaned_column = pd.Series(split_column).explode().value_counts().rename_axis('Value').reset_index(name='Counts').drop([0])\n",
    "cleaned_column"
   ]
  },
  {
   "cell_type": "markdown",
   "metadata": {},
   "source": [
    "There are 718 districts in India. However there are 729 unique rows."
   ]
  },
  {
   "cell_type": "markdown",
   "metadata": {},
   "source": [
    "### reg name\n",
    "<a class=\"anchor\" id=\"4.11\"></a>\n",
    "Name of registrar.    "
   ]
  },
  {
   "cell_type": "code",
   "execution_count": null,
   "metadata": {},
   "outputs": [],
   "source": [
    "column = dataset[\"reg name\"]\n",
    "column"
   ]
  },
  {
   "cell_type": "code",
   "execution_count": null,
   "metadata": {},
   "outputs": [],
   "source": [
    "# Nulls\n",
    "print(\"Nulls:\", sum(column.isnull()))\n",
    "\n",
    "counts = column.value_counts().rename_axis('Value').reset_index(name='Counts')\n",
    "counts"
   ]
  },
  {
   "cell_type": "code",
   "execution_count": null,
   "metadata": {},
   "outputs": [],
   "source": [
    "counts.plot.bar(x=\"Value\", y=\"Counts\")\n",
    "ax = plt.title(\"Count reg name\")\n",
    "plt.xlabel(\"Registrar name\")\n",
    "plt.show()"
   ]
  },
  {
   "cell_type": "markdown",
   "metadata": {},
   "source": [
    "### fcrano\n",
    "<a class=\"anchor\" id=\"4.12\"></a>\n",
    "FCRA number.  \n",
    "Some numbers are invalid and have differing lengths..  \n",
    "Nulls: 89869  \n",
    "No. of unique values: 21145"
   ]
  },
  {
   "cell_type": "code",
   "execution_count": null,
   "metadata": {},
   "outputs": [],
   "source": [
    "column = dataset[\"fcrano\"]\n",
    "column"
   ]
  },
  {
   "cell_type": "code",
   "execution_count": null,
   "metadata": {},
   "outputs": [],
   "source": [
    "# Nulls\n",
    "print(\"Nulls:\", sum(column.isnull()))\n",
    "column = column.dropna()\n",
    "\n",
    "# Value counts\n",
    "column.value_counts().rename_axis('Value').reset_index(name='Counts')"
   ]
  },
  {
   "cell_type": "markdown",
   "metadata": {},
   "source": [
    "Some numbers are invalid."
   ]
  },
  {
   "cell_type": "code",
   "execution_count": null,
   "metadata": {},
   "outputs": [],
   "source": [
    "# Only contain rows that have digits\n",
    "cleaned_column = column[column.str.isdigit()].value_counts().rename_axis('Value').reset_index(name='Counts')\n",
    "# Length of fcranos\n",
    "print(\"Lengths:\", cleaned_column[\"Value\"].apply(len).unique())\n",
    "cleaned_column"
   ]
  },
  {
   "cell_type": "markdown",
   "metadata": {},
   "source": [
    "### nr regNo\n",
    "<a class=\"anchor\" id=\"4.13\"></a>\n",
    "Registration number.  \n",
    "Nulls: 3  \n",
    "No. of unique values: 96123  \n",
    "No. of Duplicates: 4986"
   ]
  },
  {
   "cell_type": "code",
   "execution_count": null,
   "metadata": {},
   "outputs": [],
   "source": [
    "column = dataset[\"nr regNo\"]\n",
    "column"
   ]
  },
  {
   "cell_type": "code",
   "execution_count": null,
   "metadata": {},
   "outputs": [],
   "source": [
    "# Nulls\n",
    "print(\"Nulls:\", sum(column.isnull()))\n",
    "column = column.dropna()\n",
    "\n",
    "print(\"No. of unique values:\", len(column.unique()))\n",
    "\n",
    "# Check for duplicates\n",
    "counter = dict(Counter(column))\n",
    "duplicates = { key:[value] for key, value in counter.items() if value > 1}\n",
    "print(\"No. of Duplicates:\", len(duplicates))\n",
    "\n",
    "table = pd.DataFrame.from_dict(duplicates)\n",
    "table = table.melt(var_name=\"Duplicate regNo\", value_name=\"Count\").sort_values(by=[\"Count\"], ascending=False).reset_index(drop=True)\n",
    "table"
   ]
  },
  {
   "cell_type": "markdown",
   "metadata": {},
   "source": [
    "### nr add\n",
    "<a class=\"anchor\" id=\"4.14\"></a>\n",
    "Address.  \n",
    "Some invalid addresses, mixed letter case.  \n",
    "No. of unique values: 110903  \n",
    "No. of Duplicates: 600"
   ]
  },
  {
   "cell_type": "code",
   "execution_count": null,
   "metadata": {},
   "outputs": [],
   "source": [
    "column = dataset[\"nr add\"]\n",
    "column"
   ]
  },
  {
   "cell_type": "code",
   "execution_count": null,
   "metadata": {},
   "outputs": [],
   "source": [
    "# Nulls\n",
    "print(\"Nulls:\", sum(column.isnull()))\n",
    "column = column.dropna()\n",
    "\n",
    "# Emptry strings\n",
    "print(\"Empty strings:\", sum(column == \" \"))\n",
    "\n",
    "# Lowercase all strings\n",
    "column = column.str.lower()\n",
    "\n",
    "# Unique values\n",
    "print(\"No. of unique values:\", len(column.unique()))\n",
    "\n",
    "# Check for duplicates\n",
    "counter = dict(Counter(column))\n",
    "duplicates = { key:[value] for key, value in counter.items() if value > 1}\n",
    "print(\"No. of Duplicates:\", len(duplicates))\n",
    "\n",
    "table = pd.DataFrame.from_dict(duplicates)\n",
    "table = table.melt(var_name=\"Duplicate regNo\", value_name=\"Count\").sort_values(by=[\"Count\"], ascending=False).reset_index(drop=True)\n",
    "table"
   ]
  },
  {
   "cell_type": "code",
   "execution_count": null,
   "metadata": {},
   "outputs": [],
   "source": [
    "# Drop invalid addresses\n",
    "table.drop([0,1,2,3,4])"
   ]
  },
  {
   "cell_type": "markdown",
   "metadata": {},
   "source": [
    "### nr orgName\n",
    "<a class=\"anchor\" id=\"4.15\"></a>\n",
    "Name of NGO.  \n",
    "Mixed letter case.  \n",
    "No. of unique values: 108296  \n",
    "No. of Duplicates: 2290  "
   ]
  },
  {
   "cell_type": "code",
   "execution_count": null,
   "metadata": {},
   "outputs": [],
   "source": [
    "column = dataset[\"nr orgName\"]\n",
    "column"
   ]
  },
  {
   "cell_type": "code",
   "execution_count": null,
   "metadata": {},
   "outputs": [],
   "source": [
    "# Nulls\n",
    "print(\"Nulls:\", sum(column.isnull()))\n",
    "column = column.dropna()\n",
    "\n",
    "# Emptry strings\n",
    "print(\"Empty strings:\", sum(column == \" \"))\n",
    "\n",
    "# Lowercase all strings\n",
    "column = column.str.lower()\n",
    "\n",
    "# Unique values\n",
    "print(\"No. of unique values:\", len(column.unique()))\n",
    "\n",
    "# Check for duplicates\n",
    "counter = dict(Counter(column))\n",
    "duplicates = { key:[value] for key, value in counter.items() if value > 1}\n",
    "print(\"No. of Duplicates:\", len(duplicates))\n",
    "\n",
    "table = pd.DataFrame.from_dict(duplicates)\n",
    "table = table.melt(var_name=\"Duplicate Value\", value_name=\"Count\").sort_values(by=[\"Count\"], ascending=False).reset_index(drop=True)\n",
    "table"
   ]
  },
  {
   "cell_type": "markdown",
   "metadata": {},
   "source": [
    "### ngo reg date\n",
    "<a class=\"anchor\" id=\"4.16\"></a>\n",
    "Registration date.   \n",
    "Format: DD-MM-YYYY\n",
    "No. of unique values: 17307"
   ]
  },
  {
   "cell_type": "code",
   "execution_count": null,
   "metadata": {},
   "outputs": [],
   "source": [
    "column = dataset[\"ngo reg date\"]\n",
    "column"
   ]
  },
  {
   "cell_type": "code",
   "execution_count": null,
   "metadata": {},
   "outputs": [],
   "source": [
    "print(\"Min:\", min(column))\n",
    "print(\"Max:\", max(column))"
   ]
  },
  {
   "cell_type": "code",
   "execution_count": null,
   "metadata": {},
   "outputs": [],
   "source": [
    "# Nulls\n",
    "print(\"Nulls:\", sum(column.isnull()))\n",
    "column = column.dropna()\n",
    "\n",
    "#column = pd.Series([dt.datetime.strptime(d,'%d-%m-%Y').date() for d in column])\n",
    "\n",
    "# Unique values\n",
    "print(\"No. of unique values:\", len(column.unique()))\n",
    "\n",
    "# Value counts\n",
    "counts = column.value_counts().rename_axis('Value').reset_index(name='Counts')\n",
    "counts"
   ]
  },
  {
   "cell_type": "code",
   "execution_count": null,
   "metadata": {},
   "outputs": [],
   "source": []
  },
  {
   "cell_type": "code",
   "execution_count": null,
   "metadata": {},
   "outputs": [],
   "source": []
  }
 ],
 "metadata": {
  "kernelspec": {
   "display_name": "Python 3",
   "language": "python",
   "name": "python3"
  },
  "language_info": {
   "codemirror_mode": {
    "name": "ipython",
    "version": 3
   },
   "file_extension": ".py",
   "mimetype": "text/x-python",
   "name": "python",
   "nbconvert_exporter": "python",
   "pygments_lexer": "ipython3",
   "version": "3.8.3"
  },
  "toc-autonumbering": false,
  "toc-showmarkdowntxt": false,
  "toc-showtags": false
 },
 "nbformat": 4,
 "nbformat_minor": 4
}
