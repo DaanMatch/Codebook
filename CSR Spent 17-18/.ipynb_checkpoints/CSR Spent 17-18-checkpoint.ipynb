{
 "cells": [
  {
   "cell_type": "markdown",
   "id": "conscious-current",
   "metadata": {},
   "source": [
    "# Codebook  \n",
    "**Authors:** Lauren Baker   \n",
    "Documenting existing data files of DaanMatch with information about location, owner, \"version\", source etc."
   ]
  },
  {
   "cell_type": "code",
   "execution_count": 87,
   "id": "usual-psychology",
   "metadata": {},
   "outputs": [],
   "source": [
    "import boto3\n",
    "import numpy as np \n",
    "import pandas as pd\n",
    "pd.plotting.register_matplotlib_converters()\n",
    "import matplotlib.pyplot as plt\n",
    "%matplotlib inline\n",
    "from collections import Counter\n",
    "import statistics"
   ]
  },
  {
   "cell_type": "code",
   "execution_count": 88,
   "id": "adjusted-channels",
   "metadata": {},
   "outputs": [],
   "source": [
    "client = boto3.client('s3')\n",
    "resource = boto3.resource('s3')\n",
    "my_bucket = resource.Bucket('daanmatchdatafiles')"
   ]
  },
  {
   "cell_type": "markdown",
   "id": "intense-prototype",
   "metadata": {},
   "source": [
    "# CSR Spent 17-18.xlsx\n",
    "\n",
    "## TOC:\n",
    "* [About this dataset](#1)\n",
    "* [What's in this dataset](#2)\n",
    "* [Codebook](#3)\n",
    "    * [Missing values](#3.1)\n",
    "    * [Summary statistics](#3.2)\n",
    "* [Columns](#4)\n",
    "    * [Url](#4.1)\n",
    "    * [Company Name](#4.2)\n",
    "    * [CSR Spent 17-18](#4.3)\n",
    "    * [Date of Incorporation](#4.4)\n",
    "    * [Class](#4.5)\n",
    "    * [RoC](#4.6)\n",
    "    * [Category](#4.7)\n",
    "    * [Sub Category](#4.8)\n",
    "    * [Listing Status](#4.9)\n",
    "    * [Registered Address](#4.10)\n",
    "    * [Zipcode](#4.11)\n",
    "    * [State](#4.12)\n",
    "    * [Email ID](#4.13)\n",
    "    * [Paid-up Capital (in INR Cr.)](#4.14)\n",
    "    * [Authorized Capital (in INR Cr.)](#4.15)"
   ]
  },
  {
   "cell_type": "markdown",
   "id": "alert-dealing",
   "metadata": {},
   "source": [
    "**About this dataset**  <a class=\"anchor\" id=\"1\"></a>  \n",
    "Data provided by: Unknown.  \n",
    "Source: https://daanmatchdatafiles.s3.us-west-1.amazonaws.com/DaanMatch_DataFiles/CSR+Spent+17-18.xlsx  \n",
    "Type: xlsx  \n",
    "Last Modified: May 29, 2021, 19:54:24 (UTC-07:00)  \n",
    "Size: 3.4 MB"
   ]
  },
  {
   "cell_type": "code",
   "execution_count": 89,
   "id": "seven-uniform",
   "metadata": {},
   "outputs": [
    {
     "name": "stdout",
     "output_type": "stream",
     "text": [
      "['CSR Spent 17-18']\n"
     ]
    }
   ],
   "source": [
    "path = \"s3://daanmatchdatafiles/CSR Spent 17-18.xlsx\"\n",
    "csr_spent_17_18 = pd.ExcelFile(path)\n",
    "print(csr_spent_17_18.sheet_names)"
   ]
  },
  {
   "cell_type": "code",
   "execution_count": 90,
   "id": "eleven-killer",
   "metadata": {},
   "outputs": [
    {
     "data": {
      "text/html": [
       "<div>\n",
       "<style scoped>\n",
       "    .dataframe tbody tr th:only-of-type {\n",
       "        vertical-align: middle;\n",
       "    }\n",
       "\n",
       "    .dataframe tbody tr th {\n",
       "        vertical-align: top;\n",
       "    }\n",
       "\n",
       "    .dataframe thead th {\n",
       "        text-align: right;\n",
       "    }\n",
       "</style>\n",
       "<table border=\"1\" class=\"dataframe\">\n",
       "  <thead>\n",
       "    <tr style=\"text-align: right;\">\n",
       "      <th></th>\n",
       "      <th>Url</th>\n",
       "      <th>Company Name</th>\n",
       "      <th>CSR Spent 17-18</th>\n",
       "      <th>Date of Incorporation</th>\n",
       "      <th>Class</th>\n",
       "      <th>RoC</th>\n",
       "      <th>Category</th>\n",
       "      <th>Sub Category</th>\n",
       "      <th>Listing Status</th>\n",
       "      <th>Registered Address</th>\n",
       "      <th>Zipcode</th>\n",
       "      <th>State</th>\n",
       "      <th>Email ID</th>\n",
       "      <th>Paid-up Capital (in INR Cr.)</th>\n",
       "      <th>Authorized Capital (in INR Cr.)</th>\n",
       "    </tr>\n",
       "  </thead>\n",
       "  <tbody>\n",
       "    <tr>\n",
       "      <th>0</th>\n",
       "      <td>https://csr.gov.in/companyprofile/dashboard.ph...</td>\n",
       "      <td>Reliance Industries Limited</td>\n",
       "      <td>7450400000</td>\n",
       "      <td>1973-05-08</td>\n",
       "      <td>Public</td>\n",
       "      <td>RoC-Mumbai</td>\n",
       "      <td>Company limited by Shares</td>\n",
       "      <td>Non-govt company</td>\n",
       "      <td>Listed</td>\n",
       "      <td>3 RD FLOORMAKER CHAMBER IV222 NARIMAN POINT  4...</td>\n",
       "      <td>400021.0</td>\n",
       "      <td>Maharashtra</td>\n",
       "      <td>sandeep.deshmukh@ril.com</td>\n",
       "      <td>₹ 6,333.50</td>\n",
       "      <td>₹ 15,000.00</td>\n",
       "    </tr>\n",
       "    <tr>\n",
       "      <th>1</th>\n",
       "      <td>https://csr.gov.in/companyprofile/dashboard.ph...</td>\n",
       "      <td>Oil And Natural Gas Corporation Limited</td>\n",
       "      <td>4820700000</td>\n",
       "      <td>1993-06-23</td>\n",
       "      <td>Public</td>\n",
       "      <td>RoC-Delhi</td>\n",
       "      <td>Company limited by Shares</td>\n",
       "      <td>Union Govt company</td>\n",
       "      <td>Listed</td>\n",
       "      <td>Plot No. 5A- 5BNelson Mandela Road,Vasant Kunj...</td>\n",
       "      <td>110070.0</td>\n",
       "      <td>Delhi</td>\n",
       "      <td>secretariat@ongc.co.in</td>\n",
       "      <td>₹ 6,416.62</td>\n",
       "      <td>₹ 15,000.00</td>\n",
       "    </tr>\n",
       "    <tr>\n",
       "      <th>2</th>\n",
       "      <td>https://csr.gov.in/companyprofile/dashboard.ph...</td>\n",
       "      <td>Tata Consultancy Services Limited</td>\n",
       "      <td>4000000000</td>\n",
       "      <td>1995-01-19</td>\n",
       "      <td>Public</td>\n",
       "      <td>RoC-Mumbai</td>\n",
       "      <td>Company limited by Shares</td>\n",
       "      <td>Non-govt company</td>\n",
       "      <td>Listed</td>\n",
       "      <td>9TH FLOOR, NIRMAL BUILDINGNARIMAN POINT  400021</td>\n",
       "      <td>400021.0</td>\n",
       "      <td>Maharashtra</td>\n",
       "      <td>rajendra.moholkar@tcs.com</td>\n",
       "      <td>₹ 197.04</td>\n",
       "      <td>₹ 565.08</td>\n",
       "    </tr>\n",
       "    <tr>\n",
       "      <th>3</th>\n",
       "      <td>https://csr.gov.in/companyprofile/dashboard.ph...</td>\n",
       "      <td>Hdfc Bank Limited</td>\n",
       "      <td>3745500000</td>\n",
       "      <td>1994-08-30</td>\n",
       "      <td>Public</td>\n",
       "      <td>RoC-Mumbai</td>\n",
       "      <td>Company limited by Shares</td>\n",
       "      <td>Non-govt company</td>\n",
       "      <td>Listed</td>\n",
       "      <td>HDFC BANK HOUSESENAPATI BAPAT MARGLOWER PAREL ...</td>\n",
       "      <td>400013.0</td>\n",
       "      <td>Maharashtra</td>\n",
       "      <td>sanjay.dongre@hdfcbank.com</td>\n",
       "      <td>₹ 517.61</td>\n",
       "      <td>₹ 650.00</td>\n",
       "    </tr>\n",
       "    <tr>\n",
       "      <th>4</th>\n",
       "      <td>https://csr.gov.in/companyprofile/dashboard.ph...</td>\n",
       "      <td>Indian Oil Corpn. Limited</td>\n",
       "      <td>3310100000</td>\n",
       "      <td>1959-06-30</td>\n",
       "      <td>Public</td>\n",
       "      <td>RoC-Mumbai</td>\n",
       "      <td>Company limited by Shares</td>\n",
       "      <td>Union Govt company</td>\n",
       "      <td>Listed</td>\n",
       "      <td>Indian Oil Bhavan, G-9 All Yavar Jung Marg,BAN...</td>\n",
       "      <td>400051.0</td>\n",
       "      <td>Maharashtra</td>\n",
       "      <td>kgwalani@indianoil.in</td>\n",
       "      <td>₹ 4,855.90</td>\n",
       "      <td>₹ 6,000.00</td>\n",
       "    </tr>\n",
       "  </tbody>\n",
       "</table>\n",
       "</div>"
      ],
      "text/plain": [
       "                                                 Url  \\\n",
       "0  https://csr.gov.in/companyprofile/dashboard.ph...   \n",
       "1  https://csr.gov.in/companyprofile/dashboard.ph...   \n",
       "2  https://csr.gov.in/companyprofile/dashboard.ph...   \n",
       "3  https://csr.gov.in/companyprofile/dashboard.ph...   \n",
       "4  https://csr.gov.in/companyprofile/dashboard.ph...   \n",
       "\n",
       "                              Company Name  CSR Spent 17-18  \\\n",
       "0              Reliance Industries Limited       7450400000   \n",
       "1  Oil And Natural Gas Corporation Limited       4820700000   \n",
       "2        Tata Consultancy Services Limited       4000000000   \n",
       "3                        Hdfc Bank Limited       3745500000   \n",
       "4                Indian Oil Corpn. Limited       3310100000   \n",
       "\n",
       "  Date of Incorporation   Class         RoC                   Category  \\\n",
       "0            1973-05-08  Public  RoC-Mumbai  Company limited by Shares   \n",
       "1            1993-06-23  Public   RoC-Delhi  Company limited by Shares   \n",
       "2            1995-01-19  Public  RoC-Mumbai  Company limited by Shares   \n",
       "3            1994-08-30  Public  RoC-Mumbai  Company limited by Shares   \n",
       "4            1959-06-30  Public  RoC-Mumbai  Company limited by Shares   \n",
       "\n",
       "         Sub Category Listing Status  \\\n",
       "0    Non-govt company         Listed   \n",
       "1  Union Govt company         Listed   \n",
       "2    Non-govt company         Listed   \n",
       "3    Non-govt company         Listed   \n",
       "4  Union Govt company         Listed   \n",
       "\n",
       "                                  Registered Address   Zipcode        State  \\\n",
       "0  3 RD FLOORMAKER CHAMBER IV222 NARIMAN POINT  4...  400021.0  Maharashtra   \n",
       "1  Plot No. 5A- 5BNelson Mandela Road,Vasant Kunj...  110070.0        Delhi   \n",
       "2    9TH FLOOR, NIRMAL BUILDINGNARIMAN POINT  400021  400021.0  Maharashtra   \n",
       "3  HDFC BANK HOUSESENAPATI BAPAT MARGLOWER PAREL ...  400013.0  Maharashtra   \n",
       "4  Indian Oil Bhavan, G-9 All Yavar Jung Marg,BAN...  400051.0  Maharashtra   \n",
       "\n",
       "                     Email ID Paid-up Capital (in INR Cr.)  \\\n",
       "0    sandeep.deshmukh@ril.com                   ₹ 6,333.50   \n",
       "1      secretariat@ongc.co.in                   ₹ 6,416.62   \n",
       "2   rajendra.moholkar@tcs.com                     ₹ 197.04   \n",
       "3  sanjay.dongre@hdfcbank.com                     ₹ 517.61   \n",
       "4       kgwalani@indianoil.in                   ₹ 4,855.90   \n",
       "\n",
       "  Authorized Capital (in INR Cr.)  \n",
       "0                     ₹ 15,000.00  \n",
       "1                     ₹ 15,000.00  \n",
       "2                        ₹ 565.08  \n",
       "3                        ₹ 650.00  \n",
       "4                      ₹ 6,000.00  "
      ]
     },
     "execution_count": 90,
     "metadata": {},
     "output_type": "execute_result"
    }
   ],
   "source": [
    "csr_spent_17_18 = csr_spent_17_18.parse('CSR Spent 17-18')\n",
    "csr_spent_17_18.head()"
   ]
  },
  {
   "cell_type": "markdown",
   "id": "nearby-explanation",
   "metadata": {},
   "source": [
    "**What's in this dataset?** <a class=\"anchor\" id=\"2\"></a>"
   ]
  },
  {
   "cell_type": "code",
   "execution_count": 91,
   "id": "previous-adventure",
   "metadata": {},
   "outputs": [
    {
     "name": "stdout",
     "output_type": "stream",
     "text": [
      "Shape: (20975, 15)\n",
      "Rows: 20975\n",
      "Columns: 15\n",
      "Each row is a company.\n"
     ]
    }
   ],
   "source": [
    "print(\"Shape:\", csr_spent_17_18.shape)\n",
    "print(\"Rows:\", csr_spent_17_18.shape[0])\n",
    "print(\"Columns:\", csr_spent_17_18.shape[1])\n",
    "print(\"Each row is a company.\")"
   ]
  },
  {
   "cell_type": "code",
   "execution_count": 92,
   "id": "alone-smoke",
   "metadata": {},
   "outputs": [
    {
     "data": {
      "text/html": [
       "<style  type=\"text/css\" >\n",
       "#T_e8479_row0_col1,#T_e8479_row1_col1,#T_e8479_row2_col1,#T_e8479_row3_col1,#T_e8479_row4_col1,#T_e8479_row5_col1,#T_e8479_row6_col1,#T_e8479_row7_col1,#T_e8479_row8_col1,#T_e8479_row9_col1,#T_e8479_row10_col1,#T_e8479_row11_col1,#T_e8479_row12_col1,#T_e8479_row13_col1,#T_e8479_row14_col1{\n",
       "            width:  600px;\n",
       "        }</style><table id=\"T_e8479_\" ><thead>    <tr>        <th class=\"blank level0\" ></th>        <th class=\"col_heading level0 col0\" >Column Name</th>        <th class=\"col_heading level0 col1\" >Description</th>        <th class=\"col_heading level0 col2\" >Type</th>    </tr></thead><tbody>\n",
       "                <tr>\n",
       "                        <th id=\"T_e8479_level0_row0\" class=\"row_heading level0 row0\" >0</th>\n",
       "                        <td id=\"T_e8479_row0_col0\" class=\"data row0 col0\" >Url</td>\n",
       "                        <td id=\"T_e8479_row0_col1\" class=\"data row0 col1\" >Link to the company's website.</td>\n",
       "                        <td id=\"T_e8479_row0_col2\" class=\"data row0 col2\" >object</td>\n",
       "            </tr>\n",
       "            <tr>\n",
       "                        <th id=\"T_e8479_level0_row1\" class=\"row_heading level0 row1\" >1</th>\n",
       "                        <td id=\"T_e8479_row1_col0\" class=\"data row1 col0\" >Company Name</td>\n",
       "                        <td id=\"T_e8479_row1_col1\" class=\"data row1 col1\" >Name of Company.</td>\n",
       "                        <td id=\"T_e8479_row1_col2\" class=\"data row1 col2\" >object</td>\n",
       "            </tr>\n",
       "            <tr>\n",
       "                        <th id=\"T_e8479_level0_row2\" class=\"row_heading level0 row2\" >2</th>\n",
       "                        <td id=\"T_e8479_row2_col0\" class=\"data row2 col0\" >CSR Spent 17-18</td>\n",
       "                        <td id=\"T_e8479_row2_col1\" class=\"data row2 col1\" >Amount of money spent on CSR in the fiscal year 2017-18.</td>\n",
       "                        <td id=\"T_e8479_row2_col2\" class=\"data row2 col2\" >int64</td>\n",
       "            </tr>\n",
       "            <tr>\n",
       "                        <th id=\"T_e8479_level0_row3\" class=\"row_heading level0 row3\" >3</th>\n",
       "                        <td id=\"T_e8479_row3_col0\" class=\"data row3 col0\" >Date of Incorporation</td>\n",
       "                        <td id=\"T_e8479_row3_col1\" class=\"data row3 col1\" >Timestamp of date of incorporation: YYYY-MM-DD.</td>\n",
       "                        <td id=\"T_e8479_row3_col2\" class=\"data row3 col2\" >object</td>\n",
       "            </tr>\n",
       "            <tr>\n",
       "                        <th id=\"T_e8479_level0_row4\" class=\"row_heading level0 row4\" >4</th>\n",
       "                        <td id=\"T_e8479_row4_col0\" class=\"data row4 col0\" >Class</td>\n",
       "                        <td id=\"T_e8479_row4_col1\" class=\"data row4 col1\" >Class of Company: Private or Public.</td>\n",
       "                        <td id=\"T_e8479_row4_col2\" class=\"data row4 col2\" >object</td>\n",
       "            </tr>\n",
       "            <tr>\n",
       "                        <th id=\"T_e8479_level0_row5\" class=\"row_heading level0 row5\" >5</th>\n",
       "                        <td id=\"T_e8479_row5_col0\" class=\"data row5 col0\" >RoC</td>\n",
       "                        <td id=\"T_e8479_row5_col1\" class=\"data row5 col1\" >Registrar of Companies, an office under the MCA.</td>\n",
       "                        <td id=\"T_e8479_row5_col2\" class=\"data row5 col2\" >object</td>\n",
       "            </tr>\n",
       "            <tr>\n",
       "                        <th id=\"T_e8479_level0_row6\" class=\"row_heading level0 row6\" >6</th>\n",
       "                        <td id=\"T_e8479_row6_col0\" class=\"data row6 col0\" >Category</td>\n",
       "                        <td id=\"T_e8479_row6_col1\" class=\"data row6 col1\" >Category of Company: Limited by Shares, Limited by Guarantee, Unlimited Company.</td>\n",
       "                        <td id=\"T_e8479_row6_col2\" class=\"data row6 col2\" >object</td>\n",
       "            </tr>\n",
       "            <tr>\n",
       "                        <th id=\"T_e8479_level0_row7\" class=\"row_heading level0 row7\" >7</th>\n",
       "                        <td id=\"T_e8479_row7_col0\" class=\"data row7 col0\" >Sub Category</td>\n",
       "                        <td id=\"T_e8479_row7_col1\" class=\"data row7 col1\" >Subcategory of Company: Non-govt, Union Gtvt, State Govt, Subsidiary of Foreign Company, Guarantee and Association Company.</td>\n",
       "                        <td id=\"T_e8479_row7_col2\" class=\"data row7 col2\" >object</td>\n",
       "            </tr>\n",
       "            <tr>\n",
       "                        <th id=\"T_e8479_level0_row8\" class=\"row_heading level0 row8\" >8</th>\n",
       "                        <td id=\"T_e8479_row8_col0\" class=\"data row8 col0\" >Listing Status</td>\n",
       "                        <td id=\"T_e8479_row8_col1\" class=\"data row8 col1\" >Lisitng status: Listed or Unlisited.</td>\n",
       "                        <td id=\"T_e8479_row8_col2\" class=\"data row8 col2\" >object</td>\n",
       "            </tr>\n",
       "            <tr>\n",
       "                        <th id=\"T_e8479_level0_row9\" class=\"row_heading level0 row9\" >9</th>\n",
       "                        <td id=\"T_e8479_row9_col0\" class=\"data row9 col0\" >Registered Address</td>\n",
       "                        <td id=\"T_e8479_row9_col1\" class=\"data row9 col1\" >Address of the registered office.</td>\n",
       "                        <td id=\"T_e8479_row9_col2\" class=\"data row9 col2\" >object</td>\n",
       "            </tr>\n",
       "            <tr>\n",
       "                        <th id=\"T_e8479_level0_row10\" class=\"row_heading level0 row10\" >10</th>\n",
       "                        <td id=\"T_e8479_row10_col0\" class=\"data row10 col0\" >Zipcode</td>\n",
       "                        <td id=\"T_e8479_row10_col1\" class=\"data row10 col1\" >Zipcode of the registered office.</td>\n",
       "                        <td id=\"T_e8479_row10_col2\" class=\"data row10 col2\" >float64</td>\n",
       "            </tr>\n",
       "            <tr>\n",
       "                        <th id=\"T_e8479_level0_row11\" class=\"row_heading level0 row11\" >11</th>\n",
       "                        <td id=\"T_e8479_row11_col0\" class=\"data row11 col0\" >State</td>\n",
       "                        <td id=\"T_e8479_row11_col1\" class=\"data row11 col1\" >State the company is located in.</td>\n",
       "                        <td id=\"T_e8479_row11_col2\" class=\"data row11 col2\" >object</td>\n",
       "            </tr>\n",
       "            <tr>\n",
       "                        <th id=\"T_e8479_level0_row12\" class=\"row_heading level0 row12\" >12</th>\n",
       "                        <td id=\"T_e8479_row12_col0\" class=\"data row12 col0\" >Email ID</td>\n",
       "                        <td id=\"T_e8479_row12_col1\" class=\"data row12 col1\" >Email address.</td>\n",
       "                        <td id=\"T_e8479_row12_col2\" class=\"data row12 col2\" >object</td>\n",
       "            </tr>\n",
       "            <tr>\n",
       "                        <th id=\"T_e8479_level0_row13\" class=\"row_heading level0 row13\" >13</th>\n",
       "                        <td id=\"T_e8479_row13_col0\" class=\"data row13 col0\" >Paid-up Capital (in INR Cr.)</td>\n",
       "                        <td id=\"T_e8479_row13_col1\" class=\"data row13 col1\" >Actual amount that is paid by shareholders to the company.</td>\n",
       "                        <td id=\"T_e8479_row13_col2\" class=\"data row13 col2\" >object</td>\n",
       "            </tr>\n",
       "            <tr>\n",
       "                        <th id=\"T_e8479_level0_row14\" class=\"row_heading level0 row14\" >14</th>\n",
       "                        <td id=\"T_e8479_row14_col0\" class=\"data row14 col0\" >Authorized Capital (in INR Cr.)</td>\n",
       "                        <td id=\"T_e8479_row14_col1\" class=\"data row14 col1\" >Maximum value of shares that the company is legally authorized to issue to the shareholders.</td>\n",
       "                        <td id=\"T_e8479_row14_col2\" class=\"data row14 col2\" >object</td>\n",
       "            </tr>\n",
       "    </tbody></table>"
      ],
      "text/plain": [
       "<pandas.io.formats.style.Styler at 0x122e53f40>"
      ]
     },
     "execution_count": 92,
     "metadata": {},
     "output_type": "execute_result"
    }
   ],
   "source": [
    "csr_spent_17_18_columns = [column for column in csr_spent_17_18.columns]\n",
    "csr_spent_17_18_description = [\"Link to the company's website.\", \n",
    "                               \"Name of Company.\", \n",
    "                               \"Amount of money spent on CSR in the fiscal year 2017-18.\", \n",
    "                               \"Timestamp of date of incorporation: YYYY-MM-DD.\", \n",
    "                               \"Class of Company: Private or Public.\", \n",
    "                               \"Registrar of Companies, an office under the MCA.\", \n",
    "                               \"Category of Company: Limited by Shares, Limited by Guarantee, Unlimited Company.\", \n",
    "                               \"Subcategory of Company: Non-govt, Union Gtvt, State Govt, Subsidiary of Foreign Company, Guarantee and Association Company.\", \n",
    "                               \"Lisitng status: Listed or Unlisited.\",\n",
    "                               \"Address of the registered office.\",\n",
    "                               \"Zipcode of the registered office.\",\n",
    "                               \"State the company is located in.\",\n",
    "                               \"Email address.\",\n",
    "                               \"Actual amount that is paid by shareholders to the company.\",\n",
    "                               \"Maximum value of shares that the company is legally authorized to issue to the shareholders.\"]\n",
    "csr_spent_17_18_dtypes = [dtype for dtype in csr_spent_17_18.dtypes]\n",
    "\n",
    "data = {\"Column Name\": csr_spent_17_18_columns, \"Description\": csr_spent_17_18_description, \"Type\": csr_spent_17_18_dtypes}\n",
    "csr_spent_17_18_codebook = pd.DataFrame(data)\n",
    "csr_spent_17_18_codebook.style.set_properties(subset=['Description'], **{'width': '600px'})"
   ]
  },
  {
   "cell_type": "markdown",
   "id": "together-algeria",
   "metadata": {},
   "source": [
    "**Missing values** <a class=\"anchor\" id=\"3.1\"></a>"
   ]
  },
  {
   "cell_type": "code",
   "execution_count": 93,
   "id": "brazilian-vacuum",
   "metadata": {},
   "outputs": [
    {
     "data": {
      "text/plain": [
       "Url                                0\n",
       "Company Name                       0\n",
       "CSR Spent 17-18                    0\n",
       "Date of Incorporation              0\n",
       "Class                              0\n",
       "RoC                                0\n",
       "Category                           0\n",
       "Sub Category                       0\n",
       "Listing Status                     0\n",
       "Registered Address                 3\n",
       "Zipcode                            3\n",
       "State                              0\n",
       "Email ID                           0\n",
       "Paid-up Capital (in INR Cr.)       0\n",
       "Authorized Capital (in INR Cr.)    0\n",
       "dtype: int64"
      ]
     },
     "execution_count": 93,
     "metadata": {},
     "output_type": "execute_result"
    }
   ],
   "source": [
    "csr_spent_17_18.isnull().sum()"
   ]
  },
  {
   "cell_type": "markdown",
   "id": "fossil-expense",
   "metadata": {},
   "source": [
    "**Summary statistics** <a class=\"anchor\" id=\"3.2\"></a>"
   ]
  },
  {
   "cell_type": "code",
   "execution_count": 94,
   "id": "separated-writer",
   "metadata": {},
   "outputs": [
    {
     "data": {
      "text/html": [
       "<div>\n",
       "<style scoped>\n",
       "    .dataframe tbody tr th:only-of-type {\n",
       "        vertical-align: middle;\n",
       "    }\n",
       "\n",
       "    .dataframe tbody tr th {\n",
       "        vertical-align: top;\n",
       "    }\n",
       "\n",
       "    .dataframe thead th {\n",
       "        text-align: right;\n",
       "    }\n",
       "</style>\n",
       "<table border=\"1\" class=\"dataframe\">\n",
       "  <thead>\n",
       "    <tr style=\"text-align: right;\">\n",
       "      <th></th>\n",
       "      <th>CSR Spent 17-18</th>\n",
       "      <th>Zipcode</th>\n",
       "    </tr>\n",
       "  </thead>\n",
       "  <tbody>\n",
       "    <tr>\n",
       "      <th>count</th>\n",
       "      <td>2.097500e+04</td>\n",
       "      <td>20972.000000</td>\n",
       "    </tr>\n",
       "    <tr>\n",
       "      <th>mean</th>\n",
       "      <td>6.410293e+06</td>\n",
       "      <td>391159.803071</td>\n",
       "    </tr>\n",
       "    <tr>\n",
       "      <th>std</th>\n",
       "      <td>9.126581e+07</td>\n",
       "      <td>200085.889143</td>\n",
       "    </tr>\n",
       "    <tr>\n",
       "      <th>min</th>\n",
       "      <td>0.000000e+00</td>\n",
       "      <td>0.000000</td>\n",
       "    </tr>\n",
       "    <tr>\n",
       "      <th>25%</th>\n",
       "      <td>0.000000e+00</td>\n",
       "      <td>201306.000000</td>\n",
       "    </tr>\n",
       "    <tr>\n",
       "      <th>50%</th>\n",
       "      <td>0.000000e+00</td>\n",
       "      <td>400063.000000</td>\n",
       "    </tr>\n",
       "    <tr>\n",
       "      <th>75%</th>\n",
       "      <td>1.500000e+06</td>\n",
       "      <td>560025.000000</td>\n",
       "    </tr>\n",
       "    <tr>\n",
       "      <th>max</th>\n",
       "      <td>7.450400e+09</td>\n",
       "      <td>851134.000000</td>\n",
       "    </tr>\n",
       "  </tbody>\n",
       "</table>\n",
       "</div>"
      ],
      "text/plain": [
       "       CSR Spent 17-18        Zipcode\n",
       "count     2.097500e+04   20972.000000\n",
       "mean      6.410293e+06  391159.803071\n",
       "std       9.126581e+07  200085.889143\n",
       "min       0.000000e+00       0.000000\n",
       "25%       0.000000e+00  201306.000000\n",
       "50%       0.000000e+00  400063.000000\n",
       "75%       1.500000e+06  560025.000000\n",
       "max       7.450400e+09  851134.000000"
      ]
     },
     "execution_count": 94,
     "metadata": {},
     "output_type": "execute_result"
    }
   ],
   "source": [
    "csr_spent_17_18.describe()"
   ]
  },
  {
   "cell_type": "markdown",
   "id": "tutorial-ensemble",
   "metadata": {},
   "source": [
    "## Columns\n",
    "<a class=\"anchor\" id=\"4\"></a>"
   ]
  },
  {
   "cell_type": "markdown",
   "id": "piano-toner",
   "metadata": {},
   "source": [
    "### Url\n",
    "<a class=\"anchor\" id=\"4.1\"></a>\n",
    "Link to the company's website."
   ]
  },
  {
   "cell_type": "code",
   "execution_count": 95,
   "id": "radio-clock",
   "metadata": {},
   "outputs": [
    {
     "data": {
      "text/plain": [
       "0        https://csr.gov.in/companyprofile/dashboard.ph...\n",
       "1        https://csr.gov.in/companyprofile/dashboard.ph...\n",
       "2        https://csr.gov.in/companyprofile/dashboard.ph...\n",
       "3        https://csr.gov.in/companyprofile/dashboard.ph...\n",
       "4        https://csr.gov.in/companyprofile/dashboard.ph...\n",
       "                               ...                        \n",
       "20970    https://csr.gov.in/companyprofile/dashboard.ph...\n",
       "20971    https://csr.gov.in/companyprofile/dashboard.ph...\n",
       "20972    https://csr.gov.in/companyprofile/dashboard.ph...\n",
       "20973    https://csr.gov.in/companyprofile/dashboard.ph...\n",
       "20974    https://csr.gov.in/companyprofile/dashboard.ph...\n",
       "Name: Url, Length: 20975, dtype: object"
      ]
     },
     "execution_count": 95,
     "metadata": {},
     "output_type": "execute_result"
    }
   ],
   "source": [
    "column = csr_spent_17_18[\"Url\"]\n",
    "column"
   ]
  },
  {
   "cell_type": "code",
   "execution_count": 96,
   "id": "solar-secret",
   "metadata": {},
   "outputs": [
    {
     "name": "stdout",
     "output_type": "stream",
     "text": [
      "No. of unique values: 20975\n",
      "Duplicates: {}\n"
     ]
    }
   ],
   "source": [
    "print(\"No. of unique values:\", len(column.unique()))\n",
    "\n",
    "# Check for duplicates\n",
    "counter = dict(Counter(column))\n",
    "duplicates = { key:value for key, value in counter.items() if value > 1}\n",
    "print(\"Duplicates:\", duplicates)"
   ]
  },
  {
   "cell_type": "markdown",
   "id": "amateur-louisville",
   "metadata": {},
   "source": [
    "### Company Name\n",
    "<a class=\"anchor\" id=\"4.2\"></a>\n",
    "Name of Company."
   ]
  },
  {
   "cell_type": "code",
   "execution_count": 97,
   "id": "incomplete-culture",
   "metadata": {},
   "outputs": [
    {
     "data": {
      "text/plain": [
       "0                              Reliance Industries Limited\n",
       "1                  Oil And Natural Gas Corporation Limited\n",
       "2                        Tata Consultancy Services Limited\n",
       "3                                        Hdfc Bank Limited\n",
       "4                                Indian Oil Corpn. Limited\n",
       "                               ...                        \n",
       "20970              Designers Point (india) Private Limited\n",
       "20971                                    V2 Retail Limited\n",
       "20972    Tt Electronics Sensing And Control India Priva...\n",
       "20973                             Time Cap Pharma Labs Ltd\n",
       "20974           Delhi International Airport Privatelimited\n",
       "Name: Company Name, Length: 20975, dtype: object"
      ]
     },
     "execution_count": 97,
     "metadata": {},
     "output_type": "execute_result"
    }
   ],
   "source": [
    "column = csr_spent_17_18[\"Company Name\"]\n",
    "column"
   ]
  },
  {
   "cell_type": "code",
   "execution_count": 98,
   "id": "frequent-blanket",
   "metadata": {},
   "outputs": [
    {
     "name": "stdout",
     "output_type": "stream",
     "text": [
      "No. of unique values: 20667\n",
      "No. of duplicates: 307\n"
     ]
    }
   ],
   "source": [
    "print(\"No. of unique values:\", len(column.unique()))\n",
    "\n",
    "# Check for duplicates\n",
    "counter = dict(Counter(column))\n",
    "duplicates = { key:value for key, value in counter.items() if value > 1}\n",
    "#print(\"Duplicates:\", duplicates)\n",
    "if len(duplicates) > 0:\n",
    "    print(\"No. of duplicates:\", len(duplicates))"
   ]
  },
  {
   "cell_type": "code",
   "execution_count": 99,
   "id": "plain-louisiana",
   "metadata": {},
   "outputs": [
    {
     "data": {
      "text/html": [
       "<div>\n",
       "<style scoped>\n",
       "    .dataframe tbody tr th:only-of-type {\n",
       "        vertical-align: middle;\n",
       "    }\n",
       "\n",
       "    .dataframe tbody tr th {\n",
       "        vertical-align: top;\n",
       "    }\n",
       "\n",
       "    .dataframe thead th {\n",
       "        text-align: right;\n",
       "    }\n",
       "</style>\n",
       "<table border=\"1\" class=\"dataframe\">\n",
       "  <thead>\n",
       "    <tr style=\"text-align: right;\">\n",
       "      <th></th>\n",
       "      <th>Url</th>\n",
       "      <th>Company Name</th>\n",
       "      <th>CSR Spent 17-18</th>\n",
       "      <th>Date of Incorporation</th>\n",
       "      <th>Class</th>\n",
       "      <th>RoC</th>\n",
       "      <th>Category</th>\n",
       "      <th>Sub Category</th>\n",
       "      <th>Listing Status</th>\n",
       "      <th>Registered Address</th>\n",
       "      <th>Zipcode</th>\n",
       "      <th>State</th>\n",
       "      <th>Email ID</th>\n",
       "      <th>Paid-up Capital (in INR Cr.)</th>\n",
       "      <th>Authorized Capital (in INR Cr.)</th>\n",
       "    </tr>\n",
       "  </thead>\n",
       "  <tbody>\n",
       "    <tr>\n",
       "      <th>1020</th>\n",
       "      <td>https://csr.gov.in/companyprofile/dashboard.ph...</td>\n",
       "      <td>3d Plm Software Solutions Limited</td>\n",
       "      <td>15300000</td>\n",
       "      <td>2001-12-14</td>\n",
       "      <td>Public</td>\n",
       "      <td>RoC-Mumbai</td>\n",
       "      <td>Company limited by Shares</td>\n",
       "      <td>Non-govt company</td>\n",
       "      <td>Listed</td>\n",
       "      <td>PLANT 11, 3RD FLOORPIROJSHANAGAR, VIKHROLI (WE...</td>\n",
       "      <td>400079.0</td>\n",
       "      <td>Maharashtra</td>\n",
       "      <td>Sunipa_GHOSH@3dplmsoftware.com</td>\n",
       "      <td>₹ 344.81</td>\n",
       "      <td>₹ 757.60</td>\n",
       "    </tr>\n",
       "    <tr>\n",
       "      <th>15005</th>\n",
       "      <td>https://csr.gov.in/companyprofile/dashboard.ph...</td>\n",
       "      <td>3d Plm Software Solutions Limited</td>\n",
       "      <td>0</td>\n",
       "      <td>2001-12-14</td>\n",
       "      <td>Public</td>\n",
       "      <td>RoC-Mumbai</td>\n",
       "      <td>Company limited by Shares</td>\n",
       "      <td>Non-govt company</td>\n",
       "      <td>Unlisted</td>\n",
       "      <td>PLANT 11, 3RD FLOORPIROJSHANAGAR, VIKHROLI (WE...</td>\n",
       "      <td>400079.0</td>\n",
       "      <td>Maharashtra</td>\n",
       "      <td>Sunipa_GHOSH@3dplmsoftware.com</td>\n",
       "      <td>₹ 513.38</td>\n",
       "      <td>₹ 757.60</td>\n",
       "    </tr>\n",
       "    <tr>\n",
       "      <th>3963</th>\n",
       "      <td>https://csr.gov.in/companyprofile/dashboard.ph...</td>\n",
       "      <td>A P I Ispat And Powertech Privatelimited</td>\n",
       "      <td>2500000</td>\n",
       "      <td>2004-10-08</td>\n",
       "      <td>Private</td>\n",
       "      <td>RoC-Chhattisgarh</td>\n",
       "      <td>Company limited by Shares</td>\n",
       "      <td>Non-govt company</td>\n",
       "      <td>Unlisted</td>\n",
       "      <td>Near Industrial Growth Center, Phase II,Siltar...</td>\n",
       "      <td>493111.0</td>\n",
       "      <td>Chhattisgarh</td>\n",
       "      <td>ravi@realispat.com</td>\n",
       "      <td>₹ 44.04</td>\n",
       "      <td>₹ 45.00</td>\n",
       "    </tr>\n",
       "    <tr>\n",
       "      <th>17770</th>\n",
       "      <td>https://csr.gov.in/companyprofile/dashboard.ph...</td>\n",
       "      <td>A P I Ispat And Powertech Privatelimited</td>\n",
       "      <td>0</td>\n",
       "      <td>2004-10-08</td>\n",
       "      <td>Private</td>\n",
       "      <td>RoC-Delhi</td>\n",
       "      <td>Company limited by Shares</td>\n",
       "      <td>Non-govt company</td>\n",
       "      <td>Unlisted</td>\n",
       "      <td>D-14 UDYOG NAGAR, MAIN ROHTAK ROAD   110041</td>\n",
       "      <td>110041.0</td>\n",
       "      <td>Delhi</td>\n",
       "      <td>ravi@realispat.com</td>\n",
       "      <td>₹ 44.04</td>\n",
       "      <td>₹ 45.00</td>\n",
       "    </tr>\n",
       "    <tr>\n",
       "      <th>4170</th>\n",
       "      <td>https://csr.gov.in/companyprofile/dashboard.ph...</td>\n",
       "      <td>Aadhar Housing Finance Limited</td>\n",
       "      <td>2300000</td>\n",
       "      <td>1990-11-26</td>\n",
       "      <td>Public</td>\n",
       "      <td>RoC-Bangalore</td>\n",
       "      <td>Company limited by Shares</td>\n",
       "      <td>Non-govt company</td>\n",
       "      <td>Unlisted</td>\n",
       "      <td>No.3, 'JVT Towers', 8th A Main Road,Sampangi R...</td>\n",
       "      <td>560027.0</td>\n",
       "      <td>Karnataka</td>\n",
       "      <td>lourdunathan.MS@dvhousing.com</td>\n",
       "      <td>₹ 21.21</td>\n",
       "      <td>₹ 220.00</td>\n",
       "    </tr>\n",
       "    <tr>\n",
       "      <th>...</th>\n",
       "      <td>...</td>\n",
       "      <td>...</td>\n",
       "      <td>...</td>\n",
       "      <td>...</td>\n",
       "      <td>...</td>\n",
       "      <td>...</td>\n",
       "      <td>...</td>\n",
       "      <td>...</td>\n",
       "      <td>...</td>\n",
       "      <td>...</td>\n",
       "      <td>...</td>\n",
       "      <td>...</td>\n",
       "      <td>...</td>\n",
       "      <td>...</td>\n",
       "      <td>...</td>\n",
       "    </tr>\n",
       "    <tr>\n",
       "      <th>5986</th>\n",
       "      <td>https://csr.gov.in/companyprofile/dashboard.ph...</td>\n",
       "      <td>Zen Securities Ltd</td>\n",
       "      <td>1100000</td>\n",
       "      <td>1994-05-11</td>\n",
       "      <td>Public</td>\n",
       "      <td>RoC-Hyderabad</td>\n",
       "      <td>Company limited by Shares</td>\n",
       "      <td>Non-govt company</td>\n",
       "      <td>Unlisted</td>\n",
       "      <td>3rd floor,Vamsee Estates, 6-3-788/32Ameerpet  ...</td>\n",
       "      <td>500016.0</td>\n",
       "      <td>Telangana</td>\n",
       "      <td>md@zenmoney.com</td>\n",
       "      <td>₹ 2.43</td>\n",
       "      <td>₹ 4.00</td>\n",
       "    </tr>\n",
       "    <tr>\n",
       "      <th>3326</th>\n",
       "      <td>https://csr.gov.in/companyprofile/dashboard.ph...</td>\n",
       "      <td>Zota Health Care Limited</td>\n",
       "      <td>3200000</td>\n",
       "      <td>2000-07-12</td>\n",
       "      <td>Public</td>\n",
       "      <td>RoC-Ahmedabad</td>\n",
       "      <td>Company limited by Shares</td>\n",
       "      <td>Non-govt company</td>\n",
       "      <td>Listed</td>\n",
       "      <td>ZOTA HOUSE 2/896 HIRA MODI STREETSAGRAMPURA  3...</td>\n",
       "      <td>395002.0</td>\n",
       "      <td>Gujarat</td>\n",
       "      <td>zotahealth@yahoo.com</td>\n",
       "      <td>₹ 17.54</td>\n",
       "      <td>₹ 20.00</td>\n",
       "    </tr>\n",
       "    <tr>\n",
       "      <th>12596</th>\n",
       "      <td>https://csr.gov.in/companyprofile/dashboard.ph...</td>\n",
       "      <td>Zota Health Care Limited</td>\n",
       "      <td>0</td>\n",
       "      <td>2000-07-12</td>\n",
       "      <td>Public</td>\n",
       "      <td>RoC-Ahmedabad</td>\n",
       "      <td>Company limited by Shares</td>\n",
       "      <td>Non-govt company</td>\n",
       "      <td>Unlisted</td>\n",
       "      <td>ZOTA HOUSE 2/896 HIRA MODI STREETSAGRAMPURA  3...</td>\n",
       "      <td>395002.0</td>\n",
       "      <td>Gujarat</td>\n",
       "      <td>zotahealth@yahoo.com</td>\n",
       "      <td>₹ 17.54</td>\n",
       "      <td>₹ 20.00</td>\n",
       "    </tr>\n",
       "    <tr>\n",
       "      <th>14508</th>\n",
       "      <td>https://csr.gov.in/companyprofile/dashboard.ph...</td>\n",
       "      <td>Zylog Plastalloys Private Limited</td>\n",
       "      <td>0</td>\n",
       "      <td>1984-06-05</td>\n",
       "      <td>Private</td>\n",
       "      <td>RoC-Ahmedabad</td>\n",
       "      <td>Company limited by Shares</td>\n",
       "      <td>Non-govt company</td>\n",
       "      <td>Unlisted</td>\n",
       "      <td>401,-OFFICE, AKSHAT COMPLEX, NR. PARSHWA COMPL...</td>\n",
       "      <td>380015.0</td>\n",
       "      <td>Gujarat</td>\n",
       "      <td>a.damani@zylogplastalloys.com</td>\n",
       "      <td>₹ 0.75</td>\n",
       "      <td>₹ 0.75</td>\n",
       "    </tr>\n",
       "    <tr>\n",
       "      <th>10982</th>\n",
       "      <td>https://csr.gov.in/companyprofile/dashboard.ph...</td>\n",
       "      <td>Zylog Plastalloys Private Limited</td>\n",
       "      <td>0</td>\n",
       "      <td>1984-06-05</td>\n",
       "      <td>Private</td>\n",
       "      <td>RoC-Mumbai</td>\n",
       "      <td>Company limited by Shares</td>\n",
       "      <td>Non-govt company</td>\n",
       "      <td>Unlisted</td>\n",
       "      <td>C/O.JITENDRA C SHAH, 14 DIVYA MAHAL GYAN MANDI...</td>\n",
       "      <td>400028.0</td>\n",
       "      <td>Maharashtra</td>\n",
       "      <td>a.damani@zylogplastalloys.com</td>\n",
       "      <td>₹ 0.75</td>\n",
       "      <td>₹ 0.75</td>\n",
       "    </tr>\n",
       "  </tbody>\n",
       "</table>\n",
       "<p>615 rows × 15 columns</p>\n",
       "</div>"
      ],
      "text/plain": [
       "                                                     Url  \\\n",
       "1020   https://csr.gov.in/companyprofile/dashboard.ph...   \n",
       "15005  https://csr.gov.in/companyprofile/dashboard.ph...   \n",
       "3963   https://csr.gov.in/companyprofile/dashboard.ph...   \n",
       "17770  https://csr.gov.in/companyprofile/dashboard.ph...   \n",
       "4170   https://csr.gov.in/companyprofile/dashboard.ph...   \n",
       "...                                                  ...   \n",
       "5986   https://csr.gov.in/companyprofile/dashboard.ph...   \n",
       "3326   https://csr.gov.in/companyprofile/dashboard.ph...   \n",
       "12596  https://csr.gov.in/companyprofile/dashboard.ph...   \n",
       "14508  https://csr.gov.in/companyprofile/dashboard.ph...   \n",
       "10982  https://csr.gov.in/companyprofile/dashboard.ph...   \n",
       "\n",
       "                                   Company Name  CSR Spent 17-18  \\\n",
       "1020          3d Plm Software Solutions Limited         15300000   \n",
       "15005         3d Plm Software Solutions Limited                0   \n",
       "3963   A P I Ispat And Powertech Privatelimited          2500000   \n",
       "17770  A P I Ispat And Powertech Privatelimited                0   \n",
       "4170             Aadhar Housing Finance Limited          2300000   \n",
       "...                                         ...              ...   \n",
       "5986                         Zen Securities Ltd          1100000   \n",
       "3326                   Zota Health Care Limited          3200000   \n",
       "12596                  Zota Health Care Limited                0   \n",
       "14508         Zylog Plastalloys Private Limited                0   \n",
       "10982         Zylog Plastalloys Private Limited                0   \n",
       "\n",
       "      Date of Incorporation    Class               RoC  \\\n",
       "1020             2001-12-14   Public        RoC-Mumbai   \n",
       "15005            2001-12-14   Public        RoC-Mumbai   \n",
       "3963             2004-10-08  Private  RoC-Chhattisgarh   \n",
       "17770            2004-10-08  Private         RoC-Delhi   \n",
       "4170             1990-11-26   Public     RoC-Bangalore   \n",
       "...                     ...      ...               ...   \n",
       "5986             1994-05-11   Public     RoC-Hyderabad   \n",
       "3326             2000-07-12   Public     RoC-Ahmedabad   \n",
       "12596            2000-07-12   Public     RoC-Ahmedabad   \n",
       "14508            1984-06-05  Private     RoC-Ahmedabad   \n",
       "10982            1984-06-05  Private        RoC-Mumbai   \n",
       "\n",
       "                        Category      Sub Category Listing Status  \\\n",
       "1020   Company limited by Shares  Non-govt company         Listed   \n",
       "15005  Company limited by Shares  Non-govt company       Unlisted   \n",
       "3963   Company limited by Shares  Non-govt company       Unlisted   \n",
       "17770  Company limited by Shares  Non-govt company       Unlisted   \n",
       "4170   Company limited by Shares  Non-govt company       Unlisted   \n",
       "...                          ...               ...            ...   \n",
       "5986   Company limited by Shares  Non-govt company       Unlisted   \n",
       "3326   Company limited by Shares  Non-govt company         Listed   \n",
       "12596  Company limited by Shares  Non-govt company       Unlisted   \n",
       "14508  Company limited by Shares  Non-govt company       Unlisted   \n",
       "10982  Company limited by Shares  Non-govt company       Unlisted   \n",
       "\n",
       "                                      Registered Address   Zipcode  \\\n",
       "1020   PLANT 11, 3RD FLOORPIROJSHANAGAR, VIKHROLI (WE...  400079.0   \n",
       "15005  PLANT 11, 3RD FLOORPIROJSHANAGAR, VIKHROLI (WE...  400079.0   \n",
       "3963   Near Industrial Growth Center, Phase II,Siltar...  493111.0   \n",
       "17770        D-14 UDYOG NAGAR, MAIN ROHTAK ROAD   110041  110041.0   \n",
       "4170   No.3, 'JVT Towers', 8th A Main Road,Sampangi R...  560027.0   \n",
       "...                                                  ...       ...   \n",
       "5986   3rd floor,Vamsee Estates, 6-3-788/32Ameerpet  ...  500016.0   \n",
       "3326   ZOTA HOUSE 2/896 HIRA MODI STREETSAGRAMPURA  3...  395002.0   \n",
       "12596  ZOTA HOUSE 2/896 HIRA MODI STREETSAGRAMPURA  3...  395002.0   \n",
       "14508  401,-OFFICE, AKSHAT COMPLEX, NR. PARSHWA COMPL...  380015.0   \n",
       "10982  C/O.JITENDRA C SHAH, 14 DIVYA MAHAL GYAN MANDI...  400028.0   \n",
       "\n",
       "              State                        Email ID  \\\n",
       "1020    Maharashtra  Sunipa_GHOSH@3dplmsoftware.com   \n",
       "15005   Maharashtra  Sunipa_GHOSH@3dplmsoftware.com   \n",
       "3963   Chhattisgarh              ravi@realispat.com   \n",
       "17770         Delhi              ravi@realispat.com   \n",
       "4170      Karnataka   lourdunathan.MS@dvhousing.com   \n",
       "...             ...                             ...   \n",
       "5986      Telangana                 md@zenmoney.com   \n",
       "3326        Gujarat            zotahealth@yahoo.com   \n",
       "12596       Gujarat            zotahealth@yahoo.com   \n",
       "14508       Gujarat   a.damani@zylogplastalloys.com   \n",
       "10982   Maharashtra   a.damani@zylogplastalloys.com   \n",
       "\n",
       "      Paid-up Capital (in INR Cr.) Authorized Capital (in INR Cr.)  \n",
       "1020                      ₹ 344.81                        ₹ 757.60  \n",
       "15005                     ₹ 513.38                        ₹ 757.60  \n",
       "3963                       ₹ 44.04                         ₹ 45.00  \n",
       "17770                      ₹ 44.04                         ₹ 45.00  \n",
       "4170                       ₹ 21.21                        ₹ 220.00  \n",
       "...                            ...                             ...  \n",
       "5986                        ₹ 2.43                          ₹ 4.00  \n",
       "3326                       ₹ 17.54                         ₹ 20.00  \n",
       "12596                      ₹ 17.54                         ₹ 20.00  \n",
       "14508                       ₹ 0.75                          ₹ 0.75  \n",
       "10982                       ₹ 0.75                          ₹ 0.75  \n",
       "\n",
       "[615 rows x 15 columns]"
      ]
     },
     "execution_count": 99,
     "metadata": {},
     "output_type": "execute_result"
    }
   ],
   "source": [
    "csr_spent_17_18[csr_spent_17_18['Company Name'].isin(duplicates)].sort_values('Company Name')"
   ]
  },
  {
   "cell_type": "markdown",
   "id": "hybrid-stable",
   "metadata": {},
   "source": [
    "Duplicates in ```Companay Name``` does not mean the rows are duplicates. Many of the duplicates appear to be the same company, yet they have different Class, Listing Status, or CSR Spent 17-18 values."
   ]
  },
  {
   "cell_type": "markdown",
   "id": "occasional-northeast",
   "metadata": {},
   "source": [
    "### CSR Spent 17-18\n",
    "<a class=\"anchor\" id=\"4.3\"></a>\n",
    "Amount of money spent on CSR in the fiscal year 2017-18."
   ]
  },
  {
   "cell_type": "code",
   "execution_count": 100,
   "id": "quarterly-respondent",
   "metadata": {},
   "outputs": [
    {
     "data": {
      "text/plain": [
       "0        7450400000\n",
       "1        4820700000\n",
       "2        4000000000\n",
       "3        3745500000\n",
       "4        3310100000\n",
       "            ...    \n",
       "20970             0\n",
       "20971             0\n",
       "20972             0\n",
       "20973             0\n",
       "20974             0\n",
       "Name: CSR Spent 17-18, Length: 20975, dtype: int64"
      ]
     },
     "execution_count": 100,
     "metadata": {},
     "output_type": "execute_result"
    }
   ],
   "source": [
    "column = csr_spent_17_18[\"CSR Spent 17-18\"]\n",
    "column"
   ]
  },
  {
   "cell_type": "code",
   "execution_count": 101,
   "id": "binary-wings",
   "metadata": {},
   "outputs": [
    {
     "name": "stdout",
     "output_type": "stream",
     "text": [
      "No. of unique values: 749\n",
      "No. of duplicates: 360\n",
      "No. of 0 values: 12783\n",
      "Max: 7450400000\n",
      "Min: 0\n"
     ]
    }
   ],
   "source": [
    "#Check how many unique values\n",
    "print(\"No. of unique values:\", len(column.unique()))\n",
    "\n",
    "# Check for duplicates\n",
    "counter = dict(Counter(column))\n",
    "duplicates = { key:value for key, value in counter.items() if value > 1}\n",
    "#print(\"Duplicates:\", duplicates)\n",
    "if len(duplicates) > 0:\n",
    "    print(\"No. of duplicates:\", len(duplicates))\n",
    "\n",
    "#Check how many values are 0\n",
    "print(\"No. of 0 values:\", len(column[column == 0]))\n",
    "\n",
    "print('Max:', max(column))\n",
    "print(\"Min:\", min(column))"
   ]
  },
  {
   "cell_type": "code",
   "execution_count": 102,
   "id": "legal-bookmark",
   "metadata": {},
   "outputs": [
    {
     "data": {
      "image/png": "[encoded data removed]",
      "text/plain": [
       "<Figure size 720x432 with 1 Axes>"
      ]
     },
     "metadata": {
      "needs_background": "light"
     },
     "output_type": "display_data"
    }
   ],
   "source": [
    "bins= np.linspace(0, 74504000, 25)\n",
    "plt.figure(figsize = (10, 6))\n",
    "plt.hist(column[column != 0], bins=bins, edgecolor=\"k\")\n",
    "plt.title('CSR Spent 17-18')\n",
    "plt.xlabel('Amount Spent (INR)')\n",
    "plt.ylabel('Count of Companies')\n",
    "plt.xticks(bins, rotation = 90);"
   ]
  },
  {
   "cell_type": "code",
   "execution_count": 103,
   "id": "spatial-printer",
   "metadata": {},
   "outputs": [
    {
     "data": {
      "text/plain": [
       "count    2.097500e+04\n",
       "mean     6.410293e+06\n",
       "std      9.126581e+07\n",
       "min      0.000000e+00\n",
       "25%      0.000000e+00\n",
       "50%      0.000000e+00\n",
       "75%      1.500000e+06\n",
       "max      7.450400e+09\n",
       "Name: CSR Spent 17-18, dtype: float64"
      ]
     },
     "execution_count": 103,
     "metadata": {},
     "output_type": "execute_result"
    }
   ],
   "source": [
    "#Statistics\n",
    "column.describe()"
   ]
  },
  {
   "cell_type": "markdown",
   "id": "studied-alberta",
   "metadata": {},
   "source": [
    "### Date of Incorporation\n",
    "<a class=\"anchor\" id=\"4.4\"></a>\n",
    "Timestamp of date of incorporation: YYYY-MM-DD."
   ]
  },
  {
   "cell_type": "code",
   "execution_count": 104,
   "id": "offshore-dependence",
   "metadata": {},
   "outputs": [
    {
     "data": {
      "text/plain": [
       "0        1973-05-08\n",
       "1        1993-06-23\n",
       "2        1995-01-19\n",
       "3        1994-08-30\n",
       "4        1959-06-30\n",
       "            ...    \n",
       "20970    1992-09-02\n",
       "20971    2001-07-23\n",
       "20972    2006-02-14\n",
       "20973    1988-02-19\n",
       "20974    2006-03-01\n",
       "Name: Date of Incorporation, Length: 20975, dtype: object"
      ]
     },
     "execution_count": 104,
     "metadata": {},
     "output_type": "execute_result"
    }
   ],
   "source": [
    "column = csr_spent_17_18[\"Date of Incorporation\"]\n",
    "column"
   ]
  },
  {
   "cell_type": "code",
   "execution_count": 105,
   "id": "molecular-kingston",
   "metadata": {},
   "outputs": [
    {
     "name": "stdout",
     "output_type": "stream",
     "text": [
      "No. of unique values: 9202\n",
      "No. of duplicates: 5119\n",
      "No. of 0 values: 0\n",
      "Max: 2017-06-02\n",
      "Min: 1863-07-15\n"
     ]
    }
   ],
   "source": [
    "#Check how many unique values\n",
    "print(\"No. of unique values:\", len(column.unique()))\n",
    "\n",
    "# Check for duplicates\n",
    "counter = dict(Counter(column))\n",
    "duplicates = { key:value for key, value in counter.items() if value > 1}\n",
    "#print(\"Duplicates:\", duplicates)\n",
    "if len(duplicates) > 0:\n",
    "    print(\"No. of duplicates:\", len(duplicates))\n",
    "\n",
    "#Check how many values are 0\n",
    "print(\"No. of 0 values:\", len(column[column == 0]))\n",
    "\n",
    "print('Max:', max(column))\n",
    "print(\"Min:\", min(column))"
   ]
  },
  {
   "cell_type": "code",
   "execution_count": 106,
   "id": "interpreted-behalf",
   "metadata": {},
   "outputs": [
    {
     "name": "stdout",
     "output_type": "stream",
     "text": [
      "No. of unique values: 124\n"
     ]
    },
    {
     "data": {
      "text/html": [
       "<div>\n",
       "<style scoped>\n",
       "    .dataframe tbody tr th:only-of-type {\n",
       "        vertical-align: middle;\n",
       "    }\n",
       "\n",
       "    .dataframe tbody tr th {\n",
       "        vertical-align: top;\n",
       "    }\n",
       "\n",
       "    .dataframe thead th {\n",
       "        text-align: right;\n",
       "    }\n",
       "</style>\n",
       "<table border=\"1\" class=\"dataframe\">\n",
       "  <thead>\n",
       "    <tr style=\"text-align: right;\">\n",
       "      <th></th>\n",
       "      <th>Date</th>\n",
       "      <th>Count</th>\n",
       "    </tr>\n",
       "  </thead>\n",
       "  <tbody>\n",
       "    <tr>\n",
       "      <th>0</th>\n",
       "      <td>1973</td>\n",
       "      <td>113</td>\n",
       "    </tr>\n",
       "    <tr>\n",
       "      <th>1</th>\n",
       "      <td>1993</td>\n",
       "      <td>481</td>\n",
       "    </tr>\n",
       "    <tr>\n",
       "      <th>2</th>\n",
       "      <td>1995</td>\n",
       "      <td>884</td>\n",
       "    </tr>\n",
       "    <tr>\n",
       "      <th>3</th>\n",
       "      <td>1994</td>\n",
       "      <td>639</td>\n",
       "    </tr>\n",
       "    <tr>\n",
       "      <th>4</th>\n",
       "      <td>1959</td>\n",
       "      <td>29</td>\n",
       "    </tr>\n",
       "    <tr>\n",
       "      <th>...</th>\n",
       "      <td>...</td>\n",
       "      <td>...</td>\n",
       "    </tr>\n",
       "    <tr>\n",
       "      <th>119</th>\n",
       "      <td>1903</td>\n",
       "      <td>1</td>\n",
       "    </tr>\n",
       "    <tr>\n",
       "      <th>120</th>\n",
       "      <td>1873</td>\n",
       "      <td>1</td>\n",
       "    </tr>\n",
       "    <tr>\n",
       "      <th>121</th>\n",
       "      <td>1871</td>\n",
       "      <td>2</td>\n",
       "    </tr>\n",
       "    <tr>\n",
       "      <th>122</th>\n",
       "      <td>1917</td>\n",
       "      <td>2</td>\n",
       "    </tr>\n",
       "    <tr>\n",
       "      <th>123</th>\n",
       "      <td>1877</td>\n",
       "      <td>1</td>\n",
       "    </tr>\n",
       "  </tbody>\n",
       "</table>\n",
       "<p>124 rows × 2 columns</p>\n",
       "</div>"
      ],
      "text/plain": [
       "     Date  Count\n",
       "0    1973    113\n",
       "1    1993    481\n",
       "2    1995    884\n",
       "3    1994    639\n",
       "4    1959     29\n",
       "..    ...    ...\n",
       "119  1903      1\n",
       "120  1873      1\n",
       "121  1871      2\n",
       "122  1917      2\n",
       "123  1877      1\n",
       "\n",
       "[124 rows x 2 columns]"
      ]
     },
     "execution_count": 106,
     "metadata": {},
     "output_type": "execute_result"
    }
   ],
   "source": [
    "years = column.apply(lambda x: int(x[:4]))\n",
    "counter = dict(Counter(years))\n",
    "count = { key:[value] for key, value in counter.items()}\n",
    "table = pd.DataFrame.from_dict(count)\n",
    "table = table.melt(var_name=\"Date\", value_name=\"Count\")\n",
    "print(\"No. of unique values:\", table.shape[0])\n",
    "table"
   ]
  },
  {
   "cell_type": "code",
   "execution_count": 107,
   "id": "looking-hazard",
   "metadata": {},
   "outputs": [
    {
     "data": {
      "image/png": "[encoded data removed]",
      "text/plain": [
       "<Figure size 720x504 with 1 Axes>"
      ]
     },
     "metadata": {
      "needs_background": "light"
     },
     "output_type": "display_data"
    }
   ],
   "source": [
    "# Plot of number of each year\n",
    "plt.figure(figsize = (10, 7))\n",
    "plt.bar(table[\"Date\"], table[\"Count\"])\n",
    "plt.title(\"Count of Year of Incorporation\")\n",
    "plt.ylabel(\"Count\")\n",
    "plt.xlabel(\"Year\");"
   ]
  },
  {
   "cell_type": "markdown",
   "id": "finished-diary",
   "metadata": {},
   "source": [
    "### Class\n",
    "<a class=\"anchor\" id=\"4.5\"></a>\n",
    "Class of Company: Private or Public."
   ]
  },
  {
   "cell_type": "code",
   "execution_count": 108,
   "id": "royal-lending",
   "metadata": {},
   "outputs": [
    {
     "data": {
      "text/plain": [
       "0         Public\n",
       "1         Public\n",
       "2         Public\n",
       "3         Public\n",
       "4         Public\n",
       "          ...   \n",
       "20970    Private\n",
       "20971     Public\n",
       "20972    Private\n",
       "20973     Public\n",
       "20974    Private\n",
       "Name: Class, Length: 20975, dtype: object"
      ]
     },
     "execution_count": 108,
     "metadata": {},
     "output_type": "execute_result"
    }
   ],
   "source": [
    "column = csr_spent_17_18[\"Class\"]\n",
    "column"
   ]
  },
  {
   "cell_type": "code",
   "execution_count": 109,
   "id": "genuine-tragedy",
   "metadata": {},
   "outputs": [
    {
     "name": "stdout",
     "output_type": "stream",
     "text": [
      "Unique values: ['Public' 'Private' 'Private(One Person Company)']\n",
      "No. of unique values: 3\n",
      "Empty strings: 0\n"
     ]
    },
    {
     "data": {
      "text/html": [
       "<div>\n",
       "<style scoped>\n",
       "    .dataframe tbody tr th:only-of-type {\n",
       "        vertical-align: middle;\n",
       "    }\n",
       "\n",
       "    .dataframe tbody tr th {\n",
       "        vertical-align: top;\n",
       "    }\n",
       "\n",
       "    .dataframe thead th {\n",
       "        text-align: right;\n",
       "    }\n",
       "</style>\n",
       "<table border=\"1\" class=\"dataframe\">\n",
       "  <thead>\n",
       "    <tr style=\"text-align: right;\">\n",
       "      <th></th>\n",
       "      <th>Class</th>\n",
       "      <th>Count</th>\n",
       "    </tr>\n",
       "  </thead>\n",
       "  <tbody>\n",
       "    <tr>\n",
       "      <th>0</th>\n",
       "      <td>Private</td>\n",
       "      <td>14411</td>\n",
       "    </tr>\n",
       "    <tr>\n",
       "      <th>1</th>\n",
       "      <td>Public</td>\n",
       "      <td>6563</td>\n",
       "    </tr>\n",
       "    <tr>\n",
       "      <th>2</th>\n",
       "      <td>Private(One Person Company)</td>\n",
       "      <td>1</td>\n",
       "    </tr>\n",
       "  </tbody>\n",
       "</table>\n",
       "</div>"
      ],
      "text/plain": [
       "                         Class  Count\n",
       "0                      Private  14411\n",
       "1                       Public   6563\n",
       "2  Private(One Person Company)      1"
      ]
     },
     "execution_count": 109,
     "metadata": {},
     "output_type": "execute_result"
    }
   ],
   "source": [
    "print(\"Unique values:\", column.unique())\n",
    "print(\"No. of unique values:\", len(column.unique()))\n",
    "\n",
    "# Number of empty strings\n",
    "print(\"Empty strings:\", sum(column == \" \"))\n",
    "\n",
    "# Table of number of each class\n",
    "table = column.value_counts().rename_axis('Class').reset_index(name='Count')\n",
    "table"
   ]
  },
  {
   "cell_type": "code",
   "execution_count": 110,
   "id": "stable-times",
   "metadata": {},
   "outputs": [
    {
     "data": {
      "image/png": "[encoded data removed]",
      "text/plain": [
       "<Figure size 576x432 with 1 Axes>"
      ]
     },
     "metadata": {
      "needs_background": "light"
     },
     "output_type": "display_data"
    }
   ],
   "source": [
    "# Plot number of each class\n",
    "plt.figure(figsize = (8, 6))\n",
    "plt.bar(table[\"Class\"], table[\"Count\"])\n",
    "plt.title(\"Count of Company Classes\")\n",
    "plt.xlabel(\"Class\")\n",
    "plt.show()"
   ]
  },
  {
   "cell_type": "markdown",
   "id": "cross-arcade",
   "metadata": {},
   "source": [
    "### RoC\n",
    "<a class=\"anchor\" id=\"4.6\"></a>\n",
    "Registrar of Companies, an office under the MCA."
   ]
  },
  {
   "cell_type": "code",
   "execution_count": 111,
   "id": "consistent-designation",
   "metadata": {},
   "outputs": [
    {
     "data": {
      "text/plain": [
       "0           RoC-Mumbai\n",
       "1            RoC-Delhi\n",
       "2           RoC-Mumbai\n",
       "3           RoC-Mumbai\n",
       "4           RoC-Mumbai\n",
       "             ...      \n",
       "20970        RoC-Delhi\n",
       "20971        RoC-Delhi\n",
       "20972        RoC-Delhi\n",
       "20973    RoC-Hyderabad\n",
       "20974        RoC-Delhi\n",
       "Name: RoC, Length: 20975, dtype: object"
      ]
     },
     "execution_count": 111,
     "metadata": {},
     "output_type": "execute_result"
    }
   ],
   "source": [
    "column = csr_spent_17_18[\"RoC\"]\n",
    "column"
   ]
  },
  {
   "cell_type": "code",
   "execution_count": 112,
   "id": "descending-chinese",
   "metadata": {},
   "outputs": [
    {
     "name": "stdout",
     "output_type": "stream",
     "text": [
      "Unique values: ['RoC-Mumbai' 'RoC-Delhi' 'RoC-Bangalore' 'RoC-Cuttack' 'RoC-Ahmedabad'\n",
      " 'RoC-Hyderabad' 'RoC-Pune' 'RoC-Kolkata' 'RoC-Chennai'\n",
      " 'RoC-Himachal Pradesh' 'RoC-Gwalior' 'RoC-Jaipur' 'RoC-Chandigarh'\n",
      " 'ROC-Ernakulam' 'RoC-Coimbatore' 'RoC-Uttarakhand' 'RoC-Goa' 'RoC-Kanpur'\n",
      " 'RoC-Chhattisgarh' 'RoC-Patna' 'RoC-Shillong' 'RoC-Jharkhand'\n",
      " 'RoC-Pondicherry' 'RoC-Jammu' 'Unclassified']\n",
      "No. of unique values: 25\n"
     ]
    },
    {
     "data": {
      "text/html": [
       "<div>\n",
       "<style scoped>\n",
       "    .dataframe tbody tr th:only-of-type {\n",
       "        vertical-align: middle;\n",
       "    }\n",
       "\n",
       "    .dataframe tbody tr th {\n",
       "        vertical-align: top;\n",
       "    }\n",
       "\n",
       "    .dataframe thead th {\n",
       "        text-align: right;\n",
       "    }\n",
       "</style>\n",
       "<table border=\"1\" class=\"dataframe\">\n",
       "  <thead>\n",
       "    <tr style=\"text-align: right;\">\n",
       "      <th></th>\n",
       "      <th>RoC</th>\n",
       "      <th>Count</th>\n",
       "    </tr>\n",
       "  </thead>\n",
       "  <tbody>\n",
       "    <tr>\n",
       "      <th>0</th>\n",
       "      <td>RoC-Mumbai</td>\n",
       "      <td>5395</td>\n",
       "    </tr>\n",
       "    <tr>\n",
       "      <th>1</th>\n",
       "      <td>RoC-Delhi</td>\n",
       "      <td>4141</td>\n",
       "    </tr>\n",
       "    <tr>\n",
       "      <th>2</th>\n",
       "      <td>RoC-Bangalore</td>\n",
       "      <td>1752</td>\n",
       "    </tr>\n",
       "    <tr>\n",
       "      <th>3</th>\n",
       "      <td>RoC-Chennai</td>\n",
       "      <td>1575</td>\n",
       "    </tr>\n",
       "    <tr>\n",
       "      <th>4</th>\n",
       "      <td>RoC-Hyderabad</td>\n",
       "      <td>1473</td>\n",
       "    </tr>\n",
       "    <tr>\n",
       "      <th>5</th>\n",
       "      <td>RoC-Kolkata</td>\n",
       "      <td>1444</td>\n",
       "    </tr>\n",
       "    <tr>\n",
       "      <th>6</th>\n",
       "      <td>RoC-Ahmedabad</td>\n",
       "      <td>1355</td>\n",
       "    </tr>\n",
       "    <tr>\n",
       "      <th>7</th>\n",
       "      <td>RoC-Pune</td>\n",
       "      <td>1001</td>\n",
       "    </tr>\n",
       "    <tr>\n",
       "      <th>8</th>\n",
       "      <td>RoC-Kanpur</td>\n",
       "      <td>471</td>\n",
       "    </tr>\n",
       "    <tr>\n",
       "      <th>9</th>\n",
       "      <td>RoC-Coimbatore</td>\n",
       "      <td>364</td>\n",
       "    </tr>\n",
       "    <tr>\n",
       "      <th>10</th>\n",
       "      <td>RoC-Chandigarh</td>\n",
       "      <td>334</td>\n",
       "    </tr>\n",
       "    <tr>\n",
       "      <th>11</th>\n",
       "      <td>RoC-Jaipur</td>\n",
       "      <td>330</td>\n",
       "    </tr>\n",
       "    <tr>\n",
       "      <th>12</th>\n",
       "      <td>ROC-Ernakulam</td>\n",
       "      <td>311</td>\n",
       "    </tr>\n",
       "    <tr>\n",
       "      <th>13</th>\n",
       "      <td>RoC-Gwalior</td>\n",
       "      <td>253</td>\n",
       "    </tr>\n",
       "    <tr>\n",
       "      <th>14</th>\n",
       "      <td>RoC-Cuttack</td>\n",
       "      <td>141</td>\n",
       "    </tr>\n",
       "    <tr>\n",
       "      <th>15</th>\n",
       "      <td>RoC-Goa</td>\n",
       "      <td>135</td>\n",
       "    </tr>\n",
       "    <tr>\n",
       "      <th>16</th>\n",
       "      <td>RoC-Chhattisgarh</td>\n",
       "      <td>112</td>\n",
       "    </tr>\n",
       "    <tr>\n",
       "      <th>17</th>\n",
       "      <td>RoC-Shillong</td>\n",
       "      <td>104</td>\n",
       "    </tr>\n",
       "    <tr>\n",
       "      <th>18</th>\n",
       "      <td>RoC-Himachal Pradesh</td>\n",
       "      <td>75</td>\n",
       "    </tr>\n",
       "    <tr>\n",
       "      <th>19</th>\n",
       "      <td>RoC-Patna</td>\n",
       "      <td>59</td>\n",
       "    </tr>\n",
       "    <tr>\n",
       "      <th>20</th>\n",
       "      <td>RoC-Uttarakhand</td>\n",
       "      <td>50</td>\n",
       "    </tr>\n",
       "    <tr>\n",
       "      <th>21</th>\n",
       "      <td>RoC-Jharkhand</td>\n",
       "      <td>37</td>\n",
       "    </tr>\n",
       "    <tr>\n",
       "      <th>22</th>\n",
       "      <td>Unclassified</td>\n",
       "      <td>25</td>\n",
       "    </tr>\n",
       "    <tr>\n",
       "      <th>23</th>\n",
       "      <td>RoC-Jammu</td>\n",
       "      <td>22</td>\n",
       "    </tr>\n",
       "    <tr>\n",
       "      <th>24</th>\n",
       "      <td>RoC-Pondicherry</td>\n",
       "      <td>16</td>\n",
       "    </tr>\n",
       "  </tbody>\n",
       "</table>\n",
       "</div>"
      ],
      "text/plain": [
       "                     RoC  Count\n",
       "0             RoC-Mumbai   5395\n",
       "1              RoC-Delhi   4141\n",
       "2          RoC-Bangalore   1752\n",
       "3            RoC-Chennai   1575\n",
       "4          RoC-Hyderabad   1473\n",
       "5            RoC-Kolkata   1444\n",
       "6          RoC-Ahmedabad   1355\n",
       "7               RoC-Pune   1001\n",
       "8             RoC-Kanpur    471\n",
       "9         RoC-Coimbatore    364\n",
       "10        RoC-Chandigarh    334\n",
       "11            RoC-Jaipur    330\n",
       "12         ROC-Ernakulam    311\n",
       "13           RoC-Gwalior    253\n",
       "14           RoC-Cuttack    141\n",
       "15               RoC-Goa    135\n",
       "16      RoC-Chhattisgarh    112\n",
       "17          RoC-Shillong    104\n",
       "18  RoC-Himachal Pradesh     75\n",
       "19             RoC-Patna     59\n",
       "20       RoC-Uttarakhand     50\n",
       "21         RoC-Jharkhand     37\n",
       "22          Unclassified     25\n",
       "23             RoC-Jammu     22\n",
       "24       RoC-Pondicherry     16"
      ]
     },
     "execution_count": 112,
     "metadata": {},
     "output_type": "execute_result"
    }
   ],
   "source": [
    "print(\"Unique values:\", column.unique())\n",
    "print(\"No. of unique values:\", len(column.unique()))\n",
    "\n",
    "# Table of number of each class\n",
    "table = column.value_counts().rename_axis('RoC').reset_index(name='Count')\n",
    "table"
   ]
  },
  {
   "cell_type": "code",
   "execution_count": 113,
   "id": "electoral-director",
   "metadata": {},
   "outputs": [
    {
     "data": {
      "image/png": "[encoded data removed]",
      "text/plain": [
       "<Figure size 720x504 with 1 Axes>"
      ]
     },
     "metadata": {
      "needs_background": "light"
     },
     "output_type": "display_data"
    }
   ],
   "source": [
    "# Plot number of each class\n",
    "plt.figure(figsize = (10, 7))\n",
    "plt.bar(table[\"RoC\"], table[\"Count\"])\n",
    "plt.title(\"Count of RoC\")\n",
    "plt.xlabel(\"RoC\")\n",
    "plt.ylabel('Count')\n",
    "plt.xticks(rotation = 90)\n",
    "plt.show()"
   ]
  },
  {
   "cell_type": "markdown",
   "id": "therapeutic-couple",
   "metadata": {},
   "source": [
    "### Category\n",
    "<a class=\"anchor\" id=\"4.7\"></a>\n",
    "Category of Company: Limited by Shares, Limited by Guarantee, Unlimited Company."
   ]
  },
  {
   "cell_type": "code",
   "execution_count": 114,
   "id": "exterior-teaching",
   "metadata": {},
   "outputs": [
    {
     "data": {
      "text/plain": [
       "0        Company limited by Shares\n",
       "1        Company limited by Shares\n",
       "2        Company limited by Shares\n",
       "3        Company limited by Shares\n",
       "4        Company limited by Shares\n",
       "                   ...            \n",
       "20970    Company limited by Shares\n",
       "20971    Company limited by Shares\n",
       "20972    Company limited by Shares\n",
       "20973    Company limited by Shares\n",
       "20974    Company limited by Shares\n",
       "Name: Category, Length: 20975, dtype: object"
      ]
     },
     "execution_count": 114,
     "metadata": {},
     "output_type": "execute_result"
    }
   ],
   "source": [
    "column = csr_spent_17_18[\"Category\"]\n",
    "column"
   ]
  },
  {
   "cell_type": "code",
   "execution_count": 115,
   "id": "covered-bryan",
   "metadata": {},
   "outputs": [
    {
     "name": "stdout",
     "output_type": "stream",
     "text": [
      "Unique values: ['Company limited by Shares' 'Company Limited by Guarantee'\n",
      " 'Unlimited Company']\n",
      "No. of unique values: 3\n"
     ]
    },
    {
     "data": {
      "text/html": [
       "<div>\n",
       "<style scoped>\n",
       "    .dataframe tbody tr th:only-of-type {\n",
       "        vertical-align: middle;\n",
       "    }\n",
       "\n",
       "    .dataframe tbody tr th {\n",
       "        vertical-align: top;\n",
       "    }\n",
       "\n",
       "    .dataframe thead th {\n",
       "        text-align: right;\n",
       "    }\n",
       "</style>\n",
       "<table border=\"1\" class=\"dataframe\">\n",
       "  <thead>\n",
       "    <tr style=\"text-align: right;\">\n",
       "      <th></th>\n",
       "      <th>Category</th>\n",
       "      <th>Count</th>\n",
       "    </tr>\n",
       "  </thead>\n",
       "  <tbody>\n",
       "    <tr>\n",
       "      <th>0</th>\n",
       "      <td>Company limited by Shares</td>\n",
       "      <td>20862</td>\n",
       "    </tr>\n",
       "    <tr>\n",
       "      <th>1</th>\n",
       "      <td>Company Limited by Guarantee</td>\n",
       "      <td>87</td>\n",
       "    </tr>\n",
       "    <tr>\n",
       "      <th>2</th>\n",
       "      <td>Unlimited Company</td>\n",
       "      <td>26</td>\n",
       "    </tr>\n",
       "  </tbody>\n",
       "</table>\n",
       "</div>"
      ],
      "text/plain": [
       "                       Category  Count\n",
       "0     Company limited by Shares  20862\n",
       "1  Company Limited by Guarantee     87\n",
       "2             Unlimited Company     26"
      ]
     },
     "execution_count": 115,
     "metadata": {},
     "output_type": "execute_result"
    }
   ],
   "source": [
    "print(\"Unique values:\", column.unique())\n",
    "print(\"No. of unique values:\", len(column.unique()))\n",
    "\n",
    "# Table of number of each category\n",
    "table = column.value_counts().rename_axis('Category').reset_index(name='Count')\n",
    "table"
   ]
  },
  {
   "cell_type": "code",
   "execution_count": 116,
   "id": "casual-shower",
   "metadata": {},
   "outputs": [
    {
     "data": {
      "image/png": "[encoded data removed]",
      "text/plain": [
       "<Figure size 576x360 with 1 Axes>"
      ]
     },
     "metadata": {
      "needs_background": "light"
     },
     "output_type": "display_data"
    }
   ],
   "source": [
    "# Plot number of each Category\n",
    "plt.figure(figsize = (8, 5))\n",
    "plt.bar(table[\"Category\"], table[\"Count\"])\n",
    "plt.title(\"Count of Company Categories\")\n",
    "plt.xlabel(\"Category\")\n",
    "plt.xticks(rotation = 40)\n",
    "plt.show()"
   ]
  },
  {
   "cell_type": "markdown",
   "id": "registered-immunology",
   "metadata": {},
   "source": [
    "### Sub Category \n",
    "<a class=\"anchor\" id=\"4.8\"></a>\n",
    "Subcategory of Company: Non-govt, Union Gtvt, State Govt, Subsidiary of Foreign Company, Guarantee and Association Company."
   ]
  },
  {
   "cell_type": "code",
   "execution_count": 117,
   "id": "bacterial-rebound",
   "metadata": {},
   "outputs": [
    {
     "data": {
      "text/plain": [
       "0          Non-govt company\n",
       "1        Union Govt company\n",
       "2          Non-govt company\n",
       "3          Non-govt company\n",
       "4        Union Govt company\n",
       "                ...        \n",
       "20970      Non-govt company\n",
       "20971      Non-govt company\n",
       "20972      Non-govt company\n",
       "20973      Non-govt company\n",
       "20974      Non-govt company\n",
       "Name: Sub Category, Length: 20975, dtype: object"
      ]
     },
     "execution_count": 117,
     "metadata": {},
     "output_type": "execute_result"
    }
   ],
   "source": [
    "column = csr_spent_17_18[\"Sub Category\"]\n",
    "column"
   ]
  },
  {
   "cell_type": "code",
   "execution_count": 118,
   "id": "precise-factory",
   "metadata": {},
   "outputs": [
    {
     "name": "stdout",
     "output_type": "stream",
     "text": [
      "Unique values: ['Non-govt company' 'Union Govt company' 'State Govt company'\n",
      " 'Subsidiary of Foreign Company' 'Guarantee and Association comp']\n",
      "No. of unique values: 5\n"
     ]
    },
    {
     "data": {
      "text/html": [
       "<div>\n",
       "<style scoped>\n",
       "    .dataframe tbody tr th:only-of-type {\n",
       "        vertical-align: middle;\n",
       "    }\n",
       "\n",
       "    .dataframe tbody tr th {\n",
       "        vertical-align: top;\n",
       "    }\n",
       "\n",
       "    .dataframe thead th {\n",
       "        text-align: right;\n",
       "    }\n",
       "</style>\n",
       "<table border=\"1\" class=\"dataframe\">\n",
       "  <thead>\n",
       "    <tr style=\"text-align: right;\">\n",
       "      <th></th>\n",
       "      <th>Sub-category</th>\n",
       "      <th>Count</th>\n",
       "    </tr>\n",
       "  </thead>\n",
       "  <tbody>\n",
       "    <tr>\n",
       "      <th>0</th>\n",
       "      <td>Non-govt company</td>\n",
       "      <td>19767</td>\n",
       "    </tr>\n",
       "    <tr>\n",
       "      <th>1</th>\n",
       "      <td>Subsidiary of Foreign Company</td>\n",
       "      <td>653</td>\n",
       "    </tr>\n",
       "    <tr>\n",
       "      <th>2</th>\n",
       "      <td>State Govt company</td>\n",
       "      <td>317</td>\n",
       "    </tr>\n",
       "    <tr>\n",
       "      <th>3</th>\n",
       "      <td>Union Govt company</td>\n",
       "      <td>215</td>\n",
       "    </tr>\n",
       "    <tr>\n",
       "      <th>4</th>\n",
       "      <td>Guarantee and Association comp</td>\n",
       "      <td>23</td>\n",
       "    </tr>\n",
       "  </tbody>\n",
       "</table>\n",
       "</div>"
      ],
      "text/plain": [
       "                     Sub-category  Count\n",
       "0                Non-govt company  19767\n",
       "1   Subsidiary of Foreign Company    653\n",
       "2              State Govt company    317\n",
       "3              Union Govt company    215\n",
       "4  Guarantee and Association comp     23"
      ]
     },
     "execution_count": 118,
     "metadata": {},
     "output_type": "execute_result"
    }
   ],
   "source": [
    "print(\"Unique values:\", column.unique())\n",
    "print(\"No. of unique values:\", len(column.unique()))\n",
    "\n",
    "# Table of number of each sub-category\n",
    "table = column.value_counts().rename_axis('Sub-category').reset_index(name='Count')\n",
    "table"
   ]
  },
  {
   "cell_type": "code",
   "execution_count": 119,
   "id": "stone-deficit",
   "metadata": {},
   "outputs": [
    {
     "data": {
      "image/png": "[encoded data removed]",
      "text/plain": [
       "<Figure size 576x360 with 1 Axes>"
      ]
     },
     "metadata": {
      "needs_background": "light"
     },
     "output_type": "display_data"
    }
   ],
   "source": [
    "# Plot number of each sub-category\n",
    "plt.figure(figsize = (8, 5))\n",
    "plt.bar(table[\"Sub-category\"], table[\"Count\"])\n",
    "plt.title(\"Count of Company Sub-categories\")\n",
    "plt.xlabel(\"Sub-category\")\n",
    "plt.xticks(rotation = 30)\n",
    "plt.show()"
   ]
  },
  {
   "cell_type": "markdown",
   "id": "heated-suite",
   "metadata": {},
   "source": [
    "### Listing Status \n",
    "<a class=\"anchor\" id=\"4.9\"></a>\n",
    "Lisitng status: Listed or Unlisited."
   ]
  },
  {
   "cell_type": "code",
   "execution_count": 120,
   "id": "competitive-murder",
   "metadata": {},
   "outputs": [
    {
     "data": {
      "text/plain": [
       "0          Listed\n",
       "1          Listed\n",
       "2          Listed\n",
       "3          Listed\n",
       "4          Listed\n",
       "           ...   \n",
       "20970    Unlisted\n",
       "20971      Listed\n",
       "20972    Unlisted\n",
       "20973    Unlisted\n",
       "20974    Unlisted\n",
       "Name: Listing Status, Length: 20975, dtype: object"
      ]
     },
     "execution_count": 120,
     "metadata": {},
     "output_type": "execute_result"
    }
   ],
   "source": [
    "column = csr_spent_17_18[\"Listing Status\"]\n",
    "column"
   ]
  },
  {
   "cell_type": "code",
   "execution_count": 121,
   "id": "dried-scanning",
   "metadata": {},
   "outputs": [
    {
     "name": "stdout",
     "output_type": "stream",
     "text": [
      "Unique values: ['Listed' 'Unlisted']\n",
      "No. of unique values: 2\n"
     ]
    },
    {
     "data": {
      "text/html": [
       "<div>\n",
       "<style scoped>\n",
       "    .dataframe tbody tr th:only-of-type {\n",
       "        vertical-align: middle;\n",
       "    }\n",
       "\n",
       "    .dataframe tbody tr th {\n",
       "        vertical-align: top;\n",
       "    }\n",
       "\n",
       "    .dataframe thead th {\n",
       "        text-align: right;\n",
       "    }\n",
       "</style>\n",
       "<table border=\"1\" class=\"dataframe\">\n",
       "  <thead>\n",
       "    <tr style=\"text-align: right;\">\n",
       "      <th></th>\n",
       "      <th>Listing Status</th>\n",
       "      <th>Count</th>\n",
       "    </tr>\n",
       "  </thead>\n",
       "  <tbody>\n",
       "    <tr>\n",
       "      <th>0</th>\n",
       "      <td>Unlisted</td>\n",
       "      <td>18943</td>\n",
       "    </tr>\n",
       "    <tr>\n",
       "      <th>1</th>\n",
       "      <td>Listed</td>\n",
       "      <td>2032</td>\n",
       "    </tr>\n",
       "  </tbody>\n",
       "</table>\n",
       "</div>"
      ],
      "text/plain": [
       "  Listing Status  Count\n",
       "0       Unlisted  18943\n",
       "1         Listed   2032"
      ]
     },
     "execution_count": 121,
     "metadata": {},
     "output_type": "execute_result"
    }
   ],
   "source": [
    "print(\"Unique values:\", column.unique())\n",
    "print(\"No. of unique values:\", len(column.unique()))\n",
    "\n",
    "# Table of number of each category\n",
    "table = column.value_counts().rename_axis('Listing Status').reset_index(name='Count')\n",
    "table"
   ]
  },
  {
   "cell_type": "code",
   "execution_count": 122,
   "id": "domestic-import",
   "metadata": {},
   "outputs": [
    {
     "data": {
      "image/png": "[encoded data removed]",
      "text/plain": [
       "<Figure size 576x360 with 1 Axes>"
      ]
     },
     "metadata": {
      "needs_background": "light"
     },
     "output_type": "display_data"
    }
   ],
   "source": [
    "# Plot number of lisiting status'\n",
    "plt.figure(figsize = (8, 5))\n",
    "plt.bar(table[\"Listing Status\"], table[\"Count\"])\n",
    "plt.title(\"Count of Listing Status\")\n",
    "plt.xlabel(\"Listing Status\")\n",
    "plt.xticks(rotation = 40)\n",
    "plt.show()"
   ]
  },
  {
   "cell_type": "markdown",
   "id": "express-enterprise",
   "metadata": {},
   "source": [
    "### Registered Address\n",
    "<a class=\"anchor\" id=\"4.10\"></a>\n",
    "Address of the registered office."
   ]
  },
  {
   "cell_type": "code",
   "execution_count": 171,
   "id": "corrected-concentrate",
   "metadata": {},
   "outputs": [
    {
     "data": {
      "text/plain": [
       "0        3 RD FLOORMAKER CHAMBER IV222 NARIMAN POINT  4...\n",
       "1        Plot No. 5A- 5BNelson Mandela Road,Vasant Kunj...\n",
       "2          9TH FLOOR, NIRMAL BUILDINGNARIMAN POINT  400021\n",
       "3        HDFC BANK HOUSESENAPATI BAPAT MARGLOWER PAREL ...\n",
       "4        Indian Oil Bhavan, G-9 All Yavar Jung Marg,BAN...\n",
       "                               ...                        \n",
       "20970                G-194, LANE NO.13SAINIK FARMS  110062\n",
       "20971    KHASRA  NO. 928, EXTENDED LAL DORA ABADIVILLAG...\n",
       "20972    H-2/207, 2nd FloorApra North EX Plaza, Netaji ...\n",
       "20973         NATCO HOUSE , ROAD NO.2BANJARA HILLS  000000\n",
       "20974    New Udaan Bhawan, Opp. Terminal-3,Indira Gandh...\n",
       "Name: Registered Address, Length: 20975, dtype: object"
      ]
     },
     "execution_count": 171,
     "metadata": {},
     "output_type": "execute_result"
    }
   ],
   "source": [
    "column = csr_spent_17_18[\"Registered Address\"]\n",
    "column"
   ]
  },
  {
   "cell_type": "code",
   "execution_count": 172,
   "id": "dense-bread",
   "metadata": {},
   "outputs": [
    {
     "name": "stdout",
     "output_type": "stream",
     "text": [
      "Invalid: 0\n",
      "No. of null values: 3\n",
      "No. of unique values: 19586\n"
     ]
    }
   ],
   "source": [
    "# Number of invalid addresses\n",
    "print(\"Invalid:\", sum(column == \"      IN\"))\n",
    "# -1 from invalid value\n",
    "print(\"No. of null values:\", sum(column.isnull()))\n",
    "print(\"No. of unique values:\", len(column.unique()) - 1)"
   ]
  },
  {
   "cell_type": "code",
   "execution_count": 126,
   "id": "superb-malpractice",
   "metadata": {},
   "outputs": [
    {
     "name": "stdout",
     "output_type": "stream",
     "text": [
      "No. of Duplicates: 932\n"
     ]
    },
    {
     "data": {
      "text/html": [
       "<div>\n",
       "<style scoped>\n",
       "    .dataframe tbody tr th:only-of-type {\n",
       "        vertical-align: middle;\n",
       "    }\n",
       "\n",
       "    .dataframe tbody tr th {\n",
       "        vertical-align: top;\n",
       "    }\n",
       "\n",
       "    .dataframe thead th {\n",
       "        text-align: right;\n",
       "    }\n",
       "</style>\n",
       "<table border=\"1\" class=\"dataframe\">\n",
       "  <thead>\n",
       "    <tr style=\"text-align: right;\">\n",
       "      <th></th>\n",
       "      <th>Duplicate Registered Addresses</th>\n",
       "      <th>Count</th>\n",
       "    </tr>\n",
       "  </thead>\n",
       "  <tbody>\n",
       "    <tr>\n",
       "      <th>0</th>\n",
       "      <td>138, Ansal Chamber - IIBikaji Cama Place  110066</td>\n",
       "      <td>15</td>\n",
       "    </tr>\n",
       "    <tr>\n",
       "      <th>1</th>\n",
       "      <td>2nd Floor, F-7, Block B-1,Mohan Cooperative In...</td>\n",
       "      <td>12</td>\n",
       "    </tr>\n",
       "    <tr>\n",
       "      <th>2</th>\n",
       "      <td>C/o The Tata Power Company Limited, CorporateC...</td>\n",
       "      <td>12</td>\n",
       "    </tr>\n",
       "    <tr>\n",
       "      <th>3</th>\n",
       "      <td>Edelweiss House, Off. C.S.T Road,Kalina,  400098</td>\n",
       "      <td>11</td>\n",
       "    </tr>\n",
       "    <tr>\n",
       "      <th>4</th>\n",
       "      <td>301-303, Mercantile House15, Kasturba Gandhi M...</td>\n",
       "      <td>10</td>\n",
       "    </tr>\n",
       "    <tr>\n",
       "      <th>...</th>\n",
       "      <td>...</td>\n",
       "      <td>...</td>\n",
       "    </tr>\n",
       "    <tr>\n",
       "      <th>927</th>\n",
       "      <td>VIRAJ IMPEX HOUSE47, P D' MELLO ROAD,  400009</td>\n",
       "      <td>2</td>\n",
       "    </tr>\n",
       "    <tr>\n",
       "      <th>928</th>\n",
       "      <td>KCI PLAZA, 7TH FLOOR23C, ASHUTOSH CHOWDHURY AV...</td>\n",
       "      <td>2</td>\n",
       "    </tr>\n",
       "    <tr>\n",
       "      <th>929</th>\n",
       "      <td>FLAT No. 621-A, 6th FLOOR,DEVIKA TOWERS, 6, NE...</td>\n",
       "      <td>2</td>\n",
       "    </tr>\n",
       "    <tr>\n",
       "      <th>930</th>\n",
       "      <td>D-64,Defence Colony,   110024</td>\n",
       "      <td>2</td>\n",
       "    </tr>\n",
       "    <tr>\n",
       "      <th>931</th>\n",
       "      <td>M-11, MIDDLE CIRCLECONNAUGHT CIRCUS  110001</td>\n",
       "      <td>2</td>\n",
       "    </tr>\n",
       "  </tbody>\n",
       "</table>\n",
       "<p>932 rows × 2 columns</p>\n",
       "</div>"
      ],
      "text/plain": [
       "                        Duplicate Registered Addresses  Count\n",
       "0     138, Ansal Chamber - IIBikaji Cama Place  110066     15\n",
       "1    2nd Floor, F-7, Block B-1,Mohan Cooperative In...     12\n",
       "2    C/o The Tata Power Company Limited, CorporateC...     12\n",
       "3     Edelweiss House, Off. C.S.T Road,Kalina,  400098     11\n",
       "4    301-303, Mercantile House15, Kasturba Gandhi M...     10\n",
       "..                                                 ...    ...\n",
       "927      VIRAJ IMPEX HOUSE47, P D' MELLO ROAD,  400009      2\n",
       "928  KCI PLAZA, 7TH FLOOR23C, ASHUTOSH CHOWDHURY AV...      2\n",
       "929  FLAT No. 621-A, 6th FLOOR,DEVIKA TOWERS, 6, NE...      2\n",
       "930                      D-64,Defence Colony,   110024      2\n",
       "931        M-11, MIDDLE CIRCLECONNAUGHT CIRCUS  110001      2\n",
       "\n",
       "[932 rows x 2 columns]"
      ]
     },
     "execution_count": 126,
     "metadata": {},
     "output_type": "execute_result"
    }
   ],
   "source": [
    "# Check for duplicates\n",
    "counter = dict(Counter(column))\n",
    "duplicates = { key:[value] for key, value in counter.items() if value > 1}\n",
    "print(\"No. of Duplicates:\", len(duplicates))\n",
    "\n",
    "table = pd.DataFrame.from_dict(duplicates)\n",
    "table = table.melt(var_name=\"Duplicate Registered Addresses\", value_name=\"Count\").sort_values(by=[\"Count\"], ascending=False).reset_index(drop=True)\n",
    "table"
   ]
  },
  {
   "cell_type": "code",
   "execution_count": 129,
   "id": "invalid-drinking",
   "metadata": {},
   "outputs": [
    {
     "data": {
      "text/html": [
       "<div>\n",
       "<style scoped>\n",
       "    .dataframe tbody tr th:only-of-type {\n",
       "        vertical-align: middle;\n",
       "    }\n",
       "\n",
       "    .dataframe tbody tr th {\n",
       "        vertical-align: top;\n",
       "    }\n",
       "\n",
       "    .dataframe thead th {\n",
       "        text-align: right;\n",
       "    }\n",
       "</style>\n",
       "<table border=\"1\" class=\"dataframe\">\n",
       "  <thead>\n",
       "    <tr style=\"text-align: right;\">\n",
       "      <th></th>\n",
       "      <th>Url</th>\n",
       "      <th>Company Name</th>\n",
       "      <th>CSR Spent 17-18</th>\n",
       "      <th>Date of Incorporation</th>\n",
       "      <th>Class</th>\n",
       "      <th>RoC</th>\n",
       "      <th>Category</th>\n",
       "      <th>Sub Category</th>\n",
       "      <th>Listing Status</th>\n",
       "      <th>Registered Address</th>\n",
       "      <th>Zipcode</th>\n",
       "      <th>State</th>\n",
       "      <th>Email ID</th>\n",
       "      <th>Paid-up Capital (in INR Cr.)</th>\n",
       "      <th>Authorized Capital (in INR Cr.)</th>\n",
       "    </tr>\n",
       "  </thead>\n",
       "  <tbody>\n",
       "    <tr>\n",
       "      <th>705</th>\n",
       "      <td>https://csr.gov.in/companyprofile/dashboard.ph...</td>\n",
       "      <td>Astral Poly Technik Limited</td>\n",
       "      <td>24200000</td>\n",
       "      <td>1996-03-25</td>\n",
       "      <td>Public</td>\n",
       "      <td>RoC-Ahmedabad</td>\n",
       "      <td>Company limited by Shares</td>\n",
       "      <td>Non-govt company</td>\n",
       "      <td>Listed</td>\n",
       "      <td>\"ASTRAL HOUSE\", 207/1, B/H RAJPATH CLUB,OFF S....</td>\n",
       "      <td>380059.0</td>\n",
       "      <td>Gujarat</td>\n",
       "      <td>co@astralpipes.com</td>\n",
       "      <td>₹ 11.98</td>\n",
       "      <td>₹ 15.00</td>\n",
       "    </tr>\n",
       "    <tr>\n",
       "      <th>11686</th>\n",
       "      <td>https://csr.gov.in/companyprofile/dashboard.ph...</td>\n",
       "      <td>Resinova Chemie Limited</td>\n",
       "      <td>0</td>\n",
       "      <td>2009-09-16</td>\n",
       "      <td>Public</td>\n",
       "      <td>RoC-Ahmedabad</td>\n",
       "      <td>Company limited by Shares</td>\n",
       "      <td>Non-govt company</td>\n",
       "      <td>Unlisted</td>\n",
       "      <td>\"ASTRAL HOUSE\", 207/1, B/H RAJPATH CLUB,OFF S....</td>\n",
       "      <td>380059.0</td>\n",
       "      <td>Gujarat</td>\n",
       "      <td>co@astralpipes.com</td>\n",
       "      <td>₹ 0.29</td>\n",
       "      <td>₹ 5.75</td>\n",
       "    </tr>\n",
       "    <tr>\n",
       "      <th>18774</th>\n",
       "      <td>https://csr.gov.in/companyprofile/dashboard.ph...</td>\n",
       "      <td>Bhushan Aviation Limited</td>\n",
       "      <td>0</td>\n",
       "      <td>2007-12-03</td>\n",
       "      <td>Public</td>\n",
       "      <td>RoC-Delhi</td>\n",
       "      <td>Company limited by Shares</td>\n",
       "      <td>Non-govt company</td>\n",
       "      <td>Unlisted</td>\n",
       "      <td>\"Bhushan Center\" 11th FloorHyatt Regency Compl...</td>\n",
       "      <td>110066.0</td>\n",
       "      <td>Delhi</td>\n",
       "      <td>bhushanaviation@in.com</td>\n",
       "      <td>₹ 1.01</td>\n",
       "      <td>₹ 1.10</td>\n",
       "    </tr>\n",
       "    <tr>\n",
       "      <th>17074</th>\n",
       "      <td>https://csr.gov.in/companyprofile/dashboard.ph...</td>\n",
       "      <td>Bhushan Infrastructure Private Limited</td>\n",
       "      <td>0</td>\n",
       "      <td>2006-09-16</td>\n",
       "      <td>Private</td>\n",
       "      <td>RoC-Delhi</td>\n",
       "      <td>Company limited by Shares</td>\n",
       "      <td>Non-govt company</td>\n",
       "      <td>Unlisted</td>\n",
       "      <td>\"Bhushan Center\" 11th FloorHyatt Regency Compl...</td>\n",
       "      <td>110066.0</td>\n",
       "      <td>Delhi</td>\n",
       "      <td>onlinefiling@gmail.com</td>\n",
       "      <td>₹ 39.58</td>\n",
       "      <td>₹ 40.00</td>\n",
       "    </tr>\n",
       "    <tr>\n",
       "      <th>348</th>\n",
       "      <td>https://csr.gov.in/companyprofile/dashboard.ph...</td>\n",
       "      <td>The India Cements Limited</td>\n",
       "      <td>55400000</td>\n",
       "      <td>1946-02-21</td>\n",
       "      <td>Public</td>\n",
       "      <td>RoC-Chennai</td>\n",
       "      <td>Company limited by Shares</td>\n",
       "      <td>Non-govt company</td>\n",
       "      <td>Listed</td>\n",
       "      <td>\"DHUN BUILDING\"827, ANNA SALAI,  600002</td>\n",
       "      <td>600002.0</td>\n",
       "      <td>Tamil Nadu</td>\n",
       "      <td>investor@indiacements.co.in</td>\n",
       "      <td>₹ 308.15</td>\n",
       "      <td>₹ 535.00</td>\n",
       "    </tr>\n",
       "    <tr>\n",
       "      <th>...</th>\n",
       "      <td>...</td>\n",
       "      <td>...</td>\n",
       "      <td>...</td>\n",
       "      <td>...</td>\n",
       "      <td>...</td>\n",
       "      <td>...</td>\n",
       "      <td>...</td>\n",
       "      <td>...</td>\n",
       "      <td>...</td>\n",
       "      <td>...</td>\n",
       "      <td>...</td>\n",
       "      <td>...</td>\n",
       "      <td>...</td>\n",
       "      <td>...</td>\n",
       "      <td>...</td>\n",
       "    </tr>\n",
       "    <tr>\n",
       "      <th>12596</th>\n",
       "      <td>https://csr.gov.in/companyprofile/dashboard.ph...</td>\n",
       "      <td>Zota Health Care Limited</td>\n",
       "      <td>0</td>\n",
       "      <td>2000-07-12</td>\n",
       "      <td>Public</td>\n",
       "      <td>RoC-Ahmedabad</td>\n",
       "      <td>Company limited by Shares</td>\n",
       "      <td>Non-govt company</td>\n",
       "      <td>Unlisted</td>\n",
       "      <td>ZOTA HOUSE 2/896 HIRA MODI STREETSAGRAMPURA  3...</td>\n",
       "      <td>395002.0</td>\n",
       "      <td>Gujarat</td>\n",
       "      <td>zotahealth@yahoo.com</td>\n",
       "      <td>₹ 17.54</td>\n",
       "      <td>₹ 20.00</td>\n",
       "    </tr>\n",
       "    <tr>\n",
       "      <th>3326</th>\n",
       "      <td>https://csr.gov.in/companyprofile/dashboard.ph...</td>\n",
       "      <td>Zota Health Care Limited</td>\n",
       "      <td>3200000</td>\n",
       "      <td>2000-07-12</td>\n",
       "      <td>Public</td>\n",
       "      <td>RoC-Ahmedabad</td>\n",
       "      <td>Company limited by Shares</td>\n",
       "      <td>Non-govt company</td>\n",
       "      <td>Listed</td>\n",
       "      <td>ZOTA HOUSE 2/896 HIRA MODI STREETSAGRAMPURA  3...</td>\n",
       "      <td>395002.0</td>\n",
       "      <td>Gujarat</td>\n",
       "      <td>zotahealth@yahoo.com</td>\n",
       "      <td>₹ 17.54</td>\n",
       "      <td>₹ 20.00</td>\n",
       "    </tr>\n",
       "    <tr>\n",
       "      <th>2121</th>\n",
       "      <td>https://csr.gov.in/companyprofile/dashboard.ph...</td>\n",
       "      <td>Desiccant Rotors International Privatelimited</td>\n",
       "      <td>6000000</td>\n",
       "      <td>1984-02-06</td>\n",
       "      <td>Private</td>\n",
       "      <td>RoC-Delhi</td>\n",
       "      <td>Company limited by Shares</td>\n",
       "      <td>Non-govt company</td>\n",
       "      <td>Unlisted</td>\n",
       "      <td>NaN</td>\n",
       "      <td>NaN</td>\n",
       "      <td>Delhi</td>\n",
       "      <td>dpahwa@pawa.com</td>\n",
       "      <td>₹ 0.04</td>\n",
       "      <td>₹ 0.25</td>\n",
       "    </tr>\n",
       "    <tr>\n",
       "      <th>15148</th>\n",
       "      <td>https://csr.gov.in/companyprofile/dashboard.ph...</td>\n",
       "      <td>Sarla Holdings Private Limited</td>\n",
       "      <td>0</td>\n",
       "      <td>2001-07-25</td>\n",
       "      <td>Private</td>\n",
       "      <td>RoC-Delhi</td>\n",
       "      <td>Company limited by Shares</td>\n",
       "      <td>Non-govt company</td>\n",
       "      <td>Unlisted</td>\n",
       "      <td>NaN</td>\n",
       "      <td>NaN</td>\n",
       "      <td>Delhi</td>\n",
       "      <td>rstiwari@sarlagroup.com</td>\n",
       "      <td>₹ 18.67</td>\n",
       "      <td>₹ 46.00</td>\n",
       "    </tr>\n",
       "    <tr>\n",
       "      <th>19368</th>\n",
       "      <td>https://csr.gov.in/companyprofile/dashboard.ph...</td>\n",
       "      <td>Central Coalfields Limited</td>\n",
       "      <td>0</td>\n",
       "      <td>1956-09-05</td>\n",
       "      <td>Private</td>\n",
       "      <td>RoC-Jharkhand</td>\n",
       "      <td>Company limited by Shares</td>\n",
       "      <td>Union Govt company</td>\n",
       "      <td>Unlisted</td>\n",
       "      <td>NaN</td>\n",
       "      <td>NaN</td>\n",
       "      <td>Jharkhand</td>\n",
       "      <td>cosecttccl@gmail.com</td>\n",
       "      <td>₹ 940.00</td>\n",
       "      <td>₹ 1,100.00</td>\n",
       "    </tr>\n",
       "  </tbody>\n",
       "</table>\n",
       "<p>2320 rows × 15 columns</p>\n",
       "</div>"
      ],
      "text/plain": [
       "                                                     Url  \\\n",
       "705    https://csr.gov.in/companyprofile/dashboard.ph...   \n",
       "11686  https://csr.gov.in/companyprofile/dashboard.ph...   \n",
       "18774  https://csr.gov.in/companyprofile/dashboard.ph...   \n",
       "17074  https://csr.gov.in/companyprofile/dashboard.ph...   \n",
       "348    https://csr.gov.in/companyprofile/dashboard.ph...   \n",
       "...                                                  ...   \n",
       "12596  https://csr.gov.in/companyprofile/dashboard.ph...   \n",
       "3326   https://csr.gov.in/companyprofile/dashboard.ph...   \n",
       "2121   https://csr.gov.in/companyprofile/dashboard.ph...   \n",
       "15148  https://csr.gov.in/companyprofile/dashboard.ph...   \n",
       "19368  https://csr.gov.in/companyprofile/dashboard.ph...   \n",
       "\n",
       "                                        Company Name  CSR Spent 17-18  \\\n",
       "705                      Astral Poly Technik Limited         24200000   \n",
       "11686                        Resinova Chemie Limited                0   \n",
       "18774                       Bhushan Aviation Limited                0   \n",
       "17074         Bhushan Infrastructure Private Limited                0   \n",
       "348                        The India Cements Limited         55400000   \n",
       "...                                              ...              ...   \n",
       "12596                       Zota Health Care Limited                0   \n",
       "3326                        Zota Health Care Limited          3200000   \n",
       "2121   Desiccant Rotors International Privatelimited          6000000   \n",
       "15148                 Sarla Holdings Private Limited                0   \n",
       "19368                     Central Coalfields Limited                0   \n",
       "\n",
       "      Date of Incorporation    Class            RoC  \\\n",
       "705              1996-03-25   Public  RoC-Ahmedabad   \n",
       "11686            2009-09-16   Public  RoC-Ahmedabad   \n",
       "18774            2007-12-03   Public      RoC-Delhi   \n",
       "17074            2006-09-16  Private      RoC-Delhi   \n",
       "348              1946-02-21   Public    RoC-Chennai   \n",
       "...                     ...      ...            ...   \n",
       "12596            2000-07-12   Public  RoC-Ahmedabad   \n",
       "3326             2000-07-12   Public  RoC-Ahmedabad   \n",
       "2121             1984-02-06  Private      RoC-Delhi   \n",
       "15148            2001-07-25  Private      RoC-Delhi   \n",
       "19368            1956-09-05  Private  RoC-Jharkhand   \n",
       "\n",
       "                        Category        Sub Category Listing Status  \\\n",
       "705    Company limited by Shares    Non-govt company         Listed   \n",
       "11686  Company limited by Shares    Non-govt company       Unlisted   \n",
       "18774  Company limited by Shares    Non-govt company       Unlisted   \n",
       "17074  Company limited by Shares    Non-govt company       Unlisted   \n",
       "348    Company limited by Shares    Non-govt company         Listed   \n",
       "...                          ...                 ...            ...   \n",
       "12596  Company limited by Shares    Non-govt company       Unlisted   \n",
       "3326   Company limited by Shares    Non-govt company         Listed   \n",
       "2121   Company limited by Shares    Non-govt company       Unlisted   \n",
       "15148  Company limited by Shares    Non-govt company       Unlisted   \n",
       "19368  Company limited by Shares  Union Govt company       Unlisted   \n",
       "\n",
       "                                      Registered Address   Zipcode  \\\n",
       "705    \"ASTRAL HOUSE\", 207/1, B/H RAJPATH CLUB,OFF S....  380059.0   \n",
       "11686  \"ASTRAL HOUSE\", 207/1, B/H RAJPATH CLUB,OFF S....  380059.0   \n",
       "18774  \"Bhushan Center\" 11th FloorHyatt Regency Compl...  110066.0   \n",
       "17074  \"Bhushan Center\" 11th FloorHyatt Regency Compl...  110066.0   \n",
       "348              \"DHUN BUILDING\"827, ANNA SALAI,  600002  600002.0   \n",
       "...                                                  ...       ...   \n",
       "12596  ZOTA HOUSE 2/896 HIRA MODI STREETSAGRAMPURA  3...  395002.0   \n",
       "3326   ZOTA HOUSE 2/896 HIRA MODI STREETSAGRAMPURA  3...  395002.0   \n",
       "2121                                                 NaN       NaN   \n",
       "15148                                                NaN       NaN   \n",
       "19368                                                NaN       NaN   \n",
       "\n",
       "            State                     Email ID Paid-up Capital (in INR Cr.)  \\\n",
       "705       Gujarat           co@astralpipes.com                      ₹ 11.98   \n",
       "11686     Gujarat           co@astralpipes.com                       ₹ 0.29   \n",
       "18774       Delhi       bhushanaviation@in.com                       ₹ 1.01   \n",
       "17074       Delhi       onlinefiling@gmail.com                      ₹ 39.58   \n",
       "348    Tamil Nadu  investor@indiacements.co.in                     ₹ 308.15   \n",
       "...           ...                          ...                          ...   \n",
       "12596     Gujarat         zotahealth@yahoo.com                      ₹ 17.54   \n",
       "3326      Gujarat         zotahealth@yahoo.com                      ₹ 17.54   \n",
       "2121        Delhi              dpahwa@pawa.com                       ₹ 0.04   \n",
       "15148       Delhi      rstiwari@sarlagroup.com                      ₹ 18.67   \n",
       "19368   Jharkhand         cosecttccl@gmail.com                     ₹ 940.00   \n",
       "\n",
       "      Authorized Capital (in INR Cr.)  \n",
       "705                           ₹ 15.00  \n",
       "11686                          ₹ 5.75  \n",
       "18774                          ₹ 1.10  \n",
       "17074                         ₹ 40.00  \n",
       "348                          ₹ 535.00  \n",
       "...                               ...  \n",
       "12596                         ₹ 20.00  \n",
       "3326                          ₹ 20.00  \n",
       "2121                           ₹ 0.25  \n",
       "15148                         ₹ 46.00  \n",
       "19368                      ₹ 1,100.00  \n",
       "\n",
       "[2320 rows x 15 columns]"
      ]
     },
     "execution_count": 129,
     "metadata": {},
     "output_type": "execute_result"
    }
   ],
   "source": [
    "csr_spent_17_18[csr_spent_17_18[\"Registered Address\"].isin(duplicates)].sort_values('Registered Address')"
   ]
  },
  {
   "cell_type": "markdown",
   "id": "necessary-proceeding",
   "metadata": {},
   "source": [
    "Duplicates in ```Registered Address``` do not mean duplicates in companies.\n",
    "Sometimes a very small NGO cannot afford their own office, and will register their non-profit under another existing one."
   ]
  },
  {
   "cell_type": "markdown",
   "id": "encouraging-liver",
   "metadata": {},
   "source": [
    "### Zipcode\n",
    "<a class=\"anchor\" id=\"4.11\"></a>\n",
    "Zipcode of the registered office."
   ]
  },
  {
   "cell_type": "code",
   "execution_count": 169,
   "id": "civilian-cancellation",
   "metadata": {},
   "outputs": [
    {
     "data": {
      "text/plain": [
       "0        400021.0\n",
       "1        110070.0\n",
       "2        400021.0\n",
       "3        400013.0\n",
       "4        400051.0\n",
       "           ...   \n",
       "20970    110062.0\n",
       "20971    110037.0\n",
       "20972    110034.0\n",
       "20973         0.0\n",
       "20974    110037.0\n",
       "Name: Zipcode, Length: 20975, dtype: float64"
      ]
     },
     "execution_count": 169,
     "metadata": {},
     "output_type": "execute_result"
    }
   ],
   "source": [
    "column = csr_spent_17_18[\"Zipcode\"]\n",
    "column"
   ]
  },
  {
   "cell_type": "code",
   "execution_count": 170,
   "id": "fluid-behalf",
   "metadata": {},
   "outputs": [
    {
     "name": "stdout",
     "output_type": "stream",
     "text": [
      "No. of unique values: 2300\n",
      "No. of zero values: 758\n",
      "No. of null values: 3\n",
      "No. of duplicates: 1309\n"
     ]
    }
   ],
   "source": [
    "print(\"No. of unique values:\", len(column.unique()))\n",
    "print(\"No. of zero values:\", len(column[column == 0]))\n",
    "print(\"No. of null values:\", sum(column.isnull()))\n",
    "\n",
    "# Check for duplicates\n",
    "counter = dict(Counter(column))\n",
    "duplicates = { key:value for key, value in counter.items() if value > 1}\n",
    "#print(\"Duplicates:\", duplicates)\n",
    "if len(duplicates) > 0:\n",
    "    print(\"No. of duplicates:\", len(duplicates))"
   ]
  },
  {
   "cell_type": "markdown",
   "id": "vocal-temperature",
   "metadata": {},
   "source": [
    "### State\n",
    "<a class=\"anchor\" id=\"4.12\"></a>\n",
    "State the company is located in."
   ]
  },
  {
   "cell_type": "code",
   "execution_count": 137,
   "id": "immediate-guard",
   "metadata": {},
   "outputs": [
    {
     "data": {
      "text/plain": [
       "0        Maharashtra\n",
       "1              Delhi\n",
       "2        Maharashtra\n",
       "3        Maharashtra\n",
       "4        Maharashtra\n",
       "            ...     \n",
       "20970          Delhi\n",
       "20971          Delhi\n",
       "20972          Delhi\n",
       "20973      Telangana\n",
       "20974          Delhi\n",
       "Name: State, Length: 20975, dtype: object"
      ]
     },
     "execution_count": 137,
     "metadata": {},
     "output_type": "execute_result"
    }
   ],
   "source": [
    "column = csr_spent_17_18[\"State\"]\n",
    "column"
   ]
  },
  {
   "cell_type": "code",
   "execution_count": 138,
   "id": "controlling-static",
   "metadata": {},
   "outputs": [
    {
     "name": "stdout",
     "output_type": "stream",
     "text": [
      "No. of unique values: 34\n",
      "No. of zero values: 0\n",
      "No. of duplicates: 32\n"
     ]
    }
   ],
   "source": [
    "print(\"No. of unique values:\", len(column.unique()))\n",
    "print(\"No. of zero values:\", len(column[column == 0]))\n",
    "\n",
    "# Check for duplicates\n",
    "counter = dict(Counter(column))\n",
    "duplicates = { key:value for key, value in counter.items() if value > 1}\n",
    "#print(\"Duplicates:\", duplicates)\n",
    "if len(duplicates) > 0:\n",
    "    print(\"No. of duplicates:\", len(duplicates))"
   ]
  },
  {
   "cell_type": "code",
   "execution_count": 140,
   "id": "considerable-victory",
   "metadata": {},
   "outputs": [
    {
     "data": {
      "text/html": [
       "<div>\n",
       "<style scoped>\n",
       "    .dataframe tbody tr th:only-of-type {\n",
       "        vertical-align: middle;\n",
       "    }\n",
       "\n",
       "    .dataframe tbody tr th {\n",
       "        vertical-align: top;\n",
       "    }\n",
       "\n",
       "    .dataframe thead th {\n",
       "        text-align: right;\n",
       "    }\n",
       "</style>\n",
       "<table border=\"1\" class=\"dataframe\">\n",
       "  <thead>\n",
       "    <tr style=\"text-align: right;\">\n",
       "      <th></th>\n",
       "      <th>State</th>\n",
       "      <th>Count</th>\n",
       "    </tr>\n",
       "  </thead>\n",
       "  <tbody>\n",
       "    <tr>\n",
       "      <th>0</th>\n",
       "      <td>Maharashtra</td>\n",
       "      <td>6401</td>\n",
       "    </tr>\n",
       "    <tr>\n",
       "      <th>1</th>\n",
       "      <td>Delhi</td>\n",
       "      <td>3627</td>\n",
       "    </tr>\n",
       "    <tr>\n",
       "      <th>2</th>\n",
       "      <td>Tamil Nadu</td>\n",
       "      <td>1935</td>\n",
       "    </tr>\n",
       "    <tr>\n",
       "      <th>3</th>\n",
       "      <td>Karnataka</td>\n",
       "      <td>1754</td>\n",
       "    </tr>\n",
       "    <tr>\n",
       "      <th>4</th>\n",
       "      <td>West Bengal</td>\n",
       "      <td>1438</td>\n",
       "    </tr>\n",
       "  </tbody>\n",
       "</table>\n",
       "</div>"
      ],
      "text/plain": [
       "         State  Count\n",
       "0  Maharashtra   6401\n",
       "1        Delhi   3627\n",
       "2   Tamil Nadu   1935\n",
       "3    Karnataka   1754\n",
       "4  West Bengal   1438"
      ]
     },
     "execution_count": 140,
     "metadata": {},
     "output_type": "execute_result"
    }
   ],
   "source": [
    "# Table of number of each sub-category\n",
    "table = column.value_counts().rename_axis('State').reset_index(name='Count')\n",
    "table.head()"
   ]
  },
  {
   "cell_type": "code",
   "execution_count": 144,
   "id": "romance-relative",
   "metadata": {},
   "outputs": [
    {
     "data": {
      "image/png": "[encoded data removed]",
      "text/plain": [
       "<Figure size 720x432 with 1 Axes>"
      ]
     },
     "metadata": {
      "needs_background": "light"
     },
     "output_type": "display_data"
    }
   ],
   "source": [
    "# Plot number of companies in each State\n",
    "plt.figure(figsize = (10, 6))\n",
    "plt.bar(table[\"State\"], table[\"Count\"])\n",
    "plt.title(\"Count of Companies in each State\")\n",
    "plt.xlabel(\"State\")\n",
    "plt.xticks(rotation = 90)\n",
    "plt.show()"
   ]
  },
  {
   "cell_type": "markdown",
   "id": "static-explosion",
   "metadata": {},
   "source": [
    "### Email ID\n",
    "<a class=\"anchor\" id=\"4.13\"></a>\n",
    "Email address."
   ]
  },
  {
   "cell_type": "code",
   "execution_count": 145,
   "id": "regulated-anime",
   "metadata": {},
   "outputs": [
    {
     "data": {
      "text/plain": [
       "0                sandeep.deshmukh@ril.com\n",
       "1                  secretariat@ongc.co.in\n",
       "2               rajendra.moholkar@tcs.com\n",
       "3              sanjay.dongre@hdfcbank.com\n",
       "4                   kgwalani@indianoil.in\n",
       "                       ...               \n",
       "20970                 ccm@shapesindia.com\n",
       "20971                       cs@vrl.net.in\n",
       "20972    Jayadev.mishra@ttelectronics.com\n",
       "20973           pathuri@natcopharma.co.in\n",
       "20974            Saurabh.Jain@gmrgroup.in\n",
       "Name: Email ID, Length: 20975, dtype: object"
      ]
     },
     "execution_count": 145,
     "metadata": {},
     "output_type": "execute_result"
    }
   ],
   "source": [
    "column = csr_spent_17_18[\"Email ID\"]\n",
    "column"
   ]
  },
  {
   "cell_type": "code",
   "execution_count": 159,
   "id": "eight-aurora",
   "metadata": {},
   "outputs": [
    {
     "name": "stdout",
     "output_type": "stream",
     "text": [
      "No. of unique values: 17323\n",
      "No. of null values: 5\n",
      "No. of duplicates: 2071\n"
     ]
    }
   ],
   "source": [
    "print(\"No. of unique values:\", len(column.unique()))\n",
    "print(\"No. of null values:\", len(column[column == \"-NA-\"]))\n",
    "\n",
    "# Check for duplicates\n",
    "counter = dict(Counter(column))\n",
    "duplicates = { key:value for key, value in counter.items() if value > 1}\n",
    "#print(\"Duplicates:\", duplicates)\n",
    "if len(duplicates) > 0:\n",
    "    print(\"No. of duplicates:\", len(duplicates))"
   ]
  },
  {
   "cell_type": "code",
   "execution_count": 161,
   "id": "musical-writing",
   "metadata": {},
   "outputs": [
    {
     "data": {
      "text/html": [
       "<div>\n",
       "<style scoped>\n",
       "    .dataframe tbody tr th:only-of-type {\n",
       "        vertical-align: middle;\n",
       "    }\n",
       "\n",
       "    .dataframe tbody tr th {\n",
       "        vertical-align: top;\n",
       "    }\n",
       "\n",
       "    .dataframe thead th {\n",
       "        text-align: right;\n",
       "    }\n",
       "</style>\n",
       "<table border=\"1\" class=\"dataframe\">\n",
       "  <thead>\n",
       "    <tr style=\"text-align: right;\">\n",
       "      <th></th>\n",
       "      <th>Url</th>\n",
       "      <th>Company Name</th>\n",
       "      <th>CSR Spent 17-18</th>\n",
       "      <th>Date of Incorporation</th>\n",
       "      <th>Class</th>\n",
       "      <th>RoC</th>\n",
       "      <th>Category</th>\n",
       "      <th>Sub Category</th>\n",
       "      <th>Listing Status</th>\n",
       "      <th>Registered Address</th>\n",
       "      <th>Zipcode</th>\n",
       "      <th>State</th>\n",
       "      <th>Email ID</th>\n",
       "      <th>Paid-up Capital (in INR Cr.)</th>\n",
       "      <th>Authorized Capital (in INR Cr.)</th>\n",
       "    </tr>\n",
       "  </thead>\n",
       "  <tbody>\n",
       "    <tr>\n",
       "      <th>3326</th>\n",
       "      <td>https://csr.gov.in/companyprofile/dashboard.ph...</td>\n",
       "      <td>Zota Health Care Limited</td>\n",
       "      <td>3200000</td>\n",
       "      <td>2000-07-12</td>\n",
       "      <td>Public</td>\n",
       "      <td>RoC-Ahmedabad</td>\n",
       "      <td>Company limited by Shares</td>\n",
       "      <td>Non-govt company</td>\n",
       "      <td>Listed</td>\n",
       "      <td>ZOTA HOUSE 2/896 HIRA MODI STREETSAGRAMPURA  3...</td>\n",
       "      <td>395002.0</td>\n",
       "      <td>Gujarat</td>\n",
       "      <td>zotahealth@yahoo.com</td>\n",
       "      <td>₹ 17.54</td>\n",
       "      <td>₹ 20.00</td>\n",
       "    </tr>\n",
       "    <tr>\n",
       "      <th>12596</th>\n",
       "      <td>https://csr.gov.in/companyprofile/dashboard.ph...</td>\n",
       "      <td>Zota Health Care Limited</td>\n",
       "      <td>0</td>\n",
       "      <td>2000-07-12</td>\n",
       "      <td>Public</td>\n",
       "      <td>RoC-Ahmedabad</td>\n",
       "      <td>Company limited by Shares</td>\n",
       "      <td>Non-govt company</td>\n",
       "      <td>Unlisted</td>\n",
       "      <td>ZOTA HOUSE 2/896 HIRA MODI STREETSAGRAMPURA  3...</td>\n",
       "      <td>395002.0</td>\n",
       "      <td>Gujarat</td>\n",
       "      <td>zotahealth@yahoo.com</td>\n",
       "      <td>₹ 17.54</td>\n",
       "      <td>₹ 20.00</td>\n",
       "    </tr>\n",
       "    <tr>\n",
       "      <th>19081</th>\n",
       "      <td>https://csr.gov.in/companyprofile/dashboard.ph...</td>\n",
       "      <td>Taiyo Lucid Private Limited</td>\n",
       "      <td>0</td>\n",
       "      <td>2002-08-23</td>\n",
       "      <td>Private</td>\n",
       "      <td>RoC-Mumbai</td>\n",
       "      <td>Company limited by Shares</td>\n",
       "      <td>Non-govt company</td>\n",
       "      <td>Unlisted</td>\n",
       "      <td>401  A  NAVBHARAT ESTATEZAKARIA BUNDER ROADSEW...</td>\n",
       "      <td>400015.0</td>\n",
       "      <td>Maharashtra</td>\n",
       "      <td>yvaza@lucidgroup.com</td>\n",
       "      <td>₹ 20.00</td>\n",
       "      <td>₹ 25.00</td>\n",
       "    </tr>\n",
       "    <tr>\n",
       "      <th>4042</th>\n",
       "      <td>https://csr.gov.in/companyprofile/dashboard.ph...</td>\n",
       "      <td>Lucid Colloids Limited</td>\n",
       "      <td>2400000</td>\n",
       "      <td>1996-05-23</td>\n",
       "      <td>Public</td>\n",
       "      <td>RoC-Mumbai</td>\n",
       "      <td>Company limited by Shares</td>\n",
       "      <td>Non-govt company</td>\n",
       "      <td>Unlisted</td>\n",
       "      <td>401  NAVBHARAT ESTATESZAKARIA BUNDER ROADSEWRI...</td>\n",
       "      <td>400015.0</td>\n",
       "      <td>Maharashtra</td>\n",
       "      <td>yvaza@lucidgroup.com</td>\n",
       "      <td>₹ 5.50</td>\n",
       "      <td>₹ 10.00</td>\n",
       "    </tr>\n",
       "    <tr>\n",
       "      <th>3454</th>\n",
       "      <td>https://csr.gov.in/companyprofile/dashboard.ph...</td>\n",
       "      <td>Vivimed Labs Limited</td>\n",
       "      <td>3000000</td>\n",
       "      <td>1988-09-22</td>\n",
       "      <td>Public</td>\n",
       "      <td>RoC-Bangalore</td>\n",
       "      <td>Company limited by Shares</td>\n",
       "      <td>Non-govt company</td>\n",
       "      <td>Listed</td>\n",
       "      <td>PLOT NO. 78-A,KOLHAR INDUSTRIAL AREA,BIDAR  58...</td>\n",
       "      <td>585403.0</td>\n",
       "      <td>Karnataka</td>\n",
       "      <td>yugandhar.kopparthi@vivimedlabs.com</td>\n",
       "      <td>₹ 16.50</td>\n",
       "      <td>₹ 111.00</td>\n",
       "    </tr>\n",
       "    <tr>\n",
       "      <th>...</th>\n",
       "      <td>...</td>\n",
       "      <td>...</td>\n",
       "      <td>...</td>\n",
       "      <td>...</td>\n",
       "      <td>...</td>\n",
       "      <td>...</td>\n",
       "      <td>...</td>\n",
       "      <td>...</td>\n",
       "      <td>...</td>\n",
       "      <td>...</td>\n",
       "      <td>...</td>\n",
       "      <td>...</td>\n",
       "      <td>...</td>\n",
       "      <td>...</td>\n",
       "      <td>...</td>\n",
       "    </tr>\n",
       "    <tr>\n",
       "      <th>8819</th>\n",
       "      <td>https://csr.gov.in/companyprofile/dashboard.ph...</td>\n",
       "      <td>The Mobilewallet Private Limited</td>\n",
       "      <td>0</td>\n",
       "      <td>2015-07-30</td>\n",
       "      <td>Private</td>\n",
       "      <td>RoC-Mumbai</td>\n",
       "      <td>Company limited by Shares</td>\n",
       "      <td>Non-govt company</td>\n",
       "      <td>Unlisted</td>\n",
       "      <td>Tower - 3, 3rd Floor, Equinox BusiOff. Bandra ...</td>\n",
       "      <td>400070.0</td>\n",
       "      <td>Maharashtra</td>\n",
       "      <td>-NA-</td>\n",
       "      <td>₹ 19.08</td>\n",
       "      <td>₹ 25.00</td>\n",
       "    </tr>\n",
       "    <tr>\n",
       "      <th>12135</th>\n",
       "      <td>https://csr.gov.in/companyprofile/dashboard.ph...</td>\n",
       "      <td>Central Social Welfare Board Pvt.ltd.</td>\n",
       "      <td>0</td>\n",
       "      <td>1969-03-31</td>\n",
       "      <td>Private</td>\n",
       "      <td>RoC-Delhi</td>\n",
       "      <td>Company Limited by Guarantee</td>\n",
       "      <td>Non-govt company</td>\n",
       "      <td>Unlisted</td>\n",
       "      <td>JEEVAN DEEP SANSAD MARG,NEWDELHI-110001   110001</td>\n",
       "      <td>110001.0</td>\n",
       "      <td>Delhi</td>\n",
       "      <td>-NA-</td>\n",
       "      <td>₹ 0.00</td>\n",
       "      <td>₹ 0.00</td>\n",
       "    </tr>\n",
       "    <tr>\n",
       "      <th>20117</th>\n",
       "      <td>https://csr.gov.in/companyprofile/dashboard.ph...</td>\n",
       "      <td>Tanish Equity Services Private Limited</td>\n",
       "      <td>0</td>\n",
       "      <td>2013-07-31</td>\n",
       "      <td>Private</td>\n",
       "      <td>RoC-Mumbai</td>\n",
       "      <td>Company limited by Shares</td>\n",
       "      <td>Non-govt company</td>\n",
       "      <td>Unlisted</td>\n",
       "      <td>Flat No. 401, 4th Floor, D Wing, Bldg. No. I,O...</td>\n",
       "      <td>400060.0</td>\n",
       "      <td>Maharashtra</td>\n",
       "      <td>-NA-</td>\n",
       "      <td>₹ 0.01</td>\n",
       "      <td>₹ 6.10</td>\n",
       "    </tr>\n",
       "    <tr>\n",
       "      <th>19665</th>\n",
       "      <td>https://csr.gov.in/companyprofile/dashboard.ph...</td>\n",
       "      <td>Star Line Leasing Ltd</td>\n",
       "      <td>0</td>\n",
       "      <td>1984-03-26</td>\n",
       "      <td>Public</td>\n",
       "      <td>RoC-Kanpur</td>\n",
       "      <td>Company limited by Shares</td>\n",
       "      <td>Non-govt company</td>\n",
       "      <td>Unlisted</td>\n",
       "      <td>C-3,PANKI INDUSTRIAL ESTATEKANPUR   000000</td>\n",
       "      <td>0.0</td>\n",
       "      <td>Uttar Pradesh</td>\n",
       "      <td>-NA-</td>\n",
       "      <td>₹ 3.83</td>\n",
       "      <td>₹ 0.10</td>\n",
       "    </tr>\n",
       "    <tr>\n",
       "      <th>16894</th>\n",
       "      <td>https://csr.gov.in/companyprofile/dashboard.ph...</td>\n",
       "      <td>Narmada Spinning Private Limited</td>\n",
       "      <td>0</td>\n",
       "      <td>2014-06-26</td>\n",
       "      <td>Private</td>\n",
       "      <td>RoC-Ahmedabad</td>\n",
       "      <td>Company limited by Shares</td>\n",
       "      <td>Non-govt company</td>\n",
       "      <td>Unlisted</td>\n",
       "      <td>Orchid Appartment, Bl. No. 202Opp. Ram Krupa D...</td>\n",
       "      <td>360005.0</td>\n",
       "      <td>Gujarat</td>\n",
       "      <td>-NA-</td>\n",
       "      <td>₹ 10.40</td>\n",
       "      <td>₹ 10.50</td>\n",
       "    </tr>\n",
       "  </tbody>\n",
       "</table>\n",
       "<p>5723 rows × 15 columns</p>\n",
       "</div>"
      ],
      "text/plain": [
       "                                                     Url  \\\n",
       "3326   https://csr.gov.in/companyprofile/dashboard.ph...   \n",
       "12596  https://csr.gov.in/companyprofile/dashboard.ph...   \n",
       "19081  https://csr.gov.in/companyprofile/dashboard.ph...   \n",
       "4042   https://csr.gov.in/companyprofile/dashboard.ph...   \n",
       "3454   https://csr.gov.in/companyprofile/dashboard.ph...   \n",
       "...                                                  ...   \n",
       "8819   https://csr.gov.in/companyprofile/dashboard.ph...   \n",
       "12135  https://csr.gov.in/companyprofile/dashboard.ph...   \n",
       "20117  https://csr.gov.in/companyprofile/dashboard.ph...   \n",
       "19665  https://csr.gov.in/companyprofile/dashboard.ph...   \n",
       "16894  https://csr.gov.in/companyprofile/dashboard.ph...   \n",
       "\n",
       "                                 Company Name  CSR Spent 17-18  \\\n",
       "3326                 Zota Health Care Limited          3200000   \n",
       "12596                Zota Health Care Limited                0   \n",
       "19081             Taiyo Lucid Private Limited                0   \n",
       "4042                   Lucid Colloids Limited          2400000   \n",
       "3454                     Vivimed Labs Limited          3000000   \n",
       "...                                       ...              ...   \n",
       "8819         The Mobilewallet Private Limited                0   \n",
       "12135   Central Social Welfare Board Pvt.ltd.                0   \n",
       "20117  Tanish Equity Services Private Limited                0   \n",
       "19665                   Star Line Leasing Ltd                0   \n",
       "16894        Narmada Spinning Private Limited                0   \n",
       "\n",
       "      Date of Incorporation    Class            RoC  \\\n",
       "3326             2000-07-12   Public  RoC-Ahmedabad   \n",
       "12596            2000-07-12   Public  RoC-Ahmedabad   \n",
       "19081            2002-08-23  Private     RoC-Mumbai   \n",
       "4042             1996-05-23   Public     RoC-Mumbai   \n",
       "3454             1988-09-22   Public  RoC-Bangalore   \n",
       "...                     ...      ...            ...   \n",
       "8819             2015-07-30  Private     RoC-Mumbai   \n",
       "12135            1969-03-31  Private      RoC-Delhi   \n",
       "20117            2013-07-31  Private     RoC-Mumbai   \n",
       "19665            1984-03-26   Public     RoC-Kanpur   \n",
       "16894            2014-06-26  Private  RoC-Ahmedabad   \n",
       "\n",
       "                           Category      Sub Category Listing Status  \\\n",
       "3326      Company limited by Shares  Non-govt company         Listed   \n",
       "12596     Company limited by Shares  Non-govt company       Unlisted   \n",
       "19081     Company limited by Shares  Non-govt company       Unlisted   \n",
       "4042      Company limited by Shares  Non-govt company       Unlisted   \n",
       "3454      Company limited by Shares  Non-govt company         Listed   \n",
       "...                             ...               ...            ...   \n",
       "8819      Company limited by Shares  Non-govt company       Unlisted   \n",
       "12135  Company Limited by Guarantee  Non-govt company       Unlisted   \n",
       "20117     Company limited by Shares  Non-govt company       Unlisted   \n",
       "19665     Company limited by Shares  Non-govt company       Unlisted   \n",
       "16894     Company limited by Shares  Non-govt company       Unlisted   \n",
       "\n",
       "                                      Registered Address   Zipcode  \\\n",
       "3326   ZOTA HOUSE 2/896 HIRA MODI STREETSAGRAMPURA  3...  395002.0   \n",
       "12596  ZOTA HOUSE 2/896 HIRA MODI STREETSAGRAMPURA  3...  395002.0   \n",
       "19081  401  A  NAVBHARAT ESTATEZAKARIA BUNDER ROADSEW...  400015.0   \n",
       "4042   401  NAVBHARAT ESTATESZAKARIA BUNDER ROADSEWRI...  400015.0   \n",
       "3454   PLOT NO. 78-A,KOLHAR INDUSTRIAL AREA,BIDAR  58...  585403.0   \n",
       "...                                                  ...       ...   \n",
       "8819   Tower - 3, 3rd Floor, Equinox BusiOff. Bandra ...  400070.0   \n",
       "12135   JEEVAN DEEP SANSAD MARG,NEWDELHI-110001   110001  110001.0   \n",
       "20117  Flat No. 401, 4th Floor, D Wing, Bldg. No. I,O...  400060.0   \n",
       "19665         C-3,PANKI INDUSTRIAL ESTATEKANPUR   000000       0.0   \n",
       "16894  Orchid Appartment, Bl. No. 202Opp. Ram Krupa D...  360005.0   \n",
       "\n",
       "               State                             Email ID  \\\n",
       "3326         Gujarat                 zotahealth@yahoo.com   \n",
       "12596        Gujarat                 zotahealth@yahoo.com   \n",
       "19081    Maharashtra                 yvaza@lucidgroup.com   \n",
       "4042     Maharashtra                 yvaza@lucidgroup.com   \n",
       "3454       Karnataka  yugandhar.kopparthi@vivimedlabs.com   \n",
       "...              ...                                  ...   \n",
       "8819     Maharashtra                                 -NA-   \n",
       "12135          Delhi                                 -NA-   \n",
       "20117    Maharashtra                                 -NA-   \n",
       "19665  Uttar Pradesh                                 -NA-   \n",
       "16894        Gujarat                                 -NA-   \n",
       "\n",
       "      Paid-up Capital (in INR Cr.) Authorized Capital (in INR Cr.)  \n",
       "3326                       ₹ 17.54                         ₹ 20.00  \n",
       "12596                      ₹ 17.54                         ₹ 20.00  \n",
       "19081                      ₹ 20.00                         ₹ 25.00  \n",
       "4042                        ₹ 5.50                         ₹ 10.00  \n",
       "3454                       ₹ 16.50                        ₹ 111.00  \n",
       "...                            ...                             ...  \n",
       "8819                       ₹ 19.08                         ₹ 25.00  \n",
       "12135                       ₹ 0.00                          ₹ 0.00  \n",
       "20117                       ₹ 0.01                          ₹ 6.10  \n",
       "19665                       ₹ 3.83                          ₹ 0.10  \n",
       "16894                      ₹ 10.40                         ₹ 10.50  \n",
       "\n",
       "[5723 rows x 15 columns]"
      ]
     },
     "execution_count": 161,
     "metadata": {},
     "output_type": "execute_result"
    }
   ],
   "source": [
    "csr_spent_17_18[csr_spent_17_18[\"Email ID\"].isin(duplicates)].sort_values('Email ID', ascending = False)"
   ]
  },
  {
   "cell_type": "markdown",
   "id": "inclusive-schema",
   "metadata": {},
   "source": [
    "Duplicates in ```Email ID``` does not necessarily mean duplicates in rows.\n",
    "Some duplicates appear to be the same company, yet the only difference is the \"Listing Status\" column value."
   ]
  },
  {
   "cell_type": "markdown",
   "id": "extensive-search",
   "metadata": {},
   "source": [
    "### Paid-up Capital (in INR Cr.)\n",
    "<a class=\"anchor\" id=\"4.14\"></a>\n",
    "Actual amount that is paid by shareholders to the company."
   ]
  },
  {
   "cell_type": "code",
   "execution_count": 173,
   "id": "third-rebecca",
   "metadata": {},
   "outputs": [
    {
     "data": {
      "text/plain": [
       "0        ₹ 6,333.50\n",
       "1        ₹ 6,416.62\n",
       "2          ₹ 197.04\n",
       "3          ₹ 517.61\n",
       "4        ₹ 4,855.90\n",
       "            ...    \n",
       "20970        ₹ 1.82\n",
       "20971       ₹ 33.92\n",
       "20972        ₹ 0.02\n",
       "20973        ₹ 0.42\n",
       "20974    ₹ 2,450.00\n",
       "Name: Paid-up Capital (in INR Cr.), Length: 20975, dtype: object"
      ]
     },
     "execution_count": 173,
     "metadata": {},
     "output_type": "execute_result"
    }
   ],
   "source": [
    "column = csr_spent_17_18[\"Paid-up Capital (in INR Cr.)\"]\n",
    "column"
   ]
  },
  {
   "cell_type": "code",
   "execution_count": 188,
   "id": "reported-arena",
   "metadata": {},
   "outputs": [
    {
     "data": {
      "text/plain": [
       "0        6333.50\n",
       "1        6416.62\n",
       "2         197.04\n",
       "3         517.61\n",
       "4        4855.90\n",
       "          ...   \n",
       "20970       1.82\n",
       "20971      33.92\n",
       "20972       0.02\n",
       "20973       0.42\n",
       "20974    2450.00\n",
       "Name: Paid-up Capital (in INR Cr.), Length: 20975, dtype: float64"
      ]
     },
     "execution_count": 188,
     "metadata": {},
     "output_type": "execute_result"
    }
   ],
   "source": [
    "#Turning objects into floats\n",
    "amounts = column.apply(lambda x: str(x[1:]))\n",
    "amounts = amounts.apply(lambda x: float(x.replace(',','')))\n",
    "amounts"
   ]
  },
  {
   "cell_type": "code",
   "execution_count": 180,
   "id": "pointed-indiana",
   "metadata": {},
   "outputs": [
    {
     "name": "stdout",
     "output_type": "stream",
     "text": [
      "No. of unique values: 5580\n",
      "No. of zero values: 105\n",
      "No. of duplicates: 2051\n"
     ]
    }
   ],
   "source": [
    "print(\"No. of unique values:\", len(amounts.unique()))\n",
    "print(\"No. of zero values:\", len(amounts[amounts == 0]))\n",
    "\n",
    "# Check for duplicates\n",
    "counter = dict(Counter(amounts))\n",
    "duplicates = { key:value for key, value in counter.items() if value > 1}\n",
    "#print(\"Duplicates:\", duplicates)\n",
    "if len(duplicates) > 0:\n",
    "    print(\"No. of duplicates:\", len(duplicates))"
   ]
  },
  {
   "cell_type": "code",
   "execution_count": 181,
   "id": "regional-knowing",
   "metadata": {},
   "outputs": [
    {
     "data": {
      "text/plain": [
       "count    20975.000000\n",
       "mean       107.034567\n",
       "std       1086.089780\n",
       "min          0.000000\n",
       "25%          0.580000\n",
       "50%          3.920000\n",
       "75%         18.180000\n",
       "max      88086.540000\n",
       "Name: Paid-up Capital (in INR Cr.), dtype: float64"
      ]
     },
     "execution_count": 181,
     "metadata": {},
     "output_type": "execute_result"
    }
   ],
   "source": [
    "#Statistics\n",
    "amounts.describe()"
   ]
  },
  {
   "cell_type": "code",
   "execution_count": 187,
   "id": "higher-violation",
   "metadata": {},
   "outputs": [
    {
     "data": {
      "image/png": "[encoded data removed]",
      "text/plain": [
       "<Figure size 720x432 with 1 Axes>"
      ]
     },
     "metadata": {
      "needs_background": "light"
     },
     "output_type": "display_data"
    }
   ],
   "source": [
    "#Histogram of bottom 75% Of Paid-up Capital\n",
    "bins= np.linspace(0, 18, 25)\n",
    "plt.figure(figsize = (10, 6))\n",
    "plt.hist(amounts, bins=bins, edgecolor=\"k\")\n",
    "plt.title('Paid-up Capital (in INR Cr.)')\n",
    "plt.ylabel('Count')\n",
    "plt.xlabel('Amount')\n",
    "plt.xticks(bins, rotation = 90);"
   ]
  },
  {
   "cell_type": "markdown",
   "id": "relevant-strain",
   "metadata": {},
   "source": [
    "### Authorized Capital (in INR Cr.)\n",
    "<a class=\"anchor\" id=\"4.15\"></a>\n",
    "Maximum value of shares that the company is legally authorized to issue to the shareholders."
   ]
  },
  {
   "cell_type": "code",
   "execution_count": 189,
   "id": "naval-liquid",
   "metadata": {},
   "outputs": [
    {
     "data": {
      "text/plain": [
       "0        ₹ 15,000.00\n",
       "1        ₹ 15,000.00\n",
       "2           ₹ 565.08\n",
       "3           ₹ 650.00\n",
       "4         ₹ 6,000.00\n",
       "            ...     \n",
       "20970         ₹ 3.00\n",
       "20971        ₹ 45.84\n",
       "20972         ₹ 0.10\n",
       "20973         ₹ 1.00\n",
       "20974     ₹ 3,000.00\n",
       "Name: Authorized Capital (in INR Cr.), Length: 20975, dtype: object"
      ]
     },
     "execution_count": 189,
     "metadata": {},
     "output_type": "execute_result"
    }
   ],
   "source": [
    "column = csr_spent_17_18[\"Authorized Capital (in INR Cr.)\"]\n",
    "column"
   ]
  },
  {
   "cell_type": "code",
   "execution_count": 190,
   "id": "acknowledged-immunology",
   "metadata": {},
   "outputs": [
    {
     "data": {
      "text/plain": [
       "0        15000.00\n",
       "1        15000.00\n",
       "2          565.08\n",
       "3          650.00\n",
       "4         6000.00\n",
       "           ...   \n",
       "20970        3.00\n",
       "20971       45.84\n",
       "20972        0.10\n",
       "20973        1.00\n",
       "20974     3000.00\n",
       "Name: Authorized Capital (in INR Cr.), Length: 20975, dtype: float64"
      ]
     },
     "execution_count": 190,
     "metadata": {},
     "output_type": "execute_result"
    }
   ],
   "source": [
    "#Turning objects into floats\n",
    "amounts = column.apply(lambda x: str(x[1:]))\n",
    "amounts = amounts.apply(lambda x: float(x.replace(',','')))\n",
    "amounts"
   ]
  },
  {
   "cell_type": "code",
   "execution_count": 191,
   "id": "charming-jamaica",
   "metadata": {},
   "outputs": [
    {
     "name": "stdout",
     "output_type": "stream",
     "text": [
      "No. of unique values: 2022\n",
      "No. of zero values: 82\n",
      "No. of duplicates: 738\n"
     ]
    }
   ],
   "source": [
    "print(\"No. of unique values:\", len(amounts.unique()))\n",
    "print(\"No. of zero values:\", len(amounts[amounts == 0]))\n",
    "\n",
    "# Check for duplicates\n",
    "counter = dict(Counter(amounts))\n",
    "duplicates = { key:value for key, value in counter.items() if value > 1}\n",
    "#print(\"Duplicates:\", duplicates)\n",
    "if len(duplicates) > 0:\n",
    "    print(\"No. of duplicates:\", len(duplicates))"
   ]
  },
  {
   "cell_type": "code",
   "execution_count": 192,
   "id": "engaged-sponsorship",
   "metadata": {},
   "outputs": [
    {
     "data": {
      "text/plain": [
       "count    20975.000000\n",
       "mean       196.246741\n",
       "std       1633.095200\n",
       "min          0.000000\n",
       "25%          1.000000\n",
       "50%          6.000000\n",
       "75%         29.000000\n",
       "max      99000.000000\n",
       "Name: Authorized Capital (in INR Cr.), dtype: float64"
      ]
     },
     "execution_count": 192,
     "metadata": {},
     "output_type": "execute_result"
    }
   ],
   "source": [
    "#Statistics\n",
    "amounts.describe()"
   ]
  },
  {
   "cell_type": "code",
   "execution_count": 193,
   "id": "north-connecticut",
   "metadata": {},
   "outputs": [
    {
     "data": {
      "image/png": "[encoded data removed]",
      "text/plain": [
       "<Figure size 720x432 with 1 Axes>"
      ]
     },
     "metadata": {
      "needs_background": "light"
     },
     "output_type": "display_data"
    }
   ],
   "source": [
    "#Histogram of bottom 75% Of Authorized Capital\n",
    "bins= np.linspace(0, 30, 25)\n",
    "plt.figure(figsize = (10, 6))\n",
    "plt.hist(amounts, bins=bins, edgecolor=\"k\")\n",
    "plt.title('Authorized Capital (in INR Cr.)')\n",
    "plt.ylabel('Count')\n",
    "plt.xlabel('Amount')\n",
    "plt.xticks(bins, rotation = 90);"
   ]
  },
  {
   "cell_type": "code",
   "execution_count": null,
   "id": "provincial-kennedy",
   "metadata": {},
   "outputs": [],
   "source": []
  }
 ],
 "metadata": {
  "kernelspec": {
   "display_name": "Python 3",
   "language": "python",
   "name": "python3"
  },
  "language_info": {
   "codemirror_mode": {
    "name": "ipython",
    "version": 3
   },
   "file_extension": ".py",
   "mimetype": "text/x-python",
   "name": "python",
   "nbconvert_exporter": "python",
   "pygments_lexer": "ipython3",
   "version": "3.9.2"
  }
 },
 "nbformat": 4,
 "nbformat_minor": 5
}
