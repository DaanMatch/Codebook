{
 "cells": [
  {
   "cell_type": "markdown",
   "id": "liberal-luther",
   "metadata": {},
   "source": [
    "# Codebook  \n",
    "**Authors:** Lauren Baker  \n",
    "Documenting existing data files of DaanMatch with information about location, owner, \"version\", source etc."
   ]
  },
  {
   "cell_type": "code",
   "execution_count": 1,
   "id": "differential-salvation",
   "metadata": {},
   "outputs": [],
   "source": [
    "import boto3\n",
    "import numpy as np \n",
    "import pandas as pd\n",
    "pd.plotting.register_matplotlib_converters()\n",
    "import matplotlib.pyplot as plt\n",
    "%matplotlib inline\n",
    "from collections import Counter\n",
    "import statistics"
   ]
  },
  {
   "cell_type": "code",
   "execution_count": 2,
   "id": "complete-calvin",
   "metadata": {},
   "outputs": [],
   "source": [
    "client = boto3.client('s3')\n",
    "resource = boto3.resource('s3')\n",
    "my_bucket = resource.Bucket('daanmatchdatafiles')"
   ]
  },
  {
   "cell_type": "markdown",
   "id": "considerable-string",
   "metadata": {},
   "source": [
    "# Dadra_Nagar_Haveli_2016.xlsx\n",
    "\n",
    "## TOC:\n",
    "* [About this dataset](#1)\n",
    "* [What's in this dataset](#2)\n",
    "* [Codebook](#3)\n",
    "    * [Missing values](#3.1)\n",
    "    * [Summary statistics](#3.2)\n",
    "* [Columns](#4)\n",
    "    * [CIN](#4.1)\n",
    "    * [COMPANY_NAME](#4.2)\n",
    "    * [COMPANY_CLASS](#4.3)\n",
    "    * [COMPANY_CATEGORY](#4.4)\n",
    "    * [COMPANY_SUBCAT](#4.5)\n",
    "    * [COMPANY_STATUS](#4.6)\n",
    "    * [DATE_OF_REGISTRATION](#4.7)\n",
    "    * [REGISTERED_STATE](#4.8)\n",
    "    * [Authorized Capital  (Rs.)](#4.9)\n",
    "    * [PAIDUP_CAPITAL (Rs.)](#4.10)\n",
    "    * [PRINCIPAL_BUSINESS_ACTIVITY_CODE](#4.11)\n",
    "    * [REGISTERED_OFFICE_ADDRESS](#4.12)\n",
    "    * [EMAIL_ID](#4.13)\n",
    "    * [LATEST ANNUAL REPORT FILING FY END DATE](#4.14)\n",
    "    * [LATEST BALANCE SHEET FILING FY END DATE](#4.15)"
   ]
  },
  {
   "cell_type": "markdown",
   "id": "specialized-separation",
   "metadata": {},
   "source": [
    "**About this dataset**  <a class=\"anchor\" id=\"1\"></a>  \n",
    "Data provided by: Unknown.  \n",
    "Source: https://daanmatchdatafiles.s3.us-west-1.amazonaws.com/DaanMatch_DataFiles/Dadar_Nagar_Haveli_2016.xlsx   \n",
    "Type: xlsx  \n",
    "Last Modified: May 29, 2021, 22:52:46 (UTC-04:00)  \n",
    "Size: 79.5 KB"
   ]
  },
  {
   "cell_type": "code",
   "execution_count": 3,
   "id": "discrete-journal",
   "metadata": {},
   "outputs": [
    {
     "name": "stdout",
     "output_type": "stream",
     "text": [
      "['Sheet3']\n"
     ]
    }
   ],
   "source": [
    "path = \"s3://daanmatchdatafiles/DaanMatch_DataFiles/Dadar_Nagar_Haveli_2016.xlsx\"\n",
    "Dadra_Nagar_Haveli_2016 = pd.ExcelFile(path)\n",
    "print(Dadra_Nagar_Haveli_2016.sheet_names)"
   ]
  },
  {
   "cell_type": "code",
   "execution_count": 4,
   "id": "fitting-typing",
   "metadata": {},
   "outputs": [
    {
     "data": {
      "text/html": [
       "<div>\n",
       "<style scoped>\n",
       "    .dataframe tbody tr th:only-of-type {\n",
       "        vertical-align: middle;\n",
       "    }\n",
       "\n",
       "    .dataframe tbody tr th {\n",
       "        vertical-align: top;\n",
       "    }\n",
       "\n",
       "    .dataframe thead th {\n",
       "        text-align: right;\n",
       "    }\n",
       "</style>\n",
       "<table border=\"1\" class=\"dataframe\">\n",
       "  <thead>\n",
       "    <tr style=\"text-align: right;\">\n",
       "      <th></th>\n",
       "      <th>CIN</th>\n",
       "      <th>COMPANY_NAME</th>\n",
       "      <th>COMPANY_CLASS</th>\n",
       "      <th>COMPANY_CATEGORY</th>\n",
       "      <th>COMPANY_SUBCAT</th>\n",
       "      <th>COMPANY_STATUS</th>\n",
       "      <th>DATE_OF_REGISTRATION</th>\n",
       "      <th>REGISTERED_STATE</th>\n",
       "      <th>Authorized Capital  (Rs.)</th>\n",
       "      <th>PAIDUP_CAPITAL (RS.)</th>\n",
       "      <th>PRINCIPAL_BUSINESS_ACTIVITY_CODE</th>\n",
       "      <th>REGISTERED_OFFICE_ADDRESS</th>\n",
       "      <th>EMAIL_ID</th>\n",
       "      <th>LATEST ANNUAL REPORT FILING FY END DATE</th>\n",
       "      <th>LATEST BALANCE SHEET FILING FY END DATE</th>\n",
       "    </tr>\n",
       "  </thead>\n",
       "  <tbody>\n",
       "    <tr>\n",
       "      <th>0</th>\n",
       "      <td>U51109DN2010PTC005504</td>\n",
       "      <td>KAPOOR MERCANTILE PRIVATE LIMITED</td>\n",
       "      <td>Private</td>\n",
       "      <td>Company limited by Shares</td>\n",
       "      <td>Non-govt company</td>\n",
       "      <td>ACTIVE</td>\n",
       "      <td>2010-02-17</td>\n",
       "      <td>Dadra and Nagar Haveli</td>\n",
       "      <td>30000000</td>\n",
       "      <td>540000</td>\n",
       "      <td>51109</td>\n",
       "      <td>PLOT NO 17, SURVEY NO 121/P,SILVASSA INDUSTRIA...</td>\n",
       "      <td>rawal_bhv@yahoo.co.in</td>\n",
       "      <td>2015-03-31</td>\n",
       "      <td>2015-03-31</td>\n",
       "    </tr>\n",
       "    <tr>\n",
       "      <th>1</th>\n",
       "      <td>U17291DN2013PTC005501</td>\n",
       "      <td>AKSHAT FREIGHT CARRIERS PRIVATE LIMITED</td>\n",
       "      <td>Private</td>\n",
       "      <td>Company limited by Shares</td>\n",
       "      <td>Non-govt company</td>\n",
       "      <td>ACTIVE</td>\n",
       "      <td>2013-02-20</td>\n",
       "      <td>Dadra and Nagar Haveli</td>\n",
       "      <td>100000000</td>\n",
       "      <td>48000000</td>\n",
       "      <td>17291</td>\n",
       "      <td>PLOT NO 65/B, PIPARIA INDUSTRIAL ESTATE,PIPARI...</td>\n",
       "      <td>rawal_bhv@yahoo.co.in</td>\n",
       "      <td>2015-03-31</td>\n",
       "      <td>2015-03-31</td>\n",
       "    </tr>\n",
       "    <tr>\n",
       "      <th>2</th>\n",
       "      <td>U99999DN1995PLC000093</td>\n",
       "      <td>AEC SSANGYONG LTD</td>\n",
       "      <td>Public</td>\n",
       "      <td>Company limited by Shares</td>\n",
       "      <td>Non-govt company</td>\n",
       "      <td>INACTIVE UNDER SECTION 455 OF CA,2013</td>\n",
       "      <td>1995-08-01</td>\n",
       "      <td>Dadra and Nagar Haveli</td>\n",
       "      <td>500000</td>\n",
       "      <td>0</td>\n",
       "      <td>99999</td>\n",
       "      <td>SURVEY NO.210&amp;ONS,VILLAGE MORKHAL,PO.SILVASSA ...</td>\n",
       "      <td></td>\n",
       "      <td>0</td>\n",
       "      <td>0</td>\n",
       "    </tr>\n",
       "    <tr>\n",
       "      <th>3</th>\n",
       "      <td>U99999DN1991PLC000037</td>\n",
       "      <td>SILVASSA STANDARD TWIST AND TILES PVT.LTD.</td>\n",
       "      <td>Private</td>\n",
       "      <td>Company limited by Shares</td>\n",
       "      <td>Non-govt company</td>\n",
       "      <td>INACTIVE UNDER SECTION 455 OF CA,2013</td>\n",
       "      <td>1991-02-11</td>\n",
       "      <td>Dadra and Nagar Haveli</td>\n",
       "      <td>500000</td>\n",
       "      <td>0</td>\n",
       "      <td>99999</td>\n",
       "      <td>40-INDUS. ESTATE, PIPARIASILVASSADADAR N. HAVA...</td>\n",
       "      <td></td>\n",
       "      <td>0</td>\n",
       "      <td>0</td>\n",
       "    </tr>\n",
       "    <tr>\n",
       "      <th>4</th>\n",
       "      <td>U99999DN1990PLC000033</td>\n",
       "      <td>SILWINES PVT. LTD.</td>\n",
       "      <td>Private</td>\n",
       "      <td>Company limited by Shares</td>\n",
       "      <td>Non-govt company</td>\n",
       "      <td>INACTIVE UNDER SECTION 455 OF CA,2013</td>\n",
       "      <td>1990-04-06</td>\n",
       "      <td>Dadra and Nagar Haveli</td>\n",
       "      <td>100000</td>\n",
       "      <td>0</td>\n",
       "      <td>99999</td>\n",
       "      <td>C/O. SILPHAR LABORATORIES P.B.NO. 33SILVASSA (...</td>\n",
       "      <td></td>\n",
       "      <td>0</td>\n",
       "      <td>0</td>\n",
       "    </tr>\n",
       "  </tbody>\n",
       "</table>\n",
       "</div>"
      ],
      "text/plain": [
       "                     CIN                                  COMPANY_NAME  \\\n",
       "0  U51109DN2010PTC005504          KAPOOR MERCANTILE PRIVATE LIMITED      \n",
       "1  U17291DN2013PTC005501    AKSHAT FREIGHT CARRIERS PRIVATE LIMITED      \n",
       "2  U99999DN1995PLC000093                          AEC SSANGYONG LTD      \n",
       "3  U99999DN1991PLC000037  SILVASSA STANDARD TWIST AND TILES PVT.LTD.     \n",
       "4  U99999DN1990PLC000033                         SILWINES PVT. LTD.      \n",
       "\n",
       "  COMPANY_CLASS           COMPANY_CATEGORY    COMPANY_SUBCAT  \\\n",
       "0       Private  Company limited by Shares  Non-govt company   \n",
       "1       Private  Company limited by Shares  Non-govt company   \n",
       "2        Public  Company limited by Shares  Non-govt company   \n",
       "3       Private  Company limited by Shares  Non-govt company   \n",
       "4       Private  Company limited by Shares  Non-govt company   \n",
       "\n",
       "                          COMPANY_STATUS DATE_OF_REGISTRATION  \\\n",
       "0                                 ACTIVE           2010-02-17   \n",
       "1                                 ACTIVE           2013-02-20   \n",
       "2  INACTIVE UNDER SECTION 455 OF CA,2013           1995-08-01   \n",
       "3  INACTIVE UNDER SECTION 455 OF CA,2013           1991-02-11   \n",
       "4  INACTIVE UNDER SECTION 455 OF CA,2013           1990-04-06   \n",
       "\n",
       "         REGISTERED_STATE  Authorized Capital  (Rs.)   PAIDUP_CAPITAL (RS.)  \\\n",
       "0  Dadra and Nagar Haveli                   30000000                 540000   \n",
       "1  Dadra and Nagar Haveli                  100000000               48000000   \n",
       "2  Dadra and Nagar Haveli                     500000                      0   \n",
       "3  Dadra and Nagar Haveli                     500000                      0   \n",
       "4  Dadra and Nagar Haveli                     100000                      0   \n",
       "\n",
       "   PRINCIPAL_BUSINESS_ACTIVITY_CODE  \\\n",
       "0                             51109   \n",
       "1                             17291   \n",
       "2                             99999   \n",
       "3                             99999   \n",
       "4                             99999   \n",
       "\n",
       "                           REGISTERED_OFFICE_ADDRESS               EMAIL_ID  \\\n",
       "0  PLOT NO 17, SURVEY NO 121/P,SILVASSA INDUSTRIA...  rawal_bhv@yahoo.co.in   \n",
       "1  PLOT NO 65/B, PIPARIA INDUSTRIAL ESTATE,PIPARI...  rawal_bhv@yahoo.co.in   \n",
       "2  SURVEY NO.210&ONS,VILLAGE MORKHAL,PO.SILVASSA ...                          \n",
       "3  40-INDUS. ESTATE, PIPARIASILVASSADADAR N. HAVA...                          \n",
       "4  C/O. SILPHAR LABORATORIES P.B.NO. 33SILVASSA (...                          \n",
       "\n",
       "  LATEST ANNUAL REPORT FILING FY END DATE  \\\n",
       "0                              2015-03-31   \n",
       "1                              2015-03-31   \n",
       "2                                       0   \n",
       "3                                       0   \n",
       "4                                       0   \n",
       "\n",
       "  LATEST BALANCE SHEET FILING FY END DATE  \n",
       "0                              2015-03-31  \n",
       "1                              2015-03-31  \n",
       "2                                       0  \n",
       "3                                       0  \n",
       "4                                       0  "
      ]
     },
     "execution_count": 4,
     "metadata": {},
     "output_type": "execute_result"
    }
   ],
   "source": [
    "Dadra_Nagar_Haveli_2016 = Dadra_Nagar_Haveli_2016.parse('Sheet3')\n",
    "Dadra_Nagar_Haveli_2016.head()"
   ]
  },
  {
   "cell_type": "markdown",
   "id": "variable-blackjack",
   "metadata": {},
   "source": [
    "**What's in this dataset?** <a class=\"anchor\" id=\"2\"></a>"
   ]
  },
  {
   "cell_type": "code",
   "execution_count": 5,
   "id": "optical-citizenship",
   "metadata": {},
   "outputs": [
    {
     "name": "stdout",
     "output_type": "stream",
     "text": [
      "Shape: (472, 15)\n",
      "Rows: 472\n",
      "Columns: 15\n",
      "Each row is a company.\n"
     ]
    }
   ],
   "source": [
    "print(\"Shape:\", Dadra_Nagar_Haveli_2016.shape)\n",
    "print(\"Rows:\", Dadra_Nagar_Haveli_2016.shape[0])\n",
    "print(\"Columns:\", Dadra_Nagar_Haveli_2016.shape[1])\n",
    "print(\"Each row is a company.\")"
   ]
  },
  {
   "cell_type": "markdown",
   "id": "contemporary-stewart",
   "metadata": {},
   "source": [
    "**Codebook** <a class=\"anchor\" id=\"3\"></a>"
   ]
  },
  {
   "cell_type": "code",
   "execution_count": 6,
   "id": "excited-range",
   "metadata": {},
   "outputs": [
    {
     "data": {
      "text/html": [
       "<style  type=\"text/css\" >\n",
       "#T_c806d_row0_col1,#T_c806d_row1_col1,#T_c806d_row2_col1,#T_c806d_row3_col1,#T_c806d_row4_col1,#T_c806d_row5_col1,#T_c806d_row6_col1,#T_c806d_row7_col1,#T_c806d_row8_col1,#T_c806d_row9_col1,#T_c806d_row10_col1,#T_c806d_row11_col1,#T_c806d_row12_col1,#T_c806d_row13_col1,#T_c806d_row14_col1{\n",
       "            width:  600px;\n",
       "        }</style><table id=\"T_c806d_\" ><thead>    <tr>        <th class=\"blank level0\" ></th>        <th class=\"col_heading level0 col0\" >Column Name</th>        <th class=\"col_heading level0 col1\" >Description</th>        <th class=\"col_heading level0 col2\" >Type</th>    </tr></thead><tbody>\n",
       "                <tr>\n",
       "                        <th id=\"T_c806d_level0_row0\" class=\"row_heading level0 row0\" >0</th>\n",
       "                        <td id=\"T_c806d_row0_col0\" class=\"data row0 col0\" >CIN</td>\n",
       "                        <td id=\"T_c806d_row0_col1\" class=\"data row0 col1\" >Corporate Identification Number in India (CIN) is a 21 digit alpha-numeric code issued to companies incorporated within India on being registered with Registrar of Companies (RCA).</td>\n",
       "                        <td id=\"T_c806d_row0_col2\" class=\"data row0 col2\" >object</td>\n",
       "            </tr>\n",
       "            <tr>\n",
       "                        <th id=\"T_c806d_level0_row1\" class=\"row_heading level0 row1\" >1</th>\n",
       "                        <td id=\"T_c806d_row1_col0\" class=\"data row1 col0\" >COMPANY_NAME</td>\n",
       "                        <td id=\"T_c806d_row1_col1\" class=\"data row1 col1\" >Name of Company.</td>\n",
       "                        <td id=\"T_c806d_row1_col2\" class=\"data row1 col2\" >object</td>\n",
       "            </tr>\n",
       "            <tr>\n",
       "                        <th id=\"T_c806d_level0_row2\" class=\"row_heading level0 row2\" >2</th>\n",
       "                        <td id=\"T_c806d_row2_col0\" class=\"data row2 col0\" >COMPANY_CLASS</td>\n",
       "                        <td id=\"T_c806d_row2_col1\" class=\"data row2 col1\" >Class of Company: Private or Public.</td>\n",
       "                        <td id=\"T_c806d_row2_col2\" class=\"data row2 col2\" >object</td>\n",
       "            </tr>\n",
       "            <tr>\n",
       "                        <th id=\"T_c806d_level0_row3\" class=\"row_heading level0 row3\" >3</th>\n",
       "                        <td id=\"T_c806d_row3_col0\" class=\"data row3 col0\" >COMPANY_CATEGORY</td>\n",
       "                        <td id=\"T_c806d_row3_col1\" class=\"data row3 col1\" >Category of Company: Limited by Shares, Limited by Guarantee, Unlimited Company.</td>\n",
       "                        <td id=\"T_c806d_row3_col2\" class=\"data row3 col2\" >object</td>\n",
       "            </tr>\n",
       "            <tr>\n",
       "                        <th id=\"T_c806d_level0_row4\" class=\"row_heading level0 row4\" >4</th>\n",
       "                        <td id=\"T_c806d_row4_col0\" class=\"data row4 col0\" >COMPANY_SUBCAT</td>\n",
       "                        <td id=\"T_c806d_row4_col1\" class=\"data row4 col1\" >Subcategory of Company: Non-govt, Union Gtvt, State Govt, Subsidiary of Foreign Company, Guarantee and Association Company.</td>\n",
       "                        <td id=\"T_c806d_row4_col2\" class=\"data row4 col2\" >object</td>\n",
       "            </tr>\n",
       "            <tr>\n",
       "                        <th id=\"T_c806d_level0_row5\" class=\"row_heading level0 row5\" >5</th>\n",
       "                        <td id=\"T_c806d_row5_col0\" class=\"data row5 col0\" >COMPANY_STATUS</td>\n",
       "                        <td id=\"T_c806d_row5_col1\" class=\"data row5 col1\" >Status of Company.</td>\n",
       "                        <td id=\"T_c806d_row5_col2\" class=\"data row5 col2\" >object</td>\n",
       "            </tr>\n",
       "            <tr>\n",
       "                        <th id=\"T_c806d_level0_row6\" class=\"row_heading level0 row6\" >6</th>\n",
       "                        <td id=\"T_c806d_row6_col0\" class=\"data row6 col0\" >DATE_OF_REGISTRATION</td>\n",
       "                        <td id=\"T_c806d_row6_col1\" class=\"data row6 col1\" >Timestamp of date of registration: YYYY-MM-DD HH:MM:SS.</td>\n",
       "                        <td id=\"T_c806d_row6_col2\" class=\"data row6 col2\" >object</td>\n",
       "            </tr>\n",
       "            <tr>\n",
       "                        <th id=\"T_c806d_level0_row7\" class=\"row_heading level0 row7\" >7</th>\n",
       "                        <td id=\"T_c806d_row7_col0\" class=\"data row7 col0\" >REGISTERED_STATE</td>\n",
       "                        <td id=\"T_c806d_row7_col1\" class=\"data row7 col1\" >State of registration.</td>\n",
       "                        <td id=\"T_c806d_row7_col2\" class=\"data row7 col2\" >object</td>\n",
       "            </tr>\n",
       "            <tr>\n",
       "                        <th id=\"T_c806d_level0_row8\" class=\"row_heading level0 row8\" >8</th>\n",
       "                        <td id=\"T_c806d_row8_col0\" class=\"data row8 col0\" >Authorized Capital  (Rs.)</td>\n",
       "                        <td id=\"T_c806d_row8_col1\" class=\"data row8 col1\" >Authorized capital in rupees (Rs.).</td>\n",
       "                        <td id=\"T_c806d_row8_col2\" class=\"data row8 col2\" >int64</td>\n",
       "            </tr>\n",
       "            <tr>\n",
       "                        <th id=\"T_c806d_level0_row9\" class=\"row_heading level0 row9\" >9</th>\n",
       "                        <td id=\"T_c806d_row9_col0\" class=\"data row9 col0\" > PAIDUP_CAPITAL (RS.)</td>\n",
       "                        <td id=\"T_c806d_row9_col1\" class=\"data row9 col1\" >Paid up capital in rupees (Rs.).</td>\n",
       "                        <td id=\"T_c806d_row9_col2\" class=\"data row9 col2\" >int64</td>\n",
       "            </tr>\n",
       "            <tr>\n",
       "                        <th id=\"T_c806d_level0_row10\" class=\"row_heading level0 row10\" >10</th>\n",
       "                        <td id=\"T_c806d_row10_col0\" class=\"data row10 col0\" >PRINCIPAL_BUSINESS_ACTIVITY_CODE</td>\n",
       "                        <td id=\"T_c806d_row10_col1\" class=\"data row10 col1\" >Principal Business code that classifies the main type of product/service sold.</td>\n",
       "                        <td id=\"T_c806d_row10_col2\" class=\"data row10 col2\" >int64</td>\n",
       "            </tr>\n",
       "            <tr>\n",
       "                        <th id=\"T_c806d_level0_row11\" class=\"row_heading level0 row11\" >11</th>\n",
       "                        <td id=\"T_c806d_row11_col0\" class=\"data row11 col0\" >REGISTERED_OFFICE_ADDRESS</td>\n",
       "                        <td id=\"T_c806d_row11_col1\" class=\"data row11 col1\" >Address of registered office.</td>\n",
       "                        <td id=\"T_c806d_row11_col2\" class=\"data row11 col2\" >object</td>\n",
       "            </tr>\n",
       "            <tr>\n",
       "                        <th id=\"T_c806d_level0_row12\" class=\"row_heading level0 row12\" >12</th>\n",
       "                        <td id=\"T_c806d_row12_col0\" class=\"data row12 col0\" >EMAIL_ID</td>\n",
       "                        <td id=\"T_c806d_row12_col1\" class=\"data row12 col1\" >Company email.</td>\n",
       "                        <td id=\"T_c806d_row12_col2\" class=\"data row12 col2\" >object</td>\n",
       "            </tr>\n",
       "            <tr>\n",
       "                        <th id=\"T_c806d_level0_row13\" class=\"row_heading level0 row13\" >13</th>\n",
       "                        <td id=\"T_c806d_row13_col0\" class=\"data row13 col0\" >LATEST ANNUAL REPORT FILING FY END DATE</td>\n",
       "                        <td id=\"T_c806d_row13_col1\" class=\"data row13 col1\" >Latest annual report filing fiscal year end date: YYYY-MM-DD.</td>\n",
       "                        <td id=\"T_c806d_row13_col2\" class=\"data row13 col2\" >object</td>\n",
       "            </tr>\n",
       "            <tr>\n",
       "                        <th id=\"T_c806d_level0_row14\" class=\"row_heading level0 row14\" >14</th>\n",
       "                        <td id=\"T_c806d_row14_col0\" class=\"data row14 col0\" >LATEST BALANCE SHEET FILING FY END DATE</td>\n",
       "                        <td id=\"T_c806d_row14_col1\" class=\"data row14 col1\" >Latest balance sheet filing fiscal year end date: YYYY-MM-DD.</td>\n",
       "                        <td id=\"T_c806d_row14_col2\" class=\"data row14 col2\" >object</td>\n",
       "            </tr>\n",
       "    </tbody></table>"
      ],
      "text/plain": [
       "<pandas.io.formats.style.Styler at 0x11f2c9400>"
      ]
     },
     "execution_count": 6,
     "metadata": {},
     "output_type": "execute_result"
    }
   ],
   "source": [
    "Dadra_Nagar_Haveli_2016_columns = [column for column in Dadra_Nagar_Haveli_2016.columns]\n",
    "Dadra_Nagar_Haveli_2016_description = [\"Corporate Identification Number in India (CIN) is a 21 digit alpha-numeric code issued to companies incorporated within India on being registered with Registrar of Companies (RCA).\",\n",
    "                                           \"Name of Company.\",\n",
    "                                           \"Class of Company: Private or Public.\",\n",
    "                                           \"Category of Company: Limited by Shares, Limited by Guarantee, Unlimited Company.\",\n",
    "                                           \"Subcategory of Company: Non-govt, Union Gtvt, State Govt, Subsidiary of Foreign Company, Guarantee and Association Company.\",\n",
    "                                           \"Status of Company.\",\n",
    "                                           \"Timestamp of date of registration: YYYY-MM-DD HH:MM:SS.\",\n",
    "                                           \"State of registration.\",\n",
    "                                           \"Authorized capital in rupees (Rs.).\",\n",
    "                                           \"Paid up capital in rupees (Rs.).\",\n",
    "                                           \"Principal Business code that classifies the main type of product/service sold.\",\n",
    "                                           \"Address of registered office.\",\n",
    "                                           \"Company email.\",\n",
    "                                           \"Latest annual report filing fiscal year end date: YYYY-MM-DD.\",\n",
    "                                           \"Latest balance sheet filing fiscal year end date: YYYY-MM-DD.\"]\n",
    "Dadra_Nagar_Haveli_2016_dtypes = [dtype for dtype in Dadra_Nagar_Haveli_2016.dtypes]\n",
    "\n",
    "data = {\"Column Name\": Dadra_Nagar_Haveli_2016_columns, \"Description\": Dadra_Nagar_Haveli_2016_description, \"Type\": Dadra_Nagar_Haveli_2016_dtypes}\n",
    "Dadra_Nagar_Haveli_2016_codebook = pd.DataFrame(data)\n",
    "Dadra_Nagar_Haveli_2016_codebook.style.set_properties(subset=['Description'], **{'width': '600px'})"
   ]
  },
  {
   "cell_type": "markdown",
   "id": "waiting-kuwait",
   "metadata": {},
   "source": [
    "**Missing values** <a class=\"anchor\" id=\"3.1\"></a>"
   ]
  },
  {
   "cell_type": "code",
   "execution_count": 7,
   "id": "distributed-africa",
   "metadata": {},
   "outputs": [
    {
     "data": {
      "text/plain": [
       "CIN                                        0\n",
       "COMPANY_NAME                               0\n",
       "COMPANY_CLASS                              0\n",
       "COMPANY_CATEGORY                           0\n",
       "COMPANY_SUBCAT                             0\n",
       "COMPANY_STATUS                             0\n",
       "DATE_OF_REGISTRATION                       0\n",
       "REGISTERED_STATE                           0\n",
       "Authorized Capital  (Rs.)                  0\n",
       " PAIDUP_CAPITAL (RS.)                      0\n",
       "PRINCIPAL_BUSINESS_ACTIVITY_CODE           0\n",
       "REGISTERED_OFFICE_ADDRESS                  0\n",
       "EMAIL_ID                                   0\n",
       "LATEST ANNUAL REPORT FILING FY END DATE    0\n",
       "LATEST BALANCE SHEET FILING FY END DATE    0\n",
       "dtype: int64"
      ]
     },
     "execution_count": 7,
     "metadata": {},
     "output_type": "execute_result"
    }
   ],
   "source": [
    "Dadra_Nagar_Haveli_2016.isnull().sum()"
   ]
  },
  {
   "cell_type": "markdown",
   "id": "excited-siemens",
   "metadata": {},
   "source": [
    "**Summary statistics** <a class=\"anchor\" id=\"3.2\"></a>"
   ]
  },
  {
   "cell_type": "code",
   "execution_count": 8,
   "id": "offshore-calculation",
   "metadata": {},
   "outputs": [
    {
     "data": {
      "text/html": [
       "<div>\n",
       "<style scoped>\n",
       "    .dataframe tbody tr th:only-of-type {\n",
       "        vertical-align: middle;\n",
       "    }\n",
       "\n",
       "    .dataframe tbody tr th {\n",
       "        vertical-align: top;\n",
       "    }\n",
       "\n",
       "    .dataframe thead th {\n",
       "        text-align: right;\n",
       "    }\n",
       "</style>\n",
       "<table border=\"1\" class=\"dataframe\">\n",
       "  <thead>\n",
       "    <tr style=\"text-align: right;\">\n",
       "      <th></th>\n",
       "      <th>Authorized Capital  (Rs.)</th>\n",
       "      <th>PAIDUP_CAPITAL (RS.)</th>\n",
       "      <th>PRINCIPAL_BUSINESS_ACTIVITY_CODE</th>\n",
       "    </tr>\n",
       "  </thead>\n",
       "  <tbody>\n",
       "    <tr>\n",
       "      <th>count</th>\n",
       "      <td>4.720000e+02</td>\n",
       "      <td>4.720000e+02</td>\n",
       "      <td>472.000000</td>\n",
       "    </tr>\n",
       "    <tr>\n",
       "      <th>mean</th>\n",
       "      <td>2.582305e+08</td>\n",
       "      <td>1.260492e+08</td>\n",
       "      <td>43200.557203</td>\n",
       "    </tr>\n",
       "    <tr>\n",
       "      <th>std</th>\n",
       "      <td>2.294642e+09</td>\n",
       "      <td>1.118912e+09</td>\n",
       "      <td>24076.121321</td>\n",
       "    </tr>\n",
       "    <tr>\n",
       "      <th>min</th>\n",
       "      <td>0.000000e+00</td>\n",
       "      <td>0.000000e+00</td>\n",
       "      <td>1111.000000</td>\n",
       "    </tr>\n",
       "    <tr>\n",
       "      <th>25%</th>\n",
       "      <td>1.000000e+05</td>\n",
       "      <td>1.000000e+05</td>\n",
       "      <td>24230.750000</td>\n",
       "    </tr>\n",
       "    <tr>\n",
       "      <th>50%</th>\n",
       "      <td>6.500000e+05</td>\n",
       "      <td>1.000000e+05</td>\n",
       "      <td>45200.000000</td>\n",
       "    </tr>\n",
       "    <tr>\n",
       "      <th>75%</th>\n",
       "      <td>1.212500e+07</td>\n",
       "      <td>6.295700e+06</td>\n",
       "      <td>56458.000000</td>\n",
       "    </tr>\n",
       "    <tr>\n",
       "      <th>max</th>\n",
       "      <td>4.000000e+10</td>\n",
       "      <td>1.698084e+10</td>\n",
       "      <td>99999.000000</td>\n",
       "    </tr>\n",
       "  </tbody>\n",
       "</table>\n",
       "</div>"
      ],
      "text/plain": [
       "       Authorized Capital  (Rs.)   PAIDUP_CAPITAL (RS.)  \\\n",
       "count               4.720000e+02           4.720000e+02   \n",
       "mean                2.582305e+08           1.260492e+08   \n",
       "std                 2.294642e+09           1.118912e+09   \n",
       "min                 0.000000e+00           0.000000e+00   \n",
       "25%                 1.000000e+05           1.000000e+05   \n",
       "50%                 6.500000e+05           1.000000e+05   \n",
       "75%                 1.212500e+07           6.295700e+06   \n",
       "max                 4.000000e+10           1.698084e+10   \n",
       "\n",
       "       PRINCIPAL_BUSINESS_ACTIVITY_CODE  \n",
       "count                        472.000000  \n",
       "mean                       43200.557203  \n",
       "std                        24076.121321  \n",
       "min                         1111.000000  \n",
       "25%                        24230.750000  \n",
       "50%                        45200.000000  \n",
       "75%                        56458.000000  \n",
       "max                        99999.000000  "
      ]
     },
     "execution_count": 8,
     "metadata": {},
     "output_type": "execute_result"
    }
   ],
   "source": [
    "Dadra_Nagar_Haveli_2016.describe()"
   ]
  },
  {
   "cell_type": "markdown",
   "id": "massive-tyler",
   "metadata": {},
   "source": [
    "## Columns\n",
    "<a class=\"anchor\" id=\"4\"></a>"
   ]
  },
  {
   "cell_type": "markdown",
   "id": "respiratory-driver",
   "metadata": {},
   "source": [
    "### CIN\n",
    "<a class=\"anchor\" id=\"4.1\"></a>\n",
    "Corporate Identification Number in India (CIN) is a 21 digit alpha-numeric code issued to companies incorporated within India on being registered with Registrar of Companies (RCA)."
   ]
  },
  {
   "cell_type": "code",
   "execution_count": 9,
   "id": "historical-disaster",
   "metadata": {},
   "outputs": [
    {
     "data": {
      "text/plain": [
       "0      U51109DN2010PTC005504\n",
       "1      U17291DN2013PTC005501\n",
       "2      U99999DN1995PLC000093\n",
       "3      U99999DN1991PLC000037\n",
       "4      U99999DN1990PLC000033\n",
       "               ...          \n",
       "467    U27209DN2003PTC000173\n",
       "468    U27203DN2012PTC000388\n",
       "469    U27203DN2008PTC000267\n",
       "470    U17299DN2016PTC005498\n",
       "471    U65191DH1888PLC000008\n",
       "Name: CIN, Length: 472, dtype: object"
      ]
     },
     "execution_count": 9,
     "metadata": {},
     "output_type": "execute_result"
    }
   ],
   "source": [
    "column = Dadra_Nagar_Haveli_2016[\"CIN\"]\n",
    "column"
   ]
  },
  {
   "cell_type": "code",
   "execution_count": 10,
   "id": "detected-smoke",
   "metadata": {},
   "outputs": [
    {
     "name": "stdout",
     "output_type": "stream",
     "text": [
      "Rows without 21 digits: 0\n",
      "No. of unique values: 472\n",
      "Duplicates: {}\n"
     ]
    }
   ],
   "source": [
    "# Check if all rows have 21 digits\n",
    "CIN_length = [len(CIN) for CIN in column]\n",
    "print(\"Rows without 21 digits:\", sum([length != 21 for length in CIN_length]))\n",
    "\n",
    "print(\"No. of unique values:\", len(column.unique()))\n",
    "\n",
    "# Check for duplicates\n",
    "counter = dict(Counter(column))\n",
    "duplicates = { key:value for key, value in counter.items() if value > 1}\n",
    "print(\"Duplicates:\", duplicates)"
   ]
  },
  {
   "cell_type": "markdown",
   "id": "engaging-december",
   "metadata": {},
   "source": [
    "### COMPANY_NAME \n",
    "<a class=\"anchor\" id=\"4.2\"></a>\n",
    "Name of Company.  \n",
    "There is trailing and leading whitespace. Need to strip strings."
   ]
  },
  {
   "cell_type": "code",
   "execution_count": 11,
   "id": "cross-voice",
   "metadata": {},
   "outputs": [
    {
     "data": {
      "text/plain": [
       "0                KAPOOR MERCANTILE PRIVATE LIMITED   \n",
       "1          AKSHAT FREIGHT CARRIERS PRIVATE LIMITED   \n",
       "2                                AEC SSANGYONG LTD   \n",
       "3        SILVASSA STANDARD TWIST AND TILES PVT.LTD.  \n",
       "4                               SILWINES PVT. LTD.   \n",
       "                            ...                      \n",
       "467    DHARMANANDAN STEEL AND METAL PRIVATE LIMITED  \n",
       "468                  JAIN ALUFOILS PRIVATE LIMITED   \n",
       "469             GLACIER ALLUMINIUM PRIVATE LIMITED   \n",
       "470              UNOVEL INDUSTRIES PRIVATE LIMITED   \n",
       "471                            XYZ Company pvt Ltd   \n",
       "Name: COMPANY_NAME, Length: 472, dtype: object"
      ]
     },
     "execution_count": 11,
     "metadata": {},
     "output_type": "execute_result"
    }
   ],
   "source": [
    "column = Dadra_Nagar_Haveli_2016[\"COMPANY_NAME\"]\n",
    "column"
   ]
  },
  {
   "cell_type": "code",
   "execution_count": 12,
   "id": "included-brisbane",
   "metadata": {},
   "outputs": [
    {
     "name": "stdout",
     "output_type": "stream",
     "text": [
      "Invalid names: 0\n",
      "No. of unique values: 471\n",
      "Duplicates: {'SAI AGRO PESTICIDES COMPANY PVT.LTD.   ': 2}\n",
      "No. of duplicates: 1\n"
     ]
    }
   ],
   "source": [
    "# Strip strings\n",
    "stripped_name = column.str.strip()\n",
    "print(\"Invalid names:\", sum(stripped_name.isnull()))\n",
    "\n",
    "print(\"No. of unique values:\", len(column.unique()))\n",
    "\n",
    "# Check for duplicates\n",
    "counter = dict(Counter(column))\n",
    "duplicates = { key:value for key, value in counter.items() if value > 1}\n",
    "print(\"Duplicates:\", duplicates)\n",
    "if len(duplicates) > 0:\n",
    "    print(\"No. of duplicates:\", len(duplicates))"
   ]
  },
  {
   "cell_type": "code",
   "execution_count": 14,
   "id": "unlike-mortality",
   "metadata": {},
   "outputs": [
    {
     "data": {
      "text/html": [
       "<div>\n",
       "<style scoped>\n",
       "    .dataframe tbody tr th:only-of-type {\n",
       "        vertical-align: middle;\n",
       "    }\n",
       "\n",
       "    .dataframe tbody tr th {\n",
       "        vertical-align: top;\n",
       "    }\n",
       "\n",
       "    .dataframe thead th {\n",
       "        text-align: right;\n",
       "    }\n",
       "</style>\n",
       "<table border=\"1\" class=\"dataframe\">\n",
       "  <thead>\n",
       "    <tr style=\"text-align: right;\">\n",
       "      <th></th>\n",
       "      <th>CIN</th>\n",
       "      <th>COMPANY_NAME</th>\n",
       "      <th>COMPANY_CLASS</th>\n",
       "      <th>COMPANY_CATEGORY</th>\n",
       "      <th>COMPANY_SUBCAT</th>\n",
       "      <th>COMPANY_STATUS</th>\n",
       "      <th>DATE_OF_REGISTRATION</th>\n",
       "      <th>REGISTERED_STATE</th>\n",
       "      <th>Authorized Capital  (Rs.)</th>\n",
       "      <th>PAIDUP_CAPITAL (RS.)</th>\n",
       "      <th>PRINCIPAL_BUSINESS_ACTIVITY_CODE</th>\n",
       "      <th>REGISTERED_OFFICE_ADDRESS</th>\n",
       "      <th>EMAIL_ID</th>\n",
       "      <th>LATEST ANNUAL REPORT FILING FY END DATE</th>\n",
       "      <th>LATEST BALANCE SHEET FILING FY END DATE</th>\n",
       "    </tr>\n",
       "  </thead>\n",
       "  <tbody>\n",
       "    <tr>\n",
       "      <th>201</th>\n",
       "      <td>U25199DN1974PTC006789</td>\n",
       "      <td>SAI AGRO PESTICIDES COMPANY PVT.LTD.</td>\n",
       "      <td>Private</td>\n",
       "      <td>Company limited by Shares</td>\n",
       "      <td>Non-govt company</td>\n",
       "      <td>INACTIVE UNDER SECTION 455 OF CA,2013</td>\n",
       "      <td>1974-04-30</td>\n",
       "      <td>Dadra and Nagar Haveli</td>\n",
       "      <td>200000</td>\n",
       "      <td>0</td>\n",
       "      <td>25199</td>\n",
       "      <td>SILVASSA,VIA-VAPI,DADRA-NAGAR HAVELI.   SILVAS...</td>\n",
       "      <td></td>\n",
       "      <td>0</td>\n",
       "      <td>0</td>\n",
       "    </tr>\n",
       "    <tr>\n",
       "      <th>413</th>\n",
       "      <td>U99999DN1974PTC000002</td>\n",
       "      <td>SAI AGRO PESTICIDES COMPANY PVT.LTD.</td>\n",
       "      <td>Private</td>\n",
       "      <td>Company limited by Shares</td>\n",
       "      <td>Non-govt company</td>\n",
       "      <td>INACTIVE UNDER SECTION 455 OF CA,2013</td>\n",
       "      <td>1974-04-30</td>\n",
       "      <td>Dadra and Nagar Haveli</td>\n",
       "      <td>200000</td>\n",
       "      <td>1000</td>\n",
       "      <td>99999</td>\n",
       "      <td>SILVASSA, VIA VAPI,DADRA NAGAR HAVELI.SILVASSA...</td>\n",
       "      <td></td>\n",
       "      <td>0</td>\n",
       "      <td>0</td>\n",
       "    </tr>\n",
       "  </tbody>\n",
       "</table>\n",
       "</div>"
      ],
      "text/plain": [
       "                       CIN                             COMPANY_NAME  \\\n",
       "201  U25199DN1974PTC006789  SAI AGRO PESTICIDES COMPANY PVT.LTD.      \n",
       "413  U99999DN1974PTC000002  SAI AGRO PESTICIDES COMPANY PVT.LTD.      \n",
       "\n",
       "    COMPANY_CLASS           COMPANY_CATEGORY    COMPANY_SUBCAT  \\\n",
       "201       Private  Company limited by Shares  Non-govt company   \n",
       "413       Private  Company limited by Shares  Non-govt company   \n",
       "\n",
       "                            COMPANY_STATUS DATE_OF_REGISTRATION  \\\n",
       "201  INACTIVE UNDER SECTION 455 OF CA,2013           1974-04-30   \n",
       "413  INACTIVE UNDER SECTION 455 OF CA,2013           1974-04-30   \n",
       "\n",
       "           REGISTERED_STATE  Authorized Capital  (Rs.)   PAIDUP_CAPITAL (RS.)  \\\n",
       "201  Dadra and Nagar Haveli                     200000                      0   \n",
       "413  Dadra and Nagar Haveli                     200000                   1000   \n",
       "\n",
       "     PRINCIPAL_BUSINESS_ACTIVITY_CODE  \\\n",
       "201                             25199   \n",
       "413                             99999   \n",
       "\n",
       "                             REGISTERED_OFFICE_ADDRESS EMAIL_ID  \\\n",
       "201  SILVASSA,VIA-VAPI,DADRA-NAGAR HAVELI.   SILVAS...            \n",
       "413  SILVASSA, VIA VAPI,DADRA NAGAR HAVELI.SILVASSA...            \n",
       "\n",
       "    LATEST ANNUAL REPORT FILING FY END DATE  \\\n",
       "201                                       0   \n",
       "413                                       0   \n",
       "\n",
       "    LATEST BALANCE SHEET FILING FY END DATE  \n",
       "201                                       0  \n",
       "413                                       0  "
      ]
     },
     "execution_count": 14,
     "metadata": {},
     "output_type": "execute_result"
    }
   ],
   "source": [
    "Dadra_Nagar_Haveli_2016[Dadra_Nagar_Haveli_2016[\"COMPANY_NAME\"].isin(duplicates)]"
   ]
  },
  {
   "cell_type": "markdown",
   "id": "unable-burden",
   "metadata": {},
   "source": [
    "Duplicates in ```COMPANY_NAME``` does not mean the rows are duplicates."
   ]
  },
  {
   "cell_type": "code",
   "execution_count": null,
   "id": "scenic-korean",
   "metadata": {},
   "outputs": [],
   "source": []
  }
 ],
 "metadata": {
  "kernelspec": {
   "display_name": "Python 3",
   "language": "python",
   "name": "python3"
  },
  "language_info": {
   "codemirror_mode": {
    "name": "ipython",
    "version": 3
   },
   "file_extension": ".py",
   "mimetype": "text/x-python",
   "name": "python",
   "nbconvert_exporter": "python",
   "pygments_lexer": "ipython3",
   "version": "3.9.2"
  }
 },
 "nbformat": 4,
 "nbformat_minor": 5
}
