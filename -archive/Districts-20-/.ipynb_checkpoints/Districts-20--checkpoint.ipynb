{
 "cells": [
  {
   "cell_type": "markdown",
   "id": "ongoing-edgar",
   "metadata": {},
   "source": [
    "# Codebook  \n",
    "**Authors:** Lauren Baker  \n",
    "Documenting existing data files of DaanMatch with information about location, owner, \"version\", source etc."
   ]
  },
  {
   "cell_type": "code",
   "execution_count": 2,
   "id": "hired-rachel",
   "metadata": {},
   "outputs": [],
   "source": [
    "import boto3\n",
    "import numpy as np \n",
    "import pandas as pd\n",
    "pd.plotting.register_matplotlib_converters()\n",
    "import matplotlib.pyplot as plt\n",
    "%matplotlib inline\n",
    "from collections import Counter\n",
    "import statistics"
   ]
  },
  {
   "cell_type": "code",
   "execution_count": 3,
   "id": "obvious-cannon",
   "metadata": {},
   "outputs": [],
   "source": [
    "client = boto3.client('s3')\n",
    "resource = boto3.resource('s3')\n",
    "my_bucket = resource.Bucket('my-bucket')"
   ]
  },
  {
   "cell_type": "markdown",
   "id": "useful-tyler",
   "metadata": {},
   "source": [
    "# Districts-20-.csv\n",
    "## TOC:\n",
    "* [About this dataset](#1)\n",
    "* [What's in this dataset](#2)\n",
    "* [Codebook](#3)\n",
    "    * [Missing values](#3.1)\n",
    "    * [Summary statistics](#3.2)\n",
    "* [Columns](#4)\n",
    "    * [Name](#4.1)\n",
    "    * [Value](#4.2)"
   ]
  },
  {
   "cell_type": "markdown",
   "id": "dominant-reminder",
   "metadata": {},
   "source": [
    "**About this dataset**  <a class=\"anchor\" id=\"1\"></a>  \n",
    "Data provided by: Unknown.    \n",
    "Source: https://daanmatchdatafiles.s3-us-west-1.amazonaws.com/DaanMatch_DataFiles/Districts-20-.csv  \n",
    "Type: csv  \n",
    "Last Modified: May 29, 2021, 19:54:19 (UTC-07:00)  \n",
    "Size: 420.0 B"
   ]
  },
  {
   "cell_type": "code",
   "execution_count": 6,
   "id": "narrow-impact",
   "metadata": {},
   "outputs": [
    {
     "data": {
      "text/html": [
       "<div>\n",
       "<style scoped>\n",
       "    .dataframe tbody tr th:only-of-type {\n",
       "        vertical-align: middle;\n",
       "    }\n",
       "\n",
       "    .dataframe tbody tr th {\n",
       "        vertical-align: top;\n",
       "    }\n",
       "\n",
       "    .dataframe thead th {\n",
       "        text-align: right;\n",
       "    }\n",
       "</style>\n",
       "<table border=\"1\" class=\"dataframe\">\n",
       "  <thead>\n",
       "    <tr style=\"text-align: right;\">\n",
       "      <th></th>\n",
       "      <th>KeyColumn</th>\n",
       "      <th>Name</th>\n",
       "      <th>Value</th>\n",
       "    </tr>\n",
       "  </thead>\n",
       "  <tbody>\n",
       "    <tr>\n",
       "      <th>0</th>\n",
       "      <td>346</td>\n",
       "      <td>Garhwa</td>\n",
       "      <td>346</td>\n",
       "    </tr>\n",
       "    <tr>\n",
       "      <th>1</th>\n",
       "      <td>347</td>\n",
       "      <td>Chatra</td>\n",
       "      <td>347</td>\n",
       "    </tr>\n",
       "    <tr>\n",
       "      <th>2</th>\n",
       "      <td>348</td>\n",
       "      <td>Kodarma</td>\n",
       "      <td>348</td>\n",
       "    </tr>\n",
       "    <tr>\n",
       "      <th>3</th>\n",
       "      <td>349</td>\n",
       "      <td>Giridih</td>\n",
       "      <td>349</td>\n",
       "    </tr>\n",
       "    <tr>\n",
       "      <th>4</th>\n",
       "      <td>350</td>\n",
       "      <td>Deoghar</td>\n",
       "      <td>350</td>\n",
       "    </tr>\n",
       "    <tr>\n",
       "      <th>5</th>\n",
       "      <td>351</td>\n",
       "      <td>Godda</td>\n",
       "      <td>351</td>\n",
       "    </tr>\n",
       "    <tr>\n",
       "      <th>6</th>\n",
       "      <td>352</td>\n",
       "      <td>Sahibganj</td>\n",
       "      <td>352</td>\n",
       "    </tr>\n",
       "    <tr>\n",
       "      <th>7</th>\n",
       "      <td>353</td>\n",
       "      <td>Pakaur</td>\n",
       "      <td>353</td>\n",
       "    </tr>\n",
       "    <tr>\n",
       "      <th>8</th>\n",
       "      <td>354</td>\n",
       "      <td>Dhanbad</td>\n",
       "      <td>354</td>\n",
       "    </tr>\n",
       "    <tr>\n",
       "      <th>9</th>\n",
       "      <td>355</td>\n",
       "      <td>Bokaro</td>\n",
       "      <td>355</td>\n",
       "    </tr>\n",
       "    <tr>\n",
       "      <th>10</th>\n",
       "      <td>356</td>\n",
       "      <td>Lohardaga</td>\n",
       "      <td>356</td>\n",
       "    </tr>\n",
       "    <tr>\n",
       "      <th>11</th>\n",
       "      <td>357</td>\n",
       "      <td>Purbi Singhbhum</td>\n",
       "      <td>357</td>\n",
       "    </tr>\n",
       "    <tr>\n",
       "      <th>12</th>\n",
       "      <td>358</td>\n",
       "      <td>Palamu</td>\n",
       "      <td>358</td>\n",
       "    </tr>\n",
       "    <tr>\n",
       "      <th>13</th>\n",
       "      <td>359</td>\n",
       "      <td>Latehar</td>\n",
       "      <td>359</td>\n",
       "    </tr>\n",
       "    <tr>\n",
       "      <th>14</th>\n",
       "      <td>360</td>\n",
       "      <td>Hazaribag</td>\n",
       "      <td>360</td>\n",
       "    </tr>\n",
       "    <tr>\n",
       "      <th>15</th>\n",
       "      <td>361</td>\n",
       "      <td>Ramgarh</td>\n",
       "      <td>361</td>\n",
       "    </tr>\n",
       "    <tr>\n",
       "      <th>16</th>\n",
       "      <td>362</td>\n",
       "      <td>Dumka</td>\n",
       "      <td>362</td>\n",
       "    </tr>\n",
       "    <tr>\n",
       "      <th>17</th>\n",
       "      <td>363</td>\n",
       "      <td>Jamtara</td>\n",
       "      <td>363</td>\n",
       "    </tr>\n",
       "    <tr>\n",
       "      <th>18</th>\n",
       "      <td>364</td>\n",
       "      <td>Ranchi</td>\n",
       "      <td>364</td>\n",
       "    </tr>\n",
       "    <tr>\n",
       "      <th>19</th>\n",
       "      <td>365</td>\n",
       "      <td>Khunti</td>\n",
       "      <td>365</td>\n",
       "    </tr>\n",
       "    <tr>\n",
       "      <th>20</th>\n",
       "      <td>366</td>\n",
       "      <td>Gumla</td>\n",
       "      <td>366</td>\n",
       "    </tr>\n",
       "    <tr>\n",
       "      <th>21</th>\n",
       "      <td>367</td>\n",
       "      <td>Simdega</td>\n",
       "      <td>367</td>\n",
       "    </tr>\n",
       "    <tr>\n",
       "      <th>22</th>\n",
       "      <td>368</td>\n",
       "      <td>Pachim Sionghum</td>\n",
       "      <td>368</td>\n",
       "    </tr>\n",
       "    <tr>\n",
       "      <th>23</th>\n",
       "      <td>369</td>\n",
       "      <td>Saraikela</td>\n",
       "      <td>369</td>\n",
       "    </tr>\n",
       "  </tbody>\n",
       "</table>\n",
       "</div>"
      ],
      "text/plain": [
       "    KeyColumn             Name  Value\n",
       "0         346           Garhwa    346\n",
       "1         347           Chatra    347\n",
       "2         348          Kodarma    348\n",
       "3         349          Giridih    349\n",
       "4         350          Deoghar    350\n",
       "5         351            Godda    351\n",
       "6         352        Sahibganj    352\n",
       "7         353           Pakaur    353\n",
       "8         354          Dhanbad    354\n",
       "9         355           Bokaro    355\n",
       "10        356        Lohardaga    356\n",
       "11        357  Purbi Singhbhum    357\n",
       "12        358           Palamu    358\n",
       "13        359          Latehar    359\n",
       "14        360        Hazaribag    360\n",
       "15        361          Ramgarh    361\n",
       "16        362            Dumka    362\n",
       "17        363          Jamtara    363\n",
       "18        364           Ranchi    364\n",
       "19        365           Khunti    365\n",
       "20        366            Gumla    366\n",
       "21        367          Simdega    367\n",
       "22        368  Pachim Sionghum    368\n",
       "23        369        Saraikela    369"
      ]
     },
     "execution_count": 6,
     "metadata": {},
     "output_type": "execute_result"
    }
   ],
   "source": [
    "path = \"s3://daanmatchdatafiles/DaanMatch_DataFiles/Districts-20-.csv\"\n",
    "districts_20 = pd.read_csv(path)\n",
    "districts_20"
   ]
  },
  {
   "cell_type": "markdown",
   "id": "pacific-reconstruction",
   "metadata": {},
   "source": [
    "**What's in this dataset?** <a class=\"anchor\" id=\"2\"></a>"
   ]
  },
  {
   "cell_type": "code",
   "execution_count": 11,
   "id": "august-aluminum",
   "metadata": {},
   "outputs": [
    {
     "name": "stdout",
     "output_type": "stream",
     "text": [
      "Shape: (24, 3)\n",
      "Rows: 24\n",
      "Columns: 3\n",
      "Each row is a district in the Jharkhand state in India.\n"
     ]
    }
   ],
   "source": [
    "print(\"Shape:\", districts_20.shape)\n",
    "print(\"Rows:\", districts_20.shape[0])\n",
    "print(\"Columns:\", districts_20.shape[1])\n",
    "print(\"Each row is a district in the Jharkhand state in India.\")"
   ]
  },
  {
   "cell_type": "markdown",
   "id": "valid-jewel",
   "metadata": {},
   "source": [
    "**Codebook** <a class=\"anchor\" id=\"3\"></a>"
   ]
  },
  {
   "cell_type": "code",
   "execution_count": 20,
   "id": "marked-validity",
   "metadata": {},
   "outputs": [
    {
     "data": {
      "text/html": [
       "<style  type=\"text/css\" >\n",
       "#T_db068_row0_col1,#T_db068_row1_col1,#T_db068_row2_col1{\n",
       "            width:  600px;\n",
       "        }</style><table id=\"T_db068_\" ><thead>    <tr>        <th class=\"blank level0\" ></th>        <th class=\"col_heading level0 col0\" >Column Name</th>        <th class=\"col_heading level0 col1\" >Description</th>        <th class=\"col_heading level0 col2\" >Type</th>    </tr></thead><tbody>\n",
       "                <tr>\n",
       "                        <th id=\"T_db068_level0_row0\" class=\"row_heading level0 row0\" >0</th>\n",
       "                        <td id=\"T_db068_row0_col0\" class=\"data row0 col0\" >KeyColumn</td>\n",
       "                        <td id=\"T_db068_row0_col1\" class=\"data row0 col1\" >Same as the Value column.</td>\n",
       "                        <td id=\"T_db068_row0_col2\" class=\"data row0 col2\" >int64</td>\n",
       "            </tr>\n",
       "            <tr>\n",
       "                        <th id=\"T_db068_level0_row1\" class=\"row_heading level0 row1\" >1</th>\n",
       "                        <td id=\"T_db068_row1_col0\" class=\"data row1 col0\" >Name</td>\n",
       "                        <td id=\"T_db068_row1_col1\" class=\"data row1 col1\" >Name of District in Jharkhand. There are 28 states in India and 8 union territories, all of which have territories within them. This column represents the names of the 24 territories in the Jharkhand state.</td>\n",
       "                        <td id=\"T_db068_row1_col2\" class=\"data row1 col2\" >object</td>\n",
       "            </tr>\n",
       "            <tr>\n",
       "                        <th id=\"T_db068_level0_row2\" class=\"row_heading level0 row2\" >2</th>\n",
       "                        <td id=\"T_db068_row2_col0\" class=\"data row2 col0\" >Value</td>\n",
       "                        <td id=\"T_db068_row2_col1\" class=\"data row2 col1\" >This value column has no real meaning, it is meant purely to count the districts. There are 739 total districts in India, so the value represents the number of the district in regards to all other districts.</td>\n",
       "                        <td id=\"T_db068_row2_col2\" class=\"data row2 col2\" >int64</td>\n",
       "            </tr>\n",
       "    </tbody></table>"
      ],
      "text/plain": [
       "<pandas.io.formats.style.Styler at 0x11eac3790>"
      ]
     },
     "execution_count": 20,
     "metadata": {},
     "output_type": "execute_result"
    }
   ],
   "source": [
    "districts_20_columns = [column for column in districts_20.columns]\n",
    "districts_20_description = [\"Same as the Value column.\",\n",
    "                            \"Name of District in Jharkhand. There are 28 states in India and 8 union territories, all of which have territories within them. This column represents the names of the 24 territories in the Jharkhand state.\",\n",
    "                            \"This value column has no real meaning, it is meant purely to count the districts. There are 739 total districts in India, so the value represents the number of the district in regards to all other districts.\"]\n",
    "districts_20_dtypes = [dtype for dtype in districts_20.dtypes]\n",
    "\n",
    "data = {\"Column Name\": districts_20_columns, \"Description\": districts_20_description, \"Type\": districts_20_dtypes}\n",
    "districts_20_codebook = pd.DataFrame(data)\n",
    "districts_20_codebook.style.set_properties(subset=['Description'], **{'width': '600px'})"
   ]
  },
  {
   "cell_type": "markdown",
   "id": "julian-disorder",
   "metadata": {},
   "source": [
    "**Missing values** <a class=\"anchor\" id=\"3.1\"></a>"
   ]
  },
  {
   "cell_type": "code",
   "execution_count": 14,
   "id": "municipal-limit",
   "metadata": {},
   "outputs": [
    {
     "data": {
      "text/plain": [
       "KeyColumn    0\n",
       "Name         0\n",
       "Value        0\n",
       "dtype: int64"
      ]
     },
     "execution_count": 14,
     "metadata": {},
     "output_type": "execute_result"
    }
   ],
   "source": [
    "districts_20.isnull().sum()"
   ]
  },
  {
   "cell_type": "markdown",
   "id": "loose-orleans",
   "metadata": {},
   "source": [
    "There are 24 districts in the state of Jharkhand, and 24 districts in this dataset. That means that there are no missing values."
   ]
  },
  {
   "cell_type": "markdown",
   "id": "consistent-liberty",
   "metadata": {},
   "source": [
    "**Summary statistics** <a class=\"anchor\" id=\"3.2\"></a>"
   ]
  },
  {
   "cell_type": "code",
   "execution_count": 15,
   "id": "center-correction",
   "metadata": {},
   "outputs": [
    {
     "data": {
      "text/html": [
       "<div>\n",
       "<style scoped>\n",
       "    .dataframe tbody tr th:only-of-type {\n",
       "        vertical-align: middle;\n",
       "    }\n",
       "\n",
       "    .dataframe tbody tr th {\n",
       "        vertical-align: top;\n",
       "    }\n",
       "\n",
       "    .dataframe thead th {\n",
       "        text-align: right;\n",
       "    }\n",
       "</style>\n",
       "<table border=\"1\" class=\"dataframe\">\n",
       "  <thead>\n",
       "    <tr style=\"text-align: right;\">\n",
       "      <th></th>\n",
       "      <th>KeyColumn</th>\n",
       "      <th>Value</th>\n",
       "    </tr>\n",
       "  </thead>\n",
       "  <tbody>\n",
       "    <tr>\n",
       "      <th>count</th>\n",
       "      <td>24.000000</td>\n",
       "      <td>24.000000</td>\n",
       "    </tr>\n",
       "    <tr>\n",
       "      <th>mean</th>\n",
       "      <td>357.500000</td>\n",
       "      <td>357.500000</td>\n",
       "    </tr>\n",
       "    <tr>\n",
       "      <th>std</th>\n",
       "      <td>7.071068</td>\n",
       "      <td>7.071068</td>\n",
       "    </tr>\n",
       "    <tr>\n",
       "      <th>min</th>\n",
       "      <td>346.000000</td>\n",
       "      <td>346.000000</td>\n",
       "    </tr>\n",
       "    <tr>\n",
       "      <th>25%</th>\n",
       "      <td>351.750000</td>\n",
       "      <td>351.750000</td>\n",
       "    </tr>\n",
       "    <tr>\n",
       "      <th>50%</th>\n",
       "      <td>357.500000</td>\n",
       "      <td>357.500000</td>\n",
       "    </tr>\n",
       "    <tr>\n",
       "      <th>75%</th>\n",
       "      <td>363.250000</td>\n",
       "      <td>363.250000</td>\n",
       "    </tr>\n",
       "    <tr>\n",
       "      <th>max</th>\n",
       "      <td>369.000000</td>\n",
       "      <td>369.000000</td>\n",
       "    </tr>\n",
       "  </tbody>\n",
       "</table>\n",
       "</div>"
      ],
      "text/plain": [
       "        KeyColumn       Value\n",
       "count   24.000000   24.000000\n",
       "mean   357.500000  357.500000\n",
       "std      7.071068    7.071068\n",
       "min    346.000000  346.000000\n",
       "25%    351.750000  351.750000\n",
       "50%    357.500000  357.500000\n",
       "75%    363.250000  363.250000\n",
       "max    369.000000  369.000000"
      ]
     },
     "execution_count": 15,
     "metadata": {},
     "output_type": "execute_result"
    }
   ],
   "source": [
    "districts_20.describe()"
   ]
  },
  {
   "cell_type": "markdown",
   "id": "serious-department",
   "metadata": {},
   "source": [
    "## Columns\n",
    "<a class=\"anchor\" id=\"4\"></a>"
   ]
  },
  {
   "cell_type": "markdown",
   "id": "animated-baseline",
   "metadata": {},
   "source": [
    "### Name\n",
    "<a class=\"anchor\" id=\"4.1\"></a>\n",
    "Name of District in the state of Jharkhand in India. There are 28 states in India and 8 union territories, all of which have territories within them. This column represents the names of the territories in the state Jharkhand."
   ]
  },
  {
   "cell_type": "code",
   "execution_count": 16,
   "id": "simplified-trading",
   "metadata": {},
   "outputs": [
    {
     "data": {
      "text/plain": [
       "0              Garhwa\n",
       "1              Chatra\n",
       "2             Kodarma\n",
       "3             Giridih\n",
       "4             Deoghar\n",
       "5               Godda\n",
       "6           Sahibganj\n",
       "7              Pakaur\n",
       "8             Dhanbad\n",
       "9              Bokaro\n",
       "10          Lohardaga\n",
       "11    Purbi Singhbhum\n",
       "12             Palamu\n",
       "13            Latehar\n",
       "14          Hazaribag\n",
       "15            Ramgarh\n",
       "16              Dumka\n",
       "17            Jamtara\n",
       "18             Ranchi\n",
       "19             Khunti\n",
       "20              Gumla\n",
       "21            Simdega\n",
       "22    Pachim Sionghum\n",
       "23          Saraikela\n",
       "Name: Name, dtype: object"
      ]
     },
     "execution_count": 16,
     "metadata": {},
     "output_type": "execute_result"
    }
   ],
   "source": [
    "column = districts_20[\"Name\"]\n",
    "column"
   ]
  },
  {
   "cell_type": "code",
   "execution_count": 17,
   "id": "competitive-smoke",
   "metadata": {},
   "outputs": [
    {
     "name": "stdout",
     "output_type": "stream",
     "text": [
      "No. of unique values: 24\n",
      "Duplicates: {}\n"
     ]
    }
   ],
   "source": [
    "print(\"No. of unique values:\", len(column.unique()))\n",
    "\n",
    "# Check for duplicates\n",
    "counter = dict(Counter(column))\n",
    "duplicates = { key:value for key, value in counter.items() if value > 1}\n",
    "print(\"Duplicates:\", duplicates)\n",
    "if len(duplicates) > 0:\n",
    "    print(\"No. of duplicates:\", len(duplicates))"
   ]
  },
  {
   "cell_type": "markdown",
   "id": "clinical-criminal",
   "metadata": {},
   "source": [
    "### Value\n",
    "<a class=\"anchor\" id=\"4.2\"></a>\n",
    "This value column has no real meaning, it is meant purely to count the districts. There are 739 total districts in India, so the value represents the number of the district in regards to all other districts."
   ]
  },
  {
   "cell_type": "code",
   "execution_count": 18,
   "id": "cross-industry",
   "metadata": {},
   "outputs": [
    {
     "data": {
      "text/plain": [
       "0     346\n",
       "1     347\n",
       "2     348\n",
       "3     349\n",
       "4     350\n",
       "5     351\n",
       "6     352\n",
       "7     353\n",
       "8     354\n",
       "9     355\n",
       "10    356\n",
       "11    357\n",
       "12    358\n",
       "13    359\n",
       "14    360\n",
       "15    361\n",
       "16    362\n",
       "17    363\n",
       "18    364\n",
       "19    365\n",
       "20    366\n",
       "21    367\n",
       "22    368\n",
       "23    369\n",
       "Name: Value, dtype: int64"
      ]
     },
     "execution_count": 18,
     "metadata": {},
     "output_type": "execute_result"
    }
   ],
   "source": [
    "column = districts_20[\"Value\"]\n",
    "column"
   ]
  },
  {
   "cell_type": "code",
   "execution_count": 19,
   "id": "charitable-pharmacology",
   "metadata": {},
   "outputs": [
    {
     "name": "stdout",
     "output_type": "stream",
     "text": [
      "No. of unique values: 24\n",
      "Duplicates: {}\n"
     ]
    }
   ],
   "source": [
    "print(\"No. of unique values:\", len(column.unique()))\n",
    "\n",
    "# Check for duplicates\n",
    "counter = dict(Counter(column))\n",
    "duplicates = { key:value for key, value in counter.items() if value > 1}\n",
    "print(\"Duplicates:\", duplicates)\n",
    "if len(duplicates) > 0:\n",
    "    print(\"No. of duplicates:\", len(duplicates))"
   ]
  },
  {
   "cell_type": "code",
   "execution_count": null,
   "id": "piano-repeat",
   "metadata": {},
   "outputs": [],
   "source": []
  }
 ],
 "metadata": {
  "kernelspec": {
   "display_name": "Python 3",
   "language": "python",
   "name": "python3"
  },
  "language_info": {
   "codemirror_mode": {
    "name": "ipython",
    "version": 3
   },
   "file_extension": ".py",
   "mimetype": "text/x-python",
   "name": "python",
   "nbconvert_exporter": "python",
   "pygments_lexer": "ipython3",
   "version": "3.9.2"
  }
 },
 "nbformat": 4,
 "nbformat_minor": 5
}
