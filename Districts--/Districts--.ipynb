{
 "cells": [
  {
   "cell_type": "markdown",
   "id": "purple-hunger",
   "metadata": {},
   "source": [
    "# Codebook  \n",
    "**Authors:** Lauren Baker  \n",
    "Documenting existing data files of DaanMatch with information about location, owner, \"version\", source etc."
   ]
  },
  {
   "cell_type": "code",
   "execution_count": 31,
   "id": "genuine-invasion",
   "metadata": {},
   "outputs": [],
   "source": [
    "import boto3\n",
    "import numpy as np \n",
    "import pandas as pd\n",
    "pd.plotting.register_matplotlib_converters()\n",
    "import matplotlib.pyplot as plt\n",
    "%matplotlib inline\n",
    "from collections import Counter\n",
    "import statistics"
   ]
  },
  {
   "cell_type": "code",
   "execution_count": 44,
   "id": "loving-stock",
   "metadata": {},
   "outputs": [],
   "source": [
    "client = boto3.client('s3')\n",
    "resource = boto3.resource('s3')\n",
    "my_bucket = resource.Bucket('my-bucket')"
   ]
  },
  {
   "cell_type": "markdown",
   "id": "advance-preview",
   "metadata": {},
   "source": [
    "# Districts--.csv\n",
    "## TOC:\n",
    "* [About this dataset](#1)\n",
    "* [What's in this dataset](#2)\n",
    "* [Codebook](#3)\n",
    "    * [Missing values](#3.1)\n",
    "    * [Summary statistics](#3.2)\n",
    "* [Columns](#4)\n",
    "    * [Name](#4.1)\n",
    "    * [Value](#4.2)"
   ]
  },
  {
   "cell_type": "markdown",
   "id": "subject-leonard",
   "metadata": {},
   "source": [
    "**About this dataset**  <a class=\"anchor\" id=\"1\"></a>  \n",
    "Data provided by: Unknown.    \n",
    "Source: https://daanmatchdatafiles.s3-us-west-1.amazonaws.com/DaanMatch_DataFiles/Districts--.csv  \n",
    "Type: csv  \n",
    "Last Modified: May 29, 2021, 19:54:25 (UTC-07:00)  \n",
    "Size: 11.6 KB"
   ]
  },
  {
   "cell_type": "code",
   "execution_count": 33,
   "id": "speaking-resolution",
   "metadata": {},
   "outputs": [
    {
     "data": {
      "text/html": [
       "<div>\n",
       "<style scoped>\n",
       "    .dataframe tbody tr th:only-of-type {\n",
       "        vertical-align: middle;\n",
       "    }\n",
       "\n",
       "    .dataframe tbody tr th {\n",
       "        vertical-align: top;\n",
       "    }\n",
       "\n",
       "    .dataframe thead th {\n",
       "        text-align: right;\n",
       "    }\n",
       "</style>\n",
       "<table border=\"1\" class=\"dataframe\">\n",
       "  <thead>\n",
       "    <tr style=\"text-align: right;\">\n",
       "      <th></th>\n",
       "      <th>KeyColumn</th>\n",
       "      <th>Name</th>\n",
       "      <th>Value</th>\n",
       "    </tr>\n",
       "  </thead>\n",
       "  <tbody>\n",
       "    <tr>\n",
       "      <th>0</th>\n",
       "      <td>0</td>\n",
       "      <td>.</td>\n",
       "      <td>0</td>\n",
       "    </tr>\n",
       "    <tr>\n",
       "      <th>1</th>\n",
       "      <td>0</td>\n",
       "      <td>.</td>\n",
       "      <td>0</td>\n",
       "    </tr>\n",
       "    <tr>\n",
       "      <th>2</th>\n",
       "      <td>1</td>\n",
       "      <td>Kupwara</td>\n",
       "      <td>1</td>\n",
       "    </tr>\n",
       "    <tr>\n",
       "      <th>3</th>\n",
       "      <td>2</td>\n",
       "      <td>Badgam</td>\n",
       "      <td>2</td>\n",
       "    </tr>\n",
       "    <tr>\n",
       "      <th>4</th>\n",
       "      <td>3</td>\n",
       "      <td>Leh(Ladakh)</td>\n",
       "      <td>3</td>\n",
       "    </tr>\n",
       "    <tr>\n",
       "      <th>...</th>\n",
       "      <td>...</td>\n",
       "      <td>...</td>\n",
       "      <td>...</td>\n",
       "    </tr>\n",
       "    <tr>\n",
       "      <th>669</th>\n",
       "      <td>728</td>\n",
       "      <td>Devbhoomi Dwarka</td>\n",
       "      <td>728</td>\n",
       "    </tr>\n",
       "    <tr>\n",
       "      <th>670</th>\n",
       "      <td>729</td>\n",
       "      <td>Gir Somnath</td>\n",
       "      <td>729</td>\n",
       "    </tr>\n",
       "    <tr>\n",
       "      <th>671</th>\n",
       "      <td>730</td>\n",
       "      <td>Mahisagar</td>\n",
       "      <td>730</td>\n",
       "    </tr>\n",
       "    <tr>\n",
       "      <th>672</th>\n",
       "      <td>731</td>\n",
       "      <td>Chota Udaipur</td>\n",
       "      <td>731</td>\n",
       "    </tr>\n",
       "    <tr>\n",
       "      <th>673</th>\n",
       "      <td>732</td>\n",
       "      <td>Palghar</td>\n",
       "      <td>732</td>\n",
       "    </tr>\n",
       "  </tbody>\n",
       "</table>\n",
       "<p>674 rows × 3 columns</p>\n",
       "</div>"
      ],
      "text/plain": [
       "     KeyColumn              Name  Value\n",
       "0            0                 .      0\n",
       "1            0                 .      0\n",
       "2            1           Kupwara      1\n",
       "3            2            Badgam      2\n",
       "4            3       Leh(Ladakh)      3\n",
       "..         ...               ...    ...\n",
       "669        728  Devbhoomi Dwarka    728\n",
       "670        729       Gir Somnath    729\n",
       "671        730         Mahisagar    730\n",
       "672        731     Chota Udaipur    731\n",
       "673        732           Palghar    732\n",
       "\n",
       "[674 rows x 3 columns]"
      ]
     },
     "execution_count": 33,
     "metadata": {},
     "output_type": "execute_result"
    }
   ],
   "source": [
    "path = \"s3://daanmatchdatafiles/DaanMatch_DataFiles/Districts--.csv\"\n",
    "districts = pd.read_csv(path)\n",
    "districts"
   ]
  },
  {
   "cell_type": "markdown",
   "id": "common-department",
   "metadata": {},
   "source": [
    "**What's in this dataset?** <a class=\"anchor\" id=\"2\"></a>"
   ]
  },
  {
   "cell_type": "code",
   "execution_count": 34,
   "id": "looking-stanford",
   "metadata": {},
   "outputs": [
    {
     "name": "stdout",
     "output_type": "stream",
     "text": [
      "Shape: (674, 3)\n",
      "Rows: 674\n",
      "Columns: 3\n",
      "Each row is a district in India.\n"
     ]
    }
   ],
   "source": [
    "print(\"Shape:\", districts.shape)\n",
    "print(\"Rows:\", districts.shape[0])\n",
    "print(\"Columns:\", districts.shape[1])\n",
    "print(\"Each row is a district in India.\")"
   ]
  },
  {
   "cell_type": "markdown",
   "id": "automated-dubai",
   "metadata": {},
   "source": [
    "**Codebook** <a class=\"anchor\" id=\"3\"></a>"
   ]
  },
  {
   "cell_type": "code",
   "execution_count": 35,
   "id": "chicken-alignment",
   "metadata": {},
   "outputs": [
    {
     "data": {
      "text/html": [
       "<style  type=\"text/css\" >\n",
       "#T_eedfa_row0_col1,#T_eedfa_row1_col1,#T_eedfa_row2_col1{\n",
       "            width:  600px;\n",
       "        }</style><table id=\"T_eedfa_\" ><thead>    <tr>        <th class=\"blank level0\" ></th>        <th class=\"col_heading level0 col0\" >Column Name</th>        <th class=\"col_heading level0 col1\" >Description</th>        <th class=\"col_heading level0 col2\" >Type</th>    </tr></thead><tbody>\n",
       "                <tr>\n",
       "                        <th id=\"T_eedfa_level0_row0\" class=\"row_heading level0 row0\" >0</th>\n",
       "                        <td id=\"T_eedfa_row0_col0\" class=\"data row0 col0\" >KeyColumn</td>\n",
       "                        <td id=\"T_eedfa_row0_col1\" class=\"data row0 col1\" >Same as the Value column.</td>\n",
       "                        <td id=\"T_eedfa_row0_col2\" class=\"data row0 col2\" >int64</td>\n",
       "            </tr>\n",
       "            <tr>\n",
       "                        <th id=\"T_eedfa_level0_row1\" class=\"row_heading level0 row1\" >1</th>\n",
       "                        <td id=\"T_eedfa_row1_col0\" class=\"data row1 col0\" >Name</td>\n",
       "                        <td id=\"T_eedfa_row1_col1\" class=\"data row1 col1\" >Name of District in India. There are 28 states in India and 8 union territories, all of which have territories within them. This column represents the names of those territories.</td>\n",
       "                        <td id=\"T_eedfa_row1_col2\" class=\"data row1 col2\" >object</td>\n",
       "            </tr>\n",
       "            <tr>\n",
       "                        <th id=\"T_eedfa_level0_row2\" class=\"row_heading level0 row2\" >2</th>\n",
       "                        <td id=\"T_eedfa_row2_col0\" class=\"data row2 col0\" >Value</td>\n",
       "                        <td id=\"T_eedfa_row2_col1\" class=\"data row2 col1\" >This value column has no real meaning, it is meant purely to count the districts.</td>\n",
       "                        <td id=\"T_eedfa_row2_col2\" class=\"data row2 col2\" >int64</td>\n",
       "            </tr>\n",
       "    </tbody></table>"
      ],
      "text/plain": [
       "<pandas.io.formats.style.Styler at 0x11cd85be0>"
      ]
     },
     "execution_count": 35,
     "metadata": {},
     "output_type": "execute_result"
    }
   ],
   "source": [
    "districts_columns = [column for column in districts.columns]\n",
    "districts_description = [\"Same as the Value column.\",\n",
    "                            \"Name of District in India. There are 28 states in India and 8 union territories, all of which have territories within them. This column represents the names of those territories.\",\n",
    "                            \"This value column has no real meaning, it is meant purely to count the districts.\"]\n",
    "districts_dtypes = [dtype for dtype in districts.dtypes]\n",
    "\n",
    "data = {\"Column Name\": districts_columns, \"Description\": districts_description, \"Type\": districts_dtypes}\n",
    "districts_codebook = pd.DataFrame(data)\n",
    "districts_codebook.style.set_properties(subset=['Description'], **{'width': '600px'})"
   ]
  },
  {
   "cell_type": "markdown",
   "id": "vital-patient",
   "metadata": {},
   "source": [
    "**Missing values** <a class=\"anchor\" id=\"3.1\"></a>"
   ]
  },
  {
   "cell_type": "code",
   "execution_count": 36,
   "id": "directed-simon",
   "metadata": {},
   "outputs": [
    {
     "data": {
      "text/plain": [
       "KeyColumn    0\n",
       "Name         0\n",
       "Value        0\n",
       "dtype: int64"
      ]
     },
     "execution_count": 36,
     "metadata": {},
     "output_type": "execute_result"
    }
   ],
   "source": [
    "districts.isnull().sum()"
   ]
  },
  {
   "cell_type": "markdown",
   "id": "prescribed-toronto",
   "metadata": {},
   "source": [
    "**Summary statistics** <a class=\"anchor\" id=\"3.2\"></a>"
   ]
  },
  {
   "cell_type": "code",
   "execution_count": 37,
   "id": "solved-cookbook",
   "metadata": {
    "scrolled": true
   },
   "outputs": [
    {
     "data": {
      "text/html": [
       "<div>\n",
       "<style scoped>\n",
       "    .dataframe tbody tr th:only-of-type {\n",
       "        vertical-align: middle;\n",
       "    }\n",
       "\n",
       "    .dataframe tbody tr th {\n",
       "        vertical-align: top;\n",
       "    }\n",
       "\n",
       "    .dataframe thead th {\n",
       "        text-align: right;\n",
       "    }\n",
       "</style>\n",
       "<table border=\"1\" class=\"dataframe\">\n",
       "  <thead>\n",
       "    <tr style=\"text-align: right;\">\n",
       "      <th></th>\n",
       "      <th>KeyColumn</th>\n",
       "      <th>Value</th>\n",
       "    </tr>\n",
       "  </thead>\n",
       "  <tbody>\n",
       "    <tr>\n",
       "      <th>count</th>\n",
       "      <td>674.000000</td>\n",
       "      <td>674.000000</td>\n",
       "    </tr>\n",
       "    <tr>\n",
       "      <th>mean</th>\n",
       "      <td>338.348665</td>\n",
       "      <td>338.348665</td>\n",
       "    </tr>\n",
       "    <tr>\n",
       "      <th>std</th>\n",
       "      <td>199.766956</td>\n",
       "      <td>199.766956</td>\n",
       "    </tr>\n",
       "    <tr>\n",
       "      <th>min</th>\n",
       "      <td>0.000000</td>\n",
       "      <td>0.000000</td>\n",
       "    </tr>\n",
       "    <tr>\n",
       "      <th>25%</th>\n",
       "      <td>167.250000</td>\n",
       "      <td>167.250000</td>\n",
       "    </tr>\n",
       "    <tr>\n",
       "      <th>50%</th>\n",
       "      <td>335.500000</td>\n",
       "      <td>335.500000</td>\n",
       "    </tr>\n",
       "    <tr>\n",
       "      <th>75%</th>\n",
       "      <td>503.750000</td>\n",
       "      <td>503.750000</td>\n",
       "    </tr>\n",
       "    <tr>\n",
       "      <th>max</th>\n",
       "      <td>732.000000</td>\n",
       "      <td>732.000000</td>\n",
       "    </tr>\n",
       "  </tbody>\n",
       "</table>\n",
       "</div>"
      ],
      "text/plain": [
       "        KeyColumn       Value\n",
       "count  674.000000  674.000000\n",
       "mean   338.348665  338.348665\n",
       "std    199.766956  199.766956\n",
       "min      0.000000    0.000000\n",
       "25%    167.250000  167.250000\n",
       "50%    335.500000  335.500000\n",
       "75%    503.750000  503.750000\n",
       "max    732.000000  732.000000"
      ]
     },
     "execution_count": 37,
     "metadata": {},
     "output_type": "execute_result"
    }
   ],
   "source": [
    "districts.describe()"
   ]
  },
  {
   "cell_type": "markdown",
   "id": "early-aviation",
   "metadata": {},
   "source": [
    "## Columns\n",
    "<a class=\"anchor\" id=\"4\"></a>"
   ]
  },
  {
   "cell_type": "markdown",
   "id": "outer-benefit",
   "metadata": {},
   "source": [
    "### Name\n",
    "<a class=\"anchor\" id=\"4.1\"></a>\n",
    "Name of District in India. There are 28 states in India and 8 union territories, all of which have territories within them. This column represents the names of those territories."
   ]
  },
  {
   "cell_type": "code",
   "execution_count": 38,
   "id": "reported-spotlight",
   "metadata": {},
   "outputs": [
    {
     "data": {
      "text/plain": [
       "0                     .\n",
       "1                     .\n",
       "2               Kupwara\n",
       "3                Badgam\n",
       "4           Leh(Ladakh)\n",
       "             ...       \n",
       "669    Devbhoomi Dwarka\n",
       "670         Gir Somnath\n",
       "671           Mahisagar\n",
       "672       Chota Udaipur\n",
       "673             Palghar\n",
       "Name: Name, Length: 674, dtype: object"
      ]
     },
     "execution_count": 38,
     "metadata": {},
     "output_type": "execute_result"
    }
   ],
   "source": [
    "column = districts[\"Name\"]\n",
    "column"
   ]
  },
  {
   "cell_type": "code",
   "execution_count": 39,
   "id": "supposed-creek",
   "metadata": {},
   "outputs": [
    {
     "name": "stdout",
     "output_type": "stream",
     "text": [
      "No. of unique values: 662\n",
      "Duplicates: {'.': 2, 'Hamirpur': 2, 'Bilaspur': 2, 'North': 2, 'East': 2, 'West': 2, 'South': 2, 'Pratapgarh': 2, 'Balrampur': 2, 'Aurangabad': 2, 'Raigarh': 2, 'Bijapur': 2}\n",
      "No. of duplicates: 12\n"
     ]
    }
   ],
   "source": [
    "print(\"No. of unique values:\", len(column.unique()))\n",
    "\n",
    "# Check for duplicates\n",
    "counter = dict(Counter(column))\n",
    "duplicates = { key:value for key, value in counter.items() if value > 1}\n",
    "print(\"Duplicates:\", duplicates)\n",
    "if len(duplicates) > 0:\n",
    "    print(\"No. of duplicates:\", len(duplicates))"
   ]
  },
  {
   "cell_type": "code",
   "execution_count": 40,
   "id": "inside-leeds",
   "metadata": {},
   "outputs": [
    {
     "data": {
      "text/html": [
       "<div>\n",
       "<style scoped>\n",
       "    .dataframe tbody tr th:only-of-type {\n",
       "        vertical-align: middle;\n",
       "    }\n",
       "\n",
       "    .dataframe tbody tr th {\n",
       "        vertical-align: top;\n",
       "    }\n",
       "\n",
       "    .dataframe thead th {\n",
       "        text-align: right;\n",
       "    }\n",
       "</style>\n",
       "<table border=\"1\" class=\"dataframe\">\n",
       "  <thead>\n",
       "    <tr style=\"text-align: right;\">\n",
       "      <th></th>\n",
       "      <th>KeyColumn</th>\n",
       "      <th>Name</th>\n",
       "      <th>Value</th>\n",
       "    </tr>\n",
       "  </thead>\n",
       "  <tbody>\n",
       "    <tr>\n",
       "      <th>0</th>\n",
       "      <td>0</td>\n",
       "      <td>.</td>\n",
       "      <td>0</td>\n",
       "    </tr>\n",
       "    <tr>\n",
       "      <th>1</th>\n",
       "      <td>0</td>\n",
       "      <td>.</td>\n",
       "      <td>0</td>\n",
       "    </tr>\n",
       "    <tr>\n",
       "      <th>516</th>\n",
       "      <td>515</td>\n",
       "      <td>Aurangabad</td>\n",
       "      <td>515</td>\n",
       "    </tr>\n",
       "    <tr>\n",
       "      <th>236</th>\n",
       "      <td>235</td>\n",
       "      <td>Aurangabad</td>\n",
       "      <td>235</td>\n",
       "    </tr>\n",
       "    <tr>\n",
       "      <th>183</th>\n",
       "      <td>182</td>\n",
       "      <td>Balrampur</td>\n",
       "      <td>182</td>\n",
       "    </tr>\n",
       "    <tr>\n",
       "      <th>657</th>\n",
       "      <td>716</td>\n",
       "      <td>Balrampur</td>\n",
       "      <td>716</td>\n",
       "    </tr>\n",
       "    <tr>\n",
       "      <th>418</th>\n",
       "      <td>417</td>\n",
       "      <td>Bijapur</td>\n",
       "      <td>417</td>\n",
       "    </tr>\n",
       "    <tr>\n",
       "      <th>558</th>\n",
       "      <td>557</td>\n",
       "      <td>Bijapur</td>\n",
       "      <td>557</td>\n",
       "    </tr>\n",
       "    <tr>\n",
       "      <th>407</th>\n",
       "      <td>406</td>\n",
       "      <td>Bilaspur</td>\n",
       "      <td>406</td>\n",
       "    </tr>\n",
       "    <tr>\n",
       "      <th>31</th>\n",
       "      <td>30</td>\n",
       "      <td>Bilaspur</td>\n",
       "      <td>30</td>\n",
       "    </tr>\n",
       "    <tr>\n",
       "      <th>245</th>\n",
       "      <td>244</td>\n",
       "      <td>East</td>\n",
       "      <td>244</td>\n",
       "    </tr>\n",
       "    <tr>\n",
       "      <th>94</th>\n",
       "      <td>93</td>\n",
       "      <td>East</td>\n",
       "      <td>93</td>\n",
       "    </tr>\n",
       "    <tr>\n",
       "      <th>169</th>\n",
       "      <td>168</td>\n",
       "      <td>Hamirpur</td>\n",
       "      <td>168</td>\n",
       "    </tr>\n",
       "    <tr>\n",
       "      <th>29</th>\n",
       "      <td>28</td>\n",
       "      <td>Hamirpur</td>\n",
       "      <td>28</td>\n",
       "    </tr>\n",
       "    <tr>\n",
       "      <th>242</th>\n",
       "      <td>241</td>\n",
       "      <td>North</td>\n",
       "      <td>241</td>\n",
       "    </tr>\n",
       "    <tr>\n",
       "      <th>92</th>\n",
       "      <td>90</td>\n",
       "      <td>North</td>\n",
       "      <td>90</td>\n",
       "    </tr>\n",
       "    <tr>\n",
       "      <th>132</th>\n",
       "      <td>131</td>\n",
       "      <td>Pratapgarh</td>\n",
       "      <td>131</td>\n",
       "    </tr>\n",
       "    <tr>\n",
       "      <th>174</th>\n",
       "      <td>173</td>\n",
       "      <td>Pratapgarh</td>\n",
       "      <td>173</td>\n",
       "    </tr>\n",
       "    <tr>\n",
       "      <th>404</th>\n",
       "      <td>403</td>\n",
       "      <td>Raigarh</td>\n",
       "      <td>403</td>\n",
       "    </tr>\n",
       "    <tr>\n",
       "      <th>521</th>\n",
       "      <td>520</td>\n",
       "      <td>Raigarh</td>\n",
       "      <td>520</td>\n",
       "    </tr>\n",
       "    <tr>\n",
       "      <th>244</th>\n",
       "      <td>243</td>\n",
       "      <td>South</td>\n",
       "      <td>243</td>\n",
       "    </tr>\n",
       "    <tr>\n",
       "      <th>99</th>\n",
       "      <td>98</td>\n",
       "      <td>South</td>\n",
       "      <td>98</td>\n",
       "    </tr>\n",
       "    <tr>\n",
       "      <th>97</th>\n",
       "      <td>96</td>\n",
       "      <td>West</td>\n",
       "      <td>96</td>\n",
       "    </tr>\n",
       "    <tr>\n",
       "      <th>243</th>\n",
       "      <td>242</td>\n",
       "      <td>West</td>\n",
       "      <td>242</td>\n",
       "    </tr>\n",
       "  </tbody>\n",
       "</table>\n",
       "</div>"
      ],
      "text/plain": [
       "     KeyColumn        Name  Value\n",
       "0            0           .      0\n",
       "1            0           .      0\n",
       "516        515  Aurangabad    515\n",
       "236        235  Aurangabad    235\n",
       "183        182   Balrampur    182\n",
       "657        716   Balrampur    716\n",
       "418        417     Bijapur    417\n",
       "558        557     Bijapur    557\n",
       "407        406    Bilaspur    406\n",
       "31          30    Bilaspur     30\n",
       "245        244        East    244\n",
       "94          93        East     93\n",
       "169        168    Hamirpur    168\n",
       "29          28    Hamirpur     28\n",
       "242        241       North    241\n",
       "92          90       North     90\n",
       "132        131  Pratapgarh    131\n",
       "174        173  Pratapgarh    173\n",
       "404        403     Raigarh    403\n",
       "521        520     Raigarh    520\n",
       "244        243       South    243\n",
       "99          98       South     98\n",
       "97          96        West     96\n",
       "243        242        West    242"
      ]
     },
     "execution_count": 40,
     "metadata": {},
     "output_type": "execute_result"
    }
   ],
   "source": [
    "districts.loc[districts['Name'].isin(duplicates.keys())].sort_values(\"Name\")"
   ]
  },
  {
   "cell_type": "markdown",
   "id": "minus-error",
   "metadata": {},
   "source": [
    "### Value\n",
    "<a class=\"anchor\" id=\"4.2\"></a>\n",
    "This value column has no real meaning, it is meant purely to count the districts."
   ]
  },
  {
   "cell_type": "code",
   "execution_count": 41,
   "id": "literary-noise",
   "metadata": {},
   "outputs": [
    {
     "data": {
      "text/plain": [
       "0        0\n",
       "1        0\n",
       "2        1\n",
       "3        2\n",
       "4        3\n",
       "      ... \n",
       "669    728\n",
       "670    729\n",
       "671    730\n",
       "672    731\n",
       "673    732\n",
       "Name: Value, Length: 674, dtype: int64"
      ]
     },
     "execution_count": 41,
     "metadata": {},
     "output_type": "execute_result"
    }
   ],
   "source": [
    "column = districts[\"Value\"]\n",
    "column"
   ]
  },
  {
   "cell_type": "code",
   "execution_count": 42,
   "id": "threaded-money",
   "metadata": {},
   "outputs": [
    {
     "name": "stdout",
     "output_type": "stream",
     "text": [
      "No. of unique values: 672\n",
      "Duplicates: {0: 2, 90: 2}\n",
      "No. of duplicates: 2\n"
     ]
    }
   ],
   "source": [
    "print(\"No. of unique values:\", len(column.unique()))\n",
    "\n",
    "# Check for duplicates\n",
    "counter = dict(Counter(column))\n",
    "duplicates = { key:value for key, value in counter.items() if value > 1}\n",
    "print(\"Duplicates:\", duplicates)\n",
    "if len(duplicates) > 0:\n",
    "    print(\"No. of duplicates:\", len(duplicates))"
   ]
  },
  {
   "cell_type": "code",
   "execution_count": 43,
   "id": "graduate-pharmacy",
   "metadata": {},
   "outputs": [
    {
     "data": {
      "text/html": [
       "<div>\n",
       "<style scoped>\n",
       "    .dataframe tbody tr th:only-of-type {\n",
       "        vertical-align: middle;\n",
       "    }\n",
       "\n",
       "    .dataframe tbody tr th {\n",
       "        vertical-align: top;\n",
       "    }\n",
       "\n",
       "    .dataframe thead th {\n",
       "        text-align: right;\n",
       "    }\n",
       "</style>\n",
       "<table border=\"1\" class=\"dataframe\">\n",
       "  <thead>\n",
       "    <tr style=\"text-align: right;\">\n",
       "      <th></th>\n",
       "      <th>KeyColumn</th>\n",
       "      <th>Name</th>\n",
       "      <th>Value</th>\n",
       "    </tr>\n",
       "  </thead>\n",
       "  <tbody>\n",
       "    <tr>\n",
       "      <th>0</th>\n",
       "      <td>0</td>\n",
       "      <td>.</td>\n",
       "      <td>0</td>\n",
       "    </tr>\n",
       "    <tr>\n",
       "      <th>1</th>\n",
       "      <td>0</td>\n",
       "      <td>.</td>\n",
       "      <td>0</td>\n",
       "    </tr>\n",
       "    <tr>\n",
       "      <th>91</th>\n",
       "      <td>90</td>\n",
       "      <td>North West</td>\n",
       "      <td>90</td>\n",
       "    </tr>\n",
       "    <tr>\n",
       "      <th>92</th>\n",
       "      <td>90</td>\n",
       "      <td>North</td>\n",
       "      <td>90</td>\n",
       "    </tr>\n",
       "  </tbody>\n",
       "</table>\n",
       "</div>"
      ],
      "text/plain": [
       "    KeyColumn        Name  Value\n",
       "0           0           .      0\n",
       "1           0           .      0\n",
       "91         90  North West     90\n",
       "92         90       North     90"
      ]
     },
     "execution_count": 43,
     "metadata": {},
     "output_type": "execute_result"
    }
   ],
   "source": [
    "districts.loc[districts['Value'].isin(duplicates.keys())]"
   ]
  },
  {
   "cell_type": "code",
   "execution_count": null,
   "id": "removed-expression",
   "metadata": {},
   "outputs": [],
   "source": []
  }
 ],
 "metadata": {
  "kernelspec": {
   "display_name": "Python 3",
   "language": "python",
   "name": "python3"
  },
  "language_info": {
   "codemirror_mode": {
    "name": "ipython",
    "version": 3
   },
   "file_extension": ".py",
   "mimetype": "text/x-python",
   "name": "python",
   "nbconvert_exporter": "python",
   "pygments_lexer": "ipython3",
   "version": "3.9.2"
  }
 },
 "nbformat": 4,
 "nbformat_minor": 5
}
