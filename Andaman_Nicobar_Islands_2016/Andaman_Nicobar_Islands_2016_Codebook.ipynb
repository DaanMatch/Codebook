{
 "cells": [
  {
   "cell_type": "markdown",
   "metadata": {},
   "source": [
    "# Codebook  \n",
    "**Authors:** Patrick Guo  \n",
    "Documenting existing data files of DaanMatch with information about location, owner, \"version\", source etc."
   ]
  },
  {
   "cell_type": "code",
   "execution_count": 1,
   "metadata": {},
   "outputs": [],
   "source": [
    "import pandas as pd\n",
    "import numpy as np \n",
    "import os\n",
    "from collections import Counter\n",
    "import matplotlib.pyplot as plt\n",
    "import statistics"
   ]
  },
  {
   "cell_type": "code",
   "execution_count": 2,
   "metadata": {},
   "outputs": [],
   "source": [
    "#os.chdir(\"DaanMatch_DataFiles\")"
   ]
  },
  {
   "cell_type": "code",
   "execution_count": 3,
   "metadata": {},
   "outputs": [],
   "source": [
    "#!ls"
   ]
  },
  {
   "cell_type": "markdown",
   "metadata": {},
   "source": [
    "# Andaman_Nicobar_Islands_2016.xlsx'  \n",
    "\n",
    "## TOC:\n",
    "* [About this dataset](#1)\n",
    "* [What's in this dataset](#2)\n",
    "* [Codebook](#3)\n",
    "* [Columns](#4)\n",
    "    * [CIN](#4.1)\n",
    "    * [COMPANY_NAME](#4.2)\n",
    "    * [COMPANY_CLASS](#4.3)\n",
    "    * [COMPANY_CATEGORY](#4.4)\n",
    "    * [COMPANY_SUBCAT](#4.5)\n",
    "    * [COMPANY_STATUS](#4.6)\n",
    "    * [DATE_OF_REGISTRATION](#4.7)\n",
    "    * [REGISTERED_STATE](#4.8)\n",
    "    * [Authorized Capital  (Rs.)](#4.9)\n",
    "    * [PAIDUP_CAPITAL (Rs.)](#4.10)\n",
    "    * [PRINCIPAL_BUSINESS_ACTIVITY_CODE](#4.11)\n",
    "    * [REGISTERED_OFFICE_ADDRESS](#4.12)\n",
    "    * [EMAIL_ID](#4.13)\n",
    "    * [LATEST ANNUAL REPORT FILING FY END DATE](#4.14)\n",
    "    * [LATEST BALANCE SHEET FILING FY END DATE](#4.15)"
   ]
  },
  {
   "cell_type": "markdown",
   "metadata": {},
   "source": [
    "**About this dataset**  <a class=\"anchor\" id=\"1\"></a>  \n",
    "Data provided by: MCA  \n",
    "Source: https://www.mca.gov.in/Ministry/pdf/Andaman_Nicobar_Islands_2016.xlsx  \n",
    "Stored: https://www.dropbox.com/sh/43nifucv8kjtxy3/AAAmidU7yxLwjgepdIbgllPIa?dl=0&preview=Andaman_Nicobar_Islands_2016.xlsx  \n",
    "Uploaded by: Cara Foss  \n",
    "Date uploaded: 9/23/2020, 4:25 PM  \n",
    "Size: 3.16MB  "
   ]
  },
  {
   "cell_type": "code",
   "execution_count": 3,
   "metadata": {},
   "outputs": [
    {
     "name": "stdout",
     "output_type": "stream",
     "text": [
      "['Sheet1', 'Sheet2']\n"
     ]
    },
    {
     "data": {
      "text/html": [
       "<div>\n",
       "<style scoped>\n",
       "    .dataframe tbody tr th:only-of-type {\n",
       "        vertical-align: middle;\n",
       "    }\n",
       "\n",
       "    .dataframe tbody tr th {\n",
       "        vertical-align: top;\n",
       "    }\n",
       "\n",
       "    .dataframe thead th {\n",
       "        text-align: right;\n",
       "    }\n",
       "</style>\n",
       "<table border=\"1\" class=\"dataframe\">\n",
       "  <thead>\n",
       "    <tr style=\"text-align: right;\">\n",
       "      <th></th>\n",
       "      <th>CIN</th>\n",
       "      <th>COMPANY_NAME</th>\n",
       "      <th>COMPANY_CLASS</th>\n",
       "      <th>COMPANY_CATEGORY</th>\n",
       "      <th>COMPANY_SUBCAT</th>\n",
       "      <th>COMPANY_STATUS</th>\n",
       "      <th>DATE_OF_REGISTRATION</th>\n",
       "      <th>REGISTERED_STATE</th>\n",
       "      <th>Authorized Capital  (Rs.)</th>\n",
       "      <th>PAIDUP_CAPITAL (RS.)</th>\n",
       "      <th>PRINCIPAL_BUSINESS_ACTIVITY_CODE</th>\n",
       "      <th>REGISTERED_OFFICE_ADDRESS</th>\n",
       "      <th>EMAIL_ID</th>\n",
       "      <th>LATEST ANNUAL REPORT FILING FY END DATE</th>\n",
       "      <th>LATEST BALANCE SHEET FILING FY END DATE</th>\n",
       "    </tr>\n",
       "  </thead>\n",
       "  <tbody>\n",
       "    <tr>\n",
       "      <th>0</th>\n",
       "      <td>U74999AP2007PLC053278</td>\n",
       "      <td>ANRAK ALUMINIUM LIMITED</td>\n",
       "      <td>Public</td>\n",
       "      <td>Company limited by Shares</td>\n",
       "      <td>Non-govt company</td>\n",
       "      <td>ACTIVE</td>\n",
       "      <td>2007-03-23 00:00:00</td>\n",
       "      <td>Andhra Pradesh</td>\n",
       "      <td>100000000000</td>\n",
       "      <td>16692588120</td>\n",
       "      <td>74999</td>\n",
       "      <td>APIIC INDUSTRIAL PARK, RACHAPALLI(VILLAGE)MAKA...</td>\n",
       "      <td>csrajk@gmail.com</td>\n",
       "      <td>2015-03-31</td>\n",
       "      <td>2015-03-31</td>\n",
       "    </tr>\n",
       "    <tr>\n",
       "      <th>1</th>\n",
       "      <td>U27109AP1982GOI003404</td>\n",
       "      <td>RASHTRIYA ISPAT NIGAM LTD</td>\n",
       "      <td>Public</td>\n",
       "      <td>Company limited by Shares</td>\n",
       "      <td>Union Govt company</td>\n",
       "      <td>ACTIVE</td>\n",
       "      <td>1982-02-18 00:00:00</td>\n",
       "      <td>Andhra Pradesh</td>\n",
       "      <td>80000000000</td>\n",
       "      <td>48898462000</td>\n",
       "      <td>27109</td>\n",
       "      <td>ADMINISTRATIVE BUILDINGVISAKHAPATNAMANDHRA PRA...</td>\n",
       "      <td>csrinl@vizagsteel.com</td>\n",
       "      <td>2015-03-31</td>\n",
       "      <td>2015-03-31</td>\n",
       "    </tr>\n",
       "    <tr>\n",
       "      <th>2</th>\n",
       "      <td>L45204AP2001PLC057199</td>\n",
       "      <td>KSK ENERGY VENTURES LIMITED</td>\n",
       "      <td>Public</td>\n",
       "      <td>Company limited by Shares</td>\n",
       "      <td>Non-govt company</td>\n",
       "      <td>ACTIVE</td>\n",
       "      <td>2001-02-14 00:00:00</td>\n",
       "      <td>Andhra Pradesh</td>\n",
       "      <td>50315000000</td>\n",
       "      <td>4579857740</td>\n",
       "      <td>45204</td>\n",
       "      <td>8-2-293/82/A/431/A,ROAD NO.22, JUBILEE HILLS, ...</td>\n",
       "      <td>comp.sect@ksk.co.in</td>\n",
       "      <td>2015-03-31</td>\n",
       "      <td>2015-03-31</td>\n",
       "    </tr>\n",
       "    <tr>\n",
       "      <th>3</th>\n",
       "      <td>U40102AP2008PLC059628</td>\n",
       "      <td>SEMBCORP GAYATRI POWER LIMITED</td>\n",
       "      <td>Public</td>\n",
       "      <td>Company limited by Shares</td>\n",
       "      <td>Non-govt company</td>\n",
       "      <td>ACTIVE</td>\n",
       "      <td>2008-06-12 00:00:00</td>\n",
       "      <td>Andhra Pradesh</td>\n",
       "      <td>50000000000</td>\n",
       "      <td>28762779400</td>\n",
       "      <td>40102</td>\n",
       "      <td>6-3-1090, 5th Floor, A Block, TSR Towers,Rajbh...</td>\n",
       "      <td>cs.india@sembcorp.com</td>\n",
       "      <td>2015-03-31</td>\n",
       "      <td>2015-03-31</td>\n",
       "    </tr>\n",
       "    <tr>\n",
       "      <th>4</th>\n",
       "      <td>U27109AP1993PTC015499</td>\n",
       "      <td>GERDAU STEEL INDIA PRIVATE LIMITED</td>\n",
       "      <td>Private</td>\n",
       "      <td>Company limited by Shares</td>\n",
       "      <td>Non-govt company</td>\n",
       "      <td>ACTIVE</td>\n",
       "      <td>1993-03-16 00:00:00</td>\n",
       "      <td>Andhra Pradesh</td>\n",
       "      <td>30000000000</td>\n",
       "      <td>23922825890</td>\n",
       "      <td>27109</td>\n",
       "      <td>VILLAGE JAMBULAPADU,TADIPATRI MANDAL,  ANANTHP...</td>\n",
       "      <td>satyanarayan.mohanty@gerdau.com</td>\n",
       "      <td>2015-03-31</td>\n",
       "      <td>2015-03-31</td>\n",
       "    </tr>\n",
       "  </tbody>\n",
       "</table>\n",
       "</div>"
      ],
      "text/plain": [
       "                     CIN                           COMPANY_NAME COMPANY_CLASS  \\\n",
       "0  U74999AP2007PLC053278             ANRAK ALUMINIUM LIMITED           Public   \n",
       "1  U27109AP1982GOI003404           RASHTRIYA ISPAT NIGAM LTD           Public   \n",
       "2  L45204AP2001PLC057199         KSK ENERGY VENTURES LIMITED           Public   \n",
       "3  U40102AP2008PLC059628      SEMBCORP GAYATRI POWER LIMITED           Public   \n",
       "4  U27109AP1993PTC015499  GERDAU STEEL INDIA PRIVATE LIMITED          Private   \n",
       "\n",
       "            COMPANY_CATEGORY      COMPANY_SUBCAT COMPANY_STATUS  \\\n",
       "0  Company limited by Shares    Non-govt company         ACTIVE   \n",
       "1  Company limited by Shares  Union Govt company         ACTIVE   \n",
       "2  Company limited by Shares    Non-govt company         ACTIVE   \n",
       "3  Company limited by Shares    Non-govt company         ACTIVE   \n",
       "4  Company limited by Shares    Non-govt company         ACTIVE   \n",
       "\n",
       "  DATE_OF_REGISTRATION REGISTERED_STATE  Authorized Capital  (Rs.)  \\\n",
       "0  2007-03-23 00:00:00   Andhra Pradesh               100000000000   \n",
       "1  1982-02-18 00:00:00   Andhra Pradesh                80000000000   \n",
       "2  2001-02-14 00:00:00   Andhra Pradesh                50315000000   \n",
       "3  2008-06-12 00:00:00   Andhra Pradesh                50000000000   \n",
       "4  1993-03-16 00:00:00   Andhra Pradesh                30000000000   \n",
       "\n",
       "    PAIDUP_CAPITAL (RS.)  PRINCIPAL_BUSINESS_ACTIVITY_CODE  \\\n",
       "0            16692588120                             74999   \n",
       "1            48898462000                             27109   \n",
       "2             4579857740                             45204   \n",
       "3            28762779400                             40102   \n",
       "4            23922825890                             27109   \n",
       "\n",
       "                           REGISTERED_OFFICE_ADDRESS  \\\n",
       "0  APIIC INDUSTRIAL PARK, RACHAPALLI(VILLAGE)MAKA...   \n",
       "1  ADMINISTRATIVE BUILDINGVISAKHAPATNAMANDHRA PRA...   \n",
       "2  8-2-293/82/A/431/A,ROAD NO.22, JUBILEE HILLS, ...   \n",
       "3  6-3-1090, 5th Floor, A Block, TSR Towers,Rajbh...   \n",
       "4  VILLAGE JAMBULAPADU,TADIPATRI MANDAL,  ANANTHP...   \n",
       "\n",
       "                          EMAIL_ID LATEST ANNUAL REPORT FILING FY END DATE  \\\n",
       "0                 csrajk@gmail.com                              2015-03-31   \n",
       "1            csrinl@vizagsteel.com                              2015-03-31   \n",
       "2              comp.sect@ksk.co.in                              2015-03-31   \n",
       "3            cs.india@sembcorp.com                              2015-03-31   \n",
       "4  satyanarayan.mohanty@gerdau.com                              2015-03-31   \n",
       "\n",
       "  LATEST BALANCE SHEET FILING FY END DATE  \n",
       "0                              2015-03-31  \n",
       "1                              2015-03-31  \n",
       "2                              2015-03-31  \n",
       "3                              2015-03-31  \n",
       "4                              2015-03-31  "
      ]
     },
     "execution_count": 3,
     "metadata": {},
     "output_type": "execute_result"
    }
   ],
   "source": [
    "path = ('Andaman_Nicobar_Islands_2016.xlsx')\n",
    "Andaman_Nicobar_Islands_2016 = pd.ExcelFile(path)\n",
    "print(Andaman_Nicobar_Islands_2016.sheet_names)\n",
    "# Combine both sheets\n",
    "Andaman_Nicobar_Islands_2016_1 = Andaman_Nicobar_Islands_2016.parse('Sheet1')\n",
    "Andaman_Nicobar_Islands_2016_2 = Andaman_Nicobar_Islands_2016.parse('Sheet2')\n",
    "Andaman_Nicobar_Islands_2016_merged = Andaman_Nicobar_Islands_2016_1.append(Andaman_Nicobar_Islands_2016_2)\n",
    "# Reset index\n",
    "Andaman_Nicobar_Islands_2016_merged = Andaman_Nicobar_Islands_2016_merged.reset_index(drop=True)\n",
    "Andaman_Nicobar_Islands_2016_merged.head()"
   ]
  },
  {
   "cell_type": "markdown",
   "metadata": {},
   "source": [
    "**What's in this dataset?** <a class=\"anchor\" id=\"2\"></a>"
   ]
  },
  {
   "cell_type": "code",
   "execution_count": 5,
   "metadata": {},
   "outputs": [
    {
     "name": "stdout",
     "output_type": "stream",
     "text": [
      "Shape: (24979, 15)\n",
      "Rows: 24979\n",
      "Columns: 15\n"
     ]
    }
   ],
   "source": [
    "print(\"Shape:\", Andaman_Nicobar_Islands_2016_merged.shape)\n",
    "print(\"Rows:\", Andaman_Nicobar_Islands_2016_merged.shape[0])\n",
    "print(\"Columns:\", Andaman_Nicobar_Islands_2016_merged.shape[1])"
   ]
  },
  {
   "cell_type": "markdown",
   "metadata": {},
   "source": [
    "**Codebook** <a class=\"anchor\" id=\"3\"></a>"
   ]
  },
  {
   "cell_type": "code",
   "execution_count": 6,
   "metadata": {},
   "outputs": [
    {
     "data": {
      "text/html": [
       "<style  type=\"text/css\" >\n",
       "#T_7eef8_row0_col1,#T_7eef8_row1_col1,#T_7eef8_row2_col1,#T_7eef8_row3_col1,#T_7eef8_row4_col1,#T_7eef8_row5_col1,#T_7eef8_row6_col1,#T_7eef8_row7_col1,#T_7eef8_row8_col1,#T_7eef8_row9_col1,#T_7eef8_row10_col1,#T_7eef8_row11_col1,#T_7eef8_row12_col1,#T_7eef8_row13_col1,#T_7eef8_row14_col1{\n",
       "            width:  600px;\n",
       "        }</style><table id=\"T_7eef8_\" ><thead>    <tr>        <th class=\"blank level0\" ></th>        <th class=\"col_heading level0 col0\" >Column Name</th>        <th class=\"col_heading level0 col1\" >Description</th>        <th class=\"col_heading level0 col2\" >Type</th>    </tr></thead><tbody>\n",
       "                <tr>\n",
       "                        <th id=\"T_7eef8_level0_row0\" class=\"row_heading level0 row0\" >0</th>\n",
       "                        <td id=\"T_7eef8_row0_col0\" class=\"data row0 col0\" >CIN</td>\n",
       "                        <td id=\"T_7eef8_row0_col1\" class=\"data row0 col1\" >Corporate Identification Number in India (CIN) is a 21 digit alpha-numeric code issued to companies incorporated within India on being registered with Registrar of Companies (RCA).</td>\n",
       "                        <td id=\"T_7eef8_row0_col2\" class=\"data row0 col2\" >object</td>\n",
       "            </tr>\n",
       "            <tr>\n",
       "                        <th id=\"T_7eef8_level0_row1\" class=\"row_heading level0 row1\" >1</th>\n",
       "                        <td id=\"T_7eef8_row1_col0\" class=\"data row1 col0\" >COMPANY_NAME</td>\n",
       "                        <td id=\"T_7eef8_row1_col1\" class=\"data row1 col1\" >Name of Company.</td>\n",
       "                        <td id=\"T_7eef8_row1_col2\" class=\"data row1 col2\" >object</td>\n",
       "            </tr>\n",
       "            <tr>\n",
       "                        <th id=\"T_7eef8_level0_row2\" class=\"row_heading level0 row2\" >2</th>\n",
       "                        <td id=\"T_7eef8_row2_col0\" class=\"data row2 col0\" >COMPANY_CLASS</td>\n",
       "                        <td id=\"T_7eef8_row2_col1\" class=\"data row2 col1\" >Class of Company: Private or Public.</td>\n",
       "                        <td id=\"T_7eef8_row2_col2\" class=\"data row2 col2\" >object</td>\n",
       "            </tr>\n",
       "            <tr>\n",
       "                        <th id=\"T_7eef8_level0_row3\" class=\"row_heading level0 row3\" >3</th>\n",
       "                        <td id=\"T_7eef8_row3_col0\" class=\"data row3 col0\" >COMPANY_CATEGORY</td>\n",
       "                        <td id=\"T_7eef8_row3_col1\" class=\"data row3 col1\" >Category of Company: Limited by Shares, Limited by Guarantee, Unlimited Company.</td>\n",
       "                        <td id=\"T_7eef8_row3_col2\" class=\"data row3 col2\" >object</td>\n",
       "            </tr>\n",
       "            <tr>\n",
       "                        <th id=\"T_7eef8_level0_row4\" class=\"row_heading level0 row4\" >4</th>\n",
       "                        <td id=\"T_7eef8_row4_col0\" class=\"data row4 col0\" >COMPANY_SUBCAT</td>\n",
       "                        <td id=\"T_7eef8_row4_col1\" class=\"data row4 col1\" >Subcategory of Company: Non-govt, Union Gtvt, State Govt, Subsidiary of Foreign Company, Guarantee and Association Company.</td>\n",
       "                        <td id=\"T_7eef8_row4_col2\" class=\"data row4 col2\" >object</td>\n",
       "            </tr>\n",
       "            <tr>\n",
       "                        <th id=\"T_7eef8_level0_row5\" class=\"row_heading level0 row5\" >5</th>\n",
       "                        <td id=\"T_7eef8_row5_col0\" class=\"data row5 col0\" >COMPANY_STATUS</td>\n",
       "                        <td id=\"T_7eef8_row5_col1\" class=\"data row5 col1\" >Status of Company.</td>\n",
       "                        <td id=\"T_7eef8_row5_col2\" class=\"data row5 col2\" >object</td>\n",
       "            </tr>\n",
       "            <tr>\n",
       "                        <th id=\"T_7eef8_level0_row6\" class=\"row_heading level0 row6\" >6</th>\n",
       "                        <td id=\"T_7eef8_row6_col0\" class=\"data row6 col0\" >DATE_OF_REGISTRATION</td>\n",
       "                        <td id=\"T_7eef8_row6_col1\" class=\"data row6 col1\" >Timestamp of date of registration: YYYY-MM-DD HH:MM:SS.</td>\n",
       "                        <td id=\"T_7eef8_row6_col2\" class=\"data row6 col2\" >object</td>\n",
       "            </tr>\n",
       "            <tr>\n",
       "                        <th id=\"T_7eef8_level0_row7\" class=\"row_heading level0 row7\" >7</th>\n",
       "                        <td id=\"T_7eef8_row7_col0\" class=\"data row7 col0\" >REGISTERED_STATE</td>\n",
       "                        <td id=\"T_7eef8_row7_col1\" class=\"data row7 col1\" >State of registration.</td>\n",
       "                        <td id=\"T_7eef8_row7_col2\" class=\"data row7 col2\" >object</td>\n",
       "            </tr>\n",
       "            <tr>\n",
       "                        <th id=\"T_7eef8_level0_row8\" class=\"row_heading level0 row8\" >8</th>\n",
       "                        <td id=\"T_7eef8_row8_col0\" class=\"data row8 col0\" >Authorized Capital  (Rs.)</td>\n",
       "                        <td id=\"T_7eef8_row8_col1\" class=\"data row8 col1\" >Authorized capital in rupees (Rs.).</td>\n",
       "                        <td id=\"T_7eef8_row8_col2\" class=\"data row8 col2\" >int64</td>\n",
       "            </tr>\n",
       "            <tr>\n",
       "                        <th id=\"T_7eef8_level0_row9\" class=\"row_heading level0 row9\" >9</th>\n",
       "                        <td id=\"T_7eef8_row9_col0\" class=\"data row9 col0\" > PAIDUP_CAPITAL (RS.)</td>\n",
       "                        <td id=\"T_7eef8_row9_col1\" class=\"data row9 col1\" >Paid up capital in rupees (Rs.).</td>\n",
       "                        <td id=\"T_7eef8_row9_col2\" class=\"data row9 col2\" >int64</td>\n",
       "            </tr>\n",
       "            <tr>\n",
       "                        <th id=\"T_7eef8_level0_row10\" class=\"row_heading level0 row10\" >10</th>\n",
       "                        <td id=\"T_7eef8_row10_col0\" class=\"data row10 col0\" >PRINCIPAL_BUSINESS_ACTIVITY_CODE</td>\n",
       "                        <td id=\"T_7eef8_row10_col1\" class=\"data row10 col1\" >Principal Business code that classifies the main type of product/service sold.</td>\n",
       "                        <td id=\"T_7eef8_row10_col2\" class=\"data row10 col2\" >int64</td>\n",
       "            </tr>\n",
       "            <tr>\n",
       "                        <th id=\"T_7eef8_level0_row11\" class=\"row_heading level0 row11\" >11</th>\n",
       "                        <td id=\"T_7eef8_row11_col0\" class=\"data row11 col0\" >REGISTERED_OFFICE_ADDRESS</td>\n",
       "                        <td id=\"T_7eef8_row11_col1\" class=\"data row11 col1\" >Address of registered office.</td>\n",
       "                        <td id=\"T_7eef8_row11_col2\" class=\"data row11 col2\" >object</td>\n",
       "            </tr>\n",
       "            <tr>\n",
       "                        <th id=\"T_7eef8_level0_row12\" class=\"row_heading level0 row12\" >12</th>\n",
       "                        <td id=\"T_7eef8_row12_col0\" class=\"data row12 col0\" >EMAIL_ID</td>\n",
       "                        <td id=\"T_7eef8_row12_col1\" class=\"data row12 col1\" >Company email.</td>\n",
       "                        <td id=\"T_7eef8_row12_col2\" class=\"data row12 col2\" >object</td>\n",
       "            </tr>\n",
       "            <tr>\n",
       "                        <th id=\"T_7eef8_level0_row13\" class=\"row_heading level0 row13\" >13</th>\n",
       "                        <td id=\"T_7eef8_row13_col0\" class=\"data row13 col0\" >LATEST ANNUAL REPORT FILING FY END DATE</td>\n",
       "                        <td id=\"T_7eef8_row13_col1\" class=\"data row13 col1\" >Latest annual report filing fiscal year end date: YYYY-MM-DD.</td>\n",
       "                        <td id=\"T_7eef8_row13_col2\" class=\"data row13 col2\" >object</td>\n",
       "            </tr>\n",
       "            <tr>\n",
       "                        <th id=\"T_7eef8_level0_row14\" class=\"row_heading level0 row14\" >14</th>\n",
       "                        <td id=\"T_7eef8_row14_col0\" class=\"data row14 col0\" >LATEST BALANCE SHEET FILING FY END DATE</td>\n",
       "                        <td id=\"T_7eef8_row14_col1\" class=\"data row14 col1\" >Latest balance sheet filing fiscal year end date: YYYY-MM-DD.</td>\n",
       "                        <td id=\"T_7eef8_row14_col2\" class=\"data row14 col2\" >object</td>\n",
       "            </tr>\n",
       "    </tbody></table>"
      ],
      "text/plain": [
       "<pandas.io.formats.style.Styler at 0x7fe9a2b4de20>"
      ]
     },
     "execution_count": 6,
     "metadata": {},
     "output_type": "execute_result"
    }
   ],
   "source": [
    "Andaman_Nicobar_Islands_2016_columns = [column for column in Andaman_Nicobar_Islands_2016_merged.columns]\n",
    "Andaman_Nicobar_Islands_2016_description = [\"Corporate Identification Number in India (CIN) is a 21 digit alpha-numeric code issued to companies incorporated within India on being registered with Registrar of Companies (RCA).\",\n",
    "                                           \"Name of Company.\",\n",
    "                                           \"Class of Company: Private or Public.\",\n",
    "                                           \"Category of Company: Limited by Shares, Limited by Guarantee, Unlimited Company.\",\n",
    "                                           \"Subcategory of Company: Non-govt, Union Gtvt, State Govt, Subsidiary of Foreign Company, Guarantee and Association Company.\",\n",
    "                                           \"Status of Company.\",\n",
    "                                           \"Timestamp of date of registration: YYYY-MM-DD HH:MM:SS.\",\n",
    "                                           \"State of registration.\",\n",
    "                                           \"Authorized capital in rupees (Rs.).\",\n",
    "                                           \"Paid up capital in rupees (Rs.).\",\n",
    "                                           \"Principal Business code that classifies the main type of product/service sold.\",\n",
    "                                           \"Address of registered office.\",\n",
    "                                           \"Company email.\",\n",
    "                                           \"Latest annual report filing fiscal year end date: YYYY-MM-DD.\",\n",
    "                                           \"Latest balance sheet filing fiscal year end date: YYYY-MM-DD.\"]\n",
    "Andaman_Nicobar_Islands_2016_dtypes = [dtype for dtype in Andaman_Nicobar_Islands_2016_merged.dtypes]\n",
    "\n",
    "data = {\"Column Name\": Andaman_Nicobar_Islands_2016_columns, \"Description\":Andaman_Nicobar_Islands_2016_description, \"Type\": Andaman_Nicobar_Islands_2016_dtypes}\n",
    "Andaman_Nicobar_Islands_2016_codebook = pd.DataFrame(data)\n",
    "Andaman_Nicobar_Islands_2016_codebook.style.set_properties(subset=['Description'], **{'width': '600px'})\n",
    "#Andaman_Nicobar_Islands_2016_codebook"
   ]
  },
  {
   "cell_type": "markdown",
   "metadata": {},
   "source": [
    "## Columns\n",
    "<a class=\"anchor\" id=\"4\"></a>"
   ]
  },
  {
   "cell_type": "markdown",
   "metadata": {},
   "source": [
    "### CIN\n",
    "<a class=\"anchor\" id=\"4.1\"></a>\n",
    "Corporate Identification Number in India (CIN) is a 21 digit alpha-numeric code issued to companies incorporated within India on being registered with Registrar of Companies (RCA)."
   ]
  },
  {
   "cell_type": "code",
   "execution_count": 7,
   "metadata": {},
   "outputs": [
    {
     "data": {
      "text/plain": [
       "0        U74999AP2007PLC053278\n",
       "1        U27109AP1982GOI003404\n",
       "2        L45204AP2001PLC057199\n",
       "3        U40102AP2008PLC059628\n",
       "4        U27109AP1993PTC015499\n",
       "                 ...          \n",
       "24974    U93000AN2009PTC000113\n",
       "24975    U93000AN2008PTC000106\n",
       "24976    U60231AN2010PTC000132\n",
       "24977    U51103AN2009PTC000127\n",
       "24978    U51103AN2009PTC000122\n",
       "Name: CIN, Length: 24979, dtype: object"
      ]
     },
     "execution_count": 7,
     "metadata": {},
     "output_type": "execute_result"
    }
   ],
   "source": [
    "column = Andaman_Nicobar_Islands_2016_merged[\"CIN\"]\n",
    "column"
   ]
  },
  {
   "cell_type": "code",
   "execution_count": 8,
   "metadata": {},
   "outputs": [
    {
     "name": "stdout",
     "output_type": "stream",
     "text": [
      "Rows without 21 digits: 0\n",
      "Duplicates: {}\n"
     ]
    }
   ],
   "source": [
    "# Check if all rows have 21 digits\n",
    "CIN_length = [len(CIN) for CIN in column]\n",
    "print(\"Rows without 21 digits:\", sum([length != 21 for length in CIN_length]))\n",
    "\n",
    "# Check for duplicates\n",
    "counter = dict(Counter(column))\n",
    "duplicates = { key:value for key, value in counter.items() if value > 1}\n",
    "print(\"Duplicates:\", duplicates)"
   ]
  },
  {
   "cell_type": "markdown",
   "metadata": {},
   "source": [
    "### COMPANY_NAME \n",
    "<a class=\"anchor\" id=\"4.2\"></a>\n",
    "Name of Company.  \n",
    "There is trailing and leading whitespace. Need to strip strings."
   ]
  },
  {
   "cell_type": "code",
   "execution_count": 9,
   "metadata": {},
   "outputs": [
    {
     "data": {
      "text/plain": [
       "0                          ANRAK ALUMINIUM LIMITED   \n",
       "1                        RASHTRIYA ISPAT NIGAM LTD   \n",
       "2                      KSK ENERGY VENTURES LIMITED   \n",
       "3                   SEMBCORP GAYATRI POWER LIMITED   \n",
       "4               GERDAU STEEL INDIA PRIVATE LIMITED   \n",
       "                             ...                     \n",
       "24974            ANDAMAN ESCAPADES PRIVATE LIMITED   \n",
       "24975       ANDAMAN ISLAND TRAVELS PRIVATE LIMITED   \n",
       "24976    ANDAMANS PACKERS AND MOVERS PRIVATELIMITED  \n",
       "24977       VENKATESHWARA HARDWARE PRIVATE LIMITED   \n",
       "24978        KARAN TRADING (INDIA) PRIVATE LIMITED   \n",
       "Name: COMPANY_NAME, Length: 24979, dtype: object"
      ]
     },
     "execution_count": 9,
     "metadata": {},
     "output_type": "execute_result"
    }
   ],
   "source": [
    "column = Andaman_Nicobar_Islands_2016_merged[\"COMPANY_NAME\"]\n",
    "column"
   ]
  },
  {
   "cell_type": "code",
   "execution_count": 10,
   "metadata": {},
   "outputs": [
    {
     "name": "stdout",
     "output_type": "stream",
     "text": [
      "Invalid names: 0\n",
      "Duplicates: {'DEVI SEA FOODS LIMITED   ': 2, 'GUNTUR COLD STORAGE PRIVATE LIMITED   ': 2, 'JAGANNADH SALT PRIVATE LIMITED   ': 2, 'SAIPRIYA AGRO FARMS PRIVATE LIMITED   ': 2, 'GURUDATTA PACKAGE INDUSTRIES PVT LTD   ': 2, 'MICROLINK PERIPHERAL CONTROLS PRIVATELIMITED  ': 2}\n",
      "No. of duplicates: 6\n"
     ]
    }
   ],
   "source": [
    "# Strip strings\n",
    "stripped_name = column.str.strip()\n",
    "print(\"Invalid names:\", sum(stripped_name.isnull()))\n",
    "\n",
    "# Check for duplicates\n",
    "counter = dict(Counter(column))\n",
    "duplicates = { key:value for key, value in counter.items() if value > 1}\n",
    "print(\"Duplicates:\", duplicates)\n",
    "if len(duplicates) > 0:\n",
    "    print(\"No. of duplicates:\", len(duplicates))"
   ]
  },
  {
   "cell_type": "code",
   "execution_count": 11,
   "metadata": {},
   "outputs": [
    {
     "data": {
      "text/html": [
       "<div>\n",
       "<style scoped>\n",
       "    .dataframe tbody tr th:only-of-type {\n",
       "        vertical-align: middle;\n",
       "    }\n",
       "\n",
       "    .dataframe tbody tr th {\n",
       "        vertical-align: top;\n",
       "    }\n",
       "\n",
       "    .dataframe thead th {\n",
       "        text-align: right;\n",
       "    }\n",
       "</style>\n",
       "<table border=\"1\" class=\"dataframe\">\n",
       "  <thead>\n",
       "    <tr style=\"text-align: right;\">\n",
       "      <th></th>\n",
       "      <th>CIN</th>\n",
       "      <th>COMPANY_NAME</th>\n",
       "      <th>COMPANY_CLASS</th>\n",
       "      <th>COMPANY_CATEGORY</th>\n",
       "      <th>COMPANY_SUBCAT</th>\n",
       "      <th>COMPANY_STATUS</th>\n",
       "      <th>DATE_OF_REGISTRATION</th>\n",
       "      <th>REGISTERED_STATE</th>\n",
       "      <th>Authorized Capital  (Rs.)</th>\n",
       "      <th>PAIDUP_CAPITAL (RS.)</th>\n",
       "      <th>PRINCIPAL_BUSINESS_ACTIVITY_CODE</th>\n",
       "      <th>REGISTERED_OFFICE_ADDRESS</th>\n",
       "      <th>EMAIL_ID</th>\n",
       "      <th>LATEST ANNUAL REPORT FILING FY END DATE</th>\n",
       "      <th>LATEST BALANCE SHEET FILING FY END DATE</th>\n",
       "    </tr>\n",
       "  </thead>\n",
       "  <tbody>\n",
       "    <tr>\n",
       "      <th>1402</th>\n",
       "      <td>U15122AP1992PLC094924</td>\n",
       "      <td>DEVI SEA FOODS LIMITED</td>\n",
       "      <td>Public</td>\n",
       "      <td>Company limited by Shares</td>\n",
       "      <td>Non-govt company</td>\n",
       "      <td>ACTIVE</td>\n",
       "      <td>1992-03-26 00:00:00</td>\n",
       "      <td>Andhra Pradesh</td>\n",
       "      <td>40000000</td>\n",
       "      <td>40000000</td>\n",
       "      <td>15122</td>\n",
       "      <td>50-1-51/1, A.S.R. NagarSeethammadhara  VisaKha...</td>\n",
       "      <td>mail@deviseafoods.com</td>\n",
       "      <td>2015-03-31</td>\n",
       "      <td>2015-03-31</td>\n",
       "    </tr>\n",
       "    <tr>\n",
       "      <th>1406</th>\n",
       "      <td>U15499AP1992PLC014032</td>\n",
       "      <td>DEVI SEA FOODS LIMITED</td>\n",
       "      <td>Public</td>\n",
       "      <td>Company limited by Shares</td>\n",
       "      <td>Non-govt company</td>\n",
       "      <td>INACTIVE U/S 455 OF CA,2013</td>\n",
       "      <td>1992-03-26 00:00:00</td>\n",
       "      <td>Andhra Pradesh</td>\n",
       "      <td>40000000</td>\n",
       "      <td>40000000</td>\n",
       "      <td>15499</td>\n",
       "      <td>9-14-18/1,C.B.M.COMPOUND,VISAKHAPATNAMVISAKHAP...</td>\n",
       "      <td></td>\n",
       "      <td>0</td>\n",
       "      <td>0</td>\n",
       "    </tr>\n",
       "  </tbody>\n",
       "</table>\n",
       "</div>"
      ],
      "text/plain": [
       "                        CIN               COMPANY_NAME COMPANY_CLASS  \\\n",
       "1402  U15122AP1992PLC094924  DEVI SEA FOODS LIMITED           Public   \n",
       "1406  U15499AP1992PLC014032  DEVI SEA FOODS LIMITED           Public   \n",
       "\n",
       "               COMPANY_CATEGORY    COMPANY_SUBCAT  \\\n",
       "1402  Company limited by Shares  Non-govt company   \n",
       "1406  Company limited by Shares  Non-govt company   \n",
       "\n",
       "                   COMPANY_STATUS DATE_OF_REGISTRATION REGISTERED_STATE  \\\n",
       "1402                       ACTIVE  1992-03-26 00:00:00   Andhra Pradesh   \n",
       "1406  INACTIVE U/S 455 OF CA,2013  1992-03-26 00:00:00   Andhra Pradesh   \n",
       "\n",
       "      Authorized Capital  (Rs.)   PAIDUP_CAPITAL (RS.)  \\\n",
       "1402                   40000000               40000000   \n",
       "1406                   40000000               40000000   \n",
       "\n",
       "      PRINCIPAL_BUSINESS_ACTIVITY_CODE  \\\n",
       "1402                             15122   \n",
       "1406                             15499   \n",
       "\n",
       "                              REGISTERED_OFFICE_ADDRESS  \\\n",
       "1402  50-1-51/1, A.S.R. NagarSeethammadhara  VisaKha...   \n",
       "1406  9-14-18/1,C.B.M.COMPOUND,VISAKHAPATNAMVISAKHAP...   \n",
       "\n",
       "                   EMAIL_ID LATEST ANNUAL REPORT FILING FY END DATE  \\\n",
       "1402  mail@deviseafoods.com                              2015-03-31   \n",
       "1406                                                              0   \n",
       "\n",
       "     LATEST BALANCE SHEET FILING FY END DATE  \n",
       "1402                              2015-03-31  \n",
       "1406                                       0  "
      ]
     },
     "execution_count": 11,
     "metadata": {},
     "output_type": "execute_result"
    }
   ],
   "source": [
    "Andaman_Nicobar_Islands_2016_merged[Andaman_Nicobar_Islands_2016_merged[\"COMPANY_NAME\"] == \"DEVI SEA FOODS LIMITED   \"]"
   ]
  },
  {
   "cell_type": "markdown",
   "metadata": {},
   "source": [
    "Duplicates in ```COMPANY_NAME``` does not mean the rows are duplicates."
   ]
  },
  {
   "cell_type": "markdown",
   "metadata": {},
   "source": [
    "### COMPANY_CLASS\n",
    "<a class=\"anchor\" id=\"4.3\"></a>\n",
    "Class of Company: Private or Public.  "
   ]
  },
  {
   "cell_type": "code",
   "execution_count": 12,
   "metadata": {},
   "outputs": [
    {
     "data": {
      "text/plain": [
       "0         Public\n",
       "1         Public\n",
       "2         Public\n",
       "3         Public\n",
       "4        Private\n",
       "          ...   \n",
       "24974    Private\n",
       "24975    Private\n",
       "24976    Private\n",
       "24977    Private\n",
       "24978    Private\n",
       "Name: COMPANY_CLASS, Length: 24979, dtype: object"
      ]
     },
     "execution_count": 12,
     "metadata": {},
     "output_type": "execute_result"
    }
   ],
   "source": [
    "column = Andaman_Nicobar_Islands_2016_merged[\"COMPANY_CLASS\"]\n",
    "column"
   ]
  },
  {
   "cell_type": "code",
   "execution_count": 13,
   "metadata": {},
   "outputs": [
    {
     "name": "stdout",
     "output_type": "stream",
     "text": [
      "Unique values: ['Public' 'Private' 'Private(One Person Company)' ' ']\n",
      "Empty strings: 2\n"
     ]
    },
    {
     "data": {
      "text/html": [
       "<div>\n",
       "<style scoped>\n",
       "    .dataframe tbody tr th:only-of-type {\n",
       "        vertical-align: middle;\n",
       "    }\n",
       "\n",
       "    .dataframe tbody tr th {\n",
       "        vertical-align: top;\n",
       "    }\n",
       "\n",
       "    .dataframe thead th {\n",
       "        text-align: right;\n",
       "    }\n",
       "</style>\n",
       "<table border=\"1\" class=\"dataframe\">\n",
       "  <thead>\n",
       "    <tr style=\"text-align: right;\">\n",
       "      <th></th>\n",
       "      <th>Class</th>\n",
       "      <th>Count</th>\n",
       "    </tr>\n",
       "  </thead>\n",
       "  <tbody>\n",
       "    <tr>\n",
       "      <th>0</th>\n",
       "      <td>Public</td>\n",
       "      <td>1682</td>\n",
       "    </tr>\n",
       "    <tr>\n",
       "      <th>1</th>\n",
       "      <td>Private</td>\n",
       "      <td>23047</td>\n",
       "    </tr>\n",
       "    <tr>\n",
       "      <th>2</th>\n",
       "      <td>Private(One Person Company)</td>\n",
       "      <td>248</td>\n",
       "    </tr>\n",
       "    <tr>\n",
       "      <th>3</th>\n",
       "      <td>Empty</td>\n",
       "      <td>2</td>\n",
       "    </tr>\n",
       "  </tbody>\n",
       "</table>\n",
       "</div>"
      ],
      "text/plain": [
       "                         Class  Count\n",
       "0                       Public   1682\n",
       "1                      Private  23047\n",
       "2  Private(One Person Company)    248\n",
       "3                        Empty      2"
      ]
     },
     "execution_count": 13,
     "metadata": {},
     "output_type": "execute_result"
    }
   ],
   "source": [
    "print(\"Unique values:\", column.unique())\n",
    "\n",
    "# Number of empty strings\n",
    "print(\"Empty strings:\", sum(column == \" \"))\n",
    "\n",
    "# Table of number of each class\n",
    "counter = dict(Counter(column))\n",
    "count = { key:[value] for key, value in counter.items()}\n",
    "table = pd.DataFrame.from_dict(count).rename(columns={\" \": \"Empty\"})\n",
    "table = table.melt(var_name=\"Class\", value_name=\"Count\")\n",
    "table"
   ]
  },
  {
   "cell_type": "code",
   "execution_count": 14,
   "metadata": {},
   "outputs": [
    {
     "data": {
      "image/png": "[encoded data removed]",
      "text/plain": [
       "<Figure size 432x288 with 1 Axes>"
      ]
     },
     "metadata": {
      "needs_background": "light"
     },
     "output_type": "display_data"
    }
   ],
   "source": [
    "# Plot number of each class\n",
    "plt.bar(table[\"Class\"], table[\"Count\"])\n",
    "plt.title(\"Count of Company Classes\")\n",
    "plt.xlabel(\"Class\")\n",
    "plt.xticks(rotation = 90)\n",
    "plt.show()"
   ]
  },
  {
   "cell_type": "markdown",
   "metadata": {},
   "source": [
    "### COMPANY_CATEGORY\n",
    "<a class=\"anchor\" id=\"4.4\"></a>\n",
    "Category of Company: Limited by Shares, Limited by Guarantee, Unlimited Company. "
   ]
  },
  {
   "cell_type": "code",
   "execution_count": 15,
   "metadata": {},
   "outputs": [
    {
     "data": {
      "text/plain": [
       "0        Company limited by Shares\n",
       "1        Company limited by Shares\n",
       "2        Company limited by Shares\n",
       "3        Company limited by Shares\n",
       "4        Company limited by Shares\n",
       "                   ...            \n",
       "24974    Company limited by Shares\n",
       "24975    Company limited by Shares\n",
       "24976    Company limited by Shares\n",
       "24977    Company limited by Shares\n",
       "24978    Company limited by Shares\n",
       "Name: COMPANY_CATEGORY, Length: 24979, dtype: object"
      ]
     },
     "execution_count": 15,
     "metadata": {},
     "output_type": "execute_result"
    }
   ],
   "source": [
    "column = Andaman_Nicobar_Islands_2016_merged[\"COMPANY_CATEGORY\"]\n",
    "column"
   ]
  },
  {
   "cell_type": "code",
   "execution_count": 16,
   "metadata": {},
   "outputs": [
    {
     "name": "stdout",
     "output_type": "stream",
     "text": [
      "Unique values: ['Company limited by Shares' 'Company Limited by Guarantee'\n",
      " 'Unlimited Company' ' ']\n",
      "Empty strings: 2\n"
     ]
    },
    {
     "data": {
      "text/html": [
       "<div>\n",
       "<style scoped>\n",
       "    .dataframe tbody tr th:only-of-type {\n",
       "        vertical-align: middle;\n",
       "    }\n",
       "\n",
       "    .dataframe tbody tr th {\n",
       "        vertical-align: top;\n",
       "    }\n",
       "\n",
       "    .dataframe thead th {\n",
       "        text-align: right;\n",
       "    }\n",
       "</style>\n",
       "<table border=\"1\" class=\"dataframe\">\n",
       "  <thead>\n",
       "    <tr style=\"text-align: right;\">\n",
       "      <th></th>\n",
       "      <th>Category</th>\n",
       "      <th>Count</th>\n",
       "    </tr>\n",
       "  </thead>\n",
       "  <tbody>\n",
       "    <tr>\n",
       "      <th>0</th>\n",
       "      <td>Company limited by Shares</td>\n",
       "      <td>24463</td>\n",
       "    </tr>\n",
       "    <tr>\n",
       "      <th>1</th>\n",
       "      <td>Company Limited by Guarantee</td>\n",
       "      <td>503</td>\n",
       "    </tr>\n",
       "    <tr>\n",
       "      <th>2</th>\n",
       "      <td>Unlimited Company</td>\n",
       "      <td>11</td>\n",
       "    </tr>\n",
       "    <tr>\n",
       "      <th>3</th>\n",
       "      <td>Empty</td>\n",
       "      <td>2</td>\n",
       "    </tr>\n",
       "  </tbody>\n",
       "</table>\n",
       "</div>"
      ],
      "text/plain": [
       "                       Category  Count\n",
       "0     Company limited by Shares  24463\n",
       "1  Company Limited by Guarantee    503\n",
       "2             Unlimited Company     11\n",
       "3                         Empty      2"
      ]
     },
     "execution_count": 16,
     "metadata": {},
     "output_type": "execute_result"
    }
   ],
   "source": [
    "print(\"Unique values:\", column.unique())\n",
    "\n",
    "# Number of empty strings\n",
    "print(\"Empty strings:\", sum(column == \" \"))\n",
    "\n",
    "# Table of number of each category\n",
    "counter = dict(Counter(column))\n",
    "count = { key:[value] for key, value in counter.items()}\n",
    "table = pd.DataFrame.from_dict(count).rename(columns={\" \": \"Empty\"})\n",
    "table = table.melt(var_name=\"Category\", value_name=\"Count\")\n",
    "table"
   ]
  },
  {
   "cell_type": "code",
   "execution_count": 17,
   "metadata": {},
   "outputs": [
    {
     "data": {
      "image/png": "[encoded data removed]",
      "text/plain": [
       "<Figure size 432x288 with 1 Axes>"
      ]
     },
     "metadata": {
      "needs_background": "light"
     },
     "output_type": "display_data"
    }
   ],
   "source": [
    "# Plot number of each Category\n",
    "plt.bar(table[\"Category\"], table[\"Count\"])\n",
    "plt.title(\"Count of Company Categories\")\n",
    "plt.xlabel(\"Category\")\n",
    "plt.xticks(rotation = 90)\n",
    "plt.show()"
   ]
  },
  {
   "cell_type": "markdown",
   "metadata": {},
   "source": [
    "### COMPANY_SUBCATEGORY\n",
    "<a class=\"anchor\" id=\"4.5\"></a>\n",
    "Subcategory of Company: Non-govt, Union Gtvt, State Govt, Subsidiary of Foreign Company, Guarantee and Association Company."
   ]
  },
  {
   "cell_type": "code",
   "execution_count": 18,
   "metadata": {},
   "outputs": [
    {
     "data": {
      "text/plain": [
       "0          Non-govt company\n",
       "1        Union Govt company\n",
       "2          Non-govt company\n",
       "3          Non-govt company\n",
       "4          Non-govt company\n",
       "                ...        \n",
       "24974      Non-govt company\n",
       "24975      Non-govt company\n",
       "24976      Non-govt company\n",
       "24977      Non-govt company\n",
       "24978      Non-govt company\n",
       "Name: COMPANY_SUBCAT, Length: 24979, dtype: object"
      ]
     },
     "execution_count": 18,
     "metadata": {},
     "output_type": "execute_result"
    }
   ],
   "source": [
    "column = Andaman_Nicobar_Islands_2016_merged[\"COMPANY_SUBCAT\"]\n",
    "column"
   ]
  },
  {
   "cell_type": "code",
   "execution_count": 19,
   "metadata": {},
   "outputs": [
    {
     "name": "stdout",
     "output_type": "stream",
     "text": [
      "Unique values: ['Non-govt company' 'Union Govt company' 'State Govt company'\n",
      " 'Subsidiary of Foreign Company' ' ' 'Guarantee and Association comp']\n",
      "Empty strings: 5\n"
     ]
    },
    {
     "data": {
      "text/html": [
       "<div>\n",
       "<style scoped>\n",
       "    .dataframe tbody tr th:only-of-type {\n",
       "        vertical-align: middle;\n",
       "    }\n",
       "\n",
       "    .dataframe tbody tr th {\n",
       "        vertical-align: top;\n",
       "    }\n",
       "\n",
       "    .dataframe thead th {\n",
       "        text-align: right;\n",
       "    }\n",
       "</style>\n",
       "<table border=\"1\" class=\"dataframe\">\n",
       "  <thead>\n",
       "    <tr style=\"text-align: right;\">\n",
       "      <th></th>\n",
       "      <th>Sub-category</th>\n",
       "      <th>Count</th>\n",
       "    </tr>\n",
       "  </thead>\n",
       "  <tbody>\n",
       "    <tr>\n",
       "      <th>0</th>\n",
       "      <td>Non-govt company</td>\n",
       "      <td>24863</td>\n",
       "    </tr>\n",
       "    <tr>\n",
       "      <th>1</th>\n",
       "      <td>Union Govt company</td>\n",
       "      <td>6</td>\n",
       "    </tr>\n",
       "    <tr>\n",
       "      <th>2</th>\n",
       "      <td>State Govt company</td>\n",
       "      <td>32</td>\n",
       "    </tr>\n",
       "    <tr>\n",
       "      <th>3</th>\n",
       "      <td>Subsidiary of Foreign Company</td>\n",
       "      <td>66</td>\n",
       "    </tr>\n",
       "    <tr>\n",
       "      <th>4</th>\n",
       "      <td>Empty</td>\n",
       "      <td>5</td>\n",
       "    </tr>\n",
       "    <tr>\n",
       "      <th>5</th>\n",
       "      <td>Guarantee and Association comp</td>\n",
       "      <td>7</td>\n",
       "    </tr>\n",
       "  </tbody>\n",
       "</table>\n",
       "</div>"
      ],
      "text/plain": [
       "                     Sub-category  Count\n",
       "0                Non-govt company  24863\n",
       "1              Union Govt company      6\n",
       "2              State Govt company     32\n",
       "3   Subsidiary of Foreign Company     66\n",
       "4                           Empty      5\n",
       "5  Guarantee and Association comp      7"
      ]
     },
     "execution_count": 19,
     "metadata": {},
     "output_type": "execute_result"
    }
   ],
   "source": [
    "print(\"Unique values:\", column.unique())\n",
    "\n",
    "# Number of empty strings\n",
    "print(\"Empty strings:\", sum(column == \" \"))\n",
    "\n",
    "# Table of number of each sub-category\n",
    "counter = dict(Counter(column))\n",
    "count = { key:[value] for key, value in counter.items()}\n",
    "table = pd.DataFrame.from_dict(count).rename(columns={\" \": \"Empty\"})\n",
    "table = table.melt(var_name=\"Sub-category\", value_name=\"Count\")\n",
    "table"
   ]
  },
  {
   "cell_type": "code",
   "execution_count": 20,
   "metadata": {},
   "outputs": [
    {
     "data": {
      "image/png": "[encoded data removed]",
      "text/plain": [
       "<Figure size 432x288 with 1 Axes>"
      ]
     },
     "metadata": {
      "needs_background": "light"
     },
     "output_type": "display_data"
    }
   ],
   "source": [
    "# Plot number of each sub-category\n",
    "plt.bar(table[\"Sub-category\"], table[\"Count\"])\n",
    "plt.title(\"Count of Company Sub-categories\")\n",
    "plt.xlabel(\"Sub-category\")\n",
    "plt.xticks(rotation = 90)\n",
    "plt.show()"
   ]
  },
  {
   "cell_type": "markdown",
   "metadata": {},
   "source": [
    "### COMPANY_STATUS\n",
    "<a class=\"anchor\" id=\"4.6\"></a>\n",
    "Status of Company."
   ]
  },
  {
   "cell_type": "code",
   "execution_count": 21,
   "metadata": {},
   "outputs": [
    {
     "data": {
      "text/plain": [
       "0        ACTIVE\n",
       "1        ACTIVE\n",
       "2        ACTIVE\n",
       "3        ACTIVE\n",
       "4        ACTIVE\n",
       "          ...  \n",
       "24974    ACTIVE\n",
       "24975    ACTIVE\n",
       "24976    ACTIVE\n",
       "24977    ACTIVE\n",
       "24978    ACTIVE\n",
       "Name: COMPANY_STATUS, Length: 24979, dtype: object"
      ]
     },
     "execution_count": 21,
     "metadata": {},
     "output_type": "execute_result"
    }
   ],
   "source": [
    "column = Andaman_Nicobar_Islands_2016_merged[\"COMPANY_STATUS\"]\n",
    "column"
   ]
  },
  {
   "cell_type": "code",
   "execution_count": 22,
   "metadata": {},
   "outputs": [
    {
     "name": "stdout",
     "output_type": "stream",
     "text": [
      "Unique values: ['ACTIVE' 'AMALGAMATED' 'INACTIVE U/S 455 OF CA,2013' 'STRUCK-OFF'\n",
      " 'CONVERTED TO LLP' 'CONVERTED TO LLP AND DISSOLVED' 'UNDER LIQUIDATION'\n",
      " 'DISSOLVED' 'UNDER PROCESS OF STRUCK-OFF' 'ACTIVE-IN-PROGRESS'\n",
      " 'LIQUIDATED' 'DORMANT U/S 455 OF CA,2013' 'CAPTURED'\n",
      " 'INACTIVE UNDER SECTION 455 OF CA, 2013']\n",
      "Empty strings: 0\n"
     ]
    },
    {
     "data": {
      "text/html": [
       "<div>\n",
       "<style scoped>\n",
       "    .dataframe tbody tr th:only-of-type {\n",
       "        vertical-align: middle;\n",
       "    }\n",
       "\n",
       "    .dataframe tbody tr th {\n",
       "        vertical-align: top;\n",
       "    }\n",
       "\n",
       "    .dataframe thead th {\n",
       "        text-align: right;\n",
       "    }\n",
       "</style>\n",
       "<table border=\"1\" class=\"dataframe\">\n",
       "  <thead>\n",
       "    <tr style=\"text-align: right;\">\n",
       "      <th></th>\n",
       "      <th>Status</th>\n",
       "      <th>Count</th>\n",
       "    </tr>\n",
       "  </thead>\n",
       "  <tbody>\n",
       "    <tr>\n",
       "      <th>0</th>\n",
       "      <td>ACTIVE</td>\n",
       "      <td>16876</td>\n",
       "    </tr>\n",
       "    <tr>\n",
       "      <th>1</th>\n",
       "      <td>AMALGAMATED</td>\n",
       "      <td>96</td>\n",
       "    </tr>\n",
       "    <tr>\n",
       "      <th>2</th>\n",
       "      <td>INACTIVE U/S 455 OF CA,2013</td>\n",
       "      <td>5364</td>\n",
       "    </tr>\n",
       "    <tr>\n",
       "      <th>3</th>\n",
       "      <td>STRUCK-OFF</td>\n",
       "      <td>2162</td>\n",
       "    </tr>\n",
       "    <tr>\n",
       "      <th>4</th>\n",
       "      <td>CONVERTED TO LLP</td>\n",
       "      <td>28</td>\n",
       "    </tr>\n",
       "    <tr>\n",
       "      <th>5</th>\n",
       "      <td>CONVERTED TO LLP AND DISSOLVED</td>\n",
       "      <td>12</td>\n",
       "    </tr>\n",
       "    <tr>\n",
       "      <th>6</th>\n",
       "      <td>UNDER LIQUIDATION</td>\n",
       "      <td>51</td>\n",
       "    </tr>\n",
       "    <tr>\n",
       "      <th>7</th>\n",
       "      <td>DISSOLVED</td>\n",
       "      <td>1</td>\n",
       "    </tr>\n",
       "    <tr>\n",
       "      <th>8</th>\n",
       "      <td>UNDER PROCESS OF STRUCK-OFF</td>\n",
       "      <td>326</td>\n",
       "    </tr>\n",
       "    <tr>\n",
       "      <th>9</th>\n",
       "      <td>ACTIVE-IN-PROGRESS</td>\n",
       "      <td>10</td>\n",
       "    </tr>\n",
       "    <tr>\n",
       "      <th>10</th>\n",
       "      <td>LIQUIDATED</td>\n",
       "      <td>4</td>\n",
       "    </tr>\n",
       "    <tr>\n",
       "      <th>11</th>\n",
       "      <td>DORMANT U/S 455 OF CA,2013</td>\n",
       "      <td>2</td>\n",
       "    </tr>\n",
       "    <tr>\n",
       "      <th>12</th>\n",
       "      <td>CAPTURED</td>\n",
       "      <td>1</td>\n",
       "    </tr>\n",
       "    <tr>\n",
       "      <th>13</th>\n",
       "      <td>INACTIVE UNDER SECTION 455 OF CA, 2013</td>\n",
       "      <td>46</td>\n",
       "    </tr>\n",
       "  </tbody>\n",
       "</table>\n",
       "</div>"
      ],
      "text/plain": [
       "                                    Status  Count\n",
       "0                                   ACTIVE  16876\n",
       "1                              AMALGAMATED     96\n",
       "2              INACTIVE U/S 455 OF CA,2013   5364\n",
       "3                               STRUCK-OFF   2162\n",
       "4                         CONVERTED TO LLP     28\n",
       "5           CONVERTED TO LLP AND DISSOLVED     12\n",
       "6                        UNDER LIQUIDATION     51\n",
       "7                                DISSOLVED      1\n",
       "8              UNDER PROCESS OF STRUCK-OFF    326\n",
       "9                       ACTIVE-IN-PROGRESS     10\n",
       "10                              LIQUIDATED      4\n",
       "11              DORMANT U/S 455 OF CA,2013      2\n",
       "12                                CAPTURED      1\n",
       "13  INACTIVE UNDER SECTION 455 OF CA, 2013     46"
      ]
     },
     "execution_count": 22,
     "metadata": {},
     "output_type": "execute_result"
    }
   ],
   "source": [
    "print(\"Unique values:\", column.unique())\n",
    "\n",
    "# Number of empty strings\n",
    "print(\"Empty strings:\", sum(column == \" \"))\n",
    "\n",
    "# Table of number of each status\n",
    "counter = dict(Counter(column))\n",
    "count = { key:[value] for key, value in counter.items()}\n",
    "table = pd.DataFrame.from_dict(count).rename(columns={\" \": \"Empty\"})\n",
    "table = table.melt(var_name=\"Status\", value_name=\"Count\")\n",
    "table"
   ]
  },
  {
   "cell_type": "code",
   "execution_count": 23,
   "metadata": {},
   "outputs": [
    {
     "data": {
      "image/png": "[encoded data removed]",
      "text/plain": [
       "<Figure size 432x288 with 1 Axes>"
      ]
     },
     "metadata": {
      "needs_background": "light"
     },
     "output_type": "display_data"
    }
   ],
   "source": [
    "# Plot number of each status\n",
    "plt.bar(table[\"Status\"], table[\"Count\"])\n",
    "plt.title(\"Count of Company Statuses\")\n",
    "plt.xlabel(\"Status\")\n",
    "plt.xticks(rotation = 90)\n",
    "plt.show()"
   ]
  },
  {
   "cell_type": "markdown",
   "metadata": {},
   "source": [
    "### DATE_OF_REGISTRATION\n",
    "<a class=\"anchor\" id=\"4.7\"></a>\n",
    "Timestamp of date of registration:  \n",
    "Inconsistant format with string and timestamp objects."
   ]
  },
  {
   "cell_type": "code",
   "execution_count": 24,
   "metadata": {},
   "outputs": [
    {
     "data": {
      "text/plain": [
       "0        2007-03-23 00:00:00\n",
       "1        1982-02-18 00:00:00\n",
       "2        2001-02-14 00:00:00\n",
       "3        2008-06-12 00:00:00\n",
       "4        1993-03-16 00:00:00\n",
       "                ...         \n",
       "24974             2009-05-19\n",
       "24975             2008-12-31\n",
       "24976             2010-03-03\n",
       "24977             2009-12-10\n",
       "24978             2009-09-02\n",
       "Name: DATE_OF_REGISTRATION, Length: 24979, dtype: object"
      ]
     },
     "execution_count": 24,
     "metadata": {},
     "output_type": "execute_result"
    }
   ],
   "source": [
    "column = Andaman_Nicobar_Islands_2016_merged[\"DATE_OF_REGISTRATION\"]\n",
    "column"
   ]
  },
  {
   "cell_type": "code",
   "execution_count": 25,
   "metadata": {},
   "outputs": [
    {
     "name": "stdout",
     "output_type": "stream",
     "text": [
      "Null: 53\n",
      "Min: 1888-09-12\n",
      "Max: 2016-11-08\n"
     ]
    }
   ],
   "source": [
    "# Number of null values\n",
    "print(\"Null:\", sum(column.isnull()))\n",
    "\n",
    "# Drop null values\n",
    "cleaned = column.dropna()\n",
    "# Convert all objects to str in YYYY-MM-DD format\n",
    "dates = cleaned.astype(str).apply(lambda x: x[:10])\n",
    "\n",
    "# Range\n",
    "print(\"Min:\", min(dates))\n",
    "print(\"Max:\", max(dates))"
   ]
  },
  {
   "cell_type": "code",
   "execution_count": 26,
   "metadata": {},
   "outputs": [
    {
     "data": {
      "text/html": [
       "<div>\n",
       "<style scoped>\n",
       "    .dataframe tbody tr th:only-of-type {\n",
       "        vertical-align: middle;\n",
       "    }\n",
       "\n",
       "    .dataframe tbody tr th {\n",
       "        vertical-align: top;\n",
       "    }\n",
       "\n",
       "    .dataframe thead th {\n",
       "        text-align: right;\n",
       "    }\n",
       "</style>\n",
       "<table border=\"1\" class=\"dataframe\">\n",
       "  <thead>\n",
       "    <tr style=\"text-align: right;\">\n",
       "      <th></th>\n",
       "      <th>Date</th>\n",
       "      <th>Count</th>\n",
       "    </tr>\n",
       "  </thead>\n",
       "  <tbody>\n",
       "    <tr>\n",
       "      <th>0</th>\n",
       "      <td>2007</td>\n",
       "      <td>769</td>\n",
       "    </tr>\n",
       "    <tr>\n",
       "      <th>1</th>\n",
       "      <td>1982</td>\n",
       "      <td>127</td>\n",
       "    </tr>\n",
       "    <tr>\n",
       "      <th>2</th>\n",
       "      <td>2001</td>\n",
       "      <td>342</td>\n",
       "    </tr>\n",
       "    <tr>\n",
       "      <th>3</th>\n",
       "      <td>2008</td>\n",
       "      <td>936</td>\n",
       "    </tr>\n",
       "    <tr>\n",
       "      <th>4</th>\n",
       "      <td>1993</td>\n",
       "      <td>424</td>\n",
       "    </tr>\n",
       "    <tr>\n",
       "      <th>...</th>\n",
       "      <td>...</td>\n",
       "      <td>...</td>\n",
       "    </tr>\n",
       "    <tr>\n",
       "      <th>98</th>\n",
       "      <td>1906</td>\n",
       "      <td>1</td>\n",
       "    </tr>\n",
       "    <tr>\n",
       "      <th>99</th>\n",
       "      <td>1942</td>\n",
       "      <td>2</td>\n",
       "    </tr>\n",
       "    <tr>\n",
       "      <th>100</th>\n",
       "      <td>1929</td>\n",
       "      <td>1</td>\n",
       "    </tr>\n",
       "    <tr>\n",
       "      <th>101</th>\n",
       "      <td>1922</td>\n",
       "      <td>1</td>\n",
       "    </tr>\n",
       "    <tr>\n",
       "      <th>102</th>\n",
       "      <td>1931</td>\n",
       "      <td>1</td>\n",
       "    </tr>\n",
       "  </tbody>\n",
       "</table>\n",
       "<p>103 rows × 2 columns</p>\n",
       "</div>"
      ],
      "text/plain": [
       "     Date  Count\n",
       "0    2007    769\n",
       "1    1982    127\n",
       "2    2001    342\n",
       "3    2008    936\n",
       "4    1993    424\n",
       "..    ...    ...\n",
       "98   1906      1\n",
       "99   1942      2\n",
       "100  1929      1\n",
       "101  1922      1\n",
       "102  1931      1\n",
       "\n",
       "[103 rows x 2 columns]"
      ]
     },
     "execution_count": 26,
     "metadata": {},
     "output_type": "execute_result"
    }
   ],
   "source": [
    "years = dates.apply(lambda x: int(x[:4]))\n",
    "# Table of number of each year\n",
    "counter = dict(Counter(years))\n",
    "count = { key:[value] for key, value in counter.items()}\n",
    "table = pd.DataFrame.from_dict(count)\n",
    "table = table.melt(var_name=\"Date\", value_name=\"Count\")\n",
    "table"
   ]
  },
  {
   "cell_type": "code",
   "execution_count": 27,
   "metadata": {},
   "outputs": [
    {
     "data": {
      "image/png": "[encoded data removed]",
      "text/plain": [
       "<Figure size 432x288 with 1 Axes>"
      ]
     },
     "metadata": {
      "needs_background": "light"
     },
     "output_type": "display_data"
    }
   ],
   "source": [
    "# Plot of number of each year\n",
    "plt.bar(table[\"Date\"], table[\"Count\"])\n",
    "plt.title(\"Count of year of registration\")\n",
    "plt.xlabel(\"Year\")\n",
    "plt.show()"
   ]
  },
  {
   "cell_type": "markdown",
   "metadata": {},
   "source": [
    "### REGISTERED_STATE\n",
    "<a class=\"anchor\" id=\"4.8\"></a>\n",
    "State of registration.  "
   ]
  },
  {
   "cell_type": "code",
   "execution_count": 28,
   "metadata": {},
   "outputs": [
    {
     "data": {
      "text/plain": [
       "0                     Andhra Pradesh\n",
       "1                     Andhra Pradesh\n",
       "2                     Andhra Pradesh\n",
       "3                     Andhra Pradesh\n",
       "4                     Andhra Pradesh\n",
       "                    ...             \n",
       "24974    Andaman and Nicobar Islands\n",
       "24975    Andaman and Nicobar Islands\n",
       "24976    Andaman and Nicobar Islands\n",
       "24977    Andaman and Nicobar Islands\n",
       "24978    Andaman and Nicobar Islands\n",
       "Name: REGISTERED_STATE, Length: 24979, dtype: object"
      ]
     },
     "execution_count": 28,
     "metadata": {},
     "output_type": "execute_result"
    }
   ],
   "source": [
    "column = Andaman_Nicobar_Islands_2016_merged[\"REGISTERED_STATE\"]\n",
    "column"
   ]
  },
  {
   "cell_type": "code",
   "execution_count": 29,
   "metadata": {},
   "outputs": [
    {
     "name": "stdout",
     "output_type": "stream",
     "text": [
      "Unique values: ['Andhra Pradesh' 'Andaman and Nicobar Islands']\n",
      "Empty strings: 0\n"
     ]
    },
    {
     "data": {
      "text/html": [
       "<div>\n",
       "<style scoped>\n",
       "    .dataframe tbody tr th:only-of-type {\n",
       "        vertical-align: middle;\n",
       "    }\n",
       "\n",
       "    .dataframe tbody tr th {\n",
       "        vertical-align: top;\n",
       "    }\n",
       "\n",
       "    .dataframe thead th {\n",
       "        text-align: right;\n",
       "    }\n",
       "</style>\n",
       "<table border=\"1\" class=\"dataframe\">\n",
       "  <thead>\n",
       "    <tr style=\"text-align: right;\">\n",
       "      <th></th>\n",
       "      <th>State</th>\n",
       "      <th>Count</th>\n",
       "    </tr>\n",
       "  </thead>\n",
       "  <tbody>\n",
       "    <tr>\n",
       "      <th>0</th>\n",
       "      <td>Andhra Pradesh</td>\n",
       "      <td>24661</td>\n",
       "    </tr>\n",
       "    <tr>\n",
       "      <th>1</th>\n",
       "      <td>Andaman and Nicobar Islands</td>\n",
       "      <td>318</td>\n",
       "    </tr>\n",
       "  </tbody>\n",
       "</table>\n",
       "</div>"
      ],
      "text/plain": [
       "                         State  Count\n",
       "0               Andhra Pradesh  24661\n",
       "1  Andaman and Nicobar Islands    318"
      ]
     },
     "execution_count": 29,
     "metadata": {},
     "output_type": "execute_result"
    }
   ],
   "source": [
    "print(\"Unique values:\", column.unique())\n",
    "\n",
    "# Number of empty strings\n",
    "print(\"Empty strings:\", sum(column == \" \"))\n",
    "\n",
    "# Table of number of each state\n",
    "counter = dict(Counter(column))\n",
    "count = { key:[value] for key, value in counter.items()}\n",
    "table = pd.DataFrame.from_dict(count).rename(columns={\" \": \"Empty\"})\n",
    "table = table.melt(var_name=\"State\", value_name=\"Count\")\n",
    "table"
   ]
  },
  {
   "cell_type": "code",
   "execution_count": 30,
   "metadata": {},
   "outputs": [
    {
     "data": {
      "image/png": "[encoded data removed]",
      "text/plain": [
       "<Figure size 432x288 with 1 Axes>"
      ]
     },
     "metadata": {
      "needs_background": "light"
     },
     "output_type": "display_data"
    }
   ],
   "source": [
    "# Plot of number of each state\n",
    "plt.bar(table[\"State\"], table[\"Count\"])\n",
    "plt.title(\"Count of registered state\")\n",
    "plt.xlabel(\"State\")\n",
    "plt.show()"
   ]
  },
  {
   "cell_type": "markdown",
   "metadata": {},
   "source": [
    "### Authorized Capital  (Rs.)\n",
    "<a class=\"anchor\" id=\"4.9\"></a>\n",
    "Authorized capital in rupees (Rs.). Note that there are two white spaces between Capital and (Rs.) in column title."
   ]
  },
  {
   "cell_type": "code",
   "execution_count": 31,
   "metadata": {},
   "outputs": [
    {
     "data": {
      "text/plain": [
       "0        100000000000\n",
       "1         80000000000\n",
       "2         50315000000\n",
       "3         50000000000\n",
       "4         30000000000\n",
       "             ...     \n",
       "24974          100000\n",
       "24975          100000\n",
       "24976          500000\n",
       "24977         2000000\n",
       "24978        10000000\n",
       "Name: Authorized Capital  (Rs.), Length: 24979, dtype: int64"
      ]
     },
     "execution_count": 31,
     "metadata": {},
     "output_type": "execute_result"
    }
   ],
   "source": [
    "column = Andaman_Nicobar_Islands_2016_merged[\"Authorized Capital  (Rs.)\"]\n",
    "column"
   ]
  },
  {
   "cell_type": "code",
   "execution_count": 32,
   "metadata": {},
   "outputs": [
    {
     "name": "stdout",
     "output_type": "stream",
     "text": [
      "0 Capital: 84\n",
      "Min: 0\n",
      "Max: 100000000000\n",
      "Mean: 34137413.9186917\n",
      "Mode: 100000\n",
      "Median: 500000\n"
     ]
    }
   ],
   "source": [
    "# Number of 0 values\n",
    "print(\"0 Capital:\", sum(column == 0))\n",
    "\n",
    "# Summary Statistics\n",
    "print(\"Min:\", min(column))\n",
    "print(\"Max:\", max(column))\n",
    "print(\"Mean:\", statistics.mean(column))\n",
    "print(\"Mode:\", statistics.mode(column))\n",
    "print(\"Median:\", statistics.median(column))"
   ]
  },
  {
   "cell_type": "code",
   "execution_count": 33,
   "metadata": {},
   "outputs": [
    {
     "data": {
      "image/png": "[encoded data removed]",
      "text/plain": [
       "<Figure size 432x288 with 1 Axes>"
      ]
     },
     "metadata": {
      "needs_background": "light"
     },
     "output_type": "display_data"
    }
   ],
   "source": [
    "column.plot.box()\n",
    "plt.title(\"Box plot of Authorized capital (Rs.)\")\n",
    "plt.show()"
   ]
  },
  {
   "cell_type": "code",
   "execution_count": 34,
   "metadata": {},
   "outputs": [
    {
     "data": {
      "image/png": "[encoded data removed]",
      "text/plain": [
       "<Figure size 432x288 with 1 Axes>"
      ]
     },
     "metadata": {
      "needs_background": "light"
     },
     "output_type": "display_data"
    }
   ],
   "source": [
    "logged = column.apply(lambda x: np.log(x))\n",
    "logged.plot.box()\n",
    "plt.title(\"Box plot of Log of Authorized capital (Rs.)\")\n",
    "plt.show()"
   ]
  },
  {
   "cell_type": "markdown",
   "metadata": {},
   "source": [
    "### PAIDUP_CAPITAL (Rs.)\n",
    "<a class=\"anchor\" id=\"4.10\"></a>\n",
    "Paid up capital in rupees (Rs.). Note: leading whitespace in column title."
   ]
  },
  {
   "cell_type": "code",
   "execution_count": 35,
   "metadata": {},
   "outputs": [
    {
     "data": {
      "text/plain": [
       "0        16692588120\n",
       "1        48898462000\n",
       "2         4579857740\n",
       "3        28762779400\n",
       "4        23922825890\n",
       "            ...     \n",
       "24974         100000\n",
       "24975         100000\n",
       "24976         500000\n",
       "24977        1692800\n",
       "24978        5165000\n",
       "Name:  PAIDUP_CAPITAL (RS.), Length: 24979, dtype: int64"
      ]
     },
     "execution_count": 35,
     "metadata": {},
     "output_type": "execute_result"
    }
   ],
   "source": [
    "column = Andaman_Nicobar_Islands_2016_merged[\" PAIDUP_CAPITAL (RS.)\"]\n",
    "column"
   ]
  },
  {
   "cell_type": "code",
   "execution_count": 36,
   "metadata": {},
   "outputs": [
    {
     "name": "stdout",
     "output_type": "stream",
     "text": [
      "0 Capital: 3858\n",
      "Min: 0\n",
      "Max: 48898462000\n",
      "Mean: 18361634.0539253\n",
      "Mode: 100000\n",
      "Median: 100000\n"
     ]
    }
   ],
   "source": [
    "# Number of 0 values\n",
    "print(\"0 Capital:\", sum(column == 0))\n",
    "\n",
    "# Summary Statistics\n",
    "print(\"Min:\", min(column))\n",
    "print(\"Max:\", max(column))\n",
    "print(\"Mean:\", statistics.mean(column))\n",
    "print(\"Mode:\", statistics.mode(column))\n",
    "print(\"Median:\", statistics.median(column))"
   ]
  },
  {
   "cell_type": "code",
   "execution_count": 37,
   "metadata": {},
   "outputs": [
    {
     "data": {
      "image/png": "[encoded data removed]",
      "text/plain": [
       "<Figure size 432x288 with 1 Axes>"
      ]
     },
     "metadata": {
      "needs_background": "light"
     },
     "output_type": "display_data"
    }
   ],
   "source": [
    "column.plot.box()\n",
    "plt.title(\"Box plot of Paid up capital (Rs.)\")\n",
    "plt.show()"
   ]
  },
  {
   "cell_type": "code",
   "execution_count": 38,
   "metadata": {},
   "outputs": [
    {
     "data": {
      "image/png": "[encoded data removed]",
      "text/plain": [
       "<Figure size 432x288 with 1 Axes>"
      ]
     },
     "metadata": {
      "needs_background": "light"
     },
     "output_type": "display_data"
    }
   ],
   "source": [
    "logged = column.apply(lambda x: np.log(x))\n",
    "logged.plot.box()\n",
    "plt.title(\"Box plot of Log of Paid up capital (Rs.)\")\n",
    "plt.show()"
   ]
  },
  {
   "cell_type": "markdown",
   "metadata": {},
   "source": [
    "### PRINCIPAL_BUSINESS_ACTIVITY_CODE\n",
    "<a class=\"anchor\" id=\"4.11\"></a>\n",
    "Principal Business code that classifies the main type of product/service sold."
   ]
  },
  {
   "cell_type": "code",
   "execution_count": 39,
   "metadata": {},
   "outputs": [
    {
     "data": {
      "text/plain": [
       "0        74999\n",
       "1        27109\n",
       "2        45204\n",
       "3        40102\n",
       "4        27109\n",
       "         ...  \n",
       "24974    93000\n",
       "24975    93000\n",
       "24976    60231\n",
       "24977    51103\n",
       "24978    51103\n",
       "Name: PRINCIPAL_BUSINESS_ACTIVITY_CODE, Length: 24979, dtype: int64"
      ]
     },
     "execution_count": 39,
     "metadata": {},
     "output_type": "execute_result"
    }
   ],
   "source": [
    "column = Andaman_Nicobar_Islands_2016_merged[\"PRINCIPAL_BUSINESS_ACTIVITY_CODE\"]\n",
    "column"
   ]
  },
  {
   "cell_type": "code",
   "execution_count": 40,
   "metadata": {},
   "outputs": [
    {
     "name": "stdout",
     "output_type": "stream",
     "text": [
      "Min: 1\n",
      "Max: 99999\n"
     ]
    },
    {
     "data": {
      "text/html": [
       "<div>\n",
       "<style scoped>\n",
       "    .dataframe tbody tr th:only-of-type {\n",
       "        vertical-align: middle;\n",
       "    }\n",
       "\n",
       "    .dataframe tbody tr th {\n",
       "        vertical-align: top;\n",
       "    }\n",
       "\n",
       "    .dataframe thead th {\n",
       "        text-align: right;\n",
       "    }\n",
       "</style>\n",
       "<table border=\"1\" class=\"dataframe\">\n",
       "  <thead>\n",
       "    <tr style=\"text-align: right;\">\n",
       "      <th></th>\n",
       "      <th>Principal Business Activity Code</th>\n",
       "      <th>Count</th>\n",
       "    </tr>\n",
       "  </thead>\n",
       "  <tbody>\n",
       "    <tr>\n",
       "      <th>0</th>\n",
       "      <td>72200</td>\n",
       "      <td>1932</td>\n",
       "    </tr>\n",
       "    <tr>\n",
       "      <th>1</th>\n",
       "      <td>65992</td>\n",
       "      <td>1175</td>\n",
       "    </tr>\n",
       "    <tr>\n",
       "      <th>2</th>\n",
       "      <td>74900</td>\n",
       "      <td>994</td>\n",
       "    </tr>\n",
       "    <tr>\n",
       "      <th>3</th>\n",
       "      <td>74999</td>\n",
       "      <td>938</td>\n",
       "    </tr>\n",
       "    <tr>\n",
       "      <th>4</th>\n",
       "      <td>45200</td>\n",
       "      <td>924</td>\n",
       "    </tr>\n",
       "    <tr>\n",
       "      <th>...</th>\n",
       "      <td>...</td>\n",
       "      <td>...</td>\n",
       "    </tr>\n",
       "    <tr>\n",
       "      <th>992</th>\n",
       "      <td>55208</td>\n",
       "      <td>1</td>\n",
       "    </tr>\n",
       "    <tr>\n",
       "      <th>993</th>\n",
       "      <td>26959</td>\n",
       "      <td>1</td>\n",
       "    </tr>\n",
       "    <tr>\n",
       "      <th>994</th>\n",
       "      <td>32500</td>\n",
       "      <td>1</td>\n",
       "    </tr>\n",
       "    <tr>\n",
       "      <th>995</th>\n",
       "      <td>1711</td>\n",
       "      <td>1</td>\n",
       "    </tr>\n",
       "    <tr>\n",
       "      <th>996</th>\n",
       "      <td>51506</td>\n",
       "      <td>1</td>\n",
       "    </tr>\n",
       "  </tbody>\n",
       "</table>\n",
       "<p>997 rows × 2 columns</p>\n",
       "</div>"
      ],
      "text/plain": [
       "     Principal Business Activity Code  Count\n",
       "0                               72200   1932\n",
       "1                               65992   1175\n",
       "2                               74900    994\n",
       "3                               74999    938\n",
       "4                               45200    924\n",
       "..                                ...    ...\n",
       "992                             55208      1\n",
       "993                             26959      1\n",
       "994                             32500      1\n",
       "995                              1711      1\n",
       "996                             51506      1\n",
       "\n",
       "[997 rows x 2 columns]"
      ]
     },
     "execution_count": 40,
     "metadata": {},
     "output_type": "execute_result"
    }
   ],
   "source": [
    "print(\"Min:\", min(column))\n",
    "print(\"Max:\", max(column))\n",
    "\n",
    "# Table of number of each Principal Business Activity Code\n",
    "counter = dict(Counter(column))\n",
    "count = { key:[value] for key, value in counter.items()}\n",
    "table = pd.DataFrame.from_dict(count).rename(columns={\" \": \"Empty\"})\n",
    "table = table.melt(var_name=\"Principal Business Activity Code\", value_name=\"Count\").sort_values(by=[\"Count\"], ascending=False).reset_index(drop=True)\n",
    "table"
   ]
  },
  {
   "cell_type": "markdown",
   "metadata": {},
   "source": [
    "### REGISTERED_OFFICE_ADDRESS\n",
    "<a class=\"anchor\" id=\"4.12\"></a>\n",
    "Address of registered office.  \n",
    "There are 529 duplicates."
   ]
  },
  {
   "cell_type": "code",
   "execution_count": 41,
   "metadata": {},
   "outputs": [
    {
     "data": {
      "text/plain": [
       "0        APIIC INDUSTRIAL PARK, RACHAPALLI(VILLAGE)MAKA...\n",
       "1        ADMINISTRATIVE BUILDINGVISAKHAPATNAMANDHRA PRA...\n",
       "2        8-2-293/82/A/431/A,ROAD NO.22, JUBILEE HILLS, ...\n",
       "3        6-3-1090, 5th Floor, A Block, TSR Towers,Rajbh...\n",
       "4        VILLAGE JAMBULAPADU,TADIPATRI MANDAL,  ANANTHP...\n",
       "                               ...                        \n",
       "24974            173/1,11-1WARD NO.11  PORT BLAIR IN744101\n",
       "24975    14/4 SHOP NO.3J N ROAD ,GOAL GHAR  PORT BLAIR ...\n",
       "24976          WARD NO.10-1JUNGLIGHAT  PORT BLAIR IN744103\n",
       "24977    NO. 33 SISTY NAGARABERDEEN VILLAGE  PORT BLAIR...\n",
       "24978          232 M.G ROADLAMBA LINE  PORT BLAIR IN744101\n",
       "Name: REGISTERED_OFFICE_ADDRESS, Length: 24979, dtype: object"
      ]
     },
     "execution_count": 41,
     "metadata": {},
     "output_type": "execute_result"
    }
   ],
   "source": [
    "column = Andaman_Nicobar_Islands_2016_merged[\"REGISTERED_OFFICE_ADDRESS\"]\n",
    "column"
   ]
  },
  {
   "cell_type": "code",
   "execution_count": 42,
   "metadata": {},
   "outputs": [
    {
     "name": "stdout",
     "output_type": "stream",
     "text": [
      "Empty strings: 0\n"
     ]
    }
   ],
   "source": [
    "# Number of empty strings\n",
    "print(\"Empty strings:\", sum(column == \" \"))"
   ]
  },
  {
   "cell_type": "code",
   "execution_count": 47,
   "metadata": {},
   "outputs": [
    {
     "name": "stdout",
     "output_type": "stream",
     "text": [
      "No. of Duplicates: 529\n"
     ]
    },
    {
     "data": {
      "text/html": [
       "<div>\n",
       "<style scoped>\n",
       "    .dataframe tbody tr th:only-of-type {\n",
       "        vertical-align: middle;\n",
       "    }\n",
       "\n",
       "    .dataframe tbody tr th {\n",
       "        vertical-align: top;\n",
       "    }\n",
       "\n",
       "    .dataframe thead th {\n",
       "        text-align: right;\n",
       "    }\n",
       "</style>\n",
       "<table border=\"1\" class=\"dataframe\">\n",
       "  <thead>\n",
       "    <tr style=\"text-align: right;\">\n",
       "      <th></th>\n",
       "      <th>CIN</th>\n",
       "      <th>COMPANY_NAME</th>\n",
       "      <th>COMPANY_CLASS</th>\n",
       "      <th>COMPANY_CATEGORY</th>\n",
       "      <th>COMPANY_SUBCAT</th>\n",
       "      <th>COMPANY_STATUS</th>\n",
       "      <th>DATE_OF_REGISTRATION</th>\n",
       "      <th>REGISTERED_STATE</th>\n",
       "      <th>Authorized Capital  (Rs.)</th>\n",
       "      <th>PAIDUP_CAPITAL (RS.)</th>\n",
       "      <th>PRINCIPAL_BUSINESS_ACTIVITY_CODE</th>\n",
       "      <th>REGISTERED_OFFICE_ADDRESS</th>\n",
       "      <th>EMAIL_ID</th>\n",
       "      <th>LATEST ANNUAL REPORT FILING FY END DATE</th>\n",
       "      <th>LATEST BALANCE SHEET FILING FY END DATE</th>\n",
       "    </tr>\n",
       "  </thead>\n",
       "  <tbody>\n",
       "    <tr>\n",
       "      <th>41</th>\n",
       "      <td>U18101AP2006FTC048790</td>\n",
       "      <td>BRANDIX INDIA APPAREL CITY PRIVATELIMITED</td>\n",
       "      <td>Private</td>\n",
       "      <td>Company limited by Shares</td>\n",
       "      <td>Non-govt company</td>\n",
       "      <td>ACTIVE</td>\n",
       "      <td>2006-01-17 00:00:00</td>\n",
       "      <td>Andhra Pradesh</td>\n",
       "      <td>2226000000</td>\n",
       "      <td>2223200510</td>\n",
       "      <td>18101</td>\n",
       "      <td>APSEZ, PUDIMADAKA ROADATCHUTHAPURAM MANDAL  VI...</td>\n",
       "      <td>VinuS@brandix.com</td>\n",
       "      <td>2015-03-31</td>\n",
       "      <td>2016-03-31</td>\n",
       "    </tr>\n",
       "    <tr>\n",
       "      <th>15163</th>\n",
       "      <td>U74999AP2008PTC058529</td>\n",
       "      <td>SCREENLINE EMBELLISHERS (INDIA) PRIVATELIMITED</td>\n",
       "      <td>Private</td>\n",
       "      <td>Company limited by Shares</td>\n",
       "      <td>Non-govt company</td>\n",
       "      <td>ACTIVE</td>\n",
       "      <td>2008-04-03 00:00:00</td>\n",
       "      <td>Andhra Pradesh</td>\n",
       "      <td>500000</td>\n",
       "      <td>100000</td>\n",
       "      <td>74999</td>\n",
       "      <td>APSEZ, PUDIMADAKA ROADATCHUTHAPURAM MANDAL  VI...</td>\n",
       "      <td>nish@screenlineholdings.com</td>\n",
       "      <td>2015-03-31</td>\n",
       "      <td>2015-03-31</td>\n",
       "    </tr>\n",
       "  </tbody>\n",
       "</table>\n",
       "</div>"
      ],
      "text/plain": [
       "                         CIN  \\\n",
       "41     U18101AP2006FTC048790   \n",
       "15163  U74999AP2008PTC058529   \n",
       "\n",
       "                                           COMPANY_NAME COMPANY_CLASS  \\\n",
       "41          BRANDIX INDIA APPAREL CITY PRIVATELIMITED         Private   \n",
       "15163  SCREENLINE EMBELLISHERS (INDIA) PRIVATELIMITED         Private   \n",
       "\n",
       "                COMPANY_CATEGORY    COMPANY_SUBCAT COMPANY_STATUS  \\\n",
       "41     Company limited by Shares  Non-govt company         ACTIVE   \n",
       "15163  Company limited by Shares  Non-govt company         ACTIVE   \n",
       "\n",
       "      DATE_OF_REGISTRATION REGISTERED_STATE  Authorized Capital  (Rs.)  \\\n",
       "41     2006-01-17 00:00:00   Andhra Pradesh                 2226000000   \n",
       "15163  2008-04-03 00:00:00   Andhra Pradesh                     500000   \n",
       "\n",
       "        PAIDUP_CAPITAL (RS.)  PRINCIPAL_BUSINESS_ACTIVITY_CODE  \\\n",
       "41                2223200510                             18101   \n",
       "15163                 100000                             74999   \n",
       "\n",
       "                               REGISTERED_OFFICE_ADDRESS  \\\n",
       "41     APSEZ, PUDIMADAKA ROADATCHUTHAPURAM MANDAL  VI...   \n",
       "15163  APSEZ, PUDIMADAKA ROADATCHUTHAPURAM MANDAL  VI...   \n",
       "\n",
       "                          EMAIL_ID LATEST ANNUAL REPORT FILING FY END DATE  \\\n",
       "41               VinuS@brandix.com                              2015-03-31   \n",
       "15163  nish@screenlineholdings.com                              2015-03-31   \n",
       "\n",
       "      LATEST BALANCE SHEET FILING FY END DATE  \n",
       "41                                 2016-03-31  \n",
       "15163                              2015-03-31  "
      ]
     },
     "execution_count": 47,
     "metadata": {},
     "output_type": "execute_result"
    }
   ],
   "source": [
    "# Check for duplicates\n",
    "counter = dict(Counter(column))\n",
    "duplicates = { key:value for key, value in counter.items() if value > 1}\n",
    "print(\"No. of Duplicates:\", len(duplicates))\n",
    "Andaman_Nicobar_Islands_2016_merged[Andaman_Nicobar_Islands_2016_merged[\"REGISTERED_OFFICE_ADDRESS\"] == \"APSEZ, PUDIMADAKA ROADATCHUTHAPURAM MANDAL  VISAKHAPATNAM IN531011\"]"
   ]
  },
  {
   "cell_type": "markdown",
   "metadata": {},
   "source": [
    "Duplicates in ```REGISTERED_OFFICE_ADDRESS``` do not mean duplicates in companies."
   ]
  },
  {
   "cell_type": "markdown",
   "metadata": {},
   "source": [
    "### EMAIL_ID\n",
    "<a class=\"anchor\" id=\"4.13\"></a>\n",
    "Company email.  \n",
    "There 1692 duplicates"
   ]
  },
  {
   "cell_type": "code",
   "execution_count": 82,
   "metadata": {},
   "outputs": [
    {
     "data": {
      "text/plain": [
       "0                       csrajk@gmail.com\n",
       "1                  csrinl@vizagsteel.com\n",
       "2                    comp.sect@ksk.co.in\n",
       "3                  cs.india@sembcorp.com\n",
       "4        satyanarayan.mohanty@gerdau.com\n",
       "                      ...               \n",
       "24974                      ROC@VLP.CO.IN\n",
       "24975           CONTACT@ANDAMANISLAND.IN\n",
       "24976                      roc@vlp.co.in\n",
       "24977               babu.badat@gmail.com\n",
       "24978           pearlanil@rediffmail.com\n",
       "Name: EMAIL_ID, Length: 24979, dtype: object"
      ]
     },
     "execution_count": 82,
     "metadata": {},
     "output_type": "execute_result"
    }
   ],
   "source": [
    "column = Andaman_Nicobar_Islands_2016_merged[\"EMAIL_ID\"]\n",
    "column"
   ]
  },
  {
   "cell_type": "code",
   "execution_count": 88,
   "metadata": {},
   "outputs": [
    {
     "name": "stdout",
     "output_type": "stream",
     "text": [
      "Empty strings: 6922\n",
      "No. of Duplicates: 1692\n"
     ]
    },
    {
     "data": {
      "text/html": [
       "<div>\n",
       "<style scoped>\n",
       "    .dataframe tbody tr th:only-of-type {\n",
       "        vertical-align: middle;\n",
       "    }\n",
       "\n",
       "    .dataframe tbody tr th {\n",
       "        vertical-align: top;\n",
       "    }\n",
       "\n",
       "    .dataframe thead th {\n",
       "        text-align: right;\n",
       "    }\n",
       "</style>\n",
       "<table border=\"1\" class=\"dataframe\">\n",
       "  <thead>\n",
       "    <tr style=\"text-align: right;\">\n",
       "      <th></th>\n",
       "      <th>Duplicate Email ID</th>\n",
       "      <th>Count</th>\n",
       "    </tr>\n",
       "  </thead>\n",
       "  <tbody>\n",
       "    <tr>\n",
       "      <th>0</th>\n",
       "      <td>dsc_director@rediffmail.com</td>\n",
       "      <td>175</td>\n",
       "    </tr>\n",
       "    <tr>\n",
       "      <th>1</th>\n",
       "      <td>mailtocanda@gmail.com</td>\n",
       "      <td>143</td>\n",
       "    </tr>\n",
       "    <tr>\n",
       "      <th>2</th>\n",
       "      <td>ravadacs@yahoo.in</td>\n",
       "      <td>117</td>\n",
       "    </tr>\n",
       "    <tr>\n",
       "      <th>3</th>\n",
       "      <td>udanga_dsc@rediffmail.com</td>\n",
       "      <td>107</td>\n",
       "    </tr>\n",
       "    <tr>\n",
       "      <th>4</th>\n",
       "      <td>krishnaraoars@gmail.com</td>\n",
       "      <td>105</td>\n",
       "    </tr>\n",
       "    <tr>\n",
       "      <th>...</th>\n",
       "      <td>...</td>\n",
       "      <td>...</td>\n",
       "    </tr>\n",
       "    <tr>\n",
       "      <th>1687</th>\n",
       "      <td>jbelhyd@gmail.com</td>\n",
       "      <td>2</td>\n",
       "    </tr>\n",
       "    <tr>\n",
       "      <th>1688</th>\n",
       "      <td>gravikanthassociates@gmail.com</td>\n",
       "      <td>2</td>\n",
       "    </tr>\n",
       "    <tr>\n",
       "      <th>1689</th>\n",
       "      <td>srivalliandrao123@gmail.com</td>\n",
       "      <td>2</td>\n",
       "    </tr>\n",
       "    <tr>\n",
       "      <th>1690</th>\n",
       "      <td>ambica.a@rediffmail.com</td>\n",
       "      <td>2</td>\n",
       "    </tr>\n",
       "    <tr>\n",
       "      <th>1691</th>\n",
       "      <td>mallickconsultancy@gmail.com</td>\n",
       "      <td>2</td>\n",
       "    </tr>\n",
       "  </tbody>\n",
       "</table>\n",
       "<p>1692 rows × 2 columns</p>\n",
       "</div>"
      ],
      "text/plain": [
       "                  Duplicate Email ID  Count\n",
       "0        dsc_director@rediffmail.com    175\n",
       "1              mailtocanda@gmail.com    143\n",
       "2                  ravadacs@yahoo.in    117\n",
       "3          udanga_dsc@rediffmail.com    107\n",
       "4            krishnaraoars@gmail.com    105\n",
       "...                              ...    ...\n",
       "1687               jbelhyd@gmail.com      2\n",
       "1688  gravikanthassociates@gmail.com      2\n",
       "1689     srivalliandrao123@gmail.com      2\n",
       "1690         ambica.a@rediffmail.com      2\n",
       "1691    mallickconsultancy@gmail.com      2\n",
       "\n",
       "[1692 rows x 2 columns]"
      ]
     },
     "execution_count": 88,
     "metadata": {},
     "output_type": "execute_result"
    }
   ],
   "source": [
    "# Number of empty strings\n",
    "print(\"Empty strings:\", sum(column == \" \"))\n",
    "\n",
    "# Check for duplicates\n",
    "counter = dict(Counter(column))\n",
    "duplicates = { key:[value] for key, value in counter.items() if value > 1}\n",
    "# Remove empty string duplicates\n",
    "del duplicates[\" \"]\n",
    "print(\"No. of Duplicates:\", len(duplicates))\n",
    "\n",
    "table = pd.DataFrame.from_dict(duplicates)\n",
    "table = table.melt(var_name=\"Duplicate Email ID\", value_name=\"Count\").sort_values(by=[\"Count\"], ascending=False).reset_index(drop=True)\n",
    "table"
   ]
  },
  {
   "cell_type": "code",
   "execution_count": 90,
   "metadata": {},
   "outputs": [
    {
     "data": {
      "text/html": [
       "<div>\n",
       "<style scoped>\n",
       "    .dataframe tbody tr th:only-of-type {\n",
       "        vertical-align: middle;\n",
       "    }\n",
       "\n",
       "    .dataframe tbody tr th {\n",
       "        vertical-align: top;\n",
       "    }\n",
       "\n",
       "    .dataframe thead th {\n",
       "        text-align: right;\n",
       "    }\n",
       "</style>\n",
       "<table border=\"1\" class=\"dataframe\">\n",
       "  <thead>\n",
       "    <tr style=\"text-align: right;\">\n",
       "      <th></th>\n",
       "      <th>CIN</th>\n",
       "      <th>COMPANY_NAME</th>\n",
       "      <th>COMPANY_CLASS</th>\n",
       "      <th>COMPANY_CATEGORY</th>\n",
       "      <th>COMPANY_SUBCAT</th>\n",
       "      <th>COMPANY_STATUS</th>\n",
       "      <th>DATE_OF_REGISTRATION</th>\n",
       "      <th>REGISTERED_STATE</th>\n",
       "      <th>Authorized Capital  (Rs.)</th>\n",
       "      <th>PAIDUP_CAPITAL (RS.)</th>\n",
       "      <th>PRINCIPAL_BUSINESS_ACTIVITY_CODE</th>\n",
       "      <th>REGISTERED_OFFICE_ADDRESS</th>\n",
       "      <th>EMAIL_ID</th>\n",
       "      <th>LATEST ANNUAL REPORT FILING FY END DATE</th>\n",
       "      <th>LATEST BALANCE SHEET FILING FY END DATE</th>\n",
       "    </tr>\n",
       "  </thead>\n",
       "  <tbody>\n",
       "    <tr>\n",
       "      <th>698</th>\n",
       "      <td>U45200AP1998PLC030072</td>\n",
       "      <td>KAUSTUBHA INFRASTRUCTURE LIMITED</td>\n",
       "      <td>Public</td>\n",
       "      <td>Company limited by Shares</td>\n",
       "      <td>Non-govt company</td>\n",
       "      <td>ACTIVE</td>\n",
       "      <td>1998-09-03 00:00:00</td>\n",
       "      <td>Andhra Pradesh</td>\n",
       "      <td>100000000</td>\n",
       "      <td>500000</td>\n",
       "      <td>45200</td>\n",
       "      <td>MADDI LAKSHMAIAH'S BUNGALOWCHIRALA ROADCHILAKA...</td>\n",
       "      <td>dsc_director@rediffmail.com</td>\n",
       "      <td>2016-03-31</td>\n",
       "      <td>2016-03-31</td>\n",
       "    </tr>\n",
       "    <tr>\n",
       "      <th>829</th>\n",
       "      <td>U18100AP2005PTC046543</td>\n",
       "      <td>BHAVANAM SPINNING MILLS PRIVATE LIMITED</td>\n",
       "      <td>Private</td>\n",
       "      <td>Company limited by Shares</td>\n",
       "      <td>Non-govt company</td>\n",
       "      <td>ACTIVE</td>\n",
       "      <td>2005-06-15 00:00:00</td>\n",
       "      <td>Andhra Pradesh</td>\n",
       "      <td>80000000</td>\n",
       "      <td>75530000</td>\n",
       "      <td>18100</td>\n",
       "      <td>DNO. 1/1/773. HOUSE NO. 27/2/2VIDHYANGANGAR S....</td>\n",
       "      <td>dsc_director@rediffmail.com</td>\n",
       "      <td>2015-03-31</td>\n",
       "      <td>2015-03-31</td>\n",
       "    </tr>\n",
       "    <tr>\n",
       "      <th>903</th>\n",
       "      <td>U24110AP1987PTC007972</td>\n",
       "      <td>DELTA AGRO CHEMICALS PVT LTD</td>\n",
       "      <td>Private</td>\n",
       "      <td>Company limited by Shares</td>\n",
       "      <td>Non-govt company</td>\n",
       "      <td>ACTIVE</td>\n",
       "      <td>1987-11-19 00:00:00</td>\n",
       "      <td>Andhra Pradesh</td>\n",
       "      <td>70000000</td>\n",
       "      <td>12520000</td>\n",
       "      <td>24110</td>\n",
       "      <td>D.NO. 5-87-69, A.P. COTTON ASSOCIATION BUILDIN...</td>\n",
       "      <td>dsc_director@rediffmail.com</td>\n",
       "      <td>2013-03-31</td>\n",
       "      <td>0</td>\n",
       "    </tr>\n",
       "    <tr>\n",
       "      <th>1077</th>\n",
       "      <td>U16009AP2009PTC065082</td>\n",
       "      <td>TRIVIKRAM TOBACCO PRIVATE LIMITED</td>\n",
       "      <td>Private</td>\n",
       "      <td>Company limited by Shares</td>\n",
       "      <td>Non-govt company</td>\n",
       "      <td>ACTIVE</td>\n",
       "      <td>2009-09-16 00:00:00</td>\n",
       "      <td>Andhra Pradesh</td>\n",
       "      <td>52000000</td>\n",
       "      <td>40000000</td>\n",
       "      <td>16009</td>\n",
       "      <td>D. No. 1-13-13, Pragna ClassicS V N Colony  GU...</td>\n",
       "      <td>dsc_director@rediffmail.com</td>\n",
       "      <td>2014-03-31</td>\n",
       "      <td>2014-03-31</td>\n",
       "    </tr>\n",
       "    <tr>\n",
       "      <th>1107</th>\n",
       "      <td>U01403AP2009PTC064488</td>\n",
       "      <td>JAYA HO AGRI VENTURES PRIVATE LIMITED</td>\n",
       "      <td>Private</td>\n",
       "      <td>Company limited by Shares</td>\n",
       "      <td>Non-govt company</td>\n",
       "      <td>ACTIVE</td>\n",
       "      <td>2009-07-24 00:00:00</td>\n",
       "      <td>Andhra Pradesh</td>\n",
       "      <td>50000000</td>\n",
       "      <td>35200000</td>\n",
       "      <td>1403</td>\n",
       "      <td>D NO. B-73SVN COLONY  GUNTUR IN522006</td>\n",
       "      <td>dsc_director@rediffmail.com</td>\n",
       "      <td>2014-03-31</td>\n",
       "      <td>2014-03-31</td>\n",
       "    </tr>\n",
       "    <tr>\n",
       "      <th>...</th>\n",
       "      <td>...</td>\n",
       "      <td>...</td>\n",
       "      <td>...</td>\n",
       "      <td>...</td>\n",
       "      <td>...</td>\n",
       "      <td>...</td>\n",
       "      <td>...</td>\n",
       "      <td>...</td>\n",
       "      <td>...</td>\n",
       "      <td>...</td>\n",
       "      <td>...</td>\n",
       "      <td>...</td>\n",
       "      <td>...</td>\n",
       "      <td>...</td>\n",
       "      <td>...</td>\n",
       "    </tr>\n",
       "    <tr>\n",
       "      <th>22608</th>\n",
       "      <td>U72900AP2011PTC075748</td>\n",
       "      <td>VINDY TECHNOLOGIES PRIVATE LIMITED</td>\n",
       "      <td>Private</td>\n",
       "      <td>Company limited by Shares</td>\n",
       "      <td>Non-govt company</td>\n",
       "      <td>ACTIVE</td>\n",
       "      <td>2011-08-01 00:00:00</td>\n",
       "      <td>Andhra Pradesh</td>\n",
       "      <td>100000</td>\n",
       "      <td>100000</td>\n",
       "      <td>72900</td>\n",
       "      <td>D.NO. 5-44-8/1,1st FLOOR,4/9, BRODIPET  GUNTUR...</td>\n",
       "      <td>dsc_director@rediffmail.com</td>\n",
       "      <td>0</td>\n",
       "      <td>0</td>\n",
       "    </tr>\n",
       "    <tr>\n",
       "      <th>22825</th>\n",
       "      <td>U74120AP2009PTC064611</td>\n",
       "      <td>SILICON SOLAR CHAPTER PRIVATE LIMITED</td>\n",
       "      <td>Private</td>\n",
       "      <td>Company limited by Shares</td>\n",
       "      <td>Non-govt company</td>\n",
       "      <td>ACTIVE</td>\n",
       "      <td>2009-08-04 00:00:00</td>\n",
       "      <td>Andhra Pradesh</td>\n",
       "      <td>100000</td>\n",
       "      <td>100000</td>\n",
       "      <td>74120</td>\n",
       "      <td>D.NO.39-10-16, VETERINARY HOSPITAL ROADLABBIPE...</td>\n",
       "      <td>dsc_director@rediffmail.com</td>\n",
       "      <td>0</td>\n",
       "      <td>0</td>\n",
       "    </tr>\n",
       "    <tr>\n",
       "      <th>23603</th>\n",
       "      <td>U74920AP2004PTC042950</td>\n",
       "      <td>JAI GANESH SECURITY SERVICES PRIVATELIMITED</td>\n",
       "      <td>Private</td>\n",
       "      <td>Company limited by Shares</td>\n",
       "      <td>Non-govt company</td>\n",
       "      <td>ACTIVE</td>\n",
       "      <td>2004-03-26 00:00:00</td>\n",
       "      <td>Andhra Pradesh</td>\n",
       "      <td>100000</td>\n",
       "      <td>100000</td>\n",
       "      <td>74920</td>\n",
       "      <td>D.NO.1-2-53/1A, J.K.C. COLLEGE ROADJ.K.C. NAGA...</td>\n",
       "      <td>dsc_director@rediffmail.com</td>\n",
       "      <td>2016-03-31</td>\n",
       "      <td>2016-03-31</td>\n",
       "    </tr>\n",
       "    <tr>\n",
       "      <th>23696</th>\n",
       "      <td>U74999AP2008PTC058432</td>\n",
       "      <td>YOGEE HEALTH DRINKS PRIVATE LIMITED</td>\n",
       "      <td>Private</td>\n",
       "      <td>Company limited by Shares</td>\n",
       "      <td>Non-govt company</td>\n",
       "      <td>STRUCK-OFF</td>\n",
       "      <td>2008-03-29 00:00:00</td>\n",
       "      <td>Andhra Pradesh</td>\n",
       "      <td>100000</td>\n",
       "      <td>100000</td>\n",
       "      <td>74999</td>\n",
       "      <td>D.NO. 22-11-84/D, Shop No. 1, 2nd Floor,C.V.K....</td>\n",
       "      <td>dsc_director@rediffmail.com</td>\n",
       "      <td>2013-03-31</td>\n",
       "      <td>0</td>\n",
       "    </tr>\n",
       "    <tr>\n",
       "      <th>24064</th>\n",
       "      <td>U80200AP2012PTC081461</td>\n",
       "      <td>EDURON E-LEARNING PRIVATE LIMITED</td>\n",
       "      <td>Private</td>\n",
       "      <td>Company limited by Shares</td>\n",
       "      <td>Non-govt company</td>\n",
       "      <td>ACTIVE</td>\n",
       "      <td>2012-06-13 00:00:00</td>\n",
       "      <td>Andhra Pradesh</td>\n",
       "      <td>100000</td>\n",
       "      <td>100000</td>\n",
       "      <td>80200</td>\n",
       "      <td>D. NO. 5-69-70/A, Flat No.101,Sita Homes, 6/19...</td>\n",
       "      <td>dsc_director@rediffmail.com</td>\n",
       "      <td>0</td>\n",
       "      <td>0</td>\n",
       "    </tr>\n",
       "  </tbody>\n",
       "</table>\n",
       "<p>175 rows × 15 columns</p>\n",
       "</div>"
      ],
      "text/plain": [
       "                         CIN                                   COMPANY_NAME  \\\n",
       "698    U45200AP1998PLC030072            KAUSTUBHA INFRASTRUCTURE LIMITED      \n",
       "829    U18100AP2005PTC046543     BHAVANAM SPINNING MILLS PRIVATE LIMITED      \n",
       "903    U24110AP1987PTC007972                DELTA AGRO CHEMICALS PVT LTD      \n",
       "1077   U16009AP2009PTC065082           TRIVIKRAM TOBACCO PRIVATE LIMITED      \n",
       "1107   U01403AP2009PTC064488       JAYA HO AGRI VENTURES PRIVATE LIMITED      \n",
       "...                      ...                                            ...   \n",
       "22608  U72900AP2011PTC075748          VINDY TECHNOLOGIES PRIVATE LIMITED      \n",
       "22825  U74120AP2009PTC064611       SILICON SOLAR CHAPTER PRIVATE LIMITED      \n",
       "23603  U74920AP2004PTC042950  JAI GANESH SECURITY SERVICES PRIVATELIMITED     \n",
       "23696  U74999AP2008PTC058432         YOGEE HEALTH DRINKS PRIVATE LIMITED      \n",
       "24064  U80200AP2012PTC081461           EDURON E-LEARNING PRIVATE LIMITED      \n",
       "\n",
       "      COMPANY_CLASS           COMPANY_CATEGORY    COMPANY_SUBCAT  \\\n",
       "698          Public  Company limited by Shares  Non-govt company   \n",
       "829         Private  Company limited by Shares  Non-govt company   \n",
       "903         Private  Company limited by Shares  Non-govt company   \n",
       "1077        Private  Company limited by Shares  Non-govt company   \n",
       "1107        Private  Company limited by Shares  Non-govt company   \n",
       "...             ...                        ...               ...   \n",
       "22608       Private  Company limited by Shares  Non-govt company   \n",
       "22825       Private  Company limited by Shares  Non-govt company   \n",
       "23603       Private  Company limited by Shares  Non-govt company   \n",
       "23696       Private  Company limited by Shares  Non-govt company   \n",
       "24064       Private  Company limited by Shares  Non-govt company   \n",
       "\n",
       "      COMPANY_STATUS DATE_OF_REGISTRATION REGISTERED_STATE  \\\n",
       "698           ACTIVE  1998-09-03 00:00:00   Andhra Pradesh   \n",
       "829           ACTIVE  2005-06-15 00:00:00   Andhra Pradesh   \n",
       "903           ACTIVE  1987-11-19 00:00:00   Andhra Pradesh   \n",
       "1077          ACTIVE  2009-09-16 00:00:00   Andhra Pradesh   \n",
       "1107          ACTIVE  2009-07-24 00:00:00   Andhra Pradesh   \n",
       "...              ...                  ...              ...   \n",
       "22608         ACTIVE  2011-08-01 00:00:00   Andhra Pradesh   \n",
       "22825         ACTIVE  2009-08-04 00:00:00   Andhra Pradesh   \n",
       "23603         ACTIVE  2004-03-26 00:00:00   Andhra Pradesh   \n",
       "23696     STRUCK-OFF  2008-03-29 00:00:00   Andhra Pradesh   \n",
       "24064         ACTIVE  2012-06-13 00:00:00   Andhra Pradesh   \n",
       "\n",
       "       Authorized Capital  (Rs.)   PAIDUP_CAPITAL (RS.)  \\\n",
       "698                    100000000                 500000   \n",
       "829                     80000000               75530000   \n",
       "903                     70000000               12520000   \n",
       "1077                    52000000               40000000   \n",
       "1107                    50000000               35200000   \n",
       "...                          ...                    ...   \n",
       "22608                     100000                 100000   \n",
       "22825                     100000                 100000   \n",
       "23603                     100000                 100000   \n",
       "23696                     100000                 100000   \n",
       "24064                     100000                 100000   \n",
       "\n",
       "       PRINCIPAL_BUSINESS_ACTIVITY_CODE  \\\n",
       "698                               45200   \n",
       "829                               18100   \n",
       "903                               24110   \n",
       "1077                              16009   \n",
       "1107                               1403   \n",
       "...                                 ...   \n",
       "22608                             72900   \n",
       "22825                             74120   \n",
       "23603                             74920   \n",
       "23696                             74999   \n",
       "24064                             80200   \n",
       "\n",
       "                               REGISTERED_OFFICE_ADDRESS  \\\n",
       "698    MADDI LAKSHMAIAH'S BUNGALOWCHIRALA ROADCHILAKA...   \n",
       "829    DNO. 1/1/773. HOUSE NO. 27/2/2VIDHYANGANGAR S....   \n",
       "903    D.NO. 5-87-69, A.P. COTTON ASSOCIATION BUILDIN...   \n",
       "1077   D. No. 1-13-13, Pragna ClassicS V N Colony  GU...   \n",
       "1107               D NO. B-73SVN COLONY  GUNTUR IN522006   \n",
       "...                                                  ...   \n",
       "22608  D.NO. 5-44-8/1,1st FLOOR,4/9, BRODIPET  GUNTUR...   \n",
       "22825  D.NO.39-10-16, VETERINARY HOSPITAL ROADLABBIPE...   \n",
       "23603  D.NO.1-2-53/1A, J.K.C. COLLEGE ROADJ.K.C. NAGA...   \n",
       "23696  D.NO. 22-11-84/D, Shop No. 1, 2nd Floor,C.V.K....   \n",
       "24064  D. NO. 5-69-70/A, Flat No.101,Sita Homes, 6/19...   \n",
       "\n",
       "                          EMAIL_ID LATEST ANNUAL REPORT FILING FY END DATE  \\\n",
       "698    dsc_director@rediffmail.com                              2016-03-31   \n",
       "829    dsc_director@rediffmail.com                              2015-03-31   \n",
       "903    dsc_director@rediffmail.com                              2013-03-31   \n",
       "1077   dsc_director@rediffmail.com                              2014-03-31   \n",
       "1107   dsc_director@rediffmail.com                              2014-03-31   \n",
       "...                            ...                                     ...   \n",
       "22608  dsc_director@rediffmail.com                                       0   \n",
       "22825  dsc_director@rediffmail.com                                       0   \n",
       "23603  dsc_director@rediffmail.com                              2016-03-31   \n",
       "23696  dsc_director@rediffmail.com                              2013-03-31   \n",
       "24064  dsc_director@rediffmail.com                                       0   \n",
       "\n",
       "      LATEST BALANCE SHEET FILING FY END DATE  \n",
       "698                                2016-03-31  \n",
       "829                                2015-03-31  \n",
       "903                                         0  \n",
       "1077                               2014-03-31  \n",
       "1107                               2014-03-31  \n",
       "...                                       ...  \n",
       "22608                                       0  \n",
       "22825                                       0  \n",
       "23603                              2016-03-31  \n",
       "23696                                       0  \n",
       "24064                                       0  \n",
       "\n",
       "[175 rows x 15 columns]"
      ]
     },
     "execution_count": 90,
     "metadata": {},
     "output_type": "execute_result"
    }
   ],
   "source": [
    "Andaman_Nicobar_Islands_2016_merged[Andaman_Nicobar_Islands_2016_merged[\"EMAIL_ID\"] == \"dsc_director@rediffmail.com\"]"
   ]
  },
  {
   "cell_type": "markdown",
   "metadata": {},
   "source": [
    "Duplicates in ```EMAIL_ID``` do not mean duplicates in companies."
   ]
  },
  {
   "cell_type": "markdown",
   "metadata": {},
   "source": [
    "### LATEST ANNUAL REPORT FILING FY END DATE\n",
    "<a class=\"anchor\" id=\"4.14\"></a>\n",
    "Latest annual report filing fiscal year end date.  \n",
    "15577 invalid dates."
   ]
  },
  {
   "cell_type": "code",
   "execution_count": 96,
   "metadata": {},
   "outputs": [
    {
     "data": {
      "text/plain": [
       "0        2015-03-31\n",
       "1        2015-03-31\n",
       "2        2015-03-31\n",
       "3        2015-03-31\n",
       "4        2015-03-31\n",
       "            ...    \n",
       "24974    2014-03-31\n",
       "24975    2015-03-31\n",
       "24976    2016-03-31\n",
       "24977    2015-03-31\n",
       "24978    2016-03-31\n",
       "Name: LATEST ANNUAL REPORT FILING FY END DATE, Length: 24979, dtype: object"
      ]
     },
     "execution_count": 96,
     "metadata": {},
     "output_type": "execute_result"
    }
   ],
   "source": [
    "column = Andaman_Nicobar_Islands_2016_merged[\"LATEST ANNUAL REPORT FILING FY END DATE\"]\n",
    "column"
   ]
  },
  {
   "cell_type": "code",
   "execution_count": 119,
   "metadata": {},
   "outputs": [
    {
     "name": "stdout",
     "output_type": "stream",
     "text": [
      "Invalid: 15577\n",
      "Max: 2016-09-30\n",
      "Min: 2004-03-31\n"
     ]
    },
    {
     "data": {
      "text/html": [
       "<div>\n",
       "<style scoped>\n",
       "    .dataframe tbody tr th:only-of-type {\n",
       "        vertical-align: middle;\n",
       "    }\n",
       "\n",
       "    .dataframe tbody tr th {\n",
       "        vertical-align: top;\n",
       "    }\n",
       "\n",
       "    .dataframe thead th {\n",
       "        text-align: right;\n",
       "    }\n",
       "</style>\n",
       "<table border=\"1\" class=\"dataframe\">\n",
       "  <thead>\n",
       "    <tr style=\"text-align: right;\">\n",
       "      <th></th>\n",
       "      <th>Count of Latest Annual report filing FY end date</th>\n",
       "      <th>Count</th>\n",
       "    </tr>\n",
       "  </thead>\n",
       "  <tbody>\n",
       "    <tr>\n",
       "      <th>0</th>\n",
       "      <td>2015-03-31</td>\n",
       "      <td>4571</td>\n",
       "    </tr>\n",
       "    <tr>\n",
       "      <th>1</th>\n",
       "      <td>2016-03-31</td>\n",
       "      <td>1531</td>\n",
       "    </tr>\n",
       "    <tr>\n",
       "      <th>2</th>\n",
       "      <td>2014-03-31</td>\n",
       "      <td>1044</td>\n",
       "    </tr>\n",
       "    <tr>\n",
       "      <th>3</th>\n",
       "      <td>2013-03-31</td>\n",
       "      <td>931</td>\n",
       "    </tr>\n",
       "    <tr>\n",
       "      <th>4</th>\n",
       "      <td>2011-03-31</td>\n",
       "      <td>334</td>\n",
       "    </tr>\n",
       "    <tr>\n",
       "      <th>5</th>\n",
       "      <td>2010-03-31</td>\n",
       "      <td>330</td>\n",
       "    </tr>\n",
       "    <tr>\n",
       "      <th>6</th>\n",
       "      <td>2012-03-31</td>\n",
       "      <td>320</td>\n",
       "    </tr>\n",
       "    <tr>\n",
       "      <th>7</th>\n",
       "      <td>2009-03-31</td>\n",
       "      <td>160</td>\n",
       "    </tr>\n",
       "    <tr>\n",
       "      <th>8</th>\n",
       "      <td>2008-03-31</td>\n",
       "      <td>95</td>\n",
       "    </tr>\n",
       "    <tr>\n",
       "      <th>9</th>\n",
       "      <td>2013-09-30</td>\n",
       "      <td>12</td>\n",
       "    </tr>\n",
       "  </tbody>\n",
       "</table>\n",
       "</div>"
      ],
      "text/plain": [
       "  Count of Latest Annual report filing FY end date  Count\n",
       "0                                       2015-03-31   4571\n",
       "1                                       2016-03-31   1531\n",
       "2                                       2014-03-31   1044\n",
       "3                                       2013-03-31    931\n",
       "4                                       2011-03-31    334\n",
       "5                                       2010-03-31    330\n",
       "6                                       2012-03-31    320\n",
       "7                                       2009-03-31    160\n",
       "8                                       2008-03-31     95\n",
       "9                                       2013-09-30     12"
      ]
     },
     "execution_count": 119,
     "metadata": {},
     "output_type": "execute_result"
    }
   ],
   "source": [
    "# Number of invalid values\n",
    "print(\"Invalid:\", sum(column == \"         0\"))\n",
    "\n",
    "# Count of Latest Annual report filing FY end date\n",
    "counter = dict(Counter(column))\n",
    "count = { key:[value] for key, value in counter.items()}\n",
    "# Remove invalid date duplicates\n",
    "del count[\"         0\"]\n",
    "print(\"Max:\", max(count))\n",
    "print(\"Min:\", min(count))\n",
    "\n",
    "table = pd.DataFrame.from_dict(count)\n",
    "table = table.melt(var_name=\"Count of Latest Annual report filing FY end date\", value_name=\"Count\").sort_values(by=[\"Count\"], ascending=False).reset_index(drop=True)\n",
    "table.head(10)"
   ]
  },
  {
   "cell_type": "markdown",
   "metadata": {},
   "source": [
    "### LATEST BALANCE SHEET FILING FY END DATE\n",
    "<a class=\"anchor\" id=\"4.15\"></a>\n",
    "Latest balance sheet filing fiscal year end date.  \n",
    "16942 invalid dates. "
   ]
  },
  {
   "cell_type": "code",
   "execution_count": 120,
   "metadata": {},
   "outputs": [
    {
     "data": {
      "text/plain": [
       "0        2015-03-31\n",
       "1        2015-03-31\n",
       "2        2015-03-31\n",
       "3        2015-03-31\n",
       "4        2015-03-31\n",
       "            ...    \n",
       "24974    2014-03-31\n",
       "24975    2015-03-31\n",
       "24976    2016-03-31\n",
       "24977    2015-03-31\n",
       "24978    2016-03-31\n",
       "Name: LATEST BALANCE SHEET FILING FY END DATE, Length: 24979, dtype: object"
      ]
     },
     "execution_count": 120,
     "metadata": {},
     "output_type": "execute_result"
    }
   ],
   "source": [
    "column = Andaman_Nicobar_Islands_2016_merged[\"LATEST BALANCE SHEET FILING FY END DATE\"]\n",
    "column"
   ]
  },
  {
   "cell_type": "code",
   "execution_count": 121,
   "metadata": {},
   "outputs": [
    {
     "name": "stdout",
     "output_type": "stream",
     "text": [
      "Invalid: 16942\n",
      "Max: 2016-03-31\n",
      "Min: 2005-03-31\n"
     ]
    },
    {
     "data": {
      "text/html": [
       "<div>\n",
       "<style scoped>\n",
       "    .dataframe tbody tr th:only-of-type {\n",
       "        vertical-align: middle;\n",
       "    }\n",
       "\n",
       "    .dataframe tbody tr th {\n",
       "        vertical-align: top;\n",
       "    }\n",
       "\n",
       "    .dataframe thead th {\n",
       "        text-align: right;\n",
       "    }\n",
       "</style>\n",
       "<table border=\"1\" class=\"dataframe\">\n",
       "  <thead>\n",
       "    <tr style=\"text-align: right;\">\n",
       "      <th></th>\n",
       "      <th>Count of Latest Annual report filing FY end date</th>\n",
       "      <th>Count</th>\n",
       "    </tr>\n",
       "  </thead>\n",
       "  <tbody>\n",
       "    <tr>\n",
       "      <th>0</th>\n",
       "      <td>2015-03-31</td>\n",
       "      <td>4350</td>\n",
       "    </tr>\n",
       "    <tr>\n",
       "      <th>1</th>\n",
       "      <td>2016-03-31</td>\n",
       "      <td>1836</td>\n",
       "    </tr>\n",
       "    <tr>\n",
       "      <th>2</th>\n",
       "      <td>2014-03-31</td>\n",
       "      <td>958</td>\n",
       "    </tr>\n",
       "    <tr>\n",
       "      <th>3</th>\n",
       "      <td>2013-03-31</td>\n",
       "      <td>631</td>\n",
       "    </tr>\n",
       "    <tr>\n",
       "      <th>4</th>\n",
       "      <td>2012-03-31</td>\n",
       "      <td>116</td>\n",
       "    </tr>\n",
       "    <tr>\n",
       "      <th>5</th>\n",
       "      <td>2011-03-31</td>\n",
       "      <td>73</td>\n",
       "    </tr>\n",
       "    <tr>\n",
       "      <th>6</th>\n",
       "      <td>2010-03-31</td>\n",
       "      <td>38</td>\n",
       "    </tr>\n",
       "    <tr>\n",
       "      <th>7</th>\n",
       "      <td>2009-03-31</td>\n",
       "      <td>11</td>\n",
       "    </tr>\n",
       "    <tr>\n",
       "      <th>8</th>\n",
       "      <td>2008-03-31</td>\n",
       "      <td>6</td>\n",
       "    </tr>\n",
       "    <tr>\n",
       "      <th>9</th>\n",
       "      <td>2012-06-30</td>\n",
       "      <td>4</td>\n",
       "    </tr>\n",
       "  </tbody>\n",
       "</table>\n",
       "</div>"
      ],
      "text/plain": [
       "  Count of Latest Annual report filing FY end date  Count\n",
       "0                                       2015-03-31   4350\n",
       "1                                       2016-03-31   1836\n",
       "2                                       2014-03-31    958\n",
       "3                                       2013-03-31    631\n",
       "4                                       2012-03-31    116\n",
       "5                                       2011-03-31     73\n",
       "6                                       2010-03-31     38\n",
       "7                                       2009-03-31     11\n",
       "8                                       2008-03-31      6\n",
       "9                                       2012-06-30      4"
      ]
     },
     "execution_count": 121,
     "metadata": {},
     "output_type": "execute_result"
    }
   ],
   "source": [
    "# Number of invalid values\n",
    "print(\"Invalid:\", sum(column == \"         0\"))\n",
    "\n",
    "# Count of Latest Annual report filing FY end date\n",
    "counter = dict(Counter(column))\n",
    "count = { key:[value] for key, value in counter.items()}\n",
    "# Remove invalid date duplicates\n",
    "del count[\"         0\"]\n",
    "print(\"Max:\", max(count))\n",
    "print(\"Min:\", min(count))\n",
    "\n",
    "table = pd.DataFrame.from_dict(count)\n",
    "table = table.melt(var_name=\"Count of Latest Annual report filing FY end date\", value_name=\"Count\").sort_values(by=[\"Count\"], ascending=False).reset_index(drop=True)\n",
    "table.head(10)"
   ]
  },
  {
   "cell_type": "code",
   "execution_count": null,
   "metadata": {},
   "outputs": [],
   "source": []
  }
 ],
 "metadata": {
  "kernelspec": {
   "display_name": "Python 3",
   "language": "python",
   "name": "python3"
  },
  "language_info": {
   "codemirror_mode": {
    "name": "ipython",
    "version": 3
   },
   "file_extension": ".py",
   "mimetype": "text/x-python",
   "name": "python",
   "nbconvert_exporter": "python",
   "pygments_lexer": "ipython3",
   "version": "3.8.3"
  }
 },
 "nbformat": 4,
 "nbformat_minor": 4
}
