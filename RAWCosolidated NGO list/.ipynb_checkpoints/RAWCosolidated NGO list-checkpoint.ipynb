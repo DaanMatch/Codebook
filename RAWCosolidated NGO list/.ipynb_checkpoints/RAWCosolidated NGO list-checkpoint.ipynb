{
 "cells": [
  {
   "cell_type": "markdown",
   "id": "derived-olive",
   "metadata": {},
   "source": [
    "# Codebook  \n",
    "**Authors:** Lauren Baker   \n",
    "Documenting existing data files of DaanMatch with information about location, owner, \"version\", source etc."
   ]
  },
  {
   "cell_type": "code",
   "execution_count": 1,
   "id": "recreational-hungarian",
   "metadata": {},
   "outputs": [],
   "source": [
    "import boto3\n",
    "import numpy as np \n",
    "import pandas as pd\n",
    "pd.plotting.register_matplotlib_converters()\n",
    "import matplotlib.pyplot as plt\n",
    "%matplotlib inline\n",
    "from collections import Counter\n",
    "import statistics\n",
    "import math "
   ]
  },
  {
   "cell_type": "code",
   "execution_count": 2,
   "id": "transparent-force",
   "metadata": {},
   "outputs": [],
   "source": [
    "client = boto3.client('s3')\n",
    "resource = boto3.resource('s3')\n",
    "my_bucket = resource.Bucket('daanmatchdatafiles')"
   ]
  },
  {
   "cell_type": "markdown",
   "id": "apparent-radius",
   "metadata": {},
   "source": [
    "# RAWCosolidated NGO list.xlsx\n",
    "\n",
    "## TOC:\n",
    "* [About this dataset](#1)\n",
    "* [What's in this dataset](#2)\n",
    "* [Codebook](#3)\n",
    "    * [Missing values](#3.1)\n",
    "    * [Summary statistics](#3.2)\n",
    "* [Columns](#4)\n",
    "* [Problems with the data](#5)"
   ]
  },
  {
   "cell_type": "markdown",
   "id": "cosmetic-momentum",
   "metadata": {},
   "source": [
    "**About this dataset**  <a class=\"anchor\" id=\"1\"></a>  \n",
    "Data provided by: Unknown.         \n",
    "Source: https://daanmatchdatafiles.s3.us-west-1.amazonaws.com/RAWCosolidated+NGO+list.xlsx         \n",
    "Type: xlsx  \n",
    "Last Modified: June 14, 2021, 21:47:22 (UTC-07:00)  \n",
    "Size: 96.7 MB"
   ]
  },
  {
   "cell_type": "code",
   "execution_count": 3,
   "id": "above-officer",
   "metadata": {},
   "outputs": [
    {
     "name": "stdout",
     "output_type": "stream",
     "text": [
      "['Sheet1']\n"
     ]
    }
   ],
   "source": [
    "path = \"s3://daanmatchdatafiles/RAWCosolidated NGO list.xlsx\"\n",
    "raw_ngolist = pd.ExcelFile(path)\n",
    "print(raw_ngolist.sheet_names)"
   ]
  },
  {
   "cell_type": "code",
   "execution_count": 4,
   "id": "perfect-exchange",
   "metadata": {},
   "outputs": [
    {
     "data": {
      "text/html": [
       "<div>\n",
       "<style scoped>\n",
       "    .dataframe tbody tr th:only-of-type {\n",
       "        vertical-align: middle;\n",
       "    }\n",
       "\n",
       "    .dataframe tbody tr th {\n",
       "        vertical-align: top;\n",
       "    }\n",
       "\n",
       "    .dataframe thead th {\n",
       "        text-align: right;\n",
       "    }\n",
       "</style>\n",
       "<table border=\"1\" class=\"dataframe\">\n",
       "  <thead>\n",
       "    <tr style=\"text-align: right;\">\n",
       "      <th></th>\n",
       "      <th>Link</th>\n",
       "      <th>Ngo Name</th>\n",
       "      <th>Year of Establishment</th>\n",
       "      <th>GuideStar URL</th>\n",
       "      <th>Full Time Staff</th>\n",
       "      <th>Full Time Volunteers</th>\n",
       "      <th>Collected</th>\n",
       "      <th>Target</th>\n",
       "      <th>Donations</th>\n",
       "      <th>Description</th>\n",
       "      <th>...</th>\n",
       "      <th>Asisstant Secretary mobile</th>\n",
       "      <th>Board Member name</th>\n",
       "      <th>Board Member email</th>\n",
       "      <th>Board Member mobile</th>\n",
       "      <th>Vice Chairman name</th>\n",
       "      <th>Vice Chairman email</th>\n",
       "      <th>Vice Chairman mobile</th>\n",
       "      <th>Member name</th>\n",
       "      <th>Member email</th>\n",
       "      <th>Member mobile</th>\n",
       "    </tr>\n",
       "  </thead>\n",
       "  <tbody>\n",
       "    <tr>\n",
       "      <th>0</th>\n",
       "      <td>http://www.ngoimpact.com/ngos/turning-point-fo...</td>\n",
       "      <td>Turning Point Foundation Best Non-Government O...</td>\n",
       "      <td>NaN</td>\n",
       "      <td>NaN</td>\n",
       "      <td>NaN</td>\n",
       "      <td>NaN</td>\n",
       "      <td>NaN</td>\n",
       "      <td>NaN</td>\n",
       "      <td>NaN</td>\n",
       "      <td>TPF is a not for profit, national level volunt...</td>\n",
       "      <td>...</td>\n",
       "      <td>NaN</td>\n",
       "      <td>NaN</td>\n",
       "      <td>NaN</td>\n",
       "      <td>NaN</td>\n",
       "      <td>NaN</td>\n",
       "      <td>NaN</td>\n",
       "      <td>NaN</td>\n",
       "      <td>NaN</td>\n",
       "      <td>NaN</td>\n",
       "      <td>NaN</td>\n",
       "    </tr>\n",
       "    <tr>\n",
       "      <th>1</th>\n",
       "      <td>http://www.ngoimpact.com/ngos/basic-research-e...</td>\n",
       "      <td>Basic Research Education And Development Socie...</td>\n",
       "      <td>NaN</td>\n",
       "      <td>NaN</td>\n",
       "      <td>NaN</td>\n",
       "      <td>NaN</td>\n",
       "      <td>NaN</td>\n",
       "      <td>NaN</td>\n",
       "      <td>NaN</td>\n",
       "      <td>Basic Research Education And Development Socie...</td>\n",
       "      <td>...</td>\n",
       "      <td>NaN</td>\n",
       "      <td>NaN</td>\n",
       "      <td>NaN</td>\n",
       "      <td>NaN</td>\n",
       "      <td>NaN</td>\n",
       "      <td>NaN</td>\n",
       "      <td>NaN</td>\n",
       "      <td>NaN</td>\n",
       "      <td>NaN</td>\n",
       "      <td>NaN</td>\n",
       "    </tr>\n",
       "    <tr>\n",
       "      <th>2</th>\n",
       "      <td>http://www.ngoimpact.com/ngos/divya-jyothi-cha...</td>\n",
       "      <td>Divya Jyothi Charitable Trust Best Non-Governm...</td>\n",
       "      <td>NaN</td>\n",
       "      <td>NaN</td>\n",
       "      <td>NaN</td>\n",
       "      <td>NaN</td>\n",
       "      <td>NaN</td>\n",
       "      <td>NaN</td>\n",
       "      <td>NaN</td>\n",
       "      <td>“ Divya Jyothi Charitable Trust” for the blind...</td>\n",
       "      <td>...</td>\n",
       "      <td>NaN</td>\n",
       "      <td>NaN</td>\n",
       "      <td>NaN</td>\n",
       "      <td>NaN</td>\n",
       "      <td>NaN</td>\n",
       "      <td>NaN</td>\n",
       "      <td>NaN</td>\n",
       "      <td>NaN</td>\n",
       "      <td>NaN</td>\n",
       "      <td>NaN</td>\n",
       "    </tr>\n",
       "    <tr>\n",
       "      <th>3</th>\n",
       "      <td>http://www.ngoimpact.com/ngos/atma-foundation#...</td>\n",
       "      <td>ATMA Foundation Best Non-Government Organizati...</td>\n",
       "      <td>NaN</td>\n",
       "      <td>NaN</td>\n",
       "      <td>NaN</td>\n",
       "      <td>NaN</td>\n",
       "      <td>NaN</td>\n",
       "      <td>NaN</td>\n",
       "      <td>NaN</td>\n",
       "      <td>ATMA Foundation is an NGO committed to empower...</td>\n",
       "      <td>...</td>\n",
       "      <td>NaN</td>\n",
       "      <td>NaN</td>\n",
       "      <td>NaN</td>\n",
       "      <td>NaN</td>\n",
       "      <td>NaN</td>\n",
       "      <td>NaN</td>\n",
       "      <td>NaN</td>\n",
       "      <td>NaN</td>\n",
       "      <td>NaN</td>\n",
       "      <td>NaN</td>\n",
       "    </tr>\n",
       "    <tr>\n",
       "      <th>4</th>\n",
       "      <td>http://www.ngoimpact.com/ngos/calcutta-rescue#...</td>\n",
       "      <td>Calcutta Rescue Best Non-Government Organizati...</td>\n",
       "      <td>NaN</td>\n",
       "      <td>NaN</td>\n",
       "      <td>NaN</td>\n",
       "      <td>NaN</td>\n",
       "      <td>NaN</td>\n",
       "      <td>NaN</td>\n",
       "      <td>NaN</td>\n",
       "      <td>Calcutta Rescue (CR) is a non – governmental o...</td>\n",
       "      <td>...</td>\n",
       "      <td>NaN</td>\n",
       "      <td>NaN</td>\n",
       "      <td>NaN</td>\n",
       "      <td>NaN</td>\n",
       "      <td>NaN</td>\n",
       "      <td>NaN</td>\n",
       "      <td>NaN</td>\n",
       "      <td>NaN</td>\n",
       "      <td>NaN</td>\n",
       "      <td>NaN</td>\n",
       "    </tr>\n",
       "  </tbody>\n",
       "</table>\n",
       "<p>5 rows × 101 columns</p>\n",
       "</div>"
      ],
      "text/plain": [
       "                                                Link  \\\n",
       "0  http://www.ngoimpact.com/ngos/turning-point-fo...   \n",
       "1  http://www.ngoimpact.com/ngos/basic-research-e...   \n",
       "2  http://www.ngoimpact.com/ngos/divya-jyothi-cha...   \n",
       "3  http://www.ngoimpact.com/ngos/atma-foundation#...   \n",
       "4  http://www.ngoimpact.com/ngos/calcutta-rescue#...   \n",
       "\n",
       "                                            Ngo Name  Year of Establishment  \\\n",
       "0  Turning Point Foundation Best Non-Government O...                    NaN   \n",
       "1  Basic Research Education And Development Socie...                    NaN   \n",
       "2  Divya Jyothi Charitable Trust Best Non-Governm...                    NaN   \n",
       "3  ATMA Foundation Best Non-Government Organizati...                    NaN   \n",
       "4  Calcutta Rescue Best Non-Government Organizati...                    NaN   \n",
       "\n",
       "  GuideStar URL Full Time Staff  Full Time Volunteers Collected Target  \\\n",
       "0           NaN             NaN                   NaN       NaN    NaN   \n",
       "1           NaN             NaN                   NaN       NaN    NaN   \n",
       "2           NaN             NaN                   NaN       NaN    NaN   \n",
       "3           NaN             NaN                   NaN       NaN    NaN   \n",
       "4           NaN             NaN                   NaN       NaN    NaN   \n",
       "\n",
       "   Donations                                        Description  ...  \\\n",
       "0        NaN  TPF is a not for profit, national level volunt...  ...   \n",
       "1        NaN  Basic Research Education And Development Socie...  ...   \n",
       "2        NaN  “ Divya Jyothi Charitable Trust” for the blind...  ...   \n",
       "3        NaN  ATMA Foundation is an NGO committed to empower...  ...   \n",
       "4        NaN  Calcutta Rescue (CR) is a non – governmental o...  ...   \n",
       "\n",
       "  Asisstant Secretary mobile Board Member name Board Member email  \\\n",
       "0                        NaN               NaN                NaN   \n",
       "1                        NaN               NaN                NaN   \n",
       "2                        NaN               NaN                NaN   \n",
       "3                        NaN               NaN                NaN   \n",
       "4                        NaN               NaN                NaN   \n",
       "\n",
       "  Board Member mobile Vice Chairman name Vice Chairman email  \\\n",
       "0                 NaN                NaN                 NaN   \n",
       "1                 NaN                NaN                 NaN   \n",
       "2                 NaN                NaN                 NaN   \n",
       "3                 NaN                NaN                 NaN   \n",
       "4                 NaN                NaN                 NaN   \n",
       "\n",
       "  Vice Chairman mobile Member name  Member email Member mobile  \n",
       "0                  NaN         NaN           NaN           NaN  \n",
       "1                  NaN         NaN           NaN           NaN  \n",
       "2                  NaN         NaN           NaN           NaN  \n",
       "3                  NaN         NaN           NaN           NaN  \n",
       "4                  NaN         NaN           NaN           NaN  \n",
       "\n",
       "[5 rows x 101 columns]"
      ]
     },
     "execution_count": 4,
     "metadata": {},
     "output_type": "execute_result"
    }
   ],
   "source": [
    "raw_ngolist = raw_ngolist.parse('Sheet1')\n",
    "raw_ngolist.head()"
   ]
  },
  {
   "cell_type": "markdown",
   "id": "opponent-boards",
   "metadata": {},
   "source": [
    "**What's in this dataset?** <a class=\"anchor\" id=\"2\"></a>"
   ]
  },
  {
   "cell_type": "code",
   "execution_count": 6,
   "id": "broken-whale",
   "metadata": {},
   "outputs": [
    {
     "name": "stdout",
     "output_type": "stream",
     "text": [
      "Shape: (140577, 101)\n",
      "Rows: 140577\n",
      "Columns: 101\n",
      "Each row is ...\n"
     ]
    }
   ],
   "source": [
    "print(\"Shape:\", raw_ngolist.shape)\n",
    "print(\"Rows:\", raw_ngolist.shape[0])\n",
    "print(\"Columns:\", raw_ngolist.shape[1])\n",
    "print(\"Each row is ...\")"
   ]
  },
  {
   "cell_type": "markdown",
   "id": "exposed-trout",
   "metadata": {},
   "source": [
    "**Missing values** <a class=\"anchor\" id=\"3.1\"></a>"
   ]
  },
  {
   "cell_type": "code",
   "execution_count": 7,
   "id": "labeled-gasoline",
   "metadata": {},
   "outputs": [
    {
     "data": {
      "text/plain": [
       "Link                      82221\n",
       "Ngo Name                      3\n",
       "Year of Establishment    139651\n",
       "GuideStar URL            139652\n",
       "Full Time Staff          139804\n",
       "                          ...  \n",
       "Vice Chairman email      136873\n",
       "Vice Chairman mobile     136872\n",
       "Member name               69797\n",
       "Member email             118620\n",
       "Member mobile            118616\n",
       "Length: 101, dtype: int64"
      ]
     },
     "execution_count": 7,
     "metadata": {},
     "output_type": "execute_result"
    }
   ],
   "source": [
    "raw_ngolist.isnull().sum()"
   ]
  },
  {
   "cell_type": "code",
   "execution_count": null,
   "id": "corresponding-minutes",
   "metadata": {},
   "outputs": [],
   "source": []
  }
 ],
 "metadata": {
  "kernelspec": {
   "display_name": "Python 3",
   "language": "python",
   "name": "python3"
  },
  "language_info": {
   "codemirror_mode": {
    "name": "ipython",
    "version": 3
   },
   "file_extension": ".py",
   "mimetype": "text/x-python",
   "name": "python",
   "nbconvert_exporter": "python",
   "pygments_lexer": "ipython3",
   "version": "3.9.2"
  }
 },
 "nbformat": 4,
 "nbformat_minor": 5
}
