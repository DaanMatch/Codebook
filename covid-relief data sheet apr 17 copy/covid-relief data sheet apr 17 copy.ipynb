{
 "cells": [
  {
   "cell_type": "markdown",
   "id": "identified-atlas",
   "metadata": {},
   "source": [
    "# Codebook  \n",
    "**Authors:** Lauren Baker   \n",
    "Documenting existing data files of DaanMatch with information about location, owner, \"version\", source etc."
   ]
  },
  {
   "cell_type": "code",
   "execution_count": 1,
   "id": "specified-uniform",
   "metadata": {},
   "outputs": [],
   "source": [
    "import boto3\n",
    "import numpy as np \n",
    "import pandas as pd\n",
    "pd.plotting.register_matplotlib_converters()\n",
    "import matplotlib.pyplot as plt\n",
    "%matplotlib inline\n",
    "from collections import Counter\n",
    "import statistics"
   ]
  },
  {
   "cell_type": "code",
   "execution_count": 2,
   "id": "handled-battle",
   "metadata": {},
   "outputs": [],
   "source": [
    "client = boto3.client('s3')\n",
    "resource = boto3.resource('s3')\n",
    "my_bucket = resource.Bucket('daanmatchdatafiles')"
   ]
  },
  {
   "cell_type": "markdown",
   "id": "backed-finnish",
   "metadata": {},
   "source": [
    "# covid-relief data sheet apr 17 copy.xlsx\n",
    "\n",
    "## TOC:\n",
    "* [About this dataset](#1)\n",
    "* [What's in this dataset](#2)\n",
    "* [Codebook](#3)\n",
    "    * [Missing values](#3.1)\n",
    "    * [Summary statistics](#3.2)\n",
    "* [Columns](#4)\n",
    "    * [Url](#4.1)\n",
    "    * [Company Name](#4.2)\n",
    "    * [CSR Spent 17-18](#4.3)\n",
    "    * [Date of Incorporation](#4.4)\n",
    "    * [Class](#4.5)\n",
    "    * [RoC](#4.6)\n",
    "    * [Category](#4.7)\n",
    "    * [Sub Category](#4.8)\n",
    "    * [Listing Status](#4.9)\n",
    "    * [Registered Address](#4.10)\n",
    "    * [Zipcode](#4.11)\n",
    "    * [State](#4.12)\n",
    "    * [Email ID](#4.13)\n",
    "    * [Paid-up Capital (in INR Cr.)](#4.14)\n",
    "    * [Authorized Capital (in INR Cr.)](#4.15)"
   ]
  },
  {
   "cell_type": "markdown",
   "id": "advanced-plumbing",
   "metadata": {},
   "source": [
    "**About this dataset**  <a class=\"anchor\" id=\"1\"></a>  \n",
    "Data provided by: Unknown.  \n",
    "Source: https://daanmatchdatafiles.s3.us-west-1.amazonaws.com/DaanMatch_DataFiles/CSR+Spent+17-18.xlsx  \n",
    "Type: xlsx  \n",
    "Last Modified: June 14, 2021, 21:47:22 (UTC-07:00)  \n",
    "Size: 1.4 MB"
   ]
  },
  {
   "cell_type": "code",
   "execution_count": 4,
   "id": "corporate-tulsa",
   "metadata": {},
   "outputs": [
    {
     "name": "stdout",
     "output_type": "stream",
     "text": [
      "47\n"
     ]
    }
   ],
   "source": [
    "path = \"s3://daanmatchdatafiles/covid-relief data sheet apr 17 copy.xlsx\"\n",
    "csr_spent_17_18 = pd.ExcelFile(path)\n",
    "print(csr_spent_17_18.sheet_names)"
   ]
  },
  {
   "cell_type": "code",
   "execution_count": null,
   "id": "optical-washington",
   "metadata": {},
   "outputs": [],
   "source": [
    "csr_spent_17_18 = csr_spent_17_18.parse('CSR Spent 17-18')\n",
    "csr_spent_17_18.head()"
   ]
  }
 ],
 "metadata": {
  "kernelspec": {
   "display_name": "Python 3",
   "language": "python",
   "name": "python3"
  },
  "language_info": {
   "codemirror_mode": {
    "name": "ipython",
    "version": 3
   },
   "file_extension": ".py",
   "mimetype": "text/x-python",
   "name": "python",
   "nbconvert_exporter": "python",
   "pygments_lexer": "ipython3",
   "version": "3.9.2"
  }
 },
 "nbformat": 4,
 "nbformat_minor": 5
}
