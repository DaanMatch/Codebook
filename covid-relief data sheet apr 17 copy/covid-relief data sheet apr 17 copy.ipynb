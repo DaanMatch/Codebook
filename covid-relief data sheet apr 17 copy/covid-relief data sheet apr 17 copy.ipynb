{
 "cells": [
  {
   "cell_type": "markdown",
   "metadata": {},
   "source": [
    "# Codebook  \n",
    "**Authors:** Lauren Baker   \n",
    "Documenting existing data files of DaanMatch with information about location, owner, \"version\", source etc."
   ]
  },
  {
   "cell_type": "code",
   "execution_count": 1,
   "metadata": {},
   "outputs": [],
   "source": [
    "import boto3\n",
    "import numpy as np \n",
    "import pandas as pd\n",
    "pd.plotting.register_matplotlib_converters()\n",
    "import matplotlib.pyplot as plt\n",
    "%matplotlib inline\n",
    "from collections import Counter\n",
    "import statistics"
   ]
  },
  {
   "cell_type": "code",
   "execution_count": 2,
   "metadata": {},
   "outputs": [],
   "source": [
    "client = boto3.client('s3')\n",
    "resource = boto3.resource('s3')\n",
    "my_bucket = resource.Bucket('daanmatchdatafiles')"
   ]
  },
  {
   "cell_type": "markdown",
   "metadata": {},
   "source": [
    "# covid-relief data sheet apr 17 copy.xlsx\n",
    "\n",
    "## TOC:\n",
    "* [About this dataset](#1)\n",
    "* [What's in this dataset](#2)\n",
    "* [Codebook](#3)\n",
    "    * [Missing values](#3.1)\n",
    "    * [Summary statistics](#3.2)\n",
    "* [Columns](#4)"
   ]
  },
  {
   "cell_type": "markdown",
   "metadata": {},
   "source": [
    "**About this dataset**  <a class=\"anchor\" id=\"1\"></a>  \n",
    "Data provided by: Unknown.  \n",
    "Source: https://daanmatchdatafiles.s3.us-west-1.amazonaws.com/DaanMatch_DataFiles/CSR+Spent+17-18.xlsx  \n",
    "Type: xlsx  \n",
    "Last Modified: June 14, 2021, 21:47:22 (UTC-07:00)  \n",
    "Size: 1.4 MB"
   ]
  },
  {
   "cell_type": "code",
   "execution_count": 4,
   "metadata": {},
   "outputs": [
    {
     "name": "stdout",
     "output_type": "stream",
     "text": [
      "47\n"
     ]
    }
   ],
   "source": [
    "path = \"s3://daanmatchdatafiles/covid-relief data sheet apr 17 copy.xlsx\"\n",
    "csr_spent_17_18 = pd.ExcelFile(path)\n",
    "print(csr_spent_17_18.sheet_names)"
   ]
  },
  {
   "cell_type": "code",
   "execution_count": null,
   "metadata": {},
   "outputs": [],
   "source": [
    "csr_spent_17_18 = csr_spent_17_18.parse('CSR Spent 17-18')\n",
    "csr_spent_17_18.head()"
   ]
  }
 ],
 "metadata": {
  "kernelspec": {
   "display_name": "Python 3",
   "language": "python",
   "name": "python3"
  },
  "language_info": {
   "codemirror_mode": {
    "name": "ipython",
    "version": 3
   },
   "file_extension": ".py",
   "mimetype": "text/x-python",
   "name": "python",
   "nbconvert_exporter": "python",
   "pygments_lexer": "ipython3",
   "version": "3.8.3"
  }
 },
 "nbformat": 4,
 "nbformat_minor": 5
}
