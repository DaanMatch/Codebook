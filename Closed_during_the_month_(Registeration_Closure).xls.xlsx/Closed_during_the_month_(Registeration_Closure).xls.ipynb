{
 "cells": [
  {
   "cell_type": "markdown",
   "id": "5f1bd27f-04e7-48cf-aac6-d7ba8291f698",
   "metadata": {},
   "source": [
    "# Codebook"
   ]
  },
  {
   "cell_type": "markdown",
   "id": "2cd7ffec-24ce-414e-accc-d5a36a3ea4c5",
   "metadata": {},
   "source": [
    "Author: [Patrick Guo](https://github.com/shpatrickguo)"
   ]
  },
  {
   "cell_type": "markdown",
   "id": "5ff009b5-d869-4e2d-99bf-96dc165d6959",
   "metadata": {},
   "source": [
    "## Closed_during_the_month_(Registeration_Closure).xls\n",
    "**Data provided by:** NGO Darpan<br>\n",
    "**Source:** s3://daanmatchdatafiles/Closed_during_the_month_(Registeration_Closure).xls<br>\n",
    "**Type:** xlsx<br>\n",
    "**Last Modified:** October 27, 2021, 16:44:55 (UTC-07:00)<br>\n",
    "**Size:** 520.5 KB\n",
    "\n",
    "```Closed_during_the_month_(Registeration_Closure).xls``` named ```reg_closed_df``` contains: <br>\n",
    "List of companies struck off/closed during the month of August 2014.\n",
    "- ```S.No```\n",
    "- ```CIN```\n",
    "- ```COMPANY_NAME```\n",
    "- ```COMPANY_STATUS```\n",
    "- ```TYPE```\n",
    "- ```DATE_OF_REGISTRATION```\n",
    "- ```LISTED```\n",
    "- ```COMPANY_INDICATOR```\n",
    "- ```REGISTERED_STATE```\n",
    "- ```ROC_CODE```\n",
    "- ```INDUSTRIAL-CLASIFICATION```\n",
    "- ```DESCRIPTION```"
   ]
  },
  {
   "cell_type": "code",
   "execution_count": 10,
   "id": "1083e4f2-5179-44e0-ac6d-bb532cbc5637",
   "metadata": {},
   "outputs": [
    {
     "data": {
      "text/plain": [
       "Index(['S.No', 'CIN', 'COMPANY_NAME', 'CLASS', 'COMPANY_STATUS', 'TYPE',\n",
       "       'DATE_OF_REGISTRATION', 'LISTED', 'COMPANY_INDICATOR',\n",
       "       'REGISTERED_STATE', 'ROC_CODE', 'INDUSTRIAL_CLASIFICATION',\n",
       "       'DESCRIPTION'],\n",
       "      dtype='object', name=4)"
      ]
     },
     "execution_count": 10,
     "metadata": {},
     "output_type": "execute_result"
    }
   ],
   "source": [
    "reg_closed_df.columns"
   ]
  },
  {
   "cell_type": "markdown",
   "id": "9ebb903c-6d3f-4ffc-8af7-2985dc1ce159",
   "metadata": {},
   "source": [
    "# Import Libraries"
   ]
  },
  {
   "cell_type": "code",
   "execution_count": 1,
   "id": "c495e91b-b327-4824-af7c-67a9a193c638",
   "metadata": {},
   "outputs": [],
   "source": [
    "import boto3\n",
    "import io\n",
    "import string\n",
    "import requests\n",
    "\n",
    "import pandas as pd\n",
    "import numpy as np\n",
    "\n",
    "import seaborn as sns\n",
    "import matplotlib.pyplot as plt\n",
    "import missingno as msno"
   ]
  },
  {
   "cell_type": "markdown",
   "id": "4b4f9f78-6db0-4864-bb90-fd4049189383",
   "metadata": {},
   "source": [
    "# Load Data"
   ]
  },
  {
   "cell_type": "code",
   "execution_count": 2,
   "id": "1865871f-3707-41c5-a451-8b3ba0f6fdd8",
   "metadata": {},
   "outputs": [],
   "source": [
    "client = boto3.client('s3')\n",
    "resource = boto3.resource('s3')"
   ]
  },
  {
   "cell_type": "code",
   "execution_count": 3,
   "id": "6963c5e4-64c1-4696-b5a7-691944993346",
   "metadata": {},
   "outputs": [],
   "source": [
    "obj = client.get_object(Bucket='daanmatchdatafiles', Key='Closed_during_the_month_(Registeration_Closure).xls')\n",
    "df = pd.read_excel(io.BytesIO(obj['Body'].read()))"
   ]
  },
  {
   "cell_type": "markdown",
   "id": "73b3074d-02b8-4f33-bec8-ff610a2fb1f1",
   "metadata": {
    "tags": []
   },
   "source": [
    "# Registration Closure Dataset"
   ]
  },
  {
   "cell_type": "code",
   "execution_count": 4,
   "id": "f45667ec-c74d-4519-8fb0-cf1a10d1266d",
   "metadata": {},
   "outputs": [],
   "source": [
    "# First 4 rows are blank and 5th row is column names\n",
    "reg_closed_df = df.copy()\n",
    "# Set column names to row 5\n",
    "reg_closed_df.columns = reg_closed_df.iloc[4]\n",
    "# Drop first 5 rows\n",
    "reg_closed_df = reg_closed_df.iloc[5:, :]\n",
    "# Reset Index\n",
    "reg_closed_df.reset_index(drop = True, inplace = True)"
   ]
  },
  {
   "cell_type": "code",
   "execution_count": 5,
   "id": "86ad0115-a9b0-4f65-b076-ea98bd783444",
   "metadata": {},
   "outputs": [
    {
     "data": {
      "text/html": [
       "<div>\n",
       "<style scoped>\n",
       "    .dataframe tbody tr th:only-of-type {\n",
       "        vertical-align: middle;\n",
       "    }\n",
       "\n",
       "    .dataframe tbody tr th {\n",
       "        vertical-align: top;\n",
       "    }\n",
       "\n",
       "    .dataframe thead th {\n",
       "        text-align: right;\n",
       "    }\n",
       "</style>\n",
       "<table border=\"1\" class=\"dataframe\">\n",
       "  <thead>\n",
       "    <tr style=\"text-align: right;\">\n",
       "      <th>4</th>\n",
       "      <th>S.No</th>\n",
       "      <th>CIN</th>\n",
       "      <th>COMPANY_NAME</th>\n",
       "      <th>CLASS</th>\n",
       "      <th>COMPANY_STATUS</th>\n",
       "      <th>TYPE</th>\n",
       "      <th>DATE_OF_REGISTRATION</th>\n",
       "      <th>LISTED</th>\n",
       "      <th>COMPANY_INDICATOR</th>\n",
       "      <th>REGISTERED_STATE</th>\n",
       "      <th>ROC_CODE</th>\n",
       "      <th>INDUSTRIAL_CLASIFICATION</th>\n",
       "      <th>DESCRIPTION</th>\n",
       "    </tr>\n",
       "  </thead>\n",
       "  <tbody>\n",
       "    <tr>\n",
       "      <th>0</th>\n",
       "      <td>1</td>\n",
       "      <td>U36100MH2013PTC247886</td>\n",
       "      <td>NEW VIVEK JEWELLERS PRIVATE LIMITED</td>\n",
       "      <td>Private</td>\n",
       "      <td>STRIKE OFF</td>\n",
       "      <td>Nongovernment</td>\n",
       "      <td>2013-09-05 00:00:00</td>\n",
       "      <td>Unlisted</td>\n",
       "      <td>Indian Company</td>\n",
       "      <td>Maharashtra</td>\n",
       "      <td>RoC-Mumbai</td>\n",
       "      <td>36100</td>\n",
       "      <td>Manufacturing (Others)</td>\n",
       "    </tr>\n",
       "    <tr>\n",
       "      <th>1</th>\n",
       "      <td>2</td>\n",
       "      <td>U70100KL2013PTC034127</td>\n",
       "      <td>PANAMANNA PROPERTY PRIVATE LIMITED</td>\n",
       "      <td>Private</td>\n",
       "      <td>STRIKE OFF</td>\n",
       "      <td>Nongovernment</td>\n",
       "      <td>2013-05-17 00:00:00</td>\n",
       "      <td>Unlisted</td>\n",
       "      <td>Indian Company</td>\n",
       "      <td>Kerala</td>\n",
       "      <td>ROC-Ernakulam</td>\n",
       "      <td>70100</td>\n",
       "      <td>Real Estate and Renting</td>\n",
       "    </tr>\n",
       "    <tr>\n",
       "      <th>2</th>\n",
       "      <td>3</td>\n",
       "      <td>U17120GJ2013PTC076589</td>\n",
       "      <td>EMBCOTT TEXTILES PRIVATE LIMITED</td>\n",
       "      <td>Private</td>\n",
       "      <td>STRIKE OFF</td>\n",
       "      <td>Nongovernment</td>\n",
       "      <td>2013-08-26 00:00:00</td>\n",
       "      <td>Unlisted</td>\n",
       "      <td>Indian Company</td>\n",
       "      <td>Gujarat</td>\n",
       "      <td>RoC-Ahmedabad</td>\n",
       "      <td>17120</td>\n",
       "      <td>Manufacturing (Textiles)</td>\n",
       "    </tr>\n",
       "    <tr>\n",
       "      <th>3</th>\n",
       "      <td>4</td>\n",
       "      <td>U52609HR2013PLC049291</td>\n",
       "      <td>SRS MODERN RETAIL LIMITED</td>\n",
       "      <td>Public</td>\n",
       "      <td>STRIKE OFF</td>\n",
       "      <td>Nongovernment</td>\n",
       "      <td>2013-05-24 00:00:00</td>\n",
       "      <td>Unlisted</td>\n",
       "      <td>Indian Company</td>\n",
       "      <td>Haryana</td>\n",
       "      <td>RoC-Delhi</td>\n",
       "      <td>52609</td>\n",
       "      <td>Trading</td>\n",
       "    </tr>\n",
       "    <tr>\n",
       "      <th>4</th>\n",
       "      <td>5</td>\n",
       "      <td>U52500TZ2013PTC019549</td>\n",
       "      <td>KARAKORAM SYSTEMS AND SOLUTIONS PRIVATE LIMITED</td>\n",
       "      <td>Private</td>\n",
       "      <td>STRIKE OFF</td>\n",
       "      <td>Nongovernment</td>\n",
       "      <td>2013-05-30 00:00:00</td>\n",
       "      <td>Unlisted</td>\n",
       "      <td>Indian Company</td>\n",
       "      <td>Tamil Nadu</td>\n",
       "      <td>RoC-Coimbatore</td>\n",
       "      <td>52500</td>\n",
       "      <td>Trading</td>\n",
       "    </tr>\n",
       "  </tbody>\n",
       "</table>\n",
       "</div>"
      ],
      "text/plain": [
       "4 S.No                    CIN  \\\n",
       "0    1  U36100MH2013PTC247886   \n",
       "1    2  U70100KL2013PTC034127   \n",
       "2    3  U17120GJ2013PTC076589   \n",
       "3    4  U52609HR2013PLC049291   \n",
       "4    5  U52500TZ2013PTC019549   \n",
       "\n",
       "4                                     COMPANY_NAME    CLASS COMPANY_STATUS  \\\n",
       "0              NEW VIVEK JEWELLERS PRIVATE LIMITED  Private     STRIKE OFF   \n",
       "1               PANAMANNA PROPERTY PRIVATE LIMITED  Private     STRIKE OFF   \n",
       "2                 EMBCOTT TEXTILES PRIVATE LIMITED  Private     STRIKE OFF   \n",
       "3                        SRS MODERN RETAIL LIMITED   Public     STRIKE OFF   \n",
       "4  KARAKORAM SYSTEMS AND SOLUTIONS PRIVATE LIMITED  Private     STRIKE OFF   \n",
       "\n",
       "4           TYPE DATE_OF_REGISTRATION    LISTED COMPANY_INDICATOR  \\\n",
       "0  Nongovernment  2013-09-05 00:00:00  Unlisted    Indian Company   \n",
       "1  Nongovernment  2013-05-17 00:00:00  Unlisted    Indian Company   \n",
       "2  Nongovernment  2013-08-26 00:00:00  Unlisted    Indian Company   \n",
       "3  Nongovernment  2013-05-24 00:00:00  Unlisted    Indian Company   \n",
       "4  Nongovernment  2013-05-30 00:00:00  Unlisted    Indian Company   \n",
       "\n",
       "4 REGISTERED_STATE        ROC_CODE INDUSTRIAL_CLASIFICATION  \\\n",
       "0      Maharashtra      RoC-Mumbai                    36100   \n",
       "1           Kerala   ROC-Ernakulam                    70100   \n",
       "2          Gujarat  RoC-Ahmedabad                     17120   \n",
       "3          Haryana       RoC-Delhi                    52609   \n",
       "4       Tamil Nadu  RoC-Coimbatore                    52500   \n",
       "\n",
       "4               DESCRIPTION  \n",
       "0    Manufacturing (Others)  \n",
       "1   Real Estate and Renting  \n",
       "2  Manufacturing (Textiles)  \n",
       "3                   Trading  \n",
       "4                   Trading  "
      ]
     },
     "execution_count": 5,
     "metadata": {},
     "output_type": "execute_result"
    }
   ],
   "source": [
    "reg_closed_df.head()"
   ]
  },
  {
   "cell_type": "code",
   "execution_count": 6,
   "id": "399c1f80-871a-45c3-a3f6-39a38112a983",
   "metadata": {},
   "outputs": [
    {
     "name": "stdout",
     "output_type": "stream",
     "text": [
      "<class 'pandas.core.frame.DataFrame'>\n",
      "RangeIndex: 1850 entries, 0 to 1849\n",
      "Data columns (total 13 columns):\n",
      " #   Column                    Non-Null Count  Dtype \n",
      "---  ------                    --------------  ----- \n",
      " 0   S.No                      1850 non-null   object\n",
      " 1   CIN                       1850 non-null   object\n",
      " 2   COMPANY_NAME              1850 non-null   object\n",
      " 3   CLASS                     1850 non-null   object\n",
      " 4   COMPANY_STATUS            1850 non-null   object\n",
      " 5   TYPE                      1850 non-null   object\n",
      " 6   DATE_OF_REGISTRATION      1850 non-null   object\n",
      " 7   LISTED                    1848 non-null   object\n",
      " 8   COMPANY_INDICATOR         1850 non-null   object\n",
      " 9   REGISTERED_STATE          1850 non-null   object\n",
      " 10  ROC_CODE                  1850 non-null   object\n",
      " 11  INDUSTRIAL_CLASIFICATION  1850 non-null   object\n",
      " 12  DESCRIPTION               1809 non-null   object\n",
      "dtypes: object(13)\n",
      "memory usage: 188.0+ KB\n"
     ]
    }
   ],
   "source": [
    "# Examing the structure of the dataframe\n",
    "reg_closed_df.info()"
   ]
  },
  {
   "cell_type": "code",
   "execution_count": 7,
   "id": "c12053b4-dc5e-415c-a088-51e396769f41",
   "metadata": {},
   "outputs": [
    {
     "data": {
      "text/html": [
       "<div>\n",
       "<style scoped>\n",
       "    .dataframe tbody tr th:only-of-type {\n",
       "        vertical-align: middle;\n",
       "    }\n",
       "\n",
       "    .dataframe tbody tr th {\n",
       "        vertical-align: top;\n",
       "    }\n",
       "\n",
       "    .dataframe thead th {\n",
       "        text-align: right;\n",
       "    }\n",
       "</style>\n",
       "<table border=\"1\" class=\"dataframe\">\n",
       "  <thead>\n",
       "    <tr style=\"text-align: right;\">\n",
       "      <th>4</th>\n",
       "      <th>S.No</th>\n",
       "      <th>CIN</th>\n",
       "      <th>COMPANY_NAME</th>\n",
       "      <th>CLASS</th>\n",
       "      <th>COMPANY_STATUS</th>\n",
       "      <th>TYPE</th>\n",
       "      <th>DATE_OF_REGISTRATION</th>\n",
       "      <th>LISTED</th>\n",
       "      <th>COMPANY_INDICATOR</th>\n",
       "      <th>REGISTERED_STATE</th>\n",
       "      <th>ROC_CODE</th>\n",
       "      <th>INDUSTRIAL_CLASIFICATION</th>\n",
       "      <th>DESCRIPTION</th>\n",
       "    </tr>\n",
       "  </thead>\n",
       "  <tbody>\n",
       "    <tr>\n",
       "      <th>count</th>\n",
       "      <td>1850</td>\n",
       "      <td>1850</td>\n",
       "      <td>1850</td>\n",
       "      <td>1850</td>\n",
       "      <td>1850</td>\n",
       "      <td>1850</td>\n",
       "      <td>1850</td>\n",
       "      <td>1848</td>\n",
       "      <td>1850</td>\n",
       "      <td>1850</td>\n",
       "      <td>1850</td>\n",
       "      <td>1850</td>\n",
       "      <td>1809</td>\n",
       "    </tr>\n",
       "    <tr>\n",
       "      <th>unique</th>\n",
       "      <td>1850</td>\n",
       "      <td>1850</td>\n",
       "      <td>1850</td>\n",
       "      <td>2</td>\n",
       "      <td>4</td>\n",
       "      <td>1</td>\n",
       "      <td>1452</td>\n",
       "      <td>2</td>\n",
       "      <td>1</td>\n",
       "      <td>22</td>\n",
       "      <td>22</td>\n",
       "      <td>445</td>\n",
       "      <td>19</td>\n",
       "    </tr>\n",
       "    <tr>\n",
       "      <th>top</th>\n",
       "      <td>1</td>\n",
       "      <td>U36100MH2013PTC247886</td>\n",
       "      <td>NEW VIVEK JEWELLERS PRIVATE LIMITED</td>\n",
       "      <td>Private</td>\n",
       "      <td>STRIKE OFF</td>\n",
       "      <td>Nongovernment</td>\n",
       "      <td>2008-03-07 00:00:00</td>\n",
       "      <td>Unlisted</td>\n",
       "      <td>Indian Company</td>\n",
       "      <td>Maharashtra</td>\n",
       "      <td>RoC-Delhi</td>\n",
       "      <td>72200</td>\n",
       "      <td>Business Services</td>\n",
       "    </tr>\n",
       "    <tr>\n",
       "      <th>freq</th>\n",
       "      <td>1</td>\n",
       "      <td>1</td>\n",
       "      <td>1</td>\n",
       "      <td>1755</td>\n",
       "      <td>1631</td>\n",
       "      <td>1850</td>\n",
       "      <td>8</td>\n",
       "      <td>1846</td>\n",
       "      <td>1850</td>\n",
       "      <td>443</td>\n",
       "      <td>381</td>\n",
       "      <td>80</td>\n",
       "      <td>440</td>\n",
       "    </tr>\n",
       "  </tbody>\n",
       "</table>\n",
       "</div>"
      ],
      "text/plain": [
       "4       S.No                    CIN                         COMPANY_NAME  \\\n",
       "count   1850                   1850                                 1850   \n",
       "unique  1850                   1850                                 1850   \n",
       "top        1  U36100MH2013PTC247886  NEW VIVEK JEWELLERS PRIVATE LIMITED   \n",
       "freq       1                      1                                    1   \n",
       "\n",
       "4         CLASS COMPANY_STATUS           TYPE DATE_OF_REGISTRATION    LISTED  \\\n",
       "count      1850           1850           1850                 1850      1848   \n",
       "unique        2              4              1                 1452         2   \n",
       "top     Private     STRIKE OFF  Nongovernment  2008-03-07 00:00:00  Unlisted   \n",
       "freq       1755           1631           1850                    8      1846   \n",
       "\n",
       "4      COMPANY_INDICATOR REGISTERED_STATE   ROC_CODE INDUSTRIAL_CLASIFICATION  \\\n",
       "count               1850             1850       1850                     1850   \n",
       "unique                 1               22         22                      445   \n",
       "top       Indian Company      Maharashtra  RoC-Delhi                    72200   \n",
       "freq                1850              443        381                       80   \n",
       "\n",
       "4             DESCRIPTION  \n",
       "count                1809  \n",
       "unique                 19  \n",
       "top     Business Services  \n",
       "freq                  440  "
      ]
     },
     "execution_count": 7,
     "metadata": {},
     "output_type": "execute_result"
    }
   ],
   "source": [
    "# Examine the descriptive statistics of the dataframe\n",
    "reg_closed_df.describe()"
   ]
  },
  {
   "cell_type": "code",
   "execution_count": 8,
   "id": "636a6637-7bbe-4a4c-b02c-e46d57348e83",
   "metadata": {},
   "outputs": [
    {
     "name": "stdout",
     "output_type": "stream",
     "text": [
      "Total Missing Values:\n",
      " 4\n",
      "S.No                         0\n",
      "CIN                          0\n",
      "COMPANY_NAME                 0\n",
      "CLASS                        0\n",
      "COMPANY_STATUS               0\n",
      "TYPE                         0\n",
      "DATE_OF_REGISTRATION         0\n",
      "LISTED                       2\n",
      "COMPANY_INDICATOR            0\n",
      "REGISTERED_STATE             0\n",
      "ROC_CODE                     0\n",
      "INDUSTRIAL_CLASIFICATION     0\n",
      "DESCRIPTION                 41\n",
      "dtype: int64\n"
     ]
    }
   ],
   "source": [
    "# Identify the nullity of the dataframe\n",
    "missing_values_hist = reg_closed_df.isna().sum()\n",
    "print('Total Missing Values:\\n', missing_values_hist)"
   ]
  },
  {
   "cell_type": "code",
   "execution_count": 9,
   "id": "0834fab3-67e4-449b-a5aa-796c62f80a16",
   "metadata": {},
   "outputs": [
    {
     "name": "stdout",
     "output_type": "stream",
     "text": [
      "Percentage of Missing Values:\n",
      " 4\n",
      "S.No                        0.000000\n",
      "CIN                         0.000000\n",
      "COMPANY_NAME                0.000000\n",
      "CLASS                       0.000000\n",
      "COMPANY_STATUS              0.000000\n",
      "TYPE                        0.000000\n",
      "DATE_OF_REGISTRATION        0.000000\n",
      "LISTED                      0.108108\n",
      "COMPANY_INDICATOR           0.000000\n",
      "REGISTERED_STATE            0.000000\n",
      "ROC_CODE                    0.000000\n",
      "INDUSTRIAL_CLASIFICATION    0.000000\n",
      "DESCRIPTION                 2.216216\n",
      "dtype: float64\n"
     ]
    }
   ],
   "source": [
    "# Identify the percentage of nullity in the dataframe for each collumn\n",
    "missing_values_hist_perc = reg_closed_df.isnull().mean() * 100\n",
    "print('Percentage of Missing Values:\\n', missing_values_hist_perc)"
   ]
  },
  {
   "cell_type": "markdown",
   "id": "7ad922ea-e092-45c9-bee7-a076788b6844",
   "metadata": {},
   "source": [
    "## Observations\n",
    "- ```LISTED``` is missing 0.108%.\n",
    "- ```DESCRIPTION``` is missing 2.21%."
   ]
  },
  {
   "cell_type": "code",
   "execution_count": null,
   "id": "18f321cb-ff7a-4a9c-ba39-6424bca4e681",
   "metadata": {},
   "outputs": [],
   "source": []
  }
 ],
 "metadata": {
  "kernelspec": {
   "display_name": "Python 3 (ipykernel)",
   "language": "python",
   "name": "python3"
  },
  "language_info": {
   "codemirror_mode": {
    "name": "ipython",
    "version": 3
   },
   "file_extension": ".py",
   "mimetype": "text/x-python",
   "name": "python",
   "nbconvert_exporter": "python",
   "pygments_lexer": "ipython3",
   "version": "3.8.12"
  }
 },
 "nbformat": 4,
 "nbformat_minor": 5
}
