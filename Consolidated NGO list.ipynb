{
 "cells": [
  {
   "cell_type": "markdown",
   "id": "05f947b0-29d1-49e8-98bb-c48fcbb2439e",
   "metadata": {},
   "source": [
    "# Consolidated\n",
    "\n",
    "Consolidated NGO list is a join of data files from Shekhar.\n",
    "- Final_Data_givingtuesdayindia.org.xlsx\n",
    "- Final_Data_Globalgiving.org.xlsx \n",
    "- Final_Data_Indiangoslist_v1.com.xlsx\n",
    "- Final_Data_ngodarpan.gov.in.xlsx\n",
    "- Final_Data_ngoimpact.com.xlsx\n",
    "There may be also unique NGOs that were added in"
   ]
  },
  {
   "cell_type": "code",
   "execution_count": 1,
   "id": "9fbf15e2-8f71-42fd-a834-c83b49b38ddb",
   "metadata": {},
   "outputs": [],
   "source": [
    "import pandas as pd\n",
    "import numpy as np\n",
    "import boto3\n",
    "import seaborn as sns\n",
    "import matplotlib.pyplot as plt\n",
    "from collections import Counter\n",
    "import io\n",
    "import string"
   ]
  },
  {
   "cell_type": "code",
   "execution_count": 2,
   "id": "864d80f8-b58e-48fd-b2b7-3b0f8f0cab49",
   "metadata": {},
   "outputs": [],
   "source": [
    "client = boto3.client('s3')\n",
    "resource = boto3.resource('s3')\n",
    "my_bucket = resource.Bucket('daanmatchdatafiles')"
   ]
  },
  {
   "cell_type": "code",
   "execution_count": 3,
   "id": "4421ee7e-ad26-4c43-ae4c-42d6b6688620",
   "metadata": {},
   "outputs": [],
   "source": [
    "obj = client.get_object(Bucket='daanmatchdatafiles', Key='from Shekhar/Final_Data_givingtuesdayindia.org.xlsx')\n",
    "givingtuesday = pd.read_excel(io.BytesIO(obj['Body'].read()))"
   ]
  },
  {
   "cell_type": "code",
   "execution_count": 4,
   "id": "758948c0-3798-4de3-857c-1dbd476d6bc6",
   "metadata": {},
   "outputs": [],
   "source": [
    "obj = client.get_object(Bucket='daanmatchdatafiles', Key='from Shekhar/Final_Data_Globalgiving.org.xlsx')\n",
    "globalgiving = pd.read_excel(io.BytesIO(obj['Body'].read()))"
   ]
  },
  {
   "cell_type": "code",
   "execution_count": 5,
   "id": "248d8002-2214-46b7-af56-9fe7a5567a96",
   "metadata": {},
   "outputs": [],
   "source": [
    "obj = client.get_object(Bucket='daanmatchdatafiles', Key='from Shekhar/Final_Data_Indiangoslist_v1.com.xlsx')\n",
    "indiango = pd.read_excel(io.BytesIO(obj['Body'].read()))"
   ]
  },
  {
   "cell_type": "code",
   "execution_count": null,
   "id": "7698d731-d7e6-4af2-9d24-ec28dcfc53ac",
   "metadata": {},
   "outputs": [],
   "source": [
    "obj = client.get_object(Bucket='daanmatchdatafiles', Key='from Shekhar/Final_Data_ngodarpan.gov.in.xlsx')\n",
    "ngodarpan = pd.read_excel(io.BytesIO(obj['Body'].read()))"
   ]
  },
  {
   "cell_type": "code",
   "execution_count": null,
   "id": "ba4cb95d-a0fd-4142-933b-e2fbfb0cf8fa",
   "metadata": {},
   "outputs": [],
   "source": [
    "obj = client.get_object(Bucket='daanmatchdatafiles', Key='from Shekhar/Final_Data_ngoimpact.com.xlsx')\n",
    "ngoimpact = pd.read_excel(io.BytesIO(obj['Body'].read()))"
   ]
  },
  {
   "cell_type": "code",
   "execution_count": null,
   "id": "ff0f932e-2f95-48d1-9772-cca04a85f028",
   "metadata": {},
   "outputs": [],
   "source": []
  }
 ],
 "metadata": {
  "kernelspec": {
   "display_name": "Python 3",
   "language": "python",
   "name": "python3"
  },
  "language_info": {
   "codemirror_mode": {
    "name": "ipython",
    "version": 3
   },
   "file_extension": ".py",
   "mimetype": "text/x-python",
   "name": "python",
   "nbconvert_exporter": "python",
   "pygments_lexer": "ipython3",
   "version": "3.8.10"
  }
 },
 "nbformat": 4,
 "nbformat_minor": 5
}
