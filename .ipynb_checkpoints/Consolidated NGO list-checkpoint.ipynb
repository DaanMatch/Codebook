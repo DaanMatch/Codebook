{
 "cells": [
  {
   "cell_type": "markdown",
   "id": "05f947b0-29d1-49e8-98bb-c48fcbb2439e",
   "metadata": {},
   "source": [
    "# Consolidated\n",
    "\n",
    "Consolidated NGO list is a join of data files from Shekhar.\n",
    "- Final_Data_givingtuesdayindia.org.xlsx\n",
    "- Final_Data_Globalgiving.org.xlsx \n",
    "- Final_Data_Indiangoslist_v1.com.xlsx\n",
    "- Final_Data_ngodarpan.gov.in.xlsx\n",
    "- Final_Data_ngoimpact.com.xlsx"
   ]
  },
  {
   "cell_type": "code",
   "execution_count": null,
   "id": "9fbf15e2-8f71-42fd-a834-c83b49b38ddb",
   "metadata": {},
   "outputs": [],
   "source": [
    "import pandas as pd\n",
    "import numpy as np\n",
    "import boto3\n",
    "import seaborn as sns\n",
    "import matplotlib.pyplot as plt\n",
    "from collections import Counter\n",
    "import io\n",
    "import string"
   ]
  },
  {
   "cell_type": "code",
   "execution_count": null,
   "id": "864d80f8-b58e-48fd-b2b7-3b0f8f0cab49",
   "metadata": {},
   "outputs": [],
   "source": [
    "client = boto3.client('s3')\n",
    "resource = boto3.resource('s3')\n",
    "my_bucket = resource.Bucket('daanmatchdatafiles')\n",
    "\n",
    "path = 's3://daanmatchdatafiles/from Shekhar/Final_Data_givingtuesdayindia.org.xlsx'\n",
    "obj = client.get_object(Bucket='daanmatchdatafiles', Key='from Shekhar/Final_Data_givingtuesdayindia.org.xlsx')\n",
    "df = pd.read_excel(io.BytesIO(obj['Body'].read()))"
   ]
  }
 ],
 "metadata": {
  "kernelspec": {
   "display_name": "Python 3",
   "language": "python",
   "name": "python3"
  },
  "language_info": {
   "codemirror_mode": {
    "name": "ipython",
    "version": 3
   },
   "file_extension": ".py",
   "mimetype": "text/x-python",
   "name": "python",
   "nbconvert_exporter": "python",
   "pygments_lexer": "ipython3",
   "version": "3.8.10"
  }
 },
 "nbformat": 4,
 "nbformat_minor": 5
}
