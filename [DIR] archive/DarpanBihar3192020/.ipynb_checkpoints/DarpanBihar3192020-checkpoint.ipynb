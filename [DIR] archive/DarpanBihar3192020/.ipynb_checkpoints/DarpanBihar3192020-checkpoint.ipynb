{
 "cells": [
  {
   "cell_type": "markdown",
   "id": "third-defeat",
   "metadata": {},
   "source": [
    "# Codebook  \n",
    "**Authors:** Lauren Baker  \n",
    "Documenting existing data files of DaanMatch with information about location, owner, \"version\", source etc."
   ]
  },
  {
   "cell_type": "code",
   "execution_count": 1,
   "id": "floating-penny",
   "metadata": {},
   "outputs": [],
   "source": [
    "import boto3\n",
    "import numpy as np \n",
    "import pandas as pd\n",
    "pd.plotting.register_matplotlib_converters()\n",
    "import matplotlib.pyplot as plt\n",
    "%matplotlib inline\n",
    "from collections import Counter\n",
    "import statistics"
   ]
  },
  {
   "cell_type": "code",
   "execution_count": 2,
   "id": "surrounded-father",
   "metadata": {},
   "outputs": [],
   "source": [
    "client = boto3.client('s3')\n",
    "resource = boto3.resource('s3')\n",
    "my_bucket = resource.Bucket('daanmatchdatafiles')"
   ]
  },
  {
   "cell_type": "markdown",
   "id": "collectible-jackson",
   "metadata": {},
   "source": [
    "# DarpanBihar3192020.xlsx\n",
    "\n",
    "## TOC:\n",
    "* [About this dataset](#1)\n",
    "* [Cleaned datasets](#2)\n",
    "* [What's in this dataset](#3)\n",
    "* [Codebook](#4)\n",
    "    * [Missing values](#4.1)\n",
    "    * [Summary statistics](#4.2)\n",
    "* [Columns](#5)\n",
    "    * [Sheet 1](#5.1)\n",
    "    * [Sheet 2](#5.2)\n",
    "        * [Url](#5.2.1)\n",
    "        * [NGO Name](#5.2.2)\n",
    "        * [Popular Name](#5.2.3)\n",
    "        * [Year of Establishment](#5.2.4)\n",
    "        * [GuideStar URL](#5.2.5)\n",
    "        * [Full Time Staff](#5.2.6)\n",
    "        * [Full Time Volunteers](#5.2.7)\n",
    "        * [Brief description](#5.2.8)\n",
    "        * [Annual Expenditure (Rs in lacs)](#5.2.9)\n",
    "        * [Year for Annual Expenditure](#5.2.10)\n",
    "        * [Impact](#5.2.11)\n",
    "        * [Profile pic](#5.2.12)\n",
    "        * [Organisation Website](#5.2.13)\n",
    "        * [Email](#5.2.14)\n",
    "        * [Telephone/ Mobile number](#5.2.15)\n",
    "        * [Correspondence  Address](#5.2.16)\n",
    "        * [Phone](#5.2.17)\n",
    "        * [Cause(s)](#5.2.18)\n",
    "        * [Nature of Intervention](#5.2.19)\n",
    "        * [Beneficairies](#5.2.20)\n",
    "        * [Focus](#5.2.21)\n",
    "        * [Area of Operation: State](#5.2.22)\n",
    "        * [PAN](#5.2.23)\n",
    "* [Problems with the data](#6)"
   ]
  },
  {
   "cell_type": "markdown",
   "id": "personal-granny",
   "metadata": {},
   "source": [
    "**About this dataset**  <a class=\"anchor\" id=\"1\"></a>  \n",
    "Data provided by: Unknown.  \n",
    "Source: https://daanmatchdatafiles.s3.us-west-1.amazonaws.com/DaanMatch_DataFiles/DarpanBihar3192020.xlsx  \n",
    "Type: xlsx  \n",
    "Last Modified: May 29, 2021, 19:56:13 (UTC-07:00)  \n",
    "Size: 2.0 MB"
   ]
  },
  {
   "cell_type": "code",
   "execution_count": 3,
   "id": "premium-surgeon",
   "metadata": {},
   "outputs": [
    {
     "name": "stdout",
     "output_type": "stream",
     "text": [
      "['Sheet1', 'Sheet2']\n"
     ]
    }
   ],
   "source": [
    "path = \"s3://daanmatchdatafiles/DaanMatch_DataFiles/DarpanBihar3192020.xlsx\"\n",
    "Darpan_Bihar = pd.ExcelFile(path)\n",
    "print(Darpan_Bihar.sheet_names)"
   ]
  },
  {
   "cell_type": "code",
   "execution_count": 4,
   "id": "specialized-holmes",
   "metadata": {},
   "outputs": [
    {
     "data": {
      "text/html": [
       "<div>\n",
       "<style scoped>\n",
       "    .dataframe tbody tr th:only-of-type {\n",
       "        vertical-align: middle;\n",
       "    }\n",
       "\n",
       "    .dataframe tbody tr th {\n",
       "        vertical-align: top;\n",
       "    }\n",
       "\n",
       "    .dataframe thead th {\n",
       "        text-align: right;\n",
       "    }\n",
       "</style>\n",
       "<table border=\"1\" class=\"dataframe\">\n",
       "  <thead>\n",
       "    <tr style=\"text-align: right;\">\n",
       "      <th></th>\n",
       "      <th>Url</th>\n",
       "      <th>Company Name</th>\n",
       "      <th>Date of Incorporation</th>\n",
       "      <th>Class</th>\n",
       "      <th>RoC</th>\n",
       "      <th>Category</th>\n",
       "      <th>Sub Category</th>\n",
       "      <th>Listing Status</th>\n",
       "      <th>Registered Address</th>\n",
       "      <th>State</th>\n",
       "      <th>...</th>\n",
       "      <th>Unnamed: 32</th>\n",
       "      <th>Unnamed: 33</th>\n",
       "      <th>Unnamed: 34</th>\n",
       "      <th>Unnamed: 35</th>\n",
       "      <th>Unnamed: 36</th>\n",
       "      <th>Unnamed: 37</th>\n",
       "      <th>Unnamed: 38</th>\n",
       "      <th>Unnamed: 39</th>\n",
       "      <th>Unnamed: 40</th>\n",
       "      <th>Unnamed: 41</th>\n",
       "    </tr>\n",
       "  </thead>\n",
       "  <tbody>\n",
       "    <tr>\n",
       "      <th>0</th>\n",
       "      <td>INTEGRATED INFOTECH AND CONSULTANCY SERVICES ...</td>\n",
       "      <td>NaN</td>\n",
       "      <td>9.973141e+09</td>\n",
       "      <td>BR/2018/0189401</td>\n",
       "      <td>NaN</td>\n",
       "      <td>itibaheri@gmail.com</td>\n",
       "      <td>NaN</td>\n",
       "      <td>BIHAR,</td>\n",
       "      <td>Information &amp; Communication Technology,Educati...</td>\n",
       "      <td>BIHAR-&gt;Darbhanga, Samastipur, Patna,</td>\n",
       "      <td>...</td>\n",
       "      <td>NaN</td>\n",
       "      <td>NaN</td>\n",
       "      <td>NaN</td>\n",
       "      <td>NaN</td>\n",
       "      <td>NaN</td>\n",
       "      <td>NaN</td>\n",
       "      <td>NaN</td>\n",
       "      <td>NaN</td>\n",
       "      <td>NaN</td>\n",
       "      <td>NaN</td>\n",
       "    </tr>\n",
       "    <tr>\n",
       "      <th>1</th>\n",
       "      <td>21ST CENTURY RURAL DEVELOPMENT INSTITUTE.</td>\n",
       "      <td>NaN</td>\n",
       "      <td>9.334105e+09</td>\n",
       "      <td>BR/2018/0221446</td>\n",
       "      <td>NaN</td>\n",
       "      <td>centuryrural@gmail.com</td>\n",
       "      <td>SOCIAL ACTIVITIES, ENVIRONMENTAL ACTIVITIES AN...</td>\n",
       "      <td>NaN</td>\n",
       "      <td>NaN</td>\n",
       "      <td>NaN</td>\n",
       "      <td>...</td>\n",
       "      <td>NaN</td>\n",
       "      <td>NaN</td>\n",
       "      <td>NaN</td>\n",
       "      <td>NaN</td>\n",
       "      <td>NaN</td>\n",
       "      <td>NaN</td>\n",
       "      <td>NaN</td>\n",
       "      <td>NaN</td>\n",
       "      <td>NaN</td>\n",
       "      <td>NaN</td>\n",
       "    </tr>\n",
       "    <tr>\n",
       "      <th>2</th>\n",
       "      <td>24x7ministry</td>\n",
       "      <td>NaN</td>\n",
       "      <td>9.334296e+09</td>\n",
       "      <td>BR/2017/0167229</td>\n",
       "      <td>NaN</td>\n",
       "      <td>solomanghosh@gmail.com</td>\n",
       "      <td>NaN</td>\n",
       "      <td>BIHAR,</td>\n",
       "      <td>Children,</td>\n",
       "      <td>BIHAR-&gt;Jamui, Patna,</td>\n",
       "      <td>...</td>\n",
       "      <td>NaN</td>\n",
       "      <td>NaN</td>\n",
       "      <td>NaN</td>\n",
       "      <td>NaN</td>\n",
       "      <td>NaN</td>\n",
       "      <td>NaN</td>\n",
       "      <td>NaN</td>\n",
       "      <td>NaN</td>\n",
       "      <td>NaN</td>\n",
       "      <td>NaN</td>\n",
       "    </tr>\n",
       "    <tr>\n",
       "      <th>3</th>\n",
       "      <td>360 Research Foundation</td>\n",
       "      <td>https://360rf.in</td>\n",
       "      <td>9.471041e+09</td>\n",
       "      <td>BR/2018/0200583</td>\n",
       "      <td>NaN</td>\n",
       "      <td>360president@gmail.com</td>\n",
       "      <td>To impart free education and culture training ...</td>\n",
       "      <td>BIHAR,</td>\n",
       "      <td>Science &amp; Technology,Agriculture,Biotechnology...</td>\n",
       "      <td>BIHAR-&gt;Pashchim Champaran,</td>\n",
       "      <td>...</td>\n",
       "      <td>NaN</td>\n",
       "      <td>NaN</td>\n",
       "      <td>NaN</td>\n",
       "      <td>NaN</td>\n",
       "      <td>NaN</td>\n",
       "      <td>NaN</td>\n",
       "      <td>NaN</td>\n",
       "      <td>NaN</td>\n",
       "      <td>NaN</td>\n",
       "      <td>NaN</td>\n",
       "    </tr>\n",
       "    <tr>\n",
       "      <th>4</th>\n",
       "      <td>A CENTER FOR CULTURAL EDUCATIONAL &amp; SOCIAL SUF...</td>\n",
       "      <td>NaN</td>\n",
       "      <td>9.973392e+09</td>\n",
       "      <td>BR/2018/0199254</td>\n",
       "      <td>NaN</td>\n",
       "      <td>accessarvind.kumar@gmail.com</td>\n",
       "      <td>VOCATIONAL TRAINING PROGRAM WOMEN EMPOWERMENT,...</td>\n",
       "      <td>BIHAR, CHHATTISGARH, DELHI, GOA, JHARKHAND, KA...</td>\n",
       "      <td>Agriculture,Vocational Training,Women's Develo...</td>\n",
       "      <td>BIHAR-&gt;Patna, Pashchim Champaran, Purba Champa...</td>\n",
       "      <td>...</td>\n",
       "      <td>NaN</td>\n",
       "      <td>NaN</td>\n",
       "      <td>NaN</td>\n",
       "      <td>NaN</td>\n",
       "      <td>NaN</td>\n",
       "      <td>NaN</td>\n",
       "      <td>NaN</td>\n",
       "      <td>NaN</td>\n",
       "      <td>NaN</td>\n",
       "      <td>NaN</td>\n",
       "    </tr>\n",
       "  </tbody>\n",
       "</table>\n",
       "<p>5 rows × 42 columns</p>\n",
       "</div>"
      ],
      "text/plain": [
       "                                                 Url      Company Name  \\\n",
       "0   INTEGRATED INFOTECH AND CONSULTANCY SERVICES ...               NaN   \n",
       "1          21ST CENTURY RURAL DEVELOPMENT INSTITUTE.               NaN   \n",
       "2                                       24x7ministry               NaN   \n",
       "3                            360 Research Foundation  https://360rf.in   \n",
       "4  A CENTER FOR CULTURAL EDUCATIONAL & SOCIAL SUF...               NaN   \n",
       "\n",
       "   Date of Incorporation            Class  RoC                      Category  \\\n",
       "0           9.973141e+09  BR/2018/0189401  NaN           itibaheri@gmail.com   \n",
       "1           9.334105e+09  BR/2018/0221446  NaN        centuryrural@gmail.com   \n",
       "2           9.334296e+09  BR/2017/0167229  NaN        solomanghosh@gmail.com   \n",
       "3           9.471041e+09  BR/2018/0200583  NaN        360president@gmail.com   \n",
       "4           9.973392e+09  BR/2018/0199254  NaN  accessarvind.kumar@gmail.com   \n",
       "\n",
       "                                        Sub Category  \\\n",
       "0                                                NaN   \n",
       "1  SOCIAL ACTIVITIES, ENVIRONMENTAL ACTIVITIES AN...   \n",
       "2                                                NaN   \n",
       "3  To impart free education and culture training ...   \n",
       "4  VOCATIONAL TRAINING PROGRAM WOMEN EMPOWERMENT,...   \n",
       "\n",
       "                                      Listing Status  \\\n",
       "0                                             BIHAR,   \n",
       "1                                                NaN   \n",
       "2                                             BIHAR,   \n",
       "3                                             BIHAR,   \n",
       "4  BIHAR, CHHATTISGARH, DELHI, GOA, JHARKHAND, KA...   \n",
       "\n",
       "                                  Registered Address  \\\n",
       "0  Information & Communication Technology,Educati...   \n",
       "1                                                NaN   \n",
       "2                                          Children,   \n",
       "3  Science & Technology,Agriculture,Biotechnology...   \n",
       "4  Agriculture,Vocational Training,Women's Develo...   \n",
       "\n",
       "                                               State  ... Unnamed: 32  \\\n",
       "0               BIHAR->Darbhanga, Samastipur, Patna,  ...         NaN   \n",
       "1                                                NaN  ...         NaN   \n",
       "2                               BIHAR->Jamui, Patna,  ...         NaN   \n",
       "3                         BIHAR->Pashchim Champaran,  ...         NaN   \n",
       "4  BIHAR->Patna, Pashchim Champaran, Purba Champa...  ...         NaN   \n",
       "\n",
       "  Unnamed: 33 Unnamed: 34 Unnamed: 35 Unnamed: 36 Unnamed: 37 Unnamed: 38  \\\n",
       "0         NaN         NaN         NaN         NaN         NaN         NaN   \n",
       "1         NaN         NaN         NaN         NaN         NaN         NaN   \n",
       "2         NaN         NaN         NaN         NaN         NaN         NaN   \n",
       "3         NaN         NaN         NaN         NaN         NaN         NaN   \n",
       "4         NaN         NaN         NaN         NaN         NaN         NaN   \n",
       "\n",
       "  Unnamed: 39 Unnamed: 40 Unnamed: 41  \n",
       "0         NaN         NaN         NaN  \n",
       "1         NaN         NaN         NaN  \n",
       "2         NaN         NaN         NaN  \n",
       "3         NaN         NaN         NaN  \n",
       "4         NaN         NaN         NaN  \n",
       "\n",
       "[5 rows x 42 columns]"
      ]
     },
     "execution_count": 4,
     "metadata": {},
     "output_type": "execute_result"
    }
   ],
   "source": [
    "Darpan_Bihar_1 = Darpan_Bihar.parse('Sheet1')\n",
    "Darpan_Bihar_1.head()"
   ]
  },
  {
   "cell_type": "code",
   "execution_count": 5,
   "id": "dirty-breeding",
   "metadata": {
    "scrolled": true
   },
   "outputs": [
    {
     "data": {
      "text/html": [
       "<div>\n",
       "<style scoped>\n",
       "    .dataframe tbody tr th:only-of-type {\n",
       "        vertical-align: middle;\n",
       "    }\n",
       "\n",
       "    .dataframe tbody tr th {\n",
       "        vertical-align: top;\n",
       "    }\n",
       "\n",
       "    .dataframe thead th {\n",
       "        text-align: right;\n",
       "    }\n",
       "</style>\n",
       "<table border=\"1\" class=\"dataframe\">\n",
       "  <thead>\n",
       "    <tr style=\"text-align: right;\">\n",
       "      <th></th>\n",
       "      <th>Url</th>\n",
       "      <th>NGO Name</th>\n",
       "      <th>Popular Name</th>\n",
       "      <th>Year of Establishment</th>\n",
       "      <th>GuideStar URL</th>\n",
       "      <th>Full Time Staff</th>\n",
       "      <th>Full Time Volunteers</th>\n",
       "      <th>Brief description</th>\n",
       "      <th>Annual Expenditure (Rs in lacs)</th>\n",
       "      <th>Year for Annual Expenditure</th>\n",
       "      <th>...</th>\n",
       "      <th>Beneficairies</th>\n",
       "      <th>Focus</th>\n",
       "      <th>Area of Operation: State</th>\n",
       "      <th>PAN</th>\n",
       "      <th>Unnamed: 23</th>\n",
       "      <th>Unnamed: 24</th>\n",
       "      <th>Unnamed: 25</th>\n",
       "      <th>Unnamed: 26</th>\n",
       "      <th>Unnamed: 27</th>\n",
       "      <th>Unnamed: 28</th>\n",
       "    </tr>\n",
       "  </thead>\n",
       "  <tbody>\n",
       "    <tr>\n",
       "      <th>0</th>\n",
       "      <td>https://www.givingtuesdayindia.org/ngo-detail/...</td>\n",
       "      <td>`Sahaj' (An Organisation for Women's Development)</td>\n",
       "      <td>Sahaj</td>\n",
       "      <td>2001</td>\n",
       "      <td>https://guidestarindia.org/Summary.aspx?CCReg=...</td>\n",
       "      <td>70</td>\n",
       "      <td>NaN</td>\n",
       "      <td>Sahaj is an organization working for skill dev...</td>\n",
       "      <td>NaN</td>\n",
       "      <td>NaN</td>\n",
       "      <td>...</td>\n",
       "      <td>Children, Girl Child, Dalits, Artisans, Rural ...</td>\n",
       "      <td>Rural</td>\n",
       "      <td>Gujarat</td>\n",
       "      <td>AACTS0036Q</td>\n",
       "      <td>NaN</td>\n",
       "      <td>NaN</td>\n",
       "      <td>NaN</td>\n",
       "      <td>NaN</td>\n",
       "      <td>NaN</td>\n",
       "      <td>NaN</td>\n",
       "    </tr>\n",
       "    <tr>\n",
       "      <th>1</th>\n",
       "      <td>https://www.givingtuesdayindia.org/ngo-detail/...</td>\n",
       "      <td>\"DIVYA RASA\" (Centre for Healing, Learning, Re...</td>\n",
       "      <td>Divya Rasa - Temple of Love</td>\n",
       "      <td>2015</td>\n",
       "      <td>https://guidestarindia.org/Summary.aspx?CCReg=...</td>\n",
       "      <td>3</td>\n",
       "      <td>5.0</td>\n",
       "      <td>Divya Rasa is an NGO dedicated to serve autist...</td>\n",
       "      <td>NaN</td>\n",
       "      <td>NaN</td>\n",
       "      <td>...</td>\n",
       "      <td>Children, Adolescents, Adults, Volunteers</td>\n",
       "      <td>Rural &amp; Urban</td>\n",
       "      <td>Tamil Nadu</td>\n",
       "      <td>AACTD2691L</td>\n",
       "      <td>NaN</td>\n",
       "      <td>NaN</td>\n",
       "      <td>NaN</td>\n",
       "      <td>NaN</td>\n",
       "      <td>NaN</td>\n",
       "      <td>NaN</td>\n",
       "    </tr>\n",
       "    <tr>\n",
       "      <th>2</th>\n",
       "      <td>https://www.givingtuesdayindia.org/ngo-detail/...</td>\n",
       "      <td>\"Sankalp\" Manav Vikas Sanstha</td>\n",
       "      <td>NaN</td>\n",
       "      <td>1992</td>\n",
       "      <td>https://guidestarindia.org/Summary.aspx?CCReg=...</td>\n",
       "      <td>NaN</td>\n",
       "      <td>NaN</td>\n",
       "      <td>Sankalp Manav Vikas Sanstha is a registered or...</td>\n",
       "      <td>NaN</td>\n",
       "      <td>NaN</td>\n",
       "      <td>...</td>\n",
       "      <td>Physically Challenged, Children, Girl Child, A...</td>\n",
       "      <td>Rural &amp; Urban</td>\n",
       "      <td>NaN</td>\n",
       "      <td>AAETS2349N</td>\n",
       "      <td>NaN</td>\n",
       "      <td>NaN</td>\n",
       "      <td>NaN</td>\n",
       "      <td>NaN</td>\n",
       "      <td>NaN</td>\n",
       "      <td>NaN</td>\n",
       "    </tr>\n",
       "    <tr>\n",
       "      <th>3</th>\n",
       "      <td>https://www.givingtuesdayindia.org/ngo-detail/...</td>\n",
       "      <td>\"VISHA\" VOCATIONAL INSTITUTES SOCIAL,HEALTH AN...</td>\n",
       "      <td>VISHA NGO</td>\n",
       "      <td>2012</td>\n",
       "      <td>https://guidestarindia.org/Summary.aspx?CCReg=...</td>\n",
       "      <td>3</td>\n",
       "      <td>23.0</td>\n",
       "      <td>Vocational Institutes Social,Health and Agricu...</td>\n",
       "      <td>NaN</td>\n",
       "      <td>NaN</td>\n",
       "      <td>...</td>\n",
       "      <td>Children, Girl Child, Adolescents, Dalits, Adu...</td>\n",
       "      <td>Rural &amp; Urban</td>\n",
       "      <td>Odisha</td>\n",
       "      <td>AACTV0963D</td>\n",
       "      <td>NaN</td>\n",
       "      <td>NaN</td>\n",
       "      <td>NaN</td>\n",
       "      <td>NaN</td>\n",
       "      <td>NaN</td>\n",
       "      <td>NaN</td>\n",
       "    </tr>\n",
       "    <tr>\n",
       "      <th>4</th>\n",
       "      <td>https://www.givingtuesdayindia.org/ngo-detail/...</td>\n",
       "      <td>17000 ft Foundation</td>\n",
       "      <td>17000 ft</td>\n",
       "      <td>2012</td>\n",
       "      <td>https://guidestarindia.org/Summary.aspx?CCReg=...</td>\n",
       "      <td>29</td>\n",
       "      <td>0.0</td>\n",
       "      <td>17000 ft Foundation is a Not for profit setup ...</td>\n",
       "      <td>NaN</td>\n",
       "      <td>FY 2018-19</td>\n",
       "      <td>...</td>\n",
       "      <td>Adolescents, Children, Girl Child, Rural Poor,...</td>\n",
       "      <td>Rural</td>\n",
       "      <td>Jammu and Kashmir</td>\n",
       "      <td>AAACZ5957C</td>\n",
       "      <td>NaN</td>\n",
       "      <td>NaN</td>\n",
       "      <td>NaN</td>\n",
       "      <td>NaN</td>\n",
       "      <td>NaN</td>\n",
       "      <td>NaN</td>\n",
       "    </tr>\n",
       "  </tbody>\n",
       "</table>\n",
       "<p>5 rows × 29 columns</p>\n",
       "</div>"
      ],
      "text/plain": [
       "                                                 Url  \\\n",
       "0  https://www.givingtuesdayindia.org/ngo-detail/...   \n",
       "1  https://www.givingtuesdayindia.org/ngo-detail/...   \n",
       "2  https://www.givingtuesdayindia.org/ngo-detail/...   \n",
       "3  https://www.givingtuesdayindia.org/ngo-detail/...   \n",
       "4  https://www.givingtuesdayindia.org/ngo-detail/...   \n",
       "\n",
       "                                            NGO Name  \\\n",
       "0  `Sahaj' (An Organisation for Women's Development)   \n",
       "1  \"DIVYA RASA\" (Centre for Healing, Learning, Re...   \n",
       "2                      \"Sankalp\" Manav Vikas Sanstha   \n",
       "3  \"VISHA\" VOCATIONAL INSTITUTES SOCIAL,HEALTH AN...   \n",
       "4                                17000 ft Foundation   \n",
       "\n",
       "                  Popular Name  Year of Establishment  \\\n",
       "0                        Sahaj                   2001   \n",
       "1  Divya Rasa - Temple of Love                   2015   \n",
       "2                          NaN                   1992   \n",
       "3                    VISHA NGO                   2012   \n",
       "4                     17000 ft                   2012   \n",
       "\n",
       "                                       GuideStar URL Full Time Staff  \\\n",
       "0  https://guidestarindia.org/Summary.aspx?CCReg=...              70   \n",
       "1  https://guidestarindia.org/Summary.aspx?CCReg=...               3   \n",
       "2  https://guidestarindia.org/Summary.aspx?CCReg=...             NaN   \n",
       "3  https://guidestarindia.org/Summary.aspx?CCReg=...               3   \n",
       "4  https://guidestarindia.org/Summary.aspx?CCReg=...              29   \n",
       "\n",
       "   Full Time Volunteers                                  Brief description  \\\n",
       "0                   NaN  Sahaj is an organization working for skill dev...   \n",
       "1                   5.0  Divya Rasa is an NGO dedicated to serve autist...   \n",
       "2                   NaN  Sankalp Manav Vikas Sanstha is a registered or...   \n",
       "3                  23.0  Vocational Institutes Social,Health and Agricu...   \n",
       "4                   0.0  17000 ft Foundation is a Not for profit setup ...   \n",
       "\n",
       "  Annual Expenditure (Rs in lacs) Year for Annual Expenditure  ...  \\\n",
       "0                             NaN                         NaN  ...   \n",
       "1                             NaN                         NaN  ...   \n",
       "2                             NaN                         NaN  ...   \n",
       "3                             NaN                         NaN  ...   \n",
       "4                             NaN                  FY 2018-19  ...   \n",
       "\n",
       "                                       Beneficairies          Focus  \\\n",
       "0  Children, Girl Child, Dalits, Artisans, Rural ...          Rural   \n",
       "1          Children, Adolescents, Adults, Volunteers  Rural & Urban   \n",
       "2  Physically Challenged, Children, Girl Child, A...  Rural & Urban   \n",
       "3  Children, Girl Child, Adolescents, Dalits, Adu...  Rural & Urban   \n",
       "4  Adolescents, Children, Girl Child, Rural Poor,...          Rural   \n",
       "\n",
       "  Area of Operation: State         PAN Unnamed: 23 Unnamed: 24 Unnamed: 25  \\\n",
       "0                  Gujarat  AACTS0036Q         NaN         NaN         NaN   \n",
       "1               Tamil Nadu  AACTD2691L         NaN         NaN         NaN   \n",
       "2                      NaN  AAETS2349N         NaN         NaN         NaN   \n",
       "3                   Odisha  AACTV0963D         NaN         NaN         NaN   \n",
       "4        Jammu and Kashmir  AAACZ5957C         NaN         NaN         NaN   \n",
       "\n",
       "  Unnamed: 26 Unnamed: 27 Unnamed: 28  \n",
       "0         NaN         NaN         NaN  \n",
       "1         NaN         NaN         NaN  \n",
       "2         NaN         NaN         NaN  \n",
       "3         NaN         NaN         NaN  \n",
       "4         NaN         NaN         NaN  \n",
       "\n",
       "[5 rows x 29 columns]"
      ]
     },
     "execution_count": 5,
     "metadata": {},
     "output_type": "execute_result"
    }
   ],
   "source": [
    "Darpan_Bihar_2 = Darpan_Bihar.parse('Sheet2')\n",
    "Darpan_Bihar_2.head()"
   ]
  },
  {
   "cell_type": "markdown",
   "id": "resident-heating",
   "metadata": {},
   "source": [
    "**Cleaned datasets** <a class=\"anchor\" id=\"2\"></a>"
   ]
  },
  {
   "cell_type": "code",
   "execution_count": 6,
   "id": "democratic-bidder",
   "metadata": {},
   "outputs": [
    {
     "data": {
      "text/html": [
       "<div>\n",
       "<style scoped>\n",
       "    .dataframe tbody tr th:only-of-type {\n",
       "        vertical-align: middle;\n",
       "    }\n",
       "\n",
       "    .dataframe tbody tr th {\n",
       "        vertical-align: top;\n",
       "    }\n",
       "\n",
       "    .dataframe thead th {\n",
       "        text-align: right;\n",
       "    }\n",
       "</style>\n",
       "<table border=\"1\" class=\"dataframe\">\n",
       "  <thead>\n",
       "    <tr style=\"text-align: right;\">\n",
       "      <th></th>\n",
       "      <th>Url</th>\n",
       "      <th>NGO Name</th>\n",
       "      <th>Popular Name</th>\n",
       "      <th>Year of Establishment</th>\n",
       "      <th>GuideStar URL</th>\n",
       "      <th>Full Time Staff</th>\n",
       "      <th>Full Time Volunteers</th>\n",
       "      <th>Brief description</th>\n",
       "      <th>Annual Expenditure (Rs in lacs)</th>\n",
       "      <th>Year for Annual Expenditure</th>\n",
       "      <th>...</th>\n",
       "      <th>Email</th>\n",
       "      <th>Telephone/ Mobile number</th>\n",
       "      <th>Correspondence  Address</th>\n",
       "      <th>Phone</th>\n",
       "      <th>Cause(s)</th>\n",
       "      <th>Nature of Intervention</th>\n",
       "      <th>Beneficairies</th>\n",
       "      <th>Focus</th>\n",
       "      <th>Area of Operation: State</th>\n",
       "      <th>PAN</th>\n",
       "    </tr>\n",
       "  </thead>\n",
       "  <tbody>\n",
       "    <tr>\n",
       "      <th>0</th>\n",
       "      <td>https://www.givingtuesdayindia.org/ngo-detail/...</td>\n",
       "      <td>`Sahaj' (An Organisation for Women's Development)</td>\n",
       "      <td>Sahaj</td>\n",
       "      <td>2001</td>\n",
       "      <td>https://guidestarindia.org/Summary.aspx?CCReg=...</td>\n",
       "      <td>70</td>\n",
       "      <td>NaN</td>\n",
       "      <td>Sahaj is an organization working for skill dev...</td>\n",
       "      <td>NaN</td>\n",
       "      <td>NaN</td>\n",
       "      <td>...</td>\n",
       "      <td>admnsahaj@outlook.com</td>\n",
       "      <td>NaN</td>\n",
       "      <td>Desai Automobile Compound,\\nGarbada Road, Pada...</td>\n",
       "      <td>91-2673-245215, 91-2673-245215</td>\n",
       "      <td>Community Development, Education, Healthcare, ...</td>\n",
       "      <td>Direct service</td>\n",
       "      <td>Children, Girl Child, Dalits, Artisans, Rural ...</td>\n",
       "      <td>Rural</td>\n",
       "      <td>Gujarat</td>\n",
       "      <td>AACTS0036Q</td>\n",
       "    </tr>\n",
       "    <tr>\n",
       "      <th>1</th>\n",
       "      <td>https://www.givingtuesdayindia.org/ngo-detail/...</td>\n",
       "      <td>\"DIVYA RASA\" (Centre for Healing, Learning, Re...</td>\n",
       "      <td>Divya Rasa - Temple of Love</td>\n",
       "      <td>2015</td>\n",
       "      <td>https://guidestarindia.org/Summary.aspx?CCReg=...</td>\n",
       "      <td>3</td>\n",
       "      <td>5.0</td>\n",
       "      <td>Divya Rasa is an NGO dedicated to serve autist...</td>\n",
       "      <td>NaN</td>\n",
       "      <td>NaN</td>\n",
       "      <td>...</td>\n",
       "      <td>divyarasa555@divyarasa.org</td>\n",
       "      <td>91-9176300657</td>\n",
       "      <td>Divya Rasa - Temple of Love, Su Kilnachipattu,...</td>\n",
       "      <td>NaN</td>\n",
       "      <td>Education</td>\n",
       "      <td>Direct service</td>\n",
       "      <td>Children, Adolescents, Adults, Volunteers</td>\n",
       "      <td>Rural &amp; Urban</td>\n",
       "      <td>Tamil Nadu</td>\n",
       "      <td>AACTD2691L</td>\n",
       "    </tr>\n",
       "    <tr>\n",
       "      <th>2</th>\n",
       "      <td>https://www.givingtuesdayindia.org/ngo-detail/...</td>\n",
       "      <td>\"Sankalp\" Manav Vikas Sanstha</td>\n",
       "      <td>NaN</td>\n",
       "      <td>1992</td>\n",
       "      <td>https://guidestarindia.org/Summary.aspx?CCReg=...</td>\n",
       "      <td>NaN</td>\n",
       "      <td>NaN</td>\n",
       "      <td>Sankalp Manav Vikas Sanstha is a registered or...</td>\n",
       "      <td>NaN</td>\n",
       "      <td>NaN</td>\n",
       "      <td>...</td>\n",
       "      <td>sudhakarsankalp@gmail.com</td>\n",
       "      <td>91-9096696633</td>\n",
       "      <td>Sudhakar Kshirsagar,Gautam Nagar Pathari,\\nPat...</td>\n",
       "      <td>NaN</td>\n",
       "      <td>Children, Community Development, Education, He...</td>\n",
       "      <td>Advocacy &amp; Campaigning</td>\n",
       "      <td>Physically Challenged, Children, Girl Child, A...</td>\n",
       "      <td>Rural &amp; Urban</td>\n",
       "      <td>NaN</td>\n",
       "      <td>AAETS2349N</td>\n",
       "    </tr>\n",
       "    <tr>\n",
       "      <th>3</th>\n",
       "      <td>https://www.givingtuesdayindia.org/ngo-detail/...</td>\n",
       "      <td>\"VISHA\" VOCATIONAL INSTITUTES SOCIAL,HEALTH AN...</td>\n",
       "      <td>VISHA NGO</td>\n",
       "      <td>2012</td>\n",
       "      <td>https://guidestarindia.org/Summary.aspx?CCReg=...</td>\n",
       "      <td>3</td>\n",
       "      <td>23.0</td>\n",
       "      <td>Vocational Institutes Social,Health and Agricu...</td>\n",
       "      <td>NaN</td>\n",
       "      <td>NaN</td>\n",
       "      <td>...</td>\n",
       "      <td>kptvisha@gmail.com</td>\n",
       "      <td>91-9438022310</td>\n",
       "      <td>Goutam Nagar Last Lane,,\\nkoraput    Koraput, ...</td>\n",
       "      <td>NaN</td>\n",
       "      <td>Children, Education, Healthcare, Livelihoods, ...</td>\n",
       "      <td>Support, Network, Direct service</td>\n",
       "      <td>Children, Girl Child, Adolescents, Dalits, Adu...</td>\n",
       "      <td>Rural &amp; Urban</td>\n",
       "      <td>Odisha</td>\n",
       "      <td>AACTV0963D</td>\n",
       "    </tr>\n",
       "    <tr>\n",
       "      <th>4</th>\n",
       "      <td>https://www.givingtuesdayindia.org/ngo-detail/...</td>\n",
       "      <td>17000 ft Foundation</td>\n",
       "      <td>17000 ft</td>\n",
       "      <td>2012</td>\n",
       "      <td>https://guidestarindia.org/Summary.aspx?CCReg=...</td>\n",
       "      <td>29</td>\n",
       "      <td>0.0</td>\n",
       "      <td>17000 ft Foundation is a Not for profit setup ...</td>\n",
       "      <td>NaN</td>\n",
       "      <td>FY 2018-19</td>\n",
       "      <td>...</td>\n",
       "      <td>reach.us@17000ft.org</td>\n",
       "      <td>91-9871100334</td>\n",
       "      <td>NaN</td>\n",
       "      <td>NaN</td>\n",
       "      <td>Education</td>\n",
       "      <td>Direct service, Support</td>\n",
       "      <td>Adolescents, Children, Girl Child, Rural Poor,...</td>\n",
       "      <td>Rural</td>\n",
       "      <td>Jammu and Kashmir</td>\n",
       "      <td>AAACZ5957C</td>\n",
       "    </tr>\n",
       "  </tbody>\n",
       "</table>\n",
       "<p>5 rows × 23 columns</p>\n",
       "</div>"
      ],
      "text/plain": [
       "                                                 Url  \\\n",
       "0  https://www.givingtuesdayindia.org/ngo-detail/...   \n",
       "1  https://www.givingtuesdayindia.org/ngo-detail/...   \n",
       "2  https://www.givingtuesdayindia.org/ngo-detail/...   \n",
       "3  https://www.givingtuesdayindia.org/ngo-detail/...   \n",
       "4  https://www.givingtuesdayindia.org/ngo-detail/...   \n",
       "\n",
       "                                            NGO Name  \\\n",
       "0  `Sahaj' (An Organisation for Women's Development)   \n",
       "1  \"DIVYA RASA\" (Centre for Healing, Learning, Re...   \n",
       "2                      \"Sankalp\" Manav Vikas Sanstha   \n",
       "3  \"VISHA\" VOCATIONAL INSTITUTES SOCIAL,HEALTH AN...   \n",
       "4                                17000 ft Foundation   \n",
       "\n",
       "                  Popular Name  Year of Establishment  \\\n",
       "0                        Sahaj                   2001   \n",
       "1  Divya Rasa - Temple of Love                   2015   \n",
       "2                          NaN                   1992   \n",
       "3                    VISHA NGO                   2012   \n",
       "4                     17000 ft                   2012   \n",
       "\n",
       "                                       GuideStar URL Full Time Staff  \\\n",
       "0  https://guidestarindia.org/Summary.aspx?CCReg=...              70   \n",
       "1  https://guidestarindia.org/Summary.aspx?CCReg=...               3   \n",
       "2  https://guidestarindia.org/Summary.aspx?CCReg=...             NaN   \n",
       "3  https://guidestarindia.org/Summary.aspx?CCReg=...               3   \n",
       "4  https://guidestarindia.org/Summary.aspx?CCReg=...              29   \n",
       "\n",
       "   Full Time Volunteers                                  Brief description  \\\n",
       "0                   NaN  Sahaj is an organization working for skill dev...   \n",
       "1                   5.0  Divya Rasa is an NGO dedicated to serve autist...   \n",
       "2                   NaN  Sankalp Manav Vikas Sanstha is a registered or...   \n",
       "3                  23.0  Vocational Institutes Social,Health and Agricu...   \n",
       "4                   0.0  17000 ft Foundation is a Not for profit setup ...   \n",
       "\n",
       "  Annual Expenditure (Rs in lacs) Year for Annual Expenditure  ...  \\\n",
       "0                             NaN                         NaN  ...   \n",
       "1                             NaN                         NaN  ...   \n",
       "2                             NaN                         NaN  ...   \n",
       "3                             NaN                         NaN  ...   \n",
       "4                             NaN                  FY 2018-19  ...   \n",
       "\n",
       "                        Email Telephone/ Mobile number  \\\n",
       "0       admnsahaj@outlook.com                      NaN   \n",
       "1  divyarasa555@divyarasa.org            91-9176300657   \n",
       "2   sudhakarsankalp@gmail.com            91-9096696633   \n",
       "3          kptvisha@gmail.com            91-9438022310   \n",
       "4        reach.us@17000ft.org            91-9871100334   \n",
       "\n",
       "                             Correspondence  Address  \\\n",
       "0  Desai Automobile Compound,\\nGarbada Road, Pada...   \n",
       "1  Divya Rasa - Temple of Love, Su Kilnachipattu,...   \n",
       "2  Sudhakar Kshirsagar,Gautam Nagar Pathari,\\nPat...   \n",
       "3  Goutam Nagar Last Lane,,\\nkoraput    Koraput, ...   \n",
       "4                                                NaN   \n",
       "\n",
       "                            Phone  \\\n",
       "0  91-2673-245215, 91-2673-245215   \n",
       "1                             NaN   \n",
       "2                             NaN   \n",
       "3                             NaN   \n",
       "4                             NaN   \n",
       "\n",
       "                                            Cause(s)  \\\n",
       "0  Community Development, Education, Healthcare, ...   \n",
       "1                                          Education   \n",
       "2  Children, Community Development, Education, He...   \n",
       "3  Children, Education, Healthcare, Livelihoods, ...   \n",
       "4                                          Education   \n",
       "\n",
       "             Nature of Intervention  \\\n",
       "0                    Direct service   \n",
       "1                    Direct service   \n",
       "2            Advocacy & Campaigning   \n",
       "3  Support, Network, Direct service   \n",
       "4           Direct service, Support   \n",
       "\n",
       "                                       Beneficairies          Focus  \\\n",
       "0  Children, Girl Child, Dalits, Artisans, Rural ...          Rural   \n",
       "1          Children, Adolescents, Adults, Volunteers  Rural & Urban   \n",
       "2  Physically Challenged, Children, Girl Child, A...  Rural & Urban   \n",
       "3  Children, Girl Child, Adolescents, Dalits, Adu...  Rural & Urban   \n",
       "4  Adolescents, Children, Girl Child, Rural Poor,...          Rural   \n",
       "\n",
       "  Area of Operation: State         PAN  \n",
       "0                  Gujarat  AACTS0036Q  \n",
       "1               Tamil Nadu  AACTD2691L  \n",
       "2                      NaN  AAETS2349N  \n",
       "3                   Odisha  AACTV0963D  \n",
       "4        Jammu and Kashmir  AAACZ5957C  \n",
       "\n",
       "[5 rows x 23 columns]"
      ]
     },
     "execution_count": 6,
     "metadata": {},
     "output_type": "execute_result"
    }
   ],
   "source": [
    "Darpan_Bihar_2 = Darpan_Bihar_2.iloc[:, :23]\n",
    "Darpan_Bihar_2.head()"
   ]
  },
  {
   "cell_type": "markdown",
   "id": "governmental-battery",
   "metadata": {},
   "source": [
    "**What's in this dataset?** <a class=\"anchor\" id=\"2\"></a>"
   ]
  },
  {
   "cell_type": "code",
   "execution_count": 77,
   "id": "vocal-joyce",
   "metadata": {},
   "outputs": [
    {
     "name": "stdout",
     "output_type": "stream",
     "text": [
      "Sheet 1:\n",
      "Shape: (2881, 42)\n",
      "Rows: 2881\n",
      "Columns: 42\n",
      "Each row is an NGO.\n",
      "\n",
      "\n",
      "Sheet 2:\n",
      "Shape: (926, 23)\n",
      "Rows: 926\n",
      "Columns: 23\n",
      "Each row is an NGO.\n"
     ]
    }
   ],
   "source": [
    "print('Sheet 1:')\n",
    "print(\"Shape:\", Darpan_Bihar_1.shape)\n",
    "print(\"Rows:\", Darpan_Bihar_1.shape[0])\n",
    "print(\"Columns:\", Darpan_Bihar_1.shape[1])\n",
    "print(\"Each row is an NGO.\")\n",
    "\n",
    "print('\\n')\n",
    "print('Sheet 2:')\n",
    "print(\"Shape:\", Darpan_Bihar_2.shape)\n",
    "print(\"Rows:\", Darpan_Bihar_2.shape[0])\n",
    "print(\"Columns:\", Darpan_Bihar_2.shape[1])\n",
    "print(\"Each row is an NGO.\")"
   ]
  },
  {
   "cell_type": "markdown",
   "id": "undefined-aggregate",
   "metadata": {},
   "source": [
    "**Codebook** <a class=\"anchor\" id=\"4\"></a>"
   ]
  },
  {
   "cell_type": "code",
   "execution_count": 8,
   "id": "resident-refrigerator",
   "metadata": {},
   "outputs": [],
   "source": [
    "Darpan_Bihar_2.replace(\"13 Project staff\", 13, inplace = True)\n",
    "Darpan_Bihar_2['Full Time Staff'] = Darpan_Bihar_2['Full Time Staff'].astype(float)"
   ]
  },
  {
   "cell_type": "code",
   "execution_count": 9,
   "id": "compliant-preparation",
   "metadata": {},
   "outputs": [
    {
     "name": "stdout",
     "output_type": "stream",
     "text": [
      "Sheet 2 Codebook:\n"
     ]
    },
    {
     "data": {
      "text/html": [
       "<style  type=\"text/css\" >\n",
       "#T_4618a_row0_col1,#T_4618a_row1_col1,#T_4618a_row2_col1,#T_4618a_row3_col1,#T_4618a_row4_col1,#T_4618a_row5_col1,#T_4618a_row6_col1,#T_4618a_row7_col1,#T_4618a_row8_col1,#T_4618a_row9_col1,#T_4618a_row10_col1,#T_4618a_row11_col1,#T_4618a_row12_col1,#T_4618a_row13_col1,#T_4618a_row14_col1,#T_4618a_row15_col1,#T_4618a_row16_col1,#T_4618a_row17_col1,#T_4618a_row18_col1,#T_4618a_row19_col1,#T_4618a_row20_col1,#T_4618a_row21_col1,#T_4618a_row22_col1{\n",
       "            width:  600px;\n",
       "        }</style><table id=\"T_4618a_\" ><thead>    <tr>        <th class=\"blank level0\" ></th>        <th class=\"col_heading level0 col0\" >Column Name</th>        <th class=\"col_heading level0 col1\" >Description</th>        <th class=\"col_heading level0 col2\" >Type</th>    </tr></thead><tbody>\n",
       "                <tr>\n",
       "                        <th id=\"T_4618a_level0_row0\" class=\"row_heading level0 row0\" >0</th>\n",
       "                        <td id=\"T_4618a_row0_col0\" class=\"data row0 col0\" >Url</td>\n",
       "                        <td id=\"T_4618a_row0_col1\" class=\"data row0 col1\" >Url to the NGO on the website GivingTuesdayIndia.</td>\n",
       "                        <td id=\"T_4618a_row0_col2\" class=\"data row0 col2\" >object</td>\n",
       "            </tr>\n",
       "            <tr>\n",
       "                        <th id=\"T_4618a_level0_row1\" class=\"row_heading level0 row1\" >1</th>\n",
       "                        <td id=\"T_4618a_row1_col0\" class=\"data row1 col0\" >NGO Name</td>\n",
       "                        <td id=\"T_4618a_row1_col1\" class=\"data row1 col1\" >Full name of NGO.</td>\n",
       "                        <td id=\"T_4618a_row1_col2\" class=\"data row1 col2\" >object</td>\n",
       "            </tr>\n",
       "            <tr>\n",
       "                        <th id=\"T_4618a_level0_row2\" class=\"row_heading level0 row2\" >2</th>\n",
       "                        <td id=\"T_4618a_row2_col0\" class=\"data row2 col0\" >Popular Name</td>\n",
       "                        <td id=\"T_4618a_row2_col1\" class=\"data row2 col1\" >Shortened / commonly used NGO name.</td>\n",
       "                        <td id=\"T_4618a_row2_col2\" class=\"data row2 col2\" >object</td>\n",
       "            </tr>\n",
       "            <tr>\n",
       "                        <th id=\"T_4618a_level0_row3\" class=\"row_heading level0 row3\" >3</th>\n",
       "                        <td id=\"T_4618a_row3_col0\" class=\"data row3 col0\" >Year of Establishment</td>\n",
       "                        <td id=\"T_4618a_row3_col1\" class=\"data row3 col1\" >Year NGO was started.</td>\n",
       "                        <td id=\"T_4618a_row3_col2\" class=\"data row3 col2\" >int64</td>\n",
       "            </tr>\n",
       "            <tr>\n",
       "                        <th id=\"T_4618a_level0_row4\" class=\"row_heading level0 row4\" >4</th>\n",
       "                        <td id=\"T_4618a_row4_col0\" class=\"data row4 col0\" >GuideStar URL</td>\n",
       "                        <td id=\"T_4618a_row4_col1\" class=\"data row4 col1\" >Page for NGO on the website GuideStar.</td>\n",
       "                        <td id=\"T_4618a_row4_col2\" class=\"data row4 col2\" >object</td>\n",
       "            </tr>\n",
       "            <tr>\n",
       "                        <th id=\"T_4618a_level0_row5\" class=\"row_heading level0 row5\" >5</th>\n",
       "                        <td id=\"T_4618a_row5_col0\" class=\"data row5 col0\" >Full Time Staff</td>\n",
       "                        <td id=\"T_4618a_row5_col1\" class=\"data row5 col1\" >Number of full-time employees at the NGO.</td>\n",
       "                        <td id=\"T_4618a_row5_col2\" class=\"data row5 col2\" >float64</td>\n",
       "            </tr>\n",
       "            <tr>\n",
       "                        <th id=\"T_4618a_level0_row6\" class=\"row_heading level0 row6\" >6</th>\n",
       "                        <td id=\"T_4618a_row6_col0\" class=\"data row6 col0\" >Full Time Volunteers</td>\n",
       "                        <td id=\"T_4618a_row6_col1\" class=\"data row6 col1\" >Number of full-time volunteers at the NGO.</td>\n",
       "                        <td id=\"T_4618a_row6_col2\" class=\"data row6 col2\" >float64</td>\n",
       "            </tr>\n",
       "            <tr>\n",
       "                        <th id=\"T_4618a_level0_row7\" class=\"row_heading level0 row7\" >7</th>\n",
       "                        <td id=\"T_4618a_row7_col0\" class=\"data row7 col0\" >Brief description</td>\n",
       "                        <td id=\"T_4618a_row7_col1\" class=\"data row7 col1\" >Description of what the NGO is.</td>\n",
       "                        <td id=\"T_4618a_row7_col2\" class=\"data row7 col2\" >object</td>\n",
       "            </tr>\n",
       "            <tr>\n",
       "                        <th id=\"T_4618a_level0_row8\" class=\"row_heading level0 row8\" >8</th>\n",
       "                        <td id=\"T_4618a_row8_col0\" class=\"data row8 col0\" >Annual Expenditure (Rs in lacs)</td>\n",
       "                        <td id=\"T_4618a_row8_col1\" class=\"data row8 col1\" >How much money is spent annually (In Rs in lacs).</td>\n",
       "                        <td id=\"T_4618a_row8_col2\" class=\"data row8 col2\" >object</td>\n",
       "            </tr>\n",
       "            <tr>\n",
       "                        <th id=\"T_4618a_level0_row9\" class=\"row_heading level0 row9\" >9</th>\n",
       "                        <td id=\"T_4618a_row9_col0\" class=\"data row9 col0\" >Year for Annual Expenditure</td>\n",
       "                        <td id=\"T_4618a_row9_col1\" class=\"data row9 col1\" >The year that the amount in the previous column was spent.</td>\n",
       "                        <td id=\"T_4618a_row9_col2\" class=\"data row9 col2\" >object</td>\n",
       "            </tr>\n",
       "            <tr>\n",
       "                        <th id=\"T_4618a_level0_row10\" class=\"row_heading level0 row10\" >10</th>\n",
       "                        <td id=\"T_4618a_row10_col0\" class=\"data row10 col0\" >Impact</td>\n",
       "                        <td id=\"T_4618a_row10_col1\" class=\"data row10 col1\" >What the NGO has been able to accomplish so far.</td>\n",
       "                        <td id=\"T_4618a_row10_col2\" class=\"data row10 col2\" >object</td>\n",
       "            </tr>\n",
       "            <tr>\n",
       "                        <th id=\"T_4618a_level0_row11\" class=\"row_heading level0 row11\" >11</th>\n",
       "                        <td id=\"T_4618a_row11_col0\" class=\"data row11 col0\" >Profile pic</td>\n",
       "                        <td id=\"T_4618a_row11_col1\" class=\"data row11 col1\" >Link to a profile photo of the NGO.</td>\n",
       "                        <td id=\"T_4618a_row11_col2\" class=\"data row11 col2\" >object</td>\n",
       "            </tr>\n",
       "            <tr>\n",
       "                        <th id=\"T_4618a_level0_row12\" class=\"row_heading level0 row12\" >12</th>\n",
       "                        <td id=\"T_4618a_row12_col0\" class=\"data row12 col0\" >Organisation Website</td>\n",
       "                        <td id=\"T_4618a_row12_col1\" class=\"data row12 col1\" >NGO website.</td>\n",
       "                        <td id=\"T_4618a_row12_col2\" class=\"data row12 col2\" >object</td>\n",
       "            </tr>\n",
       "            <tr>\n",
       "                        <th id=\"T_4618a_level0_row13\" class=\"row_heading level0 row13\" >13</th>\n",
       "                        <td id=\"T_4618a_row13_col0\" class=\"data row13 col0\" >Email</td>\n",
       "                        <td id=\"T_4618a_row13_col1\" class=\"data row13 col1\" >Email address.</td>\n",
       "                        <td id=\"T_4618a_row13_col2\" class=\"data row13 col2\" >object</td>\n",
       "            </tr>\n",
       "            <tr>\n",
       "                        <th id=\"T_4618a_level0_row14\" class=\"row_heading level0 row14\" >14</th>\n",
       "                        <td id=\"T_4618a_row14_col0\" class=\"data row14 col0\" >Telephone/ Mobile number</td>\n",
       "                        <td id=\"T_4618a_row14_col1\" class=\"data row14 col1\" >Telephone or mobile phone number.</td>\n",
       "                        <td id=\"T_4618a_row14_col2\" class=\"data row14 col2\" >object</td>\n",
       "            </tr>\n",
       "            <tr>\n",
       "                        <th id=\"T_4618a_level0_row15\" class=\"row_heading level0 row15\" >15</th>\n",
       "                        <td id=\"T_4618a_row15_col0\" class=\"data row15 col0\" >Correspondence  Address</td>\n",
       "                        <td id=\"T_4618a_row15_col1\" class=\"data row15 col1\" >NGO office address.</td>\n",
       "                        <td id=\"T_4618a_row15_col2\" class=\"data row15 col2\" >object</td>\n",
       "            </tr>\n",
       "            <tr>\n",
       "                        <th id=\"T_4618a_level0_row16\" class=\"row_heading level0 row16\" >16</th>\n",
       "                        <td id=\"T_4618a_row16_col0\" class=\"data row16 col0\" >Phone</td>\n",
       "                        <td id=\"T_4618a_row16_col1\" class=\"data row16 col1\" >Office phone number.</td>\n",
       "                        <td id=\"T_4618a_row16_col2\" class=\"data row16 col2\" >object</td>\n",
       "            </tr>\n",
       "            <tr>\n",
       "                        <th id=\"T_4618a_level0_row17\" class=\"row_heading level0 row17\" >17</th>\n",
       "                        <td id=\"T_4618a_row17_col0\" class=\"data row17 col0\" >Cause(s)</td>\n",
       "                        <td id=\"T_4618a_row17_col1\" class=\"data row17 col1\" >Causes the NGO supports.</td>\n",
       "                        <td id=\"T_4618a_row17_col2\" class=\"data row17 col2\" >object</td>\n",
       "            </tr>\n",
       "            <tr>\n",
       "                        <th id=\"T_4618a_level0_row18\" class=\"row_heading level0 row18\" >18</th>\n",
       "                        <td id=\"T_4618a_row18_col0\" class=\"data row18 col0\" >Nature of Intervention</td>\n",
       "                        <td id=\"T_4618a_row18_col1\" class=\"data row18 col1\" >How the NGO performs acts of service.</td>\n",
       "                        <td id=\"T_4618a_row18_col2\" class=\"data row18 col2\" >object</td>\n",
       "            </tr>\n",
       "            <tr>\n",
       "                        <th id=\"T_4618a_level0_row19\" class=\"row_heading level0 row19\" >19</th>\n",
       "                        <td id=\"T_4618a_row19_col0\" class=\"data row19 col0\" >Beneficairies</td>\n",
       "                        <td id=\"T_4618a_row19_col1\" class=\"data row19 col1\" >Groups that are benefited from the NGO.</td>\n",
       "                        <td id=\"T_4618a_row19_col2\" class=\"data row19 col2\" >object</td>\n",
       "            </tr>\n",
       "            <tr>\n",
       "                        <th id=\"T_4618a_level0_row20\" class=\"row_heading level0 row20\" >20</th>\n",
       "                        <td id=\"T_4618a_row20_col0\" class=\"data row20 col0\" >Focus</td>\n",
       "                        <td id=\"T_4618a_row20_col1\" class=\"data row20 col1\" >Focus of the NGO (Rural, Urban, or Rural & Urban).</td>\n",
       "                        <td id=\"T_4618a_row20_col2\" class=\"data row20 col2\" >object</td>\n",
       "            </tr>\n",
       "            <tr>\n",
       "                        <th id=\"T_4618a_level0_row21\" class=\"row_heading level0 row21\" >21</th>\n",
       "                        <td id=\"T_4618a_row21_col0\" class=\"data row21 col0\" >Area of Operation: State</td>\n",
       "                        <td id=\"T_4618a_row21_col1\" class=\"data row21 col1\" >States or Districts that the NGO performs service.</td>\n",
       "                        <td id=\"T_4618a_row21_col2\" class=\"data row21 col2\" >object</td>\n",
       "            </tr>\n",
       "            <tr>\n",
       "                        <th id=\"T_4618a_level0_row22\" class=\"row_heading level0 row22\" >22</th>\n",
       "                        <td id=\"T_4618a_row22_col0\" class=\"data row22 col0\" >PAN</td>\n",
       "                        <td id=\"T_4618a_row22_col1\" class=\"data row22 col1\" >Permanent Account Number. 10-digit alphanumeric number that is assigned to each NGO.</td>\n",
       "                        <td id=\"T_4618a_row22_col2\" class=\"data row22 col2\" >object</td>\n",
       "            </tr>\n",
       "    </tbody></table>"
      ],
      "text/plain": [
       "<pandas.io.formats.style.Styler at 0x11f5007f0>"
      ]
     },
     "execution_count": 9,
     "metadata": {},
     "output_type": "execute_result"
    }
   ],
   "source": [
    "print(\"Sheet 2 Codebook:\")\n",
    "Darpan_Bihar_2_columns = [column for column in Darpan_Bihar_2.columns]\n",
    "Darpan_Bihar_2_description = [\"Url to the NGO on the website GivingTuesdayIndia.\", \n",
    "                              \"Full name of NGO.\", \n",
    "                              \"Shortened / commonly used NGO name.\", \n",
    "                              \"Year NGO was started.\", \n",
    "                              \"Page for NGO on the website GuideStar.\", \n",
    "                              \"Number of full-time employees at the NGO.\", \n",
    "                              \"Number of full-time volunteers at the NGO.\", \n",
    "                              \"Description of what the NGO is.\", \n",
    "                              \"How much money is spent annually (In Rs in lacs).\", \n",
    "                              \"The year that the amount in the previous column was spent.\", \n",
    "                              \"What the NGO has been able to accomplish so far.\", \n",
    "                              \"Link to a profile photo of the NGO.\", \n",
    "                              \"NGO website.\", \n",
    "                              \"Email address.\", \n",
    "                              \"Telephone or mobile phone number.\", \n",
    "                              \"NGO office address.\", \n",
    "                              \"Office phone number.\", \n",
    "                              \"Causes the NGO supports.\", \n",
    "                              \"How the NGO performs acts of service.\", \n",
    "                              \"Groups that are benefited from the NGO.\", \n",
    "                              \"Focus of the NGO (Rural, Urban, or Rural & Urban).\", \n",
    "                              \"States or Districts that the NGO performs service.\", \n",
    "                              \"Permanent Account Number. 10-digit alphanumeric number that is assigned to each NGO.\"]\n",
    "Darpan_Bihar_2_dtypes = [dtype for dtype in Darpan_Bihar_2.dtypes]\n",
    "\n",
    "data_2 = {\"Column Name\": Darpan_Bihar_2_columns, \"Description\": Darpan_Bihar_2_description, \"Type\": Darpan_Bihar_2_dtypes}\n",
    "Darpan_Bihar_2_codebook = pd.DataFrame(data_2)\n",
    "Darpan_Bihar_2_codebook.style.set_properties(subset=['Description'], **{'width': '600px'})"
   ]
  },
  {
   "cell_type": "markdown",
   "id": "strange-freight",
   "metadata": {},
   "source": [
    "**Missing values** <a class=\"anchor\" id=\"4.1\"></a>"
   ]
  },
  {
   "cell_type": "code",
   "execution_count": 76,
   "id": "friendly-phenomenon",
   "metadata": {},
   "outputs": [
    {
     "data": {
      "text/plain": [
       "Url                                      0\n",
       "Company Name                          2338\n",
       "Date of Incorporation                    1\n",
       "Class                                    0\n",
       "RoC                                   2274\n",
       "Category                                 0\n",
       "Sub Category                           728\n",
       "Listing Status                         510\n",
       "Registered Address                     449\n",
       "State                                  510\n",
       "Email ID                                 0\n",
       "Paid-up Capital (in INR Cr.)          2144\n",
       "Authorized Capital (in INR Cr.)          0\n",
       "FY 2014-15 Turnover (in INR Cr.)         0\n",
       "FY 2014-15 Networth (in INR Cr.)         0\n",
       "FY 2014-15 Net Profit (in INR Cr.)       0\n",
       "FY 2015-16 Turnover (in INR Cr.)        92\n",
       "FY 2015-16 Networth (in INR Cr.)         7\n",
       "FY 2015-16 Net Profit (in INR Cr.)       0\n",
       "FY 2016-17 Turnover (in INR Cr.)         0\n",
       "FY 2016-17 Networth (in INR Cr.)      2881\n",
       "FY 2016-17 Net Profit (in INR Cr.)    1599\n",
       "Unnamed: 22                           1599\n",
       "Unnamed: 23                           1599\n",
       "Unnamed: 24                           1861\n",
       "Unnamed: 25                           1862\n",
       "Unnamed: 26                           1862\n",
       "Unnamed: 27                            515\n",
       "Unnamed: 28                            517\n",
       "Unnamed: 29                            517\n",
       "Unnamed: 30                           2874\n",
       "Unnamed: 31                           2874\n",
       "Unnamed: 32                           2874\n",
       "Unnamed: 33                           2754\n",
       "Unnamed: 34                           2754\n",
       "Unnamed: 35                           2754\n",
       "Unnamed: 36                           2804\n",
       "Unnamed: 37                           2804\n",
       "Unnamed: 38                           2804\n",
       "Unnamed: 39                           2017\n",
       "Unnamed: 40                           2018\n",
       "Unnamed: 41                           2018\n",
       "dtype: int64"
      ]
     },
     "execution_count": 76,
     "metadata": {},
     "output_type": "execute_result"
    }
   ],
   "source": [
    "Darpan_Bihar_1.isnull().sum()"
   ]
  },
  {
   "cell_type": "code",
   "execution_count": 10,
   "id": "cognitive-pontiac",
   "metadata": {},
   "outputs": [
    {
     "data": {
      "text/plain": [
       "Url                                  0\n",
       "NGO Name                             0\n",
       "Popular Name                       288\n",
       "Year of Establishment                0\n",
       "GuideStar URL                        1\n",
       "Full Time Staff                    153\n",
       "Full Time Volunteers               262\n",
       "Brief description                   20\n",
       "Annual Expenditure (Rs in lacs)    762\n",
       "Year for Annual Expenditure        748\n",
       "Impact                             460\n",
       "Profile pic                        740\n",
       "Organisation Website               131\n",
       "Email                                1\n",
       "Telephone/ Mobile number           253\n",
       "Correspondence  Address             72\n",
       "Phone                              807\n",
       "Cause(s)                            27\n",
       "Nature of Intervention              14\n",
       "Beneficairies                       26\n",
       "Focus                               33\n",
       "Area of Operation: State           150\n",
       "PAN                                  0\n",
       "dtype: int64"
      ]
     },
     "execution_count": 10,
     "metadata": {},
     "output_type": "execute_result"
    }
   ],
   "source": [
    "Darpan_Bihar_2.isnull().sum()"
   ]
  },
  {
   "cell_type": "markdown",
   "id": "cardiac-stadium",
   "metadata": {},
   "source": [
    "**Summary statistics** <a class=\"anchor\" id=\"4.2\"></a>"
   ]
  },
  {
   "cell_type": "code",
   "execution_count": 11,
   "id": "absent-protest",
   "metadata": {},
   "outputs": [
    {
     "data": {
      "text/html": [
       "<div>\n",
       "<style scoped>\n",
       "    .dataframe tbody tr th:only-of-type {\n",
       "        vertical-align: middle;\n",
       "    }\n",
       "\n",
       "    .dataframe tbody tr th {\n",
       "        vertical-align: top;\n",
       "    }\n",
       "\n",
       "    .dataframe thead th {\n",
       "        text-align: right;\n",
       "    }\n",
       "</style>\n",
       "<table border=\"1\" class=\"dataframe\">\n",
       "  <thead>\n",
       "    <tr style=\"text-align: right;\">\n",
       "      <th></th>\n",
       "      <th>Year of Establishment</th>\n",
       "      <th>Full Time Staff</th>\n",
       "      <th>Full Time Volunteers</th>\n",
       "    </tr>\n",
       "  </thead>\n",
       "  <tbody>\n",
       "    <tr>\n",
       "      <th>count</th>\n",
       "      <td>926.000000</td>\n",
       "      <td>773.000000</td>\n",
       "      <td>664.000000</td>\n",
       "    </tr>\n",
       "    <tr>\n",
       "      <th>mean</th>\n",
       "      <td>2464.767819</td>\n",
       "      <td>75.618370</td>\n",
       "      <td>159.347892</td>\n",
       "    </tr>\n",
       "    <tr>\n",
       "      <th>std</th>\n",
       "      <td>14121.819071</td>\n",
       "      <td>261.424938</td>\n",
       "      <td>1289.265298</td>\n",
       "    </tr>\n",
       "    <tr>\n",
       "      <th>min</th>\n",
       "      <td>1922.000000</td>\n",
       "      <td>0.000000</td>\n",
       "      <td>0.000000</td>\n",
       "    </tr>\n",
       "    <tr>\n",
       "      <th>25%</th>\n",
       "      <td>1994.000000</td>\n",
       "      <td>7.000000</td>\n",
       "      <td>3.000000</td>\n",
       "    </tr>\n",
       "    <tr>\n",
       "      <th>50%</th>\n",
       "      <td>2002.000000</td>\n",
       "      <td>18.000000</td>\n",
       "      <td>8.000000</td>\n",
       "    </tr>\n",
       "    <tr>\n",
       "      <th>75%</th>\n",
       "      <td>2010.000000</td>\n",
       "      <td>50.000000</td>\n",
       "      <td>25.000000</td>\n",
       "    </tr>\n",
       "    <tr>\n",
       "      <th>max</th>\n",
       "      <td>431731.000000</td>\n",
       "      <td>5132.000000</td>\n",
       "      <td>24450.000000</td>\n",
       "    </tr>\n",
       "  </tbody>\n",
       "</table>\n",
       "</div>"
      ],
      "text/plain": [
       "       Year of Establishment  Full Time Staff  Full Time Volunteers\n",
       "count             926.000000       773.000000            664.000000\n",
       "mean             2464.767819        75.618370            159.347892\n",
       "std             14121.819071       261.424938           1289.265298\n",
       "min              1922.000000         0.000000              0.000000\n",
       "25%              1994.000000         7.000000              3.000000\n",
       "50%              2002.000000        18.000000              8.000000\n",
       "75%              2010.000000        50.000000             25.000000\n",
       "max            431731.000000      5132.000000          24450.000000"
      ]
     },
     "execution_count": 11,
     "metadata": {},
     "output_type": "execute_result"
    }
   ],
   "source": [
    "Darpan_Bihar_2.describe()"
   ]
  },
  {
   "cell_type": "markdown",
   "id": "shaped-emperor",
   "metadata": {},
   "source": [
    "## Columns\n",
    "<a class=\"anchor\" id=\"5\"></a>"
   ]
  },
  {
   "cell_type": "markdown",
   "id": "animal-bronze",
   "metadata": {},
   "source": [
    "### Sheet 2\n",
    "<a class=\"anchor\" id=\"5.2\"></a>\n",
    "Sheet 2 contains information about several NGOs. "
   ]
  },
  {
   "cell_type": "markdown",
   "id": "overall-sunglasses",
   "metadata": {},
   "source": [
    "### Url\n",
    "<a class=\"anchor\" id=\"5.2.1\"></a>\n",
    "Url to the NGO on the website GivingTuesdayIndia."
   ]
  },
  {
   "cell_type": "code",
   "execution_count": 12,
   "id": "constitutional-onion",
   "metadata": {},
   "outputs": [
    {
     "data": {
      "text/plain": [
       "0      https://www.givingtuesdayindia.org/ngo-detail/...\n",
       "1      https://www.givingtuesdayindia.org/ngo-detail/...\n",
       "2      https://www.givingtuesdayindia.org/ngo-detail/...\n",
       "3      https://www.givingtuesdayindia.org/ngo-detail/...\n",
       "4      https://www.givingtuesdayindia.org/ngo-detail/...\n",
       "                             ...                        \n",
       "921    https://www.givingtuesdayindia.org/ngo-detail/...\n",
       "922    https://www.givingtuesdayindia.org/ngo-detail/...\n",
       "923    https://www.givingtuesdayindia.org/ngo-detail/...\n",
       "924    https://www.givingtuesdayindia.org/ngo-detail/...\n",
       "925    https://www.givingtuesdayindia.org/ngo-detail/...\n",
       "Name: Url, Length: 926, dtype: object"
      ]
     },
     "execution_count": 12,
     "metadata": {},
     "output_type": "execute_result"
    }
   ],
   "source": [
    "column = Darpan_Bihar_2[\"Url\"]\n",
    "column"
   ]
  },
  {
   "cell_type": "code",
   "execution_count": 13,
   "id": "persistent-highland",
   "metadata": {},
   "outputs": [
    {
     "name": "stdout",
     "output_type": "stream",
     "text": [
      "No. of unique values: 926\n",
      "Duplicates: {}\n",
      "Null: 0\n"
     ]
    }
   ],
   "source": [
    "# Check number of unique values\n",
    "print(\"No. of unique values:\", len(column.unique()))\n",
    "\n",
    "# Check for duplicates\n",
    "counter = dict(Counter(column))\n",
    "duplicates = { key:value for key, value in counter.items() if value > 1}\n",
    "print(\"Duplicates:\", duplicates)\n",
    "if len(duplicates) > 0:\n",
    "    print(\"No. of duplicates:\", len(duplicates))\n",
    "\n",
    "# Check for null values\n",
    "print(\"Null:\", sum(column.isnull()))"
   ]
  },
  {
   "cell_type": "markdown",
   "id": "checked-lesson",
   "metadata": {},
   "source": [
    "### NGO Name\n",
    "<a class=\"anchor\" id=\"5.2.2\"></a>\n",
    "Full name of the NGO."
   ]
  },
  {
   "cell_type": "code",
   "execution_count": 14,
   "id": "vocal-newfoundland",
   "metadata": {},
   "outputs": [
    {
     "data": {
      "text/plain": [
       "0      `Sahaj' (An Organisation for Women's Development)\n",
       "1      \"DIVYA RASA\" (Centre for Healing, Learning, Re...\n",
       "2                          \"Sankalp\" Manav Vikas Sanstha\n",
       "3      \"VISHA\" VOCATIONAL INSTITUTES SOCIAL,HEALTH AN...\n",
       "4                                    17000 ft Foundation\n",
       "                             ...                        \n",
       "921                                 Christel House India\n",
       "922                                    MAKE A DIFFERENCE\n",
       "923                      Makkal Vilipunarvu Kalvi Sangam\n",
       "924    The Community Outreach Programme (Bombay Annua...\n",
       "925                UMA EDUCATIONAL AND TECHNICAL SOCIETY\n",
       "Name: NGO Name, Length: 926, dtype: object"
      ]
     },
     "execution_count": 14,
     "metadata": {},
     "output_type": "execute_result"
    }
   ],
   "source": [
    "column = Darpan_Bihar_2[\"NGO Name\"]\n",
    "column"
   ]
  },
  {
   "cell_type": "code",
   "execution_count": 15,
   "id": "decimal-furniture",
   "metadata": {},
   "outputs": [
    {
     "name": "stdout",
     "output_type": "stream",
     "text": [
      "No. of unique values: 925\n",
      "Duplicates: {'Association for Rural Development': 2}\n",
      "No. of duplicates: 1\n",
      "Null: 0\n"
     ]
    }
   ],
   "source": [
    "# Check number of unique values\n",
    "print(\"No. of unique values:\", len(column.unique()))\n",
    "\n",
    "# Check for duplicates\n",
    "counter = dict(Counter(column))\n",
    "duplicates = { key:value for key, value in counter.items() if value > 1}\n",
    "print(\"Duplicates:\", duplicates)\n",
    "if len(duplicates) > 0:\n",
    "    print(\"No. of duplicates:\", len(duplicates))\n",
    "\n",
    "# Check for null values\n",
    "print(\"Null:\", sum(column.isnull()))"
   ]
  },
  {
   "cell_type": "markdown",
   "id": "difficult-aviation",
   "metadata": {},
   "source": [
    "### Popular Name\n",
    "<a class=\"anchor\" id=\"5.2.3\"></a>\n",
    "Shortened / commonly used NGO name."
   ]
  },
  {
   "cell_type": "code",
   "execution_count": 16,
   "id": "negative-indian",
   "metadata": {},
   "outputs": [
    {
     "data": {
      "text/plain": [
       "0                                                  Sahaj\n",
       "1                            Divya Rasa - Temple of Love\n",
       "2                                                    NaN\n",
       "3                                              VISHA NGO\n",
       "4                                               17000 ft\n",
       "                             ...                        \n",
       "921                                 Christel House India\n",
       "922                                                  MAD\n",
       "923               Makkal Vilipunarvu Kalvi Sangam (MVKS)\n",
       "924                                           CORP India\n",
       "925    Uma Educational & Technical Society, Kakinada(...\n",
       "Name: Popular Name, Length: 926, dtype: object"
      ]
     },
     "execution_count": 16,
     "metadata": {},
     "output_type": "execute_result"
    }
   ],
   "source": [
    "column = Darpan_Bihar_2[\"Popular Name\"]\n",
    "column"
   ]
  },
  {
   "cell_type": "code",
   "execution_count": 17,
   "id": "bulgarian-mineral",
   "metadata": {},
   "outputs": [
    {
     "name": "stdout",
     "output_type": "stream",
     "text": [
      "No. of unique values: 628\n",
      "Duplicates: {nan: 288, 'ACT': 2, 'CARD': 2, 'DSS': 3, 'GRAVIS': 2, 'SPANDAN': 2, 'READ': 2, 'SJKS': 2, 'TCF': 2, 'SRLC': 3}\n",
      "No. of duplicates: 10\n",
      "Null: 288\n"
     ]
    }
   ],
   "source": [
    "# Check number of unique values\n",
    "print(\"No. of unique values:\", len(column.unique()))\n",
    "\n",
    "# Check for duplicates\n",
    "counter = dict(Counter(column))\n",
    "duplicates = { key:value for key, value in counter.items() if value > 1}\n",
    "print(\"Duplicates:\", duplicates)\n",
    "if len(duplicates) > 0:\n",
    "    print(\"No. of duplicates:\", len(duplicates))\n",
    "\n",
    "# Check for null values\n",
    "print(\"Null:\", sum(column.isnull()))"
   ]
  },
  {
   "cell_type": "code",
   "execution_count": 18,
   "id": "expensive-spread",
   "metadata": {},
   "outputs": [
    {
     "data": {
      "text/html": [
       "<div>\n",
       "<style scoped>\n",
       "    .dataframe tbody tr th:only-of-type {\n",
       "        vertical-align: middle;\n",
       "    }\n",
       "\n",
       "    .dataframe tbody tr th {\n",
       "        vertical-align: top;\n",
       "    }\n",
       "\n",
       "    .dataframe thead th {\n",
       "        text-align: right;\n",
       "    }\n",
       "</style>\n",
       "<table border=\"1\" class=\"dataframe\">\n",
       "  <thead>\n",
       "    <tr style=\"text-align: right;\">\n",
       "      <th></th>\n",
       "      <th>Url</th>\n",
       "      <th>NGO Name</th>\n",
       "      <th>Popular Name</th>\n",
       "      <th>Year of Establishment</th>\n",
       "      <th>GuideStar URL</th>\n",
       "      <th>Full Time Staff</th>\n",
       "      <th>Full Time Volunteers</th>\n",
       "      <th>Brief description</th>\n",
       "      <th>Annual Expenditure (Rs in lacs)</th>\n",
       "      <th>Year for Annual Expenditure</th>\n",
       "      <th>...</th>\n",
       "      <th>Email</th>\n",
       "      <th>Telephone/ Mobile number</th>\n",
       "      <th>Correspondence  Address</th>\n",
       "      <th>Phone</th>\n",
       "      <th>Cause(s)</th>\n",
       "      <th>Nature of Intervention</th>\n",
       "      <th>Beneficairies</th>\n",
       "      <th>Focus</th>\n",
       "      <th>Area of Operation: State</th>\n",
       "      <th>PAN</th>\n",
       "    </tr>\n",
       "  </thead>\n",
       "  <tbody>\n",
       "    <tr>\n",
       "      <th>73</th>\n",
       "      <td>https://www.givingtuesdayindia.org/ngo-detail/...</td>\n",
       "      <td>ASSOCIATION FOR COMMUNITY TRAINING</td>\n",
       "      <td>ACT</td>\n",
       "      <td>1983</td>\n",
       "      <td>https://guidestarindia.org/Summary.aspx?CCReg=...</td>\n",
       "      <td>10.0</td>\n",
       "      <td>65.0</td>\n",
       "      <td>we have improving the social, educational and ...</td>\n",
       "      <td>NaN</td>\n",
       "      <td>NaN</td>\n",
       "      <td>...</td>\n",
       "      <td>act_mugaiyur@rediffmail.com</td>\n",
       "      <td>NaN</td>\n",
       "      <td>Mugaiyur,\\nMugaiyur    Viluppuram, \\nThirukovi...</td>\n",
       "      <td>NaN</td>\n",
       "      <td>Children, Community Development, Education, Li...</td>\n",
       "      <td>Direct service</td>\n",
       "      <td>Physically Challenged, Construction Workers, C...</td>\n",
       "      <td>Rural &amp; Urban</td>\n",
       "      <td>Tamil Nadu</td>\n",
       "      <td>AAAAA0862H</td>\n",
       "    </tr>\n",
       "    <tr>\n",
       "      <th>849</th>\n",
       "      <td>https://www.givingtuesdayindia.org/ngo-detail/...</td>\n",
       "      <td>Ashwini Charitable Trust</td>\n",
       "      <td>ACT</td>\n",
       "      <td>2000</td>\n",
       "      <td>https://guidestarindia.org/Summary.aspx?CCReg=...</td>\n",
       "      <td>7.0</td>\n",
       "      <td>416.0</td>\n",
       "      <td>Ashwini Charitable Trust fondly referred to as...</td>\n",
       "      <td>78.05</td>\n",
       "      <td>FY 2017-18</td>\n",
       "      <td>...</td>\n",
       "      <td>act.trust@gmail.com</td>\n",
       "      <td>91-9243198157</td>\n",
       "      <td>No 3, St. John'S Road Cross,\\nNear Ulsoor Lake...</td>\n",
       "      <td>NaN</td>\n",
       "      <td>Education</td>\n",
       "      <td>Direct service</td>\n",
       "      <td>Urban poor, Children, Girl Child, Slum Dweller...</td>\n",
       "      <td>Urban</td>\n",
       "      <td>Karnataka</td>\n",
       "      <td>AAATA8420E</td>\n",
       "    </tr>\n",
       "  </tbody>\n",
       "</table>\n",
       "<p>2 rows × 23 columns</p>\n",
       "</div>"
      ],
      "text/plain": [
       "                                                   Url  \\\n",
       "73   https://www.givingtuesdayindia.org/ngo-detail/...   \n",
       "849  https://www.givingtuesdayindia.org/ngo-detail/...   \n",
       "\n",
       "                               NGO Name Popular Name  Year of Establishment  \\\n",
       "73   ASSOCIATION FOR COMMUNITY TRAINING          ACT                   1983   \n",
       "849            Ashwini Charitable Trust          ACT                   2000   \n",
       "\n",
       "                                         GuideStar URL  Full Time Staff  \\\n",
       "73   https://guidestarindia.org/Summary.aspx?CCReg=...             10.0   \n",
       "849  https://guidestarindia.org/Summary.aspx?CCReg=...              7.0   \n",
       "\n",
       "     Full Time Volunteers                                  Brief description  \\\n",
       "73                   65.0  we have improving the social, educational and ...   \n",
       "849                 416.0  Ashwini Charitable Trust fondly referred to as...   \n",
       "\n",
       "    Annual Expenditure (Rs in lacs) Year for Annual Expenditure  ...  \\\n",
       "73                              NaN                         NaN  ...   \n",
       "849                           78.05                  FY 2017-18  ...   \n",
       "\n",
       "                           Email Telephone/ Mobile number  \\\n",
       "73   act_mugaiyur@rediffmail.com                      NaN   \n",
       "849          act.trust@gmail.com            91-9243198157   \n",
       "\n",
       "                               Correspondence  Address Phone  \\\n",
       "73   Mugaiyur,\\nMugaiyur    Viluppuram, \\nThirukovi...   NaN   \n",
       "849  No 3, St. John'S Road Cross,\\nNear Ulsoor Lake...   NaN   \n",
       "\n",
       "                                              Cause(s) Nature of Intervention  \\\n",
       "73   Children, Community Development, Education, Li...         Direct service   \n",
       "849                                          Education         Direct service   \n",
       "\n",
       "                                         Beneficairies          Focus  \\\n",
       "73   Physically Challenged, Construction Workers, C...  Rural & Urban   \n",
       "849  Urban poor, Children, Girl Child, Slum Dweller...          Urban   \n",
       "\n",
       "    Area of Operation: State         PAN  \n",
       "73                Tamil Nadu  AAAAA0862H  \n",
       "849                Karnataka  AAATA8420E  \n",
       "\n",
       "[2 rows x 23 columns]"
      ]
     },
     "execution_count": 18,
     "metadata": {},
     "output_type": "execute_result"
    }
   ],
   "source": [
    "Darpan_Bihar_2[Darpan_Bihar_2['Popular Name'] == 'ACT']"
   ]
  },
  {
   "cell_type": "markdown",
   "id": "becoming-bunch",
   "metadata": {},
   "source": [
    "Duplicates in ```Popluar Name``` do not mean duplicates in NGOs."
   ]
  },
  {
   "cell_type": "markdown",
   "id": "digital-toolbox",
   "metadata": {},
   "source": [
    "### Year of Establishment\n",
    "<a class=\"anchor\" id=\"5.2.4\"></a>\n",
    "Year NGO was started."
   ]
  },
  {
   "cell_type": "code",
   "execution_count": 19,
   "id": "local-charter",
   "metadata": {},
   "outputs": [
    {
     "data": {
      "text/plain": [
       "0      2001\n",
       "1      2015\n",
       "2      1992\n",
       "3      2012\n",
       "4      2012\n",
       "       ... \n",
       "921    2000\n",
       "922    2006\n",
       "923    1996\n",
       "924    1977\n",
       "925    1988\n",
       "Name: Year of Establishment, Length: 926, dtype: int64"
      ]
     },
     "execution_count": 19,
     "metadata": {},
     "output_type": "execute_result"
    }
   ],
   "source": [
    "column = Darpan_Bihar_2[\"Year of Establishment\"]\n",
    "column"
   ]
  },
  {
   "cell_type": "code",
   "execution_count": 20,
   "id": "industrial-insert",
   "metadata": {},
   "outputs": [
    {
     "name": "stdout",
     "output_type": "stream",
     "text": [
      "Null: 0\n",
      "Min: 1922\n",
      "Max: 2018\n",
      "Invalid values: 1\n"
     ]
    }
   ],
   "source": [
    "# Number of null values\n",
    "print(\"Null:\", sum(column.isnull()))\n",
    "\n",
    "# Drop null values\n",
    "cleaned = column.dropna()\n",
    "\n",
    "#Drop invalid values\n",
    "dates = cleaned.astype(str)\n",
    "invalid = len(dates[dates.astype(int) > 3000])\n",
    "dates = dates[dates.astype(int) < 3000]\n",
    "\n",
    "# Range\n",
    "print(\"Min:\", min(dates))\n",
    "print(\"Max:\", max(dates))\n",
    "print(\"Invalid values:\", invalid)"
   ]
  },
  {
   "cell_type": "code",
   "execution_count": 21,
   "id": "rational-sydney",
   "metadata": {},
   "outputs": [
    {
     "name": "stdout",
     "output_type": "stream",
     "text": [
      "No. of unique values: 63\n",
      "Duplicates: {2001: 44, 2015: 30, 1992: 26, 2012: 30, 2000: 33, 1999: 18, 2005: 46, 2006: 38, 2002: 40, 2009: 25, 2008: 27, 2007: 29, 2014: 39, 1993: 26, 1991: 17, 2013: 35, 1979: 4, 1969: 4, 2004: 27, 1989: 12, 1997: 19, 1978: 2, 2017: 13, 1995: 33, 1990: 11, 1977: 4, 2016: 15, 2010: 35, 1972: 3, 1988: 18, 1998: 26, 1996: 18, 1980: 7, 2011: 27, 1983: 6, 1985: 5, 1994: 30, 1987: 8, 2018: 9, 1976: 2, 1986: 5, 2003: 33, 1981: 6, 1982: 8, 1963: 2, 1975: 3, 1984: 8, 1974: 2, 1956: 2, 1953: 3}\n",
      "No. of duplicates: 50\n"
     ]
    }
   ],
   "source": [
    "# Check number of unique values\n",
    "print(\"No. of unique values:\", len(column.unique()))\n",
    "\n",
    "# Check for duplicates\n",
    "counter = dict(Counter(column))\n",
    "duplicates = { key:value for key, value in counter.items() if value > 1}\n",
    "print(\"Duplicates:\", duplicates)\n",
    "if len(duplicates) > 0:\n",
    "    print(\"No. of duplicates:\", len(duplicates))"
   ]
  },
  {
   "cell_type": "code",
   "execution_count": 22,
   "id": "hungarian-mongolia",
   "metadata": {},
   "outputs": [
    {
     "data": {
      "image/png": "[encoded data removed]",
      "text/plain": [
       "<Figure size 1080x576 with 1 Axes>"
      ]
     },
     "metadata": {
      "needs_background": "light"
     },
     "output_type": "display_data"
    }
   ],
   "source": [
    "#Plot number of NGOs established each year\n",
    "counter = dict(Counter(dates))\n",
    "count = { key:[value] for key, value in counter.items()}\n",
    "table = pd.DataFrame.from_dict(count)\n",
    "table = table.melt(var_name=\"Date\", value_name=\"Count\")\n",
    "\n",
    "plt.figure(figsize = (15, 8))\n",
    "plt.bar(table.sort_values('Date')[\"Date\"], table.sort_values('Date')[\"Count\"])\n",
    "plt.title(\"NGOs Established each Year\")\n",
    "plt.ylabel(\"Count of NGOs\")\n",
    "plt.xlabel(\"Year of Establishment\")\n",
    "plt.xticks(rotation = 90);"
   ]
  },
  {
   "cell_type": "markdown",
   "id": "million-monaco",
   "metadata": {},
   "source": [
    "### GuideStar URL\n",
    "<a class=\"anchor\" id=\"5.2.5\"></a>\n",
    "Page for NGO on the website GuideStar."
   ]
  },
  {
   "cell_type": "code",
   "execution_count": 23,
   "id": "dietary-fiber",
   "metadata": {},
   "outputs": [
    {
     "data": {
      "text/plain": [
       "0      https://guidestarindia.org/Summary.aspx?CCReg=...\n",
       "1      https://guidestarindia.org/Summary.aspx?CCReg=...\n",
       "2      https://guidestarindia.org/Summary.aspx?CCReg=...\n",
       "3      https://guidestarindia.org/Summary.aspx?CCReg=...\n",
       "4      https://guidestarindia.org/Summary.aspx?CCReg=...\n",
       "                             ...                        \n",
       "921    https://guidestarindia.org/Summary.aspx?CCReg=...\n",
       "922    https://guidestarindia.org/Summary.aspx?CCReg=...\n",
       "923    https://guidestarindia.org/Summary.aspx?CCReg=...\n",
       "924    https://guidestarindia.org/Summary.aspx?CCReg=...\n",
       "925    https://guidestarindia.org/Summary.aspx?CCReg=...\n",
       "Name: GuideStar URL, Length: 926, dtype: object"
      ]
     },
     "execution_count": 23,
     "metadata": {},
     "output_type": "execute_result"
    }
   ],
   "source": [
    "column = Darpan_Bihar_2[\"GuideStar URL\"]\n",
    "column"
   ]
  },
  {
   "cell_type": "code",
   "execution_count": 24,
   "id": "looking-tiffany",
   "metadata": {},
   "outputs": [
    {
     "name": "stdout",
     "output_type": "stream",
     "text": [
      "No. of unique values: 926\n",
      "Duplicates: {}\n",
      "Null: 1\n"
     ]
    }
   ],
   "source": [
    "# Check number of unique values\n",
    "print(\"No. of unique values:\", len(column.unique()))\n",
    "\n",
    "# Check for duplicates\n",
    "counter = dict(Counter(column))\n",
    "duplicates = { key:value for key, value in counter.items() if value > 1}\n",
    "print(\"Duplicates:\", duplicates)\n",
    "if len(duplicates) > 0:\n",
    "    print(\"No. of duplicates:\", len(duplicates))\n",
    "\n",
    "# Check for null values\n",
    "print(\"Null:\", sum(column.isnull()))"
   ]
  },
  {
   "cell_type": "markdown",
   "id": "national-smooth",
   "metadata": {},
   "source": [
    "### Full Time Staff\n",
    "<a class=\"anchor\" id=\"5.2.6\"></a>\n",
    "Number of full-time employees at the NGO."
   ]
  },
  {
   "cell_type": "code",
   "execution_count": 25,
   "id": "biological-truth",
   "metadata": {},
   "outputs": [
    {
     "data": {
      "text/plain": [
       "0       70.0\n",
       "1        3.0\n",
       "2        NaN\n",
       "3        3.0\n",
       "4       29.0\n",
       "       ...  \n",
       "921    117.0\n",
       "922     33.0\n",
       "923     10.0\n",
       "924     88.0\n",
       "925    128.0\n",
       "Name: Full Time Staff, Length: 926, dtype: float64"
      ]
     },
     "execution_count": 25,
     "metadata": {},
     "output_type": "execute_result"
    }
   ],
   "source": [
    "column = Darpan_Bihar_2[\"Full Time Staff\"]\n",
    "column"
   ]
  },
  {
   "cell_type": "code",
   "execution_count": 26,
   "id": "excessive-nightmare",
   "metadata": {
    "scrolled": true
   },
   "outputs": [
    {
     "name": "stdout",
     "output_type": "stream",
     "text": [
      "Null Values: 153\n",
      "Min: 0\n",
      "Max: 5132\n"
     ]
    }
   ],
   "source": [
    "# Number of null values\n",
    "print(\"Null Values:\", sum(column.isnull()))\n",
    "\n",
    "# Drop null values\n",
    "cleaned = column.dropna()\n",
    "\n",
    "#Drop invalid values\n",
    "counts = cleaned.astype(int)\n",
    "\n",
    "# Range\n",
    "print(\"Min:\", min(counts))\n",
    "print(\"Max:\", max(counts))"
   ]
  },
  {
   "cell_type": "code",
   "execution_count": 27,
   "id": "handled-yacht",
   "metadata": {},
   "outputs": [
    {
     "data": {
      "text/plain": [
       "count     773.000000\n",
       "mean       75.618370\n",
       "std       261.424938\n",
       "min         0.000000\n",
       "25%         7.000000\n",
       "50%        18.000000\n",
       "75%        50.000000\n",
       "max      5132.000000\n",
       "Name: Full Time Staff, dtype: float64"
      ]
     },
     "execution_count": 27,
     "metadata": {},
     "output_type": "execute_result"
    }
   ],
   "source": [
    "#Statistics\n",
    "counts.describe()"
   ]
  },
  {
   "cell_type": "code",
   "execution_count": 28,
   "id": "greek-steps",
   "metadata": {},
   "outputs": [
    {
     "name": "stdout",
     "output_type": "stream",
     "text": [
      "No. of unique values: 170\n",
      "Duplicates: {70.0: 5, 3.0: 22, 29.0: 3, 10.0: 34, 53.0: 4, 15.0: 29, 30.0: 14, 4.0: 35, 18.0: 10, 1.0: 21, 6.0: 19, 21.0: 10, 20.0: 23, 38.0: 4, 75.0: 3, 65.0: 4, 14.0: 14, 7.0: 22, 210.0: 2, 35.0: 13, 25.0: 23, 36.0: 6, 5.0: 35, 8.0: 23, 34.0: 3, 13.0: 16, 55.0: 5, 12.0: 19, 27.0: 8, 23.0: 7, 100.0: 6, 98.0: 2, 45.0: 4, 43.0: 4, 90.0: 4, 16.0: 8, 163.0: 2, 28.0: 5, 11.0: 17, 150.0: 3, 2.0: 25, 50.0: 5, 17.0: 8, 9.0: 17, 117.0: 4, 0.0: 15, 40.0: 7, 82.0: 4, 32.0: 6, 39.0: 5, 47.0: 2, 63.0: 3, 1140.0: 2, 46.0: 2, 24.0: 5, 230.0: 2, 54.0: 4, 60.0: 6, 66.0: 2, 86.0: 2, 62.0: 2, 41.0: 2, 94.0: 4, 19.0: 6, 22.0: 6, 67.0: 2, 125.0: 2, 33.0: 3, 52.0: 4, 42.0: 4, 120.0: 3, 31.0: 5, 49.0: 2, 145.0: 2, 123.0: 2, 80.0: 3, 200.0: 3, 300.0: 3, 128.0: 2, 44.0: 2, 51.0: 2, 110.0: 2, 26.0: 2, 162.0: 2, 130.0: 2}\n",
      "No. of duplicates: 85\n"
     ]
    }
   ],
   "source": [
    "# Check number of unique values\n",
    "print(\"No. of unique values:\", len(column.unique()))\n",
    "\n",
    "# Check for duplicates\n",
    "counter = dict(Counter(column))\n",
    "duplicates = { key:value for key, value in counter.items() if value > 1}\n",
    "print(\"Duplicates:\", duplicates)\n",
    "if len(duplicates) > 0:\n",
    "    print(\"No. of duplicates:\", len(duplicates))"
   ]
  },
  {
   "cell_type": "code",
   "execution_count": 29,
   "id": "governing-austria",
   "metadata": {},
   "outputs": [
    {
     "data": {
      "image/png": "[encoded data removed]",
      "text/plain": [
       "<Figure size 576x432 with 1 Axes>"
      ]
     },
     "metadata": {
      "needs_background": "light"
     },
     "output_type": "display_data"
    }
   ],
   "source": [
    "bins= np.linspace(0, 500, 5)\n",
    "plt.figure(figsize = (8, 6))\n",
    "plt.hist(cleaned, bins=bins, edgecolor=\"k\")\n",
    "plt.title('Amount of Full Time Staff Members at NGOs')\n",
    "plt.xlabel('Amount of Full Time Staff')\n",
    "plt.ylabel('Number of NGOs')\n",
    "plt.xticks(bins);\n",
    "\n",
    "plt.show()"
   ]
  },
  {
   "cell_type": "markdown",
   "id": "plastic-portsmouth",
   "metadata": {},
   "source": [
    "### Full Time Volunteers\n",
    "<a class=\"anchor\" id=\"5.2.7\"></a>\n",
    "Number of full-time volunteers at the NGO."
   ]
  },
  {
   "cell_type": "code",
   "execution_count": 30,
   "id": "coupled-conducting",
   "metadata": {},
   "outputs": [
    {
     "data": {
      "text/plain": [
       "0        NaN\n",
       "1        5.0\n",
       "2        NaN\n",
       "3       23.0\n",
       "4        0.0\n",
       "       ...  \n",
       "921      0.0\n",
       "922    500.0\n",
       "923      4.0\n",
       "924      7.0\n",
       "925      0.0\n",
       "Name: Full Time Volunteers, Length: 926, dtype: float64"
      ]
     },
     "execution_count": 30,
     "metadata": {},
     "output_type": "execute_result"
    }
   ],
   "source": [
    "column = Darpan_Bihar_2[\"Full Time Volunteers\"]\n",
    "column"
   ]
  },
  {
   "cell_type": "code",
   "execution_count": 31,
   "id": "plastic-chorus",
   "metadata": {},
   "outputs": [
    {
     "name": "stdout",
     "output_type": "stream",
     "text": [
      "Null Values: 262\n",
      "Min: 0\n",
      "Max: 24450\n"
     ]
    }
   ],
   "source": [
    "# Number of null values\n",
    "print(\"Null Values:\", sum(column.isnull()))\n",
    "\n",
    "# Drop null values\n",
    "cleaned = column.dropna()\n",
    "\n",
    "#Drop invalid values\n",
    "counts = cleaned.astype(int)\n",
    "\n",
    "# Range\n",
    "print(\"Min:\", min(counts))\n",
    "print(\"Max:\", max(counts))"
   ]
  },
  {
   "cell_type": "code",
   "execution_count": 32,
   "id": "human-scheme",
   "metadata": {},
   "outputs": [
    {
     "data": {
      "text/plain": [
       "count      664.000000\n",
       "mean       159.347892\n",
       "std       1289.265298\n",
       "min          0.000000\n",
       "25%          3.000000\n",
       "50%          8.000000\n",
       "75%         25.000000\n",
       "max      24450.000000\n",
       "Name: Full Time Volunteers, dtype: float64"
      ]
     },
     "execution_count": 32,
     "metadata": {},
     "output_type": "execute_result"
    }
   ],
   "source": [
    "#Statistics\n",
    "counts.describe()"
   ]
  },
  {
   "cell_type": "code",
   "execution_count": 33,
   "id": "mineral-barcelona",
   "metadata": {},
   "outputs": [
    {
     "name": "stdout",
     "output_type": "stream",
     "text": [
      "No. of unique values: 100\n",
      "Duplicates: {5.0: 63, 23.0: 2, 0.0: 80, 100.0: 10, 3.0: 34, 10.0: 43, 4.0: 32, 14.0: 3, 145.0: 2, 160.0: 2, 38.0: 2, 43.0: 2, 8.0: 19, 15.0: 21, 24.0: 4, 32.0: 4, 12.0: 14, 2.0: 45, 20.0: 28, 18.0: 6, 26.0: 2, 6.0: 22, 1.0: 31, 65.0: 3, 9.0: 4, 7.0: 17, 40.0: 10, 30.0: 13, 21.0: 4, 41.0: 3, 200.0: 3, 45.0: 3, 125.0: 4, 11.0: 3, 150.0: 5, 56.0: 2, 50.0: 11, 28.0: 2, 17.0: 3, 300.0: 2, 54.0: 2, 10000.0: 2, 49.0: 2, 80.0: 3, 34.0: 3, 25.0: 16, 13.0: 4, 95.0: 2, 115.0: 2, 27.0: 4, 22.0: 2, 35.0: 4, 33.0: 2, 250.0: 2, 70.0: 2, 500.0: 4, 37.0: 2, 86.0: 2}\n",
      "No. of duplicates: 58\n"
     ]
    }
   ],
   "source": [
    "# Check number of unique values\n",
    "print(\"No. of unique values:\", len(column.unique()))\n",
    "\n",
    "# Check for duplicates\n",
    "counter = dict(Counter(column))\n",
    "duplicates = { key:value for key, value in counter.items() if value > 1}\n",
    "print(\"Duplicates:\", duplicates)\n",
    "if len(duplicates) > 0:\n",
    "    print(\"No. of duplicates:\", len(duplicates))"
   ]
  },
  {
   "cell_type": "code",
   "execution_count": 34,
   "id": "million-anchor",
   "metadata": {},
   "outputs": [
    {
     "data": {
      "image/png": "[encoded data removed]",
      "text/plain": [
       "<Figure size 576x432 with 1 Axes>"
      ]
     },
     "metadata": {
      "needs_background": "light"
     },
     "output_type": "display_data"
    }
   ],
   "source": [
    "#Smaller values\n",
    "bins= np.linspace(0, 500, 10)\n",
    "plt.figure(figsize = (8, 6))\n",
    "plt.hist(cleaned, bins=bins, edgecolor=\"k\")\n",
    "plt.title('Amount of Full Time Volunteers at NGOs (Smaller values)')\n",
    "plt.xlabel('Amount of Full Time Volunteers')\n",
    "plt.ylabel('Number of NGOs')\n",
    "plt.xticks(bins, rotation = 90);\n",
    "\n",
    "plt.show()"
   ]
  },
  {
   "cell_type": "code",
   "execution_count": 35,
   "id": "healthy-daisy",
   "metadata": {},
   "outputs": [
    {
     "data": {
      "image/png": "[encoded data removed]",
      "text/plain": [
       "<Figure size 576x432 with 1 Axes>"
      ]
     },
     "metadata": {
      "needs_background": "light"
     },
     "output_type": "display_data"
    }
   ],
   "source": [
    "#Larger amounts of volunteers\n",
    "bins= np.linspace(500, 50000, 10)\n",
    "plt.figure(figsize = (8, 6))\n",
    "plt.hist(cleaned, bins=bins, edgecolor=\"k\")\n",
    "plt.title('Amount of Full Time Volunteers at NGOs (Larger values)')\n",
    "plt.xlabel('Amount of Full Time Volunteers')\n",
    "plt.ylabel('Number of NGOs')\n",
    "plt.xticks(bins, rotation = 90);\n",
    "\n",
    "plt.show()"
   ]
  },
  {
   "cell_type": "markdown",
   "id": "eight-copying",
   "metadata": {},
   "source": [
    "### Brief description\n",
    "<a class=\"anchor\" id=\"5.2.8\"></a>\n",
    "Description of what the NGO is."
   ]
  },
  {
   "cell_type": "code",
   "execution_count": 36,
   "id": "productive-forth",
   "metadata": {},
   "outputs": [
    {
     "data": {
      "text/plain": [
       "0      Sahaj is an organization working for skill dev...\n",
       "1      Divya Rasa is an NGO dedicated to serve autist...\n",
       "2      Sankalp Manav Vikas Sanstha is a registered or...\n",
       "3      Vocational Institutes Social,Health and Agricu...\n",
       "4      17000 ft Foundation is a Not for profit setup ...\n",
       "                             ...                        \n",
       "921    Christel House (CH) strives to transform the l...\n",
       "922    Make A Difference (MAD) is a youth driven, non...\n",
       "923    MVKS has formed 184 SHGs with strength of 2805...\n",
       "924    Since 1977, the Community Outreach Programme (...\n",
       "925    Uma Educational and Technical Society has many...\n",
       "Name: Brief description, Length: 926, dtype: object"
      ]
     },
     "execution_count": 36,
     "metadata": {},
     "output_type": "execute_result"
    }
   ],
   "source": [
    "column = Darpan_Bihar_2[\"Brief description\"]\n",
    "column"
   ]
  },
  {
   "cell_type": "code",
   "execution_count": 37,
   "id": "looking-boost",
   "metadata": {},
   "outputs": [
    {
     "name": "stdout",
     "output_type": "stream",
     "text": [
      "Null Values: 20\n",
      "No. of unique values: 903\n",
      "Duplicates: {'Established in 2003, Shrimad Rajchandra Love and Care is a holistic, multi-pronged community support and development initiative, powered by genuine empathy, love and care of highly motivated volunteers to deliver high quality, charitable sustainable initiatives for the welfare of mankind, animals and the environment. It encompasses a 10-Care programme related to mankind, animals and environment, spread over 50 cities worldwide, with over 500 volunteers devoted to this cause.': 2, 0: 3}\n",
      "No. of duplicates: 2\n"
     ]
    }
   ],
   "source": [
    "# Number of null values\n",
    "print(\"Null Values:\", sum(column.isnull()))\n",
    "column.dropna(inplace = True)\n",
    "\n",
    "# Check number of unique values\n",
    "print(\"No. of unique values:\", len(column.unique()))\n",
    "\n",
    "# Check for duplicates\n",
    "counter = dict(Counter(column))\n",
    "duplicates = { key:value for key, value in counter.items() if value > 1}\n",
    "print(\"Duplicates:\", duplicates)\n",
    "if len(duplicates) > 0:\n",
    "    print(\"No. of duplicates:\", len(duplicates))"
   ]
  },
  {
   "cell_type": "code",
   "execution_count": 38,
   "id": "incredible-croatia",
   "metadata": {
    "scrolled": true
   },
   "outputs": [
    {
     "data": {
      "text/html": [
       "<div>\n",
       "<style scoped>\n",
       "    .dataframe tbody tr th:only-of-type {\n",
       "        vertical-align: middle;\n",
       "    }\n",
       "\n",
       "    .dataframe tbody tr th {\n",
       "        vertical-align: top;\n",
       "    }\n",
       "\n",
       "    .dataframe thead th {\n",
       "        text-align: right;\n",
       "    }\n",
       "</style>\n",
       "<table border=\"1\" class=\"dataframe\">\n",
       "  <thead>\n",
       "    <tr style=\"text-align: right;\">\n",
       "      <th></th>\n",
       "      <th>Url</th>\n",
       "      <th>NGO Name</th>\n",
       "      <th>Popular Name</th>\n",
       "      <th>Year of Establishment</th>\n",
       "      <th>GuideStar URL</th>\n",
       "      <th>Full Time Staff</th>\n",
       "      <th>Full Time Volunteers</th>\n",
       "      <th>Brief description</th>\n",
       "      <th>Annual Expenditure (Rs in lacs)</th>\n",
       "      <th>Year for Annual Expenditure</th>\n",
       "      <th>...</th>\n",
       "      <th>Email</th>\n",
       "      <th>Telephone/ Mobile number</th>\n",
       "      <th>Correspondence  Address</th>\n",
       "      <th>Phone</th>\n",
       "      <th>Cause(s)</th>\n",
       "      <th>Nature of Intervention</th>\n",
       "      <th>Beneficairies</th>\n",
       "      <th>Focus</th>\n",
       "      <th>Area of Operation: State</th>\n",
       "      <th>PAN</th>\n",
       "    </tr>\n",
       "  </thead>\n",
       "  <tbody>\n",
       "    <tr>\n",
       "      <th>832</th>\n",
       "      <td>https://www.givingtuesdayindia.org/ngo-detail/...</td>\n",
       "      <td>Shrimad Rajchandra Jivadaya Trust</td>\n",
       "      <td>SRLC</td>\n",
       "      <td>2005</td>\n",
       "      <td>https://guidestarindia.org/Summary.aspx?CCReg=...</td>\n",
       "      <td>21.0</td>\n",
       "      <td>20.0</td>\n",
       "      <td>Established in 2003, Shrimad Rajchandra Love a...</td>\n",
       "      <td>383.63</td>\n",
       "      <td>FY 2017-18</td>\n",
       "      <td>...</td>\n",
       "      <td>jivadayatrust@shrimadrajchandramission.org</td>\n",
       "      <td>91-9820071576</td>\n",
       "      <td>(Patel) Bhupati Chambers, Third Floor, Plot - ...</td>\n",
       "      <td>91-9820071576, 91-22-23511352, 91-22-23516950</td>\n",
       "      <td>Animal Welfare, Environment</td>\n",
       "      <td>Advocacy &amp; Campaigning, Support, Direct service</td>\n",
       "      <td>NaN</td>\n",
       "      <td>Rural &amp; Urban</td>\n",
       "      <td>Gujarat</td>\n",
       "      <td>AAETS9993G</td>\n",
       "    </tr>\n",
       "    <tr>\n",
       "      <th>833</th>\n",
       "      <td>https://www.givingtuesdayindia.org/ngo-detail/...</td>\n",
       "      <td>Shrimad Rajchandra Sarva Mangal Trust</td>\n",
       "      <td>SRLC</td>\n",
       "      <td>2003</td>\n",
       "      <td>https://guidestarindia.org/Summary.aspx?CCReg=...</td>\n",
       "      <td>200.0</td>\n",
       "      <td>300.0</td>\n",
       "      <td>Established in 2003, Shrimad Rajchandra Love a...</td>\n",
       "      <td>2399.08</td>\n",
       "      <td>FY 2017-18</td>\n",
       "      <td>...</td>\n",
       "      <td>loveandcare@shrimadrajchandramission.org</td>\n",
       "      <td>91-9820051478</td>\n",
       "      <td>Patel Chambers, Third Floor, Plot - 13,,\\nPadm...</td>\n",
       "      <td>NaN</td>\n",
       "      <td>Healthcare</td>\n",
       "      <td>Direct service, Network, Support, Advocacy &amp; C...</td>\n",
       "      <td>Animal Lovers, Animals / Birds, Artisans, Bloo...</td>\n",
       "      <td>Rural</td>\n",
       "      <td>Gujarat</td>\n",
       "      <td>AAAAD2179A</td>\n",
       "    </tr>\n",
       "    <tr>\n",
       "      <th>860</th>\n",
       "      <td>https://www.givingtuesdayindia.org/ngo-detail/...</td>\n",
       "      <td>COMMITTEE OF RESOURCE ORGANISATIONS FOR MASS P...</td>\n",
       "      <td>CORO</td>\n",
       "      <td>1990</td>\n",
       "      <td>https://guidestarindia.org/Summary.aspx?CCReg=...</td>\n",
       "      <td>63.0</td>\n",
       "      <td>30.0</td>\n",
       "      <td>0</td>\n",
       "      <td>489.85</td>\n",
       "      <td>FY 2017-18</td>\n",
       "      <td>...</td>\n",
       "      <td>info@coroindia.org</td>\n",
       "      <td>NaN</td>\n",
       "      <td>Coro for Literacy, Next to Container Yard,\\nSu...</td>\n",
       "      <td>91-22-25295002, 91-22-25295002</td>\n",
       "      <td>Children, Women, Advocacy</td>\n",
       "      <td>Advocacy &amp; Campaigning, Network, Direct service</td>\n",
       "      <td>Urban poor, Children, Girl Child, Adolescents,...</td>\n",
       "      <td>Rural &amp; Urban</td>\n",
       "      <td>MaharashtraRajasthan</td>\n",
       "      <td>AAATC4949C</td>\n",
       "    </tr>\n",
       "    <tr>\n",
       "      <th>881</th>\n",
       "      <td>https://www.givingtuesdayindia.org/ngo-detail/...</td>\n",
       "      <td>KAILASH SATYARTHI CHILDREN'S FOUNDATION</td>\n",
       "      <td>NaN</td>\n",
       "      <td>2004</td>\n",
       "      <td>https://guidestarindia.org/Summary.aspx?CCReg=...</td>\n",
       "      <td>130.0</td>\n",
       "      <td>NaN</td>\n",
       "      <td>0</td>\n",
       "      <td>938.89</td>\n",
       "      <td>FY 2016-17</td>\n",
       "      <td>...</td>\n",
       "      <td>info@satyarthi.org</td>\n",
       "      <td>91-9205585989</td>\n",
       "      <td>23,\\nFriends Colony West    South Delhi, \\nNew...</td>\n",
       "      <td>NaN</td>\n",
       "      <td>Advocacy, Children, Women</td>\n",
       "      <td>Direct service, Support, Advocacy &amp; Campaigning</td>\n",
       "      <td>Children, Girl Child, Juvenile</td>\n",
       "      <td>Rural &amp; Urban</td>\n",
       "      <td>NaN</td>\n",
       "      <td>AAETS7517E</td>\n",
       "    </tr>\n",
       "    <tr>\n",
       "      <th>883</th>\n",
       "      <td>https://www.givingtuesdayindia.org/ngo-detail/...</td>\n",
       "      <td>KARUNYAVARSHAM CHARITABLE TRUST</td>\n",
       "      <td>NaN</td>\n",
       "      <td>2013</td>\n",
       "      <td>https://guidestarindia.org/Summary.aspx?CCReg=...</td>\n",
       "      <td>2.0</td>\n",
       "      <td>2.0</td>\n",
       "      <td>0</td>\n",
       "      <td>27.36</td>\n",
       "      <td>FY 2017-18</td>\n",
       "      <td>...</td>\n",
       "      <td>karunyavarsham@gmail.com</td>\n",
       "      <td>91-9446315690</td>\n",
       "      <td>Lisieux, Mnra134, Mavelinagar,\\nPuthanpura Cro...</td>\n",
       "      <td>NaN</td>\n",
       "      <td>Healthcare</td>\n",
       "      <td>Direct service</td>\n",
       "      <td>Disaster Affected, Elderly, Patients</td>\n",
       "      <td>Rural &amp; Urban</td>\n",
       "      <td>Kerala</td>\n",
       "      <td>AACTK3070A</td>\n",
       "    </tr>\n",
       "  </tbody>\n",
       "</table>\n",
       "<p>5 rows × 23 columns</p>\n",
       "</div>"
      ],
      "text/plain": [
       "                                                   Url  \\\n",
       "832  https://www.givingtuesdayindia.org/ngo-detail/...   \n",
       "833  https://www.givingtuesdayindia.org/ngo-detail/...   \n",
       "860  https://www.givingtuesdayindia.org/ngo-detail/...   \n",
       "881  https://www.givingtuesdayindia.org/ngo-detail/...   \n",
       "883  https://www.givingtuesdayindia.org/ngo-detail/...   \n",
       "\n",
       "                                              NGO Name Popular Name  \\\n",
       "832                  Shrimad Rajchandra Jivadaya Trust         SRLC   \n",
       "833              Shrimad Rajchandra Sarva Mangal Trust         SRLC   \n",
       "860  COMMITTEE OF RESOURCE ORGANISATIONS FOR MASS P...         CORO   \n",
       "881            KAILASH SATYARTHI CHILDREN'S FOUNDATION          NaN   \n",
       "883                    KARUNYAVARSHAM CHARITABLE TRUST          NaN   \n",
       "\n",
       "     Year of Establishment                                      GuideStar URL  \\\n",
       "832                   2005  https://guidestarindia.org/Summary.aspx?CCReg=...   \n",
       "833                   2003  https://guidestarindia.org/Summary.aspx?CCReg=...   \n",
       "860                   1990  https://guidestarindia.org/Summary.aspx?CCReg=...   \n",
       "881                   2004  https://guidestarindia.org/Summary.aspx?CCReg=...   \n",
       "883                   2013  https://guidestarindia.org/Summary.aspx?CCReg=...   \n",
       "\n",
       "     Full Time Staff  Full Time Volunteers  \\\n",
       "832             21.0                  20.0   \n",
       "833            200.0                 300.0   \n",
       "860             63.0                  30.0   \n",
       "881            130.0                   NaN   \n",
       "883              2.0                   2.0   \n",
       "\n",
       "                                     Brief description  \\\n",
       "832  Established in 2003, Shrimad Rajchandra Love a...   \n",
       "833  Established in 2003, Shrimad Rajchandra Love a...   \n",
       "860                                                  0   \n",
       "881                                                  0   \n",
       "883                                                  0   \n",
       "\n",
       "    Annual Expenditure (Rs in lacs) Year for Annual Expenditure  ...  \\\n",
       "832                          383.63                  FY 2017-18  ...   \n",
       "833                         2399.08                  FY 2017-18  ...   \n",
       "860                          489.85                  FY 2017-18  ...   \n",
       "881                          938.89                  FY 2016-17  ...   \n",
       "883                           27.36                  FY 2017-18  ...   \n",
       "\n",
       "                                          Email Telephone/ Mobile number  \\\n",
       "832  jivadayatrust@shrimadrajchandramission.org            91-9820071576   \n",
       "833    loveandcare@shrimadrajchandramission.org            91-9820051478   \n",
       "860                          info@coroindia.org                      NaN   \n",
       "881                          info@satyarthi.org            91-9205585989   \n",
       "883                    karunyavarsham@gmail.com            91-9446315690   \n",
       "\n",
       "                               Correspondence  Address  \\\n",
       "832  (Patel) Bhupati Chambers, Third Floor, Plot - ...   \n",
       "833  Patel Chambers, Third Floor, Plot - 13,,\\nPadm...   \n",
       "860  Coro for Literacy, Next to Container Yard,\\nSu...   \n",
       "881  23,\\nFriends Colony West    South Delhi, \\nNew...   \n",
       "883  Lisieux, Mnra134, Mavelinagar,\\nPuthanpura Cro...   \n",
       "\n",
       "                                             Phone  \\\n",
       "832  91-9820071576, 91-22-23511352, 91-22-23516950   \n",
       "833                                            NaN   \n",
       "860                 91-22-25295002, 91-22-25295002   \n",
       "881                                            NaN   \n",
       "883                                            NaN   \n",
       "\n",
       "                        Cause(s)  \\\n",
       "832  Animal Welfare, Environment   \n",
       "833                   Healthcare   \n",
       "860    Children, Women, Advocacy   \n",
       "881    Advocacy, Children, Women   \n",
       "883                   Healthcare   \n",
       "\n",
       "                                Nature of Intervention  \\\n",
       "832    Advocacy & Campaigning, Support, Direct service   \n",
       "833  Direct service, Network, Support, Advocacy & C...   \n",
       "860    Advocacy & Campaigning, Network, Direct service   \n",
       "881    Direct service, Support, Advocacy & Campaigning   \n",
       "883                                     Direct service   \n",
       "\n",
       "                                         Beneficairies          Focus  \\\n",
       "832                                                NaN  Rural & Urban   \n",
       "833  Animal Lovers, Animals / Birds, Artisans, Bloo...          Rural   \n",
       "860  Urban poor, Children, Girl Child, Adolescents,...  Rural & Urban   \n",
       "881                     Children, Girl Child, Juvenile  Rural & Urban   \n",
       "883               Disaster Affected, Elderly, Patients  Rural & Urban   \n",
       "\n",
       "    Area of Operation: State         PAN  \n",
       "832                  Gujarat  AAETS9993G  \n",
       "833                  Gujarat  AAAAD2179A  \n",
       "860     MaharashtraRajasthan  AAATC4949C  \n",
       "881                      NaN  AAETS7517E  \n",
       "883                   Kerala  AACTK3070A  \n",
       "\n",
       "[5 rows x 23 columns]"
      ]
     },
     "execution_count": 38,
     "metadata": {},
     "output_type": "execute_result"
    }
   ],
   "source": [
    "Darpan_Bihar_2[Darpan_Bihar_2[\"Brief description\"].isin(duplicates)]"
   ]
  },
  {
   "cell_type": "markdown",
   "id": "peripheral-whole",
   "metadata": {},
   "source": [
    "Duplicates in ```Brief description``` do not mean duplicates in NGOs. The two NGOs with the same description are branches of the same NGO, but are not the same."
   ]
  },
  {
   "cell_type": "code",
   "execution_count": 39,
   "id": "headed-independence",
   "metadata": {},
   "outputs": [
    {
     "data": {
      "text/html": [
       "<div>\n",
       "<style scoped>\n",
       "    .dataframe tbody tr th:only-of-type {\n",
       "        vertical-align: middle;\n",
       "    }\n",
       "\n",
       "    .dataframe tbody tr th {\n",
       "        vertical-align: top;\n",
       "    }\n",
       "\n",
       "    .dataframe thead th {\n",
       "        text-align: right;\n",
       "    }\n",
       "</style>\n",
       "<table border=\"1\" class=\"dataframe\">\n",
       "  <thead>\n",
       "    <tr style=\"text-align: right;\">\n",
       "      <th></th>\n",
       "      <th>NGO Name</th>\n",
       "      <th>Brief description</th>\n",
       "    </tr>\n",
       "  </thead>\n",
       "  <tbody>\n",
       "    <tr>\n",
       "      <th>0</th>\n",
       "      <td>`Sahaj' (An Organisation for Women's Development)</td>\n",
       "      <td>Sahaj is an organization working for skill dev...</td>\n",
       "    </tr>\n",
       "    <tr>\n",
       "      <th>1</th>\n",
       "      <td>\"DIVYA RASA\" (Centre for Healing, Learning, Re...</td>\n",
       "      <td>Divya Rasa is an NGO dedicated to serve autist...</td>\n",
       "    </tr>\n",
       "    <tr>\n",
       "      <th>2</th>\n",
       "      <td>\"Sankalp\" Manav Vikas Sanstha</td>\n",
       "      <td>Sankalp Manav Vikas Sanstha is a registered or...</td>\n",
       "    </tr>\n",
       "    <tr>\n",
       "      <th>3</th>\n",
       "      <td>\"VISHA\" VOCATIONAL INSTITUTES SOCIAL,HEALTH AN...</td>\n",
       "      <td>Vocational Institutes Social,Health and Agricu...</td>\n",
       "    </tr>\n",
       "    <tr>\n",
       "      <th>4</th>\n",
       "      <td>17000 ft Foundation</td>\n",
       "      <td>17000 ft Foundation is a Not for profit setup ...</td>\n",
       "    </tr>\n",
       "  </tbody>\n",
       "</table>\n",
       "</div>"
      ],
      "text/plain": [
       "                                            NGO Name  \\\n",
       "0  `Sahaj' (An Organisation for Women's Development)   \n",
       "1  \"DIVYA RASA\" (Centre for Healing, Learning, Re...   \n",
       "2                      \"Sankalp\" Manav Vikas Sanstha   \n",
       "3  \"VISHA\" VOCATIONAL INSTITUTES SOCIAL,HEALTH AN...   \n",
       "4                                17000 ft Foundation   \n",
       "\n",
       "                                   Brief description  \n",
       "0  Sahaj is an organization working for skill dev...  \n",
       "1  Divya Rasa is an NGO dedicated to serve autist...  \n",
       "2  Sankalp Manav Vikas Sanstha is a registered or...  \n",
       "3  Vocational Institutes Social,Health and Agricu...  \n",
       "4  17000 ft Foundation is a Not for profit setup ...  "
      ]
     },
     "execution_count": 39,
     "metadata": {},
     "output_type": "execute_result"
    }
   ],
   "source": [
    "descriptons = Darpan_Bihar_2[Darpan_Bihar_2[\"Brief description\"] != 0 ][['NGO Name', 'Brief description']].reset_index(drop = True)\n",
    "descriptons.head()"
   ]
  },
  {
   "cell_type": "markdown",
   "id": "oriented-latino",
   "metadata": {},
   "source": [
    "### Annual Expenditure (Rs in lacs)\n",
    "<a class=\"anchor\" id=\"5.2.9\"></a>\n",
    "How much money is spent annually (In Rs in lacs)."
   ]
  },
  {
   "cell_type": "code",
   "execution_count": 40,
   "id": "italian-elite",
   "metadata": {},
   "outputs": [
    {
     "data": {
      "text/plain": [
       "0          NaN\n",
       "1          NaN\n",
       "2          NaN\n",
       "3          NaN\n",
       "4          NaN\n",
       "        ...   \n",
       "921    1653.05\n",
       "922     485.63\n",
       "923      22.09\n",
       "924     298.67\n",
       "925     250.98\n",
       "Name: Annual Expenditure (Rs in lacs), Length: 926, dtype: object"
      ]
     },
     "execution_count": 40,
     "metadata": {},
     "output_type": "execute_result"
    }
   ],
   "source": [
    "column = Darpan_Bihar_2[\"Annual Expenditure (Rs in lacs)\"]\n",
    "column"
   ]
  },
  {
   "cell_type": "code",
   "execution_count": 41,
   "id": "modified-strap",
   "metadata": {},
   "outputs": [
    {
     "name": "stdout",
     "output_type": "stream",
     "text": [
      "No. of unique values: 162\n",
      "Duplicates: {nan: 762, 8: 2, 600000: 2, 300000: 2}\n",
      "No. of duplicates: 4\n",
      "Null: 762\n"
     ]
    }
   ],
   "source": [
    "# Check number of unique values\n",
    "print(\"No. of unique values:\", len(column.unique()))\n",
    "\n",
    "# Check for duplicates\n",
    "counter = dict(Counter(column))\n",
    "duplicates = { key:value for key, value in counter.items() if value > 1}\n",
    "print(\"Duplicates:\", duplicates)\n",
    "if len(duplicates) > 0:\n",
    "    print(\"No. of duplicates:\", len(duplicates))\n",
    "\n",
    "# Check for null values\n",
    "print(\"Null:\", sum(column.isnull()))"
   ]
  },
  {
   "cell_type": "markdown",
   "id": "institutional-chamber",
   "metadata": {},
   "source": [
    "### Year for Annual Expenditure\n",
    "<a class=\"anchor\" id=\"5.2.10\"></a>\n",
    "The year that the amount in the previous column was spent."
   ]
  },
  {
   "cell_type": "code",
   "execution_count": 42,
   "id": "amber-rhythm",
   "metadata": {},
   "outputs": [
    {
     "data": {
      "text/plain": [
       "0             NaN\n",
       "1             NaN\n",
       "2             NaN\n",
       "3             NaN\n",
       "4      FY 2018-19\n",
       "          ...    \n",
       "921    FY 2017-18\n",
       "922    FY 2016-17\n",
       "923    FY 2017-18\n",
       "924    FY 2016-17\n",
       "925    FY 2017-18\n",
       "Name: Year for Annual Expenditure, Length: 926, dtype: object"
      ]
     },
     "execution_count": 42,
     "metadata": {},
     "output_type": "execute_result"
    }
   ],
   "source": [
    "column = Darpan_Bihar_2[\"Year for Annual Expenditure\"]\n",
    "column"
   ]
  },
  {
   "cell_type": "code",
   "execution_count": 43,
   "id": "distinguished-model",
   "metadata": {},
   "outputs": [
    {
     "name": "stdout",
     "output_type": "stream",
     "text": [
      "No. of unique values: 5\n",
      "Duplicates: {nan: 748, 'FY 2018-19': 49, 'FY 2019-20': 14, 'FY 2017-18': 94, 'FY 2016-17': 21}\n",
      "No. of duplicates: 5\n",
      "Null: 748\n"
     ]
    }
   ],
   "source": [
    "# Check number of unique values\n",
    "print(\"No. of unique values:\", len(column.unique()))\n",
    "\n",
    "# Check for duplicates\n",
    "counter = dict(Counter(column))\n",
    "duplicates = { key:value for key, value in counter.items() if value > 1}\n",
    "print(\"Duplicates:\", duplicates)\n",
    "if len(duplicates) > 0:\n",
    "    print(\"No. of duplicates:\", len(duplicates))\n",
    "\n",
    "# Check for null values\n",
    "print(\"Null:\", sum(column.isnull()))"
   ]
  },
  {
   "cell_type": "markdown",
   "id": "pacific-updating",
   "metadata": {},
   "source": [
    "### Impact\n",
    "<a class=\"anchor\" id=\"5.2.11\"></a>\n",
    "What the NGO has been able to accomplish so far."
   ]
  },
  {
   "cell_type": "code",
   "execution_count": 44,
   "id": "single-gamma",
   "metadata": {},
   "outputs": [
    {
     "data": {
      "text/plain": [
       "0      The Strategic review and plan was done in year...\n",
       "1      Financially steady zero-balance after operatio...\n",
       "2                                                    NaN\n",
       "3                                                    NaN\n",
       "4      980 SCHOOLS GEO-MAPPED\\nAll the 960 schools of...\n",
       "                             ...                        \n",
       "921    Christel House (CH) strives to transform the l...\n",
       "922    The Organisation has mobilised 21,500 young le...\n",
       "923    6,000 Industrial covered the HIV/ AIDS Awarene...\n",
       "924    In the year 2016-2017\\nNumber of persons train...\n",
       "925    1. Special Schools for Intellectual Disabled C...\n",
       "Name: Impact, Length: 926, dtype: object"
      ]
     },
     "execution_count": 44,
     "metadata": {},
     "output_type": "execute_result"
    }
   ],
   "source": [
    "column = Darpan_Bihar_2[\"Impact\"]\n",
    "column"
   ]
  },
  {
   "cell_type": "code",
   "execution_count": 45,
   "id": "growing-despite",
   "metadata": {},
   "outputs": [
    {
     "name": "stdout",
     "output_type": "stream",
     "text": [
      "No. of unique values: 467\n",
      "Duplicates: {nan: 460}\n",
      "No. of duplicates: 1\n",
      "Null: 460\n"
     ]
    }
   ],
   "source": [
    "# Check number of unique values\n",
    "print(\"No. of unique values:\", len(column.unique()))\n",
    "\n",
    "# Check for duplicates\n",
    "counter = dict(Counter(column))\n",
    "duplicates = { key:value for key, value in counter.items() if value > 1}\n",
    "print(\"Duplicates:\", duplicates)\n",
    "if len(duplicates) > 0:\n",
    "    print(\"No. of duplicates:\", len(duplicates))\n",
    "\n",
    "# Check for null values\n",
    "print(\"Null:\", sum(column.isnull()))"
   ]
  },
  {
   "cell_type": "code",
   "execution_count": 46,
   "id": "hazardous-magazine",
   "metadata": {},
   "outputs": [
    {
     "data": {
      "text/html": [
       "<div>\n",
       "<style scoped>\n",
       "    .dataframe tbody tr th:only-of-type {\n",
       "        vertical-align: middle;\n",
       "    }\n",
       "\n",
       "    .dataframe tbody tr th {\n",
       "        vertical-align: top;\n",
       "    }\n",
       "\n",
       "    .dataframe thead th {\n",
       "        text-align: right;\n",
       "    }\n",
       "</style>\n",
       "<table border=\"1\" class=\"dataframe\">\n",
       "  <thead>\n",
       "    <tr style=\"text-align: right;\">\n",
       "      <th></th>\n",
       "      <th>NGO Name</th>\n",
       "      <th>Impact</th>\n",
       "    </tr>\n",
       "  </thead>\n",
       "  <tbody>\n",
       "    <tr>\n",
       "      <th>0</th>\n",
       "      <td>`Sahaj' (An Organisation for Women's Development)</td>\n",
       "      <td>The Strategic review and plan was done in year...</td>\n",
       "    </tr>\n",
       "    <tr>\n",
       "      <th>1</th>\n",
       "      <td>\"DIVYA RASA\" (Centre for Healing, Learning, Re...</td>\n",
       "      <td>Financially steady zero-balance after operatio...</td>\n",
       "    </tr>\n",
       "    <tr>\n",
       "      <th>2</th>\n",
       "      <td>17000 ft Foundation</td>\n",
       "      <td>980 SCHOOLS GEO-MAPPED\\nAll the 960 schools of...</td>\n",
       "    </tr>\n",
       "    <tr>\n",
       "      <th>3</th>\n",
       "      <td>aaina</td>\n",
       "      <td>1. Aaina received a grant award from U.S. Cons...</td>\n",
       "    </tr>\n",
       "    <tr>\n",
       "      <th>4</th>\n",
       "      <td>AASHALATA VICTORIA WILKINSON MEMORIAL CHARITAB...</td>\n",
       "      <td>1. Expansion of School Building.\\n2. Number of...</td>\n",
       "    </tr>\n",
       "  </tbody>\n",
       "</table>\n",
       "</div>"
      ],
      "text/plain": [
       "                                            NGO Name  \\\n",
       "0  `Sahaj' (An Organisation for Women's Development)   \n",
       "1  \"DIVYA RASA\" (Centre for Healing, Learning, Re...   \n",
       "2                                17000 ft Foundation   \n",
       "3                                              aaina   \n",
       "4  AASHALATA VICTORIA WILKINSON MEMORIAL CHARITAB...   \n",
       "\n",
       "                                              Impact  \n",
       "0  The Strategic review and plan was done in year...  \n",
       "1  Financially steady zero-balance after operatio...  \n",
       "2  980 SCHOOLS GEO-MAPPED\\nAll the 960 schools of...  \n",
       "3  1. Aaina received a grant award from U.S. Cons...  \n",
       "4  1. Expansion of School Building.\\n2. Number of...  "
      ]
     },
     "execution_count": 46,
     "metadata": {},
     "output_type": "execute_result"
    }
   ],
   "source": [
    "impacts = Darpan_Bihar_2[['NGO Name', 'Impact']].dropna().reset_index(drop = True)\n",
    "impacts.head()"
   ]
  },
  {
   "cell_type": "markdown",
   "id": "reverse-mambo",
   "metadata": {},
   "source": [
    "### Profile pic\n",
    "<a class=\"anchor\" id=\"5.2.12\"></a>\n",
    "Link to a profile photo of the NGO."
   ]
  },
  {
   "cell_type": "code",
   "execution_count": 47,
   "id": "unauthorized-custom",
   "metadata": {},
   "outputs": [
    {
     "data": {
      "text/plain": [
       "0      https://www.givingtuesdayindia.org/civicrm/fil...\n",
       "1                                                    NaN\n",
       "2                                                    NaN\n",
       "3                                                    NaN\n",
       "4      https://www.givingtuesdayindia.org/civicrm/fil...\n",
       "                             ...                        \n",
       "921    https://www.givingtuesdayindia.org/civicrm/fil...\n",
       "922                                                  NaN\n",
       "923                                                  NaN\n",
       "924                                                  NaN\n",
       "925                                                  NaN\n",
       "Name: Profile pic, Length: 926, dtype: object"
      ]
     },
     "execution_count": 47,
     "metadata": {},
     "output_type": "execute_result"
    }
   ],
   "source": [
    "column = Darpan_Bihar_2[\"Profile pic\"]\n",
    "column"
   ]
  },
  {
   "cell_type": "code",
   "execution_count": 48,
   "id": "german-projection",
   "metadata": {},
   "outputs": [
    {
     "name": "stdout",
     "output_type": "stream",
     "text": [
      "No. of unique values: 187\n",
      "Duplicates: {nan: 740}\n",
      "No. of duplicates: 1\n",
      "Null: 740\n"
     ]
    }
   ],
   "source": [
    "# Check number of unique values\n",
    "print(\"No. of unique values:\", len(column.unique()))\n",
    "\n",
    "# Check for duplicates\n",
    "counter = dict(Counter(column))\n",
    "duplicates = { key:value for key, value in counter.items() if value > 1}\n",
    "print(\"Duplicates:\", duplicates)\n",
    "if len(duplicates) > 0:\n",
    "    print(\"No. of duplicates:\", len(duplicates))\n",
    "\n",
    "# Check for null values\n",
    "print(\"Null:\", sum(column.isnull()))"
   ]
  },
  {
   "cell_type": "markdown",
   "id": "beneficial-pharmaceutical",
   "metadata": {},
   "source": [
    "### Organisation Website\n",
    "<a class=\"anchor\" id=\"5.2.13\"></a>\n",
    "NGO website."
   ]
  },
  {
   "cell_type": "code",
   "execution_count": 49,
   "id": "psychological-ukraine",
   "metadata": {},
   "outputs": [
    {
     "data": {
      "text/plain": [
       "0             http://www.sahajindia.org\n",
       "1              http://www.divyarasa.org\n",
       "2                                   NaN\n",
       "3                                   NaN\n",
       "4                http://www.17000ft.org\n",
       "                     ...               \n",
       "921     http://www.in.christelhouse.org\n",
       "922             http://www.makeadiff.in\n",
       "923            http://www.mvksindia.org\n",
       "924    https://http://www.corpindia.org\n",
       "925            http://www.uetsindia.org\n",
       "Name: Organisation Website, Length: 926, dtype: object"
      ]
     },
     "execution_count": 49,
     "metadata": {},
     "output_type": "execute_result"
    }
   ],
   "source": [
    "column = Darpan_Bihar_2[\"Organisation Website\"]\n",
    "column"
   ]
  },
  {
   "cell_type": "code",
   "execution_count": 50,
   "id": "cooperative-miniature",
   "metadata": {},
   "outputs": [
    {
     "name": "stdout",
     "output_type": "stream",
     "text": [
      "No. of unique values: 794\n",
      "Null: 131\n",
      "Duplicates: {'http://www.unnatiblr.org': 2, 'http://www.srloveandcare.org/': 2}\n",
      "No. of duplicates: 2\n"
     ]
    }
   ],
   "source": [
    "# Check number of unique values\n",
    "print(\"No. of unique values:\", len(column.unique()))\n",
    "\n",
    "# Check for null values\n",
    "print(\"Null:\", sum(column.isnull()))\n",
    "column.dropna(inplace = True)\n",
    "\n",
    "# Check for duplicates\n",
    "counter = dict(Counter(column))\n",
    "duplicates = { key:value for key, value in counter.items() if value > 1}\n",
    "print(\"Duplicates:\", duplicates)\n",
    "if len(duplicates) > 0:\n",
    "    print(\"No. of duplicates:\", len(duplicates))"
   ]
  },
  {
   "cell_type": "code",
   "execution_count": 51,
   "id": "genetic-elite",
   "metadata": {},
   "outputs": [
    {
     "data": {
      "text/html": [
       "<div>\n",
       "<style scoped>\n",
       "    .dataframe tbody tr th:only-of-type {\n",
       "        vertical-align: middle;\n",
       "    }\n",
       "\n",
       "    .dataframe tbody tr th {\n",
       "        vertical-align: top;\n",
       "    }\n",
       "\n",
       "    .dataframe thead th {\n",
       "        text-align: right;\n",
       "    }\n",
       "</style>\n",
       "<table border=\"1\" class=\"dataframe\">\n",
       "  <thead>\n",
       "    <tr style=\"text-align: right;\">\n",
       "      <th></th>\n",
       "      <th>Url</th>\n",
       "      <th>NGO Name</th>\n",
       "      <th>Popular Name</th>\n",
       "      <th>Year of Establishment</th>\n",
       "      <th>GuideStar URL</th>\n",
       "      <th>Full Time Staff</th>\n",
       "      <th>Full Time Volunteers</th>\n",
       "      <th>Brief description</th>\n",
       "      <th>Annual Expenditure (Rs in lacs)</th>\n",
       "      <th>Year for Annual Expenditure</th>\n",
       "      <th>...</th>\n",
       "      <th>Email</th>\n",
       "      <th>Telephone/ Mobile number</th>\n",
       "      <th>Correspondence  Address</th>\n",
       "      <th>Phone</th>\n",
       "      <th>Cause(s)</th>\n",
       "      <th>Nature of Intervention</th>\n",
       "      <th>Beneficairies</th>\n",
       "      <th>Focus</th>\n",
       "      <th>Area of Operation: State</th>\n",
       "      <th>PAN</th>\n",
       "    </tr>\n",
       "  </thead>\n",
       "  <tbody>\n",
       "    <tr>\n",
       "      <th>832</th>\n",
       "      <td>https://www.givingtuesdayindia.org/ngo-detail/...</td>\n",
       "      <td>Shrimad Rajchandra Jivadaya Trust</td>\n",
       "      <td>SRLC</td>\n",
       "      <td>2005</td>\n",
       "      <td>https://guidestarindia.org/Summary.aspx?CCReg=...</td>\n",
       "      <td>21.0</td>\n",
       "      <td>20.0</td>\n",
       "      <td>Established in 2003, Shrimad Rajchandra Love a...</td>\n",
       "      <td>383.63</td>\n",
       "      <td>FY 2017-18</td>\n",
       "      <td>...</td>\n",
       "      <td>jivadayatrust@shrimadrajchandramission.org</td>\n",
       "      <td>91-9820071576</td>\n",
       "      <td>(Patel) Bhupati Chambers, Third Floor, Plot - ...</td>\n",
       "      <td>91-9820071576, 91-22-23511352, 91-22-23516950</td>\n",
       "      <td>Animal Welfare, Environment</td>\n",
       "      <td>Advocacy &amp; Campaigning, Support, Direct service</td>\n",
       "      <td>NaN</td>\n",
       "      <td>Rural &amp; Urban</td>\n",
       "      <td>Gujarat</td>\n",
       "      <td>AAETS9993G</td>\n",
       "    </tr>\n",
       "    <tr>\n",
       "      <th>833</th>\n",
       "      <td>https://www.givingtuesdayindia.org/ngo-detail/...</td>\n",
       "      <td>Shrimad Rajchandra Sarva Mangal Trust</td>\n",
       "      <td>SRLC</td>\n",
       "      <td>2003</td>\n",
       "      <td>https://guidestarindia.org/Summary.aspx?CCReg=...</td>\n",
       "      <td>200.0</td>\n",
       "      <td>300.0</td>\n",
       "      <td>Established in 2003, Shrimad Rajchandra Love a...</td>\n",
       "      <td>2399.08</td>\n",
       "      <td>FY 2017-18</td>\n",
       "      <td>...</td>\n",
       "      <td>loveandcare@shrimadrajchandramission.org</td>\n",
       "      <td>91-9820051478</td>\n",
       "      <td>Patel Chambers, Third Floor, Plot - 13,,\\nPadm...</td>\n",
       "      <td>NaN</td>\n",
       "      <td>Healthcare</td>\n",
       "      <td>Direct service, Network, Support, Advocacy &amp; C...</td>\n",
       "      <td>Animal Lovers, Animals / Birds, Artisans, Bloo...</td>\n",
       "      <td>Rural</td>\n",
       "      <td>Gujarat</td>\n",
       "      <td>AAAAD2179A</td>\n",
       "    </tr>\n",
       "    <tr>\n",
       "      <th>629</th>\n",
       "      <td>https://www.givingtuesdayindia.org/ngo-detail/...</td>\n",
       "      <td>Shree Guruvayurappan Bhajan Samaj Trust</td>\n",
       "      <td>SGBS Trust</td>\n",
       "      <td>1993</td>\n",
       "      <td>https://guidestarindia.org/Summary.aspx?CCReg=...</td>\n",
       "      <td>10.0</td>\n",
       "      <td>30.0</td>\n",
       "      <td>Unemployment ‚ÄövÑv?‚àövë‚àö¬® it is believed ...</td>\n",
       "      <td>NaN</td>\n",
       "      <td>NaN</td>\n",
       "      <td>...</td>\n",
       "      <td>contactus@unnatiblr.org</td>\n",
       "      <td>91-9844085864</td>\n",
       "      <td>NaN</td>\n",
       "      <td>NaN</td>\n",
       "      <td>Livelihoods, Youth</td>\n",
       "      <td>Direct service</td>\n",
       "      <td>Students, Youth</td>\n",
       "      <td>Rural &amp; Urban</td>\n",
       "      <td>Tamil Nadu</td>\n",
       "      <td>AADTS9185M</td>\n",
       "    </tr>\n",
       "    <tr>\n",
       "      <th>902</th>\n",
       "      <td>https://www.givingtuesdayindia.org/ngo-detail/...</td>\n",
       "      <td>SGBS Unnati Foundation</td>\n",
       "      <td>NaN</td>\n",
       "      <td>2011</td>\n",
       "      <td>https://guidestarindia.org/Summary.aspx?CCReg=...</td>\n",
       "      <td>150.0</td>\n",
       "      <td>0.0</td>\n",
       "      <td>SGBS cherishes its simple yet fulfilling visio...</td>\n",
       "      <td>436.37</td>\n",
       "      <td>FY 2017-18</td>\n",
       "      <td>...</td>\n",
       "      <td>rameshswamy@unnatiblr.org</td>\n",
       "      <td>91-9844085864</td>\n",
       "      <td>#, Ganesha Temple Road,,\\nNGEF Layout, Sadanan...</td>\n",
       "      <td>NaN</td>\n",
       "      <td>Livelihoods</td>\n",
       "      <td>Support, Network, Direct service</td>\n",
       "      <td>Urban poor, Physically Challenged, Homeless, O...</td>\n",
       "      <td>Rural &amp; Urban</td>\n",
       "      <td>GujaratKarnatakaMadhya PradeshMaharashtraRajas...</td>\n",
       "      <td>AAQCS5858M</td>\n",
       "    </tr>\n",
       "  </tbody>\n",
       "</table>\n",
       "<p>4 rows × 23 columns</p>\n",
       "</div>"
      ],
      "text/plain": [
       "                                                   Url  \\\n",
       "832  https://www.givingtuesdayindia.org/ngo-detail/...   \n",
       "833  https://www.givingtuesdayindia.org/ngo-detail/...   \n",
       "629  https://www.givingtuesdayindia.org/ngo-detail/...   \n",
       "902  https://www.givingtuesdayindia.org/ngo-detail/...   \n",
       "\n",
       "                                    NGO Name Popular Name  \\\n",
       "832        Shrimad Rajchandra Jivadaya Trust         SRLC   \n",
       "833    Shrimad Rajchandra Sarva Mangal Trust         SRLC   \n",
       "629  Shree Guruvayurappan Bhajan Samaj Trust   SGBS Trust   \n",
       "902                   SGBS Unnati Foundation          NaN   \n",
       "\n",
       "     Year of Establishment                                      GuideStar URL  \\\n",
       "832                   2005  https://guidestarindia.org/Summary.aspx?CCReg=...   \n",
       "833                   2003  https://guidestarindia.org/Summary.aspx?CCReg=...   \n",
       "629                   1993  https://guidestarindia.org/Summary.aspx?CCReg=...   \n",
       "902                   2011  https://guidestarindia.org/Summary.aspx?CCReg=...   \n",
       "\n",
       "     Full Time Staff  Full Time Volunteers  \\\n",
       "832             21.0                  20.0   \n",
       "833            200.0                 300.0   \n",
       "629             10.0                  30.0   \n",
       "902            150.0                   0.0   \n",
       "\n",
       "                                     Brief description  \\\n",
       "832  Established in 2003, Shrimad Rajchandra Love a...   \n",
       "833  Established in 2003, Shrimad Rajchandra Love a...   \n",
       "629  Unemployment ‚ÄövÑv?‚àövë‚àö¬® it is believed ...   \n",
       "902  SGBS cherishes its simple yet fulfilling visio...   \n",
       "\n",
       "    Annual Expenditure (Rs in lacs) Year for Annual Expenditure  ...  \\\n",
       "832                          383.63                  FY 2017-18  ...   \n",
       "833                         2399.08                  FY 2017-18  ...   \n",
       "629                             NaN                         NaN  ...   \n",
       "902                          436.37                  FY 2017-18  ...   \n",
       "\n",
       "                                          Email Telephone/ Mobile number  \\\n",
       "832  jivadayatrust@shrimadrajchandramission.org            91-9820071576   \n",
       "833    loveandcare@shrimadrajchandramission.org            91-9820051478   \n",
       "629                     contactus@unnatiblr.org            91-9844085864   \n",
       "902                   rameshswamy@unnatiblr.org            91-9844085864   \n",
       "\n",
       "                               Correspondence  Address  \\\n",
       "832  (Patel) Bhupati Chambers, Third Floor, Plot - ...   \n",
       "833  Patel Chambers, Third Floor, Plot - 13,,\\nPadm...   \n",
       "629                                                NaN   \n",
       "902  #, Ganesha Temple Road,,\\nNGEF Layout, Sadanan...   \n",
       "\n",
       "                                             Phone  \\\n",
       "832  91-9820071576, 91-22-23511352, 91-22-23516950   \n",
       "833                                            NaN   \n",
       "629                                            NaN   \n",
       "902                                            NaN   \n",
       "\n",
       "                        Cause(s)  \\\n",
       "832  Animal Welfare, Environment   \n",
       "833                   Healthcare   \n",
       "629           Livelihoods, Youth   \n",
       "902                  Livelihoods   \n",
       "\n",
       "                                Nature of Intervention  \\\n",
       "832    Advocacy & Campaigning, Support, Direct service   \n",
       "833  Direct service, Network, Support, Advocacy & C...   \n",
       "629                                     Direct service   \n",
       "902                   Support, Network, Direct service   \n",
       "\n",
       "                                         Beneficairies          Focus  \\\n",
       "832                                                NaN  Rural & Urban   \n",
       "833  Animal Lovers, Animals / Birds, Artisans, Bloo...          Rural   \n",
       "629                                    Students, Youth  Rural & Urban   \n",
       "902  Urban poor, Physically Challenged, Homeless, O...  Rural & Urban   \n",
       "\n",
       "                              Area of Operation: State         PAN  \n",
       "832                                            Gujarat  AAETS9993G  \n",
       "833                                            Gujarat  AAAAD2179A  \n",
       "629                                         Tamil Nadu  AADTS9185M  \n",
       "902  GujaratKarnatakaMadhya PradeshMaharashtraRajas...  AAQCS5858M  \n",
       "\n",
       "[4 rows x 23 columns]"
      ]
     },
     "execution_count": 51,
     "metadata": {},
     "output_type": "execute_result"
    }
   ],
   "source": [
    "Darpan_Bihar_2[Darpan_Bihar_2[\"Organisation Website\"].isin(duplicates)].sort_values('Organisation Website')"
   ]
  },
  {
   "cell_type": "markdown",
   "id": "golden-frank",
   "metadata": {},
   "source": [
    "Duplicates in ```Organisation Website``` are branches of the same company, yet not the exact same NGO."
   ]
  },
  {
   "cell_type": "markdown",
   "id": "minor-voluntary",
   "metadata": {},
   "source": [
    "### Email\n",
    "<a class=\"anchor\" id=\"5.2.14\"></a>\n",
    "Email address."
   ]
  },
  {
   "cell_type": "code",
   "execution_count": 52,
   "id": "presidential-olive",
   "metadata": {},
   "outputs": [
    {
     "data": {
      "text/plain": [
       "0               admnsahaj@outlook.com\n",
       "1          divyarasa555@divyarasa.org\n",
       "2           sudhakarsankalp@gmail.com\n",
       "3                  kptvisha@gmail.com\n",
       "4                reach.us@17000ft.org\n",
       "                    ...              \n",
       "921    jmathew@christelhouseindia.org\n",
       "922              contact@makeadiff.in\n",
       "923                 mvks_sri@yahoo.in\n",
       "924                info@corpindia.org\n",
       "925                uets1988@gmail.com\n",
       "Name: Email, Length: 926, dtype: object"
      ]
     },
     "execution_count": 52,
     "metadata": {},
     "output_type": "execute_result"
    }
   ],
   "source": [
    "column = Darpan_Bihar_2[\"Email\"]\n",
    "column"
   ]
  },
  {
   "cell_type": "code",
   "execution_count": 53,
   "id": "complimentary-norfolk",
   "metadata": {},
   "outputs": [
    {
     "name": "stdout",
     "output_type": "stream",
     "text": [
      "No. of unique values: 924\n",
      "Null: 1\n",
      "Duplicates: {'socjust@gmail.com': 2, 'loveandcare@shrimadrajchandramission.org': 2}\n",
      "No. of duplicates: 2\n"
     ]
    }
   ],
   "source": [
    "# Check number of unique values\n",
    "print(\"No. of unique values:\", len(column.unique()))\n",
    "\n",
    "# Check for null values\n",
    "print(\"Null:\", sum(column.isnull()))\n",
    "column.dropna(inplace = True)\n",
    "\n",
    "# Check for duplicates\n",
    "counter = dict(Counter(column))\n",
    "duplicates = { key:value for key, value in counter.items() if value > 1}\n",
    "print(\"Duplicates:\", duplicates)\n",
    "if len(duplicates) > 0:\n",
    "    print(\"No. of duplicates:\", len(duplicates))"
   ]
  },
  {
   "cell_type": "code",
   "execution_count": 54,
   "id": "mathematical-manitoba",
   "metadata": {},
   "outputs": [
    {
     "data": {
      "text/html": [
       "<div>\n",
       "<style scoped>\n",
       "    .dataframe tbody tr th:only-of-type {\n",
       "        vertical-align: middle;\n",
       "    }\n",
       "\n",
       "    .dataframe tbody tr th {\n",
       "        vertical-align: top;\n",
       "    }\n",
       "\n",
       "    .dataframe thead th {\n",
       "        text-align: right;\n",
       "    }\n",
       "</style>\n",
       "<table border=\"1\" class=\"dataframe\">\n",
       "  <thead>\n",
       "    <tr style=\"text-align: right;\">\n",
       "      <th></th>\n",
       "      <th>Url</th>\n",
       "      <th>NGO Name</th>\n",
       "      <th>Popular Name</th>\n",
       "      <th>Year of Establishment</th>\n",
       "      <th>GuideStar URL</th>\n",
       "      <th>Full Time Staff</th>\n",
       "      <th>Full Time Volunteers</th>\n",
       "      <th>Brief description</th>\n",
       "      <th>Annual Expenditure (Rs in lacs)</th>\n",
       "      <th>Year for Annual Expenditure</th>\n",
       "      <th>...</th>\n",
       "      <th>Email</th>\n",
       "      <th>Telephone/ Mobile number</th>\n",
       "      <th>Correspondence  Address</th>\n",
       "      <th>Phone</th>\n",
       "      <th>Cause(s)</th>\n",
       "      <th>Nature of Intervention</th>\n",
       "      <th>Beneficairies</th>\n",
       "      <th>Focus</th>\n",
       "      <th>Area of Operation: State</th>\n",
       "      <th>PAN</th>\n",
       "    </tr>\n",
       "  </thead>\n",
       "  <tbody>\n",
       "    <tr>\n",
       "      <th>831</th>\n",
       "      <td>https://www.givingtuesdayindia.org/ngo-detail/...</td>\n",
       "      <td>Shrimad Rajchandra Educational Trust</td>\n",
       "      <td>SRLC</td>\n",
       "      <td>2004</td>\n",
       "      <td>https://guidestarindia.org/Summary.aspx?CCReg=...</td>\n",
       "      <td>86.0</td>\n",
       "      <td>200.0</td>\n",
       "      <td>Established in 2003, Shrimad Rajchandra Love a...</td>\n",
       "      <td>723.59</td>\n",
       "      <td>FY 2017-18</td>\n",
       "      <td>...</td>\n",
       "      <td>loveandcare@shrimadrajchandramission.org</td>\n",
       "      <td>91-9820032616</td>\n",
       "      <td>Patel Chambers, Third Floor, Plot - 13,,\\nPadm...</td>\n",
       "      <td>NaN</td>\n",
       "      <td>Education</td>\n",
       "      <td>Direct service, Support, Advocacy &amp; Campaignin...</td>\n",
       "      <td>NaN</td>\n",
       "      <td>Rural</td>\n",
       "      <td>Maharashtra</td>\n",
       "      <td>AAETS8557N</td>\n",
       "    </tr>\n",
       "    <tr>\n",
       "      <th>833</th>\n",
       "      <td>https://www.givingtuesdayindia.org/ngo-detail/...</td>\n",
       "      <td>Shrimad Rajchandra Sarva Mangal Trust</td>\n",
       "      <td>SRLC</td>\n",
       "      <td>2003</td>\n",
       "      <td>https://guidestarindia.org/Summary.aspx?CCReg=...</td>\n",
       "      <td>200.0</td>\n",
       "      <td>300.0</td>\n",
       "      <td>Established in 2003, Shrimad Rajchandra Love a...</td>\n",
       "      <td>2399.08</td>\n",
       "      <td>FY 2017-18</td>\n",
       "      <td>...</td>\n",
       "      <td>loveandcare@shrimadrajchandramission.org</td>\n",
       "      <td>91-9820051478</td>\n",
       "      <td>Patel Chambers, Third Floor, Plot - 13,,\\nPadm...</td>\n",
       "      <td>NaN</td>\n",
       "      <td>Healthcare</td>\n",
       "      <td>Direct service, Network, Support, Advocacy &amp; C...</td>\n",
       "      <td>Animal Lovers, Animals / Birds, Artisans, Bloo...</td>\n",
       "      <td>Rural</td>\n",
       "      <td>Gujarat</td>\n",
       "      <td>AAAAD2179A</td>\n",
       "    </tr>\n",
       "    <tr>\n",
       "      <th>323</th>\n",
       "      <td>https://www.givingtuesdayindia.org/ngo-detail/...</td>\n",
       "      <td>Janvikas</td>\n",
       "      <td>Janvikas</td>\n",
       "      <td>1985</td>\n",
       "      <td>https://guidestarindia.org/Summary.aspx?CCReg=...</td>\n",
       "      <td>NaN</td>\n",
       "      <td>NaN</td>\n",
       "      <td>NaN</td>\n",
       "      <td>NaN</td>\n",
       "      <td>NaN</td>\n",
       "      <td>...</td>\n",
       "      <td>socjust@gmail.com</td>\n",
       "      <td>NaN</td>\n",
       "      <td>C-105, Royal Chinmay,\\nOff Judges Bungalow Roa...</td>\n",
       "      <td>NaN</td>\n",
       "      <td>Community Development</td>\n",
       "      <td>Direct service</td>\n",
       "      <td>Dalits, Tribals</td>\n",
       "      <td>NaN</td>\n",
       "      <td>NaN</td>\n",
       "      <td>AAATJ0934E</td>\n",
       "    </tr>\n",
       "    <tr>\n",
       "      <th>876</th>\n",
       "      <td>https://www.givingtuesdayindia.org/ngo-detail/...</td>\n",
       "      <td>Institute For Development Education and Learni...</td>\n",
       "      <td>Centre For Social Justice</td>\n",
       "      <td>1993</td>\n",
       "      <td>https://guidestarindia.org/Summary.aspx?CCReg=...</td>\n",
       "      <td>51.0</td>\n",
       "      <td>0.0</td>\n",
       "      <td>IDEAL ‚Äì Centre for Social Justice, establish...</td>\n",
       "      <td>377.15952</td>\n",
       "      <td>FY 2017-18</td>\n",
       "      <td>...</td>\n",
       "      <td>socjust@gmail.com</td>\n",
       "      <td>91-9909963342</td>\n",
       "      <td>C - 106, Royal Chinmay,\\nOpp. IOC Pump, Off. J...</td>\n",
       "      <td>NaN</td>\n",
       "      <td>Advocacy</td>\n",
       "      <td>Advocacy &amp; Campaigning</td>\n",
       "      <td>Urban poor, Construction Workers, Children, Ho...</td>\n",
       "      <td>Rural &amp; Urban</td>\n",
       "      <td>ChhattisgarhGujaratJharkhandMadhya Pradesh</td>\n",
       "      <td>AAATI0812N</td>\n",
       "    </tr>\n",
       "  </tbody>\n",
       "</table>\n",
       "<p>4 rows × 23 columns</p>\n",
       "</div>"
      ],
      "text/plain": [
       "                                                   Url  \\\n",
       "831  https://www.givingtuesdayindia.org/ngo-detail/...   \n",
       "833  https://www.givingtuesdayindia.org/ngo-detail/...   \n",
       "323  https://www.givingtuesdayindia.org/ngo-detail/...   \n",
       "876  https://www.givingtuesdayindia.org/ngo-detail/...   \n",
       "\n",
       "                                              NGO Name  \\\n",
       "831               Shrimad Rajchandra Educational Trust   \n",
       "833              Shrimad Rajchandra Sarva Mangal Trust   \n",
       "323                                           Janvikas   \n",
       "876  Institute For Development Education and Learni...   \n",
       "\n",
       "                  Popular Name  Year of Establishment  \\\n",
       "831                       SRLC                   2004   \n",
       "833                       SRLC                   2003   \n",
       "323                   Janvikas                   1985   \n",
       "876  Centre For Social Justice                   1993   \n",
       "\n",
       "                                         GuideStar URL  Full Time Staff  \\\n",
       "831  https://guidestarindia.org/Summary.aspx?CCReg=...             86.0   \n",
       "833  https://guidestarindia.org/Summary.aspx?CCReg=...            200.0   \n",
       "323  https://guidestarindia.org/Summary.aspx?CCReg=...              NaN   \n",
       "876  https://guidestarindia.org/Summary.aspx?CCReg=...             51.0   \n",
       "\n",
       "     Full Time Volunteers                                  Brief description  \\\n",
       "831                 200.0  Established in 2003, Shrimad Rajchandra Love a...   \n",
       "833                 300.0  Established in 2003, Shrimad Rajchandra Love a...   \n",
       "323                   NaN                                                NaN   \n",
       "876                   0.0  IDEAL ‚Äì Centre for Social Justice, establish...   \n",
       "\n",
       "    Annual Expenditure (Rs in lacs) Year for Annual Expenditure  ...  \\\n",
       "831                          723.59                  FY 2017-18  ...   \n",
       "833                         2399.08                  FY 2017-18  ...   \n",
       "323                             NaN                         NaN  ...   \n",
       "876                       377.15952                  FY 2017-18  ...   \n",
       "\n",
       "                                        Email Telephone/ Mobile number  \\\n",
       "831  loveandcare@shrimadrajchandramission.org            91-9820032616   \n",
       "833  loveandcare@shrimadrajchandramission.org            91-9820051478   \n",
       "323                         socjust@gmail.com                      NaN   \n",
       "876                         socjust@gmail.com            91-9909963342   \n",
       "\n",
       "                               Correspondence  Address Phone  \\\n",
       "831  Patel Chambers, Third Floor, Plot - 13,,\\nPadm...   NaN   \n",
       "833  Patel Chambers, Third Floor, Plot - 13,,\\nPadm...   NaN   \n",
       "323  C-105, Royal Chinmay,\\nOff Judges Bungalow Roa...   NaN   \n",
       "876  C - 106, Royal Chinmay,\\nOpp. IOC Pump, Off. J...   NaN   \n",
       "\n",
       "                  Cause(s)                             Nature of Intervention  \\\n",
       "831              Education  Direct service, Support, Advocacy & Campaignin...   \n",
       "833             Healthcare  Direct service, Network, Support, Advocacy & C...   \n",
       "323  Community Development                                     Direct service   \n",
       "876               Advocacy                             Advocacy & Campaigning   \n",
       "\n",
       "                                         Beneficairies          Focus  \\\n",
       "831                                                NaN          Rural   \n",
       "833  Animal Lovers, Animals / Birds, Artisans, Bloo...          Rural   \n",
       "323                                    Dalits, Tribals            NaN   \n",
       "876  Urban poor, Construction Workers, Children, Ho...  Rural & Urban   \n",
       "\n",
       "                       Area of Operation: State         PAN  \n",
       "831                                 Maharashtra  AAETS8557N  \n",
       "833                                     Gujarat  AAAAD2179A  \n",
       "323                                         NaN  AAATJ0934E  \n",
       "876  ChhattisgarhGujaratJharkhandMadhya Pradesh  AAATI0812N  \n",
       "\n",
       "[4 rows x 23 columns]"
      ]
     },
     "execution_count": 54,
     "metadata": {},
     "output_type": "execute_result"
    }
   ],
   "source": [
    "Darpan_Bihar_2[Darpan_Bihar_2[\"Email\"].isin(duplicates)].sort_values('Email')"
   ]
  },
  {
   "cell_type": "markdown",
   "id": "fifty-complaint",
   "metadata": {},
   "source": [
    "There are two addresses that are duplicates in ```Email```. One of the repeated addresses is used for two brances of an NGO, and the other repeated address appears to be used for two unreleated NGOs."
   ]
  },
  {
   "cell_type": "markdown",
   "id": "incorporated-convert",
   "metadata": {},
   "source": [
    "### Telephone/ Mobile number\n",
    "<a class=\"anchor\" id=\"5.2.15\"></a>\n",
    "Telephone or mobile phone number."
   ]
  },
  {
   "cell_type": "code",
   "execution_count": 55,
   "id": "increased-competition",
   "metadata": {},
   "outputs": [
    {
     "data": {
      "text/plain": [
       "0                NaN\n",
       "1      91-9176300657\n",
       "2      91-9096696633\n",
       "3      91-9438022310\n",
       "4      91-9871100334\n",
       "           ...      \n",
       "921    91-7624999152\n",
       "922              NaN\n",
       "923              NaN\n",
       "924              NaN\n",
       "925              NaN\n",
       "Name: Telephone/ Mobile number, Length: 926, dtype: object"
      ]
     },
     "execution_count": 55,
     "metadata": {},
     "output_type": "execute_result"
    }
   ],
   "source": [
    "column = Darpan_Bihar_2[\"Telephone/ Mobile number\"]\n",
    "column"
   ]
  },
  {
   "cell_type": "code",
   "execution_count": 56,
   "id": "better-avatar",
   "metadata": {},
   "outputs": [
    {
     "name": "stdout",
     "output_type": "stream",
     "text": [
      "No. of unique values: 671\n",
      "Null: 253\n",
      "Duplicates: {'91-9421642403': 2, '91-9650730860': 2, '91-9844085864': 2}\n",
      "No. of duplicates: 3\n"
     ]
    }
   ],
   "source": [
    "# Check number of unique values\n",
    "print(\"No. of unique values:\", len(column.unique()))\n",
    "\n",
    "# Check for null values\n",
    "print(\"Null:\", sum(column.isnull()))\n",
    "column.dropna(inplace = True)\n",
    "\n",
    "# Check for duplicates\n",
    "counter = dict(Counter(column))\n",
    "duplicates = { key:value for key, value in counter.items() if value > 1}\n",
    "print(\"Duplicates:\", duplicates)\n",
    "if len(duplicates) > 0:\n",
    "    print(\"No. of duplicates:\", len(duplicates))"
   ]
  },
  {
   "cell_type": "code",
   "execution_count": 57,
   "id": "veterinary-patent",
   "metadata": {},
   "outputs": [
    {
     "data": {
      "text/html": [
       "<div>\n",
       "<style scoped>\n",
       "    .dataframe tbody tr th:only-of-type {\n",
       "        vertical-align: middle;\n",
       "    }\n",
       "\n",
       "    .dataframe tbody tr th {\n",
       "        vertical-align: top;\n",
       "    }\n",
       "\n",
       "    .dataframe thead th {\n",
       "        text-align: right;\n",
       "    }\n",
       "</style>\n",
       "<table border=\"1\" class=\"dataframe\">\n",
       "  <thead>\n",
       "    <tr style=\"text-align: right;\">\n",
       "      <th></th>\n",
       "      <th>Url</th>\n",
       "      <th>NGO Name</th>\n",
       "      <th>Popular Name</th>\n",
       "      <th>Year of Establishment</th>\n",
       "      <th>GuideStar URL</th>\n",
       "      <th>Full Time Staff</th>\n",
       "      <th>Full Time Volunteers</th>\n",
       "      <th>Brief description</th>\n",
       "      <th>Annual Expenditure (Rs in lacs)</th>\n",
       "      <th>Year for Annual Expenditure</th>\n",
       "      <th>...</th>\n",
       "      <th>Email</th>\n",
       "      <th>Telephone/ Mobile number</th>\n",
       "      <th>Correspondence  Address</th>\n",
       "      <th>Phone</th>\n",
       "      <th>Cause(s)</th>\n",
       "      <th>Nature of Intervention</th>\n",
       "      <th>Beneficairies</th>\n",
       "      <th>Focus</th>\n",
       "      <th>Area of Operation: State</th>\n",
       "      <th>PAN</th>\n",
       "    </tr>\n",
       "  </thead>\n",
       "  <tbody>\n",
       "    <tr>\n",
       "      <th>137</th>\n",
       "      <td>https://www.givingtuesdayindia.org/ngo-detail/...</td>\n",
       "      <td>CENTRE FOR AGRICULTURE AND RURAL DEVELOPMENT(C...</td>\n",
       "      <td>CARD</td>\n",
       "      <td>2008</td>\n",
       "      <td>https://guidestarindia.org/Summary.aspx?CCReg=...</td>\n",
       "      <td>7.0</td>\n",
       "      <td>30.0</td>\n",
       "      <td>AGRICULTURE AND RURAL DEVELOPMENT, SKILL DEVEL...</td>\n",
       "      <td>NaN</td>\n",
       "      <td>NaN</td>\n",
       "      <td>...</td>\n",
       "      <td>cardngo0908@gmail.com</td>\n",
       "      <td>91-9421642403</td>\n",
       "      <td>2nd Floor Satakar Complex ,Ambad Road near Nut...</td>\n",
       "      <td>NaN</td>\n",
       "      <td>Children, Community Development, Women, Youth,...</td>\n",
       "      <td>Intermediary, Advocacy &amp; Campaigning, Support,...</td>\n",
       "      <td>Urban poor, Construction Workers, Children, Ho...</td>\n",
       "      <td>Rural &amp; Urban</td>\n",
       "      <td>Maharashtra</td>\n",
       "      <td>AABTC0344A</td>\n",
       "    </tr>\n",
       "    <tr>\n",
       "      <th>200</th>\n",
       "      <td>https://www.givingtuesdayindia.org/ngo-detail/...</td>\n",
       "      <td>DNYANJYOTI GRAMIN VIKAS MANDAL</td>\n",
       "      <td>DNYANJYOTI GVM</td>\n",
       "      <td>2000</td>\n",
       "      <td>https://guidestarindia.org/Summary.aspx?CCReg=...</td>\n",
       "      <td>12.0</td>\n",
       "      <td>120.0</td>\n",
       "      <td>Dnyanjyoti Gramin Vikas Mandal established on ...</td>\n",
       "      <td>NaN</td>\n",
       "      <td>NaN</td>\n",
       "      <td>...</td>\n",
       "      <td>dnyanjyotigvm@gmail.com</td>\n",
       "      <td>91-9421642403</td>\n",
       "      <td>Dnyanjyoti, 2 Floor, Satakar Complex Nutan Vas...</td>\n",
       "      <td>NaN</td>\n",
       "      <td>Community Development, Development and Housing</td>\n",
       "      <td>Advocacy &amp; Campaigning, Support, Network, Dire...</td>\n",
       "      <td>Urban poor, Children, Homeless, Domestic Worke...</td>\n",
       "      <td>Rural &amp; Urban</td>\n",
       "      <td>NaN</td>\n",
       "      <td>AAATD6547M</td>\n",
       "    </tr>\n",
       "    <tr>\n",
       "      <th>154</th>\n",
       "      <td>https://www.givingtuesdayindia.org/ngo-detail/...</td>\n",
       "      <td>CHIKITSA</td>\n",
       "      <td>NaN</td>\n",
       "      <td>1999</td>\n",
       "      <td>https://guidestarindia.org/Summary.aspx?CCReg=...</td>\n",
       "      <td>NaN</td>\n",
       "      <td>NaN</td>\n",
       "      <td>CHIKITSA was started in 1999 as a community he...</td>\n",
       "      <td>NaN</td>\n",
       "      <td>NaN</td>\n",
       "      <td>...</td>\n",
       "      <td>chikitsa@chikitsatrust.org</td>\n",
       "      <td>91-9650730860</td>\n",
       "      <td>C-524 Sushant Lok (1st Floor),\\nSushant Lok Ph...</td>\n",
       "      <td>91-9650730860, 91-124-2381696, 91-124-4225698</td>\n",
       "      <td>Healthcare</td>\n",
       "      <td>Direct service</td>\n",
       "      <td>Urban poor, Physically Challenged, Constructio...</td>\n",
       "      <td>Urban</td>\n",
       "      <td>Delhi</td>\n",
       "      <td>AAATC3286G</td>\n",
       "    </tr>\n",
       "    <tr>\n",
       "      <th>830</th>\n",
       "      <td>https://www.givingtuesdayindia.org/ngo-detail/...</td>\n",
       "      <td>SHIKSHA</td>\n",
       "      <td>NaN</td>\n",
       "      <td>2002</td>\n",
       "      <td>https://guidestarindia.org/Summary.aspx?CCReg=...</td>\n",
       "      <td>33.0</td>\n",
       "      <td>4.0</td>\n",
       "      <td>Shiksha was founded on October 31, 2002, as a ...</td>\n",
       "      <td>121.24</td>\n",
       "      <td>FY 2017-18</td>\n",
       "      <td>...</td>\n",
       "      <td>shiksha@shikshatrust.org</td>\n",
       "      <td>91-9650730860</td>\n",
       "      <td>124 Mohyal Colony,\\nSector 40    South West De...</td>\n",
       "      <td>NaN</td>\n",
       "      <td>Education, Livelihoods, Youth</td>\n",
       "      <td>Direct service</td>\n",
       "      <td>Children, Girl Child, Adolescents, Street Chil...</td>\n",
       "      <td>Urban</td>\n",
       "      <td>NaN</td>\n",
       "      <td>AADTS8271N</td>\n",
       "    </tr>\n",
       "    <tr>\n",
       "      <th>629</th>\n",
       "      <td>https://www.givingtuesdayindia.org/ngo-detail/...</td>\n",
       "      <td>Shree Guruvayurappan Bhajan Samaj Trust</td>\n",
       "      <td>SGBS Trust</td>\n",
       "      <td>1993</td>\n",
       "      <td>https://guidestarindia.org/Summary.aspx?CCReg=...</td>\n",
       "      <td>10.0</td>\n",
       "      <td>30.0</td>\n",
       "      <td>Unemployment ‚ÄövÑv?‚àövë‚àö¬® it is believed ...</td>\n",
       "      <td>NaN</td>\n",
       "      <td>NaN</td>\n",
       "      <td>...</td>\n",
       "      <td>contactus@unnatiblr.org</td>\n",
       "      <td>91-9844085864</td>\n",
       "      <td>NaN</td>\n",
       "      <td>NaN</td>\n",
       "      <td>Livelihoods, Youth</td>\n",
       "      <td>Direct service</td>\n",
       "      <td>Students, Youth</td>\n",
       "      <td>Rural &amp; Urban</td>\n",
       "      <td>Tamil Nadu</td>\n",
       "      <td>AADTS9185M</td>\n",
       "    </tr>\n",
       "    <tr>\n",
       "      <th>902</th>\n",
       "      <td>https://www.givingtuesdayindia.org/ngo-detail/...</td>\n",
       "      <td>SGBS Unnati Foundation</td>\n",
       "      <td>NaN</td>\n",
       "      <td>2011</td>\n",
       "      <td>https://guidestarindia.org/Summary.aspx?CCReg=...</td>\n",
       "      <td>150.0</td>\n",
       "      <td>0.0</td>\n",
       "      <td>SGBS cherishes its simple yet fulfilling visio...</td>\n",
       "      <td>436.37</td>\n",
       "      <td>FY 2017-18</td>\n",
       "      <td>...</td>\n",
       "      <td>rameshswamy@unnatiblr.org</td>\n",
       "      <td>91-9844085864</td>\n",
       "      <td>#, Ganesha Temple Road,,\\nNGEF Layout, Sadanan...</td>\n",
       "      <td>NaN</td>\n",
       "      <td>Livelihoods</td>\n",
       "      <td>Support, Network, Direct service</td>\n",
       "      <td>Urban poor, Physically Challenged, Homeless, O...</td>\n",
       "      <td>Rural &amp; Urban</td>\n",
       "      <td>GujaratKarnatakaMadhya PradeshMaharashtraRajas...</td>\n",
       "      <td>AAQCS5858M</td>\n",
       "    </tr>\n",
       "  </tbody>\n",
       "</table>\n",
       "<p>6 rows × 23 columns</p>\n",
       "</div>"
      ],
      "text/plain": [
       "                                                   Url  \\\n",
       "137  https://www.givingtuesdayindia.org/ngo-detail/...   \n",
       "200  https://www.givingtuesdayindia.org/ngo-detail/...   \n",
       "154  https://www.givingtuesdayindia.org/ngo-detail/...   \n",
       "830  https://www.givingtuesdayindia.org/ngo-detail/...   \n",
       "629  https://www.givingtuesdayindia.org/ngo-detail/...   \n",
       "902  https://www.givingtuesdayindia.org/ngo-detail/...   \n",
       "\n",
       "                                              NGO Name    Popular Name  \\\n",
       "137  CENTRE FOR AGRICULTURE AND RURAL DEVELOPMENT(C...            CARD   \n",
       "200                     DNYANJYOTI GRAMIN VIKAS MANDAL  DNYANJYOTI GVM   \n",
       "154                                           CHIKITSA             NaN   \n",
       "830                                            SHIKSHA             NaN   \n",
       "629            Shree Guruvayurappan Bhajan Samaj Trust      SGBS Trust   \n",
       "902                             SGBS Unnati Foundation             NaN   \n",
       "\n",
       "     Year of Establishment                                      GuideStar URL  \\\n",
       "137                   2008  https://guidestarindia.org/Summary.aspx?CCReg=...   \n",
       "200                   2000  https://guidestarindia.org/Summary.aspx?CCReg=...   \n",
       "154                   1999  https://guidestarindia.org/Summary.aspx?CCReg=...   \n",
       "830                   2002  https://guidestarindia.org/Summary.aspx?CCReg=...   \n",
       "629                   1993  https://guidestarindia.org/Summary.aspx?CCReg=...   \n",
       "902                   2011  https://guidestarindia.org/Summary.aspx?CCReg=...   \n",
       "\n",
       "     Full Time Staff  Full Time Volunteers  \\\n",
       "137              7.0                  30.0   \n",
       "200             12.0                 120.0   \n",
       "154              NaN                   NaN   \n",
       "830             33.0                   4.0   \n",
       "629             10.0                  30.0   \n",
       "902            150.0                   0.0   \n",
       "\n",
       "                                     Brief description  \\\n",
       "137  AGRICULTURE AND RURAL DEVELOPMENT, SKILL DEVEL...   \n",
       "200  Dnyanjyoti Gramin Vikas Mandal established on ...   \n",
       "154  CHIKITSA was started in 1999 as a community he...   \n",
       "830  Shiksha was founded on October 31, 2002, as a ...   \n",
       "629  Unemployment ‚ÄövÑv?‚àövë‚àö¬® it is believed ...   \n",
       "902  SGBS cherishes its simple yet fulfilling visio...   \n",
       "\n",
       "    Annual Expenditure (Rs in lacs) Year for Annual Expenditure  ...  \\\n",
       "137                             NaN                         NaN  ...   \n",
       "200                             NaN                         NaN  ...   \n",
       "154                             NaN                         NaN  ...   \n",
       "830                          121.24                  FY 2017-18  ...   \n",
       "629                             NaN                         NaN  ...   \n",
       "902                          436.37                  FY 2017-18  ...   \n",
       "\n",
       "                          Email Telephone/ Mobile number  \\\n",
       "137       cardngo0908@gmail.com            91-9421642403   \n",
       "200     dnyanjyotigvm@gmail.com            91-9421642403   \n",
       "154  chikitsa@chikitsatrust.org            91-9650730860   \n",
       "830    shiksha@shikshatrust.org            91-9650730860   \n",
       "629     contactus@unnatiblr.org            91-9844085864   \n",
       "902   rameshswamy@unnatiblr.org            91-9844085864   \n",
       "\n",
       "                               Correspondence  Address  \\\n",
       "137  2nd Floor Satakar Complex ,Ambad Road near Nut...   \n",
       "200  Dnyanjyoti, 2 Floor, Satakar Complex Nutan Vas...   \n",
       "154  C-524 Sushant Lok (1st Floor),\\nSushant Lok Ph...   \n",
       "830  124 Mohyal Colony,\\nSector 40    South West De...   \n",
       "629                                                NaN   \n",
       "902  #, Ganesha Temple Road,,\\nNGEF Layout, Sadanan...   \n",
       "\n",
       "                                             Phone  \\\n",
       "137                                            NaN   \n",
       "200                                            NaN   \n",
       "154  91-9650730860, 91-124-2381696, 91-124-4225698   \n",
       "830                                            NaN   \n",
       "629                                            NaN   \n",
       "902                                            NaN   \n",
       "\n",
       "                                              Cause(s)  \\\n",
       "137  Children, Community Development, Women, Youth,...   \n",
       "200     Community Development, Development and Housing   \n",
       "154                                         Healthcare   \n",
       "830                      Education, Livelihoods, Youth   \n",
       "629                                 Livelihoods, Youth   \n",
       "902                                        Livelihoods   \n",
       "\n",
       "                                Nature of Intervention  \\\n",
       "137  Intermediary, Advocacy & Campaigning, Support,...   \n",
       "200  Advocacy & Campaigning, Support, Network, Dire...   \n",
       "154                                     Direct service   \n",
       "830                                     Direct service   \n",
       "629                                     Direct service   \n",
       "902                   Support, Network, Direct service   \n",
       "\n",
       "                                         Beneficairies          Focus  \\\n",
       "137  Urban poor, Construction Workers, Children, Ho...  Rural & Urban   \n",
       "200  Urban poor, Children, Homeless, Domestic Worke...  Rural & Urban   \n",
       "154  Urban poor, Physically Challenged, Constructio...          Urban   \n",
       "830  Children, Girl Child, Adolescents, Street Chil...          Urban   \n",
       "629                                    Students, Youth  Rural & Urban   \n",
       "902  Urban poor, Physically Challenged, Homeless, O...  Rural & Urban   \n",
       "\n",
       "                              Area of Operation: State         PAN  \n",
       "137                                        Maharashtra  AABTC0344A  \n",
       "200                                                NaN  AAATD6547M  \n",
       "154                                              Delhi  AAATC3286G  \n",
       "830                                                NaN  AADTS8271N  \n",
       "629                                         Tamil Nadu  AADTS9185M  \n",
       "902  GujaratKarnatakaMadhya PradeshMaharashtraRajas...  AAQCS5858M  \n",
       "\n",
       "[6 rows x 23 columns]"
      ]
     },
     "execution_count": 57,
     "metadata": {},
     "output_type": "execute_result"
    }
   ],
   "source": [
    "Darpan_Bihar_2[Darpan_Bihar_2[\"Telephone/ Mobile number\"].isin(duplicates)].sort_values('Telephone/ Mobile number')"
   ]
  },
  {
   "cell_type": "markdown",
   "id": "multiple-dating",
   "metadata": {},
   "source": [
    "Duplicates in ```Telephone/ Mobile number``` does not mean the NGOs are the same."
   ]
  },
  {
   "cell_type": "markdown",
   "id": "curious-secondary",
   "metadata": {},
   "source": [
    "### Correspondence   Address\n",
    "<a class=\"anchor\" id=\"5.2.16\"></a>\n",
    "NGO office address."
   ]
  },
  {
   "cell_type": "code",
   "execution_count": 58,
   "id": "obvious-reunion",
   "metadata": {},
   "outputs": [
    {
     "data": {
      "text/plain": [
       "0      Desai Automobile Compound,\\nGarbada Road, Pada...\n",
       "1      Divya Rasa - Temple of Love, Su Kilnachipattu,...\n",
       "2      Sudhakar Kshirsagar,Gautam Nagar Pathari,\\nPat...\n",
       "3      Goutam Nagar Last Lane,,\\nkoraput    Koraput, ...\n",
       "4                                                    NaN\n",
       "                             ...                        \n",
       "921    Bellahalli Road, off Hennur Road,\\nKannur Post...\n",
       "922    #16 C, 1st B Main, 14th C Cross, Sector 6, HSR...\n",
       "923    38, Santhaipettai Street,\\n    Virudhunagar, \\...\n",
       "924    Methodist Centre, 1st Floor, 21 YMCA Road,\\nMu...\n",
       "925                                                  NaN\n",
       "Name: Correspondence  Address, Length: 926, dtype: object"
      ]
     },
     "execution_count": 58,
     "metadata": {},
     "output_type": "execute_result"
    }
   ],
   "source": [
    "column = Darpan_Bihar_2[\"Correspondence  Address\"]\n",
    "column"
   ]
  },
  {
   "cell_type": "code",
   "execution_count": 59,
   "id": "challenging-spare",
   "metadata": {},
   "outputs": [
    {
     "name": "stdout",
     "output_type": "stream",
     "text": [
      "No. of unique values: 855\n",
      "Null: 72\n",
      "Duplicates: {}\n"
     ]
    }
   ],
   "source": [
    "# Check number of unique values\n",
    "print(\"No. of unique values:\", len(column.unique()))\n",
    "\n",
    "# Check for null values\n",
    "print(\"Null:\", sum(column.isnull()))\n",
    "column.dropna(inplace = True)\n",
    "\n",
    "# Check for duplicates\n",
    "counter = dict(Counter(column))\n",
    "duplicates = { key:value for key, value in counter.items() if value > 1}\n",
    "print(\"Duplicates:\", duplicates)\n",
    "if len(duplicates) > 0:\n",
    "    print(\"No. of duplicates:\", len(duplicates))"
   ]
  },
  {
   "cell_type": "markdown",
   "id": "requested-strengthening",
   "metadata": {},
   "source": [
    "### Phone\n",
    "<a class=\"anchor\" id=\"5.2.17\"></a>\n",
    "Office phone number."
   ]
  },
  {
   "cell_type": "code",
   "execution_count": 60,
   "id": "familiar-horror",
   "metadata": {},
   "outputs": [
    {
     "data": {
      "text/plain": [
       "0      91-2673-245215, 91-2673-245215\n",
       "1                                 NaN\n",
       "2                                 NaN\n",
       "3                                 NaN\n",
       "4                                 NaN\n",
       "                    ...              \n",
       "921                               NaN\n",
       "922                               NaN\n",
       "923                               NaN\n",
       "924                               NaN\n",
       "925                               NaN\n",
       "Name: Phone, Length: 926, dtype: object"
      ]
     },
     "execution_count": 60,
     "metadata": {},
     "output_type": "execute_result"
    }
   ],
   "source": [
    "column = Darpan_Bihar_2[\"Phone\"]\n",
    "column"
   ]
  },
  {
   "cell_type": "code",
   "execution_count": 61,
   "id": "internal-burner",
   "metadata": {},
   "outputs": [
    {
     "name": "stdout",
     "output_type": "stream",
     "text": [
      "No. of unique values: 120\n",
      "Null: 807\n",
      "Duplicates: {}\n"
     ]
    }
   ],
   "source": [
    "# Check number of unique values\n",
    "print(\"No. of unique values:\", len(column.unique()))\n",
    "\n",
    "# Check for null values\n",
    "print(\"Null:\", sum(column.isnull()))\n",
    "column.dropna(inplace = True)\n",
    "\n",
    "# Check for duplicates\n",
    "counter = dict(Counter(column))\n",
    "duplicates = { key:value for key, value in counter.items() if value > 1}\n",
    "print(\"Duplicates:\", duplicates)\n",
    "if len(duplicates) > 0:\n",
    "    print(\"No. of duplicates:\", len(duplicates))"
   ]
  },
  {
   "cell_type": "markdown",
   "id": "statistical-accordance",
   "metadata": {},
   "source": [
    "### Cause(s)\n",
    "<a class=\"anchor\" id=\"5.2.18\"></a>\n",
    "Causes the NGO supports."
   ]
  },
  {
   "cell_type": "code",
   "execution_count": 62,
   "id": "fallen-harrison",
   "metadata": {},
   "outputs": [
    {
     "data": {
      "text/plain": [
       "0      Community Development, Education, Healthcare, ...\n",
       "1                                              Education\n",
       "2      Children, Community Development, Education, He...\n",
       "3      Children, Education, Healthcare, Livelihoods, ...\n",
       "4                                              Education\n",
       "                             ...                        \n",
       "921                                            Education\n",
       "922                                     Education, Youth\n",
       "923                                Community Development\n",
       "924                                      Children, Women\n",
       "925                                  Disabled, Education\n",
       "Name: Cause(s), Length: 926, dtype: object"
      ]
     },
     "execution_count": 62,
     "metadata": {},
     "output_type": "execute_result"
    }
   ],
   "source": [
    "column = Darpan_Bihar_2[\"Cause(s)\"]\n",
    "column"
   ]
  },
  {
   "cell_type": "code",
   "execution_count": 63,
   "id": "productive-michigan",
   "metadata": {},
   "outputs": [
    {
     "name": "stdout",
     "output_type": "stream",
     "text": [
      "No. of unique values: 350\n",
      "Null: 27\n",
      "Duplicates: {'Community Development, Education, Healthcare, Livelihoods, Women': 3, 'Education': 58, 'Children, Community Development, Education, Healthcare, Livelihoods, Women, Youth': 2, 'Children, Education, Healthcare, Livelihoods, Women': 19, 'Education, Youth': 7, 'Youth, Emergency Relief': 3, 'Education, Environment, Healthcare, Livelihoods': 3, 'Children': 16, 'Disabled': 11, 'Healthcare': 46, 'Children, Education, Healthcare, Women': 10, 'Children, Education, Elderly, Healthcare, Women': 3, 'Children, Disabled, Education': 11, 'Disabled, Livelihoods': 3, 'Community Development': 44, 'Children, Education, Livelihoods, Women': 8, 'Community Development, Education, Healthcare': 2, 'Emergency Relief': 3, 'Education, Healthcare, Livelihoods, Women, Youth': 4, 'Children, Education, Livelihoods': 4, 'Education, Healthcare': 20, 'Education, Livelihoods': 7, 'Children, Education': 34, 'Children, Women': 11, 'Children, Community Development, Education, Healthcare, Livelihoods, Women, Emergency Relief': 2, 'Disabled, Education, Livelihoods': 6, 'Disabled, Healthcare': 9, 'Children, Education, Environment, Healthcare, Livelihoods, Women, Youth': 3, 'Children, Healthcare': 12, 'Education, Healthcare, Livelihoods, Youth': 2, 'Sports': 2, 'Children, Environment, Women': 2, 'Children, Livelihoods, Women': 3, 'Children, Community Development, Education, Livelihoods, Women': 3, 'Healthcare, Livelihoods, Women': 3, 'Children, Healthcare, Women': 9, 'Children, Education, Healthcare, Livelihoods': 6, 'Healthcare, Women': 7, 'Children, Education, Women': 6, 'Children, Education, Elderly, Healthcare': 2, 'Community Development, Education': 2, 'Environment': 8, 'Women': 6, 'Education, Healthcare, Women, Youth': 3, 'Livelihoods': 6, 'Community Development, Education, Healthcare, Livelihoods, Women, Youth': 2, 'Education, Healthcare, Livelihoods': 16, 'Disabled, Education, Environment, Healthcare, Livelihoods': 2, 'Education, Environment, Livelihoods': 2, 'Disabled, Environment': 4, 'Children, Education, Livelihoods, Women, Youth': 3, 'Children, Disabled, Education, Healthcare, Livelihoods, Women, Youth': 3, 'Children, Women, Youth': 2, 'Children, Education, Healthcare': 9, 'Children, Education, Healthcare, Women, Youth': 6, 'Children, Education, Environment, Healthcare': 3, 'Children, Education, Environment': 4, 'Children, Disabled, Education, Healthcare, Livelihoods': 4, 'Education, Livelihoods, Women': 7, 'Children, Disabled': 2, 'Livelihoods, Youth': 4, 'Advocacy': 13, 'Community Development, Development and Housing': 3, 'Education, Livelihoods, Youth': 8, 'Healthcare, Livelihoods': 3, 'Education, Environment, Healthcare': 5, 'Healthcare, Livelihoods, Women, Youth': 2, 'Children, Disabled, Education, Livelihoods': 5, 'Elderly, Healthcare': 2, 'Children, Emergency Relief, Women': 2, 'Philanthropic Intermediaries and Voluntarism Promotion': 2, 'Children, Education, Livelihoods, Youth': 2, 'Children, Healthcare, Livelihoods, Women': 2, 'Children, Disabled, Education, Healthcare': 3, 'Children, Education, Sports, Youth': 2, 'Animal Welfare': 6, 'Education, Livelihoods, Women, Youth': 3, 'Children, Education, Women, Youth': 2, 'Development and Housing': 2, 'Children, Environment, Healthcare, Livelihoods, Women': 2, 'Children, Education, Environment, Healthcare, Livelihoods, Women': 6, 'Children, Disabled, Education, Healthcare, Livelihoods, Women': 2, 'Children, Women, Youth, Civic Issues': 2, 'Education, Women': 4, 'Children, Disabled, Education, Healthcare, Women': 4, 'Education, Environment': 3, 'Education, Women, Youth': 2, 'Children, Education, Environment, Healthcare, Women, Youth': 2, 'Children, Disabled, Women': 4, 'Children, Education, Healthcare, Livelihoods, Women, Youth, Emergency Relief': 3, 'Healthcare, Youth': 2, 'Children, Environment': 2, 'Community Development, Livelihoods, Women, Development and Housing': 3, 'Education, Healthcare, Livelihoods, Women': 3, 'Disabled, Education': 5, 'Children, Livelihoods': 2, 'Livelihoods, Women': 2, 'Environment, Healthcare, Livelihoods, Women': 3, 'Education, Healthcare, Women': 6, 'Community Development, Livelihoods, Youth': 2, 'Advocacy, Children, Education': 2, 'Children, Education, Healthcare, Livelihoods, Youth': 2, 'Children, Community Development, Education, Women, Youth': 2, 'Children, Education, Healthcare, Youth': 2, 'Children, Education, Environment, Healthcare, Livelihoods': 3, 'Children, Education, Philanthropic Intermediaries and Voluntarism Promotion': 2, 'Children, Education, Youth': 2, 'Children, Community Development, Women': 2, 'Community Development, Advocacy': 3, 'Children, Women, Advocacy': 2}\n",
      "No. of duplicates: 110\n"
     ]
    }
   ],
   "source": [
    "# Check number of unique values\n",
    "print(\"No. of unique values:\", len(column.unique()))\n",
    "\n",
    "# Check for null values\n",
    "print(\"Null:\", sum(column.isnull()))\n",
    "column.dropna(inplace = True)\n",
    "\n",
    "# Check for duplicates\n",
    "counter = dict(Counter(column))\n",
    "duplicates = { key:value for key, value in counter.items() if value > 1}\n",
    "print(\"Duplicates:\", duplicates)\n",
    "if len(duplicates) > 0:\n",
    "    print(\"No. of duplicates:\", len(duplicates))"
   ]
  },
  {
   "cell_type": "markdown",
   "id": "formal-sociology",
   "metadata": {},
   "source": [
    "### Nature of Intervention\n",
    "<a class=\"anchor\" id=\"5.2.19\"></a>\n",
    "How the NGO performs acts of service."
   ]
  },
  {
   "cell_type": "code",
   "execution_count": 64,
   "id": "latest-procurement",
   "metadata": {},
   "outputs": [
    {
     "data": {
      "text/plain": [
       "0                                         Direct service\n",
       "1                                         Direct service\n",
       "2                                 Advocacy & Campaigning\n",
       "3                       Support, Network, Direct service\n",
       "4                                Direct service, Support\n",
       "                             ...                        \n",
       "921                                              Support\n",
       "922      Direct service, Support, Advocacy & Campaigning\n",
       "923                              Direct service, Network\n",
       "924                              Support, Direct service\n",
       "925    Advocacy & Campaigning, Support, Network, Dire...\n",
       "Name: Nature of Intervention, Length: 926, dtype: object"
      ]
     },
     "execution_count": 64,
     "metadata": {},
     "output_type": "execute_result"
    }
   ],
   "source": [
    "column = Darpan_Bihar_2[\"Nature of Intervention\"]\n",
    "column"
   ]
  },
  {
   "cell_type": "code",
   "execution_count": 65,
   "id": "native-origin",
   "metadata": {},
   "outputs": [
    {
     "name": "stdout",
     "output_type": "stream",
     "text": [
      "No. of unique values: 82\n",
      "Null: 14\n",
      "Duplicates: {'Direct service': 270, 'Advocacy & Campaigning': 10, 'Support, Network, Direct service': 20, 'Direct service, Support': 33, 'Direct service, Network, Support, Advocacy & Campaigning, Grant-making, Intermediary': 10, 'Advocacy & Campaigning, Direct service': 32, 'Support': 45, 'Direct service, Network, Support, Advocacy & Campaigning': 23, 'Intermediary, Advocacy & Campaigning, Support, Network, Direct service': 17, 'Direct service, Support, Advocacy & Campaigning': 20, 'Support, Direct service': 57, 'Intermediary, Support, Direct service': 8, 'Advocacy & Campaigning, Support, Network, Direct service': 56, 'Network, Support': 2, 'Advocacy & Campaigning, Support, Direct service, Grant-making': 5, 'Advocacy & Campaigning, Support, Direct service': 44, 'Intermediary, Advocacy & Campaigning, Support, Direct service': 8, 'Support, Direct service, Grant-making': 11, 'Grant-making': 2, 'Network, Direct service': 17, 'Advocacy & Campaigning, Support, Network, Direct service, Grant-making': 13, 'Direct service, Network, Advocacy & Campaigning, Intermediary': 3, 'Network': 4, 'Direct service, Support, Grant-making': 3, 'Direct service, Support, Advocacy & Campaigning, Grant-making': 5, 'Direct service, Advocacy & Campaigning': 16, 'Intermediary, Advocacy & Campaigning, Support, Network, Direct service, Grant-making': 16, 'Advocacy & Campaigning, Support, Network': 10, 'Support, Network, Direct service, Grant-making': 2, 'Direct service, Network, Support, Advocacy & Campaigning, Intermediary': 9, 'Direct service, Network, Support': 8, 'Direct service, Support, Intermediary': 3, 'Advocacy & Campaigning, Network, Direct service': 17, 'Direct service, Network, Advocacy & Campaigning': 10, 'Intermediary, Direct service': 3, 'Network, Support, Advocacy & Campaigning, Intermediary': 2, 'Advocacy & Campaigning, Support': 7, 'Direct service, Network, Support, Grant-making': 3, 'Intermediary, Support': 3, 'Network, Support, Advocacy & Campaigning': 4, 'Intermediary, Support, Grant-making': 2, 'Support, Advocacy & Campaigning': 4, 'Intermediary, Advocacy & Campaigning, Support, Network, Grant-making': 2, 'Direct service, Grant-making': 3, 'Intermediary, Support, Network, Direct service': 5, 'Intermediary, Advocacy & Campaigning, Direct service': 2, 'Direct service, Network': 6, 'Advocacy & Campaigning, Network': 5, 'Intermediary': 3, 'Intermediary, Advocacy & Campaigning, Support, Direct service, Grant-making': 3, 'Network, Advocacy & Campaigning': 2, 'Intermediary, Advocacy & Campaigning, Network, Direct service': 3, 'Intermediary, Advocacy & Campaigning, Support, Network': 2, 'Support, Grant-making': 2, 'Advocacy & Campaigning, Direct service, Grant-making': 3, 'Advocacy & Campaigning, Support, Network, Grant-making': 2, 'Direct service, Support, Advocacy & Campaigning, Intermediary': 3, 'Network, Direct service, Grant-making': 3, 'Direct service, Network, Support, Advocacy & Campaigning, Grant-making': 3, 'Direct service, Advocacy & Campaigning, Intermediary': 2}\n",
      "No. of duplicates: 60\n"
     ]
    }
   ],
   "source": [
    "# Check number of unique values\n",
    "print(\"No. of unique values:\", len(column.unique()))\n",
    "\n",
    "# Check for null values\n",
    "print(\"Null:\", sum(column.isnull()))\n",
    "column.dropna(inplace = True)\n",
    "\n",
    "# Check for duplicates\n",
    "counter = dict(Counter(column))\n",
    "duplicates = { key:value for key, value in counter.items() if value > 1}\n",
    "print(\"Duplicates:\", duplicates)\n",
    "if len(duplicates) > 0:\n",
    "    print(\"No. of duplicates:\", len(duplicates))"
   ]
  },
  {
   "cell_type": "markdown",
   "id": "behavioral-density",
   "metadata": {},
   "source": [
    "### Beneficairies\n",
    "<a class=\"anchor\" id=\"5.2.20\"></a>\n",
    "Groups that are benefited from the NGO."
   ]
  },
  {
   "cell_type": "code",
   "execution_count": 66,
   "id": "seven-ferry",
   "metadata": {},
   "outputs": [
    {
     "data": {
      "text/plain": [
       "0      Children, Girl Child, Dalits, Artisans, Rural ...\n",
       "1              Children, Adolescents, Adults, Volunteers\n",
       "2      Physically Challenged, Children, Girl Child, A...\n",
       "3      Children, Girl Child, Adolescents, Dalits, Adu...\n",
       "4      Adolescents, Children, Girl Child, Rural Poor,...\n",
       "                             ...                        \n",
       "921                        Urban poor, Children, Orphans\n",
       "922                Adolescents, Children, Orphans, Youth\n",
       "923                  Children, Scavengers (human), Women\n",
       "924    Urban poor, Physically Challenged, Children, H...\n",
       "925     Physically Challenged, HIV+, Mentally Challenged\n",
       "Name: Beneficairies, Length: 926, dtype: object"
      ]
     },
     "execution_count": 66,
     "metadata": {},
     "output_type": "execute_result"
    }
   ],
   "source": [
    "column = Darpan_Bihar_2[\"Beneficairies\"]\n",
    "column"
   ]
  },
  {
   "cell_type": "code",
   "execution_count": 67,
   "id": "retained-israel",
   "metadata": {},
   "outputs": [
    {
     "name": "stdout",
     "output_type": "stream",
     "text": [
      "No. of unique values: 784\n",
      "Null: 26\n",
      "Duplicates: {'Adults': 14, 'Mentally Challenged, Physically Challenged': 4, 'Women': 9, 'Children, Girl Child, Adolescents': 2, 'Physically Challenged, Children, Mentally Challenged': 2, 'Adolescents, Adults': 7, 'Children': 23, 'Orphans': 2, 'Rural Poor': 3, 'Adolescents, Adults, Youth, Women': 2, 'Children, Adults': 4, 'Children, Women, Youth': 3, 'Adults, Women': 2, 'Children, Orphans, Youth': 2, 'Patients': 3, 'Students': 5, 'Farmers / Farm Labourers': 3, 'Accident Victims, Animal Lovers, Adolescents, Adults': 2, 'Adolescents': 3, 'Rural Poor, Women': 2, 'Children, Mentally Challenged, Physically Challenged': 2, 'Girl Child': 3, 'Children, Women': 5, 'Adults, Women, Youth': 2, 'Physically Challenged': 4, 'Animal Lovers, Animals / Birds': 3, 'Children, Students': 2, 'Children, Adults, Youth, Women': 2, 'Children, Rural Poor, Women': 2, 'Rural Poor, Tribals': 3, 'Children, Youth, Women': 6, 'NGOs': 2, 'Children, Physically Challenged': 2, 'Girl Child, Students': 2, 'Physically Challenged, Mentally Challenged': 2, 'Youth, Women': 3, 'Mentally Challenged': 5, 'Girl Child, Women': 2, 'Children, Students, Teachers': 2, 'Children, Teachers': 3, 'Students, Youth': 3, 'Children, Mentally Challenged': 2}\n",
      "No. of duplicates: 42\n"
     ]
    }
   ],
   "source": [
    "# Check number of unique values\n",
    "print(\"No. of unique values:\", len(column.unique()))\n",
    "\n",
    "# Check for null values\n",
    "print(\"Null:\", sum(column.isnull()))\n",
    "column.dropna(inplace = True)\n",
    "\n",
    "# Check for duplicates\n",
    "counter = dict(Counter(column))\n",
    "duplicates = { key:value for key, value in counter.items() if value > 1}\n",
    "print(\"Duplicates:\", duplicates)\n",
    "if len(duplicates) > 0:\n",
    "    print(\"No. of duplicates:\", len(duplicates))"
   ]
  },
  {
   "cell_type": "markdown",
   "id": "timely-programmer",
   "metadata": {},
   "source": [
    "### Focus\n",
    "<a class=\"anchor\" id=\"5.2.21\"></a>\n",
    "Focus of the NGO (Rural, Urban, or Rural & Urban)."
   ]
  },
  {
   "cell_type": "code",
   "execution_count": 68,
   "id": "amber-trunk",
   "metadata": {},
   "outputs": [
    {
     "data": {
      "text/plain": [
       "0              Rural\n",
       "1      Rural & Urban\n",
       "2      Rural & Urban\n",
       "3      Rural & Urban\n",
       "4              Rural\n",
       "           ...      \n",
       "921    Rural & Urban\n",
       "922            Urban\n",
       "923            Rural\n",
       "924    Rural & Urban\n",
       "925    Rural & Urban\n",
       "Name: Focus, Length: 926, dtype: object"
      ]
     },
     "execution_count": 68,
     "metadata": {},
     "output_type": "execute_result"
    }
   ],
   "source": [
    "column = Darpan_Bihar_2[\"Focus\"]\n",
    "column"
   ]
  },
  {
   "cell_type": "code",
   "execution_count": 69,
   "id": "compact-prefix",
   "metadata": {},
   "outputs": [
    {
     "name": "stdout",
     "output_type": "stream",
     "text": [
      "No. of unique values: 4\n",
      "Null: 33\n",
      "Duplicates: {'Rural': 189, 'Rural & Urban': 619, 'Urban': 85}\n",
      "No. of duplicates: 3\n"
     ]
    }
   ],
   "source": [
    "# Check number of unique values\n",
    "print(\"No. of unique values:\", len(column.unique()))\n",
    "\n",
    "# Check for null values\n",
    "print(\"Null:\", sum(column.isnull()))\n",
    "column.dropna(inplace = True)\n",
    "\n",
    "# Check for duplicates\n",
    "counter = dict(Counter(column))\n",
    "duplicates = { key:value for key, value in counter.items() if value > 1}\n",
    "print(\"Duplicates:\", duplicates)\n",
    "if len(duplicates) > 0:\n",
    "    print(\"No. of duplicates:\", len(duplicates))"
   ]
  },
  {
   "cell_type": "code",
   "execution_count": 70,
   "id": "domestic-broadway",
   "metadata": {},
   "outputs": [
    {
     "data": {
      "image/png": "[encoded data removed]",
      "text/plain": [
       "<Figure size 576x432 with 1 Axes>"
      ]
     },
     "metadata": {
      "needs_background": "light"
     },
     "output_type": "display_data"
    }
   ],
   "source": [
    "# Table of number of each class\n",
    "table = column.value_counts().rename_axis('Focus').reset_index(name='Count')\n",
    "\n",
    "# Plot number of each focus group\n",
    "plt.figure(figsize = (8, 6))\n",
    "plt.bar(table[\"Focus\"], table[\"Count\"])\n",
    "plt.title(\"Count of NGOs' Focuses\")\n",
    "plt.xlabel(\"Focus\")\n",
    "plt.ylabel('Count')\n",
    "plt.xticks(rotation = 20);\n",
    "plt.show()"
   ]
  },
  {
   "cell_type": "markdown",
   "id": "retired-correction",
   "metadata": {},
   "source": [
    "### Area of Operation: State\n",
    "<a class=\"anchor\" id=\"5.2.22\"></a>\n",
    "States that the NGO performs service in."
   ]
  },
  {
   "cell_type": "code",
   "execution_count": 71,
   "id": "presidential-accident",
   "metadata": {},
   "outputs": [
    {
     "data": {
      "text/plain": [
       "0                       Gujarat\n",
       "1                    Tamil Nadu\n",
       "2                           NaN\n",
       "3                        Odisha\n",
       "4             Jammu and Kashmir\n",
       "                 ...           \n",
       "921       ChhattisgarhKarnataka\n",
       "922                   All India\n",
       "923                  Tamil Nadu\n",
       "924                 Maharashtra\n",
       "925    Andhra PradeshPuducherry\n",
       "Name: Area of Operation: State, Length: 926, dtype: object"
      ]
     },
     "execution_count": 71,
     "metadata": {},
     "output_type": "execute_result"
    }
   ],
   "source": [
    "column = Darpan_Bihar_2[\"Area of Operation: State\"]\n",
    "column"
   ]
  },
  {
   "cell_type": "code",
   "execution_count": 72,
   "id": "atomic-presence",
   "metadata": {},
   "outputs": [
    {
     "name": "stdout",
     "output_type": "stream",
     "text": [
      "No. of unique values: 140\n",
      "Null: 150\n",
      "Duplicates: {'Gujarat': 34, 'Tamil Nadu': 63, 'Odisha': 36, 'Haryana': 4, 'Madhya Pradesh': 10, 'Delhi': 31, 'Uttar Pradesh': 33, 'Uttarakhand': 5, 'Maharashtra': 118, 'West Bengal': 55, 'Tripura': 3, 'Jharkhand': 10, 'Bihar': 18, 'Rajasthan': 22, 'All India': 133, 'Karnataka': 38, 'BiharJharkhand': 2, 'Tamil NaduTamil Nadu': 2, 'Andhra Pradesh': 13, 'BiharUttar PradeshUttarakhand': 3, 'Chhattisgarh': 2, 'Andhra PradeshTelangana': 4, 'DelhiHaryanaUttar Pradesh': 2, 'DelhiHaryanaRajasthanUttar Pradesh': 2, 'Telangana': 3, 'Kerala': 4, 'HaryanaUttar Pradesh': 2, 'Madhya PradeshMaharashtra': 2, 'DelhiHaryana': 5, 'Goa': 2, 'PuducherryTamil Nadu': 2, 'DelhiMaharashtra': 2, 'Puducherry': 2, 'GujaratMaharashtra': 2, 'MaharashtraMaharashtra': 2, 'MaharashtraRajasthan': 2}\n",
      "No. of duplicates: 36\n"
     ]
    }
   ],
   "source": [
    "# Check number of unique values\n",
    "print(\"No. of unique values:\", len(column.unique()))\n",
    "\n",
    "# Check for null values\n",
    "print(\"Null:\", sum(column.isnull()))\n",
    "column.dropna(inplace = True)\n",
    "\n",
    "# Check for duplicates\n",
    "counter = dict(Counter(column))\n",
    "duplicates = { key:value for key, value in counter.items() if value > 1}\n",
    "print(\"Duplicates:\", duplicates)\n",
    "if len(duplicates) > 0:\n",
    "    print(\"No. of duplicates:\", len(duplicates))"
   ]
  },
  {
   "cell_type": "markdown",
   "id": "spectacular-lobby",
   "metadata": {},
   "source": [
    "### PAN\n",
    "<a class=\"anchor\" id=\"5.2.23\"></a>\n",
    "Permanent Account Number. 10-digit alphanumeric number that is assigned to each NGO."
   ]
  },
  {
   "cell_type": "code",
   "execution_count": 73,
   "id": "tamil-powder",
   "metadata": {},
   "outputs": [
    {
     "data": {
      "text/plain": [
       "0      AACTS0036Q\n",
       "1      AACTD2691L\n",
       "2      AAETS2349N\n",
       "3      AACTV0963D\n",
       "4      AAACZ5957C\n",
       "          ...    \n",
       "921    AABCC6926B\n",
       "922    AAABM0639H\n",
       "923    AABTM6702C\n",
       "924    AAATC1150F\n",
       "925    AAATU3766H\n",
       "Name: PAN, Length: 926, dtype: object"
      ]
     },
     "execution_count": 73,
     "metadata": {},
     "output_type": "execute_result"
    }
   ],
   "source": [
    "column = Darpan_Bihar_2[\"PAN\"]\n",
    "column"
   ]
  },
  {
   "cell_type": "code",
   "execution_count": 74,
   "id": "parliamentary-editor",
   "metadata": {},
   "outputs": [
    {
     "name": "stdout",
     "output_type": "stream",
     "text": [
      "Rows without 10 digits: 0\n",
      "No. of unique values: 926\n",
      "Null: 0\n",
      "Duplicates: {}\n"
     ]
    }
   ],
   "source": [
    "# Check if all rows have 10 digits\n",
    "PAN_length = [len(PAN) for PAN in column]\n",
    "print(\"Rows without 10 digits:\", sum([length != 10 for length in PAN_length]))\n",
    "\n",
    "# Check number of unique values\n",
    "print(\"No. of unique values:\", len(column.unique()))\n",
    "\n",
    "# Check for null values\n",
    "print(\"Null:\", sum(column.isnull()))\n",
    "column.dropna(inplace = True)\n",
    "\n",
    "# Check for duplicates\n",
    "counter = dict(Counter(column))\n",
    "duplicates = { key:value for key, value in counter.items() if value > 1}\n",
    "print(\"Duplicates:\", duplicates)\n",
    "if len(duplicates) > 0:\n",
    "    print(\"No. of duplicates:\", len(duplicates))"
   ]
  },
  {
   "cell_type": "code",
   "execution_count": null,
   "id": "personalized-philippines",
   "metadata": {},
   "outputs": [],
   "source": []
  }
 ],
 "metadata": {
  "kernelspec": {
   "display_name": "Python 3",
   "language": "python",
   "name": "python3"
  },
  "language_info": {
   "codemirror_mode": {
    "name": "ipython",
    "version": 3
   },
   "file_extension": ".py",
   "mimetype": "text/x-python",
   "name": "python",
   "nbconvert_exporter": "python",
   "pygments_lexer": "ipython3",
   "version": "3.9.2"
  }
 },
 "nbformat": 4,
 "nbformat_minor": 5
}
