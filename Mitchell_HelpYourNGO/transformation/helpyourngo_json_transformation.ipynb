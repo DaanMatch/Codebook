{
 "cells": [
  {
   "cell_type": "markdown",
   "id": "a64d80de",
   "metadata": {},
   "source": [
    "# HelpYourNGO Before Glue Transformations"
   ]
  },
  {
   "cell_type": "markdown",
   "id": "5c3bedc9",
   "metadata": {},
   "source": [
    "## helpyourngo.json\n",
    "\n",
    "__Data provided by:__ www.helpyourngo.com <br/>\n",
    "__Source:__ s3://daanmatchdatafiles/webscrape-fall2021/helpyourngo.json <br/>\n",
    "__Type:__ json <br/>\n",
    "__Last Modified:__ October 31, 2021, 14:58:41 (UTC-07:00) <br/>\n",
    "__Size:__ 1.6 MB <br/>\n",
    "\n",
    "helpyourngo.json named helpyourngo_df contains: <br/>\n",
    "List of NGOs indexed on helpyourngo.com\n",
    "\n",
    "* COLUMN NAME: Content\n",
    "    * Issues\n",
    "    * Transformations\n",
    "\n",
    "* name: NGO Name\n",
    "    * Issues: Duplicate Names (e.g. Search NGO)\n",
    "* last_updated: Most recent year that this data was collected\n",
    "    \n",
    "* address: Address\n",
    "    * Issues: Escape chars\n",
    "\n",
    "* mobile: Phone Number\n",
    "    * Issues: Some NGOs have multiple phone numbers in the same column, Numbers may have an extra leading 0, Country code might be duplicated, Formatting varies dramatically\n",
    "    \n",
    "* email: Email\n",
    "    * Issues: Some NGOs have multiple emails in the same column\n",
    "    \n",
    "* website: Website\n",
    "    * Issues: String representation of NA (e.g. 'NA', 'N.A.', 'N. A.', 'N.A', 'Under Construction')\n",
    "    * Transformations: Convert string representations of NA to None\n",
    "    \n",
    "* annual_expenditure: Annual Expenditure for the last_updated Year\n",
    "    * Issues: Contains negative values\n",
    "    * Transformations: Remove commas and convert from str to int\n",
    "    \n",
    "* description: Description of the NGO\n",
    "    * Issues: Has abnormal spacings and irregular characters (‘ vs ')"
   ]
  },
  {
   "cell_type": "markdown",
   "id": "c271f6b1",
   "metadata": {},
   "source": [
    "## Imports"
   ]
  },
  {
   "cell_type": "code",
   "execution_count": 1,
   "id": "4cfbf1b2",
   "metadata": {
    "ExecuteTime": {
     "end_time": "2021-11-09T03:11:00.387687Z",
     "start_time": "2021-11-09T03:10:52.380429Z"
    }
   },
   "outputs": [],
   "source": [
    "import boto3\n",
    "import io\n",
    "import string\n",
    "import requests\n",
    "\n",
    "import pandas as pd\n",
    "import numpy as np\n",
    "\n",
    "import seaborn as sns\n",
    "import matplotlib.pyplot as plt\n",
    "import missingno as msno\n",
    "\n",
    "\n",
    "sns.set(rc={'figure.figsize':(16,5)})"
   ]
  },
  {
   "cell_type": "markdown",
   "id": "5bc76609",
   "metadata": {},
   "source": [
    "## Load Data"
   ]
  },
  {
   "cell_type": "code",
   "execution_count": 2,
   "id": "6d57fbd2",
   "metadata": {
    "ExecuteTime": {
     "end_time": "2021-11-09T03:11:01.412961Z",
     "start_time": "2021-11-09T03:11:00.396674Z"
    }
   },
   "outputs": [],
   "source": [
    "# df = pd.read_json('helpyourngo.json', orient='values')\n",
    "\n",
    "client = boto3.client('s3')\n",
    "resource = boto3.resource('s3')"
   ]
  },
  {
   "cell_type": "code",
   "execution_count": 3,
   "id": "a5ed049c",
   "metadata": {
    "ExecuteTime": {
     "end_time": "2021-11-09T03:11:02.071888Z",
     "start_time": "2021-11-09T03:11:01.425922Z"
    }
   },
   "outputs": [],
   "source": [
    "obj = client.get_object(Bucket='daanmatchdatafiles', Key='webscrape-fall2021/helpyourngo.json')\n",
    "df = pd.read_json(io.BytesIO(obj['Body'].read()))\n",
    "df_transformed = df.copy()"
   ]
  },
  {
   "cell_type": "markdown",
   "id": "ce260ce7",
   "metadata": {},
   "source": [
    "<br/>\n",
    "\n",
    "## Column Transformations"
   ]
  },
  {
   "cell_type": "markdown",
   "id": "c2fd7bcb",
   "metadata": {},
   "source": [
    "### name"
   ]
  },
  {
   "cell_type": "code",
   "execution_count": 4,
   "id": "892b4223",
   "metadata": {
    "ExecuteTime": {
     "end_time": "2021-11-09T03:11:02.102760Z",
     "start_time": "2021-11-09T03:11:02.082812Z"
    }
   },
   "outputs": [],
   "source": [
    "# No transformations for now"
   ]
  },
  {
   "cell_type": "markdown",
   "id": "14d951bc",
   "metadata": {},
   "source": [
    "<br/>\n",
    "\n",
    "### last_updated"
   ]
  },
  {
   "cell_type": "code",
   "execution_count": 5,
   "id": "2e3971f6",
   "metadata": {
    "ExecuteTime": {
     "end_time": "2021-11-09T03:11:02.607762Z",
     "start_time": "2021-11-09T03:11:02.113729Z"
    }
   },
   "outputs": [
    {
     "data": {
      "text/html": [
       "<div>\n",
       "<style scoped>\n",
       "    .dataframe tbody tr th:only-of-type {\n",
       "        vertical-align: middle;\n",
       "    }\n",
       "\n",
       "    .dataframe tbody tr th {\n",
       "        vertical-align: top;\n",
       "    }\n",
       "\n",
       "    .dataframe thead th {\n",
       "        text-align: right;\n",
       "    }\n",
       "</style>\n",
       "<table border=\"1\" class=\"dataframe\">\n",
       "  <thead>\n",
       "    <tr style=\"text-align: right;\">\n",
       "      <th></th>\n",
       "      <th>name</th>\n",
       "      <th>last_updated</th>\n",
       "      <th>address</th>\n",
       "      <th>mobile</th>\n",
       "      <th>email</th>\n",
       "      <th>website</th>\n",
       "      <th>annual_expenditure</th>\n",
       "      <th>description</th>\n",
       "    </tr>\n",
       "  </thead>\n",
       "  <tbody>\n",
       "    <tr>\n",
       "      <th>0</th>\n",
       "      <td>Aai Caretaker</td>\n",
       "      <td>2020-01-01</td>\n",
       "      <td>Room No. B/4, Ashok Nagar, Near Krishna Medica...</td>\n",
       "      <td>+91 22 25530537</td>\n",
       "      <td>info@aaicaretaker.org.in</td>\n",
       "      <td>www.aaicaretaker.in</td>\n",
       "      <td>138,990,084</td>\n",
       "      <td>Aai Caretaker is involved in diverse activitie...</td>\n",
       "    </tr>\n",
       "    <tr>\n",
       "      <th>1</th>\n",
       "      <td>Aakriti</td>\n",
       "      <td>2015-01-01</td>\n",
       "      <td>J-159, Sector-10 DLF, Faridabad 121006. Haryana</td>\n",
       "      <td>+91 9312263021</td>\n",
       "      <td>aakritischool@yahoo.in</td>\n",
       "      <td>www.aakritingo.org</td>\n",
       "      <td>1,023,204</td>\n",
       "      <td>A parent-initiative, Association for Ability K...</td>\n",
       "    </tr>\n",
       "    <tr>\n",
       "      <th>2</th>\n",
       "      <td>Aakash Maindwal Foundation</td>\n",
       "      <td>2016-01-01</td>\n",
       "      <td>107, First Floor, Block - Milano, Mahagun Mosa...</td>\n",
       "      <td>+91 120 4377527</td>\n",
       "      <td>aakashmaindwalfoundation@gmail.com</td>\n",
       "      <td>www.amfindia.org</td>\n",
       "      <td>767,980</td>\n",
       "      <td>Aakash Maindwal Foundation has been working to...</td>\n",
       "    </tr>\n",
       "    <tr>\n",
       "      <th>3</th>\n",
       "      <td>Aaradhana Sanstha</td>\n",
       "      <td>2013-01-01</td>\n",
       "      <td>14, Sulabhpuram, Sikandara Bodla Road, Agra 28...</td>\n",
       "      <td>+91 9639161612</td>\n",
       "      <td>drhchaudhary@yahoo.com</td>\n",
       "      <td>None</td>\n",
       "      <td>None</td>\n",
       "      <td>Aaradhana Sanstha was formed for educational u...</td>\n",
       "    </tr>\n",
       "    <tr>\n",
       "      <th>4</th>\n",
       "      <td>Action Against Hunger (Fight Hunger Foundation)</td>\n",
       "      <td>2019-01-01</td>\n",
       "      <td>201, Sai Prasad Building, Sion Kamgar CHS Ltd,...</td>\n",
       "      <td>+91 022 2611 1275</td>\n",
       "      <td>contact@fighthungerfoundation.org</td>\n",
       "      <td>www.actionagainsthunger.in</td>\n",
       "      <td>86,348,954</td>\n",
       "      <td>Action Against Hunger (AAH) registered as Figh...</td>\n",
       "    </tr>\n",
       "  </tbody>\n",
       "</table>\n",
       "</div>"
      ],
      "text/plain": [
       "                                              name last_updated  \\\n",
       "0                                    Aai Caretaker   2020-01-01   \n",
       "1                                          Aakriti   2015-01-01   \n",
       "2                       Aakash Maindwal Foundation   2016-01-01   \n",
       "3                                Aaradhana Sanstha   2013-01-01   \n",
       "4  Action Against Hunger (Fight Hunger Foundation)   2019-01-01   \n",
       "\n",
       "                                             address             mobile  \\\n",
       "0  Room No. B/4, Ashok Nagar, Near Krishna Medica...    +91 22 25530537   \n",
       "1   J-159, Sector-10 DLF, Faridabad 121006. Haryana      +91 9312263021   \n",
       "2  107, First Floor, Block - Milano, Mahagun Mosa...    +91 120 4377527   \n",
       "3  14, Sulabhpuram, Sikandara Bodla Road, Agra 28...     +91 9639161612   \n",
       "4  201, Sai Prasad Building, Sion Kamgar CHS Ltd,...  +91 022 2611 1275   \n",
       "\n",
       "                                email                     website  \\\n",
       "0            info@aaicaretaker.org.in         www.aaicaretaker.in   \n",
       "1              aakritischool@yahoo.in          www.aakritingo.org   \n",
       "2  aakashmaindwalfoundation@gmail.com            www.amfindia.org   \n",
       "3              drhchaudhary@yahoo.com                        None   \n",
       "4   contact@fighthungerfoundation.org  www.actionagainsthunger.in   \n",
       "\n",
       "  annual_expenditure                                        description  \n",
       "0        138,990,084  Aai Caretaker is involved in diverse activitie...  \n",
       "1          1,023,204  A parent-initiative, Association for Ability K...  \n",
       "2            767,980  Aakash Maindwal Foundation has been working to...  \n",
       "3               None  Aaradhana Sanstha was formed for educational u...  \n",
       "4         86,348,954  Action Against Hunger (AAH) registered as Figh...  "
      ]
     },
     "execution_count": 5,
     "metadata": {},
     "output_type": "execute_result"
    }
   ],
   "source": [
    "# Convert last_updated to date\n",
    "df_transformed[\"last_updated\"] = pd.to_datetime(df[\"last_updated\"], format='%Y', errors='coerce').dt.strftime('%Y-%m-%d')\n",
    "df_transformed.head()"
   ]
  },
  {
   "cell_type": "markdown",
   "id": "973910ee",
   "metadata": {
    "ExecuteTime": {
     "end_time": "2021-10-28T04:34:33.661130Z",
     "start_time": "2021-10-28T04:34:33.621245Z"
    }
   },
   "source": [
    "<br/>\n",
    "\n",
    "### address"
   ]
  },
  {
   "cell_type": "code",
   "execution_count": 6,
   "id": "dcba4ede",
   "metadata": {
    "ExecuteTime": {
     "end_time": "2021-11-09T03:11:03.145819Z",
     "start_time": "2021-11-09T03:11:02.618726Z"
    }
   },
   "outputs": [],
   "source": [
    "# No transformations for now"
   ]
  },
  {
   "cell_type": "markdown",
   "id": "b5c4752b",
   "metadata": {},
   "source": [
    "<br/>\n",
    "\n",
    "### mobile"
   ]
  },
  {
   "cell_type": "code",
   "execution_count": 7,
   "id": "67fe1d45",
   "metadata": {
    "ExecuteTime": {
     "end_time": "2021-11-09T03:11:04.014070Z",
     "start_time": "2021-11-09T03:11:03.154804Z"
    }
   },
   "outputs": [
    {
     "name": "stderr",
     "output_type": "stream",
     "text": [
      "C:\\Users\\mitch\\Anaconda3\\lib\\site-packages\\ipykernel_launcher.py:14: FutureWarning: The default value of regex will change from True to False in a future version. In addition, single character regular expressions will *not* be treated as literal strings when regex=True.\n",
      "  \n"
     ]
    },
    {
     "data": {
      "text/html": [
       "<div>\n",
       "<style scoped>\n",
       "    .dataframe tbody tr th:only-of-type {\n",
       "        vertical-align: middle;\n",
       "    }\n",
       "\n",
       "    .dataframe tbody tr th {\n",
       "        vertical-align: top;\n",
       "    }\n",
       "\n",
       "    .dataframe thead th {\n",
       "        text-align: right;\n",
       "    }\n",
       "</style>\n",
       "<table border=\"1\" class=\"dataframe\">\n",
       "  <thead>\n",
       "    <tr style=\"text-align: right;\">\n",
       "      <th></th>\n",
       "      <th>name</th>\n",
       "      <th>last_updated</th>\n",
       "      <th>address</th>\n",
       "      <th>mobile</th>\n",
       "      <th>email</th>\n",
       "      <th>website</th>\n",
       "      <th>annual_expenditure</th>\n",
       "      <th>description</th>\n",
       "    </tr>\n",
       "  </thead>\n",
       "  <tbody>\n",
       "    <tr>\n",
       "      <th>0</th>\n",
       "      <td>Aai Caretaker</td>\n",
       "      <td>2020-01-01</td>\n",
       "      <td>Room No. B/4, Ashok Nagar, Near Krishna Medica...</td>\n",
       "      <td>2225530537</td>\n",
       "      <td>info@aaicaretaker.org.in</td>\n",
       "      <td>www.aaicaretaker.in</td>\n",
       "      <td>138,990,084</td>\n",
       "      <td>Aai Caretaker is involved in diverse activitie...</td>\n",
       "    </tr>\n",
       "    <tr>\n",
       "      <th>1</th>\n",
       "      <td>Aakriti</td>\n",
       "      <td>2015-01-01</td>\n",
       "      <td>J-159, Sector-10 DLF, Faridabad 121006. Haryana</td>\n",
       "      <td>9312263021</td>\n",
       "      <td>aakritischool@yahoo.in</td>\n",
       "      <td>www.aakritingo.org</td>\n",
       "      <td>1,023,204</td>\n",
       "      <td>A parent-initiative, Association for Ability K...</td>\n",
       "    </tr>\n",
       "    <tr>\n",
       "      <th>2</th>\n",
       "      <td>Aakash Maindwal Foundation</td>\n",
       "      <td>2016-01-01</td>\n",
       "      <td>107, First Floor, Block - Milano, Mahagun Mosa...</td>\n",
       "      <td>1204377527</td>\n",
       "      <td>aakashmaindwalfoundation@gmail.com</td>\n",
       "      <td>www.amfindia.org</td>\n",
       "      <td>767,980</td>\n",
       "      <td>Aakash Maindwal Foundation has been working to...</td>\n",
       "    </tr>\n",
       "    <tr>\n",
       "      <th>3</th>\n",
       "      <td>Aaradhana Sanstha</td>\n",
       "      <td>2013-01-01</td>\n",
       "      <td>14, Sulabhpuram, Sikandara Bodla Road, Agra 28...</td>\n",
       "      <td>9639161612</td>\n",
       "      <td>drhchaudhary@yahoo.com</td>\n",
       "      <td>None</td>\n",
       "      <td>None</td>\n",
       "      <td>Aaradhana Sanstha was formed for educational u...</td>\n",
       "    </tr>\n",
       "    <tr>\n",
       "      <th>4</th>\n",
       "      <td>Action Against Hunger (Fight Hunger Foundation)</td>\n",
       "      <td>2019-01-01</td>\n",
       "      <td>201, Sai Prasad Building, Sion Kamgar CHS Ltd,...</td>\n",
       "      <td>2226111275</td>\n",
       "      <td>contact@fighthungerfoundation.org</td>\n",
       "      <td>www.actionagainsthunger.in</td>\n",
       "      <td>86,348,954</td>\n",
       "      <td>Action Against Hunger (AAH) registered as Figh...</td>\n",
       "    </tr>\n",
       "  </tbody>\n",
       "</table>\n",
       "</div>"
      ],
      "text/plain": [
       "                                              name last_updated  \\\n",
       "0                                    Aai Caretaker   2020-01-01   \n",
       "1                                          Aakriti   2015-01-01   \n",
       "2                       Aakash Maindwal Foundation   2016-01-01   \n",
       "3                                Aaradhana Sanstha   2013-01-01   \n",
       "4  Action Against Hunger (Fight Hunger Foundation)   2019-01-01   \n",
       "\n",
       "                                             address      mobile  \\\n",
       "0  Room No. B/4, Ashok Nagar, Near Krishna Medica...  2225530537   \n",
       "1   J-159, Sector-10 DLF, Faridabad 121006. Haryana   9312263021   \n",
       "2  107, First Floor, Block - Milano, Mahagun Mosa...  1204377527   \n",
       "3  14, Sulabhpuram, Sikandara Bodla Road, Agra 28...  9639161612   \n",
       "4  201, Sai Prasad Building, Sion Kamgar CHS Ltd,...  2226111275   \n",
       "\n",
       "                                email                     website  \\\n",
       "0            info@aaicaretaker.org.in         www.aaicaretaker.in   \n",
       "1              aakritischool@yahoo.in          www.aakritingo.org   \n",
       "2  aakashmaindwalfoundation@gmail.com            www.amfindia.org   \n",
       "3              drhchaudhary@yahoo.com                        None   \n",
       "4   contact@fighthungerfoundation.org  www.actionagainsthunger.in   \n",
       "\n",
       "  annual_expenditure                                        description  \n",
       "0        138,990,084  Aai Caretaker is involved in diverse activitie...  \n",
       "1          1,023,204  A parent-initiative, Association for Ability K...  \n",
       "2            767,980  Aakash Maindwal Foundation has been working to...  \n",
       "3               None  Aaradhana Sanstha was formed for educational u...  \n",
       "4         86,348,954  Action Against Hunger (AAH) registered as Figh...  "
      ]
     },
     "execution_count": 7,
     "metadata": {},
     "output_type": "execute_result"
    }
   ],
   "source": [
    "# Replace all non numeric characters and then take the last 10 chars\n",
    "# last 10 chars won't capture leading 0 or the country code\n",
    "\n",
    "temp = df[\"mobile\"]\n",
    "to_remove = [\" \", \"-\", \"/\", \"(\", \")\", \";\", \",\", \"+\"]\n",
    "\n",
    "def format_mobile(m):\n",
    "    if m is None or len(m)<10:\n",
    "        return None\n",
    "    else:\n",
    "        return m[-10:]\n",
    "\n",
    "for c in to_remove:\n",
    "    temp = temp.str.replace(c, \"\")\n",
    "\n",
    "df_transformed[\"mobile\"] = temp.apply(format_mobile)\n",
    "df_transformed.head()"
   ]
  },
  {
   "cell_type": "markdown",
   "id": "0e22125d",
   "metadata": {},
   "source": [
    "<br/>\n",
    "\n",
    "### email"
   ]
  },
  {
   "cell_type": "code",
   "execution_count": 8,
   "id": "51f26ae3",
   "metadata": {
    "ExecuteTime": {
     "end_time": "2021-11-09T03:11:04.738194Z",
     "start_time": "2021-11-09T03:11:04.025043Z"
    },
    "scrolled": false
   },
   "outputs": [
    {
     "data": {
      "text/html": [
       "<div>\n",
       "<style scoped>\n",
       "    .dataframe tbody tr th:only-of-type {\n",
       "        vertical-align: middle;\n",
       "    }\n",
       "\n",
       "    .dataframe tbody tr th {\n",
       "        vertical-align: top;\n",
       "    }\n",
       "\n",
       "    .dataframe thead th {\n",
       "        text-align: right;\n",
       "    }\n",
       "</style>\n",
       "<table border=\"1\" class=\"dataframe\">\n",
       "  <thead>\n",
       "    <tr style=\"text-align: right;\">\n",
       "      <th></th>\n",
       "      <th>name</th>\n",
       "      <th>last_updated</th>\n",
       "      <th>address</th>\n",
       "      <th>mobile</th>\n",
       "      <th>email</th>\n",
       "      <th>website</th>\n",
       "      <th>annual_expenditure</th>\n",
       "      <th>description</th>\n",
       "    </tr>\n",
       "  </thead>\n",
       "  <tbody>\n",
       "    <tr>\n",
       "      <th>0</th>\n",
       "      <td>Aai Caretaker</td>\n",
       "      <td>2020-01-01</td>\n",
       "      <td>Room No. B/4, Ashok Nagar, Near Krishna Medica...</td>\n",
       "      <td>2225530537</td>\n",
       "      <td>info@aaicaretaker.org.in</td>\n",
       "      <td>www.aaicaretaker.in</td>\n",
       "      <td>138,990,084</td>\n",
       "      <td>Aai Caretaker is involved in diverse activitie...</td>\n",
       "    </tr>\n",
       "    <tr>\n",
       "      <th>1</th>\n",
       "      <td>Aakriti</td>\n",
       "      <td>2015-01-01</td>\n",
       "      <td>J-159, Sector-10 DLF, Faridabad 121006. Haryana</td>\n",
       "      <td>9312263021</td>\n",
       "      <td>aakritischool@yahoo.in</td>\n",
       "      <td>www.aakritingo.org</td>\n",
       "      <td>1,023,204</td>\n",
       "      <td>A parent-initiative, Association for Ability K...</td>\n",
       "    </tr>\n",
       "    <tr>\n",
       "      <th>2</th>\n",
       "      <td>Aakash Maindwal Foundation</td>\n",
       "      <td>2016-01-01</td>\n",
       "      <td>107, First Floor, Block - Milano, Mahagun Mosa...</td>\n",
       "      <td>1204377527</td>\n",
       "      <td>aakashmaindwalfoundation@gmail.com</td>\n",
       "      <td>www.amfindia.org</td>\n",
       "      <td>767,980</td>\n",
       "      <td>Aakash Maindwal Foundation has been working to...</td>\n",
       "    </tr>\n",
       "    <tr>\n",
       "      <th>3</th>\n",
       "      <td>Aaradhana Sanstha</td>\n",
       "      <td>2013-01-01</td>\n",
       "      <td>14, Sulabhpuram, Sikandara Bodla Road, Agra 28...</td>\n",
       "      <td>9639161612</td>\n",
       "      <td>drhchaudhary@yahoo.com</td>\n",
       "      <td>None</td>\n",
       "      <td>None</td>\n",
       "      <td>Aaradhana Sanstha was formed for educational u...</td>\n",
       "    </tr>\n",
       "    <tr>\n",
       "      <th>4</th>\n",
       "      <td>Action Against Hunger (Fight Hunger Foundation)</td>\n",
       "      <td>2019-01-01</td>\n",
       "      <td>201, Sai Prasad Building, Sion Kamgar CHS Ltd,...</td>\n",
       "      <td>2226111275</td>\n",
       "      <td>contact@fighthungerfoundation.org</td>\n",
       "      <td>www.actionagainsthunger.in</td>\n",
       "      <td>86,348,954</td>\n",
       "      <td>Action Against Hunger (AAH) registered as Figh...</td>\n",
       "    </tr>\n",
       "  </tbody>\n",
       "</table>\n",
       "</div>"
      ],
      "text/plain": [
       "                                              name last_updated  \\\n",
       "0                                    Aai Caretaker   2020-01-01   \n",
       "1                                          Aakriti   2015-01-01   \n",
       "2                       Aakash Maindwal Foundation   2016-01-01   \n",
       "3                                Aaradhana Sanstha   2013-01-01   \n",
       "4  Action Against Hunger (Fight Hunger Foundation)   2019-01-01   \n",
       "\n",
       "                                             address      mobile  \\\n",
       "0  Room No. B/4, Ashok Nagar, Near Krishna Medica...  2225530537   \n",
       "1   J-159, Sector-10 DLF, Faridabad 121006. Haryana   9312263021   \n",
       "2  107, First Floor, Block - Milano, Mahagun Mosa...  1204377527   \n",
       "3  14, Sulabhpuram, Sikandara Bodla Road, Agra 28...  9639161612   \n",
       "4  201, Sai Prasad Building, Sion Kamgar CHS Ltd,...  2226111275   \n",
       "\n",
       "                                email                     website  \\\n",
       "0            info@aaicaretaker.org.in         www.aaicaretaker.in   \n",
       "1              aakritischool@yahoo.in          www.aakritingo.org   \n",
       "2  aakashmaindwalfoundation@gmail.com            www.amfindia.org   \n",
       "3              drhchaudhary@yahoo.com                        None   \n",
       "4   contact@fighthungerfoundation.org  www.actionagainsthunger.in   \n",
       "\n",
       "  annual_expenditure                                        description  \n",
       "0        138,990,084  Aai Caretaker is involved in diverse activitie...  \n",
       "1          1,023,204  A parent-initiative, Association for Ability K...  \n",
       "2            767,980  Aakash Maindwal Foundation has been working to...  \n",
       "3               None  Aaradhana Sanstha was formed for educational u...  \n",
       "4         86,348,954  Action Against Hunger (AAH) registered as Figh...  "
      ]
     },
     "execution_count": 8,
     "metadata": {},
     "output_type": "execute_result"
    }
   ],
   "source": [
    "# Replace existing delimiters with common delimiter and capture everything before that\n",
    "temp = df.email\n",
    "to_remove = [\";\", \",\"]\n",
    "delimiter = \" #CAPTURE THE STUFF BEFORE ME# \"\n",
    "\n",
    "def extract_first_email(email):\n",
    "    if not email or delimiter not in email:\n",
    "        return email\n",
    "    else: # delimiter is in email\n",
    "        return email[:email.find(delimiter)] # return stuff before delimiter\n",
    "\n",
    "for c in to_remove:\n",
    "    temp = temp.str.replace(c, delimiter)\n",
    "\n",
    "df_transformed[\"email\"] = temp.apply(extract_first_email)\n",
    "df_transformed.head()"
   ]
  },
  {
   "cell_type": "markdown",
   "id": "b0f8a636",
   "metadata": {},
   "source": [
    "<br/>\n",
    "\n",
    "### Website"
   ]
  },
  {
   "cell_type": "code",
   "execution_count": 9,
   "id": "b893bc38",
   "metadata": {
    "ExecuteTime": {
     "end_time": "2021-11-09T03:11:05.511479Z",
     "start_time": "2021-11-09T03:11:04.751101Z"
    }
   },
   "outputs": [
    {
     "name": "stderr",
     "output_type": "stream",
     "text": [
      "C:\\Users\\mitch\\Anaconda3\\lib\\site-packages\\ipykernel_launcher.py:6: SettingWithCopyWarning: \n",
      "A value is trying to be set on a copy of a slice from a DataFrame\n",
      "\n",
      "See the caveats in the documentation: https://pandas.pydata.org/pandas-docs/stable/user_guide/indexing.html#returning-a-view-versus-a-copy\n",
      "  \n"
     ]
    },
    {
     "data": {
      "text/html": [
       "<div>\n",
       "<style scoped>\n",
       "    .dataframe tbody tr th:only-of-type {\n",
       "        vertical-align: middle;\n",
       "    }\n",
       "\n",
       "    .dataframe tbody tr th {\n",
       "        vertical-align: top;\n",
       "    }\n",
       "\n",
       "    .dataframe thead th {\n",
       "        text-align: right;\n",
       "    }\n",
       "</style>\n",
       "<table border=\"1\" class=\"dataframe\">\n",
       "  <thead>\n",
       "    <tr style=\"text-align: right;\">\n",
       "      <th></th>\n",
       "      <th>name</th>\n",
       "      <th>last_updated</th>\n",
       "      <th>address</th>\n",
       "      <th>mobile</th>\n",
       "      <th>email</th>\n",
       "      <th>website</th>\n",
       "      <th>annual_expenditure</th>\n",
       "      <th>description</th>\n",
       "    </tr>\n",
       "  </thead>\n",
       "  <tbody>\n",
       "    <tr>\n",
       "      <th>0</th>\n",
       "      <td>Aai Caretaker</td>\n",
       "      <td>2020-01-01</td>\n",
       "      <td>Room No. B/4, Ashok Nagar, Near Krishna Medica...</td>\n",
       "      <td>2225530537</td>\n",
       "      <td>info@aaicaretaker.org.in</td>\n",
       "      <td>www.aaicaretaker.in</td>\n",
       "      <td>138,990,084</td>\n",
       "      <td>Aai Caretaker is involved in diverse activitie...</td>\n",
       "    </tr>\n",
       "    <tr>\n",
       "      <th>1</th>\n",
       "      <td>Aakriti</td>\n",
       "      <td>2015-01-01</td>\n",
       "      <td>J-159, Sector-10 DLF, Faridabad 121006. Haryana</td>\n",
       "      <td>9312263021</td>\n",
       "      <td>aakritischool@yahoo.in</td>\n",
       "      <td>www.aakritingo.org</td>\n",
       "      <td>1,023,204</td>\n",
       "      <td>A parent-initiative, Association for Ability K...</td>\n",
       "    </tr>\n",
       "    <tr>\n",
       "      <th>2</th>\n",
       "      <td>Aakash Maindwal Foundation</td>\n",
       "      <td>2016-01-01</td>\n",
       "      <td>107, First Floor, Block - Milano, Mahagun Mosa...</td>\n",
       "      <td>1204377527</td>\n",
       "      <td>aakashmaindwalfoundation@gmail.com</td>\n",
       "      <td>www.amfindia.org</td>\n",
       "      <td>767,980</td>\n",
       "      <td>Aakash Maindwal Foundation has been working to...</td>\n",
       "    </tr>\n",
       "    <tr>\n",
       "      <th>3</th>\n",
       "      <td>Aaradhana Sanstha</td>\n",
       "      <td>2013-01-01</td>\n",
       "      <td>14, Sulabhpuram, Sikandara Bodla Road, Agra 28...</td>\n",
       "      <td>9639161612</td>\n",
       "      <td>drhchaudhary@yahoo.com</td>\n",
       "      <td>None</td>\n",
       "      <td>None</td>\n",
       "      <td>Aaradhana Sanstha was formed for educational u...</td>\n",
       "    </tr>\n",
       "    <tr>\n",
       "      <th>4</th>\n",
       "      <td>Action Against Hunger (Fight Hunger Foundation)</td>\n",
       "      <td>2019-01-01</td>\n",
       "      <td>201, Sai Prasad Building, Sion Kamgar CHS Ltd,...</td>\n",
       "      <td>2226111275</td>\n",
       "      <td>contact@fighthungerfoundation.org</td>\n",
       "      <td>www.actionagainsthunger.in</td>\n",
       "      <td>86,348,954</td>\n",
       "      <td>Action Against Hunger (AAH) registered as Figh...</td>\n",
       "    </tr>\n",
       "  </tbody>\n",
       "</table>\n",
       "</div>"
      ],
      "text/plain": [
       "                                              name last_updated  \\\n",
       "0                                    Aai Caretaker   2020-01-01   \n",
       "1                                          Aakriti   2015-01-01   \n",
       "2                       Aakash Maindwal Foundation   2016-01-01   \n",
       "3                                Aaradhana Sanstha   2013-01-01   \n",
       "4  Action Against Hunger (Fight Hunger Foundation)   2019-01-01   \n",
       "\n",
       "                                             address      mobile  \\\n",
       "0  Room No. B/4, Ashok Nagar, Near Krishna Medica...  2225530537   \n",
       "1   J-159, Sector-10 DLF, Faridabad 121006. Haryana   9312263021   \n",
       "2  107, First Floor, Block - Milano, Mahagun Mosa...  1204377527   \n",
       "3  14, Sulabhpuram, Sikandara Bodla Road, Agra 28...  9639161612   \n",
       "4  201, Sai Prasad Building, Sion Kamgar CHS Ltd,...  2226111275   \n",
       "\n",
       "                                email                     website  \\\n",
       "0            info@aaicaretaker.org.in         www.aaicaretaker.in   \n",
       "1              aakritischool@yahoo.in          www.aakritingo.org   \n",
       "2  aakashmaindwalfoundation@gmail.com            www.amfindia.org   \n",
       "3              drhchaudhary@yahoo.com                        None   \n",
       "4   contact@fighthungerfoundation.org  www.actionagainsthunger.in   \n",
       "\n",
       "  annual_expenditure                                        description  \n",
       "0        138,990,084  Aai Caretaker is involved in diverse activitie...  \n",
       "1          1,023,204  A parent-initiative, Association for Ability K...  \n",
       "2            767,980  Aakash Maindwal Foundation has been working to...  \n",
       "3               None  Aaradhana Sanstha was formed for educational u...  \n",
       "4         86,348,954  Action Against Hunger (AAH) registered as Figh...  "
      ]
     },
     "execution_count": 9,
     "metadata": {},
     "output_type": "execute_result"
    }
   ],
   "source": [
    "# If string resembles \"NA\", then convert it's value to None\n",
    "temp = df.website\n",
    "str_rep_NA = [\"N.A.\", \"N. A.\", \"NA\", \"N.A\", \"Under Construction\"]\n",
    "\n",
    "for s in str_rep_NA:\n",
    "    temp[temp == s] = None\n",
    "    \n",
    "df_transformed[\"website\"] = temp\n",
    "df_transformed.head()"
   ]
  },
  {
   "cell_type": "markdown",
   "id": "4efca482",
   "metadata": {},
   "source": [
    "<br/>\n",
    "\n",
    "### annual_expenditure"
   ]
  },
  {
   "cell_type": "code",
   "execution_count": 10,
   "id": "95412957",
   "metadata": {
    "ExecuteTime": {
     "end_time": "2021-11-09T03:11:05.886757Z",
     "start_time": "2021-11-09T03:11:05.521453Z"
    }
   },
   "outputs": [
    {
     "data": {
      "text/html": [
       "<div>\n",
       "<style scoped>\n",
       "    .dataframe tbody tr th:only-of-type {\n",
       "        vertical-align: middle;\n",
       "    }\n",
       "\n",
       "    .dataframe tbody tr th {\n",
       "        vertical-align: top;\n",
       "    }\n",
       "\n",
       "    .dataframe thead th {\n",
       "        text-align: right;\n",
       "    }\n",
       "</style>\n",
       "<table border=\"1\" class=\"dataframe\">\n",
       "  <thead>\n",
       "    <tr style=\"text-align: right;\">\n",
       "      <th></th>\n",
       "      <th>name</th>\n",
       "      <th>last_updated</th>\n",
       "      <th>address</th>\n",
       "      <th>mobile</th>\n",
       "      <th>email</th>\n",
       "      <th>website</th>\n",
       "      <th>annual_expenditure</th>\n",
       "      <th>description</th>\n",
       "    </tr>\n",
       "  </thead>\n",
       "  <tbody>\n",
       "    <tr>\n",
       "      <th>0</th>\n",
       "      <td>Aai Caretaker</td>\n",
       "      <td>2020-01-01</td>\n",
       "      <td>Room No. B/4, Ashok Nagar, Near Krishna Medica...</td>\n",
       "      <td>2225530537</td>\n",
       "      <td>info@aaicaretaker.org.in</td>\n",
       "      <td>www.aaicaretaker.in</td>\n",
       "      <td>138990084.0</td>\n",
       "      <td>Aai Caretaker is involved in diverse activitie...</td>\n",
       "    </tr>\n",
       "    <tr>\n",
       "      <th>1</th>\n",
       "      <td>Aakriti</td>\n",
       "      <td>2015-01-01</td>\n",
       "      <td>J-159, Sector-10 DLF, Faridabad 121006. Haryana</td>\n",
       "      <td>9312263021</td>\n",
       "      <td>aakritischool@yahoo.in</td>\n",
       "      <td>www.aakritingo.org</td>\n",
       "      <td>1023204.0</td>\n",
       "      <td>A parent-initiative, Association for Ability K...</td>\n",
       "    </tr>\n",
       "    <tr>\n",
       "      <th>2</th>\n",
       "      <td>Aakash Maindwal Foundation</td>\n",
       "      <td>2016-01-01</td>\n",
       "      <td>107, First Floor, Block - Milano, Mahagun Mosa...</td>\n",
       "      <td>1204377527</td>\n",
       "      <td>aakashmaindwalfoundation@gmail.com</td>\n",
       "      <td>www.amfindia.org</td>\n",
       "      <td>767980.0</td>\n",
       "      <td>Aakash Maindwal Foundation has been working to...</td>\n",
       "    </tr>\n",
       "    <tr>\n",
       "      <th>3</th>\n",
       "      <td>Aaradhana Sanstha</td>\n",
       "      <td>2013-01-01</td>\n",
       "      <td>14, Sulabhpuram, Sikandara Bodla Road, Agra 28...</td>\n",
       "      <td>9639161612</td>\n",
       "      <td>drhchaudhary@yahoo.com</td>\n",
       "      <td>None</td>\n",
       "      <td>NaN</td>\n",
       "      <td>Aaradhana Sanstha was formed for educational u...</td>\n",
       "    </tr>\n",
       "    <tr>\n",
       "      <th>4</th>\n",
       "      <td>Action Against Hunger (Fight Hunger Foundation)</td>\n",
       "      <td>2019-01-01</td>\n",
       "      <td>201, Sai Prasad Building, Sion Kamgar CHS Ltd,...</td>\n",
       "      <td>2226111275</td>\n",
       "      <td>contact@fighthungerfoundation.org</td>\n",
       "      <td>www.actionagainsthunger.in</td>\n",
       "      <td>86348954.0</td>\n",
       "      <td>Action Against Hunger (AAH) registered as Figh...</td>\n",
       "    </tr>\n",
       "  </tbody>\n",
       "</table>\n",
       "</div>"
      ],
      "text/plain": [
       "                                              name last_updated  \\\n",
       "0                                    Aai Caretaker   2020-01-01   \n",
       "1                                          Aakriti   2015-01-01   \n",
       "2                       Aakash Maindwal Foundation   2016-01-01   \n",
       "3                                Aaradhana Sanstha   2013-01-01   \n",
       "4  Action Against Hunger (Fight Hunger Foundation)   2019-01-01   \n",
       "\n",
       "                                             address      mobile  \\\n",
       "0  Room No. B/4, Ashok Nagar, Near Krishna Medica...  2225530537   \n",
       "1   J-159, Sector-10 DLF, Faridabad 121006. Haryana   9312263021   \n",
       "2  107, First Floor, Block - Milano, Mahagun Mosa...  1204377527   \n",
       "3  14, Sulabhpuram, Sikandara Bodla Road, Agra 28...  9639161612   \n",
       "4  201, Sai Prasad Building, Sion Kamgar CHS Ltd,...  2226111275   \n",
       "\n",
       "                                email                     website  \\\n",
       "0            info@aaicaretaker.org.in         www.aaicaretaker.in   \n",
       "1              aakritischool@yahoo.in          www.aakritingo.org   \n",
       "2  aakashmaindwalfoundation@gmail.com            www.amfindia.org   \n",
       "3              drhchaudhary@yahoo.com                        None   \n",
       "4   contact@fighthungerfoundation.org  www.actionagainsthunger.in   \n",
       "\n",
       "   annual_expenditure                                        description  \n",
       "0         138990084.0  Aai Caretaker is involved in diverse activitie...  \n",
       "1           1023204.0  A parent-initiative, Association for Ability K...  \n",
       "2            767980.0  Aakash Maindwal Foundation has been working to...  \n",
       "3                 NaN  Aaradhana Sanstha was formed for educational u...  \n",
       "4          86348954.0  Action Against Hunger (AAH) registered as Figh...  "
      ]
     },
     "execution_count": 10,
     "metadata": {},
     "output_type": "execute_result"
    }
   ],
   "source": [
    "# Convert to float\n",
    "temp = df.annual_expenditure\n",
    "remove_commas = temp.str.replace(',', '')\n",
    "\n",
    "df_transformed[\"annual_expenditure\"] = pd.to_numeric(remove_commas)\n",
    "df_transformed.head()"
   ]
  },
  {
   "cell_type": "markdown",
   "id": "fda0a95b",
   "metadata": {},
   "source": [
    "<br/>\n",
    "\n",
    "### description"
   ]
  },
  {
   "cell_type": "code",
   "execution_count": 11,
   "id": "ea9be4a6",
   "metadata": {
    "ExecuteTime": {
     "end_time": "2021-11-09T03:11:06.294428Z",
     "start_time": "2021-11-09T03:11:05.895717Z"
    }
   },
   "outputs": [],
   "source": [
    "# No transformations for now"
   ]
  },
  {
   "cell_type": "markdown",
   "id": "12a472ee",
   "metadata": {},
   "source": [
    "<br/>\n",
    "\n",
    "## Save Transformed Data"
   ]
  },
  {
   "cell_type": "code",
   "execution_count": 12,
   "id": "d3723b9b",
   "metadata": {
    "ExecuteTime": {
     "end_time": "2021-11-09T03:11:06.467469Z",
     "start_time": "2021-11-09T03:11:06.304404Z"
    }
   },
   "outputs": [
    {
     "name": "stdout",
     "output_type": "stream",
     "text": [
      "<class 'pandas.core.frame.DataFrame'>\n",
      "RangeIndex: 688 entries, 0 to 687\n",
      "Data columns (total 8 columns):\n",
      " #   Column              Non-Null Count  Dtype  \n",
      "---  ------              --------------  -----  \n",
      " 0   name                688 non-null    object \n",
      " 1   last_updated        679 non-null    object \n",
      " 2   address             688 non-null    object \n",
      " 3   mobile              681 non-null    object \n",
      " 4   email               683 non-null    object \n",
      " 5   website             611 non-null    object \n",
      " 6   annual_expenditure  660 non-null    float64\n",
      " 7   description         688 non-null    object \n",
      "dtypes: float64(1), object(7)\n",
      "memory usage: 43.1+ KB\n"
     ]
    }
   ],
   "source": [
    "df_transformed.info()"
   ]
  },
  {
   "cell_type": "code",
   "execution_count": 13,
   "id": "7360e534",
   "metadata": {
    "ExecuteTime": {
     "end_time": "2021-11-09T03:11:06.749248Z",
     "start_time": "2021-11-09T03:11:06.481433Z"
    }
   },
   "outputs": [],
   "source": [
    "df_transformed.to_json(\"helpyourngo_before_glue_transformation.json\", lines=True, orient='records')"
   ]
  }
 ],
 "metadata": {
  "kernelspec": {
   "display_name": "Python 3",
   "language": "python",
   "name": "python3"
  },
  "language_info": {
   "codemirror_mode": {
    "name": "ipython",
    "version": 3
   },
   "file_extension": ".py",
   "mimetype": "text/x-python",
   "name": "python",
   "nbconvert_exporter": "python",
   "pygments_lexer": "ipython3",
   "version": "3.7.3"
  },
  "toc": {
   "base_numbering": 1,
   "nav_menu": {},
   "number_sections": true,
   "sideBar": true,
   "skip_h1_title": false,
   "title_cell": "Table of Contents",
   "title_sidebar": "Contents",
   "toc_cell": false,
   "toc_position": {},
   "toc_section_display": true,
   "toc_window_display": false
  }
 },
 "nbformat": 4,
 "nbformat_minor": 5
}
