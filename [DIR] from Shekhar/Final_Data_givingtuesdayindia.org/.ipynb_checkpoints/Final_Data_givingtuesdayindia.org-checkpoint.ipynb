{
 "cells": [
  {
   "cell_type": "markdown",
   "metadata": {},
   "source": [
    "## Codebook"
   ]
  },
  {
   "cell_type": "markdown",
   "metadata": {},
   "source": [
    "**Authors**: Erica Wo\n",
    "\n",
    "Documenting existing data files of DaanMatch with information about location, owner, \"version\", source etc."
   ]
  },
  {
   "cell_type": "code",
   "execution_count": 59,
   "metadata": {},
   "outputs": [],
   "source": [
    "import pandas as pd\n",
    "import numpy as np\n",
    "import boto3\n",
    "import seaborn as sns\n",
    "import matplotlib.pyplot as plt\n",
    "from collections import Counter\n",
    "import io\n",
    "import string"
   ]
  },
  {
   "cell_type": "code",
   "execution_count": 60,
   "metadata": {},
   "outputs": [],
   "source": [
    "client = boto3.client('s3')\n",
    "resource = boto3.resource('s3')\n",
    "my_bucket = resource.Bucket('daanmatchdatafiles')\n",
    "\n",
    "path = 's3://daanmatchdatafiles/from Shekhar/Final_Data_givingtuesdayindia.org.xlsx'\n",
    "obj = client.get_object(Bucket='daanmatchdatafiles', Key='from Shekhar/Final_Data_givingtuesdayindia.org.xlsx')\n",
    "df = pd.read_excel(io.BytesIO(obj['Body'].read()))"
   ]
  },
  {
   "cell_type": "markdown",
   "metadata": {},
   "source": [
    "# Final_Data_givingtuesdayindia.org"
   ]
  },
  {
   "cell_type": "markdown",
   "metadata": {},
   "source": [
    "## TOC:\n",
    "* [Url](4.1)\n",
    "* [NGO Name](http://localhost:8888/notebooks/School/2020-2021/Codebook/Final_Data_givingtuesdayindia.org%20(1)/Final_Data_givingtuesdayindia.org%20(1).ipynb#NGO-Name)\n",
    "* [Popular Name](http://localhost:8888/notebooks/School/2020-2021/Codebook/Final_Data_givingtuesdayindia.org%20(1)/Final_Data_givingtuesdayindia.org%20(1).ipynb#Popular-Name)\n",
    "* [Year of Establishment](http://localhost:8888/notebooks/School/2020-2021/Codebook/Final_Data_givingtuesdayindia.org%20(1)/Final_Data_givingtuesdayindia.org%20(1).ipynb#Year-Of-Establishment)\n",
    "* [GuideStar URL](http://localhost:8888/notebooks/School/2020-2021/Codebook/Final_Data_givingtuesdayindia.org%20(1)/Final_Data_givingtuesdayindia.org%20(1).ipynb#GuideStar-URL)\n",
    "* [Full Time Staff](http://localhost:8888/notebooks/Final_Data_givingtuesdayindia.org%20(1)/Final_Data_givingtuesdayindia.org%20(1).ipynb#*Full-Time-Staff)\n",
    "* [Full Time Volunteers](http://localhost:8888/notebooks/Final_Data_givingtuesdayindia.org%20(1)/Final_Data_givingtuesdayindia.org%20(1).ipynb#Full-Time-Volunteers)\n",
    "* [Brief description](http://localhost:8888/notebooks/Final_Data_givingtuesdayindia.org%20(1)/Final_Data_givingtuesdayindia.org%20(1).ipynb#Brief-Description)\n",
    "* [Annual Expenditure (Rs in lacs)](http://localhost:8888/notebooks/Final_Data_givingtuesdayindia.org%20(1)/Final_Data_givingtuesdayindia.org%20(1).ipynb#Annual-Expenditure-(Rs-in-lacs))\n",
    "* [Year for Annual Expenditure](http://localhost:8888/notebooks/Final_Data_givingtuesdayindia.org%20(1)/Final_Data_givingtuesdayindia.org%20(1).ipynb#Year-for-Annual-Expenditure)\n",
    "* [Impact](http://localhost:8888/notebooks/Final_Data_givingtuesdayindia.org%20(1)/Final_Data_givingtuesdayindia.org%20(1).ipynb#Impact)\n",
    "* [Profile pic](http://localhost:8888/notebooks/Final_Data_givingtuesdayindia.org%20(1)/Final_Data_givingtuesdayindia.org%20(1).ipynb#Profile-Pic)\n",
    "* [Organisation Website](http://localhost:8888/notebooks/Final_Data_givingtuesdayindia.org%20(1)/Final_Data_givingtuesdayindia.org%20(1).ipynb#Organisation-Website)\n",
    "* [Email](http://localhost:8888/notebooks/Final_Data_givingtuesdayindia.org%20(1)/Final_Data_givingtuesdayindia.org%20(1).ipynb#Email)\n",
    "* [Telephone/ Mobile number](http://localhost:8888/notebooks/Final_Data_givingtuesdayindia.org%20(1)/Final_Data_givingtuesdayindia.org%20(1).ipynb#Telephone/-Mobile-number)\n",
    "* [Correspondence  Address](http://localhost:8888/notebooks/Final_Data_givingtuesdayindia.org%20(1)/Final_Data_givingtuesdayindia.org%20(1).ipynb#Correspondence-Address)\n",
    "* [Phone](http://localhost:8888/notebooks/Final_Data_givingtuesdayindia.org%20(1)/Final_Data_givingtuesdayindia.org%20(1).ipynb#Phone)\n",
    "* [Cause(s)](http://localhost:8888/notebooks/Final_Data_givingtuesdayindia.org%20(1)/Final_Data_givingtuesdayindia.org%20(1).ipynb#Phone)\n",
    "* [Nature of Intervention](http://localhost:8888/notebooks/Final_Data_givingtuesdayindia.org%20(1)/Final_Data_givingtuesdayindia.org%20(1).ipynb#Nature-of-Intervention)\n",
    "* [Beneficairies](http://localhost:8888/notebooks/Final_Data_givingtuesdayindia.org%20(1)/Final_Data_givingtuesdayindia.org%20(1).ipynb#Beneficairies)\n",
    "* [Focus](http://localhost:8888/notebooks/Final_Data_givingtuesdayindia.org%20(1)/Final_Data_givingtuesdayindia.org%20(1).ipynb#Focus)\n",
    "* [Area of Operation: State](http://localhost:8888/notebooks/Final_Data_givingtuesdayindia.org%20(1)/Final_Data_givingtuesdayindia.org%20(1).ipynb#Area-of-Operation:-State)\n",
    "* [PAN](http://localhost:8888/notebooks/Final_Data_givingtuesdayindia.org%20(1)/Final_Data_givingtuesdayindia.org%20(1).ipynb#PAN)"
   ]
  },
  {
   "cell_type": "code",
   "execution_count": 8,
   "metadata": {},
   "outputs": [],
   "source": [
    "# Lists out the column names in TOC format\n",
    "def toc_maker(dataset):\n",
    "    counter = 1\n",
    "    for column in dataset.columns:\n",
    "        print(\"* [\"+column+\"](4.\"+str(counter)+\")\")\n",
    "        counter +=1"
   ]
  },
  {
   "cell_type": "markdown",
   "metadata": {},
   "source": [
    "**About this dataset** <br>\n",
    "Data provided by: Unknown. <br>\n",
    "Source: https://daanmatchdatafiles.s3.us-west-1.amazonaws.com/DaanMatch_DataFiles/Final_Data_givingtuesdayindia.org+(1).xlsx <br>\n",
    "Type: xlsx <br>\n",
    "Last Modified: May 29, 2021, 19:54:02 (UTC-07:00) <br>\n",
    "Size: 614.2 KB <br>"
   ]
  },
  {
   "cell_type": "code",
   "execution_count": null,
   "metadata": {},
   "outputs": [],
   "source": [
    "# toc_maker(df)"
   ]
  },
  {
   "cell_type": "markdown",
   "metadata": {},
   "source": [
    "**What's in this dataset?**"
   ]
  },
  {
   "cell_type": "code",
   "execution_count": null,
   "metadata": {},
   "outputs": [],
   "source": [
    "\n",
    "print(\"Shape:\", df.shape)\n",
    "print(\"Rows:\", df.shape[0])\n",
    "print(\"Columns:\", df.shape[1])\n",
    "print(\"Each row is a NGO.\")"
   ]
  },
  {
   "cell_type": "markdown",
   "metadata": {},
   "source": [
    "**Codebook**"
   ]
  },
  {
   "cell_type": "code",
   "execution_count": null,
   "metadata": {},
   "outputs": [],
   "source": [
    "dataset_columns = [column for column in df.columns]\n",
    "dataset_desc = [\"Url\",\n",
    "               \"NGO Name\",\n",
    "               \"More common name for the NGO\",\n",
    "               \"Year of Establishment\",\n",
    "               \"Guidestar URL\",\n",
    "               \"Number of Full Time Staff\",\n",
    "               \"Number of Full Time Volunteers\",\n",
    "               \"Brief Description of NGO\",\n",
    "                'Annual Expenditure in lakhs (hundred thousand) of rupees',\n",
    "                 'Year for Annual Expenditure',\n",
    "                 'Impact',\n",
    "                 'Profile pic',\n",
    "                 'Organisation Website',\n",
    "                 'Email',\n",
    "                 'Telephone/ Mobile number',\n",
    "                 'Correspondence  Address',\n",
    "                 'Phone',\n",
    "                 'Cause(s)',\n",
    "                 'Nature of Intervention',\n",
    "                 'Beneficiaries',\n",
    "                 'Focus',\n",
    "                 'Area of Operation: State',\n",
    "                 'Payment Account Number']\n",
    "dataset_dtypes = [dtype for dtype in df.dtypes]\n",
    "\n",
    "data = {\"Column Name\": dataset_columns, \"Description\": dataset_desc, \"Type\": dataset_dtypes}\n",
    "codebook = pd.DataFrame(data)\n",
    "codebook\n",
    "# dataset_columns"
   ]
  },
  {
   "cell_type": "code",
   "execution_count": null,
   "metadata": {
    "scrolled": true
   },
   "outputs": [],
   "source": [
    "df['Full Time Staff'].unique()"
   ]
  },
  {
   "cell_type": "markdown",
   "metadata": {},
   "source": [
    "Discrepency found at position 760 in which its \"Full Time Staff\" value is \"13 Project staff\" as opposed to the float values in all the other rows. \n",
    "\n",
    "In order to make the data more consistent and be able to analyze it more, I decided to change its value to 13 and convert all \"Full Time Staff\" values from object dtypes to float64. "
   ]
  },
  {
   "cell_type": "code",
   "execution_count": null,
   "metadata": {},
   "outputs": [],
   "source": [
    "# df.iloc[760]\n",
    "df.at[760, 'Full Time Staff']=13\n",
    "df['Full Time Staff'] = pd.to_numeric(df['Full Time Staff'])"
   ]
  },
  {
   "cell_type": "code",
   "execution_count": null,
   "metadata": {},
   "outputs": [],
   "source": [
    "updated_dataset_dtypes = [dtype for dtype in df.dtypes]\n",
    "updated_data = {\"Column Name\": dataset_columns, \"Description\": dataset_desc, \"Type\": updated_dataset_dtypes}\n",
    "updated_codebook = pd.DataFrame(updated_data)\n",
    "updated_codebook"
   ]
  },
  {
   "cell_type": "markdown",
   "metadata": {},
   "source": [
    "**Missing Values**"
   ]
  },
  {
   "cell_type": "code",
   "execution_count": null,
   "metadata": {},
   "outputs": [],
   "source": [
    "df.isnull().sum()"
   ]
  },
  {
   "cell_type": "markdown",
   "metadata": {},
   "source": [
    "**Summary Statistics**"
   ]
  },
  {
   "cell_type": "code",
   "execution_count": 10,
   "metadata": {},
   "outputs": [
    {
     "data": {
      "text/html": [
       "<div>\n",
       "<style scoped>\n",
       "    .dataframe tbody tr th:only-of-type {\n",
       "        vertical-align: middle;\n",
       "    }\n",
       "\n",
       "    .dataframe tbody tr th {\n",
       "        vertical-align: top;\n",
       "    }\n",
       "\n",
       "    .dataframe thead th {\n",
       "        text-align: right;\n",
       "    }\n",
       "</style>\n",
       "<table border=\"1\" class=\"dataframe\">\n",
       "  <thead>\n",
       "    <tr style=\"text-align: right;\">\n",
       "      <th></th>\n",
       "      <th>Year of Establishment</th>\n",
       "      <th>Full Time Volunteers</th>\n",
       "    </tr>\n",
       "  </thead>\n",
       "  <tbody>\n",
       "    <tr>\n",
       "      <th>count</th>\n",
       "      <td>926.000000</td>\n",
       "      <td>664.000000</td>\n",
       "    </tr>\n",
       "    <tr>\n",
       "      <th>mean</th>\n",
       "      <td>2464.767819</td>\n",
       "      <td>159.347892</td>\n",
       "    </tr>\n",
       "    <tr>\n",
       "      <th>std</th>\n",
       "      <td>14121.819071</td>\n",
       "      <td>1289.265298</td>\n",
       "    </tr>\n",
       "    <tr>\n",
       "      <th>min</th>\n",
       "      <td>1922.000000</td>\n",
       "      <td>0.000000</td>\n",
       "    </tr>\n",
       "    <tr>\n",
       "      <th>25%</th>\n",
       "      <td>1994.000000</td>\n",
       "      <td>3.000000</td>\n",
       "    </tr>\n",
       "    <tr>\n",
       "      <th>50%</th>\n",
       "      <td>2002.000000</td>\n",
       "      <td>8.000000</td>\n",
       "    </tr>\n",
       "    <tr>\n",
       "      <th>75%</th>\n",
       "      <td>2010.000000</td>\n",
       "      <td>25.000000</td>\n",
       "    </tr>\n",
       "    <tr>\n",
       "      <th>max</th>\n",
       "      <td>431731.000000</td>\n",
       "      <td>24450.000000</td>\n",
       "    </tr>\n",
       "  </tbody>\n",
       "</table>\n",
       "</div>"
      ],
      "text/plain": [
       "       Year of Establishment  Full Time Volunteers\n",
       "count             926.000000            664.000000\n",
       "mean             2464.767819            159.347892\n",
       "std             14121.819071           1289.265298\n",
       "min              1922.000000              0.000000\n",
       "25%              1994.000000              3.000000\n",
       "50%              2002.000000              8.000000\n",
       "75%              2010.000000             25.000000\n",
       "max            431731.000000          24450.000000"
      ]
     },
     "execution_count": 10,
     "metadata": {},
     "output_type": "execute_result"
    }
   ],
   "source": [
    "df.describe()"
   ]
  },
  {
   "cell_type": "markdown",
   "metadata": {},
   "source": [
    "## Columns"
   ]
  },
  {
   "cell_type": "markdown",
   "metadata": {},
   "source": [
    "### URL"
   ]
  },
  {
   "cell_type": "markdown",
   "metadata": {},
   "source": [
    "Many, if not all, URLs are invalid"
   ]
  },
  {
   "cell_type": "code",
   "execution_count": 11,
   "metadata": {},
   "outputs": [
    {
     "name": "stdout",
     "output_type": "stream",
     "text": [
      "Invalid: 0\n",
      "No. of unique values: 926\n",
      "No. of Duplicates: 0\n"
     ]
    },
    {
     "data": {
      "text/html": [
       "<div>\n",
       "<style scoped>\n",
       "    .dataframe tbody tr th:only-of-type {\n",
       "        vertical-align: middle;\n",
       "    }\n",
       "\n",
       "    .dataframe tbody tr th {\n",
       "        vertical-align: top;\n",
       "    }\n",
       "\n",
       "    .dataframe thead th {\n",
       "        text-align: right;\n",
       "    }\n",
       "</style>\n",
       "<table border=\"1\" class=\"dataframe\">\n",
       "  <thead>\n",
       "    <tr style=\"text-align: right;\">\n",
       "      <th></th>\n",
       "      <th>Duplicate URLs</th>\n",
       "      <th>Count</th>\n",
       "    </tr>\n",
       "  </thead>\n",
       "  <tbody>\n",
       "  </tbody>\n",
       "</table>\n",
       "</div>"
      ],
      "text/plain": [
       "Empty DataFrame\n",
       "Columns: [Duplicate URLs, Count]\n",
       "Index: []"
      ]
     },
     "execution_count": 11,
     "metadata": {},
     "output_type": "execute_result"
    }
   ],
   "source": [
    "url = df['Url']\n",
    "# Number of empty strings/missing values\n",
    "print(\"Invalid:\", sum(url == \" \") + sum(url.isnull()))\n",
    "\n",
    "print(\"No. of unique values:\", len(url.unique()))\n",
    "\n",
    "# Check for duplicates\n",
    "counter = dict(Counter(url))\n",
    "duplicates = { key:[value] for key, value in counter.items() if value > 1}\n",
    "print(\"No. of Duplicates:\", len(duplicates))\n",
    "\n",
    "table = pd.DataFrame.from_dict(duplicates)\n",
    "table = table.melt(var_name=\"Duplicate URLs\", value_name=\"Count\").sort_values(by=[\"Count\"], ascending=False).reset_index(drop=True)\n",
    "table"
   ]
  },
  {
   "cell_type": "markdown",
   "metadata": {},
   "source": [
    "### NGO Name"
   ]
  },
  {
   "cell_type": "code",
   "execution_count": 12,
   "metadata": {},
   "outputs": [
    {
     "name": "stdout",
     "output_type": "stream",
     "text": [
      "Number of invalid values: 0\n",
      "Number of duplicates: 0\n",
      "Number of unique values: 926\n"
     ]
    }
   ],
   "source": [
    "print(\"Number of invalid values:\", 0)\n",
    "print(\"Number of duplicates:\", 0)\n",
    "print(\"Number of unique values:\", 926)"
   ]
  },
  {
   "cell_type": "code",
   "execution_count": 13,
   "metadata": {},
   "outputs": [
    {
     "data": {
      "text/html": [
       "<div>\n",
       "<style scoped>\n",
       "    .dataframe tbody tr th:only-of-type {\n",
       "        vertical-align: middle;\n",
       "    }\n",
       "\n",
       "    .dataframe tbody tr th {\n",
       "        vertical-align: top;\n",
       "    }\n",
       "\n",
       "    .dataframe thead th {\n",
       "        text-align: right;\n",
       "    }\n",
       "</style>\n",
       "<table border=\"1\" class=\"dataframe\">\n",
       "  <thead>\n",
       "    <tr style=\"text-align: right;\">\n",
       "      <th></th>\n",
       "      <th>Url</th>\n",
       "      <th>NGO Name</th>\n",
       "      <th>Popular Name</th>\n",
       "      <th>Year of Establishment</th>\n",
       "      <th>GuideStar URL</th>\n",
       "      <th>Full Time Staff</th>\n",
       "      <th>Full Time Volunteers</th>\n",
       "      <th>Brief description</th>\n",
       "      <th>Annual Expenditure (Rs in lacs)</th>\n",
       "      <th>Year for Annual Expenditure</th>\n",
       "      <th>...</th>\n",
       "      <th>Email</th>\n",
       "      <th>Telephone/ Mobile number</th>\n",
       "      <th>Correspondence  Address</th>\n",
       "      <th>Phone</th>\n",
       "      <th>Cause(s)</th>\n",
       "      <th>Nature of Intervention</th>\n",
       "      <th>Beneficairies</th>\n",
       "      <th>Focus</th>\n",
       "      <th>Area of Operation: State</th>\n",
       "      <th>PAN</th>\n",
       "    </tr>\n",
       "  </thead>\n",
       "  <tbody>\n",
       "    <tr>\n",
       "      <th>77</th>\n",
       "      <td>https://www.givingtuesdayindia.org/ngo-detail/...</td>\n",
       "      <td>Association for Rural Development</td>\n",
       "      <td>ARD</td>\n",
       "      <td>1985</td>\n",
       "      <td>https://guidestarindia.org/Summary.aspx?CCReg=...</td>\n",
       "      <td>90</td>\n",
       "      <td>40.0</td>\n",
       "      <td>Association for Rural Development (ARD) is a n...</td>\n",
       "      <td>NaN</td>\n",
       "      <td>NaN</td>\n",
       "      <td>...</td>\n",
       "      <td>ardindia2009@gmail.com</td>\n",
       "      <td>NaN</td>\n",
       "      <td>2/127,ARD Nagar,P.Meenakshipatti,Theni Main Ro...</td>\n",
       "      <td>NaN</td>\n",
       "      <td>Children, Women</td>\n",
       "      <td>Direct service</td>\n",
       "      <td>Adolescents, Adults, Artisans, Children, Comme...</td>\n",
       "      <td>Rural &amp; Urban</td>\n",
       "      <td>Tamil Nadu</td>\n",
       "      <td>AAAAA0327K</td>\n",
       "    </tr>\n",
       "    <tr>\n",
       "      <th>78</th>\n",
       "      <td>https://www.givingtuesdayindia.org/ngo-detail/...</td>\n",
       "      <td>Association for Rural Development</td>\n",
       "      <td>Nill</td>\n",
       "      <td>1992</td>\n",
       "      <td>https://guidestarindia.org/Summary.aspx?CCReg=...</td>\n",
       "      <td>16</td>\n",
       "      <td>30.0</td>\n",
       "      <td>We a,Registered,Non-Profit,Grass-Root Organisa...</td>\n",
       "      <td>NaN</td>\n",
       "      <td>NaN</td>\n",
       "      <td>...</td>\n",
       "      <td>ard.sriperumbudur@gmail.com</td>\n",
       "      <td>NaN</td>\n",
       "      <td>50,Patel Street,Mahalakshmi Nagar,ExtII,,\\nNan...</td>\n",
       "      <td>NaN</td>\n",
       "      <td>Children, Disabled, Education, Emergency Relie...</td>\n",
       "      <td>Direct service, Support, Advocacy &amp; Campaignin...</td>\n",
       "      <td>Adolescents, Adults, Animal Lovers</td>\n",
       "      <td>Rural</td>\n",
       "      <td>NaN</td>\n",
       "      <td>AAATA9273H</td>\n",
       "    </tr>\n",
       "  </tbody>\n",
       "</table>\n",
       "<p>2 rows × 23 columns</p>\n",
       "</div>"
      ],
      "text/plain": [
       "                                                  Url  \\\n",
       "77  https://www.givingtuesdayindia.org/ngo-detail/...   \n",
       "78  https://www.givingtuesdayindia.org/ngo-detail/...   \n",
       "\n",
       "                             NGO Name Popular Name  Year of Establishment  \\\n",
       "77  Association for Rural Development          ARD                   1985   \n",
       "78  Association for Rural Development         Nill                   1992   \n",
       "\n",
       "                                        GuideStar URL Full Time Staff  \\\n",
       "77  https://guidestarindia.org/Summary.aspx?CCReg=...              90   \n",
       "78  https://guidestarindia.org/Summary.aspx?CCReg=...              16   \n",
       "\n",
       "    Full Time Volunteers                                  Brief description  \\\n",
       "77                  40.0  Association for Rural Development (ARD) is a n...   \n",
       "78                  30.0  We a,Registered,Non-Profit,Grass-Root Organisa...   \n",
       "\n",
       "   Annual Expenditure (Rs in lacs) Year for Annual Expenditure     ...      \\\n",
       "77                             NaN                         NaN     ...       \n",
       "78                             NaN                         NaN     ...       \n",
       "\n",
       "                          Email Telephone/ Mobile number  \\\n",
       "77       ardindia2009@gmail.com                      NaN   \n",
       "78  ard.sriperumbudur@gmail.com                      NaN   \n",
       "\n",
       "                              Correspondence  Address Phone  \\\n",
       "77  2/127,ARD Nagar,P.Meenakshipatti,Theni Main Ro...   NaN   \n",
       "78  50,Patel Street,Mahalakshmi Nagar,ExtII,,\\nNan...   NaN   \n",
       "\n",
       "                                             Cause(s)  \\\n",
       "77                                    Children, Women   \n",
       "78  Children, Disabled, Education, Emergency Relie...   \n",
       "\n",
       "                               Nature of Intervention  \\\n",
       "77                                     Direct service   \n",
       "78  Direct service, Support, Advocacy & Campaignin...   \n",
       "\n",
       "                                        Beneficairies          Focus  \\\n",
       "77  Adolescents, Adults, Artisans, Children, Comme...  Rural & Urban   \n",
       "78                 Adolescents, Adults, Animal Lovers          Rural   \n",
       "\n",
       "   Area of Operation: State         PAN  \n",
       "77               Tamil Nadu  AAAAA0327K  \n",
       "78                      NaN  AAATA9273H  \n",
       "\n",
       "[2 rows x 23 columns]"
      ]
     },
     "execution_count": 13,
     "metadata": {},
     "output_type": "execute_result"
    }
   ],
   "source": [
    "duplicates = df[df['NGO Name'].duplicated(keep=False) == True].sort_values(['NGO Name'])\n",
    "duplicates\n",
    "# duplicates.iloc[1]['Brief description']"
   ]
  },
  {
   "cell_type": "markdown",
   "metadata": {},
   "source": [
    "Although there is 1 duplicate value in the `NGO Name` Column (Association for Rural Development) as shown above, the duplicates are actually 2 different organizations that coincidentally have the same `NGO Name`. <br> <br>  In this case, the same `NGO Name` does not indicate duplicate rows. "
   ]
  },
  {
   "cell_type": "markdown",
   "metadata": {},
   "source": [
    "### Popular Name"
   ]
  },
  {
   "cell_type": "code",
   "execution_count": 14,
   "metadata": {},
   "outputs": [
    {
     "name": "stdout",
     "output_type": "stream",
     "text": [
      "Number of invalid values: 288\n",
      "Number of duplicates: 298\n",
      "Number of unique values: 628\n"
     ]
    }
   ],
   "source": [
    "print(\"Number of invalid values:\", 288)\n",
    "print(\"Number of duplicates:\", 298) # df['Popular Name'].duplicated().value_counts()\n",
    "print(\"Number of unique values:\", 628)\n"
   ]
  },
  {
   "cell_type": "markdown",
   "metadata": {},
   "source": [
    "### Year Of Establishment"
   ]
  },
  {
   "cell_type": "code",
   "execution_count": 4,
   "metadata": {},
   "outputs": [
    {
     "data": {
      "text/plain": [
       "True     863\n",
       "False     63\n",
       "Name: Year of Establishment, dtype: int64"
      ]
     },
     "execution_count": 4,
     "metadata": {},
     "output_type": "execute_result"
    }
   ],
   "source": [
    "df['Year of Establishment'].duplicated().value_counts()"
   ]
  },
  {
   "cell_type": "code",
   "execution_count": 5,
   "metadata": {},
   "outputs": [
    {
     "data": {
      "text/plain": [
       "431731"
      ]
     },
     "execution_count": 5,
     "metadata": {},
     "output_type": "execute_result"
    }
   ],
   "source": [
    "max(df['Year of Establishment'])"
   ]
  },
  {
   "cell_type": "markdown",
   "metadata": {},
   "source": [
    "Number of invalid values: 1 <br>\n",
    "Number of duplicates: 863 <br>\n",
    "Number of unique values: 63 <br> \n",
    "\n",
    "No null values, but there is one invalid value-- year of establishment is incorrectly entered: 431731 (position 592)."
   ]
  },
  {
   "cell_type": "code",
   "execution_count": 10,
   "metadata": {},
   "outputs": [
    {
     "data": {
      "text/html": [
       "<div>\n",
       "<style scoped>\n",
       "    .dataframe tbody tr th:only-of-type {\n",
       "        vertical-align: middle;\n",
       "    }\n",
       "\n",
       "    .dataframe tbody tr th {\n",
       "        vertical-align: top;\n",
       "    }\n",
       "\n",
       "    .dataframe thead th {\n",
       "        text-align: right;\n",
       "    }\n",
       "</style>\n",
       "<table border=\"1\" class=\"dataframe\">\n",
       "  <thead>\n",
       "    <tr style=\"text-align: right;\">\n",
       "      <th></th>\n",
       "      <th>Year of Establishment</th>\n",
       "    </tr>\n",
       "  </thead>\n",
       "  <tbody>\n",
       "    <tr>\n",
       "      <th>1922</th>\n",
       "      <td>1</td>\n",
       "    </tr>\n",
       "    <tr>\n",
       "      <th>1937</th>\n",
       "      <td>1</td>\n",
       "    </tr>\n",
       "    <tr>\n",
       "      <th>1940</th>\n",
       "      <td>1</td>\n",
       "    </tr>\n",
       "    <tr>\n",
       "      <th>1949</th>\n",
       "      <td>1</td>\n",
       "    </tr>\n",
       "    <tr>\n",
       "      <th>1953</th>\n",
       "      <td>3</td>\n",
       "    </tr>\n",
       "  </tbody>\n",
       "</table>\n",
       "</div>"
      ],
      "text/plain": [
       "      Year of Establishment\n",
       "1922                      1\n",
       "1937                      1\n",
       "1940                      1\n",
       "1949                      1\n",
       "1953                      3"
      ]
     },
     "execution_count": 10,
     "metadata": {},
     "output_type": "execute_result"
    }
   ],
   "source": [
    "# organizing data to plot\n",
    "\n",
    "# drop invalid values\n",
    "year_count = pd.DataFrame(df['Year of Establishment'].value_counts(ascending=True).sort_index())\n",
    "year_count = year_count.dropna()[0: -1]\n",
    "year_count_values = year_count['Year of Establishment'].values\n",
    "year_count.head()"
   ]
  },
  {
   "cell_type": "code",
   "execution_count": 110,
   "metadata": {},
   "outputs": [
    {
     "data": {
      "text/plain": [
       "<function matplotlib.pyplot.show(*args, **kw)>"
      ]
     },
     "execution_count": 110,
     "metadata": {},
     "output_type": "execute_result"
    },
    {
     "data": {
      "text/plain": [
       "<Figure size 1440x1440 with 0 Axes>"
      ]
     },
     "metadata": {},
     "output_type": "display_data"
    },
    {
     "data": {
      "image/png": "[encoded data removed]",
      "text/plain": [
       "<Figure size 432x288 with 1 Axes>"
      ]
     },
     "metadata": {
      "needs_background": "light"
     },
     "output_type": "display_data"
    }
   ],
   "source": [
    "plt.figure(figsize=(20, 20))\n",
    "ax = year_count.plot()\n",
    "# ax = sns.countplot(x=\"Year of Establishment\", data=df)\n",
    "plt.xticks(np.arange(1920, 2022, 10), size=12, rotation=45)\n",
    "plt.yticks(size=12)\n",
    "plt.xlabel(\"Year of Establishment\", size=20)\n",
    "plt.ylabel(\"Count\", size=20)\n",
    "plt.title(\"Years of Establishment Count\", size=25)\n",
    "plt.show\n",
    "\n",
    "# display count for each year (borrowed from StackOverflow)\n",
    "# i = 0\n",
    "# for p in ax.patches:\n",
    "#     height = p.get_height()\n",
    "#     ax.text(p.get_x()+p.get_width()/2., height + 0.1,\n",
    "#         year_count_values[i],ha=\"center\",fontsize=12)\n",
    "#     i+=1"
   ]
  },
  {
   "cell_type": "markdown",
   "metadata": {},
   "source": [
    "From the graph above, one can see that there was a boost of NGO's that were established in the early 2000s."
   ]
  },
  {
   "cell_type": "markdown",
   "metadata": {},
   "source": [
    "### GuideStar URL"
   ]
  },
  {
   "cell_type": "code",
   "execution_count": 19,
   "metadata": {},
   "outputs": [
    {
     "data": {
      "text/plain": [
       "1"
      ]
     },
     "execution_count": 19,
     "metadata": {},
     "output_type": "execute_result"
    }
   ],
   "source": [
    "df['GuideStar URL'].isnull().sum()"
   ]
  },
  {
   "cell_type": "markdown",
   "metadata": {},
   "source": [
    "Number of invalid values: 1 null value <br>\n",
    "Number of duplicates: 0 <br>\n",
    "Number of unique values: 925 <br>\n",
    "\n",
    "Many, if not all, links do not work anymore."
   ]
  },
  {
   "cell_type": "code",
   "execution_count": 17,
   "metadata": {},
   "outputs": [],
   "source": [
    "guidestar_col = df['GuideStar URL']"
   ]
  },
  {
   "cell_type": "code",
   "execution_count": 18,
   "metadata": {},
   "outputs": [
    {
     "name": "stdout",
     "output_type": "stream",
     "text": [
      "Invalid: 1\n",
      "No. of unique values: 926\n",
      "No. of Duplicates: 0\n"
     ]
    }
   ],
   "source": [
    "# Number of empty strings/missing values\n",
    "print(\"Invalid:\", sum(guidestar_col == \" \") + sum(guidestar_col.isnull()))\n",
    "\n",
    "print(\"No. of unique values:\", len(guidestar_col.unique()))\n",
    "\n",
    "# Check for duplicates\n",
    "counter = dict(Counter(guidestar_col))\n",
    "duplicates = { key:[value] for key, value in counter.items() if value > 1}\n",
    "print(\"No. of Duplicates:\", len(duplicates))"
   ]
  },
  {
   "cell_type": "markdown",
   "metadata": {},
   "source": [
    "### Full Time Staff"
   ]
  },
  {
   "cell_type": "code",
   "execution_count": 61,
   "metadata": {},
   "outputs": [
    {
     "data": {
      "text/plain": [
       "0     70\n",
       "1      3\n",
       "2    NaN\n",
       "3      3\n",
       "4     29\n",
       "Name: Full Time Staff, dtype: object"
      ]
     },
     "execution_count": 61,
     "metadata": {},
     "output_type": "execute_result"
    }
   ],
   "source": [
    "staff_num = df['Full Time Staff']\n",
    "staff_num.head()"
   ]
  },
  {
   "cell_type": "code",
   "execution_count": 96,
   "metadata": {},
   "outputs": [
    {
     "name": "stdout",
     "output_type": "stream",
     "text": [
      "Invalid: 153\n",
      "No. of unique values: 170\n"
     ]
    }
   ],
   "source": [
    "# Number of empty strings/missing values\n",
    "print(\"Invalid:\", sum(staff_num.isnull()))\n",
    "\n",
    "print(\"No. of unique values:\", len(staff_num.unique()))"
   ]
  },
  {
   "cell_type": "markdown",
   "metadata": {},
   "source": [
    "Another invalid value:"
   ]
  },
  {
   "cell_type": "code",
   "execution_count": 80,
   "metadata": {},
   "outputs": [
    {
     "data": {
      "text/html": [
       "<div>\n",
       "<style scoped>\n",
       "    .dataframe tbody tr th:only-of-type {\n",
       "        vertical-align: middle;\n",
       "    }\n",
       "\n",
       "    .dataframe tbody tr th {\n",
       "        vertical-align: top;\n",
       "    }\n",
       "\n",
       "    .dataframe thead th {\n",
       "        text-align: right;\n",
       "    }\n",
       "</style>\n",
       "<table border=\"1\" class=\"dataframe\">\n",
       "  <thead>\n",
       "    <tr style=\"text-align: right;\">\n",
       "      <th></th>\n",
       "      <th>Url</th>\n",
       "      <th>NGO Name</th>\n",
       "      <th>Popular Name</th>\n",
       "      <th>Year of Establishment</th>\n",
       "      <th>GuideStar URL</th>\n",
       "      <th>Full Time Staff</th>\n",
       "      <th>Full Time Volunteers</th>\n",
       "      <th>Brief description</th>\n",
       "      <th>Annual Expenditure (Rs in lacs)</th>\n",
       "      <th>Year for Annual Expenditure</th>\n",
       "      <th>...</th>\n",
       "      <th>Email</th>\n",
       "      <th>Telephone/ Mobile number</th>\n",
       "      <th>Correspondence  Address</th>\n",
       "      <th>Phone</th>\n",
       "      <th>Cause(s)</th>\n",
       "      <th>Nature of Intervention</th>\n",
       "      <th>Beneficairies</th>\n",
       "      <th>Focus</th>\n",
       "      <th>Area of Operation: State</th>\n",
       "      <th>PAN</th>\n",
       "    </tr>\n",
       "  </thead>\n",
       "  <tbody>\n",
       "    <tr>\n",
       "      <th>760</th>\n",
       "      <td>https://www.givingtuesdayindia.org/ngo-detail/...</td>\n",
       "      <td>V Care Foundation</td>\n",
       "      <td>NaN</td>\n",
       "      <td>1994</td>\n",
       "      <td>https://guidestarindia.org/Summary.aspx?CCReg=...</td>\n",
       "      <td>13 Project staff</td>\n",
       "      <td>40.0</td>\n",
       "      <td>V Care Foundation\\nV Care Foundation is a volu...</td>\n",
       "      <td>NaN</td>\n",
       "      <td>NaN</td>\n",
       "      <td>...</td>\n",
       "      <td>vcare24@gmail.com</td>\n",
       "      <td>NaN</td>\n",
       "      <td>A 102, Om Residency, J W Rd, Near Tata Memoria...</td>\n",
       "      <td>NaN</td>\n",
       "      <td>Education, Healthcare</td>\n",
       "      <td>Direct service, Support, Advocacy &amp; Campaigning</td>\n",
       "      <td>Chronically Ill</td>\n",
       "      <td>Rural &amp; Urban</td>\n",
       "      <td>All India</td>\n",
       "      <td>AAATV0252H</td>\n",
       "    </tr>\n",
       "  </tbody>\n",
       "</table>\n",
       "<p>1 rows × 23 columns</p>\n",
       "</div>"
      ],
      "text/plain": [
       "                                                   Url           NGO Name  \\\n",
       "760  https://www.givingtuesdayindia.org/ngo-detail/...  V Care Foundation   \n",
       "\n",
       "    Popular Name  Year of Establishment  \\\n",
       "760          NaN                   1994   \n",
       "\n",
       "                                         GuideStar URL   Full Time Staff  \\\n",
       "760  https://guidestarindia.org/Summary.aspx?CCReg=...  13 Project staff   \n",
       "\n",
       "     Full Time Volunteers                                  Brief description  \\\n",
       "760                  40.0  V Care Foundation\\nV Care Foundation is a volu...   \n",
       "\n",
       "    Annual Expenditure (Rs in lacs) Year for Annual Expenditure     ...      \\\n",
       "760                             NaN                         NaN     ...       \n",
       "\n",
       "                 Email Telephone/ Mobile number  \\\n",
       "760  vcare24@gmail.com                      NaN   \n",
       "\n",
       "                               Correspondence  Address Phone  \\\n",
       "760  A 102, Om Residency, J W Rd, Near Tata Memoria...   NaN   \n",
       "\n",
       "                  Cause(s)                           Nature of Intervention  \\\n",
       "760  Education, Healthcare  Direct service, Support, Advocacy & Campaigning   \n",
       "\n",
       "       Beneficairies          Focus Area of Operation: State         PAN  \n",
       "760  Chronically Ill  Rural & Urban                All India  AAATV0252H  \n",
       "\n",
       "[1 rows x 23 columns]"
      ]
     },
     "execution_count": 80,
     "metadata": {},
     "output_type": "execute_result"
    }
   ],
   "source": [
    "df.loc[df['Full Time Staff'] == '13 Project staff']"
   ]
  },
  {
   "cell_type": "code",
   "execution_count": 83,
   "metadata": {},
   "outputs": [
    {
     "data": {
      "text/plain": [
       "13"
      ]
     },
     "execution_count": 83,
     "metadata": {},
     "output_type": "execute_result"
    }
   ],
   "source": [
    "# change '13 Project staff' to just 13\n",
    "df.at[760, 'Full Time Staff'] = 13\n",
    "df.at[760, 'Full Time Staff']"
   ]
  },
  {
   "cell_type": "code",
   "execution_count": 97,
   "metadata": {},
   "outputs": [
    {
     "data": {
      "text/html": [
       "<div>\n",
       "<style scoped>\n",
       "    .dataframe tbody tr th:only-of-type {\n",
       "        vertical-align: middle;\n",
       "    }\n",
       "\n",
       "    .dataframe tbody tr th {\n",
       "        vertical-align: top;\n",
       "    }\n",
       "\n",
       "    .dataframe thead th {\n",
       "        text-align: right;\n",
       "    }\n",
       "</style>\n",
       "<table border=\"1\" class=\"dataframe\">\n",
       "  <thead>\n",
       "    <tr style=\"text-align: right;\">\n",
       "      <th></th>\n",
       "      <th>Full Time Staff</th>\n",
       "    </tr>\n",
       "  </thead>\n",
       "  <tbody>\n",
       "    <tr>\n",
       "      <th>0</th>\n",
       "      <td>15</td>\n",
       "    </tr>\n",
       "    <tr>\n",
       "      <th>1</th>\n",
       "      <td>21</td>\n",
       "    </tr>\n",
       "    <tr>\n",
       "      <th>2</th>\n",
       "      <td>25</td>\n",
       "    </tr>\n",
       "    <tr>\n",
       "      <th>3</th>\n",
       "      <td>22</td>\n",
       "    </tr>\n",
       "    <tr>\n",
       "      <th>4</th>\n",
       "      <td>35</td>\n",
       "    </tr>\n",
       "  </tbody>\n",
       "</table>\n",
       "</div>"
      ],
      "text/plain": [
       "   Full Time Staff\n",
       "0               15\n",
       "1               21\n",
       "2               25\n",
       "3               22\n",
       "4               35"
      ]
     },
     "execution_count": 97,
     "metadata": {},
     "output_type": "execute_result"
    }
   ],
   "source": [
    "# Value Counts\n",
    "staff_count_df = pd.DataFrame(staff_num.value_counts().sort_index().dropna())\n",
    "staff_count_df.head()"
   ]
  },
  {
   "cell_type": "code",
   "execution_count": 104,
   "metadata": {},
   "outputs": [
    {
     "data": {
      "image/png": "[encoded data removed]",
      "text/plain": [
       "<Figure size 1800x1080 with 1 Axes>"
      ]
     },
     "metadata": {
      "needs_background": "light"
     },
     "output_type": "display_data"
    }
   ],
   "source": [
    "# Show frequency distribution of full time staff members for NGOs\n",
    "plt.figure(figsize=(25, 15))\n",
    "ax = sns.histplot(x=staff_count_df.index, data=staff_count_df, bins=100)\n",
    "plt.xticks(np.arange(0, 5500, 100), size=15, rotation=90)\n",
    "plt.yticks(size=15)\n",
    "plt.xlabel(\"No. of Full Time Staff\", size=20)\n",
    "plt.ylabel(\"No. of NGOs\", size=20)\n",
    "plt.title(\"Full Time Staff Frequency\", size=25)\n",
    "plt.show()"
   ]
  },
  {
   "cell_type": "markdown",
   "metadata": {},
   "source": [
    "As shown in the histogram above, majority of NGOs have less than 200 full time staff members."
   ]
  },
  {
   "cell_type": "markdown",
   "metadata": {},
   "source": [
    "### Full Time Volunteers"
   ]
  },
  {
   "cell_type": "code",
   "execution_count": 100,
   "metadata": {},
   "outputs": [
    {
     "data": {
      "text/html": [
       "<div>\n",
       "<style scoped>\n",
       "    .dataframe tbody tr th:only-of-type {\n",
       "        vertical-align: middle;\n",
       "    }\n",
       "\n",
       "    .dataframe tbody tr th {\n",
       "        vertical-align: top;\n",
       "    }\n",
       "\n",
       "    .dataframe thead th {\n",
       "        text-align: right;\n",
       "    }\n",
       "</style>\n",
       "<table border=\"1\" class=\"dataframe\">\n",
       "  <thead>\n",
       "    <tr style=\"text-align: right;\">\n",
       "      <th></th>\n",
       "      <th>Full Time Volunteers</th>\n",
       "    </tr>\n",
       "  </thead>\n",
       "  <tbody>\n",
       "    <tr>\n",
       "      <th>0.0</th>\n",
       "      <td>80</td>\n",
       "    </tr>\n",
       "    <tr>\n",
       "      <th>1.0</th>\n",
       "      <td>31</td>\n",
       "    </tr>\n",
       "    <tr>\n",
       "      <th>2.0</th>\n",
       "      <td>45</td>\n",
       "    </tr>\n",
       "    <tr>\n",
       "      <th>3.0</th>\n",
       "      <td>34</td>\n",
       "    </tr>\n",
       "    <tr>\n",
       "      <th>4.0</th>\n",
       "      <td>32</td>\n",
       "    </tr>\n",
       "  </tbody>\n",
       "</table>\n",
       "</div>"
      ],
      "text/plain": [
       "     Full Time Volunteers\n",
       "0.0                    80\n",
       "1.0                    31\n",
       "2.0                    45\n",
       "3.0                    34\n",
       "4.0                    32"
      ]
     },
     "execution_count": 100,
     "metadata": {},
     "output_type": "execute_result"
    }
   ],
   "source": [
    "volunteer_count = df['Full Time Volunteers'].value_counts().dropna()\n",
    "volunteer_count_df = pd.DataFrame(volunteer_count.sort_index())\n",
    "volunteer_count_df.head()"
   ]
  },
  {
   "cell_type": "code",
   "execution_count": 101,
   "metadata": {},
   "outputs": [
    {
     "name": "stdout",
     "output_type": "stream",
     "text": [
      "Invalid: 0\n",
      "No. of unique values: 23\n"
     ]
    }
   ],
   "source": [
    "# Number of empty strings/missing values\n",
    "print(\"Invalid:\", sum(volunteer_count.isnull()))\n",
    "\n",
    "print(\"No. of unique values:\", len(volunteer_count.unique()))"
   ]
  },
  {
   "cell_type": "code",
   "execution_count": 103,
   "metadata": {},
   "outputs": [
    {
     "data": {
      "image/png": "[encoded data removed]",
      "text/plain": [
       "<Figure size 1944x1080 with 1 Axes>"
      ]
     },
     "metadata": {
      "needs_background": "light"
     },
     "output_type": "display_data"
    }
   ],
   "source": [
    "# Show frequency distribution of full time volunteers for NGOs\n",
    "plt.figure(figsize=(27, 15))\n",
    "ax = sns.histplot(x=volunteer_count_df.index, data=volunteer_count_df, bins=150)\n",
    "plt.xticks(np.arange(0, 25000, 500), size=15, rotation=90)\n",
    "plt.yticks(size=15)\n",
    "plt.xlabel(\"No. of Full Time Volunteers\", size=20)\n",
    "plt.ylabel(\"No. of NGOs\", size=20)\n",
    "plt.title(\"Full Time Volunteer Frequency Distribution\", size=25)\n",
    "plt.show()"
   ]
  },
  {
   "cell_type": "markdown",
   "metadata": {},
   "source": [
    "As shown in the histogram above, majority of NGOs have less than 250 full time volunteers. The number of full time volunteers range from 0 to 24450."
   ]
  },
  {
   "cell_type": "markdown",
   "metadata": {},
   "source": [
    "### Brief Description"
   ]
  },
  {
   "cell_type": "code",
   "execution_count": 29,
   "metadata": {},
   "outputs": [
    {
     "data": {
      "text/plain": [
       "0    Sahaj is an organization working for skill dev...\n",
       "1    Divya Rasa is an NGO dedicated to serve autist...\n",
       "2    Sankalp Manav Vikas Sanstha is a registered or...\n",
       "3    Vocational Institutes Social,Health and Agricu...\n",
       "4    17000 ft Foundation is a Not for profit setup ...\n",
       "Name: Brief description, dtype: object"
      ]
     },
     "execution_count": 29,
     "metadata": {},
     "output_type": "execute_result"
    }
   ],
   "source": [
    "desc = df['Brief description']\n",
    "desc.head()"
   ]
  },
  {
   "cell_type": "code",
   "execution_count": 30,
   "metadata": {},
   "outputs": [
    {
     "name": "stdout",
     "output_type": "stream",
     "text": [
      "Invalid: 23\n",
      "No. of unique values: 904\n",
      "No. of Duplicates: 3\n"
     ]
    },
    {
     "data": {
      "text/html": [
       "<div>\n",
       "<style scoped>\n",
       "    .dataframe tbody tr th:only-of-type {\n",
       "        vertical-align: middle;\n",
       "    }\n",
       "\n",
       "    .dataframe tbody tr th {\n",
       "        vertical-align: top;\n",
       "    }\n",
       "\n",
       "    .dataframe thead th {\n",
       "        text-align: right;\n",
       "    }\n",
       "</style>\n",
       "<table border=\"1\" class=\"dataframe\">\n",
       "  <thead>\n",
       "    <tr style=\"text-align: right;\">\n",
       "      <th></th>\n",
       "      <th>Duplicate Description</th>\n",
       "      <th>Count</th>\n",
       "    </tr>\n",
       "  </thead>\n",
       "  <tbody>\n",
       "    <tr>\n",
       "      <th>0</th>\n",
       "      <td>NaN</td>\n",
       "      <td>20</td>\n",
       "    </tr>\n",
       "    <tr>\n",
       "      <th>1</th>\n",
       "      <td>0</td>\n",
       "      <td>3</td>\n",
       "    </tr>\n",
       "    <tr>\n",
       "      <th>2</th>\n",
       "      <td>Established in 2003, Shrimad Rajchandra Love a...</td>\n",
       "      <td>2</td>\n",
       "    </tr>\n",
       "  </tbody>\n",
       "</table>\n",
       "</div>"
      ],
      "text/plain": [
       "                               Duplicate Description  Count\n",
       "0                                                NaN     20\n",
       "1                                                  0      3\n",
       "2  Established in 2003, Shrimad Rajchandra Love a...      2"
      ]
     },
     "execution_count": 30,
     "metadata": {},
     "output_type": "execute_result"
    }
   ],
   "source": [
    "# Number of empty strings/missing values\n",
    "print(\"Invalid:\", sum(desc == \" \") + sum(desc.isnull()) + sum(desc == 0))\n",
    "\n",
    "print(\"No. of unique values:\", len(desc.unique()))\n",
    "\n",
    "# Check for duplicates\n",
    "counter = dict(Counter(desc))\n",
    "duplicates = { key:[value] for key, value in counter.items() if value > 1}\n",
    "print(\"No. of Duplicates:\", len(duplicates))\n",
    "\n",
    "table = pd.DataFrame.from_dict(duplicates)\n",
    "table = table.melt(var_name=\"Duplicate Description\", value_name=\"Count\").sort_values(by=[\"Count\"], ascending=False).reset_index(drop=True)\n",
    "table"
   ]
  },
  {
   "cell_type": "markdown",
   "metadata": {},
   "source": [
    "Other values, such as the one below, contain special characters that make some of the description incomprehensible."
   ]
  },
  {
   "cell_type": "code",
   "execution_count": 69,
   "metadata": {},
   "outputs": [
    {
     "data": {
      "text/plain": [
       "'Vocational Institutes Social,Health and Agriculture is located in Koraput, Orissa.VISHA is a grassroots social and non- profits character NGO. Now VISHA is working rural poor, needy and deprived tribal people‚Äôs social and economic sector development.Initially working in areas of Block- LAXMIPUR, Dist- KORAPUTState- ORISSA in INDIA. VISHA fully depend on collect money of trustees and some local people‚Äôs contribution, (who are appreciating our works). Within that little money VISHA working some activities for needy people‚Äôs Literacy and children Education, Health, Women empowerment, Public awareness, Livelihood and agriculture sector development in the needy communities. local collect money is not sufficient for organized more needy and long term welfare activities, also previously VISHA NGO never approach any foundation or supporter due to VISHA has no below potentials, now VISHA N.G.O have below documents are Registration as Trust acts on - 2012, Registration F.C.R.A act on- 2017 and also Registration under income tax exemption 12AA& 80G on - 2018.'"
      ]
     },
     "execution_count": 69,
     "metadata": {},
     "output_type": "execute_result"
    }
   ],
   "source": [
    "mystring = df.iloc[3]['Brief description']\n",
    "mystring"
   ]
  },
  {
   "cell_type": "code",
   "execution_count": 74,
   "metadata": {},
   "outputs": [
    {
     "name": "stdout",
     "output_type": "stream",
     "text": [
      "Number of rows with special characters: 289\n"
     ]
    },
    {
     "data": {
      "text/plain": [
       "3     vocational institutes social,health and agricu...\n",
       "6     aaina, which literally means ‚äòmirror‚äô, is ...\n",
       "7     aas was founded in 2005 as an initiative by a ...\n",
       "11    aasraa is an education trust established in 20...\n",
       "12    about aastha foundation\\naastha foundation aur...\n",
       "Name: Brief description, dtype: object"
      ]
     },
     "execution_count": 74,
     "metadata": {},
     "output_type": "execute_result"
    }
   ],
   "source": [
    "# find how rows with special characters (includes backslashes)\n",
    "valid_char = string.ascii_letters + string.punctuation + string.digits + string.whitespace\n",
    "special_char = df['Brief description'].str.lower().dropna()\n",
    "special_char = special_char[special_char != 0]\n",
    "\n",
    "special_char = special_char[special_char.str.strip(valid_char)!= \"\"]\n",
    "print(\"Number of rows with special characters:\", len(special_char))\n",
    "special_char.head()"
   ]
  },
  {
   "cell_type": "code",
   "execution_count": 39,
   "metadata": {},
   "outputs": [
    {
     "name": "stderr",
     "output_type": "stream",
     "text": [
      "/Users/ericawo/anaconda3/lib/python3.7/site-packages/ipykernel_launcher.py:3: UserWarning: Boolean Series key will be reindexed to match DataFrame index.\n",
      "  This is separate from the ipykernel package so we can avoid doing imports until\n"
     ]
    },
    {
     "data": {
      "text/html": [
       "<div>\n",
       "<style scoped>\n",
       "    .dataframe tbody tr th:only-of-type {\n",
       "        vertical-align: middle;\n",
       "    }\n",
       "\n",
       "    .dataframe tbody tr th {\n",
       "        vertical-align: top;\n",
       "    }\n",
       "\n",
       "    .dataframe thead th {\n",
       "        text-align: right;\n",
       "    }\n",
       "</style>\n",
       "<table border=\"1\" class=\"dataframe\">\n",
       "  <thead>\n",
       "    <tr style=\"text-align: right;\">\n",
       "      <th></th>\n",
       "      <th>Url</th>\n",
       "      <th>NGO Name</th>\n",
       "      <th>Popular Name</th>\n",
       "      <th>Year of Establishment</th>\n",
       "      <th>GuideStar URL</th>\n",
       "      <th>Full Time Staff</th>\n",
       "      <th>Full Time Volunteers</th>\n",
       "      <th>Brief description</th>\n",
       "      <th>Annual Expenditure (Rs in lacs)</th>\n",
       "      <th>Year for Annual Expenditure</th>\n",
       "      <th>...</th>\n",
       "      <th>Email</th>\n",
       "      <th>Telephone/ Mobile number</th>\n",
       "      <th>Correspondence  Address</th>\n",
       "      <th>Phone</th>\n",
       "      <th>Cause(s)</th>\n",
       "      <th>Nature of Intervention</th>\n",
       "      <th>Beneficairies</th>\n",
       "      <th>Focus</th>\n",
       "      <th>Area of Operation: State</th>\n",
       "      <th>PAN</th>\n",
       "    </tr>\n",
       "  </thead>\n",
       "  <tbody>\n",
       "    <tr>\n",
       "      <th>832</th>\n",
       "      <td>https://www.givingtuesdayindia.org/ngo-detail/...</td>\n",
       "      <td>Shrimad Rajchandra Jivadaya Trust</td>\n",
       "      <td>SRLC</td>\n",
       "      <td>2005</td>\n",
       "      <td>https://guidestarindia.org/Summary.aspx?CCReg=...</td>\n",
       "      <td>21</td>\n",
       "      <td>20.0</td>\n",
       "      <td>Established in 2003, Shrimad Rajchandra Love a...</td>\n",
       "      <td>383.63</td>\n",
       "      <td>FY 2017-18</td>\n",
       "      <td>...</td>\n",
       "      <td>jivadayatrust@shrimadrajchandramission.org</td>\n",
       "      <td>91-9820071576</td>\n",
       "      <td>(Patel) Bhupati Chambers, Third Floor, Plot - ...</td>\n",
       "      <td>91-9820071576, 91-22-23511352, 91-22-23516950</td>\n",
       "      <td>Animal Welfare, Environment</td>\n",
       "      <td>Advocacy &amp; Campaigning, Support, Direct service</td>\n",
       "      <td>NaN</td>\n",
       "      <td>Rural &amp; Urban</td>\n",
       "      <td>Gujarat</td>\n",
       "      <td>AAETS9993G</td>\n",
       "    </tr>\n",
       "    <tr>\n",
       "      <th>833</th>\n",
       "      <td>https://www.givingtuesdayindia.org/ngo-detail/...</td>\n",
       "      <td>Shrimad Rajchandra Sarva Mangal Trust</td>\n",
       "      <td>SRLC</td>\n",
       "      <td>2003</td>\n",
       "      <td>https://guidestarindia.org/Summary.aspx?CCReg=...</td>\n",
       "      <td>200</td>\n",
       "      <td>300.0</td>\n",
       "      <td>Established in 2003, Shrimad Rajchandra Love a...</td>\n",
       "      <td>2399.08</td>\n",
       "      <td>FY 2017-18</td>\n",
       "      <td>...</td>\n",
       "      <td>loveandcare@shrimadrajchandramission.org</td>\n",
       "      <td>91-9820051478</td>\n",
       "      <td>Patel Chambers, Third Floor, Plot - 13,,\\nPadm...</td>\n",
       "      <td>NaN</td>\n",
       "      <td>Healthcare</td>\n",
       "      <td>Direct service, Network, Support, Advocacy &amp; C...</td>\n",
       "      <td>Animal Lovers, Animals / Birds, Artisans, Bloo...</td>\n",
       "      <td>Rural</td>\n",
       "      <td>Gujarat</td>\n",
       "      <td>AAAAD2179A</td>\n",
       "    </tr>\n",
       "    <tr>\n",
       "      <th>860</th>\n",
       "      <td>https://www.givingtuesdayindia.org/ngo-detail/...</td>\n",
       "      <td>COMMITTEE OF RESOURCE ORGANISATIONS FOR MASS P...</td>\n",
       "      <td>CORO</td>\n",
       "      <td>1990</td>\n",
       "      <td>https://guidestarindia.org/Summary.aspx?CCReg=...</td>\n",
       "      <td>63</td>\n",
       "      <td>30.0</td>\n",
       "      <td>0</td>\n",
       "      <td>489.85</td>\n",
       "      <td>FY 2017-18</td>\n",
       "      <td>...</td>\n",
       "      <td>info@coroindia.org</td>\n",
       "      <td>NaN</td>\n",
       "      <td>Coro for Literacy, Next to Container Yard,\\nSu...</td>\n",
       "      <td>91-22-25295002, 91-22-25295002</td>\n",
       "      <td>Children, Women, Advocacy</td>\n",
       "      <td>Advocacy &amp; Campaigning, Network, Direct service</td>\n",
       "      <td>Urban poor, Children, Girl Child, Adolescents,...</td>\n",
       "      <td>Rural &amp; Urban</td>\n",
       "      <td>MaharashtraRajasthan</td>\n",
       "      <td>AAATC4949C</td>\n",
       "    </tr>\n",
       "    <tr>\n",
       "      <th>881</th>\n",
       "      <td>https://www.givingtuesdayindia.org/ngo-detail/...</td>\n",
       "      <td>KAILASH SATYARTHI CHILDREN'S FOUNDATION</td>\n",
       "      <td>NaN</td>\n",
       "      <td>2004</td>\n",
       "      <td>https://guidestarindia.org/Summary.aspx?CCReg=...</td>\n",
       "      <td>130</td>\n",
       "      <td>NaN</td>\n",
       "      <td>0</td>\n",
       "      <td>938.89</td>\n",
       "      <td>FY 2016-17</td>\n",
       "      <td>...</td>\n",
       "      <td>info@satyarthi.org</td>\n",
       "      <td>91-9205585989</td>\n",
       "      <td>23,\\nFriends Colony West    South Delhi, \\nNew...</td>\n",
       "      <td>NaN</td>\n",
       "      <td>Advocacy, Children, Women</td>\n",
       "      <td>Direct service, Support, Advocacy &amp; Campaigning</td>\n",
       "      <td>Children, Girl Child, Juvenile</td>\n",
       "      <td>Rural &amp; Urban</td>\n",
       "      <td>NaN</td>\n",
       "      <td>AAETS7517E</td>\n",
       "    </tr>\n",
       "    <tr>\n",
       "      <th>883</th>\n",
       "      <td>https://www.givingtuesdayindia.org/ngo-detail/...</td>\n",
       "      <td>KARUNYAVARSHAM CHARITABLE TRUST</td>\n",
       "      <td>NaN</td>\n",
       "      <td>2013</td>\n",
       "      <td>https://guidestarindia.org/Summary.aspx?CCReg=...</td>\n",
       "      <td>2</td>\n",
       "      <td>2.0</td>\n",
       "      <td>0</td>\n",
       "      <td>27.36</td>\n",
       "      <td>FY 2017-18</td>\n",
       "      <td>...</td>\n",
       "      <td>karunyavarsham@gmail.com</td>\n",
       "      <td>91-9446315690</td>\n",
       "      <td>Lisieux, Mnra134, Mavelinagar,\\nPuthanpura Cro...</td>\n",
       "      <td>NaN</td>\n",
       "      <td>Healthcare</td>\n",
       "      <td>Direct service</td>\n",
       "      <td>Disaster Affected, Elderly, Patients</td>\n",
       "      <td>Rural &amp; Urban</td>\n",
       "      <td>Kerala</td>\n",
       "      <td>AACTK3070A</td>\n",
       "    </tr>\n",
       "  </tbody>\n",
       "</table>\n",
       "<p>5 rows × 23 columns</p>\n",
       "</div>"
      ],
      "text/plain": [
       "                                                   Url  \\\n",
       "832  https://www.givingtuesdayindia.org/ngo-detail/...   \n",
       "833  https://www.givingtuesdayindia.org/ngo-detail/...   \n",
       "860  https://www.givingtuesdayindia.org/ngo-detail/...   \n",
       "881  https://www.givingtuesdayindia.org/ngo-detail/...   \n",
       "883  https://www.givingtuesdayindia.org/ngo-detail/...   \n",
       "\n",
       "                                              NGO Name Popular Name  \\\n",
       "832                  Shrimad Rajchandra Jivadaya Trust         SRLC   \n",
       "833              Shrimad Rajchandra Sarva Mangal Trust         SRLC   \n",
       "860  COMMITTEE OF RESOURCE ORGANISATIONS FOR MASS P...         CORO   \n",
       "881            KAILASH SATYARTHI CHILDREN'S FOUNDATION          NaN   \n",
       "883                    KARUNYAVARSHAM CHARITABLE TRUST          NaN   \n",
       "\n",
       "     Year of Establishment                                      GuideStar URL  \\\n",
       "832                   2005  https://guidestarindia.org/Summary.aspx?CCReg=...   \n",
       "833                   2003  https://guidestarindia.org/Summary.aspx?CCReg=...   \n",
       "860                   1990  https://guidestarindia.org/Summary.aspx?CCReg=...   \n",
       "881                   2004  https://guidestarindia.org/Summary.aspx?CCReg=...   \n",
       "883                   2013  https://guidestarindia.org/Summary.aspx?CCReg=...   \n",
       "\n",
       "    Full Time Staff  Full Time Volunteers  \\\n",
       "832              21                  20.0   \n",
       "833             200                 300.0   \n",
       "860              63                  30.0   \n",
       "881             130                   NaN   \n",
       "883               2                   2.0   \n",
       "\n",
       "                                     Brief description  \\\n",
       "832  Established in 2003, Shrimad Rajchandra Love a...   \n",
       "833  Established in 2003, Shrimad Rajchandra Love a...   \n",
       "860                                                  0   \n",
       "881                                                  0   \n",
       "883                                                  0   \n",
       "\n",
       "    Annual Expenditure (Rs in lacs) Year for Annual Expenditure     ...      \\\n",
       "832                          383.63                  FY 2017-18     ...       \n",
       "833                         2399.08                  FY 2017-18     ...       \n",
       "860                          489.85                  FY 2017-18     ...       \n",
       "881                          938.89                  FY 2016-17     ...       \n",
       "883                           27.36                  FY 2017-18     ...       \n",
       "\n",
       "                                          Email Telephone/ Mobile number  \\\n",
       "832  jivadayatrust@shrimadrajchandramission.org            91-9820071576   \n",
       "833    loveandcare@shrimadrajchandramission.org            91-9820051478   \n",
       "860                          info@coroindia.org                      NaN   \n",
       "881                          info@satyarthi.org            91-9205585989   \n",
       "883                    karunyavarsham@gmail.com            91-9446315690   \n",
       "\n",
       "                               Correspondence  Address  \\\n",
       "832  (Patel) Bhupati Chambers, Third Floor, Plot - ...   \n",
       "833  Patel Chambers, Third Floor, Plot - 13,,\\nPadm...   \n",
       "860  Coro for Literacy, Next to Container Yard,\\nSu...   \n",
       "881  23,\\nFriends Colony West    South Delhi, \\nNew...   \n",
       "883  Lisieux, Mnra134, Mavelinagar,\\nPuthanpura Cro...   \n",
       "\n",
       "                                             Phone  \\\n",
       "832  91-9820071576, 91-22-23511352, 91-22-23516950   \n",
       "833                                            NaN   \n",
       "860                 91-22-25295002, 91-22-25295002   \n",
       "881                                            NaN   \n",
       "883                                            NaN   \n",
       "\n",
       "                        Cause(s)  \\\n",
       "832  Animal Welfare, Environment   \n",
       "833                   Healthcare   \n",
       "860    Children, Women, Advocacy   \n",
       "881    Advocacy, Children, Women   \n",
       "883                   Healthcare   \n",
       "\n",
       "                                Nature of Intervention  \\\n",
       "832    Advocacy & Campaigning, Support, Direct service   \n",
       "833  Direct service, Network, Support, Advocacy & C...   \n",
       "860    Advocacy & Campaigning, Network, Direct service   \n",
       "881    Direct service, Support, Advocacy & Campaigning   \n",
       "883                                     Direct service   \n",
       "\n",
       "                                         Beneficairies          Focus  \\\n",
       "832                                                NaN  Rural & Urban   \n",
       "833  Animal Lovers, Animals / Birds, Artisans, Bloo...          Rural   \n",
       "860  Urban poor, Children, Girl Child, Adolescents,...  Rural & Urban   \n",
       "881                     Children, Girl Child, Juvenile  Rural & Urban   \n",
       "883               Disaster Affected, Elderly, Patients  Rural & Urban   \n",
       "\n",
       "    Area of Operation: State         PAN  \n",
       "832                  Gujarat  AAETS9993G  \n",
       "833                  Gujarat  AAAAD2179A  \n",
       "860     MaharashtraRajasthan  AAATC4949C  \n",
       "881                      NaN  AAETS7517E  \n",
       "883                   Kerala  AACTK3070A  \n",
       "\n",
       "[5 rows x 23 columns]"
      ]
     },
     "execution_count": 39,
     "metadata": {},
     "output_type": "execute_result"
    }
   ],
   "source": [
    "# Further look into duplicate values\n",
    "duplicates = df[df['Brief description'].duplicated(keep=False) == True]\n",
    "invalid_duplicates = duplicates[~df['Brief description'].isnull()]\n",
    "invalid_duplicates"
   ]
  },
  {
   "cell_type": "markdown",
   "metadata": {},
   "source": [
    "Three of the NGOs have \"0\" as the brief description. Two of the NGOs have the exact same description (Shrimad Rajchandra Jivadaya Trust & Shrimad Rajchandra Sarva Mangal Trust), but differ in everything else. Perhaps they are two different locations?"
   ]
  },
  {
   "cell_type": "markdown",
   "metadata": {},
   "source": [
    "### Annual Expenditure (Rs in lacs)"
   ]
  },
  {
   "cell_type": "code",
   "execution_count": 281,
   "metadata": {},
   "outputs": [],
   "source": [
    "expnd = df['Annual Expenditure (Rs in lacs)']"
   ]
  },
  {
   "cell_type": "code",
   "execution_count": 257,
   "metadata": {},
   "outputs": [
    {
     "name": "stdout",
     "output_type": "stream",
     "text": [
      "Invalid: 762\n",
      "No. of unique values: 162\n",
      "No. of Duplicates: 4\n"
     ]
    },
    {
     "data": {
      "text/html": [
       "<div>\n",
       "<style scoped>\n",
       "    .dataframe tbody tr th:only-of-type {\n",
       "        vertical-align: middle;\n",
       "    }\n",
       "\n",
       "    .dataframe tbody tr th {\n",
       "        vertical-align: top;\n",
       "    }\n",
       "\n",
       "    .dataframe thead th {\n",
       "        text-align: right;\n",
       "    }\n",
       "</style>\n",
       "<table border=\"1\" class=\"dataframe\">\n",
       "  <thead>\n",
       "    <tr style=\"text-align: right;\">\n",
       "      <th></th>\n",
       "      <th>Duplicate Expenditure</th>\n",
       "      <th>Count</th>\n",
       "    </tr>\n",
       "  </thead>\n",
       "  <tbody>\n",
       "    <tr>\n",
       "      <th>0</th>\n",
       "      <td></td>\n",
       "      <td>762</td>\n",
       "    </tr>\n",
       "    <tr>\n",
       "      <th>1</th>\n",
       "      <td>8</td>\n",
       "      <td>2</td>\n",
       "    </tr>\n",
       "    <tr>\n",
       "      <th>2</th>\n",
       "      <td>600000</td>\n",
       "      <td>2</td>\n",
       "    </tr>\n",
       "    <tr>\n",
       "      <th>3</th>\n",
       "      <td>300000</td>\n",
       "      <td>2</td>\n",
       "    </tr>\n",
       "  </tbody>\n",
       "</table>\n",
       "</div>"
      ],
      "text/plain": [
       "  Duplicate Expenditure  Count\n",
       "0                          762\n",
       "1                     8      2\n",
       "2                600000      2\n",
       "3                300000      2"
      ]
     },
     "execution_count": 257,
     "metadata": {},
     "output_type": "execute_result"
    }
   ],
   "source": [
    "# Number of empty strings/missing values and invalid values (not floats)\n",
    "print(\"Invalid:\", sum(expnd.isnull()) + sum(expnd == \"\"))\n",
    "\n",
    "print(\"No. of unique values:\", len(expnd.unique()))\n",
    "\n",
    "# Check for duplicates\n",
    "counter = dict(Counter(expnd))\n",
    "duplicates = { key:[value] for key, value in counter.items() if value > 1}\n",
    "print(\"No. of Duplicates:\", len(duplicates))\n",
    "\n",
    "table = pd.DataFrame.from_dict(duplicates)\n",
    "table = table.melt(var_name=\"Duplicate Expenditure\", value_name=\"Count\").sort_values(by=[\"Count\"], ascending=False).reset_index(drop=True)\n",
    "table"
   ]
  },
  {
   "cell_type": "code",
   "execution_count": 258,
   "metadata": {},
   "outputs": [
    {
     "data": {
      "text/html": [
       "<div>\n",
       "<style scoped>\n",
       "    .dataframe tbody tr th:only-of-type {\n",
       "        vertical-align: middle;\n",
       "    }\n",
       "\n",
       "    .dataframe tbody tr th {\n",
       "        vertical-align: top;\n",
       "    }\n",
       "\n",
       "    .dataframe thead th {\n",
       "        text-align: right;\n",
       "    }\n",
       "</style>\n",
       "<table border=\"1\" class=\"dataframe\">\n",
       "  <thead>\n",
       "    <tr style=\"text-align: right;\">\n",
       "      <th></th>\n",
       "      <th>Url</th>\n",
       "      <th>NGO Name</th>\n",
       "      <th>Popular Name</th>\n",
       "      <th>Year of Establishment</th>\n",
       "      <th>GuideStar URL</th>\n",
       "      <th>Full Time Staff</th>\n",
       "      <th>Full Time Volunteers</th>\n",
       "      <th>Brief description</th>\n",
       "      <th>Annual Expenditure (Rs in lacs)</th>\n",
       "      <th>Year for Annual Expenditure</th>\n",
       "      <th>...</th>\n",
       "      <th>Email</th>\n",
       "      <th>Telephone/ Mobile number</th>\n",
       "      <th>Correspondence  Address</th>\n",
       "      <th>Phone</th>\n",
       "      <th>Cause(s)</th>\n",
       "      <th>Nature of Intervention</th>\n",
       "      <th>Beneficairies</th>\n",
       "      <th>Focus</th>\n",
       "      <th>Area of Operation: State</th>\n",
       "      <th>PAN</th>\n",
       "    </tr>\n",
       "  </thead>\n",
       "  <tbody>\n",
       "    <tr>\n",
       "      <th>0</th>\n",
       "      <td>https://www.givingtuesdayindia.org/ngo-detail/...</td>\n",
       "      <td>`Sahaj' (An Organisation for Women's Development)</td>\n",
       "      <td>Sahaj</td>\n",
       "      <td>2001</td>\n",
       "      <td>https://guidestarindia.org/Summary.aspx?CCReg=...</td>\n",
       "      <td>70</td>\n",
       "      <td>NaN</td>\n",
       "      <td>Sahaj is an organization working for skill dev...</td>\n",
       "      <td></td>\n",
       "      <td>NaN</td>\n",
       "      <td>...</td>\n",
       "      <td>admnsahaj@outlook.com</td>\n",
       "      <td>NaN</td>\n",
       "      <td>Desai Automobile Compound,\\nGarbada Road, Pada...</td>\n",
       "      <td>91-2673-245215, 91-2673-245215</td>\n",
       "      <td>Community Development, Education, Healthcare, ...</td>\n",
       "      <td>Direct service</td>\n",
       "      <td>Children, Girl Child, Dalits, Artisans, Rural ...</td>\n",
       "      <td>Rural</td>\n",
       "      <td>Gujarat</td>\n",
       "      <td>AACTS0036Q</td>\n",
       "    </tr>\n",
       "    <tr>\n",
       "      <th>1</th>\n",
       "      <td>https://www.givingtuesdayindia.org/ngo-detail/...</td>\n",
       "      <td>\"DIVYA RASA\" (Centre for Healing, Learning, Re...</td>\n",
       "      <td>Divya Rasa - Temple of Love</td>\n",
       "      <td>2015</td>\n",
       "      <td>https://guidestarindia.org/Summary.aspx?CCReg=...</td>\n",
       "      <td>3</td>\n",
       "      <td>5.0</td>\n",
       "      <td>Divya Rasa is an NGO dedicated to serve autist...</td>\n",
       "      <td></td>\n",
       "      <td>NaN</td>\n",
       "      <td>...</td>\n",
       "      <td>divyarasa555@divyarasa.org</td>\n",
       "      <td>91-9176300657</td>\n",
       "      <td>Divya Rasa - Temple of Love, Su Kilnachipattu,...</td>\n",
       "      <td>NaN</td>\n",
       "      <td>Education</td>\n",
       "      <td>Direct service</td>\n",
       "      <td>Children, Adolescents, Adults, Volunteers</td>\n",
       "      <td>Rural &amp; Urban</td>\n",
       "      <td>Tamil Nadu</td>\n",
       "      <td>AACTD2691L</td>\n",
       "    </tr>\n",
       "    <tr>\n",
       "      <th>2</th>\n",
       "      <td>https://www.givingtuesdayindia.org/ngo-detail/...</td>\n",
       "      <td>\"Sankalp\" Manav Vikas Sanstha</td>\n",
       "      <td>NaN</td>\n",
       "      <td>1992</td>\n",
       "      <td>https://guidestarindia.org/Summary.aspx?CCReg=...</td>\n",
       "      <td>NaN</td>\n",
       "      <td>NaN</td>\n",
       "      <td>Sankalp Manav Vikas Sanstha is a registered or...</td>\n",
       "      <td></td>\n",
       "      <td>NaN</td>\n",
       "      <td>...</td>\n",
       "      <td>sudhakarsankalp@gmail.com</td>\n",
       "      <td>91-9096696633</td>\n",
       "      <td>Sudhakar Kshirsagar,Gautam Nagar Pathari,\\nPat...</td>\n",
       "      <td>NaN</td>\n",
       "      <td>Children, Community Development, Education, He...</td>\n",
       "      <td>Advocacy &amp; Campaigning</td>\n",
       "      <td>Physically Challenged, Children, Girl Child, A...</td>\n",
       "      <td>Rural &amp; Urban</td>\n",
       "      <td>NaN</td>\n",
       "      <td>AAETS2349N</td>\n",
       "    </tr>\n",
       "    <tr>\n",
       "      <th>3</th>\n",
       "      <td>https://www.givingtuesdayindia.org/ngo-detail/...</td>\n",
       "      <td>\"VISHA\" VOCATIONAL INSTITUTES SOCIAL,HEALTH AN...</td>\n",
       "      <td>VISHA NGO</td>\n",
       "      <td>2012</td>\n",
       "      <td>https://guidestarindia.org/Summary.aspx?CCReg=...</td>\n",
       "      <td>3</td>\n",
       "      <td>23.0</td>\n",
       "      <td>Vocational Institutes Social,Health and Agricu...</td>\n",
       "      <td></td>\n",
       "      <td>NaN</td>\n",
       "      <td>...</td>\n",
       "      <td>kptvisha@gmail.com</td>\n",
       "      <td>91-9438022310</td>\n",
       "      <td>Goutam Nagar Last Lane,,\\nkoraput    Koraput, ...</td>\n",
       "      <td>NaN</td>\n",
       "      <td>Children, Education, Healthcare, Livelihoods, ...</td>\n",
       "      <td>Support, Network, Direct service</td>\n",
       "      <td>Children, Girl Child, Adolescents, Dalits, Adu...</td>\n",
       "      <td>Rural &amp; Urban</td>\n",
       "      <td>Odisha</td>\n",
       "      <td>AACTV0963D</td>\n",
       "    </tr>\n",
       "    <tr>\n",
       "      <th>4</th>\n",
       "      <td>https://www.givingtuesdayindia.org/ngo-detail/...</td>\n",
       "      <td>17000 ft Foundation</td>\n",
       "      <td>17000 ft</td>\n",
       "      <td>2012</td>\n",
       "      <td>https://guidestarindia.org/Summary.aspx?CCReg=...</td>\n",
       "      <td>29</td>\n",
       "      <td>0.0</td>\n",
       "      <td>17000 ft Foundation is a Not for profit setup ...</td>\n",
       "      <td></td>\n",
       "      <td>FY 2018-19</td>\n",
       "      <td>...</td>\n",
       "      <td>reach.us@17000ft.org</td>\n",
       "      <td>91-9871100334</td>\n",
       "      <td>NaN</td>\n",
       "      <td>NaN</td>\n",
       "      <td>Education</td>\n",
       "      <td>Direct service, Support</td>\n",
       "      <td>Adolescents, Children, Girl Child, Rural Poor,...</td>\n",
       "      <td>Rural</td>\n",
       "      <td>Jammu and Kashmir</td>\n",
       "      <td>AAACZ5957C</td>\n",
       "    </tr>\n",
       "  </tbody>\n",
       "</table>\n",
       "<p>5 rows × 23 columns</p>\n",
       "</div>"
      ],
      "text/plain": [
       "                                                 Url  \\\n",
       "0  https://www.givingtuesdayindia.org/ngo-detail/...   \n",
       "1  https://www.givingtuesdayindia.org/ngo-detail/...   \n",
       "2  https://www.givingtuesdayindia.org/ngo-detail/...   \n",
       "3  https://www.givingtuesdayindia.org/ngo-detail/...   \n",
       "4  https://www.givingtuesdayindia.org/ngo-detail/...   \n",
       "\n",
       "                                            NGO Name  \\\n",
       "0  `Sahaj' (An Organisation for Women's Development)   \n",
       "1  \"DIVYA RASA\" (Centre for Healing, Learning, Re...   \n",
       "2                      \"Sankalp\" Manav Vikas Sanstha   \n",
       "3  \"VISHA\" VOCATIONAL INSTITUTES SOCIAL,HEALTH AN...   \n",
       "4                                17000 ft Foundation   \n",
       "\n",
       "                  Popular Name  Year of Establishment  \\\n",
       "0                        Sahaj                   2001   \n",
       "1  Divya Rasa - Temple of Love                   2015   \n",
       "2                          NaN                   1992   \n",
       "3                    VISHA NGO                   2012   \n",
       "4                     17000 ft                   2012   \n",
       "\n",
       "                                       GuideStar URL Full Time Staff  \\\n",
       "0  https://guidestarindia.org/Summary.aspx?CCReg=...              70   \n",
       "1  https://guidestarindia.org/Summary.aspx?CCReg=...               3   \n",
       "2  https://guidestarindia.org/Summary.aspx?CCReg=...             NaN   \n",
       "3  https://guidestarindia.org/Summary.aspx?CCReg=...               3   \n",
       "4  https://guidestarindia.org/Summary.aspx?CCReg=...              29   \n",
       "\n",
       "   Full Time Volunteers                                  Brief description  \\\n",
       "0                   NaN  Sahaj is an organization working for skill dev...   \n",
       "1                   5.0  Divya Rasa is an NGO dedicated to serve autist...   \n",
       "2                   NaN  Sankalp Manav Vikas Sanstha is a registered or...   \n",
       "3                  23.0  Vocational Institutes Social,Health and Agricu...   \n",
       "4                   0.0  17000 ft Foundation is a Not for profit setup ...   \n",
       "\n",
       "  Annual Expenditure (Rs in lacs) Year for Annual Expenditure     ...      \\\n",
       "0                                                         NaN     ...       \n",
       "1                                                         NaN     ...       \n",
       "2                                                         NaN     ...       \n",
       "3                                                         NaN     ...       \n",
       "4                                                  FY 2018-19     ...       \n",
       "\n",
       "                        Email Telephone/ Mobile number  \\\n",
       "0       admnsahaj@outlook.com                      NaN   \n",
       "1  divyarasa555@divyarasa.org            91-9176300657   \n",
       "2   sudhakarsankalp@gmail.com            91-9096696633   \n",
       "3          kptvisha@gmail.com            91-9438022310   \n",
       "4        reach.us@17000ft.org            91-9871100334   \n",
       "\n",
       "                             Correspondence  Address  \\\n",
       "0  Desai Automobile Compound,\\nGarbada Road, Pada...   \n",
       "1  Divya Rasa - Temple of Love, Su Kilnachipattu,...   \n",
       "2  Sudhakar Kshirsagar,Gautam Nagar Pathari,\\nPat...   \n",
       "3  Goutam Nagar Last Lane,,\\nkoraput    Koraput, ...   \n",
       "4                                                NaN   \n",
       "\n",
       "                            Phone  \\\n",
       "0  91-2673-245215, 91-2673-245215   \n",
       "1                             NaN   \n",
       "2                             NaN   \n",
       "3                             NaN   \n",
       "4                             NaN   \n",
       "\n",
       "                                            Cause(s)  \\\n",
       "0  Community Development, Education, Healthcare, ...   \n",
       "1                                          Education   \n",
       "2  Children, Community Development, Education, He...   \n",
       "3  Children, Education, Healthcare, Livelihoods, ...   \n",
       "4                                          Education   \n",
       "\n",
       "             Nature of Intervention  \\\n",
       "0                    Direct service   \n",
       "1                    Direct service   \n",
       "2            Advocacy & Campaigning   \n",
       "3  Support, Network, Direct service   \n",
       "4           Direct service, Support   \n",
       "\n",
       "                                       Beneficairies          Focus  \\\n",
       "0  Children, Girl Child, Dalits, Artisans, Rural ...          Rural   \n",
       "1          Children, Adolescents, Adults, Volunteers  Rural & Urban   \n",
       "2  Physically Challenged, Children, Girl Child, A...  Rural & Urban   \n",
       "3  Children, Girl Child, Adolescents, Dalits, Adu...  Rural & Urban   \n",
       "4  Adolescents, Children, Girl Child, Rural Poor,...          Rural   \n",
       "\n",
       "  Area of Operation: State         PAN  \n",
       "0                  Gujarat  AACTS0036Q  \n",
       "1               Tamil Nadu  AACTD2691L  \n",
       "2                      NaN  AAETS2349N  \n",
       "3                   Odisha  AACTV0963D  \n",
       "4        Jammu and Kashmir  AAACZ5957C  \n",
       "\n",
       "[5 rows x 23 columns]"
      ]
     },
     "execution_count": 258,
     "metadata": {},
     "output_type": "execute_result"
    }
   ],
   "source": [
    "# convert object values to lowercase string\n",
    "df['Annual Expenditure (Rs in lacs)'] = df['Annual Expenditure (Rs in lacs)'].astype(str).str.lower()\n",
    "df['Annual Expenditure (Rs in lacs)'] = df['Annual Expenditure (Rs in lacs)'].replace('nan','')\n",
    "df.head()"
   ]
  },
  {
   "cell_type": "code",
   "execution_count": 197,
   "metadata": {},
   "outputs": [
    {
     "data": {
      "text/html": [
       "<div>\n",
       "<style scoped>\n",
       "    .dataframe tbody tr th:only-of-type {\n",
       "        vertical-align: middle;\n",
       "    }\n",
       "\n",
       "    .dataframe tbody tr th {\n",
       "        vertical-align: top;\n",
       "    }\n",
       "\n",
       "    .dataframe thead th {\n",
       "        text-align: right;\n",
       "    }\n",
       "</style>\n",
       "<table border=\"1\" class=\"dataframe\">\n",
       "  <thead>\n",
       "    <tr style=\"text-align: right;\">\n",
       "      <th></th>\n",
       "      <th>Url</th>\n",
       "      <th>NGO Name</th>\n",
       "      <th>Popular Name</th>\n",
       "      <th>Year of Establishment</th>\n",
       "      <th>GuideStar URL</th>\n",
       "      <th>Full Time Staff</th>\n",
       "      <th>Full Time Volunteers</th>\n",
       "      <th>Brief description</th>\n",
       "      <th>Annual Expenditure (Rs in lacs)</th>\n",
       "      <th>Year for Annual Expenditure</th>\n",
       "      <th>...</th>\n",
       "      <th>Email</th>\n",
       "      <th>Telephone/ Mobile number</th>\n",
       "      <th>Correspondence  Address</th>\n",
       "      <th>Phone</th>\n",
       "      <th>Cause(s)</th>\n",
       "      <th>Nature of Intervention</th>\n",
       "      <th>Beneficairies</th>\n",
       "      <th>Focus</th>\n",
       "      <th>Area of Operation: State</th>\n",
       "      <th>PAN</th>\n",
       "    </tr>\n",
       "  </thead>\n",
       "  <tbody>\n",
       "    <tr>\n",
       "      <th>11</th>\n",
       "      <td>https://www.givingtuesdayindia.org/ngo-detail/...</td>\n",
       "      <td>AASRAA</td>\n",
       "      <td>AASRAA TRUST</td>\n",
       "      <td>2009</td>\n",
       "      <td>https://guidestarindia.org/Summary.aspx?CCReg=...</td>\n",
       "      <td>18</td>\n",
       "      <td>5.0</td>\n",
       "      <td>Aasraa is an education trust established in 20...</td>\n",
       "      <td>518 lakhs</td>\n",
       "      <td>FY 2019-20</td>\n",
       "      <td>...</td>\n",
       "      <td>aasraatrust@gmail.com</td>\n",
       "      <td>NaN</td>\n",
       "      <td>NaN</td>\n",
       "      <td>NaN</td>\n",
       "      <td>Children, Disabled, Education, Environment, He...</td>\n",
       "      <td>Direct service, Support</td>\n",
       "      <td>Adolescents, Children, Girl Child, Homeless, P...</td>\n",
       "      <td>Rural &amp; Urban</td>\n",
       "      <td>Uttarakhand</td>\n",
       "      <td>AACTA5133A</td>\n",
       "    </tr>\n",
       "    <tr>\n",
       "      <th>34</th>\n",
       "      <td>https://www.givingtuesdayindia.org/ngo-detail/...</td>\n",
       "      <td>AKASH MEMORIAL CHARITABLE TRUST</td>\n",
       "      <td>NaN</td>\n",
       "      <td>2005</td>\n",
       "      <td>https://guidestarindia.org/Summary.aspx?CCReg=...</td>\n",
       "      <td>5</td>\n",
       "      <td>10.0</td>\n",
       "      <td>Akash Memorial Charitable Trust was establishe...</td>\n",
       "      <td>4,21,671/-</td>\n",
       "      <td>FY 2017-18</td>\n",
       "      <td>...</td>\n",
       "      <td>ashish@aksitservices.co.in</td>\n",
       "      <td>NaN</td>\n",
       "      <td>J-234, Akashdeep, Sector-25, Noida,\\nNoida    ...</td>\n",
       "      <td>NaN</td>\n",
       "      <td>Children, Education, Livelihoods</td>\n",
       "      <td>Direct service</td>\n",
       "      <td>Adolescents, Adults, Children, Elderly, Girl C...</td>\n",
       "      <td>Urban</td>\n",
       "      <td>Delhi</td>\n",
       "      <td>AABTA8762E</td>\n",
       "    </tr>\n",
       "    <tr>\n",
       "      <th>178</th>\n",
       "      <td>https://www.givingtuesdayindia.org/ngo-detail/...</td>\n",
       "      <td>CREATIVITI COUNCIL</td>\n",
       "      <td>NaN</td>\n",
       "      <td>2017</td>\n",
       "      <td>https://guidestarindia.org/Summary.aspx?CCReg=...</td>\n",
       "      <td>4</td>\n",
       "      <td>5.0</td>\n",
       "      <td>Creativiti Council (www.creativiticouncil.org)...</td>\n",
       "      <td>rs. 452272.20/-</td>\n",
       "      <td>FY 2018-19</td>\n",
       "      <td>...</td>\n",
       "      <td>creativiticouncil@gmail.com</td>\n",
       "      <td>91-9496373946</td>\n",
       "      <td>Creativiti Council,\\nKariattukara, Elthuruth P...</td>\n",
       "      <td>NaN</td>\n",
       "      <td>Disabled, Education, Elderly</td>\n",
       "      <td>Direct service, Network, Support, Advocacy &amp; C...</td>\n",
       "      <td>Children, Farmers / Farm Labourers, Students</td>\n",
       "      <td>Rural &amp; Urban</td>\n",
       "      <td>NaN</td>\n",
       "      <td>AAHCC1288J</td>\n",
       "    </tr>\n",
       "    <tr>\n",
       "      <th>294</th>\n",
       "      <td>https://www.givingtuesdayindia.org/ngo-detail/...</td>\n",
       "      <td>Indian Association for Promotion of Adoption a...</td>\n",
       "      <td>IAPACW</td>\n",
       "      <td>1971</td>\n",
       "      <td>https://guidestarindia.org/Summary.aspx?CCReg=...</td>\n",
       "      <td>16</td>\n",
       "      <td>NaN</td>\n",
       "      <td>IAPA provides Child and Family centred Non-ins...</td>\n",
       "      <td>one crore thirty three lakhs</td>\n",
       "      <td>FY 2018-19</td>\n",
       "      <td>...</td>\n",
       "      <td>iapacw1970@gmail.com</td>\n",
       "      <td>91-9820081788</td>\n",
       "      <td>Flat-7, Kanara House,\\nMogul Lane, Matunga(Wes...</td>\n",
       "      <td>91-9820081788, 91-22-24374938, 91-22-23885981</td>\n",
       "      <td>Children, Education, Healthcare, Livelihoods</td>\n",
       "      <td>Direct service, Network, Advocacy &amp; Campaigning</td>\n",
       "      <td>Adults, Children, Orphans, Women</td>\n",
       "      <td>Rural &amp; Urban</td>\n",
       "      <td>Maharashtra</td>\n",
       "      <td>AAATI0177J</td>\n",
       "    </tr>\n",
       "    <tr>\n",
       "      <th>386</th>\n",
       "      <td>https://www.givingtuesdayindia.org/ngo-detail/...</td>\n",
       "      <td>Mahamanav Baba Amte Bahuuddeshiya Samajik Vika...</td>\n",
       "      <td>Baba Amte Sanstha Shrigonda</td>\n",
       "      <td>2008</td>\n",
       "      <td>https://guidestarindia.org/Summary.aspx?CCReg=...</td>\n",
       "      <td>9</td>\n",
       "      <td>10.0</td>\n",
       "      <td>An Overview of Mahamanav Baba Amte Bahuddashiy...</td>\n",
       "      <td>150 lacs</td>\n",
       "      <td>FY 2018-19</td>\n",
       "      <td>...</td>\n",
       "      <td>vssanant@gmail.com</td>\n",
       "      <td>91-9404976833</td>\n",
       "      <td>Kulkarni Waada, Gavaligalli, Tal Shrigonda Dis...</td>\n",
       "      <td>NaN</td>\n",
       "      <td>Children, Youth</td>\n",
       "      <td>Direct service</td>\n",
       "      <td>Students, Tribals</td>\n",
       "      <td>Rural</td>\n",
       "      <td>Maharashtra</td>\n",
       "      <td>AADAM1475D</td>\n",
       "    </tr>\n",
       "    <tr>\n",
       "      <th>468</th>\n",
       "      <td>https://www.givingtuesdayindia.org/ngo-detail/...</td>\n",
       "      <td>PALLI VIKASH</td>\n",
       "      <td>PV</td>\n",
       "      <td>1990</td>\n",
       "      <td>https://guidestarindia.org/Summary.aspx?CCReg=...</td>\n",
       "      <td>12</td>\n",
       "      <td>254.0</td>\n",
       "      <td>We are operating at Therubali in Rayagada dist...</td>\n",
       "      <td>25 lakhs</td>\n",
       "      <td>FY 2018-19</td>\n",
       "      <td>...</td>\n",
       "      <td>radhasyam@rocketmail.com</td>\n",
       "      <td>91-9437474751</td>\n",
       "      <td>STATION ROAD,\\nAt/Po: THERUBALI    Rayagada, \\...</td>\n",
       "      <td>NaN</td>\n",
       "      <td>Children, Livelihoods</td>\n",
       "      <td>Direct service, Network</td>\n",
       "      <td>Adolescents, Adults, Artisans, Blood Donors, C...</td>\n",
       "      <td>Rural</td>\n",
       "      <td>Odisha</td>\n",
       "      <td>AABAP8154G</td>\n",
       "    </tr>\n",
       "    <tr>\n",
       "      <th>535</th>\n",
       "      <td>https://www.givingtuesdayindia.org/ngo-detail/...</td>\n",
       "      <td>ROSHNI NILAYA</td>\n",
       "      <td>NaN</td>\n",
       "      <td>2017</td>\n",
       "      <td>https://guidestarindia.org/Summary.aspx?CCReg=...</td>\n",
       "      <td>4</td>\n",
       "      <td>12.0</td>\n",
       "      <td>Roshni Nilaya is a registered Public Charitabl...</td>\n",
       "      <td>below 5 lakh</td>\n",
       "      <td>FY 2018-19</td>\n",
       "      <td>...</td>\n",
       "      <td>roshninilayango@gmail.com</td>\n",
       "      <td>NaN</td>\n",
       "      <td>NaN</td>\n",
       "      <td>NaN</td>\n",
       "      <td>Children, Education, Livelihoods, Women</td>\n",
       "      <td>Direct service</td>\n",
       "      <td>Adolescents, Children, Girl Child, Homeless, J...</td>\n",
       "      <td>Rural</td>\n",
       "      <td>NaN</td>\n",
       "      <td>AADTR1984P</td>\n",
       "    </tr>\n",
       "    <tr>\n",
       "      <th>753</th>\n",
       "      <td>https://www.givingtuesdayindia.org/ngo-detail/...</td>\n",
       "      <td>Ummeed Foundation</td>\n",
       "      <td>UF</td>\n",
       "      <td>2012</td>\n",
       "      <td>https://guidestarindia.org/Summary.aspx?CCReg=...</td>\n",
       "      <td>28</td>\n",
       "      <td>15.0</td>\n",
       "      <td>Since 2011 as non-profit and non-governmental ...</td>\n",
       "      <td>25,00,435/-</td>\n",
       "      <td>FY 2017-18</td>\n",
       "      <td>...</td>\n",
       "      <td>ceo@ummeedfoundation.in</td>\n",
       "      <td>91-9029320222</td>\n",
       "      <td>01, Jasmine Plaza, Nr. Mount Mary School, Kism...</td>\n",
       "      <td>NaN</td>\n",
       "      <td>Community Development, Disabled, Education, He...</td>\n",
       "      <td>Direct service, Advocacy &amp; Campaigning, Interm...</td>\n",
       "      <td>Adults, Beggars, Children, Chronically Ill, HI...</td>\n",
       "      <td>Rural &amp; Urban</td>\n",
       "      <td>All India</td>\n",
       "      <td>AAATU4914H</td>\n",
       "    </tr>\n",
       "  </tbody>\n",
       "</table>\n",
       "<p>8 rows × 23 columns</p>\n",
       "</div>"
      ],
      "text/plain": [
       "                                                   Url  \\\n",
       "11   https://www.givingtuesdayindia.org/ngo-detail/...   \n",
       "34   https://www.givingtuesdayindia.org/ngo-detail/...   \n",
       "178  https://www.givingtuesdayindia.org/ngo-detail/...   \n",
       "294  https://www.givingtuesdayindia.org/ngo-detail/...   \n",
       "386  https://www.givingtuesdayindia.org/ngo-detail/...   \n",
       "468  https://www.givingtuesdayindia.org/ngo-detail/...   \n",
       "535  https://www.givingtuesdayindia.org/ngo-detail/...   \n",
       "753  https://www.givingtuesdayindia.org/ngo-detail/...   \n",
       "\n",
       "                                              NGO Name  \\\n",
       "11                                              AASRAA   \n",
       "34                     AKASH MEMORIAL CHARITABLE TRUST   \n",
       "178                                 CREATIVITI COUNCIL   \n",
       "294  Indian Association for Promotion of Adoption a...   \n",
       "386  Mahamanav Baba Amte Bahuuddeshiya Samajik Vika...   \n",
       "468                                       PALLI VIKASH   \n",
       "535                                      ROSHNI NILAYA   \n",
       "753                                  Ummeed Foundation   \n",
       "\n",
       "                    Popular Name  Year of Establishment  \\\n",
       "11                  AASRAA TRUST                   2009   \n",
       "34                           NaN                   2005   \n",
       "178                          NaN                   2017   \n",
       "294                       IAPACW                   1971   \n",
       "386  Baba Amte Sanstha Shrigonda                   2008   \n",
       "468                           PV                   1990   \n",
       "535                          NaN                   2017   \n",
       "753                           UF                   2012   \n",
       "\n",
       "                                         GuideStar URL Full Time Staff  \\\n",
       "11   https://guidestarindia.org/Summary.aspx?CCReg=...              18   \n",
       "34   https://guidestarindia.org/Summary.aspx?CCReg=...               5   \n",
       "178  https://guidestarindia.org/Summary.aspx?CCReg=...               4   \n",
       "294  https://guidestarindia.org/Summary.aspx?CCReg=...              16   \n",
       "386  https://guidestarindia.org/Summary.aspx?CCReg=...               9   \n",
       "468  https://guidestarindia.org/Summary.aspx?CCReg=...              12   \n",
       "535  https://guidestarindia.org/Summary.aspx?CCReg=...               4   \n",
       "753  https://guidestarindia.org/Summary.aspx?CCReg=...              28   \n",
       "\n",
       "     Full Time Volunteers                                  Brief description  \\\n",
       "11                    5.0  Aasraa is an education trust established in 20...   \n",
       "34                   10.0  Akash Memorial Charitable Trust was establishe...   \n",
       "178                   5.0  Creativiti Council (www.creativiticouncil.org)...   \n",
       "294                   NaN  IAPA provides Child and Family centred Non-ins...   \n",
       "386                  10.0  An Overview of Mahamanav Baba Amte Bahuddashiy...   \n",
       "468                 254.0  We are operating at Therubali in Rayagada dist...   \n",
       "535                  12.0  Roshni Nilaya is a registered Public Charitabl...   \n",
       "753                  15.0  Since 2011 as non-profit and non-governmental ...   \n",
       "\n",
       "    Annual Expenditure (Rs in lacs) Year for Annual Expenditure     ...      \\\n",
       "11                        518 lakhs                  FY 2019-20     ...       \n",
       "34                       4,21,671/-                  FY 2017-18     ...       \n",
       "178                 rs. 452272.20/-                  FY 2018-19     ...       \n",
       "294    one crore thirty three lakhs                  FY 2018-19     ...       \n",
       "386                        150 lacs                  FY 2018-19     ...       \n",
       "468                        25 lakhs                  FY 2018-19     ...       \n",
       "535                    below 5 lakh                  FY 2018-19     ...       \n",
       "753                     25,00,435/-                  FY 2017-18     ...       \n",
       "\n",
       "                           Email Telephone/ Mobile number  \\\n",
       "11         aasraatrust@gmail.com                      NaN   \n",
       "34    ashish@aksitservices.co.in                      NaN   \n",
       "178  creativiticouncil@gmail.com            91-9496373946   \n",
       "294         iapacw1970@gmail.com            91-9820081788   \n",
       "386           vssanant@gmail.com            91-9404976833   \n",
       "468     radhasyam@rocketmail.com            91-9437474751   \n",
       "535    roshninilayango@gmail.com                      NaN   \n",
       "753      ceo@ummeedfoundation.in            91-9029320222   \n",
       "\n",
       "                               Correspondence  Address  \\\n",
       "11                                                 NaN   \n",
       "34   J-234, Akashdeep, Sector-25, Noida,\\nNoida    ...   \n",
       "178  Creativiti Council,\\nKariattukara, Elthuruth P...   \n",
       "294  Flat-7, Kanara House,\\nMogul Lane, Matunga(Wes...   \n",
       "386  Kulkarni Waada, Gavaligalli, Tal Shrigonda Dis...   \n",
       "468  STATION ROAD,\\nAt/Po: THERUBALI    Rayagada, \\...   \n",
       "535                                                NaN   \n",
       "753  01, Jasmine Plaza, Nr. Mount Mary School, Kism...   \n",
       "\n",
       "                                             Phone  \\\n",
       "11                                             NaN   \n",
       "34                                             NaN   \n",
       "178                                            NaN   \n",
       "294  91-9820081788, 91-22-24374938, 91-22-23885981   \n",
       "386                                            NaN   \n",
       "468                                            NaN   \n",
       "535                                            NaN   \n",
       "753                                            NaN   \n",
       "\n",
       "                                              Cause(s)  \\\n",
       "11   Children, Disabled, Education, Environment, He...   \n",
       "34                    Children, Education, Livelihoods   \n",
       "178                       Disabled, Education, Elderly   \n",
       "294       Children, Education, Healthcare, Livelihoods   \n",
       "386                                    Children, Youth   \n",
       "468                              Children, Livelihoods   \n",
       "535            Children, Education, Livelihoods, Women   \n",
       "753  Community Development, Disabled, Education, He...   \n",
       "\n",
       "                                Nature of Intervention  \\\n",
       "11                             Direct service, Support   \n",
       "34                                      Direct service   \n",
       "178  Direct service, Network, Support, Advocacy & C...   \n",
       "294    Direct service, Network, Advocacy & Campaigning   \n",
       "386                                     Direct service   \n",
       "468                            Direct service, Network   \n",
       "535                                     Direct service   \n",
       "753  Direct service, Advocacy & Campaigning, Interm...   \n",
       "\n",
       "                                         Beneficairies          Focus  \\\n",
       "11   Adolescents, Children, Girl Child, Homeless, P...  Rural & Urban   \n",
       "34   Adolescents, Adults, Children, Elderly, Girl C...          Urban   \n",
       "178       Children, Farmers / Farm Labourers, Students  Rural & Urban   \n",
       "294                   Adults, Children, Orphans, Women  Rural & Urban   \n",
       "386                                  Students, Tribals          Rural   \n",
       "468  Adolescents, Adults, Artisans, Blood Donors, C...          Rural   \n",
       "535  Adolescents, Children, Girl Child, Homeless, J...          Rural   \n",
       "753  Adults, Beggars, Children, Chronically Ill, HI...  Rural & Urban   \n",
       "\n",
       "    Area of Operation: State         PAN  \n",
       "11               Uttarakhand  AACTA5133A  \n",
       "34                     Delhi  AABTA8762E  \n",
       "178                      NaN  AAHCC1288J  \n",
       "294              Maharashtra  AAATI0177J  \n",
       "386              Maharashtra  AADAM1475D  \n",
       "468                   Odisha  AABAP8154G  \n",
       "535                      NaN  AADTR1984P  \n",
       "753                All India  AAATU4914H  \n",
       "\n",
       "[8 rows x 23 columns]"
      ]
     },
     "execution_count": 197,
     "metadata": {},
     "output_type": "execute_result"
    }
   ],
   "source": [
    "# weird values\n",
    "df[df['Annual Expenditure (Rs in lacs)'].str.contains(\"lakhs|lakh|lacs|/-\")]"
   ]
  },
  {
   "cell_type": "code",
   "execution_count": 274,
   "metadata": {},
   "outputs": [],
   "source": [
    "# turn words into numbers and numbers written in INR to Lakhs\n",
    "\n",
    "# seventy lakhs --> 70\n",
    "df.at[198, 'Annual Expenditure (Rs in lacs)'] = 70\n",
    "\n",
    "# one crore thirty three lakhs --> 133 lakhs\n",
    "df.at[294, 'Annual Expenditure (Rs in lacs)'] = 133\n",
    "\n",
    "# 4,21,671/- --> 4.21671\n",
    "df.at[34, 'Annual Expenditure (Rs in lacs)'] = 4.21671\n",
    "\n",
    "# 25,00,435/- --> 25.00435\n",
    "df.at[753, 'Annual Expenditure (Rs in lacs)'] = 25.00435"
   ]
  },
  {
   "cell_type": "code",
   "execution_count": 277,
   "metadata": {},
   "outputs": [
    {
     "data": {
      "text/html": [
       "<div>\n",
       "<style scoped>\n",
       "    .dataframe tbody tr th:only-of-type {\n",
       "        vertical-align: middle;\n",
       "    }\n",
       "\n",
       "    .dataframe tbody tr th {\n",
       "        vertical-align: top;\n",
       "    }\n",
       "\n",
       "    .dataframe thead th {\n",
       "        text-align: right;\n",
       "    }\n",
       "</style>\n",
       "<table border=\"1\" class=\"dataframe\">\n",
       "  <thead>\n",
       "    <tr style=\"text-align: right;\">\n",
       "      <th></th>\n",
       "      <th>Expenditure</th>\n",
       "    </tr>\n",
       "  </thead>\n",
       "  <tbody>\n",
       "    <tr>\n",
       "      <th>919</th>\n",
       "      <td>10.01000</td>\n",
       "    </tr>\n",
       "    <tr>\n",
       "      <th>587</th>\n",
       "      <td>10.28865</td>\n",
       "    </tr>\n",
       "    <tr>\n",
       "      <th>915</th>\n",
       "      <td>10.93720</td>\n",
       "    </tr>\n",
       "    <tr>\n",
       "      <th>884</th>\n",
       "      <td>101.31000</td>\n",
       "    </tr>\n",
       "    <tr>\n",
       "      <th>837</th>\n",
       "      <td>101.75000</td>\n",
       "    </tr>\n",
       "  </tbody>\n",
       "</table>\n",
       "</div>"
      ],
      "text/plain": [
       "     Expenditure\n",
       "919     10.01000\n",
       "587     10.28865\n",
       "915     10.93720\n",
       "884    101.31000\n",
       "837    101.75000"
      ]
     },
     "execution_count": 277,
     "metadata": {},
     "output_type": "execute_result"
    }
   ],
   "source": [
    "# extract all float values\n",
    "expnd_floats = df['Annual Expenditure (Rs in lacs)'].str.extract(r'(\\d+.\\d+)').dropna().sort_values(0)\n",
    "expnd_floats.columns = ['Expenditure']\n",
    "\n",
    "# convert values to floats\n",
    "expnd_floats.Expenditure = expnd_floats.Expenditure.astype(float)\n",
    "\n",
    "# expnd_floats['Expenditure'].unique()\n",
    "expnd_floats.head()"
   ]
  },
  {
   "cell_type": "code",
   "execution_count": 279,
   "metadata": {},
   "outputs": [
    {
     "data": {
      "text/html": [
       "<div>\n",
       "<style scoped>\n",
       "    .dataframe tbody tr th:only-of-type {\n",
       "        vertical-align: middle;\n",
       "    }\n",
       "\n",
       "    .dataframe tbody tr th {\n",
       "        vertical-align: top;\n",
       "    }\n",
       "\n",
       "    .dataframe thead th {\n",
       "        text-align: right;\n",
       "    }\n",
       "</style>\n",
       "<table border=\"1\" class=\"dataframe\">\n",
       "  <thead>\n",
       "    <tr style=\"text-align: right;\">\n",
       "      <th></th>\n",
       "      <th>Expenditure</th>\n",
       "    </tr>\n",
       "  </thead>\n",
       "  <tbody>\n",
       "    <tr>\n",
       "      <th>count</th>\n",
       "      <td>1.550000e+02</td>\n",
       "    </tr>\n",
       "    <tr>\n",
       "      <th>mean</th>\n",
       "      <td>3.407374e+06</td>\n",
       "    </tr>\n",
       "    <tr>\n",
       "      <th>std</th>\n",
       "      <td>1.682180e+07</td>\n",
       "    </tr>\n",
       "    <tr>\n",
       "      <th>min</th>\n",
       "      <td>3.700000e+00</td>\n",
       "    </tr>\n",
       "    <tr>\n",
       "      <th>25%</th>\n",
       "      <td>1.915650e+02</td>\n",
       "    </tr>\n",
       "    <tr>\n",
       "      <th>50%</th>\n",
       "      <td>8.388700e+02</td>\n",
       "    </tr>\n",
       "    <tr>\n",
       "      <th>75%</th>\n",
       "      <td>3.305000e+05</td>\n",
       "    </tr>\n",
       "    <tr>\n",
       "      <th>max</th>\n",
       "      <td>1.806704e+08</td>\n",
       "    </tr>\n",
       "  </tbody>\n",
       "</table>\n",
       "</div>"
      ],
      "text/plain": [
       "        Expenditure\n",
       "count  1.550000e+02\n",
       "mean   3.407374e+06\n",
       "std    1.682180e+07\n",
       "min    3.700000e+00\n",
       "25%    1.915650e+02\n",
       "50%    8.388700e+02\n",
       "75%    3.305000e+05\n",
       "max    1.806704e+08"
      ]
     },
     "execution_count": 279,
     "metadata": {},
     "output_type": "execute_result"
    }
   ],
   "source": [
    "expnd_floats.describe()"
   ]
  },
  {
   "cell_type": "code",
   "execution_count": 278,
   "metadata": {},
   "outputs": [
    {
     "data": {
      "text/plain": [
       "<Figure size 1800x1800 with 0 Axes>"
      ]
     },
     "metadata": {},
     "output_type": "display_data"
    },
    {
     "data": {
      "image/png": "[encoded data removed]",
      "text/plain": [
       "<Figure size 432x288 with 1 Axes>"
      ]
     },
     "metadata": {
      "needs_background": "light"
     },
     "output_type": "display_data"
    }
   ],
   "source": [
    "plt.figure(figsize=(25,25))\n",
    "expnd_floats.plot.hist()\n",
    "plt.show()"
   ]
  },
  {
   "cell_type": "markdown",
   "metadata": {},
   "source": [
    "### Year for Annual Expenditure"
   ]
  },
  {
   "cell_type": "code",
   "execution_count": 183,
   "metadata": {},
   "outputs": [
    {
     "data": {
      "text/plain": [
       "array([nan, 'FY 2018-19', 'FY 2019-20', 'FY 2017-18', 'FY 2016-17'],\n",
       "      dtype=object)"
      ]
     },
     "execution_count": 183,
     "metadata": {},
     "output_type": "execute_result"
    }
   ],
   "source": [
    "df['Year for Annual Expenditure'].unique()"
   ]
  },
  {
   "cell_type": "code",
   "execution_count": 188,
   "metadata": {},
   "outputs": [
    {
     "name": "stdout",
     "output_type": "stream",
     "text": [
      "Invalid: 748\n",
      "No. of unique values: 5\n",
      "No. of Duplicates: 5\n"
     ]
    },
    {
     "data": {
      "text/html": [
       "<div>\n",
       "<style scoped>\n",
       "    .dataframe tbody tr th:only-of-type {\n",
       "        vertical-align: middle;\n",
       "    }\n",
       "\n",
       "    .dataframe tbody tr th {\n",
       "        vertical-align: top;\n",
       "    }\n",
       "\n",
       "    .dataframe thead th {\n",
       "        text-align: right;\n",
       "    }\n",
       "</style>\n",
       "<table border=\"1\" class=\"dataframe\">\n",
       "  <thead>\n",
       "    <tr style=\"text-align: right;\">\n",
       "      <th></th>\n",
       "      <th>Duplicate Description</th>\n",
       "      <th>Count</th>\n",
       "    </tr>\n",
       "  </thead>\n",
       "  <tbody>\n",
       "    <tr>\n",
       "      <th>0</th>\n",
       "      <td>NaN</td>\n",
       "      <td>748</td>\n",
       "    </tr>\n",
       "    <tr>\n",
       "      <th>1</th>\n",
       "      <td>FY 2017-18</td>\n",
       "      <td>94</td>\n",
       "    </tr>\n",
       "    <tr>\n",
       "      <th>2</th>\n",
       "      <td>FY 2018-19</td>\n",
       "      <td>49</td>\n",
       "    </tr>\n",
       "    <tr>\n",
       "      <th>3</th>\n",
       "      <td>FY 2016-17</td>\n",
       "      <td>21</td>\n",
       "    </tr>\n",
       "    <tr>\n",
       "      <th>4</th>\n",
       "      <td>FY 2019-20</td>\n",
       "      <td>14</td>\n",
       "    </tr>\n",
       "  </tbody>\n",
       "</table>\n",
       "</div>"
      ],
      "text/plain": [
       "  Duplicate Description  Count\n",
       "0                   NaN    748\n",
       "1            FY 2017-18     94\n",
       "2            FY 2018-19     49\n",
       "3            FY 2016-17     21\n",
       "4            FY 2019-20     14"
      ]
     },
     "execution_count": 188,
     "metadata": {},
     "output_type": "execute_result"
    }
   ],
   "source": [
    "years = df['Year for Annual Expenditure']\n",
    "\n",
    "# Number of empty strings/missing values\n",
    "print(\"Invalid:\", sum(years == \" \") + sum(years.isnull()) + sum(years == 0))\n",
    "\n",
    "print(\"No. of unique values:\", len(years.unique()))\n",
    "\n",
    "# Check for duplicates\n",
    "counter = dict(Counter(years))\n",
    "duplicates = { key:[value] for key, value in counter.items() if value > 1}\n",
    "print(\"No. of Duplicates:\", len(duplicates))\n",
    "\n",
    "table = pd.DataFrame.from_dict(duplicates)\n",
    "table = table.melt(var_name=\"Duplicate Description\", value_name=\"Count\").sort_values(by=[\"Count\"], ascending=False).reset_index(drop=True)\n",
    "table"
   ]
  },
  {
   "cell_type": "code",
   "execution_count": 285,
   "metadata": {},
   "outputs": [
    {
     "data": {
      "text/html": [
       "<div>\n",
       "<style scoped>\n",
       "    .dataframe tbody tr th:only-of-type {\n",
       "        vertical-align: middle;\n",
       "    }\n",
       "\n",
       "    .dataframe tbody tr th {\n",
       "        vertical-align: top;\n",
       "    }\n",
       "\n",
       "    .dataframe thead th {\n",
       "        text-align: right;\n",
       "    }\n",
       "</style>\n",
       "<table border=\"1\" class=\"dataframe\">\n",
       "  <thead>\n",
       "    <tr style=\"text-align: right;\">\n",
       "      <th></th>\n",
       "      <th>Year for Annual Expenditure</th>\n",
       "    </tr>\n",
       "  </thead>\n",
       "  <tbody>\n",
       "    <tr>\n",
       "      <th>FY 2017-18</th>\n",
       "      <td>94</td>\n",
       "    </tr>\n",
       "    <tr>\n",
       "      <th>FY 2018-19</th>\n",
       "      <td>49</td>\n",
       "    </tr>\n",
       "    <tr>\n",
       "      <th>FY 2016-17</th>\n",
       "      <td>21</td>\n",
       "    </tr>\n",
       "    <tr>\n",
       "      <th>FY 2019-20</th>\n",
       "      <td>14</td>\n",
       "    </tr>\n",
       "  </tbody>\n",
       "</table>\n",
       "</div>"
      ],
      "text/plain": [
       "            Year for Annual Expenditure\n",
       "FY 2017-18                           94\n",
       "FY 2018-19                           49\n",
       "FY 2016-17                           21\n",
       "FY 2019-20                           14"
      ]
     },
     "execution_count": 285,
     "metadata": {},
     "output_type": "execute_result"
    }
   ],
   "source": [
    "year_count = df['Year for Annual Expenditure'].value_counts().dropna()\n",
    "year_count_df = pd.DataFrame(year_count)\n",
    "year_count_df"
   ]
  },
  {
   "cell_type": "code",
   "execution_count": 289,
   "metadata": {},
   "outputs": [
    {
     "data": {
      "image/png": "[encoded data removed]",
      "text/plain": [
       "<Figure size 432x288 with 1 Axes>"
      ]
     },
     "metadata": {},
     "output_type": "display_data"
    }
   ],
   "source": [
    "year_count.plot.pie(autopct=\"%.1f%%\")\n",
    "plt.show()"
   ]
  },
  {
   "cell_type": "code",
   "execution_count": 290,
   "metadata": {},
   "outputs": [
    {
     "data": {
      "image/png": "[encoded data removed]",
      "text/plain": [
       "<Figure size 648x648 with 1 Axes>"
      ]
     },
     "metadata": {
      "needs_background": "light"
     },
     "output_type": "display_data"
    }
   ],
   "source": [
    "# Show frequency distribution of year for annual expenditures for NGOs\n",
    "plt.figure(figsize=(9, 9))\n",
    "ax = sns.barplot(x=year_count.index, y=year_count.values, data=year_count_df)\n",
    "plt.xticks(np.arange(0, 4), size=10)\n",
    "plt.yticks(np.arange(0, 115, 25), size=10)\n",
    "plt.xlabel(\"Year for Annual Expenditure\", size=15)\n",
    "plt.ylabel(\"Frequency\", size=15)\n",
    "plt.title(\"Year for Annual Expenditure Frequency Distribution\", size=20)\n",
    "plt.show()"
   ]
  },
  {
   "cell_type": "markdown",
   "metadata": {},
   "source": [
    "### Impact"
   ]
  },
  {
   "cell_type": "code",
   "execution_count": 291,
   "metadata": {},
   "outputs": [
    {
     "data": {
      "text/plain": [
       "0    The Strategic review and plan was done in year...\n",
       "1    Financially steady zero-balance after operatio...\n",
       "2                                                  NaN\n",
       "3                                                  NaN\n",
       "4    980 SCHOOLS GEO-MAPPED\\nAll the 960 schools of...\n",
       "Name: Impact, dtype: object"
      ]
     },
     "execution_count": 291,
     "metadata": {},
     "output_type": "execute_result"
    }
   ],
   "source": [
    "impact = df['Impact']\n",
    "impact.head()"
   ]
  },
  {
   "cell_type": "code",
   "execution_count": 235,
   "metadata": {},
   "outputs": [
    {
     "name": "stdout",
     "output_type": "stream",
     "text": [
      "Invalid: 460\n",
      "No. of unique values: 467\n",
      "No. of Duplicates: 1\n"
     ]
    },
    {
     "data": {
      "text/html": [
       "<div>\n",
       "<style scoped>\n",
       "    .dataframe tbody tr th:only-of-type {\n",
       "        vertical-align: middle;\n",
       "    }\n",
       "\n",
       "    .dataframe tbody tr th {\n",
       "        vertical-align: top;\n",
       "    }\n",
       "\n",
       "    .dataframe thead th {\n",
       "        text-align: right;\n",
       "    }\n",
       "</style>\n",
       "<table border=\"1\" class=\"dataframe\">\n",
       "  <thead>\n",
       "    <tr style=\"text-align: right;\">\n",
       "      <th></th>\n",
       "      <th>Duplicate Impact</th>\n",
       "      <th>Count</th>\n",
       "    </tr>\n",
       "  </thead>\n",
       "  <tbody>\n",
       "    <tr>\n",
       "      <th>0</th>\n",
       "      <td>NaN</td>\n",
       "      <td>460</td>\n",
       "    </tr>\n",
       "  </tbody>\n",
       "</table>\n",
       "</div>"
      ],
      "text/plain": [
       "   Duplicate Impact  Count\n",
       "0               NaN    460"
      ]
     },
     "execution_count": 235,
     "metadata": {},
     "output_type": "execute_result"
    }
   ],
   "source": [
    "# Number of empty strings/missing values\n",
    "print(\"Invalid:\", sum(impact == \" \") + sum(impact.isnull()) + sum(impact == 0))\n",
    "\n",
    "print(\"No. of unique values:\", len(impact.unique()))\n",
    "\n",
    "# Check for duplicates\n",
    "counter = dict(Counter(impact))\n",
    "duplicates = { key:[value] for key, value in counter.items() if value > 1}\n",
    "print(\"No. of Duplicates:\", len(duplicates))\n",
    "\n",
    "table = pd.DataFrame.from_dict(duplicates)\n",
    "table = table.melt(var_name=\"Duplicate Impact\", value_name=\"Count\").sort_values(by=[\"Count\"], ascending=False).reset_index(drop=True)\n",
    "table"
   ]
  },
  {
   "cell_type": "markdown",
   "metadata": {},
   "source": [
    "### Profile Pic"
   ]
  },
  {
   "cell_type": "code",
   "execution_count": 292,
   "metadata": {},
   "outputs": [
    {
     "data": {
      "text/plain": [
       "0    https://www.givingtuesdayindia.org/civicrm/fil...\n",
       "1                                                  NaN\n",
       "2                                                  NaN\n",
       "3                                                  NaN\n",
       "4    https://www.givingtuesdayindia.org/civicrm/fil...\n",
       "Name: Profile pic, dtype: object"
      ]
     },
     "execution_count": 292,
     "metadata": {},
     "output_type": "execute_result"
    }
   ],
   "source": [
    "pfp = df['Profile pic']\n",
    "pfp.head()"
   ]
  },
  {
   "cell_type": "code",
   "execution_count": 240,
   "metadata": {},
   "outputs": [
    {
     "name": "stdout",
     "output_type": "stream",
     "text": [
      "Invalid: 740\n",
      "No. of unique values: 187\n",
      "No. of Duplicates: 1\n"
     ]
    },
    {
     "data": {
      "text/html": [
       "<div>\n",
       "<style scoped>\n",
       "    .dataframe tbody tr th:only-of-type {\n",
       "        vertical-align: middle;\n",
       "    }\n",
       "\n",
       "    .dataframe tbody tr th {\n",
       "        vertical-align: top;\n",
       "    }\n",
       "\n",
       "    .dataframe thead th {\n",
       "        text-align: right;\n",
       "    }\n",
       "</style>\n",
       "<table border=\"1\" class=\"dataframe\">\n",
       "  <thead>\n",
       "    <tr style=\"text-align: right;\">\n",
       "      <th></th>\n",
       "      <th>Duplicate Profile Pic</th>\n",
       "      <th>Count</th>\n",
       "    </tr>\n",
       "  </thead>\n",
       "  <tbody>\n",
       "    <tr>\n",
       "      <th>0</th>\n",
       "      <td>NaN</td>\n",
       "      <td>740</td>\n",
       "    </tr>\n",
       "  </tbody>\n",
       "</table>\n",
       "</div>"
      ],
      "text/plain": [
       "   Duplicate Profile Pic  Count\n",
       "0                    NaN    740"
      ]
     },
     "execution_count": 240,
     "metadata": {},
     "output_type": "execute_result"
    }
   ],
   "source": [
    "# Number of empty strings/missing values\n",
    "print(\"Invalid:\", sum(pfp == \" \") + sum(pfp.isnull()) + sum(pfp == 0))\n",
    "\n",
    "print(\"No. of unique values:\", len(pfp.unique()))\n",
    "\n",
    "# Check for duplicates\n",
    "counter = dict(Counter(pfp))\n",
    "duplicates = { key:[value] for key, value in counter.items() if value > 1}\n",
    "print(\"No. of Duplicates:\", len(duplicates))\n",
    "\n",
    "table = pd.DataFrame.from_dict(duplicates)\n",
    "table = table.melt(var_name=\"Duplicate Profile Pic\", value_name=\"Count\").sort_values(by=[\"Count\"], ascending=False).reset_index(drop=True)\n",
    "table"
   ]
  },
  {
   "cell_type": "markdown",
   "metadata": {},
   "source": [
    "Many organizations did not include the givingtuesday link to their profile picture. If included, the givingtuesday links are not operational anymore."
   ]
  },
  {
   "cell_type": "markdown",
   "metadata": {},
   "source": [
    "### Organisation Website"
   ]
  },
  {
   "cell_type": "code",
   "execution_count": 293,
   "metadata": {},
   "outputs": [
    {
     "data": {
      "text/plain": [
       "0    http://www.sahajindia.org\n",
       "1     http://www.divyarasa.org\n",
       "2                          NaN\n",
       "3                          NaN\n",
       "4       http://www.17000ft.org\n",
       "Name: Organisation Website, dtype: object"
      ]
     },
     "execution_count": 293,
     "metadata": {},
     "output_type": "execute_result"
    }
   ],
   "source": [
    "website = df['Organisation Website']\n",
    "website.head()"
   ]
  },
  {
   "cell_type": "code",
   "execution_count": 244,
   "metadata": {},
   "outputs": [
    {
     "name": "stdout",
     "output_type": "stream",
     "text": [
      "Invalid: 131\n",
      "No. of unique values: 794\n",
      "No. of Duplicates: 3\n"
     ]
    },
    {
     "data": {
      "text/html": [
       "<div>\n",
       "<style scoped>\n",
       "    .dataframe tbody tr th:only-of-type {\n",
       "        vertical-align: middle;\n",
       "    }\n",
       "\n",
       "    .dataframe tbody tr th {\n",
       "        vertical-align: top;\n",
       "    }\n",
       "\n",
       "    .dataframe thead th {\n",
       "        text-align: right;\n",
       "    }\n",
       "</style>\n",
       "<table border=\"1\" class=\"dataframe\">\n",
       "  <thead>\n",
       "    <tr style=\"text-align: right;\">\n",
       "      <th></th>\n",
       "      <th>Duplicate Org Website</th>\n",
       "      <th>Count</th>\n",
       "    </tr>\n",
       "  </thead>\n",
       "  <tbody>\n",
       "    <tr>\n",
       "      <th>0</th>\n",
       "      <td>NaN</td>\n",
       "      <td>131</td>\n",
       "    </tr>\n",
       "    <tr>\n",
       "      <th>1</th>\n",
       "      <td>http://www.unnatiblr.org</td>\n",
       "      <td>2</td>\n",
       "    </tr>\n",
       "    <tr>\n",
       "      <th>2</th>\n",
       "      <td>http://www.srloveandcare.org/</td>\n",
       "      <td>2</td>\n",
       "    </tr>\n",
       "  </tbody>\n",
       "</table>\n",
       "</div>"
      ],
      "text/plain": [
       "           Duplicate Org Website  Count\n",
       "0                            NaN    131\n",
       "1       http://www.unnatiblr.org      2\n",
       "2  http://www.srloveandcare.org/      2"
      ]
     },
     "execution_count": 244,
     "metadata": {},
     "output_type": "execute_result"
    }
   ],
   "source": [
    "# Number of empty strings/missing values\n",
    "print(\"Invalid:\", sum(website == \" \") + sum(website.isnull()) + sum(website == 0))\n",
    "\n",
    "print(\"No. of unique values:\", len(website.unique()))\n",
    "\n",
    "# Check for duplicates\n",
    "counter = dict(Counter(website))\n",
    "duplicates = { key:[value] for key, value in counter.items() if value > 1}\n",
    "print(\"No. of Duplicates:\", len(duplicates))\n",
    "\n",
    "table = pd.DataFrame.from_dict(duplicates)\n",
    "table = table.melt(var_name=\"Duplicate Org Website\", value_name=\"Count\").sort_values(by=[\"Count\"], ascending=False).reset_index(drop=True)\n",
    "table"
   ]
  },
  {
   "cell_type": "code",
   "execution_count": 259,
   "metadata": {},
   "outputs": [
    {
     "name": "stderr",
     "output_type": "stream",
     "text": [
      "/Users/ericawo/anaconda3/lib/python3.7/site-packages/ipykernel_launcher.py:2: UserWarning: Boolean Series key will be reindexed to match DataFrame index.\n",
      "  \n"
     ]
    },
    {
     "data": {
      "text/html": [
       "<div>\n",
       "<style scoped>\n",
       "    .dataframe tbody tr th:only-of-type {\n",
       "        vertical-align: middle;\n",
       "    }\n",
       "\n",
       "    .dataframe tbody tr th {\n",
       "        vertical-align: top;\n",
       "    }\n",
       "\n",
       "    .dataframe thead th {\n",
       "        text-align: right;\n",
       "    }\n",
       "</style>\n",
       "<table border=\"1\" class=\"dataframe\">\n",
       "  <thead>\n",
       "    <tr style=\"text-align: right;\">\n",
       "      <th></th>\n",
       "      <th>Url</th>\n",
       "      <th>NGO Name</th>\n",
       "      <th>Popular Name</th>\n",
       "      <th>Year of Establishment</th>\n",
       "      <th>GuideStar URL</th>\n",
       "      <th>Full Time Staff</th>\n",
       "      <th>Full Time Volunteers</th>\n",
       "      <th>Brief description</th>\n",
       "      <th>Annual Expenditure (Rs in lacs)</th>\n",
       "      <th>Year for Annual Expenditure</th>\n",
       "      <th>Impact</th>\n",
       "      <th>Profile pic</th>\n",
       "      <th>Organisation Website</th>\n",
       "    </tr>\n",
       "  </thead>\n",
       "  <tbody>\n",
       "    <tr>\n",
       "      <th>832</th>\n",
       "      <td>https://www.givingtuesdayindia.org/ngo-detail/...</td>\n",
       "      <td>Shrimad Rajchandra Jivadaya Trust</td>\n",
       "      <td>SRLC</td>\n",
       "      <td>2005</td>\n",
       "      <td>https://guidestarindia.org/Summary.aspx?CCReg=...</td>\n",
       "      <td>21.0</td>\n",
       "      <td>20.0</td>\n",
       "      <td>Established in 2003, Shrimad Rajchandra Love a...</td>\n",
       "      <td>383.63</td>\n",
       "      <td>FY 2017-18</td>\n",
       "      <td>Shrimad Rajchandra Jivamaitridham is an animal...</td>\n",
       "      <td>NaN</td>\n",
       "      <td>http://www.srloveandcare.org/</td>\n",
       "    </tr>\n",
       "    <tr>\n",
       "      <th>833</th>\n",
       "      <td>https://www.givingtuesdayindia.org/ngo-detail/...</td>\n",
       "      <td>Shrimad Rajchandra Sarva Mangal Trust</td>\n",
       "      <td>SRLC</td>\n",
       "      <td>2003</td>\n",
       "      <td>https://guidestarindia.org/Summary.aspx?CCReg=...</td>\n",
       "      <td>200.0</td>\n",
       "      <td>300.0</td>\n",
       "      <td>Established in 2003, Shrimad Rajchandra Love a...</td>\n",
       "      <td>2399.08</td>\n",
       "      <td>FY 2017-18</td>\n",
       "      <td>Programme: In 2018 Org served-\\nHealth Care (A...</td>\n",
       "      <td>https://www.givingtuesdayindia.org/civicrm/fil...</td>\n",
       "      <td>http://www.srloveandcare.org/</td>\n",
       "    </tr>\n",
       "    <tr>\n",
       "      <th>629</th>\n",
       "      <td>https://www.givingtuesdayindia.org/ngo-detail/...</td>\n",
       "      <td>Shree Guruvayurappan Bhajan Samaj Trust</td>\n",
       "      <td>SGBS Trust</td>\n",
       "      <td>1993</td>\n",
       "      <td>https://guidestarindia.org/Summary.aspx?CCReg=...</td>\n",
       "      <td>10.0</td>\n",
       "      <td>30.0</td>\n",
       "      <td>Unemployment ‚ÄövÑv?‚àövë‚àö¬® it is believed ...</td>\n",
       "      <td>NaN</td>\n",
       "      <td>NaN</td>\n",
       "      <td>NaN</td>\n",
       "      <td>NaN</td>\n",
       "      <td>http://www.unnatiblr.org</td>\n",
       "    </tr>\n",
       "    <tr>\n",
       "      <th>902</th>\n",
       "      <td>https://www.givingtuesdayindia.org/ngo-detail/...</td>\n",
       "      <td>SGBS Unnati Foundation</td>\n",
       "      <td>NaN</td>\n",
       "      <td>2011</td>\n",
       "      <td>https://guidestarindia.org/Summary.aspx?CCReg=...</td>\n",
       "      <td>150.0</td>\n",
       "      <td>0.0</td>\n",
       "      <td>SGBS cherishes its simple yet fulfilling visio...</td>\n",
       "      <td>436.37</td>\n",
       "      <td>FY 2017-18</td>\n",
       "      <td>For FY 17-18 During the year, a total of 6,293...</td>\n",
       "      <td>https://www.givingtuesdayindia.org/civicrm/fil...</td>\n",
       "      <td>http://www.unnatiblr.org</td>\n",
       "    </tr>\n",
       "  </tbody>\n",
       "</table>\n",
       "</div>"
      ],
      "text/plain": [
       "                                                   Url  \\\n",
       "832  https://www.givingtuesdayindia.org/ngo-detail/...   \n",
       "833  https://www.givingtuesdayindia.org/ngo-detail/...   \n",
       "629  https://www.givingtuesdayindia.org/ngo-detail/...   \n",
       "902  https://www.givingtuesdayindia.org/ngo-detail/...   \n",
       "\n",
       "                                    NGO Name Popular Name  \\\n",
       "832        Shrimad Rajchandra Jivadaya Trust         SRLC   \n",
       "833    Shrimad Rajchandra Sarva Mangal Trust         SRLC   \n",
       "629  Shree Guruvayurappan Bhajan Samaj Trust   SGBS Trust   \n",
       "902                   SGBS Unnati Foundation          NaN   \n",
       "\n",
       "     Year of Establishment                                      GuideStar URL  \\\n",
       "832                   2005  https://guidestarindia.org/Summary.aspx?CCReg=...   \n",
       "833                   2003  https://guidestarindia.org/Summary.aspx?CCReg=...   \n",
       "629                   1993  https://guidestarindia.org/Summary.aspx?CCReg=...   \n",
       "902                   2011  https://guidestarindia.org/Summary.aspx?CCReg=...   \n",
       "\n",
       "     Full Time Staff  Full Time Volunteers  \\\n",
       "832             21.0                  20.0   \n",
       "833            200.0                 300.0   \n",
       "629             10.0                  30.0   \n",
       "902            150.0                   0.0   \n",
       "\n",
       "                                     Brief description  \\\n",
       "832  Established in 2003, Shrimad Rajchandra Love a...   \n",
       "833  Established in 2003, Shrimad Rajchandra Love a...   \n",
       "629  Unemployment ‚ÄövÑv?‚àövë‚àö¬® it is believed ...   \n",
       "902  SGBS cherishes its simple yet fulfilling visio...   \n",
       "\n",
       "    Annual Expenditure (Rs in lacs) Year for Annual Expenditure  \\\n",
       "832                          383.63                  FY 2017-18   \n",
       "833                         2399.08                  FY 2017-18   \n",
       "629                             NaN                         NaN   \n",
       "902                          436.37                  FY 2017-18   \n",
       "\n",
       "                                                Impact  \\\n",
       "832  Shrimad Rajchandra Jivamaitridham is an animal...   \n",
       "833  Programme: In 2018 Org served-\\nHealth Care (A...   \n",
       "629                                                NaN   \n",
       "902  For FY 17-18 During the year, a total of 6,293...   \n",
       "\n",
       "                                           Profile pic  \\\n",
       "832                                                NaN   \n",
       "833  https://www.givingtuesdayindia.org/civicrm/fil...   \n",
       "629                                                NaN   \n",
       "902  https://www.givingtuesdayindia.org/civicrm/fil...   \n",
       "\n",
       "              Organisation Website  \n",
       "832  http://www.srloveandcare.org/  \n",
       "833  http://www.srloveandcare.org/  \n",
       "629       http://www.unnatiblr.org  \n",
       "902       http://www.unnatiblr.org  "
      ]
     },
     "execution_count": 259,
     "metadata": {},
     "output_type": "execute_result"
    }
   ],
   "source": [
    "duplicates = df[df['Organisation Website'].duplicated(keep=False) == True]\n",
    "invalid_duplicates = duplicates[~df['Organisation Website'].isnull()].iloc[:,:13].sort_values('Organisation Website')\n",
    "invalid_duplicates"
   ]
  },
  {
   "cell_type": "markdown",
   "metadata": {},
   "source": [
    "Same organisation websites may not indicate duplicate rows. It seems that Shree Guruvayurappan Bhajan Samaj Trust and SGBS Unnati Foundation might also be associated organisations?"
   ]
  },
  {
   "cell_type": "markdown",
   "metadata": {},
   "source": [
    "### Email"
   ]
  },
  {
   "cell_type": "code",
   "execution_count": 294,
   "metadata": {},
   "outputs": [
    {
     "data": {
      "text/plain": [
       "0         admnsahaj@outlook.com\n",
       "1    divyarasa555@divyarasa.org\n",
       "2     sudhakarsankalp@gmail.com\n",
       "3            kptvisha@gmail.com\n",
       "4          reach.us@17000ft.org\n",
       "Name: Email, dtype: object"
      ]
     },
     "execution_count": 294,
     "metadata": {},
     "output_type": "execute_result"
    }
   ],
   "source": [
    "email = df['Email']\n",
    "email.head()"
   ]
  },
  {
   "cell_type": "code",
   "execution_count": 263,
   "metadata": {},
   "outputs": [
    {
     "name": "stdout",
     "output_type": "stream",
     "text": [
      "Invalid: 1\n",
      "No. of unique values: 924\n",
      "No. of Duplicates: 2\n"
     ]
    },
    {
     "data": {
      "text/html": [
       "<div>\n",
       "<style scoped>\n",
       "    .dataframe tbody tr th:only-of-type {\n",
       "        vertical-align: middle;\n",
       "    }\n",
       "\n",
       "    .dataframe tbody tr th {\n",
       "        vertical-align: top;\n",
       "    }\n",
       "\n",
       "    .dataframe thead th {\n",
       "        text-align: right;\n",
       "    }\n",
       "</style>\n",
       "<table border=\"1\" class=\"dataframe\">\n",
       "  <thead>\n",
       "    <tr style=\"text-align: right;\">\n",
       "      <th></th>\n",
       "      <th>Duplicate Emails</th>\n",
       "      <th>Count</th>\n",
       "    </tr>\n",
       "  </thead>\n",
       "  <tbody>\n",
       "    <tr>\n",
       "      <th>0</th>\n",
       "      <td>socjust@gmail.com</td>\n",
       "      <td>2</td>\n",
       "    </tr>\n",
       "    <tr>\n",
       "      <th>1</th>\n",
       "      <td>loveandcare@shrimadrajchandramission.org</td>\n",
       "      <td>2</td>\n",
       "    </tr>\n",
       "  </tbody>\n",
       "</table>\n",
       "</div>"
      ],
      "text/plain": [
       "                           Duplicate Emails  Count\n",
       "0                         socjust@gmail.com      2\n",
       "1  loveandcare@shrimadrajchandramission.org      2"
      ]
     },
     "execution_count": 263,
     "metadata": {},
     "output_type": "execute_result"
    }
   ],
   "source": [
    "# Number of empty strings/missing values\n",
    "print(\"Invalid:\", sum(email == \" \") + sum(email.isnull()) + sum(email == 0))\n",
    "\n",
    "print(\"No. of unique values:\", len(email.unique()))\n",
    "\n",
    "# Check for duplicates\n",
    "counter = dict(Counter(email))\n",
    "duplicates = { key:[value] for key, value in counter.items() if value > 1}\n",
    "print(\"No. of Duplicates:\", len(duplicates))\n",
    "\n",
    "table = pd.DataFrame.from_dict(duplicates)\n",
    "table = table.melt(var_name=\"Duplicate Emails\", value_name=\"Count\").sort_values(by=[\"Count\"], ascending=False).reset_index(drop=True)\n",
    "table"
   ]
  },
  {
   "cell_type": "code",
   "execution_count": 284,
   "metadata": {},
   "outputs": [
    {
     "data": {
      "text/html": [
       "<div>\n",
       "<style scoped>\n",
       "    .dataframe tbody tr th:only-of-type {\n",
       "        vertical-align: middle;\n",
       "    }\n",
       "\n",
       "    .dataframe tbody tr th {\n",
       "        vertical-align: top;\n",
       "    }\n",
       "\n",
       "    .dataframe thead th {\n",
       "        text-align: right;\n",
       "    }\n",
       "</style>\n",
       "<table border=\"1\" class=\"dataframe\">\n",
       "  <thead>\n",
       "    <tr style=\"text-align: right;\">\n",
       "      <th></th>\n",
       "      <th>Url</th>\n",
       "      <th>NGO Name</th>\n",
       "      <th>Popular Name</th>\n",
       "      <th>Year of Establishment</th>\n",
       "      <th>GuideStar URL</th>\n",
       "      <th>Full Time Staff</th>\n",
       "      <th>Full Time Volunteers</th>\n",
       "      <th>Brief description</th>\n",
       "      <th>Annual Expenditure (Rs in lacs)</th>\n",
       "      <th>Year for Annual Expenditure</th>\n",
       "      <th>Impact</th>\n",
       "      <th>Profile pic</th>\n",
       "      <th>Organisation Website</th>\n",
       "      <th>Email</th>\n",
       "    </tr>\n",
       "  </thead>\n",
       "  <tbody>\n",
       "    <tr>\n",
       "      <th>831</th>\n",
       "      <td>https://www.givingtuesdayindia.org/ngo-detail/...</td>\n",
       "      <td>Shrimad Rajchandra Educational Trust</td>\n",
       "      <td>SRLC</td>\n",
       "      <td>2004</td>\n",
       "      <td>https://guidestarindia.org/Summary.aspx?CCReg=...</td>\n",
       "      <td>86.0</td>\n",
       "      <td>200.0</td>\n",
       "      <td>Established in 2003, Shrimad Rajchandra Love a...</td>\n",
       "      <td>723.59</td>\n",
       "      <td>FY 2017-18</td>\n",
       "      <td>As of FY 18-19, over 300 students are studying...</td>\n",
       "      <td>https://www.givingtuesdayindia.org/civicrm/fil...</td>\n",
       "      <td>http://www.shrimadrajchandramission.org</td>\n",
       "      <td>loveandcare@shrimadrajchandramission.org</td>\n",
       "    </tr>\n",
       "    <tr>\n",
       "      <th>833</th>\n",
       "      <td>https://www.givingtuesdayindia.org/ngo-detail/...</td>\n",
       "      <td>Shrimad Rajchandra Sarva Mangal Trust</td>\n",
       "      <td>SRLC</td>\n",
       "      <td>2003</td>\n",
       "      <td>https://guidestarindia.org/Summary.aspx?CCReg=...</td>\n",
       "      <td>200.0</td>\n",
       "      <td>300.0</td>\n",
       "      <td>Established in 2003, Shrimad Rajchandra Love a...</td>\n",
       "      <td>2399.08</td>\n",
       "      <td>FY 2017-18</td>\n",
       "      <td>Programme: In 2018 Org served-\\nHealth Care (A...</td>\n",
       "      <td>https://www.givingtuesdayindia.org/civicrm/fil...</td>\n",
       "      <td>http://www.srloveandcare.org/</td>\n",
       "      <td>loveandcare@shrimadrajchandramission.org</td>\n",
       "    </tr>\n",
       "    <tr>\n",
       "      <th>323</th>\n",
       "      <td>https://www.givingtuesdayindia.org/ngo-detail/...</td>\n",
       "      <td>Janvikas</td>\n",
       "      <td>Janvikas</td>\n",
       "      <td>1985</td>\n",
       "      <td>https://guidestarindia.org/Summary.aspx?CCReg=...</td>\n",
       "      <td>NaN</td>\n",
       "      <td>NaN</td>\n",
       "      <td>NaN</td>\n",
       "      <td>NaN</td>\n",
       "      <td>NaN</td>\n",
       "      <td>NaN</td>\n",
       "      <td>NaN</td>\n",
       "      <td>http://www.giveindia.org/GetOrganisationProfil...</td>\n",
       "      <td>socjust@gmail.com</td>\n",
       "    </tr>\n",
       "    <tr>\n",
       "      <th>876</th>\n",
       "      <td>https://www.givingtuesdayindia.org/ngo-detail/...</td>\n",
       "      <td>Institute For Development Education and Learni...</td>\n",
       "      <td>Centre For Social Justice</td>\n",
       "      <td>1993</td>\n",
       "      <td>https://guidestarindia.org/Summary.aspx?CCReg=...</td>\n",
       "      <td>51.0</td>\n",
       "      <td>0.0</td>\n",
       "      <td>IDEAL ‚Äì Centre for Social Justice, establish...</td>\n",
       "      <td>377.16</td>\n",
       "      <td>FY 2017-18</td>\n",
       "      <td>IDEAL is successfully provided direct services...</td>\n",
       "      <td>https://www.givingtuesdayindia.org/civicrm/fil...</td>\n",
       "      <td>http://www.centreforsocialjustice.net/</td>\n",
       "      <td>socjust@gmail.com</td>\n",
       "    </tr>\n",
       "  </tbody>\n",
       "</table>\n",
       "</div>"
      ],
      "text/plain": [
       "                                                   Url  \\\n",
       "831  https://www.givingtuesdayindia.org/ngo-detail/...   \n",
       "833  https://www.givingtuesdayindia.org/ngo-detail/...   \n",
       "323  https://www.givingtuesdayindia.org/ngo-detail/...   \n",
       "876  https://www.givingtuesdayindia.org/ngo-detail/...   \n",
       "\n",
       "                                              NGO Name  \\\n",
       "831               Shrimad Rajchandra Educational Trust   \n",
       "833              Shrimad Rajchandra Sarva Mangal Trust   \n",
       "323                                           Janvikas   \n",
       "876  Institute For Development Education and Learni...   \n",
       "\n",
       "                  Popular Name  Year of Establishment  \\\n",
       "831                       SRLC                   2004   \n",
       "833                       SRLC                   2003   \n",
       "323                   Janvikas                   1985   \n",
       "876  Centre For Social Justice                   1993   \n",
       "\n",
       "                                         GuideStar URL  Full Time Staff  \\\n",
       "831  https://guidestarindia.org/Summary.aspx?CCReg=...             86.0   \n",
       "833  https://guidestarindia.org/Summary.aspx?CCReg=...            200.0   \n",
       "323  https://guidestarindia.org/Summary.aspx?CCReg=...              NaN   \n",
       "876  https://guidestarindia.org/Summary.aspx?CCReg=...             51.0   \n",
       "\n",
       "     Full Time Volunteers                                  Brief description  \\\n",
       "831                 200.0  Established in 2003, Shrimad Rajchandra Love a...   \n",
       "833                 300.0  Established in 2003, Shrimad Rajchandra Love a...   \n",
       "323                   NaN                                                NaN   \n",
       "876                   0.0  IDEAL ‚Äì Centre for Social Justice, establish...   \n",
       "\n",
       "    Annual Expenditure (Rs in lacs) Year for Annual Expenditure  \\\n",
       "831                          723.59                  FY 2017-18   \n",
       "833                         2399.08                  FY 2017-18   \n",
       "323                             NaN                         NaN   \n",
       "876                          377.16                  FY 2017-18   \n",
       "\n",
       "                                                Impact  \\\n",
       "831  As of FY 18-19, over 300 students are studying...   \n",
       "833  Programme: In 2018 Org served-\\nHealth Care (A...   \n",
       "323                                                NaN   \n",
       "876  IDEAL is successfully provided direct services...   \n",
       "\n",
       "                                           Profile pic  \\\n",
       "831  https://www.givingtuesdayindia.org/civicrm/fil...   \n",
       "833  https://www.givingtuesdayindia.org/civicrm/fil...   \n",
       "323                                                NaN   \n",
       "876  https://www.givingtuesdayindia.org/civicrm/fil...   \n",
       "\n",
       "                                  Organisation Website  \\\n",
       "831            http://www.shrimadrajchandramission.org   \n",
       "833                      http://www.srloveandcare.org/   \n",
       "323  http://www.giveindia.org/GetOrganisationProfil...   \n",
       "876             http://www.centreforsocialjustice.net/   \n",
       "\n",
       "                                        Email  \n",
       "831  loveandcare@shrimadrajchandramission.org  \n",
       "833  loveandcare@shrimadrajchandramission.org  \n",
       "323                         socjust@gmail.com  \n",
       "876                         socjust@gmail.com  "
      ]
     },
     "execution_count": 284,
     "metadata": {},
     "output_type": "execute_result"
    }
   ],
   "source": [
    "# Display duplicate emails\n",
    "df.loc[df['Email'].isin(table['Duplicate Emails'])].iloc[:, :14].sort_values('Email')"
   ]
  },
  {
   "cell_type": "markdown",
   "metadata": {},
   "source": [
    "The last two duplicate values may not indicate the same organisation (Janvikas and Institute For Development Education and Learning (IDEAL))."
   ]
  },
  {
   "cell_type": "code",
   "execution_count": 295,
   "metadata": {},
   "outputs": [
    {
     "data": {
      "text/html": [
       "<div>\n",
       "<style scoped>\n",
       "    .dataframe tbody tr th:only-of-type {\n",
       "        vertical-align: middle;\n",
       "    }\n",
       "\n",
       "    .dataframe tbody tr th {\n",
       "        vertical-align: top;\n",
       "    }\n",
       "\n",
       "    .dataframe thead th {\n",
       "        text-align: right;\n",
       "    }\n",
       "</style>\n",
       "<table border=\"1\" class=\"dataframe\">\n",
       "  <thead>\n",
       "    <tr style=\"text-align: right;\">\n",
       "      <th></th>\n",
       "      <th>Url</th>\n",
       "      <th>NGO Name</th>\n",
       "      <th>Popular Name</th>\n",
       "      <th>Year of Establishment</th>\n",
       "      <th>GuideStar URL</th>\n",
       "      <th>Full Time Staff</th>\n",
       "      <th>Full Time Volunteers</th>\n",
       "      <th>Brief description</th>\n",
       "      <th>Annual Expenditure (Rs in lacs)</th>\n",
       "      <th>Year for Annual Expenditure</th>\n",
       "      <th>...</th>\n",
       "      <th>Email</th>\n",
       "      <th>Telephone/ Mobile number</th>\n",
       "      <th>Correspondence  Address</th>\n",
       "      <th>Phone</th>\n",
       "      <th>Cause(s)</th>\n",
       "      <th>Nature of Intervention</th>\n",
       "      <th>Beneficairies</th>\n",
       "      <th>Focus</th>\n",
       "      <th>Area of Operation: State</th>\n",
       "      <th>PAN</th>\n",
       "    </tr>\n",
       "  </thead>\n",
       "  <tbody>\n",
       "    <tr>\n",
       "      <th>466</th>\n",
       "      <td>https://www.givingtuesdayindia.org/ngo-detail/...</td>\n",
       "      <td>OSCAR(Organisation for Social Change Awareness...</td>\n",
       "      <td>OSCAR</td>\n",
       "      <td>2010</td>\n",
       "      <td>https://guidestarindia.org/Summary.aspx?CCReg=...</td>\n",
       "      <td>53.0</td>\n",
       "      <td>20.0</td>\n",
       "      <td>The Organisation for Social Change, Awareness ...</td>\n",
       "      <td>NaN</td>\n",
       "      <td>NaN</td>\n",
       "      <td>...</td>\n",
       "      <td>NaN</td>\n",
       "      <td>NaN</td>\n",
       "      <td>301/302, 3rd Floor, Malhotra Chambers, 31/33 P...</td>\n",
       "      <td>NaN</td>\n",
       "      <td>Children, Education, Sports, Youth</td>\n",
       "      <td>Direct service</td>\n",
       "      <td>Adolescents, Children, Girl Child, Students, V...</td>\n",
       "      <td>Urban</td>\n",
       "      <td>DelhiJharkhandKarnatakaMaharashtra</td>\n",
       "      <td>AAATO2812J</td>\n",
       "    </tr>\n",
       "  </tbody>\n",
       "</table>\n",
       "<p>1 rows × 23 columns</p>\n",
       "</div>"
      ],
      "text/plain": [
       "                                                   Url  \\\n",
       "466  https://www.givingtuesdayindia.org/ngo-detail/...   \n",
       "\n",
       "                                              NGO Name Popular Name  \\\n",
       "466  OSCAR(Organisation for Social Change Awareness...        OSCAR   \n",
       "\n",
       "     Year of Establishment                                      GuideStar URL  \\\n",
       "466                   2010  https://guidestarindia.org/Summary.aspx?CCReg=...   \n",
       "\n",
       "     Full Time Staff  Full Time Volunteers  \\\n",
       "466             53.0                  20.0   \n",
       "\n",
       "                                     Brief description  \\\n",
       "466  The Organisation for Social Change, Awareness ...   \n",
       "\n",
       "    Annual Expenditure (Rs in lacs) Year for Annual Expenditure     ...      \\\n",
       "466                             NaN                         NaN     ...       \n",
       "\n",
       "    Email Telephone/ Mobile number  \\\n",
       "466   NaN                      NaN   \n",
       "\n",
       "                               Correspondence  Address Phone  \\\n",
       "466  301/302, 3rd Floor, Malhotra Chambers, 31/33 P...   NaN   \n",
       "\n",
       "                               Cause(s) Nature of Intervention  \\\n",
       "466  Children, Education, Sports, Youth         Direct service   \n",
       "\n",
       "                                         Beneficairies  Focus  \\\n",
       "466  Adolescents, Children, Girl Child, Students, V...  Urban   \n",
       "\n",
       "               Area of Operation: State         PAN  \n",
       "466  DelhiJharkhandKarnatakaMaharashtra  AAATO2812J  \n",
       "\n",
       "[1 rows x 23 columns]"
      ]
     },
     "execution_count": 295,
     "metadata": {},
     "output_type": "execute_result"
    }
   ],
   "source": [
    "df.loc[df['Email'].isnull() == True]"
   ]
  },
  {
   "cell_type": "markdown",
   "metadata": {},
   "source": [
    "### Telephone/ Mobile number"
   ]
  },
  {
   "cell_type": "code",
   "execution_count": 295,
   "metadata": {},
   "outputs": [
    {
     "data": {
      "text/plain": [
       "0              NaN\n",
       "1    91-9176300657\n",
       "2    91-9096696633\n",
       "3    91-9438022310\n",
       "4    91-9871100334\n",
       "Name: Telephone/ Mobile number, dtype: object"
      ]
     },
     "execution_count": 295,
     "metadata": {},
     "output_type": "execute_result"
    }
   ],
   "source": [
    "column=df['Telephone/ Mobile number']\n",
    "column.head()"
   ]
  },
  {
   "cell_type": "code",
   "execution_count": 303,
   "metadata": {},
   "outputs": [
    {
     "name": "stdout",
     "output_type": "stream",
     "text": [
      "Nulls: 253\n",
      "No. of unique values: 671\n",
      "No. of Duplicates: 4\n"
     ]
    },
    {
     "data": {
      "text/html": [
       "<div>\n",
       "<style scoped>\n",
       "    .dataframe tbody tr th:only-of-type {\n",
       "        vertical-align: middle;\n",
       "    }\n",
       "\n",
       "    .dataframe tbody tr th {\n",
       "        vertical-align: top;\n",
       "    }\n",
       "\n",
       "    .dataframe thead th {\n",
       "        text-align: right;\n",
       "    }\n",
       "</style>\n",
       "<table border=\"1\" class=\"dataframe\">\n",
       "  <thead>\n",
       "    <tr style=\"text-align: right;\">\n",
       "      <th></th>\n",
       "      <th>Duplicate Mobile numbers</th>\n",
       "      <th>Count</th>\n",
       "    </tr>\n",
       "  </thead>\n",
       "  <tbody>\n",
       "    <tr>\n",
       "      <th>0</th>\n",
       "      <td>NaN</td>\n",
       "      <td>253</td>\n",
       "    </tr>\n",
       "    <tr>\n",
       "      <th>1</th>\n",
       "      <td>91-9421642403</td>\n",
       "      <td>2</td>\n",
       "    </tr>\n",
       "    <tr>\n",
       "      <th>2</th>\n",
       "      <td>91-9650730860</td>\n",
       "      <td>2</td>\n",
       "    </tr>\n",
       "    <tr>\n",
       "      <th>3</th>\n",
       "      <td>91-9844085864</td>\n",
       "      <td>2</td>\n",
       "    </tr>\n",
       "  </tbody>\n",
       "</table>\n",
       "</div>"
      ],
      "text/plain": [
       "  Duplicate Mobile numbers  Count\n",
       "0                      NaN    253\n",
       "1            91-9421642403      2\n",
       "2            91-9650730860      2\n",
       "3            91-9844085864      2"
      ]
     },
     "execution_count": 303,
     "metadata": {},
     "output_type": "execute_result"
    }
   ],
   "source": [
    "# Number of missing values\n",
    "print(\"Nulls:\", sum(column.isnull()))\n",
    "\n",
    "print(\"No. of unique values:\", len(column.unique()))\n",
    "\n",
    "# Check for duplicates\n",
    "counter = dict(Counter(column))\n",
    "duplicates = { key:[value] for key, value in counter.items() if value > 1}\n",
    "print(\"No. of Duplicates:\", len(duplicates))\n",
    "\n",
    "table = pd.DataFrame.from_dict(duplicates)\n",
    "table = table.melt(var_name=\"Duplicate Mobile numbers\", value_name=\"Count\").sort_values(by=[\"Count\"], ascending=False).reset_index(drop=True)\n",
    "table"
   ]
  },
  {
   "cell_type": "code",
   "execution_count": 346,
   "metadata": {},
   "outputs": [
    {
     "data": {
      "text/html": [
       "<div>\n",
       "<style scoped>\n",
       "    .dataframe tbody tr th:only-of-type {\n",
       "        vertical-align: middle;\n",
       "    }\n",
       "\n",
       "    .dataframe tbody tr th {\n",
       "        vertical-align: top;\n",
       "    }\n",
       "\n",
       "    .dataframe thead th {\n",
       "        text-align: right;\n",
       "    }\n",
       "</style>\n",
       "<table border=\"1\" class=\"dataframe\">\n",
       "  <thead>\n",
       "    <tr style=\"text-align: right;\">\n",
       "      <th></th>\n",
       "      <th>Url</th>\n",
       "      <th>NGO Name</th>\n",
       "      <th>Telephone/ Mobile number</th>\n",
       "    </tr>\n",
       "  </thead>\n",
       "  <tbody>\n",
       "    <tr>\n",
       "      <th>137</th>\n",
       "      <td>https://www.givingtuesdayindia.org/ngo-detail/...</td>\n",
       "      <td>CENTRE FOR AGRICULTURE AND RURAL DEVELOPMENT(C...</td>\n",
       "      <td>91-9421642403</td>\n",
       "    </tr>\n",
       "    <tr>\n",
       "      <th>200</th>\n",
       "      <td>https://www.givingtuesdayindia.org/ngo-detail/...</td>\n",
       "      <td>DNYANJYOTI GRAMIN VIKAS MANDAL</td>\n",
       "      <td>91-9421642403</td>\n",
       "    </tr>\n",
       "    <tr>\n",
       "      <th>154</th>\n",
       "      <td>https://www.givingtuesdayindia.org/ngo-detail/...</td>\n",
       "      <td>CHIKITSA</td>\n",
       "      <td>91-9650730860</td>\n",
       "    </tr>\n",
       "    <tr>\n",
       "      <th>830</th>\n",
       "      <td>https://www.givingtuesdayindia.org/ngo-detail/...</td>\n",
       "      <td>SHIKSHA</td>\n",
       "      <td>91-9650730860</td>\n",
       "    </tr>\n",
       "    <tr>\n",
       "      <th>629</th>\n",
       "      <td>https://www.givingtuesdayindia.org/ngo-detail/...</td>\n",
       "      <td>Shree Guruvayurappan Bhajan Samaj Trust</td>\n",
       "      <td>91-9844085864</td>\n",
       "    </tr>\n",
       "    <tr>\n",
       "      <th>902</th>\n",
       "      <td>https://www.givingtuesdayindia.org/ngo-detail/...</td>\n",
       "      <td>SGBS Unnati Foundation</td>\n",
       "      <td>91-9844085864</td>\n",
       "    </tr>\n",
       "  </tbody>\n",
       "</table>\n",
       "</div>"
      ],
      "text/plain": [
       "                                                   Url  \\\n",
       "137  https://www.givingtuesdayindia.org/ngo-detail/...   \n",
       "200  https://www.givingtuesdayindia.org/ngo-detail/...   \n",
       "154  https://www.givingtuesdayindia.org/ngo-detail/...   \n",
       "830  https://www.givingtuesdayindia.org/ngo-detail/...   \n",
       "629  https://www.givingtuesdayindia.org/ngo-detail/...   \n",
       "902  https://www.givingtuesdayindia.org/ngo-detail/...   \n",
       "\n",
       "                                              NGO Name  \\\n",
       "137  CENTRE FOR AGRICULTURE AND RURAL DEVELOPMENT(C...   \n",
       "200                     DNYANJYOTI GRAMIN VIKAS MANDAL   \n",
       "154                                           CHIKITSA   \n",
       "830                                            SHIKSHA   \n",
       "629            Shree Guruvayurappan Bhajan Samaj Trust   \n",
       "902                             SGBS Unnati Foundation   \n",
       "\n",
       "    Telephone/ Mobile number  \n",
       "137            91-9421642403  \n",
       "200            91-9421642403  \n",
       "154            91-9650730860  \n",
       "830            91-9650730860  \n",
       "629            91-9844085864  \n",
       "902            91-9844085864  "
      ]
     },
     "execution_count": 346,
     "metadata": {},
     "output_type": "execute_result"
    }
   ],
   "source": [
    "a = df.loc[df['Telephone/ Mobile number'].isin(table['Duplicate Mobile numbers'])].iloc[:, [0, 1, 14]].copy()\n",
    "a[~a['Telephone/ Mobile number'].isnull()].sort_values('Telephone/ Mobile number')"
   ]
  },
  {
   "cell_type": "markdown",
   "metadata": {},
   "source": [
    "Duplicate phone numbers do not indicate duplicate rows."
   ]
  },
  {
   "cell_type": "markdown",
   "metadata": {},
   "source": [
    "### Correspondence Address"
   ]
  },
  {
   "cell_type": "code",
   "execution_count": 359,
   "metadata": {},
   "outputs": [
    {
     "name": "stdout",
     "output_type": "stream",
     "text": [
      "Nulls: 72\n",
      "No. of unique values: 855\n",
      "No. of Duplicates: 1\n"
     ]
    },
    {
     "data": {
      "text/html": [
       "<div>\n",
       "<style scoped>\n",
       "    .dataframe tbody tr th:only-of-type {\n",
       "        vertical-align: middle;\n",
       "    }\n",
       "\n",
       "    .dataframe tbody tr th {\n",
       "        vertical-align: top;\n",
       "    }\n",
       "\n",
       "    .dataframe thead th {\n",
       "        text-align: right;\n",
       "    }\n",
       "</style>\n",
       "<table border=\"1\" class=\"dataframe\">\n",
       "  <thead>\n",
       "    <tr style=\"text-align: right;\">\n",
       "      <th></th>\n",
       "      <th>Duplicate Mobile numbers</th>\n",
       "      <th>Count</th>\n",
       "    </tr>\n",
       "  </thead>\n",
       "  <tbody>\n",
       "    <tr>\n",
       "      <th>0</th>\n",
       "      <td>NaN</td>\n",
       "      <td>72</td>\n",
       "    </tr>\n",
       "  </tbody>\n",
       "</table>\n",
       "</div>"
      ],
      "text/plain": [
       "   Duplicate Mobile numbers  Count\n",
       "0                       NaN     72"
      ]
     },
     "execution_count": 359,
     "metadata": {},
     "output_type": "execute_result"
    }
   ],
   "source": [
    "column=df['Correspondence  Address']\n",
    "# Number of missing values\n",
    "print(\"Nulls:\", sum(column.isnull()))\n",
    "\n",
    "print(\"No. of unique values:\", len(column.unique()))\n",
    "\n",
    "# Check for duplicates\n",
    "counter = dict(Counter(column))\n",
    "duplicates = { key:[value] for key, value in counter.items() if value > 1}\n",
    "print(\"No. of Duplicates:\", len(duplicates))\n",
    "\n",
    "table = pd.DataFrame.from_dict(duplicates)\n",
    "table = table.melt(var_name=\"Duplicate Mobile numbers\", value_name=\"Count\").sort_values(by=[\"Count\"], ascending=False).reset_index(drop=True)\n",
    "table"
   ]
  },
  {
   "cell_type": "markdown",
   "metadata": {},
   "source": [
    "Addresses are not all consistent."
   ]
  },
  {
   "cell_type": "markdown",
   "metadata": {},
   "source": [
    "### Phone"
   ]
  },
  {
   "cell_type": "code",
   "execution_count": 581,
   "metadata": {},
   "outputs": [
    {
     "name": "stdout",
     "output_type": "stream",
     "text": [
      "Nulls: 807\n"
     ]
    }
   ],
   "source": [
    "# Number of missing values\n",
    "print(\"Nulls:\", sum(df['Phone'].isnull()))"
   ]
  },
  {
   "cell_type": "markdown",
   "metadata": {},
   "source": [
    "Column contain multiple phone numbers with varying lengths and formats."
   ]
  },
  {
   "cell_type": "code",
   "execution_count": 575,
   "metadata": {},
   "outputs": [
    {
     "data": {
      "text/html": [
       "<div>\n",
       "<style scoped>\n",
       "    .dataframe tbody tr th:only-of-type {\n",
       "        vertical-align: middle;\n",
       "    }\n",
       "\n",
       "    .dataframe tbody tr th {\n",
       "        vertical-align: top;\n",
       "    }\n",
       "\n",
       "    .dataframe thead th {\n",
       "        text-align: right;\n",
       "    }\n",
       "</style>\n",
       "<table border=\"1\" class=\"dataframe\">\n",
       "  <thead>\n",
       "    <tr style=\"text-align: right;\">\n",
       "      <th></th>\n",
       "      <th>Url</th>\n",
       "      <th>NGO Name</th>\n",
       "      <th>Popular Name</th>\n",
       "      <th>Year of Establishment</th>\n",
       "      <th>GuideStar URL</th>\n",
       "      <th>Full Time Staff</th>\n",
       "      <th>Full Time Volunteers</th>\n",
       "      <th>Brief description</th>\n",
       "      <th>Annual Expenditure (Rs in lacs)</th>\n",
       "      <th>Year for Annual Expenditure</th>\n",
       "      <th>...</th>\n",
       "      <th>Email</th>\n",
       "      <th>Telephone/ Mobile number</th>\n",
       "      <th>Correspondence  Address</th>\n",
       "      <th>Phone</th>\n",
       "      <th>Cause(s)</th>\n",
       "      <th>Nature of Intervention</th>\n",
       "      <th>Beneficairies</th>\n",
       "      <th>Focus</th>\n",
       "      <th>Area of Operation: State</th>\n",
       "      <th>PAN</th>\n",
       "    </tr>\n",
       "  </thead>\n",
       "  <tbody>\n",
       "    <tr>\n",
       "      <th>0</th>\n",
       "      <td>https://www.givingtuesdayindia.org/ngodetail/3...</td>\n",
       "      <td>`Sahaj' (An Organisation for Women's Development)</td>\n",
       "      <td>Sahaj</td>\n",
       "      <td>2001</td>\n",
       "      <td>https://guidestarindia.org/Summary.aspx?CCReg=...</td>\n",
       "      <td>70.0</td>\n",
       "      <td>NaN</td>\n",
       "      <td>Sahaj is an organization working for skill dev...</td>\n",
       "      <td>nan</td>\n",
       "      <td>NaN</td>\n",
       "      <td>...</td>\n",
       "      <td>admnsahaj@outlook.com</td>\n",
       "      <td>NaN</td>\n",
       "      <td>Desai Automobile Compound,\\nGarbada Road, Pada...</td>\n",
       "      <td>912673245215, 912673245215</td>\n",
       "      <td>Community Development, Education, Healthcare, ...</td>\n",
       "      <td>Direct service</td>\n",
       "      <td>Children, Girl Child, Dalits, Artisans, Rural ...</td>\n",
       "      <td>Rural</td>\n",
       "      <td>Gujarat</td>\n",
       "      <td>AACTS0036Q</td>\n",
       "    </tr>\n",
       "    <tr>\n",
       "      <th>1</th>\n",
       "      <td>https://www.givingtuesdayindia.org/ngodetail/2...</td>\n",
       "      <td>\"DIVYA RASA\" (Centre for Healing, Learning, Re...</td>\n",
       "      <td>Divya Rasa  Temple of Love</td>\n",
       "      <td>2015</td>\n",
       "      <td>https://guidestarindia.org/Summary.aspx?CCReg=...</td>\n",
       "      <td>3.0</td>\n",
       "      <td>5.0</td>\n",
       "      <td>Divya Rasa is an NGO dedicated to serve autist...</td>\n",
       "      <td>nan</td>\n",
       "      <td>NaN</td>\n",
       "      <td>...</td>\n",
       "      <td>divyarasa555@divyarasa.org</td>\n",
       "      <td>919176300657</td>\n",
       "      <td>Divya Rasa  Temple of Love, Su Kilnachipattu,\\...</td>\n",
       "      <td>NaN</td>\n",
       "      <td>Education</td>\n",
       "      <td>Direct service</td>\n",
       "      <td>Children, Adolescents, Adults, Volunteers</td>\n",
       "      <td>Rural &amp; Urban</td>\n",
       "      <td>Tamil Nadu</td>\n",
       "      <td>AACTD2691L</td>\n",
       "    </tr>\n",
       "    <tr>\n",
       "      <th>2</th>\n",
       "      <td>https://www.givingtuesdayindia.org/ngodetail/2...</td>\n",
       "      <td>\"Sankalp\" Manav Vikas Sanstha</td>\n",
       "      <td>NaN</td>\n",
       "      <td>1992</td>\n",
       "      <td>https://guidestarindia.org/Summary.aspx?CCReg=...</td>\n",
       "      <td>NaN</td>\n",
       "      <td>NaN</td>\n",
       "      <td>Sankalp Manav Vikas Sanstha is a registered or...</td>\n",
       "      <td>nan</td>\n",
       "      <td>NaN</td>\n",
       "      <td>...</td>\n",
       "      <td>sudhakarsankalp@gmail.com</td>\n",
       "      <td>919096696633</td>\n",
       "      <td>Sudhakar Kshirsagar,Gautam Nagar Pathari,\\nPat...</td>\n",
       "      <td>NaN</td>\n",
       "      <td>Children, Community Development, Education, He...</td>\n",
       "      <td>Advocacy &amp; Campaigning</td>\n",
       "      <td>Physically Challenged, Children, Girl Child, A...</td>\n",
       "      <td>Rural &amp; Urban</td>\n",
       "      <td>NaN</td>\n",
       "      <td>AAETS2349N</td>\n",
       "    </tr>\n",
       "    <tr>\n",
       "      <th>3</th>\n",
       "      <td>https://www.givingtuesdayindia.org/ngodetail/3...</td>\n",
       "      <td>\"VISHA\" VOCATIONAL INSTITUTES SOCIAL,HEALTH AN...</td>\n",
       "      <td>VISHA NGO</td>\n",
       "      <td>2012</td>\n",
       "      <td>https://guidestarindia.org/Summary.aspx?CCReg=...</td>\n",
       "      <td>3.0</td>\n",
       "      <td>23.0</td>\n",
       "      <td>Vocational Institutes Social,Health and Agricu...</td>\n",
       "      <td>nan</td>\n",
       "      <td>NaN</td>\n",
       "      <td>...</td>\n",
       "      <td>kptvisha@gmail.com</td>\n",
       "      <td>919438022310</td>\n",
       "      <td>Goutam Nagar Last Lane,,\\nkoraput    Koraput, ...</td>\n",
       "      <td>NaN</td>\n",
       "      <td>Children, Education, Healthcare, Livelihoods, ...</td>\n",
       "      <td>Support, Network, Direct service</td>\n",
       "      <td>Children, Girl Child, Adolescents, Dalits, Adu...</td>\n",
       "      <td>Rural &amp; Urban</td>\n",
       "      <td>Odisha</td>\n",
       "      <td>AACTV0963D</td>\n",
       "    </tr>\n",
       "    <tr>\n",
       "      <th>4</th>\n",
       "      <td>https://www.givingtuesdayindia.org/ngodetail/3...</td>\n",
       "      <td>17000 ft Foundation</td>\n",
       "      <td>17000 ft</td>\n",
       "      <td>2012</td>\n",
       "      <td>https://guidestarindia.org/Summary.aspx?CCReg=...</td>\n",
       "      <td>29.0</td>\n",
       "      <td>0.0</td>\n",
       "      <td>17000 ft Foundation is a Not for profit setup ...</td>\n",
       "      <td>nan</td>\n",
       "      <td>FY 201819</td>\n",
       "      <td>...</td>\n",
       "      <td>reach.us@17000ft.org</td>\n",
       "      <td>919871100334</td>\n",
       "      <td>NaN</td>\n",
       "      <td>NaN</td>\n",
       "      <td>Education</td>\n",
       "      <td>Direct service, Support</td>\n",
       "      <td>Adolescents, Children, Girl Child, Rural Poor,...</td>\n",
       "      <td>Rural</td>\n",
       "      <td>Jammu and Kashmir</td>\n",
       "      <td>AAACZ5957C</td>\n",
       "    </tr>\n",
       "  </tbody>\n",
       "</table>\n",
       "<p>5 rows × 23 columns</p>\n",
       "</div>"
      ],
      "text/plain": [
       "                                                 Url  \\\n",
       "0  https://www.givingtuesdayindia.org/ngodetail/3...   \n",
       "1  https://www.givingtuesdayindia.org/ngodetail/2...   \n",
       "2  https://www.givingtuesdayindia.org/ngodetail/2...   \n",
       "3  https://www.givingtuesdayindia.org/ngodetail/3...   \n",
       "4  https://www.givingtuesdayindia.org/ngodetail/3...   \n",
       "\n",
       "                                            NGO Name  \\\n",
       "0  `Sahaj' (An Organisation for Women's Development)   \n",
       "1  \"DIVYA RASA\" (Centre for Healing, Learning, Re...   \n",
       "2                      \"Sankalp\" Manav Vikas Sanstha   \n",
       "3  \"VISHA\" VOCATIONAL INSTITUTES SOCIAL,HEALTH AN...   \n",
       "4                                17000 ft Foundation   \n",
       "\n",
       "                 Popular Name  Year of Establishment  \\\n",
       "0                       Sahaj                   2001   \n",
       "1  Divya Rasa  Temple of Love                   2015   \n",
       "2                         NaN                   1992   \n",
       "3                   VISHA NGO                   2012   \n",
       "4                    17000 ft                   2012   \n",
       "\n",
       "                                       GuideStar URL  Full Time Staff  \\\n",
       "0  https://guidestarindia.org/Summary.aspx?CCReg=...             70.0   \n",
       "1  https://guidestarindia.org/Summary.aspx?CCReg=...              3.0   \n",
       "2  https://guidestarindia.org/Summary.aspx?CCReg=...              NaN   \n",
       "3  https://guidestarindia.org/Summary.aspx?CCReg=...              3.0   \n",
       "4  https://guidestarindia.org/Summary.aspx?CCReg=...             29.0   \n",
       "\n",
       "   Full Time Volunteers                                  Brief description  \\\n",
       "0                   NaN  Sahaj is an organization working for skill dev...   \n",
       "1                   5.0  Divya Rasa is an NGO dedicated to serve autist...   \n",
       "2                   NaN  Sankalp Manav Vikas Sanstha is a registered or...   \n",
       "3                  23.0  Vocational Institutes Social,Health and Agricu...   \n",
       "4                   0.0  17000 ft Foundation is a Not for profit setup ...   \n",
       "\n",
       "  Annual Expenditure (Rs in lacs) Year for Annual Expenditure     ...      \\\n",
       "0                             nan                         NaN     ...       \n",
       "1                             nan                         NaN     ...       \n",
       "2                             nan                         NaN     ...       \n",
       "3                             nan                         NaN     ...       \n",
       "4                             nan                   FY 201819     ...       \n",
       "\n",
       "                        Email Telephone/ Mobile number  \\\n",
       "0       admnsahaj@outlook.com                      NaN   \n",
       "1  divyarasa555@divyarasa.org             919176300657   \n",
       "2   sudhakarsankalp@gmail.com             919096696633   \n",
       "3          kptvisha@gmail.com             919438022310   \n",
       "4        reach.us@17000ft.org             919871100334   \n",
       "\n",
       "                             Correspondence  Address  \\\n",
       "0  Desai Automobile Compound,\\nGarbada Road, Pada...   \n",
       "1  Divya Rasa  Temple of Love, Su Kilnachipattu,\\...   \n",
       "2  Sudhakar Kshirsagar,Gautam Nagar Pathari,\\nPat...   \n",
       "3  Goutam Nagar Last Lane,,\\nkoraput    Koraput, ...   \n",
       "4                                                NaN   \n",
       "\n",
       "                        Phone  \\\n",
       "0  912673245215, 912673245215   \n",
       "1                         NaN   \n",
       "2                         NaN   \n",
       "3                         NaN   \n",
       "4                         NaN   \n",
       "\n",
       "                                            Cause(s)  \\\n",
       "0  Community Development, Education, Healthcare, ...   \n",
       "1                                          Education   \n",
       "2  Children, Community Development, Education, He...   \n",
       "3  Children, Education, Healthcare, Livelihoods, ...   \n",
       "4                                          Education   \n",
       "\n",
       "             Nature of Intervention  \\\n",
       "0                    Direct service   \n",
       "1                    Direct service   \n",
       "2            Advocacy & Campaigning   \n",
       "3  Support, Network, Direct service   \n",
       "4           Direct service, Support   \n",
       "\n",
       "                                       Beneficairies          Focus  \\\n",
       "0  Children, Girl Child, Dalits, Artisans, Rural ...          Rural   \n",
       "1          Children, Adolescents, Adults, Volunteers  Rural & Urban   \n",
       "2  Physically Challenged, Children, Girl Child, A...  Rural & Urban   \n",
       "3  Children, Girl Child, Adolescents, Dalits, Adu...  Rural & Urban   \n",
       "4  Adolescents, Children, Girl Child, Rural Poor,...          Rural   \n",
       "\n",
       "  Area of Operation: State         PAN  \n",
       "0                  Gujarat  AACTS0036Q  \n",
       "1               Tamil Nadu  AACTD2691L  \n",
       "2                      NaN  AAETS2349N  \n",
       "3                   Odisha  AACTV0963D  \n",
       "4        Jammu and Kashmir  AAACZ5957C  \n",
       "\n",
       "[5 rows x 23 columns]"
      ]
     },
     "execution_count": 575,
     "metadata": {},
     "output_type": "execute_result"
    }
   ],
   "source": [
    "# removing hyphens and dropping nulls\n",
    "cleaned = df.replace('-', '', regex=True)\n",
    "cleaned['Phone'] = cleaned['Phone'].dropna()\n",
    "cleaned.head()"
   ]
  },
  {
   "cell_type": "code",
   "execution_count": 572,
   "metadata": {},
   "outputs": [
    {
     "data": {
      "text/html": [
       "<div>\n",
       "<style scoped>\n",
       "    .dataframe tbody tr th:only-of-type {\n",
       "        vertical-align: middle;\n",
       "    }\n",
       "\n",
       "    .dataframe tbody tr th {\n",
       "        vertical-align: top;\n",
       "    }\n",
       "\n",
       "    .dataframe thead th {\n",
       "        text-align: right;\n",
       "    }\n",
       "</style>\n",
       "<table border=\"1\" class=\"dataframe\">\n",
       "  <thead>\n",
       "    <tr style=\"text-align: right;\">\n",
       "      <th></th>\n",
       "      <th>NGO Name</th>\n",
       "      <th>Phone</th>\n",
       "    </tr>\n",
       "  </thead>\n",
       "  <tbody>\n",
       "    <tr>\n",
       "      <th>0</th>\n",
       "      <td>`Sahaj' (An Organisation for Women's Development)</td>\n",
       "      <td>912673245215</td>\n",
       "    </tr>\n",
       "    <tr>\n",
       "      <th>1</th>\n",
       "      <td>`Sahaj' (An Organisation for Women's Development)</td>\n",
       "      <td>912673245215</td>\n",
       "    </tr>\n",
       "    <tr>\n",
       "      <th>0</th>\n",
       "      <td>aaina</td>\n",
       "      <td>916742360630</td>\n",
       "    </tr>\n",
       "    <tr>\n",
       "      <th>1</th>\n",
       "      <td>aaina</td>\n",
       "      <td>916742360631</td>\n",
       "    </tr>\n",
       "    <tr>\n",
       "      <th>0</th>\n",
       "      <td>AAS Samiti</td>\n",
       "      <td>919827300186</td>\n",
       "    </tr>\n",
       "  </tbody>\n",
       "</table>\n",
       "</div>"
      ],
      "text/plain": [
       "                                            NGO Name          Phone\n",
       "0  `Sahaj' (An Organisation for Women's Development)   912673245215\n",
       "1  `Sahaj' (An Organisation for Women's Development)   912673245215\n",
       "0                                              aaina   916742360630\n",
       "1                                              aaina   916742360631\n",
       "0                                         AAS Samiti   919827300186"
      ]
     },
     "execution_count": 572,
     "metadata": {},
     "output_type": "execute_result"
    }
   ],
   "source": [
    "# splitting the multiple phone numbers into their own row\n",
    "cleaned_numbers = cleaned['Phone'].str.split(',').apply(pd.Series)\n",
    "cleaned_numbers.index = cleaned['NGO Name']\n",
    "cleaned_numbers = cleaned_numbers.stack().reset_index('NGO Name')\n",
    "cleaned_numbers.rename(columns={0: 'Phone'}, inplace=True)\n",
    "cleaned_numbers.head()"
   ]
  },
  {
   "cell_type": "code",
   "execution_count": 582,
   "metadata": {},
   "outputs": [
    {
     "name": "stdout",
     "output_type": "stream",
     "text": [
      "No. of unique values: 292\n",
      "No. of Duplicates: 3\n",
      "Lengths: [12 13]\n"
     ]
    },
    {
     "data": {
      "text/html": [
       "<div>\n",
       "<style scoped>\n",
       "    .dataframe tbody tr th:only-of-type {\n",
       "        vertical-align: middle;\n",
       "    }\n",
       "\n",
       "    .dataframe tbody tr th {\n",
       "        vertical-align: top;\n",
       "    }\n",
       "\n",
       "    .dataframe thead th {\n",
       "        text-align: right;\n",
       "    }\n",
       "</style>\n",
       "<table border=\"1\" class=\"dataframe\">\n",
       "  <thead>\n",
       "    <tr style=\"text-align: right;\">\n",
       "      <th></th>\n",
       "      <th>Duplicate Phone numbers</th>\n",
       "      <th>Count</th>\n",
       "    </tr>\n",
       "  </thead>\n",
       "  <tbody>\n",
       "    <tr>\n",
       "      <th>0</th>\n",
       "      <td>912228353880</td>\n",
       "      <td>2</td>\n",
       "    </tr>\n",
       "    <tr>\n",
       "      <th>1</th>\n",
       "      <td>918748285255</td>\n",
       "      <td>2</td>\n",
       "    </tr>\n",
       "    <tr>\n",
       "      <th>2</th>\n",
       "      <td>912302397121</td>\n",
       "      <td>2</td>\n",
       "    </tr>\n",
       "  </tbody>\n",
       "</table>\n",
       "</div>"
      ],
      "text/plain": [
       "  Duplicate Phone numbers  Count\n",
       "0            912228353880      2\n",
       "1            918748285255      2\n",
       "2            912302397121      2"
      ]
     },
     "execution_count": 582,
     "metadata": {},
     "output_type": "execute_result"
    }
   ],
   "source": [
    "column=cleaned_numbers['Phone']\n",
    "\n",
    "print(\"No. of unique values:\", len(column.unique()))\n",
    "\n",
    "# Check for duplicates\n",
    "counter = dict(Counter(column))\n",
    "duplicates = { key:[value] for key, value in counter.items() if value > 1}\n",
    "print(\"No. of Duplicates:\", len(duplicates))\n",
    "\n",
    "# Length of numbers\n",
    "print(\"Lengths:\", column.apply(len).unique())\n",
    "\n",
    "table = pd.DataFrame.from_dict(duplicates)\n",
    "table = table.melt(var_name=\"Duplicate Phone numbers\", value_name=\"Count\").sort_values(by=[\"Count\"], ascending=False).reset_index(drop=True)\n",
    "table"
   ]
  },
  {
   "cell_type": "markdown",
   "metadata": {},
   "source": [
    "### Cause(s)"
   ]
  },
  {
   "cell_type": "code",
   "execution_count": 302,
   "metadata": {},
   "outputs": [
    {
     "name": "stdout",
     "output_type": "stream",
     "text": [
      "Nulls: 27\n",
      "Some organisations have multiple causes.\n"
     ]
    }
   ],
   "source": [
    "column=df['Cause(s)']\n",
    "# Number of missing values\n",
    "print(\"Nulls:\", sum(column.isnull()))\n",
    "print(\"Some organisations have multiple causes.\")"
   ]
  },
  {
   "cell_type": "code",
   "execution_count": 303,
   "metadata": {},
   "outputs": [
    {
     "data": {
      "text/html": [
       "<div>\n",
       "<style scoped>\n",
       "    .dataframe tbody tr th:only-of-type {\n",
       "        vertical-align: middle;\n",
       "    }\n",
       "\n",
       "    .dataframe tbody tr th {\n",
       "        vertical-align: top;\n",
       "    }\n",
       "\n",
       "    .dataframe thead th {\n",
       "        text-align: right;\n",
       "    }\n",
       "</style>\n",
       "<table border=\"1\" class=\"dataframe\">\n",
       "  <thead>\n",
       "    <tr style=\"text-align: right;\">\n",
       "      <th></th>\n",
       "      <th>NGO Name</th>\n",
       "      <th>Cause</th>\n",
       "    </tr>\n",
       "  </thead>\n",
       "  <tbody>\n",
       "    <tr>\n",
       "      <th>0</th>\n",
       "      <td>`Sahaj' (An Organisation for Women's Development)</td>\n",
       "      <td>Community Development</td>\n",
       "    </tr>\n",
       "    <tr>\n",
       "      <th>1</th>\n",
       "      <td>`Sahaj' (An Organisation for Women's Development)</td>\n",
       "      <td>Education</td>\n",
       "    </tr>\n",
       "    <tr>\n",
       "      <th>2</th>\n",
       "      <td>`Sahaj' (An Organisation for Women's Development)</td>\n",
       "      <td>Healthcare</td>\n",
       "    </tr>\n",
       "    <tr>\n",
       "      <th>3</th>\n",
       "      <td>`Sahaj' (An Organisation for Women's Development)</td>\n",
       "      <td>Livelihoods</td>\n",
       "    </tr>\n",
       "    <tr>\n",
       "      <th>4</th>\n",
       "      <td>`Sahaj' (An Organisation for Women's Development)</td>\n",
       "      <td>Women</td>\n",
       "    </tr>\n",
       "  </tbody>\n",
       "</table>\n",
       "</div>"
      ],
      "text/plain": [
       "                                            NGO Name                  Cause\n",
       "0  `Sahaj' (An Organisation for Women's Development)  Community Development\n",
       "1  `Sahaj' (An Organisation for Women's Development)              Education\n",
       "2  `Sahaj' (An Organisation for Women's Development)             Healthcare\n",
       "3  `Sahaj' (An Organisation for Women's Development)            Livelihoods\n",
       "4  `Sahaj' (An Organisation for Women's Development)                  Women"
      ]
     },
     "execution_count": 303,
     "metadata": {},
     "output_type": "execute_result"
    }
   ],
   "source": [
    "# splitting the multiple causes into a row\n",
    "cleaned = df['Cause(s)'].str.split(',').apply(pd.Series)\n",
    "cleaned.index = df['NGO Name']\n",
    "cleaned = cleaned.stack().reset_index('NGO Name')\n",
    "cleaned.rename(columns={0: 'Cause'}, inplace=True)\n",
    "cleaned.head()"
   ]
  },
  {
   "cell_type": "code",
   "execution_count": 304,
   "metadata": {},
   "outputs": [
    {
     "name": "stdout",
     "output_type": "stream",
     "text": [
      "No. of unique values: 39\n",
      "No. of Duplicates: 36\n"
     ]
    },
    {
     "data": {
      "text/html": [
       "<div>\n",
       "<style scoped>\n",
       "    .dataframe tbody tr th:only-of-type {\n",
       "        vertical-align: middle;\n",
       "    }\n",
       "\n",
       "    .dataframe tbody tr th {\n",
       "        vertical-align: top;\n",
       "    }\n",
       "\n",
       "    .dataframe thead th {\n",
       "        text-align: right;\n",
       "    }\n",
       "</style>\n",
       "<table border=\"1\" class=\"dataframe\">\n",
       "  <thead>\n",
       "    <tr style=\"text-align: right;\">\n",
       "      <th></th>\n",
       "      <th>Duplicate Cause</th>\n",
       "      <th>Count</th>\n",
       "    </tr>\n",
       "  </thead>\n",
       "  <tbody>\n",
       "    <tr>\n",
       "      <th>0</th>\n",
       "      <td>Children</td>\n",
       "      <td>374</td>\n",
       "    </tr>\n",
       "    <tr>\n",
       "      <th>1</th>\n",
       "      <td>Education</td>\n",
       "      <td>333</td>\n",
       "    </tr>\n",
       "    <tr>\n",
       "      <th>2</th>\n",
       "      <td>Healthcare</td>\n",
       "      <td>322</td>\n",
       "    </tr>\n",
       "    <tr>\n",
       "      <th>3</th>\n",
       "      <td>Women</td>\n",
       "      <td>315</td>\n",
       "    </tr>\n",
       "    <tr>\n",
       "      <th>4</th>\n",
       "      <td>Livelihoods</td>\n",
       "      <td>275</td>\n",
       "    </tr>\n",
       "  </tbody>\n",
       "</table>\n",
       "</div>"
      ],
      "text/plain": [
       "  Duplicate Cause  Count\n",
       "0        Children    374\n",
       "1       Education    333\n",
       "2      Healthcare    322\n",
       "3           Women    315\n",
       "4     Livelihoods    275"
      ]
     },
     "execution_count": 304,
     "metadata": {},
     "output_type": "execute_result"
    }
   ],
   "source": [
    "cleaned_col = cleaned['Cause']\n",
    "print(\"No. of unique values:\", len(cleaned_col.unique()))\n",
    "\n",
    "# Check for duplicates\n",
    "counter = dict(Counter(cleaned_col))\n",
    "duplicates = { key:[value] for key, value in counter.items() if value > 1}\n",
    "print(\"No. of Duplicates:\", len(duplicates))\n",
    "\n",
    "table = pd.DataFrame.from_dict(duplicates)\n",
    "table = table.melt(var_name=\"Duplicate Cause\", value_name=\"Count\").sort_values(by=[\"Count\"], ascending=False).reset_index(drop=True)\n",
    "table.head()"
   ]
  },
  {
   "cell_type": "code",
   "execution_count": 305,
   "metadata": {},
   "outputs": [
    {
     "data": {
      "image/png": "[encoded data removed]",
      "text/plain": [
       "<Figure size 720x720 with 1 Axes>"
      ]
     },
     "metadata": {
      "needs_background": "light"
     },
     "output_type": "display_data"
    }
   ],
   "source": [
    "# Show frequency distribution of year for NGO causes\n",
    "plt.figure(figsize=(10, 10))\n",
    "ax = sns.barplot(x=table['Duplicate Cause'], y=table['Count'], data=table)\n",
    "plt.xticks(size=10, rotation=90)\n",
    "plt.yticks(size=10)\n",
    "plt.xlabel(\"Causes\", size=15)\n",
    "plt.ylabel(\"Frequency\", size=15)\n",
    "plt.title(\"Organization Causes Frequency Distribution\", size=20)\n",
    "plt.show()"
   ]
  },
  {
   "cell_type": "markdown",
   "metadata": {},
   "source": [
    "### Nature of Intervention"
   ]
  },
  {
   "cell_type": "code",
   "execution_count": 309,
   "metadata": {},
   "outputs": [
    {
     "name": "stdout",
     "output_type": "stream",
     "text": [
      "Nulls: 14\n",
      "Some organisations have multiple values under Nature of Intervention.\n"
     ]
    }
   ],
   "source": [
    "column=df['Nature of Intervention']\n",
    "# Number of missing values\n",
    "print(\"Nulls:\", sum(column.isnull()))\n",
    "print(\"Some organisations have multiple values under Nature of Intervention.\")"
   ]
  },
  {
   "cell_type": "code",
   "execution_count": 310,
   "metadata": {},
   "outputs": [
    {
     "data": {
      "text/html": [
       "<div>\n",
       "<style scoped>\n",
       "    .dataframe tbody tr th:only-of-type {\n",
       "        vertical-align: middle;\n",
       "    }\n",
       "\n",
       "    .dataframe tbody tr th {\n",
       "        vertical-align: top;\n",
       "    }\n",
       "\n",
       "    .dataframe thead th {\n",
       "        text-align: right;\n",
       "    }\n",
       "</style>\n",
       "<table border=\"1\" class=\"dataframe\">\n",
       "  <thead>\n",
       "    <tr style=\"text-align: right;\">\n",
       "      <th></th>\n",
       "      <th>NGO Name</th>\n",
       "      <th>Nature of Intervention</th>\n",
       "    </tr>\n",
       "  </thead>\n",
       "  <tbody>\n",
       "    <tr>\n",
       "      <th>0</th>\n",
       "      <td>`Sahaj' (An Organisation for Women's Development)</td>\n",
       "      <td>Direct service</td>\n",
       "    </tr>\n",
       "    <tr>\n",
       "      <th>0</th>\n",
       "      <td>\"DIVYA RASA\" (Centre for Healing, Learning, Re...</td>\n",
       "      <td>Direct service</td>\n",
       "    </tr>\n",
       "    <tr>\n",
       "      <th>0</th>\n",
       "      <td>\"Sankalp\" Manav Vikas Sanstha</td>\n",
       "      <td>Advocacy &amp; Campaigning</td>\n",
       "    </tr>\n",
       "    <tr>\n",
       "      <th>0</th>\n",
       "      <td>\"VISHA\" VOCATIONAL INSTITUTES SOCIAL,HEALTH AN...</td>\n",
       "      <td>Support</td>\n",
       "    </tr>\n",
       "    <tr>\n",
       "      <th>1</th>\n",
       "      <td>\"VISHA\" VOCATIONAL INSTITUTES SOCIAL,HEALTH AN...</td>\n",
       "      <td>Network</td>\n",
       "    </tr>\n",
       "  </tbody>\n",
       "</table>\n",
       "</div>"
      ],
      "text/plain": [
       "                                            NGO Name  Nature of Intervention\n",
       "0  `Sahaj' (An Organisation for Women's Development)          Direct service\n",
       "0  \"DIVYA RASA\" (Centre for Healing, Learning, Re...          Direct service\n",
       "0                      \"Sankalp\" Manav Vikas Sanstha  Advocacy & Campaigning\n",
       "0  \"VISHA\" VOCATIONAL INSTITUTES SOCIAL,HEALTH AN...                 Support\n",
       "1  \"VISHA\" VOCATIONAL INSTITUTES SOCIAL,HEALTH AN...                 Network"
      ]
     },
     "execution_count": 310,
     "metadata": {},
     "output_type": "execute_result"
    }
   ],
   "source": [
    "# splitting the multiple causes into a row\n",
    "cleaned = column.str.split(',').apply(pd.Series)\n",
    "cleaned.index = df['NGO Name']\n",
    "cleaned = cleaned.stack().reset_index('NGO Name')\n",
    "cleaned.rename(columns={0: 'Nature of Intervention'}, inplace=True)\n",
    "cleaned['Nature of Intervention'] = cleaned['Nature of Intervention'].dropna()\n",
    "\n",
    "# trimming leading and trailing white space\n",
    "cleaned['Nature of Intervention'] = cleaned['Nature of Intervention'].astype(str)\n",
    "cleaned['Nature of Intervention'] = cleaned['Nature of Intervention'].str.strip()\n",
    "cleaned.head()"
   ]
  },
  {
   "cell_type": "code",
   "execution_count": 311,
   "metadata": {},
   "outputs": [
    {
     "name": "stdout",
     "output_type": "stream",
     "text": [
      "No. of unique values: 6\n",
      "No. of Duplicates: 6\n"
     ]
    },
    {
     "data": {
      "text/html": [
       "<div>\n",
       "<style scoped>\n",
       "    .dataframe tbody tr th:only-of-type {\n",
       "        vertical-align: middle;\n",
       "    }\n",
       "\n",
       "    .dataframe tbody tr th {\n",
       "        vertical-align: top;\n",
       "    }\n",
       "\n",
       "    .dataframe thead th {\n",
       "        text-align: right;\n",
       "    }\n",
       "</style>\n",
       "<table border=\"1\" class=\"dataframe\">\n",
       "  <thead>\n",
       "    <tr style=\"text-align: right;\">\n",
       "      <th></th>\n",
       "      <th>Duplicate Intervention</th>\n",
       "      <th>Count</th>\n",
       "    </tr>\n",
       "  </thead>\n",
       "  <tbody>\n",
       "    <tr>\n",
       "      <th>0</th>\n",
       "      <td>Direct service</td>\n",
       "      <td>788</td>\n",
       "    </tr>\n",
       "    <tr>\n",
       "      <th>1</th>\n",
       "      <td>Support</td>\n",
       "      <td>487</td>\n",
       "    </tr>\n",
       "    <tr>\n",
       "      <th>2</th>\n",
       "      <td>Advocacy &amp; Campaigning</td>\n",
       "      <td>383</td>\n",
       "    </tr>\n",
       "    <tr>\n",
       "      <th>3</th>\n",
       "      <td>Network</td>\n",
       "      <td>290</td>\n",
       "    </tr>\n",
       "    <tr>\n",
       "      <th>4</th>\n",
       "      <td>Intermediary</td>\n",
       "      <td>124</td>\n",
       "    </tr>\n",
       "    <tr>\n",
       "      <th>5</th>\n",
       "      <td>Grant-making</td>\n",
       "      <td>105</td>\n",
       "    </tr>\n",
       "  </tbody>\n",
       "</table>\n",
       "</div>"
      ],
      "text/plain": [
       "   Duplicate Intervention  Count\n",
       "0          Direct service    788\n",
       "1                 Support    487\n",
       "2  Advocacy & Campaigning    383\n",
       "3                 Network    290\n",
       "4            Intermediary    124\n",
       "5            Grant-making    105"
      ]
     },
     "execution_count": 311,
     "metadata": {},
     "output_type": "execute_result"
    }
   ],
   "source": [
    "cleaned_col = cleaned['Nature of Intervention']\n",
    "print(\"No. of unique values:\", len(cleaned_col.unique()))\n",
    "\n",
    "# Check for duplicates\n",
    "counter = dict(Counter(cleaned_col))\n",
    "duplicates = { key:[value] for key, value in counter.items() if value > 1}\n",
    "print(\"No. of Duplicates:\", len(duplicates))\n",
    "\n",
    "table = pd.DataFrame.from_dict(duplicates)\n",
    "table = table.melt(var_name=\"Duplicate Intervention\", value_name=\"Count\").sort_values(by=[\"Count\"], ascending=False).reset_index(drop=True)\n",
    "table"
   ]
  },
  {
   "cell_type": "code",
   "execution_count": 312,
   "metadata": {},
   "outputs": [
    {
     "data": {
      "image/png": "[encoded data removed]",
      "text/plain": [
       "<Figure size 720x720 with 1 Axes>"
      ]
     },
     "metadata": {
      "needs_background": "light"
     },
     "output_type": "display_data"
    }
   ],
   "source": [
    "# Show frequency distribution of year for NGO causes\n",
    "plt.figure(figsize=(10, 10))\n",
    "ax = sns.barplot(x=table['Duplicate Intervention'], y=table['Count'], data=table)\n",
    "plt.xticks(size=10)\n",
    "plt.yticks(size=10)\n",
    "plt.xlabel(\"Nature of Intervention\", size=15)\n",
    "plt.ylabel(\"Frequency\", size=15)\n",
    "plt.title(\"Nature of Intervention Frequency Distribution\", size=20)\n",
    "plt.show()"
   ]
  },
  {
   "cell_type": "markdown",
   "metadata": {},
   "source": [
    "### Beneficiaries"
   ]
  },
  {
   "cell_type": "code",
   "execution_count": 314,
   "metadata": {},
   "outputs": [
    {
     "data": {
      "text/plain": [
       "0    Children, Girl Child, Dalits, Artisans, Rural ...\n",
       "1            Children, Adolescents, Adults, Volunteers\n",
       "2    Physically Challenged, Children, Girl Child, A...\n",
       "3    Children, Girl Child, Adolescents, Dalits, Adu...\n",
       "4    Adolescents, Children, Girl Child, Rural Poor,...\n",
       "Name: Beneficiaries, dtype: object"
      ]
     },
     "execution_count": 314,
     "metadata": {},
     "output_type": "execute_result"
    }
   ],
   "source": [
    "# renaming column name to correct spelling\n",
    "df.rename(columns={'Beneficairies': 'Beneficiaries'}, inplace=True)\n",
    "df.Beneficiaries.head()"
   ]
  },
  {
   "cell_type": "code",
   "execution_count": 315,
   "metadata": {},
   "outputs": [
    {
     "name": "stdout",
     "output_type": "stream",
     "text": [
      "Nulls: 26\n",
      "Some organisations have multiple values under Beneficiaries.\n"
     ]
    }
   ],
   "source": [
    "column=df['Beneficiaries']\n",
    "# Number of missing values\n",
    "print(\"Nulls:\", sum(column.isnull()))\n",
    "print(\"Some organisations have multiple values under Beneficiaries.\")"
   ]
  },
  {
   "cell_type": "code",
   "execution_count": 316,
   "metadata": {},
   "outputs": [
    {
     "data": {
      "text/html": [
       "<div>\n",
       "<style scoped>\n",
       "    .dataframe tbody tr th:only-of-type {\n",
       "        vertical-align: middle;\n",
       "    }\n",
       "\n",
       "    .dataframe tbody tr th {\n",
       "        vertical-align: top;\n",
       "    }\n",
       "\n",
       "    .dataframe thead th {\n",
       "        text-align: right;\n",
       "    }\n",
       "</style>\n",
       "<table border=\"1\" class=\"dataframe\">\n",
       "  <thead>\n",
       "    <tr style=\"text-align: right;\">\n",
       "      <th></th>\n",
       "      <th>NGO Name</th>\n",
       "      <th>Beneficiaries</th>\n",
       "    </tr>\n",
       "  </thead>\n",
       "  <tbody>\n",
       "    <tr>\n",
       "      <th>0</th>\n",
       "      <td>`Sahaj' (An Organisation for Women's Development)</td>\n",
       "      <td>Children</td>\n",
       "    </tr>\n",
       "    <tr>\n",
       "      <th>1</th>\n",
       "      <td>`Sahaj' (An Organisation for Women's Development)</td>\n",
       "      <td>Girl Child</td>\n",
       "    </tr>\n",
       "    <tr>\n",
       "      <th>2</th>\n",
       "      <td>`Sahaj' (An Organisation for Women's Development)</td>\n",
       "      <td>Dalits</td>\n",
       "    </tr>\n",
       "    <tr>\n",
       "      <th>3</th>\n",
       "      <td>`Sahaj' (An Organisation for Women's Development)</td>\n",
       "      <td>Artisans</td>\n",
       "    </tr>\n",
       "    <tr>\n",
       "      <th>4</th>\n",
       "      <td>`Sahaj' (An Organisation for Women's Development)</td>\n",
       "      <td>Rural Poor</td>\n",
       "    </tr>\n",
       "  </tbody>\n",
       "</table>\n",
       "</div>"
      ],
      "text/plain": [
       "                                            NGO Name Beneficiaries\n",
       "0  `Sahaj' (An Organisation for Women's Development)      Children\n",
       "1  `Sahaj' (An Organisation for Women's Development)    Girl Child\n",
       "2  `Sahaj' (An Organisation for Women's Development)        Dalits\n",
       "3  `Sahaj' (An Organisation for Women's Development)      Artisans\n",
       "4  `Sahaj' (An Organisation for Women's Development)    Rural Poor"
      ]
     },
     "execution_count": 316,
     "metadata": {},
     "output_type": "execute_result"
    }
   ],
   "source": [
    "# splitting the multiple causes into a row\n",
    "cleaned = column.str.split(',').apply(pd.Series)\n",
    "cleaned.index = df['NGO Name']\n",
    "cleaned = cleaned.stack().reset_index('NGO Name')\n",
    "cleaned.rename(columns={0: 'Beneficiaries'}, inplace=True)\n",
    "cleaned['Beneficiaries'] = cleaned['Beneficiaries'].dropna()\n",
    "cleaned.head()"
   ]
  },
  {
   "cell_type": "code",
   "execution_count": 317,
   "metadata": {},
   "outputs": [
    {
     "name": "stdout",
     "output_type": "stream",
     "text": [
      "No. of unique values: 103\n",
      "No. of Duplicates: 94\n"
     ]
    },
    {
     "data": {
      "text/html": [
       "<div>\n",
       "<style scoped>\n",
       "    .dataframe tbody tr th:only-of-type {\n",
       "        vertical-align: middle;\n",
       "    }\n",
       "\n",
       "    .dataframe tbody tr th {\n",
       "        vertical-align: top;\n",
       "    }\n",
       "\n",
       "    .dataframe thead th {\n",
       "        text-align: right;\n",
       "    }\n",
       "</style>\n",
       "<table border=\"1\" class=\"dataframe\">\n",
       "  <thead>\n",
       "    <tr style=\"text-align: right;\">\n",
       "      <th></th>\n",
       "      <th>Duplicate Beneficiaries</th>\n",
       "      <th>Count</th>\n",
       "    </tr>\n",
       "  </thead>\n",
       "  <tbody>\n",
       "    <tr>\n",
       "      <th>0</th>\n",
       "      <td>Women</td>\n",
       "      <td>561</td>\n",
       "    </tr>\n",
       "    <tr>\n",
       "      <th>1</th>\n",
       "      <td>Youth</td>\n",
       "      <td>490</td>\n",
       "    </tr>\n",
       "    <tr>\n",
       "      <th>2</th>\n",
       "      <td>Rural Poor</td>\n",
       "      <td>401</td>\n",
       "    </tr>\n",
       "    <tr>\n",
       "      <th>3</th>\n",
       "      <td>Girl Child</td>\n",
       "      <td>401</td>\n",
       "    </tr>\n",
       "    <tr>\n",
       "      <th>4</th>\n",
       "      <td>Students</td>\n",
       "      <td>401</td>\n",
       "    </tr>\n",
       "    <tr>\n",
       "      <th>5</th>\n",
       "      <td>Children</td>\n",
       "      <td>386</td>\n",
       "    </tr>\n",
       "    <tr>\n",
       "      <th>6</th>\n",
       "      <td>Adults</td>\n",
       "      <td>349</td>\n",
       "    </tr>\n",
       "    <tr>\n",
       "      <th>7</th>\n",
       "      <td>Children</td>\n",
       "      <td>248</td>\n",
       "    </tr>\n",
       "    <tr>\n",
       "      <th>8</th>\n",
       "      <td>NGOs</td>\n",
       "      <td>248</td>\n",
       "    </tr>\n",
       "    <tr>\n",
       "      <th>9</th>\n",
       "      <td>Adolescents</td>\n",
       "      <td>247</td>\n",
       "    </tr>\n",
       "  </tbody>\n",
       "</table>\n",
       "</div>"
      ],
      "text/plain": [
       "  Duplicate Beneficiaries  Count\n",
       "0                   Women    561\n",
       "1                   Youth    490\n",
       "2              Rural Poor    401\n",
       "3              Girl Child    401\n",
       "4                Students    401\n",
       "5                Children    386\n",
       "6                  Adults    349\n",
       "7                Children    248\n",
       "8                    NGOs    248\n",
       "9             Adolescents    247"
      ]
     },
     "execution_count": 317,
     "metadata": {},
     "output_type": "execute_result"
    }
   ],
   "source": [
    "cleaned_col = cleaned['Beneficiaries']\n",
    "print(\"No. of unique values:\", len(cleaned_col.unique()))\n",
    "\n",
    "# Check for duplicates\n",
    "counter = dict(Counter(cleaned_col))\n",
    "duplicates = { key:[value] for key, value in counter.items() if value > 1}\n",
    "print(\"No. of Duplicates:\", len(duplicates))\n",
    "\n",
    "table = pd.DataFrame.from_dict(duplicates)\n",
    "table = table.melt(var_name=\"Duplicate Beneficiaries\", value_name=\"Count\").sort_values(by=[\"Count\"], ascending=False).reset_index(drop=True)\n",
    "table.head(10)"
   ]
  },
  {
   "cell_type": "code",
   "execution_count": 318,
   "metadata": {},
   "outputs": [
    {
     "data": {
      "image/png": "[encoded data removed]",
      "text/plain": [
       "<Figure size 2160x1440 with 1 Axes>"
      ]
     },
     "metadata": {
      "needs_background": "light"
     },
     "output_type": "display_data"
    }
   ],
   "source": [
    "# Show frequency distribution of year for NGO causes\n",
    "plt.figure(figsize=(30, 20))\n",
    "ax = sns.barplot(x=table['Duplicate Beneficiaries'], y=table['Count'], data=table)\n",
    "plt.xticks(size=15, rotation=90)\n",
    "plt.yticks(size=10)\n",
    "plt.xlabel(\"Beneficiaries\", size=15)\n",
    "plt.ylabel(\"Frequency\", size=15)\n",
    "plt.title(\"Beneficiaries Frequency Distribution\", size=20)\n",
    "plt.show()"
   ]
  },
  {
   "cell_type": "markdown",
   "metadata": {},
   "source": [
    "### Focus"
   ]
  },
  {
   "cell_type": "code",
   "execution_count": 321,
   "metadata": {},
   "outputs": [
    {
     "name": "stdout",
     "output_type": "stream",
     "text": [
      "Nulls: 33\n",
      "No. of unique values: 4\n",
      "No. of Duplicates: 4\n"
     ]
    },
    {
     "data": {
      "text/html": [
       "<div>\n",
       "<style scoped>\n",
       "    .dataframe tbody tr th:only-of-type {\n",
       "        vertical-align: middle;\n",
       "    }\n",
       "\n",
       "    .dataframe tbody tr th {\n",
       "        vertical-align: top;\n",
       "    }\n",
       "\n",
       "    .dataframe thead th {\n",
       "        text-align: right;\n",
       "    }\n",
       "</style>\n",
       "<table border=\"1\" class=\"dataframe\">\n",
       "  <thead>\n",
       "    <tr style=\"text-align: right;\">\n",
       "      <th></th>\n",
       "      <th>Duplicate Focus</th>\n",
       "      <th>Count</th>\n",
       "    </tr>\n",
       "  </thead>\n",
       "  <tbody>\n",
       "    <tr>\n",
       "      <th>0</th>\n",
       "      <td>Rural &amp; Urban</td>\n",
       "      <td>619</td>\n",
       "    </tr>\n",
       "    <tr>\n",
       "      <th>1</th>\n",
       "      <td>Rural</td>\n",
       "      <td>189</td>\n",
       "    </tr>\n",
       "    <tr>\n",
       "      <th>2</th>\n",
       "      <td>Urban</td>\n",
       "      <td>85</td>\n",
       "    </tr>\n",
       "    <tr>\n",
       "      <th>3</th>\n",
       "      <td>NaN</td>\n",
       "      <td>33</td>\n",
       "    </tr>\n",
       "  </tbody>\n",
       "</table>\n",
       "</div>"
      ],
      "text/plain": [
       "  Duplicate Focus  Count\n",
       "0   Rural & Urban    619\n",
       "1           Rural    189\n",
       "2           Urban     85\n",
       "3             NaN     33"
      ]
     },
     "execution_count": 321,
     "metadata": {},
     "output_type": "execute_result"
    }
   ],
   "source": [
    "column=df['Focus']\n",
    "# Number of missing values\n",
    "print(\"Nulls:\", sum(column.isnull()))\n",
    "\n",
    "print(\"No. of unique values:\", len(column.unique()))\n",
    "\n",
    "# Check for duplicates\n",
    "counter = dict(Counter(column))\n",
    "duplicates = { key:[value] for key, value in counter.items() if value > 1}\n",
    "print(\"No. of Duplicates:\", len(duplicates))\n",
    "\n",
    "table = pd.DataFrame.from_dict(duplicates)\n",
    "table = table.melt(var_name=\"Duplicate Focus\", value_name=\"Count\").sort_values(by=[\"Count\"], ascending=False).reset_index(drop=True)\n",
    "table"
   ]
  },
  {
   "cell_type": "code",
   "execution_count": 322,
   "metadata": {},
   "outputs": [
    {
     "data": {
      "image/png": "[encoded data removed]",
      "text/plain": [
       "<Figure size 720x720 with 1 Axes>"
      ]
     },
     "metadata": {
      "needs_background": "light"
     },
     "output_type": "display_data"
    }
   ],
   "source": [
    "# Show frequency distribution of year for NGO causes\n",
    "plt.figure(figsize=(10, 10))\n",
    "ax = sns.barplot(x=table['Duplicate Focus'], y=table['Count'], data=table)\n",
    "plt.xticks(size=10)\n",
    "plt.yticks(size=10)\n",
    "plt.xlabel(\"Focus\", size=15)\n",
    "plt.ylabel(\"Frequency\", size=15)\n",
    "plt.title(\"Organisation Focus Frequency Distribution\", size=20)\n",
    "plt.show()"
   ]
  },
  {
   "cell_type": "markdown",
   "metadata": {},
   "source": [
    "### Area of Operation: State"
   ]
  },
  {
   "cell_type": "code",
   "execution_count": 319,
   "metadata": {},
   "outputs": [
    {
     "name": "stdout",
     "output_type": "stream",
     "text": [
      "Nulls: 150\n",
      "No. of unique values: 140\n",
      "No. of Duplicates: 37\n"
     ]
    },
    {
     "data": {
      "text/html": [
       "<div>\n",
       "<style scoped>\n",
       "    .dataframe tbody tr th:only-of-type {\n",
       "        vertical-align: middle;\n",
       "    }\n",
       "\n",
       "    .dataframe tbody tr th {\n",
       "        vertical-align: top;\n",
       "    }\n",
       "\n",
       "    .dataframe thead th {\n",
       "        text-align: right;\n",
       "    }\n",
       "</style>\n",
       "<table border=\"1\" class=\"dataframe\">\n",
       "  <thead>\n",
       "    <tr style=\"text-align: right;\">\n",
       "      <th></th>\n",
       "      <th>Duplicate Mobile numbers</th>\n",
       "      <th>Count</th>\n",
       "    </tr>\n",
       "  </thead>\n",
       "  <tbody>\n",
       "    <tr>\n",
       "      <th>0</th>\n",
       "      <td>NaN</td>\n",
       "      <td>150</td>\n",
       "    </tr>\n",
       "    <tr>\n",
       "      <th>1</th>\n",
       "      <td>All India</td>\n",
       "      <td>133</td>\n",
       "    </tr>\n",
       "    <tr>\n",
       "      <th>2</th>\n",
       "      <td>Maharashtra</td>\n",
       "      <td>118</td>\n",
       "    </tr>\n",
       "    <tr>\n",
       "      <th>3</th>\n",
       "      <td>Tamil Nadu</td>\n",
       "      <td>63</td>\n",
       "    </tr>\n",
       "    <tr>\n",
       "      <th>4</th>\n",
       "      <td>West Bengal</td>\n",
       "      <td>55</td>\n",
       "    </tr>\n",
       "  </tbody>\n",
       "</table>\n",
       "</div>"
      ],
      "text/plain": [
       "  Duplicate Mobile numbers  Count\n",
       "0                      NaN    150\n",
       "1                All India    133\n",
       "2              Maharashtra    118\n",
       "3               Tamil Nadu     63\n",
       "4              West Bengal     55"
      ]
     },
     "execution_count": 319,
     "metadata": {},
     "output_type": "execute_result"
    }
   ],
   "source": [
    "column=df['Area of Operation: State']\n",
    "# Number of missing values\n",
    "print(\"Nulls:\", sum(column.isnull()))\n",
    "\n",
    "print(\"No. of unique values:\", len(column.unique()))\n",
    "\n",
    "# Check for duplicates\n",
    "counter = dict(Counter(column))\n",
    "duplicates = { key:[value] for key, value in counter.items() if value > 1}\n",
    "print(\"No. of Duplicates:\", len(duplicates))\n",
    "\n",
    "table = pd.DataFrame.from_dict(duplicates)\n",
    "table = table.melt(var_name=\"Duplicate Mobile numbers\", value_name=\"Count\").sort_values(by=[\"Count\"], ascending=False).reset_index(drop=True)\n",
    "table.head()"
   ]
  },
  {
   "cell_type": "markdown",
   "metadata": {},
   "source": [
    "### PAN"
   ]
  },
  {
   "cell_type": "code",
   "execution_count": 320,
   "metadata": {},
   "outputs": [
    {
     "name": "stdout",
     "output_type": "stream",
     "text": [
      "Nulls: 0\n",
      "No. of unique values: 926\n",
      "No. of Duplicates: 0\n"
     ]
    }
   ],
   "source": [
    "column=df['PAN']\n",
    "# Number of missing values\n",
    "print(\"Nulls:\", sum(column.isnull()))\n",
    "\n",
    "print(\"No. of unique values:\", len(column.unique()))\n",
    "\n",
    "# Check for duplicates\n",
    "counter = dict(Counter(column))\n",
    "duplicates = { key:[value] for key, value in counter.items() if value > 1}\n",
    "print(\"No. of Duplicates:\", len(duplicates))"
   ]
  },
  {
   "cell_type": "code",
   "execution_count": null,
   "metadata": {},
   "outputs": [],
   "source": []
  }
 ],
 "metadata": {
  "kernelspec": {
   "display_name": "Python 3",
   "language": "python",
   "name": "python3"
  },
  "language_info": {
   "codemirror_mode": {
    "name": "ipython",
    "version": 3
   },
   "file_extension": ".py",
   "mimetype": "text/x-python",
   "name": "python",
   "nbconvert_exporter": "python",
   "pygments_lexer": "ipython3",
   "version": "3.7.1"
  }
 },
 "nbformat": 4,
 "nbformat_minor": 4
}
